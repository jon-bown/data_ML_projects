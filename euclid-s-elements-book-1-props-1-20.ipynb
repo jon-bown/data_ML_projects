{
 "cells": [
  {
   "cell_type": "markdown",
   "id": "fd46fa19",
   "metadata": {
    "id": "tDXv-JM2CNcn",
    "papermill": {
     "duration": 0.026108,
     "end_time": "2023-04-24T17:48:39.817015",
     "exception": false,
     "start_time": "2023-04-24T17:48:39.790907",
     "status": "completed"
    },
    "tags": []
   },
   "source": [
    "<h1 style=\"text-align:center; color:#1565c0;\">Euclid's Elements of Geometry</h1>\n",
    "\n",
    "\n",
    "<h2 style=\"text-align:center; font-weight:normal;\">Book 1: Fundamentals of Plane Geometry Involving Straight Lines</h2>\n",
    "<h2 style=\"text-align:center; font-weight:normal;\">Propositions 1-20</h2>"
   ]
  },
  {
   "cell_type": "markdown",
   "id": "7f167fcd",
   "metadata": {
    "id": "ODwy7mWnCNcp",
    "papermill": {
     "duration": 0.023556,
     "end_time": "2023-04-24T17:48:39.877477",
     "exception": false,
     "start_time": "2023-04-24T17:48:39.853921",
     "status": "completed"
    },
    "tags": []
   },
   "source": [
    "<div align='center'>\n",
    "<figure>\n",
    "  <img src=\"https://upload.wikimedia.org/wikipedia/commons/8/8d/P._Oxy._I_29.jpg\" alt=\"Trulli\" width=500>\n",
    "</figure>\n",
    "</div>"
   ]
  },
  {
   "cell_type": "markdown",
   "id": "afefd7a2",
   "metadata": {
    "id": "5FrSqxs2CNcq",
    "papermill": {
     "duration": 0.022766,
     "end_time": "2023-04-24T17:48:39.926977",
     "exception": false,
     "start_time": "2023-04-24T17:48:39.904211",
     "status": "completed"
    },
    "tags": []
   },
   "source": [
    "<blockquote style=\"font-style:italic; margin:20px 0; padding:10px; border-left:5px solid #1565c0; background-color:#f2f2f2;\">\n",
    "    \"If Euclid failed to kindle your youthful enthusiasm, then you were not born to be a scientific thinker.\"<br>\n",
    "    - Albert Einstein (On The Method of Theoretical Physics)\n",
    "</blockquote>"
   ]
  },
  {
   "cell_type": "markdown",
   "id": "e4c8c0ef",
   "metadata": {
    "id": "3AJsLOpWCNcr",
    "papermill": {
     "duration": 0.022951,
     "end_time": "2023-04-24T17:48:39.974328",
     "exception": false,
     "start_time": "2023-04-24T17:48:39.951377",
     "status": "completed"
    },
    "tags": []
   },
   "source": [
    "Much of my academic training was spent learning mathematics. It has long been a desire of mine to dig deeper into important mathematical works throughout history. At the top of the list has always been Euclid's Elements, otherwise known as 'The Elements'. Some fun facts about this important mathematical work:\n",
    "\n"
   ]
  },
  {
   "cell_type": "markdown",
   "id": "81b8d9d2",
   "metadata": {
    "id": "eJI4LowVCNcr",
    "papermill": {
     "duration": 0.022381,
     "end_time": "2023-04-24T17:48:40.019421",
     "exception": false,
     "start_time": "2023-04-24T17:48:39.997040",
     "status": "completed"
    },
    "tags": []
   },
   "source": [
    "\n",
    "* Often referred to as the most successful or influential textbook ever written\n",
    "* It was one of the earliest mathematical works to be published after the invention of the printing press\n",
    "* Second only to the Bible in number of editions published since 1482\n",
    "* Influenced many scientists including: Copernicus, Kepler, Galileo, Einstein and Newton\n",
    "* Once required in the ciriculum of all university students\n"
   ]
  },
  {
   "cell_type": "markdown",
   "id": "0caac81c",
   "metadata": {
    "id": "p8l96j42CNcs",
    "papermill": {
     "duration": 0.02249,
     "end_time": "2023-04-24T17:48:40.064722",
     "exception": false,
     "start_time": "2023-04-24T17:48:40.042232",
     "status": "completed"
    },
    "tags": []
   },
   "source": [
    "This notebook will take you through the first 20 propositions in Book 1. Instead of doing the proofs by hand, they are done using python classes and visualizations. The overall question I asked when starting this was 'can all this be done using python code without loss of generality?'. \n",
    "\n",
    "The Elements is written as if you have a ruler and a compass handy to draw lines and circles. One of the postulates basically says 'lets assume you can draw a perfect circle'. \n",
    "\n",
    "This is obviously not available in python as an object by default, so there are some classes and functions that are used in place of what would be available on a piece of paper. For example, the intersections of two or more circles is assumed to be visually available. The aim is to preserve the logic laid out in the propositions in the python code and create classes that implement the propositions as functions. \n",
    "\n",
    "Euclid gave us logic and proof of the claims but he also gave us algorithms for working in two dimensional geometry in Book 1. As the propositions progress in this notebook, I rely less and less on the exact proof laid out in the text. The work done in the first few propositions make life easier when say, drawing an equilateral triangle. I don't need to go through the proof of proposition 1 every time I want to draw one. I rely on already established functions and classes to follow the logic of the current proof and continue to abstract away the less important details. "
   ]
  },
  {
   "cell_type": "markdown",
   "id": "c5449ddb",
   "metadata": {
    "id": "5oRwIy02CNcs",
    "papermill": {
     "duration": 0.022529,
     "end_time": "2023-04-24T17:48:40.109992",
     "exception": false,
     "start_time": "2023-04-24T17:48:40.087463",
     "status": "completed"
    },
    "tags": []
   },
   "source": [
    "The backbone of this notebook is a pre-existing python package conveniently titled 'Euclid'. The package and corresponding documentation can be found here: [Euclid](https://github.com/aholkner/euclid). Everything additional is either my own or specifically cited accordingly. "
   ]
  },
  {
   "cell_type": "markdown",
   "id": "feb84d26",
   "metadata": {
    "id": "pYBQkR7xCNct",
    "papermill": {
     "duration": 0.022569,
     "end_time": "2023-04-24T17:48:40.155335",
     "exception": false,
     "start_time": "2023-04-24T17:48:40.132766",
     "status": "completed"
    },
    "tags": []
   },
   "source": [
    "*A few sidenotes before starting:*\n",
    "\n",
    "- You'll notice the frequent use of rounding throughout this notebook, this is purely to ensure precision when building geometric objects in two dimensions in python. The set of all real numbers cannot be truly represented on a computer, thus there are rounding constraints that impose boundaries on the types of numbers that can represent 2D points, lines, etc. This is purely a computational constraint and not a geometric one. These constraints ensure the numerical representation of geometric objects is 100% accurate rather than 99.999999%. \n",
    "- The language of the propositions is a bit simplified compared to the pure latin translation. This is to make your life easier when reading it. The text used to put this notebook together was by Richard Fitzpatrick which includes a more modern english translation of the original writings.\n",
    "- There are functions used for convenience that are for plotting, connecting, or measuring quantities. These are considered common notions rather than assuming more than what the propositions give you. Precisely extending a line for example is part of the notion that a striaght line can be drawn from any point to any point but it makes sense to keep these abstracted to avoid uncessary repetition in the code."
   ]
  },
  {
   "cell_type": "code",
   "execution_count": 1,
   "id": "e5686900",
   "metadata": {
    "_kg_hide-input": true,
    "_kg_hide-output": true,
    "execution": {
     "iopub.execute_input": "2023-04-24T17:48:40.203691Z",
     "iopub.status.busy": "2023-04-24T17:48:40.202993Z",
     "iopub.status.idle": "2023-04-24T17:48:53.939770Z",
     "shell.execute_reply": "2023-04-24T17:48:53.938577Z"
    },
    "id": "oo9TO4oVCNct",
    "outputId": "123ac252-c438-4aac-d622-01788eea32c2",
    "papermill": {
     "duration": 13.764594,
     "end_time": "2023-04-24T17:48:53.942809",
     "exception": false,
     "start_time": "2023-04-24T17:48:40.178215",
     "status": "completed"
    },
    "tags": []
   },
   "outputs": [
    {
     "name": "stdout",
     "output_type": "stream",
     "text": [
      "Collecting euclid\r\n",
      "  Downloading euclid-1.2.tar.gz (26 kB)\r\n",
      "  Preparing metadata (setup.py) ... \u001b[?25l-\b \bdone\r\n",
      "\u001b[?25hBuilding wheels for collected packages: euclid\r\n",
      "  Building wheel for euclid (setup.py) ... \u001b[?25l-\b \b\\\b \bdone\r\n",
      "\u001b[?25h  Created wheel for euclid: filename=euclid-1.2-py3-none-any.whl size=21725 sha256=09c08397b6a241502311d3054999d8758064e161cc1585b4fcded648c6267743\r\n",
      "  Stored in directory: /root/.cache/pip/wheels/22/6e/2b/808221da06882455810bdb1d5a4ad6a80fe29bc503dd2e7ad4\r\n",
      "Successfully built euclid\r\n",
      "Installing collected packages: euclid\r\n",
      "Successfully installed euclid-1.2\r\n",
      "\u001b[33mWARNING: Running pip as the 'root' user can result in broken permissions and conflicting behaviour with the system package manager. It is recommended to use a virtual environment instead: https://pip.pypa.io/warnings/venv\u001b[0m\u001b[33m\r\n",
      "\u001b[0m"
     ]
    }
   ],
   "source": [
    "!pip install euclid"
   ]
  },
  {
   "cell_type": "code",
   "execution_count": 2,
   "id": "0f6110ba",
   "metadata": {
    "_cell_guid": "b1076dfc-b9ad-4769-8c92-a6c4dae69d19",
    "_kg_hide-input": true,
    "_uuid": "8f2839f25d086af736a60e9eeb907d3b93b6e0e5",
    "execution": {
     "iopub.execute_input": "2023-04-24T17:48:53.992653Z",
     "iopub.status.busy": "2023-04-24T17:48:53.992267Z",
     "iopub.status.idle": "2023-04-24T17:48:54.003740Z",
     "shell.execute_reply": "2023-04-24T17:48:54.002877Z"
    },
    "id": "kivSo3tPCNcu",
    "papermill": {
     "duration": 0.039301,
     "end_time": "2023-04-24T17:48:54.006240",
     "exception": false,
     "start_time": "2023-04-24T17:48:53.966939",
     "status": "completed"
    },
    "tags": []
   },
   "outputs": [],
   "source": [
    "import numpy as np\n",
    "import pandas as pd\n",
    "import matplotlib.pyplot as plt\n",
    "from euclid import *\n",
    "import math\n",
    "import random\n",
    "import euclid\n",
    "from decimal import Decimal, getcontext\n",
    "getcontext().prec = 50"
   ]
  },
  {
   "cell_type": "markdown",
   "id": "f3512058",
   "metadata": {
    "id": "F3HiNkYHCNcu",
    "papermill": {
     "duration": 0.023404,
     "end_time": "2023-04-24T17:48:54.053162",
     "exception": false,
     "start_time": "2023-04-24T17:48:54.029758",
     "status": "completed"
    },
    "tags": []
   },
   "source": [
    "# Definitions\n",
    "\n",
    "The following is used to intoduced some syntax with the Euclid package and testing that it works properly. I will not list out all the definitions, just the ones relevant to the propositions 1-20"
   ]
  },
  {
   "cell_type": "markdown",
   "id": "099331c0",
   "metadata": {
    "id": "XZEFU9hoCNcv",
    "papermill": {
     "duration": 0.023241,
     "end_time": "2023-04-24T17:48:54.099703",
     "exception": false,
     "start_time": "2023-04-24T17:48:54.076462",
     "status": "completed"
    },
    "tags": []
   },
   "source": [
    "1. A point is that of which there is no part.\n",
    "\n",
    "2. And a line is a length without breadth.\n",
    "\n",
    "3. And the extremities of a line are points.\n",
    "\n",
    "4. A straight-line is one which lies evenly with points on itself.\n",
    "\n",
    "9. And when the lines containing the angle are straight then the angle is called **rectilinear**.\n",
    "\n",
    "11. An obtuse angle is one greater than a right-angle.\n",
    "\n",
    "12. And an acute angle is one less than a right-angle.\n",
    "\n",
    "13. A boundary is that which is the extremity of something.\n",
    "\n",
    "15. A circle is a plane figure contained by a single line, all of the straight-lines radiating towards from one point amongst those lying inside the figure are equal to one another. "
   ]
  },
  {
   "cell_type": "markdown",
   "id": "08aecfdc",
   "metadata": {
    "id": "EaT1r-AYCNcv",
    "papermill": {
     "duration": 0.02304,
     "end_time": "2023-04-24T17:48:54.146598",
     "exception": false,
     "start_time": "2023-04-24T17:48:54.123558",
     "status": "completed"
    },
    "tags": []
   },
   "source": [
    "# Postulates\n",
    "\n",
    "These are five main abstractions that allow the proofs presented by Euclid to be possible.\n",
    "\n",
    "1. Let it have been postulated to draw a straight-line from any point to any point."
   ]
  },
  {
   "cell_type": "code",
   "execution_count": 3,
   "id": "8480d45a",
   "metadata": {
    "execution": {
     "iopub.execute_input": "2023-04-24T17:48:54.196176Z",
     "iopub.status.busy": "2023-04-24T17:48:54.195306Z",
     "iopub.status.idle": "2023-04-24T17:48:54.204593Z",
     "shell.execute_reply": "2023-04-24T17:48:54.203432Z"
    },
    "id": "J8U4QihdCNcv",
    "outputId": "efc94f21-cab2-4d82-d140-09d316a17321",
    "papermill": {
     "duration": 0.036956,
     "end_time": "2023-04-24T17:48:54.206930",
     "exception": false,
     "start_time": "2023-04-24T17:48:54.169974",
     "status": "completed"
    },
    "tags": []
   },
   "outputs": [
    {
     "data": {
      "text/plain": [
       "Line2(<0.00, 0.00> + u<0.00, 1.00>)"
      ]
     },
     "execution_count": 3,
     "metadata": {},
     "output_type": "execute_result"
    }
   ],
   "source": [
    "Line2(Point2(0,0), Point2(0,1))"
   ]
  },
  {
   "cell_type": "markdown",
   "id": "940fe0fa",
   "metadata": {
    "id": "GNjS7OraCNcw",
    "papermill": {
     "duration": 0.023521,
     "end_time": "2023-04-24T17:48:54.254140",
     "exception": false,
     "start_time": "2023-04-24T17:48:54.230619",
     "status": "completed"
    },
    "tags": []
   },
   "source": [
    "Notice here that a Line2 object in the Euclid package has a starting point + a unit times another point. This is similar to a vector, internally there are two points stored but the main representation is a point and a magnitude."
   ]
  },
  {
   "cell_type": "markdown",
   "id": "2ccf2bef",
   "metadata": {
    "id": "jcgoWlNWCNcw",
    "papermill": {
     "duration": 0.023401,
     "end_time": "2023-04-24T17:48:54.301746",
     "exception": false,
     "start_time": "2023-04-24T17:48:54.278345",
     "status": "completed"
    },
    "tags": []
   },
   "source": [
    "2. And to produce a finite straight-line continuously in a straight-line."
   ]
  },
  {
   "cell_type": "code",
   "execution_count": 4,
   "id": "18367e44",
   "metadata": {
    "execution": {
     "iopub.execute_input": "2023-04-24T17:48:54.352269Z",
     "iopub.status.busy": "2023-04-24T17:48:54.351436Z",
     "iopub.status.idle": "2023-04-24T17:48:54.359704Z",
     "shell.execute_reply": "2023-04-24T17:48:54.358797Z"
    },
    "id": "n35ia7gKCNcx",
    "outputId": "124b4055-5b05-4fe8-8c9a-d2ffc3491405",
    "papermill": {
     "duration": 0.036299,
     "end_time": "2023-04-24T17:48:54.362038",
     "exception": false,
     "start_time": "2023-04-24T17:48:54.325739",
     "status": "completed"
    },
    "tags": []
   },
   "outputs": [
    {
     "data": {
      "text/plain": [
       "LineSegment2(<0.00, 0.00> to <0.00, 1.00>)"
      ]
     },
     "execution_count": 4,
     "metadata": {},
     "output_type": "execute_result"
    }
   ],
   "source": [
    "Line2(Point2(0,0), Point2(0,1))\n",
    "LineSegment2(Point2(0,0), Point2(0,1))\n",
    "LineSegment2(Line2(Point2(0,0), Point2(0,1)))"
   ]
  },
  {
   "cell_type": "code",
   "execution_count": 5,
   "id": "b91811a9",
   "metadata": {
    "execution": {
     "iopub.execute_input": "2023-04-24T17:48:54.412840Z",
     "iopub.status.busy": "2023-04-24T17:48:54.412013Z",
     "iopub.status.idle": "2023-04-24T17:48:54.419317Z",
     "shell.execute_reply": "2023-04-24T17:48:54.418409Z"
    },
    "id": "11p5rSaDnrfm",
    "outputId": "c69d1004-9c89-4a1b-e0cf-9f8067584e29",
    "papermill": {
     "duration": 0.035152,
     "end_time": "2023-04-24T17:48:54.421611",
     "exception": false,
     "start_time": "2023-04-24T17:48:54.386459",
     "status": "completed"
    },
    "tags": []
   },
   "outputs": [
    {
     "data": {
      "text/plain": [
       "LineSegment2(<0.00, 0.00> to <0.00, 1.00>)"
      ]
     },
     "execution_count": 5,
     "metadata": {},
     "output_type": "execute_result"
    }
   ],
   "source": [
    "#One method provided by the euclid package is .connect which produces a straight line (the shortest)\n",
    "Point2(0,0).connect(Point2(0,1))"
   ]
  },
  {
   "cell_type": "markdown",
   "id": "7907ab6f",
   "metadata": {
    "id": "Vi_BhL5JCNcx",
    "papermill": {
     "duration": 0.02358,
     "end_time": "2023-04-24T17:48:54.469628",
     "exception": false,
     "start_time": "2023-04-24T17:48:54.446048",
     "status": "completed"
    },
    "tags": []
   },
   "source": [
    "3. And to draw a circle with any center and radius."
   ]
  },
  {
   "cell_type": "code",
   "execution_count": 6,
   "id": "5c3880ad",
   "metadata": {
    "execution": {
     "iopub.execute_input": "2023-04-24T17:48:54.520890Z",
     "iopub.status.busy": "2023-04-24T17:48:54.520076Z",
     "iopub.status.idle": "2023-04-24T17:48:54.527580Z",
     "shell.execute_reply": "2023-04-24T17:48:54.526033Z"
    },
    "id": "ElEZzWcWCNcx",
    "outputId": "3222f4a0-c695-4bc2-e680-a1006143b5a6",
    "papermill": {
     "duration": 0.036601,
     "end_time": "2023-04-24T17:48:54.530139",
     "exception": false,
     "start_time": "2023-04-24T17:48:54.493538",
     "status": "completed"
    },
    "tags": []
   },
   "outputs": [
    {
     "name": "stdout",
     "output_type": "stream",
     "text": [
      "Point2(0.00, 0.00)\n",
      "2.0\n"
     ]
    }
   ],
   "source": [
    "c = Circle(Point2(0,0), 2.0)\n",
    "#CENTER\n",
    "print(c.c)\n",
    "#RADIUS\n",
    "print(c.r)"
   ]
  },
  {
   "cell_type": "markdown",
   "id": "fb33ae41",
   "metadata": {
    "id": "2Xj2WaLWCNcy",
    "papermill": {
     "duration": 0.023816,
     "end_time": "2023-04-24T17:48:54.578035",
     "exception": false,
     "start_time": "2023-04-24T17:48:54.554219",
     "status": "completed"
    },
    "tags": []
   },
   "source": [
    "\n",
    "\n",
    "\n",
    "\n",
    "\n",
    "4. And that all right-angles are equal to one another. "
   ]
  },
  {
   "cell_type": "code",
   "execution_count": 7,
   "id": "145f32ca",
   "metadata": {
    "execution": {
     "iopub.execute_input": "2023-04-24T17:48:54.628915Z",
     "iopub.status.busy": "2023-04-24T17:48:54.628530Z",
     "iopub.status.idle": "2023-04-24T17:48:54.635699Z",
     "shell.execute_reply": "2023-04-24T17:48:54.634924Z"
    },
    "id": "Ik55yRD0CNcy",
    "outputId": "8a8a1067-2e60-4727-aa87-81f557c3b670",
    "papermill": {
     "duration": 0.035443,
     "end_time": "2023-04-24T17:48:54.637866",
     "exception": false,
     "start_time": "2023-04-24T17:48:54.602423",
     "status": "completed"
    },
    "tags": []
   },
   "outputs": [
    {
     "data": {
      "text/plain": [
       "True"
      ]
     },
     "execution_count": 7,
     "metadata": {},
     "output_type": "execute_result"
    }
   ],
   "source": [
    "A = Vector2(-1,1)\n",
    "B = Vector2(1,1)\n",
    "C = Vector2(0,1)\n",
    "D = Vector2(1,0)\n",
    "#AB = Line2(A, B)\n",
    "np.degrees(A.angle(B)) == np.degrees(C.angle(D))"
   ]
  },
  {
   "cell_type": "markdown",
   "id": "89d6b175",
   "metadata": {
    "id": "rJZffM-sCNcz",
    "papermill": {
     "duration": 0.023923,
     "end_time": "2023-04-24T17:48:54.686089",
     "exception": false,
     "start_time": "2023-04-24T17:48:54.662166",
     "status": "completed"
    },
    "tags": []
   },
   "source": [
    "# Common Notions"
   ]
  },
  {
   "cell_type": "markdown",
   "id": "0672b8c4",
   "metadata": {
    "id": "Nd_p9q9cCNcz",
    "papermill": {
     "duration": 0.023663,
     "end_time": "2023-04-24T17:48:54.734143",
     "exception": false,
     "start_time": "2023-04-24T17:48:54.710480",
     "status": "completed"
    },
    "tags": []
   },
   "source": [
    "1. Things equal to the same thing are also equal to one another"
   ]
  },
  {
   "cell_type": "code",
   "execution_count": 8,
   "id": "2bd4c26b",
   "metadata": {
    "execution": {
     "iopub.execute_input": "2023-04-24T17:48:54.784218Z",
     "iopub.status.busy": "2023-04-24T17:48:54.783590Z",
     "iopub.status.idle": "2023-04-24T17:48:54.789754Z",
     "shell.execute_reply": "2023-04-24T17:48:54.788698Z"
    },
    "id": "1ghgv6q8CNcz",
    "outputId": "6a868c4f-801c-4dc0-cab1-c0aa5e05a132",
    "papermill": {
     "duration": 0.034014,
     "end_time": "2023-04-24T17:48:54.792297",
     "exception": false,
     "start_time": "2023-04-24T17:48:54.758283",
     "status": "completed"
    },
    "tags": []
   },
   "outputs": [
    {
     "name": "stdout",
     "output_type": "stream",
     "text": [
      "True\n"
     ]
    }
   ],
   "source": [
    "p = Point2(1.0, 2.0)\n",
    "p1 = p\n",
    "p2 = p\n",
    "print(p1 == p2)"
   ]
  },
  {
   "cell_type": "markdown",
   "id": "86bf8dae",
   "metadata": {
    "id": "e9zPlatcCNc0",
    "papermill": {
     "duration": 0.024363,
     "end_time": "2023-04-24T17:48:54.840794",
     "exception": false,
     "start_time": "2023-04-24T17:48:54.816431",
     "status": "completed"
    },
    "tags": []
   },
   "source": [
    "2. And if equal things are added to equal things then the wholes are equal"
   ]
  },
  {
   "cell_type": "code",
   "execution_count": 9,
   "id": "6666ede6",
   "metadata": {
    "execution": {
     "iopub.execute_input": "2023-04-24T17:48:54.892126Z",
     "iopub.status.busy": "2023-04-24T17:48:54.891166Z",
     "iopub.status.idle": "2023-04-24T17:48:54.897577Z",
     "shell.execute_reply": "2023-04-24T17:48:54.896427Z"
    },
    "id": "pSaDngxJCNc0",
    "papermill": {
     "duration": 0.034335,
     "end_time": "2023-04-24T17:48:54.899916",
     "exception": false,
     "start_time": "2023-04-24T17:48:54.865581",
     "status": "completed"
    },
    "tags": []
   },
   "outputs": [],
   "source": [
    "p1 = Point2(1.0, 1.0)\n",
    "p2 = Point2(2.0, 2.0)\n",
    "p3 = Point2(1.0, 1.0)\n",
    "p4 = Point2(2.0, 2.0)"
   ]
  },
  {
   "cell_type": "code",
   "execution_count": 10,
   "id": "650b3bcd",
   "metadata": {
    "execution": {
     "iopub.execute_input": "2023-04-24T17:48:54.950305Z",
     "iopub.status.busy": "2023-04-24T17:48:54.949547Z",
     "iopub.status.idle": "2023-04-24T17:48:54.956168Z",
     "shell.execute_reply": "2023-04-24T17:48:54.955208Z"
    },
    "id": "dpvRyrN2CNc0",
    "outputId": "77e4bb54-5c68-49ef-ee74-484ddd113f88",
    "papermill": {
     "duration": 0.034122,
     "end_time": "2023-04-24T17:48:54.958199",
     "exception": false,
     "start_time": "2023-04-24T17:48:54.924077",
     "status": "completed"
    },
    "tags": []
   },
   "outputs": [
    {
     "data": {
      "text/plain": [
       "True"
      ]
     },
     "execution_count": 10,
     "metadata": {},
     "output_type": "execute_result"
    }
   ],
   "source": [
    "p1 + p2 == p3 + p4"
   ]
  },
  {
   "cell_type": "markdown",
   "id": "96ed6004",
   "metadata": {
    "id": "Wn7XbYwVCNc1",
    "papermill": {
     "duration": 0.024074,
     "end_time": "2023-04-24T17:48:55.006478",
     "exception": false,
     "start_time": "2023-04-24T17:48:54.982404",
     "status": "completed"
    },
    "tags": []
   },
   "source": [
    "3. And if equal things are subtracted from equal things then the remainders are equal."
   ]
  },
  {
   "cell_type": "code",
   "execution_count": 11,
   "id": "8617b1ba",
   "metadata": {
    "execution": {
     "iopub.execute_input": "2023-04-24T17:48:55.056549Z",
     "iopub.status.busy": "2023-04-24T17:48:55.055587Z",
     "iopub.status.idle": "2023-04-24T17:48:55.061702Z",
     "shell.execute_reply": "2023-04-24T17:48:55.060956Z"
    },
    "id": "G-Ka4u7cCNc1",
    "outputId": "3d4166bc-ba2c-43dc-c49c-daab99a6136d",
    "papermill": {
     "duration": 0.033362,
     "end_time": "2023-04-24T17:48:55.063773",
     "exception": false,
     "start_time": "2023-04-24T17:48:55.030411",
     "status": "completed"
    },
    "tags": []
   },
   "outputs": [
    {
     "data": {
      "text/plain": [
       "True"
      ]
     },
     "execution_count": 11,
     "metadata": {},
     "output_type": "execute_result"
    }
   ],
   "source": [
    "p1 - p2 == p3 - p4"
   ]
  },
  {
   "cell_type": "markdown",
   "id": "1ebf1684",
   "metadata": {
    "id": "U6XNeBB-CNc1",
    "papermill": {
     "duration": 0.023973,
     "end_time": "2023-04-24T17:48:55.111806",
     "exception": false,
     "start_time": "2023-04-24T17:48:55.087833",
     "status": "completed"
    },
    "tags": []
   },
   "source": [
    "4. And things coinciding with one another are equal to one another"
   ]
  },
  {
   "cell_type": "markdown",
   "id": "28c0cee4",
   "metadata": {
    "id": "Y6ycqbJTCNc1",
    "papermill": {
     "duration": 0.024024,
     "end_time": "2023-04-24T17:48:55.160331",
     "exception": false,
     "start_time": "2023-04-24T17:48:55.136307",
     "status": "completed"
    },
    "tags": []
   },
   "source": [
    "This essentially means that if two objects or figures can be exactly superimposed on each other, then they are equal in size, shape, and other properties. In the context of geometry, this principle is often used to show the congruence of geometric figures, such as triangles, rectangles, or other polygons. If you can place one figure on top of the other and they completely cover each other without any gaps or overlaps, then they are equal, or congruent, in all aspects."
   ]
  },
  {
   "cell_type": "markdown",
   "id": "dac4174e",
   "metadata": {
    "id": "F89hFTxGCNc1",
    "papermill": {
     "duration": 0.024001,
     "end_time": "2023-04-24T17:48:55.208498",
     "exception": false,
     "start_time": "2023-04-24T17:48:55.184497",
     "status": "completed"
    },
    "tags": []
   },
   "source": [
    "5. And the whole is greater than the part\n",
    "\n",
    "In the context of geometry and mathematics, this notion implies that when you have a complete figure or quantity, any proper subset or portion of that figure or quantity will always be smaller than the whole. For example, if you have a line segment, any smaller segment within the original line segment will always be shorter in length than the entire line segment."
   ]
  },
  {
   "cell_type": "markdown",
   "id": "0f4a4bce",
   "metadata": {
    "id": "Hmqk8-_OCNc2",
    "papermill": {
     "duration": 0.024074,
     "end_time": "2023-04-24T17:48:55.256906",
     "exception": false,
     "start_time": "2023-04-24T17:48:55.232832",
     "status": "completed"
    },
    "tags": []
   },
   "source": [
    "# Euclid Library Extensions\n",
    "\n",
    "The current version of the 'euclid' package is very minimal. I'm going to need some more convenient functions that implement the postulates so that I don't have to worry about details that are meant to be treated as a 'given' or have to unecessarily repeat myself. "
   ]
  },
  {
   "cell_type": "code",
   "execution_count": 12,
   "id": "187b77df",
   "metadata": {
    "execution": {
     "iopub.execute_input": "2023-04-24T17:48:55.308488Z",
     "iopub.status.busy": "2023-04-24T17:48:55.308070Z",
     "iopub.status.idle": "2023-04-24T17:48:55.318487Z",
     "shell.execute_reply": "2023-04-24T17:48:55.317647Z"
    },
    "id": "GKBgKjMrCNc2",
    "papermill": {
     "duration": 0.038343,
     "end_time": "2023-04-24T17:48:55.320517",
     "exception": false,
     "start_time": "2023-04-24T17:48:55.282174",
     "status": "completed"
    },
    "tags": []
   },
   "outputs": [],
   "source": [
    "class Circle2E(euclid.Circle):\n",
    "\n",
    "    def get_intersections(self, c2):\n",
    "        \"\"\"\n",
    "        get intersections of self and another circle (which is at most two points, proven later by Euclid)\n",
    "        \"\"\"\n",
    "        # self: (x0, y0), radius r0\n",
    "        # circle 2: (x1, y1), radius r1\n",
    "        if not isinstance(c2, Circle2E):\n",
    "            raise AttributeError(\"Must pass euclid Circle object\")\n",
    "        \n",
    "        x0 = self.c.x\n",
    "        y0 = self.c.y\n",
    "        r0 = self.r\n",
    "    \n",
    "        x1 = c2.c.x\n",
    "        y1 = c2.c.y\n",
    "        r1 = c2.r\n",
    "\n",
    "        d=math.sqrt((x1-x0)**2 + (y1-y0)**2)\n",
    "    \n",
    "        # non intersecting\n",
    "        if d > r0 + r1 :\n",
    "            return None\n",
    "        # One circle within other\n",
    "        if d < abs(r0-r1):\n",
    "            return None\n",
    "        # coincident circles\n",
    "        if d == 0 and r0 == r1:\n",
    "            return None\n",
    "        else:\n",
    "            a=(r0**2-r1**2+d**2)/(2*d)\n",
    "            h=math.sqrt(r0**2-a**2)\n",
    "            x2=x0+a*(x1-x0)/d   \n",
    "            y2=y0+a*(y1-y0)/d   \n",
    "            x3=x2+h*(y1-y0)/d     \n",
    "            y3=y2-h*(x1-x0)/d \n",
    "\n",
    "            x4=x2-h*(y1-y0)/d\n",
    "            y4=y2+h*(x1-x0)/d\n",
    "        \n",
    "        return (x3, y3, x4, y4)"
   ]
  },
  {
   "cell_type": "code",
   "execution_count": 13,
   "id": "c6a3c823",
   "metadata": {
    "_kg_hide-input": true,
    "execution": {
     "iopub.execute_input": "2023-04-24T17:48:55.371538Z",
     "iopub.status.busy": "2023-04-24T17:48:55.370615Z",
     "iopub.status.idle": "2023-04-24T17:48:55.377897Z",
     "shell.execute_reply": "2023-04-24T17:48:55.376338Z"
    },
    "id": "ht3jF9keCNc2",
    "papermill": {
     "duration": 0.035509,
     "end_time": "2023-04-24T17:48:55.380295",
     "exception": false,
     "start_time": "2023-04-24T17:48:55.344786",
     "status": "completed"
    },
    "tags": []
   },
   "outputs": [],
   "source": [
    "def point2_almost_equal(p1, p2, precision=2):\n",
    "    if not isinstance(p1, Point2) or not isinstance(p2, Point2):\n",
    "        raise TypeError(\"Incorrect object types passed as p1 or p2\")\n",
    "    return (round(p1.x, precision) == round(p2.x, precision)) and (round(p1.y, precision) == round(p2.y, precision))"
   ]
  },
  {
   "cell_type": "code",
   "execution_count": 14,
   "id": "b704de26",
   "metadata": {
    "execution": {
     "iopub.execute_input": "2023-04-24T17:48:55.431993Z",
     "iopub.status.busy": "2023-04-24T17:48:55.430884Z",
     "iopub.status.idle": "2023-04-24T17:48:55.443404Z",
     "shell.execute_reply": "2023-04-24T17:48:55.442060Z"
    },
    "id": "q1yAQMueCNc3",
    "papermill": {
     "duration": 0.040879,
     "end_time": "2023-04-24T17:48:55.445930",
     "exception": false,
     "start_time": "2023-04-24T17:48:55.405051",
     "status": "completed"
    },
    "tags": []
   },
   "outputs": [],
   "source": [
    "class Line2E(euclid.Line2):\n",
    "    \"\"\"\n",
    "    Extension of Line2 class that has more convenient functions for proving the propositions\n",
    "    \"\"\"\n",
    "    def __len__(self):\n",
    "        return round(self.p1.distance(self.p2), 2)\n",
    "    def random_point(self, seed=42):\n",
    "        \"\"\"\n",
    "        Returns random point along line rounded to two decimal places while ensuring it's still on the line.\n",
    "        \"\"\"\n",
    "        random.seed(seed)\n",
    "        t = random.random()  # Random value between 0 and 1\n",
    "        # Use convexity of line to interpolate\n",
    "        x = round(self.p1.x + t * (self.p2.x - self.p1.x), 2)\n",
    "        y = round(self.p1.y + t * (self.p2.y - self.p1.y), 2)\n",
    "\n",
    "        # Adjust t to account for rounding\n",
    "        t_adjusted_x = (x - self.p1.x) / (self.p2.x - self.p1.x) if self.p2.x != self.p1.x else t\n",
    "        t_adjusted_y = (y - self.p1.y) / (self.p2.y - self.p1.y) if self.p2.y != self.p1.y else t\n",
    "\n",
    "        # Average the adjusted t values to minimize error\n",
    "        t_adjusted = (t_adjusted_x + t_adjusted_y) / 2\n",
    "\n",
    "        # Recalculate x and y with the adjusted t value\n",
    "        x = round(self.p1.x + t_adjusted * (self.p2.x - self.p1.x), 2)\n",
    "        y = round(self.p1.y + t_adjusted * (self.p2.y - self.p1.y), 2)\n",
    "\n",
    "        return Point2(x, y)\n",
    "\n",
    "    def __eq__(self, other):\n",
    "        return self.__len__() == other.__len__()\n",
    "    def angle(self, other: euclid.Geometry):\n",
    "        return self.v.angle(other.v)\n",
    "    def plot(self):\n",
    "        return None"
   ]
  },
  {
   "cell_type": "code",
   "execution_count": 15,
   "id": "7bfd6a5a",
   "metadata": {
    "_kg_hide-input": true,
    "execution": {
     "iopub.execute_input": "2023-04-24T17:48:55.496670Z",
     "iopub.status.busy": "2023-04-24T17:48:55.496220Z",
     "iopub.status.idle": "2023-04-24T17:48:55.503767Z",
     "shell.execute_reply": "2023-04-24T17:48:55.502452Z"
    },
    "id": "yj8lDN17trne",
    "papermill": {
     "duration": 0.035591,
     "end_time": "2023-04-24T17:48:55.506054",
     "exception": false,
     "start_time": "2023-04-24T17:48:55.470463",
     "status": "completed"
    },
    "tags": []
   },
   "outputs": [],
   "source": [
    "def get_common_point(L1: Line2E, L2: Line2E):\n",
    "  \"\"\"\n",
    "  Given two lines L1, L2 determines if they have approximate point in common.\n",
    "  \"\"\"\n",
    "  if point2_almost_equal(L1.p1, L2.p1):\n",
    "    return L1.p1\n",
    "  elif point2_almost_equal(L1.p1, L2.p2):\n",
    "    return L1.p1\n",
    "  elif point2_almost_equal(L1.p2, L2.p1):\n",
    "    return L1.p2\n",
    "  elif point2_almost_equal(L1.p2, L2.p2):\n",
    "    return L1.p2\n",
    "  elif L1.intersect(L2) is not None:\n",
    "    return L1.intersect(L2)\n",
    "  else:\n",
    "    return None"
   ]
  },
  {
   "cell_type": "code",
   "execution_count": 16,
   "id": "b018b91a",
   "metadata": {
    "_kg_hide-input": true,
    "execution": {
     "iopub.execute_input": "2023-04-24T17:48:55.556969Z",
     "iopub.status.busy": "2023-04-24T17:48:55.556223Z",
     "iopub.status.idle": "2023-04-24T17:48:55.563605Z",
     "shell.execute_reply": "2023-04-24T17:48:55.562797Z"
    },
    "id": "reFFs93OCNc3",
    "papermill": {
     "duration": 0.035345,
     "end_time": "2023-04-24T17:48:55.565784",
     "exception": false,
     "start_time": "2023-04-24T17:48:55.530439",
     "status": "completed"
    },
    "tags": []
   },
   "outputs": [],
   "source": [
    "def angle_btw_lines(L1: Line2E, L2: Line2E):\n",
    "    \"\"\"\n",
    "    Calculate the angle between two lines internal to the two lines in the context of a triangle\n",
    "    \"\"\"\n",
    "    if not isinstance(L1, Line2E) or not isinstance(L2, Line2E):\n",
    "        raise TypeError(\"Either L1 or L2 lines are not of type Line2E\")\n",
    "    # Find the common point\n",
    "    common_point = get_common_point(L1, L2)\n",
    "\n",
    "    if common_point is None:\n",
    "        return np.nan\n",
    "\n",
    "    # Adjust the vectors to point inwards\n",
    "    v1 = L1.v if L1.p1 == common_point else -L1.v\n",
    "    v2 = L2.v if L2.p1 == common_point else -L2.v\n",
    "\n",
    "    # Calculate the angle using the dot product formula\n",
    "    cos_angle = np.dot(v1, v2) / (np.linalg.norm(v1) * np.linalg.norm(v2))\n",
    "    angle = np.arccos(np.clip(cos_angle, -1, 1))\n",
    "\n",
    "    return round(np.degrees(angle), 2)"
   ]
  },
  {
   "cell_type": "code",
   "execution_count": 17,
   "id": "b9925980",
   "metadata": {
    "execution": {
     "iopub.execute_input": "2023-04-24T17:48:55.616772Z",
     "iopub.status.busy": "2023-04-24T17:48:55.616318Z",
     "iopub.status.idle": "2023-04-24T17:48:55.624871Z",
     "shell.execute_reply": "2023-04-24T17:48:55.624001Z"
    },
    "id": "InqH6lpKCNc3",
    "papermill": {
     "duration": 0.03692,
     "end_time": "2023-04-24T17:48:55.627283",
     "exception": false,
     "start_time": "2023-04-24T17:48:55.590363",
     "status": "completed"
    },
    "tags": []
   },
   "outputs": [],
   "source": [
    "class Rectilinear():\n",
    "    \"\"\"\n",
    "    Constructs a rectilinear with apex C jointing two lines at angle/2 from center\n",
    "    \"\"\"\n",
    "    def __init__(self, S1: float, angle: float, S2: float):\n",
    "        #construct point apex\n",
    "        self.C = Point2(0,0)\n",
    "        #construct first side with length S1\n",
    "        xb = S1 * math.cos(math.radians(270.0-angle/2.0))\n",
    "        yb = S1 * math.sin(math.radians(270.0-angle/2.0))\n",
    "        self.B = Point2(xb, yb)\n",
    "        #construct next side with length S2 making angle A with side 1\n",
    "        xa = S2 * math.cos(math.radians(270.0+angle/2.0))\n",
    "        ya = S2 * math.sin(math.radians(270.0+angle/2.0))\n",
    "        self.A = Point2(xa, ya)\n",
    "        self.a = Line2E(self.C, self.A)\n",
    "        #take two final points and connect with line\n",
    "        self.b = Line2E(self.C, self.B)\n",
    "        self.angle = angle_btw_lines(self.a, self.b)\n",
    "\n",
    "    def plot(self):\n",
    "        return None"
   ]
  },
  {
   "cell_type": "code",
   "execution_count": 18,
   "id": "a305c585",
   "metadata": {
    "execution": {
     "iopub.execute_input": "2023-04-24T17:48:55.679742Z",
     "iopub.status.busy": "2023-04-24T17:48:55.679322Z",
     "iopub.status.idle": "2023-04-24T17:48:55.688146Z",
     "shell.execute_reply": "2023-04-24T17:48:55.686918Z"
    },
    "id": "YFOOjFe6CNc3",
    "papermill": {
     "duration": 0.037489,
     "end_time": "2023-04-24T17:48:55.690555",
     "exception": false,
     "start_time": "2023-04-24T17:48:55.653066",
     "status": "completed"
    },
    "tags": []
   },
   "outputs": [],
   "source": [
    "# Validity of Triangle given sides\n",
    "# SRC: https://www.codesansar.com/python-programming-examples/check-validity-triangle-given-sides.htm\n",
    "def is_valid_triangle(a,b,c):\n",
    "    \"\"\"\n",
    "    Checks if three given side lengths will form a triangle\n",
    "    \"\"\"\n",
    "    if a+b>=c and b+c>=a and c+a>=b:\n",
    "        return True\n",
    "    else:\n",
    "        return False\n",
    "    \n",
    "def get_offset(centroid, point, scale=0.2):\n",
    "    \"\"\"\n",
    "    Gets offset of annotation from centroid and points of triangles\n",
    "    \"\"\"\n",
    "    dx = point[0] - centroid[0] - scale\n",
    "    dy = point[1] - centroid[1]\n",
    "    return (point[0] + dx * 0.2, point[1] + dy * scale)\n",
    "\n",
    "def extend_point2_circle_edge(cir: Circle, point: Point2, angle: float):\n",
    "    \"\"\"\n",
    "    Extends point to circle edge\n",
    "    \"\"\"\n",
    "    angle_rad = angle\n",
    "\n",
    "    # Calculate the X and Y offsets\n",
    "    offset_x = cir.r * np.cos(angle_rad)\n",
    "    offset_y = cir.r * np.sin(angle_rad)\n",
    "\n",
    "    # Calculate the coordinates of the point on the circle's edge\n",
    "    point_x = cir.c.x + offset_x\n",
    "    point_y = cir.c.y + offset_y\n",
    "    return Point2(point_x, point_y)"
   ]
  },
  {
   "cell_type": "markdown",
   "id": "b09c2f06",
   "metadata": {
    "id": "lIaYWl3eCNc4",
    "papermill": {
     "duration": 0.024545,
     "end_time": "2023-04-24T17:48:55.739451",
     "exception": false,
     "start_time": "2023-04-24T17:48:55.714906",
     "status": "completed"
    },
    "tags": []
   },
   "source": [
    "# Triangle Definition\n",
    "\n",
    "To implement a Triangle object, each component will be set up to follow this pattern.\n",
    "\n",
    "<div align='center'>\n",
    "    <img src=\"https://upload.wikimedia.org/wikipedia/commons/thumb/4/49/Triangle_with_notations_2.svg/2560px-Triangle_with_notations_2.svg.png\" width=500/>\n",
    "    </div>"
   ]
  },
  {
   "cell_type": "code",
   "execution_count": 19,
   "id": "dc80b544",
   "metadata": {
    "execution": {
     "iopub.execute_input": "2023-04-24T17:48:55.790827Z",
     "iopub.status.busy": "2023-04-24T17:48:55.789831Z",
     "iopub.status.idle": "2023-04-24T17:48:55.826456Z",
     "shell.execute_reply": "2023-04-24T17:48:55.825558Z"
    },
    "id": "awTHrqBGCNc4",
    "papermill": {
     "duration": 0.065153,
     "end_time": "2023-04-24T17:48:55.829086",
     "exception": false,
     "start_time": "2023-04-24T17:48:55.763933",
     "status": "completed"
    },
    "tags": []
   },
   "outputs": [],
   "source": [
    "\"\"\"\n",
    "A triangle is a shape composed of three points, lines connecting those points, and three angles between each line.\n",
    "\"\"\"\n",
    "class Triangle():\n",
    "    def __init__(self, a: Line2E, b: Line2E, c: Line2E):\n",
    "        self.a = a\n",
    "        self.b = b\n",
    "        self.c = c\n",
    "        self.equilateral = (round(a.__len__(),2) == round(b.__len__(), 2)) and (round(b.__len__(), 2) == round(c.__len__(), 2))\n",
    "        self.A = get_common_point(c, b)\n",
    "        self.B = get_common_point(c, a)\n",
    "        self.C = get_common_point(a, b)\n",
    "\n",
    "        #each angle\n",
    "        self.beta = angle_btw_lines(a, c)\n",
    "        self.alpha = angle_btw_lines(c, b)\n",
    "        self.gamma = angle_btw_lines(a, b)\n",
    "        \n",
    "        self.min_x = min(c.p2.x, c.p1.x, a.p1.x)\n",
    "        self.max_x = max(c.p2.x, c.p1.x, a.p1.x)\n",
    "        self.min_y = min(c.p2.y, c.p1.y, a.p1.y)\n",
    "        self.max_y = max(c.p2.y, c.p1.y, a.p1.y)\n",
    "    @classmethod\n",
    "    def SAS(cls, S1: float, angle: float, S2: float):\n",
    "        \"\"\"\n",
    "        Constructs a triangle from two side lengths and an angle between the two sides. \n",
    "        \"\"\"\n",
    "        #construct point apex\n",
    "        C = Point2(0,0)\n",
    "        #construct first side with length S1\n",
    "        xb = S1 * float(Decimal(math.cos(math.radians(270.0-angle/2.0))))\n",
    "        yb = S1 * float(Decimal(math.sin(math.radians(270.0-angle/2.0))))\n",
    "        B = Point2(xb, yb)\n",
    "        a = Line2E(C, B)\n",
    "        #construct next side with length S2 making angle A with side 1\n",
    "        x2 = S2 * float(Decimal(math.cos(math.radians(270.0+angle/2.0))))\n",
    "        y2 = S2 * float(Decimal(math.sin(math.radians(270.0+angle/2.0))))\n",
    "        A = Point2(x2, y2)\n",
    "        b = Line2E(C, A)\n",
    "        #take two final points and connect with line, pass to constructor\n",
    "        c = Line2E(B, A)\n",
    "        return cls(a, b, c)\n",
    "    @classmethod\n",
    "    def AAA(cls, gamma: float, beta: float, alpha: float, a_length=1.0):\n",
    "        \"\"\"\n",
    "        Constructs triangle with three given angle sizes in degrees\n",
    "        \"\"\"\n",
    "        if gamma + beta + alpha != 180.0:\n",
    "          print(\"Angles do not allow triangle construction\")\n",
    "          return None\n",
    "        # Place point C at the origin\n",
    "        C = Point2(0, 0)\n",
    "\n",
    "        # Create point B along the x-axis\n",
    "        B = Point2(a_length, 0)\n",
    "\n",
    "        # Calculate the length of side b using the Law of Sines\n",
    "        b_length = a_length * math.sin(math.radians(beta)) / math.sin(math.radians(gamma))\n",
    "\n",
    "        # Calculate the coordinates of point A\n",
    "        xa = b_length * math.cos(math.radians(alpha))\n",
    "        ya = b_length * math.sin(math.radians(alpha))\n",
    "        A = Point2(xa, ya)\n",
    "\n",
    "        # Create line segments\n",
    "        a = Line2E(C, B)\n",
    "        b = Line2E(C, A)\n",
    "        c = Line2E(B, A)\n",
    "        return cls(a, b, c)\n",
    "    @classmethod\n",
    "    def SSS(cls, S1: float, S2: float, S3: float):\n",
    "        \"\"\"\n",
    "        Constructs a triangle with given lengths (side, side, side)\n",
    "        S1 - a\n",
    "        S2 - b\n",
    "        S3 - c\n",
    "        \"\"\"\n",
    "        \n",
    "        if not is_valid_triangle(S1, S2, S3):\n",
    "            print(\"Invalid Triangle Specification\")\n",
    "            return None\n",
    "        C = Point2(0,0)\n",
    "        B = Point2(0, 0 - S1)\n",
    "        a = Line2E(C, B)\n",
    "        #determine angle to move to point A\n",
    "        beta = np.degrees(np.arccos((S1**2+S2**2-S3**2)/(2*S1*S2)))\n",
    "        x2 = round(S2 * math.cos(math.radians(90.0+beta)), 2)\n",
    "        y2 = round(S2 * math.sin(math.radians(90.0+beta)), 2)\n",
    "        A = Point2(x2, y2)\n",
    "        c = Line2E(B, A)\n",
    "        b = Line2E(A, C)\n",
    "        return cls(a, b, c)\n",
    "    @classmethod\n",
    "    def ASA(cls, a1: float, S: float, a2: float):\n",
    "        \"\"\"\n",
    "        Constructs triangle with two base angles and base side length\n",
    "        \"\"\"\n",
    "        B = Point2(0.0, 0.0)\n",
    "        A = Point2(B.x+S, 0.0)\n",
    "        AB = Line2E(A, B)\n",
    "        xc = A.x + round(S*math.cos(math.radians(180-a2)),2)\n",
    "        yc = round(S*math.sin(math.radians(a2)),2)\n",
    "        tempC = Line2E(Point2(xc, yc), A)\n",
    "        xb = round(S*math.cos(math.radians(a1)), 2)\n",
    "        yb = round(S*math.sin(math.radians(a1)), 2)\n",
    "        tempB = Line2E(B, Point2(xb, yb))\n",
    "        C = tempB.intersect(tempC)\n",
    "        C = Point2(round(C.x, 2), round(C.y, 2))\n",
    "        CA = Line2E(C, A)\n",
    "        CB = Line2E(C, B)\n",
    "        return cls(CA, CB, AB)\n",
    "    def __eq__(self, other):\n",
    "        return self.a == other.a and self.b == other.b and self.c == other.c and self.alpha == other.alpha and self.beta == other.beta and self.gamma == other.gamma\n",
    "    def plot(self, title='', full=True, ax=None, annotate=True, colors=None):\n",
    "        centroid = ((self.A[0] + self.B[0] + self.C[0]) / 3, (self.A[1] + self.B[1] + self.C[1]) / 3)\n",
    "        if ax is None:\n",
    "          fig, ax = plt.subplots()\n",
    "        if colors is None:\n",
    "          plt.plot([self.a.p1.x, self.a.p2.x], [self.a.p1.y, self.a.p2.y], marker='o', label='a')\n",
    "          plt.plot([self.b.p1.x, self.b.p2.x], [self.b.p1.y, self.b.p2.y], marker='o', label='b')\n",
    "          plt.plot([self.c.p1.x, self.c.p2.x], [self.c.p1.y, self.c.p2.y], marker='o', label='c')\n",
    "        elif len(colors) == 3:\n",
    "          plt.plot([self.a.p1.x, self.a.p2.x], [self.a.p1.y, self.a.p2.y], marker='o', label='a', color=colors[0])\n",
    "          plt.plot([self.b.p1.x, self.b.p2.x], [self.b.p1.y, self.b.p2.y], marker='o', label='b', color=colors[1])\n",
    "          plt.plot([self.c.p1.x, self.c.p2.x], [self.c.p1.y, self.c.p2.y], marker='o', label='c', color=colors[2])\n",
    "        if ax != None and annotate:\n",
    "          ax.annotate('C', self.C, get_offset(centroid, self.C), fontsize=12)\n",
    "          ax.annotate('A', self.A, get_offset(centroid, self.A), fontsize=12)\n",
    "          ax.annotate('B', self.B, get_offset(centroid, self.B), fontsize=12)\n",
    "\n",
    "        if full:\n",
    "          plt.title(title)\n",
    "          plt.legend()\n",
    "          plt.tight_layout()\n",
    "          plt.show()\n",
    "    def check_angles(self):\n",
    "        return self.beta + self.alpha + self.gamma\n",
    "        "
   ]
  },
  {
   "cell_type": "code",
   "execution_count": 20,
   "id": "57530fa3",
   "metadata": {
    "_kg_hide-input": true,
    "execution": {
     "iopub.execute_input": "2023-04-24T17:48:55.881938Z",
     "iopub.status.busy": "2023-04-24T17:48:55.880723Z",
     "iopub.status.idle": "2023-04-24T17:48:55.902482Z",
     "shell.execute_reply": "2023-04-24T17:48:55.901548Z"
    },
    "id": "dyv7u72mCNc4",
    "papermill": {
     "duration": 0.050408,
     "end_time": "2023-04-24T17:48:55.904868",
     "exception": false,
     "start_time": "2023-04-24T17:48:55.854460",
     "status": "completed"
    },
    "tags": []
   },
   "outputs": [],
   "source": [
    "def plot_2d(objs, names, annotate=True, edge=0.1, size=5, title='', legend_loc='upper right'):\n",
    "    \"\"\"\n",
    "    Plot 2D Euclid Elements\n",
    "    \n",
    "    Plots according to figsize of 'size' and edges away from max/min +/- 'edge'\n",
    "    \n",
    "    objs = List of objects to plot\n",
    "    names = List of names of objects to show on legend\n",
    "    colors = List of colors applied to each object\n",
    "    \n",
    "    \"\"\"\n",
    "    #Simply color cyle used because we won't have many objects on a plot at once\n",
    "    color_cycle = plt.rcParams['axes.prop_cycle'].by_key()['color']\n",
    "    color_index = 0\n",
    "    #figsize=(size, size)\n",
    "    fig, ax = plt.subplots()\n",
    "    min_x, max_x, min_y, max_y = None, None, None, None\n",
    "    for i, obj in enumerate(objs):\n",
    "        if isinstance(obj, Circle2E):\n",
    "            circle1=plt.Circle((obj.c.x, obj.c.y), obj.r, fill=False, label=names[i], color=color_cycle[color_index])\n",
    "            plt.gca().add_artist(circle1)\n",
    "            \n",
    "            #adjust boundaries\n",
    "            min_x = min(min_x, obj.c.x - obj.r) if min_x is not None else obj.c.x - obj.r\n",
    "            max_x = max(max_x, obj.c.x + obj.r) if max_x is not None else obj.c.x + obj.r\n",
    "            min_y = min(min_y, obj.c.y - obj.r) if min_y is not None else obj.c.y - obj.r\n",
    "            max_y = max(max_y, obj.c.y + obj.r) if max_y is not None else obj.c.y + obj.r\n",
    "        elif isinstance(obj, Line2):\n",
    "            plt.plot([obj.p1.x, obj.p2.x], [obj.p1.y, obj.p2.y], marker='o', label=names[i], color=color_cycle[color_index])\n",
    "            if len(names[i]) > 1 and annotate:\n",
    "              ax.annotate(names[i][0], (obj.p1.x-0.15, obj.p1.y-0.03), fontsize=14)\n",
    "              ax.annotate(names[i][1], (obj.p2.x+0.03, obj.p2.y-0.03), fontsize=14)\n",
    "            \n",
    "            #adjust boundaries\n",
    "            min_x = min(min_x, obj.p1.x, obj.p2.x) if min_x is not None else min(obj.p1.x, obj.p2.x)\n",
    "            max_x = max(max_x, obj.p1.x, obj.p2.x) if max_x is not None else max(obj.p1.x, obj.p2.x)\n",
    "            min_y = min(min_y, obj.p1.y, obj.p2.y) if min_y is not None else min(obj.p1.y, obj.p2.y)\n",
    "            max_y = max(max_y, obj.p1.y, obj.p2.y) if max_y is not None else max(obj.p1.y, obj.p2.y)\n",
    "        elif isinstance(obj, Triangle):\n",
    "            colors = []\n",
    "            for i in range(3):\n",
    "              colors.append(color_cycle[color_index])\n",
    "              color_index = (color_index + 1) % len(color_cycle)\n",
    "            obj.plot(full=False, ax=ax, annotate=annotate, colors=colors)\n",
    "\n",
    "\n",
    "            min_x = min(min_x, obj.min_x) if min_x is not None else obj.min_x\n",
    "            max_x = max(max_x, obj.max_x) if max_x is not None else obj.max_x\n",
    "            min_y = min(min_y, obj.min_y) if min_y is not None else obj.min_y\n",
    "            max_y = max(max_y, obj.max_y) if max_y is not None else obj.max_y\n",
    "        elif isinstance(obj, Point2):\n",
    "          plt.scatter(obj.x, obj.y, label=names[i], color=color_cycle[color_index])\n",
    "        color_index = (color_index + 1) % len(color_cycle)\n",
    "    plt.title(title)\n",
    "    plt.axis([min_x - edge*(max_x-min_x), max_x + edge*(max_x-min_x), min_y - edge*(max_y-min_y), max_y + edge*(max_y-min_y)])\n",
    "    plt.legend(loc=legend_loc)\n",
    "    plt.tight_layout()\n",
    "    plt.show()\n",
    "        "
   ]
  },
  {
   "cell_type": "markdown",
   "id": "12e7baff",
   "metadata": {
    "id": "RkB8zgXgCNc6",
    "papermill": {
     "duration": 0.024184,
     "end_time": "2023-04-24T17:48:55.953612",
     "exception": false,
     "start_time": "2023-04-24T17:48:55.929428",
     "status": "completed"
    },
    "tags": []
   },
   "source": [
    "# Proposition 1\n",
    "\n",
    "**Construct an Equilateral Triangle**"
   ]
  },
  {
   "cell_type": "code",
   "execution_count": 21,
   "id": "07846ac5",
   "metadata": {
    "execution": {
     "iopub.execute_input": "2023-04-24T17:48:56.004791Z",
     "iopub.status.busy": "2023-04-24T17:48:56.003575Z",
     "iopub.status.idle": "2023-04-24T17:48:56.015309Z",
     "shell.execute_reply": "2023-04-24T17:48:56.014153Z"
    },
    "id": "uPkbn1feCNc6",
    "outputId": "67225206-3796-4767-c6c0-56f8165a03c0",
    "papermill": {
     "duration": 0.03966,
     "end_time": "2023-04-24T17:48:56.017728",
     "exception": false,
     "start_time": "2023-04-24T17:48:55.978068",
     "status": "completed"
    },
    "tags": []
   },
   "outputs": [
    {
     "name": "stdout",
     "output_type": "stream",
     "text": [
      "ABC is an equilateral triangle, the very thing it was required to do.\n"
     ]
    }
   ],
   "source": [
    "#Let AB be the given finite straight line\n",
    "A = Point2(0,1)\n",
    "B = Point2(1,1)\n",
    "AB = Line2E(A, B)\n",
    "# Let the circle BCD with center A and radius AB have been drawn\n",
    "radius = A.distance(B)\n",
    "BCD = Circle2E(A, radius)\n",
    "# let the circle ACE with center B and radius BA have been drawn\n",
    "ACE = Circle2E(B, radius)\n",
    "points = BCD.get_intersections(ACE)\n",
    "C = Point2(points[2],points[3])\n",
    "# And let the straight-lines CA and CB have been joined from the point C, \n",
    "# where the circles cut one another to the points A and B.\n",
    "CA = Line2E(C, A)\n",
    "CB = Line2E(C, B)\n",
    "\n",
    "ABC = Triangle(CB, CA, AB)\n",
    "prop1_cond = ABC.equilateral\n",
    "if prop1_cond:\n",
    "  print(\"ABC is an equilateral triangle, the very thing it was required to do.\")"
   ]
  },
  {
   "cell_type": "code",
   "execution_count": 22,
   "id": "2e4d9e91",
   "metadata": {
    "_kg_hide-input": true,
    "execution": {
     "iopub.execute_input": "2023-04-24T17:48:56.068819Z",
     "iopub.status.busy": "2023-04-24T17:48:56.068071Z",
     "iopub.status.idle": "2023-04-24T17:48:56.429483Z",
     "shell.execute_reply": "2023-04-24T17:48:56.428482Z"
    },
    "id": "b7LKZkUnCNc6",
    "outputId": "552704f6-a456-4053-ea39-b750810e2140",
    "papermill": {
     "duration": 0.389634,
     "end_time": "2023-04-24T17:48:56.431924",
     "exception": false,
     "start_time": "2023-04-24T17:48:56.042290",
     "status": "completed"
    },
    "tags": []
   },
   "outputs": [
    {
     "data": {
      "image/png": "[encoded data removed]",
      "text/plain": [
       "<Figure size 640x480 with 1 Axes>"
      ]
     },
     "metadata": {},
     "output_type": "display_data"
    }
   ],
   "source": [
    "plot_2d([BCD, ACE, ABC], ['BCD','ACE','ABC'], title='Proposition 1')"
   ]
  },
  {
   "cell_type": "code",
   "execution_count": 23,
   "id": "22664972",
   "metadata": {
    "execution": {
     "iopub.execute_input": "2023-04-24T17:48:56.486337Z",
     "iopub.status.busy": "2023-04-24T17:48:56.485184Z",
     "iopub.status.idle": "2023-04-24T17:48:56.494459Z",
     "shell.execute_reply": "2023-04-24T17:48:56.493042Z"
    },
    "id": "IoRrNPebCNc7",
    "papermill": {
     "duration": 0.039322,
     "end_time": "2023-04-24T17:48:56.497108",
     "exception": false,
     "start_time": "2023-04-24T17:48:56.457786",
     "status": "completed"
    },
    "tags": []
   },
   "outputs": [],
   "source": [
    "#ABSTRACTION OF PROP 1\n",
    "def draw_equilateral(AB: Line2E, direction=1):\n",
    "    \"\"\"\n",
    "    Given a line, construct an equliateral triangle with a new point C\n",
    "    \"\"\"\n",
    "    A = AB.p1\n",
    "    B = AB.p2\n",
    "    radius = A.distance(B)\n",
    "    BCD = Circle2E(A, radius)\n",
    "    ACE = Circle2E(B, radius)\n",
    "    points = BCD.get_intersections(ACE)\n",
    "    if direction == 1:\n",
    "        C = Point2(points[2],points[3])\n",
    "    else:\n",
    "        C = Point2(points[0],points[1])\n",
    "        \n",
    "    b = Line2E(A, C)\n",
    "    a = Line2E(C, B)\n",
    "    c = Line2E(B, A)\n",
    "    ABC = Triangle(a, b, c)\n",
    "    return ABC"
   ]
  },
  {
   "cell_type": "markdown",
   "id": "3ac6d09c",
   "metadata": {
    "id": "pAAqnK7ICNc7",
    "papermill": {
     "duration": 0.024851,
     "end_time": "2023-04-24T17:48:56.547391",
     "exception": false,
     "start_time": "2023-04-24T17:48:56.522540",
     "status": "completed"
    },
    "tags": []
   },
   "source": [
    "# Proposition 2\n",
    "\n",
    "**To place a straight-line equal to a given straight-line at a given point (as an extremety)**"
   ]
  },
  {
   "cell_type": "code",
   "execution_count": 24,
   "id": "2d0623ee",
   "metadata": {
    "execution": {
     "iopub.execute_input": "2023-04-24T17:48:56.599925Z",
     "iopub.status.busy": "2023-04-24T17:48:56.599224Z",
     "iopub.status.idle": "2023-04-24T17:48:56.614164Z",
     "shell.execute_reply": "2023-04-24T17:48:56.613118Z"
    },
    "id": "fbU6GvbSCNc7",
    "outputId": "3e0fd5da-0dbb-41c0-f3de-ab4e3fd98069",
    "papermill": {
     "duration": 0.04411,
     "end_time": "2023-04-24T17:48:56.616604",
     "exception": false,
     "start_time": "2023-04-24T17:48:56.572494",
     "status": "completed"
    },
    "tags": []
   },
   "outputs": [
    {
     "name": "stdout",
     "output_type": "stream",
     "text": [
      "DAB Equilateral Check:  True\n",
      "AL and BC are equal to BG\n",
      "AL == BG True\n",
      "BC == BG True\n",
      "Things equal to the same thing are equal to each other\n",
      "AL == BC, The very thing it was required to do\n"
     ]
    }
   ],
   "source": [
    "# Let A be the given point, \n",
    "A = Point2(-1,-1)\n",
    "\n",
    "#Let BC the given straight-line. \n",
    "B = Point2(1, -1)\n",
    "C = Point2(1, 4)\n",
    "BC = Line2(B, C)\n",
    "\n",
    "# Let AB have been joined from A to B\n",
    "AB = Line2(A, B)\n",
    "\n",
    "#Let eq. triangle DAB have been constructed upon it\n",
    "DAB = draw_equilateral(AB)\n",
    "print(\"DAB Equilateral Check: \", DAB.equilateral)\n",
    "D = DAB.C\n",
    "\n",
    "# Let straight-lines AE and BF have been produced in a straight-line with DA/DB\n",
    "E = A - 6*DAB.b.v.__truediv__(DAB.b.v.__abs__())\n",
    "F = B + 6*DAB.a.v.__truediv__(DAB.a.v.__abs__())\n",
    "AE = Line2(A, E)\n",
    "BF = Line2(B, F)\n",
    "\n",
    "#And let the circle CGH with center D and radius BC have been drawn\n",
    "CGH = Circle2E(B, B.distance(C))\n",
    "\n",
    "#Let the circle GKL with center D and radius DG have been drawn\n",
    "G = euclid._connect_point2_circle(F, CGH).p2\n",
    "GKL = Circle2E(D, D.distance(G))\n",
    "L = euclid._connect_point2_circle(E, GKL).p2\n",
    "AL = Line2(A, L)\n",
    "\n",
    "\n",
    "print(\"AL and BC are equal to BG\")\n",
    "print(\"AL == BG\", A.distance(L) == B.distance(G))\n",
    "print(\"BC == BG\", B.distance(C) == B.distance(G))\n",
    "print(\"Things equal to the same thing are equal to each other\")\n",
    "prop2_cond = A.distance(L) == B.distance(C)\n",
    "if prop2_cond:\n",
    "  print(\"AL == BC, The very thing it was required to do\")"
   ]
  },
  {
   "cell_type": "code",
   "execution_count": 25,
   "id": "70c2f2ef",
   "metadata": {
    "_kg_hide-input": true,
    "execution": {
     "iopub.execute_input": "2023-04-24T17:48:56.669933Z",
     "iopub.status.busy": "2023-04-24T17:48:56.669526Z",
     "iopub.status.idle": "2023-04-24T17:48:57.072188Z",
     "shell.execute_reply": "2023-04-24T17:48:57.071011Z"
    },
    "id": "gVcddenH_P4N",
    "outputId": "14645882-49a3-4dda-ce62-7c77f98ceb62",
    "papermill": {
     "duration": 0.432053,
     "end_time": "2023-04-24T17:48:57.074666",
     "exception": false,
     "start_time": "2023-04-24T17:48:56.642613",
     "status": "completed"
    },
    "tags": []
   },
   "outputs": [
    {
     "data": {
      "image/png": "[encoded data removed]",
      "text/plain": [
       "<Figure size 640x480 with 1 Axes>"
      ]
     },
     "metadata": {},
     "output_type": "display_data"
    }
   ],
   "source": [
    "plot_2d([CGH, GKL, DAB, BC, AE, BF, G, L], ['CGH','GKL','DAB', 'BC', 'AE', 'BF', 'G', 'L'], title='Proposition 2', annotate=False, edge=0.3)"
   ]
  },
  {
   "cell_type": "markdown",
   "id": "5ca496d7",
   "metadata": {
    "id": "cZrPfBL7CNc-",
    "papermill": {
     "duration": 0.026132,
     "end_time": "2023-04-24T17:48:57.127308",
     "exception": false,
     "start_time": "2023-04-24T17:48:57.101176",
     "status": "completed"
    },
    "tags": []
   },
   "source": [
    "# Proposition 3 \n",
    "\n",
    "**For two given unqual straight-lines, to cut off from the greater a straight-line equal to the lesser.**\n",
    "\n",
    "\n",
    "The objective here is to take two lines of unequal length, and make a third line equal to the smaller line."
   ]
  },
  {
   "cell_type": "code",
   "execution_count": 26,
   "id": "edd44b47",
   "metadata": {
    "execution": {
     "iopub.execute_input": "2023-04-24T17:48:57.182266Z",
     "iopub.status.busy": "2023-04-24T17:48:57.181518Z",
     "iopub.status.idle": "2023-04-24T17:48:57.190248Z",
     "shell.execute_reply": "2023-04-24T17:48:57.188884Z"
    },
    "id": "rBWuAswbCNc-",
    "outputId": "5ca8941a-f114-45db-e96c-ff09f799cf03",
    "papermill": {
     "duration": 0.039083,
     "end_time": "2023-04-24T17:48:57.192739",
     "exception": false,
     "start_time": "2023-04-24T17:48:57.153656",
     "status": "completed"
    },
    "tags": []
   },
   "outputs": [
    {
     "name": "stdout",
     "output_type": "stream",
     "text": [
      "AE == C, The very thing it was required to do\n"
     ]
    }
   ],
   "source": [
    "#Let AB and C be the two given unequal straight-lines, of which let the greater be AB.\n",
    "A = Point2(0,0)\n",
    "B = Point2(1.5,0)\n",
    "AB = Line2E(A, B)\n",
    "C = Line2E(Point2(-0.5, 2), Point2(0.5, 2))\n",
    "# Draw a circle of radius length of AD and call it DEF\n",
    "DEF = Circle2E(A, C.__len__())\n",
    "D = extend_point2_circle_edge(DEF, A, 3*np.pi/4)\n",
    "AD = Line2E(A, D)\n",
    "#Cut off the line AE at the circle's intersection with AB\n",
    "AE = Line2E(A, euclid._intersect_line2_circle(AB, DEF).p1)\n",
    "# Since point A is the center of circle DEF, AE == AD\n",
    "# But AD is equal to C\n",
    "prop3_cond = AE.__len__() == C.__len__()\n",
    "if prop3_cond:\n",
    "    print(\"AE == C, The very thing it was required to do\")"
   ]
  },
  {
   "cell_type": "code",
   "execution_count": 27,
   "id": "c29ec3d0",
   "metadata": {
    "_kg_hide-input": true,
    "execution": {
     "iopub.execute_input": "2023-04-24T17:48:57.248967Z",
     "iopub.status.busy": "2023-04-24T17:48:57.248501Z",
     "iopub.status.idle": "2023-04-24T17:48:57.567871Z",
     "shell.execute_reply": "2023-04-24T17:48:57.567029Z"
    },
    "id": "YhIZIt9z9iW6",
    "outputId": "88eaff22-2e90-4c04-e572-52bbb00ad01f",
    "papermill": {
     "duration": 0.350115,
     "end_time": "2023-04-24T17:48:57.570226",
     "exception": false,
     "start_time": "2023-04-24T17:48:57.220111",
     "status": "completed"
    },
    "tags": []
   },
   "outputs": [
    {
     "data": {
      "image/png": "[encoded data removed]",
      "text/plain": [
       "<Figure size 640x480 with 1 Axes>"
      ]
     },
     "metadata": {},
     "output_type": "display_data"
    }
   ],
   "source": [
    "plot_2d([DEF, AD, AB, C], ['DEF','AD','AB', 'C'], title='Proposition 3')"
   ]
  },
  {
   "cell_type": "code",
   "execution_count": 28,
   "id": "e61f4770",
   "metadata": {
    "execution": {
     "iopub.execute_input": "2023-04-24T17:48:57.626959Z",
     "iopub.status.busy": "2023-04-24T17:48:57.625767Z",
     "iopub.status.idle": "2023-04-24T17:48:57.636323Z",
     "shell.execute_reply": "2023-04-24T17:48:57.635110Z"
    },
    "id": "1G1YPQXnCNc-",
    "papermill": {
     "duration": 0.041348,
     "end_time": "2023-04-24T17:48:57.638628",
     "exception": false,
     "start_time": "2023-04-24T17:48:57.597280",
     "status": "completed"
    },
    "tags": []
   },
   "outputs": [],
   "source": [
    "def prop_3(L1: Line2E, L2: Line2E):\n",
    "    \"\"\"\n",
    "    Given two unequal lines, returns a line equal to the lesser of the two\n",
    "    \"\"\"\n",
    "    if L1.__len__() == L2.__len__():\n",
    "        print(\"Lines already equal\")\n",
    "        return None\n",
    "    if L1.__len__() < L2.__len__():\n",
    "      # Draw a circle of radius length of AD and call it DEF\n",
    "      DEF = Circle2E(L2.p1, L1.__len__())\n",
    "      #Cut off the line AE at the circle's intersection with AB\n",
    "      AE = Line2E(L2.p1, euclid._intersect_line2_circle(L2, DEF).p1)\n",
    "      E = euclid._intersect_line2_circle(L2, DEF).p1\n",
    "      AE = Line2E(Point2(round(L2.p1.x, 2), round(L2.p1.y, 2)),  Point2(round(E.x, 2), round(E.y, 2)))\n",
    "    if L2.__len__() < L1.__len__():\n",
    "      # Draw a circle of radius length of AD and call it DEF\n",
    "      DEF = Circle2E(L1.p1, L2.__len__())\n",
    "      E = euclid._intersect_line2_circle(L1, DEF).p1\n",
    "      #Cut off the line AE at the circle's intersection with AB\n",
    "      AE = Line2E(Point2(round(L1.p1.x, 2), round(L1.p1.y, 2)),  Point2(round(E.x, 2), round(E.y, 2)))\n",
    "    return AE"
   ]
  },
  {
   "cell_type": "markdown",
   "id": "3f3805b2",
   "metadata": {
    "id": "Hqg392jTCNc_",
    "papermill": {
     "duration": 0.026316,
     "end_time": "2023-04-24T17:48:57.692570",
     "exception": false,
     "start_time": "2023-04-24T17:48:57.666254",
     "status": "completed"
    },
    "tags": []
   },
   "source": [
    "# Proposition 4\n",
    "\n",
    "**If two triangles have two sides equal to two sides, respecitvely, and have angles enclosed by the equal straight-lines equal, then they will also have the base equal to the base, and the triangle will be equal to the triangle.**"
   ]
  },
  {
   "cell_type": "code",
   "execution_count": 29,
   "id": "bf2d7bbd",
   "metadata": {
    "execution": {
     "iopub.execute_input": "2023-04-24T17:48:57.747845Z",
     "iopub.status.busy": "2023-04-24T17:48:57.747423Z",
     "iopub.status.idle": "2023-04-24T17:48:57.753696Z",
     "shell.execute_reply": "2023-04-24T17:48:57.752893Z"
    },
    "id": "yaXuSr6eCNc_",
    "papermill": {
     "duration": 0.036627,
     "end_time": "2023-04-24T17:48:57.755863",
     "exception": false,
     "start_time": "2023-04-24T17:48:57.719236",
     "status": "completed"
    },
    "tags": []
   },
   "outputs": [],
   "source": [
    "#Let ABC and DEF be two triangles having the two sides AB and AC equal to DE and DF\n",
    "ABC = Triangle.SAS(1, 30.0, 2)\n",
    "#Let the angle BAC be equal to the angle EDF (30 degrees)\n",
    "DEF = Triangle.SAS(1, 30.0, 2)"
   ]
  },
  {
   "cell_type": "code",
   "execution_count": 30,
   "id": "772205c1",
   "metadata": {
    "_kg_hide-input": true,
    "execution": {
     "iopub.execute_input": "2023-04-24T17:48:57.810733Z",
     "iopub.status.busy": "2023-04-24T17:48:57.810284Z",
     "iopub.status.idle": "2023-04-24T17:48:58.261663Z",
     "shell.execute_reply": "2023-04-24T17:48:58.260492Z"
    },
    "id": "WN3UVNcICNc_",
    "outputId": "df0e158f-726f-4fb3-e98f-72dbfa98f3e4",
    "papermill": {
     "duration": 0.481488,
     "end_time": "2023-04-24T17:48:58.264030",
     "exception": false,
     "start_time": "2023-04-24T17:48:57.782542",
     "status": "completed"
    },
    "tags": []
   },
   "outputs": [
    {
     "data": {
      "image/png": "[encoded data removed]",
      "text/plain": [
       "<Figure size 640x480 with 1 Axes>"
      ]
     },
     "metadata": {},
     "output_type": "display_data"
    }
   ],
   "source": [
    "ABC.plot(annotate=False)"
   ]
  },
  {
   "cell_type": "code",
   "execution_count": 31,
   "id": "3a4bde2b",
   "metadata": {
    "execution": {
     "iopub.execute_input": "2023-04-24T17:48:58.321522Z",
     "iopub.status.busy": "2023-04-24T17:48:58.320297Z",
     "iopub.status.idle": "2023-04-24T17:48:58.327266Z",
     "shell.execute_reply": "2023-04-24T17:48:58.326108Z"
    },
    "id": "H0d-lVUNCNc_",
    "outputId": "2fd8e705-fae2-46b0-ecce-0a7e74ebae66",
    "papermill": {
     "duration": 0.037949,
     "end_time": "2023-04-24T17:48:58.329511",
     "exception": false,
     "start_time": "2023-04-24T17:48:58.291562",
     "status": "completed"
    },
    "tags": []
   },
   "outputs": [
    {
     "name": "stdout",
     "output_type": "stream",
     "text": [
      "ABC == DEF True\n",
      "ABC.c == DEF.c, The very thing it was required to do\n"
     ]
    }
   ],
   "source": [
    "#The whole triangle coincides with the whole triangle\n",
    "prop4_cond = ABC.c.__len__() == DEF.c.__len__()\n",
    "if prop4_cond:\n",
    "    print(\"ABC == DEF\", ABC == DEF)\n",
    "    print(\"ABC.c == DEF.c, The very thing it was required to do\")"
   ]
  },
  {
   "cell_type": "markdown",
   "id": "e1982ef9",
   "metadata": {
    "id": "vzDh5putCNc_",
    "papermill": {
     "duration": 0.027224,
     "end_time": "2023-04-24T17:48:58.384097",
     "exception": false,
     "start_time": "2023-04-24T17:48:58.356873",
     "status": "completed"
    },
    "tags": []
   },
   "source": [
    "# Proposition 5\n",
    "\n",
    "**For isosceles triangles, the angles at the base are equal to one another, and if the equal sides are produced then the angles under the base will be equal to one another.**"
   ]
  },
  {
   "cell_type": "code",
   "execution_count": 32,
   "id": "15713f3b",
   "metadata": {
    "execution": {
     "iopub.execute_input": "2023-04-24T17:48:58.441765Z",
     "iopub.status.busy": "2023-04-24T17:48:58.441374Z",
     "iopub.status.idle": "2023-04-24T17:48:58.447860Z",
     "shell.execute_reply": "2023-04-24T17:48:58.446670Z"
    },
    "id": "5k7yn4uly9Rw",
    "papermill": {
     "duration": 0.038208,
     "end_time": "2023-04-24T17:48:58.450361",
     "exception": false,
     "start_time": "2023-04-24T17:48:58.412153",
     "status": "completed"
    },
    "tags": []
   },
   "outputs": [],
   "source": [
    "def extend_line(A, B, extension_length):\n",
    "    # Calculate the line segment vector (B - A)\n",
    "    line_vector = np.array([B.x - A.x, B.y - A.y])\n",
    "    \n",
    "    # Calculate the unit vector of the line segment direction\n",
    "    unit_vector = line_vector / np.linalg.norm(line_vector)\n",
    "    \n",
    "    # Multiply the unit vector by the extension length\n",
    "    extension_vector = unit_vector * extension_length\n",
    "    \n",
    "    # Add the extension vector to the endpoint of the line segment (B)\n",
    "    D_x = B.x + extension_vector[0]\n",
    "    D_y = B.y + extension_vector[1]\n",
    "    \n",
    "    return Point2(D_x, D_y)"
   ]
  },
  {
   "cell_type": "code",
   "execution_count": 33,
   "id": "9e852f80",
   "metadata": {
    "execution": {
     "iopub.execute_input": "2023-04-24T17:48:58.507234Z",
     "iopub.status.busy": "2023-04-24T17:48:58.506788Z",
     "iopub.status.idle": "2023-04-24T17:48:58.518158Z",
     "shell.execute_reply": "2023-04-24T17:48:58.516794Z"
    },
    "id": "c29XpUcMCNc_",
    "outputId": "8e07e45e-fac3-4c61-83bf-4f00ea6f816e",
    "papermill": {
     "duration": 0.042721,
     "end_time": "2023-04-24T17:48:58.520514",
     "exception": false,
     "start_time": "2023-04-24T17:48:58.477793",
     "status": "completed"
    },
    "tags": []
   },
   "outputs": [
    {
     "name": "stdout",
     "output_type": "stream",
     "text": [
      "ABC.alpha == ABC.beta and angle_btw_lines(ABC.c, AF) == angle_btw_lines(ABC.c, BG), The very thing it was required to do\n"
     ]
    }
   ],
   "source": [
    "#In this notebook, Triangles are names BCA because the point C is at the top when the object is built. The language has been adjusted accordingly\n",
    "#Let BCA be an isosceles triangle having CB equal to CA\n",
    "ABC = Triangle.SAS(1, 30.0, 1)\n",
    "#Let straight-lines BD and AE have been produced in a straight-line with CB, CA\n",
    "D = extend_line(ABC.C, ABC.B, 0.5)\n",
    "E = extend_line(ABC.C, ABC.A, 0.5)\n",
    "BD = Line2E(ABC.B, D)\n",
    "AE = Line2E(ABC.A, E)\n",
    "#Reference for line CE\n",
    "CE = Line2E(ABC.C, E)\n",
    "#Let point F be taken at random on BD\n",
    "F = BD.random_point(seed=50)\n",
    "#Let lines AF, CF connect points A, C to F\n",
    "AF = Line2E(ABC.A, F)\n",
    "CF = Line2E(ABC.C, F)\n",
    "#Let CG have been cut off from the greater CE equal to CF\n",
    "CG = prop_3(CF, CE)\n",
    "BG = Line2E(ABC.B, CG.p2)\n",
    "prop5_cond = ABC.alpha == ABC.beta and angle_btw_lines(ABC.c, AF) == angle_btw_lines(ABC.c, BG)\n",
    "if prop5_cond:\n",
    "    print(\"ABC.alpha == ABC.beta and angle_btw_lines(ABC.c, AF) == angle_btw_lines(ABC.c, BG), The very thing it was required to do\")"
   ]
  },
  {
   "cell_type": "code",
   "execution_count": 34,
   "id": "483553b4",
   "metadata": {
    "_kg_hide-input": true,
    "execution": {
     "iopub.execute_input": "2023-04-24T17:48:58.580074Z",
     "iopub.status.busy": "2023-04-24T17:48:58.579331Z",
     "iopub.status.idle": "2023-04-24T17:48:58.910175Z",
     "shell.execute_reply": "2023-04-24T17:48:58.908918Z"
    },
    "id": "cu5LauwYOnzy",
    "outputId": "628fad75-362d-40e3-f2c3-f5610513cac5",
    "papermill": {
     "duration": 0.364763,
     "end_time": "2023-04-24T17:48:58.913131",
     "exception": false,
     "start_time": "2023-04-24T17:48:58.548368",
     "status": "completed"
    },
    "tags": []
   },
   "outputs": [
    {
     "data": {
      "image/png": "[encoded data removed]",
      "text/plain": [
       "<Figure size 640x480 with 1 Axes>"
      ]
     },
     "metadata": {},
     "output_type": "display_data"
    }
   ],
   "source": [
    "plot_2d([ABC, BD, AE, AF, BG], ['ABC','BD', 'AE', 'AF', 'BG'], title='Proposition 5', annotate=False, edge=0.2)"
   ]
  },
  {
   "cell_type": "markdown",
   "id": "74fdd24e",
   "metadata": {
    "id": "aNK_6oSwCNc_",
    "papermill": {
     "duration": 0.030548,
     "end_time": "2023-04-24T17:48:58.972585",
     "exception": false,
     "start_time": "2023-04-24T17:48:58.942037",
     "status": "completed"
    },
    "tags": []
   },
   "source": [
    "# Proposition 6\n",
    "\n",
    "**If a triangle has two equal angles equal to one another then the sides subtending the equal angles will also be equal to one another.**"
   ]
  },
  {
   "cell_type": "markdown",
   "id": "c2e2cc0d",
   "metadata": {
    "id": "nOGZo36BCNc_",
    "papermill": {
     "duration": 0.028118,
     "end_time": "2023-04-24T17:48:59.031372",
     "exception": false,
     "start_time": "2023-04-24T17:48:59.003254",
     "status": "completed"
    },
    "tags": []
   },
   "source": [
    "Before moving forward, it is important to define the term 'subtending'. \n",
    "\n",
    "> Specifically, an angle is said to subtend an arc or side when its two rays (or sides) extend from its vertex to the endpoints of the arc or side."
   ]
  },
  {
   "cell_type": "markdown",
   "id": "d9072a60",
   "metadata": {
    "id": "bjex5zOK92B3",
    "papermill": {
     "duration": 0.028013,
     "end_time": "2023-04-24T17:48:59.087713",
     "exception": false,
     "start_time": "2023-04-24T17:48:59.059700",
     "status": "completed"
    },
    "tags": []
   },
   "source": [
    "The proof of this proposition is proof by contradiction, not construction. It doesn't really add much to the rest of the work in this notebook. I'm treating this more of a unit test for Triangle construction than a logical, step by step proof. "
   ]
  },
  {
   "cell_type": "code",
   "execution_count": 35,
   "id": "84b66ac9",
   "metadata": {
    "execution": {
     "iopub.execute_input": "2023-04-24T17:48:59.146767Z",
     "iopub.status.busy": "2023-04-24T17:48:59.145577Z",
     "iopub.status.idle": "2023-04-24T17:48:59.153366Z",
     "shell.execute_reply": "2023-04-24T17:48:59.152048Z"
    },
    "id": "0Pkjxp4wCNdA",
    "outputId": "63ac31c5-c24e-4a38-ec46-883293d9aea1",
    "papermill": {
     "duration": 0.039705,
     "end_time": "2023-04-24T17:48:59.155628",
     "exception": false,
     "start_time": "2023-04-24T17:48:59.115923",
     "status": "completed"
    },
    "tags": []
   },
   "outputs": [
    {
     "name": "stdout",
     "output_type": "stream",
     "text": [
      "The sides subtending the equal angles are equal, the very thing it was required to show\n"
     ]
    }
   ],
   "source": [
    "#Construct Triangle using 'Angle Side Angle' initializaiton\n",
    "test = Triangle.ASA(30.0, 1, 30.0)\n",
    "prop6_cond = test.a.__len__() == test.b.__len__()\n",
    "if prop6_cond:\n",
    "  print(\"The sides subtending the equal angles are equal, the very thing it was required to show\")"
   ]
  },
  {
   "cell_type": "code",
   "execution_count": 36,
   "id": "bbda6736",
   "metadata": {
    "execution": {
     "iopub.execute_input": "2023-04-24T17:48:59.214530Z",
     "iopub.status.busy": "2023-04-24T17:48:59.214083Z",
     "iopub.status.idle": "2023-04-24T17:48:59.220429Z",
     "shell.execute_reply": "2023-04-24T17:48:59.219264Z"
    },
    "id": "ovPSmkQ6CNdA",
    "papermill": {
     "duration": 0.038343,
     "end_time": "2023-04-24T17:48:59.222569",
     "exception": false,
     "start_time": "2023-04-24T17:48:59.184226",
     "status": "completed"
    },
    "tags": []
   },
   "outputs": [],
   "source": [
    "test = Triangle.ASA(60.0, 1, 60.0)"
   ]
  },
  {
   "cell_type": "code",
   "execution_count": 37,
   "id": "08a497a8",
   "metadata": {
    "execution": {
     "iopub.execute_input": "2023-04-24T17:48:59.281082Z",
     "iopub.status.busy": "2023-04-24T17:48:59.280618Z",
     "iopub.status.idle": "2023-04-24T17:48:59.288056Z",
     "shell.execute_reply": "2023-04-24T17:48:59.286923Z"
    },
    "id": "c68gkPcqCNdA",
    "outputId": "aae7cad7-66b9-46bf-fb00-7dd7d64add04",
    "papermill": {
     "duration": 0.039483,
     "end_time": "2023-04-24T17:48:59.290456",
     "exception": false,
     "start_time": "2023-04-24T17:48:59.250973",
     "status": "completed"
    },
    "tags": []
   },
   "outputs": [
    {
     "data": {
      "text/plain": [
       "True"
      ]
     },
     "execution_count": 37,
     "metadata": {},
     "output_type": "execute_result"
    }
   ],
   "source": [
    "test.a.__len__() == test.b.__len__()"
   ]
  },
  {
   "cell_type": "markdown",
   "id": "bf69cd52",
   "metadata": {
    "id": "_uLXslK1CNdA",
    "papermill": {
     "duration": 0.029293,
     "end_time": "2023-04-24T17:48:59.348817",
     "exception": false,
     "start_time": "2023-04-24T17:48:59.319524",
     "status": "completed"
    },
    "tags": []
   },
   "source": [
    "# Proposition 7\n",
    "\n",
    "**On the same straight-line, two other straight-lines equal, respectively, to two straight-lines cannot be constructed at a different point on the same side, but having the same ends as the given straight-lines**"
   ]
  },
  {
   "cell_type": "code",
   "execution_count": 38,
   "id": "6d6a02bb",
   "metadata": {
    "execution": {
     "iopub.execute_input": "2023-04-24T17:48:59.409764Z",
     "iopub.status.busy": "2023-04-24T17:48:59.409312Z",
     "iopub.status.idle": "2023-04-24T17:48:59.418886Z",
     "shell.execute_reply": "2023-04-24T17:48:59.417570Z"
    },
    "id": "wiX-1qemCNdA",
    "outputId": "2863fd9e-d1af-4322-88db-5bd88c1dba45",
    "papermill": {
     "duration": 0.042784,
     "end_time": "2023-04-24T17:48:59.421084",
     "exception": false,
     "start_time": "2023-04-24T17:48:59.378300",
     "status": "completed"
    },
    "tags": []
   },
   "outputs": [
    {
     "name": "stdout",
     "output_type": "stream",
     "text": [
      "Equal angles produce equal sides, the angles are not equal therefore they have different points. The very thing it was required to show\n"
     ]
    }
   ],
   "source": [
    "#Let two triangles be constructed with the same base\n",
    "ACB = Triangle.ASA(60.0, 2.0, 60.0)\n",
    "ADB = Triangle.ASA(45.0, 2.0, 75.0)\n",
    "#Let DC have been joined\n",
    "DC = Line2E(ADB.C, ACB.C)\n",
    "prop7_cond = angle_btw_lines(DC, ACB.a) != angle_btw_lines(DC, ADB.a)\n",
    "if prop7_cond:\n",
    "  print(\"Equal angles produce equal sides, the angles are not equal therefore they have different points. The very thing it was required to show\")"
   ]
  },
  {
   "cell_type": "code",
   "execution_count": 39,
   "id": "a691f1e4",
   "metadata": {
    "_kg_hide-input": true,
    "execution": {
     "iopub.execute_input": "2023-04-24T17:48:59.480067Z",
     "iopub.status.busy": "2023-04-24T17:48:59.479305Z",
     "iopub.status.idle": "2023-04-24T17:48:59.787714Z",
     "shell.execute_reply": "2023-04-24T17:48:59.786953Z"
    },
    "id": "h4JHQt3L_s0n",
    "outputId": "908a7738-05a7-4564-c2b3-7bfc55642896",
    "papermill": {
     "duration": 0.340275,
     "end_time": "2023-04-24T17:48:59.789818",
     "exception": false,
     "start_time": "2023-04-24T17:48:59.449543",
     "status": "completed"
    },
    "tags": []
   },
   "outputs": [
    {
     "data": {
      "image/png": "[encoded data removed]",
      "text/plain": [
       "<Figure size 640x480 with 1 Axes>"
      ]
     },
     "metadata": {},
     "output_type": "display_data"
    }
   ],
   "source": [
    "plot_2d([ACB, ADB, DC], ['ACB','ADB', 'DC'], title='Proposition 7', annotate=False)"
   ]
  },
  {
   "cell_type": "markdown",
   "id": "33bb578f",
   "metadata": {
    "id": "-Mj-uIVuCNdA",
    "papermill": {
     "duration": 0.028826,
     "end_time": "2023-04-24T17:48:59.847687",
     "exception": false,
     "start_time": "2023-04-24T17:48:59.818861",
     "status": "completed"
    },
    "tags": []
   },
   "source": [
    "# Proposition 8\n",
    "\n",
    "**If two triangles have two sides equal to two sides, respectively, and also have the base equal to the base then they will also have equal the angles encompassed by the equal straight-lines.**"
   ]
  },
  {
   "cell_type": "code",
   "execution_count": 40,
   "id": "f2fd53b5",
   "metadata": {
    "execution": {
     "iopub.execute_input": "2023-04-24T17:48:59.908254Z",
     "iopub.status.busy": "2023-04-24T17:48:59.907530Z",
     "iopub.status.idle": "2023-04-24T17:48:59.913580Z",
     "shell.execute_reply": "2023-04-24T17:48:59.912484Z"
    },
    "id": "ESurMoQXCNdA",
    "papermill": {
     "duration": 0.038876,
     "end_time": "2023-04-24T17:48:59.915794",
     "exception": false,
     "start_time": "2023-04-24T17:48:59.876918",
     "status": "completed"
    },
    "tags": []
   },
   "outputs": [],
   "source": [
    "# Construct two triangles with three given, equal side lengths\n",
    "T1 = Triangle.SSS(3,4,5)\n",
    "T2 = Triangle.SSS(3,4,5)"
   ]
  },
  {
   "cell_type": "code",
   "execution_count": 41,
   "id": "33266640",
   "metadata": {
    "execution": {
     "iopub.execute_input": "2023-04-24T17:48:59.976120Z",
     "iopub.status.busy": "2023-04-24T17:48:59.975061Z",
     "iopub.status.idle": "2023-04-24T17:48:59.982264Z",
     "shell.execute_reply": "2023-04-24T17:48:59.980995Z"
    },
    "id": "PUfLIBm-CNdA",
    "outputId": "0cdc9a02-97b9-449e-c0cf-cc7a28cc4eb3",
    "papermill": {
     "duration": 0.039769,
     "end_time": "2023-04-24T17:48:59.984628",
     "exception": false,
     "start_time": "2023-04-24T17:48:59.944859",
     "status": "completed"
    },
    "tags": []
   },
   "outputs": [
    {
     "name": "stdout",
     "output_type": "stream",
     "text": [
      "Angles of both triangles are equal when base and two sides equal, the very thing it was required to do.\n"
     ]
    }
   ],
   "source": [
    "prop8_cond = T1.gamma == T2.gamma and T1.alpha == T2.alpha and T1.beta == T2.beta\n",
    "if prop8_cond:\n",
    "  print(\"Angles of both triangles are equal when base and two sides equal, the very thing it was required to do.\")"
   ]
  },
  {
   "cell_type": "markdown",
   "id": "9d184011",
   "metadata": {
    "id": "KxIWfrTHCNdB",
    "papermill": {
     "duration": 0.029449,
     "end_time": "2023-04-24T17:49:00.044053",
     "exception": false,
     "start_time": "2023-04-24T17:49:00.014604",
     "status": "completed"
    },
    "tags": []
   },
   "source": [
    "# Proposition 9\n",
    "\n",
    "**To cut a given rectilinear angle in half**"
   ]
  },
  {
   "cell_type": "code",
   "execution_count": 42,
   "id": "9add10a6",
   "metadata": {
    "execution": {
     "iopub.execute_input": "2023-04-24T17:49:00.105561Z",
     "iopub.status.busy": "2023-04-24T17:49:00.105167Z",
     "iopub.status.idle": "2023-04-24T17:49:00.115888Z",
     "shell.execute_reply": "2023-04-24T17:49:00.114483Z"
    },
    "id": "ZKmFUahZCNdB",
    "outputId": "920a8c04-bc99-4527-d1ba-4be549ef0b1d",
    "papermill": {
     "duration": 0.044148,
     "end_time": "2023-04-24T17:49:00.118367",
     "exception": false,
     "start_time": "2023-04-24T17:49:00.074219",
     "status": "completed"
    },
    "tags": []
   },
   "outputs": [
    {
     "name": "stdout",
     "output_type": "stream",
     "text": [
      "AE == AD True\n",
      "Angles DAF == EAF, the very thing it was required to do.\n"
     ]
    }
   ],
   "source": [
    "#Let BAC be the given rectilinear angle. \n",
    "BAC = Rectilinear(2.0, 30.0, 2.0)\n",
    "#Let the point D have been taken at random on AB\n",
    "D = BAC.b.random_point(seed=10)\n",
    "#Let AE, equal to AD, have been cut off from AC\n",
    "AD = Line2E(BAC.C, D)\n",
    "AE = prop_3(AD, BAC.a)\n",
    "E = AE.p2\n",
    "#Let DE have been joined\n",
    "DE = Line2E(D, E)\n",
    "#Let the equilateral Triangle DEF have been constructed upon DE\n",
    "DEF = draw_equilateral(DE, direction=-1)\n",
    "#Let AF have been joined\n",
    "AF = Line2E(BAC.C, DEF.C)\n",
    "print(\"AE == AD\", AE.__len__() == AD.__len__())\n",
    "#Since AE == AD, and AF common between them, and DEF is an equiliateral triangle, DF == EF by Prop 8\n",
    "\n",
    "#Angle DAF == EAF\n",
    "prop9_cond = angle_btw_lines(BAC.b, AF) == angle_btw_lines(AF, BAC.a) == 30.0/2\n",
    "if prop9_cond:\n",
    "  print(\"Angles DAF == EAF, the very thing it was required to do.\")"
   ]
  },
  {
   "cell_type": "code",
   "execution_count": 43,
   "id": "b779824e",
   "metadata": {
    "_kg_hide-input": true,
    "execution": {
     "iopub.execute_input": "2023-04-24T17:49:00.179854Z",
     "iopub.status.busy": "2023-04-24T17:49:00.179460Z",
     "iopub.status.idle": "2023-04-24T17:49:00.498087Z",
     "shell.execute_reply": "2023-04-24T17:49:00.497025Z"
    },
    "id": "aw3dfxeVw5zO",
    "outputId": "cfb8adca-b061-431d-eae2-ad03e5992ac9",
    "papermill": {
     "duration": 0.351837,
     "end_time": "2023-04-24T17:49:00.500454",
     "exception": false,
     "start_time": "2023-04-24T17:49:00.148617",
     "status": "completed"
    },
    "tags": []
   },
   "outputs": [
    {
     "data": {
      "image/png": "[encoded data removed]",
      "text/plain": [
       "<Figure size 640x480 with 1 Axes>"
      ]
     },
     "metadata": {},
     "output_type": "display_data"
    }
   ],
   "source": [
    "plot_2d([BAC.a, BAC.b, DEF, AF], names=['BA', 'AC', 'DEF', 'AF'], annotate=False, title='Proposition 9')"
   ]
  },
  {
   "cell_type": "code",
   "execution_count": 44,
   "id": "f6a19cf4",
   "metadata": {
    "execution": {
     "iopub.execute_input": "2023-04-24T17:49:00.563227Z",
     "iopub.status.busy": "2023-04-24T17:49:00.562813Z",
     "iopub.status.idle": "2023-04-24T17:49:00.569550Z",
     "shell.execute_reply": "2023-04-24T17:49:00.568436Z"
    },
    "id": "Nx6_us4vdFfY",
    "papermill": {
     "duration": 0.040721,
     "end_time": "2023-04-24T17:49:00.572001",
     "exception": false,
     "start_time": "2023-04-24T17:49:00.531280",
     "status": "completed"
    },
    "tags": []
   },
   "outputs": [],
   "source": [
    "def half_angle_prop9(a: Line2E, b: Line2E):\n",
    "  \"\"\"\n",
    "  Given two intersecting lines, cuts angle between them in half using propsition 9\n",
    "  \"\"\"\n",
    "  D = b.random_point(seed=10)\n",
    "  C = get_common_point(a, b)\n",
    "  if C is None:\n",
    "    raise ValueError(\"Lines given do not have points in common\")\n",
    "  CD = Line2E(C, D)\n",
    "  CE = prop_3(CD, a)\n",
    "  E = CE.p2\n",
    "  DE = Line2E(D, E)\n",
    "  DEF = draw_equilateral(DE, direction=-1)\n",
    "  AF = Line2E(C, DEF.C)\n",
    "  return AF"
   ]
  },
  {
   "cell_type": "markdown",
   "id": "72984b65",
   "metadata": {
    "id": "ab3UiIy3CNdB",
    "papermill": {
     "duration": 0.029866,
     "end_time": "2023-04-24T17:49:00.631757",
     "exception": false,
     "start_time": "2023-04-24T17:49:00.601891",
     "status": "completed"
    },
    "tags": []
   },
   "source": [
    "# Proposition 10\n",
    "\n",
    "**To cut a given finite straight-line in half**"
   ]
  },
  {
   "cell_type": "code",
   "execution_count": 45,
   "id": "fe5cee12",
   "metadata": {
    "execution": {
     "iopub.execute_input": "2023-04-24T17:49:00.693727Z",
     "iopub.status.busy": "2023-04-24T17:49:00.693337Z",
     "iopub.status.idle": "2023-04-24T17:49:00.703981Z",
     "shell.execute_reply": "2023-04-24T17:49:00.702876Z"
    },
    "id": "6Ui1L4sbCNdB",
    "outputId": "acd4bb42-bfb0-4695-f6b6-61b51df75ede",
    "papermill": {
     "duration": 0.045111,
     "end_time": "2023-04-24T17:49:00.707020",
     "exception": false,
     "start_time": "2023-04-24T17:49:00.661909",
     "status": "completed"
    },
    "tags": []
   },
   "outputs": [
    {
     "name": "stdout",
     "output_type": "stream",
     "text": [
      "AB has been cut in half by point D, the very thing it was required to do.\n"
     ]
    }
   ],
   "source": [
    "#Let AB be the given finite straight-line.\n",
    "AB = Line2E(Point2(0.0, 0.0), Point2(2.0, 0.0))\n",
    "#Let the equilateral triangle ABC have been constructed upon AB\n",
    "ABC = draw_equilateral(AB)\n",
    "#Let the angle ACB be cut in half by the line CD (Prop 9)\n",
    "CD = half_angle_prop9(ABC.a, ABC.b)\n",
    "\n",
    "#Extend line and intersect for convenience\n",
    "F = extend_line(CD.p1, CD.p2, ABC.a.__len__())\n",
    "D = Line2E(ABC.C, F).intersect(AB)\n",
    "line = Line2E(ABC.C, D)\n",
    "\n",
    "#Claim: AB has been cut in half by point D\n",
    "AD = Line2E(ABC.A, D)\n",
    "DB = Line2E(D, ABC.B)\n",
    "prop10_cond = AD.__len__() == DB.__len__() and angle_btw_lines(line, ABC.a) == angle_btw_lines(line, ABC.b)\n",
    "if prop10_cond:\n",
    "  print(\"AB has been cut in half by point D, the very thing it was required to do.\")"
   ]
  },
  {
   "cell_type": "code",
   "execution_count": 46,
   "id": "63842de6",
   "metadata": {
    "_kg_hide-input": true,
    "execution": {
     "iopub.execute_input": "2023-04-24T17:49:00.769935Z",
     "iopub.status.busy": "2023-04-24T17:49:00.769502Z",
     "iopub.status.idle": "2023-04-24T17:49:01.064781Z",
     "shell.execute_reply": "2023-04-24T17:49:01.063610Z"
    },
    "id": "ql-FPlAqfQyu",
    "outputId": "4214e9ba-60ee-4a01-8637-7b806523bdf2",
    "papermill": {
     "duration": 0.329627,
     "end_time": "2023-04-24T17:49:01.067337",
     "exception": false,
     "start_time": "2023-04-24T17:49:00.737710",
     "status": "completed"
    },
    "tags": []
   },
   "outputs": [
    {
     "data": {
      "image/png": "[encoded data removed]",
      "text/plain": [
       "<Figure size 640x480 with 1 Axes>"
      ]
     },
     "metadata": {},
     "output_type": "display_data"
    }
   ],
   "source": [
    "plot_2d([ABC, line], names=['ABC', 'AD'], annotate=False, title='Proposition 10')"
   ]
  },
  {
   "cell_type": "code",
   "execution_count": 47,
   "id": "a1202975",
   "metadata": {
    "execution": {
     "iopub.execute_input": "2023-04-24T17:49:01.133032Z",
     "iopub.status.busy": "2023-04-24T17:49:01.131831Z",
     "iopub.status.idle": "2023-04-24T17:49:01.139128Z",
     "shell.execute_reply": "2023-04-24T17:49:01.138181Z"
    },
    "id": "XNiBRgDjCNdC",
    "papermill": {
     "duration": 0.041507,
     "end_time": "2023-04-24T17:49:01.141513",
     "exception": false,
     "start_time": "2023-04-24T17:49:01.100006",
     "status": "completed"
    },
    "tags": []
   },
   "outputs": [],
   "source": [
    "def cut_line_in_half_prop_10(line: Line2E):\n",
    "  \"\"\"\n",
    "  Uses algorithm developed in proposition 10 to cut a given line in half\n",
    "  \"\"\"\n",
    "  ABC = draw_equilateral(line)\n",
    "  CD = half_angle_prop9(ABC.a, ABC.b)\n",
    "\n",
    "  F = extend_line(CD.p1, CD.p2, ABC.a.__len__())\n",
    "  D = Line2E(ABC.C, F).intersect(line)\n",
    "  line = Line2E(ABC.C, D)\n",
    "\n",
    "  BD = Line2E(ABC.A, D)\n",
    "  DA = Line2E(D, ABC.B)\n",
    "  return BD, DA"
   ]
  },
  {
   "cell_type": "markdown",
   "id": "c6304818",
   "metadata": {
    "id": "1oZw0CFVCNdC",
    "papermill": {
     "duration": 0.030326,
     "end_time": "2023-04-24T17:49:01.202568",
     "exception": false,
     "start_time": "2023-04-24T17:49:01.172242",
     "status": "completed"
    },
    "tags": []
   },
   "source": [
    "# Proposition 11\n",
    "\n",
    "**To draw a straight-line at right-angles to a given straight-line from a given point on it.**"
   ]
  },
  {
   "cell_type": "code",
   "execution_count": 48,
   "id": "338461b7",
   "metadata": {
    "execution": {
     "iopub.execute_input": "2023-04-24T17:49:01.266024Z",
     "iopub.status.busy": "2023-04-24T17:49:01.265578Z",
     "iopub.status.idle": "2023-04-24T17:49:01.276271Z",
     "shell.execute_reply": "2023-04-24T17:49:01.275025Z"
    },
    "id": "vOpjCAuSCNdC",
    "outputId": "050432ed-af0e-4a8e-c285-6f7540f3fd06",
    "papermill": {
     "duration": 0.04543,
     "end_time": "2023-04-24T17:49:01.278807",
     "exception": false,
     "start_time": "2023-04-24T17:49:01.233377",
     "status": "completed"
    },
    "tags": []
   },
   "outputs": [
    {
     "name": "stdout",
     "output_type": "stream",
     "text": [
      "The line CF has been drawn at a right angle to AB, the very thing it was required to do.\n"
     ]
    }
   ],
   "source": [
    "#Let AB be straight line\n",
    "A = Point2(0.0, 0.0)\n",
    "B = Point2(2.0, 0.0)\n",
    "AB = Line2E(A, B)\n",
    "#C given point on the line\n",
    "C = Point2(1.0, 0.0)\n",
    "#Pick D at random on AC\n",
    "AC = Line2E(A, C)\n",
    "CB = Line2E(C, B)\n",
    "D = AC.random_point(seed=25)\n",
    "CD = Line2E(C, D)\n",
    "#Let CE be equal to CD\n",
    "CE = prop_3(CB, CD)\n",
    "DE = Line2E(D, CE.p2)\n",
    "#Extract E\n",
    "FDE = draw_equilateral(DE)\n",
    "#take point F, draw down to C\n",
    "F = FDE.C\n",
    "FC = Line2E(F, C)\n",
    "#Required to draw straight-line from the point C at right angle\n",
    "prop11_cond = angle_btw_lines(FC, CE) == angle_btw_lines(FC, CD) == 90.0\n",
    "if prop11_cond:\n",
    "    print(\"The line CF has been drawn at a right angle to AB, the very thing it was required to do.\")"
   ]
  },
  {
   "cell_type": "code",
   "execution_count": 49,
   "id": "84ba9f73",
   "metadata": {
    "_kg_hide-input": true,
    "execution": {
     "iopub.execute_input": "2023-04-24T17:49:01.344598Z",
     "iopub.status.busy": "2023-04-24T17:49:01.343733Z",
     "iopub.status.idle": "2023-04-24T17:49:01.630983Z",
     "shell.execute_reply": "2023-04-24T17:49:01.629765Z"
    },
    "id": "9wh5sGwo_Kvb",
    "outputId": "4e721584-c108-4465-fe2f-c83f06e9c82b",
    "papermill": {
     "duration": 0.322895,
     "end_time": "2023-04-24T17:49:01.633442",
     "exception": false,
     "start_time": "2023-04-24T17:49:01.310547",
     "status": "completed"
    },
    "tags": []
   },
   "outputs": [
    {
     "data": {
      "image/png": "[encoded data removed]",
      "text/plain": [
       "<Figure size 640x480 with 1 Axes>"
      ]
     },
     "metadata": {},
     "output_type": "display_data"
    }
   ],
   "source": [
    "plot_2d([AB, FDE, FC], names=['AB', 'FDE', 'FC'], annotate=False, title='Proposition 11')"
   ]
  },
  {
   "cell_type": "code",
   "execution_count": 50,
   "id": "4696a985",
   "metadata": {
    "execution": {
     "iopub.execute_input": "2023-04-24T17:49:01.698708Z",
     "iopub.status.busy": "2023-04-24T17:49:01.698065Z",
     "iopub.status.idle": "2023-04-24T17:49:01.705386Z",
     "shell.execute_reply": "2023-04-24T17:49:01.704571Z"
    },
    "id": "AP7pEIXaAcOM",
    "papermill": {
     "duration": 0.042643,
     "end_time": "2023-04-24T17:49:01.707626",
     "exception": false,
     "start_time": "2023-04-24T17:49:01.664983",
     "status": "completed"
    },
    "tags": []
   },
   "outputs": [],
   "source": [
    "def draw_perpendicular_prop11(AB: Line2E):\n",
    "  \"\"\"\n",
    "  Draw perpendicular line to AB, as done in prop 11\n",
    "  \"\"\"\n",
    "  A = AB.p1\n",
    "  B = AB.p2\n",
    "  AB_2, _ = cut_line_in_half_prop_10(AB) # find midpoint using prop 10\n",
    "  C = AB_2.p2\n",
    "  #Pick D at random on AC\n",
    "  AC = Line2E(A, C)\n",
    "  CB = Line2E(C, B)\n",
    "  D = AC.random_point()\n",
    "  CD = Line2E(C, D)\n",
    "  #Let CE be equal to CD\n",
    "  CE = prop_3(CB, CD)\n",
    "  DE = Line2E(D, CE.p2)\n",
    "  #Extract E\n",
    "  FDE = draw_equilateral(DE)\n",
    "  #take point F, draw down to C\n",
    "  F = FDE.C\n",
    "  FC = Line2E(F, C)\n",
    "  return FC"
   ]
  },
  {
   "cell_type": "markdown",
   "id": "92a8123f",
   "metadata": {
    "id": "JIphiIrnCNdC",
    "papermill": {
     "duration": 0.030682,
     "end_time": "2023-04-24T17:49:01.769449",
     "exception": false,
     "start_time": "2023-04-24T17:49:01.738767",
     "status": "completed"
    },
    "tags": []
   },
   "source": [
    "\n",
    "# Proposition 12\n",
    "\n",
    "**To draw a straight-line perpendicular to a given infite straight-line from a given point which is not on it.**"
   ]
  },
  {
   "cell_type": "code",
   "execution_count": 51,
   "id": "a17e4349",
   "metadata": {
    "execution": {
     "iopub.execute_input": "2023-04-24T17:49:01.835095Z",
     "iopub.status.busy": "2023-04-24T17:49:01.834427Z",
     "iopub.status.idle": "2023-04-24T17:49:01.845772Z",
     "shell.execute_reply": "2023-04-24T17:49:01.844559Z"
    },
    "id": "BXUX5iULCNdD",
    "outputId": "894fc952-5aeb-4969-b046-d902ab296b50",
    "papermill": {
     "duration": 0.047661,
     "end_time": "2023-04-24T17:49:01.848339",
     "exception": false,
     "start_time": "2023-04-24T17:49:01.800678",
     "status": "completed"
    },
    "tags": []
   },
   "outputs": [
    {
     "name": "stdout",
     "output_type": "stream",
     "text": [
      "The line CH has been drawn at a right angle/perpendicular to AB, the very thing it was required to do.\n"
     ]
    }
   ],
   "source": [
    "#Let AB be the given infinite straight line\n",
    "A = Point2(0.0, 0.0)\n",
    "B = Point2(6.0, 0.0)\n",
    "AB = Line2E(A, B)\n",
    "#Let C be the given point not on AB\n",
    "C = Point2(3.0, 1.0)\n",
    "#Let the point D be taken at random on the other side of AB\n",
    "#Assigning for convenience\n",
    "D = Point2(2.3, -1.0)\n",
    "#Let the circle EFG have been drawn with center C and radius CD\n",
    "EFG = Circle2E(C, C.distance(D))\n",
    "#Let the straight-line EG have been cut in in half at (point) H\n",
    "AH, HB = cut_line_in_half_prop_10(AB)\n",
    "H = AH.p2\n",
    "#Intersections\n",
    "G = EFG.intersect(AB).p1\n",
    "E = EFG.intersect(AB).p2\n",
    "#Let the lines CG, CH, CE have been joined\n",
    "CG = Line2E(C, G)\n",
    "CH = Line2E(C, H)\n",
    "CE = Line2E(C, E)\n",
    "#CH Has been drawn perpendicular to the line AB\n",
    "prop12_cond = angle_btw_lines(CH, AB) == 90.0\n",
    "if prop12_cond:\n",
    "  print(\"The line CH has been drawn at a right angle/perpendicular to AB, the very thing it was required to do.\")"
   ]
  },
  {
   "cell_type": "code",
   "execution_count": 52,
   "id": "89961697",
   "metadata": {
    "_kg_hide-input": true,
    "execution": {
     "iopub.execute_input": "2023-04-24T17:49:01.914958Z",
     "iopub.status.busy": "2023-04-24T17:49:01.914208Z",
     "iopub.status.idle": "2023-04-24T17:49:02.213148Z",
     "shell.execute_reply": "2023-04-24T17:49:02.212120Z"
    },
    "id": "nqUMN7YHBa8c",
    "outputId": "8cffc234-cb99-4d2e-fc45-3ae058b63bb1",
    "papermill": {
     "duration": 0.334822,
     "end_time": "2023-04-24T17:49:02.215603",
     "exception": false,
     "start_time": "2023-04-24T17:49:01.880781",
     "status": "completed"
    },
    "tags": []
   },
   "outputs": [
    {
     "data": {
      "image/png": "[encoded data removed]",
      "text/plain": [
       "<Figure size 640x480 with 1 Axes>"
      ]
     },
     "metadata": {},
     "output_type": "display_data"
    }
   ],
   "source": [
    "plot_2d([AB, EFG, CH, CG, CE], names=['AB', 'EFG', 'CH', 'CG', 'CE'], annotate=False, title='Proposition 12')"
   ]
  },
  {
   "cell_type": "markdown",
   "id": "629bee6e",
   "metadata": {
    "id": "gf-CPQDcCNdD",
    "papermill": {
     "duration": 0.031568,
     "end_time": "2023-04-24T17:49:02.279495",
     "exception": false,
     "start_time": "2023-04-24T17:49:02.247927",
     "status": "completed"
    },
    "tags": []
   },
   "source": [
    "# Proposition 13\n",
    "\n",
    "**If a straight-line stood on another straight-line makes angles, it will certainly either make two right angles or angle whose sum is equal to two right angles.**"
   ]
  },
  {
   "cell_type": "code",
   "execution_count": 53,
   "id": "96879b5d",
   "metadata": {
    "execution": {
     "iopub.execute_input": "2023-04-24T17:49:02.346514Z",
     "iopub.status.busy": "2023-04-24T17:49:02.346108Z",
     "iopub.status.idle": "2023-04-24T17:49:02.357884Z",
     "shell.execute_reply": "2023-04-24T17:49:02.356666Z"
    },
    "id": "xlAkcQv0dvG0",
    "outputId": "9e233134-04fa-4874-8757-a946122a93fa",
    "papermill": {
     "duration": 0.049473,
     "end_time": "2023-04-24T17:49:02.360774",
     "exception": false,
     "start_time": "2023-04-24T17:49:02.311301",
     "status": "completed"
    },
    "tags": []
   },
   "outputs": [
    {
     "name": "stdout",
     "output_type": "stream",
     "text": [
      "\n",
      "  The straight line AB stood on another line DC will either make two right angles or angles that sum to two right angles, \n",
      "  the very thing it was required to do.\n",
      "  \n"
     ]
    }
   ],
   "source": [
    "#Let some straight line AB stood on the straight-line CD make the angles CBA and ABD\n",
    "A = Point2(0.5, 0.5)\n",
    "B = Point2(0.0, 0.0)\n",
    "AB = Line2E(A, B)\n",
    "C = Point2(1.0, 0.0)\n",
    "D = Point2(-1.0, 0.0)\n",
    "DC = Line2E(D, C)\n",
    "CBA = angle_btw_lines(Line2E(B, C), AB)\n",
    "ABD = angle_btw_lines(Line2E(D, B), AB)\n",
    "#By prop 10, if angles are equal then they are right angles, if not\n",
    "#Let BE be drawn perpendicular by prop 11\n",
    "BE = draw_perpendicular_prop11(DC)\n",
    "EBD = angle_btw_lines(Line2E(D, B), BE)\n",
    "ABE = angle_btw_lines(AB, BE)\n",
    "prop13_cond = (CBA + ABD) == 180.0 and (EBD + ABE + CBA) == 180.0\n",
    "if prop13_cond:\n",
    "    print(\"\"\"\n",
    "  The straight line AB stood on another line DC will either make two right angles or angles that sum to two right angles, \n",
    "  the very thing it was required to do.\n",
    "  \"\"\")"
   ]
  },
  {
   "cell_type": "code",
   "execution_count": 54,
   "id": "99d9e110",
   "metadata": {
    "_kg_hide-input": true,
    "execution": {
     "iopub.execute_input": "2023-04-24T17:49:02.428274Z",
     "iopub.status.busy": "2023-04-24T17:49:02.427856Z",
     "iopub.status.idle": "2023-04-24T17:49:02.705173Z",
     "shell.execute_reply": "2023-04-24T17:49:02.704273Z"
    },
    "id": "Hp-7g2Nggl3C",
    "outputId": "693bb15b-c4ad-4eca-d476-be22a800dd49",
    "papermill": {
     "duration": 0.314549,
     "end_time": "2023-04-24T17:49:02.707469",
     "exception": false,
     "start_time": "2023-04-24T17:49:02.392920",
     "status": "completed"
    },
    "tags": []
   },
   "outputs": [
    {
     "data": {
      "image/png": "[encoded data removed]",
      "text/plain": [
       "<Figure size 640x480 with 1 Axes>"
      ]
     },
     "metadata": {},
     "output_type": "display_data"
    }
   ],
   "source": [
    "plot_2d([DC, BE, AB], names=['CD', 'BE', 'AB'], annotate=False, title='Proposition 13')"
   ]
  },
  {
   "cell_type": "markdown",
   "id": "81809ae0",
   "metadata": {
    "id": "rHrOzgM7CNdD",
    "papermill": {
     "duration": 0.031969,
     "end_time": "2023-04-24T17:49:02.771784",
     "exception": false,
     "start_time": "2023-04-24T17:49:02.739815",
     "status": "completed"
    },
    "tags": []
   },
   "source": [
    "# Proposition 14\n",
    "\n",
    "**If two straight-lines, not lying on the same side, make adjacent angles, whose sum is equal to two right angles with some straight-line, at a point on it, then the two straight-lines will be straight-on with respect to one another.**"
   ]
  },
  {
   "cell_type": "code",
   "execution_count": 55,
   "id": "5c763d9e",
   "metadata": {
    "execution": {
     "iopub.execute_input": "2023-04-24T17:49:02.838807Z",
     "iopub.status.busy": "2023-04-24T17:49:02.838194Z",
     "iopub.status.idle": "2023-04-24T17:49:02.848055Z",
     "shell.execute_reply": "2023-04-24T17:49:02.846764Z"
    },
    "id": "Y0fO4RYoCNdE",
    "outputId": "1fa9d254-98d6-440e-c103-14640d33d697",
    "papermill": {
     "duration": 0.046495,
     "end_time": "2023-04-24T17:49:02.850574",
     "exception": false,
     "start_time": "2023-04-24T17:49:02.804079",
     "status": "completed"
    },
    "tags": []
   },
   "outputs": [
    {
     "name": "stdout",
     "output_type": "stream",
     "text": [
      "Consistent of common notion 3, the lesser cannot equal the greater. CB is straight with and only straight with BD.\n"
     ]
    }
   ],
   "source": [
    "#Create BC and BD\n",
    "B = Point2(0.5, 0.0)\n",
    "C = Point2(0.0, 0.0)\n",
    "D = Point2(1.0, 0.0)\n",
    "CB = Line2E(C, B)\n",
    "BD = Line2E(B, D)\n",
    "#Create AB\n",
    "A = Point2(0.0, 0.5)\n",
    "AB = Line2E(A, B)\n",
    "#Create EB\n",
    "E = Point2(1.0, 0.5)\n",
    "EB = Line2E(E, B)\n",
    "#Create Angles\n",
    "CBA = angle_btw_lines(CB, AB)\n",
    "ABE = angle_btw_lines(AB, BE)\n",
    "EBD = angle_btw_lines(EB, BD)\n",
    "ABD = angle_btw_lines(AB, BD)\n",
    "#Assume AB stands on the 'straight line' CBE\n",
    "#We have by prop 13\n",
    "CBE_angle = CBA + ABE\n",
    "#CBE_angle must be 180\n",
    "CBD_angle = CBA + ABD\n",
    "#But CBD must also be 180\n",
    "#Subtract CBA to have ABE = ABD\n",
    "prop14_cond = ABE != ABD\n",
    "if prop14_cond:\n",
    "  print(\"Consistent of common notion 3, the lesser cannot equal the greater. CB is straight with and only straight with BD.\")"
   ]
  },
  {
   "cell_type": "code",
   "execution_count": 56,
   "id": "1168f033",
   "metadata": {
    "_kg_hide-input": true,
    "execution": {
     "iopub.execute_input": "2023-04-24T17:49:02.918282Z",
     "iopub.status.busy": "2023-04-24T17:49:02.917833Z",
     "iopub.status.idle": "2023-04-24T17:49:03.166744Z",
     "shell.execute_reply": "2023-04-24T17:49:03.165896Z"
    },
    "id": "xQ59s7csjmVl",
    "outputId": "0b8a9a4b-9151-47d6-8ba8-4dbf18511edc",
    "papermill": {
     "duration": 0.285886,
     "end_time": "2023-04-24T17:49:03.169455",
     "exception": false,
     "start_time": "2023-04-24T17:49:02.883569",
     "status": "completed"
    },
    "tags": []
   },
   "outputs": [
    {
     "data": {
      "image/png": "[encoded data removed]",
      "text/plain": [
       "<Figure size 640x480 with 1 Axes>"
      ]
     },
     "metadata": {},
     "output_type": "display_data"
    }
   ],
   "source": [
    "plot_2d([CB, BD, AB, EB], names=['CB', 'BD', 'AB', 'EB'], annotate=False, title='Proposition 14')"
   ]
  },
  {
   "cell_type": "markdown",
   "id": "62ca74f9",
   "metadata": {
    "id": "ZthutazlCNdE",
    "papermill": {
     "duration": 0.03238,
     "end_time": "2023-04-24T17:49:03.234889",
     "exception": false,
     "start_time": "2023-04-24T17:49:03.202509",
     "status": "completed"
    },
    "tags": []
   },
   "source": [
    "# Proposition 15\n",
    "\n",
    "**If two straight-lines cut one another then they make the vertically opposite angles equal to one another.**"
   ]
  },
  {
   "cell_type": "code",
   "execution_count": 57,
   "id": "e8659b99",
   "metadata": {
    "execution": {
     "iopub.execute_input": "2023-04-24T17:49:03.302201Z",
     "iopub.status.busy": "2023-04-24T17:49:03.301621Z",
     "iopub.status.idle": "2023-04-24T17:49:03.312449Z",
     "shell.execute_reply": "2023-04-24T17:49:03.311353Z"
    },
    "id": "mAFWSd6yCNdE",
    "outputId": "5d0d4473-6807-455b-e3cc-19c93c38680f",
    "papermill": {
     "duration": 0.047453,
     "end_time": "2023-04-24T17:49:03.315083",
     "exception": false,
     "start_time": "2023-04-24T17:49:03.267630",
     "status": "completed"
    },
    "tags": []
   },
   "outputs": [
    {
     "name": "stdout",
     "output_type": "stream",
     "text": [
      "DEB + AED = 180.0 True\n",
      "CEA + AED = 180.0 True\n",
      "The vertically opposite angles CEA and DEB are equal, the very thing it was required to do.\n"
     ]
    }
   ],
   "source": [
    "#Let two straight-lines AB and CD cut one another at point E\n",
    "A = Point2(0.0, 1.0)\n",
    "B = Point2(1.0, -1.0)\n",
    "AB = Line2E(A, B)\n",
    "C = Point2(0.0, 0.0)\n",
    "D = Point2(1.0, 0.0)\n",
    "CD = Line2E(C, D)\n",
    "E = AB.intersect(CD)\n",
    "#\n",
    "CEA = angle_btw_lines(Line2E(C, E), Line2E(A, E))\n",
    "AED = angle_btw_lines(Line2E(D, E), Line2E(A, E))\n",
    "DEB = angle_btw_lines(Line2E(D, E), Line2E(B, E))\n",
    "#ED intersects AB and must have both angles sum to two right angles\n",
    "print(\"DEB + AED = 180.0\", CEA + AED == 180.0)\n",
    "#But CEA and AED must also sum to two right angles\n",
    "print(\"CEA + AED = 180.0\", CEA + AED == 180.0)\n",
    "#Subtract AED from both equations\n",
    "prop15_cond = (CEA+AED - AED) == (DEB+AED - AED)\n",
    "if prop15_cond:\n",
    "  print(\"The vertically opposite angles CEA and DEB are equal, the very thing it was required to do.\")"
   ]
  },
  {
   "cell_type": "code",
   "execution_count": 58,
   "id": "1f7a2cef",
   "metadata": {
    "_kg_hide-input": true,
    "execution": {
     "iopub.execute_input": "2023-04-24T17:49:03.384739Z",
     "iopub.status.busy": "2023-04-24T17:49:03.383608Z",
     "iopub.status.idle": "2023-04-24T17:49:03.575923Z",
     "shell.execute_reply": "2023-04-24T17:49:03.574967Z"
    },
    "id": "eOYiBOm_Gj89",
    "outputId": "cbbccc7c-52e5-4153-a5fb-bd979b25057f",
    "papermill": {
     "duration": 0.230055,
     "end_time": "2023-04-24T17:49:03.578280",
     "exception": false,
     "start_time": "2023-04-24T17:49:03.348225",
     "status": "completed"
    },
    "tags": []
   },
   "outputs": [
    {
     "data": {
      "image/png": "[encoded data removed]",
      "text/plain": [
       "<Figure size 640x480 with 1 Axes>"
      ]
     },
     "metadata": {},
     "output_type": "display_data"
    }
   ],
   "source": [
    "plot_2d([AB, CD, E], names=['AB', 'CD', 'E'], annotate=False, title='Proposition 15')"
   ]
  },
  {
   "cell_type": "markdown",
   "id": "c107f2d0",
   "metadata": {
    "id": "xn0_rKk-CNdE",
    "papermill": {
     "duration": 0.033906,
     "end_time": "2023-04-24T17:49:03.646006",
     "exception": false,
     "start_time": "2023-04-24T17:49:03.612100",
     "status": "completed"
    },
    "tags": []
   },
   "source": [
    "# Proposition 16 \n",
    "\n",
    "**For any triangle, when one of the sides is produced, the the external angle is greater than each of the internal and opposite angles.**"
   ]
  },
  {
   "cell_type": "markdown",
   "id": "1b2324dc",
   "metadata": {
    "id": "_XVVrfZPjIXj",
    "papermill": {
     "duration": 0.032838,
     "end_time": "2023-04-24T17:49:03.712554",
     "exception": false,
     "start_time": "2023-04-24T17:49:03.679716",
     "status": "completed"
    },
    "tags": []
   },
   "source": [
    "This proposition states that when one side of the triangle is extended, the external angle is greater than each of the non-adjacent angles. So in this example, angle alpha and gamma should each be less than the external angle."
   ]
  },
  {
   "cell_type": "code",
   "execution_count": 59,
   "id": "87f3299e",
   "metadata": {
    "execution": {
     "iopub.execute_input": "2023-04-24T17:49:03.781174Z",
     "iopub.status.busy": "2023-04-24T17:49:03.780220Z",
     "iopub.status.idle": "2023-04-24T17:49:03.793181Z",
     "shell.execute_reply": "2023-04-24T17:49:03.791729Z"
    },
    "id": "j8LRTi7_IkUZ",
    "outputId": "39e95468-66be-4709-d3fd-d67e88fda94c",
    "papermill": {
     "duration": 0.049723,
     "end_time": "2023-04-24T17:49:03.795547",
     "exception": false,
     "start_time": "2023-04-24T17:49:03.745824",
     "status": "completed"
    },
    "tags": []
   },
   "outputs": [
    {
     "name": "stdout",
     "output_type": "stream",
     "text": [
      "When one side extended, the external angle is greater than each of the non-adjacent angles, the very thing it was required to do.\n"
     ]
    }
   ],
   "source": [
    "#Let ABC be a triangle, let one of its sides BC extend to D\n",
    "B = Point2(0.0, 0.0)\n",
    "C = Point2(1.0, 0.0)\n",
    "BC = Line2E(B, C)\n",
    "ABC = draw_equilateral(BC)\n",
    "D = Point2(2.0, 0.0)\n",
    "BD = Line2E(ABC.B, D)\n",
    "#Let the line AC be cut in half at the point E by prop 10\n",
    "AE, EC = cut_line_in_half_prop_10(ABC.a)\n",
    "E = AE.p2\n",
    "#And BE being joined, let it be extended to point F\n",
    "BE = Line2E(B, E)\n",
    "F = extend_line(B, E, 2.0)\n",
    "#Let EF be made equal to BE (prop 3)\n",
    "EF_long = Line2E(E, F)\n",
    "EF = prop_3(EF_long, BE)\n",
    "#Let FC have been joined\n",
    "FC = Line2E(F, C)\n",
    "#Let AC have been drawn through point G\n",
    "G = extend_line(ABC.C, C, 0.5)\n",
    "CG = Line2E(ABC.B, G) \n",
    "ACD = angle_btw_lines(ABC.a, Line2E(C,D))\n",
    "prop16_cond = ABC.gamma < ACD and ABC.alpha < ACD\n",
    "if prop16_cond:\n",
    "  print(\"When one side extended, the external angle is greater than each of the non-adjacent angles, the very thing it was required to do.\")"
   ]
  },
  {
   "cell_type": "code",
   "execution_count": 60,
   "id": "bc4cba4e",
   "metadata": {
    "_kg_hide-input": true,
    "execution": {
     "iopub.execute_input": "2023-04-24T17:49:03.864895Z",
     "iopub.status.busy": "2023-04-24T17:49:03.863729Z",
     "iopub.status.idle": "2023-04-24T17:49:04.075289Z",
     "shell.execute_reply": "2023-04-24T17:49:04.074106Z"
    },
    "id": "eucK_B8QI25p",
    "outputId": "d3ca3e55-db16-4956-a6bf-89295dbfa968",
    "papermill": {
     "duration": 0.24886,
     "end_time": "2023-04-24T17:49:04.077700",
     "exception": false,
     "start_time": "2023-04-24T17:49:03.828840",
     "status": "completed"
    },
    "tags": []
   },
   "outputs": [
    {
     "data": {
      "image/png": "[encoded data removed]",
      "text/plain": [
       "<Figure size 640x480 with 1 Axes>"
      ]
     },
     "metadata": {},
     "output_type": "display_data"
    }
   ],
   "source": [
    "plot_2d([ABC, BD, AE, EF, BE, CG], names=['ABC', 'BD', 'AB', 'EB', 'BE', 'CG'], annotate=False, title='Proposition 16')"
   ]
  },
  {
   "cell_type": "markdown",
   "id": "860b1625",
   "metadata": {
    "id": "grYGMer9CNdE",
    "papermill": {
     "duration": 0.033888,
     "end_time": "2023-04-24T17:49:04.146141",
     "exception": false,
     "start_time": "2023-04-24T17:49:04.112253",
     "status": "completed"
    },
    "tags": []
   },
   "source": [
    "# Proposition 17 \n",
    "\n",
    "**For any triangle, the sum of two angles taken together in any possible way is less than two right-angles.**\n",
    "\n",
    "This proposition should be a consequence of the methods of constructing triangles, not an algorithm for simplifying a process going forward. The proof here is just a unit test of Triangle construction."
   ]
  },
  {
   "cell_type": "code",
   "execution_count": 61,
   "id": "aa35e8bc",
   "metadata": {
    "execution": {
     "iopub.execute_input": "2023-04-24T17:49:04.216627Z",
     "iopub.status.busy": "2023-04-24T17:49:04.215433Z",
     "iopub.status.idle": "2023-04-24T17:49:04.223561Z",
     "shell.execute_reply": "2023-04-24T17:49:04.222503Z"
    },
    "id": "sIY8nfn1CNdF",
    "outputId": "e3d2f3f0-56bb-4313-c67f-5f30b8b7c24b",
    "papermill": {
     "duration": 0.045438,
     "end_time": "2023-04-24T17:49:04.225649",
     "exception": false,
     "start_time": "2023-04-24T17:49:04.180211",
     "status": "completed"
    },
    "tags": []
   },
   "outputs": [
    {
     "name": "stdout",
     "output_type": "stream",
     "text": [
      "All angles summed in every possible way are less than two right angles, the very thing it was required to do.\n"
     ]
    }
   ],
   "source": [
    "#Let ABC be a triangle\n",
    "ABC = Triangle.SSS(3, 4, 5)\n",
    "gb = ABC.gamma + ABC.beta < 180.0\n",
    "ga = ABC.gamma + ABC.alpha < 180.0\n",
    "ba = ABC.beta + ABC.alpha < 180.0\n",
    "prop17_cond = gb and ga and ba\n",
    "if prop17_cond:\n",
    "  print(\"All angles summed in every possible way are less than two right angles, the very thing it was required to do.\")"
   ]
  },
  {
   "cell_type": "markdown",
   "id": "3fff52cc",
   "metadata": {
    "id": "O-9-6BeZCNdF",
    "papermill": {
     "duration": 0.034021,
     "end_time": "2023-04-24T17:49:04.293858",
     "exception": false,
     "start_time": "2023-04-24T17:49:04.259837",
     "status": "completed"
    },
    "tags": []
   },
   "source": [
    "# Proposition 18\n",
    "\n",
    "**In any triangle, the greater side subtends the greater angle.**\n",
    "\n",
    "This proposition is saying that given that one side is greater than the other, the corresponding angles must also hold the same inequality. "
   ]
  },
  {
   "cell_type": "code",
   "execution_count": 62,
   "id": "25f2421e",
   "metadata": {
    "execution": {
     "iopub.execute_input": "2023-04-24T17:49:04.364162Z",
     "iopub.status.busy": "2023-04-24T17:49:04.363360Z",
     "iopub.status.idle": "2023-04-24T17:49:04.370797Z",
     "shell.execute_reply": "2023-04-24T17:49:04.370004Z"
    },
    "id": "ZMDLcyzDCNdF",
    "outputId": "63e56804-f24d-49bc-c22c-664be9886270",
    "papermill": {
     "duration": 0.045046,
     "end_time": "2023-04-24T17:49:04.373012",
     "exception": false,
     "start_time": "2023-04-24T17:49:04.327966",
     "status": "completed"
    },
    "tags": []
   },
   "outputs": [
    {
     "name": "stdout",
     "output_type": "stream",
     "text": [
      "The sides and angles hold the same inequalities, The very thing it was required to do.\n"
     ]
    }
   ],
   "source": [
    "ABC = Triangle.SSS(3, 4, 5)\n",
    "#ENSURE c has the greatest length\n",
    "c_len = ABC.c.__len__() > ABC.b.__len__() and ABC.c.__len__() > ABC.a.__len__()\n",
    "#ENSURE ANGLE OF c (gamma) has greatest magnitude\n",
    "angle_cond = ABC.gamma > ABC.alpha and ABC.gamma > ABC.beta\n",
    "prop18_cond = c_len and angle_cond\n",
    "if prop18_cond:\n",
    "    print(\"The sides and angles hold the same inequalities, The very thing it was required to do.\")"
   ]
  },
  {
   "cell_type": "markdown",
   "id": "18c60c57",
   "metadata": {
    "id": "HLd6kxZhCNdF",
    "papermill": {
     "duration": 0.033857,
     "end_time": "2023-04-24T17:49:04.441160",
     "exception": false,
     "start_time": "2023-04-24T17:49:04.407303",
     "status": "completed"
    },
    "tags": []
   },
   "source": [
    "# Proposition 19\n",
    "\n",
    "**In any triangle, the greater angle is subtended by the greater side.**\n",
    "\n",
    "This proposition is saying that given that one angle is greater than another, the corresponding sides must also hold the same inequality."
   ]
  },
  {
   "cell_type": "code",
   "execution_count": 63,
   "id": "0a23fe86",
   "metadata": {
    "execution": {
     "iopub.execute_input": "2023-04-24T17:49:04.512355Z",
     "iopub.status.busy": "2023-04-24T17:49:04.511533Z",
     "iopub.status.idle": "2023-04-24T17:49:04.519321Z",
     "shell.execute_reply": "2023-04-24T17:49:04.518312Z"
    },
    "id": "ysr606g2CNdF",
    "outputId": "82e8f765-9844-43a2-da61-725dc783fb08",
    "papermill": {
     "duration": 0.046259,
     "end_time": "2023-04-24T17:49:04.521547",
     "exception": false,
     "start_time": "2023-04-24T17:49:04.475288",
     "status": "completed"
    },
    "tags": []
   },
   "outputs": [
    {
     "name": "stdout",
     "output_type": "stream",
     "text": [
      "In the given triangles the greater angle is subtended by the greater side, The very thing it was required to do.\n"
     ]
    }
   ],
   "source": [
    "#Let ABC be a triangle with angle ABC creater than BCA (beta greater than gamma)\n",
    "ABC = Triangle.AAA(30.0, 80.0, 70.0)\n",
    "BCA = Triangle.AAA(50.0, 60.0, 70.0)\n",
    "prop19_cond = ABC.c.__len__() < ABC.b.__len__() and BCA.c.__len__() < ABC.b.__len__()\n",
    "if prop19_cond:\n",
    "    print(\"In the given triangles the greater angle is subtended by the greater side, The very thing it was required to do.\")"
   ]
  },
  {
   "cell_type": "markdown",
   "id": "112e8966",
   "metadata": {
    "id": "UR1We0hcCNdF",
    "papermill": {
     "duration": 0.034187,
     "end_time": "2023-04-24T17:49:04.589899",
     "exception": false,
     "start_time": "2023-04-24T17:49:04.555712",
     "status": "completed"
    },
    "tags": []
   },
   "source": [
    "# Proposition 20\n",
    "\n",
    "**In any triangle, the sum of two sides taken together in any possible way is greater than the remaining side.**"
   ]
  },
  {
   "cell_type": "code",
   "execution_count": 64,
   "id": "fc2ad6a4",
   "metadata": {
    "execution": {
     "iopub.execute_input": "2023-04-24T17:49:04.660189Z",
     "iopub.status.busy": "2023-04-24T17:49:04.659780Z",
     "iopub.status.idle": "2023-04-24T17:49:04.667021Z",
     "shell.execute_reply": "2023-04-24T17:49:04.666196Z"
    },
    "id": "pKqh3uX6CNdF",
    "outputId": "f3a4343c-ae29-44e0-f6e0-7171fecdc837",
    "papermill": {
     "duration": 0.045661,
     "end_time": "2023-04-24T17:49:04.669681",
     "exception": false,
     "start_time": "2023-04-24T17:49:04.624020",
     "status": "completed"
    },
    "tags": []
   },
   "outputs": [
    {
     "name": "stdout",
     "output_type": "stream",
     "text": [
      "The sum of any two sides is greater than the remaining side, The very thing it was required to do.\n"
     ]
    }
   ],
   "source": [
    "ABC = Triangle.SSS(3, 4, 5)\n",
    "cb = ABC.c.__len__() + ABC.b.__len__() > ABC.a.__len__()\n",
    "ca = ABC.c.__len__() + ABC.a.__len__() > ABC.b.__len__()\n",
    "ab = ABC.a.__len__() + ABC.b.__len__() > ABC.c.__len__()\n",
    "prop20_cond = cb and ca and ab\n",
    "if prop20_cond:\n",
    "    print(\"The sum of any two sides is greater than the remaining side, The very thing it was required to do.\")"
   ]
  },
  {
   "cell_type": "markdown",
   "id": "b65a99d2",
   "metadata": {
    "id": "wjX5yTdcCNdG",
    "papermill": {
     "duration": 0.034426,
     "end_time": "2023-04-24T17:49:04.739346",
     "exception": false,
     "start_time": "2023-04-24T17:49:04.704920",
     "status": "completed"
    },
    "tags": []
   },
   "source": [
    "# Check All Propositions"
   ]
  },
  {
   "cell_type": "code",
   "execution_count": 65,
   "id": "d5925b80",
   "metadata": {
    "_kg_hide-input": true,
    "execution": {
     "iopub.execute_input": "2023-04-24T17:49:04.810313Z",
     "iopub.status.busy": "2023-04-24T17:49:04.809671Z",
     "iopub.status.idle": "2023-04-24T17:49:04.814392Z",
     "shell.execute_reply": "2023-04-24T17:49:04.813610Z"
    },
    "id": "3ND2Apuja64J",
    "papermill": {
     "duration": 0.042566,
     "end_time": "2023-04-24T17:49:04.816455",
     "exception": false,
     "start_time": "2023-04-24T17:49:04.773889",
     "status": "completed"
    },
    "tags": []
   },
   "outputs": [],
   "source": [
    "#Include all prop booleans for check of entire notebook\n",
    "prop1_to_20_pass = prop1_cond and prop2_cond and prop3_cond and prop4_cond and prop5_cond and prop6_cond and prop7_cond and prop8_cond and prop9_cond and prop10_cond and prop11_cond and prop12_cond and prop13_cond and prop14_cond and prop15_cond and prop16_cond and prop17_cond and prop18_cond and prop19_cond and prop20_cond"
   ]
  },
  {
   "cell_type": "code",
   "execution_count": 66,
   "id": "5f8fff7a",
   "metadata": {
    "execution": {
     "iopub.execute_input": "2023-04-24T17:49:04.887133Z",
     "iopub.status.busy": "2023-04-24T17:49:04.886430Z",
     "iopub.status.idle": "2023-04-24T17:49:04.891457Z",
     "shell.execute_reply": "2023-04-24T17:49:04.890344Z"
    },
    "id": "JHoeiqdEgyn-",
    "outputId": "821daf54-e772-4ac9-ada0-81ad53943612",
    "papermill": {
     "duration": 0.043012,
     "end_time": "2023-04-24T17:49:04.893555",
     "exception": false,
     "start_time": "2023-04-24T17:49:04.850543",
     "status": "completed"
    },
    "tags": []
   },
   "outputs": [
    {
     "name": "stdout",
     "output_type": "stream",
     "text": [
      "All propositions have shown what was required.\n"
     ]
    }
   ],
   "source": [
    "if prop1_to_20_pass:\n",
    "    print(\"All propositions have shown what was required.\")"
   ]
  },
  {
   "cell_type": "markdown",
   "id": "b771caab",
   "metadata": {
    "id": "3Bv6yBz2CNdG",
    "papermill": {
     "duration": 0.034102,
     "end_time": "2023-04-24T17:49:04.962179",
     "exception": false,
     "start_time": "2023-04-24T17:49:04.928077",
     "status": "completed"
    },
    "tags": []
   },
   "source": [
    "# Sources"
   ]
  },
  {
   "cell_type": "markdown",
   "id": "b7a86eeb",
   "metadata": {
    "id": "iwb-WJNJCNdG",
    "papermill": {
     "duration": 0.100968,
     "end_time": "2023-04-24T17:49:05.097295",
     "exception": false,
     "start_time": "2023-04-24T17:49:04.996327",
     "status": "completed"
    },
    "tags": []
   },
   "source": [
    "[1] Fitzpatrick, R. (2007). Euclid's Elements of Geometry: In English with an Introduction, and Notes. Springer Science & Business Media.\n",
    "\n",
    "[2] Holkner, A. (2010). Euclid: A Python geometry library [Source code]. GitHub. https://github.com/aholkner/euclid"
   ]
  }
 ],
 "metadata": {
  "kernelspec": {
   "display_name": "Python 3",
   "language": "python",
   "name": "python3"
  },
  "language_info": {
   "codemirror_mode": {
    "name": "ipython",
    "version": 3
   },
   "file_extension": ".py",
   "mimetype": "text/x-python",
   "name": "python",
   "nbconvert_exporter": "python",
   "pygments_lexer": "ipython3",
   "version": "3.7.12"
  },
  "papermill": {
   "default_parameters": {},
   "duration": 35.928239,
   "end_time": "2023-04-24T17:49:05.857344",
   "environment_variables": {},
   "exception": null,
   "input_path": "__notebook__.ipynb",
   "output_path": "__notebook__.ipynb",
   "parameters": {},
   "start_time": "2023-04-24T17:48:29.929105",
   "version": "2.4.0"
  }
 },
 "nbformat": 4,
 "nbformat_minor": 5
}
