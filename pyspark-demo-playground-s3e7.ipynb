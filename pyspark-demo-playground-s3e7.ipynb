{
 "cells": [
  {
   "cell_type": "markdown",
   "id": "e2eaf18c",
   "metadata": {
    "papermill": {
     "duration": 0.013652,
     "end_time": "2023-02-27T23:32:45.309911",
     "exception": false,
     "start_time": "2023-02-27T23:32:45.296259",
     "status": "completed"
    },
    "tags": []
   },
   "source": [
    "# Simple Logistic Regression Pipeline Using PySpark"
   ]
  },
  {
   "cell_type": "markdown",
   "id": "bb1955fc",
   "metadata": {
    "papermill": {
     "duration": 0.01186,
     "end_time": "2023-02-27T23:32:45.334132",
     "exception": false,
     "start_time": "2023-02-27T23:32:45.322272",
     "status": "completed"
    },
    "tags": []
   },
   "source": [
    "> I am pretty new to the PySpark framework so I am putting this quick notebook together to build off of for future competitions. In this notebook I perform a quick EDA and take a spark dataframe through a simple logistic regression pipeline "
   ]
  },
  {
   "cell_type": "code",
   "execution_count": 1,
   "id": "c2aaca94",
   "metadata": {
    "_cell_guid": "b1076dfc-b9ad-4769-8c92-a6c4dae69d19",
    "_uuid": "8f2839f25d086af736a60e9eeb907d3b93b6e0e5",
    "execution": {
     "iopub.execute_input": "2023-02-27T23:32:45.361501Z",
     "iopub.status.busy": "2023-02-27T23:32:45.360511Z",
     "iopub.status.idle": "2023-02-27T23:32:49.602909Z",
     "shell.execute_reply": "2023-02-27T23:32:49.601485Z"
    },
    "papermill": {
     "duration": 4.260818,
     "end_time": "2023-02-27T23:32:49.607235",
     "exception": false,
     "start_time": "2023-02-27T23:32:45.346417",
     "status": "completed"
    },
    "tags": []
   },
   "outputs": [
    {
     "name": "stdout",
     "output_type": "stream",
     "text": [
      "/kaggle/input/playground-series-s3e7/sample_submission.csv\n",
      "/kaggle/input/playground-series-s3e7/train.csv\n",
      "/kaggle/input/playground-series-s3e7/test.csv\n"
     ]
    }
   ],
   "source": [
    "import numpy as np\n",
    "import pandas as pd \n",
    "import matplotlib.pyplot as plt\n",
    "import pandas_profiling as pp\n",
    "import seaborn as sns\n",
    "\n",
    "import os\n",
    "for dirname, _, filenames in os.walk('/kaggle/input'):\n",
    "    for filename in filenames:\n",
    "        print(os.path.join(dirname, filename))"
   ]
  },
  {
   "cell_type": "code",
   "execution_count": 2,
   "id": "1a4d1431",
   "metadata": {
    "execution": {
     "iopub.execute_input": "2023-02-27T23:32:49.634741Z",
     "iopub.status.busy": "2023-02-27T23:32:49.634332Z",
     "iopub.status.idle": "2023-02-27T23:33:42.790662Z",
     "shell.execute_reply": "2023-02-27T23:33:42.789312Z"
    },
    "papermill": {
     "duration": 53.173489,
     "end_time": "2023-02-27T23:33:42.794128",
     "exception": false,
     "start_time": "2023-02-27T23:32:49.620639",
     "status": "completed"
    },
    "tags": []
   },
   "outputs": [
    {
     "name": "stdout",
     "output_type": "stream",
     "text": [
      "Collecting pyspark\r\n",
      "  Downloading pyspark-3.3.2.tar.gz (281.4 MB)\r\n",
      "\u001b[2K     \u001b[90m━━━━━━━━━━━━━━━━━━━━━━━━━━━━━━━━━━━━━━━\u001b[0m \u001b[32m281.4/281.4 MB\u001b[0m \u001b[31m3.3 MB/s\u001b[0m eta \u001b[36m0:00:00\u001b[0m\r\n",
      "\u001b[?25h  Preparing metadata (setup.py) ... \u001b[?25l-\b \bdone\r\n",
      "\u001b[?25hCollecting py4j==0.10.9.5\r\n",
      "  Downloading py4j-0.10.9.5-py2.py3-none-any.whl (199 kB)\r\n",
      "\u001b[2K     \u001b[90m━━━━━━━━━━━━━━━━━━━━━━━━━━━━━━━━━━━━━━\u001b[0m \u001b[32m199.7/199.7 kB\u001b[0m \u001b[31m14.2 MB/s\u001b[0m eta \u001b[36m0:00:00\u001b[0m\r\n",
      "\u001b[?25hBuilding wheels for collected packages: pyspark\r\n",
      "  Building wheel for pyspark (setup.py) ... \u001b[?25l-\b \b\\\b \b|\b \b/\b \b-\b \b\\\b \b|\b \b/\b \b-\b \b\\\b \b|\b \b/\b \bdone\r\n",
      "\u001b[?25h  Created wheel for pyspark: filename=pyspark-3.3.2-py2.py3-none-any.whl size=281824025 sha256=841dd215d09a5734f3d645c7a005f4e27d5d24b02f4c4e1474e85fe443e16892\r\n",
      "  Stored in directory: /root/.cache/pip/wheels/5a/54/9b/a89cac960efb57c4c35d41cc7c9f7b80daa21108bc376339b7\r\n",
      "Successfully built pyspark\r\n",
      "Installing collected packages: py4j, pyspark\r\n",
      "  Attempting uninstall: py4j\r\n",
      "    Found existing installation: py4j 0.10.9.7\r\n",
      "    Uninstalling py4j-0.10.9.7:\r\n",
      "      Successfully uninstalled py4j-0.10.9.7\r\n",
      "Successfully installed py4j-0.10.9.5 pyspark-3.3.2\r\n",
      "\u001b[33mWARNING: Running pip as the 'root' user can result in broken permissions and conflicting behaviour with the system package manager. It is recommended to use a virtual environment instead: https://pip.pypa.io/warnings/venv\u001b[0m\u001b[33m\r\n",
      "\u001b[0m"
     ]
    }
   ],
   "source": [
    "!pip3 install pyspark"
   ]
  },
  {
   "cell_type": "code",
   "execution_count": 3,
   "id": "bfa0925d",
   "metadata": {
    "execution": {
     "iopub.execute_input": "2023-02-27T23:33:42.847197Z",
     "iopub.status.busy": "2023-02-27T23:33:42.846664Z",
     "iopub.status.idle": "2023-02-27T23:33:42.912700Z",
     "shell.execute_reply": "2023-02-27T23:33:42.911457Z"
    },
    "papermill": {
     "duration": 0.096222,
     "end_time": "2023-02-27T23:33:42.915978",
     "exception": false,
     "start_time": "2023-02-27T23:33:42.819756",
     "status": "completed"
    },
    "tags": []
   },
   "outputs": [],
   "source": [
    "import pyspark\n",
    "import pyspark.sql.functions as F\n",
    "import pyspark.sql.types\n",
    "from pyspark.sql import SparkSession\n",
    "from pyspark.sql import SQLContext\n",
    "from pyspark.sql.functions import col\n",
    "from pyspark.sql.types import StringType,BooleanType,DateType"
   ]
  },
  {
   "cell_type": "code",
   "execution_count": 4,
   "id": "dbf51666",
   "metadata": {
    "execution": {
     "iopub.execute_input": "2023-02-27T23:33:42.964824Z",
     "iopub.status.busy": "2023-02-27T23:33:42.964434Z",
     "iopub.status.idle": "2023-02-27T23:33:48.788972Z",
     "shell.execute_reply": "2023-02-27T23:33:48.787405Z"
    },
    "papermill": {
     "duration": 5.853669,
     "end_time": "2023-02-27T23:33:48.793183",
     "exception": false,
     "start_time": "2023-02-27T23:33:42.939514",
     "status": "completed"
    },
    "tags": []
   },
   "outputs": [
    {
     "name": "stderr",
     "output_type": "stream",
     "text": [
      "Setting default log level to \"WARN\".\n",
      "To adjust logging level use sc.setLogLevel(newLevel). For SparkR, use setLogLevel(newLevel).\n"
     ]
    },
    {
     "name": "stdout",
     "output_type": "stream",
     "text": [
      "23/02/27 23:33:46 WARN NativeCodeLoader: Unable to load native-hadoop library for your platform... using builtin-java classes where applicable\n"
     ]
    }
   ],
   "source": [
    "spark = (SparkSession.builder.master(\"local[*]\")\n",
    "                    .config('spark.driver.maxResultSize', 0)\n",
    "                    .config(\"spark.driver.memory\",\"16g\")\n",
    "                    .config(\"spark.sql.shuffle.partitions\",20)\n",
    "                    .appName('PlaygroundS3E8')\n",
    "                    .getOrCreate())"
   ]
  },
  {
   "cell_type": "code",
   "execution_count": 5,
   "id": "c98c3de9",
   "metadata": {
    "execution": {
     "iopub.execute_input": "2023-02-27T23:33:48.844465Z",
     "iopub.status.busy": "2023-02-27T23:33:48.843326Z",
     "iopub.status.idle": "2023-02-27T23:33:48.849157Z",
     "shell.execute_reply": "2023-02-27T23:33:48.847995Z"
    },
    "papermill": {
     "duration": 0.034448,
     "end_time": "2023-02-27T23:33:48.851630",
     "exception": false,
     "start_time": "2023-02-27T23:33:48.817182",
     "status": "completed"
    },
    "tags": []
   },
   "outputs": [],
   "source": [
    "#SET FILEPATHS\n",
    "train_fp = \"../input/playground-series-s3e7/train.csv\"\n",
    "test_fp = \"../input/playground-series-s3e7/test.csv\""
   ]
  },
  {
   "cell_type": "code",
   "execution_count": 6,
   "id": "0a0c8771",
   "metadata": {
    "execution": {
     "iopub.execute_input": "2023-02-27T23:33:48.900680Z",
     "iopub.status.busy": "2023-02-27T23:33:48.900287Z",
     "iopub.status.idle": "2023-02-27T23:33:49.031363Z",
     "shell.execute_reply": "2023-02-27T23:33:49.030255Z"
    },
    "papermill": {
     "duration": 0.159108,
     "end_time": "2023-02-27T23:33:49.034365",
     "exception": false,
     "start_time": "2023-02-27T23:33:48.875257",
     "status": "completed"
    },
    "tags": []
   },
   "outputs": [],
   "source": [
    "train_pd = pd.read_csv(train_fp)"
   ]
  },
  {
   "cell_type": "code",
   "execution_count": 7,
   "id": "7efa6e13",
   "metadata": {
    "execution": {
     "iopub.execute_input": "2023-02-27T23:33:49.084168Z",
     "iopub.status.busy": "2023-02-27T23:33:49.083408Z",
     "iopub.status.idle": "2023-02-27T23:33:49.116716Z",
     "shell.execute_reply": "2023-02-27T23:33:49.115423Z"
    },
    "papermill": {
     "duration": 0.060937,
     "end_time": "2023-02-27T23:33:49.119054",
     "exception": false,
     "start_time": "2023-02-27T23:33:49.058117",
     "status": "completed"
    },
    "tags": []
   },
   "outputs": [
    {
     "data": {
      "text/html": [
       "<div>\n",
       "<style scoped>\n",
       "    .dataframe tbody tr th:only-of-type {\n",
       "        vertical-align: middle;\n",
       "    }\n",
       "\n",
       "    .dataframe tbody tr th {\n",
       "        vertical-align: top;\n",
       "    }\n",
       "\n",
       "    .dataframe thead th {\n",
       "        text-align: right;\n",
       "    }\n",
       "</style>\n",
       "<table border=\"1\" class=\"dataframe\">\n",
       "  <thead>\n",
       "    <tr style=\"text-align: right;\">\n",
       "      <th></th>\n",
       "      <th>id</th>\n",
       "      <th>no_of_adults</th>\n",
       "      <th>no_of_children</th>\n",
       "      <th>no_of_weekend_nights</th>\n",
       "      <th>no_of_week_nights</th>\n",
       "      <th>type_of_meal_plan</th>\n",
       "      <th>required_car_parking_space</th>\n",
       "      <th>room_type_reserved</th>\n",
       "      <th>lead_time</th>\n",
       "      <th>arrival_year</th>\n",
       "      <th>arrival_month</th>\n",
       "      <th>arrival_date</th>\n",
       "      <th>market_segment_type</th>\n",
       "      <th>repeated_guest</th>\n",
       "      <th>no_of_previous_cancellations</th>\n",
       "      <th>no_of_previous_bookings_not_canceled</th>\n",
       "      <th>avg_price_per_room</th>\n",
       "      <th>no_of_special_requests</th>\n",
       "      <th>booking_status</th>\n",
       "    </tr>\n",
       "  </thead>\n",
       "  <tbody>\n",
       "    <tr>\n",
       "      <th>0</th>\n",
       "      <td>0</td>\n",
       "      <td>2</td>\n",
       "      <td>0</td>\n",
       "      <td>0</td>\n",
       "      <td>2</td>\n",
       "      <td>1</td>\n",
       "      <td>0</td>\n",
       "      <td>0</td>\n",
       "      <td>9</td>\n",
       "      <td>2018</td>\n",
       "      <td>1</td>\n",
       "      <td>14</td>\n",
       "      <td>1</td>\n",
       "      <td>1</td>\n",
       "      <td>11</td>\n",
       "      <td>0</td>\n",
       "      <td>67.50</td>\n",
       "      <td>0</td>\n",
       "      <td>0</td>\n",
       "    </tr>\n",
       "    <tr>\n",
       "      <th>1</th>\n",
       "      <td>1</td>\n",
       "      <td>2</td>\n",
       "      <td>0</td>\n",
       "      <td>1</td>\n",
       "      <td>2</td>\n",
       "      <td>0</td>\n",
       "      <td>0</td>\n",
       "      <td>0</td>\n",
       "      <td>117</td>\n",
       "      <td>2018</td>\n",
       "      <td>7</td>\n",
       "      <td>29</td>\n",
       "      <td>0</td>\n",
       "      <td>0</td>\n",
       "      <td>0</td>\n",
       "      <td>0</td>\n",
       "      <td>72.25</td>\n",
       "      <td>0</td>\n",
       "      <td>0</td>\n",
       "    </tr>\n",
       "    <tr>\n",
       "      <th>2</th>\n",
       "      <td>2</td>\n",
       "      <td>2</td>\n",
       "      <td>0</td>\n",
       "      <td>0</td>\n",
       "      <td>1</td>\n",
       "      <td>0</td>\n",
       "      <td>0</td>\n",
       "      <td>0</td>\n",
       "      <td>315</td>\n",
       "      <td>2018</td>\n",
       "      <td>12</td>\n",
       "      <td>2</td>\n",
       "      <td>0</td>\n",
       "      <td>0</td>\n",
       "      <td>0</td>\n",
       "      <td>0</td>\n",
       "      <td>52.00</td>\n",
       "      <td>0</td>\n",
       "      <td>0</td>\n",
       "    </tr>\n",
       "    <tr>\n",
       "      <th>3</th>\n",
       "      <td>3</td>\n",
       "      <td>1</td>\n",
       "      <td>0</td>\n",
       "      <td>0</td>\n",
       "      <td>2</td>\n",
       "      <td>1</td>\n",
       "      <td>0</td>\n",
       "      <td>0</td>\n",
       "      <td>32</td>\n",
       "      <td>2018</td>\n",
       "      <td>12</td>\n",
       "      <td>1</td>\n",
       "      <td>1</td>\n",
       "      <td>0</td>\n",
       "      <td>0</td>\n",
       "      <td>0</td>\n",
       "      <td>56.00</td>\n",
       "      <td>0</td>\n",
       "      <td>0</td>\n",
       "    </tr>\n",
       "    <tr>\n",
       "      <th>4</th>\n",
       "      <td>4</td>\n",
       "      <td>2</td>\n",
       "      <td>0</td>\n",
       "      <td>1</td>\n",
       "      <td>0</td>\n",
       "      <td>0</td>\n",
       "      <td>0</td>\n",
       "      <td>0</td>\n",
       "      <td>258</td>\n",
       "      <td>2018</td>\n",
       "      <td>10</td>\n",
       "      <td>16</td>\n",
       "      <td>0</td>\n",
       "      <td>0</td>\n",
       "      <td>0</td>\n",
       "      <td>0</td>\n",
       "      <td>100.00</td>\n",
       "      <td>0</td>\n",
       "      <td>1</td>\n",
       "    </tr>\n",
       "  </tbody>\n",
       "</table>\n",
       "</div>"
      ],
      "text/plain": [
       "   id  no_of_adults  no_of_children  no_of_weekend_nights  no_of_week_nights  \\\n",
       "0   0             2               0                     0                  2   \n",
       "1   1             2               0                     1                  2   \n",
       "2   2             2               0                     0                  1   \n",
       "3   3             1               0                     0                  2   \n",
       "4   4             2               0                     1                  0   \n",
       "\n",
       "   type_of_meal_plan  required_car_parking_space  room_type_reserved  \\\n",
       "0                  1                           0                   0   \n",
       "1                  0                           0                   0   \n",
       "2                  0                           0                   0   \n",
       "3                  1                           0                   0   \n",
       "4                  0                           0                   0   \n",
       "\n",
       "   lead_time  arrival_year  arrival_month  arrival_date  market_segment_type  \\\n",
       "0          9          2018              1            14                    1   \n",
       "1        117          2018              7            29                    0   \n",
       "2        315          2018             12             2                    0   \n",
       "3         32          2018             12             1                    1   \n",
       "4        258          2018             10            16                    0   \n",
       "\n",
       "   repeated_guest  no_of_previous_cancellations  \\\n",
       "0               1                            11   \n",
       "1               0                             0   \n",
       "2               0                             0   \n",
       "3               0                             0   \n",
       "4               0                             0   \n",
       "\n",
       "   no_of_previous_bookings_not_canceled  avg_price_per_room  \\\n",
       "0                                     0               67.50   \n",
       "1                                     0               72.25   \n",
       "2                                     0               52.00   \n",
       "3                                     0               56.00   \n",
       "4                                     0              100.00   \n",
       "\n",
       "   no_of_special_requests  booking_status  \n",
       "0                       0               0  \n",
       "1                       0               0  \n",
       "2                       0               0  \n",
       "3                       0               0  \n",
       "4                       0               1  "
      ]
     },
     "execution_count": 7,
     "metadata": {},
     "output_type": "execute_result"
    }
   ],
   "source": [
    "train_pd.head()"
   ]
  },
  {
   "cell_type": "code",
   "execution_count": 8,
   "id": "a39493cd",
   "metadata": {
    "execution": {
     "iopub.execute_input": "2023-02-27T23:33:49.168781Z",
     "iopub.status.busy": "2023-02-27T23:33:49.168391Z",
     "iopub.status.idle": "2023-02-27T23:33:49.182641Z",
     "shell.execute_reply": "2023-02-27T23:33:49.181451Z"
    },
    "papermill": {
     "duration": 0.042274,
     "end_time": "2023-02-27T23:33:49.185269",
     "exception": false,
     "start_time": "2023-02-27T23:33:49.142995",
     "status": "completed"
    },
    "tags": []
   },
   "outputs": [
    {
     "data": {
      "text/plain": [
       "0    25596\n",
       "1    16504\n",
       "Name: booking_status, dtype: int64"
      ]
     },
     "execution_count": 8,
     "metadata": {},
     "output_type": "execute_result"
    }
   ],
   "source": [
    "train_pd['booking_status'].value_counts()"
   ]
  },
  {
   "cell_type": "code",
   "execution_count": 9,
   "id": "c3ce4c4b",
   "metadata": {
    "execution": {
     "iopub.execute_input": "2023-02-27T23:33:49.235591Z",
     "iopub.status.busy": "2023-02-27T23:33:49.234841Z",
     "iopub.status.idle": "2023-02-27T23:33:49.243761Z",
     "shell.execute_reply": "2023-02-27T23:33:49.242682Z"
    },
    "papermill": {
     "duration": 0.036636,
     "end_time": "2023-02-27T23:33:49.246042",
     "exception": false,
     "start_time": "2023-02-27T23:33:49.209406",
     "status": "completed"
    },
    "tags": []
   },
   "outputs": [
    {
     "data": {
      "text/plain": [
       "2018    36050\n",
       "2017     6050\n",
       "Name: arrival_year, dtype: int64"
      ]
     },
     "execution_count": 9,
     "metadata": {},
     "output_type": "execute_result"
    }
   ],
   "source": [
    "train_pd['arrival_year'].value_counts()"
   ]
  },
  {
   "cell_type": "code",
   "execution_count": 10,
   "id": "03bee5b0",
   "metadata": {
    "execution": {
     "iopub.execute_input": "2023-02-27T23:33:49.296031Z",
     "iopub.status.busy": "2023-02-27T23:33:49.295327Z",
     "iopub.status.idle": "2023-02-27T23:33:50.803966Z",
     "shell.execute_reply": "2023-02-27T23:33:50.801095Z"
    },
    "papermill": {
     "duration": 1.536609,
     "end_time": "2023-02-27T23:33:50.806359",
     "exception": false,
     "start_time": "2023-02-27T23:33:49.269750",
     "status": "completed"
    },
    "tags": []
   },
   "outputs": [
    {
     "data": {
      "image/png": "[encoded data removed]",
      "text/plain": [
       "<Figure size 2000x1000 with 2 Axes>"
      ]
     },
     "metadata": {},
     "output_type": "display_data"
    }
   ],
   "source": [
    "interaction_cols = train_pd.columns\n",
    "plt.figure(figsize=(20,10))\n",
    "mask = np.triu(np.ones_like(train_pd[interaction_cols].corr()))\n",
    "sns.heatmap(train_pd[interaction_cols].corr(),annot=True,mask=mask).set(title='Baseline Variable Correlation')\n",
    "plt.show()"
   ]
  },
  {
   "cell_type": "markdown",
   "id": "f8a211b9",
   "metadata": {
    "papermill": {
     "duration": 0.028477,
     "end_time": "2023-02-27T23:33:50.864431",
     "exception": false,
     "start_time": "2023-02-27T23:33:50.835954",
     "status": "completed"
    },
    "tags": []
   },
   "source": [
    "# Read Spark Dataframes"
   ]
  },
  {
   "cell_type": "code",
   "execution_count": 11,
   "id": "5f5e0c82",
   "metadata": {
    "execution": {
     "iopub.execute_input": "2023-02-27T23:33:50.924462Z",
     "iopub.status.busy": "2023-02-27T23:33:50.923660Z",
     "iopub.status.idle": "2023-02-27T23:33:58.724578Z",
     "shell.execute_reply": "2023-02-27T23:33:58.723166Z"
    },
    "papermill": {
     "duration": 7.835692,
     "end_time": "2023-02-27T23:33:58.728922",
     "exception": false,
     "start_time": "2023-02-27T23:33:50.893230",
     "status": "completed"
    },
    "tags": []
   },
   "outputs": [
    {
     "name": "stderr",
     "output_type": "stream",
     "text": [
      "                                                                                \r"
     ]
    }
   ],
   "source": [
    "#INFER SCHEMA = TRUE PREVENTS THE NEED TO WRITE OUT THE ENTIRE SCHEMA AS A DATA STRUCTURE. WORKS WELL FOR CLEAN KAGGLE DATA :) \n",
    "train_df = spark.read.csv(train_fp, inferSchema=True, header=True)\n",
    "test_df = spark.read.csv(test_fp, inferSchema=True, header=True)"
   ]
  },
  {
   "cell_type": "code",
   "execution_count": 12,
   "id": "92582bc6",
   "metadata": {
    "execution": {
     "iopub.execute_input": "2023-02-27T23:33:58.790889Z",
     "iopub.status.busy": "2023-02-27T23:33:58.790490Z",
     "iopub.status.idle": "2023-02-27T23:33:59.292115Z",
     "shell.execute_reply": "2023-02-27T23:33:59.290866Z"
    },
    "papermill": {
     "duration": 0.535696,
     "end_time": "2023-02-27T23:33:59.296011",
     "exception": false,
     "start_time": "2023-02-27T23:33:58.760315",
     "status": "completed"
    },
    "tags": []
   },
   "outputs": [
    {
     "name": "stdout",
     "output_type": "stream",
     "text": [
      "+---+------------+--------------+--------------------+-----------------+-----------------+--------------------------+------------------+---------+------------+-------------+------------+-------------------+--------------+----------------------------+------------------------------------+------------------+----------------------+--------------+\n",
      "| id|no_of_adults|no_of_children|no_of_weekend_nights|no_of_week_nights|type_of_meal_plan|required_car_parking_space|room_type_reserved|lead_time|arrival_year|arrival_month|arrival_date|market_segment_type|repeated_guest|no_of_previous_cancellations|no_of_previous_bookings_not_canceled|avg_price_per_room|no_of_special_requests|booking_status|\n",
      "+---+------------+--------------+--------------------+-----------------+-----------------+--------------------------+------------------+---------+------------+-------------+------------+-------------------+--------------+----------------------------+------------------------------------+------------------+----------------------+--------------+\n",
      "|  0|           2|             0|                   0|                2|                1|                         0|                 0|        9|        2018|            1|          14|                  1|             1|                          11|                                   0|              67.5|                     0|             0|\n",
      "|  1|           2|             0|                   1|                2|                0|                         0|                 0|      117|        2018|            7|          29|                  0|             0|                           0|                                   0|             72.25|                     0|             0|\n",
      "|  2|           2|             0|                   0|                1|                0|                         0|                 0|      315|        2018|           12|           2|                  0|             0|                           0|                                   0|              52.0|                     0|             0|\n",
      "|  3|           1|             0|                   0|                2|                1|                         0|                 0|       32|        2018|           12|           1|                  1|             0|                           0|                                   0|              56.0|                     0|             0|\n",
      "|  4|           2|             0|                   1|                0|                0|                         0|                 0|      258|        2018|           10|          16|                  0|             0|                           0|                                   0|             100.0|                     0|             1|\n",
      "+---+------------+--------------+--------------------+-----------------+-----------------+--------------------------+------------------+---------+------------+-------------+------------+-------------------+--------------+----------------------------+------------------------------------+------------------+----------------------+--------------+\n",
      "only showing top 5 rows\n",
      "\n"
     ]
    }
   ],
   "source": [
    "#SIMILAR TO PD.HEAD()\n",
    "train_df.show(5)"
   ]
  },
  {
   "cell_type": "code",
   "execution_count": 13,
   "id": "121f95c8",
   "metadata": {
    "execution": {
     "iopub.execute_input": "2023-02-27T23:33:59.373432Z",
     "iopub.status.busy": "2023-02-27T23:33:59.373034Z",
     "iopub.status.idle": "2023-02-27T23:33:59.391823Z",
     "shell.execute_reply": "2023-02-27T23:33:59.390403Z"
    },
    "papermill": {
     "duration": 0.055644,
     "end_time": "2023-02-27T23:33:59.395335",
     "exception": false,
     "start_time": "2023-02-27T23:33:59.339691",
     "status": "completed"
    },
    "tags": []
   },
   "outputs": [
    {
     "name": "stdout",
     "output_type": "stream",
     "text": [
      "root\n",
      " |-- id: integer (nullable = true)\n",
      " |-- no_of_adults: integer (nullable = true)\n",
      " |-- no_of_children: integer (nullable = true)\n",
      " |-- no_of_weekend_nights: integer (nullable = true)\n",
      " |-- no_of_week_nights: integer (nullable = true)\n",
      " |-- type_of_meal_plan: integer (nullable = true)\n",
      " |-- required_car_parking_space: integer (nullable = true)\n",
      " |-- room_type_reserved: integer (nullable = true)\n",
      " |-- lead_time: integer (nullable = true)\n",
      " |-- arrival_year: integer (nullable = true)\n",
      " |-- arrival_month: integer (nullable = true)\n",
      " |-- arrival_date: integer (nullable = true)\n",
      " |-- market_segment_type: integer (nullable = true)\n",
      " |-- repeated_guest: integer (nullable = true)\n",
      " |-- no_of_previous_cancellations: integer (nullable = true)\n",
      " |-- no_of_previous_bookings_not_canceled: integer (nullable = true)\n",
      " |-- avg_price_per_room: double (nullable = true)\n",
      " |-- no_of_special_requests: integer (nullable = true)\n",
      " |-- booking_status: integer (nullable = true)\n",
      "\n"
     ]
    }
   ],
   "source": [
    "#ENSURE THAT INFERRED SCHEMA COMES OUT AS EXPECTED\n",
    "train_df.printSchema()"
   ]
  },
  {
   "cell_type": "code",
   "execution_count": 14,
   "id": "dd495f21",
   "metadata": {
    "execution": {
     "iopub.execute_input": "2023-02-27T23:33:59.464731Z",
     "iopub.status.busy": "2023-02-27T23:33:59.463538Z",
     "iopub.status.idle": "2023-02-27T23:33:59.635423Z",
     "shell.execute_reply": "2023-02-27T23:33:59.633917Z"
    },
    "papermill": {
     "duration": 0.206253,
     "end_time": "2023-02-27T23:33:59.639027",
     "exception": false,
     "start_time": "2023-02-27T23:33:59.432774",
     "status": "completed"
    },
    "tags": []
   },
   "outputs": [],
   "source": [
    "train_df = train_df.withColumn(\"arrival_year\",col(\"arrival_year\").cast(StringType())).withColumn(\"arrival_month\",col(\"arrival_month\").cast(StringType())).withColumn(\"arrival_date\",col(\"arrival_date\").cast(StringType()))\n",
    "test_df = test_df.withColumn(\"arrival_year\",col(\"arrival_year\").cast(StringType())).withColumn(\"arrival_month\",col(\"arrival_month\").cast(StringType())).withColumn(\"arrival_date\",col(\"arrival_date\").cast(StringType()))"
   ]
  },
  {
   "cell_type": "markdown",
   "id": "17087cea",
   "metadata": {
    "papermill": {
     "duration": 0.029007,
     "end_time": "2023-02-27T23:33:59.703436",
     "exception": false,
     "start_time": "2023-02-27T23:33:59.674429",
     "status": "completed"
    },
    "tags": []
   },
   "source": [
    "# String Indexer"
   ]
  },
  {
   "cell_type": "markdown",
   "id": "0e564030",
   "metadata": {
    "papermill": {
     "duration": 0.02838,
     "end_time": "2023-02-27T23:33:59.760481",
     "exception": false,
     "start_time": "2023-02-27T23:33:59.732101",
     "status": "completed"
    },
    "tags": []
   },
   "source": [
    "> In this section I am taking the features associated with date and making them one hot encoded variables instead of ordinal variables"
   ]
  },
  {
   "cell_type": "code",
   "execution_count": 15,
   "id": "d5322a43",
   "metadata": {
    "execution": {
     "iopub.execute_input": "2023-02-27T23:33:59.820882Z",
     "iopub.status.busy": "2023-02-27T23:33:59.820501Z",
     "iopub.status.idle": "2023-02-27T23:33:59.896854Z",
     "shell.execute_reply": "2023-02-27T23:33:59.895475Z"
    },
    "papermill": {
     "duration": 0.109907,
     "end_time": "2023-02-27T23:33:59.900208",
     "exception": false,
     "start_time": "2023-02-27T23:33:59.790301",
     "status": "completed"
    },
    "tags": []
   },
   "outputs": [],
   "source": [
    "from pyspark.ml.feature import OneHotEncoder, StringIndexer"
   ]
  },
  {
   "cell_type": "code",
   "execution_count": 16,
   "id": "a8b57414",
   "metadata": {
    "execution": {
     "iopub.execute_input": "2023-02-27T23:33:59.961236Z",
     "iopub.status.busy": "2023-02-27T23:33:59.960570Z",
     "iopub.status.idle": "2023-02-27T23:33:59.966421Z",
     "shell.execute_reply": "2023-02-27T23:33:59.965140Z"
    },
    "papermill": {
     "duration": 0.039157,
     "end_time": "2023-02-27T23:33:59.968879",
     "exception": false,
     "start_time": "2023-02-27T23:33:59.929722",
     "status": "completed"
    },
    "tags": []
   },
   "outputs": [],
   "source": [
    "categorical_cols = ['arrival_year', 'arrival_month', 'arrival_date']\n",
    "index_output_cols = [x + \"Index\" for x in categorical_cols]\n",
    "ohe_output_cols = [x + \"OHE\" for x in categorical_cols]"
   ]
  },
  {
   "cell_type": "code",
   "execution_count": 17,
   "id": "27b85312",
   "metadata": {
    "execution": {
     "iopub.execute_input": "2023-02-27T23:34:00.029422Z",
     "iopub.status.busy": "2023-02-27T23:34:00.028723Z",
     "iopub.status.idle": "2023-02-27T23:34:00.066909Z",
     "shell.execute_reply": "2023-02-27T23:34:00.066033Z"
    },
    "papermill": {
     "duration": 0.071467,
     "end_time": "2023-02-27T23:34:00.069626",
     "exception": false,
     "start_time": "2023-02-27T23:33:59.998159",
     "status": "completed"
    },
    "tags": []
   },
   "outputs": [],
   "source": [
    "string_indexer = StringIndexer(inputCols=categorical_cols, outputCols=index_output_cols, handleInvalid='skip')\n",
    "ohe_encoder = OneHotEncoder(inputCols=index_output_cols, outputCols=ohe_output_cols)"
   ]
  },
  {
   "cell_type": "markdown",
   "id": "2bfb9f06",
   "metadata": {
    "papermill": {
     "duration": 0.029231,
     "end_time": "2023-02-27T23:34:00.128554",
     "exception": false,
     "start_time": "2023-02-27T23:34:00.099323",
     "status": "completed"
    },
    "tags": []
   },
   "source": [
    "# Feature Assembler"
   ]
  },
  {
   "cell_type": "markdown",
   "id": "ab84f8d2",
   "metadata": {
    "papermill": {
     "duration": 0.029359,
     "end_time": "2023-02-27T23:34:00.187031",
     "exception": false,
     "start_time": "2023-02-27T23:34:00.157672",
     "status": "completed"
    },
    "tags": []
   },
   "source": [
    "> Now I am taking the one hot encoded variables and adding them to the numeric columns to make a final feature assembler to feed into the model fit stage"
   ]
  },
  {
   "cell_type": "code",
   "execution_count": 18,
   "id": "3c5f94f9",
   "metadata": {
    "execution": {
     "iopub.execute_input": "2023-02-27T23:34:00.247123Z",
     "iopub.status.busy": "2023-02-27T23:34:00.246405Z",
     "iopub.status.idle": "2023-02-27T23:34:00.274094Z",
     "shell.execute_reply": "2023-02-27T23:34:00.273006Z"
    },
    "papermill": {
     "duration": 0.060908,
     "end_time": "2023-02-27T23:34:00.276918",
     "exception": false,
     "start_time": "2023-02-27T23:34:00.216010",
     "status": "completed"
    },
    "tags": []
   },
   "outputs": [],
   "source": [
    "from pyspark.ml.feature import VectorAssembler\n",
    "\n",
    "numeric_cols = [field for (field, dataType) in train_df.dtypes if (((dataType == \"integer\") | (dataType == \"double\")) & (field != \"booking_status\") & (field != 'id'))]\n",
    "assembler_input = ohe_output_cols + numeric_cols\n",
    "vec_assembler = VectorAssembler(inputCols=assembler_input, outputCol=\"features\")"
   ]
  },
  {
   "cell_type": "markdown",
   "id": "6e996abe",
   "metadata": {
    "papermill": {
     "duration": 0.028396,
     "end_time": "2023-02-27T23:34:00.334055",
     "exception": false,
     "start_time": "2023-02-27T23:34:00.305659",
     "status": "completed"
    },
    "tags": []
   },
   "source": [
    "# Create Validation Sample"
   ]
  },
  {
   "cell_type": "markdown",
   "id": "f7027562",
   "metadata": {
    "papermill": {
     "duration": 0.02836,
     "end_time": "2023-02-27T23:34:00.390924",
     "exception": false,
     "start_time": "2023-02-27T23:34:00.362564",
     "status": "completed"
    },
    "tags": []
   },
   "source": [
    "> Below I am creating a hold out set to test the out of sample AUC"
   ]
  },
  {
   "cell_type": "code",
   "execution_count": 19,
   "id": "cd4a4a70",
   "metadata": {
    "execution": {
     "iopub.execute_input": "2023-02-27T23:34:00.450128Z",
     "iopub.status.busy": "2023-02-27T23:34:00.449702Z",
     "iopub.status.idle": "2023-02-27T23:34:00.484631Z",
     "shell.execute_reply": "2023-02-27T23:34:00.483285Z"
    },
    "papermill": {
     "duration": 0.068133,
     "end_time": "2023-02-27T23:34:00.487724",
     "exception": false,
     "start_time": "2023-02-27T23:34:00.419591",
     "status": "completed"
    },
    "tags": []
   },
   "outputs": [],
   "source": [
    "X_train, X_test = train_df.randomSplit([0.8, 0.2], seed=42)"
   ]
  },
  {
   "cell_type": "code",
   "execution_count": 20,
   "id": "d137aa5f",
   "metadata": {
    "execution": {
     "iopub.execute_input": "2023-02-27T23:34:00.548116Z",
     "iopub.status.busy": "2023-02-27T23:34:00.547422Z",
     "iopub.status.idle": "2023-02-27T23:34:02.727353Z",
     "shell.execute_reply": "2023-02-27T23:34:02.726139Z"
    },
    "papermill": {
     "duration": 2.213713,
     "end_time": "2023-02-27T23:34:02.730628",
     "exception": false,
     "start_time": "2023-02-27T23:34:00.516915",
     "status": "completed"
    },
    "tags": []
   },
   "outputs": [
    {
     "name": "stderr",
     "output_type": "stream",
     "text": [
      "                                                                                \r"
     ]
    },
    {
     "name": "stdout",
     "output_type": "stream",
     "text": [
      "Training Size:  33672\n",
      "Validation Size:  8428\n"
     ]
    }
   ],
   "source": [
    "print(\"Training Size: \", X_train.count())\n",
    "print(\"Validation Size: \", X_test.count())"
   ]
  },
  {
   "cell_type": "markdown",
   "id": "c6b8f301",
   "metadata": {
    "papermill": {
     "duration": 0.029219,
     "end_time": "2023-02-27T23:34:02.789379",
     "exception": false,
     "start_time": "2023-02-27T23:34:02.760160",
     "status": "completed"
    },
    "tags": []
   },
   "source": [
    "# Logistic Regression Model"
   ]
  },
  {
   "cell_type": "code",
   "execution_count": 21,
   "id": "3ba66777",
   "metadata": {
    "execution": {
     "iopub.execute_input": "2023-02-27T23:34:02.851254Z",
     "iopub.status.busy": "2023-02-27T23:34:02.850131Z",
     "iopub.status.idle": "2023-02-27T23:34:02.855521Z",
     "shell.execute_reply": "2023-02-27T23:34:02.854268Z"
    },
    "papermill": {
     "duration": 0.039292,
     "end_time": "2023-02-27T23:34:02.858013",
     "exception": false,
     "start_time": "2023-02-27T23:34:02.818721",
     "status": "completed"
    },
    "tags": []
   },
   "outputs": [],
   "source": [
    "from pyspark.ml.classification import LogisticRegression"
   ]
  },
  {
   "cell_type": "code",
   "execution_count": 22,
   "id": "435f18e8",
   "metadata": {
    "execution": {
     "iopub.execute_input": "2023-02-27T23:34:02.921031Z",
     "iopub.status.busy": "2023-02-27T23:34:02.920225Z",
     "iopub.status.idle": "2023-02-27T23:34:02.983256Z",
     "shell.execute_reply": "2023-02-27T23:34:02.982226Z"
    },
    "papermill": {
     "duration": 0.098415,
     "end_time": "2023-02-27T23:34:02.986042",
     "exception": false,
     "start_time": "2023-02-27T23:34:02.887627",
     "status": "completed"
    },
    "tags": []
   },
   "outputs": [],
   "source": [
    "lr = LogisticRegression(featuresCol = 'features', labelCol = 'booking_status', maxIter=10)"
   ]
  },
  {
   "cell_type": "markdown",
   "id": "6cdca00b",
   "metadata": {
    "papermill": {
     "duration": 0.029226,
     "end_time": "2023-02-27T23:34:03.044976",
     "exception": false,
     "start_time": "2023-02-27T23:34:03.015750",
     "status": "completed"
    },
    "tags": []
   },
   "source": [
    "# Create Pipeline"
   ]
  },
  {
   "cell_type": "code",
   "execution_count": 23,
   "id": "aa6218c0",
   "metadata": {
    "execution": {
     "iopub.execute_input": "2023-02-27T23:34:03.106101Z",
     "iopub.status.busy": "2023-02-27T23:34:03.105400Z",
     "iopub.status.idle": "2023-02-27T23:34:10.434075Z",
     "shell.execute_reply": "2023-02-27T23:34:10.432815Z"
    },
    "papermill": {
     "duration": 7.363861,
     "end_time": "2023-02-27T23:34:10.437996",
     "exception": false,
     "start_time": "2023-02-27T23:34:03.074135",
     "status": "completed"
    },
    "tags": []
   },
   "outputs": [
    {
     "name": "stderr",
     "output_type": "stream",
     "text": [
      "                                                                                \r"
     ]
    }
   ],
   "source": [
    "from pyspark.ml import Pipeline\n",
    "\n",
    "stages = [string_indexer, ohe_encoder, vec_assembler, lr]\n",
    "pipeline = Pipeline(stages=stages)\n",
    "\n",
    "pipeline_model = pipeline.fit(X_train)"
   ]
  },
  {
   "cell_type": "markdown",
   "id": "ae91c90b",
   "metadata": {
    "papermill": {
     "duration": 0.044427,
     "end_time": "2023-02-27T23:34:10.528117",
     "exception": false,
     "start_time": "2023-02-27T23:34:10.483690",
     "status": "completed"
    },
    "tags": []
   },
   "source": [
    "# Saving Your Model"
   ]
  },
  {
   "cell_type": "code",
   "execution_count": 24,
   "id": "7c3e53fe",
   "metadata": {
    "execution": {
     "iopub.execute_input": "2023-02-27T23:34:10.622102Z",
     "iopub.status.busy": "2023-02-27T23:34:10.621553Z",
     "iopub.status.idle": "2023-02-27T23:34:13.110546Z",
     "shell.execute_reply": "2023-02-27T23:34:13.109317Z"
    },
    "papermill": {
     "duration": 2.540042,
     "end_time": "2023-02-27T23:34:13.114379",
     "exception": false,
     "start_time": "2023-02-27T23:34:10.574337",
     "status": "completed"
    },
    "tags": []
   },
   "outputs": [
    {
     "name": "stderr",
     "output_type": "stream",
     "text": [
      "                                                                                \r"
     ]
    }
   ],
   "source": [
    "#FEED THE NAME OF THE FILE YOU WANT FOR KAGGLE NOTEBOOK OUTPUT\n",
    "pipeline_model.write().overwrite().save('lr_1')"
   ]
  },
  {
   "cell_type": "markdown",
   "id": "becce3ee",
   "metadata": {
    "papermill": {
     "duration": 0.050348,
     "end_time": "2023-02-27T23:34:13.229148",
     "exception": false,
     "start_time": "2023-02-27T23:34:13.178800",
     "status": "completed"
    },
    "tags": []
   },
   "source": [
    "# Loading Model"
   ]
  },
  {
   "cell_type": "code",
   "execution_count": 25,
   "id": "9a3e0676",
   "metadata": {
    "execution": {
     "iopub.execute_input": "2023-02-27T23:34:13.329563Z",
     "iopub.status.busy": "2023-02-27T23:34:13.329048Z",
     "iopub.status.idle": "2023-02-27T23:34:16.261513Z",
     "shell.execute_reply": "2023-02-27T23:34:16.260261Z"
    },
    "papermill": {
     "duration": 2.983334,
     "end_time": "2023-02-27T23:34:16.265296",
     "exception": false,
     "start_time": "2023-02-27T23:34:13.281962",
     "status": "completed"
    },
    "tags": []
   },
   "outputs": [
    {
     "name": "stderr",
     "output_type": "stream",
     "text": [
      "                                                                                \r"
     ]
    }
   ],
   "source": [
    "from pyspark.ml import PipelineModel\n",
    "\n",
    "saved_pipeline_model = PipelineModel.load('lr_1')"
   ]
  },
  {
   "cell_type": "markdown",
   "id": "604ef0b1",
   "metadata": {
    "papermill": {
     "duration": 0.029771,
     "end_time": "2023-02-27T23:34:16.331330",
     "exception": false,
     "start_time": "2023-02-27T23:34:16.301559",
     "status": "completed"
    },
    "tags": []
   },
   "source": [
    "# Apply Model to Validation Set"
   ]
  },
  {
   "cell_type": "code",
   "execution_count": 26,
   "id": "585869de",
   "metadata": {
    "execution": {
     "iopub.execute_input": "2023-02-27T23:34:16.396104Z",
     "iopub.status.busy": "2023-02-27T23:34:16.395342Z",
     "iopub.status.idle": "2023-02-27T23:34:16.801846Z",
     "shell.execute_reply": "2023-02-27T23:34:16.800327Z"
    },
    "papermill": {
     "duration": 0.44124,
     "end_time": "2023-02-27T23:34:16.805529",
     "exception": false,
     "start_time": "2023-02-27T23:34:16.364289",
     "status": "completed"
    },
    "tags": []
   },
   "outputs": [],
   "source": [
    "pred_df = saved_pipeline_model.transform(X_test)"
   ]
  },
  {
   "cell_type": "code",
   "execution_count": 27,
   "id": "47b79df4",
   "metadata": {
    "execution": {
     "iopub.execute_input": "2023-02-27T23:34:16.893078Z",
     "iopub.status.busy": "2023-02-27T23:34:16.891651Z",
     "iopub.status.idle": "2023-02-27T23:34:18.539635Z",
     "shell.execute_reply": "2023-02-27T23:34:18.538318Z"
    },
    "papermill": {
     "duration": 1.690706,
     "end_time": "2023-02-27T23:34:18.543553",
     "exception": false,
     "start_time": "2023-02-27T23:34:16.852847",
     "status": "completed"
    },
    "tags": []
   },
   "outputs": [
    {
     "name": "stderr",
     "output_type": "stream",
     "text": [
      "                                                                                \r"
     ]
    },
    {
     "data": {
      "text/html": [
       "<div>\n",
       "<style scoped>\n",
       "    .dataframe tbody tr th:only-of-type {\n",
       "        vertical-align: middle;\n",
       "    }\n",
       "\n",
       "    .dataframe tbody tr th {\n",
       "        vertical-align: top;\n",
       "    }\n",
       "\n",
       "    .dataframe thead th {\n",
       "        text-align: right;\n",
       "    }\n",
       "</style>\n",
       "<table border=\"1\" class=\"dataframe\">\n",
       "  <thead>\n",
       "    <tr style=\"text-align: right;\">\n",
       "      <th></th>\n",
       "      <th>features</th>\n",
       "      <th>booking_status</th>\n",
       "      <th>prediction</th>\n",
       "    </tr>\n",
       "  </thead>\n",
       "  <tbody>\n",
       "    <tr>\n",
       "      <th>0</th>\n",
       "      <td>(1.0, 0.0, 0.0, 0.0, 0.0, 0.0, 1.0, 0.0, 0.0, ...</td>\n",
       "      <td>0</td>\n",
       "      <td>0.0</td>\n",
       "    </tr>\n",
       "    <tr>\n",
       "      <th>1</th>\n",
       "      <td>(1.0, 0.0, 1.0, 0.0, 0.0, 0.0, 0.0, 0.0, 0.0, ...</td>\n",
       "      <td>1</td>\n",
       "      <td>1.0</td>\n",
       "    </tr>\n",
       "    <tr>\n",
       "      <th>2</th>\n",
       "      <td>(1.0, 1.0, 0.0, 0.0, 0.0, 0.0, 0.0, 0.0, 0.0, ...</td>\n",
       "      <td>0</td>\n",
       "      <td>0.0</td>\n",
       "    </tr>\n",
       "    <tr>\n",
       "      <th>3</th>\n",
       "      <td>(1.0, 0.0, 1.0, 0.0, 0.0, 0.0, 0.0, 0.0, 0.0, ...</td>\n",
       "      <td>1</td>\n",
       "      <td>1.0</td>\n",
       "    </tr>\n",
       "    <tr>\n",
       "      <th>4</th>\n",
       "      <td>(1.0, 0.0, 0.0, 0.0, 0.0, 0.0, 0.0, 0.0, 0.0, ...</td>\n",
       "      <td>0</td>\n",
       "      <td>0.0</td>\n",
       "    </tr>\n",
       "  </tbody>\n",
       "</table>\n",
       "</div>"
      ],
      "text/plain": [
       "                                            features  booking_status  \\\n",
       "0  (1.0, 0.0, 0.0, 0.0, 0.0, 0.0, 1.0, 0.0, 0.0, ...               0   \n",
       "1  (1.0, 0.0, 1.0, 0.0, 0.0, 0.0, 0.0, 0.0, 0.0, ...               1   \n",
       "2  (1.0, 1.0, 0.0, 0.0, 0.0, 0.0, 0.0, 0.0, 0.0, ...               0   \n",
       "3  (1.0, 0.0, 1.0, 0.0, 0.0, 0.0, 0.0, 0.0, 0.0, ...               1   \n",
       "4  (1.0, 0.0, 0.0, 0.0, 0.0, 0.0, 0.0, 0.0, 0.0, ...               0   \n",
       "\n",
       "   prediction  \n",
       "0         0.0  \n",
       "1         1.0  \n",
       "2         0.0  \n",
       "3         1.0  \n",
       "4         0.0  "
      ]
     },
     "execution_count": 27,
     "metadata": {},
     "output_type": "execute_result"
    }
   ],
   "source": [
    "pred_df.select(\"features\", \"booking_status\", \"prediction\").toPandas().head()"
   ]
  },
  {
   "cell_type": "code",
   "execution_count": 28,
   "id": "864d40ff",
   "metadata": {
    "execution": {
     "iopub.execute_input": "2023-02-27T23:34:18.613794Z",
     "iopub.status.busy": "2023-02-27T23:34:18.613338Z",
     "iopub.status.idle": "2023-02-27T23:34:18.625621Z",
     "shell.execute_reply": "2023-02-27T23:34:18.624386Z"
    },
    "papermill": {
     "duration": 0.052057,
     "end_time": "2023-02-27T23:34:18.628661",
     "exception": false,
     "start_time": "2023-02-27T23:34:18.576604",
     "status": "completed"
    },
    "tags": []
   },
   "outputs": [],
   "source": [
    "from pyspark.ml.evaluation import BinaryClassificationEvaluator\n",
    "\n",
    "regression_evaluator = BinaryClassificationEvaluator(rawPredictionCol=\"prediction\", labelCol=\"booking_status\", metricName='areaUnderROC')"
   ]
  },
  {
   "cell_type": "code",
   "execution_count": 29,
   "id": "ef855cd2",
   "metadata": {
    "execution": {
     "iopub.execute_input": "2023-02-27T23:34:18.691524Z",
     "iopub.status.busy": "2023-02-27T23:34:18.691060Z",
     "iopub.status.idle": "2023-02-27T23:34:19.661971Z",
     "shell.execute_reply": "2023-02-27T23:34:19.660537Z"
    },
    "papermill": {
     "duration": 1.006545,
     "end_time": "2023-02-27T23:34:19.665645",
     "exception": false,
     "start_time": "2023-02-27T23:34:18.659100",
     "status": "completed"
    },
    "tags": []
   },
   "outputs": [
    {
     "name": "stdout",
     "output_type": "stream",
     "text": [
      "AUC is 0.6027458804430166\n"
     ]
    }
   ],
   "source": [
    "#BASELINE AUC\n",
    "auc = regression_evaluator.evaluate(pred_df)\n",
    "\n",
    "print(f\"AUC is {auc}\")"
   ]
  },
  {
   "cell_type": "markdown",
   "id": "a12fdb2e",
   "metadata": {
    "papermill": {
     "duration": 0.031658,
     "end_time": "2023-02-27T23:34:19.744855",
     "exception": false,
     "start_time": "2023-02-27T23:34:19.713197",
     "status": "completed"
    },
    "tags": []
   },
   "source": [
    "# Add Cross Validation Strategy"
   ]
  },
  {
   "cell_type": "code",
   "execution_count": 30,
   "id": "378f2266",
   "metadata": {
    "execution": {
     "iopub.execute_input": "2023-02-27T23:34:19.808004Z",
     "iopub.status.busy": "2023-02-27T23:34:19.807570Z",
     "iopub.status.idle": "2023-02-27T23:34:19.813265Z",
     "shell.execute_reply": "2023-02-27T23:34:19.811756Z"
    },
    "papermill": {
     "duration": 0.039984,
     "end_time": "2023-02-27T23:34:19.815689",
     "exception": false,
     "start_time": "2023-02-27T23:34:19.775705",
     "status": "completed"
    },
    "tags": []
   },
   "outputs": [],
   "source": [
    "from pyspark.ml.tuning import CrossValidator, ParamGridBuilder"
   ]
  },
  {
   "cell_type": "code",
   "execution_count": 31,
   "id": "61e734b5",
   "metadata": {
    "execution": {
     "iopub.execute_input": "2023-02-27T23:34:19.880558Z",
     "iopub.status.busy": "2023-02-27T23:34:19.879558Z",
     "iopub.status.idle": "2023-02-27T23:39:07.249559Z",
     "shell.execute_reply": "2023-02-27T23:39:07.248371Z"
    },
    "papermill": {
     "duration": 287.40576,
     "end_time": "2023-02-27T23:39:07.252612",
     "exception": false,
     "start_time": "2023-02-27T23:34:19.846852",
     "status": "completed"
    },
    "tags": []
   },
   "outputs": [
    {
     "name": "stderr",
     "output_type": "stream",
     "text": [
      "                                                                                \r"
     ]
    }
   ],
   "source": [
    "paramGrid = ParamGridBuilder() \\\n",
    "    .addGrid(lr.maxIter, [10, 100, 1000]) \\\n",
    "    .addGrid(lr.regParam, [0.1, 0.01]) \\\n",
    "    .addGrid(lr.fitIntercept, [True, False]) \\\n",
    "    .addGrid(lr.threshold, [0.3, 0.4, 0.5, 0.6, 0.7]) \\\n",
    "    .build()\n",
    "\n",
    "crossval = CrossValidator(estimator=pipeline,\n",
    "                          estimatorParamMaps=paramGrid,\n",
    "                          evaluator=regression_evaluator,\n",
    "                          numFolds=3) \n",
    "\n",
    "# Run cross-validation, and choose the best set of parameters.\n",
    "cvModel = crossval.fit(X_train)\n"
   ]
  },
  {
   "cell_type": "code",
   "execution_count": 32,
   "id": "ff0d7a6f",
   "metadata": {
    "execution": {
     "iopub.execute_input": "2023-02-27T23:39:07.317821Z",
     "iopub.status.busy": "2023-02-27T23:39:07.317013Z",
     "iopub.status.idle": "2023-02-27T23:39:07.803115Z",
     "shell.execute_reply": "2023-02-27T23:39:07.801786Z"
    },
    "papermill": {
     "duration": 0.521435,
     "end_time": "2023-02-27T23:39:07.806759",
     "exception": false,
     "start_time": "2023-02-27T23:39:07.285324",
     "status": "completed"
    },
    "tags": []
   },
   "outputs": [
    {
     "name": "stdout",
     "output_type": "stream",
     "text": [
      "CV AUC is 0.6328468916150359\n"
     ]
    }
   ],
   "source": [
    "prediction = cvModel.transform(X_test)\n",
    "\n",
    "auc = regression_evaluator.evaluate(prediction)\n",
    "\n",
    "print(f\"CV AUC is {auc}\")"
   ]
  },
  {
   "cell_type": "markdown",
   "id": "ff4687d5",
   "metadata": {
    "papermill": {
     "duration": 0.030688,
     "end_time": "2023-02-27T23:39:07.872517",
     "exception": false,
     "start_time": "2023-02-27T23:39:07.841829",
     "status": "completed"
    },
    "tags": []
   },
   "source": [
    "> The improved validation score is 0.6328. This score is very close to what was shown on the leaderboard for this particular submission."
   ]
  },
  {
   "cell_type": "markdown",
   "id": "b5682a78",
   "metadata": {
    "papermill": {
     "duration": 0.030307,
     "end_time": "2023-02-27T23:39:07.933443",
     "exception": false,
     "start_time": "2023-02-27T23:39:07.903136",
     "status": "completed"
    },
    "tags": []
   },
   "source": [
    "## Submit"
   ]
  },
  {
   "cell_type": "code",
   "execution_count": 33,
   "id": "bdbe6a7e",
   "metadata": {
    "execution": {
     "iopub.execute_input": "2023-02-27T23:39:07.997020Z",
     "iopub.status.busy": "2023-02-27T23:39:07.996458Z",
     "iopub.status.idle": "2023-02-27T23:39:10.339863Z",
     "shell.execute_reply": "2023-02-27T23:39:10.338616Z"
    },
    "papermill": {
     "duration": 2.378975,
     "end_time": "2023-02-27T23:39:10.343156",
     "exception": false,
     "start_time": "2023-02-27T23:39:07.964181",
     "status": "completed"
    },
    "tags": []
   },
   "outputs": [],
   "source": [
    "#CREATE FINAL PREDICTIONS\n",
    "prediction = cvModel.transform(test_df)\n",
    "predictions = prediction.select(\"features\", \"prediction\").toPandas()[\"prediction\"]"
   ]
  },
  {
   "cell_type": "code",
   "execution_count": 34,
   "id": "a25b227a",
   "metadata": {
    "execution": {
     "iopub.execute_input": "2023-02-27T23:39:10.414123Z",
     "iopub.status.busy": "2023-02-27T23:39:10.412985Z",
     "iopub.status.idle": "2023-02-27T23:39:10.475907Z",
     "shell.execute_reply": "2023-02-27T23:39:10.474898Z"
    },
    "papermill": {
     "duration": 0.097554,
     "end_time": "2023-02-27T23:39:10.478655",
     "exception": false,
     "start_time": "2023-02-27T23:39:10.381101",
     "status": "completed"
    },
    "tags": []
   },
   "outputs": [],
   "source": [
    "submission = pd.read_csv('/kaggle/input/playground-series-s3e7/sample_submission.csv')\n",
    "submission['booking_status'] = predictions\n",
    "submission.to_csv('pyspark_lr_2.csv', index=False)"
   ]
  },
  {
   "cell_type": "markdown",
   "id": "3ee0e65f",
   "metadata": {
    "papermill": {
     "duration": 0.030098,
     "end_time": "2023-02-27T23:39:10.539077",
     "exception": false,
     "start_time": "2023-02-27T23:39:10.508979",
     "status": "completed"
    },
    "tags": []
   },
   "source": [
    "# CV On All Training Data"
   ]
  },
  {
   "cell_type": "code",
   "execution_count": 35,
   "id": "9b95789f",
   "metadata": {
    "execution": {
     "iopub.execute_input": "2023-02-27T23:39:10.604356Z",
     "iopub.status.busy": "2023-02-27T23:39:10.603301Z",
     "iopub.status.idle": "2023-02-27T23:43:41.609962Z",
     "shell.execute_reply": "2023-02-27T23:43:41.609001Z"
    },
    "papermill": {
     "duration": 271.041159,
     "end_time": "2023-02-27T23:43:41.612808",
     "exception": false,
     "start_time": "2023-02-27T23:39:10.571649",
     "status": "completed"
    },
    "tags": []
   },
   "outputs": [],
   "source": [
    "#NOW TRAIN ON ENTIRE TRAINING SET\n",
    "paramGrid = ParamGridBuilder() \\\n",
    "    .addGrid(lr.maxIter, [10, 100, 1000]) \\\n",
    "    .addGrid(lr.regParam, [0.1, 0.01]) \\\n",
    "    .addGrid(lr.fitIntercept, [True, False]) \\\n",
    "    .addGrid(lr.threshold, [0.3, 0.4, 0.5, 0.6, 0.7]) \\\n",
    "    .build()\n",
    "\n",
    "crossval = CrossValidator(estimator=pipeline,\n",
    "                          estimatorParamMaps=paramGrid,\n",
    "                          evaluator=regression_evaluator,\n",
    "                          numFolds=3) \n",
    "\n",
    "# Run cross-validation, and choose the best set of parameters.\n",
    "cvModel = crossval.fit(train_df)"
   ]
  },
  {
   "cell_type": "code",
   "execution_count": 36,
   "id": "635ac121",
   "metadata": {
    "execution": {
     "iopub.execute_input": "2023-02-27T23:43:41.678843Z",
     "iopub.status.busy": "2023-02-27T23:43:41.678037Z",
     "iopub.status.idle": "2023-02-27T23:43:42.094281Z",
     "shell.execute_reply": "2023-02-27T23:43:42.093000Z"
    },
    "papermill": {
     "duration": 0.45122,
     "end_time": "2023-02-27T23:43:42.096915",
     "exception": false,
     "start_time": "2023-02-27T23:43:41.645695",
     "status": "completed"
    },
    "tags": []
   },
   "outputs": [
    {
     "name": "stdout",
     "output_type": "stream",
     "text": [
      "FULL TRAIN CV AUC is 0.6324727827081691\n"
     ]
    }
   ],
   "source": [
    "prediction = cvModel.transform(X_test)\n",
    "\n",
    "auc = regression_evaluator.evaluate(prediction)\n",
    "\n",
    "print(f\"FULL TRAIN CV AUC is {auc}\")"
   ]
  },
  {
   "cell_type": "markdown",
   "id": "ea9b6fd7",
   "metadata": {
    "papermill": {
     "duration": 0.031488,
     "end_time": "2023-02-27T23:43:42.159173",
     "exception": false,
     "start_time": "2023-02-27T23:43:42.127685",
     "status": "completed"
    },
    "tags": []
   },
   "source": []
  },
  {
   "cell_type": "code",
   "execution_count": 37,
   "id": "f5279439",
   "metadata": {
    "execution": {
     "iopub.execute_input": "2023-02-27T23:43:42.222971Z",
     "iopub.status.busy": "2023-02-27T23:43:42.222489Z",
     "iopub.status.idle": "2023-02-27T23:43:44.287139Z",
     "shell.execute_reply": "2023-02-27T23:43:44.285725Z"
    },
    "papermill": {
     "duration": 2.100149,
     "end_time": "2023-02-27T23:43:44.290396",
     "exception": false,
     "start_time": "2023-02-27T23:43:42.190247",
     "status": "completed"
    },
    "tags": []
   },
   "outputs": [],
   "source": [
    "#CREATE FINAL PREDICTIONS\n",
    "prediction = cvModel.transform(test_df)\n",
    "predictions = prediction.select(\"features\", \"prediction\").toPandas()[\"prediction\"]"
   ]
  },
  {
   "cell_type": "code",
   "execution_count": 38,
   "id": "e2cef753",
   "metadata": {
    "execution": {
     "iopub.execute_input": "2023-02-27T23:43:44.358154Z",
     "iopub.status.busy": "2023-02-27T23:43:44.356974Z",
     "iopub.status.idle": "2023-02-27T23:43:44.408123Z",
     "shell.execute_reply": "2023-02-27T23:43:44.406861Z"
    },
    "papermill": {
     "duration": 0.087133,
     "end_time": "2023-02-27T23:43:44.411021",
     "exception": false,
     "start_time": "2023-02-27T23:43:44.323888",
     "status": "completed"
    },
    "tags": []
   },
   "outputs": [],
   "source": [
    "submission = pd.read_csv('/kaggle/input/playground-series-s3e7/sample_submission.csv')\n",
    "submission['booking_status'] = predictions\n",
    "submission.to_csv('pyspark_lr_3.csv', index=False)"
   ]
  },
  {
   "cell_type": "markdown",
   "id": "290089e3",
   "metadata": {
    "papermill": {
     "duration": 0.030998,
     "end_time": "2023-02-27T23:43:44.473655",
     "exception": false,
     "start_time": "2023-02-27T23:43:44.442657",
     "status": "completed"
    },
    "tags": []
   },
   "source": [
    "# Create Submission With Saved Model"
   ]
  },
  {
   "cell_type": "code",
   "execution_count": 39,
   "id": "6c1b41e4",
   "metadata": {
    "execution": {
     "iopub.execute_input": "2023-02-27T23:43:44.539794Z",
     "iopub.status.busy": "2023-02-27T23:43:44.539315Z",
     "iopub.status.idle": "2023-02-27T23:43:44.663783Z",
     "shell.execute_reply": "2023-02-27T23:43:44.662525Z"
    },
    "papermill": {
     "duration": 0.161738,
     "end_time": "2023-02-27T23:43:44.667143",
     "exception": false,
     "start_time": "2023-02-27T23:43:44.505405",
     "status": "completed"
    },
    "tags": []
   },
   "outputs": [],
   "source": [
    "out_df = saved_pipeline_model.transform(test_df)"
   ]
  },
  {
   "cell_type": "code",
   "execution_count": 40,
   "id": "f9151f28",
   "metadata": {
    "execution": {
     "iopub.execute_input": "2023-02-27T23:43:44.730814Z",
     "iopub.status.busy": "2023-02-27T23:43:44.730391Z",
     "iopub.status.idle": "2023-02-27T23:43:46.470291Z",
     "shell.execute_reply": "2023-02-27T23:43:46.468993Z"
    },
    "papermill": {
     "duration": 1.774677,
     "end_time": "2023-02-27T23:43:46.473037",
     "exception": false,
     "start_time": "2023-02-27T23:43:44.698360",
     "status": "completed"
    },
    "tags": []
   },
   "outputs": [],
   "source": [
    "predictions = out_df.select(\"features\", \"prediction\").toPandas()[\"prediction\"]"
   ]
  },
  {
   "cell_type": "code",
   "execution_count": 41,
   "id": "e06eba6f",
   "metadata": {
    "execution": {
     "iopub.execute_input": "2023-02-27T23:43:46.543276Z",
     "iopub.status.busy": "2023-02-27T23:43:46.542601Z",
     "iopub.status.idle": "2023-02-27T23:43:46.590148Z",
     "shell.execute_reply": "2023-02-27T23:43:46.588918Z"
    },
    "papermill": {
     "duration": 0.089151,
     "end_time": "2023-02-27T23:43:46.592835",
     "exception": false,
     "start_time": "2023-02-27T23:43:46.503684",
     "status": "completed"
    },
    "tags": []
   },
   "outputs": [],
   "source": [
    "submission = pd.read_csv('/kaggle/input/playground-series-s3e7/sample_submission.csv')\n",
    "submission['booking_status'] = predictions\n",
    "\n",
    "submission.to_csv('pyspark_lr_1.csv', index=False)"
   ]
  }
 ],
 "metadata": {
  "kernelspec": {
   "display_name": "Python 3",
   "language": "python",
   "name": "python3"
  },
  "language_info": {
   "codemirror_mode": {
    "name": "ipython",
    "version": 3
   },
   "file_extension": ".py",
   "mimetype": "text/x-python",
   "name": "python",
   "nbconvert_exporter": "python",
   "pygments_lexer": "ipython3",
   "version": "3.7.12"
  },
  "papermill": {
   "default_parameters": {},
   "duration": 673.965964,
   "end_time": "2023-02-27T23:43:49.248025",
   "environment_variables": {},
   "exception": null,
   "input_path": "__notebook__.ipynb",
   "output_path": "__notebook__.ipynb",
   "parameters": {},
   "start_time": "2023-02-27T23:32:35.282061",
   "version": "2.4.0"
  }
 },
 "nbformat": 4,
 "nbformat_minor": 5
}
