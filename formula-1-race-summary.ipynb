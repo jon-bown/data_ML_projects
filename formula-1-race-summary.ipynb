{
 "cells": [
  {
   "cell_type": "markdown",
   "id": "05dba935",
   "metadata": {
    "papermill": {
     "duration": 0.008204,
     "end_time": "2023-03-05T21:54:46.313081",
     "exception": false,
     "start_time": "2023-03-05T21:54:46.304877",
     "status": "completed"
    },
    "tags": []
   },
   "source": [
    "<div align='center'>\n",
    "    <img src=\"https://www.raconteur.net/wp-content/uploads/2018/04/shutterstock_762930772.jpg\" width=400/>\n",
    "</div>"
   ]
  },
  {
   "cell_type": "markdown",
   "id": "fe4f642e",
   "metadata": {
    "papermill": {
     "duration": 0.00723,
     "end_time": "2023-03-05T21:54:46.327657",
     "exception": false,
     "start_time": "2023-03-05T21:54:46.320427",
     "status": "completed"
    },
    "tags": []
   },
   "source": [
    "<div class=\"column\" style=\"max-width:100%;\"> \n",
    "    <img src=\"https://cdn-1.motorsport.com/images/mgl/Y99JQRbY/s800/red-bull-racing-logo-1.jpg\" width=70>\n",
    "    <img src=\"https://www.formula1.com/content/fom-website/en/teams/Alpine/_jcr_content/logo.img.jpg/1673451453749.jpg\" width=70>\n",
    "    <img src=\"https://cdn-8.motorsport.com/images/mgl/YEQJgyLY/s800/mclaren-f1-team-logo-1.jpg\" width=60>\n",
    "    <img src=\"https://assets.turbologo.com/blog/en/2019/10/19084952/ferrari-logo-illustration-958x575.jpg\" width=70 />\n",
    "      <img src=\"https://cdn.sanity.io/images/fnx611yr/production/ff454bb2b4adb541b66477adcb49088f8de0fb4a-2400x2400.jpg?rect=0,572,2400,1256&w=1200&h=628&auto=format\"/ width=70>\n",
    "    <img src=\"https://www.formula1.com/content/fom-website/en/teams/Mercedes/_jcr_content/logo.img.jpg/1582638425211.jpg\" width=70/>\n",
    "    <img src=\"https://diginomica.com/sites/default/files/images/2019-05/Haas-F1-logo.jpg\" width=70>\n",
    "    <img src=\"https://d3cm515ijfiu6w.cloudfront.net/wp-content/uploads/2021/01/01082241/Aston-Martin.jpg\" width=70>\n",
    "    <img src=\"https://www.formula1.com/content/fom-website/en/teams/AlphaTauri/_jcr_content/logo.img.jpg/1582650557134.jpg\" width=70>\n",
    "      <img src=\"https://www.formula1.com/content/dam/fom-website/manual/teams/Sauber/Alfa_Romeo_Racing_logo.jpg\"/ width=70>\n",
    "</div>"
   ]
  },
  {
   "cell_type": "code",
   "execution_count": 1,
   "id": "897cb0ab",
   "metadata": {
    "_kg_hide-input": true,
    "_kg_hide-output": true,
    "execution": {
     "iopub.execute_input": "2023-03-05T21:54:46.344618Z",
     "iopub.status.busy": "2023-03-05T21:54:46.344028Z",
     "iopub.status.idle": "2023-03-05T21:54:46.360366Z",
     "shell.execute_reply": "2023-03-05T21:54:46.359406Z"
    },
    "papermill": {
     "duration": 0.027982,
     "end_time": "2023-03-05T21:54:46.362830",
     "exception": false,
     "start_time": "2023-03-05T21:54:46.334848",
     "status": "completed"
    },
    "tags": []
   },
   "outputs": [
    {
     "data": {
      "text/html": [
       "<style>\n",
       "@font-face {\n",
       "  font-family: F1;\n",
       "  src: url(https://www.formula1.com/etc/designs/fom-website/fonts/F1Regular/Formula1-Regular.ttf);\n",
       "}\n",
       "\n",
       "span{\n",
       "  font-family: F1;\n",
       "}\n",
       "\n",
       "a{\n",
       "  font-family: F1;\n",
       "}\n",
       "\n",
       ".nav-pills>li.active>a:focus {\n",
       "    color: #ffffff;\n",
       "    background-color: lightgray;\n",
       "}\n",
       "\n",
       ".container-fluid, .container-fluid h1 {\n",
       "    font-family: F1;\n",
       "    line-height: 1.7;\n",
       "}\n",
       "\n",
       ".container-fluid p {\n",
       "    font-family: F1;\n",
       "    color:black;\n",
       "}\n",
       "\n",
       "h1,h2,h3,h4,h5,h6,p, table {\n",
       "  font-family: F1;\n",
       "  color: black\n",
       "}\n",
       "</style>\n"
      ],
      "text/plain": [
       "<IPython.core.display.HTML object>"
      ]
     },
     "metadata": {},
     "output_type": "display_data"
    }
   ],
   "source": [
    "%%html\n",
    "<style>\n",
    "@font-face {\n",
    "  font-family: F1;\n",
    "  src: url(https://www.formula1.com/etc/designs/fom-website/fonts/F1Regular/Formula1-Regular.ttf);\n",
    "}\n",
    "\n",
    "span{\n",
    "  font-family: F1;\n",
    "}\n",
    "\n",
    "a{\n",
    "  font-family: F1;\n",
    "}\n",
    "\n",
    ".nav-pills>li.active>a:focus {\n",
    "    color: #ffffff;\n",
    "    background-color: lightgray;\n",
    "}\n",
    "\n",
    ".container-fluid, .container-fluid h1 {\n",
    "    font-family: F1;\n",
    "    line-height: 1.7;\n",
    "}\n",
    "\n",
    ".container-fluid p {\n",
    "    font-family: F1;\n",
    "    color:black;\n",
    "}\n",
    "\n",
    "h1,h2,h3,h4,h5,h6,p, table {\n",
    "  font-family: F1;\n",
    "  color: black\n",
    "}\n",
    "</style>"
   ]
  },
  {
   "cell_type": "code",
   "execution_count": 2,
   "id": "56148a66",
   "metadata": {
    "_cell_guid": "b1076dfc-b9ad-4769-8c92-a6c4dae69d19",
    "_kg_hide-input": true,
    "_uuid": "8f2839f25d086af736a60e9eeb907d3b93b6e0e5",
    "execution": {
     "iopub.execute_input": "2023-03-05T21:54:46.380162Z",
     "iopub.status.busy": "2023-03-05T21:54:46.379404Z",
     "iopub.status.idle": "2023-03-05T21:54:49.480890Z",
     "shell.execute_reply": "2023-03-05T21:54:49.479552Z"
    },
    "papermill": {
     "duration": 3.113762,
     "end_time": "2023-03-05T21:54:49.483972",
     "exception": false,
     "start_time": "2023-03-05T21:54:46.370210",
     "status": "completed"
    },
    "tags": []
   },
   "outputs": [],
   "source": [
    "import numpy as np\n",
    "import pandas as pd\n",
    "import datetime\n",
    "from datetime import date\n",
    "import os\n",
    "import seaborn as sns\n",
    "from IPython.display import Markdown as md\n",
    "import matplotlib.pyplot as plt\n",
    "import plotly.express as px\n",
    "from scipy import stats\n",
    "import plotly.graph_objects as go\n",
    "pd.set_option('display.precision', 1)"
   ]
  },
  {
   "cell_type": "code",
   "execution_count": 3,
   "id": "dc798a61",
   "metadata": {
    "_kg_hide-input": true,
    "_kg_hide-output": true,
    "execution": {
     "iopub.execute_input": "2023-03-05T21:54:49.501195Z",
     "iopub.status.busy": "2023-03-05T21:54:49.500757Z",
     "iopub.status.idle": "2023-03-05T21:54:50.474054Z",
     "shell.execute_reply": "2023-03-05T21:54:50.472963Z"
    },
    "papermill": {
     "duration": 0.985528,
     "end_time": "2023-03-05T21:54:50.476802",
     "exception": false,
     "start_time": "2023-03-05T21:54:49.491274",
     "status": "completed"
    },
    "tags": []
   },
   "outputs": [],
   "source": [
    "#DATA CLEANING\n",
    "races = pd.read_csv('/kaggle/input/formula-1-world-championship-1950-2020/races.csv')\n",
    "circuits = pd.read_csv('/kaggle/input/formula-1-world-championship-1950-2020/circuits.csv')\n",
    "constructor_standings = pd.read_csv('/kaggle/input/formula-1-world-championship-1950-2020/constructor_standings.csv')\n",
    "constructor_results = pd.read_csv('/kaggle/input/formula-1-world-championship-1950-2020/constructor_results.csv')\n",
    "drivers = pd.read_csv('/kaggle/input/formula-1-world-championship-1950-2020/drivers.csv')\n",
    "constructors = pd.read_csv('/kaggle/input/formula-1-world-championship-1950-2020/constructors.csv')\n",
    "lap_times = pd.read_csv('/kaggle/input/formula-1-world-championship-1950-2020/lap_times.csv')\n",
    "status = pd.read_csv('/kaggle/input/formula-1-world-championship-1950-2020/status.csv')\n",
    "driver_standings = pd.read_csv('/kaggle/input/formula-1-world-championship-1950-2020/driver_standings.csv')\n",
    "seasons = pd.read_csv('/kaggle/input/formula-1-world-championship-1950-2020/seasons.csv')\n",
    "pit_stops = pd.read_csv('/kaggle/input/formula-1-world-championship-1950-2020/pit_stops.csv')\n",
    "sprint_results = pd.read_csv('/kaggle/input/formula-1-world-championship-1950-2020/sprint_results.csv')\n",
    "results = pd.read_csv('/kaggle/input/formula-1-world-championship-1950-2020/results.csv')\n",
    "qualifying = pd.read_csv('/kaggle/input/formula-1-world-championship-1950-2020/qualifying.csv')\n",
    "\n",
    "my_date = date.today()\n",
    "#Helpers\n",
    "def get_sec(time_str):\n",
    "    \"\"\"Get seconds from time.\"\"\"\n",
    "    if time_str != '\\\\N':\n",
    "        m, s = time_str.split(':')\n",
    "        return float(m) * 60 + float(s)\n",
    "\n",
    "#Colors\n",
    "names = ['ALB', 'ALO', 'DEV', 'VER', 'TSU', 'STR', 'SAR', 'SAI', 'RUS',\n",
    "       'PIA', 'PER', 'OCO', 'NOR', 'MAG', 'LEC', 'HUL', 'HAM', 'GAS',\n",
    "       'BOT', 'ZHO'] \n",
    "color_map = {\n",
    "        'ALB': '#00A0DE',\n",
    "        'SAR': '#00A0DE',\n",
    "        'ZHO': '#A42134',\n",
    "        'BOT': '#A42134',\n",
    "        'TSU': '#20394C',\n",
    "        'DEV': '#20394C',\n",
    "        'VER': '#000B8D',\n",
    "        'PER': '#000B8D',\n",
    "        'HAM': '#00A19B',\n",
    "        'RUS': '#00A19B',\n",
    "        'MAG': '#E6002B',\n",
    "        'HUL': '#E6002B', \n",
    "          'ALO': '#002420', \n",
    "          'STR': '#002420', \n",
    "          'LEC': '#EF1A2D',\n",
    "          'SAI':'#EF1A2D',\n",
    "          'OCO': '#2173B8',\n",
    "          'GAS': '#2173B8',\n",
    "        'NOR': '#FF8000' ,\n",
    "        'PIA': '#FF8000'\n",
    "}\n",
    "\n",
    "\n",
    "\n",
    "races['date'] = pd.to_datetime(races['date'])\n",
    "pit_stops['duration'] = pit_stops['milliseconds']/1000.0\n",
    "lap_times['milliseconds'] = lap_times['milliseconds'].astype(float)\n",
    "lap_times['duration'] = lap_times['milliseconds']/1000.0\n",
    "\n",
    "results\n",
    "\n",
    "races_23 = races[races['year'] == 2022]\n",
    "# find first date in this table before current date\n",
    "#last_race = races_23[races_23['date'] > pd.Timestamp.now().normalize()]\n",
    "last_race = races_23[races_23['date'] < pd.Timestamp(2022,3,31)].sort_values(by='date').iloc[0]\n",
    "current_raceid = last_race['raceId']\n",
    "current_round = last_race['round']\n",
    "current_circuit = last_race['circuitId']\n",
    "current_race_name = last_race['name']\n",
    "current_year = last_race['year']\n",
    "\n",
    "\n",
    "#Driver by Lap\n",
    "race_laps = lap_times[lap_times['raceId'] == current_raceid]\n",
    "lap_driver = race_laps.merge(drivers, on='driverId', how='left', suffixes=('_1', '_2'))\n",
    "lap_driver_no = lap_driver[(stats.zscore(lap_driver['duration'])) <1]\n",
    "\n",
    "\n",
    "\n",
    "#RESULTS\n",
    "result_race = results[results['raceId'] == current_raceid].copy()\n",
    "num_laps = max(result_race['laps'])\n",
    "result_race['lap'] = 0\n",
    "res_race_laps = result_race.merge(drivers, on='driverId', how='left', suffixes=('_1', '_2'))\n",
    "reduced = res_race_laps[['lap', 'grid', 'code']]\n",
    "reduced.columns = ['lap', 'position', 'code']\n",
    "reduced_res = pd.concat([reduced, lap_driver[['lap', 'position', 'code']]], axis=0)\n",
    "res_race_laps = res_race_laps[res_race_laps['lap'] > 0]\n",
    "\n",
    "\n",
    "#Track\n",
    "\n",
    "track = circuits[circuits['circuitId'] == current_circuit]\n",
    "track_lat = track['lat'].values[0]\n",
    "track_lng = track['lng'].values[0]\n",
    "\n",
    "#Podium\n",
    "res_race_lap_status = result_race.merge(status, on='statusId', how='left', suffixes=('_1', '_2'))\n",
    "res_race_lap_status = res_race_lap_status.merge(drivers, on='driverId', how='left', suffixes=('_1', '_2'))\n",
    "res_race_lap_status_pod = res_race_lap_status[res_race_lap_status['position'] != '\\\\N'].copy()\n",
    "res_race_lap_status_pod['position'] = res_race_lap_status_pod['position'].astype(int)\n",
    "res_race_lap_status_pod = res_race_lap_status_pod.sort_values(by='position')\n",
    "\n",
    "\n",
    "\n",
    "# Qualifying To Finishing path\n",
    "qual_race = qualifying[qualifying['raceId'] == current_raceid]\n",
    "qual_driver = qual_race.merge(drivers, on='driverId', how='left', suffixes=('_1', '_2'))\n",
    "qual_driver['q1_dur'] = qual_driver['q1'].apply(lambda x: get_sec(x))\n",
    "qual_driver['q2_dur'] = qual_driver['q2'].apply(lambda x: get_sec(x))\n",
    "qual_driver['q3_dur'] = qual_driver['q3'].apply(lambda x: get_sec(x))\n",
    "qual_driver['max_time'] = qual_driver.apply(lambda x: max(x['q1_dur'], x['q2_dur'], x['q3_dur']), axis=1)\n",
    "qual_driver['min_time'] = qual_driver.apply(lambda x: min(x['q1_dur'], x['q2_dur'], x['q3_dur']), axis=1)\n",
    "max_time = max(qual_driver['max_time'])\n",
    "min_time = min(qual_driver['min_time']) - 1\n",
    "\n",
    "\n",
    "#Pit Stops\n",
    "race_pits = pit_stops[pit_stops['raceId']  == current_raceid]\n",
    "# join with racer names\n",
    "pit_driver = race_pits.merge(drivers, on='driverId', how='inner', suffixes=('_1', '_2'))\n",
    "driver_group = pd.DataFrame()\n",
    "mean = pit_driver.groupby(['code'])['duration'].mean()\n",
    "mini = pit_driver.groupby(['code'])['duration'].min()\n",
    "maxi = pit_driver.groupby(['code'])['duration'].max()\n",
    "driver_group['mean'] = mean\n",
    "driver_group['max'] = maxi\n",
    "driver_group['min'] = mini\n",
    "driver_group['code'] = driver_group.index\n",
    "driver_group = driver_group.sort_values(by=\"max\")"
   ]
  },
  {
   "cell_type": "code",
   "execution_count": 4,
   "id": "52659518",
   "metadata": {
    "execution": {
     "iopub.execute_input": "2023-03-05T21:54:50.494189Z",
     "iopub.status.busy": "2023-03-05T21:54:50.492947Z",
     "iopub.status.idle": "2023-03-05T21:54:50.532839Z",
     "shell.execute_reply": "2023-03-05T21:54:50.531535Z"
    },
    "papermill": {
     "duration": 0.051461,
     "end_time": "2023-03-05T21:54:50.535669",
     "exception": false,
     "start_time": "2023-03-05T21:54:50.484208",
     "status": "completed"
    },
    "tags": []
   },
   "outputs": [
    {
     "data": {
      "text/html": [
       "<div>\n",
       "<style scoped>\n",
       "    .dataframe tbody tr th:only-of-type {\n",
       "        vertical-align: middle;\n",
       "    }\n",
       "\n",
       "    .dataframe tbody tr th {\n",
       "        vertical-align: top;\n",
       "    }\n",
       "\n",
       "    .dataframe thead th {\n",
       "        text-align: right;\n",
       "    }\n",
       "</style>\n",
       "<table border=\"1\" class=\"dataframe\">\n",
       "  <thead>\n",
       "    <tr style=\"text-align: right;\">\n",
       "      <th></th>\n",
       "      <th>resultId</th>\n",
       "      <th>raceId</th>\n",
       "      <th>driverId</th>\n",
       "      <th>constructorId</th>\n",
       "      <th>number</th>\n",
       "      <th>grid</th>\n",
       "      <th>position</th>\n",
       "      <th>positionText</th>\n",
       "      <th>positionOrder</th>\n",
       "      <th>points</th>\n",
       "      <th>laps</th>\n",
       "      <th>time</th>\n",
       "      <th>milliseconds</th>\n",
       "      <th>fastestLap</th>\n",
       "      <th>rank</th>\n",
       "      <th>fastestLapTime</th>\n",
       "      <th>fastestLapSpeed</th>\n",
       "      <th>statusId</th>\n",
       "    </tr>\n",
       "  </thead>\n",
       "  <tbody>\n",
       "    <tr>\n",
       "      <th>0</th>\n",
       "      <td>1</td>\n",
       "      <td>18</td>\n",
       "      <td>1</td>\n",
       "      <td>1</td>\n",
       "      <td>22</td>\n",
       "      <td>1</td>\n",
       "      <td>1</td>\n",
       "      <td>1</td>\n",
       "      <td>1</td>\n",
       "      <td>10.0</td>\n",
       "      <td>58</td>\n",
       "      <td>1:34:50.616</td>\n",
       "      <td>5690616</td>\n",
       "      <td>39</td>\n",
       "      <td>2</td>\n",
       "      <td>1:27.452</td>\n",
       "      <td>218.300</td>\n",
       "      <td>1</td>\n",
       "    </tr>\n",
       "    <tr>\n",
       "      <th>1</th>\n",
       "      <td>2</td>\n",
       "      <td>18</td>\n",
       "      <td>2</td>\n",
       "      <td>2</td>\n",
       "      <td>3</td>\n",
       "      <td>5</td>\n",
       "      <td>2</td>\n",
       "      <td>2</td>\n",
       "      <td>2</td>\n",
       "      <td>8.0</td>\n",
       "      <td>58</td>\n",
       "      <td>+5.478</td>\n",
       "      <td>5696094</td>\n",
       "      <td>41</td>\n",
       "      <td>3</td>\n",
       "      <td>1:27.739</td>\n",
       "      <td>217.586</td>\n",
       "      <td>1</td>\n",
       "    </tr>\n",
       "    <tr>\n",
       "      <th>2</th>\n",
       "      <td>3</td>\n",
       "      <td>18</td>\n",
       "      <td>3</td>\n",
       "      <td>3</td>\n",
       "      <td>7</td>\n",
       "      <td>7</td>\n",
       "      <td>3</td>\n",
       "      <td>3</td>\n",
       "      <td>3</td>\n",
       "      <td>6.0</td>\n",
       "      <td>58</td>\n",
       "      <td>+8.163</td>\n",
       "      <td>5698779</td>\n",
       "      <td>41</td>\n",
       "      <td>5</td>\n",
       "      <td>1:28.090</td>\n",
       "      <td>216.719</td>\n",
       "      <td>1</td>\n",
       "    </tr>\n",
       "    <tr>\n",
       "      <th>3</th>\n",
       "      <td>4</td>\n",
       "      <td>18</td>\n",
       "      <td>4</td>\n",
       "      <td>4</td>\n",
       "      <td>5</td>\n",
       "      <td>11</td>\n",
       "      <td>4</td>\n",
       "      <td>4</td>\n",
       "      <td>4</td>\n",
       "      <td>5.0</td>\n",
       "      <td>58</td>\n",
       "      <td>+17.181</td>\n",
       "      <td>5707797</td>\n",
       "      <td>58</td>\n",
       "      <td>7</td>\n",
       "      <td>1:28.603</td>\n",
       "      <td>215.464</td>\n",
       "      <td>1</td>\n",
       "    </tr>\n",
       "    <tr>\n",
       "      <th>4</th>\n",
       "      <td>5</td>\n",
       "      <td>18</td>\n",
       "      <td>5</td>\n",
       "      <td>1</td>\n",
       "      <td>23</td>\n",
       "      <td>3</td>\n",
       "      <td>5</td>\n",
       "      <td>5</td>\n",
       "      <td>5</td>\n",
       "      <td>4.0</td>\n",
       "      <td>58</td>\n",
       "      <td>+18.014</td>\n",
       "      <td>5708630</td>\n",
       "      <td>43</td>\n",
       "      <td>1</td>\n",
       "      <td>1:27.418</td>\n",
       "      <td>218.385</td>\n",
       "      <td>1</td>\n",
       "    </tr>\n",
       "  </tbody>\n",
       "</table>\n",
       "</div>"
      ],
      "text/plain": [
       "   resultId  raceId  driverId  constructorId number  grid position  \\\n",
       "0         1      18         1              1     22     1        1   \n",
       "1         2      18         2              2      3     5        2   \n",
       "2         3      18         3              3      7     7        3   \n",
       "3         4      18         4              4      5    11        4   \n",
       "4         5      18         5              1     23     3        5   \n",
       "\n",
       "  positionText  positionOrder  points  laps         time milliseconds  \\\n",
       "0            1              1    10.0    58  1:34:50.616      5690616   \n",
       "1            2              2     8.0    58       +5.478      5696094   \n",
       "2            3              3     6.0    58       +8.163      5698779   \n",
       "3            4              4     5.0    58      +17.181      5707797   \n",
       "4            5              5     4.0    58      +18.014      5708630   \n",
       "\n",
       "  fastestLap rank fastestLapTime fastestLapSpeed  statusId  \n",
       "0         39    2       1:27.452         218.300         1  \n",
       "1         41    3       1:27.739         217.586         1  \n",
       "2         41    5       1:28.090         216.719         1  \n",
       "3         58    7       1:28.603         215.464         1  \n",
       "4         43    1       1:27.418         218.385         1  "
      ]
     },
     "execution_count": 4,
     "metadata": {},
     "output_type": "execute_result"
    }
   ],
   "source": [
    "results.round(decimals=2).head()"
   ]
  },
  {
   "cell_type": "code",
   "execution_count": 5,
   "id": "1102123e",
   "metadata": {
    "_kg_hide-input": true,
    "execution": {
     "iopub.execute_input": "2023-03-05T21:54:50.553024Z",
     "iopub.status.busy": "2023-03-05T21:54:50.552596Z",
     "iopub.status.idle": "2023-03-05T21:54:50.561260Z",
     "shell.execute_reply": "2023-03-05T21:54:50.559939Z"
    },
    "papermill": {
     "duration": 0.020557,
     "end_time": "2023-03-05T21:54:50.563913",
     "exception": false,
     "start_time": "2023-03-05T21:54:50.543356",
     "status": "completed"
    },
    "tags": []
   },
   "outputs": [],
   "source": [
    "# Styling\n",
    "def podium(styler):\n",
    "    styler.set_caption(\"Podium Results\")\n",
    "    styler.background_gradient(axis=None, vmin=1, vmax=5, cmap=\"YlGnBu\")\n",
    "    styler.hide_index()\n",
    "   # styler.format({'points': \"{.1f}\"})\n",
    "    return styler\n",
    "\n",
    "\n",
    "def results_style(styler):\n",
    "    styler.set_caption(\"Race Results\")\n",
    "    styler.background_gradient(axis=None, vmin=1, vmax=5, cmap=\"YlGnBu\")\n",
    "    styler.hide_index()\n",
    "    return styler\n",
    "\n",
    "def driver_stand(styler):\n",
    "    styler.set_caption(\"Driver Standings\")\n",
    "    styler.background_gradient(axis=None, vmin=1, vmax=5, cmap=\"YlGnBu\")\n",
    "    styler.hide_index()\n",
    "    return styler\n",
    "\n",
    "def const_standings(styler):\n",
    "    styler.set_caption(\"Constructor Standings\")\n",
    "    styler.background_gradient(axis=None, vmin=1, vmax=5, cmap=\"YlOrRd\")\n",
    "    styler.hide_index()\n",
    "    return styler"
   ]
  },
  {
   "cell_type": "code",
   "execution_count": 6,
   "id": "7e62b7b0",
   "metadata": {
    "_kg_hide-input": true,
    "execution": {
     "iopub.execute_input": "2023-03-05T21:54:50.581708Z",
     "iopub.status.busy": "2023-03-05T21:54:50.580370Z",
     "iopub.status.idle": "2023-03-05T21:54:50.588986Z",
     "shell.execute_reply": "2023-03-05T21:54:50.587750Z"
    },
    "papermill": {
     "duration": 0.020139,
     "end_time": "2023-03-05T21:54:50.591555",
     "exception": false,
     "start_time": "2023-03-05T21:54:50.571416",
     "status": "completed"
    },
    "tags": []
   },
   "outputs": [
    {
     "data": {
      "text/markdown": [
       "# Bahrain Grand Prix, 2022 Data Summary"
      ],
      "text/plain": [
       "<IPython.core.display.Markdown object>"
      ]
     },
     "metadata": {},
     "output_type": "display_data"
    }
   ],
   "source": [
    "display(md(f\"# {current_race_name}, {current_year} Data Summary\"))"
   ]
  },
  {
   "cell_type": "code",
   "execution_count": 7,
   "id": "7e174aee",
   "metadata": {
    "_kg_hide-input": true,
    "_kg_hide-output": true,
    "execution": {
     "iopub.execute_input": "2023-03-05T21:54:50.611096Z",
     "iopub.status.busy": "2023-03-05T21:54:50.609725Z",
     "iopub.status.idle": "2023-03-05T21:55:04.741872Z",
     "shell.execute_reply": "2023-03-05T21:55:04.740493Z"
    },
    "papermill": {
     "duration": 14.145591,
     "end_time": "2023-03-05T21:55:04.744886",
     "exception": false,
     "start_time": "2023-03-05T21:54:50.599295",
     "status": "completed"
    },
    "tags": []
   },
   "outputs": [
    {
     "name": "stdout",
     "output_type": "stream",
     "text": [
      "Collecting gmplot\r\n",
      "  Downloading gmplot-1.4.1-py3-none-any.whl (164 kB)\r\n",
      "\u001b[2K     \u001b[90m━━━━━━━━━━━━━━━━━━━━━━━━━━━━━━━━━━━━━\u001b[0m \u001b[32m164.7/164.7 kB\u001b[0m \u001b[31m383.4 kB/s\u001b[0m eta \u001b[36m0:00:00\u001b[0m\r\n",
      "\u001b[?25hRequirement already satisfied: requests in /opt/conda/lib/python3.7/site-packages (from gmplot) (2.28.2)\r\n",
      "Requirement already satisfied: urllib3<1.27,>=1.21.1 in /opt/conda/lib/python3.7/site-packages (from requests->gmplot) (1.26.14)\r\n",
      "Requirement already satisfied: idna<4,>=2.5 in /opt/conda/lib/python3.7/site-packages (from requests->gmplot) (3.4)\r\n",
      "Requirement already satisfied: certifi>=2017.4.17 in /opt/conda/lib/python3.7/site-packages (from requests->gmplot) (2022.12.7)\r\n",
      "Requirement already satisfied: charset-normalizer<4,>=2 in /opt/conda/lib/python3.7/site-packages (from requests->gmplot) (2.1.1)\r\n",
      "Installing collected packages: gmplot\r\n",
      "Successfully installed gmplot-1.4.1\r\n",
      "\u001b[33mWARNING: Running pip as the 'root' user can result in broken permissions and conflicting behaviour with the system package manager. It is recommended to use a virtual environment instead: https://pip.pypa.io/warnings/venv\u001b[0m\u001b[33m\r\n",
      "\u001b[0m"
     ]
    }
   ],
   "source": [
    "!pip install gmplot"
   ]
  },
  {
   "cell_type": "code",
   "execution_count": 8,
   "id": "a5eccf8b",
   "metadata": {
    "_kg_hide-input": true,
    "execution": {
     "iopub.execute_input": "2023-03-05T21:55:04.764326Z",
     "iopub.status.busy": "2023-03-05T21:55:04.763889Z",
     "iopub.status.idle": "2023-03-05T21:55:06.478724Z",
     "shell.execute_reply": "2023-03-05T21:55:06.477639Z"
    },
    "papermill": {
     "duration": 1.727359,
     "end_time": "2023-03-05T21:55:06.481050",
     "exception": false,
     "start_time": "2023-03-05T21:55:04.753691",
     "status": "completed"
    },
    "tags": []
   },
   "outputs": [
    {
     "data": {
      "text/html": [
       "        <script type=\"text/javascript\">\n",
       "        window.PlotlyConfig = {MathJaxConfig: 'local'};\n",
       "        if (window.MathJax && window.MathJax.Hub && window.MathJax.Hub.Config) {window.MathJax.Hub.Config({SVG: {font: \"STIX-Web\"}});}\n",
       "        if (typeof require !== 'undefined') {\n",
       "        require.undef(\"plotly\");\n",
       "        requirejs.config({\n",
       "            paths: {\n",
       "                'plotly': ['https://cdn.plot.ly/plotly-2.18.0.min']\n",
       "            }\n",
       "        });\n",
       "        require(['plotly'], function(Plotly) {\n",
       "            window._Plotly = Plotly;\n",
       "        });\n",
       "        }\n",
       "        </script>\n",
       "        "
      ]
     },
     "metadata": {},
     "output_type": "display_data"
    },
    {
     "data": {
      "text/html": [
       "<div>                            <div id=\"6f6bc69d-24b9-47c4-960c-e9d57d17d5b3\" class=\"plotly-graph-div\" style=\"height:300px; width:100%;\"></div>            <script type=\"text/javascript\">                require([\"plotly\"], function(Plotly) {                    window.PLOTLYENV=window.PLOTLYENV || {};                                    if (document.getElementById(\"6f6bc69d-24b9-47c4-960c-e9d57d17d5b3\")) {                    Plotly.newPlot(                        \"6f6bc69d-24b9-47c4-960c-e9d57d17d5b3\",                        [{\"hovertemplate\":\"lat=%{lat}<br>lng=%{lon}<extra></extra>\",\"lat\":[26.0325],\"legendgroup\":\"\",\"lon\":[50.5106],\"marker\":{\"color\":\"fuchsia\"},\"mode\":\"markers\",\"name\":\"\",\"showlegend\":false,\"subplot\":\"mapbox\",\"type\":\"scattermapbox\"}],                        {\"template\":{\"data\":{\"histogram2dcontour\":[{\"type\":\"histogram2dcontour\",\"colorbar\":{\"outlinewidth\":0,\"ticks\":\"\"},\"colorscale\":[[0.0,\"#0d0887\"],[0.1111111111111111,\"#46039f\"],[0.2222222222222222,\"#7201a8\"],[0.3333333333333333,\"#9c179e\"],[0.4444444444444444,\"#bd3786\"],[0.5555555555555556,\"#d8576b\"],[0.6666666666666666,\"#ed7953\"],[0.7777777777777778,\"#fb9f3a\"],[0.8888888888888888,\"#fdca26\"],[1.0,\"#f0f921\"]]}],\"choropleth\":[{\"type\":\"choropleth\",\"colorbar\":{\"outlinewidth\":0,\"ticks\":\"\"}}],\"histogram2d\":[{\"type\":\"histogram2d\",\"colorbar\":{\"outlinewidth\":0,\"ticks\":\"\"},\"colorscale\":[[0.0,\"#0d0887\"],[0.1111111111111111,\"#46039f\"],[0.2222222222222222,\"#7201a8\"],[0.3333333333333333,\"#9c179e\"],[0.4444444444444444,\"#bd3786\"],[0.5555555555555556,\"#d8576b\"],[0.6666666666666666,\"#ed7953\"],[0.7777777777777778,\"#fb9f3a\"],[0.8888888888888888,\"#fdca26\"],[1.0,\"#f0f921\"]]}],\"heatmap\":[{\"type\":\"heatmap\",\"colorbar\":{\"outlinewidth\":0,\"ticks\":\"\"},\"colorscale\":[[0.0,\"#0d0887\"],[0.1111111111111111,\"#46039f\"],[0.2222222222222222,\"#7201a8\"],[0.3333333333333333,\"#9c179e\"],[0.4444444444444444,\"#bd3786\"],[0.5555555555555556,\"#d8576b\"],[0.6666666666666666,\"#ed7953\"],[0.7777777777777778,\"#fb9f3a\"],[0.8888888888888888,\"#fdca26\"],[1.0,\"#f0f921\"]]}],\"heatmapgl\":[{\"type\":\"heatmapgl\",\"colorbar\":{\"outlinewidth\":0,\"ticks\":\"\"},\"colorscale\":[[0.0,\"#0d0887\"],[0.1111111111111111,\"#46039f\"],[0.2222222222222222,\"#7201a8\"],[0.3333333333333333,\"#9c179e\"],[0.4444444444444444,\"#bd3786\"],[0.5555555555555556,\"#d8576b\"],[0.6666666666666666,\"#ed7953\"],[0.7777777777777778,\"#fb9f3a\"],[0.8888888888888888,\"#fdca26\"],[1.0,\"#f0f921\"]]}],\"contourcarpet\":[{\"type\":\"contourcarpet\",\"colorbar\":{\"outlinewidth\":0,\"ticks\":\"\"}}],\"contour\":[{\"type\":\"contour\",\"colorbar\":{\"outlinewidth\":0,\"ticks\":\"\"},\"colorscale\":[[0.0,\"#0d0887\"],[0.1111111111111111,\"#46039f\"],[0.2222222222222222,\"#7201a8\"],[0.3333333333333333,\"#9c179e\"],[0.4444444444444444,\"#bd3786\"],[0.5555555555555556,\"#d8576b\"],[0.6666666666666666,\"#ed7953\"],[0.7777777777777778,\"#fb9f3a\"],[0.8888888888888888,\"#fdca26\"],[1.0,\"#f0f921\"]]}],\"surface\":[{\"type\":\"surface\",\"colorbar\":{\"outlinewidth\":0,\"ticks\":\"\"},\"colorscale\":[[0.0,\"#0d0887\"],[0.1111111111111111,\"#46039f\"],[0.2222222222222222,\"#7201a8\"],[0.3333333333333333,\"#9c179e\"],[0.4444444444444444,\"#bd3786\"],[0.5555555555555556,\"#d8576b\"],[0.6666666666666666,\"#ed7953\"],[0.7777777777777778,\"#fb9f3a\"],[0.8888888888888888,\"#fdca26\"],[1.0,\"#f0f921\"]]}],\"mesh3d\":[{\"type\":\"mesh3d\",\"colorbar\":{\"outlinewidth\":0,\"ticks\":\"\"}}],\"scatter\":[{\"fillpattern\":{\"fillmode\":\"overlay\",\"size\":10,\"solidity\":0.2},\"type\":\"scatter\"}],\"parcoords\":[{\"type\":\"parcoords\",\"line\":{\"colorbar\":{\"outlinewidth\":0,\"ticks\":\"\"}}}],\"scatterpolargl\":[{\"type\":\"scatterpolargl\",\"marker\":{\"colorbar\":{\"outlinewidth\":0,\"ticks\":\"\"}}}],\"bar\":[{\"error_x\":{\"color\":\"#2a3f5f\"},\"error_y\":{\"color\":\"#2a3f5f\"},\"marker\":{\"line\":{\"color\":\"#E5ECF6\",\"width\":0.5},\"pattern\":{\"fillmode\":\"overlay\",\"size\":10,\"solidity\":0.2}},\"type\":\"bar\"}],\"scattergeo\":[{\"type\":\"scattergeo\",\"marker\":{\"colorbar\":{\"outlinewidth\":0,\"ticks\":\"\"}}}],\"scatterpolar\":[{\"type\":\"scatterpolar\",\"marker\":{\"colorbar\":{\"outlinewidth\":0,\"ticks\":\"\"}}}],\"histogram\":[{\"marker\":{\"pattern\":{\"fillmode\":\"overlay\",\"size\":10,\"solidity\":0.2}},\"type\":\"histogram\"}],\"scattergl\":[{\"type\":\"scattergl\",\"marker\":{\"colorbar\":{\"outlinewidth\":0,\"ticks\":\"\"}}}],\"scatter3d\":[{\"type\":\"scatter3d\",\"line\":{\"colorbar\":{\"outlinewidth\":0,\"ticks\":\"\"}},\"marker\":{\"colorbar\":{\"outlinewidth\":0,\"ticks\":\"\"}}}],\"scattermapbox\":[{\"type\":\"scattermapbox\",\"marker\":{\"colorbar\":{\"outlinewidth\":0,\"ticks\":\"\"}}}],\"scatterternary\":[{\"type\":\"scatterternary\",\"marker\":{\"colorbar\":{\"outlinewidth\":0,\"ticks\":\"\"}}}],\"scattercarpet\":[{\"type\":\"scattercarpet\",\"marker\":{\"colorbar\":{\"outlinewidth\":0,\"ticks\":\"\"}}}],\"carpet\":[{\"aaxis\":{\"endlinecolor\":\"#2a3f5f\",\"gridcolor\":\"white\",\"linecolor\":\"white\",\"minorgridcolor\":\"white\",\"startlinecolor\":\"#2a3f5f\"},\"baxis\":{\"endlinecolor\":\"#2a3f5f\",\"gridcolor\":\"white\",\"linecolor\":\"white\",\"minorgridcolor\":\"white\",\"startlinecolor\":\"#2a3f5f\"},\"type\":\"carpet\"}],\"table\":[{\"cells\":{\"fill\":{\"color\":\"#EBF0F8\"},\"line\":{\"color\":\"white\"}},\"header\":{\"fill\":{\"color\":\"#C8D4E3\"},\"line\":{\"color\":\"white\"}},\"type\":\"table\"}],\"barpolar\":[{\"marker\":{\"line\":{\"color\":\"#E5ECF6\",\"width\":0.5},\"pattern\":{\"fillmode\":\"overlay\",\"size\":10,\"solidity\":0.2}},\"type\":\"barpolar\"}],\"pie\":[{\"automargin\":true,\"type\":\"pie\"}]},\"layout\":{\"autotypenumbers\":\"strict\",\"colorway\":[\"#636efa\",\"#EF553B\",\"#00cc96\",\"#ab63fa\",\"#FFA15A\",\"#19d3f3\",\"#FF6692\",\"#B6E880\",\"#FF97FF\",\"#FECB52\"],\"font\":{\"color\":\"#2a3f5f\"},\"hovermode\":\"closest\",\"hoverlabel\":{\"align\":\"left\"},\"paper_bgcolor\":\"white\",\"plot_bgcolor\":\"#E5ECF6\",\"polar\":{\"bgcolor\":\"#E5ECF6\",\"angularaxis\":{\"gridcolor\":\"white\",\"linecolor\":\"white\",\"ticks\":\"\"},\"radialaxis\":{\"gridcolor\":\"white\",\"linecolor\":\"white\",\"ticks\":\"\"}},\"ternary\":{\"bgcolor\":\"#E5ECF6\",\"aaxis\":{\"gridcolor\":\"white\",\"linecolor\":\"white\",\"ticks\":\"\"},\"baxis\":{\"gridcolor\":\"white\",\"linecolor\":\"white\",\"ticks\":\"\"},\"caxis\":{\"gridcolor\":\"white\",\"linecolor\":\"white\",\"ticks\":\"\"}},\"coloraxis\":{\"colorbar\":{\"outlinewidth\":0,\"ticks\":\"\"}},\"colorscale\":{\"sequential\":[[0.0,\"#0d0887\"],[0.1111111111111111,\"#46039f\"],[0.2222222222222222,\"#7201a8\"],[0.3333333333333333,\"#9c179e\"],[0.4444444444444444,\"#bd3786\"],[0.5555555555555556,\"#d8576b\"],[0.6666666666666666,\"#ed7953\"],[0.7777777777777778,\"#fb9f3a\"],[0.8888888888888888,\"#fdca26\"],[1.0,\"#f0f921\"]],\"sequentialminus\":[[0.0,\"#0d0887\"],[0.1111111111111111,\"#46039f\"],[0.2222222222222222,\"#7201a8\"],[0.3333333333333333,\"#9c179e\"],[0.4444444444444444,\"#bd3786\"],[0.5555555555555556,\"#d8576b\"],[0.6666666666666666,\"#ed7953\"],[0.7777777777777778,\"#fb9f3a\"],[0.8888888888888888,\"#fdca26\"],[1.0,\"#f0f921\"]],\"diverging\":[[0,\"#8e0152\"],[0.1,\"#c51b7d\"],[0.2,\"#de77ae\"],[0.3,\"#f1b6da\"],[0.4,\"#fde0ef\"],[0.5,\"#f7f7f7\"],[0.6,\"#e6f5d0\"],[0.7,\"#b8e186\"],[0.8,\"#7fbc41\"],[0.9,\"#4d9221\"],[1,\"#276419\"]]},\"xaxis\":{\"gridcolor\":\"white\",\"linecolor\":\"white\",\"ticks\":\"\",\"title\":{\"standoff\":15},\"zerolinecolor\":\"white\",\"automargin\":true,\"zerolinewidth\":2},\"yaxis\":{\"gridcolor\":\"white\",\"linecolor\":\"white\",\"ticks\":\"\",\"title\":{\"standoff\":15},\"zerolinecolor\":\"white\",\"automargin\":true,\"zerolinewidth\":2},\"scene\":{\"xaxis\":{\"backgroundcolor\":\"#E5ECF6\",\"gridcolor\":\"white\",\"linecolor\":\"white\",\"showbackground\":true,\"ticks\":\"\",\"zerolinecolor\":\"white\",\"gridwidth\":2},\"yaxis\":{\"backgroundcolor\":\"#E5ECF6\",\"gridcolor\":\"white\",\"linecolor\":\"white\",\"showbackground\":true,\"ticks\":\"\",\"zerolinecolor\":\"white\",\"gridwidth\":2},\"zaxis\":{\"backgroundcolor\":\"#E5ECF6\",\"gridcolor\":\"white\",\"linecolor\":\"white\",\"showbackground\":true,\"ticks\":\"\",\"zerolinecolor\":\"white\",\"gridwidth\":2}},\"shapedefaults\":{\"line\":{\"color\":\"#2a3f5f\"}},\"annotationdefaults\":{\"arrowcolor\":\"#2a3f5f\",\"arrowhead\":0,\"arrowwidth\":1},\"geo\":{\"bgcolor\":\"white\",\"landcolor\":\"#E5ECF6\",\"subunitcolor\":\"white\",\"showland\":true,\"showlakes\":true,\"lakecolor\":\"white\"},\"title\":{\"x\":0.05},\"mapbox\":{\"style\":\"light\"}}},\"mapbox\":{\"domain\":{\"x\":[0.0,1.0],\"y\":[0.0,1.0]},\"center\":{\"lat\":26.0325,\"lon\":50.5106},\"zoom\":12,\"style\":\"open-street-map\"},\"legend\":{\"tracegroupgap\":0},\"margin\":{\"t\":0,\"r\":0,\"l\":0,\"b\":0},\"height\":300},                        {\"responsive\": true}                    ).then(function(){\n",
       "                            \n",
       "var gd = document.getElementById('6f6bc69d-24b9-47c4-960c-e9d57d17d5b3');\n",
       "var x = new MutationObserver(function (mutations, observer) {{\n",
       "        var display = window.getComputedStyle(gd).display;\n",
       "        if (!display || display === 'none') {{\n",
       "            console.log([gd, 'removed!']);\n",
       "            Plotly.purge(gd);\n",
       "            observer.disconnect();\n",
       "        }}\n",
       "}});\n",
       "\n",
       "// Listen for the removal of the full notebook cells\n",
       "var notebookContainer = gd.closest('#notebook-container');\n",
       "if (notebookContainer) {{\n",
       "    x.observe(notebookContainer, {childList: true});\n",
       "}}\n",
       "\n",
       "// Listen for the clearing of the current output cell\n",
       "var outputEl = gd.closest('.output');\n",
       "if (outputEl) {{\n",
       "    x.observe(outputEl, {childList: true});\n",
       "}}\n",
       "\n",
       "                        })                };                });            </script>        </div>"
      ]
     },
     "metadata": {},
     "output_type": "display_data"
    }
   ],
   "source": [
    "fig = px.scatter_mapbox(track, lat=\"lat\", lon=\"lng\",\n",
    "                        color_discrete_sequence=[\"fuchsia\"], zoom=12, height=300)\n",
    "fig.update_layout(mapbox_style=\"open-street-map\")\n",
    "fig.update_layout(margin={\"r\":0,\"t\":0,\"l\":0,\"b\":0})\n",
    "fig.show()"
   ]
  },
  {
   "cell_type": "markdown",
   "id": "3d8e185c",
   "metadata": {
    "papermill": {
     "duration": 0.008269,
     "end_time": "2023-03-05T21:55:06.498157",
     "exception": false,
     "start_time": "2023-03-05T21:55:06.489888",
     "status": "completed"
    },
    "tags": []
   },
   "source": [
    "# Podium"
   ]
  },
  {
   "cell_type": "code",
   "execution_count": 9,
   "id": "66e8de40",
   "metadata": {
    "_kg_hide-input": true,
    "execution": {
     "iopub.execute_input": "2023-03-05T21:55:06.517450Z",
     "iopub.status.busy": "2023-03-05T21:55:06.516565Z",
     "iopub.status.idle": "2023-03-05T21:55:06.606001Z",
     "shell.execute_reply": "2023-03-05T21:55:06.604833Z"
    },
    "papermill": {
     "duration": 0.101965,
     "end_time": "2023-03-05T21:55:06.608641",
     "exception": false,
     "start_time": "2023-03-05T21:55:06.506676",
     "status": "completed"
    },
    "tags": []
   },
   "outputs": [
    {
     "data": {
      "text/html": [
       "<style type=\"text/css\">\n",
       "#T_aad39_row0_col1, #T_aad39_row0_col2 {\n",
       "  background-color: #ffffd9;\n",
       "  color: #000000;\n",
       "}\n",
       "#T_aad39_row0_col3, #T_aad39_row1_col3, #T_aad39_row2_col1, #T_aad39_row2_col3 {\n",
       "  background-color: #081d58;\n",
       "  color: #f1f1f1;\n",
       "}\n",
       "#T_aad39_row1_col1, #T_aad39_row2_col2 {\n",
       "  background-color: #40b5c4;\n",
       "  color: #f1f1f1;\n",
       "}\n",
       "#T_aad39_row1_col2 {\n",
       "  background-color: #c6e9b4;\n",
       "  color: #000000;\n",
       "}\n",
       "</style>\n",
       "<table id=\"T_aad39_\">\n",
       "  <caption>Podium Results</caption>\n",
       "  <thead>\n",
       "    <tr>\n",
       "      <th class=\"col_heading level0 col0\" >code</th>\n",
       "      <th class=\"col_heading level0 col1\" >grid</th>\n",
       "      <th class=\"col_heading level0 col2\" >position</th>\n",
       "      <th class=\"col_heading level0 col3\" >points</th>\n",
       "    </tr>\n",
       "  </thead>\n",
       "  <tbody>\n",
       "    <tr>\n",
       "      <td id=\"T_aad39_row0_col0\" class=\"data row0 col0\" >LEC</td>\n",
       "      <td id=\"T_aad39_row0_col1\" class=\"data row0 col1\" >1</td>\n",
       "      <td id=\"T_aad39_row0_col2\" class=\"data row0 col2\" >1</td>\n",
       "      <td id=\"T_aad39_row0_col3\" class=\"data row0 col3\" >26.0</td>\n",
       "    </tr>\n",
       "    <tr>\n",
       "      <td id=\"T_aad39_row1_col0\" class=\"data row1 col0\" >SAI</td>\n",
       "      <td id=\"T_aad39_row1_col1\" class=\"data row1 col1\" >3</td>\n",
       "      <td id=\"T_aad39_row1_col2\" class=\"data row1 col2\" >2</td>\n",
       "      <td id=\"T_aad39_row1_col3\" class=\"data row1 col3\" >18.0</td>\n",
       "    </tr>\n",
       "    <tr>\n",
       "      <td id=\"T_aad39_row2_col0\" class=\"data row2 col0\" >HAM</td>\n",
       "      <td id=\"T_aad39_row2_col1\" class=\"data row2 col1\" >5</td>\n",
       "      <td id=\"T_aad39_row2_col2\" class=\"data row2 col2\" >3</td>\n",
       "      <td id=\"T_aad39_row2_col3\" class=\"data row2 col3\" >15.0</td>\n",
       "    </tr>\n",
       "  </tbody>\n",
       "</table>\n"
      ],
      "text/plain": [
       "<pandas.io.formats.style.Styler at 0x7f011594ab50>"
      ]
     },
     "execution_count": 9,
     "metadata": {},
     "output_type": "execute_result"
    }
   ],
   "source": [
    "res_race_lap_status_pod[['code', 'grid', 'position', 'points']].iloc[:3].style.pipe(podium)"
   ]
  },
  {
   "cell_type": "markdown",
   "id": "a044467a",
   "metadata": {
    "papermill": {
     "duration": 0.00848,
     "end_time": "2023-03-05T21:55:06.626222",
     "exception": false,
     "start_time": "2023-03-05T21:55:06.617742",
     "status": "completed"
    },
    "tags": []
   },
   "source": [
    "# Full Results"
   ]
  },
  {
   "cell_type": "code",
   "execution_count": 10,
   "id": "79b39b9f",
   "metadata": {
    "_kg_hide-input": true,
    "execution": {
     "iopub.execute_input": "2023-03-05T21:55:06.645838Z",
     "iopub.status.busy": "2023-03-05T21:55:06.645394Z",
     "iopub.status.idle": "2023-03-05T21:55:06.666885Z",
     "shell.execute_reply": "2023-03-05T21:55:06.665636Z"
    },
    "papermill": {
     "duration": 0.034507,
     "end_time": "2023-03-05T21:55:06.669537",
     "exception": false,
     "start_time": "2023-03-05T21:55:06.635030",
     "status": "completed"
    },
    "tags": []
   },
   "outputs": [
    {
     "data": {
      "text/html": [
       "<style type=\"text/css\">\n",
       "#T_7e7ca_row0_col1, #T_7e7ca_row0_col2, #T_7e7ca_row9_col3, #T_7e7ca_row10_col3, #T_7e7ca_row11_col3, #T_7e7ca_row12_col3, #T_7e7ca_row13_col3, #T_7e7ca_row14_col3, #T_7e7ca_row15_col3, #T_7e7ca_row16_col3, #T_7e7ca_row17_col3, #T_7e7ca_row18_col3 {\n",
       "  background-color: #ffffd9;\n",
       "  color: #000000;\n",
       "}\n",
       "#T_7e7ca_row0_col3, #T_7e7ca_row1_col3, #T_7e7ca_row2_col1, #T_7e7ca_row2_col3, #T_7e7ca_row3_col1, #T_7e7ca_row3_col3, #T_7e7ca_row4_col1, #T_7e7ca_row4_col2, #T_7e7ca_row4_col3, #T_7e7ca_row5_col1, #T_7e7ca_row5_col2, #T_7e7ca_row5_col3, #T_7e7ca_row6_col1, #T_7e7ca_row6_col2, #T_7e7ca_row6_col3, #T_7e7ca_row7_col1, #T_7e7ca_row7_col2, #T_7e7ca_row8_col1, #T_7e7ca_row8_col2, #T_7e7ca_row9_col1, #T_7e7ca_row9_col2, #T_7e7ca_row10_col1, #T_7e7ca_row10_col2, #T_7e7ca_row11_col1, #T_7e7ca_row11_col2, #T_7e7ca_row12_col1, #T_7e7ca_row12_col2, #T_7e7ca_row13_col1, #T_7e7ca_row13_col2, #T_7e7ca_row14_col1, #T_7e7ca_row14_col2, #T_7e7ca_row15_col1, #T_7e7ca_row15_col2, #T_7e7ca_row16_col1, #T_7e7ca_row16_col2, #T_7e7ca_row17_col2, #T_7e7ca_row18_col2 {\n",
       "  background-color: #081d58;\n",
       "  color: #f1f1f1;\n",
       "}\n",
       "#T_7e7ca_row1_col1, #T_7e7ca_row2_col2 {\n",
       "  background-color: #40b5c4;\n",
       "  color: #f1f1f1;\n",
       "}\n",
       "#T_7e7ca_row1_col2, #T_7e7ca_row8_col3, #T_7e7ca_row18_col1 {\n",
       "  background-color: #c6e9b4;\n",
       "  color: #000000;\n",
       "}\n",
       "#T_7e7ca_row3_col2, #T_7e7ca_row7_col3, #T_7e7ca_row17_col1 {\n",
       "  background-color: #225da8;\n",
       "  color: #f1f1f1;\n",
       "}\n",
       "</style>\n",
       "<table id=\"T_7e7ca_\">\n",
       "  <caption>Race Results</caption>\n",
       "  <thead>\n",
       "    <tr>\n",
       "      <th class=\"col_heading level0 col0\" >code</th>\n",
       "      <th class=\"col_heading level0 col1\" >grid</th>\n",
       "      <th class=\"col_heading level0 col2\" >position</th>\n",
       "      <th class=\"col_heading level0 col3\" >points</th>\n",
       "      <th class=\"col_heading level0 col4\" >status</th>\n",
       "    </tr>\n",
       "  </thead>\n",
       "  <tbody>\n",
       "    <tr>\n",
       "      <td id=\"T_7e7ca_row0_col0\" class=\"data row0 col0\" >LEC</td>\n",
       "      <td id=\"T_7e7ca_row0_col1\" class=\"data row0 col1\" >1</td>\n",
       "      <td id=\"T_7e7ca_row0_col2\" class=\"data row0 col2\" >1</td>\n",
       "      <td id=\"T_7e7ca_row0_col3\" class=\"data row0 col3\" >26.0</td>\n",
       "      <td id=\"T_7e7ca_row0_col4\" class=\"data row0 col4\" >Finished</td>\n",
       "    </tr>\n",
       "    <tr>\n",
       "      <td id=\"T_7e7ca_row1_col0\" class=\"data row1 col0\" >SAI</td>\n",
       "      <td id=\"T_7e7ca_row1_col1\" class=\"data row1 col1\" >3</td>\n",
       "      <td id=\"T_7e7ca_row1_col2\" class=\"data row1 col2\" >2</td>\n",
       "      <td id=\"T_7e7ca_row1_col3\" class=\"data row1 col3\" >18.0</td>\n",
       "      <td id=\"T_7e7ca_row1_col4\" class=\"data row1 col4\" >Finished</td>\n",
       "    </tr>\n",
       "    <tr>\n",
       "      <td id=\"T_7e7ca_row2_col0\" class=\"data row2 col0\" >HAM</td>\n",
       "      <td id=\"T_7e7ca_row2_col1\" class=\"data row2 col1\" >5</td>\n",
       "      <td id=\"T_7e7ca_row2_col2\" class=\"data row2 col2\" >3</td>\n",
       "      <td id=\"T_7e7ca_row2_col3\" class=\"data row2 col3\" >15.0</td>\n",
       "      <td id=\"T_7e7ca_row2_col4\" class=\"data row2 col4\" >Finished</td>\n",
       "    </tr>\n",
       "    <tr>\n",
       "      <td id=\"T_7e7ca_row3_col0\" class=\"data row3 col0\" >RUS</td>\n",
       "      <td id=\"T_7e7ca_row3_col1\" class=\"data row3 col1\" >9</td>\n",
       "      <td id=\"T_7e7ca_row3_col2\" class=\"data row3 col2\" >4</td>\n",
       "      <td id=\"T_7e7ca_row3_col3\" class=\"data row3 col3\" >12.0</td>\n",
       "      <td id=\"T_7e7ca_row3_col4\" class=\"data row3 col4\" >Finished</td>\n",
       "    </tr>\n",
       "    <tr>\n",
       "      <td id=\"T_7e7ca_row4_col0\" class=\"data row4 col0\" >MAG</td>\n",
       "      <td id=\"T_7e7ca_row4_col1\" class=\"data row4 col1\" >7</td>\n",
       "      <td id=\"T_7e7ca_row4_col2\" class=\"data row4 col2\" >5</td>\n",
       "      <td id=\"T_7e7ca_row4_col3\" class=\"data row4 col3\" >10.0</td>\n",
       "      <td id=\"T_7e7ca_row4_col4\" class=\"data row4 col4\" >Finished</td>\n",
       "    </tr>\n",
       "    <tr>\n",
       "      <td id=\"T_7e7ca_row5_col0\" class=\"data row5 col0\" >BOT</td>\n",
       "      <td id=\"T_7e7ca_row5_col1\" class=\"data row5 col1\" >6</td>\n",
       "      <td id=\"T_7e7ca_row5_col2\" class=\"data row5 col2\" >6</td>\n",
       "      <td id=\"T_7e7ca_row5_col3\" class=\"data row5 col3\" >8.0</td>\n",
       "      <td id=\"T_7e7ca_row5_col4\" class=\"data row5 col4\" >Finished</td>\n",
       "    </tr>\n",
       "    <tr>\n",
       "      <td id=\"T_7e7ca_row6_col0\" class=\"data row6 col0\" >OCO</td>\n",
       "      <td id=\"T_7e7ca_row6_col1\" class=\"data row6 col1\" >11</td>\n",
       "      <td id=\"T_7e7ca_row6_col2\" class=\"data row6 col2\" >7</td>\n",
       "      <td id=\"T_7e7ca_row6_col3\" class=\"data row6 col3\" >6.0</td>\n",
       "      <td id=\"T_7e7ca_row6_col4\" class=\"data row6 col4\" >Finished</td>\n",
       "    </tr>\n",
       "    <tr>\n",
       "      <td id=\"T_7e7ca_row7_col0\" class=\"data row7 col0\" >TSU</td>\n",
       "      <td id=\"T_7e7ca_row7_col1\" class=\"data row7 col1\" >16</td>\n",
       "      <td id=\"T_7e7ca_row7_col2\" class=\"data row7 col2\" >8</td>\n",
       "      <td id=\"T_7e7ca_row7_col3\" class=\"data row7 col3\" >4.0</td>\n",
       "      <td id=\"T_7e7ca_row7_col4\" class=\"data row7 col4\" >Finished</td>\n",
       "    </tr>\n",
       "    <tr>\n",
       "      <td id=\"T_7e7ca_row8_col0\" class=\"data row8 col0\" >ALO</td>\n",
       "      <td id=\"T_7e7ca_row8_col1\" class=\"data row8 col1\" >8</td>\n",
       "      <td id=\"T_7e7ca_row8_col2\" class=\"data row8 col2\" >9</td>\n",
       "      <td id=\"T_7e7ca_row8_col3\" class=\"data row8 col3\" >2.0</td>\n",
       "      <td id=\"T_7e7ca_row8_col4\" class=\"data row8 col4\" >Finished</td>\n",
       "    </tr>\n",
       "    <tr>\n",
       "      <td id=\"T_7e7ca_row9_col0\" class=\"data row9 col0\" >ZHO</td>\n",
       "      <td id=\"T_7e7ca_row9_col1\" class=\"data row9 col1\" >15</td>\n",
       "      <td id=\"T_7e7ca_row9_col2\" class=\"data row9 col2\" >10</td>\n",
       "      <td id=\"T_7e7ca_row9_col3\" class=\"data row9 col3\" >1.0</td>\n",
       "      <td id=\"T_7e7ca_row9_col4\" class=\"data row9 col4\" >Finished</td>\n",
       "    </tr>\n",
       "    <tr>\n",
       "      <td id=\"T_7e7ca_row10_col0\" class=\"data row10 col0\" >MSC</td>\n",
       "      <td id=\"T_7e7ca_row10_col1\" class=\"data row10 col1\" >12</td>\n",
       "      <td id=\"T_7e7ca_row10_col2\" class=\"data row10 col2\" >11</td>\n",
       "      <td id=\"T_7e7ca_row10_col3\" class=\"data row10 col3\" >0.0</td>\n",
       "      <td id=\"T_7e7ca_row10_col4\" class=\"data row10 col4\" >Finished</td>\n",
       "    </tr>\n",
       "    <tr>\n",
       "      <td id=\"T_7e7ca_row11_col0\" class=\"data row11 col0\" >STR</td>\n",
       "      <td id=\"T_7e7ca_row11_col1\" class=\"data row11 col1\" >19</td>\n",
       "      <td id=\"T_7e7ca_row11_col2\" class=\"data row11 col2\" >12</td>\n",
       "      <td id=\"T_7e7ca_row11_col3\" class=\"data row11 col3\" >0.0</td>\n",
       "      <td id=\"T_7e7ca_row11_col4\" class=\"data row11 col4\" >Finished</td>\n",
       "    </tr>\n",
       "    <tr>\n",
       "      <td id=\"T_7e7ca_row12_col0\" class=\"data row12 col0\" >ALB</td>\n",
       "      <td id=\"T_7e7ca_row12_col1\" class=\"data row12 col1\" >14</td>\n",
       "      <td id=\"T_7e7ca_row12_col2\" class=\"data row12 col2\" >13</td>\n",
       "      <td id=\"T_7e7ca_row12_col3\" class=\"data row12 col3\" >0.0</td>\n",
       "      <td id=\"T_7e7ca_row12_col4\" class=\"data row12 col4\" >Finished</td>\n",
       "    </tr>\n",
       "    <tr>\n",
       "      <td id=\"T_7e7ca_row13_col0\" class=\"data row13 col0\" >RIC</td>\n",
       "      <td id=\"T_7e7ca_row13_col1\" class=\"data row13 col1\" >18</td>\n",
       "      <td id=\"T_7e7ca_row13_col2\" class=\"data row13 col2\" >14</td>\n",
       "      <td id=\"T_7e7ca_row13_col3\" class=\"data row13 col3\" >0.0</td>\n",
       "      <td id=\"T_7e7ca_row13_col4\" class=\"data row13 col4\" >Finished</td>\n",
       "    </tr>\n",
       "    <tr>\n",
       "      <td id=\"T_7e7ca_row14_col0\" class=\"data row14 col0\" >NOR</td>\n",
       "      <td id=\"T_7e7ca_row14_col1\" class=\"data row14 col1\" >13</td>\n",
       "      <td id=\"T_7e7ca_row14_col2\" class=\"data row14 col2\" >15</td>\n",
       "      <td id=\"T_7e7ca_row14_col3\" class=\"data row14 col3\" >0.0</td>\n",
       "      <td id=\"T_7e7ca_row14_col4\" class=\"data row14 col4\" >Finished</td>\n",
       "    </tr>\n",
       "    <tr>\n",
       "      <td id=\"T_7e7ca_row15_col0\" class=\"data row15 col0\" >LAT</td>\n",
       "      <td id=\"T_7e7ca_row15_col1\" class=\"data row15 col1\" >20</td>\n",
       "      <td id=\"T_7e7ca_row15_col2\" class=\"data row15 col2\" >16</td>\n",
       "      <td id=\"T_7e7ca_row15_col3\" class=\"data row15 col3\" >0.0</td>\n",
       "      <td id=\"T_7e7ca_row15_col4\" class=\"data row15 col4\" >Finished</td>\n",
       "    </tr>\n",
       "    <tr>\n",
       "      <td id=\"T_7e7ca_row16_col0\" class=\"data row16 col0\" >HUL</td>\n",
       "      <td id=\"T_7e7ca_row16_col1\" class=\"data row16 col1\" >17</td>\n",
       "      <td id=\"T_7e7ca_row16_col2\" class=\"data row16 col2\" >17</td>\n",
       "      <td id=\"T_7e7ca_row16_col3\" class=\"data row16 col3\" >0.0</td>\n",
       "      <td id=\"T_7e7ca_row16_col4\" class=\"data row16 col4\" >Finished</td>\n",
       "    </tr>\n",
       "    <tr>\n",
       "      <td id=\"T_7e7ca_row17_col0\" class=\"data row17 col0\" >PER</td>\n",
       "      <td id=\"T_7e7ca_row17_col1\" class=\"data row17 col1\" >4</td>\n",
       "      <td id=\"T_7e7ca_row17_col2\" class=\"data row17 col2\" >18</td>\n",
       "      <td id=\"T_7e7ca_row17_col3\" class=\"data row17 col3\" >0.0</td>\n",
       "      <td id=\"T_7e7ca_row17_col4\" class=\"data row17 col4\" >Fuel pressure</td>\n",
       "    </tr>\n",
       "    <tr>\n",
       "      <td id=\"T_7e7ca_row18_col0\" class=\"data row18 col0\" >VER</td>\n",
       "      <td id=\"T_7e7ca_row18_col1\" class=\"data row18 col1\" >2</td>\n",
       "      <td id=\"T_7e7ca_row18_col2\" class=\"data row18 col2\" >19</td>\n",
       "      <td id=\"T_7e7ca_row18_col3\" class=\"data row18 col3\" >0.0</td>\n",
       "      <td id=\"T_7e7ca_row18_col4\" class=\"data row18 col4\" >Fuel pressure</td>\n",
       "    </tr>\n",
       "  </tbody>\n",
       "</table>\n"
      ],
      "text/plain": [
       "<pandas.io.formats.style.Styler at 0x7f01154e5150>"
      ]
     },
     "execution_count": 10,
     "metadata": {},
     "output_type": "execute_result"
    }
   ],
   "source": [
    "res_race_lap_status = res_race_lap_status.sort_values(by='position')\n",
    "res_race_lap_status_pod[['code', 'grid', 'position', 'points', 'status']].style.pipe(results_style)"
   ]
  },
  {
   "cell_type": "markdown",
   "id": "77165696",
   "metadata": {
    "papermill": {
     "duration": 0.008657,
     "end_time": "2023-03-05T21:55:06.687281",
     "exception": false,
     "start_time": "2023-03-05T21:55:06.678624",
     "status": "completed"
    },
    "tags": []
   },
   "source": [
    "# Qualifying"
   ]
  },
  {
   "cell_type": "code",
   "execution_count": 11,
   "id": "535f71a1",
   "metadata": {
    "_kg_hide-input": true,
    "execution": {
     "iopub.execute_input": "2023-03-05T21:55:06.707533Z",
     "iopub.status.busy": "2023-03-05T21:55:06.706447Z",
     "iopub.status.idle": "2023-03-05T21:55:06.737658Z",
     "shell.execute_reply": "2023-03-05T21:55:06.736532Z"
    },
    "papermill": {
     "duration": 0.044311,
     "end_time": "2023-03-05T21:55:06.740373",
     "exception": false,
     "start_time": "2023-03-05T21:55:06.696062",
     "status": "completed"
    },
    "tags": []
   },
   "outputs": [
    {
     "data": {
      "text/html": [
       "<div>                            <div id=\"b0d52d87-9783-4eee-b79a-6d418d647b08\" class=\"plotly-graph-div\" style=\"height:525px; width:100%;\"></div>            <script type=\"text/javascript\">                require([\"plotly\"], function(Plotly) {                    window.PLOTLYENV=window.PLOTLYENV || {};                                    if (document.getElementById(\"b0d52d87-9783-4eee-b79a-6d418d647b08\")) {                    Plotly.newPlot(                        \"b0d52d87-9783-4eee-b79a-6d418d647b08\",                        [{\"marker\":{\"color\":\"red\"},\"name\":\"Q1\",\"x\":[\"LEC\",\"VER\",\"SAI\",\"PER\",\"HAM\",\"BOT\",\"MAG\",\"ALO\",\"RUS\",\"GAS\",\"OCO\",\"MSC\",\"NOR\",\"ALB\",\"ZHO\",\"TSU\",\"HUL\",\"RIC\",\"STR\",\"LAT\"],\"y\":[91.471,91.785,91.56700000000001,92.311,92.285,91.919,91.955,92.346,92.269,92.096,92.041,92.38,92.239,92.726,92.493,92.75,92.777,92.945,93.032,93.634],\"type\":\"bar\"},{\"marker\":{\"color\":\"gold\"},\"name\":\"Q2\",\"x\":[\"LEC\",\"VER\",\"SAI\",\"PER\",\"HAM\",\"BOT\",\"MAG\",\"ALO\",\"RUS\",\"GAS\",\"OCO\",\"MSC\",\"NOR\",\"ALB\",\"ZHO\",\"TSU\",\"HUL\",\"RIC\",\"STR\",\"LAT\"],\"y\":[90.932,90.757,90.787,91.008,91.048,91.717,91.461,91.621,91.252,91.635,91.782,91.998,92.00800000000001,92.664,93.543,null,null,null,null,null],\"type\":\"bar\"},{\"marker\":{\"color\":\"orange\"},\"name\":\"Q3\",\"x\":[\"LEC\",\"VER\",\"SAI\",\"PER\",\"HAM\",\"BOT\",\"MAG\",\"ALO\",\"RUS\",\"GAS\",\"OCO\",\"MSC\",\"NOR\",\"ALB\",\"ZHO\",\"TSU\",\"HUL\",\"RIC\",\"STR\",\"LAT\"],\"y\":[90.55799999999999,90.681,90.687,90.92099999999999,91.238,91.56,91.80799999999999,92.195,92.21600000000001,92.338,null,null,null,null,null,null,null,null,null,null],\"type\":\"bar\"}],                        {\"template\":{\"data\":{\"histogram2dcontour\":[{\"type\":\"histogram2dcontour\",\"colorbar\":{\"outlinewidth\":0,\"ticks\":\"\"},\"colorscale\":[[0.0,\"#0d0887\"],[0.1111111111111111,\"#46039f\"],[0.2222222222222222,\"#7201a8\"],[0.3333333333333333,\"#9c179e\"],[0.4444444444444444,\"#bd3786\"],[0.5555555555555556,\"#d8576b\"],[0.6666666666666666,\"#ed7953\"],[0.7777777777777778,\"#fb9f3a\"],[0.8888888888888888,\"#fdca26\"],[1.0,\"#f0f921\"]]}],\"choropleth\":[{\"type\":\"choropleth\",\"colorbar\":{\"outlinewidth\":0,\"ticks\":\"\"}}],\"histogram2d\":[{\"type\":\"histogram2d\",\"colorbar\":{\"outlinewidth\":0,\"ticks\":\"\"},\"colorscale\":[[0.0,\"#0d0887\"],[0.1111111111111111,\"#46039f\"],[0.2222222222222222,\"#7201a8\"],[0.3333333333333333,\"#9c179e\"],[0.4444444444444444,\"#bd3786\"],[0.5555555555555556,\"#d8576b\"],[0.6666666666666666,\"#ed7953\"],[0.7777777777777778,\"#fb9f3a\"],[0.8888888888888888,\"#fdca26\"],[1.0,\"#f0f921\"]]}],\"heatmap\":[{\"type\":\"heatmap\",\"colorbar\":{\"outlinewidth\":0,\"ticks\":\"\"},\"colorscale\":[[0.0,\"#0d0887\"],[0.1111111111111111,\"#46039f\"],[0.2222222222222222,\"#7201a8\"],[0.3333333333333333,\"#9c179e\"],[0.4444444444444444,\"#bd3786\"],[0.5555555555555556,\"#d8576b\"],[0.6666666666666666,\"#ed7953\"],[0.7777777777777778,\"#fb9f3a\"],[0.8888888888888888,\"#fdca26\"],[1.0,\"#f0f921\"]]}],\"heatmapgl\":[{\"type\":\"heatmapgl\",\"colorbar\":{\"outlinewidth\":0,\"ticks\":\"\"},\"colorscale\":[[0.0,\"#0d0887\"],[0.1111111111111111,\"#46039f\"],[0.2222222222222222,\"#7201a8\"],[0.3333333333333333,\"#9c179e\"],[0.4444444444444444,\"#bd3786\"],[0.5555555555555556,\"#d8576b\"],[0.6666666666666666,\"#ed7953\"],[0.7777777777777778,\"#fb9f3a\"],[0.8888888888888888,\"#fdca26\"],[1.0,\"#f0f921\"]]}],\"contourcarpet\":[{\"type\":\"contourcarpet\",\"colorbar\":{\"outlinewidth\":0,\"ticks\":\"\"}}],\"contour\":[{\"type\":\"contour\",\"colorbar\":{\"outlinewidth\":0,\"ticks\":\"\"},\"colorscale\":[[0.0,\"#0d0887\"],[0.1111111111111111,\"#46039f\"],[0.2222222222222222,\"#7201a8\"],[0.3333333333333333,\"#9c179e\"],[0.4444444444444444,\"#bd3786\"],[0.5555555555555556,\"#d8576b\"],[0.6666666666666666,\"#ed7953\"],[0.7777777777777778,\"#fb9f3a\"],[0.8888888888888888,\"#fdca26\"],[1.0,\"#f0f921\"]]}],\"surface\":[{\"type\":\"surface\",\"colorbar\":{\"outlinewidth\":0,\"ticks\":\"\"},\"colorscale\":[[0.0,\"#0d0887\"],[0.1111111111111111,\"#46039f\"],[0.2222222222222222,\"#7201a8\"],[0.3333333333333333,\"#9c179e\"],[0.4444444444444444,\"#bd3786\"],[0.5555555555555556,\"#d8576b\"],[0.6666666666666666,\"#ed7953\"],[0.7777777777777778,\"#fb9f3a\"],[0.8888888888888888,\"#fdca26\"],[1.0,\"#f0f921\"]]}],\"mesh3d\":[{\"type\":\"mesh3d\",\"colorbar\":{\"outlinewidth\":0,\"ticks\":\"\"}}],\"scatter\":[{\"fillpattern\":{\"fillmode\":\"overlay\",\"size\":10,\"solidity\":0.2},\"type\":\"scatter\"}],\"parcoords\":[{\"type\":\"parcoords\",\"line\":{\"colorbar\":{\"outlinewidth\":0,\"ticks\":\"\"}}}],\"scatterpolargl\":[{\"type\":\"scatterpolargl\",\"marker\":{\"colorbar\":{\"outlinewidth\":0,\"ticks\":\"\"}}}],\"bar\":[{\"error_x\":{\"color\":\"#2a3f5f\"},\"error_y\":{\"color\":\"#2a3f5f\"},\"marker\":{\"line\":{\"color\":\"#E5ECF6\",\"width\":0.5},\"pattern\":{\"fillmode\":\"overlay\",\"size\":10,\"solidity\":0.2}},\"type\":\"bar\"}],\"scattergeo\":[{\"type\":\"scattergeo\",\"marker\":{\"colorbar\":{\"outlinewidth\":0,\"ticks\":\"\"}}}],\"scatterpolar\":[{\"type\":\"scatterpolar\",\"marker\":{\"colorbar\":{\"outlinewidth\":0,\"ticks\":\"\"}}}],\"histogram\":[{\"marker\":{\"pattern\":{\"fillmode\":\"overlay\",\"size\":10,\"solidity\":0.2}},\"type\":\"histogram\"}],\"scattergl\":[{\"type\":\"scattergl\",\"marker\":{\"colorbar\":{\"outlinewidth\":0,\"ticks\":\"\"}}}],\"scatter3d\":[{\"type\":\"scatter3d\",\"line\":{\"colorbar\":{\"outlinewidth\":0,\"ticks\":\"\"}},\"marker\":{\"colorbar\":{\"outlinewidth\":0,\"ticks\":\"\"}}}],\"scattermapbox\":[{\"type\":\"scattermapbox\",\"marker\":{\"colorbar\":{\"outlinewidth\":0,\"ticks\":\"\"}}}],\"scatterternary\":[{\"type\":\"scatterternary\",\"marker\":{\"colorbar\":{\"outlinewidth\":0,\"ticks\":\"\"}}}],\"scattercarpet\":[{\"type\":\"scattercarpet\",\"marker\":{\"colorbar\":{\"outlinewidth\":0,\"ticks\":\"\"}}}],\"carpet\":[{\"aaxis\":{\"endlinecolor\":\"#2a3f5f\",\"gridcolor\":\"white\",\"linecolor\":\"white\",\"minorgridcolor\":\"white\",\"startlinecolor\":\"#2a3f5f\"},\"baxis\":{\"endlinecolor\":\"#2a3f5f\",\"gridcolor\":\"white\",\"linecolor\":\"white\",\"minorgridcolor\":\"white\",\"startlinecolor\":\"#2a3f5f\"},\"type\":\"carpet\"}],\"table\":[{\"cells\":{\"fill\":{\"color\":\"#EBF0F8\"},\"line\":{\"color\":\"white\"}},\"header\":{\"fill\":{\"color\":\"#C8D4E3\"},\"line\":{\"color\":\"white\"}},\"type\":\"table\"}],\"barpolar\":[{\"marker\":{\"line\":{\"color\":\"#E5ECF6\",\"width\":0.5},\"pattern\":{\"fillmode\":\"overlay\",\"size\":10,\"solidity\":0.2}},\"type\":\"barpolar\"}],\"pie\":[{\"automargin\":true,\"type\":\"pie\"}]},\"layout\":{\"autotypenumbers\":\"strict\",\"colorway\":[\"#636efa\",\"#EF553B\",\"#00cc96\",\"#ab63fa\",\"#FFA15A\",\"#19d3f3\",\"#FF6692\",\"#B6E880\",\"#FF97FF\",\"#FECB52\"],\"font\":{\"color\":\"#2a3f5f\"},\"hovermode\":\"closest\",\"hoverlabel\":{\"align\":\"left\"},\"paper_bgcolor\":\"white\",\"plot_bgcolor\":\"#E5ECF6\",\"polar\":{\"bgcolor\":\"#E5ECF6\",\"angularaxis\":{\"gridcolor\":\"white\",\"linecolor\":\"white\",\"ticks\":\"\"},\"radialaxis\":{\"gridcolor\":\"white\",\"linecolor\":\"white\",\"ticks\":\"\"}},\"ternary\":{\"bgcolor\":\"#E5ECF6\",\"aaxis\":{\"gridcolor\":\"white\",\"linecolor\":\"white\",\"ticks\":\"\"},\"baxis\":{\"gridcolor\":\"white\",\"linecolor\":\"white\",\"ticks\":\"\"},\"caxis\":{\"gridcolor\":\"white\",\"linecolor\":\"white\",\"ticks\":\"\"}},\"coloraxis\":{\"colorbar\":{\"outlinewidth\":0,\"ticks\":\"\"}},\"colorscale\":{\"sequential\":[[0.0,\"#0d0887\"],[0.1111111111111111,\"#46039f\"],[0.2222222222222222,\"#7201a8\"],[0.3333333333333333,\"#9c179e\"],[0.4444444444444444,\"#bd3786\"],[0.5555555555555556,\"#d8576b\"],[0.6666666666666666,\"#ed7953\"],[0.7777777777777778,\"#fb9f3a\"],[0.8888888888888888,\"#fdca26\"],[1.0,\"#f0f921\"]],\"sequentialminus\":[[0.0,\"#0d0887\"],[0.1111111111111111,\"#46039f\"],[0.2222222222222222,\"#7201a8\"],[0.3333333333333333,\"#9c179e\"],[0.4444444444444444,\"#bd3786\"],[0.5555555555555556,\"#d8576b\"],[0.6666666666666666,\"#ed7953\"],[0.7777777777777778,\"#fb9f3a\"],[0.8888888888888888,\"#fdca26\"],[1.0,\"#f0f921\"]],\"diverging\":[[0,\"#8e0152\"],[0.1,\"#c51b7d\"],[0.2,\"#de77ae\"],[0.3,\"#f1b6da\"],[0.4,\"#fde0ef\"],[0.5,\"#f7f7f7\"],[0.6,\"#e6f5d0\"],[0.7,\"#b8e186\"],[0.8,\"#7fbc41\"],[0.9,\"#4d9221\"],[1,\"#276419\"]]},\"xaxis\":{\"gridcolor\":\"white\",\"linecolor\":\"white\",\"ticks\":\"\",\"title\":{\"standoff\":15},\"zerolinecolor\":\"white\",\"automargin\":true,\"zerolinewidth\":2},\"yaxis\":{\"gridcolor\":\"white\",\"linecolor\":\"white\",\"ticks\":\"\",\"title\":{\"standoff\":15},\"zerolinecolor\":\"white\",\"automargin\":true,\"zerolinewidth\":2},\"scene\":{\"xaxis\":{\"backgroundcolor\":\"#E5ECF6\",\"gridcolor\":\"white\",\"linecolor\":\"white\",\"showbackground\":true,\"ticks\":\"\",\"zerolinecolor\":\"white\",\"gridwidth\":2},\"yaxis\":{\"backgroundcolor\":\"#E5ECF6\",\"gridcolor\":\"white\",\"linecolor\":\"white\",\"showbackground\":true,\"ticks\":\"\",\"zerolinecolor\":\"white\",\"gridwidth\":2},\"zaxis\":{\"backgroundcolor\":\"#E5ECF6\",\"gridcolor\":\"white\",\"linecolor\":\"white\",\"showbackground\":true,\"ticks\":\"\",\"zerolinecolor\":\"white\",\"gridwidth\":2}},\"shapedefaults\":{\"line\":{\"color\":\"#2a3f5f\"}},\"annotationdefaults\":{\"arrowcolor\":\"#2a3f5f\",\"arrowhead\":0,\"arrowwidth\":1},\"geo\":{\"bgcolor\":\"white\",\"landcolor\":\"#E5ECF6\",\"subunitcolor\":\"white\",\"showland\":true,\"showlakes\":true,\"lakecolor\":\"white\"},\"title\":{\"x\":0.05},\"mapbox\":{\"style\":\"light\"}}},\"yaxis\":{\"range\":[89.55799999999999,93.634]},\"xaxis\":{\"tickangle\":-45},\"barmode\":\"group\",\"title\":{\"text\":\"Qualifying Results\"}},                        {\"responsive\": true}                    ).then(function(){\n",
       "                            \n",
       "var gd = document.getElementById('b0d52d87-9783-4eee-b79a-6d418d647b08');\n",
       "var x = new MutationObserver(function (mutations, observer) {{\n",
       "        var display = window.getComputedStyle(gd).display;\n",
       "        if (!display || display === 'none') {{\n",
       "            console.log([gd, 'removed!']);\n",
       "            Plotly.purge(gd);\n",
       "            observer.disconnect();\n",
       "        }}\n",
       "}});\n",
       "\n",
       "// Listen for the removal of the full notebook cells\n",
       "var notebookContainer = gd.closest('#notebook-container');\n",
       "if (notebookContainer) {{\n",
       "    x.observe(notebookContainer, {childList: true});\n",
       "}}\n",
       "\n",
       "// Listen for the clearing of the current output cell\n",
       "var outputEl = gd.closest('.output');\n",
       "if (outputEl) {{\n",
       "    x.observe(outputEl, {childList: true});\n",
       "}}\n",
       "\n",
       "                        })                };                });            </script>        </div>"
      ]
     },
     "metadata": {},
     "output_type": "display_data"
    }
   ],
   "source": [
    "fig = go.Figure(layout_yaxis_range=[min_time, max_time])\n",
    "fig.add_trace(go.Bar(\n",
    "    x=qual_driver['code'],\n",
    "    y=qual_driver['q1_dur'],\n",
    "    name='Q1',\n",
    "    marker_color='red'\n",
    "))\n",
    "fig.add_trace(go.Bar(\n",
    "    x=qual_driver['code'],\n",
    "    y=qual_driver['q2_dur'],\n",
    "    name='Q2',\n",
    "    marker_color='gold'\n",
    "))\n",
    "fig.add_trace(go.Bar(\n",
    "    x=qual_driver['code'],\n",
    "    y=qual_driver['q3_dur'],\n",
    "    name='Q3',\n",
    "    marker_color='orange'\n",
    "))\n",
    "\n",
    "fig.update_layout(barmode='group', xaxis_tickangle=-45, title=\"Qualifying Results\")\n",
    "fig.show()"
   ]
  },
  {
   "cell_type": "code",
   "execution_count": 12,
   "id": "c6b4bfff",
   "metadata": {
    "_kg_hide-input": true,
    "execution": {
     "iopub.execute_input": "2023-03-05T21:55:06.762328Z",
     "iopub.status.busy": "2023-03-05T21:55:06.761416Z",
     "iopub.status.idle": "2023-03-05T21:55:06.953807Z",
     "shell.execute_reply": "2023-03-05T21:55:06.952660Z"
    },
    "papermill": {
     "duration": 0.205899,
     "end_time": "2023-03-05T21:55:06.956424",
     "exception": false,
     "start_time": "2023-03-05T21:55:06.750525",
     "status": "completed"
    },
    "tags": []
   },
   "outputs": [
    {
     "data": {
      "text/html": [
       "<div>                            <div id=\"2c68a9cc-0e2a-4319-9d13-d70082820a04\" class=\"plotly-graph-div\" style=\"height:525px; width:100%;\"></div>            <script type=\"text/javascript\">                require([\"plotly\"], function(Plotly) {                    window.PLOTLYENV=window.PLOTLYENV || {};                                    if (document.getElementById(\"2c68a9cc-0e2a-4319-9d13-d70082820a04\")) {                    Plotly.newPlot(                        \"2c68a9cc-0e2a-4319-9d13-d70082820a04\",                        [{\"hovertemplate\":\"code=LEC<br>lap=%{x}<br>position=%{y}<extra></extra>\",\"legendgroup\":\"LEC\",\"line\":{\"color\":\"#EF1A2D\",\"dash\":\"solid\"},\"marker\":{\"symbol\":\"circle\"},\"mode\":\"lines\",\"name\":\"LEC\",\"orientation\":\"v\",\"showlegend\":true,\"x\":[0,57],\"xaxis\":\"x\",\"y\":[1,1],\"yaxis\":\"y\",\"type\":\"scatter\"},{\"hovertemplate\":\"code=SAI<br>lap=%{x}<br>position=%{y}<extra></extra>\",\"legendgroup\":\"SAI\",\"line\":{\"color\":\"#EF1A2D\",\"dash\":\"solid\"},\"marker\":{\"symbol\":\"circle\"},\"mode\":\"lines\",\"name\":\"SAI\",\"orientation\":\"v\",\"showlegend\":true,\"x\":[0,57],\"xaxis\":\"x\",\"y\":[3,2],\"yaxis\":\"y\",\"type\":\"scatter\"},{\"hovertemplate\":\"code=HAM<br>lap=%{x}<br>position=%{y}<extra></extra>\",\"legendgroup\":\"HAM\",\"line\":{\"color\":\"#00A19B\",\"dash\":\"solid\"},\"marker\":{\"symbol\":\"circle\"},\"mode\":\"lines\",\"name\":\"HAM\",\"orientation\":\"v\",\"showlegend\":true,\"x\":[0,57],\"xaxis\":\"x\",\"y\":[5,3],\"yaxis\":\"y\",\"type\":\"scatter\"},{\"hovertemplate\":\"code=RUS<br>lap=%{x}<br>position=%{y}<extra></extra>\",\"legendgroup\":\"RUS\",\"line\":{\"color\":\"#00A19B\",\"dash\":\"solid\"},\"marker\":{\"symbol\":\"circle\"},\"mode\":\"lines\",\"name\":\"RUS\",\"orientation\":\"v\",\"showlegend\":true,\"x\":[0,57],\"xaxis\":\"x\",\"y\":[9,4],\"yaxis\":\"y\",\"type\":\"scatter\"},{\"hovertemplate\":\"code=MAG<br>lap=%{x}<br>position=%{y}<extra></extra>\",\"legendgroup\":\"MAG\",\"line\":{\"color\":\"#E6002B\",\"dash\":\"solid\"},\"marker\":{\"symbol\":\"circle\"},\"mode\":\"lines\",\"name\":\"MAG\",\"orientation\":\"v\",\"showlegend\":true,\"x\":[0,57],\"xaxis\":\"x\",\"y\":[7,5],\"yaxis\":\"y\",\"type\":\"scatter\"},{\"hovertemplate\":\"code=BOT<br>lap=%{x}<br>position=%{y}<extra></extra>\",\"legendgroup\":\"BOT\",\"line\":{\"color\":\"#A42134\",\"dash\":\"solid\"},\"marker\":{\"symbol\":\"circle\"},\"mode\":\"lines\",\"name\":\"BOT\",\"orientation\":\"v\",\"showlegend\":true,\"x\":[0,57],\"xaxis\":\"x\",\"y\":[6,6],\"yaxis\":\"y\",\"type\":\"scatter\"},{\"hovertemplate\":\"code=OCO<br>lap=%{x}<br>position=%{y}<extra></extra>\",\"legendgroup\":\"OCO\",\"line\":{\"color\":\"#2173B8\",\"dash\":\"solid\"},\"marker\":{\"symbol\":\"circle\"},\"mode\":\"lines\",\"name\":\"OCO\",\"orientation\":\"v\",\"showlegend\":true,\"x\":[0,57],\"xaxis\":\"x\",\"y\":[11,7],\"yaxis\":\"y\",\"type\":\"scatter\"},{\"hovertemplate\":\"code=TSU<br>lap=%{x}<br>position=%{y}<extra></extra>\",\"legendgroup\":\"TSU\",\"line\":{\"color\":\"#20394C\",\"dash\":\"solid\"},\"marker\":{\"symbol\":\"circle\"},\"mode\":\"lines\",\"name\":\"TSU\",\"orientation\":\"v\",\"showlegend\":true,\"x\":[0,57],\"xaxis\":\"x\",\"y\":[16,8],\"yaxis\":\"y\",\"type\":\"scatter\"},{\"hovertemplate\":\"code=ALO<br>lap=%{x}<br>position=%{y}<extra></extra>\",\"legendgroup\":\"ALO\",\"line\":{\"color\":\"#002420\",\"dash\":\"solid\"},\"marker\":{\"symbol\":\"circle\"},\"mode\":\"lines\",\"name\":\"ALO\",\"orientation\":\"v\",\"showlegend\":true,\"x\":[0,57],\"xaxis\":\"x\",\"y\":[8,9],\"yaxis\":\"y\",\"type\":\"scatter\"},{\"hovertemplate\":\"code=ZHO<br>lap=%{x}<br>position=%{y}<extra></extra>\",\"legendgroup\":\"ZHO\",\"line\":{\"color\":\"#A42134\",\"dash\":\"solid\"},\"marker\":{\"symbol\":\"circle\"},\"mode\":\"lines\",\"name\":\"ZHO\",\"orientation\":\"v\",\"showlegend\":true,\"x\":[0,57],\"xaxis\":\"x\",\"y\":[15,10],\"yaxis\":\"y\",\"type\":\"scatter\"},{\"hovertemplate\":\"code=MSC<br>lap=%{x}<br>position=%{y}<extra></extra>\",\"legendgroup\":\"MSC\",\"line\":{\"color\":\"#636efa\",\"dash\":\"solid\"},\"marker\":{\"symbol\":\"circle\"},\"mode\":\"lines\",\"name\":\"MSC\",\"orientation\":\"v\",\"showlegend\":true,\"x\":[0,57],\"xaxis\":\"x\",\"y\":[12,11],\"yaxis\":\"y\",\"type\":\"scatter\"},{\"hovertemplate\":\"code=STR<br>lap=%{x}<br>position=%{y}<extra></extra>\",\"legendgroup\":\"STR\",\"line\":{\"color\":\"#002420\",\"dash\":\"solid\"},\"marker\":{\"symbol\":\"circle\"},\"mode\":\"lines\",\"name\":\"STR\",\"orientation\":\"v\",\"showlegend\":true,\"x\":[0,57],\"xaxis\":\"x\",\"y\":[19,12],\"yaxis\":\"y\",\"type\":\"scatter\"},{\"hovertemplate\":\"code=ALB<br>lap=%{x}<br>position=%{y}<extra></extra>\",\"legendgroup\":\"ALB\",\"line\":{\"color\":\"#00A0DE\",\"dash\":\"solid\"},\"marker\":{\"symbol\":\"circle\"},\"mode\":\"lines\",\"name\":\"ALB\",\"orientation\":\"v\",\"showlegend\":true,\"x\":[0,57],\"xaxis\":\"x\",\"y\":[14,13],\"yaxis\":\"y\",\"type\":\"scatter\"},{\"hovertemplate\":\"code=RIC<br>lap=%{x}<br>position=%{y}<extra></extra>\",\"legendgroup\":\"RIC\",\"line\":{\"color\":\"#EF553B\",\"dash\":\"solid\"},\"marker\":{\"symbol\":\"circle\"},\"mode\":\"lines\",\"name\":\"RIC\",\"orientation\":\"v\",\"showlegend\":true,\"x\":[0,57],\"xaxis\":\"x\",\"y\":[18,14],\"yaxis\":\"y\",\"type\":\"scatter\"},{\"hovertemplate\":\"code=NOR<br>lap=%{x}<br>position=%{y}<extra></extra>\",\"legendgroup\":\"NOR\",\"line\":{\"color\":\"#FF8000\",\"dash\":\"solid\"},\"marker\":{\"symbol\":\"circle\"},\"mode\":\"lines\",\"name\":\"NOR\",\"orientation\":\"v\",\"showlegend\":true,\"x\":[0,57],\"xaxis\":\"x\",\"y\":[13,15],\"yaxis\":\"y\",\"type\":\"scatter\"},{\"hovertemplate\":\"code=LAT<br>lap=%{x}<br>position=%{y}<extra></extra>\",\"legendgroup\":\"LAT\",\"line\":{\"color\":\"#00cc96\",\"dash\":\"solid\"},\"marker\":{\"symbol\":\"circle\"},\"mode\":\"lines\",\"name\":\"LAT\",\"orientation\":\"v\",\"showlegend\":true,\"x\":[0,57],\"xaxis\":\"x\",\"y\":[20,16],\"yaxis\":\"y\",\"type\":\"scatter\"},{\"hovertemplate\":\"code=HUL<br>lap=%{x}<br>position=%{y}<extra></extra>\",\"legendgroup\":\"HUL\",\"line\":{\"color\":\"#E6002B\",\"dash\":\"solid\"},\"marker\":{\"symbol\":\"circle\"},\"mode\":\"lines\",\"name\":\"HUL\",\"orientation\":\"v\",\"showlegend\":true,\"x\":[0,57],\"xaxis\":\"x\",\"y\":[17,17],\"yaxis\":\"y\",\"type\":\"scatter\"},{\"hovertemplate\":\"code=PER<br>lap=%{x}<br>position=%{y}<extra></extra>\",\"legendgroup\":\"PER\",\"line\":{\"color\":\"#000B8D\",\"dash\":\"solid\"},\"marker\":{\"symbol\":\"circle\"},\"mode\":\"lines\",\"name\":\"PER\",\"orientation\":\"v\",\"showlegend\":true,\"x\":[0],\"xaxis\":\"x\",\"y\":[4],\"yaxis\":\"y\",\"type\":\"scatter\"},{\"hovertemplate\":\"code=VER<br>lap=%{x}<br>position=%{y}<extra></extra>\",\"legendgroup\":\"VER\",\"line\":{\"color\":\"#000B8D\",\"dash\":\"solid\"},\"marker\":{\"symbol\":\"circle\"},\"mode\":\"lines\",\"name\":\"VER\",\"orientation\":\"v\",\"showlegend\":true,\"x\":[0],\"xaxis\":\"x\",\"y\":[2],\"yaxis\":\"y\",\"type\":\"scatter\"},{\"hovertemplate\":\"code=GAS<br>lap=%{x}<br>position=%{y}<extra></extra>\",\"legendgroup\":\"GAS\",\"line\":{\"color\":\"#2173B8\",\"dash\":\"solid\"},\"marker\":{\"symbol\":\"circle\"},\"mode\":\"lines\",\"name\":\"GAS\",\"orientation\":\"v\",\"showlegend\":true,\"x\":[0],\"xaxis\":\"x\",\"y\":[10],\"yaxis\":\"y\",\"type\":\"scatter\"}],                        {\"template\":{\"data\":{\"histogram2dcontour\":[{\"type\":\"histogram2dcontour\",\"colorbar\":{\"outlinewidth\":0,\"ticks\":\"\"},\"colorscale\":[[0.0,\"#0d0887\"],[0.1111111111111111,\"#46039f\"],[0.2222222222222222,\"#7201a8\"],[0.3333333333333333,\"#9c179e\"],[0.4444444444444444,\"#bd3786\"],[0.5555555555555556,\"#d8576b\"],[0.6666666666666666,\"#ed7953\"],[0.7777777777777778,\"#fb9f3a\"],[0.8888888888888888,\"#fdca26\"],[1.0,\"#f0f921\"]]}],\"choropleth\":[{\"type\":\"choropleth\",\"colorbar\":{\"outlinewidth\":0,\"ticks\":\"\"}}],\"histogram2d\":[{\"type\":\"histogram2d\",\"colorbar\":{\"outlinewidth\":0,\"ticks\":\"\"},\"colorscale\":[[0.0,\"#0d0887\"],[0.1111111111111111,\"#46039f\"],[0.2222222222222222,\"#7201a8\"],[0.3333333333333333,\"#9c179e\"],[0.4444444444444444,\"#bd3786\"],[0.5555555555555556,\"#d8576b\"],[0.6666666666666666,\"#ed7953\"],[0.7777777777777778,\"#fb9f3a\"],[0.8888888888888888,\"#fdca26\"],[1.0,\"#f0f921\"]]}],\"heatmap\":[{\"type\":\"heatmap\",\"colorbar\":{\"outlinewidth\":0,\"ticks\":\"\"},\"colorscale\":[[0.0,\"#0d0887\"],[0.1111111111111111,\"#46039f\"],[0.2222222222222222,\"#7201a8\"],[0.3333333333333333,\"#9c179e\"],[0.4444444444444444,\"#bd3786\"],[0.5555555555555556,\"#d8576b\"],[0.6666666666666666,\"#ed7953\"],[0.7777777777777778,\"#fb9f3a\"],[0.8888888888888888,\"#fdca26\"],[1.0,\"#f0f921\"]]}],\"heatmapgl\":[{\"type\":\"heatmapgl\",\"colorbar\":{\"outlinewidth\":0,\"ticks\":\"\"},\"colorscale\":[[0.0,\"#0d0887\"],[0.1111111111111111,\"#46039f\"],[0.2222222222222222,\"#7201a8\"],[0.3333333333333333,\"#9c179e\"],[0.4444444444444444,\"#bd3786\"],[0.5555555555555556,\"#d8576b\"],[0.6666666666666666,\"#ed7953\"],[0.7777777777777778,\"#fb9f3a\"],[0.8888888888888888,\"#fdca26\"],[1.0,\"#f0f921\"]]}],\"contourcarpet\":[{\"type\":\"contourcarpet\",\"colorbar\":{\"outlinewidth\":0,\"ticks\":\"\"}}],\"contour\":[{\"type\":\"contour\",\"colorbar\":{\"outlinewidth\":0,\"ticks\":\"\"},\"colorscale\":[[0.0,\"#0d0887\"],[0.1111111111111111,\"#46039f\"],[0.2222222222222222,\"#7201a8\"],[0.3333333333333333,\"#9c179e\"],[0.4444444444444444,\"#bd3786\"],[0.5555555555555556,\"#d8576b\"],[0.6666666666666666,\"#ed7953\"],[0.7777777777777778,\"#fb9f3a\"],[0.8888888888888888,\"#fdca26\"],[1.0,\"#f0f921\"]]}],\"surface\":[{\"type\":\"surface\",\"colorbar\":{\"outlinewidth\":0,\"ticks\":\"\"},\"colorscale\":[[0.0,\"#0d0887\"],[0.1111111111111111,\"#46039f\"],[0.2222222222222222,\"#7201a8\"],[0.3333333333333333,\"#9c179e\"],[0.4444444444444444,\"#bd3786\"],[0.5555555555555556,\"#d8576b\"],[0.6666666666666666,\"#ed7953\"],[0.7777777777777778,\"#fb9f3a\"],[0.8888888888888888,\"#fdca26\"],[1.0,\"#f0f921\"]]}],\"mesh3d\":[{\"type\":\"mesh3d\",\"colorbar\":{\"outlinewidth\":0,\"ticks\":\"\"}}],\"scatter\":[{\"fillpattern\":{\"fillmode\":\"overlay\",\"size\":10,\"solidity\":0.2},\"type\":\"scatter\"}],\"parcoords\":[{\"type\":\"parcoords\",\"line\":{\"colorbar\":{\"outlinewidth\":0,\"ticks\":\"\"}}}],\"scatterpolargl\":[{\"type\":\"scatterpolargl\",\"marker\":{\"colorbar\":{\"outlinewidth\":0,\"ticks\":\"\"}}}],\"bar\":[{\"error_x\":{\"color\":\"#2a3f5f\"},\"error_y\":{\"color\":\"#2a3f5f\"},\"marker\":{\"line\":{\"color\":\"#E5ECF6\",\"width\":0.5},\"pattern\":{\"fillmode\":\"overlay\",\"size\":10,\"solidity\":0.2}},\"type\":\"bar\"}],\"scattergeo\":[{\"type\":\"scattergeo\",\"marker\":{\"colorbar\":{\"outlinewidth\":0,\"ticks\":\"\"}}}],\"scatterpolar\":[{\"type\":\"scatterpolar\",\"marker\":{\"colorbar\":{\"outlinewidth\":0,\"ticks\":\"\"}}}],\"histogram\":[{\"marker\":{\"pattern\":{\"fillmode\":\"overlay\",\"size\":10,\"solidity\":0.2}},\"type\":\"histogram\"}],\"scattergl\":[{\"type\":\"scattergl\",\"marker\":{\"colorbar\":{\"outlinewidth\":0,\"ticks\":\"\"}}}],\"scatter3d\":[{\"type\":\"scatter3d\",\"line\":{\"colorbar\":{\"outlinewidth\":0,\"ticks\":\"\"}},\"marker\":{\"colorbar\":{\"outlinewidth\":0,\"ticks\":\"\"}}}],\"scattermapbox\":[{\"type\":\"scattermapbox\",\"marker\":{\"colorbar\":{\"outlinewidth\":0,\"ticks\":\"\"}}}],\"scatterternary\":[{\"type\":\"scatterternary\",\"marker\":{\"colorbar\":{\"outlinewidth\":0,\"ticks\":\"\"}}}],\"scattercarpet\":[{\"type\":\"scattercarpet\",\"marker\":{\"colorbar\":{\"outlinewidth\":0,\"ticks\":\"\"}}}],\"carpet\":[{\"aaxis\":{\"endlinecolor\":\"#2a3f5f\",\"gridcolor\":\"white\",\"linecolor\":\"white\",\"minorgridcolor\":\"white\",\"startlinecolor\":\"#2a3f5f\"},\"baxis\":{\"endlinecolor\":\"#2a3f5f\",\"gridcolor\":\"white\",\"linecolor\":\"white\",\"minorgridcolor\":\"white\",\"startlinecolor\":\"#2a3f5f\"},\"type\":\"carpet\"}],\"table\":[{\"cells\":{\"fill\":{\"color\":\"#EBF0F8\"},\"line\":{\"color\":\"white\"}},\"header\":{\"fill\":{\"color\":\"#C8D4E3\"},\"line\":{\"color\":\"white\"}},\"type\":\"table\"}],\"barpolar\":[{\"marker\":{\"line\":{\"color\":\"#E5ECF6\",\"width\":0.5},\"pattern\":{\"fillmode\":\"overlay\",\"size\":10,\"solidity\":0.2}},\"type\":\"barpolar\"}],\"pie\":[{\"automargin\":true,\"type\":\"pie\"}]},\"layout\":{\"autotypenumbers\":\"strict\",\"colorway\":[\"#636efa\",\"#EF553B\",\"#00cc96\",\"#ab63fa\",\"#FFA15A\",\"#19d3f3\",\"#FF6692\",\"#B6E880\",\"#FF97FF\",\"#FECB52\"],\"font\":{\"color\":\"#2a3f5f\"},\"hovermode\":\"closest\",\"hoverlabel\":{\"align\":\"left\"},\"paper_bgcolor\":\"white\",\"plot_bgcolor\":\"#E5ECF6\",\"polar\":{\"bgcolor\":\"#E5ECF6\",\"angularaxis\":{\"gridcolor\":\"white\",\"linecolor\":\"white\",\"ticks\":\"\"},\"radialaxis\":{\"gridcolor\":\"white\",\"linecolor\":\"white\",\"ticks\":\"\"}},\"ternary\":{\"bgcolor\":\"#E5ECF6\",\"aaxis\":{\"gridcolor\":\"white\",\"linecolor\":\"white\",\"ticks\":\"\"},\"baxis\":{\"gridcolor\":\"white\",\"linecolor\":\"white\",\"ticks\":\"\"},\"caxis\":{\"gridcolor\":\"white\",\"linecolor\":\"white\",\"ticks\":\"\"}},\"coloraxis\":{\"colorbar\":{\"outlinewidth\":0,\"ticks\":\"\"}},\"colorscale\":{\"sequential\":[[0.0,\"#0d0887\"],[0.1111111111111111,\"#46039f\"],[0.2222222222222222,\"#7201a8\"],[0.3333333333333333,\"#9c179e\"],[0.4444444444444444,\"#bd3786\"],[0.5555555555555556,\"#d8576b\"],[0.6666666666666666,\"#ed7953\"],[0.7777777777777778,\"#fb9f3a\"],[0.8888888888888888,\"#fdca26\"],[1.0,\"#f0f921\"]],\"sequentialminus\":[[0.0,\"#0d0887\"],[0.1111111111111111,\"#46039f\"],[0.2222222222222222,\"#7201a8\"],[0.3333333333333333,\"#9c179e\"],[0.4444444444444444,\"#bd3786\"],[0.5555555555555556,\"#d8576b\"],[0.6666666666666666,\"#ed7953\"],[0.7777777777777778,\"#fb9f3a\"],[0.8888888888888888,\"#fdca26\"],[1.0,\"#f0f921\"]],\"diverging\":[[0,\"#8e0152\"],[0.1,\"#c51b7d\"],[0.2,\"#de77ae\"],[0.3,\"#f1b6da\"],[0.4,\"#fde0ef\"],[0.5,\"#f7f7f7\"],[0.6,\"#e6f5d0\"],[0.7,\"#b8e186\"],[0.8,\"#7fbc41\"],[0.9,\"#4d9221\"],[1,\"#276419\"]]},\"xaxis\":{\"gridcolor\":\"white\",\"linecolor\":\"white\",\"ticks\":\"\",\"title\":{\"standoff\":15},\"zerolinecolor\":\"white\",\"automargin\":true,\"zerolinewidth\":2},\"yaxis\":{\"gridcolor\":\"white\",\"linecolor\":\"white\",\"ticks\":\"\",\"title\":{\"standoff\":15},\"zerolinecolor\":\"white\",\"automargin\":true,\"zerolinewidth\":2},\"scene\":{\"xaxis\":{\"backgroundcolor\":\"#E5ECF6\",\"gridcolor\":\"white\",\"linecolor\":\"white\",\"showbackground\":true,\"ticks\":\"\",\"zerolinecolor\":\"white\",\"gridwidth\":2},\"yaxis\":{\"backgroundcolor\":\"#E5ECF6\",\"gridcolor\":\"white\",\"linecolor\":\"white\",\"showbackground\":true,\"ticks\":\"\",\"zerolinecolor\":\"white\",\"gridwidth\":2},\"zaxis\":{\"backgroundcolor\":\"#E5ECF6\",\"gridcolor\":\"white\",\"linecolor\":\"white\",\"showbackground\":true,\"ticks\":\"\",\"zerolinecolor\":\"white\",\"gridwidth\":2}},\"shapedefaults\":{\"line\":{\"color\":\"#2a3f5f\"}},\"annotationdefaults\":{\"arrowcolor\":\"#2a3f5f\",\"arrowhead\":0,\"arrowwidth\":1},\"geo\":{\"bgcolor\":\"white\",\"landcolor\":\"#E5ECF6\",\"subunitcolor\":\"white\",\"showland\":true,\"showlakes\":true,\"lakecolor\":\"white\"},\"title\":{\"x\":0.05},\"mapbox\":{\"style\":\"light\"}}},\"xaxis\":{\"anchor\":\"y\",\"domain\":[0.0,1.0],\"title\":{\"text\":\"lap\"}},\"yaxis\":{\"anchor\":\"x\",\"domain\":[0.0,1.0],\"title\":{\"text\":\"position\"}},\"legend\":{\"title\":{\"text\":\"code\"},\"tracegroupgap\":0},\"title\":{\"text\":\"Qualifying to Finish\"}},                        {\"responsive\": true}                    ).then(function(){\n",
       "                            \n",
       "var gd = document.getElementById('2c68a9cc-0e2a-4319-9d13-d70082820a04');\n",
       "var x = new MutationObserver(function (mutations, observer) {{\n",
       "        var display = window.getComputedStyle(gd).display;\n",
       "        if (!display || display === 'none') {{\n",
       "            console.log([gd, 'removed!']);\n",
       "            Plotly.purge(gd);\n",
       "            observer.disconnect();\n",
       "        }}\n",
       "}});\n",
       "\n",
       "// Listen for the removal of the full notebook cells\n",
       "var notebookContainer = gd.closest('#notebook-container');\n",
       "if (notebookContainer) {{\n",
       "    x.observe(notebookContainer, {childList: true});\n",
       "}}\n",
       "\n",
       "// Listen for the clearing of the current output cell\n",
       "var outputEl = gd.closest('.output');\n",
       "if (outputEl) {{\n",
       "    x.observe(outputEl, {childList: true});\n",
       "}}\n",
       "\n",
       "                        })                };                });            </script>        </div>"
      ]
     },
     "metadata": {},
     "output_type": "display_data"
    }
   ],
   "source": [
    "#start/finish path\n",
    "lap_driver_sf = reduced_res[(reduced_res['lap'] == 0) | (reduced_res['lap'] == num_laps)]\n",
    "\n",
    "df = px.data.gapminder().query(\"continent=='Oceania'\")\n",
    "fig = px.line(lap_driver_sf, x=\"lap\", y=\"position\", color='code', color_discrete_map=color_map, title=\"Qualifying to Finish\")\n",
    "fig.show()"
   ]
  },
  {
   "cell_type": "markdown",
   "id": "acda7a0d",
   "metadata": {
    "papermill": {
     "duration": 0.009595,
     "end_time": "2023-03-05T21:55:06.975995",
     "exception": false,
     "start_time": "2023-03-05T21:55:06.966400",
     "status": "completed"
    },
    "tags": []
   },
   "source": [
    "# Pit Stops"
   ]
  },
  {
   "cell_type": "code",
   "execution_count": 13,
   "id": "1ebc5582",
   "metadata": {
    "_kg_hide-input": true,
    "execution": {
     "iopub.execute_input": "2023-03-05T21:55:06.997480Z",
     "iopub.status.busy": "2023-03-05T21:55:06.996817Z",
     "iopub.status.idle": "2023-03-05T21:55:07.033433Z",
     "shell.execute_reply": "2023-03-05T21:55:07.032300Z"
    },
    "papermill": {
     "duration": 0.050188,
     "end_time": "2023-03-05T21:55:07.035932",
     "exception": false,
     "start_time": "2023-03-05T21:55:06.985744",
     "status": "completed"
    },
    "tags": []
   },
   "outputs": [
    {
     "data": {
      "text/html": [
       "<div>                            <div id=\"e382f33e-8d4c-4428-b261-b13508ed8018\" class=\"plotly-graph-div\" style=\"height:525px; width:100%;\"></div>            <script type=\"text/javascript\">                require([\"plotly\"], function(Plotly) {                    window.PLOTLYENV=window.PLOTLYENV || {};                                    if (document.getElementById(\"e382f33e-8d4c-4428-b261-b13508ed8018\")) {                    Plotly.newPlot(                        \"e382f33e-8d4c-4428-b261-b13508ed8018\",                        [{\"name\":\"Max Pit\",\"x\":[\"SAI\",\"LAT\",\"VER\",\"LEC\",\"PER\",\"RIC\",\"ALO\",\"ALB\",\"MSC\",\"HAM\",\"GAS\",\"RUS\",\"BOT\",\"MAG\",\"TSU\",\"STR\",\"HUL\",\"NOR\",\"ZHO\",\"OCO\"],\"y\":[24.666,24.778,24.937,25.012,25.046,25.139,25.365,25.57,25.586,25.796,25.875,25.888,25.893,26.051,26.095,26.957,27.365,27.367,28.647,30.484],\"type\":\"bar\"},{\"name\":\"Avg PIt\",\"x\":[\"SAI\",\"LAT\",\"VER\",\"LEC\",\"PER\",\"RIC\",\"ALO\",\"ALB\",\"MSC\",\"HAM\",\"GAS\",\"RUS\",\"BOT\",\"MAG\",\"TSU\",\"STR\",\"HUL\",\"NOR\",\"ZHO\",\"OCO\"],\"y\":[24.463666666666665,24.631,24.745333333333335,24.717333333333332,24.721999999999998,24.979666666666663,24.927333333333333,25.16633333333333,25.4,25.525333333333332,25.225,25.59866666666667,25.412333333333333,25.801666666666666,24.877666666666666,25.911666666666665,26.608333333333334,25.636666666666667,26.455333333333332,26.703333333333333],\"type\":\"bar\"},{\"name\":\"Min PIt\",\"x\":[\"SAI\",\"LAT\",\"VER\",\"LEC\",\"PER\",\"RIC\",\"ALO\",\"ALB\",\"MSC\",\"HAM\",\"GAS\",\"RUS\",\"BOT\",\"MAG\",\"TSU\",\"STR\",\"HUL\",\"NOR\",\"ZHO\",\"OCO\"],\"y\":[24.287,24.457,24.402,24.527,24.173,24.885,24.508,24.874,25.214,25.201,24.575,25.334,25.156,25.478,24.188,25.039,25.748,24.568,25.291,24.233],\"type\":\"bar\"}],                        {\"barmode\":\"overlay\",\"template\":{\"data\":{\"barpolar\":[{\"marker\":{\"line\":{\"color\":\"#E5ECF6\",\"width\":0.5},\"pattern\":{\"fillmode\":\"overlay\",\"size\":10,\"solidity\":0.2}},\"type\":\"barpolar\"}],\"bar\":[{\"error_x\":{\"color\":\"#2a3f5f\"},\"error_y\":{\"color\":\"#2a3f5f\"},\"marker\":{\"line\":{\"color\":\"#E5ECF6\",\"width\":0.5},\"pattern\":{\"fillmode\":\"overlay\",\"size\":10,\"solidity\":0.2}},\"type\":\"bar\"}],\"carpet\":[{\"aaxis\":{\"endlinecolor\":\"#2a3f5f\",\"gridcolor\":\"white\",\"linecolor\":\"white\",\"minorgridcolor\":\"white\",\"startlinecolor\":\"#2a3f5f\"},\"baxis\":{\"endlinecolor\":\"#2a3f5f\",\"gridcolor\":\"white\",\"linecolor\":\"white\",\"minorgridcolor\":\"white\",\"startlinecolor\":\"#2a3f5f\"},\"type\":\"carpet\"}],\"choropleth\":[{\"colorbar\":{\"outlinewidth\":0,\"ticks\":\"\"},\"type\":\"choropleth\"}],\"contourcarpet\":[{\"colorbar\":{\"outlinewidth\":0,\"ticks\":\"\"},\"type\":\"contourcarpet\"}],\"contour\":[{\"colorbar\":{\"outlinewidth\":0,\"ticks\":\"\"},\"colorscale\":[[0.0,\"#0d0887\"],[0.1111111111111111,\"#46039f\"],[0.2222222222222222,\"#7201a8\"],[0.3333333333333333,\"#9c179e\"],[0.4444444444444444,\"#bd3786\"],[0.5555555555555556,\"#d8576b\"],[0.6666666666666666,\"#ed7953\"],[0.7777777777777778,\"#fb9f3a\"],[0.8888888888888888,\"#fdca26\"],[1.0,\"#f0f921\"]],\"type\":\"contour\"}],\"heatmapgl\":[{\"colorbar\":{\"outlinewidth\":0,\"ticks\":\"\"},\"colorscale\":[[0.0,\"#0d0887\"],[0.1111111111111111,\"#46039f\"],[0.2222222222222222,\"#7201a8\"],[0.3333333333333333,\"#9c179e\"],[0.4444444444444444,\"#bd3786\"],[0.5555555555555556,\"#d8576b\"],[0.6666666666666666,\"#ed7953\"],[0.7777777777777778,\"#fb9f3a\"],[0.8888888888888888,\"#fdca26\"],[1.0,\"#f0f921\"]],\"type\":\"heatmapgl\"}],\"heatmap\":[{\"colorbar\":{\"outlinewidth\":0,\"ticks\":\"\"},\"colorscale\":[[0.0,\"#0d0887\"],[0.1111111111111111,\"#46039f\"],[0.2222222222222222,\"#7201a8\"],[0.3333333333333333,\"#9c179e\"],[0.4444444444444444,\"#bd3786\"],[0.5555555555555556,\"#d8576b\"],[0.6666666666666666,\"#ed7953\"],[0.7777777777777778,\"#fb9f3a\"],[0.8888888888888888,\"#fdca26\"],[1.0,\"#f0f921\"]],\"type\":\"heatmap\"}],\"histogram2dcontour\":[{\"colorbar\":{\"outlinewidth\":0,\"ticks\":\"\"},\"colorscale\":[[0.0,\"#0d0887\"],[0.1111111111111111,\"#46039f\"],[0.2222222222222222,\"#7201a8\"],[0.3333333333333333,\"#9c179e\"],[0.4444444444444444,\"#bd3786\"],[0.5555555555555556,\"#d8576b\"],[0.6666666666666666,\"#ed7953\"],[0.7777777777777778,\"#fb9f3a\"],[0.8888888888888888,\"#fdca26\"],[1.0,\"#f0f921\"]],\"type\":\"histogram2dcontour\"}],\"histogram2d\":[{\"colorbar\":{\"outlinewidth\":0,\"ticks\":\"\"},\"colorscale\":[[0.0,\"#0d0887\"],[0.1111111111111111,\"#46039f\"],[0.2222222222222222,\"#7201a8\"],[0.3333333333333333,\"#9c179e\"],[0.4444444444444444,\"#bd3786\"],[0.5555555555555556,\"#d8576b\"],[0.6666666666666666,\"#ed7953\"],[0.7777777777777778,\"#fb9f3a\"],[0.8888888888888888,\"#fdca26\"],[1.0,\"#f0f921\"]],\"type\":\"histogram2d\"}],\"histogram\":[{\"marker\":{\"pattern\":{\"fillmode\":\"overlay\",\"size\":10,\"solidity\":0.2}},\"type\":\"histogram\"}],\"mesh3d\":[{\"colorbar\":{\"outlinewidth\":0,\"ticks\":\"\"},\"type\":\"mesh3d\"}],\"parcoords\":[{\"line\":{\"colorbar\":{\"outlinewidth\":0,\"ticks\":\"\"}},\"type\":\"parcoords\"}],\"pie\":[{\"automargin\":true,\"type\":\"pie\"}],\"scatter3d\":[{\"line\":{\"colorbar\":{\"outlinewidth\":0,\"ticks\":\"\"}},\"marker\":{\"colorbar\":{\"outlinewidth\":0,\"ticks\":\"\"}},\"type\":\"scatter3d\"}],\"scattercarpet\":[{\"marker\":{\"colorbar\":{\"outlinewidth\":0,\"ticks\":\"\"}},\"type\":\"scattercarpet\"}],\"scattergeo\":[{\"marker\":{\"colorbar\":{\"outlinewidth\":0,\"ticks\":\"\"}},\"type\":\"scattergeo\"}],\"scattergl\":[{\"marker\":{\"colorbar\":{\"outlinewidth\":0,\"ticks\":\"\"}},\"type\":\"scattergl\"}],\"scattermapbox\":[{\"marker\":{\"colorbar\":{\"outlinewidth\":0,\"ticks\":\"\"}},\"type\":\"scattermapbox\"}],\"scatterpolargl\":[{\"marker\":{\"colorbar\":{\"outlinewidth\":0,\"ticks\":\"\"}},\"type\":\"scatterpolargl\"}],\"scatterpolar\":[{\"marker\":{\"colorbar\":{\"outlinewidth\":0,\"ticks\":\"\"}},\"type\":\"scatterpolar\"}],\"scatter\":[{\"fillpattern\":{\"fillmode\":\"overlay\",\"size\":10,\"solidity\":0.2},\"type\":\"scatter\"}],\"scatterternary\":[{\"marker\":{\"colorbar\":{\"outlinewidth\":0,\"ticks\":\"\"}},\"type\":\"scatterternary\"}],\"surface\":[{\"colorbar\":{\"outlinewidth\":0,\"ticks\":\"\"},\"colorscale\":[[0.0,\"#0d0887\"],[0.1111111111111111,\"#46039f\"],[0.2222222222222222,\"#7201a8\"],[0.3333333333333333,\"#9c179e\"],[0.4444444444444444,\"#bd3786\"],[0.5555555555555556,\"#d8576b\"],[0.6666666666666666,\"#ed7953\"],[0.7777777777777778,\"#fb9f3a\"],[0.8888888888888888,\"#fdca26\"],[1.0,\"#f0f921\"]],\"type\":\"surface\"}],\"table\":[{\"cells\":{\"fill\":{\"color\":\"#EBF0F8\"},\"line\":{\"color\":\"white\"}},\"header\":{\"fill\":{\"color\":\"#C8D4E3\"},\"line\":{\"color\":\"white\"}},\"type\":\"table\"}]},\"layout\":{\"annotationdefaults\":{\"arrowcolor\":\"#2a3f5f\",\"arrowhead\":0,\"arrowwidth\":1},\"autotypenumbers\":\"strict\",\"coloraxis\":{\"colorbar\":{\"outlinewidth\":0,\"ticks\":\"\"}},\"colorscale\":{\"diverging\":[[0,\"#8e0152\"],[0.1,\"#c51b7d\"],[0.2,\"#de77ae\"],[0.3,\"#f1b6da\"],[0.4,\"#fde0ef\"],[0.5,\"#f7f7f7\"],[0.6,\"#e6f5d0\"],[0.7,\"#b8e186\"],[0.8,\"#7fbc41\"],[0.9,\"#4d9221\"],[1,\"#276419\"]],\"sequential\":[[0.0,\"#0d0887\"],[0.1111111111111111,\"#46039f\"],[0.2222222222222222,\"#7201a8\"],[0.3333333333333333,\"#9c179e\"],[0.4444444444444444,\"#bd3786\"],[0.5555555555555556,\"#d8576b\"],[0.6666666666666666,\"#ed7953\"],[0.7777777777777778,\"#fb9f3a\"],[0.8888888888888888,\"#fdca26\"],[1.0,\"#f0f921\"]],\"sequentialminus\":[[0.0,\"#0d0887\"],[0.1111111111111111,\"#46039f\"],[0.2222222222222222,\"#7201a8\"],[0.3333333333333333,\"#9c179e\"],[0.4444444444444444,\"#bd3786\"],[0.5555555555555556,\"#d8576b\"],[0.6666666666666666,\"#ed7953\"],[0.7777777777777778,\"#fb9f3a\"],[0.8888888888888888,\"#fdca26\"],[1.0,\"#f0f921\"]]},\"colorway\":[\"#636efa\",\"#EF553B\",\"#00cc96\",\"#ab63fa\",\"#FFA15A\",\"#19d3f3\",\"#FF6692\",\"#B6E880\",\"#FF97FF\",\"#FECB52\"],\"font\":{\"color\":\"#2a3f5f\"},\"geo\":{\"bgcolor\":\"white\",\"lakecolor\":\"white\",\"landcolor\":\"#E5ECF6\",\"showlakes\":true,\"showland\":true,\"subunitcolor\":\"white\"},\"hoverlabel\":{\"align\":\"left\"},\"hovermode\":\"closest\",\"mapbox\":{\"style\":\"light\"},\"paper_bgcolor\":\"white\",\"plot_bgcolor\":\"#E5ECF6\",\"polar\":{\"angularaxis\":{\"gridcolor\":\"white\",\"linecolor\":\"white\",\"ticks\":\"\"},\"bgcolor\":\"#E5ECF6\",\"radialaxis\":{\"gridcolor\":\"white\",\"linecolor\":\"white\",\"ticks\":\"\"}},\"scene\":{\"xaxis\":{\"backgroundcolor\":\"#E5ECF6\",\"gridcolor\":\"white\",\"gridwidth\":2,\"linecolor\":\"white\",\"showbackground\":true,\"ticks\":\"\",\"zerolinecolor\":\"white\"},\"yaxis\":{\"backgroundcolor\":\"#E5ECF6\",\"gridcolor\":\"white\",\"gridwidth\":2,\"linecolor\":\"white\",\"showbackground\":true,\"ticks\":\"\",\"zerolinecolor\":\"white\"},\"zaxis\":{\"backgroundcolor\":\"#E5ECF6\",\"gridcolor\":\"white\",\"gridwidth\":2,\"linecolor\":\"white\",\"showbackground\":true,\"ticks\":\"\",\"zerolinecolor\":\"white\"}},\"shapedefaults\":{\"line\":{\"color\":\"#2a3f5f\"}},\"ternary\":{\"aaxis\":{\"gridcolor\":\"white\",\"linecolor\":\"white\",\"ticks\":\"\"},\"baxis\":{\"gridcolor\":\"white\",\"linecolor\":\"white\",\"ticks\":\"\"},\"bgcolor\":\"#E5ECF6\",\"caxis\":{\"gridcolor\":\"white\",\"linecolor\":\"white\",\"ticks\":\"\"}},\"title\":{\"x\":0.05},\"xaxis\":{\"automargin\":true,\"gridcolor\":\"white\",\"linecolor\":\"white\",\"ticks\":\"\",\"title\":{\"standoff\":15},\"zerolinecolor\":\"white\",\"zerolinewidth\":2},\"yaxis\":{\"automargin\":true,\"gridcolor\":\"white\",\"linecolor\":\"white\",\"ticks\":\"\",\"title\":{\"standoff\":15},\"zerolinecolor\":\"white\",\"zerolinewidth\":2}}},\"title\":{\"text\":\"Pit Times\"},\"yaxis\":{\"range\":[23,31]}},                        {\"responsive\": true}                    ).then(function(){\n",
       "                            \n",
       "var gd = document.getElementById('e382f33e-8d4c-4428-b261-b13508ed8018');\n",
       "var x = new MutationObserver(function (mutations, observer) {{\n",
       "        var display = window.getComputedStyle(gd).display;\n",
       "        if (!display || display === 'none') {{\n",
       "            console.log([gd, 'removed!']);\n",
       "            Plotly.purge(gd);\n",
       "            observer.disconnect();\n",
       "        }}\n",
       "}});\n",
       "\n",
       "// Listen for the removal of the full notebook cells\n",
       "var notebookContainer = gd.closest('#notebook-container');\n",
       "if (notebookContainer) {{\n",
       "    x.observe(notebookContainer, {childList: true});\n",
       "}}\n",
       "\n",
       "// Listen for the clearing of the current output cell\n",
       "var outputEl = gd.closest('.output');\n",
       "if (outputEl) {{\n",
       "    x.observe(outputEl, {childList: true});\n",
       "}}\n",
       "\n",
       "                        })                };                });            </script>        </div>"
      ]
     },
     "metadata": {},
     "output_type": "display_data"
    }
   ],
   "source": [
    "data = [\n",
    "    go.Bar(y=driver_group['max'], x=driver_group.code, name='Max Pit',  \n",
    "            #base=0\n",
    "           ),\n",
    "go.Bar(y=driver_group['mean'], x=driver_group.code, name='Avg PIt'),\n",
    "go.Bar(y=driver_group['min'], x=driver_group.code, name='Min PIt')]\n",
    "\n",
    "layout = go.Layout(\n",
    "    barmode='overlay',\n",
    "    title=\"Pit Times\"\n",
    ")\n",
    "\n",
    "fig = dict(data = data, layout = layout, layout_yaxis_range=[23, 31])\n",
    "from plotly.offline import init_notebook_mode, iplot\n",
    "iplot(fig, show_link=False)"
   ]
  },
  {
   "cell_type": "markdown",
   "id": "8979f51c",
   "metadata": {
    "papermill": {
     "duration": 0.010081,
     "end_time": "2023-03-05T21:55:07.056275",
     "exception": false,
     "start_time": "2023-03-05T21:55:07.046194",
     "status": "completed"
    },
    "tags": []
   },
   "source": [
    "# Lap Times"
   ]
  },
  {
   "cell_type": "code",
   "execution_count": 14,
   "id": "96d6ee7c",
   "metadata": {
    "_kg_hide-input": true,
    "execution": {
     "iopub.execute_input": "2023-03-05T21:55:07.078657Z",
     "iopub.status.busy": "2023-03-05T21:55:07.078207Z",
     "iopub.status.idle": "2023-03-05T21:55:07.237817Z",
     "shell.execute_reply": "2023-03-05T21:55:07.236714Z"
    },
    "papermill": {
     "duration": 0.173482,
     "end_time": "2023-03-05T21:55:07.240258",
     "exception": false,
     "start_time": "2023-03-05T21:55:07.066776",
     "status": "completed"
    },
    "tags": []
   },
   "outputs": [
    {
     "data": {
      "text/html": [
       "<div>                            <div id=\"5576838d-ce12-4d12-a694-5ba508d68df8\" class=\"plotly-graph-div\" style=\"height:525px; width:100%;\"></div>            <script type=\"text/javascript\">                require([\"plotly\"], function(Plotly) {                    window.PLOTLYENV=window.PLOTLYENV || {};                                    if (document.getElementById(\"5576838d-ce12-4d12-a694-5ba508d68df8\")) {                    Plotly.newPlot(                        \"5576838d-ce12-4d12-a694-5ba508d68df8\",                        [{\"alignmentgroup\":\"True\",\"boxpoints\":false,\"hovertemplate\":\"Driver=%{y}<br>Duration (Seconds)=%{x}<extra></extra>\",\"legendgroup\":\"LEC\",\"marker\":{\"color\":\"#EF1A2D\"},\"name\":\"LEC\",\"notched\":false,\"offsetgroup\":\"LEC\",\"orientation\":\"h\",\"showlegend\":true,\"x\":[99.07,97.853,98.272,98.414,98.471,98.712,98.835,98.951,98.807,99.123,99.306,99.256,99.279,99.629,102.041,97.52,97.634,97.408,97.562,97.807,97.752,97.774,97.913,98.061,98.371,98.785,99.051,98.887,99.354,101.545,96.674,96.399,96.501,96.561,96.663,96.623,96.939,96.807,97.044,97.04,97.346,97.509,97.413,94.57,95.027,95.127,95.429,95.427,95.673,96.373],\"x0\":\" \",\"xaxis\":\"x\",\"y\":[\"LEC\",\"LEC\",\"LEC\",\"LEC\",\"LEC\",\"LEC\",\"LEC\",\"LEC\",\"LEC\",\"LEC\",\"LEC\",\"LEC\",\"LEC\",\"LEC\",\"LEC\",\"LEC\",\"LEC\",\"LEC\",\"LEC\",\"LEC\",\"LEC\",\"LEC\",\"LEC\",\"LEC\",\"LEC\",\"LEC\",\"LEC\",\"LEC\",\"LEC\",\"LEC\",\"LEC\",\"LEC\",\"LEC\",\"LEC\",\"LEC\",\"LEC\",\"LEC\",\"LEC\",\"LEC\",\"LEC\",\"LEC\",\"LEC\",\"LEC\",\"LEC\",\"LEC\",\"LEC\",\"LEC\",\"LEC\",\"LEC\",\"LEC\"],\"y0\":\" \",\"yaxis\":\"y\",\"type\":\"box\"},{\"alignmentgroup\":\"True\",\"boxpoints\":false,\"hovertemplate\":\"Driver=%{y}<br>Duration (Seconds)=%{x}<extra></extra>\",\"legendgroup\":\"VER\",\"marker\":{\"color\":\"#000B8D\"},\"name\":\"VER\",\"notched\":false,\"offsetgroup\":\"VER\",\"orientation\":\"h\",\"showlegend\":true,\"x\":[100.236,97.88,98.357,98.566,98.877,98.94,99.062,99.092,99.251,99.392,99.479,99.41,99.534,102.05,96.905,97.587,97.717,97.728,98.257,98.294,98.243,98.091,98.187,98.372,98.476,98.823,98.782,99.384,101.537,96.527,96.347,96.384,96.731,96.92,96.962,96.898,97.255,97.308,97.284,97.855,99.787,95.747,95.44,95.462,95.927],\"x0\":\" \",\"xaxis\":\"x\",\"y\":[\"VER\",\"VER\",\"VER\",\"VER\",\"VER\",\"VER\",\"VER\",\"VER\",\"VER\",\"VER\",\"VER\",\"VER\",\"VER\",\"VER\",\"VER\",\"VER\",\"VER\",\"VER\",\"VER\",\"VER\",\"VER\",\"VER\",\"VER\",\"VER\",\"VER\",\"VER\",\"VER\",\"VER\",\"VER\",\"VER\",\"VER\",\"VER\",\"VER\",\"VER\",\"VER\",\"VER\",\"VER\",\"VER\",\"VER\",\"VER\",\"VER\",\"VER\",\"VER\",\"VER\",\"VER\"],\"y0\":\" \",\"yaxis\":\"y\",\"type\":\"box\"},{\"alignmentgroup\":\"True\",\"boxpoints\":false,\"hovertemplate\":\"Driver=%{y}<br>Duration (Seconds)=%{x}<extra></extra>\",\"legendgroup\":\"SAI\",\"marker\":{\"color\":\"#EF1A2D\"},\"name\":\"SAI\",\"notched\":false,\"offsetgroup\":\"SAI\",\"orientation\":\"h\",\"showlegend\":true,\"x\":[101.006,98.649,99.049,98.923,99.101,99.594,99.588,99.275,99.424,99.682,99.942,100.097,100.165,103.029,97.477,97.172,97.561,97.581,98.059,97.721,97.914,98.244,98.242,98.264,98.444,98.846,98.729,98.953,99.004,99.105,99.386,101.915,96.454,96.6,96.893,97.012,97.044,97.271,96.771,97.269,97.26,99.699,95.992,95.74,95.88,96.565,96.075,95.767,96.269],\"x0\":\" \",\"xaxis\":\"x\",\"y\":[\"SAI\",\"SAI\",\"SAI\",\"SAI\",\"SAI\",\"SAI\",\"SAI\",\"SAI\",\"SAI\",\"SAI\",\"SAI\",\"SAI\",\"SAI\",\"SAI\",\"SAI\",\"SAI\",\"SAI\",\"SAI\",\"SAI\",\"SAI\",\"SAI\",\"SAI\",\"SAI\",\"SAI\",\"SAI\",\"SAI\",\"SAI\",\"SAI\",\"SAI\",\"SAI\",\"SAI\",\"SAI\",\"SAI\",\"SAI\",\"SAI\",\"SAI\",\"SAI\",\"SAI\",\"SAI\",\"SAI\",\"SAI\",\"SAI\",\"SAI\",\"SAI\",\"SAI\",\"SAI\",\"SAI\",\"SAI\",\"SAI\"],\"y0\":\" \",\"yaxis\":\"y\",\"type\":\"box\"},{\"alignmentgroup\":\"True\",\"boxpoints\":false,\"hovertemplate\":\"Driver=%{y}<br>Duration (Seconds)=%{x}<extra></extra>\",\"legendgroup\":\"HAM\",\"marker\":{\"color\":\"#00A19B\"},\"name\":\"HAM\",\"notched\":false,\"offsetgroup\":\"HAM\",\"orientation\":\"h\",\"showlegend\":true,\"x\":[101.555,99.002,99.075,98.892,98.923,99.707,99.682,99.758,100.274,101.581,102.945,99.33,99.309,98.587,98.236,98.644,98.368,98.393,98.606,98.542,99.407,99.109,99.342,99.186,99.255,101.666,97.871,97.506,96.66,98.29,97.085,97.593,97.47,97.66,97.771,97.942,97.668,97.898,97.912,98.422,98.205,101.007,96.487,96.36,96.228,96.354,96.566,96.481,96.918],\"x0\":\" \",\"xaxis\":\"x\",\"y\":[\"HAM\",\"HAM\",\"HAM\",\"HAM\",\"HAM\",\"HAM\",\"HAM\",\"HAM\",\"HAM\",\"HAM\",\"HAM\",\"HAM\",\"HAM\",\"HAM\",\"HAM\",\"HAM\",\"HAM\",\"HAM\",\"HAM\",\"HAM\",\"HAM\",\"HAM\",\"HAM\",\"HAM\",\"HAM\",\"HAM\",\"HAM\",\"HAM\",\"HAM\",\"HAM\",\"HAM\",\"HAM\",\"HAM\",\"HAM\",\"HAM\",\"HAM\",\"HAM\",\"HAM\",\"HAM\",\"HAM\",\"HAM\",\"HAM\",\"HAM\",\"HAM\",\"HAM\",\"HAM\",\"HAM\",\"HAM\",\"HAM\"],\"y0\":\" \",\"yaxis\":\"y\",\"type\":\"box\"},{\"alignmentgroup\":\"True\",\"boxpoints\":false,\"hovertemplate\":\"Driver=%{y}<br>Duration (Seconds)=%{x}<extra></extra>\",\"legendgroup\":\"MAG\",\"marker\":{\"color\":\"#E6002B\"},\"name\":\"MAG\",\"notched\":false,\"offsetgroup\":\"MAG\",\"orientation\":\"h\",\"showlegend\":true,\"x\":[102.333,98.993,101.224,99.642,101.169,100.338,100.555,100.451,100.756,101.195,101.064,101.37,101.283,104.244,97.968,98.216,98.442,98.539,98.883,98.859,99.058,99.12,99.384,99.52,99.756,99.796,99.774,99.984,100.174,100.233,100.522,100.523,103.256,97.941,96.903,97.636,97.566,97.901,97.726,98.006,98.178,98.688,110.334,97.343,96.86,96.623,96.96,96.937,97.091,97.741],\"x0\":\" \",\"xaxis\":\"x\",\"y\":[\"MAG\",\"MAG\",\"MAG\",\"MAG\",\"MAG\",\"MAG\",\"MAG\",\"MAG\",\"MAG\",\"MAG\",\"MAG\",\"MAG\",\"MAG\",\"MAG\",\"MAG\",\"MAG\",\"MAG\",\"MAG\",\"MAG\",\"MAG\",\"MAG\",\"MAG\",\"MAG\",\"MAG\",\"MAG\",\"MAG\",\"MAG\",\"MAG\",\"MAG\",\"MAG\",\"MAG\",\"MAG\",\"MAG\",\"MAG\",\"MAG\",\"MAG\",\"MAG\",\"MAG\",\"MAG\",\"MAG\",\"MAG\",\"MAG\",\"MAG\",\"MAG\",\"MAG\",\"MAG\",\"MAG\",\"MAG\",\"MAG\",\"MAG\"],\"y0\":\" \",\"yaxis\":\"y\",\"type\":\"box\"},{\"alignmentgroup\":\"True\",\"boxpoints\":false,\"hovertemplate\":\"Driver=%{y}<br>Duration (Seconds)=%{x}<extra></extra>\",\"legendgroup\":\"PER\",\"marker\":{\"color\":\"#000B8D\"},\"name\":\"PER\",\"notched\":false,\"offsetgroup\":\"PER\",\"orientation\":\"h\",\"showlegend\":true,\"x\":[102.993,99.092,99.473,98.741,98.861,99.218,99.264,99.825,100.215,99.806,99.931,99.754,99.992,100.035,102.445,96.634,96.852,97.214,97.532,97.629,97.862,97.96,98.155,98.419,98.693,98.563,98.697,98.99,98.879,99.292,99.222,101.868,96.302,96.511,97.119,96.755,96.987,97.178,97.639,97.255,100.228,103.562,96.389,96.089,96.113,96.755,96.436,96.286],\"x0\":\" \",\"xaxis\":\"x\",\"y\":[\"PER\",\"PER\",\"PER\",\"PER\",\"PER\",\"PER\",\"PER\",\"PER\",\"PER\",\"PER\",\"PER\",\"PER\",\"PER\",\"PER\",\"PER\",\"PER\",\"PER\",\"PER\",\"PER\",\"PER\",\"PER\",\"PER\",\"PER\",\"PER\",\"PER\",\"PER\",\"PER\",\"PER\",\"PER\",\"PER\",\"PER\",\"PER\",\"PER\",\"PER\",\"PER\",\"PER\",\"PER\",\"PER\",\"PER\",\"PER\",\"PER\",\"PER\",\"PER\",\"PER\",\"PER\",\"PER\",\"PER\",\"PER\"],\"y0\":\" \",\"yaxis\":\"y\",\"type\":\"box\"},{\"alignmentgroup\":\"True\",\"boxpoints\":false,\"hovertemplate\":\"Driver=%{y}<br>Duration (Seconds)=%{x}<extra></extra>\",\"legendgroup\":\"RUS\",\"marker\":{\"color\":\"#00A19B\"},\"name\":\"RUS\",\"notched\":false,\"offsetgroup\":\"RUS\",\"orientation\":\"h\",\"showlegend\":true,\"x\":[103.445,99.694,99.725,99.772,99.041,99.605,99.934,99.729,100.158,100.236,100.358,100.215,100.448,100.409,103.097,98.089,98.114,98.307,98.148,98.633,98.567,98.896,99.286,99.165,99.306,99.096,99.297,99.274,99.454,99.438,99.738,101.83,97.216,97.527,97.753,97.792,97.721,97.79,97.783,98.111,98.747,98.297,108.988,96.94,96.529,96.367,96.592,96.395,96.302,97.401],\"x0\":\" \",\"xaxis\":\"x\",\"y\":[\"RUS\",\"RUS\",\"RUS\",\"RUS\",\"RUS\",\"RUS\",\"RUS\",\"RUS\",\"RUS\",\"RUS\",\"RUS\",\"RUS\",\"RUS\",\"RUS\",\"RUS\",\"RUS\",\"RUS\",\"RUS\",\"RUS\",\"RUS\",\"RUS\",\"RUS\",\"RUS\",\"RUS\",\"RUS\",\"RUS\",\"RUS\",\"RUS\",\"RUS\",\"RUS\",\"RUS\",\"RUS\",\"RUS\",\"RUS\",\"RUS\",\"RUS\",\"RUS\",\"RUS\",\"RUS\",\"RUS\",\"RUS\",\"RUS\",\"RUS\",\"RUS\",\"RUS\",\"RUS\",\"RUS\",\"RUS\",\"RUS\",\"RUS\"],\"y0\":\" \",\"yaxis\":\"y\",\"type\":\"box\"},{\"alignmentgroup\":\"True\",\"boxpoints\":false,\"hovertemplate\":\"Driver=%{y}<br>Duration (Seconds)=%{x}<extra></extra>\",\"legendgroup\":\"GAS\",\"marker\":{\"color\":\"#2173B8\"},\"name\":\"GAS\",\"notched\":false,\"offsetgroup\":\"GAS\",\"orientation\":\"h\",\"showlegend\":true,\"x\":[104.27,100.169,99.968,100.158,100.249,100.474,100.433,100.684,100.844,100.981,101.089,101.347,101.256,104.005,98.705,98.868,98.888,99.416,99.134,99.083,99.152,99.31,99.363,99.485,99.513,99.919,99.665,99.677,99.8,100.874,102.305,97.324,97.54,99.827,99.596,98.221,98.552,98.204,98.301,98.329,98.478,98.704],\"x0\":\" \",\"xaxis\":\"x\",\"y\":[\"GAS\",\"GAS\",\"GAS\",\"GAS\",\"GAS\",\"GAS\",\"GAS\",\"GAS\",\"GAS\",\"GAS\",\"GAS\",\"GAS\",\"GAS\",\"GAS\",\"GAS\",\"GAS\",\"GAS\",\"GAS\",\"GAS\",\"GAS\",\"GAS\",\"GAS\",\"GAS\",\"GAS\",\"GAS\",\"GAS\",\"GAS\",\"GAS\",\"GAS\",\"GAS\",\"GAS\",\"GAS\",\"GAS\",\"GAS\",\"GAS\",\"GAS\",\"GAS\",\"GAS\",\"GAS\",\"GAS\",\"GAS\",\"GAS\"],\"y0\":\" \",\"yaxis\":\"y\",\"type\":\"box\"},{\"alignmentgroup\":\"True\",\"boxpoints\":false,\"hovertemplate\":\"Driver=%{y}<br>Duration (Seconds)=%{x}<extra></extra>\",\"legendgroup\":\"ALO\",\"marker\":{\"color\":\"#002420\"},\"name\":\"ALO\",\"notched\":false,\"offsetgroup\":\"ALO\",\"orientation\":\"h\",\"showlegend\":true,\"x\":[105.174,100.412,100.226,100.097,100.465,100.658,100.823,102.371,101.448,101.873,104.265,99.05,99.704,100.256,100.572,99.434,99.809,99.785,99.874,100.087,100.504,99.922,100.496,102.836,97.995,98.908,98.68,98.626,98.958,99.153,99.686,99.208,99.214,99.389,99.426,100.034,100.009,100.295,99.854,102.925,96.733,111.463,105.574,99.006,97.538,97.396,97.303,97.672,97.642,98.986],\"x0\":\" \",\"xaxis\":\"x\",\"y\":[\"ALO\",\"ALO\",\"ALO\",\"ALO\",\"ALO\",\"ALO\",\"ALO\",\"ALO\",\"ALO\",\"ALO\",\"ALO\",\"ALO\",\"ALO\",\"ALO\",\"ALO\",\"ALO\",\"ALO\",\"ALO\",\"ALO\",\"ALO\",\"ALO\",\"ALO\",\"ALO\",\"ALO\",\"ALO\",\"ALO\",\"ALO\",\"ALO\",\"ALO\",\"ALO\",\"ALO\",\"ALO\",\"ALO\",\"ALO\",\"ALO\",\"ALO\",\"ALO\",\"ALO\",\"ALO\",\"ALO\",\"ALO\",\"ALO\",\"ALO\",\"ALO\",\"ALO\",\"ALO\",\"ALO\",\"ALO\",\"ALO\",\"ALO\"],\"y0\":\" \",\"yaxis\":\"y\",\"type\":\"box\"},{\"alignmentgroup\":\"True\",\"boxpoints\":false,\"hovertemplate\":\"Driver=%{y}<br>Duration (Seconds)=%{x}<extra></extra>\",\"legendgroup\":\"OCO\",\"marker\":{\"color\":\"#2173B8\"},\"name\":\"OCO\",\"notched\":false,\"offsetgroup\":\"OCO\",\"orientation\":\"h\",\"showlegend\":true,\"x\":[106.17,100.111,100.248,100.209,100.483,100.558,100.782,100.442,100.819,100.992,101.082,101.094,101.395,104.08,100.079,98.82,100.025,98.442,98.917,99.183,99.304,99.495,99.886,100.278,99.188,99.789,99.766,99.877,102.618,98.298,98.11,98.155,98.307,98.515,98.851,98.21,98.612,98.641,98.584,99.064,101.631,104.365,105.075,98.145,97.367,97.11,97.299,97.251,97.68,98.676],\"x0\":\" \",\"xaxis\":\"x\",\"y\":[\"OCO\",\"OCO\",\"OCO\",\"OCO\",\"OCO\",\"OCO\",\"OCO\",\"OCO\",\"OCO\",\"OCO\",\"OCO\",\"OCO\",\"OCO\",\"OCO\",\"OCO\",\"OCO\",\"OCO\",\"OCO\",\"OCO\",\"OCO\",\"OCO\",\"OCO\",\"OCO\",\"OCO\",\"OCO\",\"OCO\",\"OCO\",\"OCO\",\"OCO\",\"OCO\",\"OCO\",\"OCO\",\"OCO\",\"OCO\",\"OCO\",\"OCO\",\"OCO\",\"OCO\",\"OCO\",\"OCO\",\"OCO\",\"OCO\",\"OCO\",\"OCO\",\"OCO\",\"OCO\",\"OCO\",\"OCO\",\"OCO\",\"OCO\"],\"y0\":\" \",\"yaxis\":\"y\",\"type\":\"box\"},{\"alignmentgroup\":\"True\",\"boxpoints\":false,\"hovertemplate\":\"Driver=%{y}<br>Duration (Seconds)=%{x}<extra></extra>\",\"legendgroup\":\"ALB\",\"marker\":{\"color\":\"#00A0DE\"},\"name\":\"ALB\",\"notched\":false,\"offsetgroup\":\"ALB\",\"orientation\":\"h\",\"showlegend\":true,\"x\":[107.636,100.548,100.664,101.126,102.303,101.708,101.561,103.097,102.149,103.5,102.588,102.505,104.752,99.517,100.164,100.265,100.225,100.8,100.239,101.181,100.816,100.736,100.669,101.032,101.628,102.053,101.355,101.505,101.02,101.23,101.241,100.863,101.203,103.965,99.165,99.127,99.025,99.14,99.285,99.255,99.325,106.225,100.113,97.355,97.702,97.717,98.073,98.356,98.826,99.202,100.132],\"x0\":\" \",\"xaxis\":\"x\",\"y\":[\"ALB\",\"ALB\",\"ALB\",\"ALB\",\"ALB\",\"ALB\",\"ALB\",\"ALB\",\"ALB\",\"ALB\",\"ALB\",\"ALB\",\"ALB\",\"ALB\",\"ALB\",\"ALB\",\"ALB\",\"ALB\",\"ALB\",\"ALB\",\"ALB\",\"ALB\",\"ALB\",\"ALB\",\"ALB\",\"ALB\",\"ALB\",\"ALB\",\"ALB\",\"ALB\",\"ALB\",\"ALB\",\"ALB\",\"ALB\",\"ALB\",\"ALB\",\"ALB\",\"ALB\",\"ALB\",\"ALB\",\"ALB\",\"ALB\",\"ALB\",\"ALB\",\"ALB\",\"ALB\",\"ALB\",\"ALB\",\"ALB\",\"ALB\",\"ALB\"],\"y0\":\" \",\"yaxis\":\"y\",\"type\":\"box\"},{\"alignmentgroup\":\"True\",\"boxpoints\":false,\"hovertemplate\":\"Driver=%{y}<br>Duration (Seconds)=%{x}<extra></extra>\",\"legendgroup\":\"TSU\",\"marker\":{\"color\":\"#20394C\"},\"name\":\"TSU\",\"notched\":false,\"offsetgroup\":\"TSU\",\"orientation\":\"h\",\"showlegend\":true,\"x\":[108.128,100.697,100.618,100.958,100.363,100.611,100.754,101.351,100.9,101.182,101.313,101.096,101.337,101.352,103.687,99.939,98.76,99.011,99.069,99.294,99.574,99.569,99.576,100.376,99.871,100.325,99.952,102.805,98.722,97.885,98.98,98.484,98.523,98.647,98.289,98.713,98.912,98.377,98.693,98.772,98.93,101.039,109.994,106.67,98.166,97.475,97.104,97.268,97.264,97.565,98.891],\"x0\":\" \",\"xaxis\":\"x\",\"y\":[\"TSU\",\"TSU\",\"TSU\",\"TSU\",\"TSU\",\"TSU\",\"TSU\",\"TSU\",\"TSU\",\"TSU\",\"TSU\",\"TSU\",\"TSU\",\"TSU\",\"TSU\",\"TSU\",\"TSU\",\"TSU\",\"TSU\",\"TSU\",\"TSU\",\"TSU\",\"TSU\",\"TSU\",\"TSU\",\"TSU\",\"TSU\",\"TSU\",\"TSU\",\"TSU\",\"TSU\",\"TSU\",\"TSU\",\"TSU\",\"TSU\",\"TSU\",\"TSU\",\"TSU\",\"TSU\",\"TSU\",\"TSU\",\"TSU\",\"TSU\",\"TSU\",\"TSU\",\"TSU\",\"TSU\",\"TSU\",\"TSU\",\"TSU\",\"TSU\"],\"y0\":\" \",\"yaxis\":\"y\",\"type\":\"box\"},{\"alignmentgroup\":\"True\",\"boxpoints\":false,\"hovertemplate\":\"Driver=%{y}<br>Duration (Seconds)=%{x}<extra></extra>\",\"legendgroup\":\"MSC\",\"marker\":{\"color\":\"#636efa\"},\"name\":\"MSC\",\"notched\":false,\"offsetgroup\":\"MSC\",\"orientation\":\"h\",\"showlegend\":true,\"x\":[108.826,100.722,100.747,101.163,102.049,102.447,102.512,102.304,102.158,103.969,102.809,105.949,98.179,99.109,99.406,100.565,99.878,100.091,99.295,99.816,99.964,100.636,100.154,100.62,100.547,100.987,100.69,100.919,101.606,100.914,100.916,101.34,101.178,103.748,96.956,97.176,97.433,97.947,98.182,97.957,98.137,98.279,105.856,103.51,100.528,99.537,98.537,98.747,99.201,99.09,100.498],\"x0\":\" \",\"xaxis\":\"x\",\"y\":[\"MSC\",\"MSC\",\"MSC\",\"MSC\",\"MSC\",\"MSC\",\"MSC\",\"MSC\",\"MSC\",\"MSC\",\"MSC\",\"MSC\",\"MSC\",\"MSC\",\"MSC\",\"MSC\",\"MSC\",\"MSC\",\"MSC\",\"MSC\",\"MSC\",\"MSC\",\"MSC\",\"MSC\",\"MSC\",\"MSC\",\"MSC\",\"MSC\",\"MSC\",\"MSC\",\"MSC\",\"MSC\",\"MSC\",\"MSC\",\"MSC\",\"MSC\",\"MSC\",\"MSC\",\"MSC\",\"MSC\",\"MSC\",\"MSC\",\"MSC\",\"MSC\",\"MSC\",\"MSC\",\"MSC\",\"MSC\",\"MSC\",\"MSC\",\"MSC\"],\"y0\":\" \",\"yaxis\":\"y\",\"type\":\"box\"},{\"alignmentgroup\":\"True\",\"boxpoints\":false,\"hovertemplate\":\"Driver=%{y}<br>Duration (Seconds)=%{x}<extra></extra>\",\"legendgroup\":\"BOT\",\"marker\":{\"color\":\"#A42134\"},\"name\":\"BOT\",\"notched\":false,\"offsetgroup\":\"BOT\",\"orientation\":\"h\",\"showlegend\":true,\"x\":[109.195,100.817,100.732,101.127,101.817,101.003,101.287,101.606,100.586,100.788,101.075,101.073,101.291,103.736,100.259,100.103,98.901,98.831,98.96,99.279,99.774,99.339,99.65,100.341,99.777,100.338,99.88,100.641,99.268,99.806,99.65,99.815,99.739,99.619,102.299,96.641,97.067,97.497,97.687,97.498,98.681,98.386,106.02,105.024,97.589,97.06,96.599,96.959,97.217,97.26,97.87],\"x0\":\" \",\"xaxis\":\"x\",\"y\":[\"BOT\",\"BOT\",\"BOT\",\"BOT\",\"BOT\",\"BOT\",\"BOT\",\"BOT\",\"BOT\",\"BOT\",\"BOT\",\"BOT\",\"BOT\",\"BOT\",\"BOT\",\"BOT\",\"BOT\",\"BOT\",\"BOT\",\"BOT\",\"BOT\",\"BOT\",\"BOT\",\"BOT\",\"BOT\",\"BOT\",\"BOT\",\"BOT\",\"BOT\",\"BOT\",\"BOT\",\"BOT\",\"BOT\",\"BOT\",\"BOT\",\"BOT\",\"BOT\",\"BOT\",\"BOT\",\"BOT\",\"BOT\",\"BOT\",\"BOT\",\"BOT\",\"BOT\",\"BOT\",\"BOT\",\"BOT\",\"BOT\",\"BOT\",\"BOT\"],\"y0\":\" \",\"yaxis\":\"y\",\"type\":\"box\"},{\"alignmentgroup\":\"True\",\"boxpoints\":false,\"hovertemplate\":\"Driver=%{y}<br>Duration (Seconds)=%{x}<extra></extra>\",\"legendgroup\":\"HUL\",\"marker\":{\"color\":\"#E6002B\"},\"name\":\"HUL\",\"notched\":false,\"offsetgroup\":\"HUL\",\"orientation\":\"h\",\"showlegend\":true,\"x\":[109.698,101.077,100.638,101.189,102.49,101.995,101.912,102.177,103.773,103.228,102.603,102.821,101.942,102.959,102.819,103.615,104.45,103.59,105.242,99.18,99.307,99.22,99.307,99.689,99.506,99.84,102.651,102.181,100.483,100.473,101.036,100.07,104.369,100.815,100.658,103.481,98.819,98.751,98.361,99.671,100.222,98.201,98.299,98.243,98.599,98.452,98.533,99.236,99.102,101.18],\"x0\":\" \",\"xaxis\":\"x\",\"y\":[\"HUL\",\"HUL\",\"HUL\",\"HUL\",\"HUL\",\"HUL\",\"HUL\",\"HUL\",\"HUL\",\"HUL\",\"HUL\",\"HUL\",\"HUL\",\"HUL\",\"HUL\",\"HUL\",\"HUL\",\"HUL\",\"HUL\",\"HUL\",\"HUL\",\"HUL\",\"HUL\",\"HUL\",\"HUL\",\"HUL\",\"HUL\",\"HUL\",\"HUL\",\"HUL\",\"HUL\",\"HUL\",\"HUL\",\"HUL\",\"HUL\",\"HUL\",\"HUL\",\"HUL\",\"HUL\",\"HUL\",\"HUL\",\"HUL\",\"HUL\",\"HUL\",\"HUL\",\"HUL\",\"HUL\",\"HUL\",\"HUL\",\"HUL\"],\"y0\":\" \",\"yaxis\":\"y\",\"type\":\"box\"},{\"alignmentgroup\":\"True\",\"boxpoints\":false,\"hovertemplate\":\"Driver=%{y}<br>Duration (Seconds)=%{x}<extra></extra>\",\"legendgroup\":\"NOR\",\"marker\":{\"color\":\"#FF8000\"},\"name\":\"NOR\",\"notched\":false,\"offsetgroup\":\"NOR\",\"orientation\":\"h\",\"showlegend\":true,\"x\":[110.088,102.279,101.785,101.459,101.713,101.658,102.192,101.86,102.492,103.42,102.833,102.645,102.041,102.794,102.83,103.031,103.396,101.828,103.166,101.881,101.816,102.876,102.186,105.759,99.351,99.175,99.042,98.874,99.184,99.251,101.449,99.161,100.104,100.844,100.766,99.657,99.679,99.677,101.799,102.153,97.204,105.936,99.907,98.098,96.988,97.208,97.468,98.018,98.66,98.987,100.556],\"x0\":\" \",\"xaxis\":\"x\",\"y\":[\"NOR\",\"NOR\",\"NOR\",\"NOR\",\"NOR\",\"NOR\",\"NOR\",\"NOR\",\"NOR\",\"NOR\",\"NOR\",\"NOR\",\"NOR\",\"NOR\",\"NOR\",\"NOR\",\"NOR\",\"NOR\",\"NOR\",\"NOR\",\"NOR\",\"NOR\",\"NOR\",\"NOR\",\"NOR\",\"NOR\",\"NOR\",\"NOR\",\"NOR\",\"NOR\",\"NOR\",\"NOR\",\"NOR\",\"NOR\",\"NOR\",\"NOR\",\"NOR\",\"NOR\",\"NOR\",\"NOR\",\"NOR\",\"NOR\",\"NOR\",\"NOR\",\"NOR\",\"NOR\",\"NOR\",\"NOR\",\"NOR\",\"NOR\",\"NOR\"],\"y0\":\" \",\"yaxis\":\"y\",\"type\":\"box\"},{\"alignmentgroup\":\"True\",\"boxpoints\":false,\"hovertemplate\":\"Driver=%{y}<br>Duration (Seconds)=%{x}<extra></extra>\",\"legendgroup\":\"STR\",\"marker\":{\"color\":\"#002420\"},\"name\":\"STR\",\"notched\":false,\"offsetgroup\":\"STR\",\"orientation\":\"h\",\"showlegend\":true,\"x\":[110.439,101.019,100.887,101.931,101.715,101.897,101.827,102.174,101.557,102.35,102.343,102.462,102.235,101.803,101.875,102.592,101.858,104.384,98.94,98.713,99.655,99.811,99.887,99.774,100.445,100.371,100.181,100.054,100.85,100.855,100.037,100.347,100.363,100.452,100.484,100.487,103.895,97.861,98.363,98.127,99.462,98.281,97.146,97.326,97.274,97.622,98.678,97.877,98.328,98.829,100.395],\"x0\":\" \",\"xaxis\":\"x\",\"y\":[\"STR\",\"STR\",\"STR\",\"STR\",\"STR\",\"STR\",\"STR\",\"STR\",\"STR\",\"STR\",\"STR\",\"STR\",\"STR\",\"STR\",\"STR\",\"STR\",\"STR\",\"STR\",\"STR\",\"STR\",\"STR\",\"STR\",\"STR\",\"STR\",\"STR\",\"STR\",\"STR\",\"STR\",\"STR\",\"STR\",\"STR\",\"STR\",\"STR\",\"STR\",\"STR\",\"STR\",\"STR\",\"STR\",\"STR\",\"STR\",\"STR\",\"STR\",\"STR\",\"STR\",\"STR\",\"STR\",\"STR\",\"STR\",\"STR\",\"STR\",\"STR\"],\"y0\":\" \",\"yaxis\":\"y\",\"type\":\"box\"},{\"alignmentgroup\":\"True\",\"boxpoints\":false,\"hovertemplate\":\"Driver=%{y}<br>Duration (Seconds)=%{x}<extra></extra>\",\"legendgroup\":\"LAT\",\"marker\":{\"color\":\"#EF553B\"},\"name\":\"LAT\",\"notched\":false,\"offsetgroup\":\"LAT\",\"orientation\":\"h\",\"showlegend\":true,\"x\":[111.134,102.298,101.668,101.947,101.678,102.945,102.065,101.931,102.473,102.678,102.822,103.492,103.36,105.315,99.239,99.655,100.272,100.245,100.489,101.735,101.036,101.284,101.118,101.031,101.161,101.182,102.81,102.572,102.106,101.888,104.577,99.285,99.763,99.455,101.384,99.891,100.258,100.219,99.797,99.937,100.899,111.928,98.651,98.335,98.251,98.466,98.452,98.707,99.119,99.145,99.876],\"x0\":\" \",\"xaxis\":\"x\",\"y\":[\"LAT\",\"LAT\",\"LAT\",\"LAT\",\"LAT\",\"LAT\",\"LAT\",\"LAT\",\"LAT\",\"LAT\",\"LAT\",\"LAT\",\"LAT\",\"LAT\",\"LAT\",\"LAT\",\"LAT\",\"LAT\",\"LAT\",\"LAT\",\"LAT\",\"LAT\",\"LAT\",\"LAT\",\"LAT\",\"LAT\",\"LAT\",\"LAT\",\"LAT\",\"LAT\",\"LAT\",\"LAT\",\"LAT\",\"LAT\",\"LAT\",\"LAT\",\"LAT\",\"LAT\",\"LAT\",\"LAT\",\"LAT\",\"LAT\",\"LAT\",\"LAT\",\"LAT\",\"LAT\",\"LAT\",\"LAT\",\"LAT\",\"LAT\",\"LAT\"],\"y0\":\" \",\"yaxis\":\"y\",\"type\":\"box\"},{\"alignmentgroup\":\"True\",\"boxpoints\":false,\"hovertemplate\":\"Driver=%{y}<br>Duration (Seconds)=%{x}<extra></extra>\",\"legendgroup\":\"ZHO\",\"marker\":{\"color\":\"#A42134\"},\"name\":\"ZHO\",\"notched\":false,\"offsetgroup\":\"ZHO\",\"orientation\":\"h\",\"showlegend\":true,\"x\":[111.374,101.229,100.183,100.393,101.574,101.461,100.62,102.11,102.258,101.339,101.057,101.281,101.4,101.185,103.106,98.348,99.814,98.63,98.954,99.047,99.351,99.304,99.582,99.849,99.742,100.07,100.004,100.446,99.836,99.748,99.814,99.842,99.851,99.954,100.185,102.7,96.685,96.742,96.745,97.522,97.667,97.785,112.222,106.95,111.232,99.725,98.278,97.162,97.247,97.132,97.154,98.941],\"x0\":\" \",\"xaxis\":\"x\",\"y\":[\"ZHO\",\"ZHO\",\"ZHO\",\"ZHO\",\"ZHO\",\"ZHO\",\"ZHO\",\"ZHO\",\"ZHO\",\"ZHO\",\"ZHO\",\"ZHO\",\"ZHO\",\"ZHO\",\"ZHO\",\"ZHO\",\"ZHO\",\"ZHO\",\"ZHO\",\"ZHO\",\"ZHO\",\"ZHO\",\"ZHO\",\"ZHO\",\"ZHO\",\"ZHO\",\"ZHO\",\"ZHO\",\"ZHO\",\"ZHO\",\"ZHO\",\"ZHO\",\"ZHO\",\"ZHO\",\"ZHO\",\"ZHO\",\"ZHO\",\"ZHO\",\"ZHO\",\"ZHO\",\"ZHO\",\"ZHO\",\"ZHO\",\"ZHO\",\"ZHO\",\"ZHO\",\"ZHO\",\"ZHO\",\"ZHO\",\"ZHO\",\"ZHO\",\"ZHO\"],\"y0\":\" \",\"yaxis\":\"y\",\"type\":\"box\"},{\"alignmentgroup\":\"True\",\"boxpoints\":false,\"hovertemplate\":\"Driver=%{y}<br>Duration (Seconds)=%{x}<extra></extra>\",\"legendgroup\":\"RIC\",\"marker\":{\"color\":\"#00cc96\"},\"name\":\"RIC\",\"notched\":false,\"offsetgroup\":\"RIC\",\"orientation\":\"h\",\"showlegend\":true,\"x\":[111.601,102.59,101.711,101.803,101.818,101.77,103.137,101.894,102.746,102.777,102.641,101.621,102.461,102.375,102.543,103.515,106.215,99.374,99.349,99.722,99.715,99.832,100.273,100.367,100.521,100.869,101.188,100.627,100.647,100.631,100.686,103.359,100.424,98.927,98.988,99.146,99.32,99.157,99.054,101.069,99.421,109.227,99.453,97.261,97.58,97.654,97.671,98.12,98.639,98.86,100.084],\"x0\":\" \",\"xaxis\":\"x\",\"y\":[\"RIC\",\"RIC\",\"RIC\",\"RIC\",\"RIC\",\"RIC\",\"RIC\",\"RIC\",\"RIC\",\"RIC\",\"RIC\",\"RIC\",\"RIC\",\"RIC\",\"RIC\",\"RIC\",\"RIC\",\"RIC\",\"RIC\",\"RIC\",\"RIC\",\"RIC\",\"RIC\",\"RIC\",\"RIC\",\"RIC\",\"RIC\",\"RIC\",\"RIC\",\"RIC\",\"RIC\",\"RIC\",\"RIC\",\"RIC\",\"RIC\",\"RIC\",\"RIC\",\"RIC\",\"RIC\",\"RIC\",\"RIC\",\"RIC\",\"RIC\",\"RIC\",\"RIC\",\"RIC\",\"RIC\",\"RIC\",\"RIC\",\"RIC\",\"RIC\"],\"y0\":\" \",\"yaxis\":\"y\",\"type\":\"box\"}],                        {\"template\":{\"data\":{\"histogram2dcontour\":[{\"type\":\"histogram2dcontour\",\"colorbar\":{\"outlinewidth\":0,\"ticks\":\"\"},\"colorscale\":[[0.0,\"#0d0887\"],[0.1111111111111111,\"#46039f\"],[0.2222222222222222,\"#7201a8\"],[0.3333333333333333,\"#9c179e\"],[0.4444444444444444,\"#bd3786\"],[0.5555555555555556,\"#d8576b\"],[0.6666666666666666,\"#ed7953\"],[0.7777777777777778,\"#fb9f3a\"],[0.8888888888888888,\"#fdca26\"],[1.0,\"#f0f921\"]]}],\"choropleth\":[{\"type\":\"choropleth\",\"colorbar\":{\"outlinewidth\":0,\"ticks\":\"\"}}],\"histogram2d\":[{\"type\":\"histogram2d\",\"colorbar\":{\"outlinewidth\":0,\"ticks\":\"\"},\"colorscale\":[[0.0,\"#0d0887\"],[0.1111111111111111,\"#46039f\"],[0.2222222222222222,\"#7201a8\"],[0.3333333333333333,\"#9c179e\"],[0.4444444444444444,\"#bd3786\"],[0.5555555555555556,\"#d8576b\"],[0.6666666666666666,\"#ed7953\"],[0.7777777777777778,\"#fb9f3a\"],[0.8888888888888888,\"#fdca26\"],[1.0,\"#f0f921\"]]}],\"heatmap\":[{\"type\":\"heatmap\",\"colorbar\":{\"outlinewidth\":0,\"ticks\":\"\"},\"colorscale\":[[0.0,\"#0d0887\"],[0.1111111111111111,\"#46039f\"],[0.2222222222222222,\"#7201a8\"],[0.3333333333333333,\"#9c179e\"],[0.4444444444444444,\"#bd3786\"],[0.5555555555555556,\"#d8576b\"],[0.6666666666666666,\"#ed7953\"],[0.7777777777777778,\"#fb9f3a\"],[0.8888888888888888,\"#fdca26\"],[1.0,\"#f0f921\"]]}],\"heatmapgl\":[{\"type\":\"heatmapgl\",\"colorbar\":{\"outlinewidth\":0,\"ticks\":\"\"},\"colorscale\":[[0.0,\"#0d0887\"],[0.1111111111111111,\"#46039f\"],[0.2222222222222222,\"#7201a8\"],[0.3333333333333333,\"#9c179e\"],[0.4444444444444444,\"#bd3786\"],[0.5555555555555556,\"#d8576b\"],[0.6666666666666666,\"#ed7953\"],[0.7777777777777778,\"#fb9f3a\"],[0.8888888888888888,\"#fdca26\"],[1.0,\"#f0f921\"]]}],\"contourcarpet\":[{\"type\":\"contourcarpet\",\"colorbar\":{\"outlinewidth\":0,\"ticks\":\"\"}}],\"contour\":[{\"type\":\"contour\",\"colorbar\":{\"outlinewidth\":0,\"ticks\":\"\"},\"colorscale\":[[0.0,\"#0d0887\"],[0.1111111111111111,\"#46039f\"],[0.2222222222222222,\"#7201a8\"],[0.3333333333333333,\"#9c179e\"],[0.4444444444444444,\"#bd3786\"],[0.5555555555555556,\"#d8576b\"],[0.6666666666666666,\"#ed7953\"],[0.7777777777777778,\"#fb9f3a\"],[0.8888888888888888,\"#fdca26\"],[1.0,\"#f0f921\"]]}],\"surface\":[{\"type\":\"surface\",\"colorbar\":{\"outlinewidth\":0,\"ticks\":\"\"},\"colorscale\":[[0.0,\"#0d0887\"],[0.1111111111111111,\"#46039f\"],[0.2222222222222222,\"#7201a8\"],[0.3333333333333333,\"#9c179e\"],[0.4444444444444444,\"#bd3786\"],[0.5555555555555556,\"#d8576b\"],[0.6666666666666666,\"#ed7953\"],[0.7777777777777778,\"#fb9f3a\"],[0.8888888888888888,\"#fdca26\"],[1.0,\"#f0f921\"]]}],\"mesh3d\":[{\"type\":\"mesh3d\",\"colorbar\":{\"outlinewidth\":0,\"ticks\":\"\"}}],\"scatter\":[{\"fillpattern\":{\"fillmode\":\"overlay\",\"size\":10,\"solidity\":0.2},\"type\":\"scatter\"}],\"parcoords\":[{\"type\":\"parcoords\",\"line\":{\"colorbar\":{\"outlinewidth\":0,\"ticks\":\"\"}}}],\"scatterpolargl\":[{\"type\":\"scatterpolargl\",\"marker\":{\"colorbar\":{\"outlinewidth\":0,\"ticks\":\"\"}}}],\"bar\":[{\"error_x\":{\"color\":\"#2a3f5f\"},\"error_y\":{\"color\":\"#2a3f5f\"},\"marker\":{\"line\":{\"color\":\"#E5ECF6\",\"width\":0.5},\"pattern\":{\"fillmode\":\"overlay\",\"size\":10,\"solidity\":0.2}},\"type\":\"bar\"}],\"scattergeo\":[{\"type\":\"scattergeo\",\"marker\":{\"colorbar\":{\"outlinewidth\":0,\"ticks\":\"\"}}}],\"scatterpolar\":[{\"type\":\"scatterpolar\",\"marker\":{\"colorbar\":{\"outlinewidth\":0,\"ticks\":\"\"}}}],\"histogram\":[{\"marker\":{\"pattern\":{\"fillmode\":\"overlay\",\"size\":10,\"solidity\":0.2}},\"type\":\"histogram\"}],\"scattergl\":[{\"type\":\"scattergl\",\"marker\":{\"colorbar\":{\"outlinewidth\":0,\"ticks\":\"\"}}}],\"scatter3d\":[{\"type\":\"scatter3d\",\"line\":{\"colorbar\":{\"outlinewidth\":0,\"ticks\":\"\"}},\"marker\":{\"colorbar\":{\"outlinewidth\":0,\"ticks\":\"\"}}}],\"scattermapbox\":[{\"type\":\"scattermapbox\",\"marker\":{\"colorbar\":{\"outlinewidth\":0,\"ticks\":\"\"}}}],\"scatterternary\":[{\"type\":\"scatterternary\",\"marker\":{\"colorbar\":{\"outlinewidth\":0,\"ticks\":\"\"}}}],\"scattercarpet\":[{\"type\":\"scattercarpet\",\"marker\":{\"colorbar\":{\"outlinewidth\":0,\"ticks\":\"\"}}}],\"carpet\":[{\"aaxis\":{\"endlinecolor\":\"#2a3f5f\",\"gridcolor\":\"white\",\"linecolor\":\"white\",\"minorgridcolor\":\"white\",\"startlinecolor\":\"#2a3f5f\"},\"baxis\":{\"endlinecolor\":\"#2a3f5f\",\"gridcolor\":\"white\",\"linecolor\":\"white\",\"minorgridcolor\":\"white\",\"startlinecolor\":\"#2a3f5f\"},\"type\":\"carpet\"}],\"table\":[{\"cells\":{\"fill\":{\"color\":\"#EBF0F8\"},\"line\":{\"color\":\"white\"}},\"header\":{\"fill\":{\"color\":\"#C8D4E3\"},\"line\":{\"color\":\"white\"}},\"type\":\"table\"}],\"barpolar\":[{\"marker\":{\"line\":{\"color\":\"#E5ECF6\",\"width\":0.5},\"pattern\":{\"fillmode\":\"overlay\",\"size\":10,\"solidity\":0.2}},\"type\":\"barpolar\"}],\"pie\":[{\"automargin\":true,\"type\":\"pie\"}]},\"layout\":{\"autotypenumbers\":\"strict\",\"colorway\":[\"#636efa\",\"#EF553B\",\"#00cc96\",\"#ab63fa\",\"#FFA15A\",\"#19d3f3\",\"#FF6692\",\"#B6E880\",\"#FF97FF\",\"#FECB52\"],\"font\":{\"color\":\"#2a3f5f\"},\"hovermode\":\"closest\",\"hoverlabel\":{\"align\":\"left\"},\"paper_bgcolor\":\"white\",\"plot_bgcolor\":\"#E5ECF6\",\"polar\":{\"bgcolor\":\"#E5ECF6\",\"angularaxis\":{\"gridcolor\":\"white\",\"linecolor\":\"white\",\"ticks\":\"\"},\"radialaxis\":{\"gridcolor\":\"white\",\"linecolor\":\"white\",\"ticks\":\"\"}},\"ternary\":{\"bgcolor\":\"#E5ECF6\",\"aaxis\":{\"gridcolor\":\"white\",\"linecolor\":\"white\",\"ticks\":\"\"},\"baxis\":{\"gridcolor\":\"white\",\"linecolor\":\"white\",\"ticks\":\"\"},\"caxis\":{\"gridcolor\":\"white\",\"linecolor\":\"white\",\"ticks\":\"\"}},\"coloraxis\":{\"colorbar\":{\"outlinewidth\":0,\"ticks\":\"\"}},\"colorscale\":{\"sequential\":[[0.0,\"#0d0887\"],[0.1111111111111111,\"#46039f\"],[0.2222222222222222,\"#7201a8\"],[0.3333333333333333,\"#9c179e\"],[0.4444444444444444,\"#bd3786\"],[0.5555555555555556,\"#d8576b\"],[0.6666666666666666,\"#ed7953\"],[0.7777777777777778,\"#fb9f3a\"],[0.8888888888888888,\"#fdca26\"],[1.0,\"#f0f921\"]],\"sequentialminus\":[[0.0,\"#0d0887\"],[0.1111111111111111,\"#46039f\"],[0.2222222222222222,\"#7201a8\"],[0.3333333333333333,\"#9c179e\"],[0.4444444444444444,\"#bd3786\"],[0.5555555555555556,\"#d8576b\"],[0.6666666666666666,\"#ed7953\"],[0.7777777777777778,\"#fb9f3a\"],[0.8888888888888888,\"#fdca26\"],[1.0,\"#f0f921\"]],\"diverging\":[[0,\"#8e0152\"],[0.1,\"#c51b7d\"],[0.2,\"#de77ae\"],[0.3,\"#f1b6da\"],[0.4,\"#fde0ef\"],[0.5,\"#f7f7f7\"],[0.6,\"#e6f5d0\"],[0.7,\"#b8e186\"],[0.8,\"#7fbc41\"],[0.9,\"#4d9221\"],[1,\"#276419\"]]},\"xaxis\":{\"gridcolor\":\"white\",\"linecolor\":\"white\",\"ticks\":\"\",\"title\":{\"standoff\":15},\"zerolinecolor\":\"white\",\"automargin\":true,\"zerolinewidth\":2},\"yaxis\":{\"gridcolor\":\"white\",\"linecolor\":\"white\",\"ticks\":\"\",\"title\":{\"standoff\":15},\"zerolinecolor\":\"white\",\"automargin\":true,\"zerolinewidth\":2},\"scene\":{\"xaxis\":{\"backgroundcolor\":\"#E5ECF6\",\"gridcolor\":\"white\",\"linecolor\":\"white\",\"showbackground\":true,\"ticks\":\"\",\"zerolinecolor\":\"white\",\"gridwidth\":2},\"yaxis\":{\"backgroundcolor\":\"#E5ECF6\",\"gridcolor\":\"white\",\"linecolor\":\"white\",\"showbackground\":true,\"ticks\":\"\",\"zerolinecolor\":\"white\",\"gridwidth\":2},\"zaxis\":{\"backgroundcolor\":\"#E5ECF6\",\"gridcolor\":\"white\",\"linecolor\":\"white\",\"showbackground\":true,\"ticks\":\"\",\"zerolinecolor\":\"white\",\"gridwidth\":2}},\"shapedefaults\":{\"line\":{\"color\":\"#2a3f5f\"}},\"annotationdefaults\":{\"arrowcolor\":\"#2a3f5f\",\"arrowhead\":0,\"arrowwidth\":1},\"geo\":{\"bgcolor\":\"white\",\"landcolor\":\"#E5ECF6\",\"subunitcolor\":\"white\",\"showland\":true,\"showlakes\":true,\"lakecolor\":\"white\"},\"title\":{\"x\":0.05},\"mapbox\":{\"style\":\"light\"}}},\"xaxis\":{\"anchor\":\"y\",\"domain\":[0.0,1.0],\"title\":{\"text\":\"Duration (Seconds)\"}},\"yaxis\":{\"anchor\":\"x\",\"domain\":[0.0,1.0],\"title\":{\"text\":\"Driver\"},\"categoryorder\":\"array\",\"categoryarray\":[\"RIC\",\"ZHO\",\"LAT\",\"STR\",\"NOR\",\"HUL\",\"BOT\",\"MSC\",\"TSU\",\"ALB\",\"OCO\",\"ALO\",\"GAS\",\"RUS\",\"PER\",\"MAG\",\"HAM\",\"SAI\",\"VER\",\"LEC\"]},\"legend\":{\"title\":{\"text\":\"Driver\"},\"tracegroupgap\":0},\"margin\":{\"t\":60},\"boxmode\":\"overlay\",\"showlegend\":false,\"title\":{\"text\":\"Lap Times\"}},                        {\"responsive\": true}                    ).then(function(){\n",
       "                            \n",
       "var gd = document.getElementById('5576838d-ce12-4d12-a694-5ba508d68df8');\n",
       "var x = new MutationObserver(function (mutations, observer) {{\n",
       "        var display = window.getComputedStyle(gd).display;\n",
       "        if (!display || display === 'none') {{\n",
       "            console.log([gd, 'removed!']);\n",
       "            Plotly.purge(gd);\n",
       "            observer.disconnect();\n",
       "        }}\n",
       "}});\n",
       "\n",
       "// Listen for the removal of the full notebook cells\n",
       "var notebookContainer = gd.closest('#notebook-container');\n",
       "if (notebookContainer) {{\n",
       "    x.observe(notebookContainer, {childList: true});\n",
       "}}\n",
       "\n",
       "// Listen for the clearing of the current output cell\n",
       "var outputEl = gd.closest('.output');\n",
       "if (outputEl) {{\n",
       "    x.observe(outputEl, {childList: true});\n",
       "}}\n",
       "\n",
       "                        })                };                });            </script>        </div>"
      ]
     },
     "metadata": {},
     "output_type": "display_data"
    }
   ],
   "source": [
    "my_layout = go.Layout({\"title\": \"Views by publisher\",\n",
    "                       \"yaxis\": {\"title\":\"Views\"},\n",
    "                       \"xaxis\": {\"title\":\"Publisher\"},\n",
    "                       \"showlegend\": False})\n",
    "fig = px.box(lap_driver_no, x=\"duration\", y=\"code\", color='code', points=False, color_discrete_map=color_map, labels={\n",
    "    \"code\": \"Driver\",\n",
    "    \"duration\":\"Duration (Seconds)\"\n",
    "})\n",
    "fig.update_layout(showlegend=False, title='Lap Times')\n",
    "fig.show()"
   ]
  },
  {
   "cell_type": "code",
   "execution_count": 15,
   "id": "396f6577",
   "metadata": {
    "_kg_hide-input": true,
    "execution": {
     "iopub.execute_input": "2023-03-05T21:55:07.263883Z",
     "iopub.status.busy": "2023-03-05T21:55:07.263426Z",
     "iopub.status.idle": "2023-03-05T21:55:07.398802Z",
     "shell.execute_reply": "2023-03-05T21:55:07.397538Z"
    },
    "papermill": {
     "duration": 0.15008,
     "end_time": "2023-03-05T21:55:07.401139",
     "exception": false,
     "start_time": "2023-03-05T21:55:07.251059",
     "status": "completed"
    },
    "tags": []
   },
   "outputs": [
    {
     "data": {
      "text/html": [
       "<div>                            <div id=\"8bf694cf-f91a-4d19-b80c-fe6a08b657b9\" class=\"plotly-graph-div\" style=\"height:525px; width:100%;\"></div>            <script type=\"text/javascript\">                require([\"plotly\"], function(Plotly) {                    window.PLOTLYENV=window.PLOTLYENV || {};                                    if (document.getElementById(\"8bf694cf-f91a-4d19-b80c-fe6a08b657b9\")) {                    Plotly.newPlot(                        \"8bf694cf-f91a-4d19-b80c-fe6a08b657b9\",                        [{\"hovertemplate\":\"code=LEC<br>Lap=%{x}<br>Lap Time (Seconds)=%{y}<extra></extra>\",\"legendgroup\":\"LEC\",\"line\":{\"color\":\"#EF1A2D\",\"dash\":\"solid\"},\"marker\":{\"symbol\":\"circle\"},\"mode\":\"lines\",\"name\":\"LEC\",\"orientation\":\"v\",\"showlegend\":true,\"x\":[1,2,3,4,5,6,7,8,9,10,11,12,13,14,15,17,18,19,20,21,22,23,24,25,26,27,28,29,30,31,33,34,35,36,37,38,39,40,41,42,43,44,45,51,52,53,54,55,56,57],\"xaxis\":\"x\",\"y\":[99.07,97.853,98.272,98.414,98.471,98.712,98.835,98.951,98.807,99.123,99.306,99.256,99.279,99.629,102.041,97.52,97.634,97.408,97.562,97.807,97.752,97.774,97.913,98.061,98.371,98.785,99.051,98.887,99.354,101.545,96.674,96.399,96.501,96.561,96.663,96.623,96.939,96.807,97.044,97.04,97.346,97.509,97.413,94.57,95.027,95.127,95.429,95.427,95.673,96.373],\"yaxis\":\"y\",\"type\":\"scatter\"},{\"hovertemplate\":\"code=VER<br>Lap=%{x}<br>Lap Time (Seconds)=%{y}<extra></extra>\",\"legendgroup\":\"VER\",\"line\":{\"color\":\"#000B8D\",\"dash\":\"solid\"},\"marker\":{\"symbol\":\"circle\"},\"mode\":\"lines\",\"name\":\"VER\",\"orientation\":\"v\",\"showlegend\":true,\"x\":[1,2,3,4,5,6,7,8,9,10,11,12,13,14,16,17,18,19,20,21,22,23,24,25,26,27,28,29,30,32,33,34,35,36,37,38,39,40,41,42,43,45,51,52,53],\"xaxis\":\"x\",\"y\":[100.236,97.88,98.357,98.566,98.877,98.94,99.062,99.092,99.251,99.392,99.479,99.41,99.534,102.05,96.905,97.587,97.717,97.728,98.257,98.294,98.243,98.091,98.187,98.372,98.476,98.823,98.782,99.384,101.537,96.527,96.347,96.384,96.731,96.92,96.962,96.898,97.255,97.308,97.284,97.855,99.787,95.747,95.44,95.462,95.927],\"yaxis\":\"y\",\"type\":\"scatter\"},{\"hovertemplate\":\"code=SAI<br>Lap=%{x}<br>Lap Time (Seconds)=%{y}<extra></extra>\",\"legendgroup\":\"SAI\",\"line\":{\"color\":\"#EF1A2D\",\"dash\":\"solid\"},\"marker\":{\"symbol\":\"circle\"},\"mode\":\"lines\",\"name\":\"SAI\",\"orientation\":\"v\",\"showlegend\":true,\"x\":[1,2,3,4,5,6,7,8,9,10,11,12,13,14,16,17,18,19,20,21,22,23,24,25,26,27,28,29,30,31,32,33,35,36,37,38,39,40,41,42,43,44,51,52,53,54,55,56,57],\"xaxis\":\"x\",\"y\":[101.006,98.649,99.049,98.923,99.101,99.594,99.588,99.275,99.424,99.682,99.942,100.097,100.165,103.029,97.477,97.172,97.561,97.581,98.059,97.721,97.914,98.244,98.242,98.264,98.444,98.846,98.729,98.953,99.004,99.105,99.386,101.915,96.454,96.6,96.893,97.012,97.044,97.271,96.771,97.269,97.26,99.699,95.992,95.74,95.88,96.565,96.075,95.767,96.269],\"yaxis\":\"y\",\"type\":\"scatter\"},{\"hovertemplate\":\"code=HAM<br>Lap=%{x}<br>Lap Time (Seconds)=%{y}<extra></extra>\",\"legendgroup\":\"HAM\",\"line\":{\"color\":\"#00A19B\",\"dash\":\"solid\"},\"marker\":{\"symbol\":\"circle\"},\"mode\":\"lines\",\"name\":\"HAM\",\"orientation\":\"v\",\"showlegend\":true,\"x\":[1,2,3,4,5,6,7,8,9,10,11,13,14,15,16,17,18,19,20,21,22,23,24,25,26,27,29,30,31,32,33,34,35,36,37,38,39,40,41,42,43,44,51,52,53,54,55,56,57],\"xaxis\":\"x\",\"y\":[101.555,99.002,99.075,98.892,98.923,99.707,99.682,99.758,100.274,101.581,102.945,99.33,99.309,98.587,98.236,98.644,98.368,98.393,98.606,98.542,99.407,99.109,99.342,99.186,99.255,101.666,97.871,97.506,96.66,98.29,97.085,97.593,97.47,97.66,97.771,97.942,97.668,97.898,97.912,98.422,98.205,101.007,96.487,96.36,96.228,96.354,96.566,96.481,96.918],\"yaxis\":\"y\",\"type\":\"scatter\"},{\"hovertemplate\":\"code=MAG<br>Lap=%{x}<br>Lap Time (Seconds)=%{y}<extra></extra>\",\"legendgroup\":\"MAG\",\"line\":{\"color\":\"#E6002B\",\"dash\":\"solid\"},\"marker\":{\"symbol\":\"circle\"},\"mode\":\"lines\",\"name\":\"MAG\",\"orientation\":\"v\",\"showlegend\":true,\"x\":[1,2,3,4,5,6,7,8,9,10,11,12,13,14,16,17,18,19,20,21,22,23,24,25,26,27,28,29,30,31,32,33,34,36,37,38,39,40,41,42,43,44,48,51,52,53,54,55,56,57],\"xaxis\":\"x\",\"y\":[102.333,98.993,101.224,99.642,101.169,100.338,100.555,100.451,100.756,101.195,101.064,101.37,101.283,104.244,97.968,98.216,98.442,98.539,98.883,98.859,99.058,99.12,99.384,99.52,99.756,99.796,99.774,99.984,100.174,100.233,100.522,100.523,103.256,97.941,96.903,97.636,97.566,97.901,97.726,98.006,98.178,98.688,110.334,97.343,96.86,96.623,96.96,96.937,97.091,97.741],\"yaxis\":\"y\",\"type\":\"scatter\"},{\"hovertemplate\":\"code=PER<br>Lap=%{x}<br>Lap Time (Seconds)=%{y}<extra></extra>\",\"legendgroup\":\"PER\",\"line\":{\"color\":\"#000B8D\",\"dash\":\"solid\"},\"marker\":{\"symbol\":\"circle\"},\"mode\":\"lines\",\"name\":\"PER\",\"orientation\":\"v\",\"showlegend\":true,\"x\":[1,2,3,4,5,6,7,8,9,10,11,12,13,14,15,17,18,19,20,21,22,23,24,25,26,27,28,29,30,31,32,33,35,36,37,38,39,40,41,42,43,45,51,52,53,54,55,56],\"xaxis\":\"x\",\"y\":[102.993,99.092,99.473,98.741,98.861,99.218,99.264,99.825,100.215,99.806,99.931,99.754,99.992,100.035,102.445,96.634,96.852,97.214,97.532,97.629,97.862,97.96,98.155,98.419,98.693,98.563,98.697,98.99,98.879,99.292,99.222,101.868,96.302,96.511,97.119,96.755,96.987,97.178,97.639,97.255,100.228,103.562,96.389,96.089,96.113,96.755,96.436,96.286],\"yaxis\":\"y\",\"type\":\"scatter\"},{\"hovertemplate\":\"code=RUS<br>Lap=%{x}<br>Lap Time (Seconds)=%{y}<extra></extra>\",\"legendgroup\":\"RUS\",\"line\":{\"color\":\"#00A19B\",\"dash\":\"solid\"},\"marker\":{\"symbol\":\"circle\"},\"mode\":\"lines\",\"name\":\"RUS\",\"orientation\":\"v\",\"showlegend\":true,\"x\":[1,2,3,4,5,6,7,8,9,10,11,12,13,14,15,17,18,19,20,21,22,23,24,25,26,27,28,29,30,31,32,33,35,36,37,38,39,40,41,42,43,44,45,51,52,53,54,55,56,57],\"xaxis\":\"x\",\"y\":[103.445,99.694,99.725,99.772,99.041,99.605,99.934,99.729,100.158,100.236,100.358,100.215,100.448,100.409,103.097,98.089,98.114,98.307,98.148,98.633,98.567,98.896,99.286,99.165,99.306,99.096,99.297,99.274,99.454,99.438,99.738,101.83,97.216,97.527,97.753,97.792,97.721,97.79,97.783,98.111,98.747,98.297,108.988,96.94,96.529,96.367,96.592,96.395,96.302,97.401],\"yaxis\":\"y\",\"type\":\"scatter\"},{\"hovertemplate\":\"code=GAS<br>Lap=%{x}<br>Lap Time (Seconds)=%{y}<extra></extra>\",\"legendgroup\":\"GAS\",\"line\":{\"color\":\"#2173B8\",\"dash\":\"solid\"},\"marker\":{\"symbol\":\"circle\"},\"mode\":\"lines\",\"name\":\"GAS\",\"orientation\":\"v\",\"showlegend\":true,\"x\":[1,2,3,4,5,6,7,8,9,10,11,12,13,14,16,17,18,19,20,21,22,23,24,25,26,27,28,29,30,31,32,34,35,36,37,38,39,40,41,42,43,44],\"xaxis\":\"x\",\"y\":[104.27,100.169,99.968,100.158,100.249,100.474,100.433,100.684,100.844,100.981,101.089,101.347,101.256,104.005,98.705,98.868,98.888,99.416,99.134,99.083,99.152,99.31,99.363,99.485,99.513,99.919,99.665,99.677,99.8,100.874,102.305,97.324,97.54,99.827,99.596,98.221,98.552,98.204,98.301,98.329,98.478,98.704],\"yaxis\":\"y\",\"type\":\"scatter\"},{\"hovertemplate\":\"code=ALO<br>Lap=%{x}<br>Lap Time (Seconds)=%{y}<extra></extra>\",\"legendgroup\":\"ALO\",\"line\":{\"color\":\"#002420\",\"dash\":\"solid\"},\"marker\":{\"symbol\":\"circle\"},\"mode\":\"lines\",\"name\":\"ALO\",\"orientation\":\"v\",\"showlegend\":true,\"x\":[1,2,3,4,5,6,7,8,9,10,11,13,14,15,16,17,18,19,20,21,22,23,24,25,27,28,29,30,31,32,33,34,35,36,37,38,39,40,41,42,44,47,48,51,52,53,54,55,56,57],\"xaxis\":\"x\",\"y\":[105.174,100.412,100.226,100.097,100.465,100.658,100.823,102.371,101.448,101.873,104.265,99.05,99.704,100.256,100.572,99.434,99.809,99.785,99.874,100.087,100.504,99.922,100.496,102.836,97.995,98.908,98.68,98.626,98.958,99.153,99.686,99.208,99.214,99.389,99.426,100.034,100.009,100.295,99.854,102.925,96.733,111.463,105.574,99.006,97.538,97.396,97.303,97.672,97.642,98.986],\"yaxis\":\"y\",\"type\":\"scatter\"},{\"hovertemplate\":\"code=OCO<br>Lap=%{x}<br>Lap Time (Seconds)=%{y}<extra></extra>\",\"legendgroup\":\"OCO\",\"line\":{\"color\":\"#2173B8\",\"dash\":\"solid\"},\"marker\":{\"symbol\":\"circle\"},\"mode\":\"lines\",\"name\":\"OCO\",\"orientation\":\"v\",\"showlegend\":true,\"x\":[1,2,3,4,5,6,7,8,9,10,11,12,13,14,16,17,18,19,20,21,22,23,24,25,26,27,28,29,30,32,33,34,35,36,37,38,39,40,41,42,43,47,48,51,52,53,54,55,56,57],\"xaxis\":\"x\",\"y\":[106.17,100.111,100.248,100.209,100.483,100.558,100.782,100.442,100.819,100.992,101.082,101.094,101.395,104.08,100.079,98.82,100.025,98.442,98.917,99.183,99.304,99.495,99.886,100.278,99.188,99.789,99.766,99.877,102.618,98.298,98.11,98.155,98.307,98.515,98.851,98.21,98.612,98.641,98.584,99.064,101.631,104.365,105.075,98.145,97.367,97.11,97.299,97.251,97.68,98.676],\"yaxis\":\"y\",\"type\":\"scatter\"},{\"hovertemplate\":\"code=ALB<br>Lap=%{x}<br>Lap Time (Seconds)=%{y}<extra></extra>\",\"legendgroup\":\"ALB\",\"line\":{\"color\":\"#00A0DE\",\"dash\":\"solid\"},\"marker\":{\"symbol\":\"circle\"},\"mode\":\"lines\",\"name\":\"ALB\",\"orientation\":\"v\",\"showlegend\":true,\"x\":[1,2,3,4,5,6,7,8,9,10,11,12,13,15,16,17,18,19,20,21,22,23,24,25,26,27,28,29,30,31,32,33,34,35,37,38,39,40,41,42,43,44,49,50,51,52,53,54,55,56,57],\"xaxis\":\"x\",\"y\":[107.636,100.548,100.664,101.126,102.303,101.708,101.561,103.097,102.149,103.5,102.588,102.505,104.752,99.517,100.164,100.265,100.225,100.8,100.239,101.181,100.816,100.736,100.669,101.032,101.628,102.053,101.355,101.505,101.02,101.23,101.241,100.863,101.203,103.965,99.165,99.127,99.025,99.14,99.285,99.255,99.325,106.225,100.113,97.355,97.702,97.717,98.073,98.356,98.826,99.202,100.132],\"yaxis\":\"y\",\"type\":\"scatter\"},{\"hovertemplate\":\"code=TSU<br>Lap=%{x}<br>Lap Time (Seconds)=%{y}<extra></extra>\",\"legendgroup\":\"TSU\",\"line\":{\"color\":\"#20394C\",\"dash\":\"solid\"},\"marker\":{\"symbol\":\"circle\"},\"mode\":\"lines\",\"name\":\"TSU\",\"orientation\":\"v\",\"showlegend\":true,\"x\":[1,2,3,4,5,6,7,8,9,10,11,12,13,14,15,17,18,19,20,21,22,23,24,25,26,27,28,29,31,32,33,34,35,36,37,38,39,40,41,42,43,44,47,48,51,52,53,54,55,56,57],\"xaxis\":\"x\",\"y\":[108.128,100.697,100.618,100.958,100.363,100.611,100.754,101.351,100.9,101.182,101.313,101.096,101.337,101.352,103.687,99.939,98.76,99.011,99.069,99.294,99.574,99.569,99.576,100.376,99.871,100.325,99.952,102.805,98.722,97.885,98.98,98.484,98.523,98.647,98.289,98.713,98.912,98.377,98.693,98.772,98.93,101.039,109.994,106.67,98.166,97.475,97.104,97.268,97.264,97.565,98.891],\"yaxis\":\"y\",\"type\":\"scatter\"},{\"hovertemplate\":\"code=MSC<br>Lap=%{x}<br>Lap Time (Seconds)=%{y}<extra></extra>\",\"legendgroup\":\"MSC\",\"line\":{\"color\":\"#636efa\",\"dash\":\"solid\"},\"marker\":{\"symbol\":\"circle\"},\"mode\":\"lines\",\"name\":\"MSC\",\"orientation\":\"v\",\"showlegend\":true,\"x\":[1,2,3,4,5,6,7,8,9,10,11,12,14,15,16,17,18,19,20,21,22,23,24,25,26,27,28,29,30,31,32,33,34,35,37,38,39,40,41,42,43,44,47,48,51,52,53,54,55,56,57],\"xaxis\":\"x\",\"y\":[108.826,100.722,100.747,101.163,102.049,102.447,102.512,102.304,102.158,103.969,102.809,105.949,98.179,99.109,99.406,100.565,99.878,100.091,99.295,99.816,99.964,100.636,100.154,100.62,100.547,100.987,100.69,100.919,101.606,100.914,100.916,101.34,101.178,103.748,96.956,97.176,97.433,97.947,98.182,97.957,98.137,98.279,105.856,103.51,100.528,99.537,98.537,98.747,99.201,99.09,100.498],\"yaxis\":\"y\",\"type\":\"scatter\"},{\"hovertemplate\":\"code=BOT<br>Lap=%{x}<br>Lap Time (Seconds)=%{y}<extra></extra>\",\"legendgroup\":\"BOT\",\"line\":{\"color\":\"#A42134\",\"dash\":\"solid\"},\"marker\":{\"symbol\":\"circle\"},\"mode\":\"lines\",\"name\":\"BOT\",\"orientation\":\"v\",\"showlegend\":true,\"x\":[1,2,3,4,5,6,7,8,9,10,11,12,13,14,16,17,18,19,20,21,22,23,24,25,26,27,28,29,30,31,32,33,34,35,36,38,39,40,41,42,43,44,47,48,51,52,53,54,55,56,57],\"xaxis\":\"x\",\"y\":[109.195,100.817,100.732,101.127,101.817,101.003,101.287,101.606,100.586,100.788,101.075,101.073,101.291,103.736,100.259,100.103,98.901,98.831,98.96,99.279,99.774,99.339,99.65,100.341,99.777,100.338,99.88,100.641,99.268,99.806,99.65,99.815,99.739,99.619,102.299,96.641,97.067,97.497,97.687,97.498,98.681,98.386,106.02,105.024,97.589,97.06,96.599,96.959,97.217,97.26,97.87],\"yaxis\":\"y\",\"type\":\"scatter\"},{\"hovertemplate\":\"code=HUL<br>Lap=%{x}<br>Lap Time (Seconds)=%{y}<extra></extra>\",\"legendgroup\":\"HUL\",\"line\":{\"color\":\"#E6002B\",\"dash\":\"solid\"},\"marker\":{\"symbol\":\"circle\"},\"mode\":\"lines\",\"name\":\"HUL\",\"orientation\":\"v\",\"showlegend\":true,\"x\":[1,2,3,4,5,6,7,8,9,10,11,12,13,14,15,16,17,18,19,21,22,23,24,25,26,27,28,29,30,31,32,33,34,35,36,37,39,40,41,42,43,49,50,51,52,53,54,55,56,57],\"xaxis\":\"x\",\"y\":[109.698,101.077,100.638,101.189,102.49,101.995,101.912,102.177,103.773,103.228,102.603,102.821,101.942,102.959,102.819,103.615,104.45,103.59,105.242,99.18,99.307,99.22,99.307,99.689,99.506,99.84,102.651,102.181,100.483,100.473,101.036,100.07,104.369,100.815,100.658,103.481,98.819,98.751,98.361,99.671,100.222,98.201,98.299,98.243,98.599,98.452,98.533,99.236,99.102,101.18],\"yaxis\":\"y\",\"type\":\"scatter\"},{\"hovertemplate\":\"code=NOR<br>Lap=%{x}<br>Lap Time (Seconds)=%{y}<extra></extra>\",\"legendgroup\":\"NOR\",\"line\":{\"color\":\"#FF8000\",\"dash\":\"solid\"},\"marker\":{\"symbol\":\"circle\"},\"mode\":\"lines\",\"name\":\"NOR\",\"orientation\":\"v\",\"showlegend\":true,\"x\":[1,2,3,4,5,6,7,8,9,10,11,12,13,14,15,16,17,18,19,20,21,22,23,24,26,27,28,29,30,31,32,33,34,35,36,37,38,39,40,41,43,44,49,50,51,52,53,54,55,56,57],\"xaxis\":\"x\",\"y\":[110.088,102.279,101.785,101.459,101.713,101.658,102.192,101.86,102.492,103.42,102.833,102.645,102.041,102.794,102.83,103.031,103.396,101.828,103.166,101.881,101.816,102.876,102.186,105.759,99.351,99.175,99.042,98.874,99.184,99.251,101.449,99.161,100.104,100.844,100.766,99.657,99.679,99.677,101.799,102.153,97.204,105.936,99.907,98.098,96.988,97.208,97.468,98.018,98.66,98.987,100.556],\"yaxis\":\"y\",\"type\":\"scatter\"},{\"hovertemplate\":\"code=STR<br>Lap=%{x}<br>Lap Time (Seconds)=%{y}<extra></extra>\",\"legendgroup\":\"STR\",\"line\":{\"color\":\"#002420\",\"dash\":\"solid\"},\"marker\":{\"symbol\":\"circle\"},\"mode\":\"lines\",\"name\":\"STR\",\"orientation\":\"v\",\"showlegend\":true,\"x\":[1,2,3,4,5,6,7,8,9,10,11,12,13,14,15,16,17,18,20,21,22,23,24,25,26,27,28,29,30,31,32,33,34,35,36,37,38,40,41,42,43,44,49,50,51,52,53,54,55,56,57],\"xaxis\":\"x\",\"y\":[110.439,101.019,100.887,101.931,101.715,101.897,101.827,102.174,101.557,102.35,102.343,102.462,102.235,101.803,101.875,102.592,101.858,104.384,98.94,98.713,99.655,99.811,99.887,99.774,100.445,100.371,100.181,100.054,100.85,100.855,100.037,100.347,100.363,100.452,100.484,100.487,103.895,97.861,98.363,98.127,99.462,98.281,97.146,97.326,97.274,97.622,98.678,97.877,98.328,98.829,100.395],\"yaxis\":\"y\",\"type\":\"scatter\"},{\"hovertemplate\":\"code=LAT<br>Lap=%{x}<br>Lap Time (Seconds)=%{y}<extra></extra>\",\"legendgroup\":\"LAT\",\"line\":{\"color\":\"#EF553B\",\"dash\":\"solid\"},\"marker\":{\"symbol\":\"circle\"},\"mode\":\"lines\",\"name\":\"LAT\",\"orientation\":\"v\",\"showlegend\":true,\"x\":[1,2,3,4,5,6,7,8,9,10,11,12,13,14,16,17,18,19,20,21,22,23,24,25,26,27,28,29,30,31,32,34,35,36,37,38,39,40,41,42,43,44,49,50,51,52,53,54,55,56,57],\"xaxis\":\"x\",\"y\":[111.134,102.298,101.668,101.947,101.678,102.945,102.065,101.931,102.473,102.678,102.822,103.492,103.36,105.315,99.239,99.655,100.272,100.245,100.489,101.735,101.036,101.284,101.118,101.031,101.161,101.182,102.81,102.572,102.106,101.888,104.577,99.285,99.763,99.455,101.384,99.891,100.258,100.219,99.797,99.937,100.899,111.928,98.651,98.335,98.251,98.466,98.452,98.707,99.119,99.145,99.876],\"yaxis\":\"y\",\"type\":\"scatter\"},{\"hovertemplate\":\"code=ZHO<br>Lap=%{x}<br>Lap Time (Seconds)=%{y}<extra></extra>\",\"legendgroup\":\"ZHO\",\"line\":{\"color\":\"#A42134\",\"dash\":\"solid\"},\"marker\":{\"symbol\":\"circle\"},\"mode\":\"lines\",\"name\":\"ZHO\",\"orientation\":\"v\",\"showlegend\":true,\"x\":[1,2,3,4,5,6,7,8,9,10,11,12,13,14,15,17,18,19,20,21,22,23,24,25,26,27,28,29,30,31,32,33,34,35,36,37,39,40,41,42,43,44,47,48,49,51,52,53,54,55,56,57],\"xaxis\":\"x\",\"y\":[111.374,101.229,100.183,100.393,101.574,101.461,100.62,102.11,102.258,101.339,101.057,101.281,101.4,101.185,103.106,98.348,99.814,98.63,98.954,99.047,99.351,99.304,99.582,99.849,99.742,100.07,100.004,100.446,99.836,99.748,99.814,99.842,99.851,99.954,100.185,102.7,96.685,96.742,96.745,97.522,97.667,97.785,112.222,106.95,111.232,99.725,98.278,97.162,97.247,97.132,97.154,98.941],\"yaxis\":\"y\",\"type\":\"scatter\"},{\"hovertemplate\":\"code=RIC<br>Lap=%{x}<br>Lap Time (Seconds)=%{y}<extra></extra>\",\"legendgroup\":\"RIC\",\"line\":{\"color\":\"#00cc96\",\"dash\":\"solid\"},\"marker\":{\"symbol\":\"circle\"},\"mode\":\"lines\",\"name\":\"RIC\",\"orientation\":\"v\",\"showlegend\":true,\"x\":[1,2,3,4,5,6,7,8,9,10,11,12,13,14,15,16,17,19,20,21,22,23,24,25,26,27,28,29,30,31,32,33,35,36,37,38,39,40,41,42,43,44,49,50,51,52,53,54,55,56,57],\"xaxis\":\"x\",\"y\":[111.601,102.59,101.711,101.803,101.818,101.77,103.137,101.894,102.746,102.777,102.641,101.621,102.461,102.375,102.543,103.515,106.215,99.374,99.349,99.722,99.715,99.832,100.273,100.367,100.521,100.869,101.188,100.627,100.647,100.631,100.686,103.359,100.424,98.927,98.988,99.146,99.32,99.157,99.054,101.069,99.421,109.227,99.453,97.261,97.58,97.654,97.671,98.12,98.639,98.86,100.084],\"yaxis\":\"y\",\"type\":\"scatter\"}],                        {\"template\":{\"data\":{\"histogram2dcontour\":[{\"type\":\"histogram2dcontour\",\"colorbar\":{\"outlinewidth\":0,\"ticks\":\"\"},\"colorscale\":[[0.0,\"#0d0887\"],[0.1111111111111111,\"#46039f\"],[0.2222222222222222,\"#7201a8\"],[0.3333333333333333,\"#9c179e\"],[0.4444444444444444,\"#bd3786\"],[0.5555555555555556,\"#d8576b\"],[0.6666666666666666,\"#ed7953\"],[0.7777777777777778,\"#fb9f3a\"],[0.8888888888888888,\"#fdca26\"],[1.0,\"#f0f921\"]]}],\"choropleth\":[{\"type\":\"choropleth\",\"colorbar\":{\"outlinewidth\":0,\"ticks\":\"\"}}],\"histogram2d\":[{\"type\":\"histogram2d\",\"colorbar\":{\"outlinewidth\":0,\"ticks\":\"\"},\"colorscale\":[[0.0,\"#0d0887\"],[0.1111111111111111,\"#46039f\"],[0.2222222222222222,\"#7201a8\"],[0.3333333333333333,\"#9c179e\"],[0.4444444444444444,\"#bd3786\"],[0.5555555555555556,\"#d8576b\"],[0.6666666666666666,\"#ed7953\"],[0.7777777777777778,\"#fb9f3a\"],[0.8888888888888888,\"#fdca26\"],[1.0,\"#f0f921\"]]}],\"heatmap\":[{\"type\":\"heatmap\",\"colorbar\":{\"outlinewidth\":0,\"ticks\":\"\"},\"colorscale\":[[0.0,\"#0d0887\"],[0.1111111111111111,\"#46039f\"],[0.2222222222222222,\"#7201a8\"],[0.3333333333333333,\"#9c179e\"],[0.4444444444444444,\"#bd3786\"],[0.5555555555555556,\"#d8576b\"],[0.6666666666666666,\"#ed7953\"],[0.7777777777777778,\"#fb9f3a\"],[0.8888888888888888,\"#fdca26\"],[1.0,\"#f0f921\"]]}],\"heatmapgl\":[{\"type\":\"heatmapgl\",\"colorbar\":{\"outlinewidth\":0,\"ticks\":\"\"},\"colorscale\":[[0.0,\"#0d0887\"],[0.1111111111111111,\"#46039f\"],[0.2222222222222222,\"#7201a8\"],[0.3333333333333333,\"#9c179e\"],[0.4444444444444444,\"#bd3786\"],[0.5555555555555556,\"#d8576b\"],[0.6666666666666666,\"#ed7953\"],[0.7777777777777778,\"#fb9f3a\"],[0.8888888888888888,\"#fdca26\"],[1.0,\"#f0f921\"]]}],\"contourcarpet\":[{\"type\":\"contourcarpet\",\"colorbar\":{\"outlinewidth\":0,\"ticks\":\"\"}}],\"contour\":[{\"type\":\"contour\",\"colorbar\":{\"outlinewidth\":0,\"ticks\":\"\"},\"colorscale\":[[0.0,\"#0d0887\"],[0.1111111111111111,\"#46039f\"],[0.2222222222222222,\"#7201a8\"],[0.3333333333333333,\"#9c179e\"],[0.4444444444444444,\"#bd3786\"],[0.5555555555555556,\"#d8576b\"],[0.6666666666666666,\"#ed7953\"],[0.7777777777777778,\"#fb9f3a\"],[0.8888888888888888,\"#fdca26\"],[1.0,\"#f0f921\"]]}],\"surface\":[{\"type\":\"surface\",\"colorbar\":{\"outlinewidth\":0,\"ticks\":\"\"},\"colorscale\":[[0.0,\"#0d0887\"],[0.1111111111111111,\"#46039f\"],[0.2222222222222222,\"#7201a8\"],[0.3333333333333333,\"#9c179e\"],[0.4444444444444444,\"#bd3786\"],[0.5555555555555556,\"#d8576b\"],[0.6666666666666666,\"#ed7953\"],[0.7777777777777778,\"#fb9f3a\"],[0.8888888888888888,\"#fdca26\"],[1.0,\"#f0f921\"]]}],\"mesh3d\":[{\"type\":\"mesh3d\",\"colorbar\":{\"outlinewidth\":0,\"ticks\":\"\"}}],\"scatter\":[{\"fillpattern\":{\"fillmode\":\"overlay\",\"size\":10,\"solidity\":0.2},\"type\":\"scatter\"}],\"parcoords\":[{\"type\":\"parcoords\",\"line\":{\"colorbar\":{\"outlinewidth\":0,\"ticks\":\"\"}}}],\"scatterpolargl\":[{\"type\":\"scatterpolargl\",\"marker\":{\"colorbar\":{\"outlinewidth\":0,\"ticks\":\"\"}}}],\"bar\":[{\"error_x\":{\"color\":\"#2a3f5f\"},\"error_y\":{\"color\":\"#2a3f5f\"},\"marker\":{\"line\":{\"color\":\"#E5ECF6\",\"width\":0.5},\"pattern\":{\"fillmode\":\"overlay\",\"size\":10,\"solidity\":0.2}},\"type\":\"bar\"}],\"scattergeo\":[{\"type\":\"scattergeo\",\"marker\":{\"colorbar\":{\"outlinewidth\":0,\"ticks\":\"\"}}}],\"scatterpolar\":[{\"type\":\"scatterpolar\",\"marker\":{\"colorbar\":{\"outlinewidth\":0,\"ticks\":\"\"}}}],\"histogram\":[{\"marker\":{\"pattern\":{\"fillmode\":\"overlay\",\"size\":10,\"solidity\":0.2}},\"type\":\"histogram\"}],\"scattergl\":[{\"type\":\"scattergl\",\"marker\":{\"colorbar\":{\"outlinewidth\":0,\"ticks\":\"\"}}}],\"scatter3d\":[{\"type\":\"scatter3d\",\"line\":{\"colorbar\":{\"outlinewidth\":0,\"ticks\":\"\"}},\"marker\":{\"colorbar\":{\"outlinewidth\":0,\"ticks\":\"\"}}}],\"scattermapbox\":[{\"type\":\"scattermapbox\",\"marker\":{\"colorbar\":{\"outlinewidth\":0,\"ticks\":\"\"}}}],\"scatterternary\":[{\"type\":\"scatterternary\",\"marker\":{\"colorbar\":{\"outlinewidth\":0,\"ticks\":\"\"}}}],\"scattercarpet\":[{\"type\":\"scattercarpet\",\"marker\":{\"colorbar\":{\"outlinewidth\":0,\"ticks\":\"\"}}}],\"carpet\":[{\"aaxis\":{\"endlinecolor\":\"#2a3f5f\",\"gridcolor\":\"white\",\"linecolor\":\"white\",\"minorgridcolor\":\"white\",\"startlinecolor\":\"#2a3f5f\"},\"baxis\":{\"endlinecolor\":\"#2a3f5f\",\"gridcolor\":\"white\",\"linecolor\":\"white\",\"minorgridcolor\":\"white\",\"startlinecolor\":\"#2a3f5f\"},\"type\":\"carpet\"}],\"table\":[{\"cells\":{\"fill\":{\"color\":\"#EBF0F8\"},\"line\":{\"color\":\"white\"}},\"header\":{\"fill\":{\"color\":\"#C8D4E3\"},\"line\":{\"color\":\"white\"}},\"type\":\"table\"}],\"barpolar\":[{\"marker\":{\"line\":{\"color\":\"#E5ECF6\",\"width\":0.5},\"pattern\":{\"fillmode\":\"overlay\",\"size\":10,\"solidity\":0.2}},\"type\":\"barpolar\"}],\"pie\":[{\"automargin\":true,\"type\":\"pie\"}]},\"layout\":{\"autotypenumbers\":\"strict\",\"colorway\":[\"#636efa\",\"#EF553B\",\"#00cc96\",\"#ab63fa\",\"#FFA15A\",\"#19d3f3\",\"#FF6692\",\"#B6E880\",\"#FF97FF\",\"#FECB52\"],\"font\":{\"color\":\"#2a3f5f\"},\"hovermode\":\"closest\",\"hoverlabel\":{\"align\":\"left\"},\"paper_bgcolor\":\"white\",\"plot_bgcolor\":\"#E5ECF6\",\"polar\":{\"bgcolor\":\"#E5ECF6\",\"angularaxis\":{\"gridcolor\":\"white\",\"linecolor\":\"white\",\"ticks\":\"\"},\"radialaxis\":{\"gridcolor\":\"white\",\"linecolor\":\"white\",\"ticks\":\"\"}},\"ternary\":{\"bgcolor\":\"#E5ECF6\",\"aaxis\":{\"gridcolor\":\"white\",\"linecolor\":\"white\",\"ticks\":\"\"},\"baxis\":{\"gridcolor\":\"white\",\"linecolor\":\"white\",\"ticks\":\"\"},\"caxis\":{\"gridcolor\":\"white\",\"linecolor\":\"white\",\"ticks\":\"\"}},\"coloraxis\":{\"colorbar\":{\"outlinewidth\":0,\"ticks\":\"\"}},\"colorscale\":{\"sequential\":[[0.0,\"#0d0887\"],[0.1111111111111111,\"#46039f\"],[0.2222222222222222,\"#7201a8\"],[0.3333333333333333,\"#9c179e\"],[0.4444444444444444,\"#bd3786\"],[0.5555555555555556,\"#d8576b\"],[0.6666666666666666,\"#ed7953\"],[0.7777777777777778,\"#fb9f3a\"],[0.8888888888888888,\"#fdca26\"],[1.0,\"#f0f921\"]],\"sequentialminus\":[[0.0,\"#0d0887\"],[0.1111111111111111,\"#46039f\"],[0.2222222222222222,\"#7201a8\"],[0.3333333333333333,\"#9c179e\"],[0.4444444444444444,\"#bd3786\"],[0.5555555555555556,\"#d8576b\"],[0.6666666666666666,\"#ed7953\"],[0.7777777777777778,\"#fb9f3a\"],[0.8888888888888888,\"#fdca26\"],[1.0,\"#f0f921\"]],\"diverging\":[[0,\"#8e0152\"],[0.1,\"#c51b7d\"],[0.2,\"#de77ae\"],[0.3,\"#f1b6da\"],[0.4,\"#fde0ef\"],[0.5,\"#f7f7f7\"],[0.6,\"#e6f5d0\"],[0.7,\"#b8e186\"],[0.8,\"#7fbc41\"],[0.9,\"#4d9221\"],[1,\"#276419\"]]},\"xaxis\":{\"gridcolor\":\"white\",\"linecolor\":\"white\",\"ticks\":\"\",\"title\":{\"standoff\":15},\"zerolinecolor\":\"white\",\"automargin\":true,\"zerolinewidth\":2},\"yaxis\":{\"gridcolor\":\"white\",\"linecolor\":\"white\",\"ticks\":\"\",\"title\":{\"standoff\":15},\"zerolinecolor\":\"white\",\"automargin\":true,\"zerolinewidth\":2},\"scene\":{\"xaxis\":{\"backgroundcolor\":\"#E5ECF6\",\"gridcolor\":\"white\",\"linecolor\":\"white\",\"showbackground\":true,\"ticks\":\"\",\"zerolinecolor\":\"white\",\"gridwidth\":2},\"yaxis\":{\"backgroundcolor\":\"#E5ECF6\",\"gridcolor\":\"white\",\"linecolor\":\"white\",\"showbackground\":true,\"ticks\":\"\",\"zerolinecolor\":\"white\",\"gridwidth\":2},\"zaxis\":{\"backgroundcolor\":\"#E5ECF6\",\"gridcolor\":\"white\",\"linecolor\":\"white\",\"showbackground\":true,\"ticks\":\"\",\"zerolinecolor\":\"white\",\"gridwidth\":2}},\"shapedefaults\":{\"line\":{\"color\":\"#2a3f5f\"}},\"annotationdefaults\":{\"arrowcolor\":\"#2a3f5f\",\"arrowhead\":0,\"arrowwidth\":1},\"geo\":{\"bgcolor\":\"white\",\"landcolor\":\"#E5ECF6\",\"subunitcolor\":\"white\",\"showland\":true,\"showlakes\":true,\"lakecolor\":\"white\"},\"title\":{\"x\":0.05},\"mapbox\":{\"style\":\"light\"}}},\"xaxis\":{\"anchor\":\"y\",\"domain\":[0.0,1.0],\"title\":{\"text\":\"Lap\"}},\"yaxis\":{\"anchor\":\"x\",\"domain\":[0.0,1.0],\"title\":{\"text\":\"Lap Time (Seconds)\"}},\"legend\":{\"title\":{\"text\":\"code\"},\"tracegroupgap\":0},\"title\":{\"text\":\"Lap Times\"}},                        {\"responsive\": true}                    ).then(function(){\n",
       "                            \n",
       "var gd = document.getElementById('8bf694cf-f91a-4d19-b80c-fe6a08b657b9');\n",
       "var x = new MutationObserver(function (mutations, observer) {{\n",
       "        var display = window.getComputedStyle(gd).display;\n",
       "        if (!display || display === 'none') {{\n",
       "            console.log([gd, 'removed!']);\n",
       "            Plotly.purge(gd);\n",
       "            observer.disconnect();\n",
       "        }}\n",
       "}});\n",
       "\n",
       "// Listen for the removal of the full notebook cells\n",
       "var notebookContainer = gd.closest('#notebook-container');\n",
       "if (notebookContainer) {{\n",
       "    x.observe(notebookContainer, {childList: true});\n",
       "}}\n",
       "\n",
       "// Listen for the clearing of the current output cell\n",
       "var outputEl = gd.closest('.output');\n",
       "if (outputEl) {{\n",
       "    x.observe(outputEl, {childList: true});\n",
       "}}\n",
       "\n",
       "                        })                };                });            </script>        </div>"
      ]
     },
     "metadata": {},
     "output_type": "display_data"
    }
   ],
   "source": [
    "#remove outliers, use plotly\n",
    "fig = px.line(lap_driver_no, x=\"lap\", y=\"duration\", color='code', labels={\n",
    "    \"duration\": \"Lap Time (Seconds)\",\n",
    "    \"lap\": \"Lap\"\n",
    "}, title='Lap Times', color_discrete_map=color_map)\n",
    "fig.show()"
   ]
  },
  {
   "cell_type": "code",
   "execution_count": 16,
   "id": "254dd56b",
   "metadata": {
    "_kg_hide-input": true,
    "execution": {
     "iopub.execute_input": "2023-03-05T21:55:07.425698Z",
     "iopub.status.busy": "2023-03-05T21:55:07.424604Z",
     "iopub.status.idle": "2023-03-05T21:55:07.577431Z",
     "shell.execute_reply": "2023-03-05T21:55:07.576548Z"
    },
    "papermill": {
     "duration": 0.16752,
     "end_time": "2023-03-05T21:55:07.579825",
     "exception": false,
     "start_time": "2023-03-05T21:55:07.412305",
     "status": "completed"
    },
    "tags": []
   },
   "outputs": [
    {
     "data": {
      "text/html": [
       "<div>                            <div id=\"51f04f7b-d9b6-4d24-b853-06f6c8d23f69\" class=\"plotly-graph-div\" style=\"height:525px; width:100%;\"></div>            <script type=\"text/javascript\">                require([\"plotly\"], function(Plotly) {                    window.PLOTLYENV=window.PLOTLYENV || {};                                    if (document.getElementById(\"51f04f7b-d9b6-4d24-b853-06f6c8d23f69\")) {                    Plotly.newPlot(                        \"51f04f7b-d9b6-4d24-b853-06f6c8d23f69\",                        [{\"hovertemplate\":\"code=LEC<br>Lap=%{x}<br>Position=%{y}<extra></extra>\",\"legendgroup\":\"LEC\",\"line\":{\"color\":\"#EF1A2D\",\"dash\":\"solid\"},\"marker\":{\"symbol\":\"circle\"},\"mode\":\"lines\",\"name\":\"LEC\",\"showlegend\":true,\"x\":[1,2,3,4,5,6,7,8,9,10,11,12,13,14,15,16,17,18,19,20,21,22,23,24,25,26,27,28,29,30,31,32,33,34,35,36,37,38,39,40,41,42,43,44,45,46,47,48,49,50,51,52,53,54,55,56,57],\"xaxis\":\"x\",\"y\":[1,1,1,1,1,1,1,1,1,1,1,1,1,1,1,1,1,1,1,1,1,1,1,1,1,1,1,1,1,1,1,3,3,1,1,1,1,1,1,1,1,1,1,1,1,1,1,1,1,1,1,1,1,1,1,1,1],\"yaxis\":\"y\",\"type\":\"scattergl\"},{\"hovertemplate\":\"code=VER<br>Lap=%{x}<br>Position=%{y}<extra></extra>\",\"legendgroup\":\"VER\",\"line\":{\"color\":\"#000B8D\",\"dash\":\"solid\"},\"marker\":{\"symbol\":\"circle\"},\"mode\":\"lines\",\"name\":\"VER\",\"showlegend\":true,\"x\":[1,2,3,4,5,6,7,8,9,10,11,12,13,14,15,16,17,18,19,20,21,22,23,24,25,26,27,28,29,30,31,32,33,34,35,36,37,38,39,40,41,42,43,44,45,46,47,48,49,50,51,52,53,54],\"xaxis\":\"x\",\"y\":[2,2,2,2,2,2,2,2,2,2,2,2,2,2,4,2,2,2,2,2,2,2,2,2,2,2,2,2,2,2,4,4,4,2,2,2,2,2,2,2,2,2,2,3,2,2,2,2,2,2,2,2,2,13],\"yaxis\":\"y\",\"type\":\"scattergl\"},{\"hovertemplate\":\"code=SAI<br>Lap=%{x}<br>Position=%{y}<extra></extra>\",\"legendgroup\":\"SAI\",\"line\":{\"color\":\"#EF1A2D\",\"dash\":\"solid\"},\"marker\":{\"symbol\":\"circle\"},\"mode\":\"lines\",\"name\":\"SAI\",\"showlegend\":true,\"x\":[1,2,3,4,5,6,7,8,9,10,11,12,13,14,15,16,17,18,19,20,21,22,23,24,25,26,27,28,29,30,31,32,33,34,35,36,37,38,39,40,41,42,43,44,45,46,47,48,49,50,51,52,53,54,55,56,57],\"xaxis\":\"x\",\"y\":[3,3,3,3,3,3,3,3,3,3,3,3,3,4,5,3,3,3,3,3,3,3,3,3,3,3,3,3,3,3,2,1,1,3,3,3,3,3,3,3,3,3,3,2,3,3,3,3,3,3,3,3,3,2,2,2,2],\"yaxis\":\"y\",\"type\":\"scattergl\"},{\"hovertemplate\":\"code=HAM<br>Lap=%{x}<br>Position=%{y}<extra></extra>\",\"legendgroup\":\"HAM\",\"line\":{\"color\":\"#00A19B\",\"dash\":\"solid\"},\"marker\":{\"symbol\":\"circle\"},\"mode\":\"lines\",\"name\":\"HAM\",\"showlegend\":true,\"x\":[1,2,3,4,5,6,7,8,9,10,11,12,13,14,15,16,17,18,19,20,21,22,23,24,25,26,27,28,29,30,31,32,33,34,35,36,37,38,39,40,41,42,43,44,45,46,47,48,49,50,51,52,53,54,55,56,57],\"xaxis\":\"x\",\"y\":[4,4,4,4,4,4,4,4,4,5,5,12,11,10,6,5,5,5,5,5,5,5,5,5,5,5,5,8,8,8,7,7,6,5,5,5,5,5,5,5,5,5,5,4,6,5,5,5,5,5,5,5,5,4,4,4,3],\"yaxis\":\"y\",\"type\":\"scattergl\"},{\"hovertemplate\":\"code=MAG<br>Lap=%{x}<br>Position=%{y}<extra></extra>\",\"legendgroup\":\"MAG\",\"line\":{\"color\":\"#E6002B\",\"dash\":\"solid\"},\"marker\":{\"symbol\":\"circle\"},\"mode\":\"lines\",\"name\":\"MAG\",\"showlegend\":true,\"x\":[1,2,3,4,5,6,7,8,9,10,11,12,13,14,15,16,17,18,19,20,21,22,23,24,25,26,27,28,29,30,31,32,33,34,35,36,37,38,39,40,41,42,43,44,45,46,47,48,49,50,51,52,53,54,55,56,57],\"xaxis\":\"x\",\"y\":[5,5,6,6,7,7,7,7,7,7,7,6,6,6,9,7,7,7,7,7,7,7,7,7,7,7,7,6,6,6,6,6,7,6,10,9,7,7,7,7,7,7,7,7,7,7,7,7,7,7,7,7,7,6,6,6,5],\"yaxis\":\"y\",\"type\":\"scattergl\"},{\"hovertemplate\":\"code=PER<br>Lap=%{x}<br>Position=%{y}<extra></extra>\",\"legendgroup\":\"PER\",\"line\":{\"color\":\"#000B8D\",\"dash\":\"solid\"},\"marker\":{\"symbol\":\"circle\"},\"mode\":\"lines\",\"name\":\"PER\",\"showlegend\":true,\"x\":[1,2,3,4,5,6,7,8,9,10,11,12,13,14,15,16,17,18,19,20,21,22,23,24,25,26,27,28,29,30,31,32,33,34,35,36,37,38,39,40,41,42,43,44,45,46,47,48,49,50,51,52,53,54,55,56],\"xaxis\":\"x\",\"y\":[6,6,5,5,5,5,5,5,5,4,4,4,4,3,2,4,4,4,4,4,4,4,4,4,4,4,4,4,4,4,3,2,2,4,4,4,4,4,4,4,4,4,4,5,4,4,4,4,4,4,4,4,4,3,3,3],\"yaxis\":\"y\",\"type\":\"scattergl\"},{\"hovertemplate\":\"code=RUS<br>Lap=%{x}<br>Position=%{y}<extra></extra>\",\"legendgroup\":\"RUS\",\"line\":{\"color\":\"#00A19B\",\"dash\":\"solid\"},\"marker\":{\"symbol\":\"circle\"},\"mode\":\"lines\",\"name\":\"RUS\",\"showlegend\":true,\"x\":[1,2,3,4,5,6,7,8,9,10,11,12,13,14,15,16,17,18,19,20,21,22,23,24,25,26,27,28,29,30,31,32,33,34,35,36,37,38,39,40,41,42,43,44,45,46,47,48,49,50,51,52,53,54,55,56,57],\"xaxis\":\"x\",\"y\":[7,7,7,7,6,6,6,6,6,6,6,5,5,5,3,6,6,6,6,6,6,6,6,6,6,6,6,5,5,5,5,5,5,7,6,6,6,6,6,6,6,6,6,6,5,6,6,6,6,6,6,6,6,5,5,5,4],\"yaxis\":\"y\",\"type\":\"scattergl\"},{\"hovertemplate\":\"code=GAS<br>Lap=%{x}<br>Position=%{y}<extra></extra>\",\"legendgroup\":\"GAS\",\"line\":{\"color\":\"#2173B8\",\"dash\":\"solid\"},\"marker\":{\"symbol\":\"circle\"},\"mode\":\"lines\",\"name\":\"GAS\",\"showlegend\":true,\"x\":[1,2,3,4,5,6,7,8,9,10,11,12,13,14,15,16,17,18,19,20,21,22,23,24,25,26,27,28,29,30,31,32,33,34,35,36,37,38,39,40,41,42,43,44],\"xaxis\":\"x\",\"y\":[8,8,8,8,8,8,8,8,8,8,8,7,7,7,12,8,8,8,8,8,8,8,8,8,8,8,8,7,7,7,8,8,10,10,9,10,8,8,8,8,8,8,8,8],\"yaxis\":\"y\",\"type\":\"scattergl\"},{\"hovertemplate\":\"code=ALO<br>Lap=%{x}<br>Position=%{y}<extra></extra>\",\"legendgroup\":\"ALO\",\"line\":{\"color\":\"#002420\",\"dash\":\"solid\"},\"marker\":{\"symbol\":\"circle\"},\"mode\":\"lines\",\"name\":\"ALO\",\"showlegend\":true,\"x\":[1,2,3,4,5,6,7,8,9,10,11,12,13,14,15,16,17,18,19,20,21,22,23,24,25,26,27,28,29,30,31,32,33,34,35,36,37,38,39,40,41,42,43,44,45,46,47,48,49,50,51,52,53,54,55,56,57],\"xaxis\":\"x\",\"y\":[9,9,9,9,9,9,9,10,10,10,11,20,17,14,11,9,9,9,9,9,9,9,9,9,10,14,14,14,14,12,11,11,11,11,11,11,10,10,10,11,11,12,14,14,13,12,12,12,12,12,11,11,11,10,10,10,9],\"yaxis\":\"y\",\"type\":\"scattergl\"},{\"hovertemplate\":\"code=OCO<br>Lap=%{x}<br>Position=%{y}<extra></extra>\",\"legendgroup\":\"OCO\",\"line\":{\"color\":\"#2173B8\",\"dash\":\"solid\"},\"marker\":{\"symbol\":\"circle\"},\"mode\":\"lines\",\"name\":\"OCO\",\"showlegend\":true,\"x\":[1,2,3,4,5,6,7,8,9,10,11,12,13,14,15,16,17,18,19,20,21,22,23,24,25,26,27,28,29,30,31,32,33,34,35,36,37,38,39,40,41,42,43,44,45,46,47,48,49,50,51,52,53,54,55,56,57],\"xaxis\":\"x\",\"y\":[10,10,10,10,10,10,10,9,9,9,9,8,8,8,16,11,11,10,10,10,10,10,10,10,9,9,9,9,9,9,13,12,12,12,12,12,11,9,9,9,9,9,9,12,10,9,9,9,9,9,9,9,9,8,8,8,7],\"yaxis\":\"y\",\"type\":\"scattergl\"},{\"hovertemplate\":\"code=ALB<br>Lap=%{x}<br>Position=%{y}<extra></extra>\",\"legendgroup\":\"ALB\",\"line\":{\"color\":\"#00A0DE\",\"dash\":\"solid\"},\"marker\":{\"symbol\":\"circle\"},\"mode\":\"lines\",\"name\":\"ALB\",\"showlegend\":true,\"x\":[1,2,3,4,5,6,7,8,9,10,11,12,13,14,15,16,17,18,19,20,21,22,23,24,25,26,27,28,29,30,31,32,33,34,35,36,37,38,39,40,41,42,43,44,45,46,47,48,49,50,51,52,53,54,55,56,57],\"xaxis\":\"x\",\"y\":[11,11,11,11,12,12,12,13,13,14,14,13,14,20,19,19,19,18,16,16,16,15,15,15,15,15,16,16,16,16,16,16,16,16,16,18,18,17,17,17,17,16,16,16,15,14,15,15,15,15,15,15,15,15,14,14,13],\"yaxis\":\"y\",\"type\":\"scattergl\"},{\"hovertemplate\":\"code=TSU<br>Lap=%{x}<br>Position=%{y}<extra></extra>\",\"legendgroup\":\"TSU\",\"line\":{\"color\":\"#20394C\",\"dash\":\"solid\"},\"marker\":{\"symbol\":\"circle\"},\"mode\":\"lines\",\"name\":\"TSU\",\"showlegend\":true,\"x\":[1,2,3,4,5,6,7,8,9,10,11,12,13,14,15,16,17,18,19,20,21,22,23,24,25,26,27,28,29,30,31,32,33,34,35,36,37,38,39,40,41,42,43,44,45,46,47,48,49,50,51,52,53,54,55,56,57],\"xaxis\":\"x\",\"y\":[12,12,12,12,11,11,11,11,11,11,10,9,9,9,7,14,12,11,11,11,11,11,11,11,11,10,10,10,11,14,14,14,13,13,13,13,12,11,11,10,10,10,10,10,12,11,11,11,11,11,10,10,10,9,9,9,8],\"yaxis\":\"y\",\"type\":\"scattergl\"},{\"hovertemplate\":\"code=MSC<br>Lap=%{x}<br>Position=%{y}<extra></extra>\",\"legendgroup\":\"MSC\",\"line\":{\"color\":\"#636efa\",\"dash\":\"solid\"},\"marker\":{\"symbol\":\"circle\"},\"mode\":\"lines\",\"name\":\"MSC\",\"showlegend\":true,\"x\":[1,2,3,4,5,6,7,8,9,10,11,12,13,14,15,16,17,18,19,20,21,22,23,24,25,26,27,28,29,30,31,32,33,34,35,36,37,38,39,40,41,42,43,44,45,46,47,48,49,50,51,52,53,54,55,56,57],\"xaxis\":\"x\",\"y\":[13,13,13,13,13,14,15,15,15,16,16,17,20,19,18,17,17,16,14,14,14,14,14,14,14,13,13,13,13,13,12,13,14,14,14,15,15,15,14,14,14,14,13,13,11,10,10,10,10,10,12,13,13,12,12,12,11],\"yaxis\":\"y\",\"type\":\"scattergl\"},{\"hovertemplate\":\"code=BOT<br>Lap=%{x}<br>Position=%{y}<extra></extra>\",\"legendgroup\":\"BOT\",\"line\":{\"color\":\"#A42134\",\"dash\":\"solid\"},\"marker\":{\"symbol\":\"circle\"},\"mode\":\"lines\",\"name\":\"BOT\",\"showlegend\":true,\"x\":[1,2,3,4,5,6,7,8,9,10,11,12,13,14,15,16,17,18,19,20,21,22,23,24,25,26,27,28,29,30,31,32,33,34,35,36,37,38,39,40,41,42,43,44,45,46,47,48,49,50,51,52,53,54,55,56,57],\"xaxis\":\"x\",\"y\":[14,14,14,14,14,13,13,12,12,12,12,10,10,11,17,16,13,13,12,12,12,12,12,12,12,11,11,11,10,10,9,9,8,8,7,7,13,12,12,12,12,11,11,9,8,8,8,8,8,8,8,8,8,7,7,7,6],\"yaxis\":\"y\",\"type\":\"scattergl\"},{\"hovertemplate\":\"code=HUL<br>Lap=%{x}<br>Position=%{y}<extra></extra>\",\"legendgroup\":\"HUL\",\"line\":{\"color\":\"#E6002B\",\"dash\":\"solid\"},\"marker\":{\"symbol\":\"circle\"},\"mode\":\"lines\",\"name\":\"HUL\",\"showlegend\":true,\"x\":[1,2,3,4,5,6,7,8,9,10,11,12,13,14,15,16,17,18,19,20,21,22,23,24,25,26,27,28,29,30,31,32,33,34,35,36,37,38,39,40,41,42,43,44,45,46,47,48,49,50,51,52,53,54,55,56,57],\"xaxis\":\"x\",\"y\":[15,15,15,15,16,16,16,16,17,17,17,15,15,15,13,12,15,17,17,20,20,20,20,20,19,19,19,19,19,19,19,18,18,18,18,17,17,20,20,20,20,20,20,20,19,19,19,19,19,19,19,19,19,19,18,18,17],\"yaxis\":\"y\",\"type\":\"scattergl\"},{\"hovertemplate\":\"code=NOR<br>Lap=%{x}<br>Position=%{y}<extra></extra>\",\"legendgroup\":\"NOR\",\"line\":{\"color\":\"#FF8000\",\"dash\":\"solid\"},\"marker\":{\"symbol\":\"circle\"},\"mode\":\"lines\",\"name\":\"NOR\",\"showlegend\":true,\"x\":[1,2,3,4,5,6,7,8,9,10,11,12,13,14,15,16,17,18,19,20,21,22,23,24,25,26,27,28,29,30,31,32,33,34,35,36,37,38,39,40,41,42,43,44,45,46,47,48,49,50,51,52,53,54,55,56,57],\"xaxis\":\"x\",\"y\":[16,17,18,18,18,18,18,18,18,18,18,16,16,16,14,13,14,14,15,15,15,16,16,17,20,20,20,20,20,20,20,19,19,17,17,16,16,16,15,15,16,19,18,18,16,17,17,17,17,17,17,17,17,17,16,16,15],\"yaxis\":\"y\",\"type\":\"scattergl\"},{\"hovertemplate\":\"code=STR<br>Lap=%{x}<br>Position=%{y}<extra></extra>\",\"legendgroup\":\"STR\",\"line\":{\"color\":\"#002420\",\"dash\":\"solid\"},\"marker\":{\"symbol\":\"circle\"},\"mode\":\"lines\",\"name\":\"STR\",\"showlegend\":true,\"x\":[1,2,3,4,5,6,7,8,9,10,11,12,13,14,15,16,17,18,19,20,21,22,23,24,25,26,27,28,29,30,31,32,33,34,35,36,37,38,39,40,41,42,43,44,45,46,47,48,49,50,51,52,53,54,55,56,57],\"xaxis\":\"x\",\"y\":[17,16,16,17,17,17,17,17,16,15,15,14,13,13,10,10,10,12,19,18,17,17,17,16,16,16,15,15,15,15,15,15,15,15,15,14,14,14,16,16,15,15,15,15,14,15,14,14,14,14,14,14,14,14,13,13,12],\"yaxis\":\"y\",\"type\":\"scattergl\"},{\"hovertemplate\":\"code=LAT<br>Lap=%{x}<br>Position=%{y}<extra></extra>\",\"legendgroup\":\"LAT\",\"line\":{\"color\":\"#EF553B\",\"dash\":\"solid\"},\"marker\":{\"symbol\":\"circle\"},\"mode\":\"lines\",\"name\":\"LAT\",\"showlegend\":true,\"x\":[1,2,3,4,5,6,7,8,9,10,11,12,13,14,15,16,17,18,19,20,21,22,23,24,25,26,27,28,29,30,31,32,33,34,35,36,37,38,39,40,41,42,43,44,45,46,47,48,49,50,51,52,53,54,55,56,57],\"xaxis\":\"x\",\"y\":[18,19,19,19,19,20,19,19,19,19,19,19,19,18,20,20,20,19,18,17,18,18,18,18,17,17,17,18,18,18,18,20,20,20,20,20,20,19,19,19,19,18,19,19,17,18,18,18,18,18,18,18,18,18,17,17,16],\"yaxis\":\"y\",\"type\":\"scattergl\"},{\"hovertemplate\":\"code=ZHO<br>Lap=%{x}<br>Position=%{y}<extra></extra>\",\"legendgroup\":\"ZHO\",\"line\":{\"color\":\"#A42134\",\"dash\":\"solid\"},\"marker\":{\"symbol\":\"circle\"},\"mode\":\"lines\",\"name\":\"ZHO\",\"showlegend\":true,\"x\":[1,2,3,4,5,6,7,8,9,10,11,12,13,14,15,16,17,18,19,20,21,22,23,24,25,26,27,28,29,30,31,32,33,34,35,36,37,38,39,40,41,42,43,44,45,46,47,48,49,50,51,52,53,54,55,56,57],\"xaxis\":\"x\",\"y\":[19,18,17,16,15,15,14,14,14,13,13,11,12,12,8,18,16,15,13,13,13,13,13,13,13,12,12,12,12,11,10,10,9,9,8,8,9,13,13,13,13,13,12,11,9,13,13,13,13,13,13,12,12,11,11,11,10],\"yaxis\":\"y\",\"type\":\"scattergl\"},{\"hovertemplate\":\"code=RIC<br>Lap=%{x}<br>Position=%{y}<extra></extra>\",\"legendgroup\":\"RIC\",\"line\":{\"color\":\"#00cc96\",\"dash\":\"solid\"},\"marker\":{\"symbol\":\"circle\"},\"mode\":\"lines\",\"name\":\"RIC\",\"showlegend\":true,\"x\":[1,2,3,4,5,6,7,8,9,10,11,12,13,14,15,16,17,18,19,20,21,22,23,24,25,26,27,28,29,30,31,32,33,34,35,36,37,38,39,40,41,42,43,44,45,46,47,48,49,50,51,52,53,54,55,56,57],\"xaxis\":\"x\",\"y\":[20,20,20,20,20,19,20,20,20,20,20,18,18,17,15,15,18,20,20,19,19,19,19,19,18,18,18,17,17,17,17,17,17,19,19,19,19,18,18,18,18,17,17,17,18,16,16,16,16,16,16,16,16,16,15,15,14],\"yaxis\":\"y\",\"type\":\"scattergl\"}],                        {\"template\":{\"data\":{\"histogram2dcontour\":[{\"type\":\"histogram2dcontour\",\"colorbar\":{\"outlinewidth\":0,\"ticks\":\"\"},\"colorscale\":[[0.0,\"#0d0887\"],[0.1111111111111111,\"#46039f\"],[0.2222222222222222,\"#7201a8\"],[0.3333333333333333,\"#9c179e\"],[0.4444444444444444,\"#bd3786\"],[0.5555555555555556,\"#d8576b\"],[0.6666666666666666,\"#ed7953\"],[0.7777777777777778,\"#fb9f3a\"],[0.8888888888888888,\"#fdca26\"],[1.0,\"#f0f921\"]]}],\"choropleth\":[{\"type\":\"choropleth\",\"colorbar\":{\"outlinewidth\":0,\"ticks\":\"\"}}],\"histogram2d\":[{\"type\":\"histogram2d\",\"colorbar\":{\"outlinewidth\":0,\"ticks\":\"\"},\"colorscale\":[[0.0,\"#0d0887\"],[0.1111111111111111,\"#46039f\"],[0.2222222222222222,\"#7201a8\"],[0.3333333333333333,\"#9c179e\"],[0.4444444444444444,\"#bd3786\"],[0.5555555555555556,\"#d8576b\"],[0.6666666666666666,\"#ed7953\"],[0.7777777777777778,\"#fb9f3a\"],[0.8888888888888888,\"#fdca26\"],[1.0,\"#f0f921\"]]}],\"heatmap\":[{\"type\":\"heatmap\",\"colorbar\":{\"outlinewidth\":0,\"ticks\":\"\"},\"colorscale\":[[0.0,\"#0d0887\"],[0.1111111111111111,\"#46039f\"],[0.2222222222222222,\"#7201a8\"],[0.3333333333333333,\"#9c179e\"],[0.4444444444444444,\"#bd3786\"],[0.5555555555555556,\"#d8576b\"],[0.6666666666666666,\"#ed7953\"],[0.7777777777777778,\"#fb9f3a\"],[0.8888888888888888,\"#fdca26\"],[1.0,\"#f0f921\"]]}],\"heatmapgl\":[{\"type\":\"heatmapgl\",\"colorbar\":{\"outlinewidth\":0,\"ticks\":\"\"},\"colorscale\":[[0.0,\"#0d0887\"],[0.1111111111111111,\"#46039f\"],[0.2222222222222222,\"#7201a8\"],[0.3333333333333333,\"#9c179e\"],[0.4444444444444444,\"#bd3786\"],[0.5555555555555556,\"#d8576b\"],[0.6666666666666666,\"#ed7953\"],[0.7777777777777778,\"#fb9f3a\"],[0.8888888888888888,\"#fdca26\"],[1.0,\"#f0f921\"]]}],\"contourcarpet\":[{\"type\":\"contourcarpet\",\"colorbar\":{\"outlinewidth\":0,\"ticks\":\"\"}}],\"contour\":[{\"type\":\"contour\",\"colorbar\":{\"outlinewidth\":0,\"ticks\":\"\"},\"colorscale\":[[0.0,\"#0d0887\"],[0.1111111111111111,\"#46039f\"],[0.2222222222222222,\"#7201a8\"],[0.3333333333333333,\"#9c179e\"],[0.4444444444444444,\"#bd3786\"],[0.5555555555555556,\"#d8576b\"],[0.6666666666666666,\"#ed7953\"],[0.7777777777777778,\"#fb9f3a\"],[0.8888888888888888,\"#fdca26\"],[1.0,\"#f0f921\"]]}],\"surface\":[{\"type\":\"surface\",\"colorbar\":{\"outlinewidth\":0,\"ticks\":\"\"},\"colorscale\":[[0.0,\"#0d0887\"],[0.1111111111111111,\"#46039f\"],[0.2222222222222222,\"#7201a8\"],[0.3333333333333333,\"#9c179e\"],[0.4444444444444444,\"#bd3786\"],[0.5555555555555556,\"#d8576b\"],[0.6666666666666666,\"#ed7953\"],[0.7777777777777778,\"#fb9f3a\"],[0.8888888888888888,\"#fdca26\"],[1.0,\"#f0f921\"]]}],\"mesh3d\":[{\"type\":\"mesh3d\",\"colorbar\":{\"outlinewidth\":0,\"ticks\":\"\"}}],\"scatter\":[{\"fillpattern\":{\"fillmode\":\"overlay\",\"size\":10,\"solidity\":0.2},\"type\":\"scatter\"}],\"parcoords\":[{\"type\":\"parcoords\",\"line\":{\"colorbar\":{\"outlinewidth\":0,\"ticks\":\"\"}}}],\"scatterpolargl\":[{\"type\":\"scatterpolargl\",\"marker\":{\"colorbar\":{\"outlinewidth\":0,\"ticks\":\"\"}}}],\"bar\":[{\"error_x\":{\"color\":\"#2a3f5f\"},\"error_y\":{\"color\":\"#2a3f5f\"},\"marker\":{\"line\":{\"color\":\"#E5ECF6\",\"width\":0.5},\"pattern\":{\"fillmode\":\"overlay\",\"size\":10,\"solidity\":0.2}},\"type\":\"bar\"}],\"scattergeo\":[{\"type\":\"scattergeo\",\"marker\":{\"colorbar\":{\"outlinewidth\":0,\"ticks\":\"\"}}}],\"scatterpolar\":[{\"type\":\"scatterpolar\",\"marker\":{\"colorbar\":{\"outlinewidth\":0,\"ticks\":\"\"}}}],\"histogram\":[{\"marker\":{\"pattern\":{\"fillmode\":\"overlay\",\"size\":10,\"solidity\":0.2}},\"type\":\"histogram\"}],\"scattergl\":[{\"type\":\"scattergl\",\"marker\":{\"colorbar\":{\"outlinewidth\":0,\"ticks\":\"\"}}}],\"scatter3d\":[{\"type\":\"scatter3d\",\"line\":{\"colorbar\":{\"outlinewidth\":0,\"ticks\":\"\"}},\"marker\":{\"colorbar\":{\"outlinewidth\":0,\"ticks\":\"\"}}}],\"scattermapbox\":[{\"type\":\"scattermapbox\",\"marker\":{\"colorbar\":{\"outlinewidth\":0,\"ticks\":\"\"}}}],\"scatterternary\":[{\"type\":\"scatterternary\",\"marker\":{\"colorbar\":{\"outlinewidth\":0,\"ticks\":\"\"}}}],\"scattercarpet\":[{\"type\":\"scattercarpet\",\"marker\":{\"colorbar\":{\"outlinewidth\":0,\"ticks\":\"\"}}}],\"carpet\":[{\"aaxis\":{\"endlinecolor\":\"#2a3f5f\",\"gridcolor\":\"white\",\"linecolor\":\"white\",\"minorgridcolor\":\"white\",\"startlinecolor\":\"#2a3f5f\"},\"baxis\":{\"endlinecolor\":\"#2a3f5f\",\"gridcolor\":\"white\",\"linecolor\":\"white\",\"minorgridcolor\":\"white\",\"startlinecolor\":\"#2a3f5f\"},\"type\":\"carpet\"}],\"table\":[{\"cells\":{\"fill\":{\"color\":\"#EBF0F8\"},\"line\":{\"color\":\"white\"}},\"header\":{\"fill\":{\"color\":\"#C8D4E3\"},\"line\":{\"color\":\"white\"}},\"type\":\"table\"}],\"barpolar\":[{\"marker\":{\"line\":{\"color\":\"#E5ECF6\",\"width\":0.5},\"pattern\":{\"fillmode\":\"overlay\",\"size\":10,\"solidity\":0.2}},\"type\":\"barpolar\"}],\"pie\":[{\"automargin\":true,\"type\":\"pie\"}]},\"layout\":{\"autotypenumbers\":\"strict\",\"colorway\":[\"#636efa\",\"#EF553B\",\"#00cc96\",\"#ab63fa\",\"#FFA15A\",\"#19d3f3\",\"#FF6692\",\"#B6E880\",\"#FF97FF\",\"#FECB52\"],\"font\":{\"color\":\"#2a3f5f\"},\"hovermode\":\"closest\",\"hoverlabel\":{\"align\":\"left\"},\"paper_bgcolor\":\"white\",\"plot_bgcolor\":\"#E5ECF6\",\"polar\":{\"bgcolor\":\"#E5ECF6\",\"angularaxis\":{\"gridcolor\":\"white\",\"linecolor\":\"white\",\"ticks\":\"\"},\"radialaxis\":{\"gridcolor\":\"white\",\"linecolor\":\"white\",\"ticks\":\"\"}},\"ternary\":{\"bgcolor\":\"#E5ECF6\",\"aaxis\":{\"gridcolor\":\"white\",\"linecolor\":\"white\",\"ticks\":\"\"},\"baxis\":{\"gridcolor\":\"white\",\"linecolor\":\"white\",\"ticks\":\"\"},\"caxis\":{\"gridcolor\":\"white\",\"linecolor\":\"white\",\"ticks\":\"\"}},\"coloraxis\":{\"colorbar\":{\"outlinewidth\":0,\"ticks\":\"\"}},\"colorscale\":{\"sequential\":[[0.0,\"#0d0887\"],[0.1111111111111111,\"#46039f\"],[0.2222222222222222,\"#7201a8\"],[0.3333333333333333,\"#9c179e\"],[0.4444444444444444,\"#bd3786\"],[0.5555555555555556,\"#d8576b\"],[0.6666666666666666,\"#ed7953\"],[0.7777777777777778,\"#fb9f3a\"],[0.8888888888888888,\"#fdca26\"],[1.0,\"#f0f921\"]],\"sequentialminus\":[[0.0,\"#0d0887\"],[0.1111111111111111,\"#46039f\"],[0.2222222222222222,\"#7201a8\"],[0.3333333333333333,\"#9c179e\"],[0.4444444444444444,\"#bd3786\"],[0.5555555555555556,\"#d8576b\"],[0.6666666666666666,\"#ed7953\"],[0.7777777777777778,\"#fb9f3a\"],[0.8888888888888888,\"#fdca26\"],[1.0,\"#f0f921\"]],\"diverging\":[[0,\"#8e0152\"],[0.1,\"#c51b7d\"],[0.2,\"#de77ae\"],[0.3,\"#f1b6da\"],[0.4,\"#fde0ef\"],[0.5,\"#f7f7f7\"],[0.6,\"#e6f5d0\"],[0.7,\"#b8e186\"],[0.8,\"#7fbc41\"],[0.9,\"#4d9221\"],[1,\"#276419\"]]},\"xaxis\":{\"gridcolor\":\"white\",\"linecolor\":\"white\",\"ticks\":\"\",\"title\":{\"standoff\":15},\"zerolinecolor\":\"white\",\"automargin\":true,\"zerolinewidth\":2},\"yaxis\":{\"gridcolor\":\"white\",\"linecolor\":\"white\",\"ticks\":\"\",\"title\":{\"standoff\":15},\"zerolinecolor\":\"white\",\"automargin\":true,\"zerolinewidth\":2},\"scene\":{\"xaxis\":{\"backgroundcolor\":\"#E5ECF6\",\"gridcolor\":\"white\",\"linecolor\":\"white\",\"showbackground\":true,\"ticks\":\"\",\"zerolinecolor\":\"white\",\"gridwidth\":2},\"yaxis\":{\"backgroundcolor\":\"#E5ECF6\",\"gridcolor\":\"white\",\"linecolor\":\"white\",\"showbackground\":true,\"ticks\":\"\",\"zerolinecolor\":\"white\",\"gridwidth\":2},\"zaxis\":{\"backgroundcolor\":\"#E5ECF6\",\"gridcolor\":\"white\",\"linecolor\":\"white\",\"showbackground\":true,\"ticks\":\"\",\"zerolinecolor\":\"white\",\"gridwidth\":2}},\"shapedefaults\":{\"line\":{\"color\":\"#2a3f5f\"}},\"annotationdefaults\":{\"arrowcolor\":\"#2a3f5f\",\"arrowhead\":0,\"arrowwidth\":1},\"geo\":{\"bgcolor\":\"white\",\"landcolor\":\"#E5ECF6\",\"subunitcolor\":\"white\",\"showland\":true,\"showlakes\":true,\"lakecolor\":\"white\"},\"title\":{\"x\":0.05},\"mapbox\":{\"style\":\"light\"}}},\"xaxis\":{\"anchor\":\"y\",\"domain\":[0.0,1.0],\"title\":{\"text\":\"Lap\"}},\"yaxis\":{\"anchor\":\"x\",\"domain\":[0.0,1.0],\"title\":{\"text\":\"Position\"}},\"legend\":{\"title\":{\"text\":\"code\"},\"tracegroupgap\":0},\"title\":{\"text\":\"Position By Lap\"}},                        {\"responsive\": true}                    ).then(function(){\n",
       "                            \n",
       "var gd = document.getElementById('51f04f7b-d9b6-4d24-b853-06f6c8d23f69');\n",
       "var x = new MutationObserver(function (mutations, observer) {{\n",
       "        var display = window.getComputedStyle(gd).display;\n",
       "        if (!display || display === 'none') {{\n",
       "            console.log([gd, 'removed!']);\n",
       "            Plotly.purge(gd);\n",
       "            observer.disconnect();\n",
       "        }}\n",
       "}});\n",
       "\n",
       "// Listen for the removal of the full notebook cells\n",
       "var notebookContainer = gd.closest('#notebook-container');\n",
       "if (notebookContainer) {{\n",
       "    x.observe(notebookContainer, {childList: true});\n",
       "}}\n",
       "\n",
       "// Listen for the clearing of the current output cell\n",
       "var outputEl = gd.closest('.output');\n",
       "if (outputEl) {{\n",
       "    x.observe(outputEl, {childList: true});\n",
       "}}\n",
       "\n",
       "                        })                };                });            </script>        </div>"
      ]
     },
     "metadata": {},
     "output_type": "display_data"
    }
   ],
   "source": [
    "fig = px.line(lap_driver, x=\"lap\", y=\"position\", color='code', labels={\n",
    "    \"position\":  \"Position\",\n",
    "    \"lap\": \"Lap\"\n",
    "}, title='Position By Lap', color_discrete_map=color_map)\n",
    "fig.show()"
   ]
  },
  {
   "cell_type": "markdown",
   "id": "4ca5e44b",
   "metadata": {
    "papermill": {
     "duration": 0.011363,
     "end_time": "2023-03-05T21:55:07.603638",
     "exception": false,
     "start_time": "2023-03-05T21:55:07.592275",
     "status": "completed"
    },
    "tags": []
   },
   "source": [
    "# Driver Standings"
   ]
  },
  {
   "cell_type": "code",
   "execution_count": 17,
   "id": "5e0c523d",
   "metadata": {
    "_kg_hide-input": true,
    "execution": {
     "iopub.execute_input": "2023-03-05T21:55:07.629656Z",
     "iopub.status.busy": "2023-03-05T21:55:07.629076Z",
     "iopub.status.idle": "2023-03-05T21:55:07.667876Z",
     "shell.execute_reply": "2023-03-05T21:55:07.666512Z"
    },
    "papermill": {
     "duration": 0.055187,
     "end_time": "2023-03-05T21:55:07.670380",
     "exception": false,
     "start_time": "2023-03-05T21:55:07.615193",
     "status": "completed"
    },
    "tags": []
   },
   "outputs": [
    {
     "data": {
      "text/html": [
       "<style type=\"text/css\">\n",
       "#T_78c21_row0_col1, #T_78c21_row1_col1, #T_78c21_row2_col1, #T_78c21_row3_col1, #T_78c21_row4_col1, #T_78c21_row5_col1, #T_78c21_row6_col1 {\n",
       "  background-color: #081d58;\n",
       "  color: #f1f1f1;\n",
       "}\n",
       "#T_78c21_row7_col1 {\n",
       "  background-color: #225da8;\n",
       "  color: #f1f1f1;\n",
       "}\n",
       "#T_78c21_row8_col1 {\n",
       "  background-color: #c6e9b4;\n",
       "  color: #000000;\n",
       "}\n",
       "#T_78c21_row9_col1, #T_78c21_row10_col1, #T_78c21_row11_col1, #T_78c21_row12_col1, #T_78c21_row13_col1, #T_78c21_row14_col1, #T_78c21_row15_col1, #T_78c21_row16_col1, #T_78c21_row17_col1, #T_78c21_row18_col1, #T_78c21_row19_col1 {\n",
       "  background-color: #ffffd9;\n",
       "  color: #000000;\n",
       "}\n",
       "</style>\n",
       "<table id=\"T_78c21_\">\n",
       "  <caption>Driver Standings</caption>\n",
       "  <thead>\n",
       "    <tr>\n",
       "      <th class=\"col_heading level0 col0\" >code</th>\n",
       "      <th class=\"col_heading level0 col1\" >points</th>\n",
       "    </tr>\n",
       "  </thead>\n",
       "  <tbody>\n",
       "    <tr>\n",
       "      <td id=\"T_78c21_row0_col0\" class=\"data row0 col0\" >LEC</td>\n",
       "      <td id=\"T_78c21_row0_col1\" class=\"data row0 col1\" >26.0</td>\n",
       "    </tr>\n",
       "    <tr>\n",
       "      <td id=\"T_78c21_row1_col0\" class=\"data row1 col0\" >SAI</td>\n",
       "      <td id=\"T_78c21_row1_col1\" class=\"data row1 col1\" >18.0</td>\n",
       "    </tr>\n",
       "    <tr>\n",
       "      <td id=\"T_78c21_row2_col0\" class=\"data row2 col0\" >HAM</td>\n",
       "      <td id=\"T_78c21_row2_col1\" class=\"data row2 col1\" >15.0</td>\n",
       "    </tr>\n",
       "    <tr>\n",
       "      <td id=\"T_78c21_row3_col0\" class=\"data row3 col0\" >RUS</td>\n",
       "      <td id=\"T_78c21_row3_col1\" class=\"data row3 col1\" >12.0</td>\n",
       "    </tr>\n",
       "    <tr>\n",
       "      <td id=\"T_78c21_row4_col0\" class=\"data row4 col0\" >MAG</td>\n",
       "      <td id=\"T_78c21_row4_col1\" class=\"data row4 col1\" >10.0</td>\n",
       "    </tr>\n",
       "    <tr>\n",
       "      <td id=\"T_78c21_row5_col0\" class=\"data row5 col0\" >BOT</td>\n",
       "      <td id=\"T_78c21_row5_col1\" class=\"data row5 col1\" >8.0</td>\n",
       "    </tr>\n",
       "    <tr>\n",
       "      <td id=\"T_78c21_row6_col0\" class=\"data row6 col0\" >OCO</td>\n",
       "      <td id=\"T_78c21_row6_col1\" class=\"data row6 col1\" >6.0</td>\n",
       "    </tr>\n",
       "    <tr>\n",
       "      <td id=\"T_78c21_row7_col0\" class=\"data row7 col0\" >TSU</td>\n",
       "      <td id=\"T_78c21_row7_col1\" class=\"data row7 col1\" >4.0</td>\n",
       "    </tr>\n",
       "    <tr>\n",
       "      <td id=\"T_78c21_row8_col0\" class=\"data row8 col0\" >ALO</td>\n",
       "      <td id=\"T_78c21_row8_col1\" class=\"data row8 col1\" >2.0</td>\n",
       "    </tr>\n",
       "    <tr>\n",
       "      <td id=\"T_78c21_row9_col0\" class=\"data row9 col0\" >ZHO</td>\n",
       "      <td id=\"T_78c21_row9_col1\" class=\"data row9 col1\" >1.0</td>\n",
       "    </tr>\n",
       "    <tr>\n",
       "      <td id=\"T_78c21_row10_col0\" class=\"data row10 col0\" >VER</td>\n",
       "      <td id=\"T_78c21_row10_col1\" class=\"data row10 col1\" >0.0</td>\n",
       "    </tr>\n",
       "    <tr>\n",
       "      <td id=\"T_78c21_row11_col0\" class=\"data row11 col0\" >MSC</td>\n",
       "      <td id=\"T_78c21_row11_col1\" class=\"data row11 col1\" >0.0</td>\n",
       "    </tr>\n",
       "    <tr>\n",
       "      <td id=\"T_78c21_row12_col0\" class=\"data row12 col0\" >STR</td>\n",
       "      <td id=\"T_78c21_row12_col1\" class=\"data row12 col1\" >0.0</td>\n",
       "    </tr>\n",
       "    <tr>\n",
       "      <td id=\"T_78c21_row13_col0\" class=\"data row13 col0\" >ALB</td>\n",
       "      <td id=\"T_78c21_row13_col1\" class=\"data row13 col1\" >0.0</td>\n",
       "    </tr>\n",
       "    <tr>\n",
       "      <td id=\"T_78c21_row14_col0\" class=\"data row14 col0\" >RIC</td>\n",
       "      <td id=\"T_78c21_row14_col1\" class=\"data row14 col1\" >0.0</td>\n",
       "    </tr>\n",
       "    <tr>\n",
       "      <td id=\"T_78c21_row15_col0\" class=\"data row15 col0\" >NOR</td>\n",
       "      <td id=\"T_78c21_row15_col1\" class=\"data row15 col1\" >0.0</td>\n",
       "    </tr>\n",
       "    <tr>\n",
       "      <td id=\"T_78c21_row16_col0\" class=\"data row16 col0\" >LAT</td>\n",
       "      <td id=\"T_78c21_row16_col1\" class=\"data row16 col1\" >0.0</td>\n",
       "    </tr>\n",
       "    <tr>\n",
       "      <td id=\"T_78c21_row17_col0\" class=\"data row17 col0\" >HUL</td>\n",
       "      <td id=\"T_78c21_row17_col1\" class=\"data row17 col1\" >0.0</td>\n",
       "    </tr>\n",
       "    <tr>\n",
       "      <td id=\"T_78c21_row18_col0\" class=\"data row18 col0\" >PER</td>\n",
       "      <td id=\"T_78c21_row18_col1\" class=\"data row18 col1\" >0.0</td>\n",
       "    </tr>\n",
       "    <tr>\n",
       "      <td id=\"T_78c21_row19_col0\" class=\"data row19 col0\" >GAS</td>\n",
       "      <td id=\"T_78c21_row19_col1\" class=\"data row19 col1\" >0.0</td>\n",
       "    </tr>\n",
       "  </tbody>\n",
       "</table>\n"
      ],
      "text/plain": [
       "<pandas.io.formats.style.Styler at 0x7f01155b4290>"
      ]
     },
     "execution_count": 17,
     "metadata": {},
     "output_type": "execute_result"
    }
   ],
   "source": [
    "drive_stand = driver_standings.merge(drivers, on='driverId', how='left', suffixes=('_1', '_2'))\n",
    "drive_stand_race = drive_stand[drive_stand['raceId'] == (current_raceid)]\n",
    "drive_stand_race  = drive_stand_race .sort_values(by='points', ascending=False)\n",
    "drive_stand_race[['code', 'points']].style.pipe(driver_stand)"
   ]
  },
  {
   "cell_type": "markdown",
   "id": "418f3e01",
   "metadata": {
    "papermill": {
     "duration": 0.011665,
     "end_time": "2023-03-05T21:55:07.693883",
     "exception": false,
     "start_time": "2023-03-05T21:55:07.682218",
     "status": "completed"
    },
    "tags": []
   },
   "source": [
    "# Constructor Standings"
   ]
  },
  {
   "cell_type": "code",
   "execution_count": 18,
   "id": "88927ebe",
   "metadata": {
    "_kg_hide-input": true,
    "execution": {
     "iopub.execute_input": "2023-03-05T21:55:07.719003Z",
     "iopub.status.busy": "2023-03-05T21:55:07.718611Z",
     "iopub.status.idle": "2023-03-05T21:55:07.730246Z",
     "shell.execute_reply": "2023-03-05T21:55:07.728950Z"
    },
    "papermill": {
     "duration": 0.027368,
     "end_time": "2023-03-05T21:55:07.732890",
     "exception": false,
     "start_time": "2023-03-05T21:55:07.705522",
     "status": "completed"
    },
    "tags": []
   },
   "outputs": [],
   "source": [
    "const_stand = constructor_standings.merge(constructors, on='constructorId', how='left', suffixes=('_1', '_2'))"
   ]
  },
  {
   "cell_type": "code",
   "execution_count": 19,
   "id": "2b049f37",
   "metadata": {
    "_kg_hide-input": true,
    "execution": {
     "iopub.execute_input": "2023-03-05T21:55:07.758180Z",
     "iopub.status.busy": "2023-03-05T21:55:07.757744Z",
     "iopub.status.idle": "2023-03-05T21:55:07.775647Z",
     "shell.execute_reply": "2023-03-05T21:55:07.774845Z"
    },
    "papermill": {
     "duration": 0.03335,
     "end_time": "2023-03-05T21:55:07.777956",
     "exception": false,
     "start_time": "2023-03-05T21:55:07.744606",
     "status": "completed"
    },
    "tags": []
   },
   "outputs": [
    {
     "data": {
      "text/html": [
       "<style type=\"text/css\">\n",
       "#T_05a57_row0_col1, #T_05a57_row1_col1, #T_05a57_row2_col1, #T_05a57_row3_col1, #T_05a57_row4_col1 {\n",
       "  background-color: #800026;\n",
       "  color: #f1f1f1;\n",
       "}\n",
       "#T_05a57_row5_col1 {\n",
       "  background-color: #e2191c;\n",
       "  color: #f1f1f1;\n",
       "}\n",
       "#T_05a57_row6_col1, #T_05a57_row7_col1, #T_05a57_row8_col1, #T_05a57_row9_col1 {\n",
       "  background-color: #ffffcc;\n",
       "  color: #000000;\n",
       "}\n",
       "</style>\n",
       "<table id=\"T_05a57_\">\n",
       "  <caption>Constructor Standings</caption>\n",
       "  <thead>\n",
       "    <tr>\n",
       "      <th class=\"col_heading level0 col0\" >name</th>\n",
       "      <th class=\"col_heading level0 col1\" >points</th>\n",
       "    </tr>\n",
       "  </thead>\n",
       "  <tbody>\n",
       "    <tr>\n",
       "      <td id=\"T_05a57_row0_col0\" class=\"data row0 col0\" >Ferrari</td>\n",
       "      <td id=\"T_05a57_row0_col1\" class=\"data row0 col1\" >44.0</td>\n",
       "    </tr>\n",
       "    <tr>\n",
       "      <td id=\"T_05a57_row1_col0\" class=\"data row1 col0\" >Mercedes</td>\n",
       "      <td id=\"T_05a57_row1_col1\" class=\"data row1 col1\" >27.0</td>\n",
       "    </tr>\n",
       "    <tr>\n",
       "      <td id=\"T_05a57_row2_col0\" class=\"data row2 col0\" >Haas F1 Team</td>\n",
       "      <td id=\"T_05a57_row2_col1\" class=\"data row2 col1\" >10.0</td>\n",
       "    </tr>\n",
       "    <tr>\n",
       "      <td id=\"T_05a57_row3_col0\" class=\"data row3 col0\" >Alfa Romeo</td>\n",
       "      <td id=\"T_05a57_row3_col1\" class=\"data row3 col1\" >9.0</td>\n",
       "    </tr>\n",
       "    <tr>\n",
       "      <td id=\"T_05a57_row4_col0\" class=\"data row4 col0\" >Alpine F1 Team</td>\n",
       "      <td id=\"T_05a57_row4_col1\" class=\"data row4 col1\" >8.0</td>\n",
       "    </tr>\n",
       "    <tr>\n",
       "      <td id=\"T_05a57_row5_col0\" class=\"data row5 col0\" >AlphaTauri</td>\n",
       "      <td id=\"T_05a57_row5_col1\" class=\"data row5 col1\" >4.0</td>\n",
       "    </tr>\n",
       "    <tr>\n",
       "      <td id=\"T_05a57_row6_col0\" class=\"data row6 col0\" >Red Bull</td>\n",
       "      <td id=\"T_05a57_row6_col1\" class=\"data row6 col1\" >0.0</td>\n",
       "    </tr>\n",
       "    <tr>\n",
       "      <td id=\"T_05a57_row7_col0\" class=\"data row7 col0\" >McLaren</td>\n",
       "      <td id=\"T_05a57_row7_col1\" class=\"data row7 col1\" >0.0</td>\n",
       "    </tr>\n",
       "    <tr>\n",
       "      <td id=\"T_05a57_row8_col0\" class=\"data row8 col0\" >Williams</td>\n",
       "      <td id=\"T_05a57_row8_col1\" class=\"data row8 col1\" >0.0</td>\n",
       "    </tr>\n",
       "    <tr>\n",
       "      <td id=\"T_05a57_row9_col0\" class=\"data row9 col0\" >Aston Martin</td>\n",
       "      <td id=\"T_05a57_row9_col1\" class=\"data row9 col1\" >0.0</td>\n",
       "    </tr>\n",
       "  </tbody>\n",
       "</table>\n"
      ],
      "text/plain": [
       "<pandas.io.formats.style.Styler at 0x7f0115440d50>"
      ]
     },
     "execution_count": 19,
     "metadata": {},
     "output_type": "execute_result"
    }
   ],
   "source": [
    "const_stand_race = const_stand[const_stand['raceId'] == (current_raceid)]\n",
    "const_stand_race = const_stand_race.sort_values(by='points', ascending=False)\n",
    "const_stand_race[['name', 'points']].style.pipe(const_standings)"
   ]
  },
  {
   "cell_type": "markdown",
   "id": "71b24a38",
   "metadata": {
    "papermill": {
     "duration": 0.011455,
     "end_time": "2023-03-05T21:55:07.801231",
     "exception": false,
     "start_time": "2023-03-05T21:55:07.789776",
     "status": "completed"
    },
    "tags": []
   },
   "source": [
    "# Sources\n",
    "\n",
    "- Shoutout to @VOPANI for creating this fantastic, clean, up to date F1 dataset\n",
    "- In some ways inspired by this [[notebook](https://www.kaggle.com/code/ekrembayar/formula-1-70th-anniversary)] on the same dataset"
   ]
  }
 ],
 "metadata": {
  "kernelspec": {
   "display_name": "Python 3",
   "language": "python",
   "name": "python3"
  },
  "language_info": {
   "codemirror_mode": {
    "name": "ipython",
    "version": 3
   },
   "file_extension": ".py",
   "mimetype": "text/x-python",
   "name": "python",
   "nbconvert_exporter": "python",
   "pygments_lexer": "ipython3",
   "version": "3.7.12"
  },
  "papermill": {
   "default_parameters": {},
   "duration": 32.719983,
   "end_time": "2023-03-05T21:55:08.735435",
   "environment_variables": {},
   "exception": null,
   "input_path": "__notebook__.ipynb",
   "output_path": "__notebook__.ipynb",
   "parameters": {},
   "start_time": "2023-03-05T21:54:36.015452",
   "version": "2.4.0"
  }
 },
 "nbformat": 4,
 "nbformat_minor": 5
}
