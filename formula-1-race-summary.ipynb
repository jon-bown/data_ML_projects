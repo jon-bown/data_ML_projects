{
 "cells": [
  {
   "cell_type": "markdown",
   "id": "1932c1d2",
   "metadata": {
    "papermill": {
     "duration": 0.017531,
     "end_time": "2023-11-21T00:33:26.370578",
     "exception": false,
     "start_time": "2023-11-21T00:33:26.353047",
     "status": "completed"
    },
    "tags": []
   },
   "source": [
    "<div align='center'>\n",
    "    <img src=\"https://www.raconteur.net/wp-content/uploads/2018/04/shutterstock_762930772.jpg\"/>\n",
    "</div>"
   ]
  },
  {
   "cell_type": "markdown",
   "id": "28827a01",
   "metadata": {
    "papermill": {
     "duration": 0.021099,
     "end_time": "2023-11-21T00:33:26.409738",
     "exception": false,
     "start_time": "2023-11-21T00:33:26.388639",
     "status": "completed"
    },
    "tags": []
   },
   "source": [
    "<style>\n",
    "@font-face {\n",
    "  font-family: F1;\n",
    "  src: url(https://www.formula1.com/etc/designs/fom-website/fonts/F1Regular/Formula1-Regular.ttf);\n",
    "}\n",
    "\n",
    "span{\n",
    "  font-family: F1;\n",
    "}\n",
    "\n",
    "a{\n",
    "  font-family: F1;\n",
    "}\n",
    "\n",
    ".nav-pills>li.active>a:focus {\n",
    "    color: #ffffff;\n",
    "    background-color: lightgray;\n",
    "}\n",
    "\n",
    ".container-fluid, .container-fluid h1 {\n",
    "    font-family: F1;\n",
    "    line-height: 1.7;\n",
    "}\n",
    "\n",
    ".container-fluid p {\n",
    "    font-family: F1;\n",
    "    color:black;\n",
    "}\n",
    "\n",
    "h1,h2,h3,h4,h5,h6,p, table {\n",
    "  font-family: F1;\n",
    "  color: black\n",
    "}\n",
    "</style>"
   ]
  },
  {
   "cell_type": "code",
   "execution_count": 1,
   "id": "e6279b6a",
   "metadata": {
    "_kg_hide-input": true,
    "_kg_hide-output": true,
    "execution": {
     "iopub.execute_input": "2023-11-21T00:33:26.448439Z",
     "iopub.status.busy": "2023-11-21T00:33:26.447474Z",
     "iopub.status.idle": "2023-11-21T00:33:26.468421Z",
     "shell.execute_reply": "2023-11-21T00:33:26.467123Z"
    },
    "papermill": {
     "duration": 0.042934,
     "end_time": "2023-11-21T00:33:26.471376",
     "exception": false,
     "start_time": "2023-11-21T00:33:26.428442",
     "status": "completed"
    },
    "tags": []
   },
   "outputs": [
    {
     "data": {
      "text/html": [
       "<style>\n",
       "@font-face {\n",
       "  font-family: F1;\n",
       "  src: url(https://www.formula1.com/etc/designs/fom-website/fonts/F1Regular/Formula1-Regular.ttf);\n",
       "}\n",
       "\n",
       "span{\n",
       "  font-family: F1;\n",
       "}\n",
       "\n",
       "a{\n",
       "  font-family: F1;\n",
       "}\n",
       "\n",
       ".nav-pills>li.active>a:focus {\n",
       "    color: #ffffff;\n",
       "    background-color: lightgray;\n",
       "}\n",
       "\n",
       ".container-fluid, .container-fluid h1 {\n",
       "    font-family: F1;\n",
       "    line-height: 1.7;\n",
       "}\n",
       "\n",
       ".container-fluid p {\n",
       "    font-family: F1;\n",
       "    color:black;\n",
       "}\n",
       "\n",
       "h1,h2,h3,h4,h5,h6,p, table {\n",
       "  font-family: F1;\n",
       "  color: black\n",
       "}\n",
       "</style>\n"
      ],
      "text/plain": [
       "<IPython.core.display.HTML object>"
      ]
     },
     "metadata": {},
     "output_type": "display_data"
    }
   ],
   "source": [
    "%%html\n",
    "<style>\n",
    "@font-face {\n",
    "  font-family: F1;\n",
    "  src: url(https://www.formula1.com/etc/designs/fom-website/fonts/F1Regular/Formula1-Regular.ttf);\n",
    "}\n",
    "\n",
    "span{\n",
    "  font-family: F1;\n",
    "}\n",
    "\n",
    "a{\n",
    "  font-family: F1;\n",
    "}\n",
    "\n",
    ".nav-pills>li.active>a:focus {\n",
    "    color: #ffffff;\n",
    "    background-color: lightgray;\n",
    "}\n",
    "\n",
    ".container-fluid, .container-fluid h1 {\n",
    "    font-family: F1;\n",
    "    line-height: 1.7;\n",
    "}\n",
    "\n",
    ".container-fluid p {\n",
    "    font-family: F1;\n",
    "    color:black;\n",
    "}\n",
    "\n",
    "h1,h2,h3,h4,h5,h6,p, table {\n",
    "  font-family: F1;\n",
    "  color: black\n",
    "}\n",
    "</style>"
   ]
  },
  {
   "cell_type": "markdown",
   "id": "0b0f2e74",
   "metadata": {
    "papermill": {
     "duration": 0.017686,
     "end_time": "2023-11-21T00:33:26.505820",
     "exception": false,
     "start_time": "2023-11-21T00:33:26.488134",
     "status": "completed"
    },
    "tags": []
   },
   "source": [
    "<div style=\"padding: 15px; \n",
    "            color: #FFFFFF;\n",
    "            margin: 5px;\n",
    "            font-size: 110%;\n",
    "            display: block;\n",
    "            border-radius: 5px;\n",
    "            border: 5px solid #FF1801;\n",
    "            background-color: #000000;\">\n",
    "    <center>\n",
    "        <a id=\"top\"></a>\n",
    "        <h3 style=\"margin-bottom: 20px; color: white;\">Table of Contents</h3>\n",
    "    </center>\n",
    "    <ol>\n",
    "        <li>Podium</li>\n",
    "        <li>Full Results</li>\n",
    "        <li>Qualifying</li>\n",
    "        <li>Sprint</li>\n",
    "        <li>Pit Stops</li>\n",
    "        <li>Lap Summary</li>\n",
    "        <li>Driver Standings</li>\n",
    "        <li>Constructor Race Performance</li>\n",
    "        <li>Constructor Standings</li>\n",
    "        <li>Sources</li>\n",
    "    </ol>\n",
    "</div>\n"
   ]
  },
  {
   "cell_type": "code",
   "execution_count": 2,
   "id": "f855ab07",
   "metadata": {
    "_kg_hide-input": true,
    "_kg_hide-output": true,
    "execution": {
     "iopub.execute_input": "2023-11-21T00:33:26.542020Z",
     "iopub.status.busy": "2023-11-21T00:33:26.541059Z",
     "iopub.status.idle": "2023-11-21T00:33:41.829662Z",
     "shell.execute_reply": "2023-11-21T00:33:41.827939Z"
    },
    "papermill": {
     "duration": 15.310676,
     "end_time": "2023-11-21T00:33:41.833037",
     "exception": false,
     "start_time": "2023-11-21T00:33:26.522361",
     "status": "completed"
    },
    "tags": []
   },
   "outputs": [
    {
     "name": "stdout",
     "output_type": "stream",
     "text": [
      "Collecting pyergast\r\n",
      "  Downloading pyErgast-0.1.0-py3-none-any.whl (10 kB)\r\n",
      "Requirement already satisfied: pandas<2.0.0,>=1.1.5 in /opt/conda/lib/python3.7/site-packages (from pyergast) (1.3.5)\r\n",
      "Requirement already satisfied: requests<3.0.0,>=2.25.0 in /opt/conda/lib/python3.7/site-packages (from pyergast) (2.28.2)\r\n",
      "Requirement already satisfied: numpy>=1.17.3 in /opt/conda/lib/python3.7/site-packages (from pandas<2.0.0,>=1.1.5->pyergast) (1.21.6)\r\n",
      "Requirement already satisfied: python-dateutil>=2.7.3 in /opt/conda/lib/python3.7/site-packages (from pandas<2.0.0,>=1.1.5->pyergast) (2.8.2)\r\n",
      "Requirement already satisfied: pytz>=2017.3 in /opt/conda/lib/python3.7/site-packages (from pandas<2.0.0,>=1.1.5->pyergast) (2022.7.1)\r\n",
      "Requirement already satisfied: certifi>=2017.4.17 in /opt/conda/lib/python3.7/site-packages (from requests<3.0.0,>=2.25.0->pyergast) (2022.12.7)\r\n",
      "Requirement already satisfied: charset-normalizer<4,>=2 in /opt/conda/lib/python3.7/site-packages (from requests<3.0.0,>=2.25.0->pyergast) (2.1.1)\r\n",
      "Requirement already satisfied: urllib3<1.27,>=1.21.1 in /opt/conda/lib/python3.7/site-packages (from requests<3.0.0,>=2.25.0->pyergast) (1.26.14)\r\n",
      "Requirement already satisfied: idna<4,>=2.5 in /opt/conda/lib/python3.7/site-packages (from requests<3.0.0,>=2.25.0->pyergast) (3.4)\r\n",
      "Requirement already satisfied: six>=1.5 in /opt/conda/lib/python3.7/site-packages (from python-dateutil>=2.7.3->pandas<2.0.0,>=1.1.5->pyergast) (1.16.0)\r\n",
      "Installing collected packages: pyergast\r\n",
      "Successfully installed pyergast-0.1.0\r\n",
      "\u001b[33mWARNING: Running pip as the 'root' user can result in broken permissions and conflicting behaviour with the system package manager. It is recommended to use a virtual environment instead: https://pip.pypa.io/warnings/venv\u001b[0m\u001b[33m\r\n",
      "\u001b[0m"
     ]
    }
   ],
   "source": [
    "!pip install pyergast"
   ]
  },
  {
   "cell_type": "code",
   "execution_count": 3,
   "id": "dbe7f5f5",
   "metadata": {
    "_cell_guid": "b1076dfc-b9ad-4769-8c92-a6c4dae69d19",
    "_kg_hide-input": true,
    "_uuid": "8f2839f25d086af736a60e9eeb907d3b93b6e0e5",
    "execution": {
     "iopub.execute_input": "2023-11-21T00:33:41.870894Z",
     "iopub.status.busy": "2023-11-21T00:33:41.869647Z",
     "iopub.status.idle": "2023-11-21T00:33:45.405902Z",
     "shell.execute_reply": "2023-11-21T00:33:45.404310Z"
    },
    "papermill": {
     "duration": 3.558701,
     "end_time": "2023-11-21T00:33:45.409077",
     "exception": false,
     "start_time": "2023-11-21T00:33:41.850376",
     "status": "completed"
    },
    "tags": []
   },
   "outputs": [],
   "source": [
    "import numpy as np\n",
    "import pandas as pd\n",
    "import datetime\n",
    "from datetime import date\n",
    "import os\n",
    "import seaborn as sns\n",
    "from IPython.display import Markdown as md\n",
    "import matplotlib.pyplot as plt\n",
    "import plotly.express as px\n",
    "from scipy import stats\n",
    "import plotly.graph_objects as go\n",
    "pd.set_option('display.precision', 1)\n",
    "from pyergast import pyergast\n",
    "import requests\n",
    "from plotly.offline import init_notebook_mode, iplot"
   ]
  },
  {
   "cell_type": "code",
   "execution_count": 4,
   "id": "0bbd8338",
   "metadata": {
    "_kg_hide-input": true,
    "execution": {
     "iopub.execute_input": "2023-11-21T00:33:45.446099Z",
     "iopub.status.busy": "2023-11-21T00:33:45.445665Z",
     "iopub.status.idle": "2023-11-21T00:33:45.479906Z",
     "shell.execute_reply": "2023-11-21T00:33:45.478530Z"
    },
    "papermill": {
     "duration": 0.056895,
     "end_time": "2023-11-21T00:33:45.483240",
     "exception": false,
     "start_time": "2023-11-21T00:33:45.426345",
     "status": "completed"
    },
    "tags": []
   },
   "outputs": [],
   "source": [
    "#NOT ALL API ENDPOINTS AVAILABLE IN PYTHON PACKAGE OR WORK CORRECTLY, NEED TO USE MY OWN FOR SOME\n",
    "def constructor_standings(year=None, race=None):\n",
    "    \"\"\"\n",
    "    Fetch the constructor standings after a specific race in a specific year. Defaults to latest standings\n",
    "    Parameters\n",
    "    ----------\n",
    "    year: int\n",
    "        An optional parameter that specifies the year to be queried.\n",
    "    race: int\n",
    "        An optional parameter that specifies the round of a year to be queried.\n",
    "    Returns\n",
    "    -------\n",
    "    pandas.DataFrame\n",
    "    Index:\n",
    "        RangeIndex\n",
    "    Columns:\n",
    "        position: int\n",
    "        positionText: str\n",
    "        points: int\n",
    "        wins: int\n",
    "        constructorID: str\n",
    "        constructor: str\n",
    "        nationality: str\n",
    "    Example\n",
    "    -------\n",
    "    >>> pyergast.constructor_standings(1965)\n",
    "       position positionText points wins    constructorID             name    nationality\n",
    "    0         1            1     54    6     lotus-climax     Lotus-Climax        British\n",
    "    1         2            2     45    3              brm              BRM        British\n",
    "    2         3            3     27    0   brabham-climax   Brabham-Climax        British\n",
    "    3         4            4     26    0          ferrari          Ferrari        Italian\n",
    "    4         5            5     14    0    cooper-climax    Cooper-Climax        British\n",
    "    5         6            6     11    1            honda            Honda       Japanese\n",
    "    6         7            7      5    0      brabham-brm      Brabham-BRM        British\n",
    "    7         8            8      2    0        lotus-brm        Lotus-BRM        British\n",
    "    8         9            9      0    0     brabham-ford     Brabham-Ford        British\n",
    "    9        10           10      0    0             alfa       Alfa Romeo        Italian\n",
    "    10       11           11      0    0   lds-alfa_romeo   LDS-Alfa Romeo  South African\n",
    "    11       12           12      0    0      cooper-ford      Cooper-Ford        British\n",
    "    12       13           13      0    0       lds-climax       LDS-Climax  South African\n",
    "    13       14           14      0    0       lotus-ford       Lotus-Ford        British\n",
    "    14       15           15      0    0               re               RE      Rhodesian\n",
    "    15       16           16      0    0  cooper-maserati  Cooper-Maserati        British\n",
    "    \"\"\"\n",
    "    if year and race:\n",
    "        assert year >= 1958, 'Constructor standings only available starting 1958'\n",
    "        url = 'http://ergast.com/api/f1/{}/{}/constructorStandings.json?limit=1000'.format(year, race)\n",
    "    elif year:\n",
    "        assert year >= 1958, 'Constructor standings only available starting 1958'\n",
    "        url = 'http://ergast.com/api/f1/{}/constructorStandings.json?limit=1000'.format(year, race)\n",
    "    else:\n",
    "        url = 'http://ergast.com/api/f1/current/constructorStandings.json?limit=1000'\n",
    "\n",
    "    r = requests.get(url)\n",
    "    assert r.status_code == 200, 'Cannot connect to Ergast API. Check your inputs.'\n",
    "    output = r.json()\n",
    "    try:\n",
    "        constructorStandings = output['MRData']['StandingsTable']['StandingsLists'][0]['ConstructorStandings']\n",
    "    except:\n",
    "        return pd.DataFrame()\n",
    "\n",
    "    for constructor in constructorStandings:\n",
    "        constructor['constructorID'] = constructor['Constructor']['constructorId']\n",
    "        constructor['name'] = constructor['Constructor']['name']\n",
    "        constructor['nationality'] = constructor['Constructor']['nationality']\n",
    "        del constructor['Constructor']\n",
    "\n",
    "    return pd.DataFrame(constructorStandings)\n",
    "\n",
    "\n",
    "\n",
    "def get_pit_stops(year=None, race=None):\n",
    "    \"\"\"\n",
    "    \"\"\"\n",
    "    if year and race:\n",
    "        url = 'http://ergast.com/api/f1/{}/{}/pitstops.json?limit=1000'.format(year, race)\n",
    "    r = requests.get(url)\n",
    "\n",
    "    assert r.status_code == 200, 'Cannot connect to Ergast API'\n",
    "    drivers = r.json()\n",
    "    try:\n",
    "        result = pd.DataFrame(drivers[\"MRData\"][\"RaceTable\"][\"Races\"][0][\"PitStops\"])\n",
    "    except:\n",
    "        return pd.DataFrame()\n",
    "\n",
    "    return result\n",
    "\n",
    "\n",
    "def get_round(year=None, race=None):\n",
    "    \"\"\"\n",
    "    \"\"\"\n",
    "    if year and race:\n",
    "        url = 'http://ergast.com/api/f1/{}/{}/pitstops.json?limit=1000'.format(year, race)\n",
    "    r = requests.get(url)\n",
    "\n",
    "    assert r.status_code == 200, 'Cannot connect to Ergast API'\n",
    "    drivers = r.json()\n",
    "    try:\n",
    "        result = pd.DataFrame(drivers[\"MRData\"][\"RaceTable\"][\"Races\"][0][\"PitStops\"])\n",
    "    except:\n",
    "        return pd.DataFrame()\n",
    "\n",
    "    return result\n",
    "\n",
    "def get_lap_times(year=None, race=None):\n",
    "    \"\"\"\n",
    "    \"\"\"\n",
    "    if year and race:\n",
    "        url = 'http://ergast.com/api/f1/{}/{}/laps.json?limit=1000'.format(year, race)\n",
    "    r = requests.get(url)\n",
    "\n",
    "    assert r.status_code == 200, 'Cannot connect to Ergast API'\n",
    "    drivers = r.json()\n",
    "    try:\n",
    "        result = pd.DataFrame(drivers[\"MRData\"][\"RaceTable\"][\"Races\"][0][\"Laps\"])\n",
    "    except:\n",
    "        return pd.DataFrame()\n",
    "    lap_df = pd.DataFrame()\n",
    "    for lap in result.number.unique():\n",
    "        temp_df = pd.DataFrame(result[result['number'] == lap].Timings.iloc[0])\n",
    "        temp_df['lap'] = lap\n",
    "        lap_df = pd.concat([lap_df, temp_df], ignore_index=True, axis=0)\n",
    "\n",
    "    return lap_df\n",
    "\n",
    "def get_last_round():\n",
    "    \"\"\"\n",
    "    \"\"\"\n",
    "    url = 'http://ergast.com/api/f1/current/last/results.json?limit=1000'\n",
    "    r = requests.get(url)\n",
    "\n",
    "    assert r.status_code == 200, 'Cannot connect to Ergast API'\n",
    "    drivers = r.json()\n",
    "    try:\n",
    "        result = drivers[\"MRData\"][\"RaceTable\"][\"round\"]\n",
    "    except:\n",
    "        return pd.DataFrame()\n",
    "   \n",
    "\n",
    "    return int(result)\n",
    "\n",
    "\n",
    "def get_sprint_results(year=None, race=None):\n",
    "    \"\"\"\n",
    "    Get results of sprint, return empty dataframe if no sprint results available\n",
    "    \"\"\"\n",
    "    if year and race:\n",
    "        url = f'http://ergast.com/api/f1/{year}/{race}/sprint.json?limit=1000'\n",
    "    r = requests.get(url)\n",
    "\n",
    "    assert r.status_code == 200, 'Cannot connect to Ergast API'\n",
    "    drivers = r.json()\n",
    "    try:\n",
    "        result = pd.DataFrame(drivers[\"MRData\"][\"RaceTable\"][\"Races\"][0][\"SprintResults\"])\n",
    "        result['driverID'] = result['Driver'].apply(lambda x: x['driverId'])\n",
    "        result['Driver'] = result['Driver'].apply(lambda x: x['code'])\n",
    "        result['constructorId'] = result['Constructor'].apply(lambda x: x['constructorId'])\n",
    "    except:\n",
    "        return pd.DataFrame()\n",
    "\n",
    "    return result"
   ]
  },
  {
   "cell_type": "code",
   "execution_count": 5,
   "id": "7b2496c9",
   "metadata": {
    "_kg_hide-input": true,
    "_kg_hide-output": true,
    "execution": {
     "iopub.execute_input": "2023-11-21T00:33:45.519505Z",
     "iopub.status.busy": "2023-11-21T00:33:45.519080Z",
     "iopub.status.idle": "2023-11-21T00:34:01.509697Z",
     "shell.execute_reply": "2023-11-21T00:34:01.508255Z"
    },
    "papermill": {
     "duration": 16.012381,
     "end_time": "2023-11-21T00:34:01.512817",
     "exception": false,
     "start_time": "2023-11-21T00:33:45.500436",
     "status": "completed"
    },
    "tags": []
   },
   "outputs": [],
   "source": [
    "#DATA CLEANING\n",
    "##INITIAL PARAMETERS\n",
    "my_date = date.today()\n",
    "year, week_num, day_of_week = my_date.isocalendar()\n",
    "race = get_last_round()\n",
    "\n",
    "#RACE RESULTS\n",
    "race_result = pyergast.get_race_result()\n",
    "race_result['points'] = race_result.points.astype(float)\n",
    "circuits = pyergast.get_circuits()\n",
    "\n",
    "#CONSTRUCTORS\n",
    "constructor_overall = constructor_standings(year=year)\n",
    "const_ov_emp = constructor_overall.empty\n",
    "if not const_ov_emp:\n",
    "    constructor_overall['points'] = constructor_overall.points.astype(float)\n",
    "constructor_results = constructor_standings(year=year, race=race)\n",
    "const_re_emp = constructor_results.empty\n",
    "if not const_re_emp:\n",
    "    constructor_results['points'] = constructor_results.points.astype(float)\n",
    "constructors = pyergast.get_constructors()\n",
    "\n",
    "#DRIVERS\n",
    "drivers = pyergast.get_drivers(year=year)\n",
    "drivers_2 = pd.read_csv('/kaggle/input/formula-1-world-championship-1950-2020/drivers.csv')\n",
    "drivers_2 ['Driver'] = drivers_2['code']\n",
    "drivers_2['driverID'] = drivers_2['driverRef']\n",
    "drivers['driverID'] = drivers['driverId']\n",
    "drivers_full = drivers.merge(drivers_2, on='driverID', how='left', suffixes=('_1', '_2'))\n",
    "driver_standings = pyergast.driver_standings()\n",
    "\n",
    "#LAPS\n",
    "lap_times = get_lap_times(year, race)\n",
    "lap_tim_emp = lap_times.empty\n",
    "if not lap_tim_emp:\n",
    "    lap_times['driverID'] = lap_times['driverId']\n",
    "    lap_times['lap'] = lap_times['lap'].astype(int)\n",
    "    \n",
    "#PIT STOPS\n",
    "pit_stops = get_pit_stops(year, race)\n",
    "pit_stop_emp = pit_stops.empty\n",
    "if not pit_stop_emp:\n",
    "    pit_stops['driverID'] = pit_stops['driverId']\n",
    "    \n",
    "#QUALIFYING\n",
    "qualifying = pyergast.get_qualifying_result()\n",
    "\n",
    "#SPRINT RESULTS\n",
    "sprint_results = get_sprint_results(year=year, race=race)\n",
    "SPRINT_EMPTY = sprint_results.empty\n",
    "\n",
    "#SCHEDULE\n",
    "schedule = pyergast.get_schedule()\n",
    "schedule['round'] = schedule['round'].astype(float)"
   ]
  },
  {
   "cell_type": "code",
   "execution_count": 6,
   "id": "025c76b8",
   "metadata": {
    "_kg_hide-input": true,
    "execution": {
     "iopub.execute_input": "2023-11-21T00:34:01.549434Z",
     "iopub.status.busy": "2023-11-21T00:34:01.548610Z",
     "iopub.status.idle": "2023-11-21T00:34:01.615392Z",
     "shell.execute_reply": "2023-11-21T00:34:01.614047Z"
    },
    "papermill": {
     "duration": 0.088912,
     "end_time": "2023-11-21T00:34:01.618981",
     "exception": false,
     "start_time": "2023-11-21T00:34:01.530069",
     "status": "completed"
    },
    "tags": []
   },
   "outputs": [],
   "source": [
    "#Helpers\n",
    "def get_sec(time_str):\n",
    "    \"\"\"Get seconds from time.\"\"\"\n",
    "    if (time_str != '\\\\N' or not time_str):\n",
    "        m, s = str(time_str).split(':')\n",
    "        return float(m) * 60 + float(s)\n",
    "    \n",
    "def get_sec3(time_str):\n",
    "    \"\"\"Get seconds from time.\"\"\"\n",
    "    if (time_str != '\\\\N' or not time_str):\n",
    "        h, m, s = str(time_str).split(':')\n",
    "        return float(h)*3600 + float(m) * 60 + float(s)\n",
    "    \n",
    "def time_to_seconds(time_str):\n",
    "    if (time_str != '\\\\N' or not time_str):\n",
    "        time_str = str(time_str)\n",
    "        if time_str == '':\n",
    "            return None\n",
    "        parts = time_str.split(':')\n",
    "        if len(parts) == 1:\n",
    "            # s.mill format\n",
    "            return float(parts[0])\n",
    "        elif len(parts) == 2:\n",
    "            # minute:seconds.milliseconds format\n",
    "            minutes = int(parts[0])\n",
    "            seconds = float(parts[1])\n",
    "            return minutes * 60 + seconds\n",
    "        elif len(parts) == 3:\n",
    "            # hour:minute:seconds.milliseconds format\n",
    "            hours = int(parts[0])\n",
    "            minutes = int(parts[1])\n",
    "            seconds = float(parts[2])\n",
    "            return hours * 3600 + minutes * 60 + seconds\n",
    "        else:\n",
    "            raise ValueError(\"Invalid time format\")\n",
    "\n",
    "def convert_time_end(row):\n",
    "    return row['time_date'] + datetime.timedelta(0, row['duration'])\n",
    "\n",
    "#Colors\n",
    "constructor_color_map = {\n",
    "        'Williams': '#00A0DE',\n",
    "        'Alfa Romeo': '#A42134',\n",
    "        'AlphaTauri': '#20394C',\n",
    "        'Red Bull': '#000B8D',\n",
    "        'Mercedes': '#00A19B',\n",
    "        'Haas F1 Team': '#E6002B',\n",
    "          'Aston Martin': '#002420', \n",
    "          'Ferrari': '#EF1A2D',\n",
    "          'Alpine F1 Team': '#2173B8',\n",
    "        'McLaren': '#FF8000' \n",
    "}\n",
    "\n",
    "def build_driver_col_map(row):\n",
    "    const = row['constructor']\n",
    "    \n",
    "    color = constructor_color_map[const]\n",
    "    row['driverColor'] = color\n",
    "    row['Driver'] = drivers_full.loc[drivers_full['driverID'] == row['driverID']]['Driver'].values[0]\n",
    "    return row\n",
    "\n",
    "race_result = race_result.apply(build_driver_col_map, axis=1)\n",
    "\n",
    "unique_df = race_result.drop_duplicates(subset='Driver', keep='last')\n",
    "color_map = dict(zip(unique_df['Driver'], unique_df['driverColor']))\n",
    "\n",
    "race_result.drop(columns=['Driver'], inplace=True)"
   ]
  },
  {
   "cell_type": "code",
   "execution_count": 7,
   "id": "65368165",
   "metadata": {
    "_kg_hide-input": true,
    "execution": {
     "iopub.execute_input": "2023-11-21T00:34:01.655594Z",
     "iopub.status.busy": "2023-11-21T00:34:01.654669Z",
     "iopub.status.idle": "2023-11-21T00:34:09.522589Z",
     "shell.execute_reply": "2023-11-21T00:34:09.520810Z"
    },
    "papermill": {
     "duration": 7.890068,
     "end_time": "2023-11-21T00:34:09.525979",
     "exception": false,
     "start_time": "2023-11-21T00:34:01.635911",
     "status": "completed"
    },
    "tags": []
   },
   "outputs": [],
   "source": [
    "# DATA CLEANING\n",
    "if not lap_tim_emp:\n",
    "    lap_times['duration'] = lap_times['time'].apply(get_sec)\n",
    "    lap_times['red_flag'] = 0\n",
    "    lap_times.loc[lap_times['duration'] > 300.0, 'red_flag'] = 1\n",
    "\n",
    "\n",
    "current_circuit = schedule[schedule['round'] == race].circuitID.values[0]\n",
    "current_race_name = schedule[schedule['round'] == race].circuitName.values[0]\n",
    "current_race_date = schedule[schedule['round'] == race].date.values[0]\n",
    "\n",
    "\n",
    "#DRIVER/LAP\n",
    "if not lap_tim_emp:\n",
    "    lap_driver = lap_times.merge(drivers_full, on='driverID', how='left', suffixes=('_1', '_2'))\n",
    "    lap_driver['lap'] = lap_driver.lap.astype(float)\n",
    "    lap_driver = lap_driver[lap_driver['red_flag'] == 0].copy()\n",
    "    lap_driver_no = lap_driver[(stats.zscore(lap_driver['duration'])) <1]\n",
    "    lap_driver['position'] = lap_driver['position'].astype(int)\n",
    "\n",
    "\n",
    "#RESULTS\n",
    "num_laps = max(race_result['laps'].astype(int))\n",
    "merged = race_result.merge(drivers_full, on='driverID', how='left', suffixes=('_1', '_2'))\n",
    "res_race_laps = merged.copy()\n",
    "res_race_laps['laps'] = 0\n",
    "reduced = res_race_laps[['laps', 'grid', 'Driver']]\n",
    "reduced.columns = ['laps', 'position', 'Driver']\n",
    "reduced_res = pd.concat([reduced, merged[['laps', 'position', 'Driver']]], axis=0)\n",
    "reduced_res['laps'] = reduced_res['laps'].astype(int)\n",
    "reduced_res['last_lap'] = 0\n",
    "reduced_res['Driver'] = reduced_res['Driver'].astype(str)\n",
    "##Add flag for non-finishers\n",
    "for driver in color_map.keys():\n",
    "    temp = reduced_res[reduced_res['Driver'] == driver]\n",
    "    max_driver_laps = max(temp['laps'])\n",
    "    if max_driver_laps < num_laps:\n",
    "        #This driver didn't finish\n",
    "        reduced_res.loc[(reduced_res['Driver'] == driver) & (reduced_res['laps'] == max_driver_laps), 'last_lap'] = 1\n",
    "\n",
    "#CONSTRUCTORS\n",
    "constructor_results = pd.DataFrame()\n",
    "for i in range(1, race+1):\n",
    "    if i == 1:\n",
    "        constructor_results = constructor_standings(year=year, race=i)\n",
    "        constructor_results['race'] = i\n",
    "    else:\n",
    "        temp = constructor_standings(year=year, race=i)\n",
    "        temp['race'] = i\n",
    "        constructor_results = pd.concat([constructor_results, temp], axis=0)\n",
    "constructor_results['points'] = constructor_results['points'].astype(float)\n",
    "\n",
    "\n",
    "\n",
    "track = circuits[circuits['circuitId'] == current_circuit]\n",
    "track_lat = track['Latitude'].values[0]\n",
    "track_lng = track['Longtitude'].values[0]\n",
    "\n",
    "\n",
    "#PODIIUM\n",
    "res_race_lap_status_pod = race_result[race_result['position'] != '\\\\N'].copy()\n",
    "res_race_lap_status_pod = res_race_lap_status_pod.merge(drivers_full, on='driverID', how='left', suffixes=('_1', '_2'))\n",
    "res_race_lap_status_pod['position'] = res_race_lap_status_pod['position'].astype(int)\n",
    "res_race_lap_status_pod = res_race_lap_status_pod.sort_values(by='position')\n",
    "\n",
    "\n",
    "#PIT STOPS\n",
    "if not pit_stop_emp:\n",
    "    pit_stops['duration'] = pit_stops['duration'].apply(lambda x: time_to_seconds(x))\n",
    "    pit_stops['duration'] = pit_stops['duration'].astype(float)\n",
    "    pit_stops['red_flag'] = (pit_stops['duration'] > 600.0).astype(int)\n",
    "##PIT STOP DURATIONS\n",
    "    pit_stops['time_stamp'] = current_race_date + ' ' + pit_stops['time']\n",
    "    pit_stops['time_date'] = pd.to_datetime(pit_stops['time_stamp'])\n",
    "    pit_stops['time_end_date'] = pit_stops.apply(lambda x: convert_time_end(x), axis=1)\n",
    "#MERGE WITH DRIVERS\n",
    "    driver_group = pd.DataFrame()\n",
    "    pit_stops = pit_stops.merge(drivers_full, on='driverID', how='left', suffixes=('_1', '_2'))\n",
    "    mean = pit_stops[pit_stops['red_flag'] == 0].groupby(['Driver'])['duration'].mean()\n",
    "    mini = pit_stops[pit_stops['red_flag'] == 0].groupby(['Driver'])['duration'].min()\n",
    "    maxi = pit_stops[pit_stops['red_flag'] == 0].groupby(['Driver'])['duration'].max()\n",
    "    driver_group['mean'] = mean\n",
    "    driver_group['max'] = maxi\n",
    "    driver_group['min'] = mini\n",
    "    driver_group = driver_group.sort_values(by=\"max\")\n",
    "    driver_group['Driver'] = maxi.index\n",
    "\n",
    "# QUALIFYING & FINISHING\n",
    "qualifying = qualifying.fillna('\\\\N')\n",
    "qualifying['q1_dur'] = qualifying['Q1'].apply(time_to_seconds)\n",
    "qualifying['q2_dur'] = qualifying['Q2'].apply(time_to_seconds)\n",
    "qualifying['q3_dur'] = qualifying['Q3'].apply(time_to_seconds)\n",
    "qualifying['max_time'] = qualifying.apply(lambda x: max(x['q1_dur'], x['q2_dur'], x['q3_dur']), axis=1)\n",
    "qualifying['min_time'] = qualifying.apply(lambda x: min(x['q1_dur'], x['q2_dur'], x['q3_dur']), axis=1)\n",
    "max_time = max(qualifying['max_time']) + 1\n",
    "min_time = min(qualifying['min_time']) - 1\n",
    "if max_time > (min_time+15):\n",
    "    max_time = min_time+15\n",
    "qualifying = qualifying.merge(drivers_full, on='driverID', how='left', suffixes=('_1', '_2'))\n",
    "\n",
    "#SPRINT\n",
    "if not SPRINT_EMPTY:\n",
    "    sprint_results['points'] = sprint_results['points'].astype(float)\n",
    "    sprint_results['position'] = sprint_results['position'].astype(int)\n",
    "    sprint_results['grid'] = sprint_results['grid'].astype(int)\n",
    "\n",
    "\n",
    "    num_sprint_laps = max(sprint_results['laps'].astype(int))\n",
    "    #merged = race_result.merge(drivers_full, on='driverID', how='left', suffixes=('_1', '_2'))\n",
    "    sp_res_race_laps = sprint_results.copy()\n",
    "    sp_res_race_laps['laps'] = 0\n",
    "    sp_reduced = sp_res_race_laps[['laps', 'grid', 'Driver']]\n",
    "    sp_reduced.columns = ['laps', 'position', 'Driver']\n",
    "    sp_reduced_res = pd.concat([sp_reduced, sprint_results[['laps', 'position', 'Driver']]], axis=0)\n",
    "    sp_reduced_res['laps'] = sp_reduced_res['laps'].astype(int)\n",
    "    sp_reduced_res['last_lap'] = 0\n",
    "    sp_reduced_res['Driver'] = sp_reduced_res['Driver'].astype(str)\n",
    "    for driver in color_map.keys():\n",
    "        temp = sp_reduced_res[sp_reduced_res['Driver'] == driver]\n",
    "        max_driver_laps = max(temp['laps'])\n",
    "        if max_driver_laps < num_sprint_laps:\n",
    "            #This driver didn't finish\n",
    "            sp_reduced_res.loc[(sp_reduced_res['Driver'] == driver) & (sp_reduced_res['laps'] == max_driver_laps), 'last_lap'] = 1\n"
   ]
  },
  {
   "cell_type": "code",
   "execution_count": 8,
   "id": "b850e691",
   "metadata": {
    "_kg_hide-input": true,
    "execution": {
     "iopub.execute_input": "2023-11-21T00:34:09.563033Z",
     "iopub.status.busy": "2023-11-21T00:34:09.562610Z",
     "iopub.status.idle": "2023-11-21T00:34:09.570741Z",
     "shell.execute_reply": "2023-11-21T00:34:09.569423Z"
    },
    "papermill": {
     "duration": 0.030548,
     "end_time": "2023-11-21T00:34:09.573995",
     "exception": false,
     "start_time": "2023-11-21T00:34:09.543447",
     "status": "completed"
    },
    "tags": []
   },
   "outputs": [
    {
     "data": {
      "text/markdown": [
       "# <div style='background:#FF1801; border:0; color:black; box-shadow: 10px 10px 5px 0px rgba(0,0,0,0.75); transform: rotateX(10deg);'><h1 style='padding: 10px; margin: 0; text-align:center;'><span style='font-size: 38px;'>Las Vegas Strip Street Circuit, 2023 Data Summary</span></h1></div>"
      ],
      "text/plain": [
       "<IPython.core.display.Markdown object>"
      ]
     },
     "metadata": {},
     "output_type": "display_data"
    }
   ],
   "source": [
    "display(md(f\"# <div style='background:#FF1801; border:0; color:black; box-shadow: 10px 10px 5px 0px rgba(0,0,0,0.75); transform: rotateX(10deg);'><h1 style='padding: 10px; margin: 0; text-align:center;'><span style='font-size: 38px;'>{current_race_name}, {year} Data Summary</span></h1></div>\"))"
   ]
  },
  {
   "cell_type": "code",
   "execution_count": 9,
   "id": "f15788fc",
   "metadata": {
    "_kg_hide-input": true,
    "_kg_hide-output": true,
    "execution": {
     "iopub.execute_input": "2023-11-21T00:34:09.610160Z",
     "iopub.status.busy": "2023-11-21T00:34:09.609715Z",
     "iopub.status.idle": "2023-11-21T00:34:24.259342Z",
     "shell.execute_reply": "2023-11-21T00:34:24.258203Z"
    },
    "papermill": {
     "duration": 14.671463,
     "end_time": "2023-11-21T00:34:24.262441",
     "exception": false,
     "start_time": "2023-11-21T00:34:09.590978",
     "status": "completed"
    },
    "tags": []
   },
   "outputs": [
    {
     "name": "stdout",
     "output_type": "stream",
     "text": [
      "Collecting gmplot\r\n",
      "  Downloading gmplot-1.4.1-py3-none-any.whl (164 kB)\r\n",
      "\u001b[2K     \u001b[90m━━━━━━━━━━━━━━━━━━━━━━━━━━━━━━━━━━━━━━━\u001b[0m \u001b[32m164.7/164.7 kB\u001b[0m \u001b[31m7.3 MB/s\u001b[0m eta \u001b[36m0:00:00\u001b[0m\r\n",
      "\u001b[?25hRequirement already satisfied: requests in /opt/conda/lib/python3.7/site-packages (from gmplot) (2.28.2)\r\n",
      "Requirement already satisfied: certifi>=2017.4.17 in /opt/conda/lib/python3.7/site-packages (from requests->gmplot) (2022.12.7)\r\n",
      "Requirement already satisfied: charset-normalizer<4,>=2 in /opt/conda/lib/python3.7/site-packages (from requests->gmplot) (2.1.1)\r\n",
      "Requirement already satisfied: urllib3<1.27,>=1.21.1 in /opt/conda/lib/python3.7/site-packages (from requests->gmplot) (1.26.14)\r\n",
      "Requirement already satisfied: idna<4,>=2.5 in /opt/conda/lib/python3.7/site-packages (from requests->gmplot) (3.4)\r\n",
      "Installing collected packages: gmplot\r\n",
      "Successfully installed gmplot-1.4.1\r\n",
      "\u001b[33mWARNING: Running pip as the 'root' user can result in broken permissions and conflicting behaviour with the system package manager. It is recommended to use a virtual environment instead: https://pip.pypa.io/warnings/venv\u001b[0m\u001b[33m\r\n",
      "\u001b[0m"
     ]
    }
   ],
   "source": [
    "!pip install gmplot"
   ]
  },
  {
   "cell_type": "code",
   "execution_count": 10,
   "id": "77610665",
   "metadata": {
    "_kg_hide-input": true,
    "execution": {
     "iopub.execute_input": "2023-11-21T00:34:24.300981Z",
     "iopub.status.busy": "2023-11-21T00:34:24.299988Z",
     "iopub.status.idle": "2023-11-21T00:34:26.118405Z",
     "shell.execute_reply": "2023-11-21T00:34:26.117070Z"
    },
    "papermill": {
     "duration": 1.840824,
     "end_time": "2023-11-21T00:34:26.121250",
     "exception": false,
     "start_time": "2023-11-21T00:34:24.280426",
     "status": "completed"
    },
    "tags": []
   },
   "outputs": [
    {
     "data": {
      "text/html": [
       "        <script type=\"text/javascript\">\n",
       "        window.PlotlyConfig = {MathJaxConfig: 'local'};\n",
       "        if (window.MathJax && window.MathJax.Hub && window.MathJax.Hub.Config) {window.MathJax.Hub.Config({SVG: {font: \"STIX-Web\"}});}\n",
       "        if (typeof require !== 'undefined') {\n",
       "        require.undef(\"plotly\");\n",
       "        requirejs.config({\n",
       "            paths: {\n",
       "                'plotly': ['https://cdn.plot.ly/plotly-2.18.0.min']\n",
       "            }\n",
       "        });\n",
       "        require(['plotly'], function(Plotly) {\n",
       "            window._Plotly = Plotly;\n",
       "        });\n",
       "        }\n",
       "        </script>\n",
       "        "
      ]
     },
     "metadata": {},
     "output_type": "display_data"
    },
    {
     "data": {
      "text/html": [
       "<div>                            <div id=\"4d6135e9-ca64-4909-a89e-2044fbae1569\" class=\"plotly-graph-div\" style=\"height:300px; width:100%;\"></div>            <script type=\"text/javascript\">                require([\"plotly\"], function(Plotly) {                    window.PLOTLYENV=window.PLOTLYENV || {};                                    if (document.getElementById(\"4d6135e9-ca64-4909-a89e-2044fbae1569\")) {                    Plotly.newPlot(                        \"4d6135e9-ca64-4909-a89e-2044fbae1569\",                        [{\"hovertemplate\":\"Latitude=%{lat}<br>Longtitude=%{lon}<extra></extra>\",\"lat\":[\"36.1147\"],\"legendgroup\":\"\",\"lon\":[\"-115.173\"],\"marker\":{\"color\":\"fuchsia\"},\"mode\":\"markers\",\"name\":\"\",\"showlegend\":false,\"subplot\":\"mapbox\",\"type\":\"scattermapbox\"}],                        {\"template\":{\"data\":{\"histogram2dcontour\":[{\"type\":\"histogram2dcontour\",\"colorbar\":{\"outlinewidth\":0,\"ticks\":\"\"},\"colorscale\":[[0.0,\"#0d0887\"],[0.1111111111111111,\"#46039f\"],[0.2222222222222222,\"#7201a8\"],[0.3333333333333333,\"#9c179e\"],[0.4444444444444444,\"#bd3786\"],[0.5555555555555556,\"#d8576b\"],[0.6666666666666666,\"#ed7953\"],[0.7777777777777778,\"#fb9f3a\"],[0.8888888888888888,\"#fdca26\"],[1.0,\"#f0f921\"]]}],\"choropleth\":[{\"type\":\"choropleth\",\"colorbar\":{\"outlinewidth\":0,\"ticks\":\"\"}}],\"histogram2d\":[{\"type\":\"histogram2d\",\"colorbar\":{\"outlinewidth\":0,\"ticks\":\"\"},\"colorscale\":[[0.0,\"#0d0887\"],[0.1111111111111111,\"#46039f\"],[0.2222222222222222,\"#7201a8\"],[0.3333333333333333,\"#9c179e\"],[0.4444444444444444,\"#bd3786\"],[0.5555555555555556,\"#d8576b\"],[0.6666666666666666,\"#ed7953\"],[0.7777777777777778,\"#fb9f3a\"],[0.8888888888888888,\"#fdca26\"],[1.0,\"#f0f921\"]]}],\"heatmap\":[{\"type\":\"heatmap\",\"colorbar\":{\"outlinewidth\":0,\"ticks\":\"\"},\"colorscale\":[[0.0,\"#0d0887\"],[0.1111111111111111,\"#46039f\"],[0.2222222222222222,\"#7201a8\"],[0.3333333333333333,\"#9c179e\"],[0.4444444444444444,\"#bd3786\"],[0.5555555555555556,\"#d8576b\"],[0.6666666666666666,\"#ed7953\"],[0.7777777777777778,\"#fb9f3a\"],[0.8888888888888888,\"#fdca26\"],[1.0,\"#f0f921\"]]}],\"heatmapgl\":[{\"type\":\"heatmapgl\",\"colorbar\":{\"outlinewidth\":0,\"ticks\":\"\"},\"colorscale\":[[0.0,\"#0d0887\"],[0.1111111111111111,\"#46039f\"],[0.2222222222222222,\"#7201a8\"],[0.3333333333333333,\"#9c179e\"],[0.4444444444444444,\"#bd3786\"],[0.5555555555555556,\"#d8576b\"],[0.6666666666666666,\"#ed7953\"],[0.7777777777777778,\"#fb9f3a\"],[0.8888888888888888,\"#fdca26\"],[1.0,\"#f0f921\"]]}],\"contourcarpet\":[{\"type\":\"contourcarpet\",\"colorbar\":{\"outlinewidth\":0,\"ticks\":\"\"}}],\"contour\":[{\"type\":\"contour\",\"colorbar\":{\"outlinewidth\":0,\"ticks\":\"\"},\"colorscale\":[[0.0,\"#0d0887\"],[0.1111111111111111,\"#46039f\"],[0.2222222222222222,\"#7201a8\"],[0.3333333333333333,\"#9c179e\"],[0.4444444444444444,\"#bd3786\"],[0.5555555555555556,\"#d8576b\"],[0.6666666666666666,\"#ed7953\"],[0.7777777777777778,\"#fb9f3a\"],[0.8888888888888888,\"#fdca26\"],[1.0,\"#f0f921\"]]}],\"surface\":[{\"type\":\"surface\",\"colorbar\":{\"outlinewidth\":0,\"ticks\":\"\"},\"colorscale\":[[0.0,\"#0d0887\"],[0.1111111111111111,\"#46039f\"],[0.2222222222222222,\"#7201a8\"],[0.3333333333333333,\"#9c179e\"],[0.4444444444444444,\"#bd3786\"],[0.5555555555555556,\"#d8576b\"],[0.6666666666666666,\"#ed7953\"],[0.7777777777777778,\"#fb9f3a\"],[0.8888888888888888,\"#fdca26\"],[1.0,\"#f0f921\"]]}],\"mesh3d\":[{\"type\":\"mesh3d\",\"colorbar\":{\"outlinewidth\":0,\"ticks\":\"\"}}],\"scatter\":[{\"fillpattern\":{\"fillmode\":\"overlay\",\"size\":10,\"solidity\":0.2},\"type\":\"scatter\"}],\"parcoords\":[{\"type\":\"parcoords\",\"line\":{\"colorbar\":{\"outlinewidth\":0,\"ticks\":\"\"}}}],\"scatterpolargl\":[{\"type\":\"scatterpolargl\",\"marker\":{\"colorbar\":{\"outlinewidth\":0,\"ticks\":\"\"}}}],\"bar\":[{\"error_x\":{\"color\":\"#2a3f5f\"},\"error_y\":{\"color\":\"#2a3f5f\"},\"marker\":{\"line\":{\"color\":\"#E5ECF6\",\"width\":0.5},\"pattern\":{\"fillmode\":\"overlay\",\"size\":10,\"solidity\":0.2}},\"type\":\"bar\"}],\"scattergeo\":[{\"type\":\"scattergeo\",\"marker\":{\"colorbar\":{\"outlinewidth\":0,\"ticks\":\"\"}}}],\"scatterpolar\":[{\"type\":\"scatterpolar\",\"marker\":{\"colorbar\":{\"outlinewidth\":0,\"ticks\":\"\"}}}],\"histogram\":[{\"marker\":{\"pattern\":{\"fillmode\":\"overlay\",\"size\":10,\"solidity\":0.2}},\"type\":\"histogram\"}],\"scattergl\":[{\"type\":\"scattergl\",\"marker\":{\"colorbar\":{\"outlinewidth\":0,\"ticks\":\"\"}}}],\"scatter3d\":[{\"type\":\"scatter3d\",\"line\":{\"colorbar\":{\"outlinewidth\":0,\"ticks\":\"\"}},\"marker\":{\"colorbar\":{\"outlinewidth\":0,\"ticks\":\"\"}}}],\"scattermapbox\":[{\"type\":\"scattermapbox\",\"marker\":{\"colorbar\":{\"outlinewidth\":0,\"ticks\":\"\"}}}],\"scatterternary\":[{\"type\":\"scatterternary\",\"marker\":{\"colorbar\":{\"outlinewidth\":0,\"ticks\":\"\"}}}],\"scattercarpet\":[{\"type\":\"scattercarpet\",\"marker\":{\"colorbar\":{\"outlinewidth\":0,\"ticks\":\"\"}}}],\"carpet\":[{\"aaxis\":{\"endlinecolor\":\"#2a3f5f\",\"gridcolor\":\"white\",\"linecolor\":\"white\",\"minorgridcolor\":\"white\",\"startlinecolor\":\"#2a3f5f\"},\"baxis\":{\"endlinecolor\":\"#2a3f5f\",\"gridcolor\":\"white\",\"linecolor\":\"white\",\"minorgridcolor\":\"white\",\"startlinecolor\":\"#2a3f5f\"},\"type\":\"carpet\"}],\"table\":[{\"cells\":{\"fill\":{\"color\":\"#EBF0F8\"},\"line\":{\"color\":\"white\"}},\"header\":{\"fill\":{\"color\":\"#C8D4E3\"},\"line\":{\"color\":\"white\"}},\"type\":\"table\"}],\"barpolar\":[{\"marker\":{\"line\":{\"color\":\"#E5ECF6\",\"width\":0.5},\"pattern\":{\"fillmode\":\"overlay\",\"size\":10,\"solidity\":0.2}},\"type\":\"barpolar\"}],\"pie\":[{\"automargin\":true,\"type\":\"pie\"}]},\"layout\":{\"autotypenumbers\":\"strict\",\"colorway\":[\"#636efa\",\"#EF553B\",\"#00cc96\",\"#ab63fa\",\"#FFA15A\",\"#19d3f3\",\"#FF6692\",\"#B6E880\",\"#FF97FF\",\"#FECB52\"],\"font\":{\"color\":\"#2a3f5f\"},\"hovermode\":\"closest\",\"hoverlabel\":{\"align\":\"left\"},\"paper_bgcolor\":\"white\",\"plot_bgcolor\":\"#E5ECF6\",\"polar\":{\"bgcolor\":\"#E5ECF6\",\"angularaxis\":{\"gridcolor\":\"white\",\"linecolor\":\"white\",\"ticks\":\"\"},\"radialaxis\":{\"gridcolor\":\"white\",\"linecolor\":\"white\",\"ticks\":\"\"}},\"ternary\":{\"bgcolor\":\"#E5ECF6\",\"aaxis\":{\"gridcolor\":\"white\",\"linecolor\":\"white\",\"ticks\":\"\"},\"baxis\":{\"gridcolor\":\"white\",\"linecolor\":\"white\",\"ticks\":\"\"},\"caxis\":{\"gridcolor\":\"white\",\"linecolor\":\"white\",\"ticks\":\"\"}},\"coloraxis\":{\"colorbar\":{\"outlinewidth\":0,\"ticks\":\"\"}},\"colorscale\":{\"sequential\":[[0.0,\"#0d0887\"],[0.1111111111111111,\"#46039f\"],[0.2222222222222222,\"#7201a8\"],[0.3333333333333333,\"#9c179e\"],[0.4444444444444444,\"#bd3786\"],[0.5555555555555556,\"#d8576b\"],[0.6666666666666666,\"#ed7953\"],[0.7777777777777778,\"#fb9f3a\"],[0.8888888888888888,\"#fdca26\"],[1.0,\"#f0f921\"]],\"sequentialminus\":[[0.0,\"#0d0887\"],[0.1111111111111111,\"#46039f\"],[0.2222222222222222,\"#7201a8\"],[0.3333333333333333,\"#9c179e\"],[0.4444444444444444,\"#bd3786\"],[0.5555555555555556,\"#d8576b\"],[0.6666666666666666,\"#ed7953\"],[0.7777777777777778,\"#fb9f3a\"],[0.8888888888888888,\"#fdca26\"],[1.0,\"#f0f921\"]],\"diverging\":[[0,\"#8e0152\"],[0.1,\"#c51b7d\"],[0.2,\"#de77ae\"],[0.3,\"#f1b6da\"],[0.4,\"#fde0ef\"],[0.5,\"#f7f7f7\"],[0.6,\"#e6f5d0\"],[0.7,\"#b8e186\"],[0.8,\"#7fbc41\"],[0.9,\"#4d9221\"],[1,\"#276419\"]]},\"xaxis\":{\"gridcolor\":\"white\",\"linecolor\":\"white\",\"ticks\":\"\",\"title\":{\"standoff\":15},\"zerolinecolor\":\"white\",\"automargin\":true,\"zerolinewidth\":2},\"yaxis\":{\"gridcolor\":\"white\",\"linecolor\":\"white\",\"ticks\":\"\",\"title\":{\"standoff\":15},\"zerolinecolor\":\"white\",\"automargin\":true,\"zerolinewidth\":2},\"scene\":{\"xaxis\":{\"backgroundcolor\":\"#E5ECF6\",\"gridcolor\":\"white\",\"linecolor\":\"white\",\"showbackground\":true,\"ticks\":\"\",\"zerolinecolor\":\"white\",\"gridwidth\":2},\"yaxis\":{\"backgroundcolor\":\"#E5ECF6\",\"gridcolor\":\"white\",\"linecolor\":\"white\",\"showbackground\":true,\"ticks\":\"\",\"zerolinecolor\":\"white\",\"gridwidth\":2},\"zaxis\":{\"backgroundcolor\":\"#E5ECF6\",\"gridcolor\":\"white\",\"linecolor\":\"white\",\"showbackground\":true,\"ticks\":\"\",\"zerolinecolor\":\"white\",\"gridwidth\":2}},\"shapedefaults\":{\"line\":{\"color\":\"#2a3f5f\"}},\"annotationdefaults\":{\"arrowcolor\":\"#2a3f5f\",\"arrowhead\":0,\"arrowwidth\":1},\"geo\":{\"bgcolor\":\"white\",\"landcolor\":\"#E5ECF6\",\"subunitcolor\":\"white\",\"showland\":true,\"showlakes\":true,\"lakecolor\":\"white\"},\"title\":{\"x\":0.05},\"mapbox\":{\"style\":\"light\"}}},\"mapbox\":{\"domain\":{\"x\":[0.0,1.0],\"y\":[0.0,1.0]},\"center\":{\"lat\":36.1147,\"lon\":-115.173},\"zoom\":12,\"style\":\"open-street-map\"},\"legend\":{\"tracegroupgap\":0},\"margin\":{\"t\":0,\"r\":0,\"l\":0,\"b\":0},\"height\":300},                        {\"responsive\": true}                    ).then(function(){\n",
       "                            \n",
       "var gd = document.getElementById('4d6135e9-ca64-4909-a89e-2044fbae1569');\n",
       "var x = new MutationObserver(function (mutations, observer) {{\n",
       "        var display = window.getComputedStyle(gd).display;\n",
       "        if (!display || display === 'none') {{\n",
       "            console.log([gd, 'removed!']);\n",
       "            Plotly.purge(gd);\n",
       "            observer.disconnect();\n",
       "        }}\n",
       "}});\n",
       "\n",
       "// Listen for the removal of the full notebook cells\n",
       "var notebookContainer = gd.closest('#notebook-container');\n",
       "if (notebookContainer) {{\n",
       "    x.observe(notebookContainer, {childList: true});\n",
       "}}\n",
       "\n",
       "// Listen for the clearing of the current output cell\n",
       "var outputEl = gd.closest('.output');\n",
       "if (outputEl) {{\n",
       "    x.observe(outputEl, {childList: true});\n",
       "}}\n",
       "\n",
       "                        })                };                });            </script>        </div>"
      ]
     },
     "metadata": {},
     "output_type": "display_data"
    }
   ],
   "source": [
    "fig = px.scatter_mapbox(track, lat=\"Latitude\", lon=\"Longtitude\",\n",
    "                        color_discrete_sequence=[\"fuchsia\"], zoom=12, height=300)\n",
    "fig.update_layout(mapbox_style=\"open-street-map\")\n",
    "fig.update_layout(margin={\"r\":0,\"t\":0,\"l\":0,\"b\":0})\n",
    "fig.show()"
   ]
  },
  {
   "cell_type": "code",
   "execution_count": 11,
   "id": "fc0d5998",
   "metadata": {
    "_kg_hide-input": true,
    "execution": {
     "iopub.execute_input": "2023-11-21T00:34:26.159675Z",
     "iopub.status.busy": "2023-11-21T00:34:26.159190Z",
     "iopub.status.idle": "2023-11-21T00:34:26.167828Z",
     "shell.execute_reply": "2023-11-21T00:34:26.166579Z"
    },
    "papermill": {
     "duration": 0.030943,
     "end_time": "2023-11-21T00:34:26.170546",
     "exception": false,
     "start_time": "2023-11-21T00:34:26.139603",
     "status": "completed"
    },
    "tags": []
   },
   "outputs": [
    {
     "data": {
      "text/markdown": [
       "# <div style='background:#FF1801; border:0; color:black; box-shadow: 10px 10px 5px 0px rgba(0,0,0,0.75); transform: rotateX(10deg);'><h1 style='padding: 10px; margin: 0; text-align:center;'><span style='font-size: 30px;'>Podium</span></h1></div>"
      ],
      "text/plain": [
       "<IPython.core.display.Markdown object>"
      ]
     },
     "metadata": {},
     "output_type": "display_data"
    }
   ],
   "source": [
    "display(md(f\"# <div style='background:#FF1801; border:0; color:black; box-shadow: 10px 10px 5px 0px rgba(0,0,0,0.75); transform: rotateX(10deg);'><h1 style='padding: 10px; margin: 0; text-align:center;'><span style='font-size: 30px;'>Podium</span></h1></div>\"))"
   ]
  },
  {
   "cell_type": "code",
   "execution_count": 12,
   "id": "06a23957",
   "metadata": {
    "_kg_hide-input": true,
    "execution": {
     "iopub.execute_input": "2023-11-21T00:34:26.210023Z",
     "iopub.status.busy": "2023-11-21T00:34:26.209537Z",
     "iopub.status.idle": "2023-11-21T00:34:26.222057Z",
     "shell.execute_reply": "2023-11-21T00:34:26.220997Z"
    },
    "papermill": {
     "duration": 0.03535,
     "end_time": "2023-11-21T00:34:26.224826",
     "exception": false,
     "start_time": "2023-11-21T00:34:26.189476",
     "status": "completed"
    },
    "tags": []
   },
   "outputs": [],
   "source": [
    "# Styling\n",
    "def podium(styler):\n",
    "    styler.set_caption(\"Podium Results\")\n",
    "    styler.background_gradient(axis=None, vmin=1, vmax=5, cmap=\"YlGnBu\")\n",
    "    styler.hide_index()\n",
    "   # styler.format({'points': \"{.1f}\"})\n",
    "    return styler\n",
    "\n",
    "\n",
    "def results_style(styler):\n",
    "    styler.set_caption(\"Race Results\")\n",
    "    styler.background_gradient(axis=None, vmin=1, vmax=5, cmap=\"YlGnBu\")\n",
    "    styler.hide_index()\n",
    "    return styler\n",
    "\n",
    "def sprint_results_style(styler):\n",
    "    styler.set_caption(\"Sprint Results\")\n",
    "    styler.background_gradient(axis=None, vmin=1, vmax=5, cmap=\"YlGnBu\")\n",
    "    styler.hide_index()\n",
    "    return styler\n",
    "\n",
    "def driver_stand(styler):\n",
    "    styler.set_caption(\"Driver Standings\")\n",
    "    styler.background_gradient(axis=None, vmin=1, vmax=5, cmap=\"YlGnBu\")\n",
    "    styler.hide_index()\n",
    "    return styler\n",
    "\n",
    "def const_standings(styler):\n",
    "    styler.set_caption(\"Constructor Standings\")\n",
    "    styler.background_gradient(axis=None, vmin=1, vmax=5, cmap=\"YlOrRd\")\n",
    "    styler.hide_index()\n",
    "    return styler"
   ]
  },
  {
   "cell_type": "code",
   "execution_count": 13,
   "id": "be291da6",
   "metadata": {
    "_kg_hide-input": true,
    "execution": {
     "iopub.execute_input": "2023-11-21T00:34:26.264671Z",
     "iopub.status.busy": "2023-11-21T00:34:26.263399Z",
     "iopub.status.idle": "2023-11-21T00:34:26.375973Z",
     "shell.execute_reply": "2023-11-21T00:34:26.374619Z"
    },
    "papermill": {
     "duration": 0.135832,
     "end_time": "2023-11-21T00:34:26.379004",
     "exception": false,
     "start_time": "2023-11-21T00:34:26.243172",
     "status": "completed"
    },
    "tags": []
   },
   "outputs": [
    {
     "data": {
      "text/html": [
       "<style type=\"text/css\">\n",
       "#T_21d72_row0_col2 {\n",
       "  background-color: #ffffd9;\n",
       "  color: #000000;\n",
       "}\n",
       "#T_21d72_row0_col3, #T_21d72_row1_col3, #T_21d72_row2_col3 {\n",
       "  background-color: #081d58;\n",
       "  color: #f1f1f1;\n",
       "}\n",
       "#T_21d72_row1_col2 {\n",
       "  background-color: #c6e9b4;\n",
       "  color: #000000;\n",
       "}\n",
       "#T_21d72_row2_col2 {\n",
       "  background-color: #40b5c4;\n",
       "  color: #f1f1f1;\n",
       "}\n",
       "</style>\n",
       "<table id=\"T_21d72_\">\n",
       "  <caption>Podium Results</caption>\n",
       "  <thead>\n",
       "    <tr>\n",
       "      <th class=\"col_heading level0 col0\" >Driver</th>\n",
       "      <th class=\"col_heading level0 col1\" >grid</th>\n",
       "      <th class=\"col_heading level0 col2\" >position</th>\n",
       "      <th class=\"col_heading level0 col3\" >points</th>\n",
       "    </tr>\n",
       "  </thead>\n",
       "  <tbody>\n",
       "    <tr>\n",
       "      <td id=\"T_21d72_row0_col0\" class=\"data row0 col0\" >VER</td>\n",
       "      <td id=\"T_21d72_row0_col1\" class=\"data row0 col1\" >2</td>\n",
       "      <td id=\"T_21d72_row0_col2\" class=\"data row0 col2\" >1</td>\n",
       "      <td id=\"T_21d72_row0_col3\" class=\"data row0 col3\" >25.0</td>\n",
       "    </tr>\n",
       "    <tr>\n",
       "      <td id=\"T_21d72_row1_col0\" class=\"data row1 col0\" >LEC</td>\n",
       "      <td id=\"T_21d72_row1_col1\" class=\"data row1 col1\" >1</td>\n",
       "      <td id=\"T_21d72_row1_col2\" class=\"data row1 col2\" >2</td>\n",
       "      <td id=\"T_21d72_row1_col3\" class=\"data row1 col3\" >18.0</td>\n",
       "    </tr>\n",
       "    <tr>\n",
       "      <td id=\"T_21d72_row2_col0\" class=\"data row2 col0\" >PER</td>\n",
       "      <td id=\"T_21d72_row2_col1\" class=\"data row2 col1\" >11</td>\n",
       "      <td id=\"T_21d72_row2_col2\" class=\"data row2 col2\" >3</td>\n",
       "      <td id=\"T_21d72_row2_col3\" class=\"data row2 col3\" >15.0</td>\n",
       "    </tr>\n",
       "  </tbody>\n",
       "</table>\n"
      ],
      "text/plain": [
       "<pandas.io.formats.style.Styler at 0x7c862e574ed0>"
      ]
     },
     "execution_count": 13,
     "metadata": {},
     "output_type": "execute_result"
    }
   ],
   "source": [
    "res_race_lap_status_pod[['Driver', 'grid', 'position', 'points']].iloc[:3].style.pipe(podium)"
   ]
  },
  {
   "cell_type": "code",
   "execution_count": 14,
   "id": "92afe8a6",
   "metadata": {
    "_kg_hide-input": true,
    "execution": {
     "iopub.execute_input": "2023-11-21T00:34:26.418386Z",
     "iopub.status.busy": "2023-11-21T00:34:26.417512Z",
     "iopub.status.idle": "2023-11-21T00:34:26.426173Z",
     "shell.execute_reply": "2023-11-21T00:34:26.424910Z"
    },
    "papermill": {
     "duration": 0.031457,
     "end_time": "2023-11-21T00:34:26.428934",
     "exception": false,
     "start_time": "2023-11-21T00:34:26.397477",
     "status": "completed"
    },
    "tags": []
   },
   "outputs": [
    {
     "data": {
      "text/markdown": [
       "# <div style='background:#FF1801; border:0; color:black; box-shadow: 10px 10px 5px 0px rgba(0,0,0,0.75); transform: rotateX(10deg);'><h1 style='padding: 10px; margin: 0; text-align:center;'><span style='font-size: 30px;'>Full Results</span></h1></div>"
      ],
      "text/plain": [
       "<IPython.core.display.Markdown object>"
      ]
     },
     "metadata": {},
     "output_type": "display_data"
    }
   ],
   "source": [
    "display(md(f\"# <div style='background:#FF1801; border:0; color:black; box-shadow: 10px 10px 5px 0px rgba(0,0,0,0.75); transform: rotateX(10deg);'><h1 style='padding: 10px; margin: 0; text-align:center;'><span style='font-size: 30px;'>Full Results</span></h1></div>\"))"
   ]
  },
  {
   "cell_type": "code",
   "execution_count": 15,
   "id": "be651051",
   "metadata": {
    "_kg_hide-input": true,
    "execution": {
     "iopub.execute_input": "2023-11-21T00:34:26.468662Z",
     "iopub.status.busy": "2023-11-21T00:34:26.467795Z",
     "iopub.status.idle": "2023-11-21T00:34:26.490402Z",
     "shell.execute_reply": "2023-11-21T00:34:26.489017Z"
    },
    "papermill": {
     "duration": 0.045657,
     "end_time": "2023-11-21T00:34:26.493218",
     "exception": false,
     "start_time": "2023-11-21T00:34:26.447561",
     "status": "completed"
    },
    "tags": []
   },
   "outputs": [
    {
     "data": {
      "text/html": [
       "<style type=\"text/css\">\n",
       "#T_e2ff2_row0_col2, #T_e2ff2_row10_col3, #T_e2ff2_row11_col3, #T_e2ff2_row12_col3, #T_e2ff2_row13_col3, #T_e2ff2_row14_col3, #T_e2ff2_row15_col3, #T_e2ff2_row16_col3, #T_e2ff2_row17_col3, #T_e2ff2_row18_col3, #T_e2ff2_row19_col3 {\n",
       "  background-color: #ffffd9;\n",
       "  color: #000000;\n",
       "}\n",
       "#T_e2ff2_row0_col3, #T_e2ff2_row1_col3, #T_e2ff2_row2_col3, #T_e2ff2_row3_col3, #T_e2ff2_row4_col2, #T_e2ff2_row4_col3, #T_e2ff2_row5_col2, #T_e2ff2_row5_col3, #T_e2ff2_row6_col2, #T_e2ff2_row6_col3, #T_e2ff2_row7_col2, #T_e2ff2_row8_col2, #T_e2ff2_row9_col2, #T_e2ff2_row10_col2, #T_e2ff2_row11_col2, #T_e2ff2_row12_col2, #T_e2ff2_row13_col2, #T_e2ff2_row14_col2, #T_e2ff2_row15_col2, #T_e2ff2_row16_col2, #T_e2ff2_row17_col2, #T_e2ff2_row18_col2, #T_e2ff2_row19_col2 {\n",
       "  background-color: #081d58;\n",
       "  color: #f1f1f1;\n",
       "}\n",
       "#T_e2ff2_row1_col2, #T_e2ff2_row8_col3, #T_e2ff2_row9_col3 {\n",
       "  background-color: #c6e9b4;\n",
       "  color: #000000;\n",
       "}\n",
       "#T_e2ff2_row2_col2 {\n",
       "  background-color: #40b5c4;\n",
       "  color: #f1f1f1;\n",
       "}\n",
       "#T_e2ff2_row3_col2, #T_e2ff2_row7_col3 {\n",
       "  background-color: #225da8;\n",
       "  color: #f1f1f1;\n",
       "}\n",
       "</style>\n",
       "<table id=\"T_e2ff2_\">\n",
       "  <caption>Race Results</caption>\n",
       "  <thead>\n",
       "    <tr>\n",
       "      <th class=\"col_heading level0 col0\" >Driver</th>\n",
       "      <th class=\"col_heading level0 col1\" >grid</th>\n",
       "      <th class=\"col_heading level0 col2\" >position</th>\n",
       "      <th class=\"col_heading level0 col3\" >points</th>\n",
       "      <th class=\"col_heading level0 col4\" >status</th>\n",
       "    </tr>\n",
       "  </thead>\n",
       "  <tbody>\n",
       "    <tr>\n",
       "      <td id=\"T_e2ff2_row0_col0\" class=\"data row0 col0\" >VER</td>\n",
       "      <td id=\"T_e2ff2_row0_col1\" class=\"data row0 col1\" >2</td>\n",
       "      <td id=\"T_e2ff2_row0_col2\" class=\"data row0 col2\" >1</td>\n",
       "      <td id=\"T_e2ff2_row0_col3\" class=\"data row0 col3\" >25.0</td>\n",
       "      <td id=\"T_e2ff2_row0_col4\" class=\"data row0 col4\" >Finished</td>\n",
       "    </tr>\n",
       "    <tr>\n",
       "      <td id=\"T_e2ff2_row1_col0\" class=\"data row1 col0\" >LEC</td>\n",
       "      <td id=\"T_e2ff2_row1_col1\" class=\"data row1 col1\" >1</td>\n",
       "      <td id=\"T_e2ff2_row1_col2\" class=\"data row1 col2\" >2</td>\n",
       "      <td id=\"T_e2ff2_row1_col3\" class=\"data row1 col3\" >18.0</td>\n",
       "      <td id=\"T_e2ff2_row1_col4\" class=\"data row1 col4\" >Finished</td>\n",
       "    </tr>\n",
       "    <tr>\n",
       "      <td id=\"T_e2ff2_row2_col0\" class=\"data row2 col0\" >PER</td>\n",
       "      <td id=\"T_e2ff2_row2_col1\" class=\"data row2 col1\" >11</td>\n",
       "      <td id=\"T_e2ff2_row2_col2\" class=\"data row2 col2\" >3</td>\n",
       "      <td id=\"T_e2ff2_row2_col3\" class=\"data row2 col3\" >15.0</td>\n",
       "      <td id=\"T_e2ff2_row2_col4\" class=\"data row2 col4\" >Finished</td>\n",
       "    </tr>\n",
       "    <tr>\n",
       "      <td id=\"T_e2ff2_row3_col0\" class=\"data row3 col0\" >OCO</td>\n",
       "      <td id=\"T_e2ff2_row3_col1\" class=\"data row3 col1\" >16</td>\n",
       "      <td id=\"T_e2ff2_row3_col2\" class=\"data row3 col2\" >4</td>\n",
       "      <td id=\"T_e2ff2_row3_col3\" class=\"data row3 col3\" >12.0</td>\n",
       "      <td id=\"T_e2ff2_row3_col4\" class=\"data row3 col4\" >Finished</td>\n",
       "    </tr>\n",
       "    <tr>\n",
       "      <td id=\"T_e2ff2_row4_col0\" class=\"data row4 col0\" >STR</td>\n",
       "      <td id=\"T_e2ff2_row4_col1\" class=\"data row4 col1\" >19</td>\n",
       "      <td id=\"T_e2ff2_row4_col2\" class=\"data row4 col2\" >5</td>\n",
       "      <td id=\"T_e2ff2_row4_col3\" class=\"data row4 col3\" >10.0</td>\n",
       "      <td id=\"T_e2ff2_row4_col4\" class=\"data row4 col4\" >Finished</td>\n",
       "    </tr>\n",
       "    <tr>\n",
       "      <td id=\"T_e2ff2_row5_col0\" class=\"data row5 col0\" >SAI</td>\n",
       "      <td id=\"T_e2ff2_row5_col1\" class=\"data row5 col1\" >12</td>\n",
       "      <td id=\"T_e2ff2_row5_col2\" class=\"data row5 col2\" >6</td>\n",
       "      <td id=\"T_e2ff2_row5_col3\" class=\"data row5 col3\" >8.0</td>\n",
       "      <td id=\"T_e2ff2_row5_col4\" class=\"data row5 col4\" >Finished</td>\n",
       "    </tr>\n",
       "    <tr>\n",
       "      <td id=\"T_e2ff2_row6_col0\" class=\"data row6 col0\" >HAM</td>\n",
       "      <td id=\"T_e2ff2_row6_col1\" class=\"data row6 col1\" >10</td>\n",
       "      <td id=\"T_e2ff2_row6_col2\" class=\"data row6 col2\" >7</td>\n",
       "      <td id=\"T_e2ff2_row6_col3\" class=\"data row6 col3\" >6.0</td>\n",
       "      <td id=\"T_e2ff2_row6_col4\" class=\"data row6 col4\" >Finished</td>\n",
       "    </tr>\n",
       "    <tr>\n",
       "      <td id=\"T_e2ff2_row7_col0\" class=\"data row7 col0\" >RUS</td>\n",
       "      <td id=\"T_e2ff2_row7_col1\" class=\"data row7 col1\" >3</td>\n",
       "      <td id=\"T_e2ff2_row7_col2\" class=\"data row7 col2\" >8</td>\n",
       "      <td id=\"T_e2ff2_row7_col3\" class=\"data row7 col3\" >4.0</td>\n",
       "      <td id=\"T_e2ff2_row7_col4\" class=\"data row7 col4\" >Finished</td>\n",
       "    </tr>\n",
       "    <tr>\n",
       "      <td id=\"T_e2ff2_row8_col0\" class=\"data row8 col0\" >ALO</td>\n",
       "      <td id=\"T_e2ff2_row8_col1\" class=\"data row8 col1\" >9</td>\n",
       "      <td id=\"T_e2ff2_row8_col2\" class=\"data row8 col2\" >9</td>\n",
       "      <td id=\"T_e2ff2_row8_col3\" class=\"data row8 col3\" >2.0</td>\n",
       "      <td id=\"T_e2ff2_row8_col4\" class=\"data row8 col4\" >Finished</td>\n",
       "    </tr>\n",
       "    <tr>\n",
       "      <td id=\"T_e2ff2_row9_col0\" class=\"data row9 col0\" >PIA</td>\n",
       "      <td id=\"T_e2ff2_row9_col1\" class=\"data row9 col1\" >18</td>\n",
       "      <td id=\"T_e2ff2_row9_col2\" class=\"data row9 col2\" >10</td>\n",
       "      <td id=\"T_e2ff2_row9_col3\" class=\"data row9 col3\" >2.0</td>\n",
       "      <td id=\"T_e2ff2_row9_col4\" class=\"data row9 col4\" >Finished</td>\n",
       "    </tr>\n",
       "    <tr>\n",
       "      <td id=\"T_e2ff2_row10_col0\" class=\"data row10 col0\" >GAS</td>\n",
       "      <td id=\"T_e2ff2_row10_col1\" class=\"data row10 col1\" >4</td>\n",
       "      <td id=\"T_e2ff2_row10_col2\" class=\"data row10 col2\" >11</td>\n",
       "      <td id=\"T_e2ff2_row10_col3\" class=\"data row10 col3\" >0.0</td>\n",
       "      <td id=\"T_e2ff2_row10_col4\" class=\"data row10 col4\" >Finished</td>\n",
       "    </tr>\n",
       "    <tr>\n",
       "      <td id=\"T_e2ff2_row11_col0\" class=\"data row11 col0\" >ALB</td>\n",
       "      <td id=\"T_e2ff2_row11_col1\" class=\"data row11 col1\" >5</td>\n",
       "      <td id=\"T_e2ff2_row11_col2\" class=\"data row11 col2\" >12</td>\n",
       "      <td id=\"T_e2ff2_row11_col3\" class=\"data row11 col3\" >0.0</td>\n",
       "      <td id=\"T_e2ff2_row11_col4\" class=\"data row11 col4\" >Finished</td>\n",
       "    </tr>\n",
       "    <tr>\n",
       "      <td id=\"T_e2ff2_row12_col0\" class=\"data row12 col0\" >MAG</td>\n",
       "      <td id=\"T_e2ff2_row12_col1\" class=\"data row12 col1\" >8</td>\n",
       "      <td id=\"T_e2ff2_row12_col2\" class=\"data row12 col2\" >13</td>\n",
       "      <td id=\"T_e2ff2_row12_col3\" class=\"data row12 col3\" >0.0</td>\n",
       "      <td id=\"T_e2ff2_row12_col4\" class=\"data row12 col4\" >Finished</td>\n",
       "    </tr>\n",
       "    <tr>\n",
       "      <td id=\"T_e2ff2_row13_col0\" class=\"data row13 col0\" >RIC</td>\n",
       "      <td id=\"T_e2ff2_row13_col1\" class=\"data row13 col1\" >14</td>\n",
       "      <td id=\"T_e2ff2_row13_col2\" class=\"data row13 col2\" >14</td>\n",
       "      <td id=\"T_e2ff2_row13_col3\" class=\"data row13 col3\" >0.0</td>\n",
       "      <td id=\"T_e2ff2_row13_col4\" class=\"data row13 col4\" >Finished</td>\n",
       "    </tr>\n",
       "    <tr>\n",
       "      <td id=\"T_e2ff2_row14_col0\" class=\"data row14 col0\" >ZHO</td>\n",
       "      <td id=\"T_e2ff2_row14_col1\" class=\"data row14 col1\" >17</td>\n",
       "      <td id=\"T_e2ff2_row14_col2\" class=\"data row14 col2\" >15</td>\n",
       "      <td id=\"T_e2ff2_row14_col3\" class=\"data row14 col3\" >0.0</td>\n",
       "      <td id=\"T_e2ff2_row14_col4\" class=\"data row14 col4\" >Finished</td>\n",
       "    </tr>\n",
       "    <tr>\n",
       "      <td id=\"T_e2ff2_row15_col0\" class=\"data row15 col0\" >SAR</td>\n",
       "      <td id=\"T_e2ff2_row15_col1\" class=\"data row15 col1\" >6</td>\n",
       "      <td id=\"T_e2ff2_row15_col2\" class=\"data row15 col2\" >16</td>\n",
       "      <td id=\"T_e2ff2_row15_col3\" class=\"data row15 col3\" >0.0</td>\n",
       "      <td id=\"T_e2ff2_row15_col4\" class=\"data row15 col4\" >Finished</td>\n",
       "    </tr>\n",
       "    <tr>\n",
       "      <td id=\"T_e2ff2_row16_col0\" class=\"data row16 col0\" >BOT</td>\n",
       "      <td id=\"T_e2ff2_row16_col1\" class=\"data row16 col1\" >7</td>\n",
       "      <td id=\"T_e2ff2_row16_col2\" class=\"data row16 col2\" >17</td>\n",
       "      <td id=\"T_e2ff2_row16_col3\" class=\"data row16 col3\" >0.0</td>\n",
       "      <td id=\"T_e2ff2_row16_col4\" class=\"data row16 col4\" >Finished</td>\n",
       "    </tr>\n",
       "    <tr>\n",
       "      <td id=\"T_e2ff2_row17_col0\" class=\"data row17 col0\" >TSU</td>\n",
       "      <td id=\"T_e2ff2_row17_col1\" class=\"data row17 col1\" >20</td>\n",
       "      <td id=\"T_e2ff2_row17_col2\" class=\"data row17 col2\" >18</td>\n",
       "      <td id=\"T_e2ff2_row17_col3\" class=\"data row17 col3\" >0.0</td>\n",
       "      <td id=\"T_e2ff2_row17_col4\" class=\"data row17 col4\" >Gearbox</td>\n",
       "    </tr>\n",
       "    <tr>\n",
       "      <td id=\"T_e2ff2_row18_col0\" class=\"data row18 col0\" >HUL</td>\n",
       "      <td id=\"T_e2ff2_row18_col1\" class=\"data row18 col1\" >13</td>\n",
       "      <td id=\"T_e2ff2_row18_col2\" class=\"data row18 col2\" >19</td>\n",
       "      <td id=\"T_e2ff2_row18_col3\" class=\"data row18 col3\" >0.0</td>\n",
       "      <td id=\"T_e2ff2_row18_col4\" class=\"data row18 col4\" >Engine</td>\n",
       "    </tr>\n",
       "    <tr>\n",
       "      <td id=\"T_e2ff2_row19_col0\" class=\"data row19 col0\" >NOR</td>\n",
       "      <td id=\"T_e2ff2_row19_col1\" class=\"data row19 col1\" >15</td>\n",
       "      <td id=\"T_e2ff2_row19_col2\" class=\"data row19 col2\" >20</td>\n",
       "      <td id=\"T_e2ff2_row19_col3\" class=\"data row19 col3\" >0.0</td>\n",
       "      <td id=\"T_e2ff2_row19_col4\" class=\"data row19 col4\" >Accident</td>\n",
       "    </tr>\n",
       "  </tbody>\n",
       "</table>\n"
      ],
      "text/plain": [
       "<pandas.io.formats.style.Styler at 0x7c862da79750>"
      ]
     },
     "execution_count": 15,
     "metadata": {},
     "output_type": "execute_result"
    }
   ],
   "source": [
    "res_race_lap_status_pod[['Driver', 'grid', 'position', 'points', 'status']].style.pipe(results_style)"
   ]
  },
  {
   "cell_type": "code",
   "execution_count": 16,
   "id": "75fcdccd",
   "metadata": {
    "_kg_hide-input": true,
    "execution": {
     "iopub.execute_input": "2023-11-21T00:34:26.534588Z",
     "iopub.status.busy": "2023-11-21T00:34:26.533731Z",
     "iopub.status.idle": "2023-11-21T00:34:26.540721Z",
     "shell.execute_reply": "2023-11-21T00:34:26.539729Z"
    },
    "papermill": {
     "duration": 0.030785,
     "end_time": "2023-11-21T00:34:26.543443",
     "exception": false,
     "start_time": "2023-11-21T00:34:26.512658",
     "status": "completed"
    },
    "tags": []
   },
   "outputs": [
    {
     "data": {
      "text/markdown": [
       "# <div style='background:#FF1801; border:0; color:black; box-shadow: 10px 10px 5px 0px rgba(0,0,0,0.75); transform: rotateX(10deg);'><h1 style='padding: 10px; margin: 0; text-align:center;'><span style='font-size: 30px;'>Qualifying</span></h1></div>"
      ],
      "text/plain": [
       "<IPython.core.display.Markdown object>"
      ]
     },
     "metadata": {},
     "output_type": "display_data"
    }
   ],
   "source": [
    "display(md(f\"# <div style='background:#FF1801; border:0; color:black; box-shadow: 10px 10px 5px 0px rgba(0,0,0,0.75); transform: rotateX(10deg);'><h1 style='padding: 10px; margin: 0; text-align:center;'><span style='font-size: 30px;'>Qualifying</span></h1></div>\"))"
   ]
  },
  {
   "cell_type": "code",
   "execution_count": 17,
   "id": "8c598f96",
   "metadata": {
    "_kg_hide-input": true,
    "execution": {
     "iopub.execute_input": "2023-11-21T00:34:26.584168Z",
     "iopub.status.busy": "2023-11-21T00:34:26.583664Z",
     "iopub.status.idle": "2023-11-21T00:34:26.630091Z",
     "shell.execute_reply": "2023-11-21T00:34:26.628858Z"
    },
    "papermill": {
     "duration": 0.070403,
     "end_time": "2023-11-21T00:34:26.633147",
     "exception": false,
     "start_time": "2023-11-21T00:34:26.562744",
     "status": "completed"
    },
    "tags": []
   },
   "outputs": [
    {
     "data": {
      "text/html": [
       "<div>                            <div id=\"a927dc04-c9e9-4e35-ba31-a9c020fe78f0\" class=\"plotly-graph-div\" style=\"height:525px; width:100%;\"></div>            <script type=\"text/javascript\">                require([\"plotly\"], function(Plotly) {                    window.PLOTLYENV=window.PLOTLYENV || {};                                    if (document.getElementById(\"a927dc04-c9e9-4e35-ba31-a9c020fe78f0\")) {                    Plotly.newPlot(                        \"a927dc04-c9e9-4e35-ba31-a9c020fe78f0\",                        [{\"marker\":{\"color\":\"red\"},\"name\":\"Q1\",\"x\":[\"LEC\",\"SAI\",\"VER\",\"RUS\",\"GAS\",\"ALB\",\"SAR\",\"BOT\",\"MAG\",\"ALO\",\"HAM\",\"PER\",\"HUL\",\"STR\",\"RIC\",\"NOR\",\"OCO\",\"ZHO\",\"PIA\",\"TSU\"],\"y\":[93.61699999999999,93.851,94.19,94.137,94.27199999999999,94.634,94.525,94.305,94.337,94.422,94.307,94.574,94.265,94.50399999999999,94.68299999999999,94.703,94.834,94.84899999999999,94.85,96.447],\"type\":\"bar\"},{\"marker\":{\"color\":\"gold\"},\"name\":\"Q2\",\"x\":[\"LEC\",\"SAI\",\"VER\",\"RUS\",\"GAS\",\"ALB\",\"SAR\",\"BOT\",\"MAG\",\"ALO\",\"HAM\",\"PER\",\"HUL\",\"STR\",\"RIC\",\"NOR\",\"OCO\",\"ZHO\",\"PIA\",\"TSU\"],\"y\":[92.775,93.338,93.572,93.351,93.494,93.588,93.733,93.809,93.664,93.61699999999999,93.837,93.85499999999999,93.979,94.199,94.30799999999999,null,null,null,null,null],\"type\":\"bar\"},{\"marker\":{\"color\":\"orange\"},\"name\":\"Q3\",\"x\":[\"LEC\",\"SAI\",\"VER\",\"RUS\",\"GAS\",\"ALB\",\"SAR\",\"BOT\",\"MAG\",\"ALO\",\"HAM\",\"PER\",\"HUL\",\"STR\",\"RIC\",\"NOR\",\"OCO\",\"ZHO\",\"PIA\",\"TSU\"],\"y\":[92.726,92.77000000000001,93.104,93.112,93.239,93.32300000000001,93.513,93.525,93.537,93.555,null,null,null,null,null,null,null,null,null,null],\"type\":\"bar\"}],                        {\"template\":{\"data\":{\"histogram2dcontour\":[{\"type\":\"histogram2dcontour\",\"colorbar\":{\"outlinewidth\":0,\"ticks\":\"\"},\"colorscale\":[[0.0,\"#0d0887\"],[0.1111111111111111,\"#46039f\"],[0.2222222222222222,\"#7201a8\"],[0.3333333333333333,\"#9c179e\"],[0.4444444444444444,\"#bd3786\"],[0.5555555555555556,\"#d8576b\"],[0.6666666666666666,\"#ed7953\"],[0.7777777777777778,\"#fb9f3a\"],[0.8888888888888888,\"#fdca26\"],[1.0,\"#f0f921\"]]}],\"choropleth\":[{\"type\":\"choropleth\",\"colorbar\":{\"outlinewidth\":0,\"ticks\":\"\"}}],\"histogram2d\":[{\"type\":\"histogram2d\",\"colorbar\":{\"outlinewidth\":0,\"ticks\":\"\"},\"colorscale\":[[0.0,\"#0d0887\"],[0.1111111111111111,\"#46039f\"],[0.2222222222222222,\"#7201a8\"],[0.3333333333333333,\"#9c179e\"],[0.4444444444444444,\"#bd3786\"],[0.5555555555555556,\"#d8576b\"],[0.6666666666666666,\"#ed7953\"],[0.7777777777777778,\"#fb9f3a\"],[0.8888888888888888,\"#fdca26\"],[1.0,\"#f0f921\"]]}],\"heatmap\":[{\"type\":\"heatmap\",\"colorbar\":{\"outlinewidth\":0,\"ticks\":\"\"},\"colorscale\":[[0.0,\"#0d0887\"],[0.1111111111111111,\"#46039f\"],[0.2222222222222222,\"#7201a8\"],[0.3333333333333333,\"#9c179e\"],[0.4444444444444444,\"#bd3786\"],[0.5555555555555556,\"#d8576b\"],[0.6666666666666666,\"#ed7953\"],[0.7777777777777778,\"#fb9f3a\"],[0.8888888888888888,\"#fdca26\"],[1.0,\"#f0f921\"]]}],\"heatmapgl\":[{\"type\":\"heatmapgl\",\"colorbar\":{\"outlinewidth\":0,\"ticks\":\"\"},\"colorscale\":[[0.0,\"#0d0887\"],[0.1111111111111111,\"#46039f\"],[0.2222222222222222,\"#7201a8\"],[0.3333333333333333,\"#9c179e\"],[0.4444444444444444,\"#bd3786\"],[0.5555555555555556,\"#d8576b\"],[0.6666666666666666,\"#ed7953\"],[0.7777777777777778,\"#fb9f3a\"],[0.8888888888888888,\"#fdca26\"],[1.0,\"#f0f921\"]]}],\"contourcarpet\":[{\"type\":\"contourcarpet\",\"colorbar\":{\"outlinewidth\":0,\"ticks\":\"\"}}],\"contour\":[{\"type\":\"contour\",\"colorbar\":{\"outlinewidth\":0,\"ticks\":\"\"},\"colorscale\":[[0.0,\"#0d0887\"],[0.1111111111111111,\"#46039f\"],[0.2222222222222222,\"#7201a8\"],[0.3333333333333333,\"#9c179e\"],[0.4444444444444444,\"#bd3786\"],[0.5555555555555556,\"#d8576b\"],[0.6666666666666666,\"#ed7953\"],[0.7777777777777778,\"#fb9f3a\"],[0.8888888888888888,\"#fdca26\"],[1.0,\"#f0f921\"]]}],\"surface\":[{\"type\":\"surface\",\"colorbar\":{\"outlinewidth\":0,\"ticks\":\"\"},\"colorscale\":[[0.0,\"#0d0887\"],[0.1111111111111111,\"#46039f\"],[0.2222222222222222,\"#7201a8\"],[0.3333333333333333,\"#9c179e\"],[0.4444444444444444,\"#bd3786\"],[0.5555555555555556,\"#d8576b\"],[0.6666666666666666,\"#ed7953\"],[0.7777777777777778,\"#fb9f3a\"],[0.8888888888888888,\"#fdca26\"],[1.0,\"#f0f921\"]]}],\"mesh3d\":[{\"type\":\"mesh3d\",\"colorbar\":{\"outlinewidth\":0,\"ticks\":\"\"}}],\"scatter\":[{\"fillpattern\":{\"fillmode\":\"overlay\",\"size\":10,\"solidity\":0.2},\"type\":\"scatter\"}],\"parcoords\":[{\"type\":\"parcoords\",\"line\":{\"colorbar\":{\"outlinewidth\":0,\"ticks\":\"\"}}}],\"scatterpolargl\":[{\"type\":\"scatterpolargl\",\"marker\":{\"colorbar\":{\"outlinewidth\":0,\"ticks\":\"\"}}}],\"bar\":[{\"error_x\":{\"color\":\"#2a3f5f\"},\"error_y\":{\"color\":\"#2a3f5f\"},\"marker\":{\"line\":{\"color\":\"#E5ECF6\",\"width\":0.5},\"pattern\":{\"fillmode\":\"overlay\",\"size\":10,\"solidity\":0.2}},\"type\":\"bar\"}],\"scattergeo\":[{\"type\":\"scattergeo\",\"marker\":{\"colorbar\":{\"outlinewidth\":0,\"ticks\":\"\"}}}],\"scatterpolar\":[{\"type\":\"scatterpolar\",\"marker\":{\"colorbar\":{\"outlinewidth\":0,\"ticks\":\"\"}}}],\"histogram\":[{\"marker\":{\"pattern\":{\"fillmode\":\"overlay\",\"size\":10,\"solidity\":0.2}},\"type\":\"histogram\"}],\"scattergl\":[{\"type\":\"scattergl\",\"marker\":{\"colorbar\":{\"outlinewidth\":0,\"ticks\":\"\"}}}],\"scatter3d\":[{\"type\":\"scatter3d\",\"line\":{\"colorbar\":{\"outlinewidth\":0,\"ticks\":\"\"}},\"marker\":{\"colorbar\":{\"outlinewidth\":0,\"ticks\":\"\"}}}],\"scattermapbox\":[{\"type\":\"scattermapbox\",\"marker\":{\"colorbar\":{\"outlinewidth\":0,\"ticks\":\"\"}}}],\"scatterternary\":[{\"type\":\"scatterternary\",\"marker\":{\"colorbar\":{\"outlinewidth\":0,\"ticks\":\"\"}}}],\"scattercarpet\":[{\"type\":\"scattercarpet\",\"marker\":{\"colorbar\":{\"outlinewidth\":0,\"ticks\":\"\"}}}],\"carpet\":[{\"aaxis\":{\"endlinecolor\":\"#2a3f5f\",\"gridcolor\":\"white\",\"linecolor\":\"white\",\"minorgridcolor\":\"white\",\"startlinecolor\":\"#2a3f5f\"},\"baxis\":{\"endlinecolor\":\"#2a3f5f\",\"gridcolor\":\"white\",\"linecolor\":\"white\",\"minorgridcolor\":\"white\",\"startlinecolor\":\"#2a3f5f\"},\"type\":\"carpet\"}],\"table\":[{\"cells\":{\"fill\":{\"color\":\"#EBF0F8\"},\"line\":{\"color\":\"white\"}},\"header\":{\"fill\":{\"color\":\"#C8D4E3\"},\"line\":{\"color\":\"white\"}},\"type\":\"table\"}],\"barpolar\":[{\"marker\":{\"line\":{\"color\":\"#E5ECF6\",\"width\":0.5},\"pattern\":{\"fillmode\":\"overlay\",\"size\":10,\"solidity\":0.2}},\"type\":\"barpolar\"}],\"pie\":[{\"automargin\":true,\"type\":\"pie\"}]},\"layout\":{\"autotypenumbers\":\"strict\",\"colorway\":[\"#636efa\",\"#EF553B\",\"#00cc96\",\"#ab63fa\",\"#FFA15A\",\"#19d3f3\",\"#FF6692\",\"#B6E880\",\"#FF97FF\",\"#FECB52\"],\"font\":{\"color\":\"#2a3f5f\"},\"hovermode\":\"closest\",\"hoverlabel\":{\"align\":\"left\"},\"paper_bgcolor\":\"white\",\"plot_bgcolor\":\"#E5ECF6\",\"polar\":{\"bgcolor\":\"#E5ECF6\",\"angularaxis\":{\"gridcolor\":\"white\",\"linecolor\":\"white\",\"ticks\":\"\"},\"radialaxis\":{\"gridcolor\":\"white\",\"linecolor\":\"white\",\"ticks\":\"\"}},\"ternary\":{\"bgcolor\":\"#E5ECF6\",\"aaxis\":{\"gridcolor\":\"white\",\"linecolor\":\"white\",\"ticks\":\"\"},\"baxis\":{\"gridcolor\":\"white\",\"linecolor\":\"white\",\"ticks\":\"\"},\"caxis\":{\"gridcolor\":\"white\",\"linecolor\":\"white\",\"ticks\":\"\"}},\"coloraxis\":{\"colorbar\":{\"outlinewidth\":0,\"ticks\":\"\"}},\"colorscale\":{\"sequential\":[[0.0,\"#0d0887\"],[0.1111111111111111,\"#46039f\"],[0.2222222222222222,\"#7201a8\"],[0.3333333333333333,\"#9c179e\"],[0.4444444444444444,\"#bd3786\"],[0.5555555555555556,\"#d8576b\"],[0.6666666666666666,\"#ed7953\"],[0.7777777777777778,\"#fb9f3a\"],[0.8888888888888888,\"#fdca26\"],[1.0,\"#f0f921\"]],\"sequentialminus\":[[0.0,\"#0d0887\"],[0.1111111111111111,\"#46039f\"],[0.2222222222222222,\"#7201a8\"],[0.3333333333333333,\"#9c179e\"],[0.4444444444444444,\"#bd3786\"],[0.5555555555555556,\"#d8576b\"],[0.6666666666666666,\"#ed7953\"],[0.7777777777777778,\"#fb9f3a\"],[0.8888888888888888,\"#fdca26\"],[1.0,\"#f0f921\"]],\"diverging\":[[0,\"#8e0152\"],[0.1,\"#c51b7d\"],[0.2,\"#de77ae\"],[0.3,\"#f1b6da\"],[0.4,\"#fde0ef\"],[0.5,\"#f7f7f7\"],[0.6,\"#e6f5d0\"],[0.7,\"#b8e186\"],[0.8,\"#7fbc41\"],[0.9,\"#4d9221\"],[1,\"#276419\"]]},\"xaxis\":{\"gridcolor\":\"white\",\"linecolor\":\"white\",\"ticks\":\"\",\"title\":{\"standoff\":15},\"zerolinecolor\":\"white\",\"automargin\":true,\"zerolinewidth\":2},\"yaxis\":{\"gridcolor\":\"white\",\"linecolor\":\"white\",\"ticks\":\"\",\"title\":{\"standoff\":15},\"zerolinecolor\":\"white\",\"automargin\":true,\"zerolinewidth\":2},\"scene\":{\"xaxis\":{\"backgroundcolor\":\"#E5ECF6\",\"gridcolor\":\"white\",\"linecolor\":\"white\",\"showbackground\":true,\"ticks\":\"\",\"zerolinecolor\":\"white\",\"gridwidth\":2},\"yaxis\":{\"backgroundcolor\":\"#E5ECF6\",\"gridcolor\":\"white\",\"linecolor\":\"white\",\"showbackground\":true,\"ticks\":\"\",\"zerolinecolor\":\"white\",\"gridwidth\":2},\"zaxis\":{\"backgroundcolor\":\"#E5ECF6\",\"gridcolor\":\"white\",\"linecolor\":\"white\",\"showbackground\":true,\"ticks\":\"\",\"zerolinecolor\":\"white\",\"gridwidth\":2}},\"shapedefaults\":{\"line\":{\"color\":\"#2a3f5f\"}},\"annotationdefaults\":{\"arrowcolor\":\"#2a3f5f\",\"arrowhead\":0,\"arrowwidth\":1},\"geo\":{\"bgcolor\":\"white\",\"landcolor\":\"#E5ECF6\",\"subunitcolor\":\"white\",\"showland\":true,\"showlakes\":true,\"lakecolor\":\"white\"},\"title\":{\"x\":0.05},\"mapbox\":{\"style\":\"light\"}}},\"yaxis\":{\"range\":[91.726,97.447]},\"xaxis\":{\"tickangle\":-45},\"barmode\":\"group\",\"title\":{\"font\":{\"family\":\"Arial, sans-serif\",\"size\":30},\"text\":\"<b>Qualifying Results</b>\",\"x\":0.5}},                        {\"responsive\": true}                    ).then(function(){\n",
       "                            \n",
       "var gd = document.getElementById('a927dc04-c9e9-4e35-ba31-a9c020fe78f0');\n",
       "var x = new MutationObserver(function (mutations, observer) {{\n",
       "        var display = window.getComputedStyle(gd).display;\n",
       "        if (!display || display === 'none') {{\n",
       "            console.log([gd, 'removed!']);\n",
       "            Plotly.purge(gd);\n",
       "            observer.disconnect();\n",
       "        }}\n",
       "}});\n",
       "\n",
       "// Listen for the removal of the full notebook cells\n",
       "var notebookContainer = gd.closest('#notebook-container');\n",
       "if (notebookContainer) {{\n",
       "    x.observe(notebookContainer, {childList: true});\n",
       "}}\n",
       "\n",
       "// Listen for the clearing of the current output cell\n",
       "var outputEl = gd.closest('.output');\n",
       "if (outputEl) {{\n",
       "    x.observe(outputEl, {childList: true});\n",
       "}}\n",
       "\n",
       "                        })                };                });            </script>        </div>"
      ]
     },
     "metadata": {},
     "output_type": "display_data"
    }
   ],
   "source": [
    "fig = go.Figure(layout_yaxis_range=[min_time, max_time])\n",
    "fig.add_trace(go.Bar(\n",
    "    x=qualifying['Driver'],\n",
    "    y=qualifying['q1_dur'],\n",
    "    name='Q1',\n",
    "    marker_color='red'\n",
    "))\n",
    "fig.add_trace(go.Bar(\n",
    "    x=qualifying['Driver'],\n",
    "    y=qualifying['q2_dur'],\n",
    "    name='Q2',\n",
    "    marker_color='gold'\n",
    "))\n",
    "fig.add_trace(go.Bar(\n",
    "    x=qualifying['Driver'],\n",
    "    y=qualifying['q3_dur'],\n",
    "    name='Q3',\n",
    "    marker_color='orange'\n",
    "))\n",
    "\n",
    "fig.update_layout(barmode='group', xaxis_tickangle=-45)\n",
    "fig.update_layout(title_text='<b>Qualifying Results</b>', titlefont = dict(\n",
    "         family = 'Arial, sans-serif',\n",
    "         size = 30\n",
    "      ), title_x=0.5)\n",
    "fig.show()"
   ]
  },
  {
   "cell_type": "code",
   "execution_count": 18,
   "id": "f783f91c",
   "metadata": {
    "_kg_hide-input": true,
    "execution": {
     "iopub.execute_input": "2023-11-21T00:34:26.674820Z",
     "iopub.status.busy": "2023-11-21T00:34:26.674038Z",
     "iopub.status.idle": "2023-11-21T00:34:26.952152Z",
     "shell.execute_reply": "2023-11-21T00:34:26.950722Z"
    },
    "papermill": {
     "duration": 0.302883,
     "end_time": "2023-11-21T00:34:26.955780",
     "exception": false,
     "start_time": "2023-11-21T00:34:26.652897",
     "status": "completed"
    },
    "tags": []
   },
   "outputs": [
    {
     "data": {
      "text/html": [
       "<div>                            <div id=\"77aadcd4-5edd-40c1-a6c2-9b17e08cabae\" class=\"plotly-graph-div\" style=\"height:525px; width:100%;\"></div>            <script type=\"text/javascript\">                require([\"plotly\"], function(Plotly) {                    window.PLOTLYENV=window.PLOTLYENV || {};                                    if (document.getElementById(\"77aadcd4-5edd-40c1-a6c2-9b17e08cabae\")) {                    Plotly.newPlot(                        \"77aadcd4-5edd-40c1-a6c2-9b17e08cabae\",                        [{\"hovertemplate\":\"Driver=ALB<br>Lap (Start/Finish Only)=%{x}<br>Start Position=%{y}<extra></extra>\",\"legendgroup\":\"ALB\",\"line\":{\"color\":\"#00A0DE\",\"dash\":\"solid\"},\"marker\":{\"symbol\":\"circle\"},\"mode\":\"lines\",\"name\":\"ALB\",\"orientation\":\"v\",\"showlegend\":true,\"x\":[0,50],\"xaxis\":\"x\",\"y\":[5.0,12.0],\"yaxis\":\"y\",\"type\":\"scatter\"},{\"hovertemplate\":\"Driver=ALO<br>Lap (Start/Finish Only)=%{x}<br>Start Position=%{y}<extra></extra>\",\"legendgroup\":\"ALO\",\"line\":{\"color\":\"#002420\",\"dash\":\"solid\"},\"marker\":{\"symbol\":\"circle\"},\"mode\":\"lines\",\"name\":\"ALO\",\"orientation\":\"v\",\"showlegend\":true,\"x\":[0,50],\"xaxis\":\"x\",\"y\":[9.0,9.0],\"yaxis\":\"y\",\"type\":\"scatter\"},{\"hovertemplate\":\"Driver=BOT<br>Lap (Start/Finish Only)=%{x}<br>Start Position=%{y}<extra></extra>\",\"legendgroup\":\"BOT\",\"line\":{\"color\":\"#A42134\",\"dash\":\"solid\"},\"marker\":{\"symbol\":\"circle\"},\"mode\":\"lines\",\"name\":\"BOT\",\"orientation\":\"v\",\"showlegend\":true,\"x\":[0,50],\"xaxis\":\"x\",\"y\":[7.0,17.0],\"yaxis\":\"y\",\"type\":\"scatter\"},{\"hovertemplate\":\"Driver=GAS<br>Lap (Start/Finish Only)=%{x}<br>Start Position=%{y}<extra></extra>\",\"legendgroup\":\"GAS\",\"line\":{\"color\":\"#2173B8\",\"dash\":\"solid\"},\"marker\":{\"symbol\":\"circle\"},\"mode\":\"lines\",\"name\":\"GAS\",\"orientation\":\"v\",\"showlegend\":true,\"x\":[50,0],\"xaxis\":\"x\",\"y\":[11.0,4.0],\"yaxis\":\"y\",\"type\":\"scatter\"},{\"hovertemplate\":\"Driver=HAM<br>Lap (Start/Finish Only)=%{x}<br>Start Position=%{y}<extra></extra>\",\"legendgroup\":\"HAM\",\"line\":{\"color\":\"#00A19B\",\"dash\":\"solid\"},\"marker\":{\"symbol\":\"circle\"},\"mode\":\"lines\",\"name\":\"HAM\",\"orientation\":\"v\",\"showlegend\":true,\"x\":[0,50],\"xaxis\":\"x\",\"y\":[10.0,7.0],\"yaxis\":\"y\",\"type\":\"scatter\"},{\"hovertemplate\":\"Driver=HUL<br>Lap (Start/Finish Only)=%{x}<br>Start Position=%{y}<extra></extra>\",\"legendgroup\":\"HUL\",\"line\":{\"color\":\"#E6002B\",\"dash\":\"solid\"},\"marker\":{\"symbol\":\"circle\"},\"mode\":\"lines\",\"name\":\"HUL\",\"orientation\":\"v\",\"showlegend\":true,\"x\":[0,45],\"xaxis\":\"x\",\"y\":[13.0,19.0],\"yaxis\":\"y\",\"type\":\"scatter\"},{\"hovertemplate\":\"Driver=LEC<br>Lap (Start/Finish Only)=%{x}<br>Start Position=%{y}<extra></extra>\",\"legendgroup\":\"LEC\",\"line\":{\"color\":\"#EF1A2D\",\"dash\":\"solid\"},\"marker\":{\"symbol\":\"circle\"},\"mode\":\"lines\",\"name\":\"LEC\",\"orientation\":\"v\",\"showlegend\":true,\"x\":[0,50],\"xaxis\":\"x\",\"y\":[1.0,2.0],\"yaxis\":\"y\",\"type\":\"scatter\"},{\"hovertemplate\":\"Driver=MAG<br>Lap (Start/Finish Only)=%{x}<br>Start Position=%{y}<extra></extra>\",\"legendgroup\":\"MAG\",\"line\":{\"color\":\"#E6002B\",\"dash\":\"solid\"},\"marker\":{\"symbol\":\"circle\"},\"mode\":\"lines\",\"name\":\"MAG\",\"orientation\":\"v\",\"showlegend\":true,\"x\":[0,50],\"xaxis\":\"x\",\"y\":[8.0,13.0],\"yaxis\":\"y\",\"type\":\"scatter\"},{\"hovertemplate\":\"Driver=NOR<br>Lap (Start/Finish Only)=%{x}<br>Start Position=%{y}<extra></extra>\",\"legendgroup\":\"NOR\",\"line\":{\"color\":\"#FF8000\",\"dash\":\"solid\"},\"marker\":{\"symbol\":\"circle\"},\"mode\":\"lines\",\"name\":\"NOR\",\"orientation\":\"v\",\"showlegend\":true,\"x\":[0,2],\"xaxis\":\"x\",\"y\":[15.0,20.0],\"yaxis\":\"y\",\"type\":\"scatter\"},{\"hovertemplate\":\"Driver=OCO<br>Lap (Start/Finish Only)=%{x}<br>Start Position=%{y}<extra></extra>\",\"legendgroup\":\"OCO\",\"line\":{\"color\":\"#2173B8\",\"dash\":\"solid\"},\"marker\":{\"symbol\":\"circle\"},\"mode\":\"lines\",\"name\":\"OCO\",\"orientation\":\"v\",\"showlegend\":true,\"x\":[50,0],\"xaxis\":\"x\",\"y\":[4.0,16.0],\"yaxis\":\"y\",\"type\":\"scatter\"},{\"hovertemplate\":\"Driver=PER<br>Lap (Start/Finish Only)=%{x}<br>Start Position=%{y}<extra></extra>\",\"legendgroup\":\"PER\",\"line\":{\"color\":\"#000B8D\",\"dash\":\"solid\"},\"marker\":{\"symbol\":\"circle\"},\"mode\":\"lines\",\"name\":\"PER\",\"orientation\":\"v\",\"showlegend\":true,\"x\":[0,50],\"xaxis\":\"x\",\"y\":[11.0,3.0],\"yaxis\":\"y\",\"type\":\"scatter\"},{\"hovertemplate\":\"Driver=PIA<br>Lap (Start/Finish Only)=%{x}<br>Start Position=%{y}<extra></extra>\",\"legendgroup\":\"PIA\",\"line\":{\"color\":\"#FF8000\",\"dash\":\"solid\"},\"marker\":{\"symbol\":\"circle\"},\"mode\":\"lines\",\"name\":\"PIA\",\"orientation\":\"v\",\"showlegend\":true,\"x\":[0,50],\"xaxis\":\"x\",\"y\":[18.0,10.0],\"yaxis\":\"y\",\"type\":\"scatter\"},{\"hovertemplate\":\"Driver=RIC<br>Lap (Start/Finish Only)=%{x}<br>Start Position=%{y}<extra></extra>\",\"legendgroup\":\"RIC\",\"line\":{\"color\":\"#20394C\",\"dash\":\"solid\"},\"marker\":{\"symbol\":\"circle\"},\"mode\":\"lines\",\"name\":\"RIC\",\"orientation\":\"v\",\"showlegend\":true,\"x\":[0,50],\"xaxis\":\"x\",\"y\":[14.0,14.0],\"yaxis\":\"y\",\"type\":\"scatter\"},{\"hovertemplate\":\"Driver=RUS<br>Lap (Start/Finish Only)=%{x}<br>Start Position=%{y}<extra></extra>\",\"legendgroup\":\"RUS\",\"line\":{\"color\":\"#00A19B\",\"dash\":\"solid\"},\"marker\":{\"symbol\":\"circle\"},\"mode\":\"lines\",\"name\":\"RUS\",\"orientation\":\"v\",\"showlegend\":true,\"x\":[0,50],\"xaxis\":\"x\",\"y\":[3.0,8.0],\"yaxis\":\"y\",\"type\":\"scatter\"},{\"hovertemplate\":\"Driver=SAI<br>Lap (Start/Finish Only)=%{x}<br>Start Position=%{y}<extra></extra>\",\"legendgroup\":\"SAI\",\"line\":{\"color\":\"#EF1A2D\",\"dash\":\"solid\"},\"marker\":{\"symbol\":\"circle\"},\"mode\":\"lines\",\"name\":\"SAI\",\"orientation\":\"v\",\"showlegend\":true,\"x\":[50,0],\"xaxis\":\"x\",\"y\":[6.0,12.0],\"yaxis\":\"y\",\"type\":\"scatter\"},{\"hovertemplate\":\"Driver=SAR<br>Lap (Start/Finish Only)=%{x}<br>Start Position=%{y}<extra></extra>\",\"legendgroup\":\"SAR\",\"line\":{\"color\":\"#00A0DE\",\"dash\":\"solid\"},\"marker\":{\"symbol\":\"circle\"},\"mode\":\"lines\",\"name\":\"SAR\",\"orientation\":\"v\",\"showlegend\":true,\"x\":[50,0],\"xaxis\":\"x\",\"y\":[16.0,6.0],\"yaxis\":\"y\",\"type\":\"scatter\"},{\"hovertemplate\":\"Driver=STR<br>Lap (Start/Finish Only)=%{x}<br>Start Position=%{y}<extra></extra>\",\"legendgroup\":\"STR\",\"line\":{\"color\":\"#002420\",\"dash\":\"solid\"},\"marker\":{\"symbol\":\"circle\"},\"mode\":\"lines\",\"name\":\"STR\",\"orientation\":\"v\",\"showlegend\":true,\"x\":[50,0],\"xaxis\":\"x\",\"y\":[5.0,19.0],\"yaxis\":\"y\",\"type\":\"scatter\"},{\"hovertemplate\":\"Driver=TSU<br>Lap (Start/Finish Only)=%{x}<br>Start Position=%{y}<extra></extra>\",\"legendgroup\":\"TSU\",\"line\":{\"color\":\"#20394C\",\"dash\":\"solid\"},\"marker\":{\"symbol\":\"circle\"},\"mode\":\"lines\",\"name\":\"TSU\",\"orientation\":\"v\",\"showlegend\":true,\"x\":[0,46],\"xaxis\":\"x\",\"y\":[20.0,18.0],\"yaxis\":\"y\",\"type\":\"scatter\"},{\"hovertemplate\":\"Driver=VER<br>Lap (Start/Finish Only)=%{x}<br>Start Position=%{y}<extra></extra>\",\"legendgroup\":\"VER\",\"line\":{\"color\":\"#000B8D\",\"dash\":\"solid\"},\"marker\":{\"symbol\":\"circle\"},\"mode\":\"lines\",\"name\":\"VER\",\"orientation\":\"v\",\"showlegend\":true,\"x\":[50,0],\"xaxis\":\"x\",\"y\":[1.0,2.0],\"yaxis\":\"y\",\"type\":\"scatter\"},{\"hovertemplate\":\"Driver=ZHO<br>Lap (Start/Finish Only)=%{x}<br>Start Position=%{y}<extra></extra>\",\"legendgroup\":\"ZHO\",\"line\":{\"color\":\"#A42134\",\"dash\":\"solid\"},\"marker\":{\"symbol\":\"circle\"},\"mode\":\"lines\",\"name\":\"ZHO\",\"orientation\":\"v\",\"showlegend\":true,\"x\":[50,0],\"xaxis\":\"x\",\"y\":[15.0,17.0],\"yaxis\":\"y\",\"type\":\"scatter\"}],                        {\"template\":{\"data\":{\"histogram2dcontour\":[{\"type\":\"histogram2dcontour\",\"colorbar\":{\"outlinewidth\":0,\"ticks\":\"\"},\"colorscale\":[[0.0,\"#0d0887\"],[0.1111111111111111,\"#46039f\"],[0.2222222222222222,\"#7201a8\"],[0.3333333333333333,\"#9c179e\"],[0.4444444444444444,\"#bd3786\"],[0.5555555555555556,\"#d8576b\"],[0.6666666666666666,\"#ed7953\"],[0.7777777777777778,\"#fb9f3a\"],[0.8888888888888888,\"#fdca26\"],[1.0,\"#f0f921\"]]}],\"choropleth\":[{\"type\":\"choropleth\",\"colorbar\":{\"outlinewidth\":0,\"ticks\":\"\"}}],\"histogram2d\":[{\"type\":\"histogram2d\",\"colorbar\":{\"outlinewidth\":0,\"ticks\":\"\"},\"colorscale\":[[0.0,\"#0d0887\"],[0.1111111111111111,\"#46039f\"],[0.2222222222222222,\"#7201a8\"],[0.3333333333333333,\"#9c179e\"],[0.4444444444444444,\"#bd3786\"],[0.5555555555555556,\"#d8576b\"],[0.6666666666666666,\"#ed7953\"],[0.7777777777777778,\"#fb9f3a\"],[0.8888888888888888,\"#fdca26\"],[1.0,\"#f0f921\"]]}],\"heatmap\":[{\"type\":\"heatmap\",\"colorbar\":{\"outlinewidth\":0,\"ticks\":\"\"},\"colorscale\":[[0.0,\"#0d0887\"],[0.1111111111111111,\"#46039f\"],[0.2222222222222222,\"#7201a8\"],[0.3333333333333333,\"#9c179e\"],[0.4444444444444444,\"#bd3786\"],[0.5555555555555556,\"#d8576b\"],[0.6666666666666666,\"#ed7953\"],[0.7777777777777778,\"#fb9f3a\"],[0.8888888888888888,\"#fdca26\"],[1.0,\"#f0f921\"]]}],\"heatmapgl\":[{\"type\":\"heatmapgl\",\"colorbar\":{\"outlinewidth\":0,\"ticks\":\"\"},\"colorscale\":[[0.0,\"#0d0887\"],[0.1111111111111111,\"#46039f\"],[0.2222222222222222,\"#7201a8\"],[0.3333333333333333,\"#9c179e\"],[0.4444444444444444,\"#bd3786\"],[0.5555555555555556,\"#d8576b\"],[0.6666666666666666,\"#ed7953\"],[0.7777777777777778,\"#fb9f3a\"],[0.8888888888888888,\"#fdca26\"],[1.0,\"#f0f921\"]]}],\"contourcarpet\":[{\"type\":\"contourcarpet\",\"colorbar\":{\"outlinewidth\":0,\"ticks\":\"\"}}],\"contour\":[{\"type\":\"contour\",\"colorbar\":{\"outlinewidth\":0,\"ticks\":\"\"},\"colorscale\":[[0.0,\"#0d0887\"],[0.1111111111111111,\"#46039f\"],[0.2222222222222222,\"#7201a8\"],[0.3333333333333333,\"#9c179e\"],[0.4444444444444444,\"#bd3786\"],[0.5555555555555556,\"#d8576b\"],[0.6666666666666666,\"#ed7953\"],[0.7777777777777778,\"#fb9f3a\"],[0.8888888888888888,\"#fdca26\"],[1.0,\"#f0f921\"]]}],\"surface\":[{\"type\":\"surface\",\"colorbar\":{\"outlinewidth\":0,\"ticks\":\"\"},\"colorscale\":[[0.0,\"#0d0887\"],[0.1111111111111111,\"#46039f\"],[0.2222222222222222,\"#7201a8\"],[0.3333333333333333,\"#9c179e\"],[0.4444444444444444,\"#bd3786\"],[0.5555555555555556,\"#d8576b\"],[0.6666666666666666,\"#ed7953\"],[0.7777777777777778,\"#fb9f3a\"],[0.8888888888888888,\"#fdca26\"],[1.0,\"#f0f921\"]]}],\"mesh3d\":[{\"type\":\"mesh3d\",\"colorbar\":{\"outlinewidth\":0,\"ticks\":\"\"}}],\"scatter\":[{\"fillpattern\":{\"fillmode\":\"overlay\",\"size\":10,\"solidity\":0.2},\"type\":\"scatter\"}],\"parcoords\":[{\"type\":\"parcoords\",\"line\":{\"colorbar\":{\"outlinewidth\":0,\"ticks\":\"\"}}}],\"scatterpolargl\":[{\"type\":\"scatterpolargl\",\"marker\":{\"colorbar\":{\"outlinewidth\":0,\"ticks\":\"\"}}}],\"bar\":[{\"error_x\":{\"color\":\"#2a3f5f\"},\"error_y\":{\"color\":\"#2a3f5f\"},\"marker\":{\"line\":{\"color\":\"#E5ECF6\",\"width\":0.5},\"pattern\":{\"fillmode\":\"overlay\",\"size\":10,\"solidity\":0.2}},\"type\":\"bar\"}],\"scattergeo\":[{\"type\":\"scattergeo\",\"marker\":{\"colorbar\":{\"outlinewidth\":0,\"ticks\":\"\"}}}],\"scatterpolar\":[{\"type\":\"scatterpolar\",\"marker\":{\"colorbar\":{\"outlinewidth\":0,\"ticks\":\"\"}}}],\"histogram\":[{\"marker\":{\"pattern\":{\"fillmode\":\"overlay\",\"size\":10,\"solidity\":0.2}},\"type\":\"histogram\"}],\"scattergl\":[{\"type\":\"scattergl\",\"marker\":{\"colorbar\":{\"outlinewidth\":0,\"ticks\":\"\"}}}],\"scatter3d\":[{\"type\":\"scatter3d\",\"line\":{\"colorbar\":{\"outlinewidth\":0,\"ticks\":\"\"}},\"marker\":{\"colorbar\":{\"outlinewidth\":0,\"ticks\":\"\"}}}],\"scattermapbox\":[{\"type\":\"scattermapbox\",\"marker\":{\"colorbar\":{\"outlinewidth\":0,\"ticks\":\"\"}}}],\"scatterternary\":[{\"type\":\"scatterternary\",\"marker\":{\"colorbar\":{\"outlinewidth\":0,\"ticks\":\"\"}}}],\"scattercarpet\":[{\"type\":\"scattercarpet\",\"marker\":{\"colorbar\":{\"outlinewidth\":0,\"ticks\":\"\"}}}],\"carpet\":[{\"aaxis\":{\"endlinecolor\":\"#2a3f5f\",\"gridcolor\":\"white\",\"linecolor\":\"white\",\"minorgridcolor\":\"white\",\"startlinecolor\":\"#2a3f5f\"},\"baxis\":{\"endlinecolor\":\"#2a3f5f\",\"gridcolor\":\"white\",\"linecolor\":\"white\",\"minorgridcolor\":\"white\",\"startlinecolor\":\"#2a3f5f\"},\"type\":\"carpet\"}],\"table\":[{\"cells\":{\"fill\":{\"color\":\"#EBF0F8\"},\"line\":{\"color\":\"white\"}},\"header\":{\"fill\":{\"color\":\"#C8D4E3\"},\"line\":{\"color\":\"white\"}},\"type\":\"table\"}],\"barpolar\":[{\"marker\":{\"line\":{\"color\":\"#E5ECF6\",\"width\":0.5},\"pattern\":{\"fillmode\":\"overlay\",\"size\":10,\"solidity\":0.2}},\"type\":\"barpolar\"}],\"pie\":[{\"automargin\":true,\"type\":\"pie\"}]},\"layout\":{\"autotypenumbers\":\"strict\",\"colorway\":[\"#636efa\",\"#EF553B\",\"#00cc96\",\"#ab63fa\",\"#FFA15A\",\"#19d3f3\",\"#FF6692\",\"#B6E880\",\"#FF97FF\",\"#FECB52\"],\"font\":{\"color\":\"#2a3f5f\"},\"hovermode\":\"closest\",\"hoverlabel\":{\"align\":\"left\"},\"paper_bgcolor\":\"white\",\"plot_bgcolor\":\"#E5ECF6\",\"polar\":{\"bgcolor\":\"#E5ECF6\",\"angularaxis\":{\"gridcolor\":\"white\",\"linecolor\":\"white\",\"ticks\":\"\"},\"radialaxis\":{\"gridcolor\":\"white\",\"linecolor\":\"white\",\"ticks\":\"\"}},\"ternary\":{\"bgcolor\":\"#E5ECF6\",\"aaxis\":{\"gridcolor\":\"white\",\"linecolor\":\"white\",\"ticks\":\"\"},\"baxis\":{\"gridcolor\":\"white\",\"linecolor\":\"white\",\"ticks\":\"\"},\"caxis\":{\"gridcolor\":\"white\",\"linecolor\":\"white\",\"ticks\":\"\"}},\"coloraxis\":{\"colorbar\":{\"outlinewidth\":0,\"ticks\":\"\"}},\"colorscale\":{\"sequential\":[[0.0,\"#0d0887\"],[0.1111111111111111,\"#46039f\"],[0.2222222222222222,\"#7201a8\"],[0.3333333333333333,\"#9c179e\"],[0.4444444444444444,\"#bd3786\"],[0.5555555555555556,\"#d8576b\"],[0.6666666666666666,\"#ed7953\"],[0.7777777777777778,\"#fb9f3a\"],[0.8888888888888888,\"#fdca26\"],[1.0,\"#f0f921\"]],\"sequentialminus\":[[0.0,\"#0d0887\"],[0.1111111111111111,\"#46039f\"],[0.2222222222222222,\"#7201a8\"],[0.3333333333333333,\"#9c179e\"],[0.4444444444444444,\"#bd3786\"],[0.5555555555555556,\"#d8576b\"],[0.6666666666666666,\"#ed7953\"],[0.7777777777777778,\"#fb9f3a\"],[0.8888888888888888,\"#fdca26\"],[1.0,\"#f0f921\"]],\"diverging\":[[0,\"#8e0152\"],[0.1,\"#c51b7d\"],[0.2,\"#de77ae\"],[0.3,\"#f1b6da\"],[0.4,\"#fde0ef\"],[0.5,\"#f7f7f7\"],[0.6,\"#e6f5d0\"],[0.7,\"#b8e186\"],[0.8,\"#7fbc41\"],[0.9,\"#4d9221\"],[1,\"#276419\"]]},\"xaxis\":{\"gridcolor\":\"white\",\"linecolor\":\"white\",\"ticks\":\"\",\"title\":{\"standoff\":15},\"zerolinecolor\":\"white\",\"automargin\":true,\"zerolinewidth\":2},\"yaxis\":{\"gridcolor\":\"white\",\"linecolor\":\"white\",\"ticks\":\"\",\"title\":{\"standoff\":15},\"zerolinecolor\":\"white\",\"automargin\":true,\"zerolinewidth\":2},\"scene\":{\"xaxis\":{\"backgroundcolor\":\"#E5ECF6\",\"gridcolor\":\"white\",\"linecolor\":\"white\",\"showbackground\":true,\"ticks\":\"\",\"zerolinecolor\":\"white\",\"gridwidth\":2},\"yaxis\":{\"backgroundcolor\":\"#E5ECF6\",\"gridcolor\":\"white\",\"linecolor\":\"white\",\"showbackground\":true,\"ticks\":\"\",\"zerolinecolor\":\"white\",\"gridwidth\":2},\"zaxis\":{\"backgroundcolor\":\"#E5ECF6\",\"gridcolor\":\"white\",\"linecolor\":\"white\",\"showbackground\":true,\"ticks\":\"\",\"zerolinecolor\":\"white\",\"gridwidth\":2}},\"shapedefaults\":{\"line\":{\"color\":\"#2a3f5f\"}},\"annotationdefaults\":{\"arrowcolor\":\"#2a3f5f\",\"arrowhead\":0,\"arrowwidth\":1},\"geo\":{\"bgcolor\":\"white\",\"landcolor\":\"#E5ECF6\",\"subunitcolor\":\"white\",\"showland\":true,\"showlakes\":true,\"lakecolor\":\"white\"},\"title\":{\"x\":0.05},\"mapbox\":{\"style\":\"light\"}}},\"xaxis\":{\"anchor\":\"y\",\"domain\":[0.0,1.0],\"title\":{\"text\":\"Lap (Start/Finish Only)\"}},\"yaxis\":{\"anchor\":\"x\",\"domain\":[0.0,1.0],\"title\":{\"text\":\"Start Position\"}},\"legend\":{\"title\":{\"text\":\"Driver\"},\"tracegroupgap\":0},\"title\":{\"text\":\"<b>Qualifying To Finish</b>\",\"font\":{\"family\":\"Arial, sans-serif\",\"size\":30},\"x\":0.5},\"updatemenus\":[{\"active\":0,\"buttons\":[{\"args\":[{\"visible\":[true,true,true,true,true,true,true,true,true,true,true,true,true,true,true,true,true,true,true,true],\"title\":\"All\",\"showlegend\":true}],\"label\":\"All\",\"method\":\"update\"},{\"args\":[{\"visible\":[true,false,false,false,false,false,false,false,false,false,false,false,false,false,false,false,false,false,false,false],\"title\":\"ALB\",\"showlegend\":true}],\"label\":\"ALB\",\"method\":\"update\"},{\"args\":[{\"visible\":[false,true,false,false,false,false,false,false,false,false,false,false,false,false,false,false,false,false,false,false],\"title\":\"ALO\",\"showlegend\":true}],\"label\":\"ALO\",\"method\":\"update\"},{\"args\":[{\"visible\":[false,false,true,false,false,false,false,false,false,false,false,false,false,false,false,false,false,false,false,false],\"title\":\"BOT\",\"showlegend\":true}],\"label\":\"BOT\",\"method\":\"update\"},{\"args\":[{\"visible\":[false,false,false,true,false,false,false,false,false,false,false,false,false,false,false,false,false,false,false,false],\"title\":\"GAS\",\"showlegend\":true}],\"label\":\"GAS\",\"method\":\"update\"},{\"args\":[{\"visible\":[false,false,false,false,true,false,false,false,false,false,false,false,false,false,false,false,false,false,false,false],\"title\":\"HAM\",\"showlegend\":true}],\"label\":\"HAM\",\"method\":\"update\"},{\"args\":[{\"visible\":[false,false,false,false,false,true,false,false,false,false,false,false,false,false,false,false,false,false,false,false],\"title\":\"HUL\",\"showlegend\":true}],\"label\":\"HUL\",\"method\":\"update\"},{\"args\":[{\"visible\":[false,false,false,false,false,false,true,false,false,false,false,false,false,false,false,false,false,false,false,false],\"title\":\"LEC\",\"showlegend\":true}],\"label\":\"LEC\",\"method\":\"update\"},{\"args\":[{\"visible\":[false,false,false,false,false,false,false,true,false,false,false,false,false,false,false,false,false,false,false,false],\"title\":\"MAG\",\"showlegend\":true}],\"label\":\"MAG\",\"method\":\"update\"},{\"args\":[{\"visible\":[false,false,false,false,false,false,false,false,true,false,false,false,false,false,false,false,false,false,false,false],\"title\":\"NOR\",\"showlegend\":true}],\"label\":\"NOR\",\"method\":\"update\"},{\"args\":[{\"visible\":[false,false,false,false,false,false,false,false,false,true,false,false,false,false,false,false,false,false,false,false],\"title\":\"OCO\",\"showlegend\":true}],\"label\":\"OCO\",\"method\":\"update\"},{\"args\":[{\"visible\":[false,false,false,false,false,false,false,false,false,false,true,false,false,false,false,false,false,false,false,false],\"title\":\"PER\",\"showlegend\":true}],\"label\":\"PER\",\"method\":\"update\"},{\"args\":[{\"visible\":[false,false,false,false,false,false,false,false,false,false,false,true,false,false,false,false,false,false,false,false],\"title\":\"PIA\",\"showlegend\":true}],\"label\":\"PIA\",\"method\":\"update\"},{\"args\":[{\"visible\":[false,false,false,false,false,false,false,false,false,false,false,false,true,false,false,false,false,false,false,false],\"title\":\"RIC\",\"showlegend\":true}],\"label\":\"RIC\",\"method\":\"update\"},{\"args\":[{\"visible\":[false,false,false,false,false,false,false,false,false,false,false,false,false,true,false,false,false,false,false,false],\"title\":\"RUS\",\"showlegend\":true}],\"label\":\"RUS\",\"method\":\"update\"},{\"args\":[{\"visible\":[false,false,false,false,false,false,false,false,false,false,false,false,false,false,true,false,false,false,false,false],\"title\":\"SAI\",\"showlegend\":true}],\"label\":\"SAI\",\"method\":\"update\"},{\"args\":[{\"visible\":[false,false,false,false,false,false,false,false,false,false,false,false,false,false,false,true,false,false,false,false],\"title\":\"SAR\",\"showlegend\":true}],\"label\":\"SAR\",\"method\":\"update\"},{\"args\":[{\"visible\":[false,false,false,false,false,false,false,false,false,false,false,false,false,false,false,false,true,false,false,false],\"title\":\"STR\",\"showlegend\":true}],\"label\":\"STR\",\"method\":\"update\"},{\"args\":[{\"visible\":[false,false,false,false,false,false,false,false,false,false,false,false,false,false,false,false,false,true,false,false],\"title\":\"TSU\",\"showlegend\":true}],\"label\":\"TSU\",\"method\":\"update\"},{\"args\":[{\"visible\":[false,false,false,false,false,false,false,false,false,false,false,false,false,false,false,false,false,false,true,false],\"title\":\"VER\",\"showlegend\":true}],\"label\":\"VER\",\"method\":\"update\"},{\"args\":[{\"visible\":[false,false,false,false,false,false,false,false,false,false,false,false,false,false,false,false,false,false,false,true],\"title\":\"ZHO\",\"showlegend\":true}],\"label\":\"ZHO\",\"method\":\"update\"}]}]},                        {\"responsive\": true}                    ).then(function(){\n",
       "                            \n",
       "var gd = document.getElementById('77aadcd4-5edd-40c1-a6c2-9b17e08cabae');\n",
       "var x = new MutationObserver(function (mutations, observer) {{\n",
       "        var display = window.getComputedStyle(gd).display;\n",
       "        if (!display || display === 'none') {{\n",
       "            console.log([gd, 'removed!']);\n",
       "            Plotly.purge(gd);\n",
       "            observer.disconnect();\n",
       "        }}\n",
       "}});\n",
       "\n",
       "// Listen for the removal of the full notebook cells\n",
       "var notebookContainer = gd.closest('#notebook-container');\n",
       "if (notebookContainer) {{\n",
       "    x.observe(notebookContainer, {childList: true});\n",
       "}}\n",
       "\n",
       "// Listen for the clearing of the current output cell\n",
       "var outputEl = gd.closest('.output');\n",
       "if (outputEl) {{\n",
       "    x.observe(outputEl, {childList: true});\n",
       "}}\n",
       "\n",
       "                        })                };                });            </script>        </div>"
      ]
     },
     "metadata": {},
     "output_type": "display_data"
    }
   ],
   "source": [
    "def multi_st_fin_plot(names, addAll = True):\n",
    "    fig = go.Figure()\n",
    "    \n",
    "    lap_driver_sf = reduced_res[(reduced_res['laps'] == 0) | (reduced_res['laps'] == num_laps) | (reduced_res['last_lap'] == 1)].copy()\n",
    "    lap_driver_sf['position'] = lap_driver_sf['position'].astype(float)\n",
    "    lap_driver_sf = lap_driver_sf.sort_values(by=['Driver'])\n",
    "\n",
    "    df = px.data.gapminder().query(\"continent=='Oceania'\")\n",
    "    fig = px.line(lap_driver_sf, x=\"laps\", y=\"position\", color='Driver', color_discrete_map=color_map, title=\"Qualifying to Finish\", labels={\n",
    "    \"position\": \"Start Position\",\n",
    "    \"laps\":\"Lap (Start/Finish Only)\"\n",
    "    })\n",
    "    fig.update_layout(title_text='<b>Qualifying To Finish</b>', titlefont = dict(\n",
    "         family = 'Arial, sans-serif',\n",
    "         size = 30\n",
    "      ), title_x=0.5)\n",
    "\n",
    "\n",
    "    button_all = dict(label = 'All',\n",
    "                      method = 'update',\n",
    "                      args = [{'visible': [True]*len(names),\n",
    "                               'title': 'All',\n",
    "                               'showlegend':True}])\n",
    "\n",
    "    def create_layout_button(column):\n",
    "        return dict(label = column,\n",
    "                    method = 'update',\n",
    "                    args = [{'visible': [c == column for c in names],\n",
    "                             'title': column,\n",
    "                             'showlegend': True}])\n",
    "\n",
    "    fig.update_layout(\n",
    "        updatemenus=[go.layout.Updatemenu(\n",
    "            active = 0,\n",
    "            buttons = ([button_all] * addAll) + [create_layout_button(column) for column in names]\n",
    "            )\n",
    "        ])\n",
    "    \n",
    "    fig.show()\n",
    "    \n",
    "mapping = list(color_map.keys())\n",
    "mapping.sort()\n",
    "multi_st_fin_plot(mapping)"
   ]
  },
  {
   "cell_type": "code",
   "execution_count": 19,
   "id": "0d7a10d0",
   "metadata": {
    "_kg_hide-input": true,
    "execution": {
     "iopub.execute_input": "2023-11-21T00:34:26.998789Z",
     "iopub.status.busy": "2023-11-21T00:34:26.997942Z",
     "iopub.status.idle": "2023-11-21T00:34:27.003310Z",
     "shell.execute_reply": "2023-11-21T00:34:27.002127Z"
    },
    "papermill": {
     "duration": 0.030233,
     "end_time": "2023-11-21T00:34:27.006224",
     "exception": false,
     "start_time": "2023-11-21T00:34:26.975991",
     "status": "completed"
    },
    "tags": []
   },
   "outputs": [],
   "source": [
    "if not  SPRINT_EMPTY:\n",
    "    display(md(f\"# <div style='background:#FF1801; border:0; color:black; box-shadow: 10px 10px 5px 0px rgba(0,0,0,0.75); transform: rotateX(10deg);'><h1 style='padding: 10px; margin: 0; text-align:center;'><span style='font-size: 30px;'>Sprint Results</span></h1></div>\"))"
   ]
  },
  {
   "cell_type": "code",
   "execution_count": 20,
   "id": "20f8d4dd",
   "metadata": {
    "_kg_hide-input": true,
    "execution": {
     "iopub.execute_input": "2023-11-21T00:34:27.049257Z",
     "iopub.status.busy": "2023-11-21T00:34:27.048460Z",
     "iopub.status.idle": "2023-11-21T00:34:27.054581Z",
     "shell.execute_reply": "2023-11-21T00:34:27.053266Z"
    },
    "papermill": {
     "duration": 0.030516,
     "end_time": "2023-11-21T00:34:27.057225",
     "exception": false,
     "start_time": "2023-11-21T00:34:27.026709",
     "status": "completed"
    },
    "tags": []
   },
   "outputs": [],
   "source": [
    "if not SPRINT_EMPTY:\n",
    "    display(sprint_results[['Driver', 'grid', 'position', 'points', 'status']].style.pipe(sprint_results_style))"
   ]
  },
  {
   "cell_type": "code",
   "execution_count": 21,
   "id": "fa7270c2",
   "metadata": {
    "_kg_hide-input": true,
    "execution": {
     "iopub.execute_input": "2023-11-21T00:34:27.099190Z",
     "iopub.status.busy": "2023-11-21T00:34:27.098712Z",
     "iopub.status.idle": "2023-11-21T00:34:27.115801Z",
     "shell.execute_reply": "2023-11-21T00:34:27.114323Z"
    },
    "papermill": {
     "duration": 0.041508,
     "end_time": "2023-11-21T00:34:27.118670",
     "exception": false,
     "start_time": "2023-11-21T00:34:27.077162",
     "status": "completed"
    },
    "tags": []
   },
   "outputs": [],
   "source": [
    "def multi_st_fin_spr_plot(names, addAll = True):\n",
    "    fig = go.Figure()\n",
    "    \n",
    "    lap_driver_sf = sp_reduced_res[(sp_reduced_res['laps'] == 0) | (sp_reduced_res['laps'] == num_sprint_laps) | (sp_reduced_res['last_lap'] == 1)].copy()\n",
    "    lap_driver_sf['position'] = lap_driver_sf['position'].astype(float)\n",
    "    lap_driver_sf = lap_driver_sf.sort_values(by=['Driver'])\n",
    "\n",
    "    df = px.data.gapminder().query(\"continent=='Oceania'\")\n",
    "    fig = px.line(lap_driver_sf, x=\"laps\", y=\"position\", color='Driver', color_discrete_map=color_map, title=\"Qualifying to Sprint Finish\", labels={\n",
    "    \"position\": \"Start Position\",\n",
    "    \"laps\":\"Lap (Start/Finish Only)\"\n",
    "    })\n",
    "    fig.update_layout(title_text='<b>Qualifying To Sprint Finish</b>', titlefont = dict(\n",
    "         family = 'Arial, sans-serif',\n",
    "         size = 30\n",
    "      ), title_x=0.5)\n",
    "\n",
    "\n",
    "    button_all = dict(label = 'All',\n",
    "                      method = 'update',\n",
    "                      args = [{'visible': [True]*len(names),\n",
    "                               'title': 'All',\n",
    "                               'showlegend':True}])\n",
    "\n",
    "    def create_layout_button(column):\n",
    "        return dict(label = column,\n",
    "                    method = 'update',\n",
    "                    args = [{'visible': [c == column for c in names],\n",
    "                             'title': column,\n",
    "                             'showlegend': True}])\n",
    "\n",
    "    fig.update_layout(\n",
    "        updatemenus=[go.layout.Updatemenu(\n",
    "            active = 0,\n",
    "            buttons = ([button_all] * addAll) + [create_layout_button(column) for column in names]\n",
    "            )\n",
    "        ])\n",
    "    \n",
    "    fig.show()\n",
    "if not SPRINT_EMPTY:\n",
    "    mapping = list(color_map.keys())\n",
    "    mapping.sort()\n",
    "    multi_st_fin_spr_plot(mapping)"
   ]
  },
  {
   "cell_type": "code",
   "execution_count": 22,
   "id": "47ef9666",
   "metadata": {
    "_kg_hide-input": true,
    "execution": {
     "iopub.execute_input": "2023-11-21T00:34:27.161571Z",
     "iopub.status.busy": "2023-11-21T00:34:27.161072Z",
     "iopub.status.idle": "2023-11-21T00:34:27.169643Z",
     "shell.execute_reply": "2023-11-21T00:34:27.168409Z"
    },
    "papermill": {
     "duration": 0.033625,
     "end_time": "2023-11-21T00:34:27.172301",
     "exception": false,
     "start_time": "2023-11-21T00:34:27.138676",
     "status": "completed"
    },
    "tags": []
   },
   "outputs": [
    {
     "data": {
      "text/markdown": [
       "# <div style='background:#FF1801; border:0; color:black; box-shadow: 10px 10px 5px 0px rgba(0,0,0,0.75); transform: rotateX(10deg);'><h1 style='padding: 10px; margin: 0; text-align:center;'><span style='font-size: 30px;'>Pit Stops</span></h1></div>"
      ],
      "text/plain": [
       "<IPython.core.display.Markdown object>"
      ]
     },
     "metadata": {},
     "output_type": "display_data"
    }
   ],
   "source": [
    "display(md(f\"# <div style='background:#FF1801; border:0; color:black; box-shadow: 10px 10px 5px 0px rgba(0,0,0,0.75); transform: rotateX(10deg);'><h1 style='padding: 10px; margin: 0; text-align:center;'><span style='font-size: 30px;'>Pit Stops</span></h1></div>\"))"
   ]
  },
  {
   "cell_type": "code",
   "execution_count": 23,
   "id": "27360acb",
   "metadata": {
    "_kg_hide-input": true,
    "execution": {
     "iopub.execute_input": "2023-11-21T00:34:27.215242Z",
     "iopub.status.busy": "2023-11-21T00:34:27.214781Z",
     "iopub.status.idle": "2023-11-21T00:34:27.414504Z",
     "shell.execute_reply": "2023-11-21T00:34:27.412988Z"
    },
    "papermill": {
     "duration": 0.22521,
     "end_time": "2023-11-21T00:34:27.417563",
     "exception": false,
     "start_time": "2023-11-21T00:34:27.192353",
     "status": "completed"
    },
    "tags": []
   },
   "outputs": [
    {
     "data": {
      "text/html": [
       "<div>                            <div id=\"b317f630-0fbc-4dde-bc91-7e55d3b993ad\" class=\"plotly-graph-div\" style=\"height:525px; width:100%;\"></div>            <script type=\"text/javascript\">                require([\"plotly\"], function(Plotly) {                    window.PLOTLYENV=window.PLOTLYENV || {};                                    if (document.getElementById(\"b317f630-0fbc-4dde-bc91-7e55d3b993ad\")) {                    Plotly.newPlot(                        \"b317f630-0fbc-4dde-bc91-7e55d3b993ad\",                        [{\"alignmentgroup\":\"True\",\"base\":[\"2023-11-19T22:06:05\",\"2023-11-19T22:51:52\"],\"hovertemplate\":\"Driver=%{y}<br>time_date=%{base}<br>time_end_date=%{x}<extra></extra>\",\"legendgroup\":\"PER\",\"marker\":{\"color\":\"#000B8D\",\"pattern\":{\"shape\":\"\"}},\"name\":\"PER\",\"offsetgroup\":\"PER\",\"orientation\":\"h\",\"showlegend\":true,\"textposition\":\"auto\",\"x\":[33599.0,21568.0],\"xaxis\":\"x\",\"y\":[\"PER\",\"PER\"],\"yaxis\":\"y\",\"type\":\"bar\"},{\"alignmentgroup\":\"True\",\"base\":[\"2023-11-19T22:06:26\",\"2023-11-19T22:52:17\"],\"hovertemplate\":\"Driver=%{y}<br>time_date=%{base}<br>time_end_date=%{x}<extra></extra>\",\"legendgroup\":\"ALO\",\"marker\":{\"color\":\"#002420\",\"pattern\":{\"shape\":\"\"}},\"name\":\"ALO\",\"offsetgroup\":\"ALO\",\"orientation\":\"h\",\"showlegend\":true,\"textposition\":\"auto\",\"x\":[29304.0,23214.0],\"xaxis\":\"x\",\"y\":[\"ALO\",\"ALO\"],\"yaxis\":\"y\",\"type\":\"bar\"},{\"alignmentgroup\":\"True\",\"base\":[\"2023-11-19T22:06:30\",\"2023-11-19T22:49:10\"],\"hovertemplate\":\"Driver=%{y}<br>time_date=%{base}<br>time_end_date=%{x}<extra></extra>\",\"legendgroup\":\"BOT\",\"marker\":{\"color\":\"#A42134\",\"pattern\":{\"shape\":\"\"}},\"name\":\"BOT\",\"offsetgroup\":\"BOT\",\"orientation\":\"h\",\"showlegend\":true,\"textposition\":\"auto\",\"x\":[43914.0,21575.0],\"xaxis\":\"x\",\"y\":[\"BOT\",\"BOT\"],\"yaxis\":\"y\",\"type\":\"bar\"},{\"alignmentgroup\":\"True\",\"base\":[\"2023-11-19T22:10:06\",\"2023-11-19T22:52:07\"],\"hovertemplate\":\"Driver=%{y}<br>time_date=%{base}<br>time_end_date=%{x}<extra></extra>\",\"legendgroup\":\"STR\",\"marker\":{\"color\":\"#002420\",\"pattern\":{\"shape\":\"\"}},\"name\":\"STR\",\"offsetgroup\":\"STR\",\"orientation\":\"h\",\"showlegend\":true,\"textposition\":\"auto\",\"x\":[22222.0,22570.0],\"xaxis\":\"x\",\"y\":[\"STR\",\"STR\"],\"yaxis\":\"y\",\"type\":\"bar\"},{\"alignmentgroup\":\"True\",\"base\":[\"2023-11-19T22:10:19\",\"2023-11-19T22:52:13\"],\"hovertemplate\":\"Driver=%{y}<br>time_date=%{base}<br>time_end_date=%{x}<extra></extra>\",\"legendgroup\":\"SAI\",\"marker\":{\"color\":\"#EF1A2D\",\"pattern\":{\"shape\":\"\"}},\"name\":\"SAI\",\"offsetgroup\":\"SAI\",\"orientation\":\"h\",\"showlegend\":true,\"textposition\":\"auto\",\"x\":[21261.0,22630.0],\"xaxis\":\"x\",\"y\":[\"SAI\",\"SAI\"],\"yaxis\":\"y\",\"type\":\"bar\"},{\"alignmentgroup\":\"True\",\"base\":[\"2023-11-19T22:25:26\",\"2023-11-19T22:44:16\"],\"hovertemplate\":\"Driver=%{y}<br>time_date=%{base}<br>time_end_date=%{x}<extra></extra>\",\"legendgroup\":\"TSU\",\"marker\":{\"color\":\"#20394C\",\"pattern\":{\"shape\":\"\"}},\"name\":\"TSU\",\"offsetgroup\":\"TSU\",\"orientation\":\"h\",\"showlegend\":true,\"textposition\":\"auto\",\"x\":[20619.0,20894.0],\"xaxis\":\"x\",\"y\":[\"TSU\",\"TSU\"],\"yaxis\":\"y\",\"type\":\"bar\"},{\"alignmentgroup\":\"True\",\"base\":[\"2023-11-19T22:28:45\",\"2023-11-19T22:52:42\"],\"hovertemplate\":\"Driver=%{y}<br>time_date=%{base}<br>time_end_date=%{x}<extra></extra>\",\"legendgroup\":\"HUL\",\"marker\":{\"color\":\"#E6002B\",\"pattern\":{\"shape\":\"\"}},\"name\":\"HUL\",\"offsetgroup\":\"HUL\",\"orientation\":\"h\",\"showlegend\":true,\"textposition\":\"auto\",\"x\":[22154.0,25453.0],\"xaxis\":\"x\",\"y\":[\"HUL\",\"HUL\"],\"yaxis\":\"y\",\"type\":\"bar\"},{\"alignmentgroup\":\"True\",\"base\":[\"2023-11-19T22:32:02\",\"2023-11-19T22:52:38\"],\"hovertemplate\":\"Driver=%{y}<br>time_date=%{base}<br>time_end_date=%{x}<extra></extra>\",\"legendgroup\":\"MAG\",\"marker\":{\"color\":\"#E6002B\",\"pattern\":{\"shape\":\"\"}},\"name\":\"MAG\",\"offsetgroup\":\"MAG\",\"orientation\":\"h\",\"showlegend\":true,\"textposition\":\"auto\",\"x\":[21611.0,21868.0],\"xaxis\":\"x\",\"y\":[\"MAG\",\"MAG\"],\"yaxis\":\"y\",\"type\":\"bar\"},{\"alignmentgroup\":\"True\",\"base\":[\"2023-11-19T22:33:29\",\"2023-11-19T22:52:11\"],\"hovertemplate\":\"Driver=%{y}<br>time_date=%{base}<br>time_end_date=%{x}<extra></extra>\",\"legendgroup\":\"RUS\",\"marker\":{\"color\":\"#00A19B\",\"pattern\":{\"shape\":\"\"}},\"name\":\"RUS\",\"offsetgroup\":\"RUS\",\"orientation\":\"h\",\"showlegend\":true,\"textposition\":\"auto\",\"x\":[21257.0,21952.0],\"xaxis\":\"x\",\"y\":[\"RUS\",\"RUS\"],\"yaxis\":\"y\",\"type\":\"bar\"},{\"alignmentgroup\":\"True\",\"base\":[\"2023-11-19T22:33:40\"],\"hovertemplate\":\"Driver=%{y}<br>time_date=%{base}<br>time_end_date=%{x}<extra></extra>\",\"legendgroup\":\"SAR\",\"marker\":{\"color\":\"#00A0DE\",\"pattern\":{\"shape\":\"\"}},\"name\":\"SAR\",\"offsetgroup\":\"SAR\",\"orientation\":\"h\",\"showlegend\":true,\"textposition\":\"auto\",\"x\":[21367.0],\"xaxis\":\"x\",\"y\":[\"SAR\"],\"yaxis\":\"y\",\"type\":\"bar\"},{\"alignmentgroup\":\"True\",\"base\":[\"2023-11-19T22:35:04\",\"2023-11-19T22:52:08\"],\"hovertemplate\":\"Driver=%{y}<br>time_date=%{base}<br>time_end_date=%{x}<extra></extra>\",\"legendgroup\":\"VER\",\"marker\":{\"color\":\"#000B8D\",\"pattern\":{\"shape\":\"\"}},\"name\":\"VER\",\"offsetgroup\":\"VER\",\"orientation\":\"h\",\"showlegend\":true,\"textposition\":\"auto\",\"x\":[26686.0,21323.0],\"xaxis\":\"x\",\"y\":[\"VER\",\"VER\"],\"yaxis\":\"y\",\"type\":\"bar\"},{\"alignmentgroup\":\"True\",\"base\":[\"2023-11-19T22:35:17\"],\"hovertemplate\":\"Driver=%{y}<br>time_date=%{base}<br>time_end_date=%{x}<extra></extra>\",\"legendgroup\":\"ALB\",\"marker\":{\"color\":\"#00A0DE\",\"pattern\":{\"shape\":\"\"}},\"name\":\"ALB\",\"offsetgroup\":\"ALB\",\"orientation\":\"h\",\"showlegend\":true,\"textposition\":\"auto\",\"x\":[21242.0],\"xaxis\":\"x\",\"y\":[\"ALB\"],\"yaxis\":\"y\",\"type\":\"bar\"},{\"alignmentgroup\":\"True\",\"base\":[\"2023-11-19T22:35:19\",\"2023-11-19T23:22:11\"],\"hovertemplate\":\"Driver=%{y}<br>time_date=%{base}<br>time_end_date=%{x}<extra></extra>\",\"legendgroup\":\"PIA\",\"marker\":{\"color\":\"#FF8000\",\"pattern\":{\"shape\":\"\"}},\"name\":\"PIA\",\"offsetgroup\":\"PIA\",\"orientation\":\"h\",\"showlegend\":true,\"textposition\":\"auto\",\"x\":[23269.0,20535.0],\"xaxis\":\"x\",\"y\":[\"PIA\",\"PIA\"],\"yaxis\":\"y\",\"type\":\"bar\"},{\"alignmentgroup\":\"True\",\"base\":[\"2023-11-19T22:36:53\"],\"hovertemplate\":\"Driver=%{y}<br>time_date=%{base}<br>time_end_date=%{x}<extra></extra>\",\"legendgroup\":\"GAS\",\"marker\":{\"color\":\"#2173B8\",\"pattern\":{\"shape\":\"\"}},\"name\":\"GAS\",\"offsetgroup\":\"GAS\",\"orientation\":\"h\",\"showlegend\":true,\"textposition\":\"auto\",\"x\":[22262.0],\"xaxis\":\"x\",\"y\":[\"GAS\"],\"yaxis\":\"y\",\"type\":\"bar\"},{\"alignmentgroup\":\"True\",\"base\":[\"2023-11-19T22:37:11\",\"2023-11-19T22:52:49\"],\"hovertemplate\":\"Driver=%{y}<br>time_date=%{base}<br>time_end_date=%{x}<extra></extra>\",\"legendgroup\":\"HAM\",\"marker\":{\"color\":\"#00A19B\",\"pattern\":{\"shape\":\"\"}},\"name\":\"HAM\",\"offsetgroup\":\"HAM\",\"orientation\":\"h\",\"showlegend\":true,\"textposition\":\"auto\",\"x\":[25047.0,22508.0],\"xaxis\":\"x\",\"y\":[\"HAM\",\"HAM\"],\"yaxis\":\"y\",\"type\":\"bar\"},{\"alignmentgroup\":\"True\",\"base\":[\"2023-11-19T22:37:13\"],\"hovertemplate\":\"Driver=%{y}<br>time_date=%{base}<br>time_end_date=%{x}<extra></extra>\",\"legendgroup\":\"RIC\",\"marker\":{\"color\":\"#20394C\",\"pattern\":{\"shape\":\"\"}},\"name\":\"RIC\",\"offsetgroup\":\"RIC\",\"orientation\":\"h\",\"showlegend\":true,\"textposition\":\"auto\",\"x\":[22242.0],\"xaxis\":\"x\",\"y\":[\"RIC\"],\"yaxis\":\"y\",\"type\":\"bar\"},{\"alignmentgroup\":\"True\",\"base\":[\"2023-11-19T22:41:58\"],\"hovertemplate\":\"Driver=%{y}<br>time_date=%{base}<br>time_end_date=%{x}<extra></extra>\",\"legendgroup\":\"OCO\",\"marker\":{\"color\":\"#2173B8\",\"pattern\":{\"shape\":\"\"}},\"name\":\"OCO\",\"offsetgroup\":\"OCO\",\"orientation\":\"h\",\"showlegend\":true,\"textposition\":\"auto\",\"x\":[21763.0],\"xaxis\":\"x\",\"y\":[\"OCO\"],\"yaxis\":\"y\",\"type\":\"bar\"},{\"alignmentgroup\":\"True\",\"base\":[\"2023-11-19T22:43:18\"],\"hovertemplate\":\"Driver=%{y}<br>time_date=%{base}<br>time_end_date=%{x}<extra></extra>\",\"legendgroup\":\"LEC\",\"marker\":{\"color\":\"#EF1A2D\",\"pattern\":{\"shape\":\"\"}},\"name\":\"LEC\",\"offsetgroup\":\"LEC\",\"orientation\":\"h\",\"showlegend\":true,\"textposition\":\"auto\",\"x\":[22559.0],\"xaxis\":\"x\",\"y\":[\"LEC\"],\"yaxis\":\"y\",\"type\":\"bar\"},{\"alignmentgroup\":\"True\",\"base\":[\"2023-11-19T22:52:26\"],\"hovertemplate\":\"Driver=%{y}<br>time_date=%{base}<br>time_end_date=%{x}<extra></extra>\",\"legendgroup\":\"ZHO\",\"marker\":{\"color\":\"#A42134\",\"pattern\":{\"shape\":\"\"}},\"name\":\"ZHO\",\"offsetgroup\":\"ZHO\",\"orientation\":\"h\",\"showlegend\":true,\"textposition\":\"auto\",\"x\":[22155.0],\"xaxis\":\"x\",\"y\":[\"ZHO\"],\"yaxis\":\"y\",\"type\":\"bar\"}],                        {\"template\":{\"data\":{\"histogram2dcontour\":[{\"type\":\"histogram2dcontour\",\"colorbar\":{\"outlinewidth\":0,\"ticks\":\"\"},\"colorscale\":[[0.0,\"#0d0887\"],[0.1111111111111111,\"#46039f\"],[0.2222222222222222,\"#7201a8\"],[0.3333333333333333,\"#9c179e\"],[0.4444444444444444,\"#bd3786\"],[0.5555555555555556,\"#d8576b\"],[0.6666666666666666,\"#ed7953\"],[0.7777777777777778,\"#fb9f3a\"],[0.8888888888888888,\"#fdca26\"],[1.0,\"#f0f921\"]]}],\"choropleth\":[{\"type\":\"choropleth\",\"colorbar\":{\"outlinewidth\":0,\"ticks\":\"\"}}],\"histogram2d\":[{\"type\":\"histogram2d\",\"colorbar\":{\"outlinewidth\":0,\"ticks\":\"\"},\"colorscale\":[[0.0,\"#0d0887\"],[0.1111111111111111,\"#46039f\"],[0.2222222222222222,\"#7201a8\"],[0.3333333333333333,\"#9c179e\"],[0.4444444444444444,\"#bd3786\"],[0.5555555555555556,\"#d8576b\"],[0.6666666666666666,\"#ed7953\"],[0.7777777777777778,\"#fb9f3a\"],[0.8888888888888888,\"#fdca26\"],[1.0,\"#f0f921\"]]}],\"heatmap\":[{\"type\":\"heatmap\",\"colorbar\":{\"outlinewidth\":0,\"ticks\":\"\"},\"colorscale\":[[0.0,\"#0d0887\"],[0.1111111111111111,\"#46039f\"],[0.2222222222222222,\"#7201a8\"],[0.3333333333333333,\"#9c179e\"],[0.4444444444444444,\"#bd3786\"],[0.5555555555555556,\"#d8576b\"],[0.6666666666666666,\"#ed7953\"],[0.7777777777777778,\"#fb9f3a\"],[0.8888888888888888,\"#fdca26\"],[1.0,\"#f0f921\"]]}],\"heatmapgl\":[{\"type\":\"heatmapgl\",\"colorbar\":{\"outlinewidth\":0,\"ticks\":\"\"},\"colorscale\":[[0.0,\"#0d0887\"],[0.1111111111111111,\"#46039f\"],[0.2222222222222222,\"#7201a8\"],[0.3333333333333333,\"#9c179e\"],[0.4444444444444444,\"#bd3786\"],[0.5555555555555556,\"#d8576b\"],[0.6666666666666666,\"#ed7953\"],[0.7777777777777778,\"#fb9f3a\"],[0.8888888888888888,\"#fdca26\"],[1.0,\"#f0f921\"]]}],\"contourcarpet\":[{\"type\":\"contourcarpet\",\"colorbar\":{\"outlinewidth\":0,\"ticks\":\"\"}}],\"contour\":[{\"type\":\"contour\",\"colorbar\":{\"outlinewidth\":0,\"ticks\":\"\"},\"colorscale\":[[0.0,\"#0d0887\"],[0.1111111111111111,\"#46039f\"],[0.2222222222222222,\"#7201a8\"],[0.3333333333333333,\"#9c179e\"],[0.4444444444444444,\"#bd3786\"],[0.5555555555555556,\"#d8576b\"],[0.6666666666666666,\"#ed7953\"],[0.7777777777777778,\"#fb9f3a\"],[0.8888888888888888,\"#fdca26\"],[1.0,\"#f0f921\"]]}],\"surface\":[{\"type\":\"surface\",\"colorbar\":{\"outlinewidth\":0,\"ticks\":\"\"},\"colorscale\":[[0.0,\"#0d0887\"],[0.1111111111111111,\"#46039f\"],[0.2222222222222222,\"#7201a8\"],[0.3333333333333333,\"#9c179e\"],[0.4444444444444444,\"#bd3786\"],[0.5555555555555556,\"#d8576b\"],[0.6666666666666666,\"#ed7953\"],[0.7777777777777778,\"#fb9f3a\"],[0.8888888888888888,\"#fdca26\"],[1.0,\"#f0f921\"]]}],\"mesh3d\":[{\"type\":\"mesh3d\",\"colorbar\":{\"outlinewidth\":0,\"ticks\":\"\"}}],\"scatter\":[{\"fillpattern\":{\"fillmode\":\"overlay\",\"size\":10,\"solidity\":0.2},\"type\":\"scatter\"}],\"parcoords\":[{\"type\":\"parcoords\",\"line\":{\"colorbar\":{\"outlinewidth\":0,\"ticks\":\"\"}}}],\"scatterpolargl\":[{\"type\":\"scatterpolargl\",\"marker\":{\"colorbar\":{\"outlinewidth\":0,\"ticks\":\"\"}}}],\"bar\":[{\"error_x\":{\"color\":\"#2a3f5f\"},\"error_y\":{\"color\":\"#2a3f5f\"},\"marker\":{\"line\":{\"color\":\"#E5ECF6\",\"width\":0.5},\"pattern\":{\"fillmode\":\"overlay\",\"size\":10,\"solidity\":0.2}},\"type\":\"bar\"}],\"scattergeo\":[{\"type\":\"scattergeo\",\"marker\":{\"colorbar\":{\"outlinewidth\":0,\"ticks\":\"\"}}}],\"scatterpolar\":[{\"type\":\"scatterpolar\",\"marker\":{\"colorbar\":{\"outlinewidth\":0,\"ticks\":\"\"}}}],\"histogram\":[{\"marker\":{\"pattern\":{\"fillmode\":\"overlay\",\"size\":10,\"solidity\":0.2}},\"type\":\"histogram\"}],\"scattergl\":[{\"type\":\"scattergl\",\"marker\":{\"colorbar\":{\"outlinewidth\":0,\"ticks\":\"\"}}}],\"scatter3d\":[{\"type\":\"scatter3d\",\"line\":{\"colorbar\":{\"outlinewidth\":0,\"ticks\":\"\"}},\"marker\":{\"colorbar\":{\"outlinewidth\":0,\"ticks\":\"\"}}}],\"scattermapbox\":[{\"type\":\"scattermapbox\",\"marker\":{\"colorbar\":{\"outlinewidth\":0,\"ticks\":\"\"}}}],\"scatterternary\":[{\"type\":\"scatterternary\",\"marker\":{\"colorbar\":{\"outlinewidth\":0,\"ticks\":\"\"}}}],\"scattercarpet\":[{\"type\":\"scattercarpet\",\"marker\":{\"colorbar\":{\"outlinewidth\":0,\"ticks\":\"\"}}}],\"carpet\":[{\"aaxis\":{\"endlinecolor\":\"#2a3f5f\",\"gridcolor\":\"white\",\"linecolor\":\"white\",\"minorgridcolor\":\"white\",\"startlinecolor\":\"#2a3f5f\"},\"baxis\":{\"endlinecolor\":\"#2a3f5f\",\"gridcolor\":\"white\",\"linecolor\":\"white\",\"minorgridcolor\":\"white\",\"startlinecolor\":\"#2a3f5f\"},\"type\":\"carpet\"}],\"table\":[{\"cells\":{\"fill\":{\"color\":\"#EBF0F8\"},\"line\":{\"color\":\"white\"}},\"header\":{\"fill\":{\"color\":\"#C8D4E3\"},\"line\":{\"color\":\"white\"}},\"type\":\"table\"}],\"barpolar\":[{\"marker\":{\"line\":{\"color\":\"#E5ECF6\",\"width\":0.5},\"pattern\":{\"fillmode\":\"overlay\",\"size\":10,\"solidity\":0.2}},\"type\":\"barpolar\"}],\"pie\":[{\"automargin\":true,\"type\":\"pie\"}]},\"layout\":{\"autotypenumbers\":\"strict\",\"colorway\":[\"#636efa\",\"#EF553B\",\"#00cc96\",\"#ab63fa\",\"#FFA15A\",\"#19d3f3\",\"#FF6692\",\"#B6E880\",\"#FF97FF\",\"#FECB52\"],\"font\":{\"color\":\"#2a3f5f\"},\"hovermode\":\"closest\",\"hoverlabel\":{\"align\":\"left\"},\"paper_bgcolor\":\"white\",\"plot_bgcolor\":\"#E5ECF6\",\"polar\":{\"bgcolor\":\"#E5ECF6\",\"angularaxis\":{\"gridcolor\":\"white\",\"linecolor\":\"white\",\"ticks\":\"\"},\"radialaxis\":{\"gridcolor\":\"white\",\"linecolor\":\"white\",\"ticks\":\"\"}},\"ternary\":{\"bgcolor\":\"#E5ECF6\",\"aaxis\":{\"gridcolor\":\"white\",\"linecolor\":\"white\",\"ticks\":\"\"},\"baxis\":{\"gridcolor\":\"white\",\"linecolor\":\"white\",\"ticks\":\"\"},\"caxis\":{\"gridcolor\":\"white\",\"linecolor\":\"white\",\"ticks\":\"\"}},\"coloraxis\":{\"colorbar\":{\"outlinewidth\":0,\"ticks\":\"\"}},\"colorscale\":{\"sequential\":[[0.0,\"#0d0887\"],[0.1111111111111111,\"#46039f\"],[0.2222222222222222,\"#7201a8\"],[0.3333333333333333,\"#9c179e\"],[0.4444444444444444,\"#bd3786\"],[0.5555555555555556,\"#d8576b\"],[0.6666666666666666,\"#ed7953\"],[0.7777777777777778,\"#fb9f3a\"],[0.8888888888888888,\"#fdca26\"],[1.0,\"#f0f921\"]],\"sequentialminus\":[[0.0,\"#0d0887\"],[0.1111111111111111,\"#46039f\"],[0.2222222222222222,\"#7201a8\"],[0.3333333333333333,\"#9c179e\"],[0.4444444444444444,\"#bd3786\"],[0.5555555555555556,\"#d8576b\"],[0.6666666666666666,\"#ed7953\"],[0.7777777777777778,\"#fb9f3a\"],[0.8888888888888888,\"#fdca26\"],[1.0,\"#f0f921\"]],\"diverging\":[[0,\"#8e0152\"],[0.1,\"#c51b7d\"],[0.2,\"#de77ae\"],[0.3,\"#f1b6da\"],[0.4,\"#fde0ef\"],[0.5,\"#f7f7f7\"],[0.6,\"#e6f5d0\"],[0.7,\"#b8e186\"],[0.8,\"#7fbc41\"],[0.9,\"#4d9221\"],[1,\"#276419\"]]},\"xaxis\":{\"gridcolor\":\"white\",\"linecolor\":\"white\",\"ticks\":\"\",\"title\":{\"standoff\":15},\"zerolinecolor\":\"white\",\"automargin\":true,\"zerolinewidth\":2},\"yaxis\":{\"gridcolor\":\"white\",\"linecolor\":\"white\",\"ticks\":\"\",\"title\":{\"standoff\":15},\"zerolinecolor\":\"white\",\"automargin\":true,\"zerolinewidth\":2},\"scene\":{\"xaxis\":{\"backgroundcolor\":\"#E5ECF6\",\"gridcolor\":\"white\",\"linecolor\":\"white\",\"showbackground\":true,\"ticks\":\"\",\"zerolinecolor\":\"white\",\"gridwidth\":2},\"yaxis\":{\"backgroundcolor\":\"#E5ECF6\",\"gridcolor\":\"white\",\"linecolor\":\"white\",\"showbackground\":true,\"ticks\":\"\",\"zerolinecolor\":\"white\",\"gridwidth\":2},\"zaxis\":{\"backgroundcolor\":\"#E5ECF6\",\"gridcolor\":\"white\",\"linecolor\":\"white\",\"showbackground\":true,\"ticks\":\"\",\"zerolinecolor\":\"white\",\"gridwidth\":2}},\"shapedefaults\":{\"line\":{\"color\":\"#2a3f5f\"}},\"annotationdefaults\":{\"arrowcolor\":\"#2a3f5f\",\"arrowhead\":0,\"arrowwidth\":1},\"geo\":{\"bgcolor\":\"white\",\"landcolor\":\"#E5ECF6\",\"subunitcolor\":\"white\",\"showland\":true,\"showlakes\":true,\"lakecolor\":\"white\"},\"title\":{\"x\":0.05},\"mapbox\":{\"style\":\"light\"}}},\"xaxis\":{\"anchor\":\"y\",\"domain\":[0.0,1.0],\"type\":\"date\"},\"yaxis\":{\"anchor\":\"x\",\"domain\":[0.0,1.0],\"title\":{\"text\":\"Driver\"},\"categoryorder\":\"array\",\"categoryarray\":[\"ZHO\",\"LEC\",\"OCO\",\"RIC\",\"HAM\",\"GAS\",\"PIA\",\"ALB\",\"VER\",\"SAR\",\"RUS\",\"MAG\",\"HUL\",\"TSU\",\"SAI\",\"STR\",\"BOT\",\"ALO\",\"PER\"]},\"legend\":{\"title\":{\"text\":\"Driver\"},\"tracegroupgap\":0},\"margin\":{\"t\":60},\"barmode\":\"overlay\",\"showlegend\":false,\"title\":{\"font\":{\"family\":\"Arial, sans-serif\",\"size\":30},\"text\":\"<b>Pit Strategy</b>\",\"x\":0.5}},                        {\"responsive\": true}                    ).then(function(){\n",
       "                            \n",
       "var gd = document.getElementById('b317f630-0fbc-4dde-bc91-7e55d3b993ad');\n",
       "var x = new MutationObserver(function (mutations, observer) {{\n",
       "        var display = window.getComputedStyle(gd).display;\n",
       "        if (!display || display === 'none') {{\n",
       "            console.log([gd, 'removed!']);\n",
       "            Plotly.purge(gd);\n",
       "            observer.disconnect();\n",
       "        }}\n",
       "}});\n",
       "\n",
       "// Listen for the removal of the full notebook cells\n",
       "var notebookContainer = gd.closest('#notebook-container');\n",
       "if (notebookContainer) {{\n",
       "    x.observe(notebookContainer, {childList: true});\n",
       "}}\n",
       "\n",
       "// Listen for the clearing of the current output cell\n",
       "var outputEl = gd.closest('.output');\n",
       "if (outputEl) {{\n",
       "    x.observe(outputEl, {childList: true});\n",
       "}}\n",
       "\n",
       "                        })                };                });            </script>        </div>"
      ]
     },
     "metadata": {},
     "output_type": "display_data"
    }
   ],
   "source": [
    "if not pit_stop_emp:\n",
    "    fig = px.timeline(pit_stops[pit_stops['red_flag'] == 0], x_start=\"time_date\", x_end=\"time_end_date\", y=\"Driver\", color='Driver', color_discrete_map=color_map)\n",
    "    fig.update_layout(showlegend=False)\n",
    "    fig.update_layout(title_text='<b>Pit Strategy</b>', titlefont = dict(\n",
    "         family = 'Arial, sans-serif',\n",
    "         size = 30\n",
    "      ), title_x=0.5)\n",
    "    fig.show()\n",
    "else:\n",
    "    display(md(f\"<h1 style='background:#FFF200;border:0; color:black;box-shadow: 10px 10px 5px 0px rgba(0,0,0,0.75);transform: rotateX(10deg);'><center style='color: black;'>No Pit Data Available From API</center></h1>\"))"
   ]
  },
  {
   "cell_type": "code",
   "execution_count": 24,
   "id": "cbe0626a",
   "metadata": {
    "_kg_hide-input": true,
    "execution": {
     "iopub.execute_input": "2023-11-21T00:34:27.462040Z",
     "iopub.status.busy": "2023-11-21T00:34:27.461614Z",
     "iopub.status.idle": "2023-11-21T00:34:27.472168Z",
     "shell.execute_reply": "2023-11-21T00:34:27.470857Z"
    },
    "papermill": {
     "duration": 0.035926,
     "end_time": "2023-11-21T00:34:27.475098",
     "exception": false,
     "start_time": "2023-11-21T00:34:27.439172",
     "status": "completed"
    },
    "tags": []
   },
   "outputs": [],
   "source": [
    "#Red Flags\n",
    "if pit_stop_emp:\n",
    "    display(md(f\"<h1 style='background:#FFF200;border:0; color:black;box-shadow: 10px 10px 5px 0px rgba(0,0,0,0.75);transform: rotateX(10deg);'><center style='color: black;'>No Pit Data Available From API</center></h1>\"))\n",
    "elif not pit_stops[pit_stops['red_flag'] == 1].empty:\n",
    "    fig = px.timeline(pit_stops[pit_stops['red_flag'] == 1], x_start=\"time_date\", x_end=\"time_end_date\", y=\"Driver\", color='Driver', color_discrete_map=color_map)\n",
    "    fig.update_layout(showlegend=False)\n",
    "    fig.update_layout(title_text='<b>Red Flag Stops</b>', titlefont = dict(\n",
    "         family = 'Arial, sans-serif',\n",
    "         size = 30\n",
    "      ), title_x=0.5)\n",
    "    fig.show()"
   ]
  },
  {
   "cell_type": "code",
   "execution_count": 25,
   "id": "81014a8d",
   "metadata": {
    "_kg_hide-input": true,
    "execution": {
     "iopub.execute_input": "2023-11-21T00:34:27.520137Z",
     "iopub.status.busy": "2023-11-21T00:34:27.519703Z",
     "iopub.status.idle": "2023-11-21T00:34:27.571254Z",
     "shell.execute_reply": "2023-11-21T00:34:27.569827Z"
    },
    "papermill": {
     "duration": 0.077445,
     "end_time": "2023-11-21T00:34:27.574141",
     "exception": false,
     "start_time": "2023-11-21T00:34:27.496696",
     "status": "completed"
    },
    "tags": []
   },
   "outputs": [
    {
     "data": {
      "text/html": [
       "<div>                            <div id=\"01d7575a-b9aa-44ae-bbbf-9c7bd930bffc\" class=\"plotly-graph-div\" style=\"height:525px; width:100%;\"></div>            <script type=\"text/javascript\">                require([\"plotly\"], function(Plotly) {                    window.PLOTLYENV=window.PLOTLYENV || {};                                    if (document.getElementById(\"01d7575a-b9aa-44ae-bbbf-9c7bd930bffc\")) {                    Plotly.newPlot(                        \"01d7575a-b9aa-44ae-bbbf-9c7bd930bffc\",                        [{\"name\":\"Max Pit\",\"x\":[\"ALB\",\"ALO\",\"BOT\",\"GAS\",\"HAM\",\"HUL\",\"LEC\",\"MAG\",\"OCO\",\"PER\",\"PIA\",\"RIC\",\"RUS\",\"SAI\",\"SAR\",\"STR\",\"TSU\",\"VER\",\"ZHO\"],\"y\":[20.894,21.242,21.367,21.763,21.868,21.952,22.155,22.242,22.262,22.559,22.57,22.63,23.269,25.047,25.453,26.686,29.304,33.599,43.914],\"type\":\"bar\"},{\"name\":\"Avg PIt\",\"x\":[\"ALB\",\"ALO\",\"BOT\",\"GAS\",\"HAM\",\"HUL\",\"LEC\",\"MAG\",\"OCO\",\"PER\",\"PIA\",\"RIC\",\"RUS\",\"SAI\",\"SAR\",\"STR\",\"TSU\",\"VER\",\"ZHO\"],\"y\":[20.7565,21.242,21.367,21.763,21.7395,21.6045,22.155,22.242,22.262,22.559,22.396,21.9455,21.902,23.7775,23.8035,24.0045,26.259,27.5835,32.7445],\"type\":\"bar\"},{\"name\":\"Min PIt\",\"x\":[\"ALB\",\"ALO\",\"BOT\",\"GAS\",\"HAM\",\"HUL\",\"LEC\",\"MAG\",\"OCO\",\"PER\",\"PIA\",\"RIC\",\"RUS\",\"SAI\",\"SAR\",\"STR\",\"TSU\",\"VER\",\"ZHO\"],\"y\":[20.619,21.242,21.367,21.763,21.611,21.257,22.155,22.242,22.262,22.559,22.222,21.261,20.535,22.508,22.154,21.323,23.214,21.568,21.575],\"type\":\"bar\"}],                        {\"barmode\":\"overlay\",\"template\":{\"data\":{\"barpolar\":[{\"marker\":{\"line\":{\"color\":\"#E5ECF6\",\"width\":0.5},\"pattern\":{\"fillmode\":\"overlay\",\"size\":10,\"solidity\":0.2}},\"type\":\"barpolar\"}],\"bar\":[{\"error_x\":{\"color\":\"#2a3f5f\"},\"error_y\":{\"color\":\"#2a3f5f\"},\"marker\":{\"line\":{\"color\":\"#E5ECF6\",\"width\":0.5},\"pattern\":{\"fillmode\":\"overlay\",\"size\":10,\"solidity\":0.2}},\"type\":\"bar\"}],\"carpet\":[{\"aaxis\":{\"endlinecolor\":\"#2a3f5f\",\"gridcolor\":\"white\",\"linecolor\":\"white\",\"minorgridcolor\":\"white\",\"startlinecolor\":\"#2a3f5f\"},\"baxis\":{\"endlinecolor\":\"#2a3f5f\",\"gridcolor\":\"white\",\"linecolor\":\"white\",\"minorgridcolor\":\"white\",\"startlinecolor\":\"#2a3f5f\"},\"type\":\"carpet\"}],\"choropleth\":[{\"colorbar\":{\"outlinewidth\":0,\"ticks\":\"\"},\"type\":\"choropleth\"}],\"contourcarpet\":[{\"colorbar\":{\"outlinewidth\":0,\"ticks\":\"\"},\"type\":\"contourcarpet\"}],\"contour\":[{\"colorbar\":{\"outlinewidth\":0,\"ticks\":\"\"},\"colorscale\":[[0.0,\"#0d0887\"],[0.1111111111111111,\"#46039f\"],[0.2222222222222222,\"#7201a8\"],[0.3333333333333333,\"#9c179e\"],[0.4444444444444444,\"#bd3786\"],[0.5555555555555556,\"#d8576b\"],[0.6666666666666666,\"#ed7953\"],[0.7777777777777778,\"#fb9f3a\"],[0.8888888888888888,\"#fdca26\"],[1.0,\"#f0f921\"]],\"type\":\"contour\"}],\"heatmapgl\":[{\"colorbar\":{\"outlinewidth\":0,\"ticks\":\"\"},\"colorscale\":[[0.0,\"#0d0887\"],[0.1111111111111111,\"#46039f\"],[0.2222222222222222,\"#7201a8\"],[0.3333333333333333,\"#9c179e\"],[0.4444444444444444,\"#bd3786\"],[0.5555555555555556,\"#d8576b\"],[0.6666666666666666,\"#ed7953\"],[0.7777777777777778,\"#fb9f3a\"],[0.8888888888888888,\"#fdca26\"],[1.0,\"#f0f921\"]],\"type\":\"heatmapgl\"}],\"heatmap\":[{\"colorbar\":{\"outlinewidth\":0,\"ticks\":\"\"},\"colorscale\":[[0.0,\"#0d0887\"],[0.1111111111111111,\"#46039f\"],[0.2222222222222222,\"#7201a8\"],[0.3333333333333333,\"#9c179e\"],[0.4444444444444444,\"#bd3786\"],[0.5555555555555556,\"#d8576b\"],[0.6666666666666666,\"#ed7953\"],[0.7777777777777778,\"#fb9f3a\"],[0.8888888888888888,\"#fdca26\"],[1.0,\"#f0f921\"]],\"type\":\"heatmap\"}],\"histogram2dcontour\":[{\"colorbar\":{\"outlinewidth\":0,\"ticks\":\"\"},\"colorscale\":[[0.0,\"#0d0887\"],[0.1111111111111111,\"#46039f\"],[0.2222222222222222,\"#7201a8\"],[0.3333333333333333,\"#9c179e\"],[0.4444444444444444,\"#bd3786\"],[0.5555555555555556,\"#d8576b\"],[0.6666666666666666,\"#ed7953\"],[0.7777777777777778,\"#fb9f3a\"],[0.8888888888888888,\"#fdca26\"],[1.0,\"#f0f921\"]],\"type\":\"histogram2dcontour\"}],\"histogram2d\":[{\"colorbar\":{\"outlinewidth\":0,\"ticks\":\"\"},\"colorscale\":[[0.0,\"#0d0887\"],[0.1111111111111111,\"#46039f\"],[0.2222222222222222,\"#7201a8\"],[0.3333333333333333,\"#9c179e\"],[0.4444444444444444,\"#bd3786\"],[0.5555555555555556,\"#d8576b\"],[0.6666666666666666,\"#ed7953\"],[0.7777777777777778,\"#fb9f3a\"],[0.8888888888888888,\"#fdca26\"],[1.0,\"#f0f921\"]],\"type\":\"histogram2d\"}],\"histogram\":[{\"marker\":{\"pattern\":{\"fillmode\":\"overlay\",\"size\":10,\"solidity\":0.2}},\"type\":\"histogram\"}],\"mesh3d\":[{\"colorbar\":{\"outlinewidth\":0,\"ticks\":\"\"},\"type\":\"mesh3d\"}],\"parcoords\":[{\"line\":{\"colorbar\":{\"outlinewidth\":0,\"ticks\":\"\"}},\"type\":\"parcoords\"}],\"pie\":[{\"automargin\":true,\"type\":\"pie\"}],\"scatter3d\":[{\"line\":{\"colorbar\":{\"outlinewidth\":0,\"ticks\":\"\"}},\"marker\":{\"colorbar\":{\"outlinewidth\":0,\"ticks\":\"\"}},\"type\":\"scatter3d\"}],\"scattercarpet\":[{\"marker\":{\"colorbar\":{\"outlinewidth\":0,\"ticks\":\"\"}},\"type\":\"scattercarpet\"}],\"scattergeo\":[{\"marker\":{\"colorbar\":{\"outlinewidth\":0,\"ticks\":\"\"}},\"type\":\"scattergeo\"}],\"scattergl\":[{\"marker\":{\"colorbar\":{\"outlinewidth\":0,\"ticks\":\"\"}},\"type\":\"scattergl\"}],\"scattermapbox\":[{\"marker\":{\"colorbar\":{\"outlinewidth\":0,\"ticks\":\"\"}},\"type\":\"scattermapbox\"}],\"scatterpolargl\":[{\"marker\":{\"colorbar\":{\"outlinewidth\":0,\"ticks\":\"\"}},\"type\":\"scatterpolargl\"}],\"scatterpolar\":[{\"marker\":{\"colorbar\":{\"outlinewidth\":0,\"ticks\":\"\"}},\"type\":\"scatterpolar\"}],\"scatter\":[{\"fillpattern\":{\"fillmode\":\"overlay\",\"size\":10,\"solidity\":0.2},\"type\":\"scatter\"}],\"scatterternary\":[{\"marker\":{\"colorbar\":{\"outlinewidth\":0,\"ticks\":\"\"}},\"type\":\"scatterternary\"}],\"surface\":[{\"colorbar\":{\"outlinewidth\":0,\"ticks\":\"\"},\"colorscale\":[[0.0,\"#0d0887\"],[0.1111111111111111,\"#46039f\"],[0.2222222222222222,\"#7201a8\"],[0.3333333333333333,\"#9c179e\"],[0.4444444444444444,\"#bd3786\"],[0.5555555555555556,\"#d8576b\"],[0.6666666666666666,\"#ed7953\"],[0.7777777777777778,\"#fb9f3a\"],[0.8888888888888888,\"#fdca26\"],[1.0,\"#f0f921\"]],\"type\":\"surface\"}],\"table\":[{\"cells\":{\"fill\":{\"color\":\"#EBF0F8\"},\"line\":{\"color\":\"white\"}},\"header\":{\"fill\":{\"color\":\"#C8D4E3\"},\"line\":{\"color\":\"white\"}},\"type\":\"table\"}]},\"layout\":{\"annotationdefaults\":{\"arrowcolor\":\"#2a3f5f\",\"arrowhead\":0,\"arrowwidth\":1},\"autotypenumbers\":\"strict\",\"coloraxis\":{\"colorbar\":{\"outlinewidth\":0,\"ticks\":\"\"}},\"colorscale\":{\"diverging\":[[0,\"#8e0152\"],[0.1,\"#c51b7d\"],[0.2,\"#de77ae\"],[0.3,\"#f1b6da\"],[0.4,\"#fde0ef\"],[0.5,\"#f7f7f7\"],[0.6,\"#e6f5d0\"],[0.7,\"#b8e186\"],[0.8,\"#7fbc41\"],[0.9,\"#4d9221\"],[1,\"#276419\"]],\"sequential\":[[0.0,\"#0d0887\"],[0.1111111111111111,\"#46039f\"],[0.2222222222222222,\"#7201a8\"],[0.3333333333333333,\"#9c179e\"],[0.4444444444444444,\"#bd3786\"],[0.5555555555555556,\"#d8576b\"],[0.6666666666666666,\"#ed7953\"],[0.7777777777777778,\"#fb9f3a\"],[0.8888888888888888,\"#fdca26\"],[1.0,\"#f0f921\"]],\"sequentialminus\":[[0.0,\"#0d0887\"],[0.1111111111111111,\"#46039f\"],[0.2222222222222222,\"#7201a8\"],[0.3333333333333333,\"#9c179e\"],[0.4444444444444444,\"#bd3786\"],[0.5555555555555556,\"#d8576b\"],[0.6666666666666666,\"#ed7953\"],[0.7777777777777778,\"#fb9f3a\"],[0.8888888888888888,\"#fdca26\"],[1.0,\"#f0f921\"]]},\"colorway\":[\"#636efa\",\"#EF553B\",\"#00cc96\",\"#ab63fa\",\"#FFA15A\",\"#19d3f3\",\"#FF6692\",\"#B6E880\",\"#FF97FF\",\"#FECB52\"],\"font\":{\"color\":\"#2a3f5f\"},\"geo\":{\"bgcolor\":\"white\",\"lakecolor\":\"white\",\"landcolor\":\"#E5ECF6\",\"showlakes\":true,\"showland\":true,\"subunitcolor\":\"white\"},\"hoverlabel\":{\"align\":\"left\"},\"hovermode\":\"closest\",\"mapbox\":{\"style\":\"light\"},\"paper_bgcolor\":\"white\",\"plot_bgcolor\":\"#E5ECF6\",\"polar\":{\"angularaxis\":{\"gridcolor\":\"white\",\"linecolor\":\"white\",\"ticks\":\"\"},\"bgcolor\":\"#E5ECF6\",\"radialaxis\":{\"gridcolor\":\"white\",\"linecolor\":\"white\",\"ticks\":\"\"}},\"scene\":{\"xaxis\":{\"backgroundcolor\":\"#E5ECF6\",\"gridcolor\":\"white\",\"gridwidth\":2,\"linecolor\":\"white\",\"showbackground\":true,\"ticks\":\"\",\"zerolinecolor\":\"white\"},\"yaxis\":{\"backgroundcolor\":\"#E5ECF6\",\"gridcolor\":\"white\",\"gridwidth\":2,\"linecolor\":\"white\",\"showbackground\":true,\"ticks\":\"\",\"zerolinecolor\":\"white\"},\"zaxis\":{\"backgroundcolor\":\"#E5ECF6\",\"gridcolor\":\"white\",\"gridwidth\":2,\"linecolor\":\"white\",\"showbackground\":true,\"ticks\":\"\",\"zerolinecolor\":\"white\"}},\"shapedefaults\":{\"line\":{\"color\":\"#2a3f5f\"}},\"ternary\":{\"aaxis\":{\"gridcolor\":\"white\",\"linecolor\":\"white\",\"ticks\":\"\"},\"baxis\":{\"gridcolor\":\"white\",\"linecolor\":\"white\",\"ticks\":\"\"},\"bgcolor\":\"#E5ECF6\",\"caxis\":{\"gridcolor\":\"white\",\"linecolor\":\"white\",\"ticks\":\"\"}},\"title\":{\"x\":0.05},\"xaxis\":{\"automargin\":true,\"gridcolor\":\"white\",\"linecolor\":\"white\",\"ticks\":\"\",\"title\":{\"standoff\":15},\"zerolinecolor\":\"white\",\"zerolinewidth\":2},\"yaxis\":{\"automargin\":true,\"gridcolor\":\"white\",\"linecolor\":\"white\",\"ticks\":\"\",\"title\":{\"standoff\":15},\"zerolinecolor\":\"white\",\"zerolinewidth\":2}}},\"title\":{\"font\":{\"family\":\"Arial, sans-serif\",\"size\":30},\"text\":\"<b>Pit Stop Times</b>\",\"x\":0.5},\"yaxis\":{\"range\":[19.535,44.914]}},                        {\"responsive\": true}                    ).then(function(){\n",
       "                            \n",
       "var gd = document.getElementById('01d7575a-b9aa-44ae-bbbf-9c7bd930bffc');\n",
       "var x = new MutationObserver(function (mutations, observer) {{\n",
       "        var display = window.getComputedStyle(gd).display;\n",
       "        if (!display || display === 'none') {{\n",
       "            console.log([gd, 'removed!']);\n",
       "            Plotly.purge(gd);\n",
       "            observer.disconnect();\n",
       "        }}\n",
       "}});\n",
       "\n",
       "// Listen for the removal of the full notebook cells\n",
       "var notebookContainer = gd.closest('#notebook-container');\n",
       "if (notebookContainer) {{\n",
       "    x.observe(notebookContainer, {childList: true});\n",
       "}}\n",
       "\n",
       "// Listen for the clearing of the current output cell\n",
       "var outputEl = gd.closest('.output');\n",
       "if (outputEl) {{\n",
       "    x.observe(outputEl, {childList: true});\n",
       "}}\n",
       "\n",
       "                        })                };                });            </script>        </div>"
      ]
     },
     "metadata": {},
     "output_type": "display_data"
    }
   ],
   "source": [
    "if not pit_stop_emp:\n",
    "    max_pit = max(driver_group['max']) + 1\n",
    "    min_pit = min(driver_group['min']) - 1\n",
    "\n",
    "    data = [\n",
    "    go.Bar(y=driver_group['max'], x=driver_group.Driver, name='Max Pit',  \n",
    "            #base=0\n",
    "           ),\n",
    "    go.Bar(y=driver_group['mean'], x=driver_group.Driver, name='Avg PIt'),\n",
    "    go.Bar(y=driver_group['min'], x=driver_group.Driver, name='Min PIt')]\n",
    "\n",
    "    layout = go.Layout(\n",
    "    barmode='overlay',\n",
    "    title=\"Pit Times\",\n",
    "    title_text='<b>Pit Stop Times</b>', titlefont = dict(\n",
    "         family = 'Arial, sans-serif',\n",
    "         size = 30\n",
    "      ), title_x=0.5\n",
    "    )\n",
    "\n",
    "    fig = dict(data = data, layout = layout, layout_yaxis_range=[min_pit, max_pit])\n",
    "    \n",
    "    iplot(fig, show_link=False)"
   ]
  },
  {
   "cell_type": "code",
   "execution_count": 26,
   "id": "558b04aa",
   "metadata": {
    "_kg_hide-input": true,
    "execution": {
     "iopub.execute_input": "2023-11-21T00:34:27.618335Z",
     "iopub.status.busy": "2023-11-21T00:34:27.617866Z",
     "iopub.status.idle": "2023-11-21T00:34:27.626326Z",
     "shell.execute_reply": "2023-11-21T00:34:27.624953Z"
    },
    "papermill": {
     "duration": 0.034021,
     "end_time": "2023-11-21T00:34:27.629127",
     "exception": false,
     "start_time": "2023-11-21T00:34:27.595106",
     "status": "completed"
    },
    "tags": []
   },
   "outputs": [
    {
     "data": {
      "text/markdown": [
       "# <div style='background:#FF1801; border:0; color:black; box-shadow: 10px 10px 5px 0px rgba(0,0,0,0.75); transform: rotateX(10deg);'><h1 style='padding: 10px; margin: 0; text-align:center;'><span style='font-size: 30px;'>Lap Results</span></h1></div>"
      ],
      "text/plain": [
       "<IPython.core.display.Markdown object>"
      ]
     },
     "metadata": {},
     "output_type": "display_data"
    }
   ],
   "source": [
    "display(md(f\"# <div style='background:#FF1801; border:0; color:black; box-shadow: 10px 10px 5px 0px rgba(0,0,0,0.75); transform: rotateX(10deg);'><h1 style='padding: 10px; margin: 0; text-align:center;'><span style='font-size: 30px;'>Lap Results</span></h1></div>\"))"
   ]
  },
  {
   "cell_type": "code",
   "execution_count": 27,
   "id": "e3b8b938",
   "metadata": {
    "_kg_hide-input": true,
    "execution": {
     "iopub.execute_input": "2023-11-21T00:34:27.674206Z",
     "iopub.status.busy": "2023-11-21T00:34:27.673772Z",
     "iopub.status.idle": "2023-11-21T00:34:27.875131Z",
     "shell.execute_reply": "2023-11-21T00:34:27.874158Z"
    },
    "papermill": {
     "duration": 0.226645,
     "end_time": "2023-11-21T00:34:27.877830",
     "exception": false,
     "start_time": "2023-11-21T00:34:27.651185",
     "status": "completed"
    },
    "tags": []
   },
   "outputs": [
    {
     "data": {
      "text/html": [
       "<div>                            <div id=\"b9065a59-3616-4943-ac06-84969d94803c\" class=\"plotly-graph-div\" style=\"height:525px; width:100%;\"></div>            <script type=\"text/javascript\">                require([\"plotly\"], function(Plotly) {                    window.PLOTLYENV=window.PLOTLYENV || {};                                    if (document.getElementById(\"b9065a59-3616-4943-ac06-84969d94803c\")) {                    Plotly.newPlot(                        \"b9065a59-3616-4943-ac06-84969d94803c\",                        [{\"alignmentgroup\":\"True\",\"boxpoints\":false,\"hovertemplate\":\"Driver=%{y}<br>Duration (Seconds, Outliers/Red Flags, Removed)=%{x}<extra></extra>\",\"legendgroup\":\"VER\",\"marker\":{\"color\":\"#000B8D\"},\"name\":\"VER\",\"notched\":false,\"offsetgroup\":\"VER\",\"orientation\":\"h\",\"showlegend\":true,\"x\":[105.67,109.988,100.785,100.142,99.669,99.48400000000001,98.763,98.773,98.759,98.94200000000001,99.477,104.727,122.018,98.348,98.33500000000001,99.61099999999999,97.88,98.60499999999999,97.988,98.482,98.943,113.326,100.938,98.469,97.74799999999999,96.60300000000001,96.596,96.35900000000001,96.239,96.27600000000001,96.66,96.1,95.938,95.997,95.92,96.212,95.983,95.614,95.86699999999999,95.896,95.87899999999999,96.497,96.95,97.637],\"x0\":\" \",\"xaxis\":\"x\",\"y\":[\"VER\",\"VER\",\"VER\",\"VER\",\"VER\",\"VER\",\"VER\",\"VER\",\"VER\",\"VER\",\"VER\",\"VER\",\"VER\",\"VER\",\"VER\",\"VER\",\"VER\",\"VER\",\"VER\",\"VER\",\"VER\",\"VER\",\"VER\",\"VER\",\"VER\",\"VER\",\"VER\",\"VER\",\"VER\",\"VER\",\"VER\",\"VER\",\"VER\",\"VER\",\"VER\",\"VER\",\"VER\",\"VER\",\"VER\",\"VER\",\"VER\",\"VER\",\"VER\",\"VER\"],\"y0\":\" \",\"yaxis\":\"y\",\"type\":\"box\"},{\"alignmentgroup\":\"True\",\"boxpoints\":false,\"hovertemplate\":\"Driver=%{y}<br>Duration (Seconds, Outliers/Red Flags, Removed)=%{x}<extra></extra>\",\"legendgroup\":\"LEC\",\"marker\":{\"color\":\"#EF1A2D\"},\"name\":\"LEC\",\"notched\":false,\"offsetgroup\":\"LEC\",\"orientation\":\"h\",\"showlegend\":true,\"x\":[107.34700000000001,109.263,101.488,100.393,99.755,99.107,98.843,98.955,98.604,98.489,98.587,99.488,98.107,98.994,98.518,99.056,103.38,117.531,99.233,98.033,98.118,109.485,99.672,98.22800000000001,97.227,98.13499999999999,97.337,96.687,96.64699999999999,96.562,97.929,96.256,96.14099999999999,96.12100000000001,96.457,96.527,98.449,96.126,95.713,96.09100000000001,95.995,96.55199999999999,95.868,95.669],\"x0\":\" \",\"xaxis\":\"x\",\"y\":[\"LEC\",\"LEC\",\"LEC\",\"LEC\",\"LEC\",\"LEC\",\"LEC\",\"LEC\",\"LEC\",\"LEC\",\"LEC\",\"LEC\",\"LEC\",\"LEC\",\"LEC\",\"LEC\",\"LEC\",\"LEC\",\"LEC\",\"LEC\",\"LEC\",\"LEC\",\"LEC\",\"LEC\",\"LEC\",\"LEC\",\"LEC\",\"LEC\",\"LEC\",\"LEC\",\"LEC\",\"LEC\",\"LEC\",\"LEC\",\"LEC\",\"LEC\",\"LEC\",\"LEC\",\"LEC\",\"LEC\",\"LEC\",\"LEC\",\"LEC\",\"LEC\"],\"y0\":\" \",\"yaxis\":\"y\",\"type\":\"box\"},{\"alignmentgroup\":\"True\",\"boxpoints\":false,\"hovertemplate\":\"Driver=%{y}<br>Duration (Seconds, Outliers/Red Flags, Removed)=%{x}<extra></extra>\",\"legendgroup\":\"RUS\",\"marker\":{\"color\":\"#00A19B\"},\"name\":\"RUS\",\"notched\":false,\"offsetgroup\":\"RUS\",\"orientation\":\"h\",\"showlegend\":true,\"x\":[108.99000000000001,109.74199999999999,102.057,100.687,99.561,99.51599999999999,99.11,98.779,99.00399999999999,99.134,104.106,115.47,98.779,99.001,100.094,98.679,98.737,99.50399999999999,97.93,98.38300000000001,100.60499999999999,115.23400000000001,101.40899999999999,99.15899999999999,98.255,97.834,98.033,97.577,97.854,98.114,98.00999999999999,97.946,97.40899999999999,96.654,96.69200000000001,97.11099999999999,96.581,96.071,96.291,96.325,96.351,96.443,96.161,96.178],\"x0\":\" \",\"xaxis\":\"x\",\"y\":[\"RUS\",\"RUS\",\"RUS\",\"RUS\",\"RUS\",\"RUS\",\"RUS\",\"RUS\",\"RUS\",\"RUS\",\"RUS\",\"RUS\",\"RUS\",\"RUS\",\"RUS\",\"RUS\",\"RUS\",\"RUS\",\"RUS\",\"RUS\",\"RUS\",\"RUS\",\"RUS\",\"RUS\",\"RUS\",\"RUS\",\"RUS\",\"RUS\",\"RUS\",\"RUS\",\"RUS\",\"RUS\",\"RUS\",\"RUS\",\"RUS\",\"RUS\",\"RUS\",\"RUS\",\"RUS\",\"RUS\",\"RUS\",\"RUS\",\"RUS\",\"RUS\"],\"y0\":\" \",\"yaxis\":\"y\",\"type\":\"box\"},{\"alignmentgroup\":\"True\",\"boxpoints\":false,\"hovertemplate\":\"Driver=%{y}<br>Duration (Seconds, Outliers/Red Flags, Removed)=%{x}<extra></extra>\",\"legendgroup\":\"GAS\",\"marker\":{\"color\":\"#2173B8\"},\"name\":\"GAS\",\"notched\":false,\"offsetgroup\":\"GAS\",\"orientation\":\"h\",\"showlegend\":true,\"x\":[110.543,110.381,102.346,100.56,99.67699999999999,99.005,99.446,99.088,99.41,99.77600000000001,100.333,100.814,105.77199999999999,117.332,99.315,99.218,98.774,98.68299999999999,98.58500000000001,99.209,98.494,114.475,101.251,98.72,98.77199999999999,97.73599999999999,97.805,98.586,97.52799999999999,97.126,96.913,97.00399999999999,97.60300000000001,97.789,98.75999999999999,98.094,98.666,99.943,98.82900000000001,98.07900000000001,97.907,98.217,97.952,98.316],\"x0\":\" \",\"xaxis\":\"x\",\"y\":[\"GAS\",\"GAS\",\"GAS\",\"GAS\",\"GAS\",\"GAS\",\"GAS\",\"GAS\",\"GAS\",\"GAS\",\"GAS\",\"GAS\",\"GAS\",\"GAS\",\"GAS\",\"GAS\",\"GAS\",\"GAS\",\"GAS\",\"GAS\",\"GAS\",\"GAS\",\"GAS\",\"GAS\",\"GAS\",\"GAS\",\"GAS\",\"GAS\",\"GAS\",\"GAS\",\"GAS\",\"GAS\",\"GAS\",\"GAS\",\"GAS\",\"GAS\",\"GAS\",\"GAS\",\"GAS\",\"GAS\",\"GAS\",\"GAS\",\"GAS\",\"GAS\"],\"y0\":\" \",\"yaxis\":\"y\",\"type\":\"box\"},{\"alignmentgroup\":\"True\",\"boxpoints\":false,\"hovertemplate\":\"Driver=%{y}<br>Duration (Seconds, Outliers/Red Flags, Removed)=%{x}<extra></extra>\",\"legendgroup\":\"ALB\",\"marker\":{\"color\":\"#00A0DE\"},\"name\":\"ALB\",\"notched\":false,\"offsetgroup\":\"ALB\",\"orientation\":\"h\",\"showlegend\":true,\"x\":[112.364,110.76400000000001,102.48400000000001,100.682,100.37,100.09700000000001,99.964,99.283,99.733,100.042,100.515,105.842,117.184,99.548,99.834,99.309,98.688,99.061,98.60900000000001,99.166,99.279,115.77000000000001,100.66499999999999,98.86500000000001,97.99600000000001,98.07,97.789,97.96000000000001,98.394,98.491,98.09899999999999,97.788,98.652,101.17,99.34899999999999,98.718,98.565,99.131,98.50800000000001,98.28399999999999,98.398,98.096,97.875,97.357],\"x0\":\" \",\"xaxis\":\"x\",\"y\":[\"ALB\",\"ALB\",\"ALB\",\"ALB\",\"ALB\",\"ALB\",\"ALB\",\"ALB\",\"ALB\",\"ALB\",\"ALB\",\"ALB\",\"ALB\",\"ALB\",\"ALB\",\"ALB\",\"ALB\",\"ALB\",\"ALB\",\"ALB\",\"ALB\",\"ALB\",\"ALB\",\"ALB\",\"ALB\",\"ALB\",\"ALB\",\"ALB\",\"ALB\",\"ALB\",\"ALB\",\"ALB\",\"ALB\",\"ALB\",\"ALB\",\"ALB\",\"ALB\",\"ALB\",\"ALB\",\"ALB\",\"ALB\",\"ALB\",\"ALB\",\"ALB\"],\"y0\":\" \",\"yaxis\":\"y\",\"type\":\"box\"},{\"alignmentgroup\":\"True\",\"boxpoints\":false,\"hovertemplate\":\"Driver=%{y}<br>Duration (Seconds, Outliers/Red Flags, Removed)=%{x}<extra></extra>\",\"legendgroup\":\"SAR\",\"marker\":{\"color\":\"#00A0DE\"},\"name\":\"SAR\",\"notched\":false,\"offsetgroup\":\"SAR\",\"orientation\":\"h\",\"showlegend\":true,\"x\":[115.541,128.217,112.771,102.737,100.81700000000001,100.229,100.17099999999999,99.887,99.357,99.693,102.164,106.786,116.50999999999999,99.945,100.132,100.113,99.45400000000001,99.362,98.50999999999999,98.67099999999999,98.44800000000001,99.336,117.91,102.631,99.447,98.757,97.74000000000001,98.253,98.803,97.91499999999999,98.19800000000001,98.694,98.61099999999999,98.304,99.781,98.695,100.057,98.65,98.94200000000001,98.569,98.814,98.39699999999999,98.288,98.631,98.086],\"x0\":\" \",\"xaxis\":\"x\",\"y\":[\"SAR\",\"SAR\",\"SAR\",\"SAR\",\"SAR\",\"SAR\",\"SAR\",\"SAR\",\"SAR\",\"SAR\",\"SAR\",\"SAR\",\"SAR\",\"SAR\",\"SAR\",\"SAR\",\"SAR\",\"SAR\",\"SAR\",\"SAR\",\"SAR\",\"SAR\",\"SAR\",\"SAR\",\"SAR\",\"SAR\",\"SAR\",\"SAR\",\"SAR\",\"SAR\",\"SAR\",\"SAR\",\"SAR\",\"SAR\",\"SAR\",\"SAR\",\"SAR\",\"SAR\",\"SAR\",\"SAR\",\"SAR\",\"SAR\",\"SAR\",\"SAR\",\"SAR\"],\"y0\":\" \",\"yaxis\":\"y\",\"type\":\"box\"},{\"alignmentgroup\":\"True\",\"boxpoints\":false,\"hovertemplate\":\"Driver=%{y}<br>Duration (Seconds, Outliers/Red Flags, Removed)=%{x}<extra></extra>\",\"legendgroup\":\"MAG\",\"marker\":{\"color\":\"#E6002B\"},\"name\":\"MAG\",\"notched\":false,\"offsetgroup\":\"MAG\",\"orientation\":\"h\",\"showlegend\":true,\"x\":[116.721,128.237,115.23599999999999,103.315,101.37899999999999,101.07900000000001,101.089,100.803,99.917,99.792,105.961,116.11099999999999,99.935,99.801,99.935,99.88,99.806,99.878,99.209,99.577,99.453,99.86699999999999,122.844,101.697,99.701,98.757,98.174,98.032,98.73400000000001,98.158,97.721,98.61500000000001,98.684,98.163,98.687,98.455,98.134,97.91499999999999,98.693,98.59700000000001,98.918,98.215,97.774,97.476,97.455],\"x0\":\" \",\"xaxis\":\"x\",\"y\":[\"MAG\",\"MAG\",\"MAG\",\"MAG\",\"MAG\",\"MAG\",\"MAG\",\"MAG\",\"MAG\",\"MAG\",\"MAG\",\"MAG\",\"MAG\",\"MAG\",\"MAG\",\"MAG\",\"MAG\",\"MAG\",\"MAG\",\"MAG\",\"MAG\",\"MAG\",\"MAG\",\"MAG\",\"MAG\",\"MAG\",\"MAG\",\"MAG\",\"MAG\",\"MAG\",\"MAG\",\"MAG\",\"MAG\",\"MAG\",\"MAG\",\"MAG\",\"MAG\",\"MAG\",\"MAG\",\"MAG\",\"MAG\",\"MAG\",\"MAG\",\"MAG\",\"MAG\"],\"y0\":\" \",\"yaxis\":\"y\",\"type\":\"box\"},{\"alignmentgroup\":\"True\",\"boxpoints\":false,\"hovertemplate\":\"Driver=%{y}<br>Duration (Seconds, Outliers/Red Flags, Removed)=%{x}<extra></extra>\",\"legendgroup\":\"OCO\",\"marker\":{\"color\":\"#2173B8\"},\"name\":\"OCO\",\"notched\":false,\"offsetgroup\":\"OCO\",\"orientation\":\"h\",\"showlegend\":true,\"x\":[118.932,126.961,112.693,103.39500000000001,101.013,100.316,99.72800000000001,99.513,99.34899999999999,99.263,99.513,99.685,100.191,100.08,100.701,100.279,105.34100000000001,116.37299999999999,98.063,97.787,97.67699999999999,98.428,114.399,101.144,98.51400000000001,98.174,97.62899999999999,97.458,97.81,97.449,97.062,97.044,96.964,96.905,97.19,97.607,97.253,97.292,97.191,96.929,96.917,96.637,96.845,96.936,97.56700000000001],\"x0\":\" \",\"xaxis\":\"x\",\"y\":[\"OCO\",\"OCO\",\"OCO\",\"OCO\",\"OCO\",\"OCO\",\"OCO\",\"OCO\",\"OCO\",\"OCO\",\"OCO\",\"OCO\",\"OCO\",\"OCO\",\"OCO\",\"OCO\",\"OCO\",\"OCO\",\"OCO\",\"OCO\",\"OCO\",\"OCO\",\"OCO\",\"OCO\",\"OCO\",\"OCO\",\"OCO\",\"OCO\",\"OCO\",\"OCO\",\"OCO\",\"OCO\",\"OCO\",\"OCO\",\"OCO\",\"OCO\",\"OCO\",\"OCO\",\"OCO\",\"OCO\",\"OCO\",\"OCO\",\"OCO\",\"OCO\",\"OCO\"],\"y0\":\" \",\"yaxis\":\"y\",\"type\":\"box\"},{\"alignmentgroup\":\"True\",\"boxpoints\":false,\"hovertemplate\":\"Driver=%{y}<br>Duration (Seconds, Outliers/Red Flags, Removed)=%{x}<extra></extra>\",\"legendgroup\":\"STR\",\"marker\":{\"color\":\"#002420\"},\"name\":\"STR\",\"notched\":false,\"offsetgroup\":\"STR\",\"orientation\":\"h\",\"showlegend\":true,\"x\":[119.75399999999999,127.021,117.862,103.78999999999999,101.768,100.346,102.36,100.009,99.732,99.056,98.799,99.566,98.701,99.372,98.919,98.833,99.953,99.50200000000001,99.235,99.025,99.149,99.779,115.916,101.723,98.80199999999999,98.084,97.88300000000001,97.622,97.783,97.887,97.358,97.23400000000001,96.85300000000001,96.816,96.932,97.741,97.078,96.941,96.763,96.584,96.868,96.791,97.69200000000001,96.99000000000001,96.642],\"x0\":\" \",\"xaxis\":\"x\",\"y\":[\"STR\",\"STR\",\"STR\",\"STR\",\"STR\",\"STR\",\"STR\",\"STR\",\"STR\",\"STR\",\"STR\",\"STR\",\"STR\",\"STR\",\"STR\",\"STR\",\"STR\",\"STR\",\"STR\",\"STR\",\"STR\",\"STR\",\"STR\",\"STR\",\"STR\",\"STR\",\"STR\",\"STR\",\"STR\",\"STR\",\"STR\",\"STR\",\"STR\",\"STR\",\"STR\",\"STR\",\"STR\",\"STR\",\"STR\",\"STR\",\"STR\",\"STR\",\"STR\",\"STR\",\"STR\"],\"y0\":\" \",\"yaxis\":\"y\",\"type\":\"box\"},{\"alignmentgroup\":\"True\",\"boxpoints\":false,\"hovertemplate\":\"Driver=%{y}<br>Duration (Seconds, Outliers/Red Flags, Removed)=%{x}<extra></extra>\",\"legendgroup\":\"HUL\",\"marker\":{\"color\":\"#E6002B\"},\"name\":\"HUL\",\"notched\":false,\"offsetgroup\":\"HUL\",\"orientation\":\"h\",\"showlegend\":true,\"x\":[122.459,124.852,115.664,103.232,102.00999999999999,100.422,101.668,101.92099999999999,105.80199999999999,117.413,99.47200000000001,98.701,98.63499999999999,99.844,101.015,100.471,99.805,99.869,100.506,99.27000000000001,98.834,99.64,123.608,101.50999999999999,99.59,99.902,98.68299999999999,98.12899999999999,98.03399999999999,97.89699999999999,97.756,97.87700000000001,98.542,98.22200000000001,99.174,98.762,98.48599999999999,97.565,97.977,98.535],\"x0\":\" \",\"xaxis\":\"x\",\"y\":[\"HUL\",\"HUL\",\"HUL\",\"HUL\",\"HUL\",\"HUL\",\"HUL\",\"HUL\",\"HUL\",\"HUL\",\"HUL\",\"HUL\",\"HUL\",\"HUL\",\"HUL\",\"HUL\",\"HUL\",\"HUL\",\"HUL\",\"HUL\",\"HUL\",\"HUL\",\"HUL\",\"HUL\",\"HUL\",\"HUL\",\"HUL\",\"HUL\",\"HUL\",\"HUL\",\"HUL\",\"HUL\",\"HUL\",\"HUL\",\"HUL\",\"HUL\",\"HUL\",\"HUL\",\"HUL\",\"HUL\"],\"y0\":\" \",\"yaxis\":\"y\",\"type\":\"box\"},{\"alignmentgroup\":\"True\",\"boxpoints\":false,\"hovertemplate\":\"Driver=%{y}<br>Duration (Seconds, Outliers/Red Flags, Removed)=%{x}<extra></extra>\",\"legendgroup\":\"PER\",\"marker\":{\"color\":\"#000B8D\"},\"name\":\"PER\",\"notched\":false,\"offsetgroup\":\"PER\",\"orientation\":\"h\",\"showlegend\":true,\"x\":[124.7,119.273,104.233,101.39500000000001,100.012,101.988,99.311,99.174,98.319,99.33500000000001,98.223,98.12299999999999,98.568,98.76599999999999,98.398,98.413,98.34700000000001,98.191,98.31700000000001,97.969,98.35900000000001,112.819,99.457,98.041,97.314,97.176,97.012,96.826,97.706,97.57,97.055,96.50999999999999,96.119,95.939,96.288,96.637,96.414,96.586,96.11,96.164,96.01599999999999,96.287,96.125,96.394],\"x0\":\" \",\"xaxis\":\"x\",\"y\":[\"PER\",\"PER\",\"PER\",\"PER\",\"PER\",\"PER\",\"PER\",\"PER\",\"PER\",\"PER\",\"PER\",\"PER\",\"PER\",\"PER\",\"PER\",\"PER\",\"PER\",\"PER\",\"PER\",\"PER\",\"PER\",\"PER\",\"PER\",\"PER\",\"PER\",\"PER\",\"PER\",\"PER\",\"PER\",\"PER\",\"PER\",\"PER\",\"PER\",\"PER\",\"PER\",\"PER\",\"PER\",\"PER\",\"PER\",\"PER\",\"PER\",\"PER\",\"PER\",\"PER\"],\"y0\":\" \",\"yaxis\":\"y\",\"type\":\"box\"},{\"alignmentgroup\":\"True\",\"boxpoints\":false,\"hovertemplate\":\"Driver=%{y}<br>Duration (Seconds, Outliers/Red Flags, Removed)=%{x}<extra></extra>\",\"legendgroup\":\"TSU\",\"marker\":{\"color\":\"#20394C\"},\"name\":\"TSU\",\"notched\":false,\"offsetgroup\":\"TSU\",\"orientation\":\"h\",\"showlegend\":true,\"x\":[125.227,122.828,118.27799999999999,103.863,102.303,101.561,108.267,119.18,100.181,99.928,100.334,99.86500000000001,99.89500000000001,100.142,100.17099999999999,100.825,101.259,108.249,120.216,100.97800000000001,100.432,100.094,126.114,103.333,101.279,100.687,100.396,100.28999999999999,100.334,100.56700000000001,100.209,98.836,98.957,98.689,98.39099999999999,98.00399999999999,98.155,97.945,97.72999999999999,97.587,97.906],\"x0\":\" \",\"xaxis\":\"x\",\"y\":[\"TSU\",\"TSU\",\"TSU\",\"TSU\",\"TSU\",\"TSU\",\"TSU\",\"TSU\",\"TSU\",\"TSU\",\"TSU\",\"TSU\",\"TSU\",\"TSU\",\"TSU\",\"TSU\",\"TSU\",\"TSU\",\"TSU\",\"TSU\",\"TSU\",\"TSU\",\"TSU\",\"TSU\",\"TSU\",\"TSU\",\"TSU\",\"TSU\",\"TSU\",\"TSU\",\"TSU\",\"TSU\",\"TSU\",\"TSU\",\"TSU\",\"TSU\",\"TSU\",\"TSU\",\"TSU\",\"TSU\",\"TSU\"],\"y0\":\" \",\"yaxis\":\"y\",\"type\":\"box\"},{\"alignmentgroup\":\"True\",\"boxpoints\":false,\"hovertemplate\":\"Driver=%{y}<br>Duration (Seconds, Outliers/Red Flags, Removed)=%{x}<extra></extra>\",\"legendgroup\":\"PIA\",\"marker\":{\"color\":\"#FF8000\"},\"name\":\"PIA\",\"notched\":false,\"offsetgroup\":\"PIA\",\"orientation\":\"h\",\"showlegend\":true,\"x\":[126.811,121.844,118.487,102.831,100.924,100.339,100.348,100.003,99.03,98.63499999999999,99.735,99.352,107.333,118.267,98.612,99.483,98.066,98.041,97.763,98.238,97.912,98.973,114.056,100.13900000000001,97.92,97.128,97.446,98.88900000000001,97.332,97.0,96.84899999999999,97.48400000000001,97.202,97.15100000000001,97.223,97.408,97.435,101.648,112.939,96.255,95.58500000000001,95.49000000000001,95.595,96.01400000000001,96.128],\"x0\":\" \",\"xaxis\":\"x\",\"y\":[\"PIA\",\"PIA\",\"PIA\",\"PIA\",\"PIA\",\"PIA\",\"PIA\",\"PIA\",\"PIA\",\"PIA\",\"PIA\",\"PIA\",\"PIA\",\"PIA\",\"PIA\",\"PIA\",\"PIA\",\"PIA\",\"PIA\",\"PIA\",\"PIA\",\"PIA\",\"PIA\",\"PIA\",\"PIA\",\"PIA\",\"PIA\",\"PIA\",\"PIA\",\"PIA\",\"PIA\",\"PIA\",\"PIA\",\"PIA\",\"PIA\",\"PIA\",\"PIA\",\"PIA\",\"PIA\",\"PIA\",\"PIA\",\"PIA\",\"PIA\",\"PIA\",\"PIA\"],\"y0\":\" \",\"yaxis\":\"y\",\"type\":\"box\"},{\"alignmentgroup\":\"True\",\"boxpoints\":false,\"hovertemplate\":\"Driver=%{y}<br>Duration (Seconds, Outliers/Red Flags, Removed)=%{x}<extra></extra>\",\"legendgroup\":\"NOR\",\"marker\":{\"color\":\"#FF8000\"},\"name\":\"NOR\",\"notched\":false,\"offsetgroup\":\"NOR\",\"orientation\":\"h\",\"showlegend\":true,\"x\":[119.327],\"x0\":\" \",\"xaxis\":\"x\",\"y\":[\"NOR\"],\"y0\":\" \",\"yaxis\":\"y\",\"type\":\"box\"},{\"alignmentgroup\":\"True\",\"boxpoints\":false,\"hovertemplate\":\"Driver=%{y}<br>Duration (Seconds, Outliers/Red Flags, Removed)=%{x}<extra></extra>\",\"legendgroup\":\"HAM\",\"marker\":{\"color\":\"#00A19B\"},\"name\":\"HAM\",\"notched\":false,\"offsetgroup\":\"HAM\",\"orientation\":\"h\",\"showlegend\":true,\"x\":[116.372,117.47399999999999,103.39099999999999,101.20400000000001,100.116,100.11,100.11099999999999,98.9,98.495,99.632,99.032,101.24199999999999,118.137,119.931,99.124,99.124,100.414,98.783,98.451,98.382,98.23400000000001,125.187,101.96000000000001,99.16499999999999,98.11699999999999,98.279,97.437,97.14,96.875,97.96600000000001,97.38900000000001,97.827,97.747,98.524,96.549,96.037,97.417,97.316,96.471,96.217,96.425,95.71600000000001,96.126,95.93299999999999],\"x0\":\" \",\"xaxis\":\"x\",\"y\":[\"HAM\",\"HAM\",\"HAM\",\"HAM\",\"HAM\",\"HAM\",\"HAM\",\"HAM\",\"HAM\",\"HAM\",\"HAM\",\"HAM\",\"HAM\",\"HAM\",\"HAM\",\"HAM\",\"HAM\",\"HAM\",\"HAM\",\"HAM\",\"HAM\",\"HAM\",\"HAM\",\"HAM\",\"HAM\",\"HAM\",\"HAM\",\"HAM\",\"HAM\",\"HAM\",\"HAM\",\"HAM\",\"HAM\",\"HAM\",\"HAM\",\"HAM\",\"HAM\",\"HAM\",\"HAM\",\"HAM\",\"HAM\",\"HAM\",\"HAM\",\"HAM\"],\"y0\":\" \",\"yaxis\":\"y\",\"type\":\"box\"},{\"alignmentgroup\":\"True\",\"boxpoints\":false,\"hovertemplate\":\"Driver=%{y}<br>Duration (Seconds, Outliers/Red Flags, Removed)=%{x}<extra></extra>\",\"legendgroup\":\"RIC\",\"marker\":{\"color\":\"#20394C\"},\"name\":\"RIC\",\"notched\":false,\"offsetgroup\":\"RIC\",\"orientation\":\"h\",\"showlegend\":true,\"x\":[116.345,118.551,104.744,101.63300000000001,100.435,101.588,100.862,100.804,101.959,100.87100000000001,100.286,101.22200000000001,106.533,118.99199999999999,100.392,99.72999999999999,99.708,99.872,99.525,99.363,99.656,123.488,102.319,100.798,99.382,98.997,98.53,98.12700000000001,97.893,97.761,97.4,98.13300000000001,98.088,98.686,98.96000000000001,99.455,98.589,98.834,97.50999999999999,97.34700000000001,98.136,99.503,98.38900000000001,97.108],\"x0\":\" \",\"xaxis\":\"x\",\"y\":[\"RIC\",\"RIC\",\"RIC\",\"RIC\",\"RIC\",\"RIC\",\"RIC\",\"RIC\",\"RIC\",\"RIC\",\"RIC\",\"RIC\",\"RIC\",\"RIC\",\"RIC\",\"RIC\",\"RIC\",\"RIC\",\"RIC\",\"RIC\",\"RIC\",\"RIC\",\"RIC\",\"RIC\",\"RIC\",\"RIC\",\"RIC\",\"RIC\",\"RIC\",\"RIC\",\"RIC\",\"RIC\",\"RIC\",\"RIC\",\"RIC\",\"RIC\",\"RIC\",\"RIC\",\"RIC\",\"RIC\",\"RIC\",\"RIC\",\"RIC\",\"RIC\"],\"y0\":\" \",\"yaxis\":\"y\",\"type\":\"box\"},{\"alignmentgroup\":\"True\",\"boxpoints\":false,\"hovertemplate\":\"Driver=%{y}<br>Duration (Seconds, Outliers/Red Flags, Removed)=%{x}<extra></extra>\",\"legendgroup\":\"ZHO\",\"marker\":{\"color\":\"#A42134\"},\"name\":\"ZHO\",\"notched\":false,\"offsetgroup\":\"ZHO\",\"orientation\":\"h\",\"showlegend\":true,\"x\":[116.106,119.075,103.063,101.99600000000001,100.813,99.733,100.064,99.655,99.46600000000001,100.693,101.206,101.027,100.336,100.913,101.164,101.346,100.203,100.24600000000001,100.314,100.381,101.491,119.78,101.179,99.59,98.864,97.375,98.043,97.84700000000001,97.582,97.89699999999999,98.42,98.384,98.89,98.751,98.618,99.02600000000001,98.321,99.741,98.53399999999999,99.89699999999999,98.719,99.303,99.425,98.315],\"x0\":\" \",\"xaxis\":\"x\",\"y\":[\"ZHO\",\"ZHO\",\"ZHO\",\"ZHO\",\"ZHO\",\"ZHO\",\"ZHO\",\"ZHO\",\"ZHO\",\"ZHO\",\"ZHO\",\"ZHO\",\"ZHO\",\"ZHO\",\"ZHO\",\"ZHO\",\"ZHO\",\"ZHO\",\"ZHO\",\"ZHO\",\"ZHO\",\"ZHO\",\"ZHO\",\"ZHO\",\"ZHO\",\"ZHO\",\"ZHO\",\"ZHO\",\"ZHO\",\"ZHO\",\"ZHO\",\"ZHO\",\"ZHO\",\"ZHO\",\"ZHO\",\"ZHO\",\"ZHO\",\"ZHO\",\"ZHO\",\"ZHO\",\"ZHO\",\"ZHO\",\"ZHO\",\"ZHO\"],\"y0\":\" \",\"yaxis\":\"y\",\"type\":\"box\"},{\"alignmentgroup\":\"True\",\"boxpoints\":false,\"hovertemplate\":\"Driver=%{y}<br>Duration (Seconds, Outliers/Red Flags, Removed)=%{x}<extra></extra>\",\"legendgroup\":\"SAI\",\"marker\":{\"color\":\"#EF1A2D\"},\"name\":\"SAI\",\"notched\":false,\"offsetgroup\":\"SAI\",\"orientation\":\"h\",\"showlegend\":true,\"x\":[113.95,123.387,104.55,101.70400000000001,100.334,101.345,99.953,100.232,99.737,98.19,99.005,100.182,100.34700000000001,99.125,99.027,99.482,99.339,99.594,99.48599999999999,100.51599999999999,100.22,116.574,101.531,99.146,98.398,98.0,98.049,97.489,97.61500000000001,97.894,97.858,98.298,98.142,97.241,96.804,96.47399999999999,96.51599999999999,97.50200000000001,96.064,96.186,95.98400000000001,96.482,96.54599999999999,96.507],\"x0\":\" \",\"xaxis\":\"x\",\"y\":[\"SAI\",\"SAI\",\"SAI\",\"SAI\",\"SAI\",\"SAI\",\"SAI\",\"SAI\",\"SAI\",\"SAI\",\"SAI\",\"SAI\",\"SAI\",\"SAI\",\"SAI\",\"SAI\",\"SAI\",\"SAI\",\"SAI\",\"SAI\",\"SAI\",\"SAI\",\"SAI\",\"SAI\",\"SAI\",\"SAI\",\"SAI\",\"SAI\",\"SAI\",\"SAI\",\"SAI\",\"SAI\",\"SAI\",\"SAI\",\"SAI\",\"SAI\",\"SAI\",\"SAI\",\"SAI\",\"SAI\",\"SAI\",\"SAI\",\"SAI\",\"SAI\"],\"y0\":\" \",\"yaxis\":\"y\",\"type\":\"box\"},{\"alignmentgroup\":\"True\",\"boxpoints\":false,\"hovertemplate\":\"Driver=%{y}<br>Duration (Seconds, Outliers/Red Flags, Removed)=%{x}<extra></extra>\",\"legendgroup\":\"ALO\",\"marker\":{\"color\":\"#002420\"},\"name\":\"ALO\",\"notched\":false,\"offsetgroup\":\"ALO\",\"orientation\":\"h\",\"showlegend\":true,\"x\":[120.953,104.11699999999999,101.247,100.477,101.68,100.779,100.03399999999999,100.40899999999999,97.964,98.547,101.693,100.083,99.60300000000001,99.256,99.185,99.602,100.032,100.929,99.827,99.777,117.613,101.213,99.64500000000001,98.211,97.769,98.291,97.757,97.614,97.797,97.87899999999999,97.759,98.048,97.628,96.70400000000001,96.559,96.801,97.99199999999999,96.68,97.178,96.718,97.288,96.703,96.96600000000001],\"x0\":\" \",\"xaxis\":\"x\",\"y\":[\"ALO\",\"ALO\",\"ALO\",\"ALO\",\"ALO\",\"ALO\",\"ALO\",\"ALO\",\"ALO\",\"ALO\",\"ALO\",\"ALO\",\"ALO\",\"ALO\",\"ALO\",\"ALO\",\"ALO\",\"ALO\",\"ALO\",\"ALO\",\"ALO\",\"ALO\",\"ALO\",\"ALO\",\"ALO\",\"ALO\",\"ALO\",\"ALO\",\"ALO\",\"ALO\",\"ALO\",\"ALO\",\"ALO\",\"ALO\",\"ALO\",\"ALO\",\"ALO\",\"ALO\",\"ALO\",\"ALO\",\"ALO\",\"ALO\",\"ALO\"],\"y0\":\" \",\"yaxis\":\"y\",\"type\":\"box\"},{\"alignmentgroup\":\"True\",\"boxpoints\":false,\"hovertemplate\":\"Driver=%{y}<br>Duration (Seconds, Outliers/Red Flags, Removed)=%{x}<extra></extra>\",\"legendgroup\":\"BOT\",\"marker\":{\"color\":\"#A42134\"},\"name\":\"BOT\",\"notched\":false,\"offsetgroup\":\"BOT\",\"orientation\":\"h\",\"showlegend\":true,\"x\":[104.451,102.15899999999999,101.37700000000001,101.854,100.763,100.50999999999999,100.263,103.971,100.72800000000001,100.774,101.697,100.86,101.27000000000001,100.753,102.14500000000001,102.542,101.22399999999999,106.578,118.90100000000001,102.48400000000001,100.952,100.816,100.257,101.292,101.214,101.02000000000001,101.741,101.632,100.499,100.969,100.34700000000001,100.593,100.00200000000001,99.831,99.304,99.075,98.672,99.237,98.926,97.562,99.068],\"x0\":\" \",\"xaxis\":\"x\",\"y\":[\"BOT\",\"BOT\",\"BOT\",\"BOT\",\"BOT\",\"BOT\",\"BOT\",\"BOT\",\"BOT\",\"BOT\",\"BOT\",\"BOT\",\"BOT\",\"BOT\",\"BOT\",\"BOT\",\"BOT\",\"BOT\",\"BOT\",\"BOT\",\"BOT\",\"BOT\",\"BOT\",\"BOT\",\"BOT\",\"BOT\",\"BOT\",\"BOT\",\"BOT\",\"BOT\",\"BOT\",\"BOT\",\"BOT\",\"BOT\",\"BOT\",\"BOT\",\"BOT\",\"BOT\",\"BOT\",\"BOT\",\"BOT\"],\"y0\":\" \",\"yaxis\":\"y\",\"type\":\"box\"}],                        {\"template\":{\"data\":{\"histogram2dcontour\":[{\"type\":\"histogram2dcontour\",\"colorbar\":{\"outlinewidth\":0,\"ticks\":\"\"},\"colorscale\":[[0.0,\"#0d0887\"],[0.1111111111111111,\"#46039f\"],[0.2222222222222222,\"#7201a8\"],[0.3333333333333333,\"#9c179e\"],[0.4444444444444444,\"#bd3786\"],[0.5555555555555556,\"#d8576b\"],[0.6666666666666666,\"#ed7953\"],[0.7777777777777778,\"#fb9f3a\"],[0.8888888888888888,\"#fdca26\"],[1.0,\"#f0f921\"]]}],\"choropleth\":[{\"type\":\"choropleth\",\"colorbar\":{\"outlinewidth\":0,\"ticks\":\"\"}}],\"histogram2d\":[{\"type\":\"histogram2d\",\"colorbar\":{\"outlinewidth\":0,\"ticks\":\"\"},\"colorscale\":[[0.0,\"#0d0887\"],[0.1111111111111111,\"#46039f\"],[0.2222222222222222,\"#7201a8\"],[0.3333333333333333,\"#9c179e\"],[0.4444444444444444,\"#bd3786\"],[0.5555555555555556,\"#d8576b\"],[0.6666666666666666,\"#ed7953\"],[0.7777777777777778,\"#fb9f3a\"],[0.8888888888888888,\"#fdca26\"],[1.0,\"#f0f921\"]]}],\"heatmap\":[{\"type\":\"heatmap\",\"colorbar\":{\"outlinewidth\":0,\"ticks\":\"\"},\"colorscale\":[[0.0,\"#0d0887\"],[0.1111111111111111,\"#46039f\"],[0.2222222222222222,\"#7201a8\"],[0.3333333333333333,\"#9c179e\"],[0.4444444444444444,\"#bd3786\"],[0.5555555555555556,\"#d8576b\"],[0.6666666666666666,\"#ed7953\"],[0.7777777777777778,\"#fb9f3a\"],[0.8888888888888888,\"#fdca26\"],[1.0,\"#f0f921\"]]}],\"heatmapgl\":[{\"type\":\"heatmapgl\",\"colorbar\":{\"outlinewidth\":0,\"ticks\":\"\"},\"colorscale\":[[0.0,\"#0d0887\"],[0.1111111111111111,\"#46039f\"],[0.2222222222222222,\"#7201a8\"],[0.3333333333333333,\"#9c179e\"],[0.4444444444444444,\"#bd3786\"],[0.5555555555555556,\"#d8576b\"],[0.6666666666666666,\"#ed7953\"],[0.7777777777777778,\"#fb9f3a\"],[0.8888888888888888,\"#fdca26\"],[1.0,\"#f0f921\"]]}],\"contourcarpet\":[{\"type\":\"contourcarpet\",\"colorbar\":{\"outlinewidth\":0,\"ticks\":\"\"}}],\"contour\":[{\"type\":\"contour\",\"colorbar\":{\"outlinewidth\":0,\"ticks\":\"\"},\"colorscale\":[[0.0,\"#0d0887\"],[0.1111111111111111,\"#46039f\"],[0.2222222222222222,\"#7201a8\"],[0.3333333333333333,\"#9c179e\"],[0.4444444444444444,\"#bd3786\"],[0.5555555555555556,\"#d8576b\"],[0.6666666666666666,\"#ed7953\"],[0.7777777777777778,\"#fb9f3a\"],[0.8888888888888888,\"#fdca26\"],[1.0,\"#f0f921\"]]}],\"surface\":[{\"type\":\"surface\",\"colorbar\":{\"outlinewidth\":0,\"ticks\":\"\"},\"colorscale\":[[0.0,\"#0d0887\"],[0.1111111111111111,\"#46039f\"],[0.2222222222222222,\"#7201a8\"],[0.3333333333333333,\"#9c179e\"],[0.4444444444444444,\"#bd3786\"],[0.5555555555555556,\"#d8576b\"],[0.6666666666666666,\"#ed7953\"],[0.7777777777777778,\"#fb9f3a\"],[0.8888888888888888,\"#fdca26\"],[1.0,\"#f0f921\"]]}],\"mesh3d\":[{\"type\":\"mesh3d\",\"colorbar\":{\"outlinewidth\":0,\"ticks\":\"\"}}],\"scatter\":[{\"fillpattern\":{\"fillmode\":\"overlay\",\"size\":10,\"solidity\":0.2},\"type\":\"scatter\"}],\"parcoords\":[{\"type\":\"parcoords\",\"line\":{\"colorbar\":{\"outlinewidth\":0,\"ticks\":\"\"}}}],\"scatterpolargl\":[{\"type\":\"scatterpolargl\",\"marker\":{\"colorbar\":{\"outlinewidth\":0,\"ticks\":\"\"}}}],\"bar\":[{\"error_x\":{\"color\":\"#2a3f5f\"},\"error_y\":{\"color\":\"#2a3f5f\"},\"marker\":{\"line\":{\"color\":\"#E5ECF6\",\"width\":0.5},\"pattern\":{\"fillmode\":\"overlay\",\"size\":10,\"solidity\":0.2}},\"type\":\"bar\"}],\"scattergeo\":[{\"type\":\"scattergeo\",\"marker\":{\"colorbar\":{\"outlinewidth\":0,\"ticks\":\"\"}}}],\"scatterpolar\":[{\"type\":\"scatterpolar\",\"marker\":{\"colorbar\":{\"outlinewidth\":0,\"ticks\":\"\"}}}],\"histogram\":[{\"marker\":{\"pattern\":{\"fillmode\":\"overlay\",\"size\":10,\"solidity\":0.2}},\"type\":\"histogram\"}],\"scattergl\":[{\"type\":\"scattergl\",\"marker\":{\"colorbar\":{\"outlinewidth\":0,\"ticks\":\"\"}}}],\"scatter3d\":[{\"type\":\"scatter3d\",\"line\":{\"colorbar\":{\"outlinewidth\":0,\"ticks\":\"\"}},\"marker\":{\"colorbar\":{\"outlinewidth\":0,\"ticks\":\"\"}}}],\"scattermapbox\":[{\"type\":\"scattermapbox\",\"marker\":{\"colorbar\":{\"outlinewidth\":0,\"ticks\":\"\"}}}],\"scatterternary\":[{\"type\":\"scatterternary\",\"marker\":{\"colorbar\":{\"outlinewidth\":0,\"ticks\":\"\"}}}],\"scattercarpet\":[{\"type\":\"scattercarpet\",\"marker\":{\"colorbar\":{\"outlinewidth\":0,\"ticks\":\"\"}}}],\"carpet\":[{\"aaxis\":{\"endlinecolor\":\"#2a3f5f\",\"gridcolor\":\"white\",\"linecolor\":\"white\",\"minorgridcolor\":\"white\",\"startlinecolor\":\"#2a3f5f\"},\"baxis\":{\"endlinecolor\":\"#2a3f5f\",\"gridcolor\":\"white\",\"linecolor\":\"white\",\"minorgridcolor\":\"white\",\"startlinecolor\":\"#2a3f5f\"},\"type\":\"carpet\"}],\"table\":[{\"cells\":{\"fill\":{\"color\":\"#EBF0F8\"},\"line\":{\"color\":\"white\"}},\"header\":{\"fill\":{\"color\":\"#C8D4E3\"},\"line\":{\"color\":\"white\"}},\"type\":\"table\"}],\"barpolar\":[{\"marker\":{\"line\":{\"color\":\"#E5ECF6\",\"width\":0.5},\"pattern\":{\"fillmode\":\"overlay\",\"size\":10,\"solidity\":0.2}},\"type\":\"barpolar\"}],\"pie\":[{\"automargin\":true,\"type\":\"pie\"}]},\"layout\":{\"autotypenumbers\":\"strict\",\"colorway\":[\"#636efa\",\"#EF553B\",\"#00cc96\",\"#ab63fa\",\"#FFA15A\",\"#19d3f3\",\"#FF6692\",\"#B6E880\",\"#FF97FF\",\"#FECB52\"],\"font\":{\"color\":\"#2a3f5f\"},\"hovermode\":\"closest\",\"hoverlabel\":{\"align\":\"left\"},\"paper_bgcolor\":\"white\",\"plot_bgcolor\":\"#E5ECF6\",\"polar\":{\"bgcolor\":\"#E5ECF6\",\"angularaxis\":{\"gridcolor\":\"white\",\"linecolor\":\"white\",\"ticks\":\"\"},\"radialaxis\":{\"gridcolor\":\"white\",\"linecolor\":\"white\",\"ticks\":\"\"}},\"ternary\":{\"bgcolor\":\"#E5ECF6\",\"aaxis\":{\"gridcolor\":\"white\",\"linecolor\":\"white\",\"ticks\":\"\"},\"baxis\":{\"gridcolor\":\"white\",\"linecolor\":\"white\",\"ticks\":\"\"},\"caxis\":{\"gridcolor\":\"white\",\"linecolor\":\"white\",\"ticks\":\"\"}},\"coloraxis\":{\"colorbar\":{\"outlinewidth\":0,\"ticks\":\"\"}},\"colorscale\":{\"sequential\":[[0.0,\"#0d0887\"],[0.1111111111111111,\"#46039f\"],[0.2222222222222222,\"#7201a8\"],[0.3333333333333333,\"#9c179e\"],[0.4444444444444444,\"#bd3786\"],[0.5555555555555556,\"#d8576b\"],[0.6666666666666666,\"#ed7953\"],[0.7777777777777778,\"#fb9f3a\"],[0.8888888888888888,\"#fdca26\"],[1.0,\"#f0f921\"]],\"sequentialminus\":[[0.0,\"#0d0887\"],[0.1111111111111111,\"#46039f\"],[0.2222222222222222,\"#7201a8\"],[0.3333333333333333,\"#9c179e\"],[0.4444444444444444,\"#bd3786\"],[0.5555555555555556,\"#d8576b\"],[0.6666666666666666,\"#ed7953\"],[0.7777777777777778,\"#fb9f3a\"],[0.8888888888888888,\"#fdca26\"],[1.0,\"#f0f921\"]],\"diverging\":[[0,\"#8e0152\"],[0.1,\"#c51b7d\"],[0.2,\"#de77ae\"],[0.3,\"#f1b6da\"],[0.4,\"#fde0ef\"],[0.5,\"#f7f7f7\"],[0.6,\"#e6f5d0\"],[0.7,\"#b8e186\"],[0.8,\"#7fbc41\"],[0.9,\"#4d9221\"],[1,\"#276419\"]]},\"xaxis\":{\"gridcolor\":\"white\",\"linecolor\":\"white\",\"ticks\":\"\",\"title\":{\"standoff\":15},\"zerolinecolor\":\"white\",\"automargin\":true,\"zerolinewidth\":2},\"yaxis\":{\"gridcolor\":\"white\",\"linecolor\":\"white\",\"ticks\":\"\",\"title\":{\"standoff\":15},\"zerolinecolor\":\"white\",\"automargin\":true,\"zerolinewidth\":2},\"scene\":{\"xaxis\":{\"backgroundcolor\":\"#E5ECF6\",\"gridcolor\":\"white\",\"linecolor\":\"white\",\"showbackground\":true,\"ticks\":\"\",\"zerolinecolor\":\"white\",\"gridwidth\":2},\"yaxis\":{\"backgroundcolor\":\"#E5ECF6\",\"gridcolor\":\"white\",\"linecolor\":\"white\",\"showbackground\":true,\"ticks\":\"\",\"zerolinecolor\":\"white\",\"gridwidth\":2},\"zaxis\":{\"backgroundcolor\":\"#E5ECF6\",\"gridcolor\":\"white\",\"linecolor\":\"white\",\"showbackground\":true,\"ticks\":\"\",\"zerolinecolor\":\"white\",\"gridwidth\":2}},\"shapedefaults\":{\"line\":{\"color\":\"#2a3f5f\"}},\"annotationdefaults\":{\"arrowcolor\":\"#2a3f5f\",\"arrowhead\":0,\"arrowwidth\":1},\"geo\":{\"bgcolor\":\"white\",\"landcolor\":\"#E5ECF6\",\"subunitcolor\":\"white\",\"showland\":true,\"showlakes\":true,\"lakecolor\":\"white\"},\"title\":{\"x\":0.05},\"mapbox\":{\"style\":\"light\"}}},\"xaxis\":{\"anchor\":\"y\",\"domain\":[0.0,1.0],\"title\":{\"text\":\"Duration (Seconds, Outliers/Red Flags, Removed)\"}},\"yaxis\":{\"anchor\":\"x\",\"domain\":[0.0,1.0],\"title\":{\"text\":\"Driver\"},\"categoryorder\":\"array\",\"categoryarray\":[\"BOT\",\"ALO\",\"SAI\",\"ZHO\",\"RIC\",\"HAM\",\"NOR\",\"PIA\",\"TSU\",\"PER\",\"HUL\",\"STR\",\"OCO\",\"MAG\",\"SAR\",\"ALB\",\"GAS\",\"RUS\",\"LEC\",\"VER\"]},\"legend\":{\"title\":{\"text\":\"Driver\"},\"tracegroupgap\":0},\"margin\":{\"t\":60},\"boxmode\":\"overlay\",\"showlegend\":false,\"title\":{\"font\":{\"family\":\"Arial, sans-serif\",\"size\":30},\"text\":\"<b>Lap Times</b>\",\"x\":0.5}},                        {\"responsive\": true}                    ).then(function(){\n",
       "                            \n",
       "var gd = document.getElementById('b9065a59-3616-4943-ac06-84969d94803c');\n",
       "var x = new MutationObserver(function (mutations, observer) {{\n",
       "        var display = window.getComputedStyle(gd).display;\n",
       "        if (!display || display === 'none') {{\n",
       "            console.log([gd, 'removed!']);\n",
       "            Plotly.purge(gd);\n",
       "            observer.disconnect();\n",
       "        }}\n",
       "}});\n",
       "\n",
       "// Listen for the removal of the full notebook cells\n",
       "var notebookContainer = gd.closest('#notebook-container');\n",
       "if (notebookContainer) {{\n",
       "    x.observe(notebookContainer, {childList: true});\n",
       "}}\n",
       "\n",
       "// Listen for the clearing of the current output cell\n",
       "var outputEl = gd.closest('.output');\n",
       "if (outputEl) {{\n",
       "    x.observe(outputEl, {childList: true});\n",
       "}}\n",
       "\n",
       "                        })                };                });            </script>        </div>"
      ]
     },
     "metadata": {},
     "output_type": "display_data"
    }
   ],
   "source": [
    "if not lap_tim_emp:\n",
    "    fig = px.box(lap_driver_no, x=\"duration\", y=\"Driver\", color='Driver', points=False, color_discrete_map=color_map, labels={\n",
    "    \"code\": \"Driver\",\n",
    "    \"duration\":\"Duration (Seconds, Outliers/Red Flags, Removed)\"\n",
    "    })\n",
    "    fig.update_layout(showlegend=False)\n",
    "    fig.update_layout(title_text='<b>Lap Times</b>', titlefont = dict(\n",
    "         family = 'Arial, sans-serif',\n",
    "         size = 30\n",
    "      ), title_x=0.5)\n",
    "    fig.show()\n",
    "else:\n",
    "        display(md(f\"<h1 style='background:#FFF200;border:0; color:black;box-shadow: 10px 10px 5px 0px rgba(0,0,0,0.75);transform: rotateX(10deg);'><center style='color: black;'>No Lap Data Available From API</center></h1>\"))"
   ]
  },
  {
   "cell_type": "code",
   "execution_count": 28,
   "id": "4220bbd1",
   "metadata": {
    "_kg_hide-input": true,
    "execution": {
     "iopub.execute_input": "2023-11-21T00:34:27.924269Z",
     "iopub.status.busy": "2023-11-21T00:34:27.923823Z",
     "iopub.status.idle": "2023-11-21T00:34:27.944161Z",
     "shell.execute_reply": "2023-11-21T00:34:27.942640Z"
    },
    "papermill": {
     "duration": 0.047072,
     "end_time": "2023-11-21T00:34:27.947121",
     "exception": false,
     "start_time": "2023-11-21T00:34:27.900049",
     "status": "completed"
    },
    "tags": []
   },
   "outputs": [],
   "source": [
    "def multi_lap_plot(names, addAll = True):\n",
    "    fig = go.Figure()\n",
    "\n",
    "    fig = px.line(lap_driver_no, x=\"lap\", y=\"duration\", color='Driver', labels={\n",
    "    \"duration\": \"Lap Time (In seconds, Outliers/Red Flags Removed)\",\n",
    "    \"lap\": \"Lap\"\n",
    "}, title='Lap Times', color_discrete_map=color_map)\n",
    "    fig.update_layout(title_text='<b>Lap Times</b>', titlefont = dict(\n",
    "         family = 'Arial, sans-serif',\n",
    "         size = 30\n",
    "      ), title_x=0.5)\n",
    "\n",
    "    button_all = dict(label = 'All',\n",
    "                      method = 'update',\n",
    "                      args = [{'visible': [True]*len(names),\n",
    "                               'title': 'All',\n",
    "                               'showlegend':True}])\n",
    "\n",
    "    def create_layout_button(column):\n",
    "        return dict(label = column,\n",
    "                    method = 'update',\n",
    "                    args = [{'visible': [c == column for c in names],\n",
    "                             'title': column,\n",
    "                             'showlegend': True}])\n",
    "\n",
    "    fig.update_layout(\n",
    "        updatemenus=[go.layout.Updatemenu(\n",
    "            active = 0,\n",
    "            buttons = ([button_all] * addAll) + [create_layout_button(column) for column in names]\n",
    "            )\n",
    "        ])\n",
    "    \n",
    "    fig.show()\n",
    "    \n",
    "    \n",
    "    \n",
    "def multi_pos_plot(names, addAll = True):\n",
    "    fig = go.Figure()\n",
    "\n",
    "    fig = px.line(lap_driver, x=\"lap\", y=\"position\", color='Driver', labels={\n",
    "    \"position\":  \"Position\",\n",
    "    \"lap\": \"Lap\"\n",
    "}, color_discrete_map=color_map)\n",
    "    fig.update_layout(title_text='<b>Position By Lap</b>', titlefont = dict(\n",
    "         family = 'Arial, sans-serif',\n",
    "         size = 30\n",
    "      ), title_x=0.5)\n",
    "\n",
    "    button_all = dict(label = 'All',\n",
    "                      method = 'update',\n",
    "                      args = [{'visible': [True]*len(names),\n",
    "                               'title': 'All',\n",
    "                               'showlegend':True}])\n",
    "\n",
    "    def create_layout_button(column):\n",
    "        return dict(label = column,\n",
    "                    method = 'update',\n",
    "                    args = [{'visible': [c == column for c in names],\n",
    "                             'title': column,\n",
    "                             'showlegend': True}])\n",
    "\n",
    "    fig.update_layout(\n",
    "        updatemenus=[go.layout.Updatemenu(\n",
    "            active = 0,\n",
    "            buttons = ([button_all] * addAll) + [create_layout_button(column) for column in names]\n",
    "            )\n",
    "        ])\n",
    "    \n",
    "    fig.show()\n"
   ]
  },
  {
   "cell_type": "code",
   "execution_count": 29,
   "id": "71733f09",
   "metadata": {
    "_kg_hide-input": true,
    "execution": {
     "iopub.execute_input": "2023-11-21T00:34:27.992600Z",
     "iopub.status.busy": "2023-11-21T00:34:27.992103Z",
     "iopub.status.idle": "2023-11-21T00:34:28.182054Z",
     "shell.execute_reply": "2023-11-21T00:34:28.180934Z"
    },
    "papermill": {
     "duration": 0.216144,
     "end_time": "2023-11-21T00:34:28.184959",
     "exception": false,
     "start_time": "2023-11-21T00:34:27.968815",
     "status": "completed"
    },
    "tags": []
   },
   "outputs": [
    {
     "data": {
      "text/html": [
       "<div>                            <div id=\"32f88bfb-991c-4cc0-b065-c73d1095c9cb\" class=\"plotly-graph-div\" style=\"height:525px; width:100%;\"></div>            <script type=\"text/javascript\">                require([\"plotly\"], function(Plotly) {                    window.PLOTLYENV=window.PLOTLYENV || {};                                    if (document.getElementById(\"32f88bfb-991c-4cc0-b065-c73d1095c9cb\")) {                    Plotly.newPlot(                        \"32f88bfb-991c-4cc0-b065-c73d1095c9cb\",                        [{\"hovertemplate\":\"Driver=VER<br>Lap=%{x}<br>Lap Time (In seconds, Outliers/Red Flags Removed)=%{y}<extra></extra>\",\"legendgroup\":\"VER\",\"line\":{\"color\":\"#000B8D\",\"dash\":\"solid\"},\"marker\":{\"symbol\":\"circle\"},\"mode\":\"lines\",\"name\":\"VER\",\"orientation\":\"v\",\"showlegend\":true,\"x\":[1.0,3.0,7.0,8.0,9.0,10.0,11.0,12.0,13.0,14.0,15.0,16.0,17.0,18.0,19.0,20.0,21.0,22.0,23.0,24.0,25.0,26.0,29.0,30.0,31.0,32.0,33.0,34.0,35.0,36.0,37.0,38.0,39.0,40.0,41.0,42.0,43.0,44.0,45.0,46.0,47.0,48.0,49.0,50.0],\"xaxis\":\"x\",\"y\":[105.67,109.988,100.785,100.142,99.669,99.48400000000001,98.763,98.773,98.759,98.94200000000001,99.477,104.727,122.018,98.348,98.33500000000001,99.61099999999999,97.88,98.60499999999999,97.988,98.482,98.943,113.326,100.938,98.469,97.74799999999999,96.60300000000001,96.596,96.35900000000001,96.239,96.27600000000001,96.66,96.1,95.938,95.997,95.92,96.212,95.983,95.614,95.86699999999999,95.896,95.87899999999999,96.497,96.95,97.637],\"yaxis\":\"y\",\"type\":\"scatter\"},{\"hovertemplate\":\"Driver=LEC<br>Lap=%{x}<br>Lap Time (In seconds, Outliers/Red Flags Removed)=%{y}<extra></extra>\",\"legendgroup\":\"LEC\",\"line\":{\"color\":\"#EF1A2D\",\"dash\":\"solid\"},\"marker\":{\"symbol\":\"circle\"},\"mode\":\"lines\",\"name\":\"LEC\",\"orientation\":\"v\",\"showlegend\":true,\"x\":[1.0,3.0,7.0,8.0,9.0,10.0,11.0,12.0,13.0,14.0,15.0,16.0,17.0,18.0,19.0,20.0,21.0,22.0,23.0,24.0,25.0,26.0,29.0,30.0,31.0,32.0,33.0,34.0,35.0,36.0,37.0,38.0,39.0,40.0,41.0,42.0,43.0,44.0,45.0,46.0,47.0,48.0,49.0,50.0],\"xaxis\":\"x\",\"y\":[107.34700000000001,109.263,101.488,100.393,99.755,99.107,98.843,98.955,98.604,98.489,98.587,99.488,98.107,98.994,98.518,99.056,103.38,117.531,99.233,98.033,98.118,109.485,99.672,98.22800000000001,97.227,98.13499999999999,97.337,96.687,96.64699999999999,96.562,97.929,96.256,96.14099999999999,96.12100000000001,96.457,96.527,98.449,96.126,95.713,96.09100000000001,95.995,96.55199999999999,95.868,95.669],\"yaxis\":\"y\",\"type\":\"scatter\"},{\"hovertemplate\":\"Driver=RUS<br>Lap=%{x}<br>Lap Time (In seconds, Outliers/Red Flags Removed)=%{y}<extra></extra>\",\"legendgroup\":\"RUS\",\"line\":{\"color\":\"#00A19B\",\"dash\":\"solid\"},\"marker\":{\"symbol\":\"circle\"},\"mode\":\"lines\",\"name\":\"RUS\",\"orientation\":\"v\",\"showlegend\":true,\"x\":[1.0,3.0,7.0,8.0,9.0,10.0,11.0,12.0,13.0,14.0,15.0,16.0,17.0,18.0,19.0,20.0,21.0,22.0,23.0,24.0,25.0,26.0,29.0,30.0,31.0,32.0,33.0,34.0,35.0,36.0,37.0,38.0,39.0,40.0,41.0,42.0,43.0,44.0,45.0,46.0,47.0,48.0,49.0,50.0],\"xaxis\":\"x\",\"y\":[108.99000000000001,109.74199999999999,102.057,100.687,99.561,99.51599999999999,99.11,98.779,99.00399999999999,99.134,104.106,115.47,98.779,99.001,100.094,98.679,98.737,99.50399999999999,97.93,98.38300000000001,100.60499999999999,115.23400000000001,101.40899999999999,99.15899999999999,98.255,97.834,98.033,97.577,97.854,98.114,98.00999999999999,97.946,97.40899999999999,96.654,96.69200000000001,97.11099999999999,96.581,96.071,96.291,96.325,96.351,96.443,96.161,96.178],\"yaxis\":\"y\",\"type\":\"scatter\"},{\"hovertemplate\":\"Driver=GAS<br>Lap=%{x}<br>Lap Time (In seconds, Outliers/Red Flags Removed)=%{y}<extra></extra>\",\"legendgroup\":\"GAS\",\"line\":{\"color\":\"#2173B8\",\"dash\":\"solid\"},\"marker\":{\"symbol\":\"circle\"},\"mode\":\"lines\",\"name\":\"GAS\",\"orientation\":\"v\",\"showlegend\":true,\"x\":[1.0,3.0,7.0,8.0,9.0,10.0,11.0,12.0,13.0,14.0,15.0,16.0,17.0,18.0,19.0,20.0,21.0,22.0,23.0,24.0,25.0,26.0,29.0,30.0,31.0,32.0,33.0,34.0,35.0,36.0,37.0,38.0,39.0,40.0,41.0,42.0,43.0,44.0,45.0,46.0,47.0,48.0,49.0,50.0],\"xaxis\":\"x\",\"y\":[110.543,110.381,102.346,100.56,99.67699999999999,99.005,99.446,99.088,99.41,99.77600000000001,100.333,100.814,105.77199999999999,117.332,99.315,99.218,98.774,98.68299999999999,98.58500000000001,99.209,98.494,114.475,101.251,98.72,98.77199999999999,97.73599999999999,97.805,98.586,97.52799999999999,97.126,96.913,97.00399999999999,97.60300000000001,97.789,98.75999999999999,98.094,98.666,99.943,98.82900000000001,98.07900000000001,97.907,98.217,97.952,98.316],\"yaxis\":\"y\",\"type\":\"scatter\"},{\"hovertemplate\":\"Driver=ALB<br>Lap=%{x}<br>Lap Time (In seconds, Outliers/Red Flags Removed)=%{y}<extra></extra>\",\"legendgroup\":\"ALB\",\"line\":{\"color\":\"#00A0DE\",\"dash\":\"solid\"},\"marker\":{\"symbol\":\"circle\"},\"mode\":\"lines\",\"name\":\"ALB\",\"orientation\":\"v\",\"showlegend\":true,\"x\":[1.0,3.0,7.0,8.0,9.0,10.0,11.0,12.0,13.0,14.0,15.0,16.0,17.0,18.0,19.0,20.0,21.0,22.0,23.0,24.0,25.0,26.0,29.0,30.0,31.0,32.0,33.0,34.0,35.0,36.0,37.0,38.0,39.0,40.0,41.0,42.0,43.0,44.0,45.0,46.0,47.0,48.0,49.0,50.0],\"xaxis\":\"x\",\"y\":[112.364,110.76400000000001,102.48400000000001,100.682,100.37,100.09700000000001,99.964,99.283,99.733,100.042,100.515,105.842,117.184,99.548,99.834,99.309,98.688,99.061,98.60900000000001,99.166,99.279,115.77000000000001,100.66499999999999,98.86500000000001,97.99600000000001,98.07,97.789,97.96000000000001,98.394,98.491,98.09899999999999,97.788,98.652,101.17,99.34899999999999,98.718,98.565,99.131,98.50800000000001,98.28399999999999,98.398,98.096,97.875,97.357],\"yaxis\":\"y\",\"type\":\"scatter\"},{\"hovertemplate\":\"Driver=SAR<br>Lap=%{x}<br>Lap Time (In seconds, Outliers/Red Flags Removed)=%{y}<extra></extra>\",\"legendgroup\":\"SAR\",\"line\":{\"color\":\"#00A0DE\",\"dash\":\"solid\"},\"marker\":{\"symbol\":\"circle\"},\"mode\":\"lines\",\"name\":\"SAR\",\"orientation\":\"v\",\"showlegend\":true,\"x\":[1.0,2.0,3.0,7.0,8.0,9.0,10.0,11.0,12.0,13.0,14.0,15.0,16.0,17.0,18.0,19.0,20.0,21.0,22.0,23.0,24.0,25.0,26.0,29.0,30.0,31.0,32.0,33.0,34.0,35.0,36.0,37.0,38.0,39.0,40.0,41.0,42.0,43.0,44.0,45.0,46.0,47.0,48.0,49.0,50.0],\"xaxis\":\"x\",\"y\":[115.541,128.217,112.771,102.737,100.81700000000001,100.229,100.17099999999999,99.887,99.357,99.693,102.164,106.786,116.50999999999999,99.945,100.132,100.113,99.45400000000001,99.362,98.50999999999999,98.67099999999999,98.44800000000001,99.336,117.91,102.631,99.447,98.757,97.74000000000001,98.253,98.803,97.91499999999999,98.19800000000001,98.694,98.61099999999999,98.304,99.781,98.695,100.057,98.65,98.94200000000001,98.569,98.814,98.39699999999999,98.288,98.631,98.086],\"yaxis\":\"y\",\"type\":\"scatter\"},{\"hovertemplate\":\"Driver=MAG<br>Lap=%{x}<br>Lap Time (In seconds, Outliers/Red Flags Removed)=%{y}<extra></extra>\",\"legendgroup\":\"MAG\",\"line\":{\"color\":\"#E6002B\",\"dash\":\"solid\"},\"marker\":{\"symbol\":\"circle\"},\"mode\":\"lines\",\"name\":\"MAG\",\"orientation\":\"v\",\"showlegend\":true,\"x\":[1.0,2.0,3.0,7.0,8.0,9.0,10.0,11.0,12.0,13.0,14.0,15.0,16.0,17.0,18.0,19.0,20.0,21.0,22.0,23.0,24.0,25.0,26.0,29.0,30.0,31.0,32.0,33.0,34.0,35.0,36.0,37.0,38.0,39.0,40.0,41.0,42.0,43.0,44.0,45.0,46.0,47.0,48.0,49.0,50.0],\"xaxis\":\"x\",\"y\":[116.721,128.237,115.23599999999999,103.315,101.37899999999999,101.07900000000001,101.089,100.803,99.917,99.792,105.961,116.11099999999999,99.935,99.801,99.935,99.88,99.806,99.878,99.209,99.577,99.453,99.86699999999999,122.844,101.697,99.701,98.757,98.174,98.032,98.73400000000001,98.158,97.721,98.61500000000001,98.684,98.163,98.687,98.455,98.134,97.91499999999999,98.693,98.59700000000001,98.918,98.215,97.774,97.476,97.455],\"yaxis\":\"y\",\"type\":\"scatter\"},{\"hovertemplate\":\"Driver=OCO<br>Lap=%{x}<br>Lap Time (In seconds, Outliers/Red Flags Removed)=%{y}<extra></extra>\",\"legendgroup\":\"OCO\",\"line\":{\"color\":\"#2173B8\",\"dash\":\"solid\"},\"marker\":{\"symbol\":\"circle\"},\"mode\":\"lines\",\"name\":\"OCO\",\"orientation\":\"v\",\"showlegend\":true,\"x\":[1.0,2.0,3.0,7.0,8.0,9.0,10.0,11.0,12.0,13.0,14.0,15.0,16.0,17.0,18.0,19.0,20.0,21.0,22.0,23.0,24.0,25.0,26.0,29.0,30.0,31.0,32.0,33.0,34.0,35.0,36.0,37.0,38.0,39.0,40.0,41.0,42.0,43.0,44.0,45.0,46.0,47.0,48.0,49.0,50.0],\"xaxis\":\"x\",\"y\":[118.932,126.961,112.693,103.39500000000001,101.013,100.316,99.72800000000001,99.513,99.34899999999999,99.263,99.513,99.685,100.191,100.08,100.701,100.279,105.34100000000001,116.37299999999999,98.063,97.787,97.67699999999999,98.428,114.399,101.144,98.51400000000001,98.174,97.62899999999999,97.458,97.81,97.449,97.062,97.044,96.964,96.905,97.19,97.607,97.253,97.292,97.191,96.929,96.917,96.637,96.845,96.936,97.56700000000001],\"yaxis\":\"y\",\"type\":\"scatter\"},{\"hovertemplate\":\"Driver=STR<br>Lap=%{x}<br>Lap Time (In seconds, Outliers/Red Flags Removed)=%{y}<extra></extra>\",\"legendgroup\":\"STR\",\"line\":{\"color\":\"#002420\",\"dash\":\"solid\"},\"marker\":{\"symbol\":\"circle\"},\"mode\":\"lines\",\"name\":\"STR\",\"orientation\":\"v\",\"showlegend\":true,\"x\":[1.0,2.0,3.0,7.0,8.0,9.0,10.0,11.0,12.0,13.0,14.0,15.0,16.0,17.0,18.0,19.0,20.0,21.0,22.0,23.0,24.0,25.0,26.0,29.0,30.0,31.0,32.0,33.0,34.0,35.0,36.0,37.0,38.0,39.0,40.0,41.0,42.0,43.0,44.0,45.0,46.0,47.0,48.0,49.0,50.0],\"xaxis\":\"x\",\"y\":[119.75399999999999,127.021,117.862,103.78999999999999,101.768,100.346,102.36,100.009,99.732,99.056,98.799,99.566,98.701,99.372,98.919,98.833,99.953,99.50200000000001,99.235,99.025,99.149,99.779,115.916,101.723,98.80199999999999,98.084,97.88300000000001,97.622,97.783,97.887,97.358,97.23400000000001,96.85300000000001,96.816,96.932,97.741,97.078,96.941,96.763,96.584,96.868,96.791,97.69200000000001,96.99000000000001,96.642],\"yaxis\":\"y\",\"type\":\"scatter\"},{\"hovertemplate\":\"Driver=HUL<br>Lap=%{x}<br>Lap Time (In seconds, Outliers/Red Flags Removed)=%{y}<extra></extra>\",\"legendgroup\":\"HUL\",\"line\":{\"color\":\"#E6002B\",\"dash\":\"solid\"},\"marker\":{\"symbol\":\"circle\"},\"mode\":\"lines\",\"name\":\"HUL\",\"orientation\":\"v\",\"showlegend\":true,\"x\":[1.0,2.0,3.0,7.0,8.0,9.0,10.0,11.0,12.0,13.0,14.0,15.0,16.0,17.0,18.0,19.0,20.0,21.0,22.0,23.0,24.0,25.0,26.0,29.0,30.0,31.0,32.0,33.0,34.0,35.0,36.0,37.0,38.0,39.0,40.0,41.0,42.0,43.0,44.0,45.0],\"xaxis\":\"x\",\"y\":[122.459,124.852,115.664,103.232,102.00999999999999,100.422,101.668,101.92099999999999,105.80199999999999,117.413,99.47200000000001,98.701,98.63499999999999,99.844,101.015,100.471,99.805,99.869,100.506,99.27000000000001,98.834,99.64,123.608,101.50999999999999,99.59,99.902,98.68299999999999,98.12899999999999,98.03399999999999,97.89699999999999,97.756,97.87700000000001,98.542,98.22200000000001,99.174,98.762,98.48599999999999,97.565,97.977,98.535],\"yaxis\":\"y\",\"type\":\"scatter\"},{\"hovertemplate\":\"Driver=PER<br>Lap=%{x}<br>Lap Time (In seconds, Outliers/Red Flags Removed)=%{y}<extra></extra>\",\"legendgroup\":\"PER\",\"line\":{\"color\":\"#000B8D\",\"dash\":\"solid\"},\"marker\":{\"symbol\":\"circle\"},\"mode\":\"lines\",\"name\":\"PER\",\"orientation\":\"v\",\"showlegend\":true,\"x\":[1.0,3.0,7.0,8.0,9.0,10.0,11.0,12.0,13.0,14.0,15.0,16.0,17.0,18.0,19.0,20.0,21.0,22.0,23.0,24.0,25.0,26.0,29.0,30.0,31.0,32.0,33.0,34.0,35.0,36.0,37.0,38.0,39.0,40.0,41.0,42.0,43.0,44.0,45.0,46.0,47.0,48.0,49.0,50.0],\"xaxis\":\"x\",\"y\":[124.7,119.273,104.233,101.39500000000001,100.012,101.988,99.311,99.174,98.319,99.33500000000001,98.223,98.12299999999999,98.568,98.76599999999999,98.398,98.413,98.34700000000001,98.191,98.31700000000001,97.969,98.35900000000001,112.819,99.457,98.041,97.314,97.176,97.012,96.826,97.706,97.57,97.055,96.50999999999999,96.119,95.939,96.288,96.637,96.414,96.586,96.11,96.164,96.01599999999999,96.287,96.125,96.394],\"yaxis\":\"y\",\"type\":\"scatter\"},{\"hovertemplate\":\"Driver=TSU<br>Lap=%{x}<br>Lap Time (In seconds, Outliers/Red Flags Removed)=%{y}<extra></extra>\",\"legendgroup\":\"TSU\",\"line\":{\"color\":\"#20394C\",\"dash\":\"solid\"},\"marker\":{\"symbol\":\"circle\"},\"mode\":\"lines\",\"name\":\"TSU\",\"orientation\":\"v\",\"showlegend\":true,\"x\":[1.0,2.0,3.0,7.0,8.0,9.0,10.0,11.0,12.0,13.0,14.0,15.0,16.0,17.0,18.0,19.0,20.0,21.0,22.0,23.0,24.0,25.0,28.0,29.0,30.0,31.0,32.0,33.0,34.0,35.0,36.0,37.0,38.0,39.0,40.0,41.0,42.0,43.0,44.0,45.0,46.0],\"xaxis\":\"x\",\"y\":[125.227,122.828,118.27799999999999,103.863,102.303,101.561,108.267,119.18,100.181,99.928,100.334,99.86500000000001,99.89500000000001,100.142,100.17099999999999,100.825,101.259,108.249,120.216,100.97800000000001,100.432,100.094,126.114,103.333,101.279,100.687,100.396,100.28999999999999,100.334,100.56700000000001,100.209,98.836,98.957,98.689,98.39099999999999,98.00399999999999,98.155,97.945,97.72999999999999,97.587,97.906],\"yaxis\":\"y\",\"type\":\"scatter\"},{\"hovertemplate\":\"Driver=PIA<br>Lap=%{x}<br>Lap Time (In seconds, Outliers/Red Flags Removed)=%{y}<extra></extra>\",\"legendgroup\":\"PIA\",\"line\":{\"color\":\"#FF8000\",\"dash\":\"solid\"},\"marker\":{\"symbol\":\"circle\"},\"mode\":\"lines\",\"name\":\"PIA\",\"orientation\":\"v\",\"showlegend\":true,\"x\":[1.0,2.0,3.0,7.0,8.0,9.0,10.0,11.0,12.0,13.0,14.0,15.0,16.0,17.0,18.0,19.0,20.0,21.0,22.0,23.0,24.0,25.0,26.0,29.0,30.0,31.0,32.0,33.0,34.0,35.0,36.0,37.0,38.0,39.0,40.0,41.0,42.0,43.0,44.0,45.0,46.0,47.0,48.0,49.0,50.0],\"xaxis\":\"x\",\"y\":[126.811,121.844,118.487,102.831,100.924,100.339,100.348,100.003,99.03,98.63499999999999,99.735,99.352,107.333,118.267,98.612,99.483,98.066,98.041,97.763,98.238,97.912,98.973,114.056,100.13900000000001,97.92,97.128,97.446,98.88900000000001,97.332,97.0,96.84899999999999,97.48400000000001,97.202,97.15100000000001,97.223,97.408,97.435,101.648,112.939,96.255,95.58500000000001,95.49000000000001,95.595,96.01400000000001,96.128],\"yaxis\":\"y\",\"type\":\"scatter\"},{\"hovertemplate\":\"Driver=NOR<br>Lap=%{x}<br>Lap Time (In seconds, Outliers/Red Flags Removed)=%{y}<extra></extra>\",\"legendgroup\":\"NOR\",\"line\":{\"color\":\"#FF8000\",\"dash\":\"solid\"},\"marker\":{\"symbol\":\"circle\"},\"mode\":\"lines\",\"name\":\"NOR\",\"orientation\":\"v\",\"showlegend\":true,\"x\":[2.0],\"xaxis\":\"x\",\"y\":[119.327],\"yaxis\":\"y\",\"type\":\"scatter\"},{\"hovertemplate\":\"Driver=HAM<br>Lap=%{x}<br>Lap Time (In seconds, Outliers/Red Flags Removed)=%{y}<extra></extra>\",\"legendgroup\":\"HAM\",\"line\":{\"color\":\"#00A19B\",\"dash\":\"solid\"},\"marker\":{\"symbol\":\"circle\"},\"mode\":\"lines\",\"name\":\"HAM\",\"orientation\":\"v\",\"showlegend\":true,\"x\":[2.0,3.0,7.0,8.0,9.0,10.0,11.0,12.0,13.0,14.0,15.0,16.0,17.0,18.0,19.0,20.0,21.0,22.0,23.0,24.0,25.0,26.0,29.0,30.0,31.0,32.0,33.0,34.0,35.0,36.0,37.0,38.0,39.0,40.0,41.0,42.0,43.0,44.0,45.0,46.0,47.0,48.0,49.0,50.0],\"xaxis\":\"x\",\"y\":[116.372,117.47399999999999,103.39099999999999,101.20400000000001,100.116,100.11,100.11099999999999,98.9,98.495,99.632,99.032,101.24199999999999,118.137,119.931,99.124,99.124,100.414,98.783,98.451,98.382,98.23400000000001,125.187,101.96000000000001,99.16499999999999,98.11699999999999,98.279,97.437,97.14,96.875,97.96600000000001,97.38900000000001,97.827,97.747,98.524,96.549,96.037,97.417,97.316,96.471,96.217,96.425,95.71600000000001,96.126,95.93299999999999],\"yaxis\":\"y\",\"type\":\"scatter\"},{\"hovertemplate\":\"Driver=RIC<br>Lap=%{x}<br>Lap Time (In seconds, Outliers/Red Flags Removed)=%{y}<extra></extra>\",\"legendgroup\":\"RIC\",\"line\":{\"color\":\"#20394C\",\"dash\":\"solid\"},\"marker\":{\"symbol\":\"circle\"},\"mode\":\"lines\",\"name\":\"RIC\",\"orientation\":\"v\",\"showlegend\":true,\"x\":[2.0,3.0,7.0,8.0,9.0,10.0,11.0,12.0,13.0,14.0,15.0,16.0,17.0,18.0,19.0,20.0,21.0,22.0,23.0,24.0,25.0,26.0,29.0,30.0,31.0,32.0,33.0,34.0,35.0,36.0,37.0,38.0,39.0,40.0,41.0,42.0,43.0,44.0,45.0,46.0,47.0,48.0,49.0,50.0],\"xaxis\":\"x\",\"y\":[116.345,118.551,104.744,101.63300000000001,100.435,101.588,100.862,100.804,101.959,100.87100000000001,100.286,101.22200000000001,106.533,118.99199999999999,100.392,99.72999999999999,99.708,99.872,99.525,99.363,99.656,123.488,102.319,100.798,99.382,98.997,98.53,98.12700000000001,97.893,97.761,97.4,98.13300000000001,98.088,98.686,98.96000000000001,99.455,98.589,98.834,97.50999999999999,97.34700000000001,98.136,99.503,98.38900000000001,97.108],\"yaxis\":\"y\",\"type\":\"scatter\"},{\"hovertemplate\":\"Driver=ZHO<br>Lap=%{x}<br>Lap Time (In seconds, Outliers/Red Flags Removed)=%{y}<extra></extra>\",\"legendgroup\":\"ZHO\",\"line\":{\"color\":\"#A42134\",\"dash\":\"solid\"},\"marker\":{\"symbol\":\"circle\"},\"mode\":\"lines\",\"name\":\"ZHO\",\"orientation\":\"v\",\"showlegend\":true,\"x\":[2.0,3.0,7.0,8.0,9.0,10.0,11.0,12.0,13.0,14.0,15.0,16.0,17.0,18.0,19.0,20.0,21.0,22.0,23.0,24.0,25.0,26.0,29.0,30.0,31.0,32.0,33.0,34.0,35.0,36.0,37.0,38.0,39.0,40.0,41.0,42.0,43.0,44.0,45.0,46.0,47.0,48.0,49.0,50.0],\"xaxis\":\"x\",\"y\":[116.106,119.075,103.063,101.99600000000001,100.813,99.733,100.064,99.655,99.46600000000001,100.693,101.206,101.027,100.336,100.913,101.164,101.346,100.203,100.24600000000001,100.314,100.381,101.491,119.78,101.179,99.59,98.864,97.375,98.043,97.84700000000001,97.582,97.89699999999999,98.42,98.384,98.89,98.751,98.618,99.02600000000001,98.321,99.741,98.53399999999999,99.89699999999999,98.719,99.303,99.425,98.315],\"yaxis\":\"y\",\"type\":\"scatter\"},{\"hovertemplate\":\"Driver=SAI<br>Lap=%{x}<br>Lap Time (In seconds, Outliers/Red Flags Removed)=%{y}<extra></extra>\",\"legendgroup\":\"SAI\",\"line\":{\"color\":\"#EF1A2D\",\"dash\":\"solid\"},\"marker\":{\"symbol\":\"circle\"},\"mode\":\"lines\",\"name\":\"SAI\",\"orientation\":\"v\",\"showlegend\":true,\"x\":[2.0,3.0,7.0,8.0,9.0,10.0,11.0,12.0,13.0,14.0,15.0,16.0,17.0,18.0,19.0,20.0,21.0,22.0,23.0,24.0,25.0,26.0,29.0,30.0,31.0,32.0,33.0,34.0,35.0,36.0,37.0,38.0,39.0,40.0,41.0,42.0,43.0,44.0,45.0,46.0,47.0,48.0,49.0,50.0],\"xaxis\":\"x\",\"y\":[113.95,123.387,104.55,101.70400000000001,100.334,101.345,99.953,100.232,99.737,98.19,99.005,100.182,100.34700000000001,99.125,99.027,99.482,99.339,99.594,99.48599999999999,100.51599999999999,100.22,116.574,101.531,99.146,98.398,98.0,98.049,97.489,97.61500000000001,97.894,97.858,98.298,98.142,97.241,96.804,96.47399999999999,96.51599999999999,97.50200000000001,96.064,96.186,95.98400000000001,96.482,96.54599999999999,96.507],\"yaxis\":\"y\",\"type\":\"scatter\"},{\"hovertemplate\":\"Driver=ALO<br>Lap=%{x}<br>Lap Time (In seconds, Outliers/Red Flags Removed)=%{y}<extra></extra>\",\"legendgroup\":\"ALO\",\"line\":{\"color\":\"#002420\",\"dash\":\"solid\"},\"marker\":{\"symbol\":\"circle\"},\"mode\":\"lines\",\"name\":\"ALO\",\"orientation\":\"v\",\"showlegend\":true,\"x\":[3.0,7.0,8.0,9.0,10.0,11.0,12.0,13.0,14.0,15.0,16.0,17.0,18.0,19.0,20.0,21.0,22.0,23.0,24.0,25.0,26.0,29.0,30.0,31.0,32.0,33.0,34.0,35.0,36.0,37.0,38.0,39.0,40.0,41.0,42.0,43.0,44.0,45.0,46.0,47.0,48.0,49.0,50.0],\"xaxis\":\"x\",\"y\":[120.953,104.11699999999999,101.247,100.477,101.68,100.779,100.03399999999999,100.40899999999999,97.964,98.547,101.693,100.083,99.60300000000001,99.256,99.185,99.602,100.032,100.929,99.827,99.777,117.613,101.213,99.64500000000001,98.211,97.769,98.291,97.757,97.614,97.797,97.87899999999999,97.759,98.048,97.628,96.70400000000001,96.559,96.801,97.99199999999999,96.68,97.178,96.718,97.288,96.703,96.96600000000001],\"yaxis\":\"y\",\"type\":\"scatter\"},{\"hovertemplate\":\"Driver=BOT<br>Lap=%{x}<br>Lap Time (In seconds, Outliers/Red Flags Removed)=%{y}<extra></extra>\",\"legendgroup\":\"BOT\",\"line\":{\"color\":\"#A42134\",\"dash\":\"solid\"},\"marker\":{\"symbol\":\"circle\"},\"mode\":\"lines\",\"name\":\"BOT\",\"orientation\":\"v\",\"showlegend\":true,\"x\":[7.0,8.0,9.0,10.0,11.0,12.0,13.0,14.0,15.0,16.0,17.0,18.0,19.0,20.0,21.0,22.0,23.0,24.0,25.0,29.0,30.0,31.0,32.0,33.0,34.0,35.0,36.0,37.0,38.0,39.0,40.0,41.0,42.0,43.0,44.0,45.0,46.0,47.0,48.0,49.0,50.0],\"xaxis\":\"x\",\"y\":[104.451,102.15899999999999,101.37700000000001,101.854,100.763,100.50999999999999,100.263,103.971,100.72800000000001,100.774,101.697,100.86,101.27000000000001,100.753,102.14500000000001,102.542,101.22399999999999,106.578,118.90100000000001,102.48400000000001,100.952,100.816,100.257,101.292,101.214,101.02000000000001,101.741,101.632,100.499,100.969,100.34700000000001,100.593,100.00200000000001,99.831,99.304,99.075,98.672,99.237,98.926,97.562,99.068],\"yaxis\":\"y\",\"type\":\"scatter\"}],                        {\"template\":{\"data\":{\"histogram2dcontour\":[{\"type\":\"histogram2dcontour\",\"colorbar\":{\"outlinewidth\":0,\"ticks\":\"\"},\"colorscale\":[[0.0,\"#0d0887\"],[0.1111111111111111,\"#46039f\"],[0.2222222222222222,\"#7201a8\"],[0.3333333333333333,\"#9c179e\"],[0.4444444444444444,\"#bd3786\"],[0.5555555555555556,\"#d8576b\"],[0.6666666666666666,\"#ed7953\"],[0.7777777777777778,\"#fb9f3a\"],[0.8888888888888888,\"#fdca26\"],[1.0,\"#f0f921\"]]}],\"choropleth\":[{\"type\":\"choropleth\",\"colorbar\":{\"outlinewidth\":0,\"ticks\":\"\"}}],\"histogram2d\":[{\"type\":\"histogram2d\",\"colorbar\":{\"outlinewidth\":0,\"ticks\":\"\"},\"colorscale\":[[0.0,\"#0d0887\"],[0.1111111111111111,\"#46039f\"],[0.2222222222222222,\"#7201a8\"],[0.3333333333333333,\"#9c179e\"],[0.4444444444444444,\"#bd3786\"],[0.5555555555555556,\"#d8576b\"],[0.6666666666666666,\"#ed7953\"],[0.7777777777777778,\"#fb9f3a\"],[0.8888888888888888,\"#fdca26\"],[1.0,\"#f0f921\"]]}],\"heatmap\":[{\"type\":\"heatmap\",\"colorbar\":{\"outlinewidth\":0,\"ticks\":\"\"},\"colorscale\":[[0.0,\"#0d0887\"],[0.1111111111111111,\"#46039f\"],[0.2222222222222222,\"#7201a8\"],[0.3333333333333333,\"#9c179e\"],[0.4444444444444444,\"#bd3786\"],[0.5555555555555556,\"#d8576b\"],[0.6666666666666666,\"#ed7953\"],[0.7777777777777778,\"#fb9f3a\"],[0.8888888888888888,\"#fdca26\"],[1.0,\"#f0f921\"]]}],\"heatmapgl\":[{\"type\":\"heatmapgl\",\"colorbar\":{\"outlinewidth\":0,\"ticks\":\"\"},\"colorscale\":[[0.0,\"#0d0887\"],[0.1111111111111111,\"#46039f\"],[0.2222222222222222,\"#7201a8\"],[0.3333333333333333,\"#9c179e\"],[0.4444444444444444,\"#bd3786\"],[0.5555555555555556,\"#d8576b\"],[0.6666666666666666,\"#ed7953\"],[0.7777777777777778,\"#fb9f3a\"],[0.8888888888888888,\"#fdca26\"],[1.0,\"#f0f921\"]]}],\"contourcarpet\":[{\"type\":\"contourcarpet\",\"colorbar\":{\"outlinewidth\":0,\"ticks\":\"\"}}],\"contour\":[{\"type\":\"contour\",\"colorbar\":{\"outlinewidth\":0,\"ticks\":\"\"},\"colorscale\":[[0.0,\"#0d0887\"],[0.1111111111111111,\"#46039f\"],[0.2222222222222222,\"#7201a8\"],[0.3333333333333333,\"#9c179e\"],[0.4444444444444444,\"#bd3786\"],[0.5555555555555556,\"#d8576b\"],[0.6666666666666666,\"#ed7953\"],[0.7777777777777778,\"#fb9f3a\"],[0.8888888888888888,\"#fdca26\"],[1.0,\"#f0f921\"]]}],\"surface\":[{\"type\":\"surface\",\"colorbar\":{\"outlinewidth\":0,\"ticks\":\"\"},\"colorscale\":[[0.0,\"#0d0887\"],[0.1111111111111111,\"#46039f\"],[0.2222222222222222,\"#7201a8\"],[0.3333333333333333,\"#9c179e\"],[0.4444444444444444,\"#bd3786\"],[0.5555555555555556,\"#d8576b\"],[0.6666666666666666,\"#ed7953\"],[0.7777777777777778,\"#fb9f3a\"],[0.8888888888888888,\"#fdca26\"],[1.0,\"#f0f921\"]]}],\"mesh3d\":[{\"type\":\"mesh3d\",\"colorbar\":{\"outlinewidth\":0,\"ticks\":\"\"}}],\"scatter\":[{\"fillpattern\":{\"fillmode\":\"overlay\",\"size\":10,\"solidity\":0.2},\"type\":\"scatter\"}],\"parcoords\":[{\"type\":\"parcoords\",\"line\":{\"colorbar\":{\"outlinewidth\":0,\"ticks\":\"\"}}}],\"scatterpolargl\":[{\"type\":\"scatterpolargl\",\"marker\":{\"colorbar\":{\"outlinewidth\":0,\"ticks\":\"\"}}}],\"bar\":[{\"error_x\":{\"color\":\"#2a3f5f\"},\"error_y\":{\"color\":\"#2a3f5f\"},\"marker\":{\"line\":{\"color\":\"#E5ECF6\",\"width\":0.5},\"pattern\":{\"fillmode\":\"overlay\",\"size\":10,\"solidity\":0.2}},\"type\":\"bar\"}],\"scattergeo\":[{\"type\":\"scattergeo\",\"marker\":{\"colorbar\":{\"outlinewidth\":0,\"ticks\":\"\"}}}],\"scatterpolar\":[{\"type\":\"scatterpolar\",\"marker\":{\"colorbar\":{\"outlinewidth\":0,\"ticks\":\"\"}}}],\"histogram\":[{\"marker\":{\"pattern\":{\"fillmode\":\"overlay\",\"size\":10,\"solidity\":0.2}},\"type\":\"histogram\"}],\"scattergl\":[{\"type\":\"scattergl\",\"marker\":{\"colorbar\":{\"outlinewidth\":0,\"ticks\":\"\"}}}],\"scatter3d\":[{\"type\":\"scatter3d\",\"line\":{\"colorbar\":{\"outlinewidth\":0,\"ticks\":\"\"}},\"marker\":{\"colorbar\":{\"outlinewidth\":0,\"ticks\":\"\"}}}],\"scattermapbox\":[{\"type\":\"scattermapbox\",\"marker\":{\"colorbar\":{\"outlinewidth\":0,\"ticks\":\"\"}}}],\"scatterternary\":[{\"type\":\"scatterternary\",\"marker\":{\"colorbar\":{\"outlinewidth\":0,\"ticks\":\"\"}}}],\"scattercarpet\":[{\"type\":\"scattercarpet\",\"marker\":{\"colorbar\":{\"outlinewidth\":0,\"ticks\":\"\"}}}],\"carpet\":[{\"aaxis\":{\"endlinecolor\":\"#2a3f5f\",\"gridcolor\":\"white\",\"linecolor\":\"white\",\"minorgridcolor\":\"white\",\"startlinecolor\":\"#2a3f5f\"},\"baxis\":{\"endlinecolor\":\"#2a3f5f\",\"gridcolor\":\"white\",\"linecolor\":\"white\",\"minorgridcolor\":\"white\",\"startlinecolor\":\"#2a3f5f\"},\"type\":\"carpet\"}],\"table\":[{\"cells\":{\"fill\":{\"color\":\"#EBF0F8\"},\"line\":{\"color\":\"white\"}},\"header\":{\"fill\":{\"color\":\"#C8D4E3\"},\"line\":{\"color\":\"white\"}},\"type\":\"table\"}],\"barpolar\":[{\"marker\":{\"line\":{\"color\":\"#E5ECF6\",\"width\":0.5},\"pattern\":{\"fillmode\":\"overlay\",\"size\":10,\"solidity\":0.2}},\"type\":\"barpolar\"}],\"pie\":[{\"automargin\":true,\"type\":\"pie\"}]},\"layout\":{\"autotypenumbers\":\"strict\",\"colorway\":[\"#636efa\",\"#EF553B\",\"#00cc96\",\"#ab63fa\",\"#FFA15A\",\"#19d3f3\",\"#FF6692\",\"#B6E880\",\"#FF97FF\",\"#FECB52\"],\"font\":{\"color\":\"#2a3f5f\"},\"hovermode\":\"closest\",\"hoverlabel\":{\"align\":\"left\"},\"paper_bgcolor\":\"white\",\"plot_bgcolor\":\"#E5ECF6\",\"polar\":{\"bgcolor\":\"#E5ECF6\",\"angularaxis\":{\"gridcolor\":\"white\",\"linecolor\":\"white\",\"ticks\":\"\"},\"radialaxis\":{\"gridcolor\":\"white\",\"linecolor\":\"white\",\"ticks\":\"\"}},\"ternary\":{\"bgcolor\":\"#E5ECF6\",\"aaxis\":{\"gridcolor\":\"white\",\"linecolor\":\"white\",\"ticks\":\"\"},\"baxis\":{\"gridcolor\":\"white\",\"linecolor\":\"white\",\"ticks\":\"\"},\"caxis\":{\"gridcolor\":\"white\",\"linecolor\":\"white\",\"ticks\":\"\"}},\"coloraxis\":{\"colorbar\":{\"outlinewidth\":0,\"ticks\":\"\"}},\"colorscale\":{\"sequential\":[[0.0,\"#0d0887\"],[0.1111111111111111,\"#46039f\"],[0.2222222222222222,\"#7201a8\"],[0.3333333333333333,\"#9c179e\"],[0.4444444444444444,\"#bd3786\"],[0.5555555555555556,\"#d8576b\"],[0.6666666666666666,\"#ed7953\"],[0.7777777777777778,\"#fb9f3a\"],[0.8888888888888888,\"#fdca26\"],[1.0,\"#f0f921\"]],\"sequentialminus\":[[0.0,\"#0d0887\"],[0.1111111111111111,\"#46039f\"],[0.2222222222222222,\"#7201a8\"],[0.3333333333333333,\"#9c179e\"],[0.4444444444444444,\"#bd3786\"],[0.5555555555555556,\"#d8576b\"],[0.6666666666666666,\"#ed7953\"],[0.7777777777777778,\"#fb9f3a\"],[0.8888888888888888,\"#fdca26\"],[1.0,\"#f0f921\"]],\"diverging\":[[0,\"#8e0152\"],[0.1,\"#c51b7d\"],[0.2,\"#de77ae\"],[0.3,\"#f1b6da\"],[0.4,\"#fde0ef\"],[0.5,\"#f7f7f7\"],[0.6,\"#e6f5d0\"],[0.7,\"#b8e186\"],[0.8,\"#7fbc41\"],[0.9,\"#4d9221\"],[1,\"#276419\"]]},\"xaxis\":{\"gridcolor\":\"white\",\"linecolor\":\"white\",\"ticks\":\"\",\"title\":{\"standoff\":15},\"zerolinecolor\":\"white\",\"automargin\":true,\"zerolinewidth\":2},\"yaxis\":{\"gridcolor\":\"white\",\"linecolor\":\"white\",\"ticks\":\"\",\"title\":{\"standoff\":15},\"zerolinecolor\":\"white\",\"automargin\":true,\"zerolinewidth\":2},\"scene\":{\"xaxis\":{\"backgroundcolor\":\"#E5ECF6\",\"gridcolor\":\"white\",\"linecolor\":\"white\",\"showbackground\":true,\"ticks\":\"\",\"zerolinecolor\":\"white\",\"gridwidth\":2},\"yaxis\":{\"backgroundcolor\":\"#E5ECF6\",\"gridcolor\":\"white\",\"linecolor\":\"white\",\"showbackground\":true,\"ticks\":\"\",\"zerolinecolor\":\"white\",\"gridwidth\":2},\"zaxis\":{\"backgroundcolor\":\"#E5ECF6\",\"gridcolor\":\"white\",\"linecolor\":\"white\",\"showbackground\":true,\"ticks\":\"\",\"zerolinecolor\":\"white\",\"gridwidth\":2}},\"shapedefaults\":{\"line\":{\"color\":\"#2a3f5f\"}},\"annotationdefaults\":{\"arrowcolor\":\"#2a3f5f\",\"arrowhead\":0,\"arrowwidth\":1},\"geo\":{\"bgcolor\":\"white\",\"landcolor\":\"#E5ECF6\",\"subunitcolor\":\"white\",\"showland\":true,\"showlakes\":true,\"lakecolor\":\"white\"},\"title\":{\"x\":0.05},\"mapbox\":{\"style\":\"light\"}}},\"xaxis\":{\"anchor\":\"y\",\"domain\":[0.0,1.0],\"title\":{\"text\":\"Lap\"}},\"yaxis\":{\"anchor\":\"x\",\"domain\":[0.0,1.0],\"title\":{\"text\":\"Lap Time (In seconds, Outliers/Red Flags Removed)\"}},\"legend\":{\"title\":{\"text\":\"Driver\"},\"tracegroupgap\":0},\"title\":{\"text\":\"<b>Lap Times</b>\",\"font\":{\"family\":\"Arial, sans-serif\",\"size\":30},\"x\":0.5},\"updatemenus\":[{\"active\":0,\"buttons\":[{\"args\":[{\"visible\":[true,true,true,true,true,true,true,true,true,true,true,true,true,true,true,true,true,true,true,true],\"title\":\"All\",\"showlegend\":true}],\"label\":\"All\",\"method\":\"update\"},{\"args\":[{\"visible\":[true,false,false,false,false,false,false,false,false,false,false,false,false,false,false,false,false,false,false,false],\"title\":\"ALB\",\"showlegend\":true}],\"label\":\"ALB\",\"method\":\"update\"},{\"args\":[{\"visible\":[false,true,false,false,false,false,false,false,false,false,false,false,false,false,false,false,false,false,false,false],\"title\":\"ALO\",\"showlegend\":true}],\"label\":\"ALO\",\"method\":\"update\"},{\"args\":[{\"visible\":[false,false,true,false,false,false,false,false,false,false,false,false,false,false,false,false,false,false,false,false],\"title\":\"BOT\",\"showlegend\":true}],\"label\":\"BOT\",\"method\":\"update\"},{\"args\":[{\"visible\":[false,false,false,true,false,false,false,false,false,false,false,false,false,false,false,false,false,false,false,false],\"title\":\"GAS\",\"showlegend\":true}],\"label\":\"GAS\",\"method\":\"update\"},{\"args\":[{\"visible\":[false,false,false,false,true,false,false,false,false,false,false,false,false,false,false,false,false,false,false,false],\"title\":\"HAM\",\"showlegend\":true}],\"label\":\"HAM\",\"method\":\"update\"},{\"args\":[{\"visible\":[false,false,false,false,false,true,false,false,false,false,false,false,false,false,false,false,false,false,false,false],\"title\":\"HUL\",\"showlegend\":true}],\"label\":\"HUL\",\"method\":\"update\"},{\"args\":[{\"visible\":[false,false,false,false,false,false,true,false,false,false,false,false,false,false,false,false,false,false,false,false],\"title\":\"LEC\",\"showlegend\":true}],\"label\":\"LEC\",\"method\":\"update\"},{\"args\":[{\"visible\":[false,false,false,false,false,false,false,true,false,false,false,false,false,false,false,false,false,false,false,false],\"title\":\"MAG\",\"showlegend\":true}],\"label\":\"MAG\",\"method\":\"update\"},{\"args\":[{\"visible\":[false,false,false,false,false,false,false,false,true,false,false,false,false,false,false,false,false,false,false,false],\"title\":\"NOR\",\"showlegend\":true}],\"label\":\"NOR\",\"method\":\"update\"},{\"args\":[{\"visible\":[false,false,false,false,false,false,false,false,false,true,false,false,false,false,false,false,false,false,false,false],\"title\":\"OCO\",\"showlegend\":true}],\"label\":\"OCO\",\"method\":\"update\"},{\"args\":[{\"visible\":[false,false,false,false,false,false,false,false,false,false,true,false,false,false,false,false,false,false,false,false],\"title\":\"PER\",\"showlegend\":true}],\"label\":\"PER\",\"method\":\"update\"},{\"args\":[{\"visible\":[false,false,false,false,false,false,false,false,false,false,false,true,false,false,false,false,false,false,false,false],\"title\":\"PIA\",\"showlegend\":true}],\"label\":\"PIA\",\"method\":\"update\"},{\"args\":[{\"visible\":[false,false,false,false,false,false,false,false,false,false,false,false,true,false,false,false,false,false,false,false],\"title\":\"RIC\",\"showlegend\":true}],\"label\":\"RIC\",\"method\":\"update\"},{\"args\":[{\"visible\":[false,false,false,false,false,false,false,false,false,false,false,false,false,true,false,false,false,false,false,false],\"title\":\"RUS\",\"showlegend\":true}],\"label\":\"RUS\",\"method\":\"update\"},{\"args\":[{\"visible\":[false,false,false,false,false,false,false,false,false,false,false,false,false,false,true,false,false,false,false,false],\"title\":\"SAI\",\"showlegend\":true}],\"label\":\"SAI\",\"method\":\"update\"},{\"args\":[{\"visible\":[false,false,false,false,false,false,false,false,false,false,false,false,false,false,false,true,false,false,false,false],\"title\":\"SAR\",\"showlegend\":true}],\"label\":\"SAR\",\"method\":\"update\"},{\"args\":[{\"visible\":[false,false,false,false,false,false,false,false,false,false,false,false,false,false,false,false,true,false,false,false],\"title\":\"STR\",\"showlegend\":true}],\"label\":\"STR\",\"method\":\"update\"},{\"args\":[{\"visible\":[false,false,false,false,false,false,false,false,false,false,false,false,false,false,false,false,false,true,false,false],\"title\":\"TSU\",\"showlegend\":true}],\"label\":\"TSU\",\"method\":\"update\"},{\"args\":[{\"visible\":[false,false,false,false,false,false,false,false,false,false,false,false,false,false,false,false,false,false,true,false],\"title\":\"VER\",\"showlegend\":true}],\"label\":\"VER\",\"method\":\"update\"},{\"args\":[{\"visible\":[false,false,false,false,false,false,false,false,false,false,false,false,false,false,false,false,false,false,false,true],\"title\":\"ZHO\",\"showlegend\":true}],\"label\":\"ZHO\",\"method\":\"update\"}]}]},                        {\"responsive\": true}                    ).then(function(){\n",
       "                            \n",
       "var gd = document.getElementById('32f88bfb-991c-4cc0-b065-c73d1095c9cb');\n",
       "var x = new MutationObserver(function (mutations, observer) {{\n",
       "        var display = window.getComputedStyle(gd).display;\n",
       "        if (!display || display === 'none') {{\n",
       "            console.log([gd, 'removed!']);\n",
       "            Plotly.purge(gd);\n",
       "            observer.disconnect();\n",
       "        }}\n",
       "}});\n",
       "\n",
       "// Listen for the removal of the full notebook cells\n",
       "var notebookContainer = gd.closest('#notebook-container');\n",
       "if (notebookContainer) {{\n",
       "    x.observe(notebookContainer, {childList: true});\n",
       "}}\n",
       "\n",
       "// Listen for the clearing of the current output cell\n",
       "var outputEl = gd.closest('.output');\n",
       "if (outputEl) {{\n",
       "    x.observe(outputEl, {childList: true});\n",
       "}}\n",
       "\n",
       "                        })                };                });            </script>        </div>"
      ]
     },
     "metadata": {},
     "output_type": "display_data"
    }
   ],
   "source": [
    "if not lap_tim_emp:\n",
    "    multi_lap_plot(mapping)"
   ]
  },
  {
   "cell_type": "code",
   "execution_count": 30,
   "id": "01ed0360",
   "metadata": {
    "_kg_hide-input": true,
    "execution": {
     "iopub.execute_input": "2023-11-21T00:34:28.233206Z",
     "iopub.status.busy": "2023-11-21T00:34:28.232389Z",
     "iopub.status.idle": "2023-11-21T00:34:28.419208Z",
     "shell.execute_reply": "2023-11-21T00:34:28.417700Z"
    },
    "papermill": {
     "duration": 0.214279,
     "end_time": "2023-11-21T00:34:28.422435",
     "exception": false,
     "start_time": "2023-11-21T00:34:28.208156",
     "status": "completed"
    },
    "tags": []
   },
   "outputs": [
    {
     "data": {
      "text/html": [
       "<div>                            <div id=\"94609361-48fe-4e0f-92a3-60bbaf2d432b\" class=\"plotly-graph-div\" style=\"height:525px; width:100%;\"></div>            <script type=\"text/javascript\">                require([\"plotly\"], function(Plotly) {                    window.PLOTLYENV=window.PLOTLYENV || {};                                    if (document.getElementById(\"94609361-48fe-4e0f-92a3-60bbaf2d432b\")) {                    Plotly.newPlot(                        \"94609361-48fe-4e0f-92a3-60bbaf2d432b\",                        [{\"hovertemplate\":\"Driver=VER<br>Lap=%{x}<br>Position=%{y}<extra></extra>\",\"legendgroup\":\"VER\",\"line\":{\"color\":\"#000B8D\",\"dash\":\"solid\"},\"marker\":{\"symbol\":\"circle\"},\"mode\":\"lines\",\"name\":\"VER\",\"orientation\":\"v\",\"showlegend\":true,\"x\":[1.0,2.0,3.0,4.0,5.0,6.0,7.0,8.0,9.0,10.0,11.0,12.0,13.0,14.0,15.0,16.0,17.0,18.0,19.0,20.0,21.0,22.0,23.0,24.0,25.0,26.0,27.0,28.0,29.0,30.0,31.0,32.0,33.0,34.0,35.0,36.0,37.0,38.0,39.0,40.0,41.0,42.0,43.0,44.0,45.0,46.0,47.0,48.0,49.0,50.0],\"xaxis\":\"x\",\"y\":[1,1,1,1,1,1,1,1,1,1,1,1,1,1,1,2,10,9,9,8,7,7,6,5,4,4,5,5,5,5,4,4,3,3,3,2,1,1,1,1,1,1,1,1,1,1,1,1,1,1],\"yaxis\":\"y\",\"type\":\"scatter\"},{\"hovertemplate\":\"Driver=LEC<br>Lap=%{x}<br>Position=%{y}<extra></extra>\",\"legendgroup\":\"LEC\",\"line\":{\"color\":\"#EF1A2D\",\"dash\":\"solid\"},\"marker\":{\"symbol\":\"circle\"},\"mode\":\"lines\",\"name\":\"LEC\",\"orientation\":\"v\",\"showlegend\":true,\"x\":[1.0,2.0,3.0,4.0,5.0,6.0,7.0,8.0,9.0,10.0,11.0,12.0,13.0,14.0,15.0,16.0,17.0,18.0,19.0,20.0,21.0,22.0,23.0,24.0,25.0,26.0,27.0,28.0,29.0,30.0,31.0,32.0,33.0,34.0,35.0,36.0,37.0,38.0,39.0,40.0,41.0,42.0,43.0,44.0,45.0,46.0,47.0,48.0,49.0,50.0],\"xaxis\":\"x\",\"y\":[2,2,2,2,2,2,2,2,2,2,2,2,2,2,2,1,1,1,1,1,1,3,3,3,2,2,1,1,1,1,1,2,2,2,1,1,2,2,2,2,2,2,3,3,3,3,3,3,3,2],\"yaxis\":\"y\",\"type\":\"scatter\"},{\"hovertemplate\":\"Driver=RUS<br>Lap=%{x}<br>Position=%{y}<extra></extra>\",\"legendgroup\":\"RUS\",\"line\":{\"color\":\"#00A19B\",\"dash\":\"solid\"},\"marker\":{\"symbol\":\"circle\"},\"mode\":\"lines\",\"name\":\"RUS\",\"orientation\":\"v\",\"showlegend\":true,\"x\":[1.0,2.0,3.0,4.0,5.0,6.0,7.0,8.0,9.0,10.0,11.0,12.0,13.0,14.0,15.0,16.0,17.0,18.0,19.0,20.0,21.0,22.0,23.0,24.0,25.0,26.0,27.0,28.0,29.0,30.0,31.0,32.0,33.0,34.0,35.0,36.0,37.0,38.0,39.0,40.0,41.0,42.0,43.0,44.0,45.0,46.0,47.0,48.0,49.0,50.0],\"xaxis\":\"x\",\"y\":[3,3,3,3,3,3,3,3,3,3,3,3,3,3,4,13,9,8,7,7,6,5,5,4,5,5,9,9,9,9,9,9,9,9,9,9,9,9,8,8,8,8,7,6,6,6,6,5,5,4],\"yaxis\":\"y\",\"type\":\"scatter\"},{\"hovertemplate\":\"Driver=GAS<br>Lap=%{x}<br>Position=%{y}<extra></extra>\",\"legendgroup\":\"GAS\",\"line\":{\"color\":\"#2173B8\",\"dash\":\"solid\"},\"marker\":{\"symbol\":\"circle\"},\"mode\":\"lines\",\"name\":\"GAS\",\"orientation\":\"v\",\"showlegend\":true,\"x\":[1.0,2.0,3.0,4.0,5.0,6.0,7.0,8.0,9.0,10.0,11.0,12.0,13.0,14.0,15.0,16.0,17.0,18.0,19.0,20.0,21.0,22.0,23.0,24.0,25.0,26.0,27.0,28.0,29.0,30.0,31.0,32.0,33.0,34.0,35.0,36.0,37.0,38.0,39.0,40.0,41.0,42.0,43.0,44.0,45.0,46.0,47.0,48.0,49.0,50.0],\"xaxis\":\"x\",\"y\":[4,4,4,4,4,4,4,4,4,4,4,4,4,4,3,3,4,10,10,10,9,9,9,8,8,8,3,3,4,4,5,5,5,6,6,6,6,6,6,6,7,7,8,10,10,10,10,11,11,11],\"yaxis\":\"y\",\"type\":\"scatter\"},{\"hovertemplate\":\"Driver=ALB<br>Lap=%{x}<br>Position=%{y}<extra></extra>\",\"legendgroup\":\"ALB\",\"line\":{\"color\":\"#00A0DE\",\"dash\":\"solid\"},\"marker\":{\"symbol\":\"circle\"},\"mode\":\"lines\",\"name\":\"ALB\",\"orientation\":\"v\",\"showlegend\":true,\"x\":[1.0,2.0,3.0,4.0,5.0,6.0,7.0,8.0,9.0,10.0,11.0,12.0,13.0,14.0,15.0,16.0,17.0,18.0,19.0,20.0,21.0,22.0,23.0,24.0,25.0,26.0,27.0,28.0,29.0,30.0,31.0,32.0,33.0,34.0,35.0,36.0,37.0,38.0,39.0,40.0,41.0,42.0,43.0,44.0,45.0,46.0,47.0,48.0,49.0,50.0],\"xaxis\":\"x\",\"y\":[5,5,5,5,5,5,5,5,5,5,5,5,5,5,5,7,13,11,11,11,10,11,11,12,12,11,8,8,7,7,7,7,7,7,8,8,8,8,9,12,12,12,12,12,12,12,12,12,12,12],\"yaxis\":\"y\",\"type\":\"scatter\"},{\"hovertemplate\":\"Driver=SAR<br>Lap=%{x}<br>Position=%{y}<extra></extra>\",\"legendgroup\":\"SAR\",\"line\":{\"color\":\"#00A0DE\",\"dash\":\"solid\"},\"marker\":{\"symbol\":\"circle\"},\"mode\":\"lines\",\"name\":\"SAR\",\"orientation\":\"v\",\"showlegend\":true,\"x\":[1.0,2.0,3.0,4.0,5.0,6.0,7.0,8.0,9.0,10.0,11.0,12.0,13.0,14.0,15.0,16.0,17.0,18.0,19.0,20.0,21.0,22.0,23.0,24.0,25.0,26.0,27.0,28.0,29.0,30.0,31.0,32.0,33.0,34.0,35.0,36.0,37.0,38.0,39.0,40.0,41.0,42.0,43.0,44.0,45.0,46.0,47.0,48.0,49.0,50.0],\"xaxis\":\"x\",\"y\":[6,6,6,6,6,6,6,6,6,6,6,6,6,9,14,16,15,14,14,13,13,13,13,13,13,13,11,11,13,13,13,13,13,14,14,14,14,14,14,15,15,16,16,16,17,16,16,16,16,16],\"yaxis\":\"y\",\"type\":\"scatter\"},{\"hovertemplate\":\"Driver=MAG<br>Lap=%{x}<br>Position=%{y}<extra></extra>\",\"legendgroup\":\"MAG\",\"line\":{\"color\":\"#E6002B\",\"dash\":\"solid\"},\"marker\":{\"symbol\":\"circle\"},\"mode\":\"lines\",\"name\":\"MAG\",\"orientation\":\"v\",\"showlegend\":true,\"x\":[1.0,2.0,3.0,4.0,5.0,6.0,7.0,8.0,9.0,10.0,11.0,12.0,13.0,14.0,15.0,16.0,17.0,18.0,19.0,20.0,21.0,22.0,23.0,24.0,25.0,26.0,27.0,28.0,29.0,30.0,31.0,32.0,33.0,34.0,35.0,36.0,37.0,38.0,39.0,40.0,41.0,42.0,43.0,44.0,45.0,46.0,47.0,48.0,49.0,50.0],\"xaxis\":\"x\",\"y\":[7,7,8,8,8,7,7,7,8,9,10,10,10,15,17,17,17,15,15,15,14,14,14,14,14,14,14,14,14,14,14,14,15,15,15,15,15,15,15,14,14,14,14,14,14,13,13,13,13,13],\"yaxis\":\"y\",\"type\":\"scatter\"},{\"hovertemplate\":\"Driver=OCO<br>Lap=%{x}<br>Position=%{y}<extra></extra>\",\"legendgroup\":\"OCO\",\"line\":{\"color\":\"#2173B8\",\"dash\":\"solid\"},\"marker\":{\"symbol\":\"circle\"},\"mode\":\"lines\",\"name\":\"OCO\",\"orientation\":\"v\",\"showlegend\":true,\"x\":[1.0,2.0,3.0,4.0,5.0,6.0,7.0,8.0,9.0,10.0,11.0,12.0,13.0,14.0,15.0,16.0,17.0,18.0,19.0,20.0,21.0,22.0,23.0,24.0,25.0,26.0,27.0,28.0,29.0,30.0,31.0,32.0,33.0,34.0,35.0,36.0,37.0,38.0,39.0,40.0,41.0,42.0,43.0,44.0,45.0,46.0,47.0,48.0,49.0,50.0],\"xaxis\":\"x\",\"y\":[8,8,7,7,7,8,8,8,7,7,7,7,7,6,6,4,2,3,3,5,12,12,12,11,10,10,6,6,6,6,6,6,6,5,5,5,5,5,5,5,5,5,4,4,4,4,4,4,4,5],\"yaxis\":\"y\",\"type\":\"scatter\"},{\"hovertemplate\":\"Driver=STR<br>Lap=%{x}<br>Position=%{y}<extra></extra>\",\"legendgroup\":\"STR\",\"line\":{\"color\":\"#002420\",\"dash\":\"solid\"},\"marker\":{\"symbol\":\"circle\"},\"mode\":\"lines\",\"name\":\"STR\",\"orientation\":\"v\",\"showlegend\":true,\"x\":[1.0,2.0,3.0,4.0,5.0,6.0,7.0,8.0,9.0,10.0,11.0,12.0,13.0,14.0,15.0,16.0,17.0,18.0,19.0,20.0,21.0,22.0,23.0,24.0,25.0,26.0,27.0,28.0,29.0,30.0,31.0,32.0,33.0,34.0,35.0,36.0,37.0,38.0,39.0,40.0,41.0,42.0,43.0,44.0,45.0,46.0,47.0,48.0,49.0,50.0],\"xaxis\":\"x\",\"y\":[9,9,10,15,15,15,15,15,15,15,15,13,13,12,10,8,5,4,4,3,3,2,2,2,3,3,7,7,8,8,8,8,8,8,7,7,7,7,7,7,6,6,6,5,5,5,5,6,6,6],\"yaxis\":\"y\",\"type\":\"scatter\"},{\"hovertemplate\":\"Driver=HUL<br>Lap=%{x}<br>Position=%{y}<extra></extra>\",\"legendgroup\":\"HUL\",\"line\":{\"color\":\"#E6002B\",\"dash\":\"solid\"},\"marker\":{\"symbol\":\"circle\"},\"mode\":\"lines\",\"name\":\"HUL\",\"orientation\":\"v\",\"showlegend\":true,\"x\":[1.0,2.0,3.0,4.0,5.0,6.0,7.0,8.0,9.0,10.0,11.0,12.0,13.0,14.0,15.0,16.0,17.0,18.0,19.0,20.0,21.0,22.0,23.0,24.0,25.0,26.0,27.0,28.0,29.0,30.0,31.0,32.0,33.0,34.0,35.0,36.0,37.0,38.0,39.0,40.0,41.0,42.0,43.0,44.0,45.0],\"xaxis\":\"x\",\"y\":[10,10,9,9,9,9,9,10,10,11,12,17,18,18,18,18,18,16,16,16,16,15,15,15,15,15,16,16,15,15,16,16,16,16,16,16,16,16,16,16,16,15,15,15,15],\"yaxis\":\"y\",\"type\":\"scatter\"},{\"hovertemplate\":\"Driver=PER<br>Lap=%{x}<br>Position=%{y}<extra></extra>\",\"legendgroup\":\"PER\",\"line\":{\"color\":\"#000B8D\",\"dash\":\"solid\"},\"marker\":{\"symbol\":\"circle\"},\"mode\":\"lines\",\"name\":\"PER\",\"orientation\":\"v\",\"showlegend\":true,\"x\":[1.0,2.0,3.0,4.0,5.0,6.0,7.0,8.0,9.0,10.0,11.0,12.0,13.0,14.0,15.0,16.0,17.0,18.0,19.0,20.0,21.0,22.0,23.0,24.0,25.0,26.0,27.0,28.0,29.0,30.0,31.0,32.0,33.0,34.0,35.0,36.0,37.0,38.0,39.0,40.0,41.0,42.0,43.0,44.0,45.0,46.0,47.0,48.0,49.0,50.0],\"xaxis\":\"x\",\"y\":[11,18,17,16,16,16,16,16,16,14,13,12,12,10,9,6,3,2,2,2,2,1,1,1,1,1,2,2,2,2,2,1,1,1,2,3,3,3,3,3,3,3,2,2,2,2,2,2,2,3],\"yaxis\":\"y\",\"type\":\"scatter\"},{\"hovertemplate\":\"Driver=TSU<br>Lap=%{x}<br>Position=%{y}<extra></extra>\",\"legendgroup\":\"TSU\",\"line\":{\"color\":\"#20394C\",\"dash\":\"solid\"},\"marker\":{\"symbol\":\"circle\"},\"mode\":\"lines\",\"name\":\"TSU\",\"orientation\":\"v\",\"showlegend\":true,\"x\":[1.0,2.0,3.0,4.0,5.0,6.0,7.0,8.0,9.0,10.0,11.0,12.0,13.0,14.0,15.0,16.0,17.0,18.0,19.0,20.0,21.0,22.0,23.0,24.0,25.0,26.0,27.0,28.0,29.0,30.0,31.0,32.0,33.0,34.0,35.0,36.0,37.0,38.0,39.0,40.0,41.0,42.0,43.0,44.0,45.0,46.0],\"xaxis\":\"x\",\"y\":[12,11,11,10,10,10,11,12,12,19,19,19,19,19,19,19,19,17,17,17,19,19,19,19,19,19,19,19,19,19,19,19,19,19,19,18,18,18,18,18,18,18,18,18,18,17],\"yaxis\":\"y\",\"type\":\"scatter\"},{\"hovertemplate\":\"Driver=PIA<br>Lap=%{x}<br>Position=%{y}<extra></extra>\",\"legendgroup\":\"PIA\",\"line\":{\"color\":\"#FF8000\",\"dash\":\"solid\"},\"marker\":{\"symbol\":\"circle\"},\"mode\":\"lines\",\"name\":\"PIA\",\"orientation\":\"v\",\"showlegend\":true,\"x\":[1.0,2.0,3.0,4.0,5.0,6.0,7.0,8.0,9.0,10.0,11.0,12.0,13.0,14.0,15.0,16.0,17.0,18.0,19.0,20.0,21.0,22.0,23.0,24.0,25.0,26.0,27.0,28.0,29.0,30.0,31.0,32.0,33.0,34.0,35.0,36.0,37.0,38.0,39.0,40.0,41.0,42.0,43.0,44.0,45.0,46.0,47.0,48.0,49.0,50.0],\"xaxis\":\"x\",\"y\":[13,12,12,11,11,11,10,9,9,8,8,8,8,7,7,9,16,13,12,12,11,10,10,10,9,9,4,4,3,3,3,3,4,4,4,4,4,4,4,4,4,4,5,11,11,11,11,10,10,10],\"yaxis\":\"y\",\"type\":\"scatter\"},{\"hovertemplate\":\"Driver=NOR<br>Lap=%{x}<br>Position=%{y}<extra></extra>\",\"legendgroup\":\"NOR\",\"line\":{\"color\":\"#FF8000\",\"dash\":\"solid\"},\"marker\":{\"symbol\":\"circle\"},\"mode\":\"lines\",\"name\":\"NOR\",\"orientation\":\"v\",\"showlegend\":true,\"x\":[1.0,2.0],\"xaxis\":\"x\",\"y\":[14,13],\"yaxis\":\"y\",\"type\":\"scatter\"},{\"hovertemplate\":\"Driver=HAM<br>Lap=%{x}<br>Position=%{y}<extra></extra>\",\"legendgroup\":\"HAM\",\"line\":{\"color\":\"#00A19B\",\"dash\":\"solid\"},\"marker\":{\"symbol\":\"circle\"},\"mode\":\"lines\",\"name\":\"HAM\",\"orientation\":\"v\",\"showlegend\":true,\"x\":[1.0,2.0,3.0,4.0,5.0,6.0,7.0,8.0,9.0,10.0,11.0,12.0,13.0,14.0,15.0,16.0,17.0,18.0,19.0,20.0,21.0,22.0,23.0,24.0,25.0,26.0,27.0,28.0,29.0,30.0,31.0,32.0,33.0,34.0,35.0,36.0,37.0,38.0,39.0,40.0,41.0,42.0,43.0,44.0,45.0,46.0,47.0,48.0,49.0,50.0],\"xaxis\":\"x\",\"y\":[15,14,13,12,12,12,12,11,11,10,9,9,9,8,8,5,11,18,18,18,17,17,17,16,16,16,17,17,17,16,15,15,14,13,13,13,12,12,12,11,11,11,11,9,9,8,8,8,8,8],\"yaxis\":\"y\",\"type\":\"scatter\"},{\"hovertemplate\":\"Driver=RIC<br>Lap=%{x}<br>Position=%{y}<extra></extra>\",\"legendgroup\":\"RIC\",\"line\":{\"color\":\"#20394C\",\"dash\":\"solid\"},\"marker\":{\"symbol\":\"circle\"},\"mode\":\"lines\",\"name\":\"RIC\",\"orientation\":\"v\",\"showlegend\":true,\"x\":[1.0,2.0,3.0,4.0,5.0,6.0,7.0,8.0,9.0,10.0,11.0,12.0,13.0,14.0,15.0,16.0,17.0,18.0,19.0,20.0,21.0,22.0,23.0,24.0,25.0,26.0,27.0,28.0,29.0,30.0,31.0,32.0,33.0,34.0,35.0,36.0,37.0,38.0,39.0,40.0,41.0,42.0,43.0,44.0,45.0,46.0,47.0,48.0,49.0,50.0],\"xaxis\":\"x\",\"y\":[16,15,14,13,13,13,14,14,14,13,14,14,16,16,15,14,12,19,19,19,18,18,18,18,17,17,15,15,16,17,17,17,17,17,17,17,17,17,17,17,17,17,17,17,16,15,15,15,14,14],\"yaxis\":\"y\",\"type\":\"scatter\"},{\"hovertemplate\":\"Driver=ZHO<br>Lap=%{x}<br>Position=%{y}<extra></extra>\",\"legendgroup\":\"ZHO\",\"line\":{\"color\":\"#A42134\",\"dash\":\"solid\"},\"marker\":{\"symbol\":\"circle\"},\"mode\":\"lines\",\"name\":\"ZHO\",\"orientation\":\"v\",\"showlegend\":true,\"x\":[1.0,2.0,3.0,4.0,5.0,6.0,7.0,8.0,9.0,10.0,11.0,12.0,13.0,14.0,15.0,16.0,17.0,18.0,19.0,20.0,21.0,22.0,23.0,24.0,25.0,26.0,27.0,28.0,29.0,30.0,31.0,32.0,33.0,34.0,35.0,36.0,37.0,38.0,39.0,40.0,41.0,42.0,43.0,44.0,45.0,46.0,47.0,48.0,49.0,50.0],\"xaxis\":\"x\",\"y\":[17,16,15,14,14,14,13,13,13,12,11,11,11,11,11,11,7,7,8,9,8,8,8,9,11,12,13,13,12,12,12,12,12,12,12,12,13,13,13,13,13,13,13,13,13,14,14,14,15,15],\"yaxis\":\"y\",\"type\":\"scatter\"},{\"hovertemplate\":\"Driver=SAI<br>Lap=%{x}<br>Position=%{y}<extra></extra>\",\"legendgroup\":\"SAI\",\"line\":{\"color\":\"#EF1A2D\",\"dash\":\"solid\"},\"marker\":{\"symbol\":\"circle\"},\"mode\":\"lines\",\"name\":\"SAI\",\"orientation\":\"v\",\"showlegend\":true,\"x\":[1.0,2.0,3.0,4.0,5.0,6.0,7.0,8.0,9.0,10.0,11.0,12.0,13.0,14.0,15.0,16.0,17.0,18.0,19.0,20.0,21.0,22.0,23.0,24.0,25.0,26.0,27.0,28.0,29.0,30.0,31.0,32.0,33.0,34.0,35.0,36.0,37.0,38.0,39.0,40.0,41.0,42.0,43.0,44.0,45.0,46.0,47.0,48.0,49.0,50.0],\"xaxis\":\"x\",\"y\":[18,17,16,17,17,17,18,18,18,17,16,15,14,13,12,10,6,5,5,4,4,4,4,6,6,6,10,10,10,10,10,10,10,10,10,10,10,10,10,9,9,9,9,7,7,7,7,7,7,7],\"yaxis\":\"y\",\"type\":\"scatter\"},{\"hovertemplate\":\"Driver=ALO<br>Lap=%{x}<br>Position=%{y}<extra></extra>\",\"legendgroup\":\"ALO\",\"line\":{\"color\":\"#002420\",\"dash\":\"solid\"},\"marker\":{\"symbol\":\"circle\"},\"mode\":\"lines\",\"name\":\"ALO\",\"orientation\":\"v\",\"showlegend\":true,\"x\":[1.0,2.0,3.0,4.0,5.0,6.0,7.0,8.0,9.0,10.0,11.0,12.0,13.0,14.0,15.0,16.0,17.0,18.0,19.0,20.0,21.0,22.0,23.0,24.0,25.0,26.0,27.0,28.0,29.0,30.0,31.0,32.0,33.0,34.0,35.0,36.0,37.0,38.0,39.0,40.0,41.0,42.0,43.0,44.0,45.0,46.0,47.0,48.0,49.0,50.0],\"xaxis\":\"x\",\"y\":[19,19,18,18,18,18,17,17,17,16,17,16,15,14,13,12,8,6,6,6,5,6,7,7,7,7,12,12,11,11,11,11,11,11,11,11,11,11,11,10,10,10,10,8,8,9,9,9,9,9],\"yaxis\":\"y\",\"type\":\"scatter\"},{\"hovertemplate\":\"Driver=BOT<br>Lap=%{x}<br>Position=%{y}<extra></extra>\",\"legendgroup\":\"BOT\",\"line\":{\"color\":\"#A42134\",\"dash\":\"solid\"},\"marker\":{\"symbol\":\"circle\"},\"mode\":\"lines\",\"name\":\"BOT\",\"orientation\":\"v\",\"showlegend\":true,\"x\":[1.0,2.0,3.0,4.0,5.0,6.0,7.0,8.0,9.0,10.0,11.0,12.0,13.0,14.0,15.0,16.0,17.0,18.0,19.0,20.0,21.0,22.0,23.0,24.0,25.0,26.0,27.0,28.0,29.0,30.0,31.0,32.0,33.0,34.0,35.0,36.0,37.0,38.0,39.0,40.0,41.0,42.0,43.0,44.0,45.0,46.0,47.0,48.0,49.0,50.0],\"xaxis\":\"x\",\"y\":[20,20,19,19,19,19,19,19,19,18,18,18,17,17,16,15,14,12,13,14,15,16,16,17,18,18,18,18,18,18,18,18,18,18,18,19,19,19,19,19,19,19,19,19,19,18,17,17,17,17],\"yaxis\":\"y\",\"type\":\"scatter\"}],                        {\"template\":{\"data\":{\"histogram2dcontour\":[{\"type\":\"histogram2dcontour\",\"colorbar\":{\"outlinewidth\":0,\"ticks\":\"\"},\"colorscale\":[[0.0,\"#0d0887\"],[0.1111111111111111,\"#46039f\"],[0.2222222222222222,\"#7201a8\"],[0.3333333333333333,\"#9c179e\"],[0.4444444444444444,\"#bd3786\"],[0.5555555555555556,\"#d8576b\"],[0.6666666666666666,\"#ed7953\"],[0.7777777777777778,\"#fb9f3a\"],[0.8888888888888888,\"#fdca26\"],[1.0,\"#f0f921\"]]}],\"choropleth\":[{\"type\":\"choropleth\",\"colorbar\":{\"outlinewidth\":0,\"ticks\":\"\"}}],\"histogram2d\":[{\"type\":\"histogram2d\",\"colorbar\":{\"outlinewidth\":0,\"ticks\":\"\"},\"colorscale\":[[0.0,\"#0d0887\"],[0.1111111111111111,\"#46039f\"],[0.2222222222222222,\"#7201a8\"],[0.3333333333333333,\"#9c179e\"],[0.4444444444444444,\"#bd3786\"],[0.5555555555555556,\"#d8576b\"],[0.6666666666666666,\"#ed7953\"],[0.7777777777777778,\"#fb9f3a\"],[0.8888888888888888,\"#fdca26\"],[1.0,\"#f0f921\"]]}],\"heatmap\":[{\"type\":\"heatmap\",\"colorbar\":{\"outlinewidth\":0,\"ticks\":\"\"},\"colorscale\":[[0.0,\"#0d0887\"],[0.1111111111111111,\"#46039f\"],[0.2222222222222222,\"#7201a8\"],[0.3333333333333333,\"#9c179e\"],[0.4444444444444444,\"#bd3786\"],[0.5555555555555556,\"#d8576b\"],[0.6666666666666666,\"#ed7953\"],[0.7777777777777778,\"#fb9f3a\"],[0.8888888888888888,\"#fdca26\"],[1.0,\"#f0f921\"]]}],\"heatmapgl\":[{\"type\":\"heatmapgl\",\"colorbar\":{\"outlinewidth\":0,\"ticks\":\"\"},\"colorscale\":[[0.0,\"#0d0887\"],[0.1111111111111111,\"#46039f\"],[0.2222222222222222,\"#7201a8\"],[0.3333333333333333,\"#9c179e\"],[0.4444444444444444,\"#bd3786\"],[0.5555555555555556,\"#d8576b\"],[0.6666666666666666,\"#ed7953\"],[0.7777777777777778,\"#fb9f3a\"],[0.8888888888888888,\"#fdca26\"],[1.0,\"#f0f921\"]]}],\"contourcarpet\":[{\"type\":\"contourcarpet\",\"colorbar\":{\"outlinewidth\":0,\"ticks\":\"\"}}],\"contour\":[{\"type\":\"contour\",\"colorbar\":{\"outlinewidth\":0,\"ticks\":\"\"},\"colorscale\":[[0.0,\"#0d0887\"],[0.1111111111111111,\"#46039f\"],[0.2222222222222222,\"#7201a8\"],[0.3333333333333333,\"#9c179e\"],[0.4444444444444444,\"#bd3786\"],[0.5555555555555556,\"#d8576b\"],[0.6666666666666666,\"#ed7953\"],[0.7777777777777778,\"#fb9f3a\"],[0.8888888888888888,\"#fdca26\"],[1.0,\"#f0f921\"]]}],\"surface\":[{\"type\":\"surface\",\"colorbar\":{\"outlinewidth\":0,\"ticks\":\"\"},\"colorscale\":[[0.0,\"#0d0887\"],[0.1111111111111111,\"#46039f\"],[0.2222222222222222,\"#7201a8\"],[0.3333333333333333,\"#9c179e\"],[0.4444444444444444,\"#bd3786\"],[0.5555555555555556,\"#d8576b\"],[0.6666666666666666,\"#ed7953\"],[0.7777777777777778,\"#fb9f3a\"],[0.8888888888888888,\"#fdca26\"],[1.0,\"#f0f921\"]]}],\"mesh3d\":[{\"type\":\"mesh3d\",\"colorbar\":{\"outlinewidth\":0,\"ticks\":\"\"}}],\"scatter\":[{\"fillpattern\":{\"fillmode\":\"overlay\",\"size\":10,\"solidity\":0.2},\"type\":\"scatter\"}],\"parcoords\":[{\"type\":\"parcoords\",\"line\":{\"colorbar\":{\"outlinewidth\":0,\"ticks\":\"\"}}}],\"scatterpolargl\":[{\"type\":\"scatterpolargl\",\"marker\":{\"colorbar\":{\"outlinewidth\":0,\"ticks\":\"\"}}}],\"bar\":[{\"error_x\":{\"color\":\"#2a3f5f\"},\"error_y\":{\"color\":\"#2a3f5f\"},\"marker\":{\"line\":{\"color\":\"#E5ECF6\",\"width\":0.5},\"pattern\":{\"fillmode\":\"overlay\",\"size\":10,\"solidity\":0.2}},\"type\":\"bar\"}],\"scattergeo\":[{\"type\":\"scattergeo\",\"marker\":{\"colorbar\":{\"outlinewidth\":0,\"ticks\":\"\"}}}],\"scatterpolar\":[{\"type\":\"scatterpolar\",\"marker\":{\"colorbar\":{\"outlinewidth\":0,\"ticks\":\"\"}}}],\"histogram\":[{\"marker\":{\"pattern\":{\"fillmode\":\"overlay\",\"size\":10,\"solidity\":0.2}},\"type\":\"histogram\"}],\"scattergl\":[{\"type\":\"scattergl\",\"marker\":{\"colorbar\":{\"outlinewidth\":0,\"ticks\":\"\"}}}],\"scatter3d\":[{\"type\":\"scatter3d\",\"line\":{\"colorbar\":{\"outlinewidth\":0,\"ticks\":\"\"}},\"marker\":{\"colorbar\":{\"outlinewidth\":0,\"ticks\":\"\"}}}],\"scattermapbox\":[{\"type\":\"scattermapbox\",\"marker\":{\"colorbar\":{\"outlinewidth\":0,\"ticks\":\"\"}}}],\"scatterternary\":[{\"type\":\"scatterternary\",\"marker\":{\"colorbar\":{\"outlinewidth\":0,\"ticks\":\"\"}}}],\"scattercarpet\":[{\"type\":\"scattercarpet\",\"marker\":{\"colorbar\":{\"outlinewidth\":0,\"ticks\":\"\"}}}],\"carpet\":[{\"aaxis\":{\"endlinecolor\":\"#2a3f5f\",\"gridcolor\":\"white\",\"linecolor\":\"white\",\"minorgridcolor\":\"white\",\"startlinecolor\":\"#2a3f5f\"},\"baxis\":{\"endlinecolor\":\"#2a3f5f\",\"gridcolor\":\"white\",\"linecolor\":\"white\",\"minorgridcolor\":\"white\",\"startlinecolor\":\"#2a3f5f\"},\"type\":\"carpet\"}],\"table\":[{\"cells\":{\"fill\":{\"color\":\"#EBF0F8\"},\"line\":{\"color\":\"white\"}},\"header\":{\"fill\":{\"color\":\"#C8D4E3\"},\"line\":{\"color\":\"white\"}},\"type\":\"table\"}],\"barpolar\":[{\"marker\":{\"line\":{\"color\":\"#E5ECF6\",\"width\":0.5},\"pattern\":{\"fillmode\":\"overlay\",\"size\":10,\"solidity\":0.2}},\"type\":\"barpolar\"}],\"pie\":[{\"automargin\":true,\"type\":\"pie\"}]},\"layout\":{\"autotypenumbers\":\"strict\",\"colorway\":[\"#636efa\",\"#EF553B\",\"#00cc96\",\"#ab63fa\",\"#FFA15A\",\"#19d3f3\",\"#FF6692\",\"#B6E880\",\"#FF97FF\",\"#FECB52\"],\"font\":{\"color\":\"#2a3f5f\"},\"hovermode\":\"closest\",\"hoverlabel\":{\"align\":\"left\"},\"paper_bgcolor\":\"white\",\"plot_bgcolor\":\"#E5ECF6\",\"polar\":{\"bgcolor\":\"#E5ECF6\",\"angularaxis\":{\"gridcolor\":\"white\",\"linecolor\":\"white\",\"ticks\":\"\"},\"radialaxis\":{\"gridcolor\":\"white\",\"linecolor\":\"white\",\"ticks\":\"\"}},\"ternary\":{\"bgcolor\":\"#E5ECF6\",\"aaxis\":{\"gridcolor\":\"white\",\"linecolor\":\"white\",\"ticks\":\"\"},\"baxis\":{\"gridcolor\":\"white\",\"linecolor\":\"white\",\"ticks\":\"\"},\"caxis\":{\"gridcolor\":\"white\",\"linecolor\":\"white\",\"ticks\":\"\"}},\"coloraxis\":{\"colorbar\":{\"outlinewidth\":0,\"ticks\":\"\"}},\"colorscale\":{\"sequential\":[[0.0,\"#0d0887\"],[0.1111111111111111,\"#46039f\"],[0.2222222222222222,\"#7201a8\"],[0.3333333333333333,\"#9c179e\"],[0.4444444444444444,\"#bd3786\"],[0.5555555555555556,\"#d8576b\"],[0.6666666666666666,\"#ed7953\"],[0.7777777777777778,\"#fb9f3a\"],[0.8888888888888888,\"#fdca26\"],[1.0,\"#f0f921\"]],\"sequentialminus\":[[0.0,\"#0d0887\"],[0.1111111111111111,\"#46039f\"],[0.2222222222222222,\"#7201a8\"],[0.3333333333333333,\"#9c179e\"],[0.4444444444444444,\"#bd3786\"],[0.5555555555555556,\"#d8576b\"],[0.6666666666666666,\"#ed7953\"],[0.7777777777777778,\"#fb9f3a\"],[0.8888888888888888,\"#fdca26\"],[1.0,\"#f0f921\"]],\"diverging\":[[0,\"#8e0152\"],[0.1,\"#c51b7d\"],[0.2,\"#de77ae\"],[0.3,\"#f1b6da\"],[0.4,\"#fde0ef\"],[0.5,\"#f7f7f7\"],[0.6,\"#e6f5d0\"],[0.7,\"#b8e186\"],[0.8,\"#7fbc41\"],[0.9,\"#4d9221\"],[1,\"#276419\"]]},\"xaxis\":{\"gridcolor\":\"white\",\"linecolor\":\"white\",\"ticks\":\"\",\"title\":{\"standoff\":15},\"zerolinecolor\":\"white\",\"automargin\":true,\"zerolinewidth\":2},\"yaxis\":{\"gridcolor\":\"white\",\"linecolor\":\"white\",\"ticks\":\"\",\"title\":{\"standoff\":15},\"zerolinecolor\":\"white\",\"automargin\":true,\"zerolinewidth\":2},\"scene\":{\"xaxis\":{\"backgroundcolor\":\"#E5ECF6\",\"gridcolor\":\"white\",\"linecolor\":\"white\",\"showbackground\":true,\"ticks\":\"\",\"zerolinecolor\":\"white\",\"gridwidth\":2},\"yaxis\":{\"backgroundcolor\":\"#E5ECF6\",\"gridcolor\":\"white\",\"linecolor\":\"white\",\"showbackground\":true,\"ticks\":\"\",\"zerolinecolor\":\"white\",\"gridwidth\":2},\"zaxis\":{\"backgroundcolor\":\"#E5ECF6\",\"gridcolor\":\"white\",\"linecolor\":\"white\",\"showbackground\":true,\"ticks\":\"\",\"zerolinecolor\":\"white\",\"gridwidth\":2}},\"shapedefaults\":{\"line\":{\"color\":\"#2a3f5f\"}},\"annotationdefaults\":{\"arrowcolor\":\"#2a3f5f\",\"arrowhead\":0,\"arrowwidth\":1},\"geo\":{\"bgcolor\":\"white\",\"landcolor\":\"#E5ECF6\",\"subunitcolor\":\"white\",\"showland\":true,\"showlakes\":true,\"lakecolor\":\"white\"},\"title\":{\"x\":0.05},\"mapbox\":{\"style\":\"light\"}}},\"xaxis\":{\"anchor\":\"y\",\"domain\":[0.0,1.0],\"title\":{\"text\":\"Lap\"}},\"yaxis\":{\"anchor\":\"x\",\"domain\":[0.0,1.0],\"title\":{\"text\":\"Position\"}},\"legend\":{\"title\":{\"text\":\"Driver\"},\"tracegroupgap\":0},\"margin\":{\"t\":60},\"title\":{\"font\":{\"family\":\"Arial, sans-serif\",\"size\":30},\"text\":\"<b>Position By Lap</b>\",\"x\":0.5},\"updatemenus\":[{\"active\":0,\"buttons\":[{\"args\":[{\"visible\":[true,true,true,true,true,true,true,true,true,true,true,true,true,true,true,true,true,true,true,true],\"title\":\"All\",\"showlegend\":true}],\"label\":\"All\",\"method\":\"update\"},{\"args\":[{\"visible\":[true,false,false,false,false,false,false,false,false,false,false,false,false,false,false,false,false,false,false,false],\"title\":\"ALB\",\"showlegend\":true}],\"label\":\"ALB\",\"method\":\"update\"},{\"args\":[{\"visible\":[false,true,false,false,false,false,false,false,false,false,false,false,false,false,false,false,false,false,false,false],\"title\":\"ALO\",\"showlegend\":true}],\"label\":\"ALO\",\"method\":\"update\"},{\"args\":[{\"visible\":[false,false,true,false,false,false,false,false,false,false,false,false,false,false,false,false,false,false,false,false],\"title\":\"BOT\",\"showlegend\":true}],\"label\":\"BOT\",\"method\":\"update\"},{\"args\":[{\"visible\":[false,false,false,true,false,false,false,false,false,false,false,false,false,false,false,false,false,false,false,false],\"title\":\"GAS\",\"showlegend\":true}],\"label\":\"GAS\",\"method\":\"update\"},{\"args\":[{\"visible\":[false,false,false,false,true,false,false,false,false,false,false,false,false,false,false,false,false,false,false,false],\"title\":\"HAM\",\"showlegend\":true}],\"label\":\"HAM\",\"method\":\"update\"},{\"args\":[{\"visible\":[false,false,false,false,false,true,false,false,false,false,false,false,false,false,false,false,false,false,false,false],\"title\":\"HUL\",\"showlegend\":true}],\"label\":\"HUL\",\"method\":\"update\"},{\"args\":[{\"visible\":[false,false,false,false,false,false,true,false,false,false,false,false,false,false,false,false,false,false,false,false],\"title\":\"LEC\",\"showlegend\":true}],\"label\":\"LEC\",\"method\":\"update\"},{\"args\":[{\"visible\":[false,false,false,false,false,false,false,true,false,false,false,false,false,false,false,false,false,false,false,false],\"title\":\"MAG\",\"showlegend\":true}],\"label\":\"MAG\",\"method\":\"update\"},{\"args\":[{\"visible\":[false,false,false,false,false,false,false,false,true,false,false,false,false,false,false,false,false,false,false,false],\"title\":\"NOR\",\"showlegend\":true}],\"label\":\"NOR\",\"method\":\"update\"},{\"args\":[{\"visible\":[false,false,false,false,false,false,false,false,false,true,false,false,false,false,false,false,false,false,false,false],\"title\":\"OCO\",\"showlegend\":true}],\"label\":\"OCO\",\"method\":\"update\"},{\"args\":[{\"visible\":[false,false,false,false,false,false,false,false,false,false,true,false,false,false,false,false,false,false,false,false],\"title\":\"PER\",\"showlegend\":true}],\"label\":\"PER\",\"method\":\"update\"},{\"args\":[{\"visible\":[false,false,false,false,false,false,false,false,false,false,false,true,false,false,false,false,false,false,false,false],\"title\":\"PIA\",\"showlegend\":true}],\"label\":\"PIA\",\"method\":\"update\"},{\"args\":[{\"visible\":[false,false,false,false,false,false,false,false,false,false,false,false,true,false,false,false,false,false,false,false],\"title\":\"RIC\",\"showlegend\":true}],\"label\":\"RIC\",\"method\":\"update\"},{\"args\":[{\"visible\":[false,false,false,false,false,false,false,false,false,false,false,false,false,true,false,false,false,false,false,false],\"title\":\"RUS\",\"showlegend\":true}],\"label\":\"RUS\",\"method\":\"update\"},{\"args\":[{\"visible\":[false,false,false,false,false,false,false,false,false,false,false,false,false,false,true,false,false,false,false,false],\"title\":\"SAI\",\"showlegend\":true}],\"label\":\"SAI\",\"method\":\"update\"},{\"args\":[{\"visible\":[false,false,false,false,false,false,false,false,false,false,false,false,false,false,false,true,false,false,false,false],\"title\":\"SAR\",\"showlegend\":true}],\"label\":\"SAR\",\"method\":\"update\"},{\"args\":[{\"visible\":[false,false,false,false,false,false,false,false,false,false,false,false,false,false,false,false,true,false,false,false],\"title\":\"STR\",\"showlegend\":true}],\"label\":\"STR\",\"method\":\"update\"},{\"args\":[{\"visible\":[false,false,false,false,false,false,false,false,false,false,false,false,false,false,false,false,false,true,false,false],\"title\":\"TSU\",\"showlegend\":true}],\"label\":\"TSU\",\"method\":\"update\"},{\"args\":[{\"visible\":[false,false,false,false,false,false,false,false,false,false,false,false,false,false,false,false,false,false,true,false],\"title\":\"VER\",\"showlegend\":true}],\"label\":\"VER\",\"method\":\"update\"},{\"args\":[{\"visible\":[false,false,false,false,false,false,false,false,false,false,false,false,false,false,false,false,false,false,false,true],\"title\":\"ZHO\",\"showlegend\":true}],\"label\":\"ZHO\",\"method\":\"update\"}]}]},                        {\"responsive\": true}                    ).then(function(){\n",
       "                            \n",
       "var gd = document.getElementById('94609361-48fe-4e0f-92a3-60bbaf2d432b');\n",
       "var x = new MutationObserver(function (mutations, observer) {{\n",
       "        var display = window.getComputedStyle(gd).display;\n",
       "        if (!display || display === 'none') {{\n",
       "            console.log([gd, 'removed!']);\n",
       "            Plotly.purge(gd);\n",
       "            observer.disconnect();\n",
       "        }}\n",
       "}});\n",
       "\n",
       "// Listen for the removal of the full notebook cells\n",
       "var notebookContainer = gd.closest('#notebook-container');\n",
       "if (notebookContainer) {{\n",
       "    x.observe(notebookContainer, {childList: true});\n",
       "}}\n",
       "\n",
       "// Listen for the clearing of the current output cell\n",
       "var outputEl = gd.closest('.output');\n",
       "if (outputEl) {{\n",
       "    x.observe(outputEl, {childList: true});\n",
       "}}\n",
       "\n",
       "                        })                };                });            </script>        </div>"
      ]
     },
     "metadata": {},
     "output_type": "display_data"
    }
   ],
   "source": [
    "if not lap_tim_emp:\n",
    "    multi_pos_plot(mapping)"
   ]
  },
  {
   "cell_type": "code",
   "execution_count": 31,
   "id": "51801c4d",
   "metadata": {
    "_kg_hide-input": true,
    "execution": {
     "iopub.execute_input": "2023-11-21T00:34:28.471139Z",
     "iopub.status.busy": "2023-11-21T00:34:28.470703Z",
     "iopub.status.idle": "2023-11-21T00:34:28.479468Z",
     "shell.execute_reply": "2023-11-21T00:34:28.477947Z"
    },
    "papermill": {
     "duration": 0.036766,
     "end_time": "2023-11-21T00:34:28.482453",
     "exception": false,
     "start_time": "2023-11-21T00:34:28.445687",
     "status": "completed"
    },
    "tags": []
   },
   "outputs": [
    {
     "data": {
      "text/markdown": [
       "# <div style='background:#FF1801; border:0; color:black; box-shadow: 10px 10px 5px 0px rgba(0,0,0,0.75); transform: rotateX(10deg);'><h1 style='padding: 10px; margin: 0; text-align:center;'><span style='font-size: 30px;'>Driver Overall Standings</span></h1></div>"
      ],
      "text/plain": [
       "<IPython.core.display.Markdown object>"
      ]
     },
     "metadata": {},
     "output_type": "display_data"
    }
   ],
   "source": [
    "display(md(f\"# <div style='background:#FF1801; border:0; color:black; box-shadow: 10px 10px 5px 0px rgba(0,0,0,0.75); transform: rotateX(10deg);'><h1 style='padding: 10px; margin: 0; text-align:center;'><span style='font-size: 30px;'>Driver Overall Standings</span></h1></div>\"))"
   ]
  },
  {
   "cell_type": "code",
   "execution_count": 32,
   "id": "a742afc6",
   "metadata": {
    "_kg_hide-input": true,
    "execution": {
     "iopub.execute_input": "2023-11-21T00:34:28.533506Z",
     "iopub.status.busy": "2023-11-21T00:34:28.533079Z",
     "iopub.status.idle": "2023-11-21T00:34:28.557095Z",
     "shell.execute_reply": "2023-11-21T00:34:28.555708Z"
    },
    "papermill": {
     "duration": 0.054048,
     "end_time": "2023-11-21T00:34:28.559796",
     "exception": false,
     "start_time": "2023-11-21T00:34:28.505748",
     "status": "completed"
    },
    "tags": []
   },
   "outputs": [
    {
     "data": {
      "text/html": [
       "<style type=\"text/css\">\n",
       "#T_7cd71_row0_col1, #T_7cd71_row1_col1, #T_7cd71_row2_col1, #T_7cd71_row3_col1, #T_7cd71_row4_col1, #T_7cd71_row5_col1, #T_7cd71_row6_col1, #T_7cd71_row7_col1, #T_7cd71_row8_col1, #T_7cd71_row9_col1, #T_7cd71_row10_col1, #T_7cd71_row11_col1, #T_7cd71_row12_col1, #T_7cd71_row13_col1, #T_7cd71_row14_col1, #T_7cd71_row15_col1, #T_7cd71_row16_col1, #T_7cd71_row17_col1 {\n",
       "  background-color: #081d58;\n",
       "  color: #f1f1f1;\n",
       "}\n",
       "#T_7cd71_row18_col1 {\n",
       "  background-color: #40b5c4;\n",
       "  color: #f1f1f1;\n",
       "}\n",
       "#T_7cd71_row19_col1 {\n",
       "  background-color: #c6e9b4;\n",
       "  color: #000000;\n",
       "}\n",
       "#T_7cd71_row20_col1, #T_7cd71_row21_col1 {\n",
       "  background-color: #ffffd9;\n",
       "  color: #000000;\n",
       "}\n",
       "</style>\n",
       "<table id=\"T_7cd71_\">\n",
       "  <caption>Driver Standings</caption>\n",
       "  <thead>\n",
       "    <tr>\n",
       "      <th class=\"col_heading level0 col0\" >Driver</th>\n",
       "      <th class=\"col_heading level0 col1\" >points</th>\n",
       "    </tr>\n",
       "  </thead>\n",
       "  <tbody>\n",
       "    <tr>\n",
       "      <td id=\"T_7cd71_row0_col0\" class=\"data row0 col0\" >VER</td>\n",
       "      <td id=\"T_7cd71_row0_col1\" class=\"data row0 col1\" >549.0</td>\n",
       "    </tr>\n",
       "    <tr>\n",
       "      <td id=\"T_7cd71_row1_col0\" class=\"data row1 col0\" >PER</td>\n",
       "      <td id=\"T_7cd71_row1_col1\" class=\"data row1 col1\" >273.0</td>\n",
       "    </tr>\n",
       "    <tr>\n",
       "      <td id=\"T_7cd71_row2_col0\" class=\"data row2 col0\" >HAM</td>\n",
       "      <td id=\"T_7cd71_row2_col1\" class=\"data row2 col1\" >232.0</td>\n",
       "    </tr>\n",
       "    <tr>\n",
       "      <td id=\"T_7cd71_row3_col0\" class=\"data row3 col0\" >SAI</td>\n",
       "      <td id=\"T_7cd71_row3_col1\" class=\"data row3 col1\" >200.0</td>\n",
       "    </tr>\n",
       "    <tr>\n",
       "      <td id=\"T_7cd71_row4_col0\" class=\"data row4 col0\" >ALO</td>\n",
       "      <td id=\"T_7cd71_row4_col1\" class=\"data row4 col1\" >200.0</td>\n",
       "    </tr>\n",
       "    <tr>\n",
       "      <td id=\"T_7cd71_row5_col0\" class=\"data row5 col0\" >NOR</td>\n",
       "      <td id=\"T_7cd71_row5_col1\" class=\"data row5 col1\" >195.0</td>\n",
       "    </tr>\n",
       "    <tr>\n",
       "      <td id=\"T_7cd71_row6_col0\" class=\"data row6 col0\" >LEC</td>\n",
       "      <td id=\"T_7cd71_row6_col1\" class=\"data row6 col1\" >188.0</td>\n",
       "    </tr>\n",
       "    <tr>\n",
       "      <td id=\"T_7cd71_row7_col0\" class=\"data row7 col0\" >RUS</td>\n",
       "      <td id=\"T_7cd71_row7_col1\" class=\"data row7 col1\" >160.0</td>\n",
       "    </tr>\n",
       "    <tr>\n",
       "      <td id=\"T_7cd71_row8_col0\" class=\"data row8 col0\" >PIA</td>\n",
       "      <td id=\"T_7cd71_row8_col1\" class=\"data row8 col1\" >89.0</td>\n",
       "    </tr>\n",
       "    <tr>\n",
       "      <td id=\"T_7cd71_row9_col0\" class=\"data row9 col0\" >STR</td>\n",
       "      <td id=\"T_7cd71_row9_col1\" class=\"data row9 col1\" >73.0</td>\n",
       "    </tr>\n",
       "    <tr>\n",
       "      <td id=\"T_7cd71_row10_col0\" class=\"data row10 col0\" >GAS</td>\n",
       "      <td id=\"T_7cd71_row10_col1\" class=\"data row10 col1\" >62.0</td>\n",
       "    </tr>\n",
       "    <tr>\n",
       "      <td id=\"T_7cd71_row11_col0\" class=\"data row11 col0\" >OCO</td>\n",
       "      <td id=\"T_7cd71_row11_col1\" class=\"data row11 col1\" >58.0</td>\n",
       "    </tr>\n",
       "    <tr>\n",
       "      <td id=\"T_7cd71_row12_col0\" class=\"data row12 col0\" >ALB</td>\n",
       "      <td id=\"T_7cd71_row12_col1\" class=\"data row12 col1\" >27.0</td>\n",
       "    </tr>\n",
       "    <tr>\n",
       "      <td id=\"T_7cd71_row13_col0\" class=\"data row13 col0\" >TSU</td>\n",
       "      <td id=\"T_7cd71_row13_col1\" class=\"data row13 col1\" >13.0</td>\n",
       "    </tr>\n",
       "    <tr>\n",
       "      <td id=\"T_7cd71_row14_col0\" class=\"data row14 col0\" >BOT</td>\n",
       "      <td id=\"T_7cd71_row14_col1\" class=\"data row14 col1\" >10.0</td>\n",
       "    </tr>\n",
       "    <tr>\n",
       "      <td id=\"T_7cd71_row15_col0\" class=\"data row15 col0\" >HUL</td>\n",
       "      <td id=\"T_7cd71_row15_col1\" class=\"data row15 col1\" >9.0</td>\n",
       "    </tr>\n",
       "    <tr>\n",
       "      <td id=\"T_7cd71_row16_col0\" class=\"data row16 col0\" >RIC</td>\n",
       "      <td id=\"T_7cd71_row16_col1\" class=\"data row16 col1\" >6.0</td>\n",
       "    </tr>\n",
       "    <tr>\n",
       "      <td id=\"T_7cd71_row17_col0\" class=\"data row17 col0\" >ZHO</td>\n",
       "      <td id=\"T_7cd71_row17_col1\" class=\"data row17 col1\" >6.0</td>\n",
       "    </tr>\n",
       "    <tr>\n",
       "      <td id=\"T_7cd71_row18_col0\" class=\"data row18 col0\" >MAG</td>\n",
       "      <td id=\"T_7cd71_row18_col1\" class=\"data row18 col1\" >3.0</td>\n",
       "    </tr>\n",
       "    <tr>\n",
       "      <td id=\"T_7cd71_row19_col0\" class=\"data row19 col0\" >nan</td>\n",
       "      <td id=\"T_7cd71_row19_col1\" class=\"data row19 col1\" >2.0</td>\n",
       "    </tr>\n",
       "    <tr>\n",
       "      <td id=\"T_7cd71_row20_col0\" class=\"data row20 col0\" >SAR</td>\n",
       "      <td id=\"T_7cd71_row20_col1\" class=\"data row20 col1\" >1.0</td>\n",
       "    </tr>\n",
       "    <tr>\n",
       "      <td id=\"T_7cd71_row21_col0\" class=\"data row21 col0\" >DEV</td>\n",
       "      <td id=\"T_7cd71_row21_col1\" class=\"data row21 col1\" >0.0</td>\n",
       "    </tr>\n",
       "  </tbody>\n",
       "</table>\n"
      ],
      "text/plain": [
       "<pandas.io.formats.style.Styler at 0x7c862d690b50>"
      ]
     },
     "execution_count": 32,
     "metadata": {},
     "output_type": "execute_result"
    }
   ],
   "source": [
    "drive_stand = driver_standings.merge(drivers_full, on='driverID', how='left', suffixes=('_1', '_2'))\n",
    "drive_stand['points'] = drive_stand.points.astype(float)\n",
    "drive_stand_race  = drive_stand .sort_values(by='points', ascending=False)\n",
    "drive_stand_race[['Driver', 'points']].style.pipe(driver_stand)"
   ]
  },
  {
   "cell_type": "code",
   "execution_count": 33,
   "id": "186eceba",
   "metadata": {
    "_kg_hide-input": true,
    "execution": {
     "iopub.execute_input": "2023-11-21T00:34:28.608455Z",
     "iopub.status.busy": "2023-11-21T00:34:28.607709Z",
     "iopub.status.idle": "2023-11-21T00:34:28.617692Z",
     "shell.execute_reply": "2023-11-21T00:34:28.616073Z"
    },
    "papermill": {
     "duration": 0.038501,
     "end_time": "2023-11-21T00:34:28.621357",
     "exception": false,
     "start_time": "2023-11-21T00:34:28.582856",
     "status": "completed"
    },
    "tags": []
   },
   "outputs": [
    {
     "data": {
      "text/markdown": [
       "# <div style='background:#FF1801; border:0; color:black; box-shadow: 10px 10px 5px 0px rgba(0,0,0,0.75); transform: rotateX(10deg);'><h1 style='padding: 10px; margin: 0; text-align:center;'><span style='font-size: 30px;'>Constructors Race Performance</span></h1></div>"
      ],
      "text/plain": [
       "<IPython.core.display.Markdown object>"
      ]
     },
     "metadata": {},
     "output_type": "display_data"
    }
   ],
   "source": [
    "display(md(f\"# <div style='background:#FF1801; border:0; color:black; box-shadow: 10px 10px 5px 0px rgba(0,0,0,0.75); transform: rotateX(10deg);'><h1 style='padding: 10px; margin: 0; text-align:center;'><span style='font-size: 30px;'>Constructors Race Performance</span></h1></div>\"))"
   ]
  },
  {
   "cell_type": "code",
   "execution_count": 34,
   "id": "3d7ee90d",
   "metadata": {
    "_kg_hide-input": true,
    "execution": {
     "iopub.execute_input": "2023-11-21T00:34:28.691560Z",
     "iopub.status.busy": "2023-11-21T00:34:28.690727Z",
     "iopub.status.idle": "2023-11-21T00:34:28.820780Z",
     "shell.execute_reply": "2023-11-21T00:34:28.819375Z"
    },
    "papermill": {
     "duration": 0.167245,
     "end_time": "2023-11-21T00:34:28.823546",
     "exception": false,
     "start_time": "2023-11-21T00:34:28.656301",
     "status": "completed"
    },
    "tags": []
   },
   "outputs": [
    {
     "data": {
      "text/html": [
       "<div>                            <div id=\"d3eef835-e67f-47f1-a186-04fda3058f93\" class=\"plotly-graph-div\" style=\"height:525px; width:100%;\"></div>            <script type=\"text/javascript\">                require([\"plotly\"], function(Plotly) {                    window.PLOTLYENV=window.PLOTLYENV || {};                                    if (document.getElementById(\"d3eef835-e67f-47f1-a186-04fda3058f93\")) {                    Plotly.newPlot(                        \"d3eef835-e67f-47f1-a186-04fda3058f93\",                        [{\"hovertemplate\":\"name=Red Bull<br>Race=%{x}<br>Points=%{y}<extra></extra>\",\"legendgroup\":\"Red Bull\",\"line\":{\"color\":\"#000B8D\",\"dash\":\"solid\"},\"marker\":{\"symbol\":\"circle\"},\"mode\":\"lines\",\"name\":\"Red Bull\",\"orientation\":\"v\",\"showlegend\":true,\"x\":[1,2,3,4,5,6,7,8,9,10,11,12,13,14,15,16,17,18,19,20,21],\"xaxis\":\"x\",\"y\":[43.0,87.0,123.0,180.0,224.0,249.0,287.0,321.0,377.0,411.0,452.0,503.0,540.0,583.0,597.0,623.0,657.0,706.0,731.0,782.0,822.0],\"yaxis\":\"y\",\"type\":\"scatter\"},{\"hovertemplate\":\"name=Aston Martin<br>Race=%{x}<br>Points=%{y}<extra></extra>\",\"legendgroup\":\"Aston Martin\",\"line\":{\"color\":\"#002420\",\"dash\":\"solid\"},\"marker\":{\"symbol\":\"circle\"},\"mode\":\"lines\",\"name\":\"Aston Martin\",\"orientation\":\"v\",\"showlegend\":true,\"x\":[1,2,3,4,5,6,7,8,9,10,11,12,13,14,15,16,17,18,19,20,21],\"xaxis\":\"x\",\"y\":[23.0,38.0,65.0,87.0,102.0,120.0,134.0,154.0,175.0,181.0,184.0,196.0,215.0,217.0,217.0,221.0,230.0,236.0,236.0,261.0,273.0],\"yaxis\":\"y\",\"type\":\"scatter\"},{\"hovertemplate\":\"name=Mercedes<br>Race=%{x}<br>Points=%{y}<extra></extra>\",\"legendgroup\":\"Mercedes\",\"line\":{\"color\":\"#00A19B\",\"dash\":\"solid\"},\"marker\":{\"symbol\":\"circle\"},\"mode\":\"lines\",\"name\":\"Mercedes\",\"orientation\":\"v\",\"showlegend\":true,\"x\":[1,2,3,4,5,6,7,8,9,10,11,12,13,14,15,16,17,18,19,20,21],\"xaxis\":\"x\",\"y\":[16.0,38.0,56.0,76.0,96.0,119.0,152.0,167.0,178.0,203.0,223.0,247.0,255.0,273.0,289.0,305.0,326.0,344.0,371.0,382.0,392.0],\"yaxis\":\"y\",\"type\":\"scatter\"},{\"hovertemplate\":\"name=Ferrari<br>Race=%{x}<br>Points=%{y}<extra></extra>\",\"legendgroup\":\"Ferrari\",\"line\":{\"color\":\"#EF1A2D\",\"dash\":\"solid\"},\"marker\":{\"symbol\":\"circle\"},\"mode\":\"lines\",\"name\":\"Ferrari\",\"orientation\":\"v\",\"showlegend\":true,\"x\":[1,2,3,4,5,6,7,8,9,10,11,12,13,14,15,16,17,18,19,20,21],\"xaxis\":\"x\",\"y\":[12.0,26.0,26.0,62.0,78.0,90.0,100.0,122.0,154.0,157.0,167.0,191.0,201.0,228.0,265.0,285.0,298.0,322.0,349.0,362.0,388.0],\"yaxis\":\"y\",\"type\":\"scatter\"},{\"hovertemplate\":\"name=Alfa Romeo<br>Race=%{x}<br>Points=%{y}<extra></extra>\",\"legendgroup\":\"Alfa Romeo\",\"line\":{\"color\":\"#A42134\",\"dash\":\"solid\"},\"marker\":{\"symbol\":\"circle\"},\"mode\":\"lines\",\"name\":\"Alfa Romeo\",\"orientation\":\"v\",\"showlegend\":true,\"x\":[1,2,3,4,5,6,7,8,9,10,11,12,13,14,15,16,17,18,19,20,21],\"xaxis\":\"x\",\"y\":[4.0,4.0,6.0,6.0,6.0,6.0,8.0,9.0,9.0,9.0,9.0,9.0,9.0,10.0,10.0,10.0,16.0,16.0,16.0,16.0,16.0],\"yaxis\":\"y\",\"type\":\"scatter\"},{\"hovertemplate\":\"name=Alpine F1 Team<br>Race=%{x}<br>Points=%{y}<extra></extra>\",\"legendgroup\":\"Alpine F1 Team\",\"line\":{\"color\":\"#2173B8\",\"dash\":\"solid\"},\"marker\":{\"symbol\":\"circle\"},\"mode\":\"lines\",\"name\":\"Alpine F1 Team\",\"orientation\":\"v\",\"showlegend\":true,\"x\":[1,2,3,4,5,6,7,8,9,10,11,12,13,14,15,16,17,18,19,20,21],\"xaxis\":\"x\",\"y\":[2.0,8.0,8.0,8.0,14.0,35.0,40.0,44.0,47.0,47.0,47.0,57.0,73.0,73.0,81.0,84.0,90.0,100.0,101.0,108.0,120.0],\"yaxis\":\"y\",\"type\":\"scatter\"},{\"hovertemplate\":\"name=Williams<br>Race=%{x}<br>Points=%{y}<extra></extra>\",\"legendgroup\":\"Williams\",\"line\":{\"color\":\"#00A0DE\",\"dash\":\"solid\"},\"marker\":{\"symbol\":\"circle\"},\"mode\":\"lines\",\"name\":\"Williams\",\"orientation\":\"v\",\"showlegend\":true,\"x\":[1,2,3,4,5,6,7,8,9,10,11,12,13,14,15,16,17,18,19,20,21],\"xaxis\":\"x\",\"y\":[1.0,1.0,1.0,1.0,1.0,1.0,1.0,7.0,7.0,11.0,11.0,11.0,15.0,21.0,21.0,21.0,23.0,26.0,28.0,28.0,28.0],\"yaxis\":\"y\",\"type\":\"scatter\"},{\"hovertemplate\":\"name=AlphaTauri<br>Race=%{x}<br>Points=%{y}<extra></extra>\",\"legendgroup\":\"AlphaTauri\",\"line\":{\"color\":\"#20394C\",\"dash\":\"solid\"},\"marker\":{\"symbol\":\"circle\"},\"mode\":\"lines\",\"name\":\"AlphaTauri\",\"orientation\":\"v\",\"showlegend\":true,\"x\":[1,2,3,4,5,6,7,8,9,10,11,12,13,14,15,16,17,18,19,20,21],\"xaxis\":\"x\",\"y\":[0.0,0.0,1.0,2.0,2.0,2.0,2.0,2.0,2.0,2.0,2.0,3.0,3.0,3.0,5.0,5.0,5.0,10.0,16.0,21.0,21.0],\"yaxis\":\"y\",\"type\":\"scatter\"},{\"hovertemplate\":\"name=Haas F1 Team<br>Race=%{x}<br>Points=%{y}<extra></extra>\",\"legendgroup\":\"Haas F1 Team\",\"line\":{\"color\":\"#E6002B\",\"dash\":\"solid\"},\"marker\":{\"symbol\":\"circle\"},\"mode\":\"lines\",\"name\":\"Haas F1 Team\",\"orientation\":\"v\",\"showlegend\":true,\"x\":[1,2,3,4,5,6,7,8,9,10,11,12,13,14,15,16,17,18,19,20,21],\"xaxis\":\"x\",\"y\":[0.0,1.0,7.0,7.0,8.0,8.0,8.0,8.0,11.0,11.0,11.0,11.0,11.0,11.0,12.0,12.0,12.0,12.0,12.0,12.0,12.0],\"yaxis\":\"y\",\"type\":\"scatter\"},{\"hovertemplate\":\"name=McLaren<br>Race=%{x}<br>Points=%{y}<extra></extra>\",\"legendgroup\":\"McLaren\",\"line\":{\"color\":\"#FF8000\",\"dash\":\"solid\"},\"marker\":{\"symbol\":\"circle\"},\"mode\":\"lines\",\"name\":\"McLaren\",\"orientation\":\"v\",\"showlegend\":true,\"x\":[1,2,3,4,5,6,7,8,9,10,11,12,13,14,15,16,17,18,19,20,21],\"xaxis\":\"x\",\"y\":[0.0,0.0,12.0,14.0,14.0,17.0,17.0,17.0,29.0,59.0,87.0,103.0,111.0,115.0,139.0,172.0,219.0,242.0,256.0,282.0,284.0],\"yaxis\":\"y\",\"type\":\"scatter\"}],                        {\"template\":{\"data\":{\"histogram2dcontour\":[{\"type\":\"histogram2dcontour\",\"colorbar\":{\"outlinewidth\":0,\"ticks\":\"\"},\"colorscale\":[[0.0,\"#0d0887\"],[0.1111111111111111,\"#46039f\"],[0.2222222222222222,\"#7201a8\"],[0.3333333333333333,\"#9c179e\"],[0.4444444444444444,\"#bd3786\"],[0.5555555555555556,\"#d8576b\"],[0.6666666666666666,\"#ed7953\"],[0.7777777777777778,\"#fb9f3a\"],[0.8888888888888888,\"#fdca26\"],[1.0,\"#f0f921\"]]}],\"choropleth\":[{\"type\":\"choropleth\",\"colorbar\":{\"outlinewidth\":0,\"ticks\":\"\"}}],\"histogram2d\":[{\"type\":\"histogram2d\",\"colorbar\":{\"outlinewidth\":0,\"ticks\":\"\"},\"colorscale\":[[0.0,\"#0d0887\"],[0.1111111111111111,\"#46039f\"],[0.2222222222222222,\"#7201a8\"],[0.3333333333333333,\"#9c179e\"],[0.4444444444444444,\"#bd3786\"],[0.5555555555555556,\"#d8576b\"],[0.6666666666666666,\"#ed7953\"],[0.7777777777777778,\"#fb9f3a\"],[0.8888888888888888,\"#fdca26\"],[1.0,\"#f0f921\"]]}],\"heatmap\":[{\"type\":\"heatmap\",\"colorbar\":{\"outlinewidth\":0,\"ticks\":\"\"},\"colorscale\":[[0.0,\"#0d0887\"],[0.1111111111111111,\"#46039f\"],[0.2222222222222222,\"#7201a8\"],[0.3333333333333333,\"#9c179e\"],[0.4444444444444444,\"#bd3786\"],[0.5555555555555556,\"#d8576b\"],[0.6666666666666666,\"#ed7953\"],[0.7777777777777778,\"#fb9f3a\"],[0.8888888888888888,\"#fdca26\"],[1.0,\"#f0f921\"]]}],\"heatmapgl\":[{\"type\":\"heatmapgl\",\"colorbar\":{\"outlinewidth\":0,\"ticks\":\"\"},\"colorscale\":[[0.0,\"#0d0887\"],[0.1111111111111111,\"#46039f\"],[0.2222222222222222,\"#7201a8\"],[0.3333333333333333,\"#9c179e\"],[0.4444444444444444,\"#bd3786\"],[0.5555555555555556,\"#d8576b\"],[0.6666666666666666,\"#ed7953\"],[0.7777777777777778,\"#fb9f3a\"],[0.8888888888888888,\"#fdca26\"],[1.0,\"#f0f921\"]]}],\"contourcarpet\":[{\"type\":\"contourcarpet\",\"colorbar\":{\"outlinewidth\":0,\"ticks\":\"\"}}],\"contour\":[{\"type\":\"contour\",\"colorbar\":{\"outlinewidth\":0,\"ticks\":\"\"},\"colorscale\":[[0.0,\"#0d0887\"],[0.1111111111111111,\"#46039f\"],[0.2222222222222222,\"#7201a8\"],[0.3333333333333333,\"#9c179e\"],[0.4444444444444444,\"#bd3786\"],[0.5555555555555556,\"#d8576b\"],[0.6666666666666666,\"#ed7953\"],[0.7777777777777778,\"#fb9f3a\"],[0.8888888888888888,\"#fdca26\"],[1.0,\"#f0f921\"]]}],\"surface\":[{\"type\":\"surface\",\"colorbar\":{\"outlinewidth\":0,\"ticks\":\"\"},\"colorscale\":[[0.0,\"#0d0887\"],[0.1111111111111111,\"#46039f\"],[0.2222222222222222,\"#7201a8\"],[0.3333333333333333,\"#9c179e\"],[0.4444444444444444,\"#bd3786\"],[0.5555555555555556,\"#d8576b\"],[0.6666666666666666,\"#ed7953\"],[0.7777777777777778,\"#fb9f3a\"],[0.8888888888888888,\"#fdca26\"],[1.0,\"#f0f921\"]]}],\"mesh3d\":[{\"type\":\"mesh3d\",\"colorbar\":{\"outlinewidth\":0,\"ticks\":\"\"}}],\"scatter\":[{\"fillpattern\":{\"fillmode\":\"overlay\",\"size\":10,\"solidity\":0.2},\"type\":\"scatter\"}],\"parcoords\":[{\"type\":\"parcoords\",\"line\":{\"colorbar\":{\"outlinewidth\":0,\"ticks\":\"\"}}}],\"scatterpolargl\":[{\"type\":\"scatterpolargl\",\"marker\":{\"colorbar\":{\"outlinewidth\":0,\"ticks\":\"\"}}}],\"bar\":[{\"error_x\":{\"color\":\"#2a3f5f\"},\"error_y\":{\"color\":\"#2a3f5f\"},\"marker\":{\"line\":{\"color\":\"#E5ECF6\",\"width\":0.5},\"pattern\":{\"fillmode\":\"overlay\",\"size\":10,\"solidity\":0.2}},\"type\":\"bar\"}],\"scattergeo\":[{\"type\":\"scattergeo\",\"marker\":{\"colorbar\":{\"outlinewidth\":0,\"ticks\":\"\"}}}],\"scatterpolar\":[{\"type\":\"scatterpolar\",\"marker\":{\"colorbar\":{\"outlinewidth\":0,\"ticks\":\"\"}}}],\"histogram\":[{\"marker\":{\"pattern\":{\"fillmode\":\"overlay\",\"size\":10,\"solidity\":0.2}},\"type\":\"histogram\"}],\"scattergl\":[{\"type\":\"scattergl\",\"marker\":{\"colorbar\":{\"outlinewidth\":0,\"ticks\":\"\"}}}],\"scatter3d\":[{\"type\":\"scatter3d\",\"line\":{\"colorbar\":{\"outlinewidth\":0,\"ticks\":\"\"}},\"marker\":{\"colorbar\":{\"outlinewidth\":0,\"ticks\":\"\"}}}],\"scattermapbox\":[{\"type\":\"scattermapbox\",\"marker\":{\"colorbar\":{\"outlinewidth\":0,\"ticks\":\"\"}}}],\"scatterternary\":[{\"type\":\"scatterternary\",\"marker\":{\"colorbar\":{\"outlinewidth\":0,\"ticks\":\"\"}}}],\"scattercarpet\":[{\"type\":\"scattercarpet\",\"marker\":{\"colorbar\":{\"outlinewidth\":0,\"ticks\":\"\"}}}],\"carpet\":[{\"aaxis\":{\"endlinecolor\":\"#2a3f5f\",\"gridcolor\":\"white\",\"linecolor\":\"white\",\"minorgridcolor\":\"white\",\"startlinecolor\":\"#2a3f5f\"},\"baxis\":{\"endlinecolor\":\"#2a3f5f\",\"gridcolor\":\"white\",\"linecolor\":\"white\",\"minorgridcolor\":\"white\",\"startlinecolor\":\"#2a3f5f\"},\"type\":\"carpet\"}],\"table\":[{\"cells\":{\"fill\":{\"color\":\"#EBF0F8\"},\"line\":{\"color\":\"white\"}},\"header\":{\"fill\":{\"color\":\"#C8D4E3\"},\"line\":{\"color\":\"white\"}},\"type\":\"table\"}],\"barpolar\":[{\"marker\":{\"line\":{\"color\":\"#E5ECF6\",\"width\":0.5},\"pattern\":{\"fillmode\":\"overlay\",\"size\":10,\"solidity\":0.2}},\"type\":\"barpolar\"}],\"pie\":[{\"automargin\":true,\"type\":\"pie\"}]},\"layout\":{\"autotypenumbers\":\"strict\",\"colorway\":[\"#636efa\",\"#EF553B\",\"#00cc96\",\"#ab63fa\",\"#FFA15A\",\"#19d3f3\",\"#FF6692\",\"#B6E880\",\"#FF97FF\",\"#FECB52\"],\"font\":{\"color\":\"#2a3f5f\"},\"hovermode\":\"closest\",\"hoverlabel\":{\"align\":\"left\"},\"paper_bgcolor\":\"white\",\"plot_bgcolor\":\"#E5ECF6\",\"polar\":{\"bgcolor\":\"#E5ECF6\",\"angularaxis\":{\"gridcolor\":\"white\",\"linecolor\":\"white\",\"ticks\":\"\"},\"radialaxis\":{\"gridcolor\":\"white\",\"linecolor\":\"white\",\"ticks\":\"\"}},\"ternary\":{\"bgcolor\":\"#E5ECF6\",\"aaxis\":{\"gridcolor\":\"white\",\"linecolor\":\"white\",\"ticks\":\"\"},\"baxis\":{\"gridcolor\":\"white\",\"linecolor\":\"white\",\"ticks\":\"\"},\"caxis\":{\"gridcolor\":\"white\",\"linecolor\":\"white\",\"ticks\":\"\"}},\"coloraxis\":{\"colorbar\":{\"outlinewidth\":0,\"ticks\":\"\"}},\"colorscale\":{\"sequential\":[[0.0,\"#0d0887\"],[0.1111111111111111,\"#46039f\"],[0.2222222222222222,\"#7201a8\"],[0.3333333333333333,\"#9c179e\"],[0.4444444444444444,\"#bd3786\"],[0.5555555555555556,\"#d8576b\"],[0.6666666666666666,\"#ed7953\"],[0.7777777777777778,\"#fb9f3a\"],[0.8888888888888888,\"#fdca26\"],[1.0,\"#f0f921\"]],\"sequentialminus\":[[0.0,\"#0d0887\"],[0.1111111111111111,\"#46039f\"],[0.2222222222222222,\"#7201a8\"],[0.3333333333333333,\"#9c179e\"],[0.4444444444444444,\"#bd3786\"],[0.5555555555555556,\"#d8576b\"],[0.6666666666666666,\"#ed7953\"],[0.7777777777777778,\"#fb9f3a\"],[0.8888888888888888,\"#fdca26\"],[1.0,\"#f0f921\"]],\"diverging\":[[0,\"#8e0152\"],[0.1,\"#c51b7d\"],[0.2,\"#de77ae\"],[0.3,\"#f1b6da\"],[0.4,\"#fde0ef\"],[0.5,\"#f7f7f7\"],[0.6,\"#e6f5d0\"],[0.7,\"#b8e186\"],[0.8,\"#7fbc41\"],[0.9,\"#4d9221\"],[1,\"#276419\"]]},\"xaxis\":{\"gridcolor\":\"white\",\"linecolor\":\"white\",\"ticks\":\"\",\"title\":{\"standoff\":15},\"zerolinecolor\":\"white\",\"automargin\":true,\"zerolinewidth\":2},\"yaxis\":{\"gridcolor\":\"white\",\"linecolor\":\"white\",\"ticks\":\"\",\"title\":{\"standoff\":15},\"zerolinecolor\":\"white\",\"automargin\":true,\"zerolinewidth\":2},\"scene\":{\"xaxis\":{\"backgroundcolor\":\"#E5ECF6\",\"gridcolor\":\"white\",\"linecolor\":\"white\",\"showbackground\":true,\"ticks\":\"\",\"zerolinecolor\":\"white\",\"gridwidth\":2},\"yaxis\":{\"backgroundcolor\":\"#E5ECF6\",\"gridcolor\":\"white\",\"linecolor\":\"white\",\"showbackground\":true,\"ticks\":\"\",\"zerolinecolor\":\"white\",\"gridwidth\":2},\"zaxis\":{\"backgroundcolor\":\"#E5ECF6\",\"gridcolor\":\"white\",\"linecolor\":\"white\",\"showbackground\":true,\"ticks\":\"\",\"zerolinecolor\":\"white\",\"gridwidth\":2}},\"shapedefaults\":{\"line\":{\"color\":\"#2a3f5f\"}},\"annotationdefaults\":{\"arrowcolor\":\"#2a3f5f\",\"arrowhead\":0,\"arrowwidth\":1},\"geo\":{\"bgcolor\":\"white\",\"landcolor\":\"#E5ECF6\",\"subunitcolor\":\"white\",\"showland\":true,\"showlakes\":true,\"lakecolor\":\"white\"},\"title\":{\"x\":0.05},\"mapbox\":{\"style\":\"light\"}}},\"xaxis\":{\"anchor\":\"y\",\"domain\":[0.0,1.0],\"title\":{\"text\":\"Race\"},\"range\":[1,24]},\"yaxis\":{\"anchor\":\"x\",\"domain\":[0.0,1.0],\"title\":{\"text\":\"Points\"}},\"legend\":{\"title\":{\"text\":\"name\"},\"tracegroupgap\":0},\"title\":{\"text\":\"<b>Constructor Championship Timeline</b>\",\"font\":{\"family\":\"Arial, sans-serif\",\"size\":30},\"x\":0.5}},                        {\"responsive\": true}                    ).then(function(){\n",
       "                            \n",
       "var gd = document.getElementById('d3eef835-e67f-47f1-a186-04fda3058f93');\n",
       "var x = new MutationObserver(function (mutations, observer) {{\n",
       "        var display = window.getComputedStyle(gd).display;\n",
       "        if (!display || display === 'none') {{\n",
       "            console.log([gd, 'removed!']);\n",
       "            Plotly.purge(gd);\n",
       "            observer.disconnect();\n",
       "        }}\n",
       "}});\n",
       "\n",
       "// Listen for the removal of the full notebook cells\n",
       "var notebookContainer = gd.closest('#notebook-container');\n",
       "if (notebookContainer) {{\n",
       "    x.observe(notebookContainer, {childList: true});\n",
       "}}\n",
       "\n",
       "// Listen for the clearing of the current output cell\n",
       "var outputEl = gd.closest('.output');\n",
       "if (outputEl) {{\n",
       "    x.observe(outputEl, {childList: true});\n",
       "}}\n",
       "\n",
       "                        })                };                });            </script>        </div>"
      ]
     },
     "metadata": {},
     "output_type": "display_data"
    }
   ],
   "source": [
    "fig = go.Figure()\n",
    "\n",
    "fig = px.line(constructor_results, x=\"race\", y=\"points\", color='name', labels={\n",
    "    \"points\": \"Points\",\n",
    "    \"race\": \"Race\"\n",
    "}, title='Lap Times', color_discrete_map=constructor_color_map)\n",
    "fig.update_layout(title_text='<b>Constructor Championship Timeline</b>', titlefont = dict(\n",
    "         family = 'Arial, sans-serif',\n",
    "         size = 30\n",
    "      ), title_x=0.5)\n",
    "fig.update_layout(xaxis_range=[1,24])"
   ]
  },
  {
   "cell_type": "code",
   "execution_count": 35,
   "id": "f30aa40d",
   "metadata": {
    "_kg_hide-input": true,
    "execution": {
     "iopub.execute_input": "2023-11-21T00:34:28.875895Z",
     "iopub.status.busy": "2023-11-21T00:34:28.875413Z",
     "iopub.status.idle": "2023-11-21T00:34:28.884056Z",
     "shell.execute_reply": "2023-11-21T00:34:28.882748Z"
    },
    "papermill": {
     "duration": 0.038977,
     "end_time": "2023-11-21T00:34:28.886802",
     "exception": false,
     "start_time": "2023-11-21T00:34:28.847825",
     "status": "completed"
    },
    "tags": []
   },
   "outputs": [
    {
     "data": {
      "text/markdown": [
       "# <div style='background:#FF1801; border:0; color:black; box-shadow: 10px 10px 5px 0px rgba(0,0,0,0.75); transform: rotateX(10deg);'><h1 style='padding: 10px; margin: 0; text-align:center;'><span style='font-size: 30px;'>Constructor Overall Standings</span></h1></div>"
      ],
      "text/plain": [
       "<IPython.core.display.Markdown object>"
      ]
     },
     "metadata": {},
     "output_type": "display_data"
    }
   ],
   "source": [
    "display(md(f\"# <div style='background:#FF1801; border:0; color:black; box-shadow: 10px 10px 5px 0px rgba(0,0,0,0.75); transform: rotateX(10deg);'><h1 style='padding: 10px; margin: 0; text-align:center;'><span style='font-size: 30px;'>Constructor Overall Standings</span></h1></div>\"))"
   ]
  },
  {
   "cell_type": "code",
   "execution_count": 36,
   "id": "99618423",
   "metadata": {
    "_kg_hide-input": true,
    "execution": {
     "iopub.execute_input": "2023-11-21T00:34:28.937179Z",
     "iopub.status.busy": "2023-11-21T00:34:28.936716Z",
     "iopub.status.idle": "2023-11-21T00:34:28.955707Z",
     "shell.execute_reply": "2023-11-21T00:34:28.954380Z"
    },
    "papermill": {
     "duration": 0.047349,
     "end_time": "2023-11-21T00:34:28.958485",
     "exception": false,
     "start_time": "2023-11-21T00:34:28.911136",
     "status": "completed"
    },
    "tags": []
   },
   "outputs": [
    {
     "data": {
      "text/html": [
       "<style type=\"text/css\">\n",
       "#T_ef21c_row0_col1, #T_ef21c_row1_col1, #T_ef21c_row2_col1, #T_ef21c_row3_col1, #T_ef21c_row4_col1, #T_ef21c_row5_col1, #T_ef21c_row6_col1, #T_ef21c_row7_col1, #T_ef21c_row8_col1, #T_ef21c_row9_col1 {\n",
       "  background-color: #800026;\n",
       "  color: #f1f1f1;\n",
       "}\n",
       "</style>\n",
       "<table id=\"T_ef21c_\">\n",
       "  <caption>Constructor Standings</caption>\n",
       "  <thead>\n",
       "    <tr>\n",
       "      <th class=\"col_heading level0 col0\" >name</th>\n",
       "      <th class=\"col_heading level0 col1\" >points</th>\n",
       "      <th class=\"col_heading level0 col2\" >wins</th>\n",
       "    </tr>\n",
       "  </thead>\n",
       "  <tbody>\n",
       "    <tr>\n",
       "      <td id=\"T_ef21c_row0_col0\" class=\"data row0 col0\" >Red Bull</td>\n",
       "      <td id=\"T_ef21c_row0_col1\" class=\"data row0 col1\" >822.0</td>\n",
       "      <td id=\"T_ef21c_row0_col2\" class=\"data row0 col2\" >20</td>\n",
       "    </tr>\n",
       "    <tr>\n",
       "      <td id=\"T_ef21c_row1_col0\" class=\"data row1 col0\" >Mercedes</td>\n",
       "      <td id=\"T_ef21c_row1_col1\" class=\"data row1 col1\" >392.0</td>\n",
       "      <td id=\"T_ef21c_row1_col2\" class=\"data row1 col2\" >0</td>\n",
       "    </tr>\n",
       "    <tr>\n",
       "      <td id=\"T_ef21c_row2_col0\" class=\"data row2 col0\" >Ferrari</td>\n",
       "      <td id=\"T_ef21c_row2_col1\" class=\"data row2 col1\" >388.0</td>\n",
       "      <td id=\"T_ef21c_row2_col2\" class=\"data row2 col2\" >1</td>\n",
       "    </tr>\n",
       "    <tr>\n",
       "      <td id=\"T_ef21c_row3_col0\" class=\"data row3 col0\" >McLaren</td>\n",
       "      <td id=\"T_ef21c_row3_col1\" class=\"data row3 col1\" >284.0</td>\n",
       "      <td id=\"T_ef21c_row3_col2\" class=\"data row3 col2\" >0</td>\n",
       "    </tr>\n",
       "    <tr>\n",
       "      <td id=\"T_ef21c_row4_col0\" class=\"data row4 col0\" >Aston Martin</td>\n",
       "      <td id=\"T_ef21c_row4_col1\" class=\"data row4 col1\" >273.0</td>\n",
       "      <td id=\"T_ef21c_row4_col2\" class=\"data row4 col2\" >0</td>\n",
       "    </tr>\n",
       "    <tr>\n",
       "      <td id=\"T_ef21c_row5_col0\" class=\"data row5 col0\" >Alpine F1 Team</td>\n",
       "      <td id=\"T_ef21c_row5_col1\" class=\"data row5 col1\" >120.0</td>\n",
       "      <td id=\"T_ef21c_row5_col2\" class=\"data row5 col2\" >0</td>\n",
       "    </tr>\n",
       "    <tr>\n",
       "      <td id=\"T_ef21c_row6_col0\" class=\"data row6 col0\" >Williams</td>\n",
       "      <td id=\"T_ef21c_row6_col1\" class=\"data row6 col1\" >28.0</td>\n",
       "      <td id=\"T_ef21c_row6_col2\" class=\"data row6 col2\" >0</td>\n",
       "    </tr>\n",
       "    <tr>\n",
       "      <td id=\"T_ef21c_row7_col0\" class=\"data row7 col0\" >AlphaTauri</td>\n",
       "      <td id=\"T_ef21c_row7_col1\" class=\"data row7 col1\" >21.0</td>\n",
       "      <td id=\"T_ef21c_row7_col2\" class=\"data row7 col2\" >0</td>\n",
       "    </tr>\n",
       "    <tr>\n",
       "      <td id=\"T_ef21c_row8_col0\" class=\"data row8 col0\" >Alfa Romeo</td>\n",
       "      <td id=\"T_ef21c_row8_col1\" class=\"data row8 col1\" >16.0</td>\n",
       "      <td id=\"T_ef21c_row8_col2\" class=\"data row8 col2\" >0</td>\n",
       "    </tr>\n",
       "    <tr>\n",
       "      <td id=\"T_ef21c_row9_col0\" class=\"data row9 col0\" >Haas F1 Team</td>\n",
       "      <td id=\"T_ef21c_row9_col1\" class=\"data row9 col1\" >12.0</td>\n",
       "      <td id=\"T_ef21c_row9_col2\" class=\"data row9 col2\" >0</td>\n",
       "    </tr>\n",
       "  </tbody>\n",
       "</table>\n"
      ],
      "text/plain": [
       "<pandas.io.formats.style.Styler at 0x7c862d6fe490>"
      ]
     },
     "execution_count": 36,
     "metadata": {},
     "output_type": "execute_result"
    }
   ],
   "source": [
    "const_stand_race = constructor_overall.sort_values(by='points', ascending=False)\n",
    "const_stand_race[['name', 'points', 'wins']].style.pipe(const_standings)"
   ]
  },
  {
   "cell_type": "code",
   "execution_count": 37,
   "id": "59bd9cdc",
   "metadata": {
    "_kg_hide-input": true,
    "execution": {
     "iopub.execute_input": "2023-11-21T00:34:29.009870Z",
     "iopub.status.busy": "2023-11-21T00:34:29.009020Z",
     "iopub.status.idle": "2023-11-21T00:34:29.019782Z",
     "shell.execute_reply": "2023-11-21T00:34:29.018506Z"
    },
    "papermill": {
     "duration": 0.039832,
     "end_time": "2023-11-21T00:34:29.022737",
     "exception": false,
     "start_time": "2023-11-21T00:34:28.982905",
     "status": "completed"
    },
    "tags": []
   },
   "outputs": [
    {
     "data": {
      "text/markdown": [
       "<h1 style='background:#FF1801;border:0; color:black;box-shadow: 10px 10px 5px 0px rgba(0,0,0,0.75);transform: rotateX(10deg);'><center style='color: white;'>Next Up: Abu Dhabi Grand Prix, 2023-11-26</center></h1>"
      ],
      "text/plain": [
       "<IPython.core.display.Markdown object>"
      ]
     },
     "metadata": {},
     "output_type": "display_data"
    }
   ],
   "source": [
    "max_round = max(schedule['round'])\n",
    "if race < max_round:\n",
    "    next_race = schedule[schedule['round'] == (race+1)]\n",
    "    next_race_name = next_race['raceName'].values[0]\n",
    "    next_race_date = next_race['date'].values[0]\n",
    "    display(md(f\"<h1 style='background:#FF1801;border:0; color:black;box-shadow: 10px 10px 5px 0px rgba(0,0,0,0.75);transform: rotateX(10deg);'><center style='color: white;'>Next Up: {next_race_name}, {next_race_date}</center></h1>\"))\n",
    "else:\n",
    "    display(md(f\"<h1 style='background:#FF1801;border:0; color:black;box-shadow: 10px 10px 5px 0px rgba(0,0,0,0.75);transform: rotateX(10deg);'><center style='color: white;'>Next Up: {year+1} Data Summary</center></h1>\"))\n"
   ]
  },
  {
   "cell_type": "markdown",
   "id": "edaf7a19",
   "metadata": {
    "papermill": {
     "duration": 0.024791,
     "end_time": "2023-11-21T00:34:29.072150",
     "exception": false,
     "start_time": "2023-11-21T00:34:29.047359",
     "status": "completed"
    },
    "tags": []
   },
   "source": [
    "<h1 style='background:#FF1801;border:0; color:black;\n",
    "    box-shadow: 10px 10px 5px 0px rgba(0,0,0,0.75);\n",
    "    transform: rotateX(10deg);\n",
    "    '><center style='color: black;'>Thank You</center></h1>"
   ]
  },
  {
   "cell_type": "markdown",
   "id": "7417a390",
   "metadata": {
    "papermill": {
     "duration": 0.024257,
     "end_time": "2023-11-21T00:34:29.120940",
     "exception": false,
     "start_time": "2023-11-21T00:34:29.096683",
     "status": "completed"
    },
    "tags": []
   },
   "source": [
    "### Please upvote if you liked this notebook and comment with your feedback! Thank you so much for supporting my work. "
   ]
  },
  {
   "cell_type": "code",
   "execution_count": 38,
   "id": "d3f3e635",
   "metadata": {
    "_kg_hide-input": true,
    "execution": {
     "iopub.execute_input": "2023-11-21T00:34:29.175324Z",
     "iopub.status.busy": "2023-11-21T00:34:29.173798Z",
     "iopub.status.idle": "2023-11-21T00:34:29.186342Z",
     "shell.execute_reply": "2023-11-21T00:34:29.184600Z"
    },
    "papermill": {
     "duration": 0.043993,
     "end_time": "2023-11-21T00:34:29.190342",
     "exception": false,
     "start_time": "2023-11-21T00:34:29.146349",
     "status": "completed"
    },
    "tags": []
   },
   "outputs": [
    {
     "data": {
      "text/markdown": [
       "# <div style='background:#FF1801; border:0; color:black; box-shadow: 10px 10px 5px 0px rgba(0,0,0,0.75); transform: rotateX(10deg);'><h1 style='padding: 10px; margin: 0; text-align:center;'><span style='font-size: 30px;'>Acknowledgements</span></h1></div>"
      ],
      "text/plain": [
       "<IPython.core.display.Markdown object>"
      ]
     },
     "metadata": {},
     "output_type": "display_data"
    }
   ],
   "source": [
    "display(md(f\"# <div style='background:#FF1801; border:0; color:black; box-shadow: 10px 10px 5px 0px rgba(0,0,0,0.75); transform: rotateX(10deg);'><h1 style='padding: 10px; margin: 0; text-align:center;'><span style='font-size: 30px;'>Acknowledgements</span></h1></div>\"))"
   ]
  },
  {
   "cell_type": "markdown",
   "id": "72a3c7b4",
   "metadata": {
    "papermill": {
     "duration": 0.025144,
     "end_time": "2023-11-21T00:34:29.246037",
     "exception": false,
     "start_time": "2023-11-21T00:34:29.220893",
     "status": "completed"
    },
    "tags": []
   },
   "source": [
    "- Shoutout to @VOPANI for creating this fantastic, F1 dataset\n",
    "- The F1 Developer API http://ergast.com/mrd/\n",
    "- The python package ergast API wrapper, [[pyergast](https://github.com/weiranyu/pyErgast)]\n",
    "- Very inspired by this [[notebook](https://www.kaggle.com/code/ekrembayar/formula-1-70th-anniversary)] on the same dataset"
   ]
  },
  {
   "cell_type": "code",
   "execution_count": 39,
   "id": "84d814ba",
   "metadata": {
    "_kg_hide-input": true,
    "execution": {
     "iopub.execute_input": "2023-11-21T00:34:29.303397Z",
     "iopub.status.busy": "2023-11-21T00:34:29.302168Z",
     "iopub.status.idle": "2023-11-21T00:34:29.311321Z",
     "shell.execute_reply": "2023-11-21T00:34:29.310007Z"
    },
    "papermill": {
     "duration": 0.039038,
     "end_time": "2023-11-21T00:34:29.314291",
     "exception": false,
     "start_time": "2023-11-21T00:34:29.275253",
     "status": "completed"
    },
    "tags": []
   },
   "outputs": [
    {
     "data": {
      "text/markdown": [
       "# <div style='background:#FF1801; border:0; color:black; box-shadow: 10px 10px 5px 0px rgba(0,0,0,0.75); transform: rotateX(10deg);'><h1 style='padding: 10px; margin: 0; text-align:center;'><span style='font-size: 30px;'>Race Schedule</span></h1></div>"
      ],
      "text/plain": [
       "<IPython.core.display.Markdown object>"
      ]
     },
     "metadata": {},
     "output_type": "display_data"
    }
   ],
   "source": [
    "display(md(f\"# <div style='background:#FF1801; border:0; color:black; box-shadow: 10px 10px 5px 0px rgba(0,0,0,0.75); transform: rotateX(10deg);'><h1 style='padding: 10px; margin: 0; text-align:center;'><span style='font-size: 30px;'>Race Schedule</span></h1></div>\"))"
   ]
  },
  {
   "cell_type": "markdown",
   "id": "3b47b4ab",
   "metadata": {
    "papermill": {
     "duration": 0.024937,
     "end_time": "2023-11-21T00:34:29.366733",
     "exception": false,
     "start_time": "2023-11-21T00:34:29.341796",
     "status": "completed"
    },
    "tags": []
   },
   "source": [
    "<div class=\"row\" style='float:left' align='center'>\n",
    "<div class=\"column\" align = 'center' style='float:left; max-width:50%;'> \n",
    "    <img src=\"https://cdn-1.motorsport.com/images/mgl/Y99JQRbY/s800/red-bull-racing-logo-1.jpg\" width=70>\n",
    "    <img src=\"https://media.formula1.com/content/dam/fom-website/2018-redesign-assets/team%20logos/alpine.jpg\" width=70>\n",
    "    <img src=\"https://cdn-8.motorsport.com/images/mgl/YEQJgyLY/s800/mclaren-f1-team-logo-1.jpg\" width=60>\n",
    "    <img src=\"https://assets.turbologo.com/blog/en/2019/10/19084952/ferrari-logo-illustration-958x575.jpg\" width=70 />\n",
    "      <img src=\"https://cdn.sanity.io/images/fnx611yr/production/ff454bb2b4adb541b66477adcb49088f8de0fb4a-2400x2400.jpg?rect=0,572,2400,1256&w=1200&h=628&auto=format\"/ width=70>\n",
    "    <img src=\"https://cdn-9.motorsport.com/images/mgl/0RrzmDo0/s800/mercedes-f1-logo-1.jpg\" width=70/>\n",
    "    <img src=\"https://diginomica.com/sites/default/files/images/2019-05/Haas-F1-logo.jpg\" width=70>\n",
    "    <img src=\"https://d3cm515ijfiu6w.cloudfront.net/wp-content/uploads/2021/01/01082241/Aston-Martin.jpg\" width=70>\n",
    "    <img src=\"https://cdn-2.motorsport.com/images/mgl/Y99JQR8Y/s8/scuderia-alphatauri-f1-logo-1.jpg\" width=70>\n",
    "      <img src=\"https://www.formula1.com/content/dam/fom-website/manual/teams/Sauber/Alfa_Romeo_Racing_logo.jpg\"/ width=70>\n",
    "</div>\n",
    " <div class=\"column\" style='float:left; max-width:50%;'> \n",
    "    <img src=\"https://pbs.twimg.com/media/FmrBRv9XwAAFv18.jpg:large\" />\n",
    "</div>\n",
    " </div>"
   ]
  }
 ],
 "metadata": {
  "kaggle": {
   "accelerator": "none",
   "dataSources": [
    {
     "datasetId": 468218,
     "sourceId": 6358464,
     "sourceType": "datasetVersion"
    }
   ],
   "dockerImageVersionId": 30407,
   "isGpuEnabled": false,
   "isInternetEnabled": true,
   "language": "python",
   "sourceType": "notebook"
  },
  "kernelspec": {
   "display_name": "Python 3",
   "language": "python",
   "name": "python3"
  },
  "language_info": {
   "codemirror_mode": {
    "name": "ipython",
    "version": 3
   },
   "file_extension": ".py",
   "mimetype": "text/x-python",
   "name": "python",
   "nbconvert_exporter": "python",
   "pygments_lexer": "ipython3",
   "version": "3.7.12"
  },
  "papermill": {
   "default_parameters": {},
   "duration": 77.638962,
   "end_time": "2023-11-21T00:34:30.423219",
   "environment_variables": {},
   "exception": null,
   "input_path": "__notebook__.ipynb",
   "output_path": "__notebook__.ipynb",
   "parameters": {},
   "start_time": "2023-11-21T00:33:12.784257",
   "version": "2.4.0"
  }
 },
 "nbformat": 4,
 "nbformat_minor": 5
}
