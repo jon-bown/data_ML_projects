{
 "cells": [
  {
   "cell_type": "markdown",
   "id": "cf8c092a",
   "metadata": {
    "papermill": {
     "duration": 0.011714,
     "end_time": "2023-10-30T18:39:32.168563",
     "exception": false,
     "start_time": "2023-10-30T18:39:32.156849",
     "status": "completed"
    },
    "tags": []
   },
   "source": [
    "<div align='center'>\n",
    "    <img src=\"https://www.raconteur.net/wp-content/uploads/2018/04/shutterstock_762930772.jpg\"/>\n",
    "</div>"
   ]
  },
  {
   "cell_type": "markdown",
   "id": "2128d2a8",
   "metadata": {
    "papermill": {
     "duration": 0.009595,
     "end_time": "2023-10-30T18:39:32.188386",
     "exception": false,
     "start_time": "2023-10-30T18:39:32.178791",
     "status": "completed"
    },
    "tags": []
   },
   "source": [
    "<style>\n",
    "@font-face {\n",
    "  font-family: F1;\n",
    "  src: url(https://www.formula1.com/etc/designs/fom-website/fonts/F1Regular/Formula1-Regular.ttf);\n",
    "}\n",
    "\n",
    "span{\n",
    "  font-family: F1;\n",
    "}\n",
    "\n",
    "a{\n",
    "  font-family: F1;\n",
    "}\n",
    "\n",
    ".nav-pills>li.active>a:focus {\n",
    "    color: #ffffff;\n",
    "    background-color: lightgray;\n",
    "}\n",
    "\n",
    ".container-fluid, .container-fluid h1 {\n",
    "    font-family: F1;\n",
    "    line-height: 1.7;\n",
    "}\n",
    "\n",
    ".container-fluid p {\n",
    "    font-family: F1;\n",
    "    color:black;\n",
    "}\n",
    "\n",
    "h1,h2,h3,h4,h5,h6,p, table {\n",
    "  font-family: F1;\n",
    "  color: black\n",
    "}\n",
    "</style>"
   ]
  },
  {
   "cell_type": "code",
   "execution_count": 1,
   "id": "cb5ebe19",
   "metadata": {
    "_kg_hide-input": true,
    "_kg_hide-output": true,
    "execution": {
     "iopub.execute_input": "2023-10-30T18:39:32.210635Z",
     "iopub.status.busy": "2023-10-30T18:39:32.210147Z",
     "iopub.status.idle": "2023-10-30T18:39:32.223987Z",
     "shell.execute_reply": "2023-10-30T18:39:32.223193Z"
    },
    "papermill": {
     "duration": 0.027559,
     "end_time": "2023-10-30T18:39:32.225955",
     "exception": false,
     "start_time": "2023-10-30T18:39:32.198396",
     "status": "completed"
    },
    "tags": []
   },
   "outputs": [
    {
     "data": {
      "text/html": [
       "<style>\n",
       "@font-face {\n",
       "  font-family: F1;\n",
       "  src: url(https://www.formula1.com/etc/designs/fom-website/fonts/F1Regular/Formula1-Regular.ttf);\n",
       "}\n",
       "\n",
       "span{\n",
       "  font-family: F1;\n",
       "}\n",
       "\n",
       "a{\n",
       "  font-family: F1;\n",
       "}\n",
       "\n",
       ".nav-pills>li.active>a:focus {\n",
       "    color: #ffffff;\n",
       "    background-color: lightgray;\n",
       "}\n",
       "\n",
       ".container-fluid, .container-fluid h1 {\n",
       "    font-family: F1;\n",
       "    line-height: 1.7;\n",
       "}\n",
       "\n",
       ".container-fluid p {\n",
       "    font-family: F1;\n",
       "    color:black;\n",
       "}\n",
       "\n",
       "h1,h2,h3,h4,h5,h6,p, table {\n",
       "  font-family: F1;\n",
       "  color: black\n",
       "}\n",
       "</style>\n"
      ],
      "text/plain": [
       "<IPython.core.display.HTML object>"
      ]
     },
     "metadata": {},
     "output_type": "display_data"
    }
   ],
   "source": [
    "%%html\n",
    "<style>\n",
    "@font-face {\n",
    "  font-family: F1;\n",
    "  src: url(https://www.formula1.com/etc/designs/fom-website/fonts/F1Regular/Formula1-Regular.ttf);\n",
    "}\n",
    "\n",
    "span{\n",
    "  font-family: F1;\n",
    "}\n",
    "\n",
    "a{\n",
    "  font-family: F1;\n",
    "}\n",
    "\n",
    ".nav-pills>li.active>a:focus {\n",
    "    color: #ffffff;\n",
    "    background-color: lightgray;\n",
    "}\n",
    "\n",
    ".container-fluid, .container-fluid h1 {\n",
    "    font-family: F1;\n",
    "    line-height: 1.7;\n",
    "}\n",
    "\n",
    ".container-fluid p {\n",
    "    font-family: F1;\n",
    "    color:black;\n",
    "}\n",
    "\n",
    "h1,h2,h3,h4,h5,h6,p, table {\n",
    "  font-family: F1;\n",
    "  color: black\n",
    "}\n",
    "</style>"
   ]
  },
  {
   "cell_type": "markdown",
   "id": "6816b1aa",
   "metadata": {
    "papermill": {
     "duration": 0.01074,
     "end_time": "2023-10-30T18:39:32.246767",
     "exception": false,
     "start_time": "2023-10-30T18:39:32.236027",
     "status": "completed"
    },
    "tags": []
   },
   "source": [
    "<div style=\"padding: 15px; \n",
    "            color: #FFFFFF;\n",
    "            margin: 5px;\n",
    "            font-size: 110%;\n",
    "            display: block;\n",
    "            border-radius: 5px;\n",
    "            border: 5px solid #FF1801;\n",
    "            background-color: #000000;\">\n",
    "    <center>\n",
    "        <a id=\"top\"></a>\n",
    "        <h3 style=\"margin-bottom: 20px; color: white;\">Table of Contents</h3>\n",
    "    </center>\n",
    "    <ol>\n",
    "        <li>Podium</li>\n",
    "        <li>Full Results</li>\n",
    "        <li>Qualifying</li>\n",
    "        <li>Sprint</li>\n",
    "        <li>Pit Stops</li>\n",
    "        <li>Lap Summary</li>\n",
    "        <li>Driver Standings</li>\n",
    "        <li>Constructor Race Performance</li>\n",
    "        <li>Constructor Standings</li>\n",
    "        <li>Sources</li>\n",
    "    </ol>\n",
    "</div>\n"
   ]
  },
  {
   "cell_type": "code",
   "execution_count": 2,
   "id": "e44abe0c",
   "metadata": {
    "_kg_hide-input": true,
    "_kg_hide-output": true,
    "execution": {
     "iopub.execute_input": "2023-10-30T18:39:32.270680Z",
     "iopub.status.busy": "2023-10-30T18:39:32.270318Z",
     "iopub.status.idle": "2023-10-30T18:39:42.418180Z",
     "shell.execute_reply": "2023-10-30T18:39:42.416579Z"
    },
    "papermill": {
     "duration": 10.162163,
     "end_time": "2023-10-30T18:39:42.420877",
     "exception": false,
     "start_time": "2023-10-30T18:39:32.258714",
     "status": "completed"
    },
    "tags": []
   },
   "outputs": [
    {
     "name": "stdout",
     "output_type": "stream",
     "text": [
      "Collecting pyergast\r\n",
      "  Downloading pyErgast-0.1.0-py3-none-any.whl (10 kB)\r\n",
      "Requirement already satisfied: pandas<2.0.0,>=1.1.5 in /opt/conda/lib/python3.7/site-packages (from pyergast) (1.3.5)\r\n",
      "Requirement already satisfied: requests<3.0.0,>=2.25.0 in /opt/conda/lib/python3.7/site-packages (from pyergast) (2.28.2)\r\n",
      "Requirement already satisfied: numpy>=1.17.3 in /opt/conda/lib/python3.7/site-packages (from pandas<2.0.0,>=1.1.5->pyergast) (1.21.6)\r\n",
      "Requirement already satisfied: pytz>=2017.3 in /opt/conda/lib/python3.7/site-packages (from pandas<2.0.0,>=1.1.5->pyergast) (2022.7.1)\r\n",
      "Requirement already satisfied: python-dateutil>=2.7.3 in /opt/conda/lib/python3.7/site-packages (from pandas<2.0.0,>=1.1.5->pyergast) (2.8.2)\r\n",
      "Requirement already satisfied: charset-normalizer<4,>=2 in /opt/conda/lib/python3.7/site-packages (from requests<3.0.0,>=2.25.0->pyergast) (2.1.1)\r\n",
      "Requirement already satisfied: certifi>=2017.4.17 in /opt/conda/lib/python3.7/site-packages (from requests<3.0.0,>=2.25.0->pyergast) (2022.12.7)\r\n",
      "Requirement already satisfied: urllib3<1.27,>=1.21.1 in /opt/conda/lib/python3.7/site-packages (from requests<3.0.0,>=2.25.0->pyergast) (1.26.14)\r\n",
      "Requirement already satisfied: idna<4,>=2.5 in /opt/conda/lib/python3.7/site-packages (from requests<3.0.0,>=2.25.0->pyergast) (3.4)\r\n",
      "Requirement already satisfied: six>=1.5 in /opt/conda/lib/python3.7/site-packages (from python-dateutil>=2.7.3->pandas<2.0.0,>=1.1.5->pyergast) (1.16.0)\r\n",
      "Installing collected packages: pyergast\r\n",
      "Successfully installed pyergast-0.1.0\r\n",
      "\u001b[33mWARNING: Running pip as the 'root' user can result in broken permissions and conflicting behaviour with the system package manager. It is recommended to use a virtual environment instead: https://pip.pypa.io/warnings/venv\u001b[0m\u001b[33m\r\n",
      "\u001b[0m"
     ]
    }
   ],
   "source": [
    "!pip install pyergast"
   ]
  },
  {
   "cell_type": "code",
   "execution_count": 3,
   "id": "b061bcc6",
   "metadata": {
    "_cell_guid": "b1076dfc-b9ad-4769-8c92-a6c4dae69d19",
    "_kg_hide-input": true,
    "_uuid": "8f2839f25d086af736a60e9eeb907d3b93b6e0e5",
    "execution": {
     "iopub.execute_input": "2023-10-30T18:39:42.446464Z",
     "iopub.status.busy": "2023-10-30T18:39:42.446087Z",
     "iopub.status.idle": "2023-10-30T18:39:45.126633Z",
     "shell.execute_reply": "2023-10-30T18:39:45.125128Z"
    },
    "papermill": {
     "duration": 2.697796,
     "end_time": "2023-10-30T18:39:45.129363",
     "exception": false,
     "start_time": "2023-10-30T18:39:42.431567",
     "status": "completed"
    },
    "tags": []
   },
   "outputs": [],
   "source": [
    "import numpy as np\n",
    "import pandas as pd\n",
    "import datetime\n",
    "from datetime import date\n",
    "import os\n",
    "import seaborn as sns\n",
    "from IPython.display import Markdown as md\n",
    "import matplotlib.pyplot as plt\n",
    "import plotly.express as px\n",
    "from scipy import stats\n",
    "import plotly.graph_objects as go\n",
    "pd.set_option('display.precision', 1)\n",
    "from pyergast import pyergast\n",
    "import requests\n",
    "from plotly.offline import init_notebook_mode, iplot"
   ]
  },
  {
   "cell_type": "code",
   "execution_count": 4,
   "id": "21c1107d",
   "metadata": {
    "_kg_hide-input": true,
    "execution": {
     "iopub.execute_input": "2023-10-30T18:39:45.152616Z",
     "iopub.status.busy": "2023-10-30T18:39:45.152217Z",
     "iopub.status.idle": "2023-10-30T18:39:45.174708Z",
     "shell.execute_reply": "2023-10-30T18:39:45.173440Z"
    },
    "papermill": {
     "duration": 0.037169,
     "end_time": "2023-10-30T18:39:45.177289",
     "exception": false,
     "start_time": "2023-10-30T18:39:45.140120",
     "status": "completed"
    },
    "tags": []
   },
   "outputs": [],
   "source": [
    "#NOT ALL API ENDPOINTS AVAILABLE IN PYTHON PACKAGE OR WORK CORRECTLY, NEED TO USE MY OWN FOR SOME\n",
    "def constructor_standings(year=None, race=None):\n",
    "    \"\"\"\n",
    "    Fetch the constructor standings after a specific race in a specific year. Defaults to latest standings\n",
    "    Parameters\n",
    "    ----------\n",
    "    year: int\n",
    "        An optional parameter that specifies the year to be queried.\n",
    "    race: int\n",
    "        An optional parameter that specifies the round of a year to be queried.\n",
    "    Returns\n",
    "    -------\n",
    "    pandas.DataFrame\n",
    "    Index:\n",
    "        RangeIndex\n",
    "    Columns:\n",
    "        position: int\n",
    "        positionText: str\n",
    "        points: int\n",
    "        wins: int\n",
    "        constructorID: str\n",
    "        constructor: str\n",
    "        nationality: str\n",
    "    Example\n",
    "    -------\n",
    "    >>> pyergast.constructor_standings(1965)\n",
    "       position positionText points wins    constructorID             name    nationality\n",
    "    0         1            1     54    6     lotus-climax     Lotus-Climax        British\n",
    "    1         2            2     45    3              brm              BRM        British\n",
    "    2         3            3     27    0   brabham-climax   Brabham-Climax        British\n",
    "    3         4            4     26    0          ferrari          Ferrari        Italian\n",
    "    4         5            5     14    0    cooper-climax    Cooper-Climax        British\n",
    "    5         6            6     11    1            honda            Honda       Japanese\n",
    "    6         7            7      5    0      brabham-brm      Brabham-BRM        British\n",
    "    7         8            8      2    0        lotus-brm        Lotus-BRM        British\n",
    "    8         9            9      0    0     brabham-ford     Brabham-Ford        British\n",
    "    9        10           10      0    0             alfa       Alfa Romeo        Italian\n",
    "    10       11           11      0    0   lds-alfa_romeo   LDS-Alfa Romeo  South African\n",
    "    11       12           12      0    0      cooper-ford      Cooper-Ford        British\n",
    "    12       13           13      0    0       lds-climax       LDS-Climax  South African\n",
    "    13       14           14      0    0       lotus-ford       Lotus-Ford        British\n",
    "    14       15           15      0    0               re               RE      Rhodesian\n",
    "    15       16           16      0    0  cooper-maserati  Cooper-Maserati        British\n",
    "    \"\"\"\n",
    "    if year and race:\n",
    "        assert year >= 1958, 'Constructor standings only available starting 1958'\n",
    "        url = 'http://ergast.com/api/f1/{}/{}/constructorStandings.json?limit=1000'.format(year, race)\n",
    "    elif year:\n",
    "        assert year >= 1958, 'Constructor standings only available starting 1958'\n",
    "        url = 'http://ergast.com/api/f1/{}/constructorStandings.json?limit=1000'.format(year, race)\n",
    "    else:\n",
    "        url = 'http://ergast.com/api/f1/current/constructorStandings.json?limit=1000'\n",
    "\n",
    "    r = requests.get(url)\n",
    "    assert r.status_code == 200, 'Cannot connect to Ergast API. Check your inputs.'\n",
    "    output = r.json()\n",
    "    try:\n",
    "        constructorStandings = output['MRData']['StandingsTable']['StandingsLists'][0]['ConstructorStandings']\n",
    "    except:\n",
    "        return pd.DataFrame()\n",
    "\n",
    "    for constructor in constructorStandings:\n",
    "        constructor['constructorID'] = constructor['Constructor']['constructorId']\n",
    "        constructor['name'] = constructor['Constructor']['name']\n",
    "        constructor['nationality'] = constructor['Constructor']['nationality']\n",
    "        del constructor['Constructor']\n",
    "\n",
    "    return pd.DataFrame(constructorStandings)\n",
    "\n",
    "\n",
    "\n",
    "def get_pit_stops(year=None, race=None):\n",
    "    \"\"\"\n",
    "    \"\"\"\n",
    "    if year and race:\n",
    "        url = 'http://ergast.com/api/f1/{}/{}/pitstops.json?limit=1000'.format(year, race)\n",
    "    r = requests.get(url)\n",
    "\n",
    "    assert r.status_code == 200, 'Cannot connect to Ergast API'\n",
    "    drivers = r.json()\n",
    "    try:\n",
    "        result = pd.DataFrame(drivers[\"MRData\"][\"RaceTable\"][\"Races\"][0][\"PitStops\"])\n",
    "    except:\n",
    "        return pd.DataFrame()\n",
    "\n",
    "    return result\n",
    "\n",
    "\n",
    "def get_round(year=None, race=None):\n",
    "    \"\"\"\n",
    "    \"\"\"\n",
    "    if year and race:\n",
    "        url = 'http://ergast.com/api/f1/{}/{}/pitstops.json?limit=1000'.format(year, race)\n",
    "    r = requests.get(url)\n",
    "\n",
    "    assert r.status_code == 200, 'Cannot connect to Ergast API'\n",
    "    drivers = r.json()\n",
    "    try:\n",
    "        result = pd.DataFrame(drivers[\"MRData\"][\"RaceTable\"][\"Races\"][0][\"PitStops\"])\n",
    "    except:\n",
    "        return pd.DataFrame()\n",
    "\n",
    "    return result\n",
    "\n",
    "def get_lap_times(year=None, race=None):\n",
    "    \"\"\"\n",
    "    \"\"\"\n",
    "    if year and race:\n",
    "        url = 'http://ergast.com/api/f1/{}/{}/laps.json?limit=1000'.format(year, race)\n",
    "    r = requests.get(url)\n",
    "\n",
    "    assert r.status_code == 200, 'Cannot connect to Ergast API'\n",
    "    drivers = r.json()\n",
    "    try:\n",
    "        result = pd.DataFrame(drivers[\"MRData\"][\"RaceTable\"][\"Races\"][0][\"Laps\"])\n",
    "    except:\n",
    "        return pd.DataFrame()\n",
    "    lap_df = pd.DataFrame()\n",
    "    for lap in result.number.unique():\n",
    "        temp_df = pd.DataFrame(result[result['number'] == lap].Timings.iloc[0])\n",
    "        temp_df['lap'] = lap\n",
    "        lap_df = pd.concat([lap_df, temp_df], ignore_index=True, axis=0)\n",
    "\n",
    "    return lap_df\n",
    "\n",
    "def get_last_round():\n",
    "    \"\"\"\n",
    "    \"\"\"\n",
    "    url = 'http://ergast.com/api/f1/current/last/results.json?limit=1000'\n",
    "    r = requests.get(url)\n",
    "\n",
    "    assert r.status_code == 200, 'Cannot connect to Ergast API'\n",
    "    drivers = r.json()\n",
    "    try:\n",
    "        result = drivers[\"MRData\"][\"RaceTable\"][\"round\"]\n",
    "    except:\n",
    "        return pd.DataFrame()\n",
    "   \n",
    "\n",
    "    return int(result)\n",
    "\n",
    "\n",
    "def get_sprint_results(year=None, race=None):\n",
    "    \"\"\"\n",
    "    Get results of sprint, return empty dataframe if no sprint results available\n",
    "    \"\"\"\n",
    "    if year and race:\n",
    "        url = f'http://ergast.com/api/f1/{year}/{race}/sprint.json?limit=1000'\n",
    "    r = requests.get(url)\n",
    "\n",
    "    assert r.status_code == 200, 'Cannot connect to Ergast API'\n",
    "    drivers = r.json()\n",
    "    try:\n",
    "        result = pd.DataFrame(drivers[\"MRData\"][\"RaceTable\"][\"Races\"][0][\"SprintResults\"])\n",
    "        result['driverID'] = result['Driver'].apply(lambda x: x['driverId'])\n",
    "        result['Driver'] = result['Driver'].apply(lambda x: x['code'])\n",
    "        result['constructorId'] = result['Constructor'].apply(lambda x: x['constructorId'])\n",
    "    except:\n",
    "        return pd.DataFrame()\n",
    "\n",
    "    return result"
   ]
  },
  {
   "cell_type": "code",
   "execution_count": 5,
   "id": "d3e2660d",
   "metadata": {
    "_kg_hide-input": true,
    "_kg_hide-output": true,
    "execution": {
     "iopub.execute_input": "2023-10-30T18:39:45.201577Z",
     "iopub.status.busy": "2023-10-30T18:39:45.200378Z",
     "iopub.status.idle": "2023-10-30T18:39:46.658253Z",
     "shell.execute_reply": "2023-10-30T18:39:46.657227Z"
    },
    "papermill": {
     "duration": 1.47246,
     "end_time": "2023-10-30T18:39:46.660914",
     "exception": false,
     "start_time": "2023-10-30T18:39:45.188454",
     "status": "completed"
    },
    "tags": []
   },
   "outputs": [],
   "source": [
    "#DATA CLEANING\n",
    "##INITIAL PARAMETERS\n",
    "my_date = date.today()\n",
    "year, week_num, day_of_week = my_date.isocalendar()\n",
    "race = get_last_round()\n",
    "\n",
    "#RACE RESULTS\n",
    "race_result = pyergast.get_race_result()\n",
    "race_result['points'] = race_result.points.astype(float)\n",
    "circuits = pyergast.get_circuits()\n",
    "\n",
    "#CONSTRUCTORS\n",
    "constructor_overall = constructor_standings(year=year)\n",
    "const_ov_emp = constructor_overall.empty\n",
    "if not const_ov_emp:\n",
    "    constructor_overall['points'] = constructor_overall.points.astype(float)\n",
    "constructor_results = constructor_standings(year=year, race=race)\n",
    "const_re_emp = constructor_results.empty\n",
    "if not const_re_emp:\n",
    "    constructor_results['points'] = constructor_results.points.astype(float)\n",
    "constructors = pyergast.get_constructors()\n",
    "\n",
    "#DRIVERS\n",
    "drivers = pyergast.get_drivers(year=year)\n",
    "drivers_2 = pd.read_csv('/kaggle/input/formula-1-world-championship-1950-2020/drivers.csv')\n",
    "drivers_2 ['Driver'] = drivers_2['code']\n",
    "drivers_2['driverID'] = drivers_2['driverRef']\n",
    "drivers['driverID'] = drivers['driverId']\n",
    "drivers_full = drivers.merge(drivers_2, on='driverID', how='left', suffixes=('_1', '_2'))\n",
    "driver_standings = pyergast.driver_standings()\n",
    "\n",
    "#LAPS\n",
    "lap_times = get_lap_times(year, race)\n",
    "lap_tim_emp = lap_times.empty\n",
    "if not lap_tim_emp:\n",
    "    lap_times['driverID'] = lap_times['driverId']\n",
    "    lap_times['lap'] = lap_times['lap'].astype(int)\n",
    "    \n",
    "#PIT STOPS\n",
    "pit_stops = get_pit_stops(year, race)\n",
    "pit_stop_emp = pit_stops.empty\n",
    "if not pit_stop_emp:\n",
    "    pit_stops['driverID'] = pit_stops['driverId']\n",
    "    \n",
    "#QUALIFYING\n",
    "qualifying = pyergast.get_qualifying_result()\n",
    "\n",
    "#SPRINT RESULTS\n",
    "sprint_results = get_sprint_results(year=year, race=race)\n",
    "SPRINT_EMPTY = sprint_results.empty\n",
    "\n",
    "#SCHEDULE\n",
    "schedule = pyergast.get_schedule()\n",
    "schedule['round'] = schedule['round'].astype(float)"
   ]
  },
  {
   "cell_type": "code",
   "execution_count": 6,
   "id": "04e38ccb",
   "metadata": {
    "_kg_hide-input": true,
    "execution": {
     "iopub.execute_input": "2023-10-30T18:39:46.684935Z",
     "iopub.status.busy": "2023-10-30T18:39:46.684554Z",
     "iopub.status.idle": "2023-10-30T18:39:46.733012Z",
     "shell.execute_reply": "2023-10-30T18:39:46.731917Z"
    },
    "papermill": {
     "duration": 0.062742,
     "end_time": "2023-10-30T18:39:46.735186",
     "exception": false,
     "start_time": "2023-10-30T18:39:46.672444",
     "status": "completed"
    },
    "tags": []
   },
   "outputs": [],
   "source": [
    "#Helpers\n",
    "def get_sec(time_str):\n",
    "    \"\"\"Get seconds from time.\"\"\"\n",
    "    if (time_str != '\\\\N' or not time_str):\n",
    "        m, s = str(time_str).split(':')\n",
    "        return float(m) * 60 + float(s)\n",
    "    \n",
    "def get_sec3(time_str):\n",
    "    \"\"\"Get seconds from time.\"\"\"\n",
    "    if (time_str != '\\\\N' or not time_str):\n",
    "        h, m, s = str(time_str).split(':')\n",
    "        return float(h)*3600 + float(m) * 60 + float(s)\n",
    "    \n",
    "def time_to_seconds(time_str):\n",
    "    if (time_str != '\\\\N' or not time_str):\n",
    "        time_str = str(time_str)\n",
    "        if time_str == '':\n",
    "            return None\n",
    "        parts = time_str.split(':')\n",
    "        if len(parts) == 1:\n",
    "            # s.mill format\n",
    "            return float(parts[0])\n",
    "        elif len(parts) == 2:\n",
    "            # minute:seconds.milliseconds format\n",
    "            minutes = int(parts[0])\n",
    "            seconds = float(parts[1])\n",
    "            return minutes * 60 + seconds\n",
    "        elif len(parts) == 3:\n",
    "            # hour:minute:seconds.milliseconds format\n",
    "            hours = int(parts[0])\n",
    "            minutes = int(parts[1])\n",
    "            seconds = float(parts[2])\n",
    "            return hours * 3600 + minutes * 60 + seconds\n",
    "        else:\n",
    "            raise ValueError(\"Invalid time format\")\n",
    "\n",
    "def convert_time_end(row):\n",
    "    return row['time_date'] + datetime.timedelta(0, row['duration'])\n",
    "\n",
    "#Colors\n",
    "constructor_color_map = {\n",
    "        'Williams': '#00A0DE',\n",
    "        'Alfa Romeo': '#A42134',\n",
    "        'AlphaTauri': '#20394C',\n",
    "        'Red Bull': '#000B8D',\n",
    "        'Mercedes': '#00A19B',\n",
    "        'Haas F1 Team': '#E6002B',\n",
    "          'Aston Martin': '#002420', \n",
    "          'Ferrari': '#EF1A2D',\n",
    "          'Alpine F1 Team': '#2173B8',\n",
    "        'McLaren': '#FF8000' \n",
    "}\n",
    "\n",
    "def build_driver_col_map(row):\n",
    "    const = row['constructor']\n",
    "    \n",
    "    color = constructor_color_map[const]\n",
    "    row['driverColor'] = color\n",
    "    row['Driver'] = drivers_full.loc[drivers_full['driverID'] == row['driverID']]['Driver'].values[0]\n",
    "    return row\n",
    "\n",
    "race_result = race_result.apply(build_driver_col_map, axis=1)\n",
    "\n",
    "unique_df = race_result.drop_duplicates(subset='Driver', keep='last')\n",
    "color_map = dict(zip(unique_df['Driver'], unique_df['driverColor']))\n",
    "\n",
    "race_result.drop(columns=['Driver'], inplace=True)"
   ]
  },
  {
   "cell_type": "code",
   "execution_count": 7,
   "id": "0c330f01",
   "metadata": {
    "_kg_hide-input": true,
    "execution": {
     "iopub.execute_input": "2023-10-30T18:39:46.758124Z",
     "iopub.status.busy": "2023-10-30T18:39:46.757656Z",
     "iopub.status.idle": "2023-10-30T18:39:47.555679Z",
     "shell.execute_reply": "2023-10-30T18:39:47.554607Z"
    },
    "papermill": {
     "duration": 0.812447,
     "end_time": "2023-10-30T18:39:47.558135",
     "exception": false,
     "start_time": "2023-10-30T18:39:46.745688",
     "status": "completed"
    },
    "tags": []
   },
   "outputs": [],
   "source": [
    "# DATA CLEANING\n",
    "if not lap_tim_emp:\n",
    "    lap_times['duration'] = lap_times['time'].apply(get_sec)\n",
    "    lap_times['red_flag'] = 0\n",
    "    lap_times.loc[lap_times['duration'] > 300.0, 'red_flag'] = 1\n",
    "\n",
    "\n",
    "current_circuit = schedule[schedule['round'] == race].circuitID.values[0]\n",
    "current_race_name = schedule[schedule['round'] == race].circuitName.values[0]\n",
    "current_race_date = schedule[schedule['round'] == race].date.values[0]\n",
    "\n",
    "\n",
    "#DRIVER/LAP\n",
    "if not lap_tim_emp:\n",
    "    lap_driver = lap_times.merge(drivers_full, on='driverID', how='left', suffixes=('_1', '_2'))\n",
    "    lap_driver['lap'] = lap_driver.lap.astype(float)\n",
    "    lap_driver = lap_driver[lap_driver['red_flag'] == 0].copy()\n",
    "    lap_driver_no = lap_driver[(stats.zscore(lap_driver['duration'])) <1]\n",
    "    lap_driver['position'] = lap_driver['position'].astype(int)\n",
    "\n",
    "\n",
    "#RESULTS\n",
    "num_laps = max(race_result['laps'].astype(int))\n",
    "merged = race_result.merge(drivers_full, on='driverID', how='left', suffixes=('_1', '_2'))\n",
    "res_race_laps = merged.copy()\n",
    "res_race_laps['laps'] = 0\n",
    "reduced = res_race_laps[['laps', 'grid', 'Driver']]\n",
    "reduced.columns = ['laps', 'position', 'Driver']\n",
    "reduced_res = pd.concat([reduced, merged[['laps', 'position', 'Driver']]], axis=0)\n",
    "reduced_res['laps'] = reduced_res['laps'].astype(int)\n",
    "reduced_res['last_lap'] = 0\n",
    "reduced_res['Driver'] = reduced_res['Driver'].astype(str)\n",
    "##Add flag for non-finishers\n",
    "for driver in color_map.keys():\n",
    "    temp = reduced_res[reduced_res['Driver'] == driver]\n",
    "    max_driver_laps = max(temp['laps'])\n",
    "    if max_driver_laps < num_laps:\n",
    "        #This driver didn't finish\n",
    "        reduced_res.loc[(reduced_res['Driver'] == driver) & (reduced_res['laps'] == max_driver_laps), 'last_lap'] = 1\n",
    "\n",
    "#CONSTRUCTORS\n",
    "constructor_results = pd.DataFrame()\n",
    "for i in range(1, race+1):\n",
    "    if i == 1:\n",
    "        constructor_results = constructor_standings(year=year, race=i)\n",
    "        constructor_results['race'] = i\n",
    "    else:\n",
    "        temp = constructor_standings(year=year, race=i)\n",
    "        temp['race'] = i\n",
    "        constructor_results = pd.concat([constructor_results, temp], axis=0)\n",
    "constructor_results['points'] = constructor_results['points'].astype(float)\n",
    "\n",
    "\n",
    "\n",
    "track = circuits[circuits['circuitId'] == current_circuit]\n",
    "track_lat = track['Latitude'].values[0]\n",
    "track_lng = track['Longtitude'].values[0]\n",
    "\n",
    "\n",
    "#PODIIUM\n",
    "res_race_lap_status_pod = race_result[race_result['position'] != '\\\\N'].copy()\n",
    "res_race_lap_status_pod = res_race_lap_status_pod.merge(drivers_full, on='driverID', how='left', suffixes=('_1', '_2'))\n",
    "res_race_lap_status_pod['position'] = res_race_lap_status_pod['position'].astype(int)\n",
    "res_race_lap_status_pod = res_race_lap_status_pod.sort_values(by='position')\n",
    "\n",
    "\n",
    "#PIT STOPS\n",
    "if not pit_stop_emp:\n",
    "    pit_stops['duration'] = pit_stops['duration'].apply(lambda x: time_to_seconds(x))\n",
    "    pit_stops['duration'] = pit_stops['duration'].astype(float)\n",
    "    pit_stops['red_flag'] = (pit_stops['duration'] > 600.0).astype(int)\n",
    "##PIT STOP DURATIONS\n",
    "    pit_stops['time_stamp'] = current_race_date + ' ' + pit_stops['time']\n",
    "    pit_stops['time_date'] = pd.to_datetime(pit_stops['time_stamp'])\n",
    "    pit_stops['time_end_date'] = pit_stops.apply(lambda x: convert_time_end(x), axis=1)\n",
    "#MERGE WITH DRIVERS\n",
    "    driver_group = pd.DataFrame()\n",
    "    pit_stops = pit_stops.merge(drivers_full, on='driverID', how='left', suffixes=('_1', '_2'))\n",
    "    mean = pit_stops[pit_stops['red_flag'] == 0].groupby(['Driver'])['duration'].mean()\n",
    "    mini = pit_stops[pit_stops['red_flag'] == 0].groupby(['Driver'])['duration'].min()\n",
    "    maxi = pit_stops[pit_stops['red_flag'] == 0].groupby(['Driver'])['duration'].max()\n",
    "    driver_group['mean'] = mean\n",
    "    driver_group['max'] = maxi\n",
    "    driver_group['min'] = mini\n",
    "    driver_group = driver_group.sort_values(by=\"max\")\n",
    "    driver_group['Driver'] = maxi.index\n",
    "\n",
    "# QUALIFYING & FINISHING\n",
    "qualifying = qualifying.fillna('\\\\N')\n",
    "qualifying['q1_dur'] = qualifying['Q1'].apply(time_to_seconds)\n",
    "qualifying['q2_dur'] = qualifying['Q2'].apply(time_to_seconds)\n",
    "qualifying['q3_dur'] = qualifying['Q3'].apply(time_to_seconds)\n",
    "qualifying['max_time'] = qualifying.apply(lambda x: max(x['q1_dur'], x['q2_dur'], x['q3_dur']), axis=1)\n",
    "qualifying['min_time'] = qualifying.apply(lambda x: min(x['q1_dur'], x['q2_dur'], x['q3_dur']), axis=1)\n",
    "max_time = max(qualifying['max_time']) + 1\n",
    "min_time = min(qualifying['min_time']) - 1\n",
    "if max_time > (min_time+15):\n",
    "    max_time = min_time+15\n",
    "qualifying = qualifying.merge(drivers_full, on='driverID', how='left', suffixes=('_1', '_2'))\n",
    "\n",
    "#SPRINT\n",
    "if not SPRINT_EMPTY:\n",
    "    sprint_results['points'] = sprint_results['points'].astype(float)\n",
    "    sprint_results['position'] = sprint_results['position'].astype(int)\n",
    "    sprint_results['grid'] = sprint_results['grid'].astype(int)\n",
    "\n",
    "\n",
    "    num_sprint_laps = max(sprint_results['laps'].astype(int))\n",
    "    #merged = race_result.merge(drivers_full, on='driverID', how='left', suffixes=('_1', '_2'))\n",
    "    sp_res_race_laps = sprint_results.copy()\n",
    "    sp_res_race_laps['laps'] = 0\n",
    "    sp_reduced = sp_res_race_laps[['laps', 'grid', 'Driver']]\n",
    "    sp_reduced.columns = ['laps', 'position', 'Driver']\n",
    "    sp_reduced_res = pd.concat([sp_reduced, sprint_results[['laps', 'position', 'Driver']]], axis=0)\n",
    "    sp_reduced_res['laps'] = sp_reduced_res['laps'].astype(int)\n",
    "    sp_reduced_res['last_lap'] = 0\n",
    "    sp_reduced_res['Driver'] = sp_reduced_res['Driver'].astype(str)\n",
    "    for driver in color_map.keys():\n",
    "        temp = sp_reduced_res[sp_reduced_res['Driver'] == driver]\n",
    "        max_driver_laps = max(temp['laps'])\n",
    "        if max_driver_laps < num_sprint_laps:\n",
    "            #This driver didn't finish\n",
    "            sp_reduced_res.loc[(sp_reduced_res['Driver'] == driver) & (sp_reduced_res['laps'] == max_driver_laps), 'last_lap'] = 1\n"
   ]
  },
  {
   "cell_type": "code",
   "execution_count": 8,
   "id": "e82fdd48",
   "metadata": {
    "_kg_hide-input": true,
    "execution": {
     "iopub.execute_input": "2023-10-30T18:39:47.581053Z",
     "iopub.status.busy": "2023-10-30T18:39:47.580665Z",
     "iopub.status.idle": "2023-10-30T18:39:47.587648Z",
     "shell.execute_reply": "2023-10-30T18:39:47.586292Z"
    },
    "papermill": {
     "duration": 0.021029,
     "end_time": "2023-10-30T18:39:47.589586",
     "exception": false,
     "start_time": "2023-10-30T18:39:47.568557",
     "status": "completed"
    },
    "tags": []
   },
   "outputs": [
    {
     "data": {
      "text/markdown": [
       "# <div style='background:#FF1801; border:0; color:black; box-shadow: 10px 10px 5px 0px rgba(0,0,0,0.75); transform: rotateX(10deg);'><h1 style='padding: 10px; margin: 0; text-align:center;'><span style='font-size: 38px;'>Autódromo Hermanos Rodríguez, 2023 Data Summary</span></h1></div>"
      ],
      "text/plain": [
       "<IPython.core.display.Markdown object>"
      ]
     },
     "metadata": {},
     "output_type": "display_data"
    }
   ],
   "source": [
    "display(md(f\"# <div style='background:#FF1801; border:0; color:black; box-shadow: 10px 10px 5px 0px rgba(0,0,0,0.75); transform: rotateX(10deg);'><h1 style='padding: 10px; margin: 0; text-align:center;'><span style='font-size: 38px;'>{current_race_name}, {year} Data Summary</span></h1></div>\"))"
   ]
  },
  {
   "cell_type": "code",
   "execution_count": 9,
   "id": "53426166",
   "metadata": {
    "_kg_hide-input": true,
    "_kg_hide-output": true,
    "execution": {
     "iopub.execute_input": "2023-10-30T18:39:47.612987Z",
     "iopub.status.busy": "2023-10-30T18:39:47.612575Z",
     "iopub.status.idle": "2023-10-30T18:39:56.973247Z",
     "shell.execute_reply": "2023-10-30T18:39:56.971820Z"
    },
    "papermill": {
     "duration": 9.375733,
     "end_time": "2023-10-30T18:39:56.976558",
     "exception": false,
     "start_time": "2023-10-30T18:39:47.600825",
     "status": "completed"
    },
    "tags": []
   },
   "outputs": [
    {
     "name": "stdout",
     "output_type": "stream",
     "text": [
      "Collecting gmplot\r\n",
      "  Downloading gmplot-1.4.1-py3-none-any.whl (164 kB)\r\n",
      "\u001b[2K     \u001b[90m━━━━━━━━━━━━━━━━━━━━━━━━━━━━━━━━━━━━━━━\u001b[0m \u001b[32m164.7/164.7 kB\u001b[0m \u001b[31m6.8 MB/s\u001b[0m eta \u001b[36m0:00:00\u001b[0m\r\n",
      "\u001b[?25hRequirement already satisfied: requests in /opt/conda/lib/python3.7/site-packages (from gmplot) (2.28.2)\r\n",
      "Requirement already satisfied: charset-normalizer<4,>=2 in /opt/conda/lib/python3.7/site-packages (from requests->gmplot) (2.1.1)\r\n",
      "Requirement already satisfied: urllib3<1.27,>=1.21.1 in /opt/conda/lib/python3.7/site-packages (from requests->gmplot) (1.26.14)\r\n",
      "Requirement already satisfied: idna<4,>=2.5 in /opt/conda/lib/python3.7/site-packages (from requests->gmplot) (3.4)\r\n",
      "Requirement already satisfied: certifi>=2017.4.17 in /opt/conda/lib/python3.7/site-packages (from requests->gmplot) (2022.12.7)\r\n",
      "Installing collected packages: gmplot\r\n",
      "Successfully installed gmplot-1.4.1\r\n",
      "\u001b[33mWARNING: Running pip as the 'root' user can result in broken permissions and conflicting behaviour with the system package manager. It is recommended to use a virtual environment instead: https://pip.pypa.io/warnings/venv\u001b[0m\u001b[33m\r\n",
      "\u001b[0m"
     ]
    }
   ],
   "source": [
    "!pip install gmplot"
   ]
  },
  {
   "cell_type": "code",
   "execution_count": 10,
   "id": "ccd52585",
   "metadata": {
    "_kg_hide-input": true,
    "execution": {
     "iopub.execute_input": "2023-10-30T18:39:57.001165Z",
     "iopub.status.busy": "2023-10-30T18:39:57.000694Z",
     "iopub.status.idle": "2023-10-30T18:39:58.574261Z",
     "shell.execute_reply": "2023-10-30T18:39:58.572937Z"
    },
    "papermill": {
     "duration": 1.588555,
     "end_time": "2023-10-30T18:39:58.576614",
     "exception": false,
     "start_time": "2023-10-30T18:39:56.988059",
     "status": "completed"
    },
    "tags": []
   },
   "outputs": [
    {
     "data": {
      "text/html": [
       "        <script type=\"text/javascript\">\n",
       "        window.PlotlyConfig = {MathJaxConfig: 'local'};\n",
       "        if (window.MathJax && window.MathJax.Hub && window.MathJax.Hub.Config) {window.MathJax.Hub.Config({SVG: {font: \"STIX-Web\"}});}\n",
       "        if (typeof require !== 'undefined') {\n",
       "        require.undef(\"plotly\");\n",
       "        requirejs.config({\n",
       "            paths: {\n",
       "                'plotly': ['https://cdn.plot.ly/plotly-2.18.0.min']\n",
       "            }\n",
       "        });\n",
       "        require(['plotly'], function(Plotly) {\n",
       "            window._Plotly = Plotly;\n",
       "        });\n",
       "        }\n",
       "        </script>\n",
       "        "
      ]
     },
     "metadata": {},
     "output_type": "display_data"
    },
    {
     "data": {
      "text/html": [
       "<div>                            <div id=\"5fc9de29-97a5-49ff-a66a-72d723be99f8\" class=\"plotly-graph-div\" style=\"height:300px; width:100%;\"></div>            <script type=\"text/javascript\">                require([\"plotly\"], function(Plotly) {                    window.PLOTLYENV=window.PLOTLYENV || {};                                    if (document.getElementById(\"5fc9de29-97a5-49ff-a66a-72d723be99f8\")) {                    Plotly.newPlot(                        \"5fc9de29-97a5-49ff-a66a-72d723be99f8\",                        [{\"hovertemplate\":\"Latitude=%{lat}<br>Longtitude=%{lon}<extra></extra>\",\"lat\":[\"19.4042\"],\"legendgroup\":\"\",\"lon\":[\"-99.0907\"],\"marker\":{\"color\":\"fuchsia\"},\"mode\":\"markers\",\"name\":\"\",\"showlegend\":false,\"subplot\":\"mapbox\",\"type\":\"scattermapbox\"}],                        {\"template\":{\"data\":{\"histogram2dcontour\":[{\"type\":\"histogram2dcontour\",\"colorbar\":{\"outlinewidth\":0,\"ticks\":\"\"},\"colorscale\":[[0.0,\"#0d0887\"],[0.1111111111111111,\"#46039f\"],[0.2222222222222222,\"#7201a8\"],[0.3333333333333333,\"#9c179e\"],[0.4444444444444444,\"#bd3786\"],[0.5555555555555556,\"#d8576b\"],[0.6666666666666666,\"#ed7953\"],[0.7777777777777778,\"#fb9f3a\"],[0.8888888888888888,\"#fdca26\"],[1.0,\"#f0f921\"]]}],\"choropleth\":[{\"type\":\"choropleth\",\"colorbar\":{\"outlinewidth\":0,\"ticks\":\"\"}}],\"histogram2d\":[{\"type\":\"histogram2d\",\"colorbar\":{\"outlinewidth\":0,\"ticks\":\"\"},\"colorscale\":[[0.0,\"#0d0887\"],[0.1111111111111111,\"#46039f\"],[0.2222222222222222,\"#7201a8\"],[0.3333333333333333,\"#9c179e\"],[0.4444444444444444,\"#bd3786\"],[0.5555555555555556,\"#d8576b\"],[0.6666666666666666,\"#ed7953\"],[0.7777777777777778,\"#fb9f3a\"],[0.8888888888888888,\"#fdca26\"],[1.0,\"#f0f921\"]]}],\"heatmap\":[{\"type\":\"heatmap\",\"colorbar\":{\"outlinewidth\":0,\"ticks\":\"\"},\"colorscale\":[[0.0,\"#0d0887\"],[0.1111111111111111,\"#46039f\"],[0.2222222222222222,\"#7201a8\"],[0.3333333333333333,\"#9c179e\"],[0.4444444444444444,\"#bd3786\"],[0.5555555555555556,\"#d8576b\"],[0.6666666666666666,\"#ed7953\"],[0.7777777777777778,\"#fb9f3a\"],[0.8888888888888888,\"#fdca26\"],[1.0,\"#f0f921\"]]}],\"heatmapgl\":[{\"type\":\"heatmapgl\",\"colorbar\":{\"outlinewidth\":0,\"ticks\":\"\"},\"colorscale\":[[0.0,\"#0d0887\"],[0.1111111111111111,\"#46039f\"],[0.2222222222222222,\"#7201a8\"],[0.3333333333333333,\"#9c179e\"],[0.4444444444444444,\"#bd3786\"],[0.5555555555555556,\"#d8576b\"],[0.6666666666666666,\"#ed7953\"],[0.7777777777777778,\"#fb9f3a\"],[0.8888888888888888,\"#fdca26\"],[1.0,\"#f0f921\"]]}],\"contourcarpet\":[{\"type\":\"contourcarpet\",\"colorbar\":{\"outlinewidth\":0,\"ticks\":\"\"}}],\"contour\":[{\"type\":\"contour\",\"colorbar\":{\"outlinewidth\":0,\"ticks\":\"\"},\"colorscale\":[[0.0,\"#0d0887\"],[0.1111111111111111,\"#46039f\"],[0.2222222222222222,\"#7201a8\"],[0.3333333333333333,\"#9c179e\"],[0.4444444444444444,\"#bd3786\"],[0.5555555555555556,\"#d8576b\"],[0.6666666666666666,\"#ed7953\"],[0.7777777777777778,\"#fb9f3a\"],[0.8888888888888888,\"#fdca26\"],[1.0,\"#f0f921\"]]}],\"surface\":[{\"type\":\"surface\",\"colorbar\":{\"outlinewidth\":0,\"ticks\":\"\"},\"colorscale\":[[0.0,\"#0d0887\"],[0.1111111111111111,\"#46039f\"],[0.2222222222222222,\"#7201a8\"],[0.3333333333333333,\"#9c179e\"],[0.4444444444444444,\"#bd3786\"],[0.5555555555555556,\"#d8576b\"],[0.6666666666666666,\"#ed7953\"],[0.7777777777777778,\"#fb9f3a\"],[0.8888888888888888,\"#fdca26\"],[1.0,\"#f0f921\"]]}],\"mesh3d\":[{\"type\":\"mesh3d\",\"colorbar\":{\"outlinewidth\":0,\"ticks\":\"\"}}],\"scatter\":[{\"fillpattern\":{\"fillmode\":\"overlay\",\"size\":10,\"solidity\":0.2},\"type\":\"scatter\"}],\"parcoords\":[{\"type\":\"parcoords\",\"line\":{\"colorbar\":{\"outlinewidth\":0,\"ticks\":\"\"}}}],\"scatterpolargl\":[{\"type\":\"scatterpolargl\",\"marker\":{\"colorbar\":{\"outlinewidth\":0,\"ticks\":\"\"}}}],\"bar\":[{\"error_x\":{\"color\":\"#2a3f5f\"},\"error_y\":{\"color\":\"#2a3f5f\"},\"marker\":{\"line\":{\"color\":\"#E5ECF6\",\"width\":0.5},\"pattern\":{\"fillmode\":\"overlay\",\"size\":10,\"solidity\":0.2}},\"type\":\"bar\"}],\"scattergeo\":[{\"type\":\"scattergeo\",\"marker\":{\"colorbar\":{\"outlinewidth\":0,\"ticks\":\"\"}}}],\"scatterpolar\":[{\"type\":\"scatterpolar\",\"marker\":{\"colorbar\":{\"outlinewidth\":0,\"ticks\":\"\"}}}],\"histogram\":[{\"marker\":{\"pattern\":{\"fillmode\":\"overlay\",\"size\":10,\"solidity\":0.2}},\"type\":\"histogram\"}],\"scattergl\":[{\"type\":\"scattergl\",\"marker\":{\"colorbar\":{\"outlinewidth\":0,\"ticks\":\"\"}}}],\"scatter3d\":[{\"type\":\"scatter3d\",\"line\":{\"colorbar\":{\"outlinewidth\":0,\"ticks\":\"\"}},\"marker\":{\"colorbar\":{\"outlinewidth\":0,\"ticks\":\"\"}}}],\"scattermapbox\":[{\"type\":\"scattermapbox\",\"marker\":{\"colorbar\":{\"outlinewidth\":0,\"ticks\":\"\"}}}],\"scatterternary\":[{\"type\":\"scatterternary\",\"marker\":{\"colorbar\":{\"outlinewidth\":0,\"ticks\":\"\"}}}],\"scattercarpet\":[{\"type\":\"scattercarpet\",\"marker\":{\"colorbar\":{\"outlinewidth\":0,\"ticks\":\"\"}}}],\"carpet\":[{\"aaxis\":{\"endlinecolor\":\"#2a3f5f\",\"gridcolor\":\"white\",\"linecolor\":\"white\",\"minorgridcolor\":\"white\",\"startlinecolor\":\"#2a3f5f\"},\"baxis\":{\"endlinecolor\":\"#2a3f5f\",\"gridcolor\":\"white\",\"linecolor\":\"white\",\"minorgridcolor\":\"white\",\"startlinecolor\":\"#2a3f5f\"},\"type\":\"carpet\"}],\"table\":[{\"cells\":{\"fill\":{\"color\":\"#EBF0F8\"},\"line\":{\"color\":\"white\"}},\"header\":{\"fill\":{\"color\":\"#C8D4E3\"},\"line\":{\"color\":\"white\"}},\"type\":\"table\"}],\"barpolar\":[{\"marker\":{\"line\":{\"color\":\"#E5ECF6\",\"width\":0.5},\"pattern\":{\"fillmode\":\"overlay\",\"size\":10,\"solidity\":0.2}},\"type\":\"barpolar\"}],\"pie\":[{\"automargin\":true,\"type\":\"pie\"}]},\"layout\":{\"autotypenumbers\":\"strict\",\"colorway\":[\"#636efa\",\"#EF553B\",\"#00cc96\",\"#ab63fa\",\"#FFA15A\",\"#19d3f3\",\"#FF6692\",\"#B6E880\",\"#FF97FF\",\"#FECB52\"],\"font\":{\"color\":\"#2a3f5f\"},\"hovermode\":\"closest\",\"hoverlabel\":{\"align\":\"left\"},\"paper_bgcolor\":\"white\",\"plot_bgcolor\":\"#E5ECF6\",\"polar\":{\"bgcolor\":\"#E5ECF6\",\"angularaxis\":{\"gridcolor\":\"white\",\"linecolor\":\"white\",\"ticks\":\"\"},\"radialaxis\":{\"gridcolor\":\"white\",\"linecolor\":\"white\",\"ticks\":\"\"}},\"ternary\":{\"bgcolor\":\"#E5ECF6\",\"aaxis\":{\"gridcolor\":\"white\",\"linecolor\":\"white\",\"ticks\":\"\"},\"baxis\":{\"gridcolor\":\"white\",\"linecolor\":\"white\",\"ticks\":\"\"},\"caxis\":{\"gridcolor\":\"white\",\"linecolor\":\"white\",\"ticks\":\"\"}},\"coloraxis\":{\"colorbar\":{\"outlinewidth\":0,\"ticks\":\"\"}},\"colorscale\":{\"sequential\":[[0.0,\"#0d0887\"],[0.1111111111111111,\"#46039f\"],[0.2222222222222222,\"#7201a8\"],[0.3333333333333333,\"#9c179e\"],[0.4444444444444444,\"#bd3786\"],[0.5555555555555556,\"#d8576b\"],[0.6666666666666666,\"#ed7953\"],[0.7777777777777778,\"#fb9f3a\"],[0.8888888888888888,\"#fdca26\"],[1.0,\"#f0f921\"]],\"sequentialminus\":[[0.0,\"#0d0887\"],[0.1111111111111111,\"#46039f\"],[0.2222222222222222,\"#7201a8\"],[0.3333333333333333,\"#9c179e\"],[0.4444444444444444,\"#bd3786\"],[0.5555555555555556,\"#d8576b\"],[0.6666666666666666,\"#ed7953\"],[0.7777777777777778,\"#fb9f3a\"],[0.8888888888888888,\"#fdca26\"],[1.0,\"#f0f921\"]],\"diverging\":[[0,\"#8e0152\"],[0.1,\"#c51b7d\"],[0.2,\"#de77ae\"],[0.3,\"#f1b6da\"],[0.4,\"#fde0ef\"],[0.5,\"#f7f7f7\"],[0.6,\"#e6f5d0\"],[0.7,\"#b8e186\"],[0.8,\"#7fbc41\"],[0.9,\"#4d9221\"],[1,\"#276419\"]]},\"xaxis\":{\"gridcolor\":\"white\",\"linecolor\":\"white\",\"ticks\":\"\",\"title\":{\"standoff\":15},\"zerolinecolor\":\"white\",\"automargin\":true,\"zerolinewidth\":2},\"yaxis\":{\"gridcolor\":\"white\",\"linecolor\":\"white\",\"ticks\":\"\",\"title\":{\"standoff\":15},\"zerolinecolor\":\"white\",\"automargin\":true,\"zerolinewidth\":2},\"scene\":{\"xaxis\":{\"backgroundcolor\":\"#E5ECF6\",\"gridcolor\":\"white\",\"linecolor\":\"white\",\"showbackground\":true,\"ticks\":\"\",\"zerolinecolor\":\"white\",\"gridwidth\":2},\"yaxis\":{\"backgroundcolor\":\"#E5ECF6\",\"gridcolor\":\"white\",\"linecolor\":\"white\",\"showbackground\":true,\"ticks\":\"\",\"zerolinecolor\":\"white\",\"gridwidth\":2},\"zaxis\":{\"backgroundcolor\":\"#E5ECF6\",\"gridcolor\":\"white\",\"linecolor\":\"white\",\"showbackground\":true,\"ticks\":\"\",\"zerolinecolor\":\"white\",\"gridwidth\":2}},\"shapedefaults\":{\"line\":{\"color\":\"#2a3f5f\"}},\"annotationdefaults\":{\"arrowcolor\":\"#2a3f5f\",\"arrowhead\":0,\"arrowwidth\":1},\"geo\":{\"bgcolor\":\"white\",\"landcolor\":\"#E5ECF6\",\"subunitcolor\":\"white\",\"showland\":true,\"showlakes\":true,\"lakecolor\":\"white\"},\"title\":{\"x\":0.05},\"mapbox\":{\"style\":\"light\"}}},\"mapbox\":{\"domain\":{\"x\":[0.0,1.0],\"y\":[0.0,1.0]},\"center\":{\"lat\":19.4042,\"lon\":-99.0907},\"zoom\":12,\"style\":\"open-street-map\"},\"legend\":{\"tracegroupgap\":0},\"margin\":{\"t\":0,\"r\":0,\"l\":0,\"b\":0},\"height\":300},                        {\"responsive\": true}                    ).then(function(){\n",
       "                            \n",
       "var gd = document.getElementById('5fc9de29-97a5-49ff-a66a-72d723be99f8');\n",
       "var x = new MutationObserver(function (mutations, observer) {{\n",
       "        var display = window.getComputedStyle(gd).display;\n",
       "        if (!display || display === 'none') {{\n",
       "            console.log([gd, 'removed!']);\n",
       "            Plotly.purge(gd);\n",
       "            observer.disconnect();\n",
       "        }}\n",
       "}});\n",
       "\n",
       "// Listen for the removal of the full notebook cells\n",
       "var notebookContainer = gd.closest('#notebook-container');\n",
       "if (notebookContainer) {{\n",
       "    x.observe(notebookContainer, {childList: true});\n",
       "}}\n",
       "\n",
       "// Listen for the clearing of the current output cell\n",
       "var outputEl = gd.closest('.output');\n",
       "if (outputEl) {{\n",
       "    x.observe(outputEl, {childList: true});\n",
       "}}\n",
       "\n",
       "                        })                };                });            </script>        </div>"
      ]
     },
     "metadata": {},
     "output_type": "display_data"
    }
   ],
   "source": [
    "fig = px.scatter_mapbox(track, lat=\"Latitude\", lon=\"Longtitude\",\n",
    "                        color_discrete_sequence=[\"fuchsia\"], zoom=12, height=300)\n",
    "fig.update_layout(mapbox_style=\"open-street-map\")\n",
    "fig.update_layout(margin={\"r\":0,\"t\":0,\"l\":0,\"b\":0})\n",
    "fig.show()"
   ]
  },
  {
   "cell_type": "code",
   "execution_count": 11,
   "id": "d3b55297",
   "metadata": {
    "_kg_hide-input": true,
    "execution": {
     "iopub.execute_input": "2023-10-30T18:39:58.601676Z",
     "iopub.status.busy": "2023-10-30T18:39:58.601338Z",
     "iopub.status.idle": "2023-10-30T18:39:58.608516Z",
     "shell.execute_reply": "2023-10-30T18:39:58.607471Z"
    },
    "papermill": {
     "duration": 0.021965,
     "end_time": "2023-10-30T18:39:58.610471",
     "exception": false,
     "start_time": "2023-10-30T18:39:58.588506",
     "status": "completed"
    },
    "tags": []
   },
   "outputs": [
    {
     "data": {
      "text/markdown": [
       "# <div style='background:#FF1801; border:0; color:black; box-shadow: 10px 10px 5px 0px rgba(0,0,0,0.75); transform: rotateX(10deg);'><h1 style='padding: 10px; margin: 0; text-align:center;'><span style='font-size: 30px;'>Podium</span></h1></div>"
      ],
      "text/plain": [
       "<IPython.core.display.Markdown object>"
      ]
     },
     "metadata": {},
     "output_type": "display_data"
    }
   ],
   "source": [
    "display(md(f\"# <div style='background:#FF1801; border:0; color:black; box-shadow: 10px 10px 5px 0px rgba(0,0,0,0.75); transform: rotateX(10deg);'><h1 style='padding: 10px; margin: 0; text-align:center;'><span style='font-size: 30px;'>Podium</span></h1></div>\"))"
   ]
  },
  {
   "cell_type": "code",
   "execution_count": 12,
   "id": "8533d81e",
   "metadata": {
    "_kg_hide-input": true,
    "execution": {
     "iopub.execute_input": "2023-10-30T18:39:58.635326Z",
     "iopub.status.busy": "2023-10-30T18:39:58.634975Z",
     "iopub.status.idle": "2023-10-30T18:39:58.644241Z",
     "shell.execute_reply": "2023-10-30T18:39:58.642714Z"
    },
    "papermill": {
     "duration": 0.024769,
     "end_time": "2023-10-30T18:39:58.646856",
     "exception": false,
     "start_time": "2023-10-30T18:39:58.622087",
     "status": "completed"
    },
    "tags": []
   },
   "outputs": [],
   "source": [
    "# Styling\n",
    "def podium(styler):\n",
    "    styler.set_caption(\"Podium Results\")\n",
    "    styler.background_gradient(axis=None, vmin=1, vmax=5, cmap=\"YlGnBu\")\n",
    "    styler.hide_index()\n",
    "   # styler.format({'points': \"{.1f}\"})\n",
    "    return styler\n",
    "\n",
    "\n",
    "def results_style(styler):\n",
    "    styler.set_caption(\"Race Results\")\n",
    "    styler.background_gradient(axis=None, vmin=1, vmax=5, cmap=\"YlGnBu\")\n",
    "    styler.hide_index()\n",
    "    return styler\n",
    "\n",
    "def sprint_results_style(styler):\n",
    "    styler.set_caption(\"Sprint Results\")\n",
    "    styler.background_gradient(axis=None, vmin=1, vmax=5, cmap=\"YlGnBu\")\n",
    "    styler.hide_index()\n",
    "    return styler\n",
    "\n",
    "def driver_stand(styler):\n",
    "    styler.set_caption(\"Driver Standings\")\n",
    "    styler.background_gradient(axis=None, vmin=1, vmax=5, cmap=\"YlGnBu\")\n",
    "    styler.hide_index()\n",
    "    return styler\n",
    "\n",
    "def const_standings(styler):\n",
    "    styler.set_caption(\"Constructor Standings\")\n",
    "    styler.background_gradient(axis=None, vmin=1, vmax=5, cmap=\"YlOrRd\")\n",
    "    styler.hide_index()\n",
    "    return styler"
   ]
  },
  {
   "cell_type": "code",
   "execution_count": 13,
   "id": "33d2e438",
   "metadata": {
    "_kg_hide-input": true,
    "execution": {
     "iopub.execute_input": "2023-10-30T18:39:58.671426Z",
     "iopub.status.busy": "2023-10-30T18:39:58.671044Z",
     "iopub.status.idle": "2023-10-30T18:39:58.753972Z",
     "shell.execute_reply": "2023-10-30T18:39:58.752786Z"
    },
    "papermill": {
     "duration": 0.097837,
     "end_time": "2023-10-30T18:39:58.756150",
     "exception": false,
     "start_time": "2023-10-30T18:39:58.658313",
     "status": "completed"
    },
    "tags": []
   },
   "outputs": [
    {
     "data": {
      "text/html": [
       "<style type=\"text/css\">\n",
       "#T_767ca_row0_col2 {\n",
       "  background-color: #ffffd9;\n",
       "  color: #000000;\n",
       "}\n",
       "#T_767ca_row0_col3, #T_767ca_row1_col3, #T_767ca_row2_col3 {\n",
       "  background-color: #081d58;\n",
       "  color: #f1f1f1;\n",
       "}\n",
       "#T_767ca_row1_col2 {\n",
       "  background-color: #c6e9b4;\n",
       "  color: #000000;\n",
       "}\n",
       "#T_767ca_row2_col2 {\n",
       "  background-color: #40b5c4;\n",
       "  color: #f1f1f1;\n",
       "}\n",
       "</style>\n",
       "<table id=\"T_767ca_\">\n",
       "  <caption>Podium Results</caption>\n",
       "  <thead>\n",
       "    <tr>\n",
       "      <th class=\"col_heading level0 col0\" >Driver</th>\n",
       "      <th class=\"col_heading level0 col1\" >grid</th>\n",
       "      <th class=\"col_heading level0 col2\" >position</th>\n",
       "      <th class=\"col_heading level0 col3\" >points</th>\n",
       "    </tr>\n",
       "  </thead>\n",
       "  <tbody>\n",
       "    <tr>\n",
       "      <td id=\"T_767ca_row0_col0\" class=\"data row0 col0\" >VER</td>\n",
       "      <td id=\"T_767ca_row0_col1\" class=\"data row0 col1\" >3</td>\n",
       "      <td id=\"T_767ca_row0_col2\" class=\"data row0 col2\" >1</td>\n",
       "      <td id=\"T_767ca_row0_col3\" class=\"data row0 col3\" >25.0</td>\n",
       "    </tr>\n",
       "    <tr>\n",
       "      <td id=\"T_767ca_row1_col0\" class=\"data row1 col0\" >HAM</td>\n",
       "      <td id=\"T_767ca_row1_col1\" class=\"data row1 col1\" >6</td>\n",
       "      <td id=\"T_767ca_row1_col2\" class=\"data row1 col2\" >2</td>\n",
       "      <td id=\"T_767ca_row1_col3\" class=\"data row1 col3\" >19.0</td>\n",
       "    </tr>\n",
       "    <tr>\n",
       "      <td id=\"T_767ca_row2_col0\" class=\"data row2 col0\" >LEC</td>\n",
       "      <td id=\"T_767ca_row2_col1\" class=\"data row2 col1\" >1</td>\n",
       "      <td id=\"T_767ca_row2_col2\" class=\"data row2 col2\" >3</td>\n",
       "      <td id=\"T_767ca_row2_col3\" class=\"data row2 col3\" >15.0</td>\n",
       "    </tr>\n",
       "  </tbody>\n",
       "</table>\n"
      ],
      "text/plain": [
       "<pandas.io.formats.style.Styler at 0x7febf0f43f10>"
      ]
     },
     "execution_count": 13,
     "metadata": {},
     "output_type": "execute_result"
    }
   ],
   "source": [
    "res_race_lap_status_pod[['Driver', 'grid', 'position', 'points']].iloc[:3].style.pipe(podium)"
   ]
  },
  {
   "cell_type": "code",
   "execution_count": 14,
   "id": "645cdaea",
   "metadata": {
    "_kg_hide-input": true,
    "execution": {
     "iopub.execute_input": "2023-10-30T18:39:58.781208Z",
     "iopub.status.busy": "2023-10-30T18:39:58.780851Z",
     "iopub.status.idle": "2023-10-30T18:39:58.787363Z",
     "shell.execute_reply": "2023-10-30T18:39:58.786417Z"
    },
    "papermill": {
     "duration": 0.021987,
     "end_time": "2023-10-30T18:39:58.789905",
     "exception": false,
     "start_time": "2023-10-30T18:39:58.767918",
     "status": "completed"
    },
    "tags": []
   },
   "outputs": [
    {
     "data": {
      "text/markdown": [
       "# <div style='background:#FF1801; border:0; color:black; box-shadow: 10px 10px 5px 0px rgba(0,0,0,0.75); transform: rotateX(10deg);'><h1 style='padding: 10px; margin: 0; text-align:center;'><span style='font-size: 30px;'>Full Results</span></h1></div>"
      ],
      "text/plain": [
       "<IPython.core.display.Markdown object>"
      ]
     },
     "metadata": {},
     "output_type": "display_data"
    }
   ],
   "source": [
    "display(md(f\"# <div style='background:#FF1801; border:0; color:black; box-shadow: 10px 10px 5px 0px rgba(0,0,0,0.75); transform: rotateX(10deg);'><h1 style='padding: 10px; margin: 0; text-align:center;'><span style='font-size: 30px;'>Full Results</span></h1></div>\"))"
   ]
  },
  {
   "cell_type": "code",
   "execution_count": 15,
   "id": "4acec8d2",
   "metadata": {
    "_kg_hide-input": true,
    "execution": {
     "iopub.execute_input": "2023-10-30T18:39:58.815098Z",
     "iopub.status.busy": "2023-10-30T18:39:58.814694Z",
     "iopub.status.idle": "2023-10-30T18:39:58.832415Z",
     "shell.execute_reply": "2023-10-30T18:39:58.830571Z"
    },
    "papermill": {
     "duration": 0.033222,
     "end_time": "2023-10-30T18:39:58.835073",
     "exception": false,
     "start_time": "2023-10-30T18:39:58.801851",
     "status": "completed"
    },
    "tags": []
   },
   "outputs": [
    {
     "data": {
      "text/html": [
       "<style type=\"text/css\">\n",
       "#T_528c4_row0_col2, #T_528c4_row9_col3, #T_528c4_row10_col3, #T_528c4_row11_col3, #T_528c4_row12_col3, #T_528c4_row13_col3, #T_528c4_row14_col3, #T_528c4_row15_col3, #T_528c4_row16_col3, #T_528c4_row17_col3, #T_528c4_row18_col3, #T_528c4_row19_col3 {\n",
       "  background-color: #ffffd9;\n",
       "  color: #000000;\n",
       "}\n",
       "#T_528c4_row0_col3, #T_528c4_row1_col3, #T_528c4_row2_col3, #T_528c4_row3_col3, #T_528c4_row4_col2, #T_528c4_row4_col3, #T_528c4_row5_col2, #T_528c4_row5_col3, #T_528c4_row6_col2, #T_528c4_row6_col3, #T_528c4_row7_col2, #T_528c4_row8_col2, #T_528c4_row9_col2, #T_528c4_row10_col2, #T_528c4_row11_col2, #T_528c4_row12_col2, #T_528c4_row13_col2, #T_528c4_row14_col2, #T_528c4_row15_col2, #T_528c4_row16_col2, #T_528c4_row17_col2, #T_528c4_row18_col2, #T_528c4_row19_col2 {\n",
       "  background-color: #081d58;\n",
       "  color: #f1f1f1;\n",
       "}\n",
       "#T_528c4_row1_col2, #T_528c4_row8_col3 {\n",
       "  background-color: #c6e9b4;\n",
       "  color: #000000;\n",
       "}\n",
       "#T_528c4_row2_col2 {\n",
       "  background-color: #40b5c4;\n",
       "  color: #f1f1f1;\n",
       "}\n",
       "#T_528c4_row3_col2, #T_528c4_row7_col3 {\n",
       "  background-color: #225da8;\n",
       "  color: #f1f1f1;\n",
       "}\n",
       "</style>\n",
       "<table id=\"T_528c4_\">\n",
       "  <caption>Race Results</caption>\n",
       "  <thead>\n",
       "    <tr>\n",
       "      <th class=\"col_heading level0 col0\" >Driver</th>\n",
       "      <th class=\"col_heading level0 col1\" >grid</th>\n",
       "      <th class=\"col_heading level0 col2\" >position</th>\n",
       "      <th class=\"col_heading level0 col3\" >points</th>\n",
       "      <th class=\"col_heading level0 col4\" >status</th>\n",
       "    </tr>\n",
       "  </thead>\n",
       "  <tbody>\n",
       "    <tr>\n",
       "      <td id=\"T_528c4_row0_col0\" class=\"data row0 col0\" >VER</td>\n",
       "      <td id=\"T_528c4_row0_col1\" class=\"data row0 col1\" >3</td>\n",
       "      <td id=\"T_528c4_row0_col2\" class=\"data row0 col2\" >1</td>\n",
       "      <td id=\"T_528c4_row0_col3\" class=\"data row0 col3\" >25.0</td>\n",
       "      <td id=\"T_528c4_row0_col4\" class=\"data row0 col4\" >Finished</td>\n",
       "    </tr>\n",
       "    <tr>\n",
       "      <td id=\"T_528c4_row1_col0\" class=\"data row1 col0\" >HAM</td>\n",
       "      <td id=\"T_528c4_row1_col1\" class=\"data row1 col1\" >6</td>\n",
       "      <td id=\"T_528c4_row1_col2\" class=\"data row1 col2\" >2</td>\n",
       "      <td id=\"T_528c4_row1_col3\" class=\"data row1 col3\" >19.0</td>\n",
       "      <td id=\"T_528c4_row1_col4\" class=\"data row1 col4\" >Finished</td>\n",
       "    </tr>\n",
       "    <tr>\n",
       "      <td id=\"T_528c4_row2_col0\" class=\"data row2 col0\" >LEC</td>\n",
       "      <td id=\"T_528c4_row2_col1\" class=\"data row2 col1\" >1</td>\n",
       "      <td id=\"T_528c4_row2_col2\" class=\"data row2 col2\" >3</td>\n",
       "      <td id=\"T_528c4_row2_col3\" class=\"data row2 col3\" >15.0</td>\n",
       "      <td id=\"T_528c4_row2_col4\" class=\"data row2 col4\" >Finished</td>\n",
       "    </tr>\n",
       "    <tr>\n",
       "      <td id=\"T_528c4_row3_col0\" class=\"data row3 col0\" >SAI</td>\n",
       "      <td id=\"T_528c4_row3_col1\" class=\"data row3 col1\" >2</td>\n",
       "      <td id=\"T_528c4_row3_col2\" class=\"data row3 col2\" >4</td>\n",
       "      <td id=\"T_528c4_row3_col3\" class=\"data row3 col3\" >12.0</td>\n",
       "      <td id=\"T_528c4_row3_col4\" class=\"data row3 col4\" >Finished</td>\n",
       "    </tr>\n",
       "    <tr>\n",
       "      <td id=\"T_528c4_row4_col0\" class=\"data row4 col0\" >NOR</td>\n",
       "      <td id=\"T_528c4_row4_col1\" class=\"data row4 col1\" >17</td>\n",
       "      <td id=\"T_528c4_row4_col2\" class=\"data row4 col2\" >5</td>\n",
       "      <td id=\"T_528c4_row4_col3\" class=\"data row4 col3\" >10.0</td>\n",
       "      <td id=\"T_528c4_row4_col4\" class=\"data row4 col4\" >Finished</td>\n",
       "    </tr>\n",
       "    <tr>\n",
       "      <td id=\"T_528c4_row5_col0\" class=\"data row5 col0\" >RUS</td>\n",
       "      <td id=\"T_528c4_row5_col1\" class=\"data row5 col1\" >8</td>\n",
       "      <td id=\"T_528c4_row5_col2\" class=\"data row5 col2\" >6</td>\n",
       "      <td id=\"T_528c4_row5_col3\" class=\"data row5 col3\" >8.0</td>\n",
       "      <td id=\"T_528c4_row5_col4\" class=\"data row5 col4\" >Finished</td>\n",
       "    </tr>\n",
       "    <tr>\n",
       "      <td id=\"T_528c4_row6_col0\" class=\"data row6 col0\" >RIC</td>\n",
       "      <td id=\"T_528c4_row6_col1\" class=\"data row6 col1\" >4</td>\n",
       "      <td id=\"T_528c4_row6_col2\" class=\"data row6 col2\" >7</td>\n",
       "      <td id=\"T_528c4_row6_col3\" class=\"data row6 col3\" >6.0</td>\n",
       "      <td id=\"T_528c4_row6_col4\" class=\"data row6 col4\" >Finished</td>\n",
       "    </tr>\n",
       "    <tr>\n",
       "      <td id=\"T_528c4_row7_col0\" class=\"data row7 col0\" >PIA</td>\n",
       "      <td id=\"T_528c4_row7_col1\" class=\"data row7 col1\" >7</td>\n",
       "      <td id=\"T_528c4_row7_col2\" class=\"data row7 col2\" >8</td>\n",
       "      <td id=\"T_528c4_row7_col3\" class=\"data row7 col3\" >4.0</td>\n",
       "      <td id=\"T_528c4_row7_col4\" class=\"data row7 col4\" >Finished</td>\n",
       "    </tr>\n",
       "    <tr>\n",
       "      <td id=\"T_528c4_row8_col0\" class=\"data row8 col0\" >ALB</td>\n",
       "      <td id=\"T_528c4_row8_col1\" class=\"data row8 col1\" >14</td>\n",
       "      <td id=\"T_528c4_row8_col2\" class=\"data row8 col2\" >9</td>\n",
       "      <td id=\"T_528c4_row8_col3\" class=\"data row8 col3\" >2.0</td>\n",
       "      <td id=\"T_528c4_row8_col4\" class=\"data row8 col4\" >Finished</td>\n",
       "    </tr>\n",
       "    <tr>\n",
       "      <td id=\"T_528c4_row9_col0\" class=\"data row9 col0\" >OCO</td>\n",
       "      <td id=\"T_528c4_row9_col1\" class=\"data row9 col1\" >15</td>\n",
       "      <td id=\"T_528c4_row9_col2\" class=\"data row9 col2\" >10</td>\n",
       "      <td id=\"T_528c4_row9_col3\" class=\"data row9 col3\" >1.0</td>\n",
       "      <td id=\"T_528c4_row9_col4\" class=\"data row9 col4\" >Finished</td>\n",
       "    </tr>\n",
       "    <tr>\n",
       "      <td id=\"T_528c4_row10_col0\" class=\"data row10 col0\" >GAS</td>\n",
       "      <td id=\"T_528c4_row10_col1\" class=\"data row10 col1\" >11</td>\n",
       "      <td id=\"T_528c4_row10_col2\" class=\"data row10 col2\" >11</td>\n",
       "      <td id=\"T_528c4_row10_col3\" class=\"data row10 col3\" >0.0</td>\n",
       "      <td id=\"T_528c4_row10_col4\" class=\"data row10 col4\" >Finished</td>\n",
       "    </tr>\n",
       "    <tr>\n",
       "      <td id=\"T_528c4_row11_col0\" class=\"data row11 col0\" >TSU</td>\n",
       "      <td id=\"T_528c4_row11_col1\" class=\"data row11 col1\" >18</td>\n",
       "      <td id=\"T_528c4_row11_col2\" class=\"data row11 col2\" >12</td>\n",
       "      <td id=\"T_528c4_row11_col3\" class=\"data row11 col3\" >0.0</td>\n",
       "      <td id=\"T_528c4_row11_col4\" class=\"data row11 col4\" >Finished</td>\n",
       "    </tr>\n",
       "    <tr>\n",
       "      <td id=\"T_528c4_row12_col0\" class=\"data row12 col0\" >HUL</td>\n",
       "      <td id=\"T_528c4_row12_col1\" class=\"data row12 col1\" >12</td>\n",
       "      <td id=\"T_528c4_row12_col2\" class=\"data row12 col2\" >13</td>\n",
       "      <td id=\"T_528c4_row12_col3\" class=\"data row12 col3\" >0.0</td>\n",
       "      <td id=\"T_528c4_row12_col4\" class=\"data row12 col4\" >Finished</td>\n",
       "    </tr>\n",
       "    <tr>\n",
       "      <td id=\"T_528c4_row13_col0\" class=\"data row13 col0\" >ZHO</td>\n",
       "      <td id=\"T_528c4_row13_col1\" class=\"data row13 col1\" >10</td>\n",
       "      <td id=\"T_528c4_row13_col2\" class=\"data row13 col2\" >14</td>\n",
       "      <td id=\"T_528c4_row13_col3\" class=\"data row13 col3\" >0.0</td>\n",
       "      <td id=\"T_528c4_row13_col4\" class=\"data row13 col4\" >Finished</td>\n",
       "    </tr>\n",
       "    <tr>\n",
       "      <td id=\"T_528c4_row14_col0\" class=\"data row14 col0\" >BOT</td>\n",
       "      <td id=\"T_528c4_row14_col1\" class=\"data row14 col1\" >9</td>\n",
       "      <td id=\"T_528c4_row14_col2\" class=\"data row14 col2\" >15</td>\n",
       "      <td id=\"T_528c4_row14_col3\" class=\"data row14 col3\" >0.0</td>\n",
       "      <td id=\"T_528c4_row14_col4\" class=\"data row14 col4\" >Finished</td>\n",
       "    </tr>\n",
       "    <tr>\n",
       "      <td id=\"T_528c4_row15_col0\" class=\"data row15 col0\" >SAR</td>\n",
       "      <td id=\"T_528c4_row15_col1\" class=\"data row15 col1\" >19</td>\n",
       "      <td id=\"T_528c4_row15_col2\" class=\"data row15 col2\" >16</td>\n",
       "      <td id=\"T_528c4_row15_col3\" class=\"data row15 col3\" >0.0</td>\n",
       "      <td id=\"T_528c4_row15_col4\" class=\"data row15 col4\" >Retired</td>\n",
       "    </tr>\n",
       "    <tr>\n",
       "      <td id=\"T_528c4_row16_col0\" class=\"data row16 col0\" >STR</td>\n",
       "      <td id=\"T_528c4_row16_col1\" class=\"data row16 col1\" >0</td>\n",
       "      <td id=\"T_528c4_row16_col2\" class=\"data row16 col2\" >17</td>\n",
       "      <td id=\"T_528c4_row16_col3\" class=\"data row16 col3\" >0.0</td>\n",
       "      <td id=\"T_528c4_row16_col4\" class=\"data row16 col4\" >Collision damage</td>\n",
       "    </tr>\n",
       "    <tr>\n",
       "      <td id=\"T_528c4_row17_col0\" class=\"data row17 col0\" >ALO</td>\n",
       "      <td id=\"T_528c4_row17_col1\" class=\"data row17 col1\" >13</td>\n",
       "      <td id=\"T_528c4_row17_col2\" class=\"data row17 col2\" >18</td>\n",
       "      <td id=\"T_528c4_row17_col3\" class=\"data row17 col3\" >0.0</td>\n",
       "      <td id=\"T_528c4_row17_col4\" class=\"data row17 col4\" >Withdrew</td>\n",
       "    </tr>\n",
       "    <tr>\n",
       "      <td id=\"T_528c4_row18_col0\" class=\"data row18 col0\" >MAG</td>\n",
       "      <td id=\"T_528c4_row18_col1\" class=\"data row18 col1\" >16</td>\n",
       "      <td id=\"T_528c4_row18_col2\" class=\"data row18 col2\" >19</td>\n",
       "      <td id=\"T_528c4_row18_col3\" class=\"data row18 col3\" >0.0</td>\n",
       "      <td id=\"T_528c4_row18_col4\" class=\"data row18 col4\" >Accident</td>\n",
       "    </tr>\n",
       "    <tr>\n",
       "      <td id=\"T_528c4_row19_col0\" class=\"data row19 col0\" >PER</td>\n",
       "      <td id=\"T_528c4_row19_col1\" class=\"data row19 col1\" >5</td>\n",
       "      <td id=\"T_528c4_row19_col2\" class=\"data row19 col2\" >20</td>\n",
       "      <td id=\"T_528c4_row19_col3\" class=\"data row19 col3\" >0.0</td>\n",
       "      <td id=\"T_528c4_row19_col4\" class=\"data row19 col4\" >Collision damage</td>\n",
       "    </tr>\n",
       "  </tbody>\n",
       "</table>\n"
      ],
      "text/plain": [
       "<pandas.io.formats.style.Styler at 0x7febeec4e610>"
      ]
     },
     "execution_count": 15,
     "metadata": {},
     "output_type": "execute_result"
    }
   ],
   "source": [
    "res_race_lap_status_pod[['Driver', 'grid', 'position', 'points', 'status']].style.pipe(results_style)"
   ]
  },
  {
   "cell_type": "code",
   "execution_count": 16,
   "id": "f8d3ae72",
   "metadata": {
    "_kg_hide-input": true,
    "execution": {
     "iopub.execute_input": "2023-10-30T18:39:58.861095Z",
     "iopub.status.busy": "2023-10-30T18:39:58.860503Z",
     "iopub.status.idle": "2023-10-30T18:39:58.865520Z",
     "shell.execute_reply": "2023-10-30T18:39:58.864901Z"
    },
    "papermill": {
     "duration": 0.020738,
     "end_time": "2023-10-30T18:39:58.867956",
     "exception": false,
     "start_time": "2023-10-30T18:39:58.847218",
     "status": "completed"
    },
    "tags": []
   },
   "outputs": [
    {
     "data": {
      "text/markdown": [
       "# <div style='background:#FF1801; border:0; color:black; box-shadow: 10px 10px 5px 0px rgba(0,0,0,0.75); transform: rotateX(10deg);'><h1 style='padding: 10px; margin: 0; text-align:center;'><span style='font-size: 30px;'>Qualifying</span></h1></div>"
      ],
      "text/plain": [
       "<IPython.core.display.Markdown object>"
      ]
     },
     "metadata": {},
     "output_type": "display_data"
    }
   ],
   "source": [
    "display(md(f\"# <div style='background:#FF1801; border:0; color:black; box-shadow: 10px 10px 5px 0px rgba(0,0,0,0.75); transform: rotateX(10deg);'><h1 style='padding: 10px; margin: 0; text-align:center;'><span style='font-size: 30px;'>Qualifying</span></h1></div>\"))"
   ]
  },
  {
   "cell_type": "code",
   "execution_count": 17,
   "id": "5a33b9e0",
   "metadata": {
    "_kg_hide-input": true,
    "execution": {
     "iopub.execute_input": "2023-10-30T18:39:58.894543Z",
     "iopub.status.busy": "2023-10-30T18:39:58.893884Z",
     "iopub.status.idle": "2023-10-30T18:39:58.930396Z",
     "shell.execute_reply": "2023-10-30T18:39:58.929057Z"
    },
    "papermill": {
     "duration": 0.053272,
     "end_time": "2023-10-30T18:39:58.933533",
     "exception": false,
     "start_time": "2023-10-30T18:39:58.880261",
     "status": "completed"
    },
    "tags": []
   },
   "outputs": [
    {
     "data": {
      "text/html": [
       "<div>                            <div id=\"be77f9d6-71b0-486b-b892-72f44255c147\" class=\"plotly-graph-div\" style=\"height:525px; width:100%;\"></div>            <script type=\"text/javascript\">                require([\"plotly\"], function(Plotly) {                    window.PLOTLYENV=window.PLOTLYENV || {};                                    if (document.getElementById(\"be77f9d6-71b0-486b-b892-72f44255c147\")) {                    Plotly.newPlot(                        \"be77f9d6-71b0-486b-b892-72f44255c147\",                        [{\"marker\":{\"color\":\"red\"},\"name\":\"Q1\",\"x\":[\"LEC\",\"SAI\",\"VER\",\"RIC\",\"PER\",\"HAM\",\"PIA\",\"RUS\",\"BOT\",\"ZHO\",\"GAS\",\"HUL\",\"ALO\",\"ALB\",\"TSU\",\"OCO\",\"MAG\",\"STR\",\"NOR\",\"SAR\"],\"y\":[78.401,78.755,78.099,78.34100000000001,78.553,78.67699999999999,78.241,78.893,78.429,79.01599999999999,78.945,78.969,78.848,78.828,78.89,79.08,79.163,79.227,81.554,null],\"type\":\"bar\"},{\"marker\":{\"color\":\"gold\"},\"name\":\"Q2\",\"x\":[\"LEC\",\"SAI\",\"VER\",\"RIC\",\"PER\",\"HAM\",\"PIA\",\"RUS\",\"BOT\",\"ZHO\",\"GAS\",\"HUL\",\"ALO\",\"ALB\",\"TSU\",\"OCO\",\"MAG\",\"STR\",\"NOR\",\"SAR\"],\"y\":[77.901,78.382,77.625,77.706,78.124,77.571,77.874,77.673,78.01599999999999,78.44,78.521,78.524,78.738,79.14699999999999,null,null,null,null,null,null],\"type\":\"bar\"},{\"marker\":{\"color\":\"orange\"},\"name\":\"Q3\",\"x\":[\"LEC\",\"SAI\",\"VER\",\"RIC\",\"PER\",\"HAM\",\"PIA\",\"RUS\",\"BOT\",\"ZHO\",\"GAS\",\"HUL\",\"ALO\",\"ALB\",\"TSU\",\"OCO\",\"MAG\",\"STR\",\"NOR\",\"SAR\"],\"y\":[77.166,77.233,77.263,77.382,77.423,77.45400000000001,77.623,77.674,78.032,78.05,null,null,null,null,null,null,null,null,null,null],\"type\":\"bar\"}],                        {\"template\":{\"data\":{\"histogram2dcontour\":[{\"type\":\"histogram2dcontour\",\"colorbar\":{\"outlinewidth\":0,\"ticks\":\"\"},\"colorscale\":[[0.0,\"#0d0887\"],[0.1111111111111111,\"#46039f\"],[0.2222222222222222,\"#7201a8\"],[0.3333333333333333,\"#9c179e\"],[0.4444444444444444,\"#bd3786\"],[0.5555555555555556,\"#d8576b\"],[0.6666666666666666,\"#ed7953\"],[0.7777777777777778,\"#fb9f3a\"],[0.8888888888888888,\"#fdca26\"],[1.0,\"#f0f921\"]]}],\"choropleth\":[{\"type\":\"choropleth\",\"colorbar\":{\"outlinewidth\":0,\"ticks\":\"\"}}],\"histogram2d\":[{\"type\":\"histogram2d\",\"colorbar\":{\"outlinewidth\":0,\"ticks\":\"\"},\"colorscale\":[[0.0,\"#0d0887\"],[0.1111111111111111,\"#46039f\"],[0.2222222222222222,\"#7201a8\"],[0.3333333333333333,\"#9c179e\"],[0.4444444444444444,\"#bd3786\"],[0.5555555555555556,\"#d8576b\"],[0.6666666666666666,\"#ed7953\"],[0.7777777777777778,\"#fb9f3a\"],[0.8888888888888888,\"#fdca26\"],[1.0,\"#f0f921\"]]}],\"heatmap\":[{\"type\":\"heatmap\",\"colorbar\":{\"outlinewidth\":0,\"ticks\":\"\"},\"colorscale\":[[0.0,\"#0d0887\"],[0.1111111111111111,\"#46039f\"],[0.2222222222222222,\"#7201a8\"],[0.3333333333333333,\"#9c179e\"],[0.4444444444444444,\"#bd3786\"],[0.5555555555555556,\"#d8576b\"],[0.6666666666666666,\"#ed7953\"],[0.7777777777777778,\"#fb9f3a\"],[0.8888888888888888,\"#fdca26\"],[1.0,\"#f0f921\"]]}],\"heatmapgl\":[{\"type\":\"heatmapgl\",\"colorbar\":{\"outlinewidth\":0,\"ticks\":\"\"},\"colorscale\":[[0.0,\"#0d0887\"],[0.1111111111111111,\"#46039f\"],[0.2222222222222222,\"#7201a8\"],[0.3333333333333333,\"#9c179e\"],[0.4444444444444444,\"#bd3786\"],[0.5555555555555556,\"#d8576b\"],[0.6666666666666666,\"#ed7953\"],[0.7777777777777778,\"#fb9f3a\"],[0.8888888888888888,\"#fdca26\"],[1.0,\"#f0f921\"]]}],\"contourcarpet\":[{\"type\":\"contourcarpet\",\"colorbar\":{\"outlinewidth\":0,\"ticks\":\"\"}}],\"contour\":[{\"type\":\"contour\",\"colorbar\":{\"outlinewidth\":0,\"ticks\":\"\"},\"colorscale\":[[0.0,\"#0d0887\"],[0.1111111111111111,\"#46039f\"],[0.2222222222222222,\"#7201a8\"],[0.3333333333333333,\"#9c179e\"],[0.4444444444444444,\"#bd3786\"],[0.5555555555555556,\"#d8576b\"],[0.6666666666666666,\"#ed7953\"],[0.7777777777777778,\"#fb9f3a\"],[0.8888888888888888,\"#fdca26\"],[1.0,\"#f0f921\"]]}],\"surface\":[{\"type\":\"surface\",\"colorbar\":{\"outlinewidth\":0,\"ticks\":\"\"},\"colorscale\":[[0.0,\"#0d0887\"],[0.1111111111111111,\"#46039f\"],[0.2222222222222222,\"#7201a8\"],[0.3333333333333333,\"#9c179e\"],[0.4444444444444444,\"#bd3786\"],[0.5555555555555556,\"#d8576b\"],[0.6666666666666666,\"#ed7953\"],[0.7777777777777778,\"#fb9f3a\"],[0.8888888888888888,\"#fdca26\"],[1.0,\"#f0f921\"]]}],\"mesh3d\":[{\"type\":\"mesh3d\",\"colorbar\":{\"outlinewidth\":0,\"ticks\":\"\"}}],\"scatter\":[{\"fillpattern\":{\"fillmode\":\"overlay\",\"size\":10,\"solidity\":0.2},\"type\":\"scatter\"}],\"parcoords\":[{\"type\":\"parcoords\",\"line\":{\"colorbar\":{\"outlinewidth\":0,\"ticks\":\"\"}}}],\"scatterpolargl\":[{\"type\":\"scatterpolargl\",\"marker\":{\"colorbar\":{\"outlinewidth\":0,\"ticks\":\"\"}}}],\"bar\":[{\"error_x\":{\"color\":\"#2a3f5f\"},\"error_y\":{\"color\":\"#2a3f5f\"},\"marker\":{\"line\":{\"color\":\"#E5ECF6\",\"width\":0.5},\"pattern\":{\"fillmode\":\"overlay\",\"size\":10,\"solidity\":0.2}},\"type\":\"bar\"}],\"scattergeo\":[{\"type\":\"scattergeo\",\"marker\":{\"colorbar\":{\"outlinewidth\":0,\"ticks\":\"\"}}}],\"scatterpolar\":[{\"type\":\"scatterpolar\",\"marker\":{\"colorbar\":{\"outlinewidth\":0,\"ticks\":\"\"}}}],\"histogram\":[{\"marker\":{\"pattern\":{\"fillmode\":\"overlay\",\"size\":10,\"solidity\":0.2}},\"type\":\"histogram\"}],\"scattergl\":[{\"type\":\"scattergl\",\"marker\":{\"colorbar\":{\"outlinewidth\":0,\"ticks\":\"\"}}}],\"scatter3d\":[{\"type\":\"scatter3d\",\"line\":{\"colorbar\":{\"outlinewidth\":0,\"ticks\":\"\"}},\"marker\":{\"colorbar\":{\"outlinewidth\":0,\"ticks\":\"\"}}}],\"scattermapbox\":[{\"type\":\"scattermapbox\",\"marker\":{\"colorbar\":{\"outlinewidth\":0,\"ticks\":\"\"}}}],\"scatterternary\":[{\"type\":\"scatterternary\",\"marker\":{\"colorbar\":{\"outlinewidth\":0,\"ticks\":\"\"}}}],\"scattercarpet\":[{\"type\":\"scattercarpet\",\"marker\":{\"colorbar\":{\"outlinewidth\":0,\"ticks\":\"\"}}}],\"carpet\":[{\"aaxis\":{\"endlinecolor\":\"#2a3f5f\",\"gridcolor\":\"white\",\"linecolor\":\"white\",\"minorgridcolor\":\"white\",\"startlinecolor\":\"#2a3f5f\"},\"baxis\":{\"endlinecolor\":\"#2a3f5f\",\"gridcolor\":\"white\",\"linecolor\":\"white\",\"minorgridcolor\":\"white\",\"startlinecolor\":\"#2a3f5f\"},\"type\":\"carpet\"}],\"table\":[{\"cells\":{\"fill\":{\"color\":\"#EBF0F8\"},\"line\":{\"color\":\"white\"}},\"header\":{\"fill\":{\"color\":\"#C8D4E3\"},\"line\":{\"color\":\"white\"}},\"type\":\"table\"}],\"barpolar\":[{\"marker\":{\"line\":{\"color\":\"#E5ECF6\",\"width\":0.5},\"pattern\":{\"fillmode\":\"overlay\",\"size\":10,\"solidity\":0.2}},\"type\":\"barpolar\"}],\"pie\":[{\"automargin\":true,\"type\":\"pie\"}]},\"layout\":{\"autotypenumbers\":\"strict\",\"colorway\":[\"#636efa\",\"#EF553B\",\"#00cc96\",\"#ab63fa\",\"#FFA15A\",\"#19d3f3\",\"#FF6692\",\"#B6E880\",\"#FF97FF\",\"#FECB52\"],\"font\":{\"color\":\"#2a3f5f\"},\"hovermode\":\"closest\",\"hoverlabel\":{\"align\":\"left\"},\"paper_bgcolor\":\"white\",\"plot_bgcolor\":\"#E5ECF6\",\"polar\":{\"bgcolor\":\"#E5ECF6\",\"angularaxis\":{\"gridcolor\":\"white\",\"linecolor\":\"white\",\"ticks\":\"\"},\"radialaxis\":{\"gridcolor\":\"white\",\"linecolor\":\"white\",\"ticks\":\"\"}},\"ternary\":{\"bgcolor\":\"#E5ECF6\",\"aaxis\":{\"gridcolor\":\"white\",\"linecolor\":\"white\",\"ticks\":\"\"},\"baxis\":{\"gridcolor\":\"white\",\"linecolor\":\"white\",\"ticks\":\"\"},\"caxis\":{\"gridcolor\":\"white\",\"linecolor\":\"white\",\"ticks\":\"\"}},\"coloraxis\":{\"colorbar\":{\"outlinewidth\":0,\"ticks\":\"\"}},\"colorscale\":{\"sequential\":[[0.0,\"#0d0887\"],[0.1111111111111111,\"#46039f\"],[0.2222222222222222,\"#7201a8\"],[0.3333333333333333,\"#9c179e\"],[0.4444444444444444,\"#bd3786\"],[0.5555555555555556,\"#d8576b\"],[0.6666666666666666,\"#ed7953\"],[0.7777777777777778,\"#fb9f3a\"],[0.8888888888888888,\"#fdca26\"],[1.0,\"#f0f921\"]],\"sequentialminus\":[[0.0,\"#0d0887\"],[0.1111111111111111,\"#46039f\"],[0.2222222222222222,\"#7201a8\"],[0.3333333333333333,\"#9c179e\"],[0.4444444444444444,\"#bd3786\"],[0.5555555555555556,\"#d8576b\"],[0.6666666666666666,\"#ed7953\"],[0.7777777777777778,\"#fb9f3a\"],[0.8888888888888888,\"#fdca26\"],[1.0,\"#f0f921\"]],\"diverging\":[[0,\"#8e0152\"],[0.1,\"#c51b7d\"],[0.2,\"#de77ae\"],[0.3,\"#f1b6da\"],[0.4,\"#fde0ef\"],[0.5,\"#f7f7f7\"],[0.6,\"#e6f5d0\"],[0.7,\"#b8e186\"],[0.8,\"#7fbc41\"],[0.9,\"#4d9221\"],[1,\"#276419\"]]},\"xaxis\":{\"gridcolor\":\"white\",\"linecolor\":\"white\",\"ticks\":\"\",\"title\":{\"standoff\":15},\"zerolinecolor\":\"white\",\"automargin\":true,\"zerolinewidth\":2},\"yaxis\":{\"gridcolor\":\"white\",\"linecolor\":\"white\",\"ticks\":\"\",\"title\":{\"standoff\":15},\"zerolinecolor\":\"white\",\"automargin\":true,\"zerolinewidth\":2},\"scene\":{\"xaxis\":{\"backgroundcolor\":\"#E5ECF6\",\"gridcolor\":\"white\",\"linecolor\":\"white\",\"showbackground\":true,\"ticks\":\"\",\"zerolinecolor\":\"white\",\"gridwidth\":2},\"yaxis\":{\"backgroundcolor\":\"#E5ECF6\",\"gridcolor\":\"white\",\"linecolor\":\"white\",\"showbackground\":true,\"ticks\":\"\",\"zerolinecolor\":\"white\",\"gridwidth\":2},\"zaxis\":{\"backgroundcolor\":\"#E5ECF6\",\"gridcolor\":\"white\",\"linecolor\":\"white\",\"showbackground\":true,\"ticks\":\"\",\"zerolinecolor\":\"white\",\"gridwidth\":2}},\"shapedefaults\":{\"line\":{\"color\":\"#2a3f5f\"}},\"annotationdefaults\":{\"arrowcolor\":\"#2a3f5f\",\"arrowhead\":0,\"arrowwidth\":1},\"geo\":{\"bgcolor\":\"white\",\"landcolor\":\"#E5ECF6\",\"subunitcolor\":\"white\",\"showland\":true,\"showlakes\":true,\"lakecolor\":\"white\"},\"title\":{\"x\":0.05},\"mapbox\":{\"style\":\"light\"}}},\"yaxis\":{\"range\":[76.166,82.554]},\"xaxis\":{\"tickangle\":-45},\"barmode\":\"group\",\"title\":{\"font\":{\"family\":\"Arial, sans-serif\",\"size\":30},\"text\":\"<b>Qualifying Results</b>\",\"x\":0.5}},                        {\"responsive\": true}                    ).then(function(){\n",
       "                            \n",
       "var gd = document.getElementById('be77f9d6-71b0-486b-b892-72f44255c147');\n",
       "var x = new MutationObserver(function (mutations, observer) {{\n",
       "        var display = window.getComputedStyle(gd).display;\n",
       "        if (!display || display === 'none') {{\n",
       "            console.log([gd, 'removed!']);\n",
       "            Plotly.purge(gd);\n",
       "            observer.disconnect();\n",
       "        }}\n",
       "}});\n",
       "\n",
       "// Listen for the removal of the full notebook cells\n",
       "var notebookContainer = gd.closest('#notebook-container');\n",
       "if (notebookContainer) {{\n",
       "    x.observe(notebookContainer, {childList: true});\n",
       "}}\n",
       "\n",
       "// Listen for the clearing of the current output cell\n",
       "var outputEl = gd.closest('.output');\n",
       "if (outputEl) {{\n",
       "    x.observe(outputEl, {childList: true});\n",
       "}}\n",
       "\n",
       "                        })                };                });            </script>        </div>"
      ]
     },
     "metadata": {},
     "output_type": "display_data"
    }
   ],
   "source": [
    "fig = go.Figure(layout_yaxis_range=[min_time, max_time])\n",
    "fig.add_trace(go.Bar(\n",
    "    x=qualifying['Driver'],\n",
    "    y=qualifying['q1_dur'],\n",
    "    name='Q1',\n",
    "    marker_color='red'\n",
    "))\n",
    "fig.add_trace(go.Bar(\n",
    "    x=qualifying['Driver'],\n",
    "    y=qualifying['q2_dur'],\n",
    "    name='Q2',\n",
    "    marker_color='gold'\n",
    "))\n",
    "fig.add_trace(go.Bar(\n",
    "    x=qualifying['Driver'],\n",
    "    y=qualifying['q3_dur'],\n",
    "    name='Q3',\n",
    "    marker_color='orange'\n",
    "))\n",
    "\n",
    "fig.update_layout(barmode='group', xaxis_tickangle=-45)\n",
    "fig.update_layout(title_text='<b>Qualifying Results</b>', titlefont = dict(\n",
    "         family = 'Arial, sans-serif',\n",
    "         size = 30\n",
    "      ), title_x=0.5)\n",
    "fig.show()"
   ]
  },
  {
   "cell_type": "code",
   "execution_count": 18,
   "id": "303ff69b",
   "metadata": {
    "_kg_hide-input": true,
    "execution": {
     "iopub.execute_input": "2023-10-30T18:39:58.959308Z",
     "iopub.status.busy": "2023-10-30T18:39:58.958920Z",
     "iopub.status.idle": "2023-10-30T18:39:59.174242Z",
     "shell.execute_reply": "2023-10-30T18:39:59.173150Z"
    },
    "papermill": {
     "duration": 0.231043,
     "end_time": "2023-10-30T18:39:59.176938",
     "exception": false,
     "start_time": "2023-10-30T18:39:58.945895",
     "status": "completed"
    },
    "tags": []
   },
   "outputs": [
    {
     "data": {
      "text/html": [
       "<div>                            <div id=\"cd9a5ea5-be76-4d12-bb5d-ff86ab43250c\" class=\"plotly-graph-div\" style=\"height:525px; width:100%;\"></div>            <script type=\"text/javascript\">                require([\"plotly\"], function(Plotly) {                    window.PLOTLYENV=window.PLOTLYENV || {};                                    if (document.getElementById(\"cd9a5ea5-be76-4d12-bb5d-ff86ab43250c\")) {                    Plotly.newPlot(                        \"cd9a5ea5-be76-4d12-bb5d-ff86ab43250c\",                        [{\"hovertemplate\":\"Driver=ALB<br>Lap (Start/Finish Only)=%{x}<br>Start Position=%{y}<extra></extra>\",\"legendgroup\":\"ALB\",\"line\":{\"color\":\"#00A0DE\",\"dash\":\"solid\"},\"marker\":{\"symbol\":\"circle\"},\"mode\":\"lines\",\"name\":\"ALB\",\"orientation\":\"v\",\"showlegend\":true,\"x\":[71,0],\"xaxis\":\"x\",\"y\":[9.0,14.0],\"yaxis\":\"y\",\"type\":\"scatter\"},{\"hovertemplate\":\"Driver=ALO<br>Lap (Start/Finish Only)=%{x}<br>Start Position=%{y}<extra></extra>\",\"legendgroup\":\"ALO\",\"line\":{\"color\":\"#002420\",\"dash\":\"solid\"},\"marker\":{\"symbol\":\"circle\"},\"mode\":\"lines\",\"name\":\"ALO\",\"orientation\":\"v\",\"showlegend\":true,\"x\":[0,47],\"xaxis\":\"x\",\"y\":[13.0,18.0],\"yaxis\":\"y\",\"type\":\"scatter\"},{\"hovertemplate\":\"Driver=BOT<br>Lap (Start/Finish Only)=%{x}<br>Start Position=%{y}<extra></extra>\",\"legendgroup\":\"BOT\",\"line\":{\"color\":\"#A42134\",\"dash\":\"solid\"},\"marker\":{\"symbol\":\"circle\"},\"mode\":\"lines\",\"name\":\"BOT\",\"orientation\":\"v\",\"showlegend\":true,\"x\":[0,71],\"xaxis\":\"x\",\"y\":[9.0,15.0],\"yaxis\":\"y\",\"type\":\"scatter\"},{\"hovertemplate\":\"Driver=GAS<br>Lap (Start/Finish Only)=%{x}<br>Start Position=%{y}<extra></extra>\",\"legendgroup\":\"GAS\",\"line\":{\"color\":\"#2173B8\",\"dash\":\"solid\"},\"marker\":{\"symbol\":\"circle\"},\"mode\":\"lines\",\"name\":\"GAS\",\"orientation\":\"v\",\"showlegend\":true,\"x\":[0,71],\"xaxis\":\"x\",\"y\":[11.0,11.0],\"yaxis\":\"y\",\"type\":\"scatter\"},{\"hovertemplate\":\"Driver=HAM<br>Lap (Start/Finish Only)=%{x}<br>Start Position=%{y}<extra></extra>\",\"legendgroup\":\"HAM\",\"line\":{\"color\":\"#00A19B\",\"dash\":\"solid\"},\"marker\":{\"symbol\":\"circle\"},\"mode\":\"lines\",\"name\":\"HAM\",\"orientation\":\"v\",\"showlegend\":true,\"x\":[71,0],\"xaxis\":\"x\",\"y\":[2.0,6.0],\"yaxis\":\"y\",\"type\":\"scatter\"},{\"hovertemplate\":\"Driver=HUL<br>Lap (Start/Finish Only)=%{x}<br>Start Position=%{y}<extra></extra>\",\"legendgroup\":\"HUL\",\"line\":{\"color\":\"#E6002B\",\"dash\":\"solid\"},\"marker\":{\"symbol\":\"circle\"},\"mode\":\"lines\",\"name\":\"HUL\",\"orientation\":\"v\",\"showlegend\":true,\"x\":[0,71],\"xaxis\":\"x\",\"y\":[12.0,13.0],\"yaxis\":\"y\",\"type\":\"scatter\"},{\"hovertemplate\":\"Driver=LEC<br>Lap (Start/Finish Only)=%{x}<br>Start Position=%{y}<extra></extra>\",\"legendgroup\":\"LEC\",\"line\":{\"color\":\"#EF1A2D\",\"dash\":\"solid\"},\"marker\":{\"symbol\":\"circle\"},\"mode\":\"lines\",\"name\":\"LEC\",\"orientation\":\"v\",\"showlegend\":true,\"x\":[0,71],\"xaxis\":\"x\",\"y\":[1.0,3.0],\"yaxis\":\"y\",\"type\":\"scatter\"},{\"hovertemplate\":\"Driver=MAG<br>Lap (Start/Finish Only)=%{x}<br>Start Position=%{y}<extra></extra>\",\"legendgroup\":\"MAG\",\"line\":{\"color\":\"#E6002B\",\"dash\":\"solid\"},\"marker\":{\"symbol\":\"circle\"},\"mode\":\"lines\",\"name\":\"MAG\",\"orientation\":\"v\",\"showlegend\":true,\"x\":[31,0],\"xaxis\":\"x\",\"y\":[19.0,16.0],\"yaxis\":\"y\",\"type\":\"scatter\"},{\"hovertemplate\":\"Driver=NOR<br>Lap (Start/Finish Only)=%{x}<br>Start Position=%{y}<extra></extra>\",\"legendgroup\":\"NOR\",\"line\":{\"color\":\"#FF8000\",\"dash\":\"solid\"},\"marker\":{\"symbol\":\"circle\"},\"mode\":\"lines\",\"name\":\"NOR\",\"orientation\":\"v\",\"showlegend\":true,\"x\":[0,71],\"xaxis\":\"x\",\"y\":[17.0,5.0],\"yaxis\":\"y\",\"type\":\"scatter\"},{\"hovertemplate\":\"Driver=OCO<br>Lap (Start/Finish Only)=%{x}<br>Start Position=%{y}<extra></extra>\",\"legendgroup\":\"OCO\",\"line\":{\"color\":\"#2173B8\",\"dash\":\"solid\"},\"marker\":{\"symbol\":\"circle\"},\"mode\":\"lines\",\"name\":\"OCO\",\"orientation\":\"v\",\"showlegend\":true,\"x\":[0,71],\"xaxis\":\"x\",\"y\":[15.0,10.0],\"yaxis\":\"y\",\"type\":\"scatter\"},{\"hovertemplate\":\"Driver=PER<br>Lap (Start/Finish Only)=%{x}<br>Start Position=%{y}<extra></extra>\",\"legendgroup\":\"PER\",\"line\":{\"color\":\"#000B8D\",\"dash\":\"solid\"},\"marker\":{\"symbol\":\"circle\"},\"mode\":\"lines\",\"name\":\"PER\",\"orientation\":\"v\",\"showlegend\":true,\"x\":[0,1],\"xaxis\":\"x\",\"y\":[5.0,20.0],\"yaxis\":\"y\",\"type\":\"scatter\"},{\"hovertemplate\":\"Driver=PIA<br>Lap (Start/Finish Only)=%{x}<br>Start Position=%{y}<extra></extra>\",\"legendgroup\":\"PIA\",\"line\":{\"color\":\"#FF8000\",\"dash\":\"solid\"},\"marker\":{\"symbol\":\"circle\"},\"mode\":\"lines\",\"name\":\"PIA\",\"orientation\":\"v\",\"showlegend\":true,\"x\":[0,71],\"xaxis\":\"x\",\"y\":[7.0,8.0],\"yaxis\":\"y\",\"type\":\"scatter\"},{\"hovertemplate\":\"Driver=RIC<br>Lap (Start/Finish Only)=%{x}<br>Start Position=%{y}<extra></extra>\",\"legendgroup\":\"RIC\",\"line\":{\"color\":\"#20394C\",\"dash\":\"solid\"},\"marker\":{\"symbol\":\"circle\"},\"mode\":\"lines\",\"name\":\"RIC\",\"orientation\":\"v\",\"showlegend\":true,\"x\":[71,0],\"xaxis\":\"x\",\"y\":[7.0,4.0],\"yaxis\":\"y\",\"type\":\"scatter\"},{\"hovertemplate\":\"Driver=RUS<br>Lap (Start/Finish Only)=%{x}<br>Start Position=%{y}<extra></extra>\",\"legendgroup\":\"RUS\",\"line\":{\"color\":\"#00A19B\",\"dash\":\"solid\"},\"marker\":{\"symbol\":\"circle\"},\"mode\":\"lines\",\"name\":\"RUS\",\"orientation\":\"v\",\"showlegend\":true,\"x\":[71,0],\"xaxis\":\"x\",\"y\":[6.0,8.0],\"yaxis\":\"y\",\"type\":\"scatter\"},{\"hovertemplate\":\"Driver=SAI<br>Lap (Start/Finish Only)=%{x}<br>Start Position=%{y}<extra></extra>\",\"legendgroup\":\"SAI\",\"line\":{\"color\":\"#EF1A2D\",\"dash\":\"solid\"},\"marker\":{\"symbol\":\"circle\"},\"mode\":\"lines\",\"name\":\"SAI\",\"orientation\":\"v\",\"showlegend\":true,\"x\":[71,0],\"xaxis\":\"x\",\"y\":[4.0,2.0],\"yaxis\":\"y\",\"type\":\"scatter\"},{\"hovertemplate\":\"Driver=SAR<br>Lap (Start/Finish Only)=%{x}<br>Start Position=%{y}<extra></extra>\",\"legendgroup\":\"SAR\",\"line\":{\"color\":\"#00A0DE\",\"dash\":\"solid\"},\"marker\":{\"symbol\":\"circle\"},\"mode\":\"lines\",\"name\":\"SAR\",\"orientation\":\"v\",\"showlegend\":true,\"x\":[0,70],\"xaxis\":\"x\",\"y\":[19.0,16.0],\"yaxis\":\"y\",\"type\":\"scatter\"},{\"hovertemplate\":\"Driver=STR<br>Lap (Start/Finish Only)=%{x}<br>Start Position=%{y}<extra></extra>\",\"legendgroup\":\"STR\",\"line\":{\"color\":\"#002420\",\"dash\":\"solid\"},\"marker\":{\"symbol\":\"circle\"},\"mode\":\"lines\",\"name\":\"STR\",\"orientation\":\"v\",\"showlegend\":true,\"x\":[66,0],\"xaxis\":\"x\",\"y\":[17.0,0.0],\"yaxis\":\"y\",\"type\":\"scatter\"},{\"hovertemplate\":\"Driver=TSU<br>Lap (Start/Finish Only)=%{x}<br>Start Position=%{y}<extra></extra>\",\"legendgroup\":\"TSU\",\"line\":{\"color\":\"#20394C\",\"dash\":\"solid\"},\"marker\":{\"symbol\":\"circle\"},\"mode\":\"lines\",\"name\":\"TSU\",\"orientation\":\"v\",\"showlegend\":true,\"x\":[71,0],\"xaxis\":\"x\",\"y\":[12.0,18.0],\"yaxis\":\"y\",\"type\":\"scatter\"},{\"hovertemplate\":\"Driver=VER<br>Lap (Start/Finish Only)=%{x}<br>Start Position=%{y}<extra></extra>\",\"legendgroup\":\"VER\",\"line\":{\"color\":\"#000B8D\",\"dash\":\"solid\"},\"marker\":{\"symbol\":\"circle\"},\"mode\":\"lines\",\"name\":\"VER\",\"orientation\":\"v\",\"showlegend\":true,\"x\":[71,0],\"xaxis\":\"x\",\"y\":[1.0,3.0],\"yaxis\":\"y\",\"type\":\"scatter\"},{\"hovertemplate\":\"Driver=ZHO<br>Lap (Start/Finish Only)=%{x}<br>Start Position=%{y}<extra></extra>\",\"legendgroup\":\"ZHO\",\"line\":{\"color\":\"#A42134\",\"dash\":\"solid\"},\"marker\":{\"symbol\":\"circle\"},\"mode\":\"lines\",\"name\":\"ZHO\",\"orientation\":\"v\",\"showlegend\":true,\"x\":[0,71],\"xaxis\":\"x\",\"y\":[10.0,14.0],\"yaxis\":\"y\",\"type\":\"scatter\"}],                        {\"template\":{\"data\":{\"histogram2dcontour\":[{\"type\":\"histogram2dcontour\",\"colorbar\":{\"outlinewidth\":0,\"ticks\":\"\"},\"colorscale\":[[0.0,\"#0d0887\"],[0.1111111111111111,\"#46039f\"],[0.2222222222222222,\"#7201a8\"],[0.3333333333333333,\"#9c179e\"],[0.4444444444444444,\"#bd3786\"],[0.5555555555555556,\"#d8576b\"],[0.6666666666666666,\"#ed7953\"],[0.7777777777777778,\"#fb9f3a\"],[0.8888888888888888,\"#fdca26\"],[1.0,\"#f0f921\"]]}],\"choropleth\":[{\"type\":\"choropleth\",\"colorbar\":{\"outlinewidth\":0,\"ticks\":\"\"}}],\"histogram2d\":[{\"type\":\"histogram2d\",\"colorbar\":{\"outlinewidth\":0,\"ticks\":\"\"},\"colorscale\":[[0.0,\"#0d0887\"],[0.1111111111111111,\"#46039f\"],[0.2222222222222222,\"#7201a8\"],[0.3333333333333333,\"#9c179e\"],[0.4444444444444444,\"#bd3786\"],[0.5555555555555556,\"#d8576b\"],[0.6666666666666666,\"#ed7953\"],[0.7777777777777778,\"#fb9f3a\"],[0.8888888888888888,\"#fdca26\"],[1.0,\"#f0f921\"]]}],\"heatmap\":[{\"type\":\"heatmap\",\"colorbar\":{\"outlinewidth\":0,\"ticks\":\"\"},\"colorscale\":[[0.0,\"#0d0887\"],[0.1111111111111111,\"#46039f\"],[0.2222222222222222,\"#7201a8\"],[0.3333333333333333,\"#9c179e\"],[0.4444444444444444,\"#bd3786\"],[0.5555555555555556,\"#d8576b\"],[0.6666666666666666,\"#ed7953\"],[0.7777777777777778,\"#fb9f3a\"],[0.8888888888888888,\"#fdca26\"],[1.0,\"#f0f921\"]]}],\"heatmapgl\":[{\"type\":\"heatmapgl\",\"colorbar\":{\"outlinewidth\":0,\"ticks\":\"\"},\"colorscale\":[[0.0,\"#0d0887\"],[0.1111111111111111,\"#46039f\"],[0.2222222222222222,\"#7201a8\"],[0.3333333333333333,\"#9c179e\"],[0.4444444444444444,\"#bd3786\"],[0.5555555555555556,\"#d8576b\"],[0.6666666666666666,\"#ed7953\"],[0.7777777777777778,\"#fb9f3a\"],[0.8888888888888888,\"#fdca26\"],[1.0,\"#f0f921\"]]}],\"contourcarpet\":[{\"type\":\"contourcarpet\",\"colorbar\":{\"outlinewidth\":0,\"ticks\":\"\"}}],\"contour\":[{\"type\":\"contour\",\"colorbar\":{\"outlinewidth\":0,\"ticks\":\"\"},\"colorscale\":[[0.0,\"#0d0887\"],[0.1111111111111111,\"#46039f\"],[0.2222222222222222,\"#7201a8\"],[0.3333333333333333,\"#9c179e\"],[0.4444444444444444,\"#bd3786\"],[0.5555555555555556,\"#d8576b\"],[0.6666666666666666,\"#ed7953\"],[0.7777777777777778,\"#fb9f3a\"],[0.8888888888888888,\"#fdca26\"],[1.0,\"#f0f921\"]]}],\"surface\":[{\"type\":\"surface\",\"colorbar\":{\"outlinewidth\":0,\"ticks\":\"\"},\"colorscale\":[[0.0,\"#0d0887\"],[0.1111111111111111,\"#46039f\"],[0.2222222222222222,\"#7201a8\"],[0.3333333333333333,\"#9c179e\"],[0.4444444444444444,\"#bd3786\"],[0.5555555555555556,\"#d8576b\"],[0.6666666666666666,\"#ed7953\"],[0.7777777777777778,\"#fb9f3a\"],[0.8888888888888888,\"#fdca26\"],[1.0,\"#f0f921\"]]}],\"mesh3d\":[{\"type\":\"mesh3d\",\"colorbar\":{\"outlinewidth\":0,\"ticks\":\"\"}}],\"scatter\":[{\"fillpattern\":{\"fillmode\":\"overlay\",\"size\":10,\"solidity\":0.2},\"type\":\"scatter\"}],\"parcoords\":[{\"type\":\"parcoords\",\"line\":{\"colorbar\":{\"outlinewidth\":0,\"ticks\":\"\"}}}],\"scatterpolargl\":[{\"type\":\"scatterpolargl\",\"marker\":{\"colorbar\":{\"outlinewidth\":0,\"ticks\":\"\"}}}],\"bar\":[{\"error_x\":{\"color\":\"#2a3f5f\"},\"error_y\":{\"color\":\"#2a3f5f\"},\"marker\":{\"line\":{\"color\":\"#E5ECF6\",\"width\":0.5},\"pattern\":{\"fillmode\":\"overlay\",\"size\":10,\"solidity\":0.2}},\"type\":\"bar\"}],\"scattergeo\":[{\"type\":\"scattergeo\",\"marker\":{\"colorbar\":{\"outlinewidth\":0,\"ticks\":\"\"}}}],\"scatterpolar\":[{\"type\":\"scatterpolar\",\"marker\":{\"colorbar\":{\"outlinewidth\":0,\"ticks\":\"\"}}}],\"histogram\":[{\"marker\":{\"pattern\":{\"fillmode\":\"overlay\",\"size\":10,\"solidity\":0.2}},\"type\":\"histogram\"}],\"scattergl\":[{\"type\":\"scattergl\",\"marker\":{\"colorbar\":{\"outlinewidth\":0,\"ticks\":\"\"}}}],\"scatter3d\":[{\"type\":\"scatter3d\",\"line\":{\"colorbar\":{\"outlinewidth\":0,\"ticks\":\"\"}},\"marker\":{\"colorbar\":{\"outlinewidth\":0,\"ticks\":\"\"}}}],\"scattermapbox\":[{\"type\":\"scattermapbox\",\"marker\":{\"colorbar\":{\"outlinewidth\":0,\"ticks\":\"\"}}}],\"scatterternary\":[{\"type\":\"scatterternary\",\"marker\":{\"colorbar\":{\"outlinewidth\":0,\"ticks\":\"\"}}}],\"scattercarpet\":[{\"type\":\"scattercarpet\",\"marker\":{\"colorbar\":{\"outlinewidth\":0,\"ticks\":\"\"}}}],\"carpet\":[{\"aaxis\":{\"endlinecolor\":\"#2a3f5f\",\"gridcolor\":\"white\",\"linecolor\":\"white\",\"minorgridcolor\":\"white\",\"startlinecolor\":\"#2a3f5f\"},\"baxis\":{\"endlinecolor\":\"#2a3f5f\",\"gridcolor\":\"white\",\"linecolor\":\"white\",\"minorgridcolor\":\"white\",\"startlinecolor\":\"#2a3f5f\"},\"type\":\"carpet\"}],\"table\":[{\"cells\":{\"fill\":{\"color\":\"#EBF0F8\"},\"line\":{\"color\":\"white\"}},\"header\":{\"fill\":{\"color\":\"#C8D4E3\"},\"line\":{\"color\":\"white\"}},\"type\":\"table\"}],\"barpolar\":[{\"marker\":{\"line\":{\"color\":\"#E5ECF6\",\"width\":0.5},\"pattern\":{\"fillmode\":\"overlay\",\"size\":10,\"solidity\":0.2}},\"type\":\"barpolar\"}],\"pie\":[{\"automargin\":true,\"type\":\"pie\"}]},\"layout\":{\"autotypenumbers\":\"strict\",\"colorway\":[\"#636efa\",\"#EF553B\",\"#00cc96\",\"#ab63fa\",\"#FFA15A\",\"#19d3f3\",\"#FF6692\",\"#B6E880\",\"#FF97FF\",\"#FECB52\"],\"font\":{\"color\":\"#2a3f5f\"},\"hovermode\":\"closest\",\"hoverlabel\":{\"align\":\"left\"},\"paper_bgcolor\":\"white\",\"plot_bgcolor\":\"#E5ECF6\",\"polar\":{\"bgcolor\":\"#E5ECF6\",\"angularaxis\":{\"gridcolor\":\"white\",\"linecolor\":\"white\",\"ticks\":\"\"},\"radialaxis\":{\"gridcolor\":\"white\",\"linecolor\":\"white\",\"ticks\":\"\"}},\"ternary\":{\"bgcolor\":\"#E5ECF6\",\"aaxis\":{\"gridcolor\":\"white\",\"linecolor\":\"white\",\"ticks\":\"\"},\"baxis\":{\"gridcolor\":\"white\",\"linecolor\":\"white\",\"ticks\":\"\"},\"caxis\":{\"gridcolor\":\"white\",\"linecolor\":\"white\",\"ticks\":\"\"}},\"coloraxis\":{\"colorbar\":{\"outlinewidth\":0,\"ticks\":\"\"}},\"colorscale\":{\"sequential\":[[0.0,\"#0d0887\"],[0.1111111111111111,\"#46039f\"],[0.2222222222222222,\"#7201a8\"],[0.3333333333333333,\"#9c179e\"],[0.4444444444444444,\"#bd3786\"],[0.5555555555555556,\"#d8576b\"],[0.6666666666666666,\"#ed7953\"],[0.7777777777777778,\"#fb9f3a\"],[0.8888888888888888,\"#fdca26\"],[1.0,\"#f0f921\"]],\"sequentialminus\":[[0.0,\"#0d0887\"],[0.1111111111111111,\"#46039f\"],[0.2222222222222222,\"#7201a8\"],[0.3333333333333333,\"#9c179e\"],[0.4444444444444444,\"#bd3786\"],[0.5555555555555556,\"#d8576b\"],[0.6666666666666666,\"#ed7953\"],[0.7777777777777778,\"#fb9f3a\"],[0.8888888888888888,\"#fdca26\"],[1.0,\"#f0f921\"]],\"diverging\":[[0,\"#8e0152\"],[0.1,\"#c51b7d\"],[0.2,\"#de77ae\"],[0.3,\"#f1b6da\"],[0.4,\"#fde0ef\"],[0.5,\"#f7f7f7\"],[0.6,\"#e6f5d0\"],[0.7,\"#b8e186\"],[0.8,\"#7fbc41\"],[0.9,\"#4d9221\"],[1,\"#276419\"]]},\"xaxis\":{\"gridcolor\":\"white\",\"linecolor\":\"white\",\"ticks\":\"\",\"title\":{\"standoff\":15},\"zerolinecolor\":\"white\",\"automargin\":true,\"zerolinewidth\":2},\"yaxis\":{\"gridcolor\":\"white\",\"linecolor\":\"white\",\"ticks\":\"\",\"title\":{\"standoff\":15},\"zerolinecolor\":\"white\",\"automargin\":true,\"zerolinewidth\":2},\"scene\":{\"xaxis\":{\"backgroundcolor\":\"#E5ECF6\",\"gridcolor\":\"white\",\"linecolor\":\"white\",\"showbackground\":true,\"ticks\":\"\",\"zerolinecolor\":\"white\",\"gridwidth\":2},\"yaxis\":{\"backgroundcolor\":\"#E5ECF6\",\"gridcolor\":\"white\",\"linecolor\":\"white\",\"showbackground\":true,\"ticks\":\"\",\"zerolinecolor\":\"white\",\"gridwidth\":2},\"zaxis\":{\"backgroundcolor\":\"#E5ECF6\",\"gridcolor\":\"white\",\"linecolor\":\"white\",\"showbackground\":true,\"ticks\":\"\",\"zerolinecolor\":\"white\",\"gridwidth\":2}},\"shapedefaults\":{\"line\":{\"color\":\"#2a3f5f\"}},\"annotationdefaults\":{\"arrowcolor\":\"#2a3f5f\",\"arrowhead\":0,\"arrowwidth\":1},\"geo\":{\"bgcolor\":\"white\",\"landcolor\":\"#E5ECF6\",\"subunitcolor\":\"white\",\"showland\":true,\"showlakes\":true,\"lakecolor\":\"white\"},\"title\":{\"x\":0.05},\"mapbox\":{\"style\":\"light\"}}},\"xaxis\":{\"anchor\":\"y\",\"domain\":[0.0,1.0],\"title\":{\"text\":\"Lap (Start/Finish Only)\"}},\"yaxis\":{\"anchor\":\"x\",\"domain\":[0.0,1.0],\"title\":{\"text\":\"Start Position\"}},\"legend\":{\"title\":{\"text\":\"Driver\"},\"tracegroupgap\":0},\"title\":{\"text\":\"<b>Qualifying To Finish</b>\",\"font\":{\"family\":\"Arial, sans-serif\",\"size\":30},\"x\":0.5},\"updatemenus\":[{\"active\":0,\"buttons\":[{\"args\":[{\"visible\":[true,true,true,true,true,true,true,true,true,true,true,true,true,true,true,true,true,true,true,true],\"title\":\"All\",\"showlegend\":true}],\"label\":\"All\",\"method\":\"update\"},{\"args\":[{\"visible\":[true,false,false,false,false,false,false,false,false,false,false,false,false,false,false,false,false,false,false,false],\"title\":\"ALB\",\"showlegend\":true}],\"label\":\"ALB\",\"method\":\"update\"},{\"args\":[{\"visible\":[false,true,false,false,false,false,false,false,false,false,false,false,false,false,false,false,false,false,false,false],\"title\":\"ALO\",\"showlegend\":true}],\"label\":\"ALO\",\"method\":\"update\"},{\"args\":[{\"visible\":[false,false,true,false,false,false,false,false,false,false,false,false,false,false,false,false,false,false,false,false],\"title\":\"BOT\",\"showlegend\":true}],\"label\":\"BOT\",\"method\":\"update\"},{\"args\":[{\"visible\":[false,false,false,true,false,false,false,false,false,false,false,false,false,false,false,false,false,false,false,false],\"title\":\"GAS\",\"showlegend\":true}],\"label\":\"GAS\",\"method\":\"update\"},{\"args\":[{\"visible\":[false,false,false,false,true,false,false,false,false,false,false,false,false,false,false,false,false,false,false,false],\"title\":\"HAM\",\"showlegend\":true}],\"label\":\"HAM\",\"method\":\"update\"},{\"args\":[{\"visible\":[false,false,false,false,false,true,false,false,false,false,false,false,false,false,false,false,false,false,false,false],\"title\":\"HUL\",\"showlegend\":true}],\"label\":\"HUL\",\"method\":\"update\"},{\"args\":[{\"visible\":[false,false,false,false,false,false,true,false,false,false,false,false,false,false,false,false,false,false,false,false],\"title\":\"LEC\",\"showlegend\":true}],\"label\":\"LEC\",\"method\":\"update\"},{\"args\":[{\"visible\":[false,false,false,false,false,false,false,true,false,false,false,false,false,false,false,false,false,false,false,false],\"title\":\"MAG\",\"showlegend\":true}],\"label\":\"MAG\",\"method\":\"update\"},{\"args\":[{\"visible\":[false,false,false,false,false,false,false,false,true,false,false,false,false,false,false,false,false,false,false,false],\"title\":\"NOR\",\"showlegend\":true}],\"label\":\"NOR\",\"method\":\"update\"},{\"args\":[{\"visible\":[false,false,false,false,false,false,false,false,false,true,false,false,false,false,false,false,false,false,false,false],\"title\":\"OCO\",\"showlegend\":true}],\"label\":\"OCO\",\"method\":\"update\"},{\"args\":[{\"visible\":[false,false,false,false,false,false,false,false,false,false,true,false,false,false,false,false,false,false,false,false],\"title\":\"PER\",\"showlegend\":true}],\"label\":\"PER\",\"method\":\"update\"},{\"args\":[{\"visible\":[false,false,false,false,false,false,false,false,false,false,false,true,false,false,false,false,false,false,false,false],\"title\":\"PIA\",\"showlegend\":true}],\"label\":\"PIA\",\"method\":\"update\"},{\"args\":[{\"visible\":[false,false,false,false,false,false,false,false,false,false,false,false,true,false,false,false,false,false,false,false],\"title\":\"RIC\",\"showlegend\":true}],\"label\":\"RIC\",\"method\":\"update\"},{\"args\":[{\"visible\":[false,false,false,false,false,false,false,false,false,false,false,false,false,true,false,false,false,false,false,false],\"title\":\"RUS\",\"showlegend\":true}],\"label\":\"RUS\",\"method\":\"update\"},{\"args\":[{\"visible\":[false,false,false,false,false,false,false,false,false,false,false,false,false,false,true,false,false,false,false,false],\"title\":\"SAI\",\"showlegend\":true}],\"label\":\"SAI\",\"method\":\"update\"},{\"args\":[{\"visible\":[false,false,false,false,false,false,false,false,false,false,false,false,false,false,false,true,false,false,false,false],\"title\":\"SAR\",\"showlegend\":true}],\"label\":\"SAR\",\"method\":\"update\"},{\"args\":[{\"visible\":[false,false,false,false,false,false,false,false,false,false,false,false,false,false,false,false,true,false,false,false],\"title\":\"STR\",\"showlegend\":true}],\"label\":\"STR\",\"method\":\"update\"},{\"args\":[{\"visible\":[false,false,false,false,false,false,false,false,false,false,false,false,false,false,false,false,false,true,false,false],\"title\":\"TSU\",\"showlegend\":true}],\"label\":\"TSU\",\"method\":\"update\"},{\"args\":[{\"visible\":[false,false,false,false,false,false,false,false,false,false,false,false,false,false,false,false,false,false,true,false],\"title\":\"VER\",\"showlegend\":true}],\"label\":\"VER\",\"method\":\"update\"},{\"args\":[{\"visible\":[false,false,false,false,false,false,false,false,false,false,false,false,false,false,false,false,false,false,false,true],\"title\":\"ZHO\",\"showlegend\":true}],\"label\":\"ZHO\",\"method\":\"update\"}]}]},                        {\"responsive\": true}                    ).then(function(){\n",
       "                            \n",
       "var gd = document.getElementById('cd9a5ea5-be76-4d12-bb5d-ff86ab43250c');\n",
       "var x = new MutationObserver(function (mutations, observer) {{\n",
       "        var display = window.getComputedStyle(gd).display;\n",
       "        if (!display || display === 'none') {{\n",
       "            console.log([gd, 'removed!']);\n",
       "            Plotly.purge(gd);\n",
       "            observer.disconnect();\n",
       "        }}\n",
       "}});\n",
       "\n",
       "// Listen for the removal of the full notebook cells\n",
       "var notebookContainer = gd.closest('#notebook-container');\n",
       "if (notebookContainer) {{\n",
       "    x.observe(notebookContainer, {childList: true});\n",
       "}}\n",
       "\n",
       "// Listen for the clearing of the current output cell\n",
       "var outputEl = gd.closest('.output');\n",
       "if (outputEl) {{\n",
       "    x.observe(outputEl, {childList: true});\n",
       "}}\n",
       "\n",
       "                        })                };                });            </script>        </div>"
      ]
     },
     "metadata": {},
     "output_type": "display_data"
    }
   ],
   "source": [
    "def multi_st_fin_plot(names, addAll = True):\n",
    "    fig = go.Figure()\n",
    "    \n",
    "    lap_driver_sf = reduced_res[(reduced_res['laps'] == 0) | (reduced_res['laps'] == num_laps) | (reduced_res['last_lap'] == 1)].copy()\n",
    "    lap_driver_sf['position'] = lap_driver_sf['position'].astype(float)\n",
    "    lap_driver_sf = lap_driver_sf.sort_values(by=['Driver'])\n",
    "\n",
    "    df = px.data.gapminder().query(\"continent=='Oceania'\")\n",
    "    fig = px.line(lap_driver_sf, x=\"laps\", y=\"position\", color='Driver', color_discrete_map=color_map, title=\"Qualifying to Finish\", labels={\n",
    "    \"position\": \"Start Position\",\n",
    "    \"laps\":\"Lap (Start/Finish Only)\"\n",
    "    })\n",
    "    fig.update_layout(title_text='<b>Qualifying To Finish</b>', titlefont = dict(\n",
    "         family = 'Arial, sans-serif',\n",
    "         size = 30\n",
    "      ), title_x=0.5)\n",
    "\n",
    "\n",
    "    button_all = dict(label = 'All',\n",
    "                      method = 'update',\n",
    "                      args = [{'visible': [True]*len(names),\n",
    "                               'title': 'All',\n",
    "                               'showlegend':True}])\n",
    "\n",
    "    def create_layout_button(column):\n",
    "        return dict(label = column,\n",
    "                    method = 'update',\n",
    "                    args = [{'visible': [c == column for c in names],\n",
    "                             'title': column,\n",
    "                             'showlegend': True}])\n",
    "\n",
    "    fig.update_layout(\n",
    "        updatemenus=[go.layout.Updatemenu(\n",
    "            active = 0,\n",
    "            buttons = ([button_all] * addAll) + [create_layout_button(column) for column in names]\n",
    "            )\n",
    "        ])\n",
    "    \n",
    "    fig.show()\n",
    "    \n",
    "mapping = list(color_map.keys())\n",
    "mapping.sort()\n",
    "multi_st_fin_plot(mapping)"
   ]
  },
  {
   "cell_type": "code",
   "execution_count": 19,
   "id": "91e1b78a",
   "metadata": {
    "_kg_hide-input": true,
    "execution": {
     "iopub.execute_input": "2023-10-30T18:39:59.204301Z",
     "iopub.status.busy": "2023-10-30T18:39:59.203919Z",
     "iopub.status.idle": "2023-10-30T18:39:59.209458Z",
     "shell.execute_reply": "2023-10-30T18:39:59.208356Z"
    },
    "papermill": {
     "duration": 0.021913,
     "end_time": "2023-10-30T18:39:59.212160",
     "exception": false,
     "start_time": "2023-10-30T18:39:59.190247",
     "status": "completed"
    },
    "tags": []
   },
   "outputs": [],
   "source": [
    "if not  SPRINT_EMPTY:\n",
    "    display(md(f\"# <div style='background:#FF1801; border:0; color:black; box-shadow: 10px 10px 5px 0px rgba(0,0,0,0.75); transform: rotateX(10deg);'><h1 style='padding: 10px; margin: 0; text-align:center;'><span style='font-size: 30px;'>Sprint Results</span></h1></div>\"))"
   ]
  },
  {
   "cell_type": "code",
   "execution_count": 20,
   "id": "e4d129bf",
   "metadata": {
    "_kg_hide-input": true,
    "execution": {
     "iopub.execute_input": "2023-10-30T18:39:59.240078Z",
     "iopub.status.busy": "2023-10-30T18:39:59.239482Z",
     "iopub.status.idle": "2023-10-30T18:39:59.245291Z",
     "shell.execute_reply": "2023-10-30T18:39:59.244335Z"
    },
    "papermill": {
     "duration": 0.022908,
     "end_time": "2023-10-30T18:39:59.247666",
     "exception": false,
     "start_time": "2023-10-30T18:39:59.224758",
     "status": "completed"
    },
    "tags": []
   },
   "outputs": [],
   "source": [
    "if not SPRINT_EMPTY:\n",
    "    display(sprint_results[['Driver', 'grid', 'position', 'points', 'status']].style.pipe(sprint_results_style))"
   ]
  },
  {
   "cell_type": "code",
   "execution_count": 21,
   "id": "4079a55b",
   "metadata": {
    "_kg_hide-input": true,
    "execution": {
     "iopub.execute_input": "2023-10-30T18:39:59.277006Z",
     "iopub.status.busy": "2023-10-30T18:39:59.275675Z",
     "iopub.status.idle": "2023-10-30T18:39:59.287319Z",
     "shell.execute_reply": "2023-10-30T18:39:59.286179Z"
    },
    "papermill": {
     "duration": 0.029297,
     "end_time": "2023-10-30T18:39:59.290137",
     "exception": false,
     "start_time": "2023-10-30T18:39:59.260840",
     "status": "completed"
    },
    "tags": []
   },
   "outputs": [],
   "source": [
    "def multi_st_fin_spr_plot(names, addAll = True):\n",
    "    fig = go.Figure()\n",
    "    \n",
    "    lap_driver_sf = sp_reduced_res[(sp_reduced_res['laps'] == 0) | (sp_reduced_res['laps'] == num_sprint_laps) | (sp_reduced_res['last_lap'] == 1)].copy()\n",
    "    lap_driver_sf['position'] = lap_driver_sf['position'].astype(float)\n",
    "    lap_driver_sf = lap_driver_sf.sort_values(by=['Driver'])\n",
    "\n",
    "    df = px.data.gapminder().query(\"continent=='Oceania'\")\n",
    "    fig = px.line(lap_driver_sf, x=\"laps\", y=\"position\", color='Driver', color_discrete_map=color_map, title=\"Qualifying to Sprint Finish\", labels={\n",
    "    \"position\": \"Start Position\",\n",
    "    \"laps\":\"Lap (Start/Finish Only)\"\n",
    "    })\n",
    "    fig.update_layout(title_text='<b>Qualifying To Sprint Finish</b>', titlefont = dict(\n",
    "         family = 'Arial, sans-serif',\n",
    "         size = 30\n",
    "      ), title_x=0.5)\n",
    "\n",
    "\n",
    "    button_all = dict(label = 'All',\n",
    "                      method = 'update',\n",
    "                      args = [{'visible': [True]*len(names),\n",
    "                               'title': 'All',\n",
    "                               'showlegend':True}])\n",
    "\n",
    "    def create_layout_button(column):\n",
    "        return dict(label = column,\n",
    "                    method = 'update',\n",
    "                    args = [{'visible': [c == column for c in names],\n",
    "                             'title': column,\n",
    "                             'showlegend': True}])\n",
    "\n",
    "    fig.update_layout(\n",
    "        updatemenus=[go.layout.Updatemenu(\n",
    "            active = 0,\n",
    "            buttons = ([button_all] * addAll) + [create_layout_button(column) for column in names]\n",
    "            )\n",
    "        ])\n",
    "    \n",
    "    fig.show()\n",
    "if not SPRINT_EMPTY:\n",
    "    mapping = list(color_map.keys())\n",
    "    mapping.sort()\n",
    "    multi_st_fin_spr_plot(mapping)"
   ]
  },
  {
   "cell_type": "code",
   "execution_count": 22,
   "id": "bbbb2dbd",
   "metadata": {
    "_kg_hide-input": true,
    "execution": {
     "iopub.execute_input": "2023-10-30T18:39:59.317570Z",
     "iopub.status.busy": "2023-10-30T18:39:59.317144Z",
     "iopub.status.idle": "2023-10-30T18:39:59.323776Z",
     "shell.execute_reply": "2023-10-30T18:39:59.322667Z"
    },
    "papermill": {
     "duration": 0.023466,
     "end_time": "2023-10-30T18:39:59.326331",
     "exception": false,
     "start_time": "2023-10-30T18:39:59.302865",
     "status": "completed"
    },
    "tags": []
   },
   "outputs": [
    {
     "data": {
      "text/markdown": [
       "# <div style='background:#FF1801; border:0; color:black; box-shadow: 10px 10px 5px 0px rgba(0,0,0,0.75); transform: rotateX(10deg);'><h1 style='padding: 10px; margin: 0; text-align:center;'><span style='font-size: 30px;'>Pit Stops</span></h1></div>"
      ],
      "text/plain": [
       "<IPython.core.display.Markdown object>"
      ]
     },
     "metadata": {},
     "output_type": "display_data"
    }
   ],
   "source": [
    "display(md(f\"# <div style='background:#FF1801; border:0; color:black; box-shadow: 10px 10px 5px 0px rgba(0,0,0,0.75); transform: rotateX(10deg);'><h1 style='padding: 10px; margin: 0; text-align:center;'><span style='font-size: 30px;'>Pit Stops</span></h1></div>\"))"
   ]
  },
  {
   "cell_type": "code",
   "execution_count": 23,
   "id": "b80afca2",
   "metadata": {
    "_kg_hide-input": true,
    "execution": {
     "iopub.execute_input": "2023-10-30T18:39:59.354671Z",
     "iopub.status.busy": "2023-10-30T18:39:59.353644Z",
     "iopub.status.idle": "2023-10-30T18:39:59.488507Z",
     "shell.execute_reply": "2023-10-30T18:39:59.487163Z"
    },
    "papermill": {
     "duration": 0.152201,
     "end_time": "2023-10-30T18:39:59.491366",
     "exception": false,
     "start_time": "2023-10-30T18:39:59.339165",
     "status": "completed"
    },
    "tags": []
   },
   "outputs": [
    {
     "data": {
      "text/html": [
       "<div>                            <div id=\"39831b68-3203-43b0-95e3-d844a5069733\" class=\"plotly-graph-div\" style=\"height:525px; width:100%;\"></div>            <script type=\"text/javascript\">                require([\"plotly\"], function(Plotly) {                    window.PLOTLYENV=window.PLOTLYENV || {};                                    if (document.getElementById(\"39831b68-3203-43b0-95e3-d844a5069733\")) {                    Plotly.newPlot(                        \"39831b68-3203-43b0-95e3-d844a5069733\",                        [{\"alignmentgroup\":\"True\",\"base\":[\"2023-10-29T14:16:34\"],\"hovertemplate\":\"Driver=%{y}<br>time_date=%{base}<br>time_end_date=%{x}<extra></extra>\",\"legendgroup\":\"TSU\",\"marker\":{\"color\":\"#20394C\",\"pattern\":{\"shape\":\"\"}},\"name\":\"TSU\",\"offsetgroup\":\"TSU\",\"orientation\":\"h\",\"showlegend\":true,\"textposition\":\"auto\",\"x\":[30121.0],\"xaxis\":\"x\",\"y\":[\"TSU\"],\"yaxis\":\"y\",\"type\":\"bar\"},{\"alignmentgroup\":\"True\",\"base\":[\"2023-10-29T14:19:23\",\"2023-10-29T14:50:50\"],\"hovertemplate\":\"Driver=%{y}<br>time_date=%{base}<br>time_end_date=%{x}<extra></extra>\",\"legendgroup\":\"NOR\",\"marker\":{\"color\":\"#FF8000\",\"pattern\":{\"shape\":\"\"}},\"name\":\"NOR\",\"offsetgroup\":\"NOR\",\"orientation\":\"h\",\"showlegend\":true,\"textposition\":\"auto\",\"x\":[23408.0,22563.0],\"xaxis\":\"x\",\"y\":[\"NOR\",\"NOR\"],\"yaxis\":\"y\",\"type\":\"bar\"},{\"alignmentgroup\":\"True\",\"base\":[\"2023-10-29T14:30:10\",\"2023-10-29T14:50:02\"],\"hovertemplate\":\"Driver=%{y}<br>time_date=%{base}<br>time_end_date=%{x}<extra></extra>\",\"legendgroup\":\"VER\",\"marker\":{\"color\":\"#000B8D\",\"pattern\":{\"shape\":\"\"}},\"name\":\"VER\",\"offsetgroup\":\"VER\",\"orientation\":\"h\",\"showlegend\":true,\"textposition\":\"auto\",\"x\":[22427.0,22372.0],\"xaxis\":\"x\",\"y\":[\"VER\",\"VER\"],\"yaxis\":\"y\",\"type\":\"bar\"},{\"alignmentgroup\":\"True\",\"base\":[\"2023-10-29T14:33:34\"],\"hovertemplate\":\"Driver=%{y}<br>time_date=%{base}<br>time_end_date=%{x}<extra></extra>\",\"legendgroup\":\"ZHO\",\"marker\":{\"color\":\"#A42134\",\"pattern\":{\"shape\":\"\"}},\"name\":\"ZHO\",\"offsetgroup\":\"ZHO\",\"orientation\":\"h\",\"showlegend\":true,\"textposition\":\"auto\",\"x\":[22817.0],\"xaxis\":\"x\",\"y\":[\"ZHO\"],\"yaxis\":\"y\",\"type\":\"bar\"},{\"alignmentgroup\":\"True\",\"base\":[\"2023-10-29T14:35:03\"],\"hovertemplate\":\"Driver=%{y}<br>time_date=%{base}<br>time_end_date=%{x}<extra></extra>\",\"legendgroup\":\"SAR\",\"marker\":{\"color\":\"#00A0DE\",\"pattern\":{\"shape\":\"\"}},\"name\":\"SAR\",\"offsetgroup\":\"SAR\",\"orientation\":\"h\",\"showlegend\":true,\"textposition\":\"auto\",\"x\":[23945.0],\"xaxis\":\"x\",\"y\":[\"SAR\"],\"yaxis\":\"y\",\"type\":\"bar\"},{\"alignmentgroup\":\"True\",\"base\":[\"2023-10-29T14:36:19\"],\"hovertemplate\":\"Driver=%{y}<br>time_date=%{base}<br>time_end_date=%{x}<extra></extra>\",\"legendgroup\":\"HUL\",\"marker\":{\"color\":\"#E6002B\",\"pattern\":{\"shape\":\"\"}},\"name\":\"HUL\",\"offsetgroup\":\"HUL\",\"orientation\":\"h\",\"showlegend\":true,\"textposition\":\"auto\",\"x\":[23144.0],\"xaxis\":\"x\",\"y\":[\"HUL\"],\"yaxis\":\"y\",\"type\":\"bar\"},{\"alignmentgroup\":\"True\",\"base\":[\"2023-10-29T14:36:27\"],\"hovertemplate\":\"Driver=%{y}<br>time_date=%{base}<br>time_end_date=%{x}<extra></extra>\",\"legendgroup\":\"MAG\",\"marker\":{\"color\":\"#E6002B\",\"pattern\":{\"shape\":\"\"}},\"name\":\"MAG\",\"offsetgroup\":\"MAG\",\"orientation\":\"h\",\"showlegend\":true,\"textposition\":\"auto\",\"x\":[23642.0],\"xaxis\":\"x\",\"y\":[\"MAG\"],\"yaxis\":\"y\",\"type\":\"bar\"},{\"alignmentgroup\":\"True\",\"base\":[\"2023-10-29T14:37:21\"],\"hovertemplate\":\"Driver=%{y}<br>time_date=%{base}<br>time_end_date=%{x}<extra></extra>\",\"legendgroup\":\"HAM\",\"marker\":{\"color\":\"#00A19B\",\"pattern\":{\"shape\":\"\"}},\"name\":\"HAM\",\"offsetgroup\":\"HAM\",\"orientation\":\"h\",\"showlegend\":true,\"textposition\":\"auto\",\"x\":[22210.0],\"xaxis\":\"x\",\"y\":[\"HAM\"],\"yaxis\":\"y\",\"type\":\"bar\"},{\"alignmentgroup\":\"True\",\"base\":[\"2023-10-29T14:38:53\"],\"hovertemplate\":\"Driver=%{y}<br>time_date=%{base}<br>time_end_date=%{x}<extra></extra>\",\"legendgroup\":\"PIA\",\"marker\":{\"color\":\"#FF8000\",\"pattern\":{\"shape\":\"\"}},\"name\":\"PIA\",\"offsetgroup\":\"PIA\",\"orientation\":\"h\",\"showlegend\":true,\"textposition\":\"auto\",\"x\":[23734.0],\"xaxis\":\"x\",\"y\":[\"PIA\"],\"yaxis\":\"y\",\"type\":\"bar\"},{\"alignmentgroup\":\"True\",\"base\":[\"2023-10-29T14:40:18\"],\"hovertemplate\":\"Driver=%{y}<br>time_date=%{base}<br>time_end_date=%{x}<extra></extra>\",\"legendgroup\":\"RUS\",\"marker\":{\"color\":\"#00A19B\",\"pattern\":{\"shape\":\"\"}},\"name\":\"RUS\",\"offsetgroup\":\"RUS\",\"orientation\":\"h\",\"showlegend\":true,\"textposition\":\"auto\",\"x\":[22311.0],\"xaxis\":\"x\",\"y\":[\"RUS\"],\"yaxis\":\"y\",\"type\":\"bar\"},{\"alignmentgroup\":\"True\",\"base\":[\"2023-10-29T14:41:39\"],\"hovertemplate\":\"Driver=%{y}<br>time_date=%{base}<br>time_end_date=%{x}<extra></extra>\",\"legendgroup\":\"RIC\",\"marker\":{\"color\":\"#20394C\",\"pattern\":{\"shape\":\"\"}},\"name\":\"RIC\",\"offsetgroup\":\"RIC\",\"orientation\":\"h\",\"showlegend\":true,\"textposition\":\"auto\",\"x\":[22406.0],\"xaxis\":\"x\",\"y\":[\"RIC\"],\"yaxis\":\"y\",\"type\":\"bar\"},{\"alignmentgroup\":\"True\",\"base\":[\"2023-10-29T14:43:24\"],\"hovertemplate\":\"Driver=%{y}<br>time_date=%{base}<br>time_end_date=%{x}<extra></extra>\",\"legendgroup\":\"GAS\",\"marker\":{\"color\":\"#2173B8\",\"pattern\":{\"shape\":\"\"}},\"name\":\"GAS\",\"offsetgroup\":\"GAS\",\"orientation\":\"h\",\"showlegend\":true,\"textposition\":\"auto\",\"x\":[22627.0],\"xaxis\":\"x\",\"y\":[\"GAS\"],\"yaxis\":\"y\",\"type\":\"bar\"},{\"alignmentgroup\":\"True\",\"base\":[\"2023-10-29T14:45:06\"],\"hovertemplate\":\"Driver=%{y}<br>time_date=%{base}<br>time_end_date=%{x}<extra></extra>\",\"legendgroup\":\"ALO\",\"marker\":{\"color\":\"#002420\",\"pattern\":{\"shape\":\"\"}},\"name\":\"ALO\",\"offsetgroup\":\"ALO\",\"orientation\":\"h\",\"showlegend\":true,\"textposition\":\"auto\",\"x\":[22844.0],\"xaxis\":\"x\",\"y\":[\"ALO\"],\"yaxis\":\"y\",\"type\":\"bar\"},{\"alignmentgroup\":\"True\",\"base\":[\"2023-10-29T14:45:46\"],\"hovertemplate\":\"Driver=%{y}<br>time_date=%{base}<br>time_end_date=%{x}<extra></extra>\",\"legendgroup\":\"SAI\",\"marker\":{\"color\":\"#EF1A2D\",\"pattern\":{\"shape\":\"\"}},\"name\":\"SAI\",\"offsetgroup\":\"SAI\",\"orientation\":\"h\",\"showlegend\":true,\"textposition\":\"auto\",\"x\":[22067.0],\"xaxis\":\"x\",\"y\":[\"SAI\"],\"yaxis\":\"y\",\"type\":\"bar\"},{\"alignmentgroup\":\"True\",\"base\":[\"2023-10-29T14:46:28\"],\"hovertemplate\":\"Driver=%{y}<br>time_date=%{base}<br>time_end_date=%{x}<extra></extra>\",\"legendgroup\":\"STR\",\"marker\":{\"color\":\"#002420\",\"pattern\":{\"shape\":\"\"}},\"name\":\"STR\",\"offsetgroup\":\"STR\",\"orientation\":\"h\",\"showlegend\":true,\"textposition\":\"auto\",\"x\":[22582.0],\"xaxis\":\"x\",\"y\":[\"STR\"],\"yaxis\":\"y\",\"type\":\"bar\"},{\"alignmentgroup\":\"True\",\"base\":[\"2023-10-29T14:47:01\"],\"hovertemplate\":\"Driver=%{y}<br>time_date=%{base}<br>time_end_date=%{x}<extra></extra>\",\"legendgroup\":\"LEC\",\"marker\":{\"color\":\"#EF1A2D\",\"pattern\":{\"shape\":\"\"}},\"name\":\"LEC\",\"offsetgroup\":\"LEC\",\"orientation\":\"h\",\"showlegend\":true,\"textposition\":\"auto\",\"x\":[22248.0],\"xaxis\":\"x\",\"y\":[\"LEC\"],\"yaxis\":\"y\",\"type\":\"bar\"},{\"alignmentgroup\":\"True\",\"base\":[\"2023-10-29T14:47:48\"],\"hovertemplate\":\"Driver=%{y}<br>time_date=%{base}<br>time_end_date=%{x}<extra></extra>\",\"legendgroup\":\"BOT\",\"marker\":{\"color\":\"#A42134\",\"pattern\":{\"shape\":\"\"}},\"name\":\"BOT\",\"offsetgroup\":\"BOT\",\"orientation\":\"h\",\"showlegend\":true,\"textposition\":\"auto\",\"x\":[23638.0],\"xaxis\":\"x\",\"y\":[\"BOT\"],\"yaxis\":\"y\",\"type\":\"bar\"},{\"alignmentgroup\":\"True\",\"base\":[\"2023-10-29T14:50:54\"],\"hovertemplate\":\"Driver=%{y}<br>time_date=%{base}<br>time_end_date=%{x}<extra></extra>\",\"legendgroup\":\"ALB\",\"marker\":{\"color\":\"#00A0DE\",\"pattern\":{\"shape\":\"\"}},\"name\":\"ALB\",\"offsetgroup\":\"ALB\",\"orientation\":\"h\",\"showlegend\":true,\"textposition\":\"auto\",\"x\":[23680.0],\"xaxis\":\"x\",\"y\":[\"ALB\"],\"yaxis\":\"y\",\"type\":\"bar\"}],                        {\"template\":{\"data\":{\"histogram2dcontour\":[{\"type\":\"histogram2dcontour\",\"colorbar\":{\"outlinewidth\":0,\"ticks\":\"\"},\"colorscale\":[[0.0,\"#0d0887\"],[0.1111111111111111,\"#46039f\"],[0.2222222222222222,\"#7201a8\"],[0.3333333333333333,\"#9c179e\"],[0.4444444444444444,\"#bd3786\"],[0.5555555555555556,\"#d8576b\"],[0.6666666666666666,\"#ed7953\"],[0.7777777777777778,\"#fb9f3a\"],[0.8888888888888888,\"#fdca26\"],[1.0,\"#f0f921\"]]}],\"choropleth\":[{\"type\":\"choropleth\",\"colorbar\":{\"outlinewidth\":0,\"ticks\":\"\"}}],\"histogram2d\":[{\"type\":\"histogram2d\",\"colorbar\":{\"outlinewidth\":0,\"ticks\":\"\"},\"colorscale\":[[0.0,\"#0d0887\"],[0.1111111111111111,\"#46039f\"],[0.2222222222222222,\"#7201a8\"],[0.3333333333333333,\"#9c179e\"],[0.4444444444444444,\"#bd3786\"],[0.5555555555555556,\"#d8576b\"],[0.6666666666666666,\"#ed7953\"],[0.7777777777777778,\"#fb9f3a\"],[0.8888888888888888,\"#fdca26\"],[1.0,\"#f0f921\"]]}],\"heatmap\":[{\"type\":\"heatmap\",\"colorbar\":{\"outlinewidth\":0,\"ticks\":\"\"},\"colorscale\":[[0.0,\"#0d0887\"],[0.1111111111111111,\"#46039f\"],[0.2222222222222222,\"#7201a8\"],[0.3333333333333333,\"#9c179e\"],[0.4444444444444444,\"#bd3786\"],[0.5555555555555556,\"#d8576b\"],[0.6666666666666666,\"#ed7953\"],[0.7777777777777778,\"#fb9f3a\"],[0.8888888888888888,\"#fdca26\"],[1.0,\"#f0f921\"]]}],\"heatmapgl\":[{\"type\":\"heatmapgl\",\"colorbar\":{\"outlinewidth\":0,\"ticks\":\"\"},\"colorscale\":[[0.0,\"#0d0887\"],[0.1111111111111111,\"#46039f\"],[0.2222222222222222,\"#7201a8\"],[0.3333333333333333,\"#9c179e\"],[0.4444444444444444,\"#bd3786\"],[0.5555555555555556,\"#d8576b\"],[0.6666666666666666,\"#ed7953\"],[0.7777777777777778,\"#fb9f3a\"],[0.8888888888888888,\"#fdca26\"],[1.0,\"#f0f921\"]]}],\"contourcarpet\":[{\"type\":\"contourcarpet\",\"colorbar\":{\"outlinewidth\":0,\"ticks\":\"\"}}],\"contour\":[{\"type\":\"contour\",\"colorbar\":{\"outlinewidth\":0,\"ticks\":\"\"},\"colorscale\":[[0.0,\"#0d0887\"],[0.1111111111111111,\"#46039f\"],[0.2222222222222222,\"#7201a8\"],[0.3333333333333333,\"#9c179e\"],[0.4444444444444444,\"#bd3786\"],[0.5555555555555556,\"#d8576b\"],[0.6666666666666666,\"#ed7953\"],[0.7777777777777778,\"#fb9f3a\"],[0.8888888888888888,\"#fdca26\"],[1.0,\"#f0f921\"]]}],\"surface\":[{\"type\":\"surface\",\"colorbar\":{\"outlinewidth\":0,\"ticks\":\"\"},\"colorscale\":[[0.0,\"#0d0887\"],[0.1111111111111111,\"#46039f\"],[0.2222222222222222,\"#7201a8\"],[0.3333333333333333,\"#9c179e\"],[0.4444444444444444,\"#bd3786\"],[0.5555555555555556,\"#d8576b\"],[0.6666666666666666,\"#ed7953\"],[0.7777777777777778,\"#fb9f3a\"],[0.8888888888888888,\"#fdca26\"],[1.0,\"#f0f921\"]]}],\"mesh3d\":[{\"type\":\"mesh3d\",\"colorbar\":{\"outlinewidth\":0,\"ticks\":\"\"}}],\"scatter\":[{\"fillpattern\":{\"fillmode\":\"overlay\",\"size\":10,\"solidity\":0.2},\"type\":\"scatter\"}],\"parcoords\":[{\"type\":\"parcoords\",\"line\":{\"colorbar\":{\"outlinewidth\":0,\"ticks\":\"\"}}}],\"scatterpolargl\":[{\"type\":\"scatterpolargl\",\"marker\":{\"colorbar\":{\"outlinewidth\":0,\"ticks\":\"\"}}}],\"bar\":[{\"error_x\":{\"color\":\"#2a3f5f\"},\"error_y\":{\"color\":\"#2a3f5f\"},\"marker\":{\"line\":{\"color\":\"#E5ECF6\",\"width\":0.5},\"pattern\":{\"fillmode\":\"overlay\",\"size\":10,\"solidity\":0.2}},\"type\":\"bar\"}],\"scattergeo\":[{\"type\":\"scattergeo\",\"marker\":{\"colorbar\":{\"outlinewidth\":0,\"ticks\":\"\"}}}],\"scatterpolar\":[{\"type\":\"scatterpolar\",\"marker\":{\"colorbar\":{\"outlinewidth\":0,\"ticks\":\"\"}}}],\"histogram\":[{\"marker\":{\"pattern\":{\"fillmode\":\"overlay\",\"size\":10,\"solidity\":0.2}},\"type\":\"histogram\"}],\"scattergl\":[{\"type\":\"scattergl\",\"marker\":{\"colorbar\":{\"outlinewidth\":0,\"ticks\":\"\"}}}],\"scatter3d\":[{\"type\":\"scatter3d\",\"line\":{\"colorbar\":{\"outlinewidth\":0,\"ticks\":\"\"}},\"marker\":{\"colorbar\":{\"outlinewidth\":0,\"ticks\":\"\"}}}],\"scattermapbox\":[{\"type\":\"scattermapbox\",\"marker\":{\"colorbar\":{\"outlinewidth\":0,\"ticks\":\"\"}}}],\"scatterternary\":[{\"type\":\"scatterternary\",\"marker\":{\"colorbar\":{\"outlinewidth\":0,\"ticks\":\"\"}}}],\"scattercarpet\":[{\"type\":\"scattercarpet\",\"marker\":{\"colorbar\":{\"outlinewidth\":0,\"ticks\":\"\"}}}],\"carpet\":[{\"aaxis\":{\"endlinecolor\":\"#2a3f5f\",\"gridcolor\":\"white\",\"linecolor\":\"white\",\"minorgridcolor\":\"white\",\"startlinecolor\":\"#2a3f5f\"},\"baxis\":{\"endlinecolor\":\"#2a3f5f\",\"gridcolor\":\"white\",\"linecolor\":\"white\",\"minorgridcolor\":\"white\",\"startlinecolor\":\"#2a3f5f\"},\"type\":\"carpet\"}],\"table\":[{\"cells\":{\"fill\":{\"color\":\"#EBF0F8\"},\"line\":{\"color\":\"white\"}},\"header\":{\"fill\":{\"color\":\"#C8D4E3\"},\"line\":{\"color\":\"white\"}},\"type\":\"table\"}],\"barpolar\":[{\"marker\":{\"line\":{\"color\":\"#E5ECF6\",\"width\":0.5},\"pattern\":{\"fillmode\":\"overlay\",\"size\":10,\"solidity\":0.2}},\"type\":\"barpolar\"}],\"pie\":[{\"automargin\":true,\"type\":\"pie\"}]},\"layout\":{\"autotypenumbers\":\"strict\",\"colorway\":[\"#636efa\",\"#EF553B\",\"#00cc96\",\"#ab63fa\",\"#FFA15A\",\"#19d3f3\",\"#FF6692\",\"#B6E880\",\"#FF97FF\",\"#FECB52\"],\"font\":{\"color\":\"#2a3f5f\"},\"hovermode\":\"closest\",\"hoverlabel\":{\"align\":\"left\"},\"paper_bgcolor\":\"white\",\"plot_bgcolor\":\"#E5ECF6\",\"polar\":{\"bgcolor\":\"#E5ECF6\",\"angularaxis\":{\"gridcolor\":\"white\",\"linecolor\":\"white\",\"ticks\":\"\"},\"radialaxis\":{\"gridcolor\":\"white\",\"linecolor\":\"white\",\"ticks\":\"\"}},\"ternary\":{\"bgcolor\":\"#E5ECF6\",\"aaxis\":{\"gridcolor\":\"white\",\"linecolor\":\"white\",\"ticks\":\"\"},\"baxis\":{\"gridcolor\":\"white\",\"linecolor\":\"white\",\"ticks\":\"\"},\"caxis\":{\"gridcolor\":\"white\",\"linecolor\":\"white\",\"ticks\":\"\"}},\"coloraxis\":{\"colorbar\":{\"outlinewidth\":0,\"ticks\":\"\"}},\"colorscale\":{\"sequential\":[[0.0,\"#0d0887\"],[0.1111111111111111,\"#46039f\"],[0.2222222222222222,\"#7201a8\"],[0.3333333333333333,\"#9c179e\"],[0.4444444444444444,\"#bd3786\"],[0.5555555555555556,\"#d8576b\"],[0.6666666666666666,\"#ed7953\"],[0.7777777777777778,\"#fb9f3a\"],[0.8888888888888888,\"#fdca26\"],[1.0,\"#f0f921\"]],\"sequentialminus\":[[0.0,\"#0d0887\"],[0.1111111111111111,\"#46039f\"],[0.2222222222222222,\"#7201a8\"],[0.3333333333333333,\"#9c179e\"],[0.4444444444444444,\"#bd3786\"],[0.5555555555555556,\"#d8576b\"],[0.6666666666666666,\"#ed7953\"],[0.7777777777777778,\"#fb9f3a\"],[0.8888888888888888,\"#fdca26\"],[1.0,\"#f0f921\"]],\"diverging\":[[0,\"#8e0152\"],[0.1,\"#c51b7d\"],[0.2,\"#de77ae\"],[0.3,\"#f1b6da\"],[0.4,\"#fde0ef\"],[0.5,\"#f7f7f7\"],[0.6,\"#e6f5d0\"],[0.7,\"#b8e186\"],[0.8,\"#7fbc41\"],[0.9,\"#4d9221\"],[1,\"#276419\"]]},\"xaxis\":{\"gridcolor\":\"white\",\"linecolor\":\"white\",\"ticks\":\"\",\"title\":{\"standoff\":15},\"zerolinecolor\":\"white\",\"automargin\":true,\"zerolinewidth\":2},\"yaxis\":{\"gridcolor\":\"white\",\"linecolor\":\"white\",\"ticks\":\"\",\"title\":{\"standoff\":15},\"zerolinecolor\":\"white\",\"automargin\":true,\"zerolinewidth\":2},\"scene\":{\"xaxis\":{\"backgroundcolor\":\"#E5ECF6\",\"gridcolor\":\"white\",\"linecolor\":\"white\",\"showbackground\":true,\"ticks\":\"\",\"zerolinecolor\":\"white\",\"gridwidth\":2},\"yaxis\":{\"backgroundcolor\":\"#E5ECF6\",\"gridcolor\":\"white\",\"linecolor\":\"white\",\"showbackground\":true,\"ticks\":\"\",\"zerolinecolor\":\"white\",\"gridwidth\":2},\"zaxis\":{\"backgroundcolor\":\"#E5ECF6\",\"gridcolor\":\"white\",\"linecolor\":\"white\",\"showbackground\":true,\"ticks\":\"\",\"zerolinecolor\":\"white\",\"gridwidth\":2}},\"shapedefaults\":{\"line\":{\"color\":\"#2a3f5f\"}},\"annotationdefaults\":{\"arrowcolor\":\"#2a3f5f\",\"arrowhead\":0,\"arrowwidth\":1},\"geo\":{\"bgcolor\":\"white\",\"landcolor\":\"#E5ECF6\",\"subunitcolor\":\"white\",\"showland\":true,\"showlakes\":true,\"lakecolor\":\"white\"},\"title\":{\"x\":0.05},\"mapbox\":{\"style\":\"light\"}}},\"xaxis\":{\"anchor\":\"y\",\"domain\":[0.0,1.0],\"type\":\"date\"},\"yaxis\":{\"anchor\":\"x\",\"domain\":[0.0,1.0],\"title\":{\"text\":\"Driver\"},\"categoryorder\":\"array\",\"categoryarray\":[\"ALB\",\"BOT\",\"LEC\",\"STR\",\"SAI\",\"ALO\",\"GAS\",\"RIC\",\"RUS\",\"PIA\",\"HAM\",\"MAG\",\"HUL\",\"SAR\",\"ZHO\",\"VER\",\"NOR\",\"TSU\"]},\"legend\":{\"title\":{\"text\":\"Driver\"},\"tracegroupgap\":0},\"margin\":{\"t\":60},\"barmode\":\"overlay\",\"showlegend\":false,\"title\":{\"font\":{\"family\":\"Arial, sans-serif\",\"size\":30},\"text\":\"<b>Pit Strategy</b>\",\"x\":0.5}},                        {\"responsive\": true}                    ).then(function(){\n",
       "                            \n",
       "var gd = document.getElementById('39831b68-3203-43b0-95e3-d844a5069733');\n",
       "var x = new MutationObserver(function (mutations, observer) {{\n",
       "        var display = window.getComputedStyle(gd).display;\n",
       "        if (!display || display === 'none') {{\n",
       "            console.log([gd, 'removed!']);\n",
       "            Plotly.purge(gd);\n",
       "            observer.disconnect();\n",
       "        }}\n",
       "}});\n",
       "\n",
       "// Listen for the removal of the full notebook cells\n",
       "var notebookContainer = gd.closest('#notebook-container');\n",
       "if (notebookContainer) {{\n",
       "    x.observe(notebookContainer, {childList: true});\n",
       "}}\n",
       "\n",
       "// Listen for the clearing of the current output cell\n",
       "var outputEl = gd.closest('.output');\n",
       "if (outputEl) {{\n",
       "    x.observe(outputEl, {childList: true});\n",
       "}}\n",
       "\n",
       "                        })                };                });            </script>        </div>"
      ]
     },
     "metadata": {},
     "output_type": "display_data"
    }
   ],
   "source": [
    "if not pit_stop_emp:\n",
    "    fig = px.timeline(pit_stops[pit_stops['red_flag'] == 0], x_start=\"time_date\", x_end=\"time_end_date\", y=\"Driver\", color='Driver', color_discrete_map=color_map)\n",
    "    fig.update_layout(showlegend=False)\n",
    "    fig.update_layout(title_text='<b>Pit Strategy</b>', titlefont = dict(\n",
    "         family = 'Arial, sans-serif',\n",
    "         size = 30\n",
    "      ), title_x=0.5)\n",
    "    fig.show()\n",
    "else:\n",
    "    display(md(f\"<h1 style='background:#FFF200;border:0; color:black;box-shadow: 10px 10px 5px 0px rgba(0,0,0,0.75);transform: rotateX(10deg);'><center style='color: black;'>No Pit Data Available From API</center></h1>\"))"
   ]
  },
  {
   "cell_type": "code",
   "execution_count": 24,
   "id": "3fbd2726",
   "metadata": {
    "_kg_hide-input": true,
    "execution": {
     "iopub.execute_input": "2023-10-30T18:39:59.519808Z",
     "iopub.status.busy": "2023-10-30T18:39:59.519246Z",
     "iopub.status.idle": "2023-10-30T18:39:59.635442Z",
     "shell.execute_reply": "2023-10-30T18:39:59.634114Z"
    },
    "papermill": {
     "duration": 0.132944,
     "end_time": "2023-10-30T18:39:59.637701",
     "exception": false,
     "start_time": "2023-10-30T18:39:59.504757",
     "status": "completed"
    },
    "tags": []
   },
   "outputs": [
    {
     "data": {
      "text/html": [
       "<div>                            <div id=\"999c79e9-1741-4746-a091-ffe9de21f152\" class=\"plotly-graph-div\" style=\"height:525px; width:100%;\"></div>            <script type=\"text/javascript\">                require([\"plotly\"], function(Plotly) {                    window.PLOTLYENV=window.PLOTLYENV || {};                                    if (document.getElementById(\"999c79e9-1741-4746-a091-ffe9de21f152\")) {                    Plotly.newPlot(                        \"999c79e9-1741-4746-a091-ffe9de21f152\",                        [{\"alignmentgroup\":\"True\",\"base\":[\"2023-10-29T14:52:56\"],\"hovertemplate\":\"Driver=%{y}<br>time_date=%{base}<br>time_end_date=%{x}<extra></extra>\",\"legendgroup\":\"VER\",\"marker\":{\"color\":\"#000B8D\",\"pattern\":{\"shape\":\"\"}},\"name\":\"VER\",\"offsetgroup\":\"VER\",\"orientation\":\"h\",\"showlegend\":true,\"textposition\":\"auto\",\"x\":[1209136.0],\"xaxis\":\"x\",\"y\":[\"VER\"],\"yaxis\":\"y\",\"type\":\"bar\"},{\"alignmentgroup\":\"True\",\"base\":[\"2023-10-29T14:52:57\"],\"hovertemplate\":\"Driver=%{y}<br>time_date=%{base}<br>time_end_date=%{x}<extra></extra>\",\"legendgroup\":\"LEC\",\"marker\":{\"color\":\"#EF1A2D\",\"pattern\":{\"shape\":\"\"}},\"name\":\"LEC\",\"offsetgroup\":\"LEC\",\"orientation\":\"h\",\"showlegend\":true,\"textposition\":\"auto\",\"x\":[1210512.0],\"xaxis\":\"x\",\"y\":[\"LEC\"],\"yaxis\":\"y\",\"type\":\"bar\"},{\"alignmentgroup\":\"True\",\"base\":[\"2023-10-29T14:52:59\"],\"hovertemplate\":\"Driver=%{y}<br>time_date=%{base}<br>time_end_date=%{x}<extra></extra>\",\"legendgroup\":\"HAM\",\"marker\":{\"color\":\"#00A19B\",\"pattern\":{\"shape\":\"\"}},\"name\":\"HAM\",\"offsetgroup\":\"HAM\",\"orientation\":\"h\",\"showlegend\":true,\"textposition\":\"auto\",\"x\":[1212908.0],\"xaxis\":\"x\",\"y\":[\"HAM\"],\"yaxis\":\"y\",\"type\":\"bar\"},{\"alignmentgroup\":\"True\",\"base\":[\"2023-10-29T14:53:00\"],\"hovertemplate\":\"Driver=%{y}<br>time_date=%{base}<br>time_end_date=%{x}<extra></extra>\",\"legendgroup\":\"SAI\",\"marker\":{\"color\":\"#EF1A2D\",\"pattern\":{\"shape\":\"\"}},\"name\":\"SAI\",\"offsetgroup\":\"SAI\",\"orientation\":\"h\",\"showlegend\":true,\"textposition\":\"auto\",\"x\":[1215432.0],\"xaxis\":\"x\",\"y\":[\"SAI\"],\"yaxis\":\"y\",\"type\":\"bar\"},{\"alignmentgroup\":\"True\",\"base\":[\"2023-10-29T14:53:02\"],\"hovertemplate\":\"Driver=%{y}<br>time_date=%{base}<br>time_end_date=%{x}<extra></extra>\",\"legendgroup\":\"RIC\",\"marker\":{\"color\":\"#20394C\",\"pattern\":{\"shape\":\"\"}},\"name\":\"RIC\",\"offsetgroup\":\"RIC\",\"orientation\":\"h\",\"showlegend\":true,\"textposition\":\"auto\",\"x\":[1217136.0],\"xaxis\":\"x\",\"y\":[\"RIC\"],\"yaxis\":\"y\",\"type\":\"bar\"},{\"alignmentgroup\":\"True\",\"base\":[\"2023-10-29T14:53:04\"],\"hovertemplate\":\"Driver=%{y}<br>time_date=%{base}<br>time_end_date=%{x}<extra></extra>\",\"legendgroup\":\"PIA\",\"marker\":{\"color\":\"#FF8000\",\"pattern\":{\"shape\":\"\"}},\"name\":\"PIA\",\"offsetgroup\":\"PIA\",\"orientation\":\"h\",\"showlegend\":true,\"textposition\":\"auto\",\"x\":[1219064.0],\"xaxis\":\"x\",\"y\":[\"PIA\"],\"yaxis\":\"y\",\"type\":\"bar\"},{\"alignmentgroup\":\"True\",\"base\":[\"2023-10-29T14:53:10\"],\"hovertemplate\":\"Driver=%{y}<br>time_date=%{base}<br>time_end_date=%{x}<extra></extra>\",\"legendgroup\":\"RUS\",\"marker\":{\"color\":\"#00A19B\",\"pattern\":{\"shape\":\"\"}},\"name\":\"RUS\",\"offsetgroup\":\"RUS\",\"orientation\":\"h\",\"showlegend\":true,\"textposition\":\"auto\",\"x\":[1218200.0],\"xaxis\":\"x\",\"y\":[\"RUS\"],\"yaxis\":\"y\",\"type\":\"bar\"},{\"alignmentgroup\":\"True\",\"base\":[\"2023-10-29T14:53:13\"],\"hovertemplate\":\"Driver=%{y}<br>time_date=%{base}<br>time_end_date=%{x}<extra></extra>\",\"legendgroup\":\"TSU\",\"marker\":{\"color\":\"#20394C\",\"pattern\":{\"shape\":\"\"}},\"name\":\"TSU\",\"offsetgroup\":\"TSU\",\"orientation\":\"h\",\"showlegend\":true,\"textposition\":\"auto\",\"x\":[1218057.0],\"xaxis\":\"x\",\"y\":[\"TSU\"],\"yaxis\":\"y\",\"type\":\"bar\"},{\"alignmentgroup\":\"True\",\"base\":[\"2023-10-29T14:53:15\"],\"hovertemplate\":\"Driver=%{y}<br>time_date=%{base}<br>time_end_date=%{x}<extra></extra>\",\"legendgroup\":\"HUL\",\"marker\":{\"color\":\"#E6002B\",\"pattern\":{\"shape\":\"\"}},\"name\":\"HUL\",\"offsetgroup\":\"HUL\",\"orientation\":\"h\",\"showlegend\":true,\"textposition\":\"auto\",\"x\":[1219826.0],\"xaxis\":\"x\",\"y\":[\"HUL\"],\"yaxis\":\"y\",\"type\":\"bar\"},{\"alignmentgroup\":\"True\",\"base\":[\"2023-10-29T14:53:17\"],\"hovertemplate\":\"Driver=%{y}<br>time_date=%{base}<br>time_end_date=%{x}<extra></extra>\",\"legendgroup\":\"NOR\",\"marker\":{\"color\":\"#FF8000\",\"pattern\":{\"shape\":\"\"}},\"name\":\"NOR\",\"offsetgroup\":\"NOR\",\"orientation\":\"h\",\"showlegend\":true,\"textposition\":\"auto\",\"x\":[1226386.0],\"xaxis\":\"x\",\"y\":[\"NOR\"],\"yaxis\":\"y\",\"type\":\"bar\"},{\"alignmentgroup\":\"True\",\"base\":[\"2023-10-29T14:53:20\"],\"hovertemplate\":\"Driver=%{y}<br>time_date=%{base}<br>time_end_date=%{x}<extra></extra>\",\"legendgroup\":\"GAS\",\"marker\":{\"color\":\"#2173B8\",\"pattern\":{\"shape\":\"\"}},\"name\":\"GAS\",\"offsetgroup\":\"GAS\",\"orientation\":\"h\",\"showlegend\":true,\"textposition\":\"auto\",\"x\":[1225698.0],\"xaxis\":\"x\",\"y\":[\"GAS\"],\"yaxis\":\"y\",\"type\":\"bar\"},{\"alignmentgroup\":\"True\",\"base\":[\"2023-10-29T14:53:22\"],\"hovertemplate\":\"Driver=%{y}<br>time_date=%{base}<br>time_end_date=%{x}<extra></extra>\",\"legendgroup\":\"ALB\",\"marker\":{\"color\":\"#00A0DE\",\"pattern\":{\"shape\":\"\"}},\"name\":\"ALB\",\"offsetgroup\":\"ALB\",\"orientation\":\"h\",\"showlegend\":true,\"textposition\":\"auto\",\"x\":[1227980.0],\"xaxis\":\"x\",\"y\":[\"ALB\"],\"yaxis\":\"y\",\"type\":\"bar\"},{\"alignmentgroup\":\"True\",\"base\":[\"2023-10-29T14:53:24\"],\"hovertemplate\":\"Driver=%{y}<br>time_date=%{base}<br>time_end_date=%{x}<extra></extra>\",\"legendgroup\":\"ZHO\",\"marker\":{\"color\":\"#A42134\",\"pattern\":{\"shape\":\"\"}},\"name\":\"ZHO\",\"offsetgroup\":\"ZHO\",\"orientation\":\"h\",\"showlegend\":true,\"textposition\":\"auto\",\"x\":[1229539.0],\"xaxis\":\"x\",\"y\":[\"ZHO\"],\"yaxis\":\"y\",\"type\":\"bar\"},{\"alignmentgroup\":\"True\",\"base\":[\"2023-10-29T14:53:30\"],\"hovertemplate\":\"Driver=%{y}<br>time_date=%{base}<br>time_end_date=%{x}<extra></extra>\",\"legendgroup\":\"OCO\",\"marker\":{\"color\":\"#2173B8\",\"pattern\":{\"shape\":\"\"}},\"name\":\"OCO\",\"offsetgroup\":\"OCO\",\"orientation\":\"h\",\"showlegend\":true,\"textposition\":\"auto\",\"x\":[1226296.0],\"xaxis\":\"x\",\"y\":[\"OCO\"],\"yaxis\":\"y\",\"type\":\"bar\"},{\"alignmentgroup\":\"True\",\"base\":[\"2023-10-29T14:53:33\"],\"hovertemplate\":\"Driver=%{y}<br>time_date=%{base}<br>time_end_date=%{x}<extra></extra>\",\"legendgroup\":\"SAR\",\"marker\":{\"color\":\"#00A0DE\",\"pattern\":{\"shape\":\"\"}},\"name\":\"SAR\",\"offsetgroup\":\"SAR\",\"orientation\":\"h\",\"showlegend\":true,\"textposition\":\"auto\",\"x\":[1227718.0],\"xaxis\":\"x\",\"y\":[\"SAR\"],\"yaxis\":\"y\",\"type\":\"bar\"},{\"alignmentgroup\":\"True\",\"base\":[\"2023-10-29T14:53:35\"],\"hovertemplate\":\"Driver=%{y}<br>time_date=%{base}<br>time_end_date=%{x}<extra></extra>\",\"legendgroup\":\"BOT\",\"marker\":{\"color\":\"#A42134\",\"pattern\":{\"shape\":\"\"}},\"name\":\"BOT\",\"offsetgroup\":\"BOT\",\"orientation\":\"h\",\"showlegend\":true,\"textposition\":\"auto\",\"x\":[1229349.0],\"xaxis\":\"x\",\"y\":[\"BOT\"],\"yaxis\":\"y\",\"type\":\"bar\"},{\"alignmentgroup\":\"True\",\"base\":[\"2023-10-29T14:53:38\"],\"hovertemplate\":\"Driver=%{y}<br>time_date=%{base}<br>time_end_date=%{x}<extra></extra>\",\"legendgroup\":\"STR\",\"marker\":{\"color\":\"#002420\",\"pattern\":{\"shape\":\"\"}},\"name\":\"STR\",\"offsetgroup\":\"STR\",\"orientation\":\"h\",\"showlegend\":true,\"textposition\":\"auto\",\"x\":[1229686.0],\"xaxis\":\"x\",\"y\":[\"STR\"],\"yaxis\":\"y\",\"type\":\"bar\"},{\"alignmentgroup\":\"True\",\"base\":[\"2023-10-29T14:53:42\"],\"hovertemplate\":\"Driver=%{y}<br>time_date=%{base}<br>time_end_date=%{x}<extra></extra>\",\"legendgroup\":\"ALO\",\"marker\":{\"color\":\"#002420\",\"pattern\":{\"shape\":\"\"}},\"name\":\"ALO\",\"offsetgroup\":\"ALO\",\"orientation\":\"h\",\"showlegend\":true,\"textposition\":\"auto\",\"x\":[1229837.0],\"xaxis\":\"x\",\"y\":[\"ALO\"],\"yaxis\":\"y\",\"type\":\"bar\"}],                        {\"template\":{\"data\":{\"histogram2dcontour\":[{\"type\":\"histogram2dcontour\",\"colorbar\":{\"outlinewidth\":0,\"ticks\":\"\"},\"colorscale\":[[0.0,\"#0d0887\"],[0.1111111111111111,\"#46039f\"],[0.2222222222222222,\"#7201a8\"],[0.3333333333333333,\"#9c179e\"],[0.4444444444444444,\"#bd3786\"],[0.5555555555555556,\"#d8576b\"],[0.6666666666666666,\"#ed7953\"],[0.7777777777777778,\"#fb9f3a\"],[0.8888888888888888,\"#fdca26\"],[1.0,\"#f0f921\"]]}],\"choropleth\":[{\"type\":\"choropleth\",\"colorbar\":{\"outlinewidth\":0,\"ticks\":\"\"}}],\"histogram2d\":[{\"type\":\"histogram2d\",\"colorbar\":{\"outlinewidth\":0,\"ticks\":\"\"},\"colorscale\":[[0.0,\"#0d0887\"],[0.1111111111111111,\"#46039f\"],[0.2222222222222222,\"#7201a8\"],[0.3333333333333333,\"#9c179e\"],[0.4444444444444444,\"#bd3786\"],[0.5555555555555556,\"#d8576b\"],[0.6666666666666666,\"#ed7953\"],[0.7777777777777778,\"#fb9f3a\"],[0.8888888888888888,\"#fdca26\"],[1.0,\"#f0f921\"]]}],\"heatmap\":[{\"type\":\"heatmap\",\"colorbar\":{\"outlinewidth\":0,\"ticks\":\"\"},\"colorscale\":[[0.0,\"#0d0887\"],[0.1111111111111111,\"#46039f\"],[0.2222222222222222,\"#7201a8\"],[0.3333333333333333,\"#9c179e\"],[0.4444444444444444,\"#bd3786\"],[0.5555555555555556,\"#d8576b\"],[0.6666666666666666,\"#ed7953\"],[0.7777777777777778,\"#fb9f3a\"],[0.8888888888888888,\"#fdca26\"],[1.0,\"#f0f921\"]]}],\"heatmapgl\":[{\"type\":\"heatmapgl\",\"colorbar\":{\"outlinewidth\":0,\"ticks\":\"\"},\"colorscale\":[[0.0,\"#0d0887\"],[0.1111111111111111,\"#46039f\"],[0.2222222222222222,\"#7201a8\"],[0.3333333333333333,\"#9c179e\"],[0.4444444444444444,\"#bd3786\"],[0.5555555555555556,\"#d8576b\"],[0.6666666666666666,\"#ed7953\"],[0.7777777777777778,\"#fb9f3a\"],[0.8888888888888888,\"#fdca26\"],[1.0,\"#f0f921\"]]}],\"contourcarpet\":[{\"type\":\"contourcarpet\",\"colorbar\":{\"outlinewidth\":0,\"ticks\":\"\"}}],\"contour\":[{\"type\":\"contour\",\"colorbar\":{\"outlinewidth\":0,\"ticks\":\"\"},\"colorscale\":[[0.0,\"#0d0887\"],[0.1111111111111111,\"#46039f\"],[0.2222222222222222,\"#7201a8\"],[0.3333333333333333,\"#9c179e\"],[0.4444444444444444,\"#bd3786\"],[0.5555555555555556,\"#d8576b\"],[0.6666666666666666,\"#ed7953\"],[0.7777777777777778,\"#fb9f3a\"],[0.8888888888888888,\"#fdca26\"],[1.0,\"#f0f921\"]]}],\"surface\":[{\"type\":\"surface\",\"colorbar\":{\"outlinewidth\":0,\"ticks\":\"\"},\"colorscale\":[[0.0,\"#0d0887\"],[0.1111111111111111,\"#46039f\"],[0.2222222222222222,\"#7201a8\"],[0.3333333333333333,\"#9c179e\"],[0.4444444444444444,\"#bd3786\"],[0.5555555555555556,\"#d8576b\"],[0.6666666666666666,\"#ed7953\"],[0.7777777777777778,\"#fb9f3a\"],[0.8888888888888888,\"#fdca26\"],[1.0,\"#f0f921\"]]}],\"mesh3d\":[{\"type\":\"mesh3d\",\"colorbar\":{\"outlinewidth\":0,\"ticks\":\"\"}}],\"scatter\":[{\"fillpattern\":{\"fillmode\":\"overlay\",\"size\":10,\"solidity\":0.2},\"type\":\"scatter\"}],\"parcoords\":[{\"type\":\"parcoords\",\"line\":{\"colorbar\":{\"outlinewidth\":0,\"ticks\":\"\"}}}],\"scatterpolargl\":[{\"type\":\"scatterpolargl\",\"marker\":{\"colorbar\":{\"outlinewidth\":0,\"ticks\":\"\"}}}],\"bar\":[{\"error_x\":{\"color\":\"#2a3f5f\"},\"error_y\":{\"color\":\"#2a3f5f\"},\"marker\":{\"line\":{\"color\":\"#E5ECF6\",\"width\":0.5},\"pattern\":{\"fillmode\":\"overlay\",\"size\":10,\"solidity\":0.2}},\"type\":\"bar\"}],\"scattergeo\":[{\"type\":\"scattergeo\",\"marker\":{\"colorbar\":{\"outlinewidth\":0,\"ticks\":\"\"}}}],\"scatterpolar\":[{\"type\":\"scatterpolar\",\"marker\":{\"colorbar\":{\"outlinewidth\":0,\"ticks\":\"\"}}}],\"histogram\":[{\"marker\":{\"pattern\":{\"fillmode\":\"overlay\",\"size\":10,\"solidity\":0.2}},\"type\":\"histogram\"}],\"scattergl\":[{\"type\":\"scattergl\",\"marker\":{\"colorbar\":{\"outlinewidth\":0,\"ticks\":\"\"}}}],\"scatter3d\":[{\"type\":\"scatter3d\",\"line\":{\"colorbar\":{\"outlinewidth\":0,\"ticks\":\"\"}},\"marker\":{\"colorbar\":{\"outlinewidth\":0,\"ticks\":\"\"}}}],\"scattermapbox\":[{\"type\":\"scattermapbox\",\"marker\":{\"colorbar\":{\"outlinewidth\":0,\"ticks\":\"\"}}}],\"scatterternary\":[{\"type\":\"scatterternary\",\"marker\":{\"colorbar\":{\"outlinewidth\":0,\"ticks\":\"\"}}}],\"scattercarpet\":[{\"type\":\"scattercarpet\",\"marker\":{\"colorbar\":{\"outlinewidth\":0,\"ticks\":\"\"}}}],\"carpet\":[{\"aaxis\":{\"endlinecolor\":\"#2a3f5f\",\"gridcolor\":\"white\",\"linecolor\":\"white\",\"minorgridcolor\":\"white\",\"startlinecolor\":\"#2a3f5f\"},\"baxis\":{\"endlinecolor\":\"#2a3f5f\",\"gridcolor\":\"white\",\"linecolor\":\"white\",\"minorgridcolor\":\"white\",\"startlinecolor\":\"#2a3f5f\"},\"type\":\"carpet\"}],\"table\":[{\"cells\":{\"fill\":{\"color\":\"#EBF0F8\"},\"line\":{\"color\":\"white\"}},\"header\":{\"fill\":{\"color\":\"#C8D4E3\"},\"line\":{\"color\":\"white\"}},\"type\":\"table\"}],\"barpolar\":[{\"marker\":{\"line\":{\"color\":\"#E5ECF6\",\"width\":0.5},\"pattern\":{\"fillmode\":\"overlay\",\"size\":10,\"solidity\":0.2}},\"type\":\"barpolar\"}],\"pie\":[{\"automargin\":true,\"type\":\"pie\"}]},\"layout\":{\"autotypenumbers\":\"strict\",\"colorway\":[\"#636efa\",\"#EF553B\",\"#00cc96\",\"#ab63fa\",\"#FFA15A\",\"#19d3f3\",\"#FF6692\",\"#B6E880\",\"#FF97FF\",\"#FECB52\"],\"font\":{\"color\":\"#2a3f5f\"},\"hovermode\":\"closest\",\"hoverlabel\":{\"align\":\"left\"},\"paper_bgcolor\":\"white\",\"plot_bgcolor\":\"#E5ECF6\",\"polar\":{\"bgcolor\":\"#E5ECF6\",\"angularaxis\":{\"gridcolor\":\"white\",\"linecolor\":\"white\",\"ticks\":\"\"},\"radialaxis\":{\"gridcolor\":\"white\",\"linecolor\":\"white\",\"ticks\":\"\"}},\"ternary\":{\"bgcolor\":\"#E5ECF6\",\"aaxis\":{\"gridcolor\":\"white\",\"linecolor\":\"white\",\"ticks\":\"\"},\"baxis\":{\"gridcolor\":\"white\",\"linecolor\":\"white\",\"ticks\":\"\"},\"caxis\":{\"gridcolor\":\"white\",\"linecolor\":\"white\",\"ticks\":\"\"}},\"coloraxis\":{\"colorbar\":{\"outlinewidth\":0,\"ticks\":\"\"}},\"colorscale\":{\"sequential\":[[0.0,\"#0d0887\"],[0.1111111111111111,\"#46039f\"],[0.2222222222222222,\"#7201a8\"],[0.3333333333333333,\"#9c179e\"],[0.4444444444444444,\"#bd3786\"],[0.5555555555555556,\"#d8576b\"],[0.6666666666666666,\"#ed7953\"],[0.7777777777777778,\"#fb9f3a\"],[0.8888888888888888,\"#fdca26\"],[1.0,\"#f0f921\"]],\"sequentialminus\":[[0.0,\"#0d0887\"],[0.1111111111111111,\"#46039f\"],[0.2222222222222222,\"#7201a8\"],[0.3333333333333333,\"#9c179e\"],[0.4444444444444444,\"#bd3786\"],[0.5555555555555556,\"#d8576b\"],[0.6666666666666666,\"#ed7953\"],[0.7777777777777778,\"#fb9f3a\"],[0.8888888888888888,\"#fdca26\"],[1.0,\"#f0f921\"]],\"diverging\":[[0,\"#8e0152\"],[0.1,\"#c51b7d\"],[0.2,\"#de77ae\"],[0.3,\"#f1b6da\"],[0.4,\"#fde0ef\"],[0.5,\"#f7f7f7\"],[0.6,\"#e6f5d0\"],[0.7,\"#b8e186\"],[0.8,\"#7fbc41\"],[0.9,\"#4d9221\"],[1,\"#276419\"]]},\"xaxis\":{\"gridcolor\":\"white\",\"linecolor\":\"white\",\"ticks\":\"\",\"title\":{\"standoff\":15},\"zerolinecolor\":\"white\",\"automargin\":true,\"zerolinewidth\":2},\"yaxis\":{\"gridcolor\":\"white\",\"linecolor\":\"white\",\"ticks\":\"\",\"title\":{\"standoff\":15},\"zerolinecolor\":\"white\",\"automargin\":true,\"zerolinewidth\":2},\"scene\":{\"xaxis\":{\"backgroundcolor\":\"#E5ECF6\",\"gridcolor\":\"white\",\"linecolor\":\"white\",\"showbackground\":true,\"ticks\":\"\",\"zerolinecolor\":\"white\",\"gridwidth\":2},\"yaxis\":{\"backgroundcolor\":\"#E5ECF6\",\"gridcolor\":\"white\",\"linecolor\":\"white\",\"showbackground\":true,\"ticks\":\"\",\"zerolinecolor\":\"white\",\"gridwidth\":2},\"zaxis\":{\"backgroundcolor\":\"#E5ECF6\",\"gridcolor\":\"white\",\"linecolor\":\"white\",\"showbackground\":true,\"ticks\":\"\",\"zerolinecolor\":\"white\",\"gridwidth\":2}},\"shapedefaults\":{\"line\":{\"color\":\"#2a3f5f\"}},\"annotationdefaults\":{\"arrowcolor\":\"#2a3f5f\",\"arrowhead\":0,\"arrowwidth\":1},\"geo\":{\"bgcolor\":\"white\",\"landcolor\":\"#E5ECF6\",\"subunitcolor\":\"white\",\"showland\":true,\"showlakes\":true,\"lakecolor\":\"white\"},\"title\":{\"x\":0.05},\"mapbox\":{\"style\":\"light\"}}},\"xaxis\":{\"anchor\":\"y\",\"domain\":[0.0,1.0],\"type\":\"date\"},\"yaxis\":{\"anchor\":\"x\",\"domain\":[0.0,1.0],\"title\":{\"text\":\"Driver\"},\"categoryorder\":\"array\",\"categoryarray\":[\"ALO\",\"STR\",\"BOT\",\"SAR\",\"OCO\",\"ZHO\",\"ALB\",\"GAS\",\"NOR\",\"HUL\",\"TSU\",\"RUS\",\"PIA\",\"RIC\",\"SAI\",\"HAM\",\"LEC\",\"VER\"]},\"legend\":{\"title\":{\"text\":\"Driver\"},\"tracegroupgap\":0},\"margin\":{\"t\":60},\"barmode\":\"overlay\",\"showlegend\":false,\"title\":{\"font\":{\"family\":\"Arial, sans-serif\",\"size\":30},\"text\":\"<b>Red Flag Stops</b>\",\"x\":0.5}},                        {\"responsive\": true}                    ).then(function(){\n",
       "                            \n",
       "var gd = document.getElementById('999c79e9-1741-4746-a091-ffe9de21f152');\n",
       "var x = new MutationObserver(function (mutations, observer) {{\n",
       "        var display = window.getComputedStyle(gd).display;\n",
       "        if (!display || display === 'none') {{\n",
       "            console.log([gd, 'removed!']);\n",
       "            Plotly.purge(gd);\n",
       "            observer.disconnect();\n",
       "        }}\n",
       "}});\n",
       "\n",
       "// Listen for the removal of the full notebook cells\n",
       "var notebookContainer = gd.closest('#notebook-container');\n",
       "if (notebookContainer) {{\n",
       "    x.observe(notebookContainer, {childList: true});\n",
       "}}\n",
       "\n",
       "// Listen for the clearing of the current output cell\n",
       "var outputEl = gd.closest('.output');\n",
       "if (outputEl) {{\n",
       "    x.observe(outputEl, {childList: true});\n",
       "}}\n",
       "\n",
       "                        })                };                });            </script>        </div>"
      ]
     },
     "metadata": {},
     "output_type": "display_data"
    }
   ],
   "source": [
    "#Red Flags\n",
    "if pit_stop_emp:\n",
    "    display(md(f\"<h1 style='background:#FFF200;border:0; color:black;box-shadow: 10px 10px 5px 0px rgba(0,0,0,0.75);transform: rotateX(10deg);'><center style='color: black;'>No Pit Data Available From API</center></h1>\"))\n",
    "elif not pit_stops[pit_stops['red_flag'] == 1].empty:\n",
    "    fig = px.timeline(pit_stops[pit_stops['red_flag'] == 1], x_start=\"time_date\", x_end=\"time_end_date\", y=\"Driver\", color='Driver', color_discrete_map=color_map)\n",
    "    fig.update_layout(showlegend=False)\n",
    "    fig.update_layout(title_text='<b>Red Flag Stops</b>', titlefont = dict(\n",
    "         family = 'Arial, sans-serif',\n",
    "         size = 30\n",
    "      ), title_x=0.5)\n",
    "    fig.show()"
   ]
  },
  {
   "cell_type": "code",
   "execution_count": 25,
   "id": "f19f0ded",
   "metadata": {
    "_kg_hide-input": true,
    "execution": {
     "iopub.execute_input": "2023-10-30T18:39:59.665662Z",
     "iopub.status.busy": "2023-10-30T18:39:59.665299Z",
     "iopub.status.idle": "2023-10-30T18:39:59.703303Z",
     "shell.execute_reply": "2023-10-30T18:39:59.702071Z"
    },
    "papermill": {
     "duration": 0.054656,
     "end_time": "2023-10-30T18:39:59.705616",
     "exception": false,
     "start_time": "2023-10-30T18:39:59.650960",
     "status": "completed"
    },
    "tags": []
   },
   "outputs": [
    {
     "data": {
      "text/html": [
       "<div>                            <div id=\"cf55cb3d-f99b-42f7-a2d1-0c0132b0f4f3\" class=\"plotly-graph-div\" style=\"height:525px; width:100%;\"></div>            <script type=\"text/javascript\">                require([\"plotly\"], function(Plotly) {                    window.PLOTLYENV=window.PLOTLYENV || {};                                    if (document.getElementById(\"cf55cb3d-f99b-42f7-a2d1-0c0132b0f4f3\")) {                    Plotly.newPlot(                        \"cf55cb3d-f99b-42f7-a2d1-0c0132b0f4f3\",                        [{\"name\":\"Max Pit\",\"x\":[\"ALB\",\"ALO\",\"BOT\",\"GAS\",\"HAM\",\"HUL\",\"LEC\",\"MAG\",\"NOR\",\"PIA\",\"RIC\",\"RUS\",\"SAI\",\"SAR\",\"STR\",\"TSU\",\"VER\",\"ZHO\"],\"y\":[22.067,22.21,22.248,22.311,22.406,22.427,22.582,22.627,22.817,22.844,23.144,23.408,23.638,23.642,23.68,23.734,23.945,30.121],\"type\":\"bar\"},{\"name\":\"Avg PIt\",\"x\":[\"ALB\",\"ALO\",\"BOT\",\"GAS\",\"HAM\",\"HUL\",\"LEC\",\"MAG\",\"NOR\",\"PIA\",\"RIC\",\"RUS\",\"SAI\",\"SAR\",\"STR\",\"TSU\",\"VER\",\"ZHO\"],\"y\":[22.067,22.21,22.248,22.311,22.406,22.3995,22.582,22.627,22.817,22.844,23.144,22.985500000000002,23.638,23.642,23.68,23.734,23.945,30.121],\"type\":\"bar\"},{\"name\":\"Min PIt\",\"x\":[\"ALB\",\"ALO\",\"BOT\",\"GAS\",\"HAM\",\"HUL\",\"LEC\",\"MAG\",\"NOR\",\"PIA\",\"RIC\",\"RUS\",\"SAI\",\"SAR\",\"STR\",\"TSU\",\"VER\",\"ZHO\"],\"y\":[22.067,22.21,22.248,22.311,22.406,22.372,22.582,22.627,22.817,22.844,23.144,22.563,23.638,23.642,23.68,23.734,23.945,30.121],\"type\":\"bar\"}],                        {\"barmode\":\"overlay\",\"template\":{\"data\":{\"barpolar\":[{\"marker\":{\"line\":{\"color\":\"#E5ECF6\",\"width\":0.5},\"pattern\":{\"fillmode\":\"overlay\",\"size\":10,\"solidity\":0.2}},\"type\":\"barpolar\"}],\"bar\":[{\"error_x\":{\"color\":\"#2a3f5f\"},\"error_y\":{\"color\":\"#2a3f5f\"},\"marker\":{\"line\":{\"color\":\"#E5ECF6\",\"width\":0.5},\"pattern\":{\"fillmode\":\"overlay\",\"size\":10,\"solidity\":0.2}},\"type\":\"bar\"}],\"carpet\":[{\"aaxis\":{\"endlinecolor\":\"#2a3f5f\",\"gridcolor\":\"white\",\"linecolor\":\"white\",\"minorgridcolor\":\"white\",\"startlinecolor\":\"#2a3f5f\"},\"baxis\":{\"endlinecolor\":\"#2a3f5f\",\"gridcolor\":\"white\",\"linecolor\":\"white\",\"minorgridcolor\":\"white\",\"startlinecolor\":\"#2a3f5f\"},\"type\":\"carpet\"}],\"choropleth\":[{\"colorbar\":{\"outlinewidth\":0,\"ticks\":\"\"},\"type\":\"choropleth\"}],\"contourcarpet\":[{\"colorbar\":{\"outlinewidth\":0,\"ticks\":\"\"},\"type\":\"contourcarpet\"}],\"contour\":[{\"colorbar\":{\"outlinewidth\":0,\"ticks\":\"\"},\"colorscale\":[[0.0,\"#0d0887\"],[0.1111111111111111,\"#46039f\"],[0.2222222222222222,\"#7201a8\"],[0.3333333333333333,\"#9c179e\"],[0.4444444444444444,\"#bd3786\"],[0.5555555555555556,\"#d8576b\"],[0.6666666666666666,\"#ed7953\"],[0.7777777777777778,\"#fb9f3a\"],[0.8888888888888888,\"#fdca26\"],[1.0,\"#f0f921\"]],\"type\":\"contour\"}],\"heatmapgl\":[{\"colorbar\":{\"outlinewidth\":0,\"ticks\":\"\"},\"colorscale\":[[0.0,\"#0d0887\"],[0.1111111111111111,\"#46039f\"],[0.2222222222222222,\"#7201a8\"],[0.3333333333333333,\"#9c179e\"],[0.4444444444444444,\"#bd3786\"],[0.5555555555555556,\"#d8576b\"],[0.6666666666666666,\"#ed7953\"],[0.7777777777777778,\"#fb9f3a\"],[0.8888888888888888,\"#fdca26\"],[1.0,\"#f0f921\"]],\"type\":\"heatmapgl\"}],\"heatmap\":[{\"colorbar\":{\"outlinewidth\":0,\"ticks\":\"\"},\"colorscale\":[[0.0,\"#0d0887\"],[0.1111111111111111,\"#46039f\"],[0.2222222222222222,\"#7201a8\"],[0.3333333333333333,\"#9c179e\"],[0.4444444444444444,\"#bd3786\"],[0.5555555555555556,\"#d8576b\"],[0.6666666666666666,\"#ed7953\"],[0.7777777777777778,\"#fb9f3a\"],[0.8888888888888888,\"#fdca26\"],[1.0,\"#f0f921\"]],\"type\":\"heatmap\"}],\"histogram2dcontour\":[{\"colorbar\":{\"outlinewidth\":0,\"ticks\":\"\"},\"colorscale\":[[0.0,\"#0d0887\"],[0.1111111111111111,\"#46039f\"],[0.2222222222222222,\"#7201a8\"],[0.3333333333333333,\"#9c179e\"],[0.4444444444444444,\"#bd3786\"],[0.5555555555555556,\"#d8576b\"],[0.6666666666666666,\"#ed7953\"],[0.7777777777777778,\"#fb9f3a\"],[0.8888888888888888,\"#fdca26\"],[1.0,\"#f0f921\"]],\"type\":\"histogram2dcontour\"}],\"histogram2d\":[{\"colorbar\":{\"outlinewidth\":0,\"ticks\":\"\"},\"colorscale\":[[0.0,\"#0d0887\"],[0.1111111111111111,\"#46039f\"],[0.2222222222222222,\"#7201a8\"],[0.3333333333333333,\"#9c179e\"],[0.4444444444444444,\"#bd3786\"],[0.5555555555555556,\"#d8576b\"],[0.6666666666666666,\"#ed7953\"],[0.7777777777777778,\"#fb9f3a\"],[0.8888888888888888,\"#fdca26\"],[1.0,\"#f0f921\"]],\"type\":\"histogram2d\"}],\"histogram\":[{\"marker\":{\"pattern\":{\"fillmode\":\"overlay\",\"size\":10,\"solidity\":0.2}},\"type\":\"histogram\"}],\"mesh3d\":[{\"colorbar\":{\"outlinewidth\":0,\"ticks\":\"\"},\"type\":\"mesh3d\"}],\"parcoords\":[{\"line\":{\"colorbar\":{\"outlinewidth\":0,\"ticks\":\"\"}},\"type\":\"parcoords\"}],\"pie\":[{\"automargin\":true,\"type\":\"pie\"}],\"scatter3d\":[{\"line\":{\"colorbar\":{\"outlinewidth\":0,\"ticks\":\"\"}},\"marker\":{\"colorbar\":{\"outlinewidth\":0,\"ticks\":\"\"}},\"type\":\"scatter3d\"}],\"scattercarpet\":[{\"marker\":{\"colorbar\":{\"outlinewidth\":0,\"ticks\":\"\"}},\"type\":\"scattercarpet\"}],\"scattergeo\":[{\"marker\":{\"colorbar\":{\"outlinewidth\":0,\"ticks\":\"\"}},\"type\":\"scattergeo\"}],\"scattergl\":[{\"marker\":{\"colorbar\":{\"outlinewidth\":0,\"ticks\":\"\"}},\"type\":\"scattergl\"}],\"scattermapbox\":[{\"marker\":{\"colorbar\":{\"outlinewidth\":0,\"ticks\":\"\"}},\"type\":\"scattermapbox\"}],\"scatterpolargl\":[{\"marker\":{\"colorbar\":{\"outlinewidth\":0,\"ticks\":\"\"}},\"type\":\"scatterpolargl\"}],\"scatterpolar\":[{\"marker\":{\"colorbar\":{\"outlinewidth\":0,\"ticks\":\"\"}},\"type\":\"scatterpolar\"}],\"scatter\":[{\"fillpattern\":{\"fillmode\":\"overlay\",\"size\":10,\"solidity\":0.2},\"type\":\"scatter\"}],\"scatterternary\":[{\"marker\":{\"colorbar\":{\"outlinewidth\":0,\"ticks\":\"\"}},\"type\":\"scatterternary\"}],\"surface\":[{\"colorbar\":{\"outlinewidth\":0,\"ticks\":\"\"},\"colorscale\":[[0.0,\"#0d0887\"],[0.1111111111111111,\"#46039f\"],[0.2222222222222222,\"#7201a8\"],[0.3333333333333333,\"#9c179e\"],[0.4444444444444444,\"#bd3786\"],[0.5555555555555556,\"#d8576b\"],[0.6666666666666666,\"#ed7953\"],[0.7777777777777778,\"#fb9f3a\"],[0.8888888888888888,\"#fdca26\"],[1.0,\"#f0f921\"]],\"type\":\"surface\"}],\"table\":[{\"cells\":{\"fill\":{\"color\":\"#EBF0F8\"},\"line\":{\"color\":\"white\"}},\"header\":{\"fill\":{\"color\":\"#C8D4E3\"},\"line\":{\"color\":\"white\"}},\"type\":\"table\"}]},\"layout\":{\"annotationdefaults\":{\"arrowcolor\":\"#2a3f5f\",\"arrowhead\":0,\"arrowwidth\":1},\"autotypenumbers\":\"strict\",\"coloraxis\":{\"colorbar\":{\"outlinewidth\":0,\"ticks\":\"\"}},\"colorscale\":{\"diverging\":[[0,\"#8e0152\"],[0.1,\"#c51b7d\"],[0.2,\"#de77ae\"],[0.3,\"#f1b6da\"],[0.4,\"#fde0ef\"],[0.5,\"#f7f7f7\"],[0.6,\"#e6f5d0\"],[0.7,\"#b8e186\"],[0.8,\"#7fbc41\"],[0.9,\"#4d9221\"],[1,\"#276419\"]],\"sequential\":[[0.0,\"#0d0887\"],[0.1111111111111111,\"#46039f\"],[0.2222222222222222,\"#7201a8\"],[0.3333333333333333,\"#9c179e\"],[0.4444444444444444,\"#bd3786\"],[0.5555555555555556,\"#d8576b\"],[0.6666666666666666,\"#ed7953\"],[0.7777777777777778,\"#fb9f3a\"],[0.8888888888888888,\"#fdca26\"],[1.0,\"#f0f921\"]],\"sequentialminus\":[[0.0,\"#0d0887\"],[0.1111111111111111,\"#46039f\"],[0.2222222222222222,\"#7201a8\"],[0.3333333333333333,\"#9c179e\"],[0.4444444444444444,\"#bd3786\"],[0.5555555555555556,\"#d8576b\"],[0.6666666666666666,\"#ed7953\"],[0.7777777777777778,\"#fb9f3a\"],[0.8888888888888888,\"#fdca26\"],[1.0,\"#f0f921\"]]},\"colorway\":[\"#636efa\",\"#EF553B\",\"#00cc96\",\"#ab63fa\",\"#FFA15A\",\"#19d3f3\",\"#FF6692\",\"#B6E880\",\"#FF97FF\",\"#FECB52\"],\"font\":{\"color\":\"#2a3f5f\"},\"geo\":{\"bgcolor\":\"white\",\"lakecolor\":\"white\",\"landcolor\":\"#E5ECF6\",\"showlakes\":true,\"showland\":true,\"subunitcolor\":\"white\"},\"hoverlabel\":{\"align\":\"left\"},\"hovermode\":\"closest\",\"mapbox\":{\"style\":\"light\"},\"paper_bgcolor\":\"white\",\"plot_bgcolor\":\"#E5ECF6\",\"polar\":{\"angularaxis\":{\"gridcolor\":\"white\",\"linecolor\":\"white\",\"ticks\":\"\"},\"bgcolor\":\"#E5ECF6\",\"radialaxis\":{\"gridcolor\":\"white\",\"linecolor\":\"white\",\"ticks\":\"\"}},\"scene\":{\"xaxis\":{\"backgroundcolor\":\"#E5ECF6\",\"gridcolor\":\"white\",\"gridwidth\":2,\"linecolor\":\"white\",\"showbackground\":true,\"ticks\":\"\",\"zerolinecolor\":\"white\"},\"yaxis\":{\"backgroundcolor\":\"#E5ECF6\",\"gridcolor\":\"white\",\"gridwidth\":2,\"linecolor\":\"white\",\"showbackground\":true,\"ticks\":\"\",\"zerolinecolor\":\"white\"},\"zaxis\":{\"backgroundcolor\":\"#E5ECF6\",\"gridcolor\":\"white\",\"gridwidth\":2,\"linecolor\":\"white\",\"showbackground\":true,\"ticks\":\"\",\"zerolinecolor\":\"white\"}},\"shapedefaults\":{\"line\":{\"color\":\"#2a3f5f\"}},\"ternary\":{\"aaxis\":{\"gridcolor\":\"white\",\"linecolor\":\"white\",\"ticks\":\"\"},\"baxis\":{\"gridcolor\":\"white\",\"linecolor\":\"white\",\"ticks\":\"\"},\"bgcolor\":\"#E5ECF6\",\"caxis\":{\"gridcolor\":\"white\",\"linecolor\":\"white\",\"ticks\":\"\"}},\"title\":{\"x\":0.05},\"xaxis\":{\"automargin\":true,\"gridcolor\":\"white\",\"linecolor\":\"white\",\"ticks\":\"\",\"title\":{\"standoff\":15},\"zerolinecolor\":\"white\",\"zerolinewidth\":2},\"yaxis\":{\"automargin\":true,\"gridcolor\":\"white\",\"linecolor\":\"white\",\"ticks\":\"\",\"title\":{\"standoff\":15},\"zerolinecolor\":\"white\",\"zerolinewidth\":2}}},\"title\":{\"font\":{\"family\":\"Arial, sans-serif\",\"size\":30},\"text\":\"<b>Pit Stop Times</b>\",\"x\":0.5},\"yaxis\":{\"range\":[21.067,31.121]}},                        {\"responsive\": true}                    ).then(function(){\n",
       "                            \n",
       "var gd = document.getElementById('cf55cb3d-f99b-42f7-a2d1-0c0132b0f4f3');\n",
       "var x = new MutationObserver(function (mutations, observer) {{\n",
       "        var display = window.getComputedStyle(gd).display;\n",
       "        if (!display || display === 'none') {{\n",
       "            console.log([gd, 'removed!']);\n",
       "            Plotly.purge(gd);\n",
       "            observer.disconnect();\n",
       "        }}\n",
       "}});\n",
       "\n",
       "// Listen for the removal of the full notebook cells\n",
       "var notebookContainer = gd.closest('#notebook-container');\n",
       "if (notebookContainer) {{\n",
       "    x.observe(notebookContainer, {childList: true});\n",
       "}}\n",
       "\n",
       "// Listen for the clearing of the current output cell\n",
       "var outputEl = gd.closest('.output');\n",
       "if (outputEl) {{\n",
       "    x.observe(outputEl, {childList: true});\n",
       "}}\n",
       "\n",
       "                        })                };                });            </script>        </div>"
      ]
     },
     "metadata": {},
     "output_type": "display_data"
    }
   ],
   "source": [
    "if not pit_stop_emp:\n",
    "    max_pit = max(driver_group['max']) + 1\n",
    "    min_pit = min(driver_group['min']) - 1\n",
    "\n",
    "    data = [\n",
    "    go.Bar(y=driver_group['max'], x=driver_group.Driver, name='Max Pit',  \n",
    "            #base=0\n",
    "           ),\n",
    "    go.Bar(y=driver_group['mean'], x=driver_group.Driver, name='Avg PIt'),\n",
    "    go.Bar(y=driver_group['min'], x=driver_group.Driver, name='Min PIt')]\n",
    "\n",
    "    layout = go.Layout(\n",
    "    barmode='overlay',\n",
    "    title=\"Pit Times\",\n",
    "    title_text='<b>Pit Stop Times</b>', titlefont = dict(\n",
    "         family = 'Arial, sans-serif',\n",
    "         size = 30\n",
    "      ), title_x=0.5\n",
    "    )\n",
    "\n",
    "    fig = dict(data = data, layout = layout, layout_yaxis_range=[min_pit, max_pit])\n",
    "    \n",
    "    iplot(fig, show_link=False)"
   ]
  },
  {
   "cell_type": "code",
   "execution_count": 26,
   "id": "3d621a4e",
   "metadata": {
    "_kg_hide-input": true,
    "execution": {
     "iopub.execute_input": "2023-10-30T18:39:59.733931Z",
     "iopub.status.busy": "2023-10-30T18:39:59.733499Z",
     "iopub.status.idle": "2023-10-30T18:39:59.741653Z",
     "shell.execute_reply": "2023-10-30T18:39:59.740637Z"
    },
    "papermill": {
     "duration": 0.025418,
     "end_time": "2023-10-30T18:39:59.744418",
     "exception": false,
     "start_time": "2023-10-30T18:39:59.719000",
     "status": "completed"
    },
    "tags": []
   },
   "outputs": [
    {
     "data": {
      "text/markdown": [
       "# <div style='background:#FF1801; border:0; color:black; box-shadow: 10px 10px 5px 0px rgba(0,0,0,0.75); transform: rotateX(10deg);'><h1 style='padding: 10px; margin: 0; text-align:center;'><span style='font-size: 30px;'>Lap Results</span></h1></div>"
      ],
      "text/plain": [
       "<IPython.core.display.Markdown object>"
      ]
     },
     "metadata": {},
     "output_type": "display_data"
    }
   ],
   "source": [
    "display(md(f\"# <div style='background:#FF1801; border:0; color:black; box-shadow: 10px 10px 5px 0px rgba(0,0,0,0.75); transform: rotateX(10deg);'><h1 style='padding: 10px; margin: 0; text-align:center;'><span style='font-size: 30px;'>Lap Results</span></h1></div>\"))"
   ]
  },
  {
   "cell_type": "code",
   "execution_count": 27,
   "id": "aef6b0a7",
   "metadata": {
    "_kg_hide-input": true,
    "execution": {
     "iopub.execute_input": "2023-10-30T18:39:59.774163Z",
     "iopub.status.busy": "2023-10-30T18:39:59.773786Z",
     "iopub.status.idle": "2023-10-30T18:39:59.898486Z",
     "shell.execute_reply": "2023-10-30T18:39:59.897564Z"
    },
    "papermill": {
     "duration": 0.141714,
     "end_time": "2023-10-30T18:39:59.900430",
     "exception": false,
     "start_time": "2023-10-30T18:39:59.758716",
     "status": "completed"
    },
    "tags": []
   },
   "outputs": [
    {
     "data": {
      "text/html": [
       "<div>                            <div id=\"bfc3916b-fc9a-4c73-9692-e7d6bd306056\" class=\"plotly-graph-div\" style=\"height:525px; width:100%;\"></div>            <script type=\"text/javascript\">                require([\"plotly\"], function(Plotly) {                    window.PLOTLYENV=window.PLOTLYENV || {};                                    if (document.getElementById(\"bfc3916b-fc9a-4c73-9692-e7d6bd306056\")) {                    Plotly.newPlot(                        \"bfc3916b-fc9a-4c73-9692-e7d6bd306056\",                        [{\"alignmentgroup\":\"True\",\"boxpoints\":false,\"hovertemplate\":\"Driver=%{y}<br>Duration (Seconds, Outliers/Red Flags, Removed)=%{x}<extra></extra>\",\"legendgroup\":\"VER\",\"marker\":{\"color\":\"#000B8D\"},\"name\":\"VER\",\"notched\":false,\"offsetgroup\":\"VER\",\"orientation\":\"h\",\"showlegend\":true,\"x\":[85.65299999999999,83.85900000000001,83.57300000000001,83.708,83.339,83.453,83.357,83.218,83.276,83.626,83.644,83.792,83.695,83.714,83.58500000000001,83.644,83.92699999999999,86.825,82.643,82.622,82.781,83.762,82.354,82.97200000000001,83.023,83.162,82.224,82.904,83.436,83.20400000000001,95.664,82.471,82.185,82.059,81.644,81.787,81.986,82.041,82.068,82.129,82.105,82.06,82.179,82.172,82.294,82.32300000000001,82.336,82.286,82.418,82.42099999999999,82.41499999999999,82.23,82.37,82.208,81.991,82.1,82.196,82.245,82.2,82.377,82.11,82.774,82.43,82.47,82.367,82.85],\"x0\":\" \",\"xaxis\":\"x\",\"y\":[\"VER\",\"VER\",\"VER\",\"VER\",\"VER\",\"VER\",\"VER\",\"VER\",\"VER\",\"VER\",\"VER\",\"VER\",\"VER\",\"VER\",\"VER\",\"VER\",\"VER\",\"VER\",\"VER\",\"VER\",\"VER\",\"VER\",\"VER\",\"VER\",\"VER\",\"VER\",\"VER\",\"VER\",\"VER\",\"VER\",\"VER\",\"VER\",\"VER\",\"VER\",\"VER\",\"VER\",\"VER\",\"VER\",\"VER\",\"VER\",\"VER\",\"VER\",\"VER\",\"VER\",\"VER\",\"VER\",\"VER\",\"VER\",\"VER\",\"VER\",\"VER\",\"VER\",\"VER\",\"VER\",\"VER\",\"VER\",\"VER\",\"VER\",\"VER\",\"VER\",\"VER\",\"VER\",\"VER\",\"VER\",\"VER\",\"VER\"],\"y0\":\" \",\"yaxis\":\"y\",\"type\":\"box\"},{\"alignmentgroup\":\"True\",\"boxpoints\":false,\"hovertemplate\":\"Driver=%{y}<br>Duration (Seconds, Outliers/Red Flags, Removed)=%{x}<extra></extra>\",\"legendgroup\":\"LEC\",\"marker\":{\"color\":\"#EF1A2D\"},\"name\":\"LEC\",\"notched\":false,\"offsetgroup\":\"LEC\",\"orientation\":\"h\",\"showlegend\":true,\"x\":[87.23,83.98,83.957,83.815,83.383,83.489,83.324,83.673,83.72200000000001,83.868,83.709,84.09,84.32,83.84,83.55199999999999,83.649,84.169,83.894,83.496,83.452,83.666,83.878,83.786,83.941,83.709,84.264,83.69,83.86,84.131,87.924,97.428,83.118,82.332,82.559,83.501,82.865,82.844,82.888,83.163,83.082,83.07300000000001,83.101,83.115,83.003,83.167,82.858,82.769,82.94200000000001,82.844,82.873,82.636,82.538,82.634,82.504,82.632,82.768,82.783,82.805,82.708,82.92099999999999,82.619,82.79599999999999,82.77199999999999,82.971,82.983,82.905],\"x0\":\" \",\"xaxis\":\"x\",\"y\":[\"LEC\",\"LEC\",\"LEC\",\"LEC\",\"LEC\",\"LEC\",\"LEC\",\"LEC\",\"LEC\",\"LEC\",\"LEC\",\"LEC\",\"LEC\",\"LEC\",\"LEC\",\"LEC\",\"LEC\",\"LEC\",\"LEC\",\"LEC\",\"LEC\",\"LEC\",\"LEC\",\"LEC\",\"LEC\",\"LEC\",\"LEC\",\"LEC\",\"LEC\",\"LEC\",\"LEC\",\"LEC\",\"LEC\",\"LEC\",\"LEC\",\"LEC\",\"LEC\",\"LEC\",\"LEC\",\"LEC\",\"LEC\",\"LEC\",\"LEC\",\"LEC\",\"LEC\",\"LEC\",\"LEC\",\"LEC\",\"LEC\",\"LEC\",\"LEC\",\"LEC\",\"LEC\",\"LEC\",\"LEC\",\"LEC\",\"LEC\",\"LEC\",\"LEC\",\"LEC\",\"LEC\",\"LEC\",\"LEC\",\"LEC\",\"LEC\",\"LEC\"],\"y0\":\" \",\"yaxis\":\"y\",\"type\":\"box\"},{\"alignmentgroup\":\"True\",\"boxpoints\":false,\"hovertemplate\":\"Driver=%{y}<br>Duration (Seconds, Outliers/Red Flags, Removed)=%{x}<extra></extra>\",\"legendgroup\":\"SAI\",\"marker\":{\"color\":\"#EF1A2D\"},\"name\":\"SAI\",\"notched\":false,\"offsetgroup\":\"SAI\",\"orientation\":\"h\",\"showlegend\":true,\"x\":[87.958,84.3,84.15299999999999,83.916,83.47800000000001,83.669,83.709,83.807,83.947,83.864,84.148,84.277,84.071,84.194,84.051,84.087,84.414,84.64699999999999,84.102,84.108,84.02199999999999,84.162,84.274,84.21000000000001,84.009,84.352,84.158,84.99,87.64,82.785,83.566,82.729,82.938,82.987,82.952,83.007,82.82900000000001,83.024,83.259,82.996,83.957,83.31,83.256,83.101,82.91,82.83500000000001,82.88,82.932,82.845,82.611,82.539,82.774,82.548,82.754,82.663,82.865,82.905,82.851,82.84100000000001,82.719,82.707,82.976,82.767,82.943,82.72],\"x0\":\" \",\"xaxis\":\"x\",\"y\":[\"SAI\",\"SAI\",\"SAI\",\"SAI\",\"SAI\",\"SAI\",\"SAI\",\"SAI\",\"SAI\",\"SAI\",\"SAI\",\"SAI\",\"SAI\",\"SAI\",\"SAI\",\"SAI\",\"SAI\",\"SAI\",\"SAI\",\"SAI\",\"SAI\",\"SAI\",\"SAI\",\"SAI\",\"SAI\",\"SAI\",\"SAI\",\"SAI\",\"SAI\",\"SAI\",\"SAI\",\"SAI\",\"SAI\",\"SAI\",\"SAI\",\"SAI\",\"SAI\",\"SAI\",\"SAI\",\"SAI\",\"SAI\",\"SAI\",\"SAI\",\"SAI\",\"SAI\",\"SAI\",\"SAI\",\"SAI\",\"SAI\",\"SAI\",\"SAI\",\"SAI\",\"SAI\",\"SAI\",\"SAI\",\"SAI\",\"SAI\",\"SAI\",\"SAI\",\"SAI\",\"SAI\",\"SAI\",\"SAI\",\"SAI\",\"SAI\"],\"y0\":\" \",\"yaxis\":\"y\",\"type\":\"box\"},{\"alignmentgroup\":\"True\",\"boxpoints\":false,\"hovertemplate\":\"Driver=%{y}<br>Duration (Seconds, Outliers/Red Flags, Removed)=%{x}<extra></extra>\",\"legendgroup\":\"RIC\",\"marker\":{\"color\":\"#20394C\"},\"name\":\"RIC\",\"notched\":false,\"offsetgroup\":\"RIC\",\"orientation\":\"h\",\"showlegend\":true,\"x\":[88.84700000000001,84.178,84.166,83.916,83.426,83.81700000000001,84.03,83.938,84.133,85.563,84.129,84.34700000000001,84.02799999999999,84.116,84.248,84.311,84.559,84.59,84.321,84.236,84.5,84.319,84.593,85.259,84.215,87.032,83.599,83.571,83.738,83.682,83.489,82.952,82.93299999999999,82.877,82.945,83.174,82.90299999999999,83.065,83.608,83.28,83.783,83.473,83.467,83.509,83.135,83.282,83.126,83.059,83.307,83.357,83.007,83.144,83.10300000000001,85.294,83.655,83.07,82.862,82.811,82.839,82.679,83.133,83.235,83.174,83.28999999999999,85.314],\"x0\":\" \",\"xaxis\":\"x\",\"y\":[\"RIC\",\"RIC\",\"RIC\",\"RIC\",\"RIC\",\"RIC\",\"RIC\",\"RIC\",\"RIC\",\"RIC\",\"RIC\",\"RIC\",\"RIC\",\"RIC\",\"RIC\",\"RIC\",\"RIC\",\"RIC\",\"RIC\",\"RIC\",\"RIC\",\"RIC\",\"RIC\",\"RIC\",\"RIC\",\"RIC\",\"RIC\",\"RIC\",\"RIC\",\"RIC\",\"RIC\",\"RIC\",\"RIC\",\"RIC\",\"RIC\",\"RIC\",\"RIC\",\"RIC\",\"RIC\",\"RIC\",\"RIC\",\"RIC\",\"RIC\",\"RIC\",\"RIC\",\"RIC\",\"RIC\",\"RIC\",\"RIC\",\"RIC\",\"RIC\",\"RIC\",\"RIC\",\"RIC\",\"RIC\",\"RIC\",\"RIC\",\"RIC\",\"RIC\",\"RIC\",\"RIC\",\"RIC\",\"RIC\",\"RIC\",\"RIC\"],\"y0\":\" \",\"yaxis\":\"y\",\"type\":\"box\"},{\"alignmentgroup\":\"True\",\"boxpoints\":false,\"hovertemplate\":\"Driver=%{y}<br>Duration (Seconds, Outliers/Red Flags, Removed)=%{x}<extra></extra>\",\"legendgroup\":\"HAM\",\"marker\":{\"color\":\"#00A19B\"},\"name\":\"HAM\",\"notched\":false,\"offsetgroup\":\"HAM\",\"orientation\":\"h\",\"showlegend\":true,\"x\":[89.425,84.314,84.162,83.887,83.3,83.707,84.29599999999999,83.964,83.785,83.951,83.632,84.072,83.839,83.831,83.94,84.365,84.107,84.34,84.181,84.172,84.58,84.231,86.973,82.87,83.717,83.47200000000001,83.381,83.219,83.607,83.19,83.152,82.432,82.394,81.852,82.231,82.467,82.354,82.414,82.438,82.72800000000001,82.413,83.429,82.615,82.77199999999999,83.538,82.72200000000001,82.563,82.919,82.831,82.777,82.629,82.334,82.437,82.083,82.691,82.252,82.412,82.497,81.991,82.078,83.926,82.78999999999999,82.566,83.339,81.334],\"x0\":\" \",\"xaxis\":\"x\",\"y\":[\"HAM\",\"HAM\",\"HAM\",\"HAM\",\"HAM\",\"HAM\",\"HAM\",\"HAM\",\"HAM\",\"HAM\",\"HAM\",\"HAM\",\"HAM\",\"HAM\",\"HAM\",\"HAM\",\"HAM\",\"HAM\",\"HAM\",\"HAM\",\"HAM\",\"HAM\",\"HAM\",\"HAM\",\"HAM\",\"HAM\",\"HAM\",\"HAM\",\"HAM\",\"HAM\",\"HAM\",\"HAM\",\"HAM\",\"HAM\",\"HAM\",\"HAM\",\"HAM\",\"HAM\",\"HAM\",\"HAM\",\"HAM\",\"HAM\",\"HAM\",\"HAM\",\"HAM\",\"HAM\",\"HAM\",\"HAM\",\"HAM\",\"HAM\",\"HAM\",\"HAM\",\"HAM\",\"HAM\",\"HAM\",\"HAM\",\"HAM\",\"HAM\",\"HAM\",\"HAM\",\"HAM\",\"HAM\",\"HAM\",\"HAM\",\"HAM\"],\"y0\":\" \",\"yaxis\":\"y\",\"type\":\"box\"},{\"alignmentgroup\":\"True\",\"boxpoints\":false,\"hovertemplate\":\"Driver=%{y}<br>Duration (Seconds, Outliers/Red Flags, Removed)=%{x}<extra></extra>\",\"legendgroup\":\"PIA\",\"marker\":{\"color\":\"#FF8000\"},\"name\":\"PIA\",\"notched\":false,\"offsetgroup\":\"PIA\",\"orientation\":\"h\",\"showlegend\":true,\"x\":[90.74,84.416,84.096,83.649,83.407,84.111,83.998,84.422,84.181,84.53399999999999,84.123,84.26599999999999,84.14,84.39099999999999,84.382,84.419,84.694,84.599,84.368,84.22800000000001,84.261,85.126,84.676,87.574,83.69,83.519,83.471,83.265,83.669,83.531,83.8,83.151,83.65299999999999,82.924,82.947,83.259,82.88,83.19800000000001,83.117,83.447,83.44200000000001,85.475,84.269,83.213,83.004,83.118,82.76,82.877,83.01599999999999,84.999,83.473,83.362,83.231,83.181,82.815,82.947,83.157,82.977,83.208,83.133,83.238,83.362,83.168,82.98,83.42099999999999],\"x0\":\" \",\"xaxis\":\"x\",\"y\":[\"PIA\",\"PIA\",\"PIA\",\"PIA\",\"PIA\",\"PIA\",\"PIA\",\"PIA\",\"PIA\",\"PIA\",\"PIA\",\"PIA\",\"PIA\",\"PIA\",\"PIA\",\"PIA\",\"PIA\",\"PIA\",\"PIA\",\"PIA\",\"PIA\",\"PIA\",\"PIA\",\"PIA\",\"PIA\",\"PIA\",\"PIA\",\"PIA\",\"PIA\",\"PIA\",\"PIA\",\"PIA\",\"PIA\",\"PIA\",\"PIA\",\"PIA\",\"PIA\",\"PIA\",\"PIA\",\"PIA\",\"PIA\",\"PIA\",\"PIA\",\"PIA\",\"PIA\",\"PIA\",\"PIA\",\"PIA\",\"PIA\",\"PIA\",\"PIA\",\"PIA\",\"PIA\",\"PIA\",\"PIA\",\"PIA\",\"PIA\",\"PIA\",\"PIA\",\"PIA\",\"PIA\",\"PIA\",\"PIA\",\"PIA\",\"PIA\"],\"y0\":\" \",\"yaxis\":\"y\",\"type\":\"box\"},{\"alignmentgroup\":\"True\",\"boxpoints\":false,\"hovertemplate\":\"Driver=%{y}<br>Duration (Seconds, Outliers/Red Flags, Removed)=%{x}<extra></extra>\",\"legendgroup\":\"RUS\",\"marker\":{\"color\":\"#00A19B\"},\"name\":\"RUS\",\"notched\":false,\"offsetgroup\":\"RUS\",\"orientation\":\"h\",\"showlegend\":true,\"x\":[91.098,84.5,84.27,84.136,83.453,84.207,84.201,84.1,83.842,84.64099999999999,84.223,84.512,84.648,84.39,85.19200000000001,84.502,84.307,84.285,84.071,84.19,85.257,84.273,84.477,84.32900000000001,87.16499999999999,84.021,83.18,83.435,83.508,83.09700000000001,83.464,82.78,83.137,82.80199999999999,83.006,83.21000000000001,82.854,82.908,83.212,82.932,83.97200000000001,83.358,83.369,83.612,83.273,83.035,82.983,83.06,83.36,82.995,82.973,83.348,82.936,82.929,82.983,83.029,82.93,83.004,83.181,83.239,85.868,83.749,83.39699999999999,83.39099999999999,85.487],\"x0\":\" \",\"xaxis\":\"x\",\"y\":[\"RUS\",\"RUS\",\"RUS\",\"RUS\",\"RUS\",\"RUS\",\"RUS\",\"RUS\",\"RUS\",\"RUS\",\"RUS\",\"RUS\",\"RUS\",\"RUS\",\"RUS\",\"RUS\",\"RUS\",\"RUS\",\"RUS\",\"RUS\",\"RUS\",\"RUS\",\"RUS\",\"RUS\",\"RUS\",\"RUS\",\"RUS\",\"RUS\",\"RUS\",\"RUS\",\"RUS\",\"RUS\",\"RUS\",\"RUS\",\"RUS\",\"RUS\",\"RUS\",\"RUS\",\"RUS\",\"RUS\",\"RUS\",\"RUS\",\"RUS\",\"RUS\",\"RUS\",\"RUS\",\"RUS\",\"RUS\",\"RUS\",\"RUS\",\"RUS\",\"RUS\",\"RUS\",\"RUS\",\"RUS\",\"RUS\",\"RUS\",\"RUS\",\"RUS\",\"RUS\",\"RUS\",\"RUS\",\"RUS\",\"RUS\",\"RUS\"],\"y0\":\" \",\"yaxis\":\"y\",\"type\":\"box\"},{\"alignmentgroup\":\"True\",\"boxpoints\":false,\"hovertemplate\":\"Driver=%{y}<br>Duration (Seconds, Outliers/Red Flags, Removed)=%{x}<extra></extra>\",\"legendgroup\":\"HUL\",\"marker\":{\"color\":\"#E6002B\"},\"name\":\"HUL\",\"notched\":false,\"offsetgroup\":\"HUL\",\"orientation\":\"h\",\"showlegend\":true,\"x\":[91.561,85.057,84.735,84.337,83.756,84.549,84.923,84.856,84.77199999999999,85.025,85.03999999999999,85.004,85.263,85.128,85.279,84.987,85.318,85.167,84.813,84.70400000000001,85.064,88.6,83.833,84.28,84.668,84.626,84.8,83.576,83.912,84.408,84.02199999999999,83.3,83.83,83.307,83.263,83.316,83.22200000000001,83.72800000000001,83.947,84.248,85.12,83.98400000000001,84.467,83.964,83.969,84.12,84.276,84.324,84.151,83.687,83.757,84.227,83.977,83.634,83.843,84.447,84.444,83.989,84.37,86.767,85.346,84.889,85.013,87.168,87.623],\"x0\":\" \",\"xaxis\":\"x\",\"y\":[\"HUL\",\"HUL\",\"HUL\",\"HUL\",\"HUL\",\"HUL\",\"HUL\",\"HUL\",\"HUL\",\"HUL\",\"HUL\",\"HUL\",\"HUL\",\"HUL\",\"HUL\",\"HUL\",\"HUL\",\"HUL\",\"HUL\",\"HUL\",\"HUL\",\"HUL\",\"HUL\",\"HUL\",\"HUL\",\"HUL\",\"HUL\",\"HUL\",\"HUL\",\"HUL\",\"HUL\",\"HUL\",\"HUL\",\"HUL\",\"HUL\",\"HUL\",\"HUL\",\"HUL\",\"HUL\",\"HUL\",\"HUL\",\"HUL\",\"HUL\",\"HUL\",\"HUL\",\"HUL\",\"HUL\",\"HUL\",\"HUL\",\"HUL\",\"HUL\",\"HUL\",\"HUL\",\"HUL\",\"HUL\",\"HUL\",\"HUL\",\"HUL\",\"HUL\",\"HUL\",\"HUL\",\"HUL\",\"HUL\",\"HUL\",\"HUL\"],\"y0\":\" \",\"yaxis\":\"y\",\"type\":\"box\"},{\"alignmentgroup\":\"True\",\"boxpoints\":false,\"hovertemplate\":\"Driver=%{y}<br>Duration (Seconds, Outliers/Red Flags, Removed)=%{x}<extra></extra>\",\"legendgroup\":\"GAS\",\"marker\":{\"color\":\"#2173B8\"},\"name\":\"GAS\",\"notched\":false,\"offsetgroup\":\"GAS\",\"orientation\":\"h\",\"showlegend\":true,\"x\":[91.94200000000001,85.443,84.804,84.249,83.989,84.292,84.82900000000001,84.958,84.88,84.9,85.189,85.15299999999999,85.003,85.11,85.121,85.331,85.419,85.126,84.779,84.732,85.087,85.36,84.435,85.078,84.914,84.97800000000001,87.81,84.005,83.6,83.779,84.247,83.586,83.307,83.524,83.407,83.426,83.23,83.385,84.325,84.42699999999999,84.267,84.167,84.614,83.937,84.041,84.527,84.274,84.246,83.842,83.727,83.695,84.38,83.672,83.916,83.824,84.276,84.229,84.282,84.029,84.726,83.512,83.324,83.35900000000001,83.306,83.3],\"x0\":\" \",\"xaxis\":\"x\",\"y\":[\"GAS\",\"GAS\",\"GAS\",\"GAS\",\"GAS\",\"GAS\",\"GAS\",\"GAS\",\"GAS\",\"GAS\",\"GAS\",\"GAS\",\"GAS\",\"GAS\",\"GAS\",\"GAS\",\"GAS\",\"GAS\",\"GAS\",\"GAS\",\"GAS\",\"GAS\",\"GAS\",\"GAS\",\"GAS\",\"GAS\",\"GAS\",\"GAS\",\"GAS\",\"GAS\",\"GAS\",\"GAS\",\"GAS\",\"GAS\",\"GAS\",\"GAS\",\"GAS\",\"GAS\",\"GAS\",\"GAS\",\"GAS\",\"GAS\",\"GAS\",\"GAS\",\"GAS\",\"GAS\",\"GAS\",\"GAS\",\"GAS\",\"GAS\",\"GAS\",\"GAS\",\"GAS\",\"GAS\",\"GAS\",\"GAS\",\"GAS\",\"GAS\",\"GAS\",\"GAS\",\"GAS\",\"GAS\",\"GAS\",\"GAS\",\"GAS\"],\"y0\":\" \",\"yaxis\":\"y\",\"type\":\"box\"},{\"alignmentgroup\":\"True\",\"boxpoints\":false,\"hovertemplate\":\"Driver=%{y}<br>Duration (Seconds, Outliers/Red Flags, Removed)=%{x}<extra></extra>\",\"legendgroup\":\"ZHO\",\"marker\":{\"color\":\"#A42134\"},\"name\":\"ZHO\",\"notched\":false,\"offsetgroup\":\"ZHO\",\"orientation\":\"h\",\"showlegend\":true,\"x\":[92.482,85.512,84.86,84.161,84.088,84.269,84.652,84.89,85.09100000000001,84.814,85.07,85.447,85.602,86.64099999999999,85.607,85.314,85.556,85.186,85.438,88.634,83.583,83.839,84.336,84.623,84.6,84.564,84.596,86.166,84.896,84.377,86.21000000000001,84.081,83.56700000000001,83.672,83.85900000000001,83.988,85.20400000000001,84.303,84.336,86.227,84.657,84.348,84.907,84.119,84.354,84.489,84.354,84.008,83.845,83.754,84.404,84.08,83.846,83.69800000000001,83.846,83.85900000000001,84.259,84.237,84.047,84.464,84.876,84.121,83.742,83.82900000000001,84.39099999999999],\"x0\":\" \",\"xaxis\":\"x\",\"y\":[\"ZHO\",\"ZHO\",\"ZHO\",\"ZHO\",\"ZHO\",\"ZHO\",\"ZHO\",\"ZHO\",\"ZHO\",\"ZHO\",\"ZHO\",\"ZHO\",\"ZHO\",\"ZHO\",\"ZHO\",\"ZHO\",\"ZHO\",\"ZHO\",\"ZHO\",\"ZHO\",\"ZHO\",\"ZHO\",\"ZHO\",\"ZHO\",\"ZHO\",\"ZHO\",\"ZHO\",\"ZHO\",\"ZHO\",\"ZHO\",\"ZHO\",\"ZHO\",\"ZHO\",\"ZHO\",\"ZHO\",\"ZHO\",\"ZHO\",\"ZHO\",\"ZHO\",\"ZHO\",\"ZHO\",\"ZHO\",\"ZHO\",\"ZHO\",\"ZHO\",\"ZHO\",\"ZHO\",\"ZHO\",\"ZHO\",\"ZHO\",\"ZHO\",\"ZHO\",\"ZHO\",\"ZHO\",\"ZHO\",\"ZHO\",\"ZHO\",\"ZHO\",\"ZHO\",\"ZHO\",\"ZHO\",\"ZHO\",\"ZHO\",\"ZHO\",\"ZHO\"],\"y0\":\" \",\"yaxis\":\"y\",\"type\":\"box\"},{\"alignmentgroup\":\"True\",\"boxpoints\":false,\"hovertemplate\":\"Driver=%{y}<br>Duration (Seconds, Outliers/Red Flags, Removed)=%{x}<extra></extra>\",\"legendgroup\":\"ALB\",\"marker\":{\"color\":\"#00A0DE\"},\"name\":\"ALB\",\"notched\":false,\"offsetgroup\":\"ALB\",\"orientation\":\"h\",\"showlegend\":true,\"x\":[93.136,85.55199999999999,84.801,84.37,84.193,84.402,84.662,84.906,85.0,84.924,84.901,85.44200000000001,85.44800000000001,85.172,85.531,85.22200000000001,85.542,85.457,85.39699999999999,85.09700000000001,85.154,84.89,85.019,84.813,84.78999999999999,85.131,85.709,85.968,85.279,85.936,85.094,84.06700000000001,82.998,84.014,83.008,83.32300000000001,83.34700000000001,83.31700000000001,83.40899999999999,83.578,83.898,84.142,84.063,85.654,83.805,83.86,83.768,83.759,83.608,84.033,83.568,83.236,83.238],\"x0\":\" \",\"xaxis\":\"x\",\"y\":[\"ALB\",\"ALB\",\"ALB\",\"ALB\",\"ALB\",\"ALB\",\"ALB\",\"ALB\",\"ALB\",\"ALB\",\"ALB\",\"ALB\",\"ALB\",\"ALB\",\"ALB\",\"ALB\",\"ALB\",\"ALB\",\"ALB\",\"ALB\",\"ALB\",\"ALB\",\"ALB\",\"ALB\",\"ALB\",\"ALB\",\"ALB\",\"ALB\",\"ALB\",\"ALB\",\"ALB\",\"ALB\",\"ALB\",\"ALB\",\"ALB\",\"ALB\",\"ALB\",\"ALB\",\"ALB\",\"ALB\",\"ALB\",\"ALB\",\"ALB\",\"ALB\",\"ALB\",\"ALB\",\"ALB\",\"ALB\",\"ALB\",\"ALB\",\"ALB\",\"ALB\",\"ALB\"],\"y0\":\" \",\"yaxis\":\"y\",\"type\":\"box\"}],                        {\"template\":{\"data\":{\"histogram2dcontour\":[{\"type\":\"histogram2dcontour\",\"colorbar\":{\"outlinewidth\":0,\"ticks\":\"\"},\"colorscale\":[[0.0,\"#0d0887\"],[0.1111111111111111,\"#46039f\"],[0.2222222222222222,\"#7201a8\"],[0.3333333333333333,\"#9c179e\"],[0.4444444444444444,\"#bd3786\"],[0.5555555555555556,\"#d8576b\"],[0.6666666666666666,\"#ed7953\"],[0.7777777777777778,\"#fb9f3a\"],[0.8888888888888888,\"#fdca26\"],[1.0,\"#f0f921\"]]}],\"choropleth\":[{\"type\":\"choropleth\",\"colorbar\":{\"outlinewidth\":0,\"ticks\":\"\"}}],\"histogram2d\":[{\"type\":\"histogram2d\",\"colorbar\":{\"outlinewidth\":0,\"ticks\":\"\"},\"colorscale\":[[0.0,\"#0d0887\"],[0.1111111111111111,\"#46039f\"],[0.2222222222222222,\"#7201a8\"],[0.3333333333333333,\"#9c179e\"],[0.4444444444444444,\"#bd3786\"],[0.5555555555555556,\"#d8576b\"],[0.6666666666666666,\"#ed7953\"],[0.7777777777777778,\"#fb9f3a\"],[0.8888888888888888,\"#fdca26\"],[1.0,\"#f0f921\"]]}],\"heatmap\":[{\"type\":\"heatmap\",\"colorbar\":{\"outlinewidth\":0,\"ticks\":\"\"},\"colorscale\":[[0.0,\"#0d0887\"],[0.1111111111111111,\"#46039f\"],[0.2222222222222222,\"#7201a8\"],[0.3333333333333333,\"#9c179e\"],[0.4444444444444444,\"#bd3786\"],[0.5555555555555556,\"#d8576b\"],[0.6666666666666666,\"#ed7953\"],[0.7777777777777778,\"#fb9f3a\"],[0.8888888888888888,\"#fdca26\"],[1.0,\"#f0f921\"]]}],\"heatmapgl\":[{\"type\":\"heatmapgl\",\"colorbar\":{\"outlinewidth\":0,\"ticks\":\"\"},\"colorscale\":[[0.0,\"#0d0887\"],[0.1111111111111111,\"#46039f\"],[0.2222222222222222,\"#7201a8\"],[0.3333333333333333,\"#9c179e\"],[0.4444444444444444,\"#bd3786\"],[0.5555555555555556,\"#d8576b\"],[0.6666666666666666,\"#ed7953\"],[0.7777777777777778,\"#fb9f3a\"],[0.8888888888888888,\"#fdca26\"],[1.0,\"#f0f921\"]]}],\"contourcarpet\":[{\"type\":\"contourcarpet\",\"colorbar\":{\"outlinewidth\":0,\"ticks\":\"\"}}],\"contour\":[{\"type\":\"contour\",\"colorbar\":{\"outlinewidth\":0,\"ticks\":\"\"},\"colorscale\":[[0.0,\"#0d0887\"],[0.1111111111111111,\"#46039f\"],[0.2222222222222222,\"#7201a8\"],[0.3333333333333333,\"#9c179e\"],[0.4444444444444444,\"#bd3786\"],[0.5555555555555556,\"#d8576b\"],[0.6666666666666666,\"#ed7953\"],[0.7777777777777778,\"#fb9f3a\"],[0.8888888888888888,\"#fdca26\"],[1.0,\"#f0f921\"]]}],\"surface\":[{\"type\":\"surface\",\"colorbar\":{\"outlinewidth\":0,\"ticks\":\"\"},\"colorscale\":[[0.0,\"#0d0887\"],[0.1111111111111111,\"#46039f\"],[0.2222222222222222,\"#7201a8\"],[0.3333333333333333,\"#9c179e\"],[0.4444444444444444,\"#bd3786\"],[0.5555555555555556,\"#d8576b\"],[0.6666666666666666,\"#ed7953\"],[0.7777777777777778,\"#fb9f3a\"],[0.8888888888888888,\"#fdca26\"],[1.0,\"#f0f921\"]]}],\"mesh3d\":[{\"type\":\"mesh3d\",\"colorbar\":{\"outlinewidth\":0,\"ticks\":\"\"}}],\"scatter\":[{\"fillpattern\":{\"fillmode\":\"overlay\",\"size\":10,\"solidity\":0.2},\"type\":\"scatter\"}],\"parcoords\":[{\"type\":\"parcoords\",\"line\":{\"colorbar\":{\"outlinewidth\":0,\"ticks\":\"\"}}}],\"scatterpolargl\":[{\"type\":\"scatterpolargl\",\"marker\":{\"colorbar\":{\"outlinewidth\":0,\"ticks\":\"\"}}}],\"bar\":[{\"error_x\":{\"color\":\"#2a3f5f\"},\"error_y\":{\"color\":\"#2a3f5f\"},\"marker\":{\"line\":{\"color\":\"#E5ECF6\",\"width\":0.5},\"pattern\":{\"fillmode\":\"overlay\",\"size\":10,\"solidity\":0.2}},\"type\":\"bar\"}],\"scattergeo\":[{\"type\":\"scattergeo\",\"marker\":{\"colorbar\":{\"outlinewidth\":0,\"ticks\":\"\"}}}],\"scatterpolar\":[{\"type\":\"scatterpolar\",\"marker\":{\"colorbar\":{\"outlinewidth\":0,\"ticks\":\"\"}}}],\"histogram\":[{\"marker\":{\"pattern\":{\"fillmode\":\"overlay\",\"size\":10,\"solidity\":0.2}},\"type\":\"histogram\"}],\"scattergl\":[{\"type\":\"scattergl\",\"marker\":{\"colorbar\":{\"outlinewidth\":0,\"ticks\":\"\"}}}],\"scatter3d\":[{\"type\":\"scatter3d\",\"line\":{\"colorbar\":{\"outlinewidth\":0,\"ticks\":\"\"}},\"marker\":{\"colorbar\":{\"outlinewidth\":0,\"ticks\":\"\"}}}],\"scattermapbox\":[{\"type\":\"scattermapbox\",\"marker\":{\"colorbar\":{\"outlinewidth\":0,\"ticks\":\"\"}}}],\"scatterternary\":[{\"type\":\"scatterternary\",\"marker\":{\"colorbar\":{\"outlinewidth\":0,\"ticks\":\"\"}}}],\"scattercarpet\":[{\"type\":\"scattercarpet\",\"marker\":{\"colorbar\":{\"outlinewidth\":0,\"ticks\":\"\"}}}],\"carpet\":[{\"aaxis\":{\"endlinecolor\":\"#2a3f5f\",\"gridcolor\":\"white\",\"linecolor\":\"white\",\"minorgridcolor\":\"white\",\"startlinecolor\":\"#2a3f5f\"},\"baxis\":{\"endlinecolor\":\"#2a3f5f\",\"gridcolor\":\"white\",\"linecolor\":\"white\",\"minorgridcolor\":\"white\",\"startlinecolor\":\"#2a3f5f\"},\"type\":\"carpet\"}],\"table\":[{\"cells\":{\"fill\":{\"color\":\"#EBF0F8\"},\"line\":{\"color\":\"white\"}},\"header\":{\"fill\":{\"color\":\"#C8D4E3\"},\"line\":{\"color\":\"white\"}},\"type\":\"table\"}],\"barpolar\":[{\"marker\":{\"line\":{\"color\":\"#E5ECF6\",\"width\":0.5},\"pattern\":{\"fillmode\":\"overlay\",\"size\":10,\"solidity\":0.2}},\"type\":\"barpolar\"}],\"pie\":[{\"automargin\":true,\"type\":\"pie\"}]},\"layout\":{\"autotypenumbers\":\"strict\",\"colorway\":[\"#636efa\",\"#EF553B\",\"#00cc96\",\"#ab63fa\",\"#FFA15A\",\"#19d3f3\",\"#FF6692\",\"#B6E880\",\"#FF97FF\",\"#FECB52\"],\"font\":{\"color\":\"#2a3f5f\"},\"hovermode\":\"closest\",\"hoverlabel\":{\"align\":\"left\"},\"paper_bgcolor\":\"white\",\"plot_bgcolor\":\"#E5ECF6\",\"polar\":{\"bgcolor\":\"#E5ECF6\",\"angularaxis\":{\"gridcolor\":\"white\",\"linecolor\":\"white\",\"ticks\":\"\"},\"radialaxis\":{\"gridcolor\":\"white\",\"linecolor\":\"white\",\"ticks\":\"\"}},\"ternary\":{\"bgcolor\":\"#E5ECF6\",\"aaxis\":{\"gridcolor\":\"white\",\"linecolor\":\"white\",\"ticks\":\"\"},\"baxis\":{\"gridcolor\":\"white\",\"linecolor\":\"white\",\"ticks\":\"\"},\"caxis\":{\"gridcolor\":\"white\",\"linecolor\":\"white\",\"ticks\":\"\"}},\"coloraxis\":{\"colorbar\":{\"outlinewidth\":0,\"ticks\":\"\"}},\"colorscale\":{\"sequential\":[[0.0,\"#0d0887\"],[0.1111111111111111,\"#46039f\"],[0.2222222222222222,\"#7201a8\"],[0.3333333333333333,\"#9c179e\"],[0.4444444444444444,\"#bd3786\"],[0.5555555555555556,\"#d8576b\"],[0.6666666666666666,\"#ed7953\"],[0.7777777777777778,\"#fb9f3a\"],[0.8888888888888888,\"#fdca26\"],[1.0,\"#f0f921\"]],\"sequentialminus\":[[0.0,\"#0d0887\"],[0.1111111111111111,\"#46039f\"],[0.2222222222222222,\"#7201a8\"],[0.3333333333333333,\"#9c179e\"],[0.4444444444444444,\"#bd3786\"],[0.5555555555555556,\"#d8576b\"],[0.6666666666666666,\"#ed7953\"],[0.7777777777777778,\"#fb9f3a\"],[0.8888888888888888,\"#fdca26\"],[1.0,\"#f0f921\"]],\"diverging\":[[0,\"#8e0152\"],[0.1,\"#c51b7d\"],[0.2,\"#de77ae\"],[0.3,\"#f1b6da\"],[0.4,\"#fde0ef\"],[0.5,\"#f7f7f7\"],[0.6,\"#e6f5d0\"],[0.7,\"#b8e186\"],[0.8,\"#7fbc41\"],[0.9,\"#4d9221\"],[1,\"#276419\"]]},\"xaxis\":{\"gridcolor\":\"white\",\"linecolor\":\"white\",\"ticks\":\"\",\"title\":{\"standoff\":15},\"zerolinecolor\":\"white\",\"automargin\":true,\"zerolinewidth\":2},\"yaxis\":{\"gridcolor\":\"white\",\"linecolor\":\"white\",\"ticks\":\"\",\"title\":{\"standoff\":15},\"zerolinecolor\":\"white\",\"automargin\":true,\"zerolinewidth\":2},\"scene\":{\"xaxis\":{\"backgroundcolor\":\"#E5ECF6\",\"gridcolor\":\"white\",\"linecolor\":\"white\",\"showbackground\":true,\"ticks\":\"\",\"zerolinecolor\":\"white\",\"gridwidth\":2},\"yaxis\":{\"backgroundcolor\":\"#E5ECF6\",\"gridcolor\":\"white\",\"linecolor\":\"white\",\"showbackground\":true,\"ticks\":\"\",\"zerolinecolor\":\"white\",\"gridwidth\":2},\"zaxis\":{\"backgroundcolor\":\"#E5ECF6\",\"gridcolor\":\"white\",\"linecolor\":\"white\",\"showbackground\":true,\"ticks\":\"\",\"zerolinecolor\":\"white\",\"gridwidth\":2}},\"shapedefaults\":{\"line\":{\"color\":\"#2a3f5f\"}},\"annotationdefaults\":{\"arrowcolor\":\"#2a3f5f\",\"arrowhead\":0,\"arrowwidth\":1},\"geo\":{\"bgcolor\":\"white\",\"landcolor\":\"#E5ECF6\",\"subunitcolor\":\"white\",\"showland\":true,\"showlakes\":true,\"lakecolor\":\"white\"},\"title\":{\"x\":0.05},\"mapbox\":{\"style\":\"light\"}}},\"xaxis\":{\"anchor\":\"y\",\"domain\":[0.0,1.0],\"title\":{\"text\":\"Duration (Seconds, Outliers/Red Flags, Removed)\"}},\"yaxis\":{\"anchor\":\"x\",\"domain\":[0.0,1.0],\"title\":{\"text\":\"Driver\"},\"categoryorder\":\"array\",\"categoryarray\":[\"ALB\",\"ZHO\",\"GAS\",\"HUL\",\"RUS\",\"PIA\",\"HAM\",\"RIC\",\"SAI\",\"LEC\",\"VER\"]},\"legend\":{\"title\":{\"text\":\"Driver\"},\"tracegroupgap\":0},\"margin\":{\"t\":60},\"boxmode\":\"overlay\",\"showlegend\":false,\"title\":{\"font\":{\"family\":\"Arial, sans-serif\",\"size\":30},\"text\":\"<b>Lap Times</b>\",\"x\":0.5}},                        {\"responsive\": true}                    ).then(function(){\n",
       "                            \n",
       "var gd = document.getElementById('bfc3916b-fc9a-4c73-9692-e7d6bd306056');\n",
       "var x = new MutationObserver(function (mutations, observer) {{\n",
       "        var display = window.getComputedStyle(gd).display;\n",
       "        if (!display || display === 'none') {{\n",
       "            console.log([gd, 'removed!']);\n",
       "            Plotly.purge(gd);\n",
       "            observer.disconnect();\n",
       "        }}\n",
       "}});\n",
       "\n",
       "// Listen for the removal of the full notebook cells\n",
       "var notebookContainer = gd.closest('#notebook-container');\n",
       "if (notebookContainer) {{\n",
       "    x.observe(notebookContainer, {childList: true});\n",
       "}}\n",
       "\n",
       "// Listen for the clearing of the current output cell\n",
       "var outputEl = gd.closest('.output');\n",
       "if (outputEl) {{\n",
       "    x.observe(outputEl, {childList: true});\n",
       "}}\n",
       "\n",
       "                        })                };                });            </script>        </div>"
      ]
     },
     "metadata": {},
     "output_type": "display_data"
    }
   ],
   "source": [
    "if not lap_tim_emp:\n",
    "    fig = px.box(lap_driver_no, x=\"duration\", y=\"Driver\", color='Driver', points=False, color_discrete_map=color_map, labels={\n",
    "    \"code\": \"Driver\",\n",
    "    \"duration\":\"Duration (Seconds, Outliers/Red Flags, Removed)\"\n",
    "    })\n",
    "    fig.update_layout(showlegend=False)\n",
    "    fig.update_layout(title_text='<b>Lap Times</b>', titlefont = dict(\n",
    "         family = 'Arial, sans-serif',\n",
    "         size = 30\n",
    "      ), title_x=0.5)\n",
    "    fig.show()\n",
    "else:\n",
    "        display(md(f\"<h1 style='background:#FFF200;border:0; color:black;box-shadow: 10px 10px 5px 0px rgba(0,0,0,0.75);transform: rotateX(10deg);'><center style='color: black;'>No Lap Data Available From API</center></h1>\"))"
   ]
  },
  {
   "cell_type": "code",
   "execution_count": 28,
   "id": "1f63436f",
   "metadata": {
    "_kg_hide-input": true,
    "execution": {
     "iopub.execute_input": "2023-10-30T18:39:59.928506Z",
     "iopub.status.busy": "2023-10-30T18:39:59.928184Z",
     "iopub.status.idle": "2023-10-30T18:39:59.942342Z",
     "shell.execute_reply": "2023-10-30T18:39:59.940999Z"
    },
    "papermill": {
     "duration": 0.03134,
     "end_time": "2023-10-30T18:39:59.945051",
     "exception": false,
     "start_time": "2023-10-30T18:39:59.913711",
     "status": "completed"
    },
    "tags": []
   },
   "outputs": [],
   "source": [
    "def multi_lap_plot(names, addAll = True):\n",
    "    fig = go.Figure()\n",
    "\n",
    "    fig = px.line(lap_driver_no, x=\"lap\", y=\"duration\", color='Driver', labels={\n",
    "    \"duration\": \"Lap Time (In seconds, Outliers/Red Flags Removed)\",\n",
    "    \"lap\": \"Lap\"\n",
    "}, title='Lap Times', color_discrete_map=color_map)\n",
    "    fig.update_layout(title_text='<b>Lap Times</b>', titlefont = dict(\n",
    "         family = 'Arial, sans-serif',\n",
    "         size = 30\n",
    "      ), title_x=0.5)\n",
    "\n",
    "    button_all = dict(label = 'All',\n",
    "                      method = 'update',\n",
    "                      args = [{'visible': [True]*len(names),\n",
    "                               'title': 'All',\n",
    "                               'showlegend':True}])\n",
    "\n",
    "    def create_layout_button(column):\n",
    "        return dict(label = column,\n",
    "                    method = 'update',\n",
    "                    args = [{'visible': [c == column for c in names],\n",
    "                             'title': column,\n",
    "                             'showlegend': True}])\n",
    "\n",
    "    fig.update_layout(\n",
    "        updatemenus=[go.layout.Updatemenu(\n",
    "            active = 0,\n",
    "            buttons = ([button_all] * addAll) + [create_layout_button(column) for column in names]\n",
    "            )\n",
    "        ])\n",
    "    \n",
    "    fig.show()\n",
    "    \n",
    "    \n",
    "    \n",
    "def multi_pos_plot(names, addAll = True):\n",
    "    fig = go.Figure()\n",
    "\n",
    "    fig = px.line(lap_driver, x=\"lap\", y=\"position\", color='Driver', labels={\n",
    "    \"position\":  \"Position\",\n",
    "    \"lap\": \"Lap\"\n",
    "}, color_discrete_map=color_map)\n",
    "    fig.update_layout(title_text='<b>Position By Lap</b>', titlefont = dict(\n",
    "         family = 'Arial, sans-serif',\n",
    "         size = 30\n",
    "      ), title_x=0.5)\n",
    "\n",
    "    button_all = dict(label = 'All',\n",
    "                      method = 'update',\n",
    "                      args = [{'visible': [True]*len(names),\n",
    "                               'title': 'All',\n",
    "                               'showlegend':True}])\n",
    "\n",
    "    def create_layout_button(column):\n",
    "        return dict(label = column,\n",
    "                    method = 'update',\n",
    "                    args = [{'visible': [c == column for c in names],\n",
    "                             'title': column,\n",
    "                             'showlegend': True}])\n",
    "\n",
    "    fig.update_layout(\n",
    "        updatemenus=[go.layout.Updatemenu(\n",
    "            active = 0,\n",
    "            buttons = ([button_all] * addAll) + [create_layout_button(column) for column in names]\n",
    "            )\n",
    "        ])\n",
    "    \n",
    "    fig.show()\n"
   ]
  },
  {
   "cell_type": "code",
   "execution_count": 29,
   "id": "e5e29783",
   "metadata": {
    "_kg_hide-input": true,
    "execution": {
     "iopub.execute_input": "2023-10-30T18:39:59.973913Z",
     "iopub.status.busy": "2023-10-30T18:39:59.973529Z",
     "iopub.status.idle": "2023-10-30T18:40:00.073547Z",
     "shell.execute_reply": "2023-10-30T18:40:00.072342Z"
    },
    "papermill": {
     "duration": 0.117581,
     "end_time": "2023-10-30T18:40:00.076517",
     "exception": false,
     "start_time": "2023-10-30T18:39:59.958936",
     "status": "completed"
    },
    "tags": []
   },
   "outputs": [
    {
     "data": {
      "text/html": [
       "<div>                            <div id=\"d718cec3-c11f-4679-b3d0-1ebe69a69e57\" class=\"plotly-graph-div\" style=\"height:525px; width:100%;\"></div>            <script type=\"text/javascript\">                require([\"plotly\"], function(Plotly) {                    window.PLOTLYENV=window.PLOTLYENV || {};                                    if (document.getElementById(\"d718cec3-c11f-4679-b3d0-1ebe69a69e57\")) {                    Plotly.newPlot(                        \"d718cec3-c11f-4679-b3d0-1ebe69a69e57\",                        [{\"hovertemplate\":\"Driver=VER<br>Lap=%{x}<br>Lap Time (In seconds, Outliers/Red Flags Removed)=%{y}<extra></extra>\",\"legendgroup\":\"VER\",\"line\":{\"color\":\"#000B8D\",\"dash\":\"solid\"},\"marker\":{\"symbol\":\"circle\"},\"mode\":\"lines\",\"name\":\"VER\",\"orientation\":\"v\",\"showlegend\":true,\"x\":[1.0,2.0,3.0,4.0,6.0,7.0,8.0,9.0,10.0,11.0,12.0,13.0,14.0,15.0,16.0,17.0,18.0,19.0,21.0,22.0,23.0,24.0,25.0,26.0,27.0,28.0,29.0,30.0,31.0,32.0,33.0,37.0,38.0,39.0,40.0,41.0,42.0,43.0,44.0,45.0,46.0,47.0,48.0,49.0,50.0,51.0,52.0,53.0,54.0,55.0,56.0,57.0,58.0,59.0,60.0,61.0,62.0,63.0,64.0,65.0,66.0,67.0,68.0,69.0,70.0,71.0],\"xaxis\":\"x\",\"y\":[85.65299999999999,83.85900000000001,83.57300000000001,83.708,83.339,83.453,83.357,83.218,83.276,83.626,83.644,83.792,83.695,83.714,83.58500000000001,83.644,83.92699999999999,86.825,82.643,82.622,82.781,83.762,82.354,82.97200000000001,83.023,83.162,82.224,82.904,83.436,83.20400000000001,95.664,82.471,82.185,82.059,81.644,81.787,81.986,82.041,82.068,82.129,82.105,82.06,82.179,82.172,82.294,82.32300000000001,82.336,82.286,82.418,82.42099999999999,82.41499999999999,82.23,82.37,82.208,81.991,82.1,82.196,82.245,82.2,82.377,82.11,82.774,82.43,82.47,82.367,82.85],\"yaxis\":\"y\",\"type\":\"scatter\"},{\"hovertemplate\":\"Driver=LEC<br>Lap=%{x}<br>Lap Time (In seconds, Outliers/Red Flags Removed)=%{y}<extra></extra>\",\"legendgroup\":\"LEC\",\"line\":{\"color\":\"#EF1A2D\",\"dash\":\"solid\"},\"marker\":{\"symbol\":\"circle\"},\"mode\":\"lines\",\"name\":\"LEC\",\"orientation\":\"v\",\"showlegend\":true,\"x\":[1.0,2.0,3.0,4.0,6.0,7.0,8.0,9.0,10.0,11.0,12.0,13.0,14.0,15.0,16.0,17.0,18.0,19.0,20.0,21.0,22.0,23.0,24.0,25.0,26.0,27.0,28.0,29.0,30.0,31.0,33.0,37.0,38.0,39.0,40.0,41.0,42.0,43.0,44.0,45.0,46.0,47.0,48.0,49.0,50.0,51.0,52.0,53.0,54.0,55.0,56.0,57.0,58.0,59.0,60.0,61.0,62.0,63.0,64.0,65.0,66.0,67.0,68.0,69.0,70.0,71.0],\"xaxis\":\"x\",\"y\":[87.23,83.98,83.957,83.815,83.383,83.489,83.324,83.673,83.72200000000001,83.868,83.709,84.09,84.32,83.84,83.55199999999999,83.649,84.169,83.894,83.496,83.452,83.666,83.878,83.786,83.941,83.709,84.264,83.69,83.86,84.131,87.924,97.428,83.118,82.332,82.559,83.501,82.865,82.844,82.888,83.163,83.082,83.07300000000001,83.101,83.115,83.003,83.167,82.858,82.769,82.94200000000001,82.844,82.873,82.636,82.538,82.634,82.504,82.632,82.768,82.783,82.805,82.708,82.92099999999999,82.619,82.79599999999999,82.77199999999999,82.971,82.983,82.905],\"yaxis\":\"y\",\"type\":\"scatter\"},{\"hovertemplate\":\"Driver=SAI<br>Lap=%{x}<br>Lap Time (In seconds, Outliers/Red Flags Removed)=%{y}<extra></extra>\",\"legendgroup\":\"SAI\",\"line\":{\"color\":\"#EF1A2D\",\"dash\":\"solid\"},\"marker\":{\"symbol\":\"circle\"},\"mode\":\"lines\",\"name\":\"SAI\",\"orientation\":\"v\",\"showlegend\":true,\"x\":[1.0,2.0,3.0,4.0,6.0,7.0,8.0,9.0,10.0,11.0,12.0,13.0,14.0,15.0,16.0,17.0,18.0,19.0,20.0,21.0,22.0,23.0,24.0,25.0,26.0,27.0,28.0,29.0,30.0,32.0,37.0,38.0,39.0,40.0,41.0,42.0,43.0,44.0,45.0,46.0,47.0,48.0,49.0,50.0,51.0,52.0,53.0,54.0,55.0,56.0,57.0,58.0,59.0,60.0,61.0,62.0,63.0,64.0,65.0,66.0,67.0,68.0,69.0,70.0,71.0],\"xaxis\":\"x\",\"y\":[87.958,84.3,84.15299999999999,83.916,83.47800000000001,83.669,83.709,83.807,83.947,83.864,84.148,84.277,84.071,84.194,84.051,84.087,84.414,84.64699999999999,84.102,84.108,84.02199999999999,84.162,84.274,84.21000000000001,84.009,84.352,84.158,84.99,87.64,82.785,83.566,82.729,82.938,82.987,82.952,83.007,82.82900000000001,83.024,83.259,82.996,83.957,83.31,83.256,83.101,82.91,82.83500000000001,82.88,82.932,82.845,82.611,82.539,82.774,82.548,82.754,82.663,82.865,82.905,82.851,82.84100000000001,82.719,82.707,82.976,82.767,82.943,82.72],\"yaxis\":\"y\",\"type\":\"scatter\"},{\"hovertemplate\":\"Driver=RIC<br>Lap=%{x}<br>Lap Time (In seconds, Outliers/Red Flags Removed)=%{y}<extra></extra>\",\"legendgroup\":\"RIC\",\"line\":{\"color\":\"#20394C\",\"dash\":\"solid\"},\"marker\":{\"symbol\":\"circle\"},\"mode\":\"lines\",\"name\":\"RIC\",\"orientation\":\"v\",\"showlegend\":true,\"x\":[1.0,2.0,3.0,4.0,6.0,7.0,8.0,9.0,10.0,11.0,12.0,13.0,14.0,15.0,16.0,17.0,18.0,19.0,20.0,21.0,22.0,23.0,24.0,25.0,26.0,27.0,29.0,30.0,31.0,32.0,37.0,38.0,39.0,40.0,41.0,42.0,43.0,44.0,45.0,46.0,47.0,48.0,49.0,50.0,51.0,52.0,53.0,54.0,55.0,56.0,57.0,58.0,59.0,60.0,61.0,62.0,63.0,64.0,65.0,66.0,67.0,68.0,69.0,70.0,71.0],\"xaxis\":\"x\",\"y\":[88.84700000000001,84.178,84.166,83.916,83.426,83.81700000000001,84.03,83.938,84.133,85.563,84.129,84.34700000000001,84.02799999999999,84.116,84.248,84.311,84.559,84.59,84.321,84.236,84.5,84.319,84.593,85.259,84.215,87.032,83.599,83.571,83.738,83.682,83.489,82.952,82.93299999999999,82.877,82.945,83.174,82.90299999999999,83.065,83.608,83.28,83.783,83.473,83.467,83.509,83.135,83.282,83.126,83.059,83.307,83.357,83.007,83.144,83.10300000000001,85.294,83.655,83.07,82.862,82.811,82.839,82.679,83.133,83.235,83.174,83.28999999999999,85.314],\"yaxis\":\"y\",\"type\":\"scatter\"},{\"hovertemplate\":\"Driver=HAM<br>Lap=%{x}<br>Lap Time (In seconds, Outliers/Red Flags Removed)=%{y}<extra></extra>\",\"legendgroup\":\"HAM\",\"line\":{\"color\":\"#00A19B\",\"dash\":\"solid\"},\"marker\":{\"symbol\":\"circle\"},\"mode\":\"lines\",\"name\":\"HAM\",\"orientation\":\"v\",\"showlegend\":true,\"x\":[1.0,2.0,3.0,4.0,6.0,7.0,8.0,9.0,10.0,11.0,12.0,13.0,14.0,15.0,16.0,17.0,18.0,19.0,20.0,21.0,22.0,23.0,24.0,26.0,27.0,28.0,29.0,30.0,31.0,32.0,37.0,38.0,39.0,40.0,41.0,42.0,43.0,44.0,45.0,46.0,47.0,48.0,49.0,50.0,51.0,52.0,53.0,54.0,55.0,56.0,57.0,58.0,59.0,60.0,61.0,62.0,63.0,64.0,65.0,66.0,67.0,68.0,69.0,70.0,71.0],\"xaxis\":\"x\",\"y\":[89.425,84.314,84.162,83.887,83.3,83.707,84.29599999999999,83.964,83.785,83.951,83.632,84.072,83.839,83.831,83.94,84.365,84.107,84.34,84.181,84.172,84.58,84.231,86.973,82.87,83.717,83.47200000000001,83.381,83.219,83.607,83.19,83.152,82.432,82.394,81.852,82.231,82.467,82.354,82.414,82.438,82.72800000000001,82.413,83.429,82.615,82.77199999999999,83.538,82.72200000000001,82.563,82.919,82.831,82.777,82.629,82.334,82.437,82.083,82.691,82.252,82.412,82.497,81.991,82.078,83.926,82.78999999999999,82.566,83.339,81.334],\"yaxis\":\"y\",\"type\":\"scatter\"},{\"hovertemplate\":\"Driver=PIA<br>Lap=%{x}<br>Lap Time (In seconds, Outliers/Red Flags Removed)=%{y}<extra></extra>\",\"legendgroup\":\"PIA\",\"line\":{\"color\":\"#FF8000\",\"dash\":\"solid\"},\"marker\":{\"symbol\":\"circle\"},\"mode\":\"lines\",\"name\":\"PIA\",\"orientation\":\"v\",\"showlegend\":true,\"x\":[1.0,2.0,3.0,4.0,6.0,7.0,8.0,9.0,10.0,11.0,12.0,13.0,14.0,15.0,16.0,17.0,18.0,19.0,20.0,21.0,22.0,23.0,24.0,25.0,27.0,28.0,29.0,30.0,31.0,32.0,37.0,38.0,39.0,40.0,41.0,42.0,43.0,44.0,45.0,46.0,47.0,48.0,49.0,50.0,51.0,52.0,53.0,54.0,55.0,56.0,57.0,58.0,59.0,60.0,61.0,62.0,63.0,64.0,65.0,66.0,67.0,68.0,69.0,70.0,71.0],\"xaxis\":\"x\",\"y\":[90.74,84.416,84.096,83.649,83.407,84.111,83.998,84.422,84.181,84.53399999999999,84.123,84.26599999999999,84.14,84.39099999999999,84.382,84.419,84.694,84.599,84.368,84.22800000000001,84.261,85.126,84.676,87.574,83.69,83.519,83.471,83.265,83.669,83.531,83.8,83.151,83.65299999999999,82.924,82.947,83.259,82.88,83.19800000000001,83.117,83.447,83.44200000000001,85.475,84.269,83.213,83.004,83.118,82.76,82.877,83.01599999999999,84.999,83.473,83.362,83.231,83.181,82.815,82.947,83.157,82.977,83.208,83.133,83.238,83.362,83.168,82.98,83.42099999999999],\"yaxis\":\"y\",\"type\":\"scatter\"},{\"hovertemplate\":\"Driver=RUS<br>Lap=%{x}<br>Lap Time (In seconds, Outliers/Red Flags Removed)=%{y}<extra></extra>\",\"legendgroup\":\"RUS\",\"line\":{\"color\":\"#00A19B\",\"dash\":\"solid\"},\"marker\":{\"symbol\":\"circle\"},\"mode\":\"lines\",\"name\":\"RUS\",\"orientation\":\"v\",\"showlegend\":true,\"x\":[1.0,2.0,3.0,4.0,6.0,7.0,8.0,9.0,10.0,11.0,12.0,13.0,14.0,15.0,16.0,17.0,18.0,19.0,20.0,21.0,22.0,23.0,24.0,25.0,26.0,28.0,29.0,30.0,31.0,32.0,37.0,38.0,39.0,40.0,41.0,42.0,43.0,44.0,45.0,46.0,47.0,48.0,49.0,50.0,51.0,52.0,53.0,54.0,55.0,56.0,57.0,58.0,59.0,60.0,61.0,62.0,63.0,64.0,65.0,66.0,67.0,68.0,69.0,70.0,71.0],\"xaxis\":\"x\",\"y\":[91.098,84.5,84.27,84.136,83.453,84.207,84.201,84.1,83.842,84.64099999999999,84.223,84.512,84.648,84.39,85.19200000000001,84.502,84.307,84.285,84.071,84.19,85.257,84.273,84.477,84.32900000000001,87.16499999999999,84.021,83.18,83.435,83.508,83.09700000000001,83.464,82.78,83.137,82.80199999999999,83.006,83.21000000000001,82.854,82.908,83.212,82.932,83.97200000000001,83.358,83.369,83.612,83.273,83.035,82.983,83.06,83.36,82.995,82.973,83.348,82.936,82.929,82.983,83.029,82.93,83.004,83.181,83.239,85.868,83.749,83.39699999999999,83.39099999999999,85.487],\"yaxis\":\"y\",\"type\":\"scatter\"},{\"hovertemplate\":\"Driver=HUL<br>Lap=%{x}<br>Lap Time (In seconds, Outliers/Red Flags Removed)=%{y}<extra></extra>\",\"legendgroup\":\"HUL\",\"line\":{\"color\":\"#E6002B\",\"dash\":\"solid\"},\"marker\":{\"symbol\":\"circle\"},\"mode\":\"lines\",\"name\":\"HUL\",\"orientation\":\"v\",\"showlegend\":true,\"x\":[1.0,2.0,3.0,4.0,6.0,7.0,8.0,9.0,10.0,11.0,12.0,13.0,14.0,15.0,16.0,17.0,18.0,19.0,20.0,21.0,22.0,23.0,25.0,26.0,27.0,28.0,29.0,30.0,31.0,32.0,37.0,38.0,39.0,40.0,41.0,42.0,43.0,44.0,45.0,46.0,47.0,48.0,49.0,50.0,51.0,52.0,53.0,54.0,55.0,56.0,57.0,58.0,59.0,60.0,61.0,62.0,63.0,64.0,65.0,66.0,67.0,68.0,69.0,70.0,71.0],\"xaxis\":\"x\",\"y\":[91.561,85.057,84.735,84.337,83.756,84.549,84.923,84.856,84.77199999999999,85.025,85.03999999999999,85.004,85.263,85.128,85.279,84.987,85.318,85.167,84.813,84.70400000000001,85.064,88.6,83.833,84.28,84.668,84.626,84.8,83.576,83.912,84.408,84.02199999999999,83.3,83.83,83.307,83.263,83.316,83.22200000000001,83.72800000000001,83.947,84.248,85.12,83.98400000000001,84.467,83.964,83.969,84.12,84.276,84.324,84.151,83.687,83.757,84.227,83.977,83.634,83.843,84.447,84.444,83.989,84.37,86.767,85.346,84.889,85.013,87.168,87.623],\"yaxis\":\"y\",\"type\":\"scatter\"},{\"hovertemplate\":\"Driver=GAS<br>Lap=%{x}<br>Lap Time (In seconds, Outliers/Red Flags Removed)=%{y}<extra></extra>\",\"legendgroup\":\"GAS\",\"line\":{\"color\":\"#2173B8\",\"dash\":\"solid\"},\"marker\":{\"symbol\":\"circle\"},\"mode\":\"lines\",\"name\":\"GAS\",\"orientation\":\"v\",\"showlegend\":true,\"x\":[1.0,2.0,3.0,4.0,6.0,7.0,8.0,9.0,10.0,11.0,12.0,13.0,14.0,15.0,16.0,17.0,18.0,19.0,20.0,21.0,22.0,23.0,24.0,25.0,26.0,27.0,28.0,30.0,31.0,32.0,37.0,38.0,39.0,40.0,41.0,42.0,43.0,44.0,45.0,46.0,47.0,48.0,49.0,50.0,51.0,52.0,53.0,54.0,55.0,56.0,57.0,58.0,59.0,60.0,61.0,62.0,63.0,64.0,65.0,66.0,67.0,68.0,69.0,70.0,71.0],\"xaxis\":\"x\",\"y\":[91.94200000000001,85.443,84.804,84.249,83.989,84.292,84.82900000000001,84.958,84.88,84.9,85.189,85.15299999999999,85.003,85.11,85.121,85.331,85.419,85.126,84.779,84.732,85.087,85.36,84.435,85.078,84.914,84.97800000000001,87.81,84.005,83.6,83.779,84.247,83.586,83.307,83.524,83.407,83.426,83.23,83.385,84.325,84.42699999999999,84.267,84.167,84.614,83.937,84.041,84.527,84.274,84.246,83.842,83.727,83.695,84.38,83.672,83.916,83.824,84.276,84.229,84.282,84.029,84.726,83.512,83.324,83.35900000000001,83.306,83.3],\"yaxis\":\"y\",\"type\":\"scatter\"},{\"hovertemplate\":\"Driver=ZHO<br>Lap=%{x}<br>Lap Time (In seconds, Outliers/Red Flags Removed)=%{y}<extra></extra>\",\"legendgroup\":\"ZHO\",\"line\":{\"color\":\"#A42134\",\"dash\":\"solid\"},\"marker\":{\"symbol\":\"circle\"},\"mode\":\"lines\",\"name\":\"ZHO\",\"orientation\":\"v\",\"showlegend\":true,\"x\":[1.0,2.0,3.0,4.0,6.0,7.0,8.0,9.0,10.0,11.0,12.0,13.0,14.0,15.0,16.0,17.0,18.0,19.0,20.0,21.0,23.0,24.0,25.0,26.0,27.0,28.0,29.0,30.0,31.0,32.0,37.0,38.0,39.0,40.0,41.0,42.0,43.0,44.0,45.0,46.0,47.0,48.0,49.0,50.0,51.0,52.0,53.0,54.0,55.0,56.0,57.0,58.0,59.0,60.0,61.0,62.0,63.0,64.0,65.0,66.0,67.0,68.0,69.0,70.0,71.0],\"xaxis\":\"x\",\"y\":[92.482,85.512,84.86,84.161,84.088,84.269,84.652,84.89,85.09100000000001,84.814,85.07,85.447,85.602,86.64099999999999,85.607,85.314,85.556,85.186,85.438,88.634,83.583,83.839,84.336,84.623,84.6,84.564,84.596,86.166,84.896,84.377,86.21000000000001,84.081,83.56700000000001,83.672,83.85900000000001,83.988,85.20400000000001,84.303,84.336,86.227,84.657,84.348,84.907,84.119,84.354,84.489,84.354,84.008,83.845,83.754,84.404,84.08,83.846,83.69800000000001,83.846,83.85900000000001,84.259,84.237,84.047,84.464,84.876,84.121,83.742,83.82900000000001,84.39099999999999],\"yaxis\":\"y\",\"type\":\"scatter\"},{\"hovertemplate\":\"Driver=ALB<br>Lap=%{x}<br>Lap Time (In seconds, Outliers/Red Flags Removed)=%{y}<extra></extra>\",\"legendgroup\":\"ALB\",\"line\":{\"color\":\"#00A0DE\",\"dash\":\"solid\"},\"marker\":{\"symbol\":\"circle\"},\"mode\":\"lines\",\"name\":\"ALB\",\"orientation\":\"v\",\"showlegend\":true,\"x\":[1.0,2.0,3.0,4.0,6.0,7.0,8.0,9.0,10.0,11.0,12.0,13.0,14.0,15.0,16.0,17.0,18.0,19.0,20.0,21.0,22.0,23.0,24.0,25.0,26.0,27.0,28.0,29.0,30.0,31.0,32.0,37.0,38.0,39.0,40.0,41.0,42.0,43.0,44.0,45.0,46.0,47.0,48.0,49.0,50.0,51.0,52.0,53.0,54.0,55.0,56.0,57.0,58.0],\"xaxis\":\"x\",\"y\":[93.136,85.55199999999999,84.801,84.37,84.193,84.402,84.662,84.906,85.0,84.924,84.901,85.44200000000001,85.44800000000001,85.172,85.531,85.22200000000001,85.542,85.457,85.39699999999999,85.09700000000001,85.154,84.89,85.019,84.813,84.78999999999999,85.131,85.709,85.968,85.279,85.936,85.094,84.06700000000001,82.998,84.014,83.008,83.32300000000001,83.34700000000001,83.31700000000001,83.40899999999999,83.578,83.898,84.142,84.063,85.654,83.805,83.86,83.768,83.759,83.608,84.033,83.568,83.236,83.238],\"yaxis\":\"y\",\"type\":\"scatter\"}],                        {\"template\":{\"data\":{\"histogram2dcontour\":[{\"type\":\"histogram2dcontour\",\"colorbar\":{\"outlinewidth\":0,\"ticks\":\"\"},\"colorscale\":[[0.0,\"#0d0887\"],[0.1111111111111111,\"#46039f\"],[0.2222222222222222,\"#7201a8\"],[0.3333333333333333,\"#9c179e\"],[0.4444444444444444,\"#bd3786\"],[0.5555555555555556,\"#d8576b\"],[0.6666666666666666,\"#ed7953\"],[0.7777777777777778,\"#fb9f3a\"],[0.8888888888888888,\"#fdca26\"],[1.0,\"#f0f921\"]]}],\"choropleth\":[{\"type\":\"choropleth\",\"colorbar\":{\"outlinewidth\":0,\"ticks\":\"\"}}],\"histogram2d\":[{\"type\":\"histogram2d\",\"colorbar\":{\"outlinewidth\":0,\"ticks\":\"\"},\"colorscale\":[[0.0,\"#0d0887\"],[0.1111111111111111,\"#46039f\"],[0.2222222222222222,\"#7201a8\"],[0.3333333333333333,\"#9c179e\"],[0.4444444444444444,\"#bd3786\"],[0.5555555555555556,\"#d8576b\"],[0.6666666666666666,\"#ed7953\"],[0.7777777777777778,\"#fb9f3a\"],[0.8888888888888888,\"#fdca26\"],[1.0,\"#f0f921\"]]}],\"heatmap\":[{\"type\":\"heatmap\",\"colorbar\":{\"outlinewidth\":0,\"ticks\":\"\"},\"colorscale\":[[0.0,\"#0d0887\"],[0.1111111111111111,\"#46039f\"],[0.2222222222222222,\"#7201a8\"],[0.3333333333333333,\"#9c179e\"],[0.4444444444444444,\"#bd3786\"],[0.5555555555555556,\"#d8576b\"],[0.6666666666666666,\"#ed7953\"],[0.7777777777777778,\"#fb9f3a\"],[0.8888888888888888,\"#fdca26\"],[1.0,\"#f0f921\"]]}],\"heatmapgl\":[{\"type\":\"heatmapgl\",\"colorbar\":{\"outlinewidth\":0,\"ticks\":\"\"},\"colorscale\":[[0.0,\"#0d0887\"],[0.1111111111111111,\"#46039f\"],[0.2222222222222222,\"#7201a8\"],[0.3333333333333333,\"#9c179e\"],[0.4444444444444444,\"#bd3786\"],[0.5555555555555556,\"#d8576b\"],[0.6666666666666666,\"#ed7953\"],[0.7777777777777778,\"#fb9f3a\"],[0.8888888888888888,\"#fdca26\"],[1.0,\"#f0f921\"]]}],\"contourcarpet\":[{\"type\":\"contourcarpet\",\"colorbar\":{\"outlinewidth\":0,\"ticks\":\"\"}}],\"contour\":[{\"type\":\"contour\",\"colorbar\":{\"outlinewidth\":0,\"ticks\":\"\"},\"colorscale\":[[0.0,\"#0d0887\"],[0.1111111111111111,\"#46039f\"],[0.2222222222222222,\"#7201a8\"],[0.3333333333333333,\"#9c179e\"],[0.4444444444444444,\"#bd3786\"],[0.5555555555555556,\"#d8576b\"],[0.6666666666666666,\"#ed7953\"],[0.7777777777777778,\"#fb9f3a\"],[0.8888888888888888,\"#fdca26\"],[1.0,\"#f0f921\"]]}],\"surface\":[{\"type\":\"surface\",\"colorbar\":{\"outlinewidth\":0,\"ticks\":\"\"},\"colorscale\":[[0.0,\"#0d0887\"],[0.1111111111111111,\"#46039f\"],[0.2222222222222222,\"#7201a8\"],[0.3333333333333333,\"#9c179e\"],[0.4444444444444444,\"#bd3786\"],[0.5555555555555556,\"#d8576b\"],[0.6666666666666666,\"#ed7953\"],[0.7777777777777778,\"#fb9f3a\"],[0.8888888888888888,\"#fdca26\"],[1.0,\"#f0f921\"]]}],\"mesh3d\":[{\"type\":\"mesh3d\",\"colorbar\":{\"outlinewidth\":0,\"ticks\":\"\"}}],\"scatter\":[{\"fillpattern\":{\"fillmode\":\"overlay\",\"size\":10,\"solidity\":0.2},\"type\":\"scatter\"}],\"parcoords\":[{\"type\":\"parcoords\",\"line\":{\"colorbar\":{\"outlinewidth\":0,\"ticks\":\"\"}}}],\"scatterpolargl\":[{\"type\":\"scatterpolargl\",\"marker\":{\"colorbar\":{\"outlinewidth\":0,\"ticks\":\"\"}}}],\"bar\":[{\"error_x\":{\"color\":\"#2a3f5f\"},\"error_y\":{\"color\":\"#2a3f5f\"},\"marker\":{\"line\":{\"color\":\"#E5ECF6\",\"width\":0.5},\"pattern\":{\"fillmode\":\"overlay\",\"size\":10,\"solidity\":0.2}},\"type\":\"bar\"}],\"scattergeo\":[{\"type\":\"scattergeo\",\"marker\":{\"colorbar\":{\"outlinewidth\":0,\"ticks\":\"\"}}}],\"scatterpolar\":[{\"type\":\"scatterpolar\",\"marker\":{\"colorbar\":{\"outlinewidth\":0,\"ticks\":\"\"}}}],\"histogram\":[{\"marker\":{\"pattern\":{\"fillmode\":\"overlay\",\"size\":10,\"solidity\":0.2}},\"type\":\"histogram\"}],\"scattergl\":[{\"type\":\"scattergl\",\"marker\":{\"colorbar\":{\"outlinewidth\":0,\"ticks\":\"\"}}}],\"scatter3d\":[{\"type\":\"scatter3d\",\"line\":{\"colorbar\":{\"outlinewidth\":0,\"ticks\":\"\"}},\"marker\":{\"colorbar\":{\"outlinewidth\":0,\"ticks\":\"\"}}}],\"scattermapbox\":[{\"type\":\"scattermapbox\",\"marker\":{\"colorbar\":{\"outlinewidth\":0,\"ticks\":\"\"}}}],\"scatterternary\":[{\"type\":\"scatterternary\",\"marker\":{\"colorbar\":{\"outlinewidth\":0,\"ticks\":\"\"}}}],\"scattercarpet\":[{\"type\":\"scattercarpet\",\"marker\":{\"colorbar\":{\"outlinewidth\":0,\"ticks\":\"\"}}}],\"carpet\":[{\"aaxis\":{\"endlinecolor\":\"#2a3f5f\",\"gridcolor\":\"white\",\"linecolor\":\"white\",\"minorgridcolor\":\"white\",\"startlinecolor\":\"#2a3f5f\"},\"baxis\":{\"endlinecolor\":\"#2a3f5f\",\"gridcolor\":\"white\",\"linecolor\":\"white\",\"minorgridcolor\":\"white\",\"startlinecolor\":\"#2a3f5f\"},\"type\":\"carpet\"}],\"table\":[{\"cells\":{\"fill\":{\"color\":\"#EBF0F8\"},\"line\":{\"color\":\"white\"}},\"header\":{\"fill\":{\"color\":\"#C8D4E3\"},\"line\":{\"color\":\"white\"}},\"type\":\"table\"}],\"barpolar\":[{\"marker\":{\"line\":{\"color\":\"#E5ECF6\",\"width\":0.5},\"pattern\":{\"fillmode\":\"overlay\",\"size\":10,\"solidity\":0.2}},\"type\":\"barpolar\"}],\"pie\":[{\"automargin\":true,\"type\":\"pie\"}]},\"layout\":{\"autotypenumbers\":\"strict\",\"colorway\":[\"#636efa\",\"#EF553B\",\"#00cc96\",\"#ab63fa\",\"#FFA15A\",\"#19d3f3\",\"#FF6692\",\"#B6E880\",\"#FF97FF\",\"#FECB52\"],\"font\":{\"color\":\"#2a3f5f\"},\"hovermode\":\"closest\",\"hoverlabel\":{\"align\":\"left\"},\"paper_bgcolor\":\"white\",\"plot_bgcolor\":\"#E5ECF6\",\"polar\":{\"bgcolor\":\"#E5ECF6\",\"angularaxis\":{\"gridcolor\":\"white\",\"linecolor\":\"white\",\"ticks\":\"\"},\"radialaxis\":{\"gridcolor\":\"white\",\"linecolor\":\"white\",\"ticks\":\"\"}},\"ternary\":{\"bgcolor\":\"#E5ECF6\",\"aaxis\":{\"gridcolor\":\"white\",\"linecolor\":\"white\",\"ticks\":\"\"},\"baxis\":{\"gridcolor\":\"white\",\"linecolor\":\"white\",\"ticks\":\"\"},\"caxis\":{\"gridcolor\":\"white\",\"linecolor\":\"white\",\"ticks\":\"\"}},\"coloraxis\":{\"colorbar\":{\"outlinewidth\":0,\"ticks\":\"\"}},\"colorscale\":{\"sequential\":[[0.0,\"#0d0887\"],[0.1111111111111111,\"#46039f\"],[0.2222222222222222,\"#7201a8\"],[0.3333333333333333,\"#9c179e\"],[0.4444444444444444,\"#bd3786\"],[0.5555555555555556,\"#d8576b\"],[0.6666666666666666,\"#ed7953\"],[0.7777777777777778,\"#fb9f3a\"],[0.8888888888888888,\"#fdca26\"],[1.0,\"#f0f921\"]],\"sequentialminus\":[[0.0,\"#0d0887\"],[0.1111111111111111,\"#46039f\"],[0.2222222222222222,\"#7201a8\"],[0.3333333333333333,\"#9c179e\"],[0.4444444444444444,\"#bd3786\"],[0.5555555555555556,\"#d8576b\"],[0.6666666666666666,\"#ed7953\"],[0.7777777777777778,\"#fb9f3a\"],[0.8888888888888888,\"#fdca26\"],[1.0,\"#f0f921\"]],\"diverging\":[[0,\"#8e0152\"],[0.1,\"#c51b7d\"],[0.2,\"#de77ae\"],[0.3,\"#f1b6da\"],[0.4,\"#fde0ef\"],[0.5,\"#f7f7f7\"],[0.6,\"#e6f5d0\"],[0.7,\"#b8e186\"],[0.8,\"#7fbc41\"],[0.9,\"#4d9221\"],[1,\"#276419\"]]},\"xaxis\":{\"gridcolor\":\"white\",\"linecolor\":\"white\",\"ticks\":\"\",\"title\":{\"standoff\":15},\"zerolinecolor\":\"white\",\"automargin\":true,\"zerolinewidth\":2},\"yaxis\":{\"gridcolor\":\"white\",\"linecolor\":\"white\",\"ticks\":\"\",\"title\":{\"standoff\":15},\"zerolinecolor\":\"white\",\"automargin\":true,\"zerolinewidth\":2},\"scene\":{\"xaxis\":{\"backgroundcolor\":\"#E5ECF6\",\"gridcolor\":\"white\",\"linecolor\":\"white\",\"showbackground\":true,\"ticks\":\"\",\"zerolinecolor\":\"white\",\"gridwidth\":2},\"yaxis\":{\"backgroundcolor\":\"#E5ECF6\",\"gridcolor\":\"white\",\"linecolor\":\"white\",\"showbackground\":true,\"ticks\":\"\",\"zerolinecolor\":\"white\",\"gridwidth\":2},\"zaxis\":{\"backgroundcolor\":\"#E5ECF6\",\"gridcolor\":\"white\",\"linecolor\":\"white\",\"showbackground\":true,\"ticks\":\"\",\"zerolinecolor\":\"white\",\"gridwidth\":2}},\"shapedefaults\":{\"line\":{\"color\":\"#2a3f5f\"}},\"annotationdefaults\":{\"arrowcolor\":\"#2a3f5f\",\"arrowhead\":0,\"arrowwidth\":1},\"geo\":{\"bgcolor\":\"white\",\"landcolor\":\"#E5ECF6\",\"subunitcolor\":\"white\",\"showland\":true,\"showlakes\":true,\"lakecolor\":\"white\"},\"title\":{\"x\":0.05},\"mapbox\":{\"style\":\"light\"}}},\"xaxis\":{\"anchor\":\"y\",\"domain\":[0.0,1.0],\"title\":{\"text\":\"Lap\"}},\"yaxis\":{\"anchor\":\"x\",\"domain\":[0.0,1.0],\"title\":{\"text\":\"Lap Time (In seconds, Outliers/Red Flags Removed)\"}},\"legend\":{\"title\":{\"text\":\"Driver\"},\"tracegroupgap\":0},\"title\":{\"text\":\"<b>Lap Times</b>\",\"font\":{\"family\":\"Arial, sans-serif\",\"size\":30},\"x\":0.5},\"updatemenus\":[{\"active\":0,\"buttons\":[{\"args\":[{\"visible\":[true,true,true,true,true,true,true,true,true,true,true,true,true,true,true,true,true,true,true,true],\"title\":\"All\",\"showlegend\":true}],\"label\":\"All\",\"method\":\"update\"},{\"args\":[{\"visible\":[true,false,false,false,false,false,false,false,false,false,false,false,false,false,false,false,false,false,false,false],\"title\":\"ALB\",\"showlegend\":true}],\"label\":\"ALB\",\"method\":\"update\"},{\"args\":[{\"visible\":[false,true,false,false,false,false,false,false,false,false,false,false,false,false,false,false,false,false,false,false],\"title\":\"ALO\",\"showlegend\":true}],\"label\":\"ALO\",\"method\":\"update\"},{\"args\":[{\"visible\":[false,false,true,false,false,false,false,false,false,false,false,false,false,false,false,false,false,false,false,false],\"title\":\"BOT\",\"showlegend\":true}],\"label\":\"BOT\",\"method\":\"update\"},{\"args\":[{\"visible\":[false,false,false,true,false,false,false,false,false,false,false,false,false,false,false,false,false,false,false,false],\"title\":\"GAS\",\"showlegend\":true}],\"label\":\"GAS\",\"method\":\"update\"},{\"args\":[{\"visible\":[false,false,false,false,true,false,false,false,false,false,false,false,false,false,false,false,false,false,false,false],\"title\":\"HAM\",\"showlegend\":true}],\"label\":\"HAM\",\"method\":\"update\"},{\"args\":[{\"visible\":[false,false,false,false,false,true,false,false,false,false,false,false,false,false,false,false,false,false,false,false],\"title\":\"HUL\",\"showlegend\":true}],\"label\":\"HUL\",\"method\":\"update\"},{\"args\":[{\"visible\":[false,false,false,false,false,false,true,false,false,false,false,false,false,false,false,false,false,false,false,false],\"title\":\"LEC\",\"showlegend\":true}],\"label\":\"LEC\",\"method\":\"update\"},{\"args\":[{\"visible\":[false,false,false,false,false,false,false,true,false,false,false,false,false,false,false,false,false,false,false,false],\"title\":\"MAG\",\"showlegend\":true}],\"label\":\"MAG\",\"method\":\"update\"},{\"args\":[{\"visible\":[false,false,false,false,false,false,false,false,true,false,false,false,false,false,false,false,false,false,false,false],\"title\":\"NOR\",\"showlegend\":true}],\"label\":\"NOR\",\"method\":\"update\"},{\"args\":[{\"visible\":[false,false,false,false,false,false,false,false,false,true,false,false,false,false,false,false,false,false,false,false],\"title\":\"OCO\",\"showlegend\":true}],\"label\":\"OCO\",\"method\":\"update\"},{\"args\":[{\"visible\":[false,false,false,false,false,false,false,false,false,false,true,false,false,false,false,false,false,false,false,false],\"title\":\"PER\",\"showlegend\":true}],\"label\":\"PER\",\"method\":\"update\"},{\"args\":[{\"visible\":[false,false,false,false,false,false,false,false,false,false,false,true,false,false,false,false,false,false,false,false],\"title\":\"PIA\",\"showlegend\":true}],\"label\":\"PIA\",\"method\":\"update\"},{\"args\":[{\"visible\":[false,false,false,false,false,false,false,false,false,false,false,false,true,false,false,false,false,false,false,false],\"title\":\"RIC\",\"showlegend\":true}],\"label\":\"RIC\",\"method\":\"update\"},{\"args\":[{\"visible\":[false,false,false,false,false,false,false,false,false,false,false,false,false,true,false,false,false,false,false,false],\"title\":\"RUS\",\"showlegend\":true}],\"label\":\"RUS\",\"method\":\"update\"},{\"args\":[{\"visible\":[false,false,false,false,false,false,false,false,false,false,false,false,false,false,true,false,false,false,false,false],\"title\":\"SAI\",\"showlegend\":true}],\"label\":\"SAI\",\"method\":\"update\"},{\"args\":[{\"visible\":[false,false,false,false,false,false,false,false,false,false,false,false,false,false,false,true,false,false,false,false],\"title\":\"SAR\",\"showlegend\":true}],\"label\":\"SAR\",\"method\":\"update\"},{\"args\":[{\"visible\":[false,false,false,false,false,false,false,false,false,false,false,false,false,false,false,false,true,false,false,false],\"title\":\"STR\",\"showlegend\":true}],\"label\":\"STR\",\"method\":\"update\"},{\"args\":[{\"visible\":[false,false,false,false,false,false,false,false,false,false,false,false,false,false,false,false,false,true,false,false],\"title\":\"TSU\",\"showlegend\":true}],\"label\":\"TSU\",\"method\":\"update\"},{\"args\":[{\"visible\":[false,false,false,false,false,false,false,false,false,false,false,false,false,false,false,false,false,false,true,false],\"title\":\"VER\",\"showlegend\":true}],\"label\":\"VER\",\"method\":\"update\"},{\"args\":[{\"visible\":[false,false,false,false,false,false,false,false,false,false,false,false,false,false,false,false,false,false,false,true],\"title\":\"ZHO\",\"showlegend\":true}],\"label\":\"ZHO\",\"method\":\"update\"}]}]},                        {\"responsive\": true}                    ).then(function(){\n",
       "                            \n",
       "var gd = document.getElementById('d718cec3-c11f-4679-b3d0-1ebe69a69e57');\n",
       "var x = new MutationObserver(function (mutations, observer) {{\n",
       "        var display = window.getComputedStyle(gd).display;\n",
       "        if (!display || display === 'none') {{\n",
       "            console.log([gd, 'removed!']);\n",
       "            Plotly.purge(gd);\n",
       "            observer.disconnect();\n",
       "        }}\n",
       "}});\n",
       "\n",
       "// Listen for the removal of the full notebook cells\n",
       "var notebookContainer = gd.closest('#notebook-container');\n",
       "if (notebookContainer) {{\n",
       "    x.observe(notebookContainer, {childList: true});\n",
       "}}\n",
       "\n",
       "// Listen for the clearing of the current output cell\n",
       "var outputEl = gd.closest('.output');\n",
       "if (outputEl) {{\n",
       "    x.observe(outputEl, {childList: true});\n",
       "}}\n",
       "\n",
       "                        })                };                });            </script>        </div>"
      ]
     },
     "metadata": {},
     "output_type": "display_data"
    }
   ],
   "source": [
    "if not lap_tim_emp:\n",
    "    multi_lap_plot(mapping)"
   ]
  },
  {
   "cell_type": "code",
   "execution_count": 30,
   "id": "fa5844f5",
   "metadata": {
    "_kg_hide-input": true,
    "execution": {
     "iopub.execute_input": "2023-10-30T18:40:00.107807Z",
     "iopub.status.busy": "2023-10-30T18:40:00.107367Z",
     "iopub.status.idle": "2023-10-30T18:40:00.212266Z",
     "shell.execute_reply": "2023-10-30T18:40:00.211117Z"
    },
    "papermill": {
     "duration": 0.123313,
     "end_time": "2023-10-30T18:40:00.214332",
     "exception": false,
     "start_time": "2023-10-30T18:40:00.091019",
     "status": "completed"
    },
    "tags": []
   },
   "outputs": [
    {
     "data": {
      "text/html": [
       "<div>                            <div id=\"c7b8e7b5-9c2b-4214-b8a0-1c0870b3552c\" class=\"plotly-graph-div\" style=\"height:525px; width:100%;\"></div>            <script type=\"text/javascript\">                require([\"plotly\"], function(Plotly) {                    window.PLOTLYENV=window.PLOTLYENV || {};                                    if (document.getElementById(\"c7b8e7b5-9c2b-4214-b8a0-1c0870b3552c\")) {                    Plotly.newPlot(                        \"c7b8e7b5-9c2b-4214-b8a0-1c0870b3552c\",                        [{\"hovertemplate\":\"Driver=VER<br>Lap=%{x}<br>Position=%{y}<extra></extra>\",\"legendgroup\":\"VER\",\"line\":{\"color\":\"#000B8D\",\"dash\":\"solid\"},\"marker\":{\"symbol\":\"circle\"},\"mode\":\"lines\",\"name\":\"VER\",\"orientation\":\"v\",\"showlegend\":true,\"x\":[1.0,2.0,3.0,4.0,5.0,6.0,7.0,8.0,9.0,10.0,11.0,12.0,13.0,14.0,15.0,16.0,17.0,18.0,19.0,20.0,21.0,22.0,23.0,24.0,25.0,26.0,27.0,28.0,29.0,30.0,31.0,32.0,33.0,34.0,36.0,37.0,38.0,39.0,40.0,41.0,42.0,43.0,44.0,45.0,46.0,47.0,48.0,49.0,50.0,51.0,52.0,53.0,54.0,55.0,56.0,57.0,58.0,59.0,60.0,61.0,62.0,63.0,64.0,65.0,66.0,67.0,68.0,69.0,70.0,71.0],\"xaxis\":\"x\",\"y\":[1,1,1,1,1,1,1,1,1,1,1,1,1,1,1,1,1,1,1,7,7,6,5,5,3,3,3,3,2,2,2,1,1,1,1,1,1,1,1,1,1,1,1,1,1,1,1,1,1,1,1,1,1,1,1,1,1,1,1,1,1,1,1,1,1,1,1,1,1,1],\"yaxis\":\"y\",\"type\":\"scatter\"},{\"hovertemplate\":\"Driver=LEC<br>Lap=%{x}<br>Position=%{y}<extra></extra>\",\"legendgroup\":\"LEC\",\"line\":{\"color\":\"#EF1A2D\",\"dash\":\"solid\"},\"marker\":{\"symbol\":\"circle\"},\"mode\":\"lines\",\"name\":\"LEC\",\"orientation\":\"v\",\"showlegend\":true,\"x\":[1.0,2.0,3.0,4.0,5.0,6.0,7.0,8.0,9.0,10.0,11.0,12.0,13.0,14.0,15.0,16.0,17.0,18.0,19.0,20.0,21.0,22.0,23.0,24.0,25.0,26.0,27.0,28.0,29.0,30.0,31.0,32.0,33.0,34.0,36.0,37.0,38.0,39.0,40.0,41.0,42.0,43.0,44.0,45.0,46.0,47.0,48.0,49.0,50.0,51.0,52.0,53.0,54.0,55.0,56.0,57.0,58.0,59.0,60.0,61.0,62.0,63.0,64.0,65.0,66.0,67.0,68.0,69.0,70.0,71.0],\"xaxis\":\"x\",\"y\":[2,2,2,2,2,2,2,2,2,2,2,2,2,2,2,2,2,2,2,1,1,1,1,1,1,1,1,1,1,1,1,2,2,2,2,2,2,2,3,3,3,3,3,3,3,3,3,3,3,3,3,3,3,3,3,3,3,3,3,3,3,3,3,3,3,3,3,3,3,3],\"yaxis\":\"y\",\"type\":\"scatter\"},{\"hovertemplate\":\"Driver=SAI<br>Lap=%{x}<br>Position=%{y}<extra></extra>\",\"legendgroup\":\"SAI\",\"line\":{\"color\":\"#EF1A2D\",\"dash\":\"solid\"},\"marker\":{\"symbol\":\"circle\"},\"mode\":\"lines\",\"name\":\"SAI\",\"orientation\":\"v\",\"showlegend\":true,\"x\":[1.0,2.0,3.0,4.0,5.0,6.0,7.0,8.0,9.0,10.0,11.0,12.0,13.0,14.0,15.0,16.0,17.0,18.0,19.0,20.0,21.0,22.0,23.0,24.0,25.0,26.0,27.0,28.0,29.0,30.0,31.0,32.0,33.0,34.0,36.0,37.0,38.0,39.0,40.0,41.0,42.0,43.0,44.0,45.0,46.0,47.0,48.0,49.0,50.0,51.0,52.0,53.0,54.0,55.0,56.0,57.0,58.0,59.0,60.0,61.0,62.0,63.0,64.0,65.0,66.0,67.0,68.0,69.0,70.0,71.0],\"xaxis\":\"x\",\"y\":[3,3,3,3,3,3,3,3,3,3,3,3,3,3,3,3,3,3,3,2,2,2,2,2,2,2,2,2,3,3,4,4,4,4,4,4,4,4,4,4,4,4,4,4,4,4,4,4,4,4,4,4,4,4,4,4,4,4,4,4,4,4,4,4,4,4,4,4,4,4],\"yaxis\":\"y\",\"type\":\"scatter\"},{\"hovertemplate\":\"Driver=RIC<br>Lap=%{x}<br>Position=%{y}<extra></extra>\",\"legendgroup\":\"RIC\",\"line\":{\"color\":\"#20394C\",\"dash\":\"solid\"},\"marker\":{\"symbol\":\"circle\"},\"mode\":\"lines\",\"name\":\"RIC\",\"orientation\":\"v\",\"showlegend\":true,\"x\":[1.0,2.0,3.0,4.0,5.0,6.0,7.0,8.0,9.0,10.0,11.0,12.0,13.0,14.0,15.0,16.0,17.0,18.0,19.0,20.0,21.0,22.0,23.0,24.0,25.0,26.0,27.0,28.0,29.0,30.0,31.0,32.0,33.0,34.0,36.0,37.0,38.0,39.0,40.0,41.0,42.0,43.0,44.0,45.0,46.0,47.0,48.0,49.0,50.0,51.0,52.0,53.0,54.0,55.0,56.0,57.0,58.0,59.0,60.0,61.0,62.0,63.0,64.0,65.0,66.0,67.0,68.0,69.0,70.0,71.0],\"xaxis\":\"x\",\"y\":[4,4,4,4,4,4,4,4,4,4,5,5,5,5,5,5,5,5,5,4,4,4,4,4,4,4,4,5,5,5,5,5,5,5,6,6,6,6,6,6,6,6,6,6,6,6,6,6,6,6,6,6,6,6,6,6,6,6,7,7,7,7,7,7,7,7,7,7,7,7],\"yaxis\":\"y\",\"type\":\"scatter\"},{\"hovertemplate\":\"Driver=HAM<br>Lap=%{x}<br>Position=%{y}<extra></extra>\",\"legendgroup\":\"HAM\",\"line\":{\"color\":\"#00A19B\",\"dash\":\"solid\"},\"marker\":{\"symbol\":\"circle\"},\"mode\":\"lines\",\"name\":\"HAM\",\"orientation\":\"v\",\"showlegend\":true,\"x\":[1.0,2.0,3.0,4.0,5.0,6.0,7.0,8.0,9.0,10.0,11.0,12.0,13.0,14.0,15.0,16.0,17.0,18.0,19.0,20.0,21.0,22.0,23.0,24.0,25.0,26.0,27.0,28.0,29.0,30.0,31.0,32.0,33.0,34.0,36.0,37.0,38.0,39.0,40.0,41.0,42.0,43.0,44.0,45.0,46.0,47.0,48.0,49.0,50.0,51.0,52.0,53.0,54.0,55.0,56.0,57.0,58.0,59.0,60.0,61.0,62.0,63.0,64.0,65.0,66.0,67.0,68.0,69.0,70.0,71.0],\"xaxis\":\"x\",\"y\":[5,5,5,5,5,5,5,5,5,5,4,4,4,4,4,4,4,4,4,3,3,3,3,3,7,6,5,4,4,4,3,3,3,3,3,3,3,3,2,2,2,2,2,2,2,2,2,2,2,2,2,2,2,2,2,2,2,2,2,2,2,2,2,2,2,2,2,2,2,2],\"yaxis\":\"y\",\"type\":\"scatter\"},{\"hovertemplate\":\"Driver=PIA<br>Lap=%{x}<br>Position=%{y}<extra></extra>\",\"legendgroup\":\"PIA\",\"line\":{\"color\":\"#FF8000\",\"dash\":\"solid\"},\"marker\":{\"symbol\":\"circle\"},\"mode\":\"lines\",\"name\":\"PIA\",\"orientation\":\"v\",\"showlegend\":true,\"x\":[1.0,2.0,3.0,4.0,5.0,6.0,7.0,8.0,9.0,10.0,11.0,12.0,13.0,14.0,15.0,16.0,17.0,18.0,19.0,20.0,21.0,22.0,23.0,24.0,25.0,26.0,27.0,28.0,29.0,30.0,31.0,32.0,33.0,34.0,36.0,37.0,38.0,39.0,40.0,41.0,42.0,43.0,44.0,45.0,46.0,47.0,48.0,49.0,50.0,51.0,52.0,53.0,54.0,55.0,56.0,57.0,58.0,59.0,60.0,61.0,62.0,63.0,64.0,65.0,66.0,67.0,68.0,69.0,70.0,71.0],\"xaxis\":\"x\",\"y\":[6,6,6,6,6,6,6,6,6,6,6,6,6,6,6,6,6,6,6,5,5,5,6,6,6,10,8,7,6,6,6,6,6,6,7,7,7,7,7,7,7,7,7,7,7,7,7,7,7,7,7,7,7,7,8,8,8,8,8,8,8,8,8,8,8,8,8,8,8,8],\"yaxis\":\"y\",\"type\":\"scatter\"},{\"hovertemplate\":\"Driver=RUS<br>Lap=%{x}<br>Position=%{y}<extra></extra>\",\"legendgroup\":\"RUS\",\"line\":{\"color\":\"#00A19B\",\"dash\":\"solid\"},\"marker\":{\"symbol\":\"circle\"},\"mode\":\"lines\",\"name\":\"RUS\",\"orientation\":\"v\",\"showlegend\":true,\"x\":[1.0,2.0,3.0,4.0,5.0,6.0,7.0,8.0,9.0,10.0,11.0,12.0,13.0,14.0,15.0,16.0,17.0,18.0,19.0,20.0,21.0,22.0,23.0,24.0,25.0,26.0,27.0,28.0,29.0,30.0,31.0,32.0,33.0,34.0,36.0,37.0,38.0,39.0,40.0,41.0,42.0,43.0,44.0,45.0,46.0,47.0,48.0,49.0,50.0,51.0,52.0,53.0,54.0,55.0,56.0,57.0,58.0,59.0,60.0,61.0,62.0,63.0,64.0,65.0,66.0,67.0,68.0,69.0,70.0,71.0],\"xaxis\":\"x\",\"y\":[7,7,7,7,7,7,7,7,7,7,7,7,7,7,7,7,7,7,7,6,6,7,7,7,5,5,10,9,7,7,7,7,7,7,5,5,5,5,5,5,5,5,5,5,5,5,5,5,5,5,5,5,5,5,5,5,5,5,5,5,5,5,5,5,5,6,6,6,6,6],\"yaxis\":\"y\",\"type\":\"scatter\"},{\"hovertemplate\":\"Driver=HUL<br>Lap=%{x}<br>Position=%{y}<extra></extra>\",\"legendgroup\":\"HUL\",\"line\":{\"color\":\"#E6002B\",\"dash\":\"solid\"},\"marker\":{\"symbol\":\"circle\"},\"mode\":\"lines\",\"name\":\"HUL\",\"orientation\":\"v\",\"showlegend\":true,\"x\":[1.0,2.0,3.0,4.0,5.0,6.0,7.0,8.0,9.0,10.0,11.0,12.0,13.0,14.0,15.0,16.0,17.0,18.0,19.0,20.0,21.0,22.0,23.0,24.0,25.0,26.0,27.0,28.0,29.0,30.0,31.0,32.0,33.0,34.0,36.0,37.0,38.0,39.0,40.0,41.0,42.0,43.0,44.0,45.0,46.0,47.0,48.0,49.0,50.0,51.0,52.0,53.0,54.0,55.0,56.0,57.0,58.0,59.0,60.0,61.0,62.0,63.0,64.0,65.0,66.0,67.0,68.0,69.0,70.0,71.0],\"xaxis\":\"x\",\"y\":[8,8,8,8,8,8,8,8,8,8,8,8,8,8,8,8,8,8,8,8,8,8,9,16,16,16,16,16,14,13,12,11,11,9,10,10,10,10,10,10,10,10,10,10,10,11,11,10,10,10,10,10,10,10,10,10,10,10,10,10,10,10,10,10,12,12,12,12,13,13],\"yaxis\":\"y\",\"type\":\"scatter\"},{\"hovertemplate\":\"Driver=GAS<br>Lap=%{x}<br>Position=%{y}<extra></extra>\",\"legendgroup\":\"GAS\",\"line\":{\"color\":\"#2173B8\",\"dash\":\"solid\"},\"marker\":{\"symbol\":\"circle\"},\"mode\":\"lines\",\"name\":\"GAS\",\"orientation\":\"v\",\"showlegend\":true,\"x\":[1.0,2.0,3.0,4.0,5.0,6.0,7.0,8.0,9.0,10.0,11.0,12.0,13.0,14.0,15.0,16.0,17.0,18.0,19.0,20.0,21.0,22.0,23.0,24.0,25.0,26.0,27.0,28.0,29.0,30.0,31.0,32.0,33.0,34.0,36.0,37.0,38.0,39.0,40.0,41.0,42.0,43.0,44.0,45.0,46.0,47.0,48.0,49.0,50.0,51.0,52.0,53.0,54.0,55.0,56.0,57.0,58.0,59.0,60.0,61.0,62.0,63.0,64.0,65.0,66.0,67.0,68.0,69.0,70.0,71.0],\"xaxis\":\"x\",\"y\":[9,9,9,9,9,9,9,9,9,9,9,9,9,9,9,9,9,9,9,9,9,9,8,8,8,7,6,6,17,15,13,12,12,11,12,12,12,12,12,12,12,12,12,13,13,13,13,12,12,12,12,12,12,12,12,12,12,12,12,12,12,12,12,12,11,11,11,11,11,11],\"yaxis\":\"y\",\"type\":\"scatter\"},{\"hovertemplate\":\"Driver=ZHO<br>Lap=%{x}<br>Position=%{y}<extra></extra>\",\"legendgroup\":\"ZHO\",\"line\":{\"color\":\"#A42134\",\"dash\":\"solid\"},\"marker\":{\"symbol\":\"circle\"},\"mode\":\"lines\",\"name\":\"ZHO\",\"orientation\":\"v\",\"showlegend\":true,\"x\":[1.0,2.0,3.0,4.0,5.0,6.0,7.0,8.0,9.0,10.0,11.0,12.0,13.0,14.0,15.0,16.0,17.0,18.0,19.0,20.0,21.0,22.0,23.0,24.0,25.0,26.0,27.0,28.0,29.0,30.0,31.0,32.0,33.0,34.0,36.0,37.0,38.0,39.0,40.0,41.0,42.0,43.0,44.0,45.0,46.0,47.0,48.0,49.0,50.0,51.0,52.0,53.0,54.0,55.0,56.0,57.0,58.0,59.0,60.0,61.0,62.0,63.0,64.0,65.0,66.0,67.0,68.0,69.0,70.0,71.0],\"xaxis\":\"x\",\"y\":[10,10,10,10,10,10,10,10,10,10,10,10,10,10,11,11,11,11,11,11,13,19,18,17,17,17,17,17,16,16,15,13,13,13,15,16,16,16,16,16,16,17,17,17,18,17,17,17,17,17,17,17,17,17,17,17,17,17,17,17,17,17,17,17,16,16,16,16,16,15],\"yaxis\":\"y\",\"type\":\"scatter\"},{\"hovertemplate\":\"Driver=ALB<br>Lap=%{x}<br>Position=%{y}<extra></extra>\",\"legendgroup\":\"ALB\",\"line\":{\"color\":\"#00A0DE\",\"dash\":\"solid\"},\"marker\":{\"symbol\":\"circle\"},\"mode\":\"lines\",\"name\":\"ALB\",\"orientation\":\"v\",\"showlegend\":true,\"x\":[1.0,2.0,3.0,4.0,5.0,6.0,7.0,8.0,9.0,10.0,11.0,12.0,13.0,14.0,15.0,16.0,17.0,18.0,19.0,20.0,21.0,22.0,23.0,24.0,25.0,26.0,27.0,28.0,29.0,30.0,31.0,32.0,33.0,34.0,36.0,37.0,38.0,39.0,40.0,41.0,42.0,43.0,44.0,45.0,46.0,47.0,48.0,49.0,50.0,51.0,52.0,53.0,54.0,55.0,56.0,57.0,58.0],\"xaxis\":\"x\",\"y\":[11,11,11,11,11,11,11,11,11,11,11,11,11,11,10,10,10,10,10,10,10,10,10,9,9,8,7,8,8,8,9,9,9,12,9,9,9,9,9,9,9,9,9,9,9,9,9,9,9,9,9,9,9,9,9,9,9],\"yaxis\":\"y\",\"type\":\"scatter\"}],                        {\"template\":{\"data\":{\"histogram2dcontour\":[{\"type\":\"histogram2dcontour\",\"colorbar\":{\"outlinewidth\":0,\"ticks\":\"\"},\"colorscale\":[[0.0,\"#0d0887\"],[0.1111111111111111,\"#46039f\"],[0.2222222222222222,\"#7201a8\"],[0.3333333333333333,\"#9c179e\"],[0.4444444444444444,\"#bd3786\"],[0.5555555555555556,\"#d8576b\"],[0.6666666666666666,\"#ed7953\"],[0.7777777777777778,\"#fb9f3a\"],[0.8888888888888888,\"#fdca26\"],[1.0,\"#f0f921\"]]}],\"choropleth\":[{\"type\":\"choropleth\",\"colorbar\":{\"outlinewidth\":0,\"ticks\":\"\"}}],\"histogram2d\":[{\"type\":\"histogram2d\",\"colorbar\":{\"outlinewidth\":0,\"ticks\":\"\"},\"colorscale\":[[0.0,\"#0d0887\"],[0.1111111111111111,\"#46039f\"],[0.2222222222222222,\"#7201a8\"],[0.3333333333333333,\"#9c179e\"],[0.4444444444444444,\"#bd3786\"],[0.5555555555555556,\"#d8576b\"],[0.6666666666666666,\"#ed7953\"],[0.7777777777777778,\"#fb9f3a\"],[0.8888888888888888,\"#fdca26\"],[1.0,\"#f0f921\"]]}],\"heatmap\":[{\"type\":\"heatmap\",\"colorbar\":{\"outlinewidth\":0,\"ticks\":\"\"},\"colorscale\":[[0.0,\"#0d0887\"],[0.1111111111111111,\"#46039f\"],[0.2222222222222222,\"#7201a8\"],[0.3333333333333333,\"#9c179e\"],[0.4444444444444444,\"#bd3786\"],[0.5555555555555556,\"#d8576b\"],[0.6666666666666666,\"#ed7953\"],[0.7777777777777778,\"#fb9f3a\"],[0.8888888888888888,\"#fdca26\"],[1.0,\"#f0f921\"]]}],\"heatmapgl\":[{\"type\":\"heatmapgl\",\"colorbar\":{\"outlinewidth\":0,\"ticks\":\"\"},\"colorscale\":[[0.0,\"#0d0887\"],[0.1111111111111111,\"#46039f\"],[0.2222222222222222,\"#7201a8\"],[0.3333333333333333,\"#9c179e\"],[0.4444444444444444,\"#bd3786\"],[0.5555555555555556,\"#d8576b\"],[0.6666666666666666,\"#ed7953\"],[0.7777777777777778,\"#fb9f3a\"],[0.8888888888888888,\"#fdca26\"],[1.0,\"#f0f921\"]]}],\"contourcarpet\":[{\"type\":\"contourcarpet\",\"colorbar\":{\"outlinewidth\":0,\"ticks\":\"\"}}],\"contour\":[{\"type\":\"contour\",\"colorbar\":{\"outlinewidth\":0,\"ticks\":\"\"},\"colorscale\":[[0.0,\"#0d0887\"],[0.1111111111111111,\"#46039f\"],[0.2222222222222222,\"#7201a8\"],[0.3333333333333333,\"#9c179e\"],[0.4444444444444444,\"#bd3786\"],[0.5555555555555556,\"#d8576b\"],[0.6666666666666666,\"#ed7953\"],[0.7777777777777778,\"#fb9f3a\"],[0.8888888888888888,\"#fdca26\"],[1.0,\"#f0f921\"]]}],\"surface\":[{\"type\":\"surface\",\"colorbar\":{\"outlinewidth\":0,\"ticks\":\"\"},\"colorscale\":[[0.0,\"#0d0887\"],[0.1111111111111111,\"#46039f\"],[0.2222222222222222,\"#7201a8\"],[0.3333333333333333,\"#9c179e\"],[0.4444444444444444,\"#bd3786\"],[0.5555555555555556,\"#d8576b\"],[0.6666666666666666,\"#ed7953\"],[0.7777777777777778,\"#fb9f3a\"],[0.8888888888888888,\"#fdca26\"],[1.0,\"#f0f921\"]]}],\"mesh3d\":[{\"type\":\"mesh3d\",\"colorbar\":{\"outlinewidth\":0,\"ticks\":\"\"}}],\"scatter\":[{\"fillpattern\":{\"fillmode\":\"overlay\",\"size\":10,\"solidity\":0.2},\"type\":\"scatter\"}],\"parcoords\":[{\"type\":\"parcoords\",\"line\":{\"colorbar\":{\"outlinewidth\":0,\"ticks\":\"\"}}}],\"scatterpolargl\":[{\"type\":\"scatterpolargl\",\"marker\":{\"colorbar\":{\"outlinewidth\":0,\"ticks\":\"\"}}}],\"bar\":[{\"error_x\":{\"color\":\"#2a3f5f\"},\"error_y\":{\"color\":\"#2a3f5f\"},\"marker\":{\"line\":{\"color\":\"#E5ECF6\",\"width\":0.5},\"pattern\":{\"fillmode\":\"overlay\",\"size\":10,\"solidity\":0.2}},\"type\":\"bar\"}],\"scattergeo\":[{\"type\":\"scattergeo\",\"marker\":{\"colorbar\":{\"outlinewidth\":0,\"ticks\":\"\"}}}],\"scatterpolar\":[{\"type\":\"scatterpolar\",\"marker\":{\"colorbar\":{\"outlinewidth\":0,\"ticks\":\"\"}}}],\"histogram\":[{\"marker\":{\"pattern\":{\"fillmode\":\"overlay\",\"size\":10,\"solidity\":0.2}},\"type\":\"histogram\"}],\"scattergl\":[{\"type\":\"scattergl\",\"marker\":{\"colorbar\":{\"outlinewidth\":0,\"ticks\":\"\"}}}],\"scatter3d\":[{\"type\":\"scatter3d\",\"line\":{\"colorbar\":{\"outlinewidth\":0,\"ticks\":\"\"}},\"marker\":{\"colorbar\":{\"outlinewidth\":0,\"ticks\":\"\"}}}],\"scattermapbox\":[{\"type\":\"scattermapbox\",\"marker\":{\"colorbar\":{\"outlinewidth\":0,\"ticks\":\"\"}}}],\"scatterternary\":[{\"type\":\"scatterternary\",\"marker\":{\"colorbar\":{\"outlinewidth\":0,\"ticks\":\"\"}}}],\"scattercarpet\":[{\"type\":\"scattercarpet\",\"marker\":{\"colorbar\":{\"outlinewidth\":0,\"ticks\":\"\"}}}],\"carpet\":[{\"aaxis\":{\"endlinecolor\":\"#2a3f5f\",\"gridcolor\":\"white\",\"linecolor\":\"white\",\"minorgridcolor\":\"white\",\"startlinecolor\":\"#2a3f5f\"},\"baxis\":{\"endlinecolor\":\"#2a3f5f\",\"gridcolor\":\"white\",\"linecolor\":\"white\",\"minorgridcolor\":\"white\",\"startlinecolor\":\"#2a3f5f\"},\"type\":\"carpet\"}],\"table\":[{\"cells\":{\"fill\":{\"color\":\"#EBF0F8\"},\"line\":{\"color\":\"white\"}},\"header\":{\"fill\":{\"color\":\"#C8D4E3\"},\"line\":{\"color\":\"white\"}},\"type\":\"table\"}],\"barpolar\":[{\"marker\":{\"line\":{\"color\":\"#E5ECF6\",\"width\":0.5},\"pattern\":{\"fillmode\":\"overlay\",\"size\":10,\"solidity\":0.2}},\"type\":\"barpolar\"}],\"pie\":[{\"automargin\":true,\"type\":\"pie\"}]},\"layout\":{\"autotypenumbers\":\"strict\",\"colorway\":[\"#636efa\",\"#EF553B\",\"#00cc96\",\"#ab63fa\",\"#FFA15A\",\"#19d3f3\",\"#FF6692\",\"#B6E880\",\"#FF97FF\",\"#FECB52\"],\"font\":{\"color\":\"#2a3f5f\"},\"hovermode\":\"closest\",\"hoverlabel\":{\"align\":\"left\"},\"paper_bgcolor\":\"white\",\"plot_bgcolor\":\"#E5ECF6\",\"polar\":{\"bgcolor\":\"#E5ECF6\",\"angularaxis\":{\"gridcolor\":\"white\",\"linecolor\":\"white\",\"ticks\":\"\"},\"radialaxis\":{\"gridcolor\":\"white\",\"linecolor\":\"white\",\"ticks\":\"\"}},\"ternary\":{\"bgcolor\":\"#E5ECF6\",\"aaxis\":{\"gridcolor\":\"white\",\"linecolor\":\"white\",\"ticks\":\"\"},\"baxis\":{\"gridcolor\":\"white\",\"linecolor\":\"white\",\"ticks\":\"\"},\"caxis\":{\"gridcolor\":\"white\",\"linecolor\":\"white\",\"ticks\":\"\"}},\"coloraxis\":{\"colorbar\":{\"outlinewidth\":0,\"ticks\":\"\"}},\"colorscale\":{\"sequential\":[[0.0,\"#0d0887\"],[0.1111111111111111,\"#46039f\"],[0.2222222222222222,\"#7201a8\"],[0.3333333333333333,\"#9c179e\"],[0.4444444444444444,\"#bd3786\"],[0.5555555555555556,\"#d8576b\"],[0.6666666666666666,\"#ed7953\"],[0.7777777777777778,\"#fb9f3a\"],[0.8888888888888888,\"#fdca26\"],[1.0,\"#f0f921\"]],\"sequentialminus\":[[0.0,\"#0d0887\"],[0.1111111111111111,\"#46039f\"],[0.2222222222222222,\"#7201a8\"],[0.3333333333333333,\"#9c179e\"],[0.4444444444444444,\"#bd3786\"],[0.5555555555555556,\"#d8576b\"],[0.6666666666666666,\"#ed7953\"],[0.7777777777777778,\"#fb9f3a\"],[0.8888888888888888,\"#fdca26\"],[1.0,\"#f0f921\"]],\"diverging\":[[0,\"#8e0152\"],[0.1,\"#c51b7d\"],[0.2,\"#de77ae\"],[0.3,\"#f1b6da\"],[0.4,\"#fde0ef\"],[0.5,\"#f7f7f7\"],[0.6,\"#e6f5d0\"],[0.7,\"#b8e186\"],[0.8,\"#7fbc41\"],[0.9,\"#4d9221\"],[1,\"#276419\"]]},\"xaxis\":{\"gridcolor\":\"white\",\"linecolor\":\"white\",\"ticks\":\"\",\"title\":{\"standoff\":15},\"zerolinecolor\":\"white\",\"automargin\":true,\"zerolinewidth\":2},\"yaxis\":{\"gridcolor\":\"white\",\"linecolor\":\"white\",\"ticks\":\"\",\"title\":{\"standoff\":15},\"zerolinecolor\":\"white\",\"automargin\":true,\"zerolinewidth\":2},\"scene\":{\"xaxis\":{\"backgroundcolor\":\"#E5ECF6\",\"gridcolor\":\"white\",\"linecolor\":\"white\",\"showbackground\":true,\"ticks\":\"\",\"zerolinecolor\":\"white\",\"gridwidth\":2},\"yaxis\":{\"backgroundcolor\":\"#E5ECF6\",\"gridcolor\":\"white\",\"linecolor\":\"white\",\"showbackground\":true,\"ticks\":\"\",\"zerolinecolor\":\"white\",\"gridwidth\":2},\"zaxis\":{\"backgroundcolor\":\"#E5ECF6\",\"gridcolor\":\"white\",\"linecolor\":\"white\",\"showbackground\":true,\"ticks\":\"\",\"zerolinecolor\":\"white\",\"gridwidth\":2}},\"shapedefaults\":{\"line\":{\"color\":\"#2a3f5f\"}},\"annotationdefaults\":{\"arrowcolor\":\"#2a3f5f\",\"arrowhead\":0,\"arrowwidth\":1},\"geo\":{\"bgcolor\":\"white\",\"landcolor\":\"#E5ECF6\",\"subunitcolor\":\"white\",\"showland\":true,\"showlakes\":true,\"lakecolor\":\"white\"},\"title\":{\"x\":0.05},\"mapbox\":{\"style\":\"light\"}}},\"xaxis\":{\"anchor\":\"y\",\"domain\":[0.0,1.0],\"title\":{\"text\":\"Lap\"}},\"yaxis\":{\"anchor\":\"x\",\"domain\":[0.0,1.0],\"title\":{\"text\":\"Position\"}},\"legend\":{\"title\":{\"text\":\"Driver\"},\"tracegroupgap\":0},\"margin\":{\"t\":60},\"title\":{\"font\":{\"family\":\"Arial, sans-serif\",\"size\":30},\"text\":\"<b>Position By Lap</b>\",\"x\":0.5},\"updatemenus\":[{\"active\":0,\"buttons\":[{\"args\":[{\"visible\":[true,true,true,true,true,true,true,true,true,true,true,true,true,true,true,true,true,true,true,true],\"title\":\"All\",\"showlegend\":true}],\"label\":\"All\",\"method\":\"update\"},{\"args\":[{\"visible\":[true,false,false,false,false,false,false,false,false,false,false,false,false,false,false,false,false,false,false,false],\"title\":\"ALB\",\"showlegend\":true}],\"label\":\"ALB\",\"method\":\"update\"},{\"args\":[{\"visible\":[false,true,false,false,false,false,false,false,false,false,false,false,false,false,false,false,false,false,false,false],\"title\":\"ALO\",\"showlegend\":true}],\"label\":\"ALO\",\"method\":\"update\"},{\"args\":[{\"visible\":[false,false,true,false,false,false,false,false,false,false,false,false,false,false,false,false,false,false,false,false],\"title\":\"BOT\",\"showlegend\":true}],\"label\":\"BOT\",\"method\":\"update\"},{\"args\":[{\"visible\":[false,false,false,true,false,false,false,false,false,false,false,false,false,false,false,false,false,false,false,false],\"title\":\"GAS\",\"showlegend\":true}],\"label\":\"GAS\",\"method\":\"update\"},{\"args\":[{\"visible\":[false,false,false,false,true,false,false,false,false,false,false,false,false,false,false,false,false,false,false,false],\"title\":\"HAM\",\"showlegend\":true}],\"label\":\"HAM\",\"method\":\"update\"},{\"args\":[{\"visible\":[false,false,false,false,false,true,false,false,false,false,false,false,false,false,false,false,false,false,false,false],\"title\":\"HUL\",\"showlegend\":true}],\"label\":\"HUL\",\"method\":\"update\"},{\"args\":[{\"visible\":[false,false,false,false,false,false,true,false,false,false,false,false,false,false,false,false,false,false,false,false],\"title\":\"LEC\",\"showlegend\":true}],\"label\":\"LEC\",\"method\":\"update\"},{\"args\":[{\"visible\":[false,false,false,false,false,false,false,true,false,false,false,false,false,false,false,false,false,false,false,false],\"title\":\"MAG\",\"showlegend\":true}],\"label\":\"MAG\",\"method\":\"update\"},{\"args\":[{\"visible\":[false,false,false,false,false,false,false,false,true,false,false,false,false,false,false,false,false,false,false,false],\"title\":\"NOR\",\"showlegend\":true}],\"label\":\"NOR\",\"method\":\"update\"},{\"args\":[{\"visible\":[false,false,false,false,false,false,false,false,false,true,false,false,false,false,false,false,false,false,false,false],\"title\":\"OCO\",\"showlegend\":true}],\"label\":\"OCO\",\"method\":\"update\"},{\"args\":[{\"visible\":[false,false,false,false,false,false,false,false,false,false,true,false,false,false,false,false,false,false,false,false],\"title\":\"PER\",\"showlegend\":true}],\"label\":\"PER\",\"method\":\"update\"},{\"args\":[{\"visible\":[false,false,false,false,false,false,false,false,false,false,false,true,false,false,false,false,false,false,false,false],\"title\":\"PIA\",\"showlegend\":true}],\"label\":\"PIA\",\"method\":\"update\"},{\"args\":[{\"visible\":[false,false,false,false,false,false,false,false,false,false,false,false,true,false,false,false,false,false,false,false],\"title\":\"RIC\",\"showlegend\":true}],\"label\":\"RIC\",\"method\":\"update\"},{\"args\":[{\"visible\":[false,false,false,false,false,false,false,false,false,false,false,false,false,true,false,false,false,false,false,false],\"title\":\"RUS\",\"showlegend\":true}],\"label\":\"RUS\",\"method\":\"update\"},{\"args\":[{\"visible\":[false,false,false,false,false,false,false,false,false,false,false,false,false,false,true,false,false,false,false,false],\"title\":\"SAI\",\"showlegend\":true}],\"label\":\"SAI\",\"method\":\"update\"},{\"args\":[{\"visible\":[false,false,false,false,false,false,false,false,false,false,false,false,false,false,false,true,false,false,false,false],\"title\":\"SAR\",\"showlegend\":true}],\"label\":\"SAR\",\"method\":\"update\"},{\"args\":[{\"visible\":[false,false,false,false,false,false,false,false,false,false,false,false,false,false,false,false,true,false,false,false],\"title\":\"STR\",\"showlegend\":true}],\"label\":\"STR\",\"method\":\"update\"},{\"args\":[{\"visible\":[false,false,false,false,false,false,false,false,false,false,false,false,false,false,false,false,false,true,false,false],\"title\":\"TSU\",\"showlegend\":true}],\"label\":\"TSU\",\"method\":\"update\"},{\"args\":[{\"visible\":[false,false,false,false,false,false,false,false,false,false,false,false,false,false,false,false,false,false,true,false],\"title\":\"VER\",\"showlegend\":true}],\"label\":\"VER\",\"method\":\"update\"},{\"args\":[{\"visible\":[false,false,false,false,false,false,false,false,false,false,false,false,false,false,false,false,false,false,false,true],\"title\":\"ZHO\",\"showlegend\":true}],\"label\":\"ZHO\",\"method\":\"update\"}]}]},                        {\"responsive\": true}                    ).then(function(){\n",
       "                            \n",
       "var gd = document.getElementById('c7b8e7b5-9c2b-4214-b8a0-1c0870b3552c');\n",
       "var x = new MutationObserver(function (mutations, observer) {{\n",
       "        var display = window.getComputedStyle(gd).display;\n",
       "        if (!display || display === 'none') {{\n",
       "            console.log([gd, 'removed!']);\n",
       "            Plotly.purge(gd);\n",
       "            observer.disconnect();\n",
       "        }}\n",
       "}});\n",
       "\n",
       "// Listen for the removal of the full notebook cells\n",
       "var notebookContainer = gd.closest('#notebook-container');\n",
       "if (notebookContainer) {{\n",
       "    x.observe(notebookContainer, {childList: true});\n",
       "}}\n",
       "\n",
       "// Listen for the clearing of the current output cell\n",
       "var outputEl = gd.closest('.output');\n",
       "if (outputEl) {{\n",
       "    x.observe(outputEl, {childList: true});\n",
       "}}\n",
       "\n",
       "                        })                };                });            </script>        </div>"
      ]
     },
     "metadata": {},
     "output_type": "display_data"
    }
   ],
   "source": [
    "if not lap_tim_emp:\n",
    "    multi_pos_plot(mapping)"
   ]
  },
  {
   "cell_type": "code",
   "execution_count": 31,
   "id": "cc7e057e",
   "metadata": {
    "_kg_hide-input": true,
    "execution": {
     "iopub.execute_input": "2023-10-30T18:40:00.245866Z",
     "iopub.status.busy": "2023-10-30T18:40:00.245481Z",
     "iopub.status.idle": "2023-10-30T18:40:00.252279Z",
     "shell.execute_reply": "2023-10-30T18:40:00.251217Z"
    },
    "papermill": {
     "duration": 0.025281,
     "end_time": "2023-10-30T18:40:00.254513",
     "exception": false,
     "start_time": "2023-10-30T18:40:00.229232",
     "status": "completed"
    },
    "tags": []
   },
   "outputs": [
    {
     "data": {
      "text/markdown": [
       "# <div style='background:#FF1801; border:0; color:black; box-shadow: 10px 10px 5px 0px rgba(0,0,0,0.75); transform: rotateX(10deg);'><h1 style='padding: 10px; margin: 0; text-align:center;'><span style='font-size: 30px;'>Driver Overall Standings</span></h1></div>"
      ],
      "text/plain": [
       "<IPython.core.display.Markdown object>"
      ]
     },
     "metadata": {},
     "output_type": "display_data"
    }
   ],
   "source": [
    "display(md(f\"# <div style='background:#FF1801; border:0; color:black; box-shadow: 10px 10px 5px 0px rgba(0,0,0,0.75); transform: rotateX(10deg);'><h1 style='padding: 10px; margin: 0; text-align:center;'><span style='font-size: 30px;'>Driver Overall Standings</span></h1></div>\"))"
   ]
  },
  {
   "cell_type": "code",
   "execution_count": 32,
   "id": "ebcf5e01",
   "metadata": {
    "_kg_hide-input": true,
    "execution": {
     "iopub.execute_input": "2023-10-30T18:40:00.286830Z",
     "iopub.status.busy": "2023-10-30T18:40:00.286427Z",
     "iopub.status.idle": "2023-10-30T18:40:00.306076Z",
     "shell.execute_reply": "2023-10-30T18:40:00.304981Z"
    },
    "papermill": {
     "duration": 0.03886,
     "end_time": "2023-10-30T18:40:00.308076",
     "exception": false,
     "start_time": "2023-10-30T18:40:00.269216",
     "status": "completed"
    },
    "tags": []
   },
   "outputs": [
    {
     "data": {
      "text/html": [
       "<style type=\"text/css\">\n",
       "#T_dad43_row0_col1, #T_dad43_row1_col1, #T_dad43_row2_col1, #T_dad43_row3_col1, #T_dad43_row4_col1, #T_dad43_row5_col1, #T_dad43_row6_col1, #T_dad43_row7_col1, #T_dad43_row8_col1, #T_dad43_row9_col1, #T_dad43_row10_col1, #T_dad43_row11_col1, #T_dad43_row12_col1, #T_dad43_row13_col1, #T_dad43_row14_col1, #T_dad43_row15_col1, #T_dad43_row16_col1, #T_dad43_row17_col1 {\n",
       "  background-color: #081d58;\n",
       "  color: #f1f1f1;\n",
       "}\n",
       "#T_dad43_row18_col1 {\n",
       "  background-color: #40b5c4;\n",
       "  color: #f1f1f1;\n",
       "}\n",
       "#T_dad43_row19_col1 {\n",
       "  background-color: #c6e9b4;\n",
       "  color: #000000;\n",
       "}\n",
       "#T_dad43_row20_col1, #T_dad43_row21_col1 {\n",
       "  background-color: #ffffd9;\n",
       "  color: #000000;\n",
       "}\n",
       "</style>\n",
       "<table id=\"T_dad43_\">\n",
       "  <caption>Driver Standings</caption>\n",
       "  <thead>\n",
       "    <tr>\n",
       "      <th class=\"col_heading level0 col0\" >Driver</th>\n",
       "      <th class=\"col_heading level0 col1\" >points</th>\n",
       "    </tr>\n",
       "  </thead>\n",
       "  <tbody>\n",
       "    <tr>\n",
       "      <td id=\"T_dad43_row0_col0\" class=\"data row0 col0\" >VER</td>\n",
       "      <td id=\"T_dad43_row0_col1\" class=\"data row0 col1\" >491.0</td>\n",
       "    </tr>\n",
       "    <tr>\n",
       "      <td id=\"T_dad43_row1_col0\" class=\"data row1 col0\" >PER</td>\n",
       "      <td id=\"T_dad43_row1_col1\" class=\"data row1 col1\" >240.0</td>\n",
       "    </tr>\n",
       "    <tr>\n",
       "      <td id=\"T_dad43_row2_col0\" class=\"data row2 col0\" >HAM</td>\n",
       "      <td id=\"T_dad43_row2_col1\" class=\"data row2 col1\" >220.0</td>\n",
       "    </tr>\n",
       "    <tr>\n",
       "      <td id=\"T_dad43_row3_col0\" class=\"data row3 col0\" >SAI</td>\n",
       "      <td id=\"T_dad43_row3_col1\" class=\"data row3 col1\" >183.0</td>\n",
       "    </tr>\n",
       "    <tr>\n",
       "      <td id=\"T_dad43_row4_col0\" class=\"data row4 col0\" >ALO</td>\n",
       "      <td id=\"T_dad43_row4_col1\" class=\"data row4 col1\" >183.0</td>\n",
       "    </tr>\n",
       "    <tr>\n",
       "      <td id=\"T_dad43_row5_col0\" class=\"data row5 col0\" >NOR</td>\n",
       "      <td id=\"T_dad43_row5_col1\" class=\"data row5 col1\" >169.0</td>\n",
       "    </tr>\n",
       "    <tr>\n",
       "      <td id=\"T_dad43_row6_col0\" class=\"data row6 col0\" >LEC</td>\n",
       "      <td id=\"T_dad43_row6_col1\" class=\"data row6 col1\" >166.0</td>\n",
       "    </tr>\n",
       "    <tr>\n",
       "      <td id=\"T_dad43_row7_col0\" class=\"data row7 col0\" >RUS</td>\n",
       "      <td id=\"T_dad43_row7_col1\" class=\"data row7 col1\" >151.0</td>\n",
       "    </tr>\n",
       "    <tr>\n",
       "      <td id=\"T_dad43_row8_col0\" class=\"data row8 col0\" >PIA</td>\n",
       "      <td id=\"T_dad43_row8_col1\" class=\"data row8 col1\" >87.0</td>\n",
       "    </tr>\n",
       "    <tr>\n",
       "      <td id=\"T_dad43_row9_col0\" class=\"data row9 col0\" >GAS</td>\n",
       "      <td id=\"T_dad43_row9_col1\" class=\"data row9 col1\" >56.0</td>\n",
       "    </tr>\n",
       "    <tr>\n",
       "      <td id=\"T_dad43_row10_col0\" class=\"data row10 col0\" >STR</td>\n",
       "      <td id=\"T_dad43_row10_col1\" class=\"data row10 col1\" >53.0</td>\n",
       "    </tr>\n",
       "    <tr>\n",
       "      <td id=\"T_dad43_row11_col0\" class=\"data row11 col0\" >OCO</td>\n",
       "      <td id=\"T_dad43_row11_col1\" class=\"data row11 col1\" >45.0</td>\n",
       "    </tr>\n",
       "    <tr>\n",
       "      <td id=\"T_dad43_row12_col0\" class=\"data row12 col0\" >ALB</td>\n",
       "      <td id=\"T_dad43_row12_col1\" class=\"data row12 col1\" >27.0</td>\n",
       "    </tr>\n",
       "    <tr>\n",
       "      <td id=\"T_dad43_row13_col0\" class=\"data row13 col0\" >BOT</td>\n",
       "      <td id=\"T_dad43_row13_col1\" class=\"data row13 col1\" >10.0</td>\n",
       "    </tr>\n",
       "    <tr>\n",
       "      <td id=\"T_dad43_row14_col0\" class=\"data row14 col0\" >HUL</td>\n",
       "      <td id=\"T_dad43_row14_col1\" class=\"data row14 col1\" >9.0</td>\n",
       "    </tr>\n",
       "    <tr>\n",
       "      <td id=\"T_dad43_row15_col0\" class=\"data row15 col0\" >TSU</td>\n",
       "      <td id=\"T_dad43_row15_col1\" class=\"data row15 col1\" >8.0</td>\n",
       "    </tr>\n",
       "    <tr>\n",
       "      <td id=\"T_dad43_row16_col0\" class=\"data row16 col0\" >RIC</td>\n",
       "      <td id=\"T_dad43_row16_col1\" class=\"data row16 col1\" >6.0</td>\n",
       "    </tr>\n",
       "    <tr>\n",
       "      <td id=\"T_dad43_row17_col0\" class=\"data row17 col0\" >ZHO</td>\n",
       "      <td id=\"T_dad43_row17_col1\" class=\"data row17 col1\" >6.0</td>\n",
       "    </tr>\n",
       "    <tr>\n",
       "      <td id=\"T_dad43_row18_col0\" class=\"data row18 col0\" >MAG</td>\n",
       "      <td id=\"T_dad43_row18_col1\" class=\"data row18 col1\" >3.0</td>\n",
       "    </tr>\n",
       "    <tr>\n",
       "      <td id=\"T_dad43_row19_col0\" class=\"data row19 col0\" >nan</td>\n",
       "      <td id=\"T_dad43_row19_col1\" class=\"data row19 col1\" >2.0</td>\n",
       "    </tr>\n",
       "    <tr>\n",
       "      <td id=\"T_dad43_row20_col0\" class=\"data row20 col0\" >SAR</td>\n",
       "      <td id=\"T_dad43_row20_col1\" class=\"data row20 col1\" >1.0</td>\n",
       "    </tr>\n",
       "    <tr>\n",
       "      <td id=\"T_dad43_row21_col0\" class=\"data row21 col0\" >DEV</td>\n",
       "      <td id=\"T_dad43_row21_col1\" class=\"data row21 col1\" >0.0</td>\n",
       "    </tr>\n",
       "  </tbody>\n",
       "</table>\n"
      ],
      "text/plain": [
       "<pandas.io.formats.style.Styler at 0x7febee7952d0>"
      ]
     },
     "execution_count": 32,
     "metadata": {},
     "output_type": "execute_result"
    }
   ],
   "source": [
    "drive_stand = driver_standings.merge(drivers_full, on='driverID', how='left', suffixes=('_1', '_2'))\n",
    "drive_stand['points'] = drive_stand.points.astype(float)\n",
    "drive_stand_race  = drive_stand .sort_values(by='points', ascending=False)\n",
    "drive_stand_race[['Driver', 'points']].style.pipe(driver_stand)"
   ]
  },
  {
   "cell_type": "code",
   "execution_count": 33,
   "id": "7fee636b",
   "metadata": {
    "_kg_hide-input": true,
    "execution": {
     "iopub.execute_input": "2023-10-30T18:40:00.339422Z",
     "iopub.status.busy": "2023-10-30T18:40:00.339060Z",
     "iopub.status.idle": "2023-10-30T18:40:00.347177Z",
     "shell.execute_reply": "2023-10-30T18:40:00.346061Z"
    },
    "papermill": {
     "duration": 0.026465,
     "end_time": "2023-10-30T18:40:00.349310",
     "exception": false,
     "start_time": "2023-10-30T18:40:00.322845",
     "status": "completed"
    },
    "tags": []
   },
   "outputs": [
    {
     "data": {
      "text/markdown": [
       "# <div style='background:#FF1801; border:0; color:black; box-shadow: 10px 10px 5px 0px rgba(0,0,0,0.75); transform: rotateX(10deg);'><h1 style='padding: 10px; margin: 0; text-align:center;'><span style='font-size: 30px;'>Constructors Race Performance</span></h1></div>"
      ],
      "text/plain": [
       "<IPython.core.display.Markdown object>"
      ]
     },
     "metadata": {},
     "output_type": "display_data"
    }
   ],
   "source": [
    "display(md(f\"# <div style='background:#FF1801; border:0; color:black; box-shadow: 10px 10px 5px 0px rgba(0,0,0,0.75); transform: rotateX(10deg);'><h1 style='padding: 10px; margin: 0; text-align:center;'><span style='font-size: 30px;'>Constructors Race Performance</span></h1></div>\"))"
   ]
  },
  {
   "cell_type": "code",
   "execution_count": 34,
   "id": "67b6b6be",
   "metadata": {
    "_kg_hide-input": true,
    "execution": {
     "iopub.execute_input": "2023-10-30T18:40:00.382039Z",
     "iopub.status.busy": "2023-10-30T18:40:00.381642Z",
     "iopub.status.idle": "2023-10-30T18:40:00.482012Z",
     "shell.execute_reply": "2023-10-30T18:40:00.480659Z"
    },
    "papermill": {
     "duration": 0.119258,
     "end_time": "2023-10-30T18:40:00.484228",
     "exception": false,
     "start_time": "2023-10-30T18:40:00.364970",
     "status": "completed"
    },
    "tags": []
   },
   "outputs": [
    {
     "data": {
      "text/html": [
       "<div>                            <div id=\"e3973ec0-56b9-4ea1-9777-6d08682c7830\" class=\"plotly-graph-div\" style=\"height:525px; width:100%;\"></div>            <script type=\"text/javascript\">                require([\"plotly\"], function(Plotly) {                    window.PLOTLYENV=window.PLOTLYENV || {};                                    if (document.getElementById(\"e3973ec0-56b9-4ea1-9777-6d08682c7830\")) {                    Plotly.newPlot(                        \"e3973ec0-56b9-4ea1-9777-6d08682c7830\",                        [{\"hovertemplate\":\"name=Red Bull<br>Race=%{x}<br>Points=%{y}<extra></extra>\",\"legendgroup\":\"Red Bull\",\"line\":{\"color\":\"#000B8D\",\"dash\":\"solid\"},\"marker\":{\"symbol\":\"circle\"},\"mode\":\"lines\",\"name\":\"Red Bull\",\"orientation\":\"v\",\"showlegend\":true,\"x\":[1,2,3,4,5,6,7,8,9,10,11,12,13,14,15,16,17,18,19],\"xaxis\":\"x\",\"y\":[43.0,87.0,123.0,180.0,224.0,249.0,287.0,321.0,377.0,411.0,452.0,503.0,540.0,583.0,597.0,623.0,657.0,706.0,731.0],\"yaxis\":\"y\",\"type\":\"scatter\"},{\"hovertemplate\":\"name=Aston Martin<br>Race=%{x}<br>Points=%{y}<extra></extra>\",\"legendgroup\":\"Aston Martin\",\"line\":{\"color\":\"#002420\",\"dash\":\"solid\"},\"marker\":{\"symbol\":\"circle\"},\"mode\":\"lines\",\"name\":\"Aston Martin\",\"orientation\":\"v\",\"showlegend\":true,\"x\":[1,2,3,4,5,6,7,8,9,10,11,12,13,14,15,16,17,18,19],\"xaxis\":\"x\",\"y\":[23.0,38.0,65.0,87.0,102.0,120.0,134.0,154.0,175.0,181.0,184.0,196.0,215.0,217.0,217.0,221.0,230.0,236.0,236.0],\"yaxis\":\"y\",\"type\":\"scatter\"},{\"hovertemplate\":\"name=Mercedes<br>Race=%{x}<br>Points=%{y}<extra></extra>\",\"legendgroup\":\"Mercedes\",\"line\":{\"color\":\"#00A19B\",\"dash\":\"solid\"},\"marker\":{\"symbol\":\"circle\"},\"mode\":\"lines\",\"name\":\"Mercedes\",\"orientation\":\"v\",\"showlegend\":true,\"x\":[1,2,3,4,5,6,7,8,9,10,11,12,13,14,15,16,17,18,19],\"xaxis\":\"x\",\"y\":[16.0,38.0,56.0,76.0,96.0,119.0,152.0,167.0,178.0,203.0,223.0,247.0,255.0,273.0,289.0,305.0,326.0,344.0,371.0],\"yaxis\":\"y\",\"type\":\"scatter\"},{\"hovertemplate\":\"name=Ferrari<br>Race=%{x}<br>Points=%{y}<extra></extra>\",\"legendgroup\":\"Ferrari\",\"line\":{\"color\":\"#EF1A2D\",\"dash\":\"solid\"},\"marker\":{\"symbol\":\"circle\"},\"mode\":\"lines\",\"name\":\"Ferrari\",\"orientation\":\"v\",\"showlegend\":true,\"x\":[1,2,3,4,5,6,7,8,9,10,11,12,13,14,15,16,17,18,19],\"xaxis\":\"x\",\"y\":[12.0,26.0,26.0,62.0,78.0,90.0,100.0,122.0,154.0,157.0,167.0,191.0,201.0,228.0,265.0,285.0,298.0,322.0,349.0],\"yaxis\":\"y\",\"type\":\"scatter\"},{\"hovertemplate\":\"name=Alfa Romeo<br>Race=%{x}<br>Points=%{y}<extra></extra>\",\"legendgroup\":\"Alfa Romeo\",\"line\":{\"color\":\"#A42134\",\"dash\":\"solid\"},\"marker\":{\"symbol\":\"circle\"},\"mode\":\"lines\",\"name\":\"Alfa Romeo\",\"orientation\":\"v\",\"showlegend\":true,\"x\":[1,2,3,4,5,6,7,8,9,10,11,12,13,14,15,16,17,18,19],\"xaxis\":\"x\",\"y\":[4.0,4.0,6.0,6.0,6.0,6.0,8.0,9.0,9.0,9.0,9.0,9.0,9.0,10.0,10.0,10.0,16.0,16.0,16.0],\"yaxis\":\"y\",\"type\":\"scatter\"},{\"hovertemplate\":\"name=Alpine F1 Team<br>Race=%{x}<br>Points=%{y}<extra></extra>\",\"legendgroup\":\"Alpine F1 Team\",\"line\":{\"color\":\"#2173B8\",\"dash\":\"solid\"},\"marker\":{\"symbol\":\"circle\"},\"mode\":\"lines\",\"name\":\"Alpine F1 Team\",\"orientation\":\"v\",\"showlegend\":true,\"x\":[1,2,3,4,5,6,7,8,9,10,11,12,13,14,15,16,17,18,19],\"xaxis\":\"x\",\"y\":[2.0,8.0,8.0,8.0,14.0,35.0,40.0,44.0,47.0,47.0,47.0,57.0,73.0,73.0,81.0,84.0,90.0,100.0,101.0],\"yaxis\":\"y\",\"type\":\"scatter\"},{\"hovertemplate\":\"name=Williams<br>Race=%{x}<br>Points=%{y}<extra></extra>\",\"legendgroup\":\"Williams\",\"line\":{\"color\":\"#00A0DE\",\"dash\":\"solid\"},\"marker\":{\"symbol\":\"circle\"},\"mode\":\"lines\",\"name\":\"Williams\",\"orientation\":\"v\",\"showlegend\":true,\"x\":[1,2,3,4,5,6,7,8,9,10,11,12,13,14,15,16,17,18,19],\"xaxis\":\"x\",\"y\":[1.0,1.0,1.0,1.0,1.0,1.0,1.0,7.0,7.0,11.0,11.0,11.0,15.0,21.0,21.0,21.0,23.0,26.0,28.0],\"yaxis\":\"y\",\"type\":\"scatter\"},{\"hovertemplate\":\"name=AlphaTauri<br>Race=%{x}<br>Points=%{y}<extra></extra>\",\"legendgroup\":\"AlphaTauri\",\"line\":{\"color\":\"#20394C\",\"dash\":\"solid\"},\"marker\":{\"symbol\":\"circle\"},\"mode\":\"lines\",\"name\":\"AlphaTauri\",\"orientation\":\"v\",\"showlegend\":true,\"x\":[1,2,3,4,5,6,7,8,9,10,11,12,13,14,15,16,17,18,19],\"xaxis\":\"x\",\"y\":[0.0,0.0,1.0,2.0,2.0,2.0,2.0,2.0,2.0,2.0,2.0,3.0,3.0,3.0,5.0,5.0,5.0,10.0,16.0],\"yaxis\":\"y\",\"type\":\"scatter\"},{\"hovertemplate\":\"name=Haas F1 Team<br>Race=%{x}<br>Points=%{y}<extra></extra>\",\"legendgroup\":\"Haas F1 Team\",\"line\":{\"color\":\"#E6002B\",\"dash\":\"solid\"},\"marker\":{\"symbol\":\"circle\"},\"mode\":\"lines\",\"name\":\"Haas F1 Team\",\"orientation\":\"v\",\"showlegend\":true,\"x\":[1,2,3,4,5,6,7,8,9,10,11,12,13,14,15,16,17,18,19],\"xaxis\":\"x\",\"y\":[0.0,1.0,7.0,7.0,8.0,8.0,8.0,8.0,11.0,11.0,11.0,11.0,11.0,11.0,12.0,12.0,12.0,12.0,12.0],\"yaxis\":\"y\",\"type\":\"scatter\"},{\"hovertemplate\":\"name=McLaren<br>Race=%{x}<br>Points=%{y}<extra></extra>\",\"legendgroup\":\"McLaren\",\"line\":{\"color\":\"#FF8000\",\"dash\":\"solid\"},\"marker\":{\"symbol\":\"circle\"},\"mode\":\"lines\",\"name\":\"McLaren\",\"orientation\":\"v\",\"showlegend\":true,\"x\":[1,2,3,4,5,6,7,8,9,10,11,12,13,14,15,16,17,18,19],\"xaxis\":\"x\",\"y\":[0.0,0.0,12.0,14.0,14.0,17.0,17.0,17.0,29.0,59.0,87.0,103.0,111.0,115.0,139.0,172.0,219.0,242.0,256.0],\"yaxis\":\"y\",\"type\":\"scatter\"}],                        {\"template\":{\"data\":{\"histogram2dcontour\":[{\"type\":\"histogram2dcontour\",\"colorbar\":{\"outlinewidth\":0,\"ticks\":\"\"},\"colorscale\":[[0.0,\"#0d0887\"],[0.1111111111111111,\"#46039f\"],[0.2222222222222222,\"#7201a8\"],[0.3333333333333333,\"#9c179e\"],[0.4444444444444444,\"#bd3786\"],[0.5555555555555556,\"#d8576b\"],[0.6666666666666666,\"#ed7953\"],[0.7777777777777778,\"#fb9f3a\"],[0.8888888888888888,\"#fdca26\"],[1.0,\"#f0f921\"]]}],\"choropleth\":[{\"type\":\"choropleth\",\"colorbar\":{\"outlinewidth\":0,\"ticks\":\"\"}}],\"histogram2d\":[{\"type\":\"histogram2d\",\"colorbar\":{\"outlinewidth\":0,\"ticks\":\"\"},\"colorscale\":[[0.0,\"#0d0887\"],[0.1111111111111111,\"#46039f\"],[0.2222222222222222,\"#7201a8\"],[0.3333333333333333,\"#9c179e\"],[0.4444444444444444,\"#bd3786\"],[0.5555555555555556,\"#d8576b\"],[0.6666666666666666,\"#ed7953\"],[0.7777777777777778,\"#fb9f3a\"],[0.8888888888888888,\"#fdca26\"],[1.0,\"#f0f921\"]]}],\"heatmap\":[{\"type\":\"heatmap\",\"colorbar\":{\"outlinewidth\":0,\"ticks\":\"\"},\"colorscale\":[[0.0,\"#0d0887\"],[0.1111111111111111,\"#46039f\"],[0.2222222222222222,\"#7201a8\"],[0.3333333333333333,\"#9c179e\"],[0.4444444444444444,\"#bd3786\"],[0.5555555555555556,\"#d8576b\"],[0.6666666666666666,\"#ed7953\"],[0.7777777777777778,\"#fb9f3a\"],[0.8888888888888888,\"#fdca26\"],[1.0,\"#f0f921\"]]}],\"heatmapgl\":[{\"type\":\"heatmapgl\",\"colorbar\":{\"outlinewidth\":0,\"ticks\":\"\"},\"colorscale\":[[0.0,\"#0d0887\"],[0.1111111111111111,\"#46039f\"],[0.2222222222222222,\"#7201a8\"],[0.3333333333333333,\"#9c179e\"],[0.4444444444444444,\"#bd3786\"],[0.5555555555555556,\"#d8576b\"],[0.6666666666666666,\"#ed7953\"],[0.7777777777777778,\"#fb9f3a\"],[0.8888888888888888,\"#fdca26\"],[1.0,\"#f0f921\"]]}],\"contourcarpet\":[{\"type\":\"contourcarpet\",\"colorbar\":{\"outlinewidth\":0,\"ticks\":\"\"}}],\"contour\":[{\"type\":\"contour\",\"colorbar\":{\"outlinewidth\":0,\"ticks\":\"\"},\"colorscale\":[[0.0,\"#0d0887\"],[0.1111111111111111,\"#46039f\"],[0.2222222222222222,\"#7201a8\"],[0.3333333333333333,\"#9c179e\"],[0.4444444444444444,\"#bd3786\"],[0.5555555555555556,\"#d8576b\"],[0.6666666666666666,\"#ed7953\"],[0.7777777777777778,\"#fb9f3a\"],[0.8888888888888888,\"#fdca26\"],[1.0,\"#f0f921\"]]}],\"surface\":[{\"type\":\"surface\",\"colorbar\":{\"outlinewidth\":0,\"ticks\":\"\"},\"colorscale\":[[0.0,\"#0d0887\"],[0.1111111111111111,\"#46039f\"],[0.2222222222222222,\"#7201a8\"],[0.3333333333333333,\"#9c179e\"],[0.4444444444444444,\"#bd3786\"],[0.5555555555555556,\"#d8576b\"],[0.6666666666666666,\"#ed7953\"],[0.7777777777777778,\"#fb9f3a\"],[0.8888888888888888,\"#fdca26\"],[1.0,\"#f0f921\"]]}],\"mesh3d\":[{\"type\":\"mesh3d\",\"colorbar\":{\"outlinewidth\":0,\"ticks\":\"\"}}],\"scatter\":[{\"fillpattern\":{\"fillmode\":\"overlay\",\"size\":10,\"solidity\":0.2},\"type\":\"scatter\"}],\"parcoords\":[{\"type\":\"parcoords\",\"line\":{\"colorbar\":{\"outlinewidth\":0,\"ticks\":\"\"}}}],\"scatterpolargl\":[{\"type\":\"scatterpolargl\",\"marker\":{\"colorbar\":{\"outlinewidth\":0,\"ticks\":\"\"}}}],\"bar\":[{\"error_x\":{\"color\":\"#2a3f5f\"},\"error_y\":{\"color\":\"#2a3f5f\"},\"marker\":{\"line\":{\"color\":\"#E5ECF6\",\"width\":0.5},\"pattern\":{\"fillmode\":\"overlay\",\"size\":10,\"solidity\":0.2}},\"type\":\"bar\"}],\"scattergeo\":[{\"type\":\"scattergeo\",\"marker\":{\"colorbar\":{\"outlinewidth\":0,\"ticks\":\"\"}}}],\"scatterpolar\":[{\"type\":\"scatterpolar\",\"marker\":{\"colorbar\":{\"outlinewidth\":0,\"ticks\":\"\"}}}],\"histogram\":[{\"marker\":{\"pattern\":{\"fillmode\":\"overlay\",\"size\":10,\"solidity\":0.2}},\"type\":\"histogram\"}],\"scattergl\":[{\"type\":\"scattergl\",\"marker\":{\"colorbar\":{\"outlinewidth\":0,\"ticks\":\"\"}}}],\"scatter3d\":[{\"type\":\"scatter3d\",\"line\":{\"colorbar\":{\"outlinewidth\":0,\"ticks\":\"\"}},\"marker\":{\"colorbar\":{\"outlinewidth\":0,\"ticks\":\"\"}}}],\"scattermapbox\":[{\"type\":\"scattermapbox\",\"marker\":{\"colorbar\":{\"outlinewidth\":0,\"ticks\":\"\"}}}],\"scatterternary\":[{\"type\":\"scatterternary\",\"marker\":{\"colorbar\":{\"outlinewidth\":0,\"ticks\":\"\"}}}],\"scattercarpet\":[{\"type\":\"scattercarpet\",\"marker\":{\"colorbar\":{\"outlinewidth\":0,\"ticks\":\"\"}}}],\"carpet\":[{\"aaxis\":{\"endlinecolor\":\"#2a3f5f\",\"gridcolor\":\"white\",\"linecolor\":\"white\",\"minorgridcolor\":\"white\",\"startlinecolor\":\"#2a3f5f\"},\"baxis\":{\"endlinecolor\":\"#2a3f5f\",\"gridcolor\":\"white\",\"linecolor\":\"white\",\"minorgridcolor\":\"white\",\"startlinecolor\":\"#2a3f5f\"},\"type\":\"carpet\"}],\"table\":[{\"cells\":{\"fill\":{\"color\":\"#EBF0F8\"},\"line\":{\"color\":\"white\"}},\"header\":{\"fill\":{\"color\":\"#C8D4E3\"},\"line\":{\"color\":\"white\"}},\"type\":\"table\"}],\"barpolar\":[{\"marker\":{\"line\":{\"color\":\"#E5ECF6\",\"width\":0.5},\"pattern\":{\"fillmode\":\"overlay\",\"size\":10,\"solidity\":0.2}},\"type\":\"barpolar\"}],\"pie\":[{\"automargin\":true,\"type\":\"pie\"}]},\"layout\":{\"autotypenumbers\":\"strict\",\"colorway\":[\"#636efa\",\"#EF553B\",\"#00cc96\",\"#ab63fa\",\"#FFA15A\",\"#19d3f3\",\"#FF6692\",\"#B6E880\",\"#FF97FF\",\"#FECB52\"],\"font\":{\"color\":\"#2a3f5f\"},\"hovermode\":\"closest\",\"hoverlabel\":{\"align\":\"left\"},\"paper_bgcolor\":\"white\",\"plot_bgcolor\":\"#E5ECF6\",\"polar\":{\"bgcolor\":\"#E5ECF6\",\"angularaxis\":{\"gridcolor\":\"white\",\"linecolor\":\"white\",\"ticks\":\"\"},\"radialaxis\":{\"gridcolor\":\"white\",\"linecolor\":\"white\",\"ticks\":\"\"}},\"ternary\":{\"bgcolor\":\"#E5ECF6\",\"aaxis\":{\"gridcolor\":\"white\",\"linecolor\":\"white\",\"ticks\":\"\"},\"baxis\":{\"gridcolor\":\"white\",\"linecolor\":\"white\",\"ticks\":\"\"},\"caxis\":{\"gridcolor\":\"white\",\"linecolor\":\"white\",\"ticks\":\"\"}},\"coloraxis\":{\"colorbar\":{\"outlinewidth\":0,\"ticks\":\"\"}},\"colorscale\":{\"sequential\":[[0.0,\"#0d0887\"],[0.1111111111111111,\"#46039f\"],[0.2222222222222222,\"#7201a8\"],[0.3333333333333333,\"#9c179e\"],[0.4444444444444444,\"#bd3786\"],[0.5555555555555556,\"#d8576b\"],[0.6666666666666666,\"#ed7953\"],[0.7777777777777778,\"#fb9f3a\"],[0.8888888888888888,\"#fdca26\"],[1.0,\"#f0f921\"]],\"sequentialminus\":[[0.0,\"#0d0887\"],[0.1111111111111111,\"#46039f\"],[0.2222222222222222,\"#7201a8\"],[0.3333333333333333,\"#9c179e\"],[0.4444444444444444,\"#bd3786\"],[0.5555555555555556,\"#d8576b\"],[0.6666666666666666,\"#ed7953\"],[0.7777777777777778,\"#fb9f3a\"],[0.8888888888888888,\"#fdca26\"],[1.0,\"#f0f921\"]],\"diverging\":[[0,\"#8e0152\"],[0.1,\"#c51b7d\"],[0.2,\"#de77ae\"],[0.3,\"#f1b6da\"],[0.4,\"#fde0ef\"],[0.5,\"#f7f7f7\"],[0.6,\"#e6f5d0\"],[0.7,\"#b8e186\"],[0.8,\"#7fbc41\"],[0.9,\"#4d9221\"],[1,\"#276419\"]]},\"xaxis\":{\"gridcolor\":\"white\",\"linecolor\":\"white\",\"ticks\":\"\",\"title\":{\"standoff\":15},\"zerolinecolor\":\"white\",\"automargin\":true,\"zerolinewidth\":2},\"yaxis\":{\"gridcolor\":\"white\",\"linecolor\":\"white\",\"ticks\":\"\",\"title\":{\"standoff\":15},\"zerolinecolor\":\"white\",\"automargin\":true,\"zerolinewidth\":2},\"scene\":{\"xaxis\":{\"backgroundcolor\":\"#E5ECF6\",\"gridcolor\":\"white\",\"linecolor\":\"white\",\"showbackground\":true,\"ticks\":\"\",\"zerolinecolor\":\"white\",\"gridwidth\":2},\"yaxis\":{\"backgroundcolor\":\"#E5ECF6\",\"gridcolor\":\"white\",\"linecolor\":\"white\",\"showbackground\":true,\"ticks\":\"\",\"zerolinecolor\":\"white\",\"gridwidth\":2},\"zaxis\":{\"backgroundcolor\":\"#E5ECF6\",\"gridcolor\":\"white\",\"linecolor\":\"white\",\"showbackground\":true,\"ticks\":\"\",\"zerolinecolor\":\"white\",\"gridwidth\":2}},\"shapedefaults\":{\"line\":{\"color\":\"#2a3f5f\"}},\"annotationdefaults\":{\"arrowcolor\":\"#2a3f5f\",\"arrowhead\":0,\"arrowwidth\":1},\"geo\":{\"bgcolor\":\"white\",\"landcolor\":\"#E5ECF6\",\"subunitcolor\":\"white\",\"showland\":true,\"showlakes\":true,\"lakecolor\":\"white\"},\"title\":{\"x\":0.05},\"mapbox\":{\"style\":\"light\"}}},\"xaxis\":{\"anchor\":\"y\",\"domain\":[0.0,1.0],\"title\":{\"text\":\"Race\"},\"range\":[1,24]},\"yaxis\":{\"anchor\":\"x\",\"domain\":[0.0,1.0],\"title\":{\"text\":\"Points\"}},\"legend\":{\"title\":{\"text\":\"name\"},\"tracegroupgap\":0},\"title\":{\"text\":\"<b>Constructor Championship Timeline</b>\",\"font\":{\"family\":\"Arial, sans-serif\",\"size\":30},\"x\":0.5}},                        {\"responsive\": true}                    ).then(function(){\n",
       "                            \n",
       "var gd = document.getElementById('e3973ec0-56b9-4ea1-9777-6d08682c7830');\n",
       "var x = new MutationObserver(function (mutations, observer) {{\n",
       "        var display = window.getComputedStyle(gd).display;\n",
       "        if (!display || display === 'none') {{\n",
       "            console.log([gd, 'removed!']);\n",
       "            Plotly.purge(gd);\n",
       "            observer.disconnect();\n",
       "        }}\n",
       "}});\n",
       "\n",
       "// Listen for the removal of the full notebook cells\n",
       "var notebookContainer = gd.closest('#notebook-container');\n",
       "if (notebookContainer) {{\n",
       "    x.observe(notebookContainer, {childList: true});\n",
       "}}\n",
       "\n",
       "// Listen for the clearing of the current output cell\n",
       "var outputEl = gd.closest('.output');\n",
       "if (outputEl) {{\n",
       "    x.observe(outputEl, {childList: true});\n",
       "}}\n",
       "\n",
       "                        })                };                });            </script>        </div>"
      ]
     },
     "metadata": {},
     "output_type": "display_data"
    }
   ],
   "source": [
    "fig = go.Figure()\n",
    "\n",
    "fig = px.line(constructor_results, x=\"race\", y=\"points\", color='name', labels={\n",
    "    \"points\": \"Points\",\n",
    "    \"race\": \"Race\"\n",
    "}, title='Lap Times', color_discrete_map=constructor_color_map)\n",
    "fig.update_layout(title_text='<b>Constructor Championship Timeline</b>', titlefont = dict(\n",
    "         family = 'Arial, sans-serif',\n",
    "         size = 30\n",
    "      ), title_x=0.5)\n",
    "fig.update_layout(xaxis_range=[1,24])"
   ]
  },
  {
   "cell_type": "code",
   "execution_count": 35,
   "id": "d904f904",
   "metadata": {
    "_kg_hide-input": true,
    "execution": {
     "iopub.execute_input": "2023-10-30T18:40:00.516905Z",
     "iopub.status.busy": "2023-10-30T18:40:00.516500Z",
     "iopub.status.idle": "2023-10-30T18:40:00.524700Z",
     "shell.execute_reply": "2023-10-30T18:40:00.523380Z"
    },
    "papermill": {
     "duration": 0.026759,
     "end_time": "2023-10-30T18:40:00.526577",
     "exception": false,
     "start_time": "2023-10-30T18:40:00.499818",
     "status": "completed"
    },
    "tags": []
   },
   "outputs": [
    {
     "data": {
      "text/markdown": [
       "# <div style='background:#FF1801; border:0; color:black; box-shadow: 10px 10px 5px 0px rgba(0,0,0,0.75); transform: rotateX(10deg);'><h1 style='padding: 10px; margin: 0; text-align:center;'><span style='font-size: 30px;'>Constructor Overall Standings</span></h1></div>"
      ],
      "text/plain": [
       "<IPython.core.display.Markdown object>"
      ]
     },
     "metadata": {},
     "output_type": "display_data"
    }
   ],
   "source": [
    "display(md(f\"# <div style='background:#FF1801; border:0; color:black; box-shadow: 10px 10px 5px 0px rgba(0,0,0,0.75); transform: rotateX(10deg);'><h1 style='padding: 10px; margin: 0; text-align:center;'><span style='font-size: 30px;'>Constructor Overall Standings</span></h1></div>\"))"
   ]
  },
  {
   "cell_type": "code",
   "execution_count": 36,
   "id": "26f504d3",
   "metadata": {
    "_kg_hide-input": true,
    "execution": {
     "iopub.execute_input": "2023-10-30T18:40:00.559756Z",
     "iopub.status.busy": "2023-10-30T18:40:00.559363Z",
     "iopub.status.idle": "2023-10-30T18:40:00.575394Z",
     "shell.execute_reply": "2023-10-30T18:40:00.574325Z"
    },
    "papermill": {
     "duration": 0.035346,
     "end_time": "2023-10-30T18:40:00.577476",
     "exception": false,
     "start_time": "2023-10-30T18:40:00.542130",
     "status": "completed"
    },
    "tags": []
   },
   "outputs": [
    {
     "data": {
      "text/html": [
       "<style type=\"text/css\">\n",
       "#T_58ed4_row0_col1, #T_58ed4_row1_col1, #T_58ed4_row2_col1, #T_58ed4_row3_col1, #T_58ed4_row4_col1, #T_58ed4_row5_col1, #T_58ed4_row6_col1, #T_58ed4_row7_col1, #T_58ed4_row8_col1, #T_58ed4_row9_col1 {\n",
       "  background-color: #800026;\n",
       "  color: #f1f1f1;\n",
       "}\n",
       "</style>\n",
       "<table id=\"T_58ed4_\">\n",
       "  <caption>Constructor Standings</caption>\n",
       "  <thead>\n",
       "    <tr>\n",
       "      <th class=\"col_heading level0 col0\" >name</th>\n",
       "      <th class=\"col_heading level0 col1\" >points</th>\n",
       "      <th class=\"col_heading level0 col2\" >wins</th>\n",
       "    </tr>\n",
       "  </thead>\n",
       "  <tbody>\n",
       "    <tr>\n",
       "      <td id=\"T_58ed4_row0_col0\" class=\"data row0 col0\" >Red Bull</td>\n",
       "      <td id=\"T_58ed4_row0_col1\" class=\"data row0 col1\" >731.0</td>\n",
       "      <td id=\"T_58ed4_row0_col2\" class=\"data row0 col2\" >18</td>\n",
       "    </tr>\n",
       "    <tr>\n",
       "      <td id=\"T_58ed4_row1_col0\" class=\"data row1 col0\" >Mercedes</td>\n",
       "      <td id=\"T_58ed4_row1_col1\" class=\"data row1 col1\" >371.0</td>\n",
       "      <td id=\"T_58ed4_row1_col2\" class=\"data row1 col2\" >0</td>\n",
       "    </tr>\n",
       "    <tr>\n",
       "      <td id=\"T_58ed4_row2_col0\" class=\"data row2 col0\" >Ferrari</td>\n",
       "      <td id=\"T_58ed4_row2_col1\" class=\"data row2 col1\" >349.0</td>\n",
       "      <td id=\"T_58ed4_row2_col2\" class=\"data row2 col2\" >1</td>\n",
       "    </tr>\n",
       "    <tr>\n",
       "      <td id=\"T_58ed4_row3_col0\" class=\"data row3 col0\" >McLaren</td>\n",
       "      <td id=\"T_58ed4_row3_col1\" class=\"data row3 col1\" >256.0</td>\n",
       "      <td id=\"T_58ed4_row3_col2\" class=\"data row3 col2\" >0</td>\n",
       "    </tr>\n",
       "    <tr>\n",
       "      <td id=\"T_58ed4_row4_col0\" class=\"data row4 col0\" >Aston Martin</td>\n",
       "      <td id=\"T_58ed4_row4_col1\" class=\"data row4 col1\" >236.0</td>\n",
       "      <td id=\"T_58ed4_row4_col2\" class=\"data row4 col2\" >0</td>\n",
       "    </tr>\n",
       "    <tr>\n",
       "      <td id=\"T_58ed4_row5_col0\" class=\"data row5 col0\" >Alpine F1 Team</td>\n",
       "      <td id=\"T_58ed4_row5_col1\" class=\"data row5 col1\" >101.0</td>\n",
       "      <td id=\"T_58ed4_row5_col2\" class=\"data row5 col2\" >0</td>\n",
       "    </tr>\n",
       "    <tr>\n",
       "      <td id=\"T_58ed4_row6_col0\" class=\"data row6 col0\" >Williams</td>\n",
       "      <td id=\"T_58ed4_row6_col1\" class=\"data row6 col1\" >28.0</td>\n",
       "      <td id=\"T_58ed4_row6_col2\" class=\"data row6 col2\" >0</td>\n",
       "    </tr>\n",
       "    <tr>\n",
       "      <td id=\"T_58ed4_row7_col0\" class=\"data row7 col0\" >AlphaTauri</td>\n",
       "      <td id=\"T_58ed4_row7_col1\" class=\"data row7 col1\" >16.0</td>\n",
       "      <td id=\"T_58ed4_row7_col2\" class=\"data row7 col2\" >0</td>\n",
       "    </tr>\n",
       "    <tr>\n",
       "      <td id=\"T_58ed4_row8_col0\" class=\"data row8 col0\" >Alfa Romeo</td>\n",
       "      <td id=\"T_58ed4_row8_col1\" class=\"data row8 col1\" >16.0</td>\n",
       "      <td id=\"T_58ed4_row8_col2\" class=\"data row8 col2\" >0</td>\n",
       "    </tr>\n",
       "    <tr>\n",
       "      <td id=\"T_58ed4_row9_col0\" class=\"data row9 col0\" >Haas F1 Team</td>\n",
       "      <td id=\"T_58ed4_row9_col1\" class=\"data row9 col1\" >12.0</td>\n",
       "      <td id=\"T_58ed4_row9_col2\" class=\"data row9 col2\" >0</td>\n",
       "    </tr>\n",
       "  </tbody>\n",
       "</table>\n"
      ],
      "text/plain": [
       "<pandas.io.formats.style.Styler at 0x7febeea60610>"
      ]
     },
     "execution_count": 36,
     "metadata": {},
     "output_type": "execute_result"
    }
   ],
   "source": [
    "const_stand_race = constructor_overall.sort_values(by='points', ascending=False)\n",
    "const_stand_race[['name', 'points', 'wins']].style.pipe(const_standings)"
   ]
  },
  {
   "cell_type": "code",
   "execution_count": 37,
   "id": "7955b3ad",
   "metadata": {
    "_kg_hide-input": true,
    "execution": {
     "iopub.execute_input": "2023-10-30T18:40:00.610992Z",
     "iopub.status.busy": "2023-10-30T18:40:00.610601Z",
     "iopub.status.idle": "2023-10-30T18:40:00.620037Z",
     "shell.execute_reply": "2023-10-30T18:40:00.618472Z"
    },
    "papermill": {
     "duration": 0.028868,
     "end_time": "2023-10-30T18:40:00.622133",
     "exception": false,
     "start_time": "2023-10-30T18:40:00.593265",
     "status": "completed"
    },
    "tags": []
   },
   "outputs": [
    {
     "data": {
      "text/markdown": [
       "<h1 style='background:#FF1801;border:0; color:black;box-shadow: 10px 10px 5px 0px rgba(0,0,0,0.75);transform: rotateX(10deg);'><center style='color: white;'>Next Up: São Paulo Grand Prix, 2023-11-05</center></h1>"
      ],
      "text/plain": [
       "<IPython.core.display.Markdown object>"
      ]
     },
     "metadata": {},
     "output_type": "display_data"
    }
   ],
   "source": [
    "max_round = max(schedule['round'])\n",
    "if race < max_round:\n",
    "    next_race = schedule[schedule['round'] == (race+1)]\n",
    "    next_race_name = next_race['raceName'].values[0]\n",
    "    next_race_date = next_race['date'].values[0]\n",
    "    display(md(f\"<h1 style='background:#FF1801;border:0; color:black;box-shadow: 10px 10px 5px 0px rgba(0,0,0,0.75);transform: rotateX(10deg);'><center style='color: white;'>Next Up: {next_race_name}, {next_race_date}</center></h1>\"))\n",
    "else:\n",
    "    display(md(f\"<h1 style='background:#FF1801;border:0; color:black;box-shadow: 10px 10px 5px 0px rgba(0,0,0,0.75);transform: rotateX(10deg);'><center style='color: white;'>Next Up: {year+1} Data Summary</center></h1>\"))\n"
   ]
  },
  {
   "cell_type": "markdown",
   "id": "72c45d18",
   "metadata": {
    "papermill": {
     "duration": 0.016118,
     "end_time": "2023-10-30T18:40:00.653579",
     "exception": false,
     "start_time": "2023-10-30T18:40:00.637461",
     "status": "completed"
    },
    "tags": []
   },
   "source": [
    "<h1 style='background:#FF1801;border:0; color:black;\n",
    "    box-shadow: 10px 10px 5px 0px rgba(0,0,0,0.75);\n",
    "    transform: rotateX(10deg);\n",
    "    '><center style='color: black;'>Thank You</center></h1>"
   ]
  },
  {
   "cell_type": "markdown",
   "id": "2eff7e6e",
   "metadata": {
    "papermill": {
     "duration": 0.015348,
     "end_time": "2023-10-30T18:40:00.684301",
     "exception": false,
     "start_time": "2023-10-30T18:40:00.668953",
     "status": "completed"
    },
    "tags": []
   },
   "source": [
    "### Please upvote if you liked this notebook and comment with your feedback! Thank you so much for supporting my work. "
   ]
  },
  {
   "cell_type": "code",
   "execution_count": 38,
   "id": "55c03555",
   "metadata": {
    "_kg_hide-input": true,
    "execution": {
     "iopub.execute_input": "2023-10-30T18:40:00.717558Z",
     "iopub.status.busy": "2023-10-30T18:40:00.717168Z",
     "iopub.status.idle": "2023-10-30T18:40:00.723173Z",
     "shell.execute_reply": "2023-10-30T18:40:00.722413Z"
    },
    "papermill": {
     "duration": 0.025738,
     "end_time": "2023-10-30T18:40:00.725526",
     "exception": false,
     "start_time": "2023-10-30T18:40:00.699788",
     "status": "completed"
    },
    "tags": []
   },
   "outputs": [
    {
     "data": {
      "text/markdown": [
       "# <div style='background:#FF1801; border:0; color:black; box-shadow: 10px 10px 5px 0px rgba(0,0,0,0.75); transform: rotateX(10deg);'><h1 style='padding: 10px; margin: 0; text-align:center;'><span style='font-size: 30px;'>Acknowledgements</span></h1></div>"
      ],
      "text/plain": [
       "<IPython.core.display.Markdown object>"
      ]
     },
     "metadata": {},
     "output_type": "display_data"
    }
   ],
   "source": [
    "display(md(f\"# <div style='background:#FF1801; border:0; color:black; box-shadow: 10px 10px 5px 0px rgba(0,0,0,0.75); transform: rotateX(10deg);'><h1 style='padding: 10px; margin: 0; text-align:center;'><span style='font-size: 30px;'>Acknowledgements</span></h1></div>\"))"
   ]
  },
  {
   "cell_type": "markdown",
   "id": "32e45205",
   "metadata": {
    "papermill": {
     "duration": 0.015394,
     "end_time": "2023-10-30T18:40:00.756978",
     "exception": false,
     "start_time": "2023-10-30T18:40:00.741584",
     "status": "completed"
    },
    "tags": []
   },
   "source": [
    "- Shoutout to @VOPANI for creating this fantastic, F1 dataset\n",
    "- The F1 Developer API http://ergast.com/mrd/\n",
    "- The python package ergast API wrapper, [[pyergast](https://github.com/weiranyu/pyErgast)]\n",
    "- Very inspired by this [[notebook](https://www.kaggle.com/code/ekrembayar/formula-1-70th-anniversary)] on the same dataset"
   ]
  },
  {
   "cell_type": "code",
   "execution_count": 39,
   "id": "da8279df",
   "metadata": {
    "_kg_hide-input": true,
    "execution": {
     "iopub.execute_input": "2023-10-30T18:40:00.789233Z",
     "iopub.status.busy": "2023-10-30T18:40:00.788904Z",
     "iopub.status.idle": "2023-10-30T18:40:00.794460Z",
     "shell.execute_reply": "2023-10-30T18:40:00.793775Z"
    },
    "papermill": {
     "duration": 0.02414,
     "end_time": "2023-10-30T18:40:00.796327",
     "exception": false,
     "start_time": "2023-10-30T18:40:00.772187",
     "status": "completed"
    },
    "tags": []
   },
   "outputs": [
    {
     "data": {
      "text/markdown": [
       "# <div style='background:#FF1801; border:0; color:black; box-shadow: 10px 10px 5px 0px rgba(0,0,0,0.75); transform: rotateX(10deg);'><h1 style='padding: 10px; margin: 0; text-align:center;'><span style='font-size: 30px;'>Race Schedule</span></h1></div>"
      ],
      "text/plain": [
       "<IPython.core.display.Markdown object>"
      ]
     },
     "metadata": {},
     "output_type": "display_data"
    }
   ],
   "source": [
    "display(md(f\"# <div style='background:#FF1801; border:0; color:black; box-shadow: 10px 10px 5px 0px rgba(0,0,0,0.75); transform: rotateX(10deg);'><h1 style='padding: 10px; margin: 0; text-align:center;'><span style='font-size: 30px;'>Race Schedule</span></h1></div>\"))"
   ]
  },
  {
   "cell_type": "markdown",
   "id": "8ef93c97",
   "metadata": {
    "papermill": {
     "duration": 0.015273,
     "end_time": "2023-10-30T18:40:00.828471",
     "exception": false,
     "start_time": "2023-10-30T18:40:00.813198",
     "status": "completed"
    },
    "tags": []
   },
   "source": [
    "<div class=\"row\" style='float:left' align='center'>\n",
    "<div class=\"column\" align = 'center' style='float:left; max-width:50%;'> \n",
    "    <img src=\"https://cdn-1.motorsport.com/images/mgl/Y99JQRbY/s800/red-bull-racing-logo-1.jpg\" width=70>\n",
    "    <img src=\"https://media.formula1.com/content/dam/fom-website/2018-redesign-assets/team%20logos/alpine.jpg\" width=70>\n",
    "    <img src=\"https://cdn-8.motorsport.com/images/mgl/YEQJgyLY/s800/mclaren-f1-team-logo-1.jpg\" width=60>\n",
    "    <img src=\"https://assets.turbologo.com/blog/en/2019/10/19084952/ferrari-logo-illustration-958x575.jpg\" width=70 />\n",
    "      <img src=\"https://cdn.sanity.io/images/fnx611yr/production/ff454bb2b4adb541b66477adcb49088f8de0fb4a-2400x2400.jpg?rect=0,572,2400,1256&w=1200&h=628&auto=format\"/ width=70>\n",
    "    <img src=\"https://cdn-9.motorsport.com/images/mgl/0RrzmDo0/s800/mercedes-f1-logo-1.jpg\" width=70/>\n",
    "    <img src=\"https://diginomica.com/sites/default/files/images/2019-05/Haas-F1-logo.jpg\" width=70>\n",
    "    <img src=\"https://d3cm515ijfiu6w.cloudfront.net/wp-content/uploads/2021/01/01082241/Aston-Martin.jpg\" width=70>\n",
    "    <img src=\"https://cdn-2.motorsport.com/images/mgl/Y99JQR8Y/s8/scuderia-alphatauri-f1-logo-1.jpg\" width=70>\n",
    "      <img src=\"https://www.formula1.com/content/dam/fom-website/manual/teams/Sauber/Alfa_Romeo_Racing_logo.jpg\"/ width=70>\n",
    "</div>\n",
    " <div class=\"column\" style='float:left; max-width:50%;'> \n",
    "    <img src=\"https://pbs.twimg.com/media/FmrBRv9XwAAFv18.jpg:large\" />\n",
    "</div>\n",
    " </div>"
   ]
  }
 ],
 "metadata": {
  "kernelspec": {
   "display_name": "Python 3",
   "language": "python",
   "name": "python3"
  },
  "language_info": {
   "codemirror_mode": {
    "name": "ipython",
    "version": 3
   },
   "file_extension": ".py",
   "mimetype": "text/x-python",
   "name": "python",
   "nbconvert_exporter": "python",
   "pygments_lexer": "ipython3",
   "version": "3.7.12"
  },
  "papermill": {
   "default_parameters": {},
   "duration": 39.756118,
   "end_time": "2023-10-30T18:40:01.666320",
   "environment_variables": {},
   "exception": null,
   "input_path": "__notebook__.ipynb",
   "output_path": "__notebook__.ipynb",
   "parameters": {},
   "start_time": "2023-10-30T18:39:21.910202",
   "version": "2.4.0"
  }
 },
 "nbformat": 4,
 "nbformat_minor": 5
}
