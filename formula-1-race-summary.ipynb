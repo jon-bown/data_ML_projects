{
 "cells": [
  {
   "cell_type": "markdown",
   "id": "983d5695",
   "metadata": {
    "papermill": {
     "duration": 0.019682,
     "end_time": "2023-08-05T01:21:25.803861",
     "exception": false,
     "start_time": "2023-08-05T01:21:25.784179",
     "status": "completed"
    },
    "tags": []
   },
   "source": [
    "<div align='center'>\n",
    "    <img src=\"https://www.raconteur.net/wp-content/uploads/2018/04/shutterstock_762930772.jpg\"/>\n",
    "</div>"
   ]
  },
  {
   "cell_type": "markdown",
   "id": "5e936d4d",
   "metadata": {
    "papermill": {
     "duration": 0.015802,
     "end_time": "2023-08-05T01:21:25.836712",
     "exception": false,
     "start_time": "2023-08-05T01:21:25.820910",
     "status": "completed"
    },
    "tags": []
   },
   "source": [
    "<style>\n",
    "@font-face {\n",
    "  font-family: F1;\n",
    "  src: url(https://www.formula1.com/etc/designs/fom-website/fonts/F1Regular/Formula1-Regular.ttf);\n",
    "}\n",
    "\n",
    "span{\n",
    "  font-family: F1;\n",
    "}\n",
    "\n",
    "a{\n",
    "  font-family: F1;\n",
    "}\n",
    "\n",
    ".nav-pills>li.active>a:focus {\n",
    "    color: #ffffff;\n",
    "    background-color: lightgray;\n",
    "}\n",
    "\n",
    ".container-fluid, .container-fluid h1 {\n",
    "    font-family: F1;\n",
    "    line-height: 1.7;\n",
    "}\n",
    "\n",
    ".container-fluid p {\n",
    "    font-family: F1;\n",
    "    color:black;\n",
    "}\n",
    "\n",
    "h1,h2,h3,h4,h5,h6,p, table {\n",
    "  font-family: F1;\n",
    "  color: black\n",
    "}\n",
    "</style>"
   ]
  },
  {
   "cell_type": "code",
   "execution_count": 1,
   "id": "49b5b1db",
   "metadata": {
    "_kg_hide-input": true,
    "_kg_hide-output": true,
    "execution": {
     "iopub.execute_input": "2023-08-05T01:21:25.872115Z",
     "iopub.status.busy": "2023-08-05T01:21:25.870671Z",
     "iopub.status.idle": "2023-08-05T01:21:25.889653Z",
     "shell.execute_reply": "2023-08-05T01:21:25.888283Z"
    },
    "papermill": {
     "duration": 0.039857,
     "end_time": "2023-08-05T01:21:25.892786",
     "exception": false,
     "start_time": "2023-08-05T01:21:25.852929",
     "status": "completed"
    },
    "tags": []
   },
   "outputs": [
    {
     "data": {
      "text/html": [
       "<style>\n",
       "@font-face {\n",
       "  font-family: F1;\n",
       "  src: url(https://www.formula1.com/etc/designs/fom-website/fonts/F1Regular/Formula1-Regular.ttf);\n",
       "}\n",
       "\n",
       "span{\n",
       "  font-family: F1;\n",
       "}\n",
       "\n",
       "a{\n",
       "  font-family: F1;\n",
       "}\n",
       "\n",
       ".nav-pills>li.active>a:focus {\n",
       "    color: #ffffff;\n",
       "    background-color: lightgray;\n",
       "}\n",
       "\n",
       ".container-fluid, .container-fluid h1 {\n",
       "    font-family: F1;\n",
       "    line-height: 1.7;\n",
       "}\n",
       "\n",
       ".container-fluid p {\n",
       "    font-family: F1;\n",
       "    color:black;\n",
       "}\n",
       "\n",
       "h1,h2,h3,h4,h5,h6,p, table {\n",
       "  font-family: F1;\n",
       "  color: black\n",
       "}\n",
       "</style>\n"
      ],
      "text/plain": [
       "<IPython.core.display.HTML object>"
      ]
     },
     "metadata": {},
     "output_type": "display_data"
    }
   ],
   "source": [
    "%%html\n",
    "<style>\n",
    "@font-face {\n",
    "  font-family: F1;\n",
    "  src: url(https://www.formula1.com/etc/designs/fom-website/fonts/F1Regular/Formula1-Regular.ttf);\n",
    "}\n",
    "\n",
    "span{\n",
    "  font-family: F1;\n",
    "}\n",
    "\n",
    "a{\n",
    "  font-family: F1;\n",
    "}\n",
    "\n",
    ".nav-pills>li.active>a:focus {\n",
    "    color: #ffffff;\n",
    "    background-color: lightgray;\n",
    "}\n",
    "\n",
    ".container-fluid, .container-fluid h1 {\n",
    "    font-family: F1;\n",
    "    line-height: 1.7;\n",
    "}\n",
    "\n",
    ".container-fluid p {\n",
    "    font-family: F1;\n",
    "    color:black;\n",
    "}\n",
    "\n",
    "h1,h2,h3,h4,h5,h6,p, table {\n",
    "  font-family: F1;\n",
    "  color: black\n",
    "}\n",
    "</style>"
   ]
  },
  {
   "cell_type": "markdown",
   "id": "181c644f",
   "metadata": {
    "papermill": {
     "duration": 0.017586,
     "end_time": "2023-08-05T01:21:25.926586",
     "exception": false,
     "start_time": "2023-08-05T01:21:25.909000",
     "status": "completed"
    },
    "tags": []
   },
   "source": [
    "<div style=\"padding: 15px; \n",
    "            color: #FFFFFF;\n",
    "            margin: 5px;\n",
    "            font-size: 110%;\n",
    "            display: block;\n",
    "            border-radius: 5px;\n",
    "            border: 5px solid #FF1801;\n",
    "            background-color: #000000;\">\n",
    "    <center>\n",
    "        <a id=\"top\"></a>\n",
    "        <h3 style=\"margin-bottom: 20px; color: white;\">Table of Contents</h3>\n",
    "    </center>\n",
    "    <ol>\n",
    "        <li>Podium</li>\n",
    "        <li>Full Results</li>\n",
    "        <li>Qualifying</li>\n",
    "        <li>Sprint</li>\n",
    "        <li>Pit Stops</li>\n",
    "        <li>Lap Summary</li>\n",
    "        <li>Driver Standings</li>\n",
    "        <li>Constructor Race Performance</li>\n",
    "        <li>Constructor Standings</li>\n",
    "        <li>Sources</li>\n",
    "    </ol>\n",
    "</div>\n"
   ]
  },
  {
   "cell_type": "code",
   "execution_count": 2,
   "id": "8661b934",
   "metadata": {
    "_kg_hide-input": true,
    "_kg_hide-output": true,
    "execution": {
     "iopub.execute_input": "2023-08-05T01:21:25.961514Z",
     "iopub.status.busy": "2023-08-05T01:21:25.961007Z",
     "iopub.status.idle": "2023-08-05T01:21:41.788191Z",
     "shell.execute_reply": "2023-08-05T01:21:41.786843Z"
    },
    "papermill": {
     "duration": 15.849418,
     "end_time": "2023-08-05T01:21:41.792336",
     "exception": false,
     "start_time": "2023-08-05T01:21:25.942918",
     "status": "completed"
    },
    "tags": []
   },
   "outputs": [
    {
     "name": "stdout",
     "output_type": "stream",
     "text": [
      "Collecting pyergast\r\n",
      "  Downloading pyErgast-0.1.0-py3-none-any.whl (10 kB)\r\n",
      "Requirement already satisfied: requests<3.0.0,>=2.25.0 in /opt/conda/lib/python3.7/site-packages (from pyergast) (2.28.2)\r\n",
      "Requirement already satisfied: pandas<2.0.0,>=1.1.5 in /opt/conda/lib/python3.7/site-packages (from pyergast) (1.3.5)\r\n",
      "Requirement already satisfied: python-dateutil>=2.7.3 in /opt/conda/lib/python3.7/site-packages (from pandas<2.0.0,>=1.1.5->pyergast) (2.8.2)\r\n",
      "Requirement already satisfied: numpy>=1.17.3 in /opt/conda/lib/python3.7/site-packages (from pandas<2.0.0,>=1.1.5->pyergast) (1.21.6)\r\n",
      "Requirement already satisfied: pytz>=2017.3 in /opt/conda/lib/python3.7/site-packages (from pandas<2.0.0,>=1.1.5->pyergast) (2022.7.1)\r\n",
      "Requirement already satisfied: charset-normalizer<4,>=2 in /opt/conda/lib/python3.7/site-packages (from requests<3.0.0,>=2.25.0->pyergast) (2.1.1)\r\n",
      "Requirement already satisfied: idna<4,>=2.5 in /opt/conda/lib/python3.7/site-packages (from requests<3.0.0,>=2.25.0->pyergast) (3.4)\r\n",
      "Requirement already satisfied: urllib3<1.27,>=1.21.1 in /opt/conda/lib/python3.7/site-packages (from requests<3.0.0,>=2.25.0->pyergast) (1.26.14)\r\n",
      "Requirement already satisfied: certifi>=2017.4.17 in /opt/conda/lib/python3.7/site-packages (from requests<3.0.0,>=2.25.0->pyergast) (2022.12.7)\r\n",
      "Requirement already satisfied: six>=1.5 in /opt/conda/lib/python3.7/site-packages (from python-dateutil>=2.7.3->pandas<2.0.0,>=1.1.5->pyergast) (1.16.0)\r\n",
      "Installing collected packages: pyergast\r\n",
      "Successfully installed pyergast-0.1.0\r\n",
      "\u001b[33mWARNING: Running pip as the 'root' user can result in broken permissions and conflicting behaviour with the system package manager. It is recommended to use a virtual environment instead: https://pip.pypa.io/warnings/venv\u001b[0m\u001b[33m\r\n",
      "\u001b[0m"
     ]
    }
   ],
   "source": [
    "!pip install pyergast"
   ]
  },
  {
   "cell_type": "code",
   "execution_count": 3,
   "id": "547e5432",
   "metadata": {
    "_cell_guid": "b1076dfc-b9ad-4769-8c92-a6c4dae69d19",
    "_kg_hide-input": true,
    "_uuid": "8f2839f25d086af736a60e9eeb907d3b93b6e0e5",
    "execution": {
     "iopub.execute_input": "2023-08-05T01:21:41.830971Z",
     "iopub.status.busy": "2023-08-05T01:21:41.830125Z",
     "iopub.status.idle": "2023-08-05T01:21:45.451952Z",
     "shell.execute_reply": "2023-08-05T01:21:45.450337Z"
    },
    "papermill": {
     "duration": 3.64564,
     "end_time": "2023-08-05T01:21:45.455767",
     "exception": false,
     "start_time": "2023-08-05T01:21:41.810127",
     "status": "completed"
    },
    "tags": []
   },
   "outputs": [],
   "source": [
    "import numpy as np\n",
    "import pandas as pd\n",
    "import datetime\n",
    "from datetime import date\n",
    "import os\n",
    "import seaborn as sns\n",
    "from IPython.display import Markdown as md\n",
    "import matplotlib.pyplot as plt\n",
    "import plotly.express as px\n",
    "from scipy import stats\n",
    "import plotly.graph_objects as go\n",
    "pd.set_option('display.precision', 1)\n",
    "from pyergast import pyergast\n",
    "import requests\n",
    "from plotly.offline import init_notebook_mode, iplot"
   ]
  },
  {
   "cell_type": "code",
   "execution_count": 4,
   "id": "0e283df3",
   "metadata": {
    "_kg_hide-input": true,
    "execution": {
     "iopub.execute_input": "2023-08-05T01:21:45.492398Z",
     "iopub.status.busy": "2023-08-05T01:21:45.491871Z",
     "iopub.status.idle": "2023-08-05T01:21:45.528482Z",
     "shell.execute_reply": "2023-08-05T01:21:45.527156Z"
    },
    "papermill": {
     "duration": 0.058948,
     "end_time": "2023-08-05T01:21:45.531800",
     "exception": false,
     "start_time": "2023-08-05T01:21:45.472852",
     "status": "completed"
    },
    "tags": []
   },
   "outputs": [],
   "source": [
    "#NOT ALL API ENDPOINTS AVAILABLE IN PYTHON PACKAGE OR WORK CORRECTLY, NEED TO USE MY OWN FOR SOME\n",
    "def constructor_standings(year=None, race=None):\n",
    "    \"\"\"\n",
    "    Fetch the constructor standings after a specific race in a specific year. Defaults to latest standings\n",
    "    Parameters\n",
    "    ----------\n",
    "    year: int\n",
    "        An optional parameter that specifies the year to be queried.\n",
    "    race: int\n",
    "        An optional parameter that specifies the round of a year to be queried.\n",
    "    Returns\n",
    "    -------\n",
    "    pandas.DataFrame\n",
    "    Index:\n",
    "        RangeIndex\n",
    "    Columns:\n",
    "        position: int\n",
    "        positionText: str\n",
    "        points: int\n",
    "        wins: int\n",
    "        constructorID: str\n",
    "        constructor: str\n",
    "        nationality: str\n",
    "    Example\n",
    "    -------\n",
    "    >>> pyergast.constructor_standings(1965)\n",
    "       position positionText points wins    constructorID             name    nationality\n",
    "    0         1            1     54    6     lotus-climax     Lotus-Climax        British\n",
    "    1         2            2     45    3              brm              BRM        British\n",
    "    2         3            3     27    0   brabham-climax   Brabham-Climax        British\n",
    "    3         4            4     26    0          ferrari          Ferrari        Italian\n",
    "    4         5            5     14    0    cooper-climax    Cooper-Climax        British\n",
    "    5         6            6     11    1            honda            Honda       Japanese\n",
    "    6         7            7      5    0      brabham-brm      Brabham-BRM        British\n",
    "    7         8            8      2    0        lotus-brm        Lotus-BRM        British\n",
    "    8         9            9      0    0     brabham-ford     Brabham-Ford        British\n",
    "    9        10           10      0    0             alfa       Alfa Romeo        Italian\n",
    "    10       11           11      0    0   lds-alfa_romeo   LDS-Alfa Romeo  South African\n",
    "    11       12           12      0    0      cooper-ford      Cooper-Ford        British\n",
    "    12       13           13      0    0       lds-climax       LDS-Climax  South African\n",
    "    13       14           14      0    0       lotus-ford       Lotus-Ford        British\n",
    "    14       15           15      0    0               re               RE      Rhodesian\n",
    "    15       16           16      0    0  cooper-maserati  Cooper-Maserati        British\n",
    "    \"\"\"\n",
    "    if year and race:\n",
    "        assert year >= 1958, 'Constructor standings only available starting 1958'\n",
    "        url = 'http://ergast.com/api/f1/{}/{}/constructorStandings.json?limit=1000'.format(year, race)\n",
    "    elif year:\n",
    "        assert year >= 1958, 'Constructor standings only available starting 1958'\n",
    "        url = 'http://ergast.com/api/f1/{}/constructorStandings.json?limit=1000'.format(year, race)\n",
    "    else:\n",
    "        url = 'http://ergast.com/api/f1/current/constructorStandings.json?limit=1000'\n",
    "\n",
    "    r = requests.get(url)\n",
    "    assert r.status_code == 200, 'Cannot connect to Ergast API. Check your inputs.'\n",
    "    output = r.json()\n",
    "    try:\n",
    "        constructorStandings = output['MRData']['StandingsTable']['StandingsLists'][0]['ConstructorStandings']\n",
    "    except:\n",
    "        return pd.DataFrame()\n",
    "\n",
    "    for constructor in constructorStandings:\n",
    "        constructor['constructorID'] = constructor['Constructor']['constructorId']\n",
    "        constructor['name'] = constructor['Constructor']['name']\n",
    "        constructor['nationality'] = constructor['Constructor']['nationality']\n",
    "        del constructor['Constructor']\n",
    "\n",
    "    return pd.DataFrame(constructorStandings)\n",
    "\n",
    "\n",
    "\n",
    "def get_pit_stops(year=None, race=None):\n",
    "    \"\"\"\n",
    "    \"\"\"\n",
    "    if year and race:\n",
    "        url = 'http://ergast.com/api/f1/{}/{}/pitstops.json?limit=1000'.format(year, race)\n",
    "    r = requests.get(url)\n",
    "\n",
    "    assert r.status_code == 200, 'Cannot connect to Ergast API'\n",
    "    drivers = r.json()\n",
    "    try:\n",
    "        result = pd.DataFrame(drivers[\"MRData\"][\"RaceTable\"][\"Races\"][0][\"PitStops\"])\n",
    "    except:\n",
    "        return pd.DataFrame()\n",
    "\n",
    "    return result\n",
    "\n",
    "\n",
    "def get_round(year=None, race=None):\n",
    "    \"\"\"\n",
    "    \"\"\"\n",
    "    if year and race:\n",
    "        url = 'http://ergast.com/api/f1/{}/{}/pitstops.json?limit=1000'.format(year, race)\n",
    "    r = requests.get(url)\n",
    "\n",
    "    assert r.status_code == 200, 'Cannot connect to Ergast API'\n",
    "    drivers = r.json()\n",
    "    try:\n",
    "        result = pd.DataFrame(drivers[\"MRData\"][\"RaceTable\"][\"Races\"][0][\"PitStops\"])\n",
    "    except:\n",
    "        return pd.DataFrame()\n",
    "\n",
    "    return result\n",
    "\n",
    "def get_lap_times(year=None, race=None):\n",
    "    \"\"\"\n",
    "    \"\"\"\n",
    "    if year and race:\n",
    "        url = 'http://ergast.com/api/f1/{}/{}/laps.json?limit=1000'.format(year, race)\n",
    "    r = requests.get(url)\n",
    "\n",
    "    assert r.status_code == 200, 'Cannot connect to Ergast API'\n",
    "    drivers = r.json()\n",
    "    try:\n",
    "        result = pd.DataFrame(drivers[\"MRData\"][\"RaceTable\"][\"Races\"][0][\"Laps\"])\n",
    "    except:\n",
    "        return pd.DataFrame()\n",
    "    lap_df = pd.DataFrame()\n",
    "    for lap in result.number.unique():\n",
    "        temp_df = pd.DataFrame(result[result['number'] == lap].Timings.iloc[0])\n",
    "        temp_df['lap'] = lap\n",
    "        lap_df = pd.concat([lap_df, temp_df], ignore_index=True, axis=0)\n",
    "\n",
    "    return lap_df\n",
    "\n",
    "def get_last_round():\n",
    "    \"\"\"\n",
    "    \"\"\"\n",
    "    url = 'http://ergast.com/api/f1/current/last/results.json?limit=1000'\n",
    "    r = requests.get(url)\n",
    "\n",
    "    assert r.status_code == 200, 'Cannot connect to Ergast API'\n",
    "    drivers = r.json()\n",
    "    try:\n",
    "        result = drivers[\"MRData\"][\"RaceTable\"][\"round\"]\n",
    "    except:\n",
    "        return pd.DataFrame()\n",
    "   \n",
    "\n",
    "    return int(result)\n",
    "\n",
    "\n",
    "def get_sprint_results(year=None, race=None):\n",
    "    \"\"\"\n",
    "    Get results of sprint, return empty dataframe if no sprint results available\n",
    "    \"\"\"\n",
    "    if year and race:\n",
    "        url = f'http://ergast.com/api/f1/{year}/{race}/sprint.json?limit=1000'\n",
    "    r = requests.get(url)\n",
    "\n",
    "    assert r.status_code == 200, 'Cannot connect to Ergast API'\n",
    "    drivers = r.json()\n",
    "    try:\n",
    "        result = pd.DataFrame(drivers[\"MRData\"][\"RaceTable\"][\"Races\"][0][\"SprintResults\"])\n",
    "        result['driverID'] = result['Driver'].apply(lambda x: x['driverId'])\n",
    "        result['Driver'] = result['Driver'].apply(lambda x: x['code'])\n",
    "        result['constructorId'] = result['Constructor'].apply(lambda x: x['constructorId'])\n",
    "    except:\n",
    "        return pd.DataFrame()\n",
    "\n",
    "    return result"
   ]
  },
  {
   "cell_type": "code",
   "execution_count": 5,
   "id": "675fe87d",
   "metadata": {
    "_kg_hide-input": true,
    "_kg_hide-output": true,
    "execution": {
     "iopub.execute_input": "2023-08-05T01:21:45.569591Z",
     "iopub.status.busy": "2023-08-05T01:21:45.569076Z",
     "iopub.status.idle": "2023-08-05T01:22:01.916969Z",
     "shell.execute_reply": "2023-08-05T01:22:01.915906Z"
    },
    "papermill": {
     "duration": 16.370744,
     "end_time": "2023-08-05T01:22:01.920324",
     "exception": false,
     "start_time": "2023-08-05T01:21:45.549580",
     "status": "completed"
    },
    "tags": []
   },
   "outputs": [],
   "source": [
    "#DATA CLEANING\n",
    "##INITIAL PARAMETERS\n",
    "my_date = date.today()\n",
    "year, week_num, day_of_week = my_date.isocalendar()\n",
    "race = get_last_round()\n",
    "\n",
    "#RACE RESULTS\n",
    "race_result = pyergast.get_race_result()\n",
    "race_result['points'] = race_result.points.astype(float)\n",
    "circuits = pyergast.get_circuits()\n",
    "\n",
    "#CONSTRUCTORS\n",
    "constructor_overall = constructor_standings(year=year)\n",
    "const_ov_emp = constructor_overall.empty\n",
    "if not const_ov_emp:\n",
    "    constructor_overall['points'] = constructor_overall.points.astype(float)\n",
    "constructor_results = constructor_standings(year=year, race=race)\n",
    "const_re_emp = constructor_results.empty\n",
    "if not const_re_emp:\n",
    "    constructor_results['points'] = constructor_results.points.astype(float)\n",
    "constructors = pyergast.get_constructors()\n",
    "\n",
    "#DRIVERS\n",
    "drivers = pyergast.get_drivers(year=year)\n",
    "drivers_2 = pd.read_csv('/kaggle/input/formula-1-world-championship-1950-2020/drivers.csv')\n",
    "drivers_2 ['Driver'] = drivers_2['code']\n",
    "drivers_2['driverID'] = drivers_2['driverRef']\n",
    "drivers['driverID'] = drivers['driverId']\n",
    "drivers_full = drivers.merge(drivers_2, on='driverID', how='left', suffixes=('_1', '_2'))\n",
    "driver_standings = pyergast.driver_standings()\n",
    "\n",
    "#LAPS\n",
    "lap_times = get_lap_times(year, race)\n",
    "lap_tim_emp = lap_times.empty\n",
    "if not lap_tim_emp:\n",
    "    lap_times['driverID'] = lap_times['driverId']\n",
    "    lap_times['lap'] = lap_times['lap'].astype(int)\n",
    "    \n",
    "#PIT STOPS\n",
    "pit_stops = get_pit_stops(year, race)\n",
    "pit_stop_emp = pit_stops.empty\n",
    "if not pit_stop_emp:\n",
    "    pit_stops['driverID'] = pit_stops['driverId']\n",
    "    \n",
    "#QUALIFYING\n",
    "qualifying = pyergast.get_qualifying_result()\n",
    "\n",
    "#SPRINT RESULTS\n",
    "sprint_results = get_sprint_results(year=year, race=race)\n",
    "SPRINT_EMPTY = sprint_results.empty\n",
    "\n",
    "#SCHEDULE\n",
    "schedule = pyergast.get_schedule()\n",
    "schedule['round'] = schedule['round'].astype(float)"
   ]
  },
  {
   "cell_type": "code",
   "execution_count": 6,
   "id": "3877d4fb",
   "metadata": {
    "_kg_hide-input": true,
    "execution": {
     "iopub.execute_input": "2023-08-05T01:22:01.957745Z",
     "iopub.status.busy": "2023-08-05T01:22:01.956471Z",
     "iopub.status.idle": "2023-08-05T01:22:02.030080Z",
     "shell.execute_reply": "2023-08-05T01:22:02.028831Z"
    },
    "papermill": {
     "duration": 0.096039,
     "end_time": "2023-08-05T01:22:02.033405",
     "exception": false,
     "start_time": "2023-08-05T01:22:01.937366",
     "status": "completed"
    },
    "tags": []
   },
   "outputs": [],
   "source": [
    "#Helpers\n",
    "def get_sec(time_str):\n",
    "    \"\"\"Get seconds from time.\"\"\"\n",
    "    if (time_str != '\\\\N' or not time_str):\n",
    "        m, s = str(time_str).split(':')\n",
    "        return float(m) * 60 + float(s)\n",
    "    \n",
    "def get_sec3(time_str):\n",
    "    \"\"\"Get seconds from time.\"\"\"\n",
    "    if (time_str != '\\\\N' or not time_str):\n",
    "        h, m, s = str(time_str).split(':')\n",
    "        return float(h)*3600 + float(m) * 60 + float(s)\n",
    "    \n",
    "def time_to_seconds(time_str):\n",
    "    if (time_str != '\\\\N' or not time_str):\n",
    "        time_str = str(time_str)\n",
    "        if time_str == '':\n",
    "            return None\n",
    "        parts = time_str.split(':')\n",
    "        if len(parts) == 1:\n",
    "            # s.mill format\n",
    "            return float(parts[0])\n",
    "        elif len(parts) == 2:\n",
    "            # minute:seconds.milliseconds format\n",
    "            minutes = int(parts[0])\n",
    "            seconds = float(parts[1])\n",
    "            return minutes * 60 + seconds\n",
    "        elif len(parts) == 3:\n",
    "            # hour:minute:seconds.milliseconds format\n",
    "            hours = int(parts[0])\n",
    "            minutes = int(parts[1])\n",
    "            seconds = float(parts[2])\n",
    "            return hours * 3600 + minutes * 60 + seconds\n",
    "        else:\n",
    "            raise ValueError(\"Invalid time format\")\n",
    "\n",
    "def convert_time_end(row):\n",
    "    return row['time_date'] + datetime.timedelta(0, row['duration'])\n",
    "\n",
    "#Colors\n",
    "constructor_color_map = {\n",
    "        'Williams': '#00A0DE',\n",
    "        'Alfa Romeo': '#A42134',\n",
    "        'AlphaTauri': '#20394C',\n",
    "        'Red Bull': '#000B8D',\n",
    "        'Mercedes': '#00A19B',\n",
    "        'Haas F1 Team': '#E6002B',\n",
    "          'Aston Martin': '#002420', \n",
    "          'Ferrari': '#EF1A2D',\n",
    "          'Alpine F1 Team': '#2173B8',\n",
    "        'McLaren': '#FF8000' \n",
    "}\n",
    "\n",
    "def build_driver_col_map(row):\n",
    "    const = row['constructor']\n",
    "    \n",
    "    color = constructor_color_map[const]\n",
    "    row['driverColor'] = color\n",
    "    row['Driver'] = drivers_full.loc[drivers_full['driverID'] == row['driverID']]['Driver'].values[0]\n",
    "    return row\n",
    "\n",
    "race_result = race_result.apply(build_driver_col_map, axis=1)\n",
    "\n",
    "unique_df = race_result.drop_duplicates(subset='Driver', keep='last')\n",
    "color_map = dict(zip(unique_df['Driver'], unique_df['driverColor']))\n",
    "\n",
    "race_result.drop(columns=['Driver'], inplace=True)"
   ]
  },
  {
   "cell_type": "code",
   "execution_count": 7,
   "id": "54a88ab1",
   "metadata": {
    "_kg_hide-input": true,
    "execution": {
     "iopub.execute_input": "2023-08-05T01:22:02.071414Z",
     "iopub.status.busy": "2023-08-05T01:22:02.070018Z",
     "iopub.status.idle": "2023-08-05T01:22:10.191730Z",
     "shell.execute_reply": "2023-08-05T01:22:10.190409Z"
    },
    "papermill": {
     "duration": 8.144331,
     "end_time": "2023-08-05T01:22:10.195157",
     "exception": false,
     "start_time": "2023-08-05T01:22:02.050826",
     "status": "completed"
    },
    "tags": []
   },
   "outputs": [],
   "source": [
    "# DATA CLEANING\n",
    "if not lap_tim_emp:\n",
    "    lap_times['duration'] = lap_times['time'].apply(get_sec)\n",
    "    lap_times['red_flag'] = 0\n",
    "    lap_times.loc[lap_times['duration'] > 300.0, 'red_flag'] = 1\n",
    "\n",
    "\n",
    "current_circuit = schedule[schedule['round'] == race].circuitID.values[0]\n",
    "current_race_name = schedule[schedule['round'] == race].circuitName.values[0]\n",
    "current_race_date = schedule[schedule['round'] == race].date.values[0]\n",
    "\n",
    "\n",
    "#DRIVER/LAP\n",
    "if not lap_tim_emp:\n",
    "    lap_driver = lap_times.merge(drivers_full, on='driverID', how='left', suffixes=('_1', '_2'))\n",
    "    lap_driver['lap'] = lap_driver.lap.astype(float)\n",
    "    lap_driver = lap_driver[lap_driver['red_flag'] == 0].copy()\n",
    "    lap_driver_no = lap_driver[(stats.zscore(lap_driver['duration'])) <1]\n",
    "    lap_driver['position'] = lap_driver['position'].astype(int)\n",
    "\n",
    "\n",
    "#RESULTS\n",
    "num_laps = max(race_result['laps'].astype(int))\n",
    "merged = race_result.merge(drivers_full, on='driverID', how='left', suffixes=('_1', '_2'))\n",
    "res_race_laps = merged.copy()\n",
    "res_race_laps['laps'] = 0\n",
    "reduced = res_race_laps[['laps', 'grid', 'Driver']]\n",
    "reduced.columns = ['laps', 'position', 'Driver']\n",
    "reduced_res = pd.concat([reduced, merged[['laps', 'position', 'Driver']]], axis=0)\n",
    "reduced_res['laps'] = reduced_res['laps'].astype(int)\n",
    "reduced_res['last_lap'] = 0\n",
    "reduced_res['Driver'] = reduced_res['Driver'].astype(str)\n",
    "##Add flag for non-finishers\n",
    "for driver in color_map.keys():\n",
    "    temp = reduced_res[reduced_res['Driver'] == driver]\n",
    "    max_driver_laps = max(temp['laps'])\n",
    "    if max_driver_laps < num_laps:\n",
    "        #This driver didn't finish\n",
    "        reduced_res.loc[(reduced_res['Driver'] == driver) & (reduced_res['laps'] == max_driver_laps), 'last_lap'] = 1\n",
    "\n",
    "#CONSTRUCTORS\n",
    "constructor_results = pd.DataFrame()\n",
    "for i in range(1, race+1):\n",
    "    if i == 1:\n",
    "        constructor_results = constructor_standings(year=year, race=i)\n",
    "        constructor_results['race'] = i\n",
    "    else:\n",
    "        temp = constructor_standings(year=year, race=i)\n",
    "        temp['race'] = i\n",
    "        constructor_results = pd.concat([constructor_results, temp], axis=0)\n",
    "constructor_results['points'] = constructor_results['points'].astype(float)\n",
    "\n",
    "\n",
    "\n",
    "track = circuits[circuits['circuitId'] == current_circuit]\n",
    "track_lat = track['Latitude'].values[0]\n",
    "track_lng = track['Longtitude'].values[0]\n",
    "\n",
    "\n",
    "#PODIIUM\n",
    "res_race_lap_status_pod = race_result[race_result['position'] != '\\\\N'].copy()\n",
    "res_race_lap_status_pod = res_race_lap_status_pod.merge(drivers_full, on='driverID', how='left', suffixes=('_1', '_2'))\n",
    "res_race_lap_status_pod['position'] = res_race_lap_status_pod['position'].astype(int)\n",
    "res_race_lap_status_pod = res_race_lap_status_pod.sort_values(by='position')\n",
    "\n",
    "\n",
    "#PIT STOPS\n",
    "if not pit_stop_emp:\n",
    "    pit_stops['duration'] = pit_stops['duration'].apply(lambda x: time_to_seconds(x))\n",
    "    pit_stops['duration'] = pit_stops['duration'].astype(float)\n",
    "    pit_stops['red_flag'] = (pit_stops['duration'] > 600.0).astype(int)\n",
    "##PIT STOP DURATIONS\n",
    "    pit_stops['time_stamp'] = current_race_date + ' ' + pit_stops['time']\n",
    "    pit_stops['time_date'] = pd.to_datetime(pit_stops['time_stamp'])\n",
    "    pit_stops['time_end_date'] = pit_stops.apply(lambda x: convert_time_end(x), axis=1)\n",
    "#MERGE WITH DRIVERS\n",
    "    driver_group = pd.DataFrame()\n",
    "    pit_stops = pit_stops.merge(drivers_full, on='driverID', how='left', suffixes=('_1', '_2'))\n",
    "    mean = pit_stops[pit_stops['red_flag'] == 0].groupby(['Driver'])['duration'].mean()\n",
    "    mini = pit_stops[pit_stops['red_flag'] == 0].groupby(['Driver'])['duration'].min()\n",
    "    maxi = pit_stops[pit_stops['red_flag'] == 0].groupby(['Driver'])['duration'].max()\n",
    "    driver_group['mean'] = mean\n",
    "    driver_group['max'] = maxi\n",
    "    driver_group['min'] = mini\n",
    "    driver_group = driver_group.sort_values(by=\"max\")\n",
    "    driver_group['Driver'] = maxi.index\n",
    "\n",
    "# QUALIFYING & FINISHING\n",
    "qualifying = qualifying.fillna('\\\\N')\n",
    "qualifying['q1_dur'] = qualifying['Q1'].apply(time_to_seconds)\n",
    "qualifying['q2_dur'] = qualifying['Q2'].apply(time_to_seconds)\n",
    "qualifying['q3_dur'] = qualifying['Q3'].apply(time_to_seconds)\n",
    "qualifying['max_time'] = qualifying.apply(lambda x: max(x['q1_dur'], x['q2_dur'], x['q3_dur']), axis=1)\n",
    "qualifying['min_time'] = qualifying.apply(lambda x: min(x['q1_dur'], x['q2_dur'], x['q3_dur']), axis=1)\n",
    "max_time = max(qualifying['max_time']) + 1\n",
    "min_time = min(qualifying['min_time']) - 1\n",
    "if max_time > (min_time+15):\n",
    "    max_time = min_time+15\n",
    "qualifying = qualifying.merge(drivers_full, on='driverID', how='left', suffixes=('_1', '_2'))\n",
    "\n",
    "#SPRINT\n",
    "if not SPRINT_EMPTY:\n",
    "    sprint_results['points'] = sprint_results['points'].astype(float)\n",
    "    sprint_results['position'] = sprint_results['position'].astype(int)\n",
    "    sprint_results['grid'] = sprint_results['grid'].astype(int)\n",
    "\n",
    "\n",
    "    num_sprint_laps = max(sprint_results['laps'].astype(int))\n",
    "    #merged = race_result.merge(drivers_full, on='driverID', how='left', suffixes=('_1', '_2'))\n",
    "    sp_res_race_laps = sprint_results.copy()\n",
    "    sp_res_race_laps['laps'] = 0\n",
    "    sp_reduced = sp_res_race_laps[['laps', 'grid', 'Driver']]\n",
    "    sp_reduced.columns = ['laps', 'position', 'Driver']\n",
    "    sp_reduced_res = pd.concat([sp_reduced, sprint_results[['laps', 'position', 'Driver']]], axis=0)\n",
    "    sp_reduced_res['laps'] = sp_reduced_res['laps'].astype(int)\n",
    "    sp_reduced_res['last_lap'] = 0\n",
    "    sp_reduced_res['Driver'] = sp_reduced_res['Driver'].astype(str)\n",
    "    for driver in color_map.keys():\n",
    "        temp = sp_reduced_res[sp_reduced_res['Driver'] == driver]\n",
    "        max_driver_laps = max(temp['laps'])\n",
    "        if max_driver_laps < num_sprint_laps:\n",
    "            #This driver didn't finish\n",
    "            sp_reduced_res.loc[(sp_reduced_res['Driver'] == driver) & (sp_reduced_res['laps'] == max_driver_laps), 'last_lap'] = 1\n"
   ]
  },
  {
   "cell_type": "code",
   "execution_count": 8,
   "id": "e6a0f23a",
   "metadata": {
    "_kg_hide-input": true,
    "execution": {
     "iopub.execute_input": "2023-08-05T01:22:10.231406Z",
     "iopub.status.busy": "2023-08-05T01:22:10.230925Z",
     "iopub.status.idle": "2023-08-05T01:22:10.239776Z",
     "shell.execute_reply": "2023-08-05T01:22:10.238670Z"
    },
    "papermill": {
     "duration": 0.030266,
     "end_time": "2023-08-05T01:22:10.242332",
     "exception": false,
     "start_time": "2023-08-05T01:22:10.212066",
     "status": "completed"
    },
    "tags": []
   },
   "outputs": [
    {
     "data": {
      "text/markdown": [
       "# <div style='background:#FF1801; border:0; color:black; box-shadow: 10px 10px 5px 0px rgba(0,0,0,0.75); transform: rotateX(10deg);'><h1 style='padding: 10px; margin: 0; text-align:center;'><span style='font-size: 38px;'>Circuit de Spa-Francorchamps, 2023 Data Summary</span></h1></div>"
      ],
      "text/plain": [
       "<IPython.core.display.Markdown object>"
      ]
     },
     "metadata": {},
     "output_type": "display_data"
    }
   ],
   "source": [
    "display(md(f\"# <div style='background:#FF1801; border:0; color:black; box-shadow: 10px 10px 5px 0px rgba(0,0,0,0.75); transform: rotateX(10deg);'><h1 style='padding: 10px; margin: 0; text-align:center;'><span style='font-size: 38px;'>{current_race_name}, {year} Data Summary</span></h1></div>\"))"
   ]
  },
  {
   "cell_type": "code",
   "execution_count": 9,
   "id": "39ac544f",
   "metadata": {
    "_kg_hide-input": true,
    "_kg_hide-output": true,
    "execution": {
     "iopub.execute_input": "2023-08-05T01:22:10.278860Z",
     "iopub.status.busy": "2023-08-05T01:22:10.278037Z",
     "iopub.status.idle": "2023-08-05T01:22:25.332322Z",
     "shell.execute_reply": "2023-08-05T01:22:25.330643Z"
    },
    "papermill": {
     "duration": 15.07677,
     "end_time": "2023-08-05T01:22:25.335729",
     "exception": false,
     "start_time": "2023-08-05T01:22:10.258959",
     "status": "completed"
    },
    "tags": []
   },
   "outputs": [
    {
     "name": "stdout",
     "output_type": "stream",
     "text": [
      "Collecting gmplot\r\n",
      "  Downloading gmplot-1.4.1-py3-none-any.whl (164 kB)\r\n",
      "\u001b[2K     \u001b[90m━━━━━━━━━━━━━━━━━━━━━━━━━━━━━━━━━━━━━━━\u001b[0m \u001b[32m164.7/164.7 kB\u001b[0m \u001b[31m5.1 MB/s\u001b[0m eta \u001b[36m0:00:00\u001b[0m\r\n",
      "\u001b[?25hRequirement already satisfied: requests in /opt/conda/lib/python3.7/site-packages (from gmplot) (2.28.2)\r\n",
      "Requirement already satisfied: urllib3<1.27,>=1.21.1 in /opt/conda/lib/python3.7/site-packages (from requests->gmplot) (1.26.14)\r\n",
      "Requirement already satisfied: certifi>=2017.4.17 in /opt/conda/lib/python3.7/site-packages (from requests->gmplot) (2022.12.7)\r\n",
      "Requirement already satisfied: charset-normalizer<4,>=2 in /opt/conda/lib/python3.7/site-packages (from requests->gmplot) (2.1.1)\r\n",
      "Requirement already satisfied: idna<4,>=2.5 in /opt/conda/lib/python3.7/site-packages (from requests->gmplot) (3.4)\r\n",
      "Installing collected packages: gmplot\r\n",
      "Successfully installed gmplot-1.4.1\r\n",
      "\u001b[33mWARNING: Running pip as the 'root' user can result in broken permissions and conflicting behaviour with the system package manager. It is recommended to use a virtual environment instead: https://pip.pypa.io/warnings/venv\u001b[0m\u001b[33m\r\n",
      "\u001b[0m"
     ]
    }
   ],
   "source": [
    "!pip install gmplot"
   ]
  },
  {
   "cell_type": "code",
   "execution_count": 10,
   "id": "4d7f9391",
   "metadata": {
    "_kg_hide-input": true,
    "execution": {
     "iopub.execute_input": "2023-08-05T01:22:25.373807Z",
     "iopub.status.busy": "2023-08-05T01:22:25.373357Z",
     "iopub.status.idle": "2023-08-05T01:22:27.372472Z",
     "shell.execute_reply": "2023-08-05T01:22:27.370884Z"
    },
    "papermill": {
     "duration": 2.022058,
     "end_time": "2023-08-05T01:22:27.375577",
     "exception": false,
     "start_time": "2023-08-05T01:22:25.353519",
     "status": "completed"
    },
    "tags": []
   },
   "outputs": [
    {
     "data": {
      "text/html": [
       "        <script type=\"text/javascript\">\n",
       "        window.PlotlyConfig = {MathJaxConfig: 'local'};\n",
       "        if (window.MathJax && window.MathJax.Hub && window.MathJax.Hub.Config) {window.MathJax.Hub.Config({SVG: {font: \"STIX-Web\"}});}\n",
       "        if (typeof require !== 'undefined') {\n",
       "        require.undef(\"plotly\");\n",
       "        requirejs.config({\n",
       "            paths: {\n",
       "                'plotly': ['https://cdn.plot.ly/plotly-2.18.0.min']\n",
       "            }\n",
       "        });\n",
       "        require(['plotly'], function(Plotly) {\n",
       "            window._Plotly = Plotly;\n",
       "        });\n",
       "        }\n",
       "        </script>\n",
       "        "
      ]
     },
     "metadata": {},
     "output_type": "display_data"
    },
    {
     "data": {
      "text/html": [
       "<div>                            <div id=\"c41c7c2e-b96e-4038-b0c1-ec142c5ac94b\" class=\"plotly-graph-div\" style=\"height:300px; width:100%;\"></div>            <script type=\"text/javascript\">                require([\"plotly\"], function(Plotly) {                    window.PLOTLYENV=window.PLOTLYENV || {};                                    if (document.getElementById(\"c41c7c2e-b96e-4038-b0c1-ec142c5ac94b\")) {                    Plotly.newPlot(                        \"c41c7c2e-b96e-4038-b0c1-ec142c5ac94b\",                        [{\"hovertemplate\":\"Latitude=%{lat}<br>Longtitude=%{lon}<extra></extra>\",\"lat\":[\"50.4372\"],\"legendgroup\":\"\",\"lon\":[\"5.97139\"],\"marker\":{\"color\":\"fuchsia\"},\"mode\":\"markers\",\"name\":\"\",\"showlegend\":false,\"subplot\":\"mapbox\",\"type\":\"scattermapbox\"}],                        {\"template\":{\"data\":{\"histogram2dcontour\":[{\"type\":\"histogram2dcontour\",\"colorbar\":{\"outlinewidth\":0,\"ticks\":\"\"},\"colorscale\":[[0.0,\"#0d0887\"],[0.1111111111111111,\"#46039f\"],[0.2222222222222222,\"#7201a8\"],[0.3333333333333333,\"#9c179e\"],[0.4444444444444444,\"#bd3786\"],[0.5555555555555556,\"#d8576b\"],[0.6666666666666666,\"#ed7953\"],[0.7777777777777778,\"#fb9f3a\"],[0.8888888888888888,\"#fdca26\"],[1.0,\"#f0f921\"]]}],\"choropleth\":[{\"type\":\"choropleth\",\"colorbar\":{\"outlinewidth\":0,\"ticks\":\"\"}}],\"histogram2d\":[{\"type\":\"histogram2d\",\"colorbar\":{\"outlinewidth\":0,\"ticks\":\"\"},\"colorscale\":[[0.0,\"#0d0887\"],[0.1111111111111111,\"#46039f\"],[0.2222222222222222,\"#7201a8\"],[0.3333333333333333,\"#9c179e\"],[0.4444444444444444,\"#bd3786\"],[0.5555555555555556,\"#d8576b\"],[0.6666666666666666,\"#ed7953\"],[0.7777777777777778,\"#fb9f3a\"],[0.8888888888888888,\"#fdca26\"],[1.0,\"#f0f921\"]]}],\"heatmap\":[{\"type\":\"heatmap\",\"colorbar\":{\"outlinewidth\":0,\"ticks\":\"\"},\"colorscale\":[[0.0,\"#0d0887\"],[0.1111111111111111,\"#46039f\"],[0.2222222222222222,\"#7201a8\"],[0.3333333333333333,\"#9c179e\"],[0.4444444444444444,\"#bd3786\"],[0.5555555555555556,\"#d8576b\"],[0.6666666666666666,\"#ed7953\"],[0.7777777777777778,\"#fb9f3a\"],[0.8888888888888888,\"#fdca26\"],[1.0,\"#f0f921\"]]}],\"heatmapgl\":[{\"type\":\"heatmapgl\",\"colorbar\":{\"outlinewidth\":0,\"ticks\":\"\"},\"colorscale\":[[0.0,\"#0d0887\"],[0.1111111111111111,\"#46039f\"],[0.2222222222222222,\"#7201a8\"],[0.3333333333333333,\"#9c179e\"],[0.4444444444444444,\"#bd3786\"],[0.5555555555555556,\"#d8576b\"],[0.6666666666666666,\"#ed7953\"],[0.7777777777777778,\"#fb9f3a\"],[0.8888888888888888,\"#fdca26\"],[1.0,\"#f0f921\"]]}],\"contourcarpet\":[{\"type\":\"contourcarpet\",\"colorbar\":{\"outlinewidth\":0,\"ticks\":\"\"}}],\"contour\":[{\"type\":\"contour\",\"colorbar\":{\"outlinewidth\":0,\"ticks\":\"\"},\"colorscale\":[[0.0,\"#0d0887\"],[0.1111111111111111,\"#46039f\"],[0.2222222222222222,\"#7201a8\"],[0.3333333333333333,\"#9c179e\"],[0.4444444444444444,\"#bd3786\"],[0.5555555555555556,\"#d8576b\"],[0.6666666666666666,\"#ed7953\"],[0.7777777777777778,\"#fb9f3a\"],[0.8888888888888888,\"#fdca26\"],[1.0,\"#f0f921\"]]}],\"surface\":[{\"type\":\"surface\",\"colorbar\":{\"outlinewidth\":0,\"ticks\":\"\"},\"colorscale\":[[0.0,\"#0d0887\"],[0.1111111111111111,\"#46039f\"],[0.2222222222222222,\"#7201a8\"],[0.3333333333333333,\"#9c179e\"],[0.4444444444444444,\"#bd3786\"],[0.5555555555555556,\"#d8576b\"],[0.6666666666666666,\"#ed7953\"],[0.7777777777777778,\"#fb9f3a\"],[0.8888888888888888,\"#fdca26\"],[1.0,\"#f0f921\"]]}],\"mesh3d\":[{\"type\":\"mesh3d\",\"colorbar\":{\"outlinewidth\":0,\"ticks\":\"\"}}],\"scatter\":[{\"fillpattern\":{\"fillmode\":\"overlay\",\"size\":10,\"solidity\":0.2},\"type\":\"scatter\"}],\"parcoords\":[{\"type\":\"parcoords\",\"line\":{\"colorbar\":{\"outlinewidth\":0,\"ticks\":\"\"}}}],\"scatterpolargl\":[{\"type\":\"scatterpolargl\",\"marker\":{\"colorbar\":{\"outlinewidth\":0,\"ticks\":\"\"}}}],\"bar\":[{\"error_x\":{\"color\":\"#2a3f5f\"},\"error_y\":{\"color\":\"#2a3f5f\"},\"marker\":{\"line\":{\"color\":\"#E5ECF6\",\"width\":0.5},\"pattern\":{\"fillmode\":\"overlay\",\"size\":10,\"solidity\":0.2}},\"type\":\"bar\"}],\"scattergeo\":[{\"type\":\"scattergeo\",\"marker\":{\"colorbar\":{\"outlinewidth\":0,\"ticks\":\"\"}}}],\"scatterpolar\":[{\"type\":\"scatterpolar\",\"marker\":{\"colorbar\":{\"outlinewidth\":0,\"ticks\":\"\"}}}],\"histogram\":[{\"marker\":{\"pattern\":{\"fillmode\":\"overlay\",\"size\":10,\"solidity\":0.2}},\"type\":\"histogram\"}],\"scattergl\":[{\"type\":\"scattergl\",\"marker\":{\"colorbar\":{\"outlinewidth\":0,\"ticks\":\"\"}}}],\"scatter3d\":[{\"type\":\"scatter3d\",\"line\":{\"colorbar\":{\"outlinewidth\":0,\"ticks\":\"\"}},\"marker\":{\"colorbar\":{\"outlinewidth\":0,\"ticks\":\"\"}}}],\"scattermapbox\":[{\"type\":\"scattermapbox\",\"marker\":{\"colorbar\":{\"outlinewidth\":0,\"ticks\":\"\"}}}],\"scatterternary\":[{\"type\":\"scatterternary\",\"marker\":{\"colorbar\":{\"outlinewidth\":0,\"ticks\":\"\"}}}],\"scattercarpet\":[{\"type\":\"scattercarpet\",\"marker\":{\"colorbar\":{\"outlinewidth\":0,\"ticks\":\"\"}}}],\"carpet\":[{\"aaxis\":{\"endlinecolor\":\"#2a3f5f\",\"gridcolor\":\"white\",\"linecolor\":\"white\",\"minorgridcolor\":\"white\",\"startlinecolor\":\"#2a3f5f\"},\"baxis\":{\"endlinecolor\":\"#2a3f5f\",\"gridcolor\":\"white\",\"linecolor\":\"white\",\"minorgridcolor\":\"white\",\"startlinecolor\":\"#2a3f5f\"},\"type\":\"carpet\"}],\"table\":[{\"cells\":{\"fill\":{\"color\":\"#EBF0F8\"},\"line\":{\"color\":\"white\"}},\"header\":{\"fill\":{\"color\":\"#C8D4E3\"},\"line\":{\"color\":\"white\"}},\"type\":\"table\"}],\"barpolar\":[{\"marker\":{\"line\":{\"color\":\"#E5ECF6\",\"width\":0.5},\"pattern\":{\"fillmode\":\"overlay\",\"size\":10,\"solidity\":0.2}},\"type\":\"barpolar\"}],\"pie\":[{\"automargin\":true,\"type\":\"pie\"}]},\"layout\":{\"autotypenumbers\":\"strict\",\"colorway\":[\"#636efa\",\"#EF553B\",\"#00cc96\",\"#ab63fa\",\"#FFA15A\",\"#19d3f3\",\"#FF6692\",\"#B6E880\",\"#FF97FF\",\"#FECB52\"],\"font\":{\"color\":\"#2a3f5f\"},\"hovermode\":\"closest\",\"hoverlabel\":{\"align\":\"left\"},\"paper_bgcolor\":\"white\",\"plot_bgcolor\":\"#E5ECF6\",\"polar\":{\"bgcolor\":\"#E5ECF6\",\"angularaxis\":{\"gridcolor\":\"white\",\"linecolor\":\"white\",\"ticks\":\"\"},\"radialaxis\":{\"gridcolor\":\"white\",\"linecolor\":\"white\",\"ticks\":\"\"}},\"ternary\":{\"bgcolor\":\"#E5ECF6\",\"aaxis\":{\"gridcolor\":\"white\",\"linecolor\":\"white\",\"ticks\":\"\"},\"baxis\":{\"gridcolor\":\"white\",\"linecolor\":\"white\",\"ticks\":\"\"},\"caxis\":{\"gridcolor\":\"white\",\"linecolor\":\"white\",\"ticks\":\"\"}},\"coloraxis\":{\"colorbar\":{\"outlinewidth\":0,\"ticks\":\"\"}},\"colorscale\":{\"sequential\":[[0.0,\"#0d0887\"],[0.1111111111111111,\"#46039f\"],[0.2222222222222222,\"#7201a8\"],[0.3333333333333333,\"#9c179e\"],[0.4444444444444444,\"#bd3786\"],[0.5555555555555556,\"#d8576b\"],[0.6666666666666666,\"#ed7953\"],[0.7777777777777778,\"#fb9f3a\"],[0.8888888888888888,\"#fdca26\"],[1.0,\"#f0f921\"]],\"sequentialminus\":[[0.0,\"#0d0887\"],[0.1111111111111111,\"#46039f\"],[0.2222222222222222,\"#7201a8\"],[0.3333333333333333,\"#9c179e\"],[0.4444444444444444,\"#bd3786\"],[0.5555555555555556,\"#d8576b\"],[0.6666666666666666,\"#ed7953\"],[0.7777777777777778,\"#fb9f3a\"],[0.8888888888888888,\"#fdca26\"],[1.0,\"#f0f921\"]],\"diverging\":[[0,\"#8e0152\"],[0.1,\"#c51b7d\"],[0.2,\"#de77ae\"],[0.3,\"#f1b6da\"],[0.4,\"#fde0ef\"],[0.5,\"#f7f7f7\"],[0.6,\"#e6f5d0\"],[0.7,\"#b8e186\"],[0.8,\"#7fbc41\"],[0.9,\"#4d9221\"],[1,\"#276419\"]]},\"xaxis\":{\"gridcolor\":\"white\",\"linecolor\":\"white\",\"ticks\":\"\",\"title\":{\"standoff\":15},\"zerolinecolor\":\"white\",\"automargin\":true,\"zerolinewidth\":2},\"yaxis\":{\"gridcolor\":\"white\",\"linecolor\":\"white\",\"ticks\":\"\",\"title\":{\"standoff\":15},\"zerolinecolor\":\"white\",\"automargin\":true,\"zerolinewidth\":2},\"scene\":{\"xaxis\":{\"backgroundcolor\":\"#E5ECF6\",\"gridcolor\":\"white\",\"linecolor\":\"white\",\"showbackground\":true,\"ticks\":\"\",\"zerolinecolor\":\"white\",\"gridwidth\":2},\"yaxis\":{\"backgroundcolor\":\"#E5ECF6\",\"gridcolor\":\"white\",\"linecolor\":\"white\",\"showbackground\":true,\"ticks\":\"\",\"zerolinecolor\":\"white\",\"gridwidth\":2},\"zaxis\":{\"backgroundcolor\":\"#E5ECF6\",\"gridcolor\":\"white\",\"linecolor\":\"white\",\"showbackground\":true,\"ticks\":\"\",\"zerolinecolor\":\"white\",\"gridwidth\":2}},\"shapedefaults\":{\"line\":{\"color\":\"#2a3f5f\"}},\"annotationdefaults\":{\"arrowcolor\":\"#2a3f5f\",\"arrowhead\":0,\"arrowwidth\":1},\"geo\":{\"bgcolor\":\"white\",\"landcolor\":\"#E5ECF6\",\"subunitcolor\":\"white\",\"showland\":true,\"showlakes\":true,\"lakecolor\":\"white\"},\"title\":{\"x\":0.05},\"mapbox\":{\"style\":\"light\"}}},\"mapbox\":{\"domain\":{\"x\":[0.0,1.0],\"y\":[0.0,1.0]},\"center\":{\"lat\":50.4372,\"lon\":5.97139},\"zoom\":12,\"style\":\"open-street-map\"},\"legend\":{\"tracegroupgap\":0},\"margin\":{\"t\":0,\"r\":0,\"l\":0,\"b\":0},\"height\":300},                        {\"responsive\": true}                    ).then(function(){\n",
       "                            \n",
       "var gd = document.getElementById('c41c7c2e-b96e-4038-b0c1-ec142c5ac94b');\n",
       "var x = new MutationObserver(function (mutations, observer) {{\n",
       "        var display = window.getComputedStyle(gd).display;\n",
       "        if (!display || display === 'none') {{\n",
       "            console.log([gd, 'removed!']);\n",
       "            Plotly.purge(gd);\n",
       "            observer.disconnect();\n",
       "        }}\n",
       "}});\n",
       "\n",
       "// Listen for the removal of the full notebook cells\n",
       "var notebookContainer = gd.closest('#notebook-container');\n",
       "if (notebookContainer) {{\n",
       "    x.observe(notebookContainer, {childList: true});\n",
       "}}\n",
       "\n",
       "// Listen for the clearing of the current output cell\n",
       "var outputEl = gd.closest('.output');\n",
       "if (outputEl) {{\n",
       "    x.observe(outputEl, {childList: true});\n",
       "}}\n",
       "\n",
       "                        })                };                });            </script>        </div>"
      ]
     },
     "metadata": {},
     "output_type": "display_data"
    }
   ],
   "source": [
    "fig = px.scatter_mapbox(track, lat=\"Latitude\", lon=\"Longtitude\",\n",
    "                        color_discrete_sequence=[\"fuchsia\"], zoom=12, height=300)\n",
    "fig.update_layout(mapbox_style=\"open-street-map\")\n",
    "fig.update_layout(margin={\"r\":0,\"t\":0,\"l\":0,\"b\":0})\n",
    "fig.show()"
   ]
  },
  {
   "cell_type": "code",
   "execution_count": 11,
   "id": "cad7e202",
   "metadata": {
    "_kg_hide-input": true,
    "execution": {
     "iopub.execute_input": "2023-08-05T01:22:27.413808Z",
     "iopub.status.busy": "2023-08-05T01:22:27.413373Z",
     "iopub.status.idle": "2023-08-05T01:22:27.422461Z",
     "shell.execute_reply": "2023-08-05T01:22:27.421158Z"
    },
    "papermill": {
     "duration": 0.031431,
     "end_time": "2023-08-05T01:22:27.425061",
     "exception": false,
     "start_time": "2023-08-05T01:22:27.393630",
     "status": "completed"
    },
    "tags": []
   },
   "outputs": [
    {
     "data": {
      "text/markdown": [
       "# <div style='background:#FF1801; border:0; color:black; box-shadow: 10px 10px 5px 0px rgba(0,0,0,0.75); transform: rotateX(10deg);'><h1 style='padding: 10px; margin: 0; text-align:center;'><span style='font-size: 30px;'>Podium</span></h1></div>"
      ],
      "text/plain": [
       "<IPython.core.display.Markdown object>"
      ]
     },
     "metadata": {},
     "output_type": "display_data"
    }
   ],
   "source": [
    "display(md(f\"# <div style='background:#FF1801; border:0; color:black; box-shadow: 10px 10px 5px 0px rgba(0,0,0,0.75); transform: rotateX(10deg);'><h1 style='padding: 10px; margin: 0; text-align:center;'><span style='font-size: 30px;'>Podium</span></h1></div>\"))"
   ]
  },
  {
   "cell_type": "code",
   "execution_count": 12,
   "id": "11dd45ce",
   "metadata": {
    "_kg_hide-input": true,
    "execution": {
     "iopub.execute_input": "2023-08-05T01:22:27.466112Z",
     "iopub.status.busy": "2023-08-05T01:22:27.464963Z",
     "iopub.status.idle": "2023-08-05T01:22:27.477329Z",
     "shell.execute_reply": "2023-08-05T01:22:27.476338Z"
    },
    "papermill": {
     "duration": 0.035822,
     "end_time": "2023-08-05T01:22:27.479887",
     "exception": false,
     "start_time": "2023-08-05T01:22:27.444065",
     "status": "completed"
    },
    "tags": []
   },
   "outputs": [],
   "source": [
    "# Styling\n",
    "def podium(styler):\n",
    "    styler.set_caption(\"Podium Results\")\n",
    "    styler.background_gradient(axis=None, vmin=1, vmax=5, cmap=\"YlGnBu\")\n",
    "    styler.hide_index()\n",
    "   # styler.format({'points': \"{.1f}\"})\n",
    "    return styler\n",
    "\n",
    "\n",
    "def results_style(styler):\n",
    "    styler.set_caption(\"Race Results\")\n",
    "    styler.background_gradient(axis=None, vmin=1, vmax=5, cmap=\"YlGnBu\")\n",
    "    styler.hide_index()\n",
    "    return styler\n",
    "\n",
    "def sprint_results_style(styler):\n",
    "    styler.set_caption(\"Sprint Results\")\n",
    "    styler.background_gradient(axis=None, vmin=1, vmax=5, cmap=\"YlGnBu\")\n",
    "    styler.hide_index()\n",
    "    return styler\n",
    "\n",
    "def driver_stand(styler):\n",
    "    styler.set_caption(\"Driver Standings\")\n",
    "    styler.background_gradient(axis=None, vmin=1, vmax=5, cmap=\"YlGnBu\")\n",
    "    styler.hide_index()\n",
    "    return styler\n",
    "\n",
    "def const_standings(styler):\n",
    "    styler.set_caption(\"Constructor Standings\")\n",
    "    styler.background_gradient(axis=None, vmin=1, vmax=5, cmap=\"YlOrRd\")\n",
    "    styler.hide_index()\n",
    "    return styler"
   ]
  },
  {
   "cell_type": "code",
   "execution_count": 13,
   "id": "007b6aee",
   "metadata": {
    "_kg_hide-input": true,
    "execution": {
     "iopub.execute_input": "2023-08-05T01:22:27.519060Z",
     "iopub.status.busy": "2023-08-05T01:22:27.518611Z",
     "iopub.status.idle": "2023-08-05T01:22:27.635485Z",
     "shell.execute_reply": "2023-08-05T01:22:27.633829Z"
    },
    "papermill": {
     "duration": 0.140721,
     "end_time": "2023-08-05T01:22:27.639187",
     "exception": false,
     "start_time": "2023-08-05T01:22:27.498466",
     "status": "completed"
    },
    "tags": []
   },
   "outputs": [
    {
     "data": {
      "text/html": [
       "<style type=\"text/css\">\n",
       "#T_e7608_row0_col2 {\n",
       "  background-color: #ffffd9;\n",
       "  color: #000000;\n",
       "}\n",
       "#T_e7608_row0_col3, #T_e7608_row1_col3, #T_e7608_row2_col3 {\n",
       "  background-color: #081d58;\n",
       "  color: #f1f1f1;\n",
       "}\n",
       "#T_e7608_row1_col2 {\n",
       "  background-color: #c6e9b4;\n",
       "  color: #000000;\n",
       "}\n",
       "#T_e7608_row2_col2 {\n",
       "  background-color: #40b5c4;\n",
       "  color: #f1f1f1;\n",
       "}\n",
       "</style>\n",
       "<table id=\"T_e7608_\">\n",
       "  <caption>Podium Results</caption>\n",
       "  <thead>\n",
       "    <tr>\n",
       "      <th class=\"col_heading level0 col0\" >Driver</th>\n",
       "      <th class=\"col_heading level0 col1\" >grid</th>\n",
       "      <th class=\"col_heading level0 col2\" >position</th>\n",
       "      <th class=\"col_heading level0 col3\" >points</th>\n",
       "    </tr>\n",
       "  </thead>\n",
       "  <tbody>\n",
       "    <tr>\n",
       "      <td id=\"T_e7608_row0_col0\" class=\"data row0 col0\" >VER</td>\n",
       "      <td id=\"T_e7608_row0_col1\" class=\"data row0 col1\" >6</td>\n",
       "      <td id=\"T_e7608_row0_col2\" class=\"data row0 col2\" >1</td>\n",
       "      <td id=\"T_e7608_row0_col3\" class=\"data row0 col3\" >25.0</td>\n",
       "    </tr>\n",
       "    <tr>\n",
       "      <td id=\"T_e7608_row1_col0\" class=\"data row1 col0\" >PER</td>\n",
       "      <td id=\"T_e7608_row1_col1\" class=\"data row1 col1\" >2</td>\n",
       "      <td id=\"T_e7608_row1_col2\" class=\"data row1 col2\" >2</td>\n",
       "      <td id=\"T_e7608_row1_col3\" class=\"data row1 col3\" >18.0</td>\n",
       "    </tr>\n",
       "    <tr>\n",
       "      <td id=\"T_e7608_row2_col0\" class=\"data row2 col0\" >LEC</td>\n",
       "      <td id=\"T_e7608_row2_col1\" class=\"data row2 col1\" >1</td>\n",
       "      <td id=\"T_e7608_row2_col2\" class=\"data row2 col2\" >3</td>\n",
       "      <td id=\"T_e7608_row2_col3\" class=\"data row2 col3\" >15.0</td>\n",
       "    </tr>\n",
       "  </tbody>\n",
       "</table>\n"
      ],
      "text/plain": [
       "<pandas.io.formats.style.Styler at 0x7a71f9e2b910>"
      ]
     },
     "execution_count": 13,
     "metadata": {},
     "output_type": "execute_result"
    }
   ],
   "source": [
    "res_race_lap_status_pod[['Driver', 'grid', 'position', 'points']].iloc[:3].style.pipe(podium)"
   ]
  },
  {
   "cell_type": "code",
   "execution_count": 14,
   "id": "537529f4",
   "metadata": {
    "_kg_hide-input": true,
    "execution": {
     "iopub.execute_input": "2023-08-05T01:22:27.679751Z",
     "iopub.status.busy": "2023-08-05T01:22:27.679236Z",
     "iopub.status.idle": "2023-08-05T01:22:27.688861Z",
     "shell.execute_reply": "2023-08-05T01:22:27.687413Z"
    },
    "papermill": {
     "duration": 0.033287,
     "end_time": "2023-08-05T01:22:27.691678",
     "exception": false,
     "start_time": "2023-08-05T01:22:27.658391",
     "status": "completed"
    },
    "tags": []
   },
   "outputs": [
    {
     "data": {
      "text/markdown": [
       "# <div style='background:#FF1801; border:0; color:black; box-shadow: 10px 10px 5px 0px rgba(0,0,0,0.75); transform: rotateX(10deg);'><h1 style='padding: 10px; margin: 0; text-align:center;'><span style='font-size: 30px;'>Full Results</span></h1></div>"
      ],
      "text/plain": [
       "<IPython.core.display.Markdown object>"
      ]
     },
     "metadata": {},
     "output_type": "display_data"
    }
   ],
   "source": [
    "display(md(f\"# <div style='background:#FF1801; border:0; color:black; box-shadow: 10px 10px 5px 0px rgba(0,0,0,0.75); transform: rotateX(10deg);'><h1 style='padding: 10px; margin: 0; text-align:center;'><span style='font-size: 30px;'>Full Results</span></h1></div>\"))"
   ]
  },
  {
   "cell_type": "code",
   "execution_count": 15,
   "id": "6a1d9b94",
   "metadata": {
    "_kg_hide-input": true,
    "execution": {
     "iopub.execute_input": "2023-08-05T01:22:27.733058Z",
     "iopub.status.busy": "2023-08-05T01:22:27.732550Z",
     "iopub.status.idle": "2023-08-05T01:22:27.758912Z",
     "shell.execute_reply": "2023-08-05T01:22:27.756813Z"
    },
    "papermill": {
     "duration": 0.050158,
     "end_time": "2023-08-05T01:22:27.762162",
     "exception": false,
     "start_time": "2023-08-05T01:22:27.712004",
     "status": "completed"
    },
    "tags": []
   },
   "outputs": [
    {
     "data": {
      "text/html": [
       "<style type=\"text/css\">\n",
       "#T_fb9f2_row0_col2, #T_fb9f2_row9_col3, #T_fb9f2_row10_col3, #T_fb9f2_row11_col3, #T_fb9f2_row12_col3, #T_fb9f2_row13_col3, #T_fb9f2_row14_col3, #T_fb9f2_row15_col3, #T_fb9f2_row16_col3, #T_fb9f2_row17_col3, #T_fb9f2_row18_col3, #T_fb9f2_row19_col3 {\n",
       "  background-color: #ffffd9;\n",
       "  color: #000000;\n",
       "}\n",
       "#T_fb9f2_row0_col3, #T_fb9f2_row1_col3, #T_fb9f2_row2_col3, #T_fb9f2_row3_col3, #T_fb9f2_row4_col2, #T_fb9f2_row4_col3, #T_fb9f2_row5_col2, #T_fb9f2_row5_col3, #T_fb9f2_row6_col2, #T_fb9f2_row6_col3, #T_fb9f2_row7_col2, #T_fb9f2_row8_col2, #T_fb9f2_row9_col2, #T_fb9f2_row10_col2, #T_fb9f2_row11_col2, #T_fb9f2_row12_col2, #T_fb9f2_row13_col2, #T_fb9f2_row14_col2, #T_fb9f2_row15_col2, #T_fb9f2_row16_col2, #T_fb9f2_row17_col2, #T_fb9f2_row18_col2, #T_fb9f2_row19_col2 {\n",
       "  background-color: #081d58;\n",
       "  color: #f1f1f1;\n",
       "}\n",
       "#T_fb9f2_row1_col2, #T_fb9f2_row8_col3 {\n",
       "  background-color: #c6e9b4;\n",
       "  color: #000000;\n",
       "}\n",
       "#T_fb9f2_row2_col2 {\n",
       "  background-color: #40b5c4;\n",
       "  color: #f1f1f1;\n",
       "}\n",
       "#T_fb9f2_row3_col2, #T_fb9f2_row7_col3 {\n",
       "  background-color: #225da8;\n",
       "  color: #f1f1f1;\n",
       "}\n",
       "</style>\n",
       "<table id=\"T_fb9f2_\">\n",
       "  <caption>Race Results</caption>\n",
       "  <thead>\n",
       "    <tr>\n",
       "      <th class=\"col_heading level0 col0\" >Driver</th>\n",
       "      <th class=\"col_heading level0 col1\" >grid</th>\n",
       "      <th class=\"col_heading level0 col2\" >position</th>\n",
       "      <th class=\"col_heading level0 col3\" >points</th>\n",
       "      <th class=\"col_heading level0 col4\" >status</th>\n",
       "    </tr>\n",
       "  </thead>\n",
       "  <tbody>\n",
       "    <tr>\n",
       "      <td id=\"T_fb9f2_row0_col0\" class=\"data row0 col0\" >VER</td>\n",
       "      <td id=\"T_fb9f2_row0_col1\" class=\"data row0 col1\" >6</td>\n",
       "      <td id=\"T_fb9f2_row0_col2\" class=\"data row0 col2\" >1</td>\n",
       "      <td id=\"T_fb9f2_row0_col3\" class=\"data row0 col3\" >25.0</td>\n",
       "      <td id=\"T_fb9f2_row0_col4\" class=\"data row0 col4\" >Finished</td>\n",
       "    </tr>\n",
       "    <tr>\n",
       "      <td id=\"T_fb9f2_row1_col0\" class=\"data row1 col0\" >PER</td>\n",
       "      <td id=\"T_fb9f2_row1_col1\" class=\"data row1 col1\" >2</td>\n",
       "      <td id=\"T_fb9f2_row1_col2\" class=\"data row1 col2\" >2</td>\n",
       "      <td id=\"T_fb9f2_row1_col3\" class=\"data row1 col3\" >18.0</td>\n",
       "      <td id=\"T_fb9f2_row1_col4\" class=\"data row1 col4\" >Finished</td>\n",
       "    </tr>\n",
       "    <tr>\n",
       "      <td id=\"T_fb9f2_row2_col0\" class=\"data row2 col0\" >LEC</td>\n",
       "      <td id=\"T_fb9f2_row2_col1\" class=\"data row2 col1\" >1</td>\n",
       "      <td id=\"T_fb9f2_row2_col2\" class=\"data row2 col2\" >3</td>\n",
       "      <td id=\"T_fb9f2_row2_col3\" class=\"data row2 col3\" >15.0</td>\n",
       "      <td id=\"T_fb9f2_row2_col4\" class=\"data row2 col4\" >Finished</td>\n",
       "    </tr>\n",
       "    <tr>\n",
       "      <td id=\"T_fb9f2_row3_col0\" class=\"data row3 col0\" >HAM</td>\n",
       "      <td id=\"T_fb9f2_row3_col1\" class=\"data row3 col1\" >3</td>\n",
       "      <td id=\"T_fb9f2_row3_col2\" class=\"data row3 col2\" >4</td>\n",
       "      <td id=\"T_fb9f2_row3_col3\" class=\"data row3 col3\" >13.0</td>\n",
       "      <td id=\"T_fb9f2_row3_col4\" class=\"data row3 col4\" >Finished</td>\n",
       "    </tr>\n",
       "    <tr>\n",
       "      <td id=\"T_fb9f2_row4_col0\" class=\"data row4 col0\" >ALO</td>\n",
       "      <td id=\"T_fb9f2_row4_col1\" class=\"data row4 col1\" >9</td>\n",
       "      <td id=\"T_fb9f2_row4_col2\" class=\"data row4 col2\" >5</td>\n",
       "      <td id=\"T_fb9f2_row4_col3\" class=\"data row4 col3\" >10.0</td>\n",
       "      <td id=\"T_fb9f2_row4_col4\" class=\"data row4 col4\" >Finished</td>\n",
       "    </tr>\n",
       "    <tr>\n",
       "      <td id=\"T_fb9f2_row5_col0\" class=\"data row5 col0\" >RUS</td>\n",
       "      <td id=\"T_fb9f2_row5_col1\" class=\"data row5 col1\" >8</td>\n",
       "      <td id=\"T_fb9f2_row5_col2\" class=\"data row5 col2\" >6</td>\n",
       "      <td id=\"T_fb9f2_row5_col3\" class=\"data row5 col3\" >8.0</td>\n",
       "      <td id=\"T_fb9f2_row5_col4\" class=\"data row5 col4\" >Finished</td>\n",
       "    </tr>\n",
       "    <tr>\n",
       "      <td id=\"T_fb9f2_row6_col0\" class=\"data row6 col0\" >NOR</td>\n",
       "      <td id=\"T_fb9f2_row6_col1\" class=\"data row6 col1\" >7</td>\n",
       "      <td id=\"T_fb9f2_row6_col2\" class=\"data row6 col2\" >7</td>\n",
       "      <td id=\"T_fb9f2_row6_col3\" class=\"data row6 col3\" >6.0</td>\n",
       "      <td id=\"T_fb9f2_row6_col4\" class=\"data row6 col4\" >Finished</td>\n",
       "    </tr>\n",
       "    <tr>\n",
       "      <td id=\"T_fb9f2_row7_col0\" class=\"data row7 col0\" >OCO</td>\n",
       "      <td id=\"T_fb9f2_row7_col1\" class=\"data row7 col1\" >14</td>\n",
       "      <td id=\"T_fb9f2_row7_col2\" class=\"data row7 col2\" >8</td>\n",
       "      <td id=\"T_fb9f2_row7_col3\" class=\"data row7 col3\" >4.0</td>\n",
       "      <td id=\"T_fb9f2_row7_col4\" class=\"data row7 col4\" >Finished</td>\n",
       "    </tr>\n",
       "    <tr>\n",
       "      <td id=\"T_fb9f2_row8_col0\" class=\"data row8 col0\" >STR</td>\n",
       "      <td id=\"T_fb9f2_row8_col1\" class=\"data row8 col1\" >10</td>\n",
       "      <td id=\"T_fb9f2_row8_col2\" class=\"data row8 col2\" >9</td>\n",
       "      <td id=\"T_fb9f2_row8_col3\" class=\"data row8 col3\" >2.0</td>\n",
       "      <td id=\"T_fb9f2_row8_col4\" class=\"data row8 col4\" >Finished</td>\n",
       "    </tr>\n",
       "    <tr>\n",
       "      <td id=\"T_fb9f2_row9_col0\" class=\"data row9 col0\" >TSU</td>\n",
       "      <td id=\"T_fb9f2_row9_col1\" class=\"data row9 col1\" >11</td>\n",
       "      <td id=\"T_fb9f2_row9_col2\" class=\"data row9 col2\" >10</td>\n",
       "      <td id=\"T_fb9f2_row9_col3\" class=\"data row9 col3\" >1.0</td>\n",
       "      <td id=\"T_fb9f2_row9_col4\" class=\"data row9 col4\" >Finished</td>\n",
       "    </tr>\n",
       "    <tr>\n",
       "      <td id=\"T_fb9f2_row10_col0\" class=\"data row10 col0\" >GAS</td>\n",
       "      <td id=\"T_fb9f2_row10_col1\" class=\"data row10 col1\" >12</td>\n",
       "      <td id=\"T_fb9f2_row10_col2\" class=\"data row10 col2\" >11</td>\n",
       "      <td id=\"T_fb9f2_row10_col3\" class=\"data row10 col3\" >0.0</td>\n",
       "      <td id=\"T_fb9f2_row10_col4\" class=\"data row10 col4\" >Finished</td>\n",
       "    </tr>\n",
       "    <tr>\n",
       "      <td id=\"T_fb9f2_row11_col0\" class=\"data row11 col0\" >BOT</td>\n",
       "      <td id=\"T_fb9f2_row11_col1\" class=\"data row11 col1\" >13</td>\n",
       "      <td id=\"T_fb9f2_row11_col2\" class=\"data row11 col2\" >12</td>\n",
       "      <td id=\"T_fb9f2_row11_col3\" class=\"data row11 col3\" >0.0</td>\n",
       "      <td id=\"T_fb9f2_row11_col4\" class=\"data row11 col4\" >Finished</td>\n",
       "    </tr>\n",
       "    <tr>\n",
       "      <td id=\"T_fb9f2_row12_col0\" class=\"data row12 col0\" >ZHO</td>\n",
       "      <td id=\"T_fb9f2_row12_col1\" class=\"data row12 col1\" >17</td>\n",
       "      <td id=\"T_fb9f2_row12_col2\" class=\"data row12 col2\" >13</td>\n",
       "      <td id=\"T_fb9f2_row12_col3\" class=\"data row12 col3\" >0.0</td>\n",
       "      <td id=\"T_fb9f2_row12_col4\" class=\"data row12 col4\" >Finished</td>\n",
       "    </tr>\n",
       "    <tr>\n",
       "      <td id=\"T_fb9f2_row13_col0\" class=\"data row13 col0\" >ALB</td>\n",
       "      <td id=\"T_fb9f2_row13_col1\" class=\"data row13 col1\" >15</td>\n",
       "      <td id=\"T_fb9f2_row13_col2\" class=\"data row13 col2\" >14</td>\n",
       "      <td id=\"T_fb9f2_row13_col3\" class=\"data row13 col3\" >0.0</td>\n",
       "      <td id=\"T_fb9f2_row13_col4\" class=\"data row13 col4\" >Finished</td>\n",
       "    </tr>\n",
       "    <tr>\n",
       "      <td id=\"T_fb9f2_row14_col0\" class=\"data row14 col0\" >MAG</td>\n",
       "      <td id=\"T_fb9f2_row14_col1\" class=\"data row14 col1\" >16</td>\n",
       "      <td id=\"T_fb9f2_row14_col2\" class=\"data row14 col2\" >15</td>\n",
       "      <td id=\"T_fb9f2_row14_col3\" class=\"data row14 col3\" >0.0</td>\n",
       "      <td id=\"T_fb9f2_row14_col4\" class=\"data row14 col4\" >Finished</td>\n",
       "    </tr>\n",
       "    <tr>\n",
       "      <td id=\"T_fb9f2_row15_col0\" class=\"data row15 col0\" >RIC</td>\n",
       "      <td id=\"T_fb9f2_row15_col1\" class=\"data row15 col1\" >19</td>\n",
       "      <td id=\"T_fb9f2_row15_col2\" class=\"data row15 col2\" >16</td>\n",
       "      <td id=\"T_fb9f2_row15_col3\" class=\"data row15 col3\" >0.0</td>\n",
       "      <td id=\"T_fb9f2_row15_col4\" class=\"data row15 col4\" >Finished</td>\n",
       "    </tr>\n",
       "    <tr>\n",
       "      <td id=\"T_fb9f2_row16_col0\" class=\"data row16 col0\" >SAR</td>\n",
       "      <td id=\"T_fb9f2_row16_col1\" class=\"data row16 col1\" >18</td>\n",
       "      <td id=\"T_fb9f2_row16_col2\" class=\"data row16 col2\" >17</td>\n",
       "      <td id=\"T_fb9f2_row16_col3\" class=\"data row16 col3\" >0.0</td>\n",
       "      <td id=\"T_fb9f2_row16_col4\" class=\"data row16 col4\" >Finished</td>\n",
       "    </tr>\n",
       "    <tr>\n",
       "      <td id=\"T_fb9f2_row17_col0\" class=\"data row17 col0\" >HUL</td>\n",
       "      <td id=\"T_fb9f2_row17_col1\" class=\"data row17 col1\" >0</td>\n",
       "      <td id=\"T_fb9f2_row17_col2\" class=\"data row17 col2\" >18</td>\n",
       "      <td id=\"T_fb9f2_row17_col3\" class=\"data row17 col3\" >0.0</td>\n",
       "      <td id=\"T_fb9f2_row17_col4\" class=\"data row17 col4\" >Finished</td>\n",
       "    </tr>\n",
       "    <tr>\n",
       "      <td id=\"T_fb9f2_row18_col0\" class=\"data row18 col0\" >SAI</td>\n",
       "      <td id=\"T_fb9f2_row18_col1\" class=\"data row18 col1\" >4</td>\n",
       "      <td id=\"T_fb9f2_row18_col2\" class=\"data row18 col2\" >19</td>\n",
       "      <td id=\"T_fb9f2_row18_col3\" class=\"data row18 col3\" >0.0</td>\n",
       "      <td id=\"T_fb9f2_row18_col4\" class=\"data row18 col4\" >Collision damage</td>\n",
       "    </tr>\n",
       "    <tr>\n",
       "      <td id=\"T_fb9f2_row19_col0\" class=\"data row19 col0\" >PIA</td>\n",
       "      <td id=\"T_fb9f2_row19_col1\" class=\"data row19 col1\" >5</td>\n",
       "      <td id=\"T_fb9f2_row19_col2\" class=\"data row19 col2\" >20</td>\n",
       "      <td id=\"T_fb9f2_row19_col3\" class=\"data row19 col3\" >0.0</td>\n",
       "      <td id=\"T_fb9f2_row19_col4\" class=\"data row19 col4\" >Collision damage</td>\n",
       "    </tr>\n",
       "  </tbody>\n",
       "</table>\n"
      ],
      "text/plain": [
       "<pandas.io.formats.style.Styler at 0x7a71f9bb2210>"
      ]
     },
     "execution_count": 15,
     "metadata": {},
     "output_type": "execute_result"
    }
   ],
   "source": [
    "res_race_lap_status_pod[['Driver', 'grid', 'position', 'points', 'status']].style.pipe(results_style)"
   ]
  },
  {
   "cell_type": "code",
   "execution_count": 16,
   "id": "2c7bd6e6",
   "metadata": {
    "_kg_hide-input": true,
    "execution": {
     "iopub.execute_input": "2023-08-05T01:22:27.804130Z",
     "iopub.status.busy": "2023-08-05T01:22:27.802840Z",
     "iopub.status.idle": "2023-08-05T01:22:27.812661Z",
     "shell.execute_reply": "2023-08-05T01:22:27.810891Z"
    },
    "papermill": {
     "duration": 0.034018,
     "end_time": "2023-08-05T01:22:27.815954",
     "exception": false,
     "start_time": "2023-08-05T01:22:27.781936",
     "status": "completed"
    },
    "tags": []
   },
   "outputs": [
    {
     "data": {
      "text/markdown": [
       "# <div style='background:#FF1801; border:0; color:black; box-shadow: 10px 10px 5px 0px rgba(0,0,0,0.75); transform: rotateX(10deg);'><h1 style='padding: 10px; margin: 0; text-align:center;'><span style='font-size: 30px;'>Qualifying</span></h1></div>"
      ],
      "text/plain": [
       "<IPython.core.display.Markdown object>"
      ]
     },
     "metadata": {},
     "output_type": "display_data"
    }
   ],
   "source": [
    "display(md(f\"# <div style='background:#FF1801; border:0; color:black; box-shadow: 10px 10px 5px 0px rgba(0,0,0,0.75); transform: rotateX(10deg);'><h1 style='padding: 10px; margin: 0; text-align:center;'><span style='font-size: 30px;'>Qualifying</span></h1></div>\"))"
   ]
  },
  {
   "cell_type": "code",
   "execution_count": 17,
   "id": "764a9151",
   "metadata": {
    "_kg_hide-input": true,
    "execution": {
     "iopub.execute_input": "2023-08-05T01:22:27.857803Z",
     "iopub.status.busy": "2023-08-05T01:22:27.857371Z",
     "iopub.status.idle": "2023-08-05T01:22:27.902662Z",
     "shell.execute_reply": "2023-08-05T01:22:27.901598Z"
    },
    "papermill": {
     "duration": 0.069367,
     "end_time": "2023-08-05T01:22:27.905255",
     "exception": false,
     "start_time": "2023-08-05T01:22:27.835888",
     "status": "completed"
    },
    "tags": []
   },
   "outputs": [
    {
     "data": {
      "text/html": [
       "<div>                            <div id=\"91b7522c-5b65-4a11-90cc-1c222a1e6f7d\" class=\"plotly-graph-div\" style=\"height:525px; width:100%;\"></div>            <script type=\"text/javascript\">                require([\"plotly\"], function(Plotly) {                    window.PLOTLYENV=window.PLOTLYENV || {};                                    if (document.getElementById(\"91b7522c-5b65-4a11-90cc-1c222a1e6f7d\")) {                    Plotly.newPlot(                        \"91b7522c-5b65-4a11-90cc-1c222a1e6f7d\",                        [{\"marker\":{\"color\":\"red\"},\"name\":\"Q1\",\"x\":[\"VER\",\"LEC\",\"PER\",\"HAM\",\"SAI\",\"PIA\",\"NOR\",\"RUS\",\"ALO\",\"STR\",\"TSU\",\"GAS\",\"MAG\",\"BOT\",\"OCO\",\"ALB\",\"ZHO\",\"SAR\",\"RIC\",\"HUL\"],\"y\":[118.515,118.3,118.899,118.563,118.688,118.872,119.981,119.035,118.834,119.663,119.044,119.511,120.02,119.48400000000001,119.634,120.314,120.832,121.535,122.159,123.166],\"type\":\"bar\"},{\"marker\":{\"color\":\"gold\"},\"name\":\"Q2\",\"x\":[\"VER\",\"LEC\",\"PER\",\"HAM\",\"SAI\",\"PIA\",\"NOR\",\"RUS\",\"ALO\",\"STR\",\"TSU\",\"GAS\",\"MAG\",\"BOT\",\"OCO\",\"ALB\",\"ZHO\",\"SAR\",\"RIC\",\"HUL\"],\"y\":[112.78399999999999,112.017,112.35300000000001,112.345,111.711,111.53399999999999,112.25200000000001,112.60499999999999,112.751,112.193,113.148,113.67099999999999,114.16,114.694,116.372,null,null,null,null,null],\"type\":\"bar\"},{\"marker\":{\"color\":\"orange\"},\"name\":\"Q3\",\"x\":[\"VER\",\"LEC\",\"PER\",\"HAM\",\"SAI\",\"PIA\",\"NOR\",\"RUS\",\"ALO\",\"STR\",\"TSU\",\"GAS\",\"MAG\",\"BOT\",\"OCO\",\"ALB\",\"ZHO\",\"SAR\",\"RIC\",\"HUL\"],\"y\":[106.168,106.988,107.045,107.087,107.152,107.36500000000001,107.669,107.805,107.843,108.84100000000001,null,null,null,null,null,null,null,null,null,null],\"type\":\"bar\"}],                        {\"template\":{\"data\":{\"histogram2dcontour\":[{\"type\":\"histogram2dcontour\",\"colorbar\":{\"outlinewidth\":0,\"ticks\":\"\"},\"colorscale\":[[0.0,\"#0d0887\"],[0.1111111111111111,\"#46039f\"],[0.2222222222222222,\"#7201a8\"],[0.3333333333333333,\"#9c179e\"],[0.4444444444444444,\"#bd3786\"],[0.5555555555555556,\"#d8576b\"],[0.6666666666666666,\"#ed7953\"],[0.7777777777777778,\"#fb9f3a\"],[0.8888888888888888,\"#fdca26\"],[1.0,\"#f0f921\"]]}],\"choropleth\":[{\"type\":\"choropleth\",\"colorbar\":{\"outlinewidth\":0,\"ticks\":\"\"}}],\"histogram2d\":[{\"type\":\"histogram2d\",\"colorbar\":{\"outlinewidth\":0,\"ticks\":\"\"},\"colorscale\":[[0.0,\"#0d0887\"],[0.1111111111111111,\"#46039f\"],[0.2222222222222222,\"#7201a8\"],[0.3333333333333333,\"#9c179e\"],[0.4444444444444444,\"#bd3786\"],[0.5555555555555556,\"#d8576b\"],[0.6666666666666666,\"#ed7953\"],[0.7777777777777778,\"#fb9f3a\"],[0.8888888888888888,\"#fdca26\"],[1.0,\"#f0f921\"]]}],\"heatmap\":[{\"type\":\"heatmap\",\"colorbar\":{\"outlinewidth\":0,\"ticks\":\"\"},\"colorscale\":[[0.0,\"#0d0887\"],[0.1111111111111111,\"#46039f\"],[0.2222222222222222,\"#7201a8\"],[0.3333333333333333,\"#9c179e\"],[0.4444444444444444,\"#bd3786\"],[0.5555555555555556,\"#d8576b\"],[0.6666666666666666,\"#ed7953\"],[0.7777777777777778,\"#fb9f3a\"],[0.8888888888888888,\"#fdca26\"],[1.0,\"#f0f921\"]]}],\"heatmapgl\":[{\"type\":\"heatmapgl\",\"colorbar\":{\"outlinewidth\":0,\"ticks\":\"\"},\"colorscale\":[[0.0,\"#0d0887\"],[0.1111111111111111,\"#46039f\"],[0.2222222222222222,\"#7201a8\"],[0.3333333333333333,\"#9c179e\"],[0.4444444444444444,\"#bd3786\"],[0.5555555555555556,\"#d8576b\"],[0.6666666666666666,\"#ed7953\"],[0.7777777777777778,\"#fb9f3a\"],[0.8888888888888888,\"#fdca26\"],[1.0,\"#f0f921\"]]}],\"contourcarpet\":[{\"type\":\"contourcarpet\",\"colorbar\":{\"outlinewidth\":0,\"ticks\":\"\"}}],\"contour\":[{\"type\":\"contour\",\"colorbar\":{\"outlinewidth\":0,\"ticks\":\"\"},\"colorscale\":[[0.0,\"#0d0887\"],[0.1111111111111111,\"#46039f\"],[0.2222222222222222,\"#7201a8\"],[0.3333333333333333,\"#9c179e\"],[0.4444444444444444,\"#bd3786\"],[0.5555555555555556,\"#d8576b\"],[0.6666666666666666,\"#ed7953\"],[0.7777777777777778,\"#fb9f3a\"],[0.8888888888888888,\"#fdca26\"],[1.0,\"#f0f921\"]]}],\"surface\":[{\"type\":\"surface\",\"colorbar\":{\"outlinewidth\":0,\"ticks\":\"\"},\"colorscale\":[[0.0,\"#0d0887\"],[0.1111111111111111,\"#46039f\"],[0.2222222222222222,\"#7201a8\"],[0.3333333333333333,\"#9c179e\"],[0.4444444444444444,\"#bd3786\"],[0.5555555555555556,\"#d8576b\"],[0.6666666666666666,\"#ed7953\"],[0.7777777777777778,\"#fb9f3a\"],[0.8888888888888888,\"#fdca26\"],[1.0,\"#f0f921\"]]}],\"mesh3d\":[{\"type\":\"mesh3d\",\"colorbar\":{\"outlinewidth\":0,\"ticks\":\"\"}}],\"scatter\":[{\"fillpattern\":{\"fillmode\":\"overlay\",\"size\":10,\"solidity\":0.2},\"type\":\"scatter\"}],\"parcoords\":[{\"type\":\"parcoords\",\"line\":{\"colorbar\":{\"outlinewidth\":0,\"ticks\":\"\"}}}],\"scatterpolargl\":[{\"type\":\"scatterpolargl\",\"marker\":{\"colorbar\":{\"outlinewidth\":0,\"ticks\":\"\"}}}],\"bar\":[{\"error_x\":{\"color\":\"#2a3f5f\"},\"error_y\":{\"color\":\"#2a3f5f\"},\"marker\":{\"line\":{\"color\":\"#E5ECF6\",\"width\":0.5},\"pattern\":{\"fillmode\":\"overlay\",\"size\":10,\"solidity\":0.2}},\"type\":\"bar\"}],\"scattergeo\":[{\"type\":\"scattergeo\",\"marker\":{\"colorbar\":{\"outlinewidth\":0,\"ticks\":\"\"}}}],\"scatterpolar\":[{\"type\":\"scatterpolar\",\"marker\":{\"colorbar\":{\"outlinewidth\":0,\"ticks\":\"\"}}}],\"histogram\":[{\"marker\":{\"pattern\":{\"fillmode\":\"overlay\",\"size\":10,\"solidity\":0.2}},\"type\":\"histogram\"}],\"scattergl\":[{\"type\":\"scattergl\",\"marker\":{\"colorbar\":{\"outlinewidth\":0,\"ticks\":\"\"}}}],\"scatter3d\":[{\"type\":\"scatter3d\",\"line\":{\"colorbar\":{\"outlinewidth\":0,\"ticks\":\"\"}},\"marker\":{\"colorbar\":{\"outlinewidth\":0,\"ticks\":\"\"}}}],\"scattermapbox\":[{\"type\":\"scattermapbox\",\"marker\":{\"colorbar\":{\"outlinewidth\":0,\"ticks\":\"\"}}}],\"scatterternary\":[{\"type\":\"scatterternary\",\"marker\":{\"colorbar\":{\"outlinewidth\":0,\"ticks\":\"\"}}}],\"scattercarpet\":[{\"type\":\"scattercarpet\",\"marker\":{\"colorbar\":{\"outlinewidth\":0,\"ticks\":\"\"}}}],\"carpet\":[{\"aaxis\":{\"endlinecolor\":\"#2a3f5f\",\"gridcolor\":\"white\",\"linecolor\":\"white\",\"minorgridcolor\":\"white\",\"startlinecolor\":\"#2a3f5f\"},\"baxis\":{\"endlinecolor\":\"#2a3f5f\",\"gridcolor\":\"white\",\"linecolor\":\"white\",\"minorgridcolor\":\"white\",\"startlinecolor\":\"#2a3f5f\"},\"type\":\"carpet\"}],\"table\":[{\"cells\":{\"fill\":{\"color\":\"#EBF0F8\"},\"line\":{\"color\":\"white\"}},\"header\":{\"fill\":{\"color\":\"#C8D4E3\"},\"line\":{\"color\":\"white\"}},\"type\":\"table\"}],\"barpolar\":[{\"marker\":{\"line\":{\"color\":\"#E5ECF6\",\"width\":0.5},\"pattern\":{\"fillmode\":\"overlay\",\"size\":10,\"solidity\":0.2}},\"type\":\"barpolar\"}],\"pie\":[{\"automargin\":true,\"type\":\"pie\"}]},\"layout\":{\"autotypenumbers\":\"strict\",\"colorway\":[\"#636efa\",\"#EF553B\",\"#00cc96\",\"#ab63fa\",\"#FFA15A\",\"#19d3f3\",\"#FF6692\",\"#B6E880\",\"#FF97FF\",\"#FECB52\"],\"font\":{\"color\":\"#2a3f5f\"},\"hovermode\":\"closest\",\"hoverlabel\":{\"align\":\"left\"},\"paper_bgcolor\":\"white\",\"plot_bgcolor\":\"#E5ECF6\",\"polar\":{\"bgcolor\":\"#E5ECF6\",\"angularaxis\":{\"gridcolor\":\"white\",\"linecolor\":\"white\",\"ticks\":\"\"},\"radialaxis\":{\"gridcolor\":\"white\",\"linecolor\":\"white\",\"ticks\":\"\"}},\"ternary\":{\"bgcolor\":\"#E5ECF6\",\"aaxis\":{\"gridcolor\":\"white\",\"linecolor\":\"white\",\"ticks\":\"\"},\"baxis\":{\"gridcolor\":\"white\",\"linecolor\":\"white\",\"ticks\":\"\"},\"caxis\":{\"gridcolor\":\"white\",\"linecolor\":\"white\",\"ticks\":\"\"}},\"coloraxis\":{\"colorbar\":{\"outlinewidth\":0,\"ticks\":\"\"}},\"colorscale\":{\"sequential\":[[0.0,\"#0d0887\"],[0.1111111111111111,\"#46039f\"],[0.2222222222222222,\"#7201a8\"],[0.3333333333333333,\"#9c179e\"],[0.4444444444444444,\"#bd3786\"],[0.5555555555555556,\"#d8576b\"],[0.6666666666666666,\"#ed7953\"],[0.7777777777777778,\"#fb9f3a\"],[0.8888888888888888,\"#fdca26\"],[1.0,\"#f0f921\"]],\"sequentialminus\":[[0.0,\"#0d0887\"],[0.1111111111111111,\"#46039f\"],[0.2222222222222222,\"#7201a8\"],[0.3333333333333333,\"#9c179e\"],[0.4444444444444444,\"#bd3786\"],[0.5555555555555556,\"#d8576b\"],[0.6666666666666666,\"#ed7953\"],[0.7777777777777778,\"#fb9f3a\"],[0.8888888888888888,\"#fdca26\"],[1.0,\"#f0f921\"]],\"diverging\":[[0,\"#8e0152\"],[0.1,\"#c51b7d\"],[0.2,\"#de77ae\"],[0.3,\"#f1b6da\"],[0.4,\"#fde0ef\"],[0.5,\"#f7f7f7\"],[0.6,\"#e6f5d0\"],[0.7,\"#b8e186\"],[0.8,\"#7fbc41\"],[0.9,\"#4d9221\"],[1,\"#276419\"]]},\"xaxis\":{\"gridcolor\":\"white\",\"linecolor\":\"white\",\"ticks\":\"\",\"title\":{\"standoff\":15},\"zerolinecolor\":\"white\",\"automargin\":true,\"zerolinewidth\":2},\"yaxis\":{\"gridcolor\":\"white\",\"linecolor\":\"white\",\"ticks\":\"\",\"title\":{\"standoff\":15},\"zerolinecolor\":\"white\",\"automargin\":true,\"zerolinewidth\":2},\"scene\":{\"xaxis\":{\"backgroundcolor\":\"#E5ECF6\",\"gridcolor\":\"white\",\"linecolor\":\"white\",\"showbackground\":true,\"ticks\":\"\",\"zerolinecolor\":\"white\",\"gridwidth\":2},\"yaxis\":{\"backgroundcolor\":\"#E5ECF6\",\"gridcolor\":\"white\",\"linecolor\":\"white\",\"showbackground\":true,\"ticks\":\"\",\"zerolinecolor\":\"white\",\"gridwidth\":2},\"zaxis\":{\"backgroundcolor\":\"#E5ECF6\",\"gridcolor\":\"white\",\"linecolor\":\"white\",\"showbackground\":true,\"ticks\":\"\",\"zerolinecolor\":\"white\",\"gridwidth\":2}},\"shapedefaults\":{\"line\":{\"color\":\"#2a3f5f\"}},\"annotationdefaults\":{\"arrowcolor\":\"#2a3f5f\",\"arrowhead\":0,\"arrowwidth\":1},\"geo\":{\"bgcolor\":\"white\",\"landcolor\":\"#E5ECF6\",\"subunitcolor\":\"white\",\"showland\":true,\"showlakes\":true,\"lakecolor\":\"white\"},\"title\":{\"x\":0.05},\"mapbox\":{\"style\":\"light\"}}},\"yaxis\":{\"range\":[105.168,120.168]},\"xaxis\":{\"tickangle\":-45},\"barmode\":\"group\",\"title\":{\"font\":{\"family\":\"Arial, sans-serif\",\"size\":30},\"text\":\"<b>Qualifying Results</b>\",\"x\":0.5}},                        {\"responsive\": true}                    ).then(function(){\n",
       "                            \n",
       "var gd = document.getElementById('91b7522c-5b65-4a11-90cc-1c222a1e6f7d');\n",
       "var x = new MutationObserver(function (mutations, observer) {{\n",
       "        var display = window.getComputedStyle(gd).display;\n",
       "        if (!display || display === 'none') {{\n",
       "            console.log([gd, 'removed!']);\n",
       "            Plotly.purge(gd);\n",
       "            observer.disconnect();\n",
       "        }}\n",
       "}});\n",
       "\n",
       "// Listen for the removal of the full notebook cells\n",
       "var notebookContainer = gd.closest('#notebook-container');\n",
       "if (notebookContainer) {{\n",
       "    x.observe(notebookContainer, {childList: true});\n",
       "}}\n",
       "\n",
       "// Listen for the clearing of the current output cell\n",
       "var outputEl = gd.closest('.output');\n",
       "if (outputEl) {{\n",
       "    x.observe(outputEl, {childList: true});\n",
       "}}\n",
       "\n",
       "                        })                };                });            </script>        </div>"
      ]
     },
     "metadata": {},
     "output_type": "display_data"
    }
   ],
   "source": [
    "fig = go.Figure(layout_yaxis_range=[min_time, max_time])\n",
    "fig.add_trace(go.Bar(\n",
    "    x=qualifying['Driver'],\n",
    "    y=qualifying['q1_dur'],\n",
    "    name='Q1',\n",
    "    marker_color='red'\n",
    "))\n",
    "fig.add_trace(go.Bar(\n",
    "    x=qualifying['Driver'],\n",
    "    y=qualifying['q2_dur'],\n",
    "    name='Q2',\n",
    "    marker_color='gold'\n",
    "))\n",
    "fig.add_trace(go.Bar(\n",
    "    x=qualifying['Driver'],\n",
    "    y=qualifying['q3_dur'],\n",
    "    name='Q3',\n",
    "    marker_color='orange'\n",
    "))\n",
    "\n",
    "fig.update_layout(barmode='group', xaxis_tickangle=-45)\n",
    "fig.update_layout(title_text='<b>Qualifying Results</b>', titlefont = dict(\n",
    "         family = 'Arial, sans-serif',\n",
    "         size = 30\n",
    "      ), title_x=0.5)\n",
    "fig.show()"
   ]
  },
  {
   "cell_type": "code",
   "execution_count": 18,
   "id": "47770f78",
   "metadata": {
    "_kg_hide-input": true,
    "execution": {
     "iopub.execute_input": "2023-08-05T01:22:27.948462Z",
     "iopub.status.busy": "2023-08-05T01:22:27.946936Z",
     "iopub.status.idle": "2023-08-05T01:22:28.245323Z",
     "shell.execute_reply": "2023-08-05T01:22:28.243822Z"
    },
    "papermill": {
     "duration": 0.322885,
     "end_time": "2023-08-05T01:22:28.248452",
     "exception": false,
     "start_time": "2023-08-05T01:22:27.925567",
     "status": "completed"
    },
    "tags": []
   },
   "outputs": [
    {
     "data": {
      "text/html": [
       "<div>                            <div id=\"5d49df7f-b5a3-4641-9747-1d67e3fd045a\" class=\"plotly-graph-div\" style=\"height:525px; width:100%;\"></div>            <script type=\"text/javascript\">                require([\"plotly\"], function(Plotly) {                    window.PLOTLYENV=window.PLOTLYENV || {};                                    if (document.getElementById(\"5d49df7f-b5a3-4641-9747-1d67e3fd045a\")) {                    Plotly.newPlot(                        \"5d49df7f-b5a3-4641-9747-1d67e3fd045a\",                        [{\"hovertemplate\":\"Driver=ALB<br>Lap (Start/Finish Only)=%{x}<br>Start Position=%{y}<extra></extra>\",\"legendgroup\":\"ALB\",\"line\":{\"color\":\"#00A0DE\",\"dash\":\"solid\"},\"marker\":{\"symbol\":\"circle\"},\"mode\":\"lines\",\"name\":\"ALB\",\"orientation\":\"v\",\"showlegend\":true,\"x\":[0,44],\"xaxis\":\"x\",\"y\":[15.0,14.0],\"yaxis\":\"y\",\"type\":\"scatter\"},{\"hovertemplate\":\"Driver=ALO<br>Lap (Start/Finish Only)=%{x}<br>Start Position=%{y}<extra></extra>\",\"legendgroup\":\"ALO\",\"line\":{\"color\":\"#002420\",\"dash\":\"solid\"},\"marker\":{\"symbol\":\"circle\"},\"mode\":\"lines\",\"name\":\"ALO\",\"orientation\":\"v\",\"showlegend\":true,\"x\":[44,0],\"xaxis\":\"x\",\"y\":[5.0,9.0],\"yaxis\":\"y\",\"type\":\"scatter\"},{\"hovertemplate\":\"Driver=BOT<br>Lap (Start/Finish Only)=%{x}<br>Start Position=%{y}<extra></extra>\",\"legendgroup\":\"BOT\",\"line\":{\"color\":\"#A42134\",\"dash\":\"solid\"},\"marker\":{\"symbol\":\"circle\"},\"mode\":\"lines\",\"name\":\"BOT\",\"orientation\":\"v\",\"showlegend\":true,\"x\":[0,44],\"xaxis\":\"x\",\"y\":[13.0,12.0],\"yaxis\":\"y\",\"type\":\"scatter\"},{\"hovertemplate\":\"Driver=GAS<br>Lap (Start/Finish Only)=%{x}<br>Start Position=%{y}<extra></extra>\",\"legendgroup\":\"GAS\",\"line\":{\"color\":\"#2173B8\",\"dash\":\"solid\"},\"marker\":{\"symbol\":\"circle\"},\"mode\":\"lines\",\"name\":\"GAS\",\"orientation\":\"v\",\"showlegend\":true,\"x\":[44,0],\"xaxis\":\"x\",\"y\":[11.0,12.0],\"yaxis\":\"y\",\"type\":\"scatter\"},{\"hovertemplate\":\"Driver=HAM<br>Lap (Start/Finish Only)=%{x}<br>Start Position=%{y}<extra></extra>\",\"legendgroup\":\"HAM\",\"line\":{\"color\":\"#00A19B\",\"dash\":\"solid\"},\"marker\":{\"symbol\":\"circle\"},\"mode\":\"lines\",\"name\":\"HAM\",\"orientation\":\"v\",\"showlegend\":true,\"x\":[44,0],\"xaxis\":\"x\",\"y\":[4.0,3.0],\"yaxis\":\"y\",\"type\":\"scatter\"},{\"hovertemplate\":\"Driver=HUL<br>Lap (Start/Finish Only)=%{x}<br>Start Position=%{y}<extra></extra>\",\"legendgroup\":\"HUL\",\"line\":{\"color\":\"#E6002B\",\"dash\":\"solid\"},\"marker\":{\"symbol\":\"circle\"},\"mode\":\"lines\",\"name\":\"HUL\",\"orientation\":\"v\",\"showlegend\":true,\"x\":[44,0],\"xaxis\":\"x\",\"y\":[18.0,0.0],\"yaxis\":\"y\",\"type\":\"scatter\"},{\"hovertemplate\":\"Driver=LEC<br>Lap (Start/Finish Only)=%{x}<br>Start Position=%{y}<extra></extra>\",\"legendgroup\":\"LEC\",\"line\":{\"color\":\"#EF1A2D\",\"dash\":\"solid\"},\"marker\":{\"symbol\":\"circle\"},\"mode\":\"lines\",\"name\":\"LEC\",\"orientation\":\"v\",\"showlegend\":true,\"x\":[44,0],\"xaxis\":\"x\",\"y\":[3.0,1.0],\"yaxis\":\"y\",\"type\":\"scatter\"},{\"hovertemplate\":\"Driver=MAG<br>Lap (Start/Finish Only)=%{x}<br>Start Position=%{y}<extra></extra>\",\"legendgroup\":\"MAG\",\"line\":{\"color\":\"#E6002B\",\"dash\":\"solid\"},\"marker\":{\"symbol\":\"circle\"},\"mode\":\"lines\",\"name\":\"MAG\",\"orientation\":\"v\",\"showlegend\":true,\"x\":[44,0],\"xaxis\":\"x\",\"y\":[15.0,16.0],\"yaxis\":\"y\",\"type\":\"scatter\"},{\"hovertemplate\":\"Driver=NOR<br>Lap (Start/Finish Only)=%{x}<br>Start Position=%{y}<extra></extra>\",\"legendgroup\":\"NOR\",\"line\":{\"color\":\"#FF8000\",\"dash\":\"solid\"},\"marker\":{\"symbol\":\"circle\"},\"mode\":\"lines\",\"name\":\"NOR\",\"orientation\":\"v\",\"showlegend\":true,\"x\":[0,44],\"xaxis\":\"x\",\"y\":[7.0,7.0],\"yaxis\":\"y\",\"type\":\"scatter\"},{\"hovertemplate\":\"Driver=OCO<br>Lap (Start/Finish Only)=%{x}<br>Start Position=%{y}<extra></extra>\",\"legendgroup\":\"OCO\",\"line\":{\"color\":\"#2173B8\",\"dash\":\"solid\"},\"marker\":{\"symbol\":\"circle\"},\"mode\":\"lines\",\"name\":\"OCO\",\"orientation\":\"v\",\"showlegend\":true,\"x\":[0,44],\"xaxis\":\"x\",\"y\":[14.0,8.0],\"yaxis\":\"y\",\"type\":\"scatter\"},{\"hovertemplate\":\"Driver=PER<br>Lap (Start/Finish Only)=%{x}<br>Start Position=%{y}<extra></extra>\",\"legendgroup\":\"PER\",\"line\":{\"color\":\"#000B8D\",\"dash\":\"solid\"},\"marker\":{\"symbol\":\"circle\"},\"mode\":\"lines\",\"name\":\"PER\",\"orientation\":\"v\",\"showlegend\":true,\"x\":[0,44],\"xaxis\":\"x\",\"y\":[2.0,2.0],\"yaxis\":\"y\",\"type\":\"scatter\"},{\"hovertemplate\":\"Driver=PIA<br>Lap (Start/Finish Only)=%{x}<br>Start Position=%{y}<extra></extra>\",\"legendgroup\":\"PIA\",\"line\":{\"color\":\"#FF8000\",\"dash\":\"solid\"},\"marker\":{\"symbol\":\"circle\"},\"mode\":\"lines\",\"name\":\"PIA\",\"orientation\":\"v\",\"showlegend\":true,\"x\":[0,0],\"xaxis\":\"x\",\"y\":[5.0,20.0],\"yaxis\":\"y\",\"type\":\"scatter\"},{\"hovertemplate\":\"Driver=RIC<br>Lap (Start/Finish Only)=%{x}<br>Start Position=%{y}<extra></extra>\",\"legendgroup\":\"RIC\",\"line\":{\"color\":\"#20394C\",\"dash\":\"solid\"},\"marker\":{\"symbol\":\"circle\"},\"mode\":\"lines\",\"name\":\"RIC\",\"orientation\":\"v\",\"showlegend\":true,\"x\":[0,44],\"xaxis\":\"x\",\"y\":[19.0,16.0],\"yaxis\":\"y\",\"type\":\"scatter\"},{\"hovertemplate\":\"Driver=RUS<br>Lap (Start/Finish Only)=%{x}<br>Start Position=%{y}<extra></extra>\",\"legendgroup\":\"RUS\",\"line\":{\"color\":\"#00A19B\",\"dash\":\"solid\"},\"marker\":{\"symbol\":\"circle\"},\"mode\":\"lines\",\"name\":\"RUS\",\"orientation\":\"v\",\"showlegend\":true,\"x\":[44,0],\"xaxis\":\"x\",\"y\":[6.0,8.0],\"yaxis\":\"y\",\"type\":\"scatter\"},{\"hovertemplate\":\"Driver=SAI<br>Lap (Start/Finish Only)=%{x}<br>Start Position=%{y}<extra></extra>\",\"legendgroup\":\"SAI\",\"line\":{\"color\":\"#EF1A2D\",\"dash\":\"solid\"},\"marker\":{\"symbol\":\"circle\"},\"mode\":\"lines\",\"name\":\"SAI\",\"orientation\":\"v\",\"showlegend\":true,\"x\":[23,0],\"xaxis\":\"x\",\"y\":[19.0,4.0],\"yaxis\":\"y\",\"type\":\"scatter\"},{\"hovertemplate\":\"Driver=SAR<br>Lap (Start/Finish Only)=%{x}<br>Start Position=%{y}<extra></extra>\",\"legendgroup\":\"SAR\",\"line\":{\"color\":\"#00A0DE\",\"dash\":\"solid\"},\"marker\":{\"symbol\":\"circle\"},\"mode\":\"lines\",\"name\":\"SAR\",\"orientation\":\"v\",\"showlegend\":true,\"x\":[0,44],\"xaxis\":\"x\",\"y\":[18.0,17.0],\"yaxis\":\"y\",\"type\":\"scatter\"},{\"hovertemplate\":\"Driver=STR<br>Lap (Start/Finish Only)=%{x}<br>Start Position=%{y}<extra></extra>\",\"legendgroup\":\"STR\",\"line\":{\"color\":\"#002420\",\"dash\":\"solid\"},\"marker\":{\"symbol\":\"circle\"},\"mode\":\"lines\",\"name\":\"STR\",\"orientation\":\"v\",\"showlegend\":true,\"x\":[44,0],\"xaxis\":\"x\",\"y\":[9.0,10.0],\"yaxis\":\"y\",\"type\":\"scatter\"},{\"hovertemplate\":\"Driver=TSU<br>Lap (Start/Finish Only)=%{x}<br>Start Position=%{y}<extra></extra>\",\"legendgroup\":\"TSU\",\"line\":{\"color\":\"#20394C\",\"dash\":\"solid\"},\"marker\":{\"symbol\":\"circle\"},\"mode\":\"lines\",\"name\":\"TSU\",\"orientation\":\"v\",\"showlegend\":true,\"x\":[44,0],\"xaxis\":\"x\",\"y\":[10.0,11.0],\"yaxis\":\"y\",\"type\":\"scatter\"},{\"hovertemplate\":\"Driver=VER<br>Lap (Start/Finish Only)=%{x}<br>Start Position=%{y}<extra></extra>\",\"legendgroup\":\"VER\",\"line\":{\"color\":\"#000B8D\",\"dash\":\"solid\"},\"marker\":{\"symbol\":\"circle\"},\"mode\":\"lines\",\"name\":\"VER\",\"orientation\":\"v\",\"showlegend\":true,\"x\":[44,0],\"xaxis\":\"x\",\"y\":[1.0,6.0],\"yaxis\":\"y\",\"type\":\"scatter\"},{\"hovertemplate\":\"Driver=ZHO<br>Lap (Start/Finish Only)=%{x}<br>Start Position=%{y}<extra></extra>\",\"legendgroup\":\"ZHO\",\"line\":{\"color\":\"#A42134\",\"dash\":\"solid\"},\"marker\":{\"symbol\":\"circle\"},\"mode\":\"lines\",\"name\":\"ZHO\",\"orientation\":\"v\",\"showlegend\":true,\"x\":[0,44],\"xaxis\":\"x\",\"y\":[17.0,13.0],\"yaxis\":\"y\",\"type\":\"scatter\"}],                        {\"template\":{\"data\":{\"histogram2dcontour\":[{\"type\":\"histogram2dcontour\",\"colorbar\":{\"outlinewidth\":0,\"ticks\":\"\"},\"colorscale\":[[0.0,\"#0d0887\"],[0.1111111111111111,\"#46039f\"],[0.2222222222222222,\"#7201a8\"],[0.3333333333333333,\"#9c179e\"],[0.4444444444444444,\"#bd3786\"],[0.5555555555555556,\"#d8576b\"],[0.6666666666666666,\"#ed7953\"],[0.7777777777777778,\"#fb9f3a\"],[0.8888888888888888,\"#fdca26\"],[1.0,\"#f0f921\"]]}],\"choropleth\":[{\"type\":\"choropleth\",\"colorbar\":{\"outlinewidth\":0,\"ticks\":\"\"}}],\"histogram2d\":[{\"type\":\"histogram2d\",\"colorbar\":{\"outlinewidth\":0,\"ticks\":\"\"},\"colorscale\":[[0.0,\"#0d0887\"],[0.1111111111111111,\"#46039f\"],[0.2222222222222222,\"#7201a8\"],[0.3333333333333333,\"#9c179e\"],[0.4444444444444444,\"#bd3786\"],[0.5555555555555556,\"#d8576b\"],[0.6666666666666666,\"#ed7953\"],[0.7777777777777778,\"#fb9f3a\"],[0.8888888888888888,\"#fdca26\"],[1.0,\"#f0f921\"]]}],\"heatmap\":[{\"type\":\"heatmap\",\"colorbar\":{\"outlinewidth\":0,\"ticks\":\"\"},\"colorscale\":[[0.0,\"#0d0887\"],[0.1111111111111111,\"#46039f\"],[0.2222222222222222,\"#7201a8\"],[0.3333333333333333,\"#9c179e\"],[0.4444444444444444,\"#bd3786\"],[0.5555555555555556,\"#d8576b\"],[0.6666666666666666,\"#ed7953\"],[0.7777777777777778,\"#fb9f3a\"],[0.8888888888888888,\"#fdca26\"],[1.0,\"#f0f921\"]]}],\"heatmapgl\":[{\"type\":\"heatmapgl\",\"colorbar\":{\"outlinewidth\":0,\"ticks\":\"\"},\"colorscale\":[[0.0,\"#0d0887\"],[0.1111111111111111,\"#46039f\"],[0.2222222222222222,\"#7201a8\"],[0.3333333333333333,\"#9c179e\"],[0.4444444444444444,\"#bd3786\"],[0.5555555555555556,\"#d8576b\"],[0.6666666666666666,\"#ed7953\"],[0.7777777777777778,\"#fb9f3a\"],[0.8888888888888888,\"#fdca26\"],[1.0,\"#f0f921\"]]}],\"contourcarpet\":[{\"type\":\"contourcarpet\",\"colorbar\":{\"outlinewidth\":0,\"ticks\":\"\"}}],\"contour\":[{\"type\":\"contour\",\"colorbar\":{\"outlinewidth\":0,\"ticks\":\"\"},\"colorscale\":[[0.0,\"#0d0887\"],[0.1111111111111111,\"#46039f\"],[0.2222222222222222,\"#7201a8\"],[0.3333333333333333,\"#9c179e\"],[0.4444444444444444,\"#bd3786\"],[0.5555555555555556,\"#d8576b\"],[0.6666666666666666,\"#ed7953\"],[0.7777777777777778,\"#fb9f3a\"],[0.8888888888888888,\"#fdca26\"],[1.0,\"#f0f921\"]]}],\"surface\":[{\"type\":\"surface\",\"colorbar\":{\"outlinewidth\":0,\"ticks\":\"\"},\"colorscale\":[[0.0,\"#0d0887\"],[0.1111111111111111,\"#46039f\"],[0.2222222222222222,\"#7201a8\"],[0.3333333333333333,\"#9c179e\"],[0.4444444444444444,\"#bd3786\"],[0.5555555555555556,\"#d8576b\"],[0.6666666666666666,\"#ed7953\"],[0.7777777777777778,\"#fb9f3a\"],[0.8888888888888888,\"#fdca26\"],[1.0,\"#f0f921\"]]}],\"mesh3d\":[{\"type\":\"mesh3d\",\"colorbar\":{\"outlinewidth\":0,\"ticks\":\"\"}}],\"scatter\":[{\"fillpattern\":{\"fillmode\":\"overlay\",\"size\":10,\"solidity\":0.2},\"type\":\"scatter\"}],\"parcoords\":[{\"type\":\"parcoords\",\"line\":{\"colorbar\":{\"outlinewidth\":0,\"ticks\":\"\"}}}],\"scatterpolargl\":[{\"type\":\"scatterpolargl\",\"marker\":{\"colorbar\":{\"outlinewidth\":0,\"ticks\":\"\"}}}],\"bar\":[{\"error_x\":{\"color\":\"#2a3f5f\"},\"error_y\":{\"color\":\"#2a3f5f\"},\"marker\":{\"line\":{\"color\":\"#E5ECF6\",\"width\":0.5},\"pattern\":{\"fillmode\":\"overlay\",\"size\":10,\"solidity\":0.2}},\"type\":\"bar\"}],\"scattergeo\":[{\"type\":\"scattergeo\",\"marker\":{\"colorbar\":{\"outlinewidth\":0,\"ticks\":\"\"}}}],\"scatterpolar\":[{\"type\":\"scatterpolar\",\"marker\":{\"colorbar\":{\"outlinewidth\":0,\"ticks\":\"\"}}}],\"histogram\":[{\"marker\":{\"pattern\":{\"fillmode\":\"overlay\",\"size\":10,\"solidity\":0.2}},\"type\":\"histogram\"}],\"scattergl\":[{\"type\":\"scattergl\",\"marker\":{\"colorbar\":{\"outlinewidth\":0,\"ticks\":\"\"}}}],\"scatter3d\":[{\"type\":\"scatter3d\",\"line\":{\"colorbar\":{\"outlinewidth\":0,\"ticks\":\"\"}},\"marker\":{\"colorbar\":{\"outlinewidth\":0,\"ticks\":\"\"}}}],\"scattermapbox\":[{\"type\":\"scattermapbox\",\"marker\":{\"colorbar\":{\"outlinewidth\":0,\"ticks\":\"\"}}}],\"scatterternary\":[{\"type\":\"scatterternary\",\"marker\":{\"colorbar\":{\"outlinewidth\":0,\"ticks\":\"\"}}}],\"scattercarpet\":[{\"type\":\"scattercarpet\",\"marker\":{\"colorbar\":{\"outlinewidth\":0,\"ticks\":\"\"}}}],\"carpet\":[{\"aaxis\":{\"endlinecolor\":\"#2a3f5f\",\"gridcolor\":\"white\",\"linecolor\":\"white\",\"minorgridcolor\":\"white\",\"startlinecolor\":\"#2a3f5f\"},\"baxis\":{\"endlinecolor\":\"#2a3f5f\",\"gridcolor\":\"white\",\"linecolor\":\"white\",\"minorgridcolor\":\"white\",\"startlinecolor\":\"#2a3f5f\"},\"type\":\"carpet\"}],\"table\":[{\"cells\":{\"fill\":{\"color\":\"#EBF0F8\"},\"line\":{\"color\":\"white\"}},\"header\":{\"fill\":{\"color\":\"#C8D4E3\"},\"line\":{\"color\":\"white\"}},\"type\":\"table\"}],\"barpolar\":[{\"marker\":{\"line\":{\"color\":\"#E5ECF6\",\"width\":0.5},\"pattern\":{\"fillmode\":\"overlay\",\"size\":10,\"solidity\":0.2}},\"type\":\"barpolar\"}],\"pie\":[{\"automargin\":true,\"type\":\"pie\"}]},\"layout\":{\"autotypenumbers\":\"strict\",\"colorway\":[\"#636efa\",\"#EF553B\",\"#00cc96\",\"#ab63fa\",\"#FFA15A\",\"#19d3f3\",\"#FF6692\",\"#B6E880\",\"#FF97FF\",\"#FECB52\"],\"font\":{\"color\":\"#2a3f5f\"},\"hovermode\":\"closest\",\"hoverlabel\":{\"align\":\"left\"},\"paper_bgcolor\":\"white\",\"plot_bgcolor\":\"#E5ECF6\",\"polar\":{\"bgcolor\":\"#E5ECF6\",\"angularaxis\":{\"gridcolor\":\"white\",\"linecolor\":\"white\",\"ticks\":\"\"},\"radialaxis\":{\"gridcolor\":\"white\",\"linecolor\":\"white\",\"ticks\":\"\"}},\"ternary\":{\"bgcolor\":\"#E5ECF6\",\"aaxis\":{\"gridcolor\":\"white\",\"linecolor\":\"white\",\"ticks\":\"\"},\"baxis\":{\"gridcolor\":\"white\",\"linecolor\":\"white\",\"ticks\":\"\"},\"caxis\":{\"gridcolor\":\"white\",\"linecolor\":\"white\",\"ticks\":\"\"}},\"coloraxis\":{\"colorbar\":{\"outlinewidth\":0,\"ticks\":\"\"}},\"colorscale\":{\"sequential\":[[0.0,\"#0d0887\"],[0.1111111111111111,\"#46039f\"],[0.2222222222222222,\"#7201a8\"],[0.3333333333333333,\"#9c179e\"],[0.4444444444444444,\"#bd3786\"],[0.5555555555555556,\"#d8576b\"],[0.6666666666666666,\"#ed7953\"],[0.7777777777777778,\"#fb9f3a\"],[0.8888888888888888,\"#fdca26\"],[1.0,\"#f0f921\"]],\"sequentialminus\":[[0.0,\"#0d0887\"],[0.1111111111111111,\"#46039f\"],[0.2222222222222222,\"#7201a8\"],[0.3333333333333333,\"#9c179e\"],[0.4444444444444444,\"#bd3786\"],[0.5555555555555556,\"#d8576b\"],[0.6666666666666666,\"#ed7953\"],[0.7777777777777778,\"#fb9f3a\"],[0.8888888888888888,\"#fdca26\"],[1.0,\"#f0f921\"]],\"diverging\":[[0,\"#8e0152\"],[0.1,\"#c51b7d\"],[0.2,\"#de77ae\"],[0.3,\"#f1b6da\"],[0.4,\"#fde0ef\"],[0.5,\"#f7f7f7\"],[0.6,\"#e6f5d0\"],[0.7,\"#b8e186\"],[0.8,\"#7fbc41\"],[0.9,\"#4d9221\"],[1,\"#276419\"]]},\"xaxis\":{\"gridcolor\":\"white\",\"linecolor\":\"white\",\"ticks\":\"\",\"title\":{\"standoff\":15},\"zerolinecolor\":\"white\",\"automargin\":true,\"zerolinewidth\":2},\"yaxis\":{\"gridcolor\":\"white\",\"linecolor\":\"white\",\"ticks\":\"\",\"title\":{\"standoff\":15},\"zerolinecolor\":\"white\",\"automargin\":true,\"zerolinewidth\":2},\"scene\":{\"xaxis\":{\"backgroundcolor\":\"#E5ECF6\",\"gridcolor\":\"white\",\"linecolor\":\"white\",\"showbackground\":true,\"ticks\":\"\",\"zerolinecolor\":\"white\",\"gridwidth\":2},\"yaxis\":{\"backgroundcolor\":\"#E5ECF6\",\"gridcolor\":\"white\",\"linecolor\":\"white\",\"showbackground\":true,\"ticks\":\"\",\"zerolinecolor\":\"white\",\"gridwidth\":2},\"zaxis\":{\"backgroundcolor\":\"#E5ECF6\",\"gridcolor\":\"white\",\"linecolor\":\"white\",\"showbackground\":true,\"ticks\":\"\",\"zerolinecolor\":\"white\",\"gridwidth\":2}},\"shapedefaults\":{\"line\":{\"color\":\"#2a3f5f\"}},\"annotationdefaults\":{\"arrowcolor\":\"#2a3f5f\",\"arrowhead\":0,\"arrowwidth\":1},\"geo\":{\"bgcolor\":\"white\",\"landcolor\":\"#E5ECF6\",\"subunitcolor\":\"white\",\"showland\":true,\"showlakes\":true,\"lakecolor\":\"white\"},\"title\":{\"x\":0.05},\"mapbox\":{\"style\":\"light\"}}},\"xaxis\":{\"anchor\":\"y\",\"domain\":[0.0,1.0],\"title\":{\"text\":\"Lap (Start/Finish Only)\"}},\"yaxis\":{\"anchor\":\"x\",\"domain\":[0.0,1.0],\"title\":{\"text\":\"Start Position\"}},\"legend\":{\"title\":{\"text\":\"Driver\"},\"tracegroupgap\":0},\"title\":{\"text\":\"<b>Qualifying To Finish</b>\",\"font\":{\"family\":\"Arial, sans-serif\",\"size\":30},\"x\":0.5},\"updatemenus\":[{\"active\":0,\"buttons\":[{\"args\":[{\"visible\":[true,true,true,true,true,true,true,true,true,true,true,true,true,true,true,true,true,true,true,true],\"title\":\"All\",\"showlegend\":true}],\"label\":\"All\",\"method\":\"update\"},{\"args\":[{\"visible\":[true,false,false,false,false,false,false,false,false,false,false,false,false,false,false,false,false,false,false,false],\"title\":\"ALB\",\"showlegend\":true}],\"label\":\"ALB\",\"method\":\"update\"},{\"args\":[{\"visible\":[false,true,false,false,false,false,false,false,false,false,false,false,false,false,false,false,false,false,false,false],\"title\":\"ALO\",\"showlegend\":true}],\"label\":\"ALO\",\"method\":\"update\"},{\"args\":[{\"visible\":[false,false,true,false,false,false,false,false,false,false,false,false,false,false,false,false,false,false,false,false],\"title\":\"BOT\",\"showlegend\":true}],\"label\":\"BOT\",\"method\":\"update\"},{\"args\":[{\"visible\":[false,false,false,true,false,false,false,false,false,false,false,false,false,false,false,false,false,false,false,false],\"title\":\"GAS\",\"showlegend\":true}],\"label\":\"GAS\",\"method\":\"update\"},{\"args\":[{\"visible\":[false,false,false,false,true,false,false,false,false,false,false,false,false,false,false,false,false,false,false,false],\"title\":\"HAM\",\"showlegend\":true}],\"label\":\"HAM\",\"method\":\"update\"},{\"args\":[{\"visible\":[false,false,false,false,false,true,false,false,false,false,false,false,false,false,false,false,false,false,false,false],\"title\":\"HUL\",\"showlegend\":true}],\"label\":\"HUL\",\"method\":\"update\"},{\"args\":[{\"visible\":[false,false,false,false,false,false,true,false,false,false,false,false,false,false,false,false,false,false,false,false],\"title\":\"LEC\",\"showlegend\":true}],\"label\":\"LEC\",\"method\":\"update\"},{\"args\":[{\"visible\":[false,false,false,false,false,false,false,true,false,false,false,false,false,false,false,false,false,false,false,false],\"title\":\"MAG\",\"showlegend\":true}],\"label\":\"MAG\",\"method\":\"update\"},{\"args\":[{\"visible\":[false,false,false,false,false,false,false,false,true,false,false,false,false,false,false,false,false,false,false,false],\"title\":\"NOR\",\"showlegend\":true}],\"label\":\"NOR\",\"method\":\"update\"},{\"args\":[{\"visible\":[false,false,false,false,false,false,false,false,false,true,false,false,false,false,false,false,false,false,false,false],\"title\":\"OCO\",\"showlegend\":true}],\"label\":\"OCO\",\"method\":\"update\"},{\"args\":[{\"visible\":[false,false,false,false,false,false,false,false,false,false,true,false,false,false,false,false,false,false,false,false],\"title\":\"PER\",\"showlegend\":true}],\"label\":\"PER\",\"method\":\"update\"},{\"args\":[{\"visible\":[false,false,false,false,false,false,false,false,false,false,false,true,false,false,false,false,false,false,false,false],\"title\":\"PIA\",\"showlegend\":true}],\"label\":\"PIA\",\"method\":\"update\"},{\"args\":[{\"visible\":[false,false,false,false,false,false,false,false,false,false,false,false,true,false,false,false,false,false,false,false],\"title\":\"RIC\",\"showlegend\":true}],\"label\":\"RIC\",\"method\":\"update\"},{\"args\":[{\"visible\":[false,false,false,false,false,false,false,false,false,false,false,false,false,true,false,false,false,false,false,false],\"title\":\"RUS\",\"showlegend\":true}],\"label\":\"RUS\",\"method\":\"update\"},{\"args\":[{\"visible\":[false,false,false,false,false,false,false,false,false,false,false,false,false,false,true,false,false,false,false,false],\"title\":\"SAI\",\"showlegend\":true}],\"label\":\"SAI\",\"method\":\"update\"},{\"args\":[{\"visible\":[false,false,false,false,false,false,false,false,false,false,false,false,false,false,false,true,false,false,false,false],\"title\":\"SAR\",\"showlegend\":true}],\"label\":\"SAR\",\"method\":\"update\"},{\"args\":[{\"visible\":[false,false,false,false,false,false,false,false,false,false,false,false,false,false,false,false,true,false,false,false],\"title\":\"STR\",\"showlegend\":true}],\"label\":\"STR\",\"method\":\"update\"},{\"args\":[{\"visible\":[false,false,false,false,false,false,false,false,false,false,false,false,false,false,false,false,false,true,false,false],\"title\":\"TSU\",\"showlegend\":true}],\"label\":\"TSU\",\"method\":\"update\"},{\"args\":[{\"visible\":[false,false,false,false,false,false,false,false,false,false,false,false,false,false,false,false,false,false,true,false],\"title\":\"VER\",\"showlegend\":true}],\"label\":\"VER\",\"method\":\"update\"},{\"args\":[{\"visible\":[false,false,false,false,false,false,false,false,false,false,false,false,false,false,false,false,false,false,false,true],\"title\":\"ZHO\",\"showlegend\":true}],\"label\":\"ZHO\",\"method\":\"update\"}]}]},                        {\"responsive\": true}                    ).then(function(){\n",
       "                            \n",
       "var gd = document.getElementById('5d49df7f-b5a3-4641-9747-1d67e3fd045a');\n",
       "var x = new MutationObserver(function (mutations, observer) {{\n",
       "        var display = window.getComputedStyle(gd).display;\n",
       "        if (!display || display === 'none') {{\n",
       "            console.log([gd, 'removed!']);\n",
       "            Plotly.purge(gd);\n",
       "            observer.disconnect();\n",
       "        }}\n",
       "}});\n",
       "\n",
       "// Listen for the removal of the full notebook cells\n",
       "var notebookContainer = gd.closest('#notebook-container');\n",
       "if (notebookContainer) {{\n",
       "    x.observe(notebookContainer, {childList: true});\n",
       "}}\n",
       "\n",
       "// Listen for the clearing of the current output cell\n",
       "var outputEl = gd.closest('.output');\n",
       "if (outputEl) {{\n",
       "    x.observe(outputEl, {childList: true});\n",
       "}}\n",
       "\n",
       "                        })                };                });            </script>        </div>"
      ]
     },
     "metadata": {},
     "output_type": "display_data"
    }
   ],
   "source": [
    "def multi_st_fin_plot(names, addAll = True):\n",
    "    fig = go.Figure()\n",
    "    \n",
    "    lap_driver_sf = reduced_res[(reduced_res['laps'] == 0) | (reduced_res['laps'] == num_laps) | (reduced_res['last_lap'] == 1)].copy()\n",
    "    lap_driver_sf['position'] = lap_driver_sf['position'].astype(float)\n",
    "    lap_driver_sf = lap_driver_sf.sort_values(by=['Driver'])\n",
    "\n",
    "    df = px.data.gapminder().query(\"continent=='Oceania'\")\n",
    "    fig = px.line(lap_driver_sf, x=\"laps\", y=\"position\", color='Driver', color_discrete_map=color_map, title=\"Qualifying to Finish\", labels={\n",
    "    \"position\": \"Start Position\",\n",
    "    \"laps\":\"Lap (Start/Finish Only)\"\n",
    "    })\n",
    "    fig.update_layout(title_text='<b>Qualifying To Finish</b>', titlefont = dict(\n",
    "         family = 'Arial, sans-serif',\n",
    "         size = 30\n",
    "      ), title_x=0.5)\n",
    "\n",
    "\n",
    "    button_all = dict(label = 'All',\n",
    "                      method = 'update',\n",
    "                      args = [{'visible': [True]*len(names),\n",
    "                               'title': 'All',\n",
    "                               'showlegend':True}])\n",
    "\n",
    "    def create_layout_button(column):\n",
    "        return dict(label = column,\n",
    "                    method = 'update',\n",
    "                    args = [{'visible': [c == column for c in names],\n",
    "                             'title': column,\n",
    "                             'showlegend': True}])\n",
    "\n",
    "    fig.update_layout(\n",
    "        updatemenus=[go.layout.Updatemenu(\n",
    "            active = 0,\n",
    "            buttons = ([button_all] * addAll) + [create_layout_button(column) for column in names]\n",
    "            )\n",
    "        ])\n",
    "    \n",
    "    fig.show()\n",
    "    \n",
    "mapping = list(color_map.keys())\n",
    "mapping.sort()\n",
    "multi_st_fin_plot(mapping)"
   ]
  },
  {
   "cell_type": "code",
   "execution_count": 19,
   "id": "636dc334",
   "metadata": {
    "_kg_hide-input": true,
    "execution": {
     "iopub.execute_input": "2023-08-05T01:22:28.291590Z",
     "iopub.status.busy": "2023-08-05T01:22:28.290583Z",
     "iopub.status.idle": "2023-08-05T01:22:28.300968Z",
     "shell.execute_reply": "2023-08-05T01:22:28.299234Z"
    },
    "papermill": {
     "duration": 0.03578,
     "end_time": "2023-08-05T01:22:28.304305",
     "exception": false,
     "start_time": "2023-08-05T01:22:28.268525",
     "status": "completed"
    },
    "tags": []
   },
   "outputs": [
    {
     "data": {
      "text/markdown": [
       "# <div style='background:#FF1801; border:0; color:black; box-shadow: 10px 10px 5px 0px rgba(0,0,0,0.75); transform: rotateX(10deg);'><h1 style='padding: 10px; margin: 0; text-align:center;'><span style='font-size: 30px;'>Sprint Results</span></h1></div>"
      ],
      "text/plain": [
       "<IPython.core.display.Markdown object>"
      ]
     },
     "metadata": {},
     "output_type": "display_data"
    }
   ],
   "source": [
    "if not  SPRINT_EMPTY:\n",
    "    display(md(f\"# <div style='background:#FF1801; border:0; color:black; box-shadow: 10px 10px 5px 0px rgba(0,0,0,0.75); transform: rotateX(10deg);'><h1 style='padding: 10px; margin: 0; text-align:center;'><span style='font-size: 30px;'>Sprint Results</span></h1></div>\"))"
   ]
  },
  {
   "cell_type": "code",
   "execution_count": 20,
   "id": "cddb0c9b",
   "metadata": {
    "_kg_hide-input": true,
    "execution": {
     "iopub.execute_input": "2023-08-05T01:22:28.348716Z",
     "iopub.status.busy": "2023-08-05T01:22:28.347696Z",
     "iopub.status.idle": "2023-08-05T01:22:28.372008Z",
     "shell.execute_reply": "2023-08-05T01:22:28.371052Z"
    },
    "papermill": {
     "duration": 0.049528,
     "end_time": "2023-08-05T01:22:28.375069",
     "exception": false,
     "start_time": "2023-08-05T01:22:28.325541",
     "status": "completed"
    },
    "tags": []
   },
   "outputs": [
    {
     "data": {
      "text/html": [
       "<style type=\"text/css\">\n",
       "#T_c610d_row0_col1, #T_c610d_row0_col2, #T_c610d_row7_col3, #T_c610d_row8_col3, #T_c610d_row9_col3, #T_c610d_row10_col3, #T_c610d_row11_col3, #T_c610d_row12_col3, #T_c610d_row13_col3, #T_c610d_row14_col3, #T_c610d_row15_col3, #T_c610d_row16_col3, #T_c610d_row17_col3, #T_c610d_row18_col3, #T_c610d_row19_col3 {\n",
       "  background-color: #ffffd9;\n",
       "  color: #000000;\n",
       "}\n",
       "#T_c610d_row0_col3, #T_c610d_row1_col3, #T_c610d_row2_col1, #T_c610d_row2_col3, #T_c610d_row3_col3, #T_c610d_row4_col2, #T_c610d_row5_col1, #T_c610d_row5_col2, #T_c610d_row6_col1, #T_c610d_row6_col2, #T_c610d_row7_col1, #T_c610d_row7_col2, #T_c610d_row8_col1, #T_c610d_row8_col2, #T_c610d_row9_col1, #T_c610d_row9_col2, #T_c610d_row10_col1, #T_c610d_row10_col2, #T_c610d_row11_col1, #T_c610d_row11_col2, #T_c610d_row12_col1, #T_c610d_row12_col2, #T_c610d_row13_col1, #T_c610d_row13_col2, #T_c610d_row14_col1, #T_c610d_row14_col2, #T_c610d_row15_col1, #T_c610d_row15_col2, #T_c610d_row16_col1, #T_c610d_row16_col2, #T_c610d_row17_col1, #T_c610d_row17_col2, #T_c610d_row18_col1, #T_c610d_row18_col2, #T_c610d_row19_col1, #T_c610d_row19_col2 {\n",
       "  background-color: #081d58;\n",
       "  color: #f1f1f1;\n",
       "}\n",
       "#T_c610d_row1_col1, #T_c610d_row1_col2, #T_c610d_row6_col3 {\n",
       "  background-color: #c6e9b4;\n",
       "  color: #000000;\n",
       "}\n",
       "#T_c610d_row2_col2, #T_c610d_row3_col1, #T_c610d_row5_col3 {\n",
       "  background-color: #40b5c4;\n",
       "  color: #f1f1f1;\n",
       "}\n",
       "#T_c610d_row3_col2, #T_c610d_row4_col1, #T_c610d_row4_col3 {\n",
       "  background-color: #225da8;\n",
       "  color: #f1f1f1;\n",
       "}\n",
       "</style>\n",
       "<table id=\"T_c610d_\">\n",
       "  <caption>Sprint Results</caption>\n",
       "  <thead>\n",
       "    <tr>\n",
       "      <th class=\"col_heading level0 col0\" >Driver</th>\n",
       "      <th class=\"col_heading level0 col1\" >grid</th>\n",
       "      <th class=\"col_heading level0 col2\" >position</th>\n",
       "      <th class=\"col_heading level0 col3\" >points</th>\n",
       "      <th class=\"col_heading level0 col4\" >status</th>\n",
       "    </tr>\n",
       "  </thead>\n",
       "  <tbody>\n",
       "    <tr>\n",
       "      <td id=\"T_c610d_row0_col0\" class=\"data row0 col0\" >VER</td>\n",
       "      <td id=\"T_c610d_row0_col1\" class=\"data row0 col1\" >1</td>\n",
       "      <td id=\"T_c610d_row0_col2\" class=\"data row0 col2\" >1</td>\n",
       "      <td id=\"T_c610d_row0_col3\" class=\"data row0 col3\" >8.0</td>\n",
       "      <td id=\"T_c610d_row0_col4\" class=\"data row0 col4\" >Finished</td>\n",
       "    </tr>\n",
       "    <tr>\n",
       "      <td id=\"T_c610d_row1_col0\" class=\"data row1 col0\" >PIA</td>\n",
       "      <td id=\"T_c610d_row1_col1\" class=\"data row1 col1\" >2</td>\n",
       "      <td id=\"T_c610d_row1_col2\" class=\"data row1 col2\" >2</td>\n",
       "      <td id=\"T_c610d_row1_col3\" class=\"data row1 col3\" >7.0</td>\n",
       "      <td id=\"T_c610d_row1_col4\" class=\"data row1 col4\" >Finished</td>\n",
       "    </tr>\n",
       "    <tr>\n",
       "      <td id=\"T_c610d_row2_col0\" class=\"data row2 col0\" >GAS</td>\n",
       "      <td id=\"T_c610d_row2_col1\" class=\"data row2 col1\" >6</td>\n",
       "      <td id=\"T_c610d_row2_col2\" class=\"data row2 col2\" >3</td>\n",
       "      <td id=\"T_c610d_row2_col3\" class=\"data row2 col3\" >6.0</td>\n",
       "      <td id=\"T_c610d_row2_col4\" class=\"data row2 col4\" >Finished</td>\n",
       "    </tr>\n",
       "    <tr>\n",
       "      <td id=\"T_c610d_row3_col0\" class=\"data row3 col0\" >SAI</td>\n",
       "      <td id=\"T_c610d_row3_col1\" class=\"data row3 col1\" >3</td>\n",
       "      <td id=\"T_c610d_row3_col2\" class=\"data row3 col2\" >4</td>\n",
       "      <td id=\"T_c610d_row3_col3\" class=\"data row3 col3\" >5.0</td>\n",
       "      <td id=\"T_c610d_row3_col4\" class=\"data row3 col4\" >Finished</td>\n",
       "    </tr>\n",
       "    <tr>\n",
       "      <td id=\"T_c610d_row4_col0\" class=\"data row4 col0\" >LEC</td>\n",
       "      <td id=\"T_c610d_row4_col1\" class=\"data row4 col1\" >4</td>\n",
       "      <td id=\"T_c610d_row4_col2\" class=\"data row4 col2\" >5</td>\n",
       "      <td id=\"T_c610d_row4_col3\" class=\"data row4 col3\" >4.0</td>\n",
       "      <td id=\"T_c610d_row4_col4\" class=\"data row4 col4\" >Finished</td>\n",
       "    </tr>\n",
       "    <tr>\n",
       "      <td id=\"T_c610d_row5_col0\" class=\"data row5 col0\" >NOR</td>\n",
       "      <td id=\"T_c610d_row5_col1\" class=\"data row5 col1\" >5</td>\n",
       "      <td id=\"T_c610d_row5_col2\" class=\"data row5 col2\" >6</td>\n",
       "      <td id=\"T_c610d_row5_col3\" class=\"data row5 col3\" >3.0</td>\n",
       "      <td id=\"T_c610d_row5_col4\" class=\"data row5 col4\" >Finished</td>\n",
       "    </tr>\n",
       "    <tr>\n",
       "      <td id=\"T_c610d_row6_col0\" class=\"data row6 col0\" >HAM</td>\n",
       "      <td id=\"T_c610d_row6_col1\" class=\"data row6 col1\" >7</td>\n",
       "      <td id=\"T_c610d_row6_col2\" class=\"data row6 col2\" >7</td>\n",
       "      <td id=\"T_c610d_row6_col3\" class=\"data row6 col3\" >2.0</td>\n",
       "      <td id=\"T_c610d_row6_col4\" class=\"data row6 col4\" >Finished</td>\n",
       "    </tr>\n",
       "    <tr>\n",
       "      <td id=\"T_c610d_row7_col0\" class=\"data row7 col0\" >RUS</td>\n",
       "      <td id=\"T_c610d_row7_col1\" class=\"data row7 col1\" >10</td>\n",
       "      <td id=\"T_c610d_row7_col2\" class=\"data row7 col2\" >8</td>\n",
       "      <td id=\"T_c610d_row7_col3\" class=\"data row7 col3\" >1.0</td>\n",
       "      <td id=\"T_c610d_row7_col4\" class=\"data row7 col4\" >Finished</td>\n",
       "    </tr>\n",
       "    <tr>\n",
       "      <td id=\"T_c610d_row8_col0\" class=\"data row8 col0\" >OCO</td>\n",
       "      <td id=\"T_c610d_row8_col1\" class=\"data row8 col1\" >9</td>\n",
       "      <td id=\"T_c610d_row8_col2\" class=\"data row8 col2\" >9</td>\n",
       "      <td id=\"T_c610d_row8_col3\" class=\"data row8 col3\" >0.0</td>\n",
       "      <td id=\"T_c610d_row8_col4\" class=\"data row8 col4\" >Finished</td>\n",
       "    </tr>\n",
       "    <tr>\n",
       "      <td id=\"T_c610d_row9_col0\" class=\"data row9 col0\" >RIC</td>\n",
       "      <td id=\"T_c610d_row9_col1\" class=\"data row9 col1\" >11</td>\n",
       "      <td id=\"T_c610d_row9_col2\" class=\"data row9 col2\" >10</td>\n",
       "      <td id=\"T_c610d_row9_col3\" class=\"data row9 col3\" >0.0</td>\n",
       "      <td id=\"T_c610d_row9_col4\" class=\"data row9 col4\" >Finished</td>\n",
       "    </tr>\n",
       "    <tr>\n",
       "      <td id=\"T_c610d_row10_col0\" class=\"data row10 col0\" >STR</td>\n",
       "      <td id=\"T_c610d_row10_col1\" class=\"data row10 col1\" >14</td>\n",
       "      <td id=\"T_c610d_row10_col2\" class=\"data row10 col2\" >11</td>\n",
       "      <td id=\"T_c610d_row10_col3\" class=\"data row10 col3\" >0.0</td>\n",
       "      <td id=\"T_c610d_row10_col4\" class=\"data row10 col4\" >Finished</td>\n",
       "    </tr>\n",
       "    <tr>\n",
       "      <td id=\"T_c610d_row11_col0\" class=\"data row11 col0\" >ALB</td>\n",
       "      <td id=\"T_c610d_row11_col1\" class=\"data row11 col1\" >12</td>\n",
       "      <td id=\"T_c610d_row11_col2\" class=\"data row11 col2\" >12</td>\n",
       "      <td id=\"T_c610d_row11_col3\" class=\"data row11 col3\" >0.0</td>\n",
       "      <td id=\"T_c610d_row11_col4\" class=\"data row11 col4\" >Finished</td>\n",
       "    </tr>\n",
       "    <tr>\n",
       "      <td id=\"T_c610d_row12_col0\" class=\"data row12 col0\" >BOT</td>\n",
       "      <td id=\"T_c610d_row12_col1\" class=\"data row12 col1\" >17</td>\n",
       "      <td id=\"T_c610d_row12_col2\" class=\"data row12 col2\" >13</td>\n",
       "      <td id=\"T_c610d_row12_col3\" class=\"data row12 col3\" >0.0</td>\n",
       "      <td id=\"T_c610d_row12_col4\" class=\"data row12 col4\" >Finished</td>\n",
       "    </tr>\n",
       "    <tr>\n",
       "      <td id=\"T_c610d_row13_col0\" class=\"data row13 col0\" >MAG</td>\n",
       "      <td id=\"T_c610d_row13_col1\" class=\"data row13 col1\" >18</td>\n",
       "      <td id=\"T_c610d_row13_col2\" class=\"data row13 col2\" >14</td>\n",
       "      <td id=\"T_c610d_row13_col3\" class=\"data row13 col3\" >0.0</td>\n",
       "      <td id=\"T_c610d_row13_col4\" class=\"data row13 col4\" >Finished</td>\n",
       "    </tr>\n",
       "    <tr>\n",
       "      <td id=\"T_c610d_row14_col0\" class=\"data row14 col0\" >ZHO</td>\n",
       "      <td id=\"T_c610d_row14_col1\" class=\"data row14 col1\" >19</td>\n",
       "      <td id=\"T_c610d_row14_col2\" class=\"data row14 col2\" >15</td>\n",
       "      <td id=\"T_c610d_row14_col3\" class=\"data row14 col3\" >0.0</td>\n",
       "      <td id=\"T_c610d_row14_col4\" class=\"data row14 col4\" >Finished</td>\n",
       "    </tr>\n",
       "    <tr>\n",
       "      <td id=\"T_c610d_row15_col0\" class=\"data row15 col0\" >SAR</td>\n",
       "      <td id=\"T_c610d_row15_col1\" class=\"data row15 col1\" >13</td>\n",
       "      <td id=\"T_c610d_row15_col2\" class=\"data row15 col2\" >16</td>\n",
       "      <td id=\"T_c610d_row15_col3\" class=\"data row15 col3\" >0.0</td>\n",
       "      <td id=\"T_c610d_row15_col4\" class=\"data row15 col4\" >Finished</td>\n",
       "    </tr>\n",
       "    <tr>\n",
       "      <td id=\"T_c610d_row16_col0\" class=\"data row16 col0\" >HUL</td>\n",
       "      <td id=\"T_c610d_row16_col1\" class=\"data row16 col1\" >20</td>\n",
       "      <td id=\"T_c610d_row16_col2\" class=\"data row16 col2\" >17</td>\n",
       "      <td id=\"T_c610d_row16_col3\" class=\"data row16 col3\" >0.0</td>\n",
       "      <td id=\"T_c610d_row16_col4\" class=\"data row16 col4\" >Finished</td>\n",
       "    </tr>\n",
       "    <tr>\n",
       "      <td id=\"T_c610d_row17_col0\" class=\"data row17 col0\" >TSU</td>\n",
       "      <td id=\"T_c610d_row17_col1\" class=\"data row17 col1\" >16</td>\n",
       "      <td id=\"T_c610d_row17_col2\" class=\"data row17 col2\" >18</td>\n",
       "      <td id=\"T_c610d_row17_col3\" class=\"data row17 col3\" >0.0</td>\n",
       "      <td id=\"T_c610d_row17_col4\" class=\"data row17 col4\" >Finished</td>\n",
       "    </tr>\n",
       "    <tr>\n",
       "      <td id=\"T_c610d_row18_col0\" class=\"data row18 col0\" >PER</td>\n",
       "      <td id=\"T_c610d_row18_col1\" class=\"data row18 col1\" >8</td>\n",
       "      <td id=\"T_c610d_row18_col2\" class=\"data row18 col2\" >19</td>\n",
       "      <td id=\"T_c610d_row18_col3\" class=\"data row18 col3\" >0.0</td>\n",
       "      <td id=\"T_c610d_row18_col4\" class=\"data row18 col4\" >Collision damage</td>\n",
       "    </tr>\n",
       "    <tr>\n",
       "      <td id=\"T_c610d_row19_col0\" class=\"data row19 col0\" >ALO</td>\n",
       "      <td id=\"T_c610d_row19_col1\" class=\"data row19 col1\" >15</td>\n",
       "      <td id=\"T_c610d_row19_col2\" class=\"data row19 col2\" >20</td>\n",
       "      <td id=\"T_c610d_row19_col3\" class=\"data row19 col3\" >0.0</td>\n",
       "      <td id=\"T_c610d_row19_col4\" class=\"data row19 col4\" >Accident</td>\n",
       "    </tr>\n",
       "  </tbody>\n",
       "</table>\n"
      ],
      "text/plain": [
       "<pandas.io.formats.style.Styler at 0x7a71f9de1d10>"
      ]
     },
     "metadata": {},
     "output_type": "display_data"
    }
   ],
   "source": [
    "if not SPRINT_EMPTY:\n",
    "    display(sprint_results[['Driver', 'grid', 'position', 'points', 'status']].style.pipe(sprint_results_style))"
   ]
  },
  {
   "cell_type": "code",
   "execution_count": 21,
   "id": "c5de44c1",
   "metadata": {
    "_kg_hide-input": true,
    "execution": {
     "iopub.execute_input": "2023-08-05T01:22:28.419320Z",
     "iopub.status.busy": "2023-08-05T01:22:28.418856Z",
     "iopub.status.idle": "2023-08-05T01:22:28.621749Z",
     "shell.execute_reply": "2023-08-05T01:22:28.620788Z"
    },
    "papermill": {
     "duration": 0.228133,
     "end_time": "2023-08-05T01:22:28.624232",
     "exception": false,
     "start_time": "2023-08-05T01:22:28.396099",
     "status": "completed"
    },
    "tags": []
   },
   "outputs": [
    {
     "data": {
      "text/html": [
       "<div>                            <div id=\"5a0b939a-bce8-460e-9e21-4bcebdb5371c\" class=\"plotly-graph-div\" style=\"height:525px; width:100%;\"></div>            <script type=\"text/javascript\">                require([\"plotly\"], function(Plotly) {                    window.PLOTLYENV=window.PLOTLYENV || {};                                    if (document.getElementById(\"5a0b939a-bce8-460e-9e21-4bcebdb5371c\")) {                    Plotly.newPlot(                        \"5a0b939a-bce8-460e-9e21-4bcebdb5371c\",                        [{\"hovertemplate\":\"Driver=ALB<br>Lap (Start/Finish Only)=%{x}<br>Start Position=%{y}<extra></extra>\",\"legendgroup\":\"ALB\",\"line\":{\"color\":\"#00A0DE\",\"dash\":\"solid\"},\"marker\":{\"symbol\":\"circle\"},\"mode\":\"lines\",\"name\":\"ALB\",\"orientation\":\"v\",\"showlegend\":true,\"x\":[11,0],\"xaxis\":\"x\",\"y\":[12.0,12.0],\"yaxis\":\"y\",\"type\":\"scatter\"},{\"hovertemplate\":\"Driver=ALO<br>Lap (Start/Finish Only)=%{x}<br>Start Position=%{y}<extra></extra>\",\"legendgroup\":\"ALO\",\"line\":{\"color\":\"#002420\",\"dash\":\"solid\"},\"marker\":{\"symbol\":\"circle\"},\"mode\":\"lines\",\"name\":\"ALO\",\"orientation\":\"v\",\"showlegend\":true,\"x\":[0,2],\"xaxis\":\"x\",\"y\":[15.0,20.0],\"yaxis\":\"y\",\"type\":\"scatter\"},{\"hovertemplate\":\"Driver=BOT<br>Lap (Start/Finish Only)=%{x}<br>Start Position=%{y}<extra></extra>\",\"legendgroup\":\"BOT\",\"line\":{\"color\":\"#A42134\",\"dash\":\"solid\"},\"marker\":{\"symbol\":\"circle\"},\"mode\":\"lines\",\"name\":\"BOT\",\"orientation\":\"v\",\"showlegend\":true,\"x\":[11,0],\"xaxis\":\"x\",\"y\":[13.0,17.0],\"yaxis\":\"y\",\"type\":\"scatter\"},{\"hovertemplate\":\"Driver=GAS<br>Lap (Start/Finish Only)=%{x}<br>Start Position=%{y}<extra></extra>\",\"legendgroup\":\"GAS\",\"line\":{\"color\":\"#2173B8\",\"dash\":\"solid\"},\"marker\":{\"symbol\":\"circle\"},\"mode\":\"lines\",\"name\":\"GAS\",\"orientation\":\"v\",\"showlegend\":true,\"x\":[11,0],\"xaxis\":\"x\",\"y\":[3.0,6.0],\"yaxis\":\"y\",\"type\":\"scatter\"},{\"hovertemplate\":\"Driver=HAM<br>Lap (Start/Finish Only)=%{x}<br>Start Position=%{y}<extra></extra>\",\"legendgroup\":\"HAM\",\"line\":{\"color\":\"#00A19B\",\"dash\":\"solid\"},\"marker\":{\"symbol\":\"circle\"},\"mode\":\"lines\",\"name\":\"HAM\",\"orientation\":\"v\",\"showlegend\":true,\"x\":[11,0],\"xaxis\":\"x\",\"y\":[7.0,7.0],\"yaxis\":\"y\",\"type\":\"scatter\"},{\"hovertemplate\":\"Driver=HUL<br>Lap (Start/Finish Only)=%{x}<br>Start Position=%{y}<extra></extra>\",\"legendgroup\":\"HUL\",\"line\":{\"color\":\"#E6002B\",\"dash\":\"solid\"},\"marker\":{\"symbol\":\"circle\"},\"mode\":\"lines\",\"name\":\"HUL\",\"orientation\":\"v\",\"showlegend\":true,\"x\":[11,0],\"xaxis\":\"x\",\"y\":[17.0,20.0],\"yaxis\":\"y\",\"type\":\"scatter\"},{\"hovertemplate\":\"Driver=LEC<br>Lap (Start/Finish Only)=%{x}<br>Start Position=%{y}<extra></extra>\",\"legendgroup\":\"LEC\",\"line\":{\"color\":\"#EF1A2D\",\"dash\":\"solid\"},\"marker\":{\"symbol\":\"circle\"},\"mode\":\"lines\",\"name\":\"LEC\",\"orientation\":\"v\",\"showlegend\":true,\"x\":[11,0],\"xaxis\":\"x\",\"y\":[5.0,4.0],\"yaxis\":\"y\",\"type\":\"scatter\"},{\"hovertemplate\":\"Driver=MAG<br>Lap (Start/Finish Only)=%{x}<br>Start Position=%{y}<extra></extra>\",\"legendgroup\":\"MAG\",\"line\":{\"color\":\"#E6002B\",\"dash\":\"solid\"},\"marker\":{\"symbol\":\"circle\"},\"mode\":\"lines\",\"name\":\"MAG\",\"orientation\":\"v\",\"showlegend\":true,\"x\":[11,0],\"xaxis\":\"x\",\"y\":[14.0,18.0],\"yaxis\":\"y\",\"type\":\"scatter\"},{\"hovertemplate\":\"Driver=NOR<br>Lap (Start/Finish Only)=%{x}<br>Start Position=%{y}<extra></extra>\",\"legendgroup\":\"NOR\",\"line\":{\"color\":\"#FF8000\",\"dash\":\"solid\"},\"marker\":{\"symbol\":\"circle\"},\"mode\":\"lines\",\"name\":\"NOR\",\"orientation\":\"v\",\"showlegend\":true,\"x\":[0,11],\"xaxis\":\"x\",\"y\":[5.0,6.0],\"yaxis\":\"y\",\"type\":\"scatter\"},{\"hovertemplate\":\"Driver=OCO<br>Lap (Start/Finish Only)=%{x}<br>Start Position=%{y}<extra></extra>\",\"legendgroup\":\"OCO\",\"line\":{\"color\":\"#2173B8\",\"dash\":\"solid\"},\"marker\":{\"symbol\":\"circle\"},\"mode\":\"lines\",\"name\":\"OCO\",\"orientation\":\"v\",\"showlegend\":true,\"x\":[11,0],\"xaxis\":\"x\",\"y\":[9.0,9.0],\"yaxis\":\"y\",\"type\":\"scatter\"},{\"hovertemplate\":\"Driver=PER<br>Lap (Start/Finish Only)=%{x}<br>Start Position=%{y}<extra></extra>\",\"legendgroup\":\"PER\",\"line\":{\"color\":\"#000B8D\",\"dash\":\"solid\"},\"marker\":{\"symbol\":\"circle\"},\"mode\":\"lines\",\"name\":\"PER\",\"orientation\":\"v\",\"showlegend\":true,\"x\":[0,8],\"xaxis\":\"x\",\"y\":[8.0,19.0],\"yaxis\":\"y\",\"type\":\"scatter\"},{\"hovertemplate\":\"Driver=PIA<br>Lap (Start/Finish Only)=%{x}<br>Start Position=%{y}<extra></extra>\",\"legendgroup\":\"PIA\",\"line\":{\"color\":\"#FF8000\",\"dash\":\"solid\"},\"marker\":{\"symbol\":\"circle\"},\"mode\":\"lines\",\"name\":\"PIA\",\"orientation\":\"v\",\"showlegend\":true,\"x\":[0,11],\"xaxis\":\"x\",\"y\":[2.0,2.0],\"yaxis\":\"y\",\"type\":\"scatter\"},{\"hovertemplate\":\"Driver=RIC<br>Lap (Start/Finish Only)=%{x}<br>Start Position=%{y}<extra></extra>\",\"legendgroup\":\"RIC\",\"line\":{\"color\":\"#20394C\",\"dash\":\"solid\"},\"marker\":{\"symbol\":\"circle\"},\"mode\":\"lines\",\"name\":\"RIC\",\"orientation\":\"v\",\"showlegend\":true,\"x\":[11,0],\"xaxis\":\"x\",\"y\":[10.0,11.0],\"yaxis\":\"y\",\"type\":\"scatter\"},{\"hovertemplate\":\"Driver=RUS<br>Lap (Start/Finish Only)=%{x}<br>Start Position=%{y}<extra></extra>\",\"legendgroup\":\"RUS\",\"line\":{\"color\":\"#00A19B\",\"dash\":\"solid\"},\"marker\":{\"symbol\":\"circle\"},\"mode\":\"lines\",\"name\":\"RUS\",\"orientation\":\"v\",\"showlegend\":true,\"x\":[11,0],\"xaxis\":\"x\",\"y\":[8.0,10.0],\"yaxis\":\"y\",\"type\":\"scatter\"},{\"hovertemplate\":\"Driver=SAI<br>Lap (Start/Finish Only)=%{x}<br>Start Position=%{y}<extra></extra>\",\"legendgroup\":\"SAI\",\"line\":{\"color\":\"#EF1A2D\",\"dash\":\"solid\"},\"marker\":{\"symbol\":\"circle\"},\"mode\":\"lines\",\"name\":\"SAI\",\"orientation\":\"v\",\"showlegend\":true,\"x\":[0,11],\"xaxis\":\"x\",\"y\":[3.0,4.0],\"yaxis\":\"y\",\"type\":\"scatter\"},{\"hovertemplate\":\"Driver=SAR<br>Lap (Start/Finish Only)=%{x}<br>Start Position=%{y}<extra></extra>\",\"legendgroup\":\"SAR\",\"line\":{\"color\":\"#00A0DE\",\"dash\":\"solid\"},\"marker\":{\"symbol\":\"circle\"},\"mode\":\"lines\",\"name\":\"SAR\",\"orientation\":\"v\",\"showlegend\":true,\"x\":[0,11],\"xaxis\":\"x\",\"y\":[13.0,16.0],\"yaxis\":\"y\",\"type\":\"scatter\"},{\"hovertemplate\":\"Driver=STR<br>Lap (Start/Finish Only)=%{x}<br>Start Position=%{y}<extra></extra>\",\"legendgroup\":\"STR\",\"line\":{\"color\":\"#002420\",\"dash\":\"solid\"},\"marker\":{\"symbol\":\"circle\"},\"mode\":\"lines\",\"name\":\"STR\",\"orientation\":\"v\",\"showlegend\":true,\"x\":[11,0],\"xaxis\":\"x\",\"y\":[11.0,14.0],\"yaxis\":\"y\",\"type\":\"scatter\"},{\"hovertemplate\":\"Driver=TSU<br>Lap (Start/Finish Only)=%{x}<br>Start Position=%{y}<extra></extra>\",\"legendgroup\":\"TSU\",\"line\":{\"color\":\"#20394C\",\"dash\":\"solid\"},\"marker\":{\"symbol\":\"circle\"},\"mode\":\"lines\",\"name\":\"TSU\",\"orientation\":\"v\",\"showlegend\":true,\"x\":[0,11],\"xaxis\":\"x\",\"y\":[16.0,18.0],\"yaxis\":\"y\",\"type\":\"scatter\"},{\"hovertemplate\":\"Driver=VER<br>Lap (Start/Finish Only)=%{x}<br>Start Position=%{y}<extra></extra>\",\"legendgroup\":\"VER\",\"line\":{\"color\":\"#000B8D\",\"dash\":\"solid\"},\"marker\":{\"symbol\":\"circle\"},\"mode\":\"lines\",\"name\":\"VER\",\"orientation\":\"v\",\"showlegend\":true,\"x\":[11,0],\"xaxis\":\"x\",\"y\":[1.0,1.0],\"yaxis\":\"y\",\"type\":\"scatter\"},{\"hovertemplate\":\"Driver=ZHO<br>Lap (Start/Finish Only)=%{x}<br>Start Position=%{y}<extra></extra>\",\"legendgroup\":\"ZHO\",\"line\":{\"color\":\"#A42134\",\"dash\":\"solid\"},\"marker\":{\"symbol\":\"circle\"},\"mode\":\"lines\",\"name\":\"ZHO\",\"orientation\":\"v\",\"showlegend\":true,\"x\":[0,11],\"xaxis\":\"x\",\"y\":[19.0,15.0],\"yaxis\":\"y\",\"type\":\"scatter\"}],                        {\"template\":{\"data\":{\"histogram2dcontour\":[{\"type\":\"histogram2dcontour\",\"colorbar\":{\"outlinewidth\":0,\"ticks\":\"\"},\"colorscale\":[[0.0,\"#0d0887\"],[0.1111111111111111,\"#46039f\"],[0.2222222222222222,\"#7201a8\"],[0.3333333333333333,\"#9c179e\"],[0.4444444444444444,\"#bd3786\"],[0.5555555555555556,\"#d8576b\"],[0.6666666666666666,\"#ed7953\"],[0.7777777777777778,\"#fb9f3a\"],[0.8888888888888888,\"#fdca26\"],[1.0,\"#f0f921\"]]}],\"choropleth\":[{\"type\":\"choropleth\",\"colorbar\":{\"outlinewidth\":0,\"ticks\":\"\"}}],\"histogram2d\":[{\"type\":\"histogram2d\",\"colorbar\":{\"outlinewidth\":0,\"ticks\":\"\"},\"colorscale\":[[0.0,\"#0d0887\"],[0.1111111111111111,\"#46039f\"],[0.2222222222222222,\"#7201a8\"],[0.3333333333333333,\"#9c179e\"],[0.4444444444444444,\"#bd3786\"],[0.5555555555555556,\"#d8576b\"],[0.6666666666666666,\"#ed7953\"],[0.7777777777777778,\"#fb9f3a\"],[0.8888888888888888,\"#fdca26\"],[1.0,\"#f0f921\"]]}],\"heatmap\":[{\"type\":\"heatmap\",\"colorbar\":{\"outlinewidth\":0,\"ticks\":\"\"},\"colorscale\":[[0.0,\"#0d0887\"],[0.1111111111111111,\"#46039f\"],[0.2222222222222222,\"#7201a8\"],[0.3333333333333333,\"#9c179e\"],[0.4444444444444444,\"#bd3786\"],[0.5555555555555556,\"#d8576b\"],[0.6666666666666666,\"#ed7953\"],[0.7777777777777778,\"#fb9f3a\"],[0.8888888888888888,\"#fdca26\"],[1.0,\"#f0f921\"]]}],\"heatmapgl\":[{\"type\":\"heatmapgl\",\"colorbar\":{\"outlinewidth\":0,\"ticks\":\"\"},\"colorscale\":[[0.0,\"#0d0887\"],[0.1111111111111111,\"#46039f\"],[0.2222222222222222,\"#7201a8\"],[0.3333333333333333,\"#9c179e\"],[0.4444444444444444,\"#bd3786\"],[0.5555555555555556,\"#d8576b\"],[0.6666666666666666,\"#ed7953\"],[0.7777777777777778,\"#fb9f3a\"],[0.8888888888888888,\"#fdca26\"],[1.0,\"#f0f921\"]]}],\"contourcarpet\":[{\"type\":\"contourcarpet\",\"colorbar\":{\"outlinewidth\":0,\"ticks\":\"\"}}],\"contour\":[{\"type\":\"contour\",\"colorbar\":{\"outlinewidth\":0,\"ticks\":\"\"},\"colorscale\":[[0.0,\"#0d0887\"],[0.1111111111111111,\"#46039f\"],[0.2222222222222222,\"#7201a8\"],[0.3333333333333333,\"#9c179e\"],[0.4444444444444444,\"#bd3786\"],[0.5555555555555556,\"#d8576b\"],[0.6666666666666666,\"#ed7953\"],[0.7777777777777778,\"#fb9f3a\"],[0.8888888888888888,\"#fdca26\"],[1.0,\"#f0f921\"]]}],\"surface\":[{\"type\":\"surface\",\"colorbar\":{\"outlinewidth\":0,\"ticks\":\"\"},\"colorscale\":[[0.0,\"#0d0887\"],[0.1111111111111111,\"#46039f\"],[0.2222222222222222,\"#7201a8\"],[0.3333333333333333,\"#9c179e\"],[0.4444444444444444,\"#bd3786\"],[0.5555555555555556,\"#d8576b\"],[0.6666666666666666,\"#ed7953\"],[0.7777777777777778,\"#fb9f3a\"],[0.8888888888888888,\"#fdca26\"],[1.0,\"#f0f921\"]]}],\"mesh3d\":[{\"type\":\"mesh3d\",\"colorbar\":{\"outlinewidth\":0,\"ticks\":\"\"}}],\"scatter\":[{\"fillpattern\":{\"fillmode\":\"overlay\",\"size\":10,\"solidity\":0.2},\"type\":\"scatter\"}],\"parcoords\":[{\"type\":\"parcoords\",\"line\":{\"colorbar\":{\"outlinewidth\":0,\"ticks\":\"\"}}}],\"scatterpolargl\":[{\"type\":\"scatterpolargl\",\"marker\":{\"colorbar\":{\"outlinewidth\":0,\"ticks\":\"\"}}}],\"bar\":[{\"error_x\":{\"color\":\"#2a3f5f\"},\"error_y\":{\"color\":\"#2a3f5f\"},\"marker\":{\"line\":{\"color\":\"#E5ECF6\",\"width\":0.5},\"pattern\":{\"fillmode\":\"overlay\",\"size\":10,\"solidity\":0.2}},\"type\":\"bar\"}],\"scattergeo\":[{\"type\":\"scattergeo\",\"marker\":{\"colorbar\":{\"outlinewidth\":0,\"ticks\":\"\"}}}],\"scatterpolar\":[{\"type\":\"scatterpolar\",\"marker\":{\"colorbar\":{\"outlinewidth\":0,\"ticks\":\"\"}}}],\"histogram\":[{\"marker\":{\"pattern\":{\"fillmode\":\"overlay\",\"size\":10,\"solidity\":0.2}},\"type\":\"histogram\"}],\"scattergl\":[{\"type\":\"scattergl\",\"marker\":{\"colorbar\":{\"outlinewidth\":0,\"ticks\":\"\"}}}],\"scatter3d\":[{\"type\":\"scatter3d\",\"line\":{\"colorbar\":{\"outlinewidth\":0,\"ticks\":\"\"}},\"marker\":{\"colorbar\":{\"outlinewidth\":0,\"ticks\":\"\"}}}],\"scattermapbox\":[{\"type\":\"scattermapbox\",\"marker\":{\"colorbar\":{\"outlinewidth\":0,\"ticks\":\"\"}}}],\"scatterternary\":[{\"type\":\"scatterternary\",\"marker\":{\"colorbar\":{\"outlinewidth\":0,\"ticks\":\"\"}}}],\"scattercarpet\":[{\"type\":\"scattercarpet\",\"marker\":{\"colorbar\":{\"outlinewidth\":0,\"ticks\":\"\"}}}],\"carpet\":[{\"aaxis\":{\"endlinecolor\":\"#2a3f5f\",\"gridcolor\":\"white\",\"linecolor\":\"white\",\"minorgridcolor\":\"white\",\"startlinecolor\":\"#2a3f5f\"},\"baxis\":{\"endlinecolor\":\"#2a3f5f\",\"gridcolor\":\"white\",\"linecolor\":\"white\",\"minorgridcolor\":\"white\",\"startlinecolor\":\"#2a3f5f\"},\"type\":\"carpet\"}],\"table\":[{\"cells\":{\"fill\":{\"color\":\"#EBF0F8\"},\"line\":{\"color\":\"white\"}},\"header\":{\"fill\":{\"color\":\"#C8D4E3\"},\"line\":{\"color\":\"white\"}},\"type\":\"table\"}],\"barpolar\":[{\"marker\":{\"line\":{\"color\":\"#E5ECF6\",\"width\":0.5},\"pattern\":{\"fillmode\":\"overlay\",\"size\":10,\"solidity\":0.2}},\"type\":\"barpolar\"}],\"pie\":[{\"automargin\":true,\"type\":\"pie\"}]},\"layout\":{\"autotypenumbers\":\"strict\",\"colorway\":[\"#636efa\",\"#EF553B\",\"#00cc96\",\"#ab63fa\",\"#FFA15A\",\"#19d3f3\",\"#FF6692\",\"#B6E880\",\"#FF97FF\",\"#FECB52\"],\"font\":{\"color\":\"#2a3f5f\"},\"hovermode\":\"closest\",\"hoverlabel\":{\"align\":\"left\"},\"paper_bgcolor\":\"white\",\"plot_bgcolor\":\"#E5ECF6\",\"polar\":{\"bgcolor\":\"#E5ECF6\",\"angularaxis\":{\"gridcolor\":\"white\",\"linecolor\":\"white\",\"ticks\":\"\"},\"radialaxis\":{\"gridcolor\":\"white\",\"linecolor\":\"white\",\"ticks\":\"\"}},\"ternary\":{\"bgcolor\":\"#E5ECF6\",\"aaxis\":{\"gridcolor\":\"white\",\"linecolor\":\"white\",\"ticks\":\"\"},\"baxis\":{\"gridcolor\":\"white\",\"linecolor\":\"white\",\"ticks\":\"\"},\"caxis\":{\"gridcolor\":\"white\",\"linecolor\":\"white\",\"ticks\":\"\"}},\"coloraxis\":{\"colorbar\":{\"outlinewidth\":0,\"ticks\":\"\"}},\"colorscale\":{\"sequential\":[[0.0,\"#0d0887\"],[0.1111111111111111,\"#46039f\"],[0.2222222222222222,\"#7201a8\"],[0.3333333333333333,\"#9c179e\"],[0.4444444444444444,\"#bd3786\"],[0.5555555555555556,\"#d8576b\"],[0.6666666666666666,\"#ed7953\"],[0.7777777777777778,\"#fb9f3a\"],[0.8888888888888888,\"#fdca26\"],[1.0,\"#f0f921\"]],\"sequentialminus\":[[0.0,\"#0d0887\"],[0.1111111111111111,\"#46039f\"],[0.2222222222222222,\"#7201a8\"],[0.3333333333333333,\"#9c179e\"],[0.4444444444444444,\"#bd3786\"],[0.5555555555555556,\"#d8576b\"],[0.6666666666666666,\"#ed7953\"],[0.7777777777777778,\"#fb9f3a\"],[0.8888888888888888,\"#fdca26\"],[1.0,\"#f0f921\"]],\"diverging\":[[0,\"#8e0152\"],[0.1,\"#c51b7d\"],[0.2,\"#de77ae\"],[0.3,\"#f1b6da\"],[0.4,\"#fde0ef\"],[0.5,\"#f7f7f7\"],[0.6,\"#e6f5d0\"],[0.7,\"#b8e186\"],[0.8,\"#7fbc41\"],[0.9,\"#4d9221\"],[1,\"#276419\"]]},\"xaxis\":{\"gridcolor\":\"white\",\"linecolor\":\"white\",\"ticks\":\"\",\"title\":{\"standoff\":15},\"zerolinecolor\":\"white\",\"automargin\":true,\"zerolinewidth\":2},\"yaxis\":{\"gridcolor\":\"white\",\"linecolor\":\"white\",\"ticks\":\"\",\"title\":{\"standoff\":15},\"zerolinecolor\":\"white\",\"automargin\":true,\"zerolinewidth\":2},\"scene\":{\"xaxis\":{\"backgroundcolor\":\"#E5ECF6\",\"gridcolor\":\"white\",\"linecolor\":\"white\",\"showbackground\":true,\"ticks\":\"\",\"zerolinecolor\":\"white\",\"gridwidth\":2},\"yaxis\":{\"backgroundcolor\":\"#E5ECF6\",\"gridcolor\":\"white\",\"linecolor\":\"white\",\"showbackground\":true,\"ticks\":\"\",\"zerolinecolor\":\"white\",\"gridwidth\":2},\"zaxis\":{\"backgroundcolor\":\"#E5ECF6\",\"gridcolor\":\"white\",\"linecolor\":\"white\",\"showbackground\":true,\"ticks\":\"\",\"zerolinecolor\":\"white\",\"gridwidth\":2}},\"shapedefaults\":{\"line\":{\"color\":\"#2a3f5f\"}},\"annotationdefaults\":{\"arrowcolor\":\"#2a3f5f\",\"arrowhead\":0,\"arrowwidth\":1},\"geo\":{\"bgcolor\":\"white\",\"landcolor\":\"#E5ECF6\",\"subunitcolor\":\"white\",\"showland\":true,\"showlakes\":true,\"lakecolor\":\"white\"},\"title\":{\"x\":0.05},\"mapbox\":{\"style\":\"light\"}}},\"xaxis\":{\"anchor\":\"y\",\"domain\":[0.0,1.0],\"title\":{\"text\":\"Lap (Start/Finish Only)\"}},\"yaxis\":{\"anchor\":\"x\",\"domain\":[0.0,1.0],\"title\":{\"text\":\"Start Position\"}},\"legend\":{\"title\":{\"text\":\"Driver\"},\"tracegroupgap\":0},\"title\":{\"text\":\"<b>Qualifying To Sprint Finish</b>\",\"font\":{\"family\":\"Arial, sans-serif\",\"size\":30},\"x\":0.5},\"updatemenus\":[{\"active\":0,\"buttons\":[{\"args\":[{\"visible\":[true,true,true,true,true,true,true,true,true,true,true,true,true,true,true,true,true,true,true,true],\"title\":\"All\",\"showlegend\":true}],\"label\":\"All\",\"method\":\"update\"},{\"args\":[{\"visible\":[true,false,false,false,false,false,false,false,false,false,false,false,false,false,false,false,false,false,false,false],\"title\":\"ALB\",\"showlegend\":true}],\"label\":\"ALB\",\"method\":\"update\"},{\"args\":[{\"visible\":[false,true,false,false,false,false,false,false,false,false,false,false,false,false,false,false,false,false,false,false],\"title\":\"ALO\",\"showlegend\":true}],\"label\":\"ALO\",\"method\":\"update\"},{\"args\":[{\"visible\":[false,false,true,false,false,false,false,false,false,false,false,false,false,false,false,false,false,false,false,false],\"title\":\"BOT\",\"showlegend\":true}],\"label\":\"BOT\",\"method\":\"update\"},{\"args\":[{\"visible\":[false,false,false,true,false,false,false,false,false,false,false,false,false,false,false,false,false,false,false,false],\"title\":\"GAS\",\"showlegend\":true}],\"label\":\"GAS\",\"method\":\"update\"},{\"args\":[{\"visible\":[false,false,false,false,true,false,false,false,false,false,false,false,false,false,false,false,false,false,false,false],\"title\":\"HAM\",\"showlegend\":true}],\"label\":\"HAM\",\"method\":\"update\"},{\"args\":[{\"visible\":[false,false,false,false,false,true,false,false,false,false,false,false,false,false,false,false,false,false,false,false],\"title\":\"HUL\",\"showlegend\":true}],\"label\":\"HUL\",\"method\":\"update\"},{\"args\":[{\"visible\":[false,false,false,false,false,false,true,false,false,false,false,false,false,false,false,false,false,false,false,false],\"title\":\"LEC\",\"showlegend\":true}],\"label\":\"LEC\",\"method\":\"update\"},{\"args\":[{\"visible\":[false,false,false,false,false,false,false,true,false,false,false,false,false,false,false,false,false,false,false,false],\"title\":\"MAG\",\"showlegend\":true}],\"label\":\"MAG\",\"method\":\"update\"},{\"args\":[{\"visible\":[false,false,false,false,false,false,false,false,true,false,false,false,false,false,false,false,false,false,false,false],\"title\":\"NOR\",\"showlegend\":true}],\"label\":\"NOR\",\"method\":\"update\"},{\"args\":[{\"visible\":[false,false,false,false,false,false,false,false,false,true,false,false,false,false,false,false,false,false,false,false],\"title\":\"OCO\",\"showlegend\":true}],\"label\":\"OCO\",\"method\":\"update\"},{\"args\":[{\"visible\":[false,false,false,false,false,false,false,false,false,false,true,false,false,false,false,false,false,false,false,false],\"title\":\"PER\",\"showlegend\":true}],\"label\":\"PER\",\"method\":\"update\"},{\"args\":[{\"visible\":[false,false,false,false,false,false,false,false,false,false,false,true,false,false,false,false,false,false,false,false],\"title\":\"PIA\",\"showlegend\":true}],\"label\":\"PIA\",\"method\":\"update\"},{\"args\":[{\"visible\":[false,false,false,false,false,false,false,false,false,false,false,false,true,false,false,false,false,false,false,false],\"title\":\"RIC\",\"showlegend\":true}],\"label\":\"RIC\",\"method\":\"update\"},{\"args\":[{\"visible\":[false,false,false,false,false,false,false,false,false,false,false,false,false,true,false,false,false,false,false,false],\"title\":\"RUS\",\"showlegend\":true}],\"label\":\"RUS\",\"method\":\"update\"},{\"args\":[{\"visible\":[false,false,false,false,false,false,false,false,false,false,false,false,false,false,true,false,false,false,false,false],\"title\":\"SAI\",\"showlegend\":true}],\"label\":\"SAI\",\"method\":\"update\"},{\"args\":[{\"visible\":[false,false,false,false,false,false,false,false,false,false,false,false,false,false,false,true,false,false,false,false],\"title\":\"SAR\",\"showlegend\":true}],\"label\":\"SAR\",\"method\":\"update\"},{\"args\":[{\"visible\":[false,false,false,false,false,false,false,false,false,false,false,false,false,false,false,false,true,false,false,false],\"title\":\"STR\",\"showlegend\":true}],\"label\":\"STR\",\"method\":\"update\"},{\"args\":[{\"visible\":[false,false,false,false,false,false,false,false,false,false,false,false,false,false,false,false,false,true,false,false],\"title\":\"TSU\",\"showlegend\":true}],\"label\":\"TSU\",\"method\":\"update\"},{\"args\":[{\"visible\":[false,false,false,false,false,false,false,false,false,false,false,false,false,false,false,false,false,false,true,false],\"title\":\"VER\",\"showlegend\":true}],\"label\":\"VER\",\"method\":\"update\"},{\"args\":[{\"visible\":[false,false,false,false,false,false,false,false,false,false,false,false,false,false,false,false,false,false,false,true],\"title\":\"ZHO\",\"showlegend\":true}],\"label\":\"ZHO\",\"method\":\"update\"}]}]},                        {\"responsive\": true}                    ).then(function(){\n",
       "                            \n",
       "var gd = document.getElementById('5a0b939a-bce8-460e-9e21-4bcebdb5371c');\n",
       "var x = new MutationObserver(function (mutations, observer) {{\n",
       "        var display = window.getComputedStyle(gd).display;\n",
       "        if (!display || display === 'none') {{\n",
       "            console.log([gd, 'removed!']);\n",
       "            Plotly.purge(gd);\n",
       "            observer.disconnect();\n",
       "        }}\n",
       "}});\n",
       "\n",
       "// Listen for the removal of the full notebook cells\n",
       "var notebookContainer = gd.closest('#notebook-container');\n",
       "if (notebookContainer) {{\n",
       "    x.observe(notebookContainer, {childList: true});\n",
       "}}\n",
       "\n",
       "// Listen for the clearing of the current output cell\n",
       "var outputEl = gd.closest('.output');\n",
       "if (outputEl) {{\n",
       "    x.observe(outputEl, {childList: true});\n",
       "}}\n",
       "\n",
       "                        })                };                });            </script>        </div>"
      ]
     },
     "metadata": {},
     "output_type": "display_data"
    }
   ],
   "source": [
    "def multi_st_fin_spr_plot(names, addAll = True):\n",
    "    fig = go.Figure()\n",
    "    \n",
    "    lap_driver_sf = sp_reduced_res[(sp_reduced_res['laps'] == 0) | (sp_reduced_res['laps'] == num_sprint_laps) | (sp_reduced_res['last_lap'] == 1)].copy()\n",
    "    lap_driver_sf['position'] = lap_driver_sf['position'].astype(float)\n",
    "    lap_driver_sf = lap_driver_sf.sort_values(by=['Driver'])\n",
    "\n",
    "    df = px.data.gapminder().query(\"continent=='Oceania'\")\n",
    "    fig = px.line(lap_driver_sf, x=\"laps\", y=\"position\", color='Driver', color_discrete_map=color_map, title=\"Qualifying to Sprint Finish\", labels={\n",
    "    \"position\": \"Start Position\",\n",
    "    \"laps\":\"Lap (Start/Finish Only)\"\n",
    "    })\n",
    "    fig.update_layout(title_text='<b>Qualifying To Sprint Finish</b>', titlefont = dict(\n",
    "         family = 'Arial, sans-serif',\n",
    "         size = 30\n",
    "      ), title_x=0.5)\n",
    "\n",
    "\n",
    "    button_all = dict(label = 'All',\n",
    "                      method = 'update',\n",
    "                      args = [{'visible': [True]*len(names),\n",
    "                               'title': 'All',\n",
    "                               'showlegend':True}])\n",
    "\n",
    "    def create_layout_button(column):\n",
    "        return dict(label = column,\n",
    "                    method = 'update',\n",
    "                    args = [{'visible': [c == column for c in names],\n",
    "                             'title': column,\n",
    "                             'showlegend': True}])\n",
    "\n",
    "    fig.update_layout(\n",
    "        updatemenus=[go.layout.Updatemenu(\n",
    "            active = 0,\n",
    "            buttons = ([button_all] * addAll) + [create_layout_button(column) for column in names]\n",
    "            )\n",
    "        ])\n",
    "    \n",
    "    fig.show()\n",
    "if not SPRINT_EMPTY:\n",
    "    mapping = list(color_map.keys())\n",
    "    mapping.sort()\n",
    "    multi_st_fin_spr_plot(mapping)"
   ]
  },
  {
   "cell_type": "code",
   "execution_count": 22,
   "id": "ef89699e",
   "metadata": {
    "_kg_hide-input": true,
    "execution": {
     "iopub.execute_input": "2023-08-05T01:22:28.670493Z",
     "iopub.status.busy": "2023-08-05T01:22:28.669600Z",
     "iopub.status.idle": "2023-08-05T01:22:28.676966Z",
     "shell.execute_reply": "2023-08-05T01:22:28.675884Z"
    },
    "papermill": {
     "duration": 0.03332,
     "end_time": "2023-08-05T01:22:28.679439",
     "exception": false,
     "start_time": "2023-08-05T01:22:28.646119",
     "status": "completed"
    },
    "tags": []
   },
   "outputs": [
    {
     "data": {
      "text/markdown": [
       "# <div style='background:#FF1801; border:0; color:black; box-shadow: 10px 10px 5px 0px rgba(0,0,0,0.75); transform: rotateX(10deg);'><h1 style='padding: 10px; margin: 0; text-align:center;'><span style='font-size: 30px;'>Pit Stops</span></h1></div>"
      ],
      "text/plain": [
       "<IPython.core.display.Markdown object>"
      ]
     },
     "metadata": {},
     "output_type": "display_data"
    }
   ],
   "source": [
    "display(md(f\"# <div style='background:#FF1801; border:0; color:black; box-shadow: 10px 10px 5px 0px rgba(0,0,0,0.75); transform: rotateX(10deg);'><h1 style='padding: 10px; margin: 0; text-align:center;'><span style='font-size: 30px;'>Pit Stops</span></h1></div>\"))"
   ]
  },
  {
   "cell_type": "code",
   "execution_count": 23,
   "id": "ce62f6df",
   "metadata": {
    "_kg_hide-input": true,
    "execution": {
     "iopub.execute_input": "2023-08-05T01:22:28.725701Z",
     "iopub.status.busy": "2023-08-05T01:22:28.724853Z",
     "iopub.status.idle": "2023-08-05T01:22:28.925963Z",
     "shell.execute_reply": "2023-08-05T01:22:28.924587Z"
    },
    "papermill": {
     "duration": 0.227734,
     "end_time": "2023-08-05T01:22:28.928953",
     "exception": false,
     "start_time": "2023-08-05T01:22:28.701219",
     "status": "completed"
    },
    "tags": []
   },
   "outputs": [
    {
     "data": {
      "text/html": [
       "<div>                            <div id=\"d8c33113-78bf-4a87-8134-8247f1de6748\" class=\"plotly-graph-div\" style=\"height:525px; width:100%;\"></div>            <script type=\"text/javascript\">                require([\"plotly\"], function(Plotly) {                    window.PLOTLYENV=window.PLOTLYENV || {};                                    if (document.getElementById(\"d8c33113-78bf-4a87-8134-8247f1de6748\")) {                    Plotly.newPlot(                        \"d8c33113-78bf-4a87-8134-8247f1de6748\",                        [{\"alignmentgroup\":\"True\",\"base\":[\"2023-07-30T15:13:27\",\"2023-07-30T15:36:37\"],\"hovertemplate\":\"Driver=%{y}<br>time_date=%{base}<br>time_end_date=%{x}<extra></extra>\",\"legendgroup\":\"NOR\",\"marker\":{\"color\":\"#FF8000\",\"pattern\":{\"shape\":\"\"}},\"name\":\"NOR\",\"offsetgroup\":\"NOR\",\"orientation\":\"h\",\"showlegend\":true,\"textposition\":\"auto\",\"x\":[25012.0,23744.0],\"xaxis\":\"x\",\"y\":[\"NOR\",\"NOR\"],\"yaxis\":\"y\",\"type\":\"bar\"},{\"alignmentgroup\":\"True\",\"base\":[\"2023-07-30T15:13:30\",\"2023-07-30T15:51:55\"],\"hovertemplate\":\"Driver=%{y}<br>time_date=%{base}<br>time_end_date=%{x}<extra></extra>\",\"legendgroup\":\"MAG\",\"marker\":{\"color\":\"#E6002B\",\"pattern\":{\"shape\":\"\"}},\"name\":\"MAG\",\"offsetgroup\":\"MAG\",\"orientation\":\"h\",\"showlegend\":true,\"textposition\":\"auto\",\"x\":[23638.0,23572.0],\"xaxis\":\"x\",\"y\":[\"MAG\",\"MAG\"],\"yaxis\":\"y\",\"type\":\"bar\"},{\"alignmentgroup\":\"True\",\"base\":[\"2023-07-30T15:13:31\",\"2023-07-30T15:46:18\"],\"hovertemplate\":\"Driver=%{y}<br>time_date=%{base}<br>time_end_date=%{x}<extra></extra>\",\"legendgroup\":\"RIC\",\"marker\":{\"color\":\"#20394C\",\"pattern\":{\"shape\":\"\"}},\"name\":\"RIC\",\"offsetgroup\":\"RIC\",\"orientation\":\"h\",\"showlegend\":true,\"textposition\":\"auto\",\"x\":[22843.0,23290.0],\"xaxis\":\"x\",\"y\":[\"RIC\",\"RIC\"],\"yaxis\":\"y\",\"type\":\"bar\"},{\"alignmentgroup\":\"True\",\"base\":[\"2023-07-30T15:15:23\",\"2023-07-30T15:51:50\"],\"hovertemplate\":\"Driver=%{y}<br>time_date=%{base}<br>time_end_date=%{x}<extra></extra>\",\"legendgroup\":\"OCO\",\"marker\":{\"color\":\"#2173B8\",\"pattern\":{\"shape\":\"\"}},\"name\":\"OCO\",\"offsetgroup\":\"OCO\",\"orientation\":\"h\",\"showlegend\":true,\"textposition\":\"auto\",\"x\":[23085.0,23339.0],\"xaxis\":\"x\",\"y\":[\"OCO\",\"OCO\"],\"yaxis\":\"y\",\"type\":\"bar\"},{\"alignmentgroup\":\"True\",\"base\":[\"2023-07-30T15:15:24\",\"2023-07-30T15:50:02\"],\"hovertemplate\":\"Driver=%{y}<br>time_date=%{base}<br>time_end_date=%{x}<extra></extra>\",\"legendgroup\":\"BOT\",\"marker\":{\"color\":\"#A42134\",\"pattern\":{\"shape\":\"\"}},\"name\":\"BOT\",\"offsetgroup\":\"BOT\",\"orientation\":\"h\",\"showlegend\":true,\"textposition\":\"auto\",\"x\":[23362.0,23786.0],\"xaxis\":\"x\",\"y\":[\"BOT\",\"BOT\"],\"yaxis\":\"y\",\"type\":\"bar\"},{\"alignmentgroup\":\"True\",\"base\":[\"2023-07-30T15:17:14\",\"2023-07-30T15:48:02\",\"2023-07-30T16:07:06\"],\"hovertemplate\":\"Driver=%{y}<br>time_date=%{base}<br>time_end_date=%{x}<extra></extra>\",\"legendgroup\":\"ALB\",\"marker\":{\"color\":\"#00A0DE\",\"pattern\":{\"shape\":\"\"}},\"name\":\"ALB\",\"offsetgroup\":\"ALB\",\"orientation\":\"h\",\"showlegend\":true,\"textposition\":\"auto\",\"x\":[25015.0,23596.0,23529.0],\"xaxis\":\"x\",\"y\":[\"ALB\",\"ALB\",\"ALB\"],\"yaxis\":\"y\",\"type\":\"bar\"},{\"alignmentgroup\":\"True\",\"base\":[\"2023-07-30T15:17:20\"],\"hovertemplate\":\"Driver=%{y}<br>time_date=%{base}<br>time_end_date=%{x}<extra></extra>\",\"legendgroup\":\"SAI\",\"marker\":{\"color\":\"#EF1A2D\",\"pattern\":{\"shape\":\"\"}},\"name\":\"SAI\",\"offsetgroup\":\"SAI\",\"orientation\":\"h\",\"showlegend\":true,\"textposition\":\"auto\",\"x\":[23303.0],\"xaxis\":\"x\",\"y\":[\"SAI\"],\"yaxis\":\"y\",\"type\":\"bar\"},{\"alignmentgroup\":\"True\",\"base\":[\"2023-07-30T15:17:21\",\"2023-07-30T15:52:01\"],\"hovertemplate\":\"Driver=%{y}<br>time_date=%{base}<br>time_end_date=%{x}<extra></extra>\",\"legendgroup\":\"ZHO\",\"marker\":{\"color\":\"#A42134\",\"pattern\":{\"shape\":\"\"}},\"name\":\"ZHO\",\"offsetgroup\":\"ZHO\",\"orientation\":\"h\",\"showlegend\":true,\"textposition\":\"auto\",\"x\":[24449.0,24045.0],\"xaxis\":\"x\",\"y\":[\"ZHO\",\"ZHO\"],\"yaxis\":\"y\",\"type\":\"bar\"},{\"alignmentgroup\":\"True\",\"base\":[\"2023-07-30T15:19:14\",\"2023-07-30T15:50:09\",\"2023-07-30T16:09:09\"],\"hovertemplate\":\"Driver=%{y}<br>time_date=%{base}<br>time_end_date=%{x}<extra></extra>\",\"legendgroup\":\"SAR\",\"marker\":{\"color\":\"#00A0DE\",\"pattern\":{\"shape\":\"\"}},\"name\":\"SAR\",\"offsetgroup\":\"SAR\",\"orientation\":\"h\",\"showlegend\":true,\"textposition\":\"auto\",\"x\":[23570.0,23938.0,23109.0],\"xaxis\":\"x\",\"y\":[\"SAR\",\"SAR\",\"SAR\"],\"yaxis\":\"y\",\"type\":\"bar\"},{\"alignmentgroup\":\"True\",\"base\":[\"2023-07-30T15:20:59\",\"2023-07-30T15:49:52\"],\"hovertemplate\":\"Driver=%{y}<br>time_date=%{base}<br>time_end_date=%{x}<extra></extra>\",\"legendgroup\":\"TSU\",\"marker\":{\"color\":\"#20394C\",\"pattern\":{\"shape\":\"\"}},\"name\":\"TSU\",\"offsetgroup\":\"TSU\",\"orientation\":\"h\",\"showlegend\":true,\"textposition\":\"auto\",\"x\":[22610.0,22737.0],\"xaxis\":\"x\",\"y\":[\"TSU\",\"TSU\"],\"yaxis\":\"y\",\"type\":\"bar\"},{\"alignmentgroup\":\"True\",\"base\":[\"2023-07-30T15:22:48\",\"2023-07-30T15:59:01\"],\"hovertemplate\":\"Driver=%{y}<br>time_date=%{base}<br>time_end_date=%{x}<extra></extra>\",\"legendgroup\":\"ALO\",\"marker\":{\"color\":\"#002420\",\"pattern\":{\"shape\":\"\"}},\"name\":\"ALO\",\"offsetgroup\":\"ALO\",\"orientation\":\"h\",\"showlegend\":true,\"textposition\":\"auto\",\"x\":[23085.0,23798.0],\"xaxis\":\"x\",\"y\":[\"ALO\",\"ALO\"],\"yaxis\":\"y\",\"type\":\"bar\"},{\"alignmentgroup\":\"True\",\"base\":[\"2023-07-30T15:26:27\",\"2023-07-30T15:55:00\",\"2023-07-30T16:23:05\"],\"hovertemplate\":\"Driver=%{y}<br>time_date=%{base}<br>time_end_date=%{x}<extra></extra>\",\"legendgroup\":\"HAM\",\"marker\":{\"color\":\"#00A19B\",\"pattern\":{\"shape\":\"\"}},\"name\":\"HAM\",\"offsetgroup\":\"HAM\",\"orientation\":\"h\",\"showlegend\":true,\"textposition\":\"auto\",\"x\":[23090.0,23023.0,23156.0],\"xaxis\":\"x\",\"y\":[\"HAM\",\"HAM\",\"HAM\"],\"yaxis\":\"y\",\"type\":\"bar\"},{\"alignmentgroup\":\"True\",\"base\":[\"2023-07-30T15:26:56\",\"2023-07-30T15:50:04\"],\"hovertemplate\":\"Driver=%{y}<br>time_date=%{base}<br>time_end_date=%{x}<extra></extra>\",\"legendgroup\":\"HUL\",\"marker\":{\"color\":\"#E6002B\",\"pattern\":{\"shape\":\"\"}},\"name\":\"HUL\",\"offsetgroup\":\"HUL\",\"orientation\":\"h\",\"showlegend\":true,\"textposition\":\"auto\",\"x\":[24571.0,25238.0],\"xaxis\":\"x\",\"y\":[\"HUL\",\"HUL\"],\"yaxis\":\"y\",\"type\":\"bar\"},{\"alignmentgroup\":\"True\",\"base\":[\"2023-07-30T15:28:09\",\"2023-07-30T15:58:34\"],\"hovertemplate\":\"Driver=%{y}<br>time_date=%{base}<br>time_end_date=%{x}<extra></extra>\",\"legendgroup\":\"PER\",\"marker\":{\"color\":\"#000B8D\",\"pattern\":{\"shape\":\"\"}},\"name\":\"PER\",\"offsetgroup\":\"PER\",\"orientation\":\"h\",\"showlegend\":true,\"textposition\":\"auto\",\"x\":[23684.0,22710.0],\"xaxis\":\"x\",\"y\":[\"PER\",\"PER\"],\"yaxis\":\"y\",\"type\":\"bar\"},{\"alignmentgroup\":\"True\",\"base\":[\"2023-07-30T15:28:16\",\"2023-07-30T15:56:48\"],\"hovertemplate\":\"Driver=%{y}<br>time_date=%{base}<br>time_end_date=%{x}<extra></extra>\",\"legendgroup\":\"LEC\",\"marker\":{\"color\":\"#EF1A2D\",\"pattern\":{\"shape\":\"\"}},\"name\":\"LEC\",\"offsetgroup\":\"LEC\",\"orientation\":\"h\",\"showlegend\":true,\"textposition\":\"auto\",\"x\":[23224.0,23148.0],\"xaxis\":\"x\",\"y\":[\"LEC\",\"LEC\"],\"yaxis\":\"y\",\"type\":\"bar\"},{\"alignmentgroup\":\"True\",\"base\":[\"2023-07-30T15:30:04\",\"2023-07-30T16:00:16\"],\"hovertemplate\":\"Driver=%{y}<br>time_date=%{base}<br>time_end_date=%{x}<extra></extra>\",\"legendgroup\":\"VER\",\"marker\":{\"color\":\"#000B8D\",\"pattern\":{\"shape\":\"\"}},\"name\":\"VER\",\"offsetgroup\":\"VER\",\"orientation\":\"h\",\"showlegend\":true,\"textposition\":\"auto\",\"x\":[22887.0,23012.0],\"xaxis\":\"x\",\"y\":[\"VER\",\"VER\"],\"yaxis\":\"y\",\"type\":\"bar\"},{\"alignmentgroup\":\"True\",\"base\":[\"2023-07-30T15:42:12\"],\"hovertemplate\":\"Driver=%{y}<br>time_date=%{base}<br>time_end_date=%{x}<extra></extra>\",\"legendgroup\":\"STR\",\"marker\":{\"color\":\"#002420\",\"pattern\":{\"shape\":\"\"}},\"name\":\"STR\",\"offsetgroup\":\"STR\",\"orientation\":\"h\",\"showlegend\":true,\"textposition\":\"auto\",\"x\":[25397.0],\"xaxis\":\"x\",\"y\":[\"STR\"],\"yaxis\":\"y\",\"type\":\"bar\"},{\"alignmentgroup\":\"True\",\"base\":[\"2023-07-30T15:46:00\"],\"hovertemplate\":\"Driver=%{y}<br>time_date=%{base}<br>time_end_date=%{x}<extra></extra>\",\"legendgroup\":\"RUS\",\"marker\":{\"color\":\"#00A19B\",\"pattern\":{\"shape\":\"\"}},\"name\":\"RUS\",\"offsetgroup\":\"RUS\",\"orientation\":\"h\",\"showlegend\":true,\"textposition\":\"auto\",\"x\":[23837.0],\"xaxis\":\"x\",\"y\":[\"RUS\"],\"yaxis\":\"y\",\"type\":\"bar\"},{\"alignmentgroup\":\"True\",\"base\":[\"2023-07-30T15:48:00\"],\"hovertemplate\":\"Driver=%{y}<br>time_date=%{base}<br>time_end_date=%{x}<extra></extra>\",\"legendgroup\":\"GAS\",\"marker\":{\"color\":\"#2173B8\",\"pattern\":{\"shape\":\"\"}},\"name\":\"GAS\",\"offsetgroup\":\"GAS\",\"orientation\":\"h\",\"showlegend\":true,\"textposition\":\"auto\",\"x\":[25664.0],\"xaxis\":\"x\",\"y\":[\"GAS\"],\"yaxis\":\"y\",\"type\":\"bar\"}],                        {\"template\":{\"data\":{\"histogram2dcontour\":[{\"type\":\"histogram2dcontour\",\"colorbar\":{\"outlinewidth\":0,\"ticks\":\"\"},\"colorscale\":[[0.0,\"#0d0887\"],[0.1111111111111111,\"#46039f\"],[0.2222222222222222,\"#7201a8\"],[0.3333333333333333,\"#9c179e\"],[0.4444444444444444,\"#bd3786\"],[0.5555555555555556,\"#d8576b\"],[0.6666666666666666,\"#ed7953\"],[0.7777777777777778,\"#fb9f3a\"],[0.8888888888888888,\"#fdca26\"],[1.0,\"#f0f921\"]]}],\"choropleth\":[{\"type\":\"choropleth\",\"colorbar\":{\"outlinewidth\":0,\"ticks\":\"\"}}],\"histogram2d\":[{\"type\":\"histogram2d\",\"colorbar\":{\"outlinewidth\":0,\"ticks\":\"\"},\"colorscale\":[[0.0,\"#0d0887\"],[0.1111111111111111,\"#46039f\"],[0.2222222222222222,\"#7201a8\"],[0.3333333333333333,\"#9c179e\"],[0.4444444444444444,\"#bd3786\"],[0.5555555555555556,\"#d8576b\"],[0.6666666666666666,\"#ed7953\"],[0.7777777777777778,\"#fb9f3a\"],[0.8888888888888888,\"#fdca26\"],[1.0,\"#f0f921\"]]}],\"heatmap\":[{\"type\":\"heatmap\",\"colorbar\":{\"outlinewidth\":0,\"ticks\":\"\"},\"colorscale\":[[0.0,\"#0d0887\"],[0.1111111111111111,\"#46039f\"],[0.2222222222222222,\"#7201a8\"],[0.3333333333333333,\"#9c179e\"],[0.4444444444444444,\"#bd3786\"],[0.5555555555555556,\"#d8576b\"],[0.6666666666666666,\"#ed7953\"],[0.7777777777777778,\"#fb9f3a\"],[0.8888888888888888,\"#fdca26\"],[1.0,\"#f0f921\"]]}],\"heatmapgl\":[{\"type\":\"heatmapgl\",\"colorbar\":{\"outlinewidth\":0,\"ticks\":\"\"},\"colorscale\":[[0.0,\"#0d0887\"],[0.1111111111111111,\"#46039f\"],[0.2222222222222222,\"#7201a8\"],[0.3333333333333333,\"#9c179e\"],[0.4444444444444444,\"#bd3786\"],[0.5555555555555556,\"#d8576b\"],[0.6666666666666666,\"#ed7953\"],[0.7777777777777778,\"#fb9f3a\"],[0.8888888888888888,\"#fdca26\"],[1.0,\"#f0f921\"]]}],\"contourcarpet\":[{\"type\":\"contourcarpet\",\"colorbar\":{\"outlinewidth\":0,\"ticks\":\"\"}}],\"contour\":[{\"type\":\"contour\",\"colorbar\":{\"outlinewidth\":0,\"ticks\":\"\"},\"colorscale\":[[0.0,\"#0d0887\"],[0.1111111111111111,\"#46039f\"],[0.2222222222222222,\"#7201a8\"],[0.3333333333333333,\"#9c179e\"],[0.4444444444444444,\"#bd3786\"],[0.5555555555555556,\"#d8576b\"],[0.6666666666666666,\"#ed7953\"],[0.7777777777777778,\"#fb9f3a\"],[0.8888888888888888,\"#fdca26\"],[1.0,\"#f0f921\"]]}],\"surface\":[{\"type\":\"surface\",\"colorbar\":{\"outlinewidth\":0,\"ticks\":\"\"},\"colorscale\":[[0.0,\"#0d0887\"],[0.1111111111111111,\"#46039f\"],[0.2222222222222222,\"#7201a8\"],[0.3333333333333333,\"#9c179e\"],[0.4444444444444444,\"#bd3786\"],[0.5555555555555556,\"#d8576b\"],[0.6666666666666666,\"#ed7953\"],[0.7777777777777778,\"#fb9f3a\"],[0.8888888888888888,\"#fdca26\"],[1.0,\"#f0f921\"]]}],\"mesh3d\":[{\"type\":\"mesh3d\",\"colorbar\":{\"outlinewidth\":0,\"ticks\":\"\"}}],\"scatter\":[{\"fillpattern\":{\"fillmode\":\"overlay\",\"size\":10,\"solidity\":0.2},\"type\":\"scatter\"}],\"parcoords\":[{\"type\":\"parcoords\",\"line\":{\"colorbar\":{\"outlinewidth\":0,\"ticks\":\"\"}}}],\"scatterpolargl\":[{\"type\":\"scatterpolargl\",\"marker\":{\"colorbar\":{\"outlinewidth\":0,\"ticks\":\"\"}}}],\"bar\":[{\"error_x\":{\"color\":\"#2a3f5f\"},\"error_y\":{\"color\":\"#2a3f5f\"},\"marker\":{\"line\":{\"color\":\"#E5ECF6\",\"width\":0.5},\"pattern\":{\"fillmode\":\"overlay\",\"size\":10,\"solidity\":0.2}},\"type\":\"bar\"}],\"scattergeo\":[{\"type\":\"scattergeo\",\"marker\":{\"colorbar\":{\"outlinewidth\":0,\"ticks\":\"\"}}}],\"scatterpolar\":[{\"type\":\"scatterpolar\",\"marker\":{\"colorbar\":{\"outlinewidth\":0,\"ticks\":\"\"}}}],\"histogram\":[{\"marker\":{\"pattern\":{\"fillmode\":\"overlay\",\"size\":10,\"solidity\":0.2}},\"type\":\"histogram\"}],\"scattergl\":[{\"type\":\"scattergl\",\"marker\":{\"colorbar\":{\"outlinewidth\":0,\"ticks\":\"\"}}}],\"scatter3d\":[{\"type\":\"scatter3d\",\"line\":{\"colorbar\":{\"outlinewidth\":0,\"ticks\":\"\"}},\"marker\":{\"colorbar\":{\"outlinewidth\":0,\"ticks\":\"\"}}}],\"scattermapbox\":[{\"type\":\"scattermapbox\",\"marker\":{\"colorbar\":{\"outlinewidth\":0,\"ticks\":\"\"}}}],\"scatterternary\":[{\"type\":\"scatterternary\",\"marker\":{\"colorbar\":{\"outlinewidth\":0,\"ticks\":\"\"}}}],\"scattercarpet\":[{\"type\":\"scattercarpet\",\"marker\":{\"colorbar\":{\"outlinewidth\":0,\"ticks\":\"\"}}}],\"carpet\":[{\"aaxis\":{\"endlinecolor\":\"#2a3f5f\",\"gridcolor\":\"white\",\"linecolor\":\"white\",\"minorgridcolor\":\"white\",\"startlinecolor\":\"#2a3f5f\"},\"baxis\":{\"endlinecolor\":\"#2a3f5f\",\"gridcolor\":\"white\",\"linecolor\":\"white\",\"minorgridcolor\":\"white\",\"startlinecolor\":\"#2a3f5f\"},\"type\":\"carpet\"}],\"table\":[{\"cells\":{\"fill\":{\"color\":\"#EBF0F8\"},\"line\":{\"color\":\"white\"}},\"header\":{\"fill\":{\"color\":\"#C8D4E3\"},\"line\":{\"color\":\"white\"}},\"type\":\"table\"}],\"barpolar\":[{\"marker\":{\"line\":{\"color\":\"#E5ECF6\",\"width\":0.5},\"pattern\":{\"fillmode\":\"overlay\",\"size\":10,\"solidity\":0.2}},\"type\":\"barpolar\"}],\"pie\":[{\"automargin\":true,\"type\":\"pie\"}]},\"layout\":{\"autotypenumbers\":\"strict\",\"colorway\":[\"#636efa\",\"#EF553B\",\"#00cc96\",\"#ab63fa\",\"#FFA15A\",\"#19d3f3\",\"#FF6692\",\"#B6E880\",\"#FF97FF\",\"#FECB52\"],\"font\":{\"color\":\"#2a3f5f\"},\"hovermode\":\"closest\",\"hoverlabel\":{\"align\":\"left\"},\"paper_bgcolor\":\"white\",\"plot_bgcolor\":\"#E5ECF6\",\"polar\":{\"bgcolor\":\"#E5ECF6\",\"angularaxis\":{\"gridcolor\":\"white\",\"linecolor\":\"white\",\"ticks\":\"\"},\"radialaxis\":{\"gridcolor\":\"white\",\"linecolor\":\"white\",\"ticks\":\"\"}},\"ternary\":{\"bgcolor\":\"#E5ECF6\",\"aaxis\":{\"gridcolor\":\"white\",\"linecolor\":\"white\",\"ticks\":\"\"},\"baxis\":{\"gridcolor\":\"white\",\"linecolor\":\"white\",\"ticks\":\"\"},\"caxis\":{\"gridcolor\":\"white\",\"linecolor\":\"white\",\"ticks\":\"\"}},\"coloraxis\":{\"colorbar\":{\"outlinewidth\":0,\"ticks\":\"\"}},\"colorscale\":{\"sequential\":[[0.0,\"#0d0887\"],[0.1111111111111111,\"#46039f\"],[0.2222222222222222,\"#7201a8\"],[0.3333333333333333,\"#9c179e\"],[0.4444444444444444,\"#bd3786\"],[0.5555555555555556,\"#d8576b\"],[0.6666666666666666,\"#ed7953\"],[0.7777777777777778,\"#fb9f3a\"],[0.8888888888888888,\"#fdca26\"],[1.0,\"#f0f921\"]],\"sequentialminus\":[[0.0,\"#0d0887\"],[0.1111111111111111,\"#46039f\"],[0.2222222222222222,\"#7201a8\"],[0.3333333333333333,\"#9c179e\"],[0.4444444444444444,\"#bd3786\"],[0.5555555555555556,\"#d8576b\"],[0.6666666666666666,\"#ed7953\"],[0.7777777777777778,\"#fb9f3a\"],[0.8888888888888888,\"#fdca26\"],[1.0,\"#f0f921\"]],\"diverging\":[[0,\"#8e0152\"],[0.1,\"#c51b7d\"],[0.2,\"#de77ae\"],[0.3,\"#f1b6da\"],[0.4,\"#fde0ef\"],[0.5,\"#f7f7f7\"],[0.6,\"#e6f5d0\"],[0.7,\"#b8e186\"],[0.8,\"#7fbc41\"],[0.9,\"#4d9221\"],[1,\"#276419\"]]},\"xaxis\":{\"gridcolor\":\"white\",\"linecolor\":\"white\",\"ticks\":\"\",\"title\":{\"standoff\":15},\"zerolinecolor\":\"white\",\"automargin\":true,\"zerolinewidth\":2},\"yaxis\":{\"gridcolor\":\"white\",\"linecolor\":\"white\",\"ticks\":\"\",\"title\":{\"standoff\":15},\"zerolinecolor\":\"white\",\"automargin\":true,\"zerolinewidth\":2},\"scene\":{\"xaxis\":{\"backgroundcolor\":\"#E5ECF6\",\"gridcolor\":\"white\",\"linecolor\":\"white\",\"showbackground\":true,\"ticks\":\"\",\"zerolinecolor\":\"white\",\"gridwidth\":2},\"yaxis\":{\"backgroundcolor\":\"#E5ECF6\",\"gridcolor\":\"white\",\"linecolor\":\"white\",\"showbackground\":true,\"ticks\":\"\",\"zerolinecolor\":\"white\",\"gridwidth\":2},\"zaxis\":{\"backgroundcolor\":\"#E5ECF6\",\"gridcolor\":\"white\",\"linecolor\":\"white\",\"showbackground\":true,\"ticks\":\"\",\"zerolinecolor\":\"white\",\"gridwidth\":2}},\"shapedefaults\":{\"line\":{\"color\":\"#2a3f5f\"}},\"annotationdefaults\":{\"arrowcolor\":\"#2a3f5f\",\"arrowhead\":0,\"arrowwidth\":1},\"geo\":{\"bgcolor\":\"white\",\"landcolor\":\"#E5ECF6\",\"subunitcolor\":\"white\",\"showland\":true,\"showlakes\":true,\"lakecolor\":\"white\"},\"title\":{\"x\":0.05},\"mapbox\":{\"style\":\"light\"}}},\"xaxis\":{\"anchor\":\"y\",\"domain\":[0.0,1.0],\"type\":\"date\"},\"yaxis\":{\"anchor\":\"x\",\"domain\":[0.0,1.0],\"title\":{\"text\":\"Driver\"},\"categoryorder\":\"array\",\"categoryarray\":[\"GAS\",\"RUS\",\"STR\",\"VER\",\"LEC\",\"PER\",\"HUL\",\"HAM\",\"ALO\",\"TSU\",\"SAR\",\"ZHO\",\"SAI\",\"ALB\",\"BOT\",\"OCO\",\"RIC\",\"MAG\",\"NOR\"]},\"legend\":{\"title\":{\"text\":\"Driver\"},\"tracegroupgap\":0},\"margin\":{\"t\":60},\"barmode\":\"overlay\",\"showlegend\":false,\"title\":{\"font\":{\"family\":\"Arial, sans-serif\",\"size\":30},\"text\":\"<b>Pit Strategy</b>\",\"x\":0.5}},                        {\"responsive\": true}                    ).then(function(){\n",
       "                            \n",
       "var gd = document.getElementById('d8c33113-78bf-4a87-8134-8247f1de6748');\n",
       "var x = new MutationObserver(function (mutations, observer) {{\n",
       "        var display = window.getComputedStyle(gd).display;\n",
       "        if (!display || display === 'none') {{\n",
       "            console.log([gd, 'removed!']);\n",
       "            Plotly.purge(gd);\n",
       "            observer.disconnect();\n",
       "        }}\n",
       "}});\n",
       "\n",
       "// Listen for the removal of the full notebook cells\n",
       "var notebookContainer = gd.closest('#notebook-container');\n",
       "if (notebookContainer) {{\n",
       "    x.observe(notebookContainer, {childList: true});\n",
       "}}\n",
       "\n",
       "// Listen for the clearing of the current output cell\n",
       "var outputEl = gd.closest('.output');\n",
       "if (outputEl) {{\n",
       "    x.observe(outputEl, {childList: true});\n",
       "}}\n",
       "\n",
       "                        })                };                });            </script>        </div>"
      ]
     },
     "metadata": {},
     "output_type": "display_data"
    }
   ],
   "source": [
    "if not pit_stop_emp:\n",
    "    fig = px.timeline(pit_stops[pit_stops['red_flag'] == 0], x_start=\"time_date\", x_end=\"time_end_date\", y=\"Driver\", color='Driver', color_discrete_map=color_map)\n",
    "    fig.update_layout(showlegend=False)\n",
    "    fig.update_layout(title_text='<b>Pit Strategy</b>', titlefont = dict(\n",
    "         family = 'Arial, sans-serif',\n",
    "         size = 30\n",
    "      ), title_x=0.5)\n",
    "    fig.show()\n",
    "else:\n",
    "    display(md(f\"<h1 style='background:#FFF200;border:0; color:black;box-shadow: 10px 10px 5px 0px rgba(0,0,0,0.75);transform: rotateX(10deg);'><center style='color: black;'>No Pit Data Available From API</center></h1>\"))"
   ]
  },
  {
   "cell_type": "code",
   "execution_count": 24,
   "id": "61e0e108",
   "metadata": {
    "_kg_hide-input": true,
    "execution": {
     "iopub.execute_input": "2023-08-05T01:22:28.975341Z",
     "iopub.status.busy": "2023-08-05T01:22:28.974619Z",
     "iopub.status.idle": "2023-08-05T01:22:28.985072Z",
     "shell.execute_reply": "2023-08-05T01:22:28.983492Z"
    },
    "papermill": {
     "duration": 0.037204,
     "end_time": "2023-08-05T01:22:28.988083",
     "exception": false,
     "start_time": "2023-08-05T01:22:28.950879",
     "status": "completed"
    },
    "tags": []
   },
   "outputs": [],
   "source": [
    "#Red Flags\n",
    "if pit_stop_emp:\n",
    "    display(md(f\"<h1 style='background:#FFF200;border:0; color:black;box-shadow: 10px 10px 5px 0px rgba(0,0,0,0.75);transform: rotateX(10deg);'><center style='color: black;'>No Pit Data Available From API</center></h1>\"))\n",
    "elif not pit_stops[pit_stops['red_flag'] == 1].empty:\n",
    "    fig = px.timeline(pit_stops[pit_stops['red_flag'] == 1], x_start=\"time_date\", x_end=\"time_end_date\", y=\"Driver\", color='Driver', color_discrete_map=color_map)\n",
    "    fig.update_layout(showlegend=False)\n",
    "    fig.update_layout(title_text='<b>Red Flag Stops</b>', titlefont = dict(\n",
    "         family = 'Arial, sans-serif',\n",
    "         size = 30\n",
    "      ), title_x=0.5)\n",
    "    fig.show()"
   ]
  },
  {
   "cell_type": "code",
   "execution_count": 25,
   "id": "943ed511",
   "metadata": {
    "_kg_hide-input": true,
    "execution": {
     "iopub.execute_input": "2023-08-05T01:22:29.036164Z",
     "iopub.status.busy": "2023-08-05T01:22:29.035691Z",
     "iopub.status.idle": "2023-08-05T01:22:29.090030Z",
     "shell.execute_reply": "2023-08-05T01:22:29.088640Z"
    },
    "papermill": {
     "duration": 0.082935,
     "end_time": "2023-08-05T01:22:29.093181",
     "exception": false,
     "start_time": "2023-08-05T01:22:29.010246",
     "status": "completed"
    },
    "tags": []
   },
   "outputs": [
    {
     "data": {
      "text/html": [
       "<div>                            <div id=\"ca8a333c-ec87-4081-bf8b-ded88bdd7126\" class=\"plotly-graph-div\" style=\"height:525px; width:100%;\"></div>            <script type=\"text/javascript\">                require([\"plotly\"], function(Plotly) {                    window.PLOTLYENV=window.PLOTLYENV || {};                                    if (document.getElementById(\"ca8a333c-ec87-4081-bf8b-ded88bdd7126\")) {                    Plotly.newPlot(                        \"ca8a333c-ec87-4081-bf8b-ded88bdd7126\",                        [{\"name\":\"Max Pit\",\"x\":[\"ALB\",\"ALO\",\"BOT\",\"GAS\",\"HAM\",\"HUL\",\"LEC\",\"MAG\",\"NOR\",\"OCO\",\"PER\",\"RIC\",\"RUS\",\"SAI\",\"SAR\",\"STR\",\"TSU\",\"VER\",\"ZHO\"],\"y\":[22.737,23.012,23.156,23.224,23.29,23.303,23.339,23.638,23.684,23.786,23.798,23.837,23.938,24.449,25.012,25.015,25.238,25.397,25.664],\"type\":\"bar\"},{\"name\":\"Avg PIt\",\"x\":[\"ALB\",\"ALO\",\"BOT\",\"GAS\",\"HAM\",\"HUL\",\"LEC\",\"MAG\",\"NOR\",\"OCO\",\"PER\",\"RIC\",\"RUS\",\"SAI\",\"SAR\",\"STR\",\"TSU\",\"VER\",\"ZHO\"],\"y\":[22.673499999999997,22.9495,23.08966666666667,23.186,23.066499999999998,23.303,23.212,23.605,23.197000000000003,23.573999999999998,23.441499999999998,23.837,23.539,24.247,24.378,24.046666666666667,24.9045,25.397,25.664],\"type\":\"bar\"},{\"name\":\"Min PIt\",\"x\":[\"ALB\",\"ALO\",\"BOT\",\"GAS\",\"HAM\",\"HUL\",\"LEC\",\"MAG\",\"NOR\",\"OCO\",\"PER\",\"RIC\",\"RUS\",\"SAI\",\"SAR\",\"STR\",\"TSU\",\"VER\",\"ZHO\"],\"y\":[22.61,22.887,23.023,23.148,22.843,23.303,23.085,23.572,22.71,23.362,23.085,23.837,23.109,24.045,23.744,23.529,24.571,25.397,25.664],\"type\":\"bar\"}],                        {\"barmode\":\"overlay\",\"template\":{\"data\":{\"barpolar\":[{\"marker\":{\"line\":{\"color\":\"#E5ECF6\",\"width\":0.5},\"pattern\":{\"fillmode\":\"overlay\",\"size\":10,\"solidity\":0.2}},\"type\":\"barpolar\"}],\"bar\":[{\"error_x\":{\"color\":\"#2a3f5f\"},\"error_y\":{\"color\":\"#2a3f5f\"},\"marker\":{\"line\":{\"color\":\"#E5ECF6\",\"width\":0.5},\"pattern\":{\"fillmode\":\"overlay\",\"size\":10,\"solidity\":0.2}},\"type\":\"bar\"}],\"carpet\":[{\"aaxis\":{\"endlinecolor\":\"#2a3f5f\",\"gridcolor\":\"white\",\"linecolor\":\"white\",\"minorgridcolor\":\"white\",\"startlinecolor\":\"#2a3f5f\"},\"baxis\":{\"endlinecolor\":\"#2a3f5f\",\"gridcolor\":\"white\",\"linecolor\":\"white\",\"minorgridcolor\":\"white\",\"startlinecolor\":\"#2a3f5f\"},\"type\":\"carpet\"}],\"choropleth\":[{\"colorbar\":{\"outlinewidth\":0,\"ticks\":\"\"},\"type\":\"choropleth\"}],\"contourcarpet\":[{\"colorbar\":{\"outlinewidth\":0,\"ticks\":\"\"},\"type\":\"contourcarpet\"}],\"contour\":[{\"colorbar\":{\"outlinewidth\":0,\"ticks\":\"\"},\"colorscale\":[[0.0,\"#0d0887\"],[0.1111111111111111,\"#46039f\"],[0.2222222222222222,\"#7201a8\"],[0.3333333333333333,\"#9c179e\"],[0.4444444444444444,\"#bd3786\"],[0.5555555555555556,\"#d8576b\"],[0.6666666666666666,\"#ed7953\"],[0.7777777777777778,\"#fb9f3a\"],[0.8888888888888888,\"#fdca26\"],[1.0,\"#f0f921\"]],\"type\":\"contour\"}],\"heatmapgl\":[{\"colorbar\":{\"outlinewidth\":0,\"ticks\":\"\"},\"colorscale\":[[0.0,\"#0d0887\"],[0.1111111111111111,\"#46039f\"],[0.2222222222222222,\"#7201a8\"],[0.3333333333333333,\"#9c179e\"],[0.4444444444444444,\"#bd3786\"],[0.5555555555555556,\"#d8576b\"],[0.6666666666666666,\"#ed7953\"],[0.7777777777777778,\"#fb9f3a\"],[0.8888888888888888,\"#fdca26\"],[1.0,\"#f0f921\"]],\"type\":\"heatmapgl\"}],\"heatmap\":[{\"colorbar\":{\"outlinewidth\":0,\"ticks\":\"\"},\"colorscale\":[[0.0,\"#0d0887\"],[0.1111111111111111,\"#46039f\"],[0.2222222222222222,\"#7201a8\"],[0.3333333333333333,\"#9c179e\"],[0.4444444444444444,\"#bd3786\"],[0.5555555555555556,\"#d8576b\"],[0.6666666666666666,\"#ed7953\"],[0.7777777777777778,\"#fb9f3a\"],[0.8888888888888888,\"#fdca26\"],[1.0,\"#f0f921\"]],\"type\":\"heatmap\"}],\"histogram2dcontour\":[{\"colorbar\":{\"outlinewidth\":0,\"ticks\":\"\"},\"colorscale\":[[0.0,\"#0d0887\"],[0.1111111111111111,\"#46039f\"],[0.2222222222222222,\"#7201a8\"],[0.3333333333333333,\"#9c179e\"],[0.4444444444444444,\"#bd3786\"],[0.5555555555555556,\"#d8576b\"],[0.6666666666666666,\"#ed7953\"],[0.7777777777777778,\"#fb9f3a\"],[0.8888888888888888,\"#fdca26\"],[1.0,\"#f0f921\"]],\"type\":\"histogram2dcontour\"}],\"histogram2d\":[{\"colorbar\":{\"outlinewidth\":0,\"ticks\":\"\"},\"colorscale\":[[0.0,\"#0d0887\"],[0.1111111111111111,\"#46039f\"],[0.2222222222222222,\"#7201a8\"],[0.3333333333333333,\"#9c179e\"],[0.4444444444444444,\"#bd3786\"],[0.5555555555555556,\"#d8576b\"],[0.6666666666666666,\"#ed7953\"],[0.7777777777777778,\"#fb9f3a\"],[0.8888888888888888,\"#fdca26\"],[1.0,\"#f0f921\"]],\"type\":\"histogram2d\"}],\"histogram\":[{\"marker\":{\"pattern\":{\"fillmode\":\"overlay\",\"size\":10,\"solidity\":0.2}},\"type\":\"histogram\"}],\"mesh3d\":[{\"colorbar\":{\"outlinewidth\":0,\"ticks\":\"\"},\"type\":\"mesh3d\"}],\"parcoords\":[{\"line\":{\"colorbar\":{\"outlinewidth\":0,\"ticks\":\"\"}},\"type\":\"parcoords\"}],\"pie\":[{\"automargin\":true,\"type\":\"pie\"}],\"scatter3d\":[{\"line\":{\"colorbar\":{\"outlinewidth\":0,\"ticks\":\"\"}},\"marker\":{\"colorbar\":{\"outlinewidth\":0,\"ticks\":\"\"}},\"type\":\"scatter3d\"}],\"scattercarpet\":[{\"marker\":{\"colorbar\":{\"outlinewidth\":0,\"ticks\":\"\"}},\"type\":\"scattercarpet\"}],\"scattergeo\":[{\"marker\":{\"colorbar\":{\"outlinewidth\":0,\"ticks\":\"\"}},\"type\":\"scattergeo\"}],\"scattergl\":[{\"marker\":{\"colorbar\":{\"outlinewidth\":0,\"ticks\":\"\"}},\"type\":\"scattergl\"}],\"scattermapbox\":[{\"marker\":{\"colorbar\":{\"outlinewidth\":0,\"ticks\":\"\"}},\"type\":\"scattermapbox\"}],\"scatterpolargl\":[{\"marker\":{\"colorbar\":{\"outlinewidth\":0,\"ticks\":\"\"}},\"type\":\"scatterpolargl\"}],\"scatterpolar\":[{\"marker\":{\"colorbar\":{\"outlinewidth\":0,\"ticks\":\"\"}},\"type\":\"scatterpolar\"}],\"scatter\":[{\"fillpattern\":{\"fillmode\":\"overlay\",\"size\":10,\"solidity\":0.2},\"type\":\"scatter\"}],\"scatterternary\":[{\"marker\":{\"colorbar\":{\"outlinewidth\":0,\"ticks\":\"\"}},\"type\":\"scatterternary\"}],\"surface\":[{\"colorbar\":{\"outlinewidth\":0,\"ticks\":\"\"},\"colorscale\":[[0.0,\"#0d0887\"],[0.1111111111111111,\"#46039f\"],[0.2222222222222222,\"#7201a8\"],[0.3333333333333333,\"#9c179e\"],[0.4444444444444444,\"#bd3786\"],[0.5555555555555556,\"#d8576b\"],[0.6666666666666666,\"#ed7953\"],[0.7777777777777778,\"#fb9f3a\"],[0.8888888888888888,\"#fdca26\"],[1.0,\"#f0f921\"]],\"type\":\"surface\"}],\"table\":[{\"cells\":{\"fill\":{\"color\":\"#EBF0F8\"},\"line\":{\"color\":\"white\"}},\"header\":{\"fill\":{\"color\":\"#C8D4E3\"},\"line\":{\"color\":\"white\"}},\"type\":\"table\"}]},\"layout\":{\"annotationdefaults\":{\"arrowcolor\":\"#2a3f5f\",\"arrowhead\":0,\"arrowwidth\":1},\"autotypenumbers\":\"strict\",\"coloraxis\":{\"colorbar\":{\"outlinewidth\":0,\"ticks\":\"\"}},\"colorscale\":{\"diverging\":[[0,\"#8e0152\"],[0.1,\"#c51b7d\"],[0.2,\"#de77ae\"],[0.3,\"#f1b6da\"],[0.4,\"#fde0ef\"],[0.5,\"#f7f7f7\"],[0.6,\"#e6f5d0\"],[0.7,\"#b8e186\"],[0.8,\"#7fbc41\"],[0.9,\"#4d9221\"],[1,\"#276419\"]],\"sequential\":[[0.0,\"#0d0887\"],[0.1111111111111111,\"#46039f\"],[0.2222222222222222,\"#7201a8\"],[0.3333333333333333,\"#9c179e\"],[0.4444444444444444,\"#bd3786\"],[0.5555555555555556,\"#d8576b\"],[0.6666666666666666,\"#ed7953\"],[0.7777777777777778,\"#fb9f3a\"],[0.8888888888888888,\"#fdca26\"],[1.0,\"#f0f921\"]],\"sequentialminus\":[[0.0,\"#0d0887\"],[0.1111111111111111,\"#46039f\"],[0.2222222222222222,\"#7201a8\"],[0.3333333333333333,\"#9c179e\"],[0.4444444444444444,\"#bd3786\"],[0.5555555555555556,\"#d8576b\"],[0.6666666666666666,\"#ed7953\"],[0.7777777777777778,\"#fb9f3a\"],[0.8888888888888888,\"#fdca26\"],[1.0,\"#f0f921\"]]},\"colorway\":[\"#636efa\",\"#EF553B\",\"#00cc96\",\"#ab63fa\",\"#FFA15A\",\"#19d3f3\",\"#FF6692\",\"#B6E880\",\"#FF97FF\",\"#FECB52\"],\"font\":{\"color\":\"#2a3f5f\"},\"geo\":{\"bgcolor\":\"white\",\"lakecolor\":\"white\",\"landcolor\":\"#E5ECF6\",\"showlakes\":true,\"showland\":true,\"subunitcolor\":\"white\"},\"hoverlabel\":{\"align\":\"left\"},\"hovermode\":\"closest\",\"mapbox\":{\"style\":\"light\"},\"paper_bgcolor\":\"white\",\"plot_bgcolor\":\"#E5ECF6\",\"polar\":{\"angularaxis\":{\"gridcolor\":\"white\",\"linecolor\":\"white\",\"ticks\":\"\"},\"bgcolor\":\"#E5ECF6\",\"radialaxis\":{\"gridcolor\":\"white\",\"linecolor\":\"white\",\"ticks\":\"\"}},\"scene\":{\"xaxis\":{\"backgroundcolor\":\"#E5ECF6\",\"gridcolor\":\"white\",\"gridwidth\":2,\"linecolor\":\"white\",\"showbackground\":true,\"ticks\":\"\",\"zerolinecolor\":\"white\"},\"yaxis\":{\"backgroundcolor\":\"#E5ECF6\",\"gridcolor\":\"white\",\"gridwidth\":2,\"linecolor\":\"white\",\"showbackground\":true,\"ticks\":\"\",\"zerolinecolor\":\"white\"},\"zaxis\":{\"backgroundcolor\":\"#E5ECF6\",\"gridcolor\":\"white\",\"gridwidth\":2,\"linecolor\":\"white\",\"showbackground\":true,\"ticks\":\"\",\"zerolinecolor\":\"white\"}},\"shapedefaults\":{\"line\":{\"color\":\"#2a3f5f\"}},\"ternary\":{\"aaxis\":{\"gridcolor\":\"white\",\"linecolor\":\"white\",\"ticks\":\"\"},\"baxis\":{\"gridcolor\":\"white\",\"linecolor\":\"white\",\"ticks\":\"\"},\"bgcolor\":\"#E5ECF6\",\"caxis\":{\"gridcolor\":\"white\",\"linecolor\":\"white\",\"ticks\":\"\"}},\"title\":{\"x\":0.05},\"xaxis\":{\"automargin\":true,\"gridcolor\":\"white\",\"linecolor\":\"white\",\"ticks\":\"\",\"title\":{\"standoff\":15},\"zerolinecolor\":\"white\",\"zerolinewidth\":2},\"yaxis\":{\"automargin\":true,\"gridcolor\":\"white\",\"linecolor\":\"white\",\"ticks\":\"\",\"title\":{\"standoff\":15},\"zerolinecolor\":\"white\",\"zerolinewidth\":2}}},\"title\":{\"font\":{\"family\":\"Arial, sans-serif\",\"size\":30},\"text\":\"<b>Pit Stop Times</b>\",\"x\":0.5},\"yaxis\":{\"range\":[21.61,26.664]}},                        {\"responsive\": true}                    ).then(function(){\n",
       "                            \n",
       "var gd = document.getElementById('ca8a333c-ec87-4081-bf8b-ded88bdd7126');\n",
       "var x = new MutationObserver(function (mutations, observer) {{\n",
       "        var display = window.getComputedStyle(gd).display;\n",
       "        if (!display || display === 'none') {{\n",
       "            console.log([gd, 'removed!']);\n",
       "            Plotly.purge(gd);\n",
       "            observer.disconnect();\n",
       "        }}\n",
       "}});\n",
       "\n",
       "// Listen for the removal of the full notebook cells\n",
       "var notebookContainer = gd.closest('#notebook-container');\n",
       "if (notebookContainer) {{\n",
       "    x.observe(notebookContainer, {childList: true});\n",
       "}}\n",
       "\n",
       "// Listen for the clearing of the current output cell\n",
       "var outputEl = gd.closest('.output');\n",
       "if (outputEl) {{\n",
       "    x.observe(outputEl, {childList: true});\n",
       "}}\n",
       "\n",
       "                        })                };                });            </script>        </div>"
      ]
     },
     "metadata": {},
     "output_type": "display_data"
    }
   ],
   "source": [
    "if not pit_stop_emp:\n",
    "    max_pit = max(driver_group['max']) + 1\n",
    "    min_pit = min(driver_group['min']) - 1\n",
    "\n",
    "    data = [\n",
    "    go.Bar(y=driver_group['max'], x=driver_group.Driver, name='Max Pit',  \n",
    "            #base=0\n",
    "           ),\n",
    "    go.Bar(y=driver_group['mean'], x=driver_group.Driver, name='Avg PIt'),\n",
    "    go.Bar(y=driver_group['min'], x=driver_group.Driver, name='Min PIt')]\n",
    "\n",
    "    layout = go.Layout(\n",
    "    barmode='overlay',\n",
    "    title=\"Pit Times\",\n",
    "    title_text='<b>Pit Stop Times</b>', titlefont = dict(\n",
    "         family = 'Arial, sans-serif',\n",
    "         size = 30\n",
    "      ), title_x=0.5\n",
    "    )\n",
    "\n",
    "    fig = dict(data = data, layout = layout, layout_yaxis_range=[min_pit, max_pit])\n",
    "    \n",
    "    iplot(fig, show_link=False)"
   ]
  },
  {
   "cell_type": "code",
   "execution_count": 26,
   "id": "b7e3cf81",
   "metadata": {
    "_kg_hide-input": true,
    "execution": {
     "iopub.execute_input": "2023-08-05T01:22:29.142581Z",
     "iopub.status.busy": "2023-08-05T01:22:29.142049Z",
     "iopub.status.idle": "2023-08-05T01:22:29.150764Z",
     "shell.execute_reply": "2023-08-05T01:22:29.149332Z"
    },
    "papermill": {
     "duration": 0.037865,
     "end_time": "2023-08-05T01:22:29.153498",
     "exception": false,
     "start_time": "2023-08-05T01:22:29.115633",
     "status": "completed"
    },
    "tags": []
   },
   "outputs": [
    {
     "data": {
      "text/markdown": [
       "# <div style='background:#FF1801; border:0; color:black; box-shadow: 10px 10px 5px 0px rgba(0,0,0,0.75); transform: rotateX(10deg);'><h1 style='padding: 10px; margin: 0; text-align:center;'><span style='font-size: 30px;'>Lap Results</span></h1></div>"
      ],
      "text/plain": [
       "<IPython.core.display.Markdown object>"
      ]
     },
     "metadata": {},
     "output_type": "display_data"
    }
   ],
   "source": [
    "display(md(f\"# <div style='background:#FF1801; border:0; color:black; box-shadow: 10px 10px 5px 0px rgba(0,0,0,0.75); transform: rotateX(10deg);'><h1 style='padding: 10px; margin: 0; text-align:center;'><span style='font-size: 30px;'>Lap Results</span></h1></div>\"))"
   ]
  },
  {
   "cell_type": "code",
   "execution_count": 27,
   "id": "ec7a318b",
   "metadata": {
    "_kg_hide-input": true,
    "execution": {
     "iopub.execute_input": "2023-08-05T01:22:29.200538Z",
     "iopub.status.busy": "2023-08-05T01:22:29.199990Z",
     "iopub.status.idle": "2023-08-05T01:22:29.402754Z",
     "shell.execute_reply": "2023-08-05T01:22:29.401077Z"
    },
    "papermill": {
     "duration": 0.230598,
     "end_time": "2023-08-05T01:22:29.406461",
     "exception": false,
     "start_time": "2023-08-05T01:22:29.175863",
     "status": "completed"
    },
    "tags": []
   },
   "outputs": [
    {
     "data": {
      "text/html": [
       "<div>                            <div id=\"b901b393-7783-42c3-af38-4437061da6c4\" class=\"plotly-graph-div\" style=\"height:525px; width:100%;\"></div>            <script type=\"text/javascript\">                require([\"plotly\"], function(Plotly) {                    window.PLOTLYENV=window.PLOTLYENV || {};                                    if (document.getElementById(\"b901b393-7783-42c3-af38-4437061da6c4\")) {                    Plotly.newPlot(                        \"b901b393-7783-42c3-af38-4437061da6c4\",                        [{\"alignmentgroup\":\"True\",\"boxpoints\":false,\"hovertemplate\":\"Driver=%{y}<br>Duration (Seconds, Outliers/Red Flags, Removed)=%{x}<extra></extra>\",\"legendgroup\":\"PER\",\"marker\":{\"color\":\"#000B8D\"},\"name\":\"PER\",\"notched\":false,\"offsetgroup\":\"PER\",\"orientation\":\"h\",\"showlegend\":true,\"x\":[113.295,112.166,112.15299999999999,112.336,112.572,112.46600000000001,112.52000000000001,112.305,112.465,112.72,112.644,112.973,117.632,111.62100000000001,111.416,112.175,112.289,113.525,115.459,115.44800000000001,116.286,113.36099999999999,111.71600000000001,111.69200000000001,111.89099999999999,112.199,112.162,116.72399999999999,110.30799999999999,111.184,111.44,111.387,110.827,111.082,111.10300000000001,111.42,111.11699999999999,111.318,110.935,111.24000000000001,110.911,111.50800000000001],\"x0\":\" \",\"xaxis\":\"x\",\"y\":[\"PER\",\"PER\",\"PER\",\"PER\",\"PER\",\"PER\",\"PER\",\"PER\",\"PER\",\"PER\",\"PER\",\"PER\",\"PER\",\"PER\",\"PER\",\"PER\",\"PER\",\"PER\",\"PER\",\"PER\",\"PER\",\"PER\",\"PER\",\"PER\",\"PER\",\"PER\",\"PER\",\"PER\",\"PER\",\"PER\",\"PER\",\"PER\",\"PER\",\"PER\",\"PER\",\"PER\",\"PER\",\"PER\",\"PER\",\"PER\",\"PER\",\"PER\"],\"y0\":\" \",\"yaxis\":\"y\",\"type\":\"box\"},{\"alignmentgroup\":\"True\",\"boxpoints\":false,\"hovertemplate\":\"Driver=%{y}<br>Duration (Seconds, Outliers/Red Flags, Removed)=%{x}<extra></extra>\",\"legendgroup\":\"LEC\",\"marker\":{\"color\":\"#EF1A2D\"},\"name\":\"LEC\",\"notched\":false,\"offsetgroup\":\"LEC\",\"orientation\":\"h\",\"showlegend\":true,\"x\":[114.584,112.839,112.292,112.479,112.575,112.684,112.763,112.64099999999999,113.60300000000001,113.559,113.232,113.523,117.485,111.88,112.064,112.243,112.168,112.868,115.838,115.90100000000001,116.499,113.58500000000001,111.81,111.717,111.75,111.86500000000001,115.953,110.436,110.90299999999999,111.681,111.189,110.726,111.267,111.143,111.298,111.312,110.919,111.833,112.25200000000001,111.419,112.44200000000001,113.706],\"x0\":\" \",\"xaxis\":\"x\",\"y\":[\"LEC\",\"LEC\",\"LEC\",\"LEC\",\"LEC\",\"LEC\",\"LEC\",\"LEC\",\"LEC\",\"LEC\",\"LEC\",\"LEC\",\"LEC\",\"LEC\",\"LEC\",\"LEC\",\"LEC\",\"LEC\",\"LEC\",\"LEC\",\"LEC\",\"LEC\",\"LEC\",\"LEC\",\"LEC\",\"LEC\",\"LEC\",\"LEC\",\"LEC\",\"LEC\",\"LEC\",\"LEC\",\"LEC\",\"LEC\",\"LEC\",\"LEC\",\"LEC\",\"LEC\",\"LEC\",\"LEC\",\"LEC\",\"LEC\"],\"y0\":\" \",\"yaxis\":\"y\",\"type\":\"box\"},{\"alignmentgroup\":\"True\",\"boxpoints\":false,\"hovertemplate\":\"Driver=%{y}<br>Duration (Seconds, Outliers/Red Flags, Removed)=%{x}<extra></extra>\",\"legendgroup\":\"HAM\",\"marker\":{\"color\":\"#00A19B\"},\"name\":\"HAM\",\"notched\":false,\"offsetgroup\":\"HAM\",\"orientation\":\"h\",\"showlegend\":true,\"x\":[115.21000000000001,113.02000000000001,112.45400000000001,112.506,112.717,113.813,113.43,113.27600000000001,113.47200000000001,113.381,114.07300000000001,111.523,112.126,112.215,112.42099999999999,112.76400000000001,112.953,115.10499999999999,116.30199999999999,116.499,112.29599999999999,111.99799999999999,112.191,112.36,116.092,110.283,110.923,111.134,110.935,111.136,111.05,111.65,111.22399999999999,111.428,111.10900000000001,111.408,112.166,111.79599999999999,115.22,107.305],\"x0\":\" \",\"xaxis\":\"x\",\"y\":[\"HAM\",\"HAM\",\"HAM\",\"HAM\",\"HAM\",\"HAM\",\"HAM\",\"HAM\",\"HAM\",\"HAM\",\"HAM\",\"HAM\",\"HAM\",\"HAM\",\"HAM\",\"HAM\",\"HAM\",\"HAM\",\"HAM\",\"HAM\",\"HAM\",\"HAM\",\"HAM\",\"HAM\",\"HAM\",\"HAM\",\"HAM\",\"HAM\",\"HAM\",\"HAM\",\"HAM\",\"HAM\",\"HAM\",\"HAM\",\"HAM\",\"HAM\",\"HAM\",\"HAM\",\"HAM\",\"HAM\"],\"y0\":\" \",\"yaxis\":\"y\",\"type\":\"box\"},{\"alignmentgroup\":\"True\",\"boxpoints\":false,\"hovertemplate\":\"Driver=%{y}<br>Duration (Seconds, Outliers/Red Flags, Removed)=%{x}<extra></extra>\",\"legendgroup\":\"VER\",\"marker\":{\"color\":\"#000B8D\"},\"name\":\"VER\",\"notched\":false,\"offsetgroup\":\"VER\",\"orientation\":\"h\",\"showlegend\":true,\"x\":[115.65899999999999,113.10300000000001,112.277,112.789,112.602,112.13,112.41499999999999,112.47200000000001,111.88,112.455,112.613,112.714,112.962,117.166,110.696,110.108,111.637,111.956,115.733,114.91499999999999,115.325,112.905,110.99600000000001,111.106,111.37700000000001,111.47200000000001,111.41,111.595,115.882,108.922,110.586,110.792,110.408,110.362,110.31700000000001,110.14699999999999,110.113,110.06700000000001,109.95400000000001,110.187,110.095,110.57900000000001],\"x0\":\" \",\"xaxis\":\"x\",\"y\":[\"VER\",\"VER\",\"VER\",\"VER\",\"VER\",\"VER\",\"VER\",\"VER\",\"VER\",\"VER\",\"VER\",\"VER\",\"VER\",\"VER\",\"VER\",\"VER\",\"VER\",\"VER\",\"VER\",\"VER\",\"VER\",\"VER\",\"VER\",\"VER\",\"VER\",\"VER\",\"VER\",\"VER\",\"VER\",\"VER\",\"VER\",\"VER\",\"VER\",\"VER\",\"VER\",\"VER\",\"VER\",\"VER\",\"VER\",\"VER\",\"VER\",\"VER\"],\"y0\":\" \",\"yaxis\":\"y\",\"type\":\"box\"},{\"alignmentgroup\":\"True\",\"boxpoints\":false,\"hovertemplate\":\"Driver=%{y}<br>Duration (Seconds, Outliers/Red Flags, Removed)=%{x}<extra></extra>\",\"legendgroup\":\"SAI\",\"marker\":{\"color\":\"#EF1A2D\"},\"name\":\"SAI\",\"notched\":false,\"offsetgroup\":\"SAI\",\"orientation\":\"h\",\"showlegend\":true,\"x\":[114.247,114.718,116.245,116.97399999999999,117.25999999999999,113.138,113.893,115.201,115.119,114.907,115.076,115.834,117.532,116.062,116.221,117.541,116.426],\"x0\":\" \",\"xaxis\":\"x\",\"y\":[\"SAI\",\"SAI\",\"SAI\",\"SAI\",\"SAI\",\"SAI\",\"SAI\",\"SAI\",\"SAI\",\"SAI\",\"SAI\",\"SAI\",\"SAI\",\"SAI\",\"SAI\",\"SAI\",\"SAI\"],\"y0\":\" \",\"yaxis\":\"y\",\"type\":\"box\"},{\"alignmentgroup\":\"True\",\"boxpoints\":false,\"hovertemplate\":\"Driver=%{y}<br>Duration (Seconds, Outliers/Red Flags, Removed)=%{x}<extra></extra>\",\"legendgroup\":\"ALO\",\"marker\":{\"color\":\"#002420\"},\"name\":\"ALO\",\"notched\":false,\"offsetgroup\":\"ALO\",\"orientation\":\"h\",\"showlegend\":true,\"x\":[114.343,114.58500000000001,113.39500000000001,113.596,113.643,113.455,113.58500000000001,113.456,111.94200000000001,112.499,111.886,113.029,112.63499999999999,112.886,112.812,113.374,115.606,116.20400000000001,116.90899999999999,114.11,112.249,112.717,112.187,112.505,112.928,112.098,111.756,110.955,111.834,111.967,111.666,111.505,111.44200000000001,111.214,111.279,111.326,110.938,111.351,111.55199999999999],\"x0\":\" \",\"xaxis\":\"x\",\"y\":[\"ALO\",\"ALO\",\"ALO\",\"ALO\",\"ALO\",\"ALO\",\"ALO\",\"ALO\",\"ALO\",\"ALO\",\"ALO\",\"ALO\",\"ALO\",\"ALO\",\"ALO\",\"ALO\",\"ALO\",\"ALO\",\"ALO\",\"ALO\",\"ALO\",\"ALO\",\"ALO\",\"ALO\",\"ALO\",\"ALO\",\"ALO\",\"ALO\",\"ALO\",\"ALO\",\"ALO\",\"ALO\",\"ALO\",\"ALO\",\"ALO\",\"ALO\",\"ALO\",\"ALO\",\"ALO\"],\"y0\":\" \",\"yaxis\":\"y\",\"type\":\"box\"},{\"alignmentgroup\":\"True\",\"boxpoints\":false,\"hovertemplate\":\"Driver=%{y}<br>Duration (Seconds, Outliers/Red Flags, Removed)=%{x}<extra></extra>\",\"legendgroup\":\"NOR\",\"marker\":{\"color\":\"#FF8000\"},\"name\":\"NOR\",\"notched\":false,\"offsetgroup\":\"NOR\",\"orientation\":\"h\",\"showlegend\":true,\"x\":[114.92099999999999,114.717,116.661,113.072,113.812,113.209,114.59899999999999,113.289,113.561,114.112,115.03999999999999,115.65899999999999,115.61099999999999,111.729,111.745,113.769,113.725,112.578,112.85900000000001,112.283,111.682,111.789,111.991,112.195,112.289,112.21000000000001,111.914,112.239,112.221,112.73599999999999,112.43299999999999,112.618,112.65899999999999,112.717,112.811,112.428,112.0,112.309,112.445],\"x0\":\" \",\"xaxis\":\"x\",\"y\":[\"NOR\",\"NOR\",\"NOR\",\"NOR\",\"NOR\",\"NOR\",\"NOR\",\"NOR\",\"NOR\",\"NOR\",\"NOR\",\"NOR\",\"NOR\",\"NOR\",\"NOR\",\"NOR\",\"NOR\",\"NOR\",\"NOR\",\"NOR\",\"NOR\",\"NOR\",\"NOR\",\"NOR\",\"NOR\",\"NOR\",\"NOR\",\"NOR\",\"NOR\",\"NOR\",\"NOR\",\"NOR\",\"NOR\",\"NOR\",\"NOR\",\"NOR\",\"NOR\",\"NOR\",\"NOR\"],\"y0\":\" \",\"yaxis\":\"y\",\"type\":\"box\"},{\"alignmentgroup\":\"True\",\"boxpoints\":false,\"hovertemplate\":\"Driver=%{y}<br>Duration (Seconds, Outliers/Red Flags, Removed)=%{x}<extra></extra>\",\"legendgroup\":\"TSU\",\"marker\":{\"color\":\"#20394C\"},\"name\":\"TSU\",\"notched\":false,\"offsetgroup\":\"TSU\",\"orientation\":\"h\",\"showlegend\":true,\"x\":[114.71000000000001,113.774,115.437,113.82900000000001,114.027,113.679,113.81,112.24600000000001,114.22800000000001,112.50399999999999,112.963,113.326,113.657,114.12299999999999,114.75200000000001,115.757,116.587,116.674,117.05799999999999,114.848,111.394,111.75999999999999,111.945,112.14699999999999,112.482,112.22200000000001,111.997,112.13300000000001,112.411,112.47999999999999,112.31700000000001,112.21000000000001,113.457,112.467,112.298,112.243,112.36699999999999,112.554,112.469],\"x0\":\" \",\"xaxis\":\"x\",\"y\":[\"TSU\",\"TSU\",\"TSU\",\"TSU\",\"TSU\",\"TSU\",\"TSU\",\"TSU\",\"TSU\",\"TSU\",\"TSU\",\"TSU\",\"TSU\",\"TSU\",\"TSU\",\"TSU\",\"TSU\",\"TSU\",\"TSU\",\"TSU\",\"TSU\",\"TSU\",\"TSU\",\"TSU\",\"TSU\",\"TSU\",\"TSU\",\"TSU\",\"TSU\",\"TSU\",\"TSU\",\"TSU\",\"TSU\",\"TSU\",\"TSU\",\"TSU\",\"TSU\",\"TSU\",\"TSU\"],\"y0\":\" \",\"yaxis\":\"y\",\"type\":\"box\"},{\"alignmentgroup\":\"True\",\"boxpoints\":false,\"hovertemplate\":\"Driver=%{y}<br>Duration (Seconds, Outliers/Red Flags, Removed)=%{x}<extra></extra>\",\"legendgroup\":\"ALB\",\"marker\":{\"color\":\"#00A0DE\"},\"name\":\"ALB\",\"notched\":false,\"offsetgroup\":\"ALB\",\"orientation\":\"h\",\"showlegend\":true,\"x\":[114.821,113.907,115.00399999999999,115.65299999999999,114.309,111.937,111.774,113.93,113.815,113.705,113.822,114.52199999999999,115.068,114.99600000000001,114.701,115.18299999999999,116.307,116.16,115.435,111.432,111.563,111.888,112.076,112.691,113.203,112.731,114.306,117.737,109.84100000000001,110.82,111.065,111.575,112.918,112.75,112.064,112.918,111.14,111.451],\"x0\":\" \",\"xaxis\":\"x\",\"y\":[\"ALB\",\"ALB\",\"ALB\",\"ALB\",\"ALB\",\"ALB\",\"ALB\",\"ALB\",\"ALB\",\"ALB\",\"ALB\",\"ALB\",\"ALB\",\"ALB\",\"ALB\",\"ALB\",\"ALB\",\"ALB\",\"ALB\",\"ALB\",\"ALB\",\"ALB\",\"ALB\",\"ALB\",\"ALB\",\"ALB\",\"ALB\",\"ALB\",\"ALB\",\"ALB\",\"ALB\",\"ALB\",\"ALB\",\"ALB\",\"ALB\",\"ALB\",\"ALB\",\"ALB\"],\"y0\":\" \",\"yaxis\":\"y\",\"type\":\"box\"},{\"alignmentgroup\":\"True\",\"boxpoints\":false,\"hovertemplate\":\"Driver=%{y}<br>Duration (Seconds, Outliers/Red Flags, Removed)=%{x}<extra></extra>\",\"legendgroup\":\"STR\",\"marker\":{\"color\":\"#002420\"},\"name\":\"STR\",\"notched\":false,\"offsetgroup\":\"STR\",\"orientation\":\"h\",\"showlegend\":true,\"x\":[115.619,113.977,115.05799999999999,115.795,115.063,114.307,113.908,113.838,113.88900000000001,113.869,114.07900000000001,114.812,114.26400000000001,114.934,115.68,115.513,115.47399999999999,116.9,116.412,111.394,111.446,111.741,111.297,111.707,111.705,111.919,112.035,112.203,112.218,112.13900000000001,112.36699999999999,112.25800000000001,112.884,112.569,112.315,112.60499999999999,112.61699999999999,113.416,112.73599999999999,112.632,112.77799999999999],\"x0\":\" \",\"xaxis\":\"x\",\"y\":[\"STR\",\"STR\",\"STR\",\"STR\",\"STR\",\"STR\",\"STR\",\"STR\",\"STR\",\"STR\",\"STR\",\"STR\",\"STR\",\"STR\",\"STR\",\"STR\",\"STR\",\"STR\",\"STR\",\"STR\",\"STR\",\"STR\",\"STR\",\"STR\",\"STR\",\"STR\",\"STR\",\"STR\",\"STR\",\"STR\",\"STR\",\"STR\",\"STR\",\"STR\",\"STR\",\"STR\",\"STR\",\"STR\",\"STR\",\"STR\",\"STR\"],\"y0\":\" \",\"yaxis\":\"y\",\"type\":\"box\"},{\"alignmentgroup\":\"True\",\"boxpoints\":false,\"hovertemplate\":\"Driver=%{y}<br>Duration (Seconds, Outliers/Red Flags, Removed)=%{x}<extra></extra>\",\"legendgroup\":\"RUS\",\"marker\":{\"color\":\"#00A19B\"},\"name\":\"RUS\",\"notched\":false,\"offsetgroup\":\"RUS\",\"orientation\":\"h\",\"showlegend\":true,\"x\":[115.207,114.15,115.162,115.531,116.057,113.791,113.789,113.97200000000001,114.1,114.00800000000001,113.983,114.61099999999999,114.012,115.729,114.828,113.66,114.223,114.726,116.771,117.525,110.843,110.60300000000001,111.424,111.588,111.74199999999999,111.813,112.221,111.805,111.273,111.524,111.75,111.79599999999999,111.842,111.89,111.828,111.96600000000001,111.757,111.982,112.009,112.072,112.012],\"x0\":\" \",\"xaxis\":\"x\",\"y\":[\"RUS\",\"RUS\",\"RUS\",\"RUS\",\"RUS\",\"RUS\",\"RUS\",\"RUS\",\"RUS\",\"RUS\",\"RUS\",\"RUS\",\"RUS\",\"RUS\",\"RUS\",\"RUS\",\"RUS\",\"RUS\",\"RUS\",\"RUS\",\"RUS\",\"RUS\",\"RUS\",\"RUS\",\"RUS\",\"RUS\",\"RUS\",\"RUS\",\"RUS\",\"RUS\",\"RUS\",\"RUS\",\"RUS\",\"RUS\",\"RUS\",\"RUS\",\"RUS\",\"RUS\",\"RUS\",\"RUS\",\"RUS\"],\"y0\":\" \",\"yaxis\":\"y\",\"type\":\"box\"},{\"alignmentgroup\":\"True\",\"boxpoints\":false,\"hovertemplate\":\"Driver=%{y}<br>Duration (Seconds, Outliers/Red Flags, Removed)=%{x}<extra></extra>\",\"legendgroup\":\"BOT\",\"marker\":{\"color\":\"#A42134\"},\"name\":\"BOT\",\"notched\":false,\"offsetgroup\":\"BOT\",\"orientation\":\"h\",\"showlegend\":true,\"x\":[115.608,114.834,115.571,115.59899999999999,112.919,113.499,113.782,113.53,113.411,113.924,113.719,115.311,114.537,114.71000000000001,114.982,115.107,115.52600000000001,117.084,116.219,114.59,110.515,111.131,111.46000000000001,111.672,111.904,112.128,112.898,113.414,112.188,112.412,112.39099999999999,112.12899999999999,112.077,112.396,112.344,112.363,112.382,112.17,112.23400000000001],\"x0\":\" \",\"xaxis\":\"x\",\"y\":[\"BOT\",\"BOT\",\"BOT\",\"BOT\",\"BOT\",\"BOT\",\"BOT\",\"BOT\",\"BOT\",\"BOT\",\"BOT\",\"BOT\",\"BOT\",\"BOT\",\"BOT\",\"BOT\",\"BOT\",\"BOT\",\"BOT\",\"BOT\",\"BOT\",\"BOT\",\"BOT\",\"BOT\",\"BOT\",\"BOT\",\"BOT\",\"BOT\",\"BOT\",\"BOT\",\"BOT\",\"BOT\",\"BOT\",\"BOT\",\"BOT\",\"BOT\",\"BOT\",\"BOT\",\"BOT\"],\"y0\":\" \",\"yaxis\":\"y\",\"type\":\"box\"},{\"alignmentgroup\":\"True\",\"boxpoints\":false,\"hovertemplate\":\"Driver=%{y}<br>Duration (Seconds, Outliers/Red Flags, Removed)=%{x}<extra></extra>\",\"legendgroup\":\"OCO\",\"marker\":{\"color\":\"#2173B8\"},\"name\":\"OCO\",\"notched\":false,\"offsetgroup\":\"OCO\",\"orientation\":\"h\",\"showlegend\":true,\"x\":[115.42099999999999,113.75999999999999,114.967,115.85300000000001,112.48599999999999,113.128,112.232,112.962,113.238,113.38900000000001,114.08500000000001,114.456,113.606,113.702,114.951,115.886,116.533,116.37899999999999,117.125,115.10900000000001,113.714,117.52000000000001,110.439,110.774,112.095,111.75800000000001,111.807,111.595,111.864,112.092,112.727,112.533,111.809,111.48400000000001,111.869,111.876,111.098,111.71000000000001,111.664,111.92],\"x0\":\" \",\"xaxis\":\"x\",\"y\":[\"OCO\",\"OCO\",\"OCO\",\"OCO\",\"OCO\",\"OCO\",\"OCO\",\"OCO\",\"OCO\",\"OCO\",\"OCO\",\"OCO\",\"OCO\",\"OCO\",\"OCO\",\"OCO\",\"OCO\",\"OCO\",\"OCO\",\"OCO\",\"OCO\",\"OCO\",\"OCO\",\"OCO\",\"OCO\",\"OCO\",\"OCO\",\"OCO\",\"OCO\",\"OCO\",\"OCO\",\"OCO\",\"OCO\",\"OCO\",\"OCO\",\"OCO\",\"OCO\",\"OCO\",\"OCO\",\"OCO\"],\"y0\":\" \",\"yaxis\":\"y\",\"type\":\"box\"},{\"alignmentgroup\":\"True\",\"boxpoints\":false,\"hovertemplate\":\"Driver=%{y}<br>Duration (Seconds, Outliers/Red Flags, Removed)=%{x}<extra></extra>\",\"legendgroup\":\"ZHO\",\"marker\":{\"color\":\"#A42134\"},\"name\":\"ZHO\",\"notched\":false,\"offsetgroup\":\"ZHO\",\"orientation\":\"h\",\"showlegend\":true,\"x\":[115.929,115.19800000000001,114.63900000000001,116.11,115.86699999999999,112.422,113.904,112.64500000000001,113.303,113.733,113.92699999999999,114.979,114.295,114.886,115.003,115.51599999999999,115.451,115.811,115.68,114.616,110.188,111.46600000000001,112.05199999999999,112.82,112.35,112.247,111.506,112.05199999999999,112.507,112.809,112.981,113.446,113.017,111.884,113.108,111.69,112.023,112.006],\"x0\":\" \",\"xaxis\":\"x\",\"y\":[\"ZHO\",\"ZHO\",\"ZHO\",\"ZHO\",\"ZHO\",\"ZHO\",\"ZHO\",\"ZHO\",\"ZHO\",\"ZHO\",\"ZHO\",\"ZHO\",\"ZHO\",\"ZHO\",\"ZHO\",\"ZHO\",\"ZHO\",\"ZHO\",\"ZHO\",\"ZHO\",\"ZHO\",\"ZHO\",\"ZHO\",\"ZHO\",\"ZHO\",\"ZHO\",\"ZHO\",\"ZHO\",\"ZHO\",\"ZHO\",\"ZHO\",\"ZHO\",\"ZHO\",\"ZHO\",\"ZHO\",\"ZHO\",\"ZHO\",\"ZHO\"],\"y0\":\" \",\"yaxis\":\"y\",\"type\":\"box\"},{\"alignmentgroup\":\"True\",\"boxpoints\":false,\"hovertemplate\":\"Driver=%{y}<br>Duration (Seconds, Outliers/Red Flags, Removed)=%{x}<extra></extra>\",\"legendgroup\":\"SAR\",\"marker\":{\"color\":\"#00A0DE\"},\"name\":\"SAR\",\"notched\":false,\"offsetgroup\":\"SAR\",\"orientation\":\"h\",\"showlegend\":true,\"x\":[115.985,114.142,114.152,115.729,115.947,115.4,113.73599999999999,114.844,115.497,114.596,114.962,115.749,113.822,114.913,115.069,114.60300000000001,115.57900000000001,115.771,115.602,114.85300000000001,110.667,111.32900000000001,111.821,112.19200000000001,112.727,112.285,112.6,113.556,117.48400000000001,110.23599999999999,110.48599999999999,110.818,111.513,112.082,111.581,112.364,111.241,112.59],\"x0\":\" \",\"xaxis\":\"x\",\"y\":[\"SAR\",\"SAR\",\"SAR\",\"SAR\",\"SAR\",\"SAR\",\"SAR\",\"SAR\",\"SAR\",\"SAR\",\"SAR\",\"SAR\",\"SAR\",\"SAR\",\"SAR\",\"SAR\",\"SAR\",\"SAR\",\"SAR\",\"SAR\",\"SAR\",\"SAR\",\"SAR\",\"SAR\",\"SAR\",\"SAR\",\"SAR\",\"SAR\",\"SAR\",\"SAR\",\"SAR\",\"SAR\",\"SAR\",\"SAR\",\"SAR\",\"SAR\",\"SAR\",\"SAR\"],\"y0\":\" \",\"yaxis\":\"y\",\"type\":\"box\"},{\"alignmentgroup\":\"True\",\"boxpoints\":false,\"hovertemplate\":\"Driver=%{y}<br>Duration (Seconds, Outliers/Red Flags, Removed)=%{x}<extra></extra>\",\"legendgroup\":\"GAS\",\"marker\":{\"color\":\"#2173B8\"},\"name\":\"GAS\",\"notched\":false,\"offsetgroup\":\"GAS\",\"orientation\":\"h\",\"showlegend\":true,\"x\":[116.015,114.814,114.37100000000001,115.41499999999999,115.56,115.449,113.98400000000001,113.43,113.587,113.822,113.64099999999999,113.769,114.01400000000001,115.35900000000001,114.782,114.87,115.27799999999999,115.566,116.854,116.834,117.187,110.911,111.509,111.96600000000001,112.131,113.343,112.362,112.866,113.09700000000001,112.384,112.24600000000001,112.02199999999999,112.227,111.902,111.831,112.369,112.084,111.8,112.23400000000001,113.02199999999999,113.093],\"x0\":\" \",\"xaxis\":\"x\",\"y\":[\"GAS\",\"GAS\",\"GAS\",\"GAS\",\"GAS\",\"GAS\",\"GAS\",\"GAS\",\"GAS\",\"GAS\",\"GAS\",\"GAS\",\"GAS\",\"GAS\",\"GAS\",\"GAS\",\"GAS\",\"GAS\",\"GAS\",\"GAS\",\"GAS\",\"GAS\",\"GAS\",\"GAS\",\"GAS\",\"GAS\",\"GAS\",\"GAS\",\"GAS\",\"GAS\",\"GAS\",\"GAS\",\"GAS\",\"GAS\",\"GAS\",\"GAS\",\"GAS\",\"GAS\",\"GAS\",\"GAS\",\"GAS\"],\"y0\":\" \",\"yaxis\":\"y\",\"type\":\"box\"},{\"alignmentgroup\":\"True\",\"boxpoints\":false,\"hovertemplate\":\"Driver=%{y}<br>Duration (Seconds, Outliers/Red Flags, Removed)=%{x}<extra></extra>\",\"legendgroup\":\"HUL\",\"marker\":{\"color\":\"#E6002B\"},\"name\":\"HUL\",\"notched\":false,\"offsetgroup\":\"HUL\",\"orientation\":\"h\",\"showlegend\":true,\"x\":[115.743,115.176,114.581,115.53,115.923,115.607,114.741,115.36,114.655,114.262,112.348,115.586,113.91,114.852,112.937,113.743,114.393,114.691,117.8,113.292,117.257,109.907,111.225,111.545,111.844,112.495,112.588,112.332,112.601,113.056,113.676,113.40100000000001,113.019,113.62100000000001,113.52199999999999,115.25999999999999,113.845,116.987,115.314,114.845],\"x0\":\" \",\"xaxis\":\"x\",\"y\":[\"HUL\",\"HUL\",\"HUL\",\"HUL\",\"HUL\",\"HUL\",\"HUL\",\"HUL\",\"HUL\",\"HUL\",\"HUL\",\"HUL\",\"HUL\",\"HUL\",\"HUL\",\"HUL\",\"HUL\",\"HUL\",\"HUL\",\"HUL\",\"HUL\",\"HUL\",\"HUL\",\"HUL\",\"HUL\",\"HUL\",\"HUL\",\"HUL\",\"HUL\",\"HUL\",\"HUL\",\"HUL\",\"HUL\",\"HUL\",\"HUL\",\"HUL\",\"HUL\",\"HUL\",\"HUL\",\"HUL\"],\"y0\":\" \",\"yaxis\":\"y\",\"type\":\"box\"},{\"alignmentgroup\":\"True\",\"boxpoints\":false,\"hovertemplate\":\"Driver=%{y}<br>Duration (Seconds, Outliers/Red Flags, Removed)=%{x}<extra></extra>\",\"legendgroup\":\"MAG\",\"marker\":{\"color\":\"#E6002B\"},\"name\":\"MAG\",\"notched\":false,\"offsetgroup\":\"MAG\",\"orientation\":\"h\",\"showlegend\":true,\"x\":[115.592,115.40299999999999,114.63499999999999,111.53399999999999,112.64500000000001,113.819,114.00999999999999,113.589,113.828,114.086,114.434,115.185,114.434,114.689,114.812,114.843,115.62100000000001,116.02600000000001,116.72,114.76400000000001,114.351,110.993,111.362,111.804,112.039,112.541,112.826,112.814,112.789,113.22999999999999,113.437,113.413,113.10300000000001,113.436,113.598,113.446,115.23599999999999,113.95,113.438],\"x0\":\" \",\"xaxis\":\"x\",\"y\":[\"MAG\",\"MAG\",\"MAG\",\"MAG\",\"MAG\",\"MAG\",\"MAG\",\"MAG\",\"MAG\",\"MAG\",\"MAG\",\"MAG\",\"MAG\",\"MAG\",\"MAG\",\"MAG\",\"MAG\",\"MAG\",\"MAG\",\"MAG\",\"MAG\",\"MAG\",\"MAG\",\"MAG\",\"MAG\",\"MAG\",\"MAG\",\"MAG\",\"MAG\",\"MAG\",\"MAG\",\"MAG\",\"MAG\",\"MAG\",\"MAG\",\"MAG\",\"MAG\",\"MAG\",\"MAG\"],\"y0\":\" \",\"yaxis\":\"y\",\"type\":\"box\"},{\"alignmentgroup\":\"True\",\"boxpoints\":false,\"hovertemplate\":\"Driver=%{y}<br>Duration (Seconds, Outliers/Red Flags, Removed)=%{x}<extra></extra>\",\"legendgroup\":\"RIC\",\"marker\":{\"color\":\"#20394C\"},\"name\":\"RIC\",\"notched\":false,\"offsetgroup\":\"RIC\",\"orientation\":\"h\",\"showlegend\":true,\"x\":[116.00999999999999,115.20400000000001,114.815,112.398,112.975,113.378,113.03399999999999,113.369,113.535,114.036,114.32300000000001,115.31,114.625,114.58,114.826,115.001,115.672,117.354,111.719,110.994,111.932,111.56700000000001,111.634,112.143,111.975,112.068,112.419,112.469,112.824,113.39099999999999,113.215,113.131,113.461,114.52000000000001,114.36099999999999,113.36699999999999,115.247,112.11500000000001,112.265],\"x0\":\" \",\"xaxis\":\"x\",\"y\":[\"RIC\",\"RIC\",\"RIC\",\"RIC\",\"RIC\",\"RIC\",\"RIC\",\"RIC\",\"RIC\",\"RIC\",\"RIC\",\"RIC\",\"RIC\",\"RIC\",\"RIC\",\"RIC\",\"RIC\",\"RIC\",\"RIC\",\"RIC\",\"RIC\",\"RIC\",\"RIC\",\"RIC\",\"RIC\",\"RIC\",\"RIC\",\"RIC\",\"RIC\",\"RIC\",\"RIC\",\"RIC\",\"RIC\",\"RIC\",\"RIC\",\"RIC\",\"RIC\",\"RIC\",\"RIC\"],\"y0\":\" \",\"yaxis\":\"y\",\"type\":\"box\"}],                        {\"template\":{\"data\":{\"histogram2dcontour\":[{\"type\":\"histogram2dcontour\",\"colorbar\":{\"outlinewidth\":0,\"ticks\":\"\"},\"colorscale\":[[0.0,\"#0d0887\"],[0.1111111111111111,\"#46039f\"],[0.2222222222222222,\"#7201a8\"],[0.3333333333333333,\"#9c179e\"],[0.4444444444444444,\"#bd3786\"],[0.5555555555555556,\"#d8576b\"],[0.6666666666666666,\"#ed7953\"],[0.7777777777777778,\"#fb9f3a\"],[0.8888888888888888,\"#fdca26\"],[1.0,\"#f0f921\"]]}],\"choropleth\":[{\"type\":\"choropleth\",\"colorbar\":{\"outlinewidth\":0,\"ticks\":\"\"}}],\"histogram2d\":[{\"type\":\"histogram2d\",\"colorbar\":{\"outlinewidth\":0,\"ticks\":\"\"},\"colorscale\":[[0.0,\"#0d0887\"],[0.1111111111111111,\"#46039f\"],[0.2222222222222222,\"#7201a8\"],[0.3333333333333333,\"#9c179e\"],[0.4444444444444444,\"#bd3786\"],[0.5555555555555556,\"#d8576b\"],[0.6666666666666666,\"#ed7953\"],[0.7777777777777778,\"#fb9f3a\"],[0.8888888888888888,\"#fdca26\"],[1.0,\"#f0f921\"]]}],\"heatmap\":[{\"type\":\"heatmap\",\"colorbar\":{\"outlinewidth\":0,\"ticks\":\"\"},\"colorscale\":[[0.0,\"#0d0887\"],[0.1111111111111111,\"#46039f\"],[0.2222222222222222,\"#7201a8\"],[0.3333333333333333,\"#9c179e\"],[0.4444444444444444,\"#bd3786\"],[0.5555555555555556,\"#d8576b\"],[0.6666666666666666,\"#ed7953\"],[0.7777777777777778,\"#fb9f3a\"],[0.8888888888888888,\"#fdca26\"],[1.0,\"#f0f921\"]]}],\"heatmapgl\":[{\"type\":\"heatmapgl\",\"colorbar\":{\"outlinewidth\":0,\"ticks\":\"\"},\"colorscale\":[[0.0,\"#0d0887\"],[0.1111111111111111,\"#46039f\"],[0.2222222222222222,\"#7201a8\"],[0.3333333333333333,\"#9c179e\"],[0.4444444444444444,\"#bd3786\"],[0.5555555555555556,\"#d8576b\"],[0.6666666666666666,\"#ed7953\"],[0.7777777777777778,\"#fb9f3a\"],[0.8888888888888888,\"#fdca26\"],[1.0,\"#f0f921\"]]}],\"contourcarpet\":[{\"type\":\"contourcarpet\",\"colorbar\":{\"outlinewidth\":0,\"ticks\":\"\"}}],\"contour\":[{\"type\":\"contour\",\"colorbar\":{\"outlinewidth\":0,\"ticks\":\"\"},\"colorscale\":[[0.0,\"#0d0887\"],[0.1111111111111111,\"#46039f\"],[0.2222222222222222,\"#7201a8\"],[0.3333333333333333,\"#9c179e\"],[0.4444444444444444,\"#bd3786\"],[0.5555555555555556,\"#d8576b\"],[0.6666666666666666,\"#ed7953\"],[0.7777777777777778,\"#fb9f3a\"],[0.8888888888888888,\"#fdca26\"],[1.0,\"#f0f921\"]]}],\"surface\":[{\"type\":\"surface\",\"colorbar\":{\"outlinewidth\":0,\"ticks\":\"\"},\"colorscale\":[[0.0,\"#0d0887\"],[0.1111111111111111,\"#46039f\"],[0.2222222222222222,\"#7201a8\"],[0.3333333333333333,\"#9c179e\"],[0.4444444444444444,\"#bd3786\"],[0.5555555555555556,\"#d8576b\"],[0.6666666666666666,\"#ed7953\"],[0.7777777777777778,\"#fb9f3a\"],[0.8888888888888888,\"#fdca26\"],[1.0,\"#f0f921\"]]}],\"mesh3d\":[{\"type\":\"mesh3d\",\"colorbar\":{\"outlinewidth\":0,\"ticks\":\"\"}}],\"scatter\":[{\"fillpattern\":{\"fillmode\":\"overlay\",\"size\":10,\"solidity\":0.2},\"type\":\"scatter\"}],\"parcoords\":[{\"type\":\"parcoords\",\"line\":{\"colorbar\":{\"outlinewidth\":0,\"ticks\":\"\"}}}],\"scatterpolargl\":[{\"type\":\"scatterpolargl\",\"marker\":{\"colorbar\":{\"outlinewidth\":0,\"ticks\":\"\"}}}],\"bar\":[{\"error_x\":{\"color\":\"#2a3f5f\"},\"error_y\":{\"color\":\"#2a3f5f\"},\"marker\":{\"line\":{\"color\":\"#E5ECF6\",\"width\":0.5},\"pattern\":{\"fillmode\":\"overlay\",\"size\":10,\"solidity\":0.2}},\"type\":\"bar\"}],\"scattergeo\":[{\"type\":\"scattergeo\",\"marker\":{\"colorbar\":{\"outlinewidth\":0,\"ticks\":\"\"}}}],\"scatterpolar\":[{\"type\":\"scatterpolar\",\"marker\":{\"colorbar\":{\"outlinewidth\":0,\"ticks\":\"\"}}}],\"histogram\":[{\"marker\":{\"pattern\":{\"fillmode\":\"overlay\",\"size\":10,\"solidity\":0.2}},\"type\":\"histogram\"}],\"scattergl\":[{\"type\":\"scattergl\",\"marker\":{\"colorbar\":{\"outlinewidth\":0,\"ticks\":\"\"}}}],\"scatter3d\":[{\"type\":\"scatter3d\",\"line\":{\"colorbar\":{\"outlinewidth\":0,\"ticks\":\"\"}},\"marker\":{\"colorbar\":{\"outlinewidth\":0,\"ticks\":\"\"}}}],\"scattermapbox\":[{\"type\":\"scattermapbox\",\"marker\":{\"colorbar\":{\"outlinewidth\":0,\"ticks\":\"\"}}}],\"scatterternary\":[{\"type\":\"scatterternary\",\"marker\":{\"colorbar\":{\"outlinewidth\":0,\"ticks\":\"\"}}}],\"scattercarpet\":[{\"type\":\"scattercarpet\",\"marker\":{\"colorbar\":{\"outlinewidth\":0,\"ticks\":\"\"}}}],\"carpet\":[{\"aaxis\":{\"endlinecolor\":\"#2a3f5f\",\"gridcolor\":\"white\",\"linecolor\":\"white\",\"minorgridcolor\":\"white\",\"startlinecolor\":\"#2a3f5f\"},\"baxis\":{\"endlinecolor\":\"#2a3f5f\",\"gridcolor\":\"white\",\"linecolor\":\"white\",\"minorgridcolor\":\"white\",\"startlinecolor\":\"#2a3f5f\"},\"type\":\"carpet\"}],\"table\":[{\"cells\":{\"fill\":{\"color\":\"#EBF0F8\"},\"line\":{\"color\":\"white\"}},\"header\":{\"fill\":{\"color\":\"#C8D4E3\"},\"line\":{\"color\":\"white\"}},\"type\":\"table\"}],\"barpolar\":[{\"marker\":{\"line\":{\"color\":\"#E5ECF6\",\"width\":0.5},\"pattern\":{\"fillmode\":\"overlay\",\"size\":10,\"solidity\":0.2}},\"type\":\"barpolar\"}],\"pie\":[{\"automargin\":true,\"type\":\"pie\"}]},\"layout\":{\"autotypenumbers\":\"strict\",\"colorway\":[\"#636efa\",\"#EF553B\",\"#00cc96\",\"#ab63fa\",\"#FFA15A\",\"#19d3f3\",\"#FF6692\",\"#B6E880\",\"#FF97FF\",\"#FECB52\"],\"font\":{\"color\":\"#2a3f5f\"},\"hovermode\":\"closest\",\"hoverlabel\":{\"align\":\"left\"},\"paper_bgcolor\":\"white\",\"plot_bgcolor\":\"#E5ECF6\",\"polar\":{\"bgcolor\":\"#E5ECF6\",\"angularaxis\":{\"gridcolor\":\"white\",\"linecolor\":\"white\",\"ticks\":\"\"},\"radialaxis\":{\"gridcolor\":\"white\",\"linecolor\":\"white\",\"ticks\":\"\"}},\"ternary\":{\"bgcolor\":\"#E5ECF6\",\"aaxis\":{\"gridcolor\":\"white\",\"linecolor\":\"white\",\"ticks\":\"\"},\"baxis\":{\"gridcolor\":\"white\",\"linecolor\":\"white\",\"ticks\":\"\"},\"caxis\":{\"gridcolor\":\"white\",\"linecolor\":\"white\",\"ticks\":\"\"}},\"coloraxis\":{\"colorbar\":{\"outlinewidth\":0,\"ticks\":\"\"}},\"colorscale\":{\"sequential\":[[0.0,\"#0d0887\"],[0.1111111111111111,\"#46039f\"],[0.2222222222222222,\"#7201a8\"],[0.3333333333333333,\"#9c179e\"],[0.4444444444444444,\"#bd3786\"],[0.5555555555555556,\"#d8576b\"],[0.6666666666666666,\"#ed7953\"],[0.7777777777777778,\"#fb9f3a\"],[0.8888888888888888,\"#fdca26\"],[1.0,\"#f0f921\"]],\"sequentialminus\":[[0.0,\"#0d0887\"],[0.1111111111111111,\"#46039f\"],[0.2222222222222222,\"#7201a8\"],[0.3333333333333333,\"#9c179e\"],[0.4444444444444444,\"#bd3786\"],[0.5555555555555556,\"#d8576b\"],[0.6666666666666666,\"#ed7953\"],[0.7777777777777778,\"#fb9f3a\"],[0.8888888888888888,\"#fdca26\"],[1.0,\"#f0f921\"]],\"diverging\":[[0,\"#8e0152\"],[0.1,\"#c51b7d\"],[0.2,\"#de77ae\"],[0.3,\"#f1b6da\"],[0.4,\"#fde0ef\"],[0.5,\"#f7f7f7\"],[0.6,\"#e6f5d0\"],[0.7,\"#b8e186\"],[0.8,\"#7fbc41\"],[0.9,\"#4d9221\"],[1,\"#276419\"]]},\"xaxis\":{\"gridcolor\":\"white\",\"linecolor\":\"white\",\"ticks\":\"\",\"title\":{\"standoff\":15},\"zerolinecolor\":\"white\",\"automargin\":true,\"zerolinewidth\":2},\"yaxis\":{\"gridcolor\":\"white\",\"linecolor\":\"white\",\"ticks\":\"\",\"title\":{\"standoff\":15},\"zerolinecolor\":\"white\",\"automargin\":true,\"zerolinewidth\":2},\"scene\":{\"xaxis\":{\"backgroundcolor\":\"#E5ECF6\",\"gridcolor\":\"white\",\"linecolor\":\"white\",\"showbackground\":true,\"ticks\":\"\",\"zerolinecolor\":\"white\",\"gridwidth\":2},\"yaxis\":{\"backgroundcolor\":\"#E5ECF6\",\"gridcolor\":\"white\",\"linecolor\":\"white\",\"showbackground\":true,\"ticks\":\"\",\"zerolinecolor\":\"white\",\"gridwidth\":2},\"zaxis\":{\"backgroundcolor\":\"#E5ECF6\",\"gridcolor\":\"white\",\"linecolor\":\"white\",\"showbackground\":true,\"ticks\":\"\",\"zerolinecolor\":\"white\",\"gridwidth\":2}},\"shapedefaults\":{\"line\":{\"color\":\"#2a3f5f\"}},\"annotationdefaults\":{\"arrowcolor\":\"#2a3f5f\",\"arrowhead\":0,\"arrowwidth\":1},\"geo\":{\"bgcolor\":\"white\",\"landcolor\":\"#E5ECF6\",\"subunitcolor\":\"white\",\"showland\":true,\"showlakes\":true,\"lakecolor\":\"white\"},\"title\":{\"x\":0.05},\"mapbox\":{\"style\":\"light\"}}},\"xaxis\":{\"anchor\":\"y\",\"domain\":[0.0,1.0],\"title\":{\"text\":\"Duration (Seconds, Outliers/Red Flags, Removed)\"}},\"yaxis\":{\"anchor\":\"x\",\"domain\":[0.0,1.0],\"title\":{\"text\":\"Driver\"},\"categoryorder\":\"array\",\"categoryarray\":[\"RIC\",\"MAG\",\"HUL\",\"GAS\",\"SAR\",\"ZHO\",\"OCO\",\"BOT\",\"RUS\",\"STR\",\"ALB\",\"TSU\",\"NOR\",\"ALO\",\"SAI\",\"VER\",\"HAM\",\"LEC\",\"PER\"]},\"legend\":{\"title\":{\"text\":\"Driver\"},\"tracegroupgap\":0},\"margin\":{\"t\":60},\"boxmode\":\"overlay\",\"showlegend\":false,\"title\":{\"font\":{\"family\":\"Arial, sans-serif\",\"size\":30},\"text\":\"<b>Lap Times</b>\",\"x\":0.5}},                        {\"responsive\": true}                    ).then(function(){\n",
       "                            \n",
       "var gd = document.getElementById('b901b393-7783-42c3-af38-4437061da6c4');\n",
       "var x = new MutationObserver(function (mutations, observer) {{\n",
       "        var display = window.getComputedStyle(gd).display;\n",
       "        if (!display || display === 'none') {{\n",
       "            console.log([gd, 'removed!']);\n",
       "            Plotly.purge(gd);\n",
       "            observer.disconnect();\n",
       "        }}\n",
       "}});\n",
       "\n",
       "// Listen for the removal of the full notebook cells\n",
       "var notebookContainer = gd.closest('#notebook-container');\n",
       "if (notebookContainer) {{\n",
       "    x.observe(notebookContainer, {childList: true});\n",
       "}}\n",
       "\n",
       "// Listen for the clearing of the current output cell\n",
       "var outputEl = gd.closest('.output');\n",
       "if (outputEl) {{\n",
       "    x.observe(outputEl, {childList: true});\n",
       "}}\n",
       "\n",
       "                        })                };                });            </script>        </div>"
      ]
     },
     "metadata": {},
     "output_type": "display_data"
    }
   ],
   "source": [
    "if not lap_tim_emp:\n",
    "    fig = px.box(lap_driver_no, x=\"duration\", y=\"Driver\", color='Driver', points=False, color_discrete_map=color_map, labels={\n",
    "    \"code\": \"Driver\",\n",
    "    \"duration\":\"Duration (Seconds, Outliers/Red Flags, Removed)\"\n",
    "    })\n",
    "    fig.update_layout(showlegend=False)\n",
    "    fig.update_layout(title_text='<b>Lap Times</b>', titlefont = dict(\n",
    "         family = 'Arial, sans-serif',\n",
    "         size = 30\n",
    "      ), title_x=0.5)\n",
    "    fig.show()\n",
    "else:\n",
    "        display(md(f\"<h1 style='background:#FFF200;border:0; color:black;box-shadow: 10px 10px 5px 0px rgba(0,0,0,0.75);transform: rotateX(10deg);'><center style='color: black;'>No Lap Data Available From API</center></h1>\"))"
   ]
  },
  {
   "cell_type": "code",
   "execution_count": 28,
   "id": "de7e50ae",
   "metadata": {
    "_kg_hide-input": true,
    "execution": {
     "iopub.execute_input": "2023-08-05T01:22:29.461490Z",
     "iopub.status.busy": "2023-08-05T01:22:29.460964Z",
     "iopub.status.idle": "2023-08-05T01:22:29.482594Z",
     "shell.execute_reply": "2023-08-05T01:22:29.481260Z"
    },
    "papermill": {
     "duration": 0.049804,
     "end_time": "2023-08-05T01:22:29.485379",
     "exception": false,
     "start_time": "2023-08-05T01:22:29.435575",
     "status": "completed"
    },
    "tags": []
   },
   "outputs": [],
   "source": [
    "def multi_lap_plot(names, addAll = True):\n",
    "    fig = go.Figure()\n",
    "\n",
    "    fig = px.line(lap_driver_no, x=\"lap\", y=\"duration\", color='Driver', labels={\n",
    "    \"duration\": \"Lap Time (In seconds, Outliers/Red Flags Removed)\",\n",
    "    \"lap\": \"Lap\"\n",
    "}, title='Lap Times', color_discrete_map=color_map)\n",
    "    fig.update_layout(title_text='<b>Lap Times</b>', titlefont = dict(\n",
    "         family = 'Arial, sans-serif',\n",
    "         size = 30\n",
    "      ), title_x=0.5)\n",
    "\n",
    "    button_all = dict(label = 'All',\n",
    "                      method = 'update',\n",
    "                      args = [{'visible': [True]*len(names),\n",
    "                               'title': 'All',\n",
    "                               'showlegend':True}])\n",
    "\n",
    "    def create_layout_button(column):\n",
    "        return dict(label = column,\n",
    "                    method = 'update',\n",
    "                    args = [{'visible': [c == column for c in names],\n",
    "                             'title': column,\n",
    "                             'showlegend': True}])\n",
    "\n",
    "    fig.update_layout(\n",
    "        updatemenus=[go.layout.Updatemenu(\n",
    "            active = 0,\n",
    "            buttons = ([button_all] * addAll) + [create_layout_button(column) for column in names]\n",
    "            )\n",
    "        ])\n",
    "    \n",
    "    fig.show()\n",
    "    \n",
    "    \n",
    "    \n",
    "def multi_pos_plot(names, addAll = True):\n",
    "    fig = go.Figure()\n",
    "\n",
    "    fig = px.line(lap_driver, x=\"lap\", y=\"position\", color='Driver', labels={\n",
    "    \"position\":  \"Position\",\n",
    "    \"lap\": \"Lap\"\n",
    "}, color_discrete_map=color_map)\n",
    "    fig.update_layout(title_text='<b>Position By Lap</b>', titlefont = dict(\n",
    "         family = 'Arial, sans-serif',\n",
    "         size = 30\n",
    "      ), title_x=0.5)\n",
    "\n",
    "    button_all = dict(label = 'All',\n",
    "                      method = 'update',\n",
    "                      args = [{'visible': [True]*len(names),\n",
    "                               'title': 'All',\n",
    "                               'showlegend':True}])\n",
    "\n",
    "    def create_layout_button(column):\n",
    "        return dict(label = column,\n",
    "                    method = 'update',\n",
    "                    args = [{'visible': [c == column for c in names],\n",
    "                             'title': column,\n",
    "                             'showlegend': True}])\n",
    "\n",
    "    fig.update_layout(\n",
    "        updatemenus=[go.layout.Updatemenu(\n",
    "            active = 0,\n",
    "            buttons = ([button_all] * addAll) + [create_layout_button(column) for column in names]\n",
    "            )\n",
    "        ])\n",
    "    \n",
    "    fig.show()\n"
   ]
  },
  {
   "cell_type": "code",
   "execution_count": 29,
   "id": "ee8eee96",
   "metadata": {
    "_kg_hide-input": true,
    "execution": {
     "iopub.execute_input": "2023-08-05T01:22:29.533938Z",
     "iopub.status.busy": "2023-08-05T01:22:29.533487Z",
     "iopub.status.idle": "2023-08-05T01:22:29.717581Z",
     "shell.execute_reply": "2023-08-05T01:22:29.716164Z"
    },
    "papermill": {
     "duration": 0.211814,
     "end_time": "2023-08-05T01:22:29.720428",
     "exception": false,
     "start_time": "2023-08-05T01:22:29.508614",
     "status": "completed"
    },
    "tags": []
   },
   "outputs": [
    {
     "data": {
      "text/html": [
       "<div>                            <div id=\"4fe8aae6-ecea-4177-8115-60fb92f69b84\" class=\"plotly-graph-div\" style=\"height:525px; width:100%;\"></div>            <script type=\"text/javascript\">                require([\"plotly\"], function(Plotly) {                    window.PLOTLYENV=window.PLOTLYENV || {};                                    if (document.getElementById(\"4fe8aae6-ecea-4177-8115-60fb92f69b84\")) {                    Plotly.newPlot(                        \"4fe8aae6-ecea-4177-8115-60fb92f69b84\",                        [{\"hovertemplate\":\"Driver=PER<br>Lap=%{x}<br>Lap Time (In seconds, Outliers/Red Flags Removed)=%{y}<extra></extra>\",\"legendgroup\":\"PER\",\"line\":{\"color\":\"#000B8D\",\"dash\":\"solid\"},\"marker\":{\"symbol\":\"circle\"},\"mode\":\"lines\",\"name\":\"PER\",\"orientation\":\"v\",\"showlegend\":true,\"x\":[1.0,2.0,3.0,4.0,5.0,6.0,7.0,8.0,9.0,10.0,11.0,12.0,13.0,15.0,16.0,17.0,18.0,19.0,20.0,21.0,22.0,23.0,24.0,25.0,26.0,27.0,28.0,29.0,31.0,32.0,33.0,34.0,35.0,36.0,37.0,38.0,39.0,40.0,41.0,42.0,43.0,44.0],\"xaxis\":\"x\",\"y\":[113.295,112.166,112.15299999999999,112.336,112.572,112.46600000000001,112.52000000000001,112.305,112.465,112.72,112.644,112.973,117.632,111.62100000000001,111.416,112.175,112.289,113.525,115.459,115.44800000000001,116.286,113.36099999999999,111.71600000000001,111.69200000000001,111.89099999999999,112.199,112.162,116.72399999999999,110.30799999999999,111.184,111.44,111.387,110.827,111.082,111.10300000000001,111.42,111.11699999999999,111.318,110.935,111.24000000000001,110.911,111.50800000000001],\"yaxis\":\"y\",\"type\":\"scatter\"},{\"hovertemplate\":\"Driver=LEC<br>Lap=%{x}<br>Lap Time (In seconds, Outliers/Red Flags Removed)=%{y}<extra></extra>\",\"legendgroup\":\"LEC\",\"line\":{\"color\":\"#EF1A2D\",\"dash\":\"solid\"},\"marker\":{\"symbol\":\"circle\"},\"mode\":\"lines\",\"name\":\"LEC\",\"orientation\":\"v\",\"showlegend\":true,\"x\":[1.0,2.0,3.0,4.0,5.0,6.0,7.0,8.0,9.0,10.0,11.0,12.0,13.0,15.0,16.0,17.0,18.0,19.0,20.0,21.0,22.0,23.0,24.0,25.0,26.0,27.0,28.0,30.0,31.0,32.0,33.0,34.0,35.0,36.0,37.0,38.0,39.0,40.0,41.0,42.0,43.0,44.0],\"xaxis\":\"x\",\"y\":[114.584,112.839,112.292,112.479,112.575,112.684,112.763,112.64099999999999,113.60300000000001,113.559,113.232,113.523,117.485,111.88,112.064,112.243,112.168,112.868,115.838,115.90100000000001,116.499,113.58500000000001,111.81,111.717,111.75,111.86500000000001,115.953,110.436,110.90299999999999,111.681,111.189,110.726,111.267,111.143,111.298,111.312,110.919,111.833,112.25200000000001,111.419,112.44200000000001,113.706],\"yaxis\":\"y\",\"type\":\"scatter\"},{\"hovertemplate\":\"Driver=HAM<br>Lap=%{x}<br>Lap Time (In seconds, Outliers/Red Flags Removed)=%{y}<extra></extra>\",\"legendgroup\":\"HAM\",\"line\":{\"color\":\"#00A19B\",\"dash\":\"solid\"},\"marker\":{\"symbol\":\"circle\"},\"mode\":\"lines\",\"name\":\"HAM\",\"orientation\":\"v\",\"showlegend\":true,\"x\":[1.0,2.0,3.0,4.0,5.0,6.0,7.0,8.0,9.0,10.0,11.0,14.0,15.0,16.0,17.0,18.0,19.0,20.0,21.0,22.0,23.0,24.0,25.0,26.0,27.0,29.0,30.0,31.0,32.0,33.0,34.0,35.0,36.0,37.0,38.0,39.0,40.0,41.0,42.0,44.0],\"xaxis\":\"x\",\"y\":[115.21000000000001,113.02000000000001,112.45400000000001,112.506,112.717,113.813,113.43,113.27600000000001,113.47200000000001,113.381,114.07300000000001,111.523,112.126,112.215,112.42099999999999,112.76400000000001,112.953,115.10499999999999,116.30199999999999,116.499,112.29599999999999,111.99799999999999,112.191,112.36,116.092,110.283,110.923,111.134,110.935,111.136,111.05,111.65,111.22399999999999,111.428,111.10900000000001,111.408,112.166,111.79599999999999,115.22,107.305],\"yaxis\":\"y\",\"type\":\"scatter\"},{\"hovertemplate\":\"Driver=VER<br>Lap=%{x}<br>Lap Time (In seconds, Outliers/Red Flags Removed)=%{y}<extra></extra>\",\"legendgroup\":\"VER\",\"line\":{\"color\":\"#000B8D\",\"dash\":\"solid\"},\"marker\":{\"symbol\":\"circle\"},\"mode\":\"lines\",\"name\":\"VER\",\"orientation\":\"v\",\"showlegend\":true,\"x\":[1.0,2.0,3.0,4.0,5.0,6.0,7.0,8.0,9.0,10.0,11.0,12.0,13.0,14.0,16.0,17.0,18.0,19.0,20.0,21.0,22.0,23.0,24.0,25.0,26.0,27.0,28.0,29.0,30.0,32.0,33.0,34.0,35.0,36.0,37.0,38.0,39.0,40.0,41.0,42.0,43.0,44.0],\"xaxis\":\"x\",\"y\":[115.65899999999999,113.10300000000001,112.277,112.789,112.602,112.13,112.41499999999999,112.47200000000001,111.88,112.455,112.613,112.714,112.962,117.166,110.696,110.108,111.637,111.956,115.733,114.91499999999999,115.325,112.905,110.99600000000001,111.106,111.37700000000001,111.47200000000001,111.41,111.595,115.882,108.922,110.586,110.792,110.408,110.362,110.31700000000001,110.14699999999999,110.113,110.06700000000001,109.95400000000001,110.187,110.095,110.57900000000001],\"yaxis\":\"y\",\"type\":\"scatter\"},{\"hovertemplate\":\"Driver=SAI<br>Lap=%{x}<br>Lap Time (In seconds, Outliers/Red Flags Removed)=%{y}<extra></extra>\",\"legendgroup\":\"SAI\",\"line\":{\"color\":\"#EF1A2D\",\"dash\":\"solid\"},\"marker\":{\"symbol\":\"circle\"},\"mode\":\"lines\",\"name\":\"SAI\",\"orientation\":\"v\",\"showlegend\":true,\"x\":[2.0,3.0,4.0,5.0,6.0,9.0,10.0,11.0,12.0,13.0,14.0,15.0,16.0,17.0,18.0,19.0,20.0],\"xaxis\":\"x\",\"y\":[114.247,114.718,116.245,116.97399999999999,117.25999999999999,113.138,113.893,115.201,115.119,114.907,115.076,115.834,117.532,116.062,116.221,117.541,116.426],\"yaxis\":\"y\",\"type\":\"scatter\"},{\"hovertemplate\":\"Driver=ALO<br>Lap=%{x}<br>Lap Time (In seconds, Outliers/Red Flags Removed)=%{y}<extra></extra>\",\"legendgroup\":\"ALO\",\"line\":{\"color\":\"#002420\",\"dash\":\"solid\"},\"marker\":{\"symbol\":\"circle\"},\"mode\":\"lines\",\"name\":\"ALO\",\"orientation\":\"v\",\"showlegend\":true,\"x\":[2.0,3.0,4.0,5.0,6.0,7.0,8.0,9.0,12.0,13.0,14.0,15.0,16.0,17.0,18.0,19.0,20.0,21.0,22.0,23.0,24.0,25.0,26.0,27.0,28.0,31.0,32.0,33.0,34.0,35.0,36.0,37.0,38.0,39.0,40.0,41.0,42.0,43.0,44.0],\"xaxis\":\"x\",\"y\":[114.343,114.58500000000001,113.39500000000001,113.596,113.643,113.455,113.58500000000001,113.456,111.94200000000001,112.499,111.886,113.029,112.63499999999999,112.886,112.812,113.374,115.606,116.20400000000001,116.90899999999999,114.11,112.249,112.717,112.187,112.505,112.928,112.098,111.756,110.955,111.834,111.967,111.666,111.505,111.44200000000001,111.214,111.279,111.326,110.938,111.351,111.55199999999999],\"yaxis\":\"y\",\"type\":\"scatter\"},{\"hovertemplate\":\"Driver=NOR<br>Lap=%{x}<br>Lap Time (In seconds, Outliers/Red Flags Removed)=%{y}<extra></extra>\",\"legendgroup\":\"NOR\",\"line\":{\"color\":\"#FF8000\",\"dash\":\"solid\"},\"marker\":{\"symbol\":\"circle\"},\"mode\":\"lines\",\"name\":\"NOR\",\"orientation\":\"v\",\"showlegend\":true,\"x\":[2.0,3.0,4.0,7.0,8.0,9.0,10.0,11.0,12.0,13.0,14.0,15.0,16.0,19.0,20.0,21.0,22.0,23.0,24.0,25.0,26.0,27.0,28.0,29.0,30.0,31.0,32.0,33.0,34.0,35.0,36.0,37.0,38.0,39.0,40.0,41.0,42.0,43.0,44.0],\"xaxis\":\"x\",\"y\":[114.92099999999999,114.717,116.661,113.072,113.812,113.209,114.59899999999999,113.289,113.561,114.112,115.03999999999999,115.65899999999999,115.61099999999999,111.729,111.745,113.769,113.725,112.578,112.85900000000001,112.283,111.682,111.789,111.991,112.195,112.289,112.21000000000001,111.914,112.239,112.221,112.73599999999999,112.43299999999999,112.618,112.65899999999999,112.717,112.811,112.428,112.0,112.309,112.445],\"yaxis\":\"y\",\"type\":\"scatter\"},{\"hovertemplate\":\"Driver=TSU<br>Lap=%{x}<br>Lap Time (In seconds, Outliers/Red Flags Removed)=%{y}<extra></extra>\",\"legendgroup\":\"TSU\",\"line\":{\"color\":\"#20394C\",\"dash\":\"solid\"},\"marker\":{\"symbol\":\"circle\"},\"mode\":\"lines\",\"name\":\"TSU\",\"orientation\":\"v\",\"showlegend\":true,\"x\":[2.0,3.0,4.0,5.0,6.0,7.0,8.0,11.0,12.0,13.0,14.0,15.0,16.0,17.0,18.0,19.0,20.0,21.0,22.0,23.0,26.0,27.0,28.0,29.0,30.0,31.0,32.0,33.0,34.0,35.0,36.0,37.0,38.0,39.0,40.0,41.0,42.0,43.0,44.0],\"xaxis\":\"x\",\"y\":[114.71000000000001,113.774,115.437,113.82900000000001,114.027,113.679,113.81,112.24600000000001,114.22800000000001,112.50399999999999,112.963,113.326,113.657,114.12299999999999,114.75200000000001,115.757,116.587,116.674,117.05799999999999,114.848,111.394,111.75999999999999,111.945,112.14699999999999,112.482,112.22200000000001,111.997,112.13300000000001,112.411,112.47999999999999,112.31700000000001,112.21000000000001,113.457,112.467,112.298,112.243,112.36699999999999,112.554,112.469],\"yaxis\":\"y\",\"type\":\"scatter\"},{\"hovertemplate\":\"Driver=ALB<br>Lap=%{x}<br>Lap Time (In seconds, Outliers/Red Flags Removed)=%{y}<extra></extra>\",\"legendgroup\":\"ALB\",\"line\":{\"color\":\"#00A0DE\",\"dash\":\"solid\"},\"marker\":{\"symbol\":\"circle\"},\"mode\":\"lines\",\"name\":\"ALB\",\"orientation\":\"v\",\"showlegend\":true,\"x\":[2.0,3.0,4.0,5.0,6.0,9.0,10.0,11.0,12.0,13.0,14.0,15.0,16.0,17.0,18.0,19.0,20.0,21.0,22.0,25.0,26.0,27.0,28.0,29.0,30.0,31.0,32.0,33.0,35.0,36.0,37.0,38.0,39.0,40.0,41.0,42.0,43.0,44.0],\"xaxis\":\"x\",\"y\":[114.821,113.907,115.00399999999999,115.65299999999999,114.309,111.937,111.774,113.93,113.815,113.705,113.822,114.52199999999999,115.068,114.99600000000001,114.701,115.18299999999999,116.307,116.16,115.435,111.432,111.563,111.888,112.076,112.691,113.203,112.731,114.306,117.737,109.84100000000001,110.82,111.065,111.575,112.918,112.75,112.064,112.918,111.14,111.451],\"yaxis\":\"y\",\"type\":\"scatter\"},{\"hovertemplate\":\"Driver=STR<br>Lap=%{x}<br>Lap Time (In seconds, Outliers/Red Flags Removed)=%{y}<extra></extra>\",\"legendgroup\":\"STR\",\"line\":{\"color\":\"#002420\",\"dash\":\"solid\"},\"marker\":{\"symbol\":\"circle\"},\"mode\":\"lines\",\"name\":\"STR\",\"orientation\":\"v\",\"showlegend\":true,\"x\":[2.0,3.0,4.0,5.0,6.0,7.0,8.0,9.0,10.0,11.0,12.0,13.0,14.0,15.0,16.0,17.0,18.0,19.0,22.0,23.0,24.0,25.0,26.0,27.0,28.0,29.0,30.0,31.0,32.0,33.0,34.0,35.0,36.0,37.0,38.0,39.0,40.0,41.0,42.0,43.0,44.0],\"xaxis\":\"x\",\"y\":[115.619,113.977,115.05799999999999,115.795,115.063,114.307,113.908,113.838,113.88900000000001,113.869,114.07900000000001,114.812,114.26400000000001,114.934,115.68,115.513,115.47399999999999,116.9,116.412,111.394,111.446,111.741,111.297,111.707,111.705,111.919,112.035,112.203,112.218,112.13900000000001,112.36699999999999,112.25800000000001,112.884,112.569,112.315,112.60499999999999,112.61699999999999,113.416,112.73599999999999,112.632,112.77799999999999],\"yaxis\":\"y\",\"type\":\"scatter\"},{\"hovertemplate\":\"Driver=RUS<br>Lap=%{x}<br>Lap Time (In seconds, Outliers/Red Flags Removed)=%{y}<extra></extra>\",\"legendgroup\":\"RUS\",\"line\":{\"color\":\"#00A19B\",\"dash\":\"solid\"},\"marker\":{\"symbol\":\"circle\"},\"mode\":\"lines\",\"name\":\"RUS\",\"orientation\":\"v\",\"showlegend\":true,\"x\":[2.0,3.0,4.0,5.0,6.0,7.0,8.0,9.0,10.0,11.0,12.0,13.0,14.0,15.0,16.0,17.0,18.0,19.0,20.0,21.0,24.0,25.0,26.0,27.0,28.0,29.0,30.0,31.0,32.0,33.0,34.0,35.0,36.0,37.0,38.0,39.0,40.0,41.0,42.0,43.0,44.0],\"xaxis\":\"x\",\"y\":[115.207,114.15,115.162,115.531,116.057,113.791,113.789,113.97200000000001,114.1,114.00800000000001,113.983,114.61099999999999,114.012,115.729,114.828,113.66,114.223,114.726,116.771,117.525,110.843,110.60300000000001,111.424,111.588,111.74199999999999,111.813,112.221,111.805,111.273,111.524,111.75,111.79599999999999,111.842,111.89,111.828,111.96600000000001,111.757,111.982,112.009,112.072,112.012],\"yaxis\":\"y\",\"type\":\"scatter\"},{\"hovertemplate\":\"Driver=BOT<br>Lap=%{x}<br>Lap Time (In seconds, Outliers/Red Flags Removed)=%{y}<extra></extra>\",\"legendgroup\":\"BOT\",\"line\":{\"color\":\"#A42134\",\"dash\":\"solid\"},\"marker\":{\"symbol\":\"circle\"},\"mode\":\"lines\",\"name\":\"BOT\",\"orientation\":\"v\",\"showlegend\":true,\"x\":[2.0,3.0,4.0,5.0,8.0,9.0,10.0,11.0,12.0,13.0,14.0,15.0,16.0,17.0,18.0,19.0,20.0,21.0,22.0,23.0,26.0,27.0,28.0,29.0,30.0,31.0,32.0,33.0,34.0,35.0,36.0,37.0,38.0,39.0,40.0,41.0,42.0,43.0,44.0],\"xaxis\":\"x\",\"y\":[115.608,114.834,115.571,115.59899999999999,112.919,113.499,113.782,113.53,113.411,113.924,113.719,115.311,114.537,114.71000000000001,114.982,115.107,115.52600000000001,117.084,116.219,114.59,110.515,111.131,111.46000000000001,111.672,111.904,112.128,112.898,113.414,112.188,112.412,112.39099999999999,112.12899999999999,112.077,112.396,112.344,112.363,112.382,112.17,112.23400000000001],\"yaxis\":\"y\",\"type\":\"scatter\"},{\"hovertemplate\":\"Driver=OCO<br>Lap=%{x}<br>Lap Time (In seconds, Outliers/Red Flags Removed)=%{y}<extra></extra>\",\"legendgroup\":\"OCO\",\"line\":{\"color\":\"#2173B8\",\"dash\":\"solid\"},\"marker\":{\"symbol\":\"circle\"},\"mode\":\"lines\",\"name\":\"OCO\",\"orientation\":\"v\",\"showlegend\":true,\"x\":[2.0,3.0,4.0,5.0,8.0,9.0,10.0,11.0,12.0,13.0,14.0,15.0,16.0,17.0,18.0,19.0,20.0,21.0,22.0,23.0,24.0,25.0,27.0,28.0,29.0,30.0,31.0,32.0,33.0,34.0,35.0,36.0,37.0,38.0,39.0,40.0,41.0,42.0,43.0,44.0],\"xaxis\":\"x\",\"y\":[115.42099999999999,113.75999999999999,114.967,115.85300000000001,112.48599999999999,113.128,112.232,112.962,113.238,113.38900000000001,114.08500000000001,114.456,113.606,113.702,114.951,115.886,116.533,116.37899999999999,117.125,115.10900000000001,113.714,117.52000000000001,110.439,110.774,112.095,111.75800000000001,111.807,111.595,111.864,112.092,112.727,112.533,111.809,111.48400000000001,111.869,111.876,111.098,111.71000000000001,111.664,111.92],\"yaxis\":\"y\",\"type\":\"scatter\"},{\"hovertemplate\":\"Driver=ZHO<br>Lap=%{x}<br>Lap Time (In seconds, Outliers/Red Flags Removed)=%{y}<extra></extra>\",\"legendgroup\":\"ZHO\",\"line\":{\"color\":\"#A42134\",\"dash\":\"solid\"},\"marker\":{\"symbol\":\"circle\"},\"mode\":\"lines\",\"name\":\"ZHO\",\"orientation\":\"v\",\"showlegend\":true,\"x\":[2.0,3.0,4.0,5.0,6.0,9.0,10.0,11.0,12.0,13.0,14.0,15.0,16.0,17.0,18.0,19.0,20.0,21.0,23.0,24.0,27.0,28.0,29.0,30.0,31.0,32.0,33.0,34.0,35.0,36.0,37.0,38.0,39.0,40.0,41.0,42.0,43.0,44.0],\"xaxis\":\"x\",\"y\":[115.929,115.19800000000001,114.63900000000001,116.11,115.86699999999999,112.422,113.904,112.64500000000001,113.303,113.733,113.92699999999999,114.979,114.295,114.886,115.003,115.51599999999999,115.451,115.811,115.68,114.616,110.188,111.46600000000001,112.05199999999999,112.82,112.35,112.247,111.506,112.05199999999999,112.507,112.809,112.981,113.446,113.017,111.884,113.108,111.69,112.023,112.006],\"yaxis\":\"y\",\"type\":\"scatter\"},{\"hovertemplate\":\"Driver=SAR<br>Lap=%{x}<br>Lap Time (In seconds, Outliers/Red Flags Removed)=%{y}<extra></extra>\",\"legendgroup\":\"SAR\",\"line\":{\"color\":\"#00A0DE\",\"dash\":\"solid\"},\"marker\":{\"symbol\":\"circle\"},\"mode\":\"lines\",\"name\":\"SAR\",\"orientation\":\"v\",\"showlegend\":true,\"x\":[2.0,3.0,4.0,5.0,6.0,7.0,10.0,11.0,12.0,13.0,14.0,15.0,16.0,17.0,18.0,19.0,20.0,21.0,22.0,23.0,26.0,27.0,28.0,29.0,30.0,31.0,32.0,33.0,34.0,36.0,37.0,38.0,39.0,40.0,41.0,42.0,43.0,44.0],\"xaxis\":\"x\",\"y\":[115.985,114.142,114.152,115.729,115.947,115.4,113.73599999999999,114.844,115.497,114.596,114.962,115.749,113.822,114.913,115.069,114.60300000000001,115.57900000000001,115.771,115.602,114.85300000000001,110.667,111.32900000000001,111.821,112.19200000000001,112.727,112.285,112.6,113.556,117.48400000000001,110.23599999999999,110.48599999999999,110.818,111.513,112.082,111.581,112.364,111.241,112.59],\"yaxis\":\"y\",\"type\":\"scatter\"},{\"hovertemplate\":\"Driver=GAS<br>Lap=%{x}<br>Lap Time (In seconds, Outliers/Red Flags Removed)=%{y}<extra></extra>\",\"legendgroup\":\"GAS\",\"line\":{\"color\":\"#2173B8\",\"dash\":\"solid\"},\"marker\":{\"symbol\":\"circle\"},\"mode\":\"lines\",\"name\":\"GAS\",\"orientation\":\"v\",\"showlegend\":true,\"x\":[2.0,3.0,4.0,5.0,6.0,7.0,8.0,9.0,10.0,11.0,12.0,13.0,14.0,15.0,16.0,17.0,18.0,19.0,20.0,21.0,22.0,25.0,26.0,27.0,28.0,29.0,30.0,31.0,32.0,33.0,34.0,35.0,36.0,37.0,38.0,39.0,40.0,41.0,42.0,43.0,44.0],\"xaxis\":\"x\",\"y\":[116.015,114.814,114.37100000000001,115.41499999999999,115.56,115.449,113.98400000000001,113.43,113.587,113.822,113.64099999999999,113.769,114.01400000000001,115.35900000000001,114.782,114.87,115.27799999999999,115.566,116.854,116.834,117.187,110.911,111.509,111.96600000000001,112.131,113.343,112.362,112.866,113.09700000000001,112.384,112.24600000000001,112.02199999999999,112.227,111.902,111.831,112.369,112.084,111.8,112.23400000000001,113.02199999999999,113.093],\"yaxis\":\"y\",\"type\":\"scatter\"},{\"hovertemplate\":\"Driver=HUL<br>Lap=%{x}<br>Lap Time (In seconds, Outliers/Red Flags Removed)=%{y}<extra></extra>\",\"legendgroup\":\"HUL\",\"line\":{\"color\":\"#E6002B\",\"dash\":\"solid\"},\"marker\":{\"symbol\":\"circle\"},\"mode\":\"lines\",\"name\":\"HUL\",\"orientation\":\"v\",\"showlegend\":true,\"x\":[2.0,3.0,4.0,5.0,6.0,7.0,8.0,9.0,10.0,11.0,14.0,15.0,16.0,17.0,18.0,19.0,20.0,21.0,22.0,23.0,24.0,26.0,27.0,28.0,29.0,30.0,31.0,32.0,33.0,34.0,35.0,36.0,37.0,38.0,39.0,40.0,41.0,42.0,43.0,44.0],\"xaxis\":\"x\",\"y\":[115.743,115.176,114.581,115.53,115.923,115.607,114.741,115.36,114.655,114.262,112.348,115.586,113.91,114.852,112.937,113.743,114.393,114.691,117.8,113.292,117.257,109.907,111.225,111.545,111.844,112.495,112.588,112.332,112.601,113.056,113.676,113.40100000000001,113.019,113.62100000000001,113.52199999999999,115.25999999999999,113.845,116.987,115.314,114.845],\"yaxis\":\"y\",\"type\":\"scatter\"},{\"hovertemplate\":\"Driver=MAG<br>Lap=%{x}<br>Lap Time (In seconds, Outliers/Red Flags Removed)=%{y}<extra></extra>\",\"legendgroup\":\"MAG\",\"line\":{\"color\":\"#E6002B\",\"dash\":\"solid\"},\"marker\":{\"symbol\":\"circle\"},\"mode\":\"lines\",\"name\":\"MAG\",\"orientation\":\"v\",\"showlegend\":true,\"x\":[2.0,3.0,4.0,7.0,8.0,9.0,10.0,11.0,12.0,13.0,14.0,15.0,16.0,17.0,18.0,19.0,20.0,21.0,22.0,23.0,24.0,27.0,28.0,29.0,30.0,31.0,32.0,33.0,34.0,35.0,36.0,37.0,38.0,39.0,40.0,41.0,42.0,43.0,44.0],\"xaxis\":\"x\",\"y\":[115.592,115.40299999999999,114.63499999999999,111.53399999999999,112.64500000000001,113.819,114.00999999999999,113.589,113.828,114.086,114.434,115.185,114.434,114.689,114.812,114.843,115.62100000000001,116.02600000000001,116.72,114.76400000000001,114.351,110.993,111.362,111.804,112.039,112.541,112.826,112.814,112.789,113.22999999999999,113.437,113.413,113.10300000000001,113.436,113.598,113.446,115.23599999999999,113.95,113.438],\"yaxis\":\"y\",\"type\":\"scatter\"},{\"hovertemplate\":\"Driver=RIC<br>Lap=%{x}<br>Lap Time (In seconds, Outliers/Red Flags Removed)=%{y}<extra></extra>\",\"legendgroup\":\"RIC\",\"line\":{\"color\":\"#20394C\",\"dash\":\"solid\"},\"marker\":{\"symbol\":\"circle\"},\"mode\":\"lines\",\"name\":\"RIC\",\"orientation\":\"v\",\"showlegend\":true,\"x\":[2.0,3.0,4.0,7.0,8.0,9.0,10.0,11.0,12.0,13.0,14.0,15.0,16.0,17.0,18.0,19.0,20.0,21.0,24.0,25.0,26.0,27.0,28.0,29.0,30.0,31.0,32.0,33.0,34.0,35.0,36.0,37.0,38.0,39.0,40.0,41.0,42.0,43.0,44.0],\"xaxis\":\"x\",\"y\":[116.00999999999999,115.20400000000001,114.815,112.398,112.975,113.378,113.03399999999999,113.369,113.535,114.036,114.32300000000001,115.31,114.625,114.58,114.826,115.001,115.672,117.354,111.719,110.994,111.932,111.56700000000001,111.634,112.143,111.975,112.068,112.419,112.469,112.824,113.39099999999999,113.215,113.131,113.461,114.52000000000001,114.36099999999999,113.36699999999999,115.247,112.11500000000001,112.265],\"yaxis\":\"y\",\"type\":\"scatter\"}],                        {\"template\":{\"data\":{\"histogram2dcontour\":[{\"type\":\"histogram2dcontour\",\"colorbar\":{\"outlinewidth\":0,\"ticks\":\"\"},\"colorscale\":[[0.0,\"#0d0887\"],[0.1111111111111111,\"#46039f\"],[0.2222222222222222,\"#7201a8\"],[0.3333333333333333,\"#9c179e\"],[0.4444444444444444,\"#bd3786\"],[0.5555555555555556,\"#d8576b\"],[0.6666666666666666,\"#ed7953\"],[0.7777777777777778,\"#fb9f3a\"],[0.8888888888888888,\"#fdca26\"],[1.0,\"#f0f921\"]]}],\"choropleth\":[{\"type\":\"choropleth\",\"colorbar\":{\"outlinewidth\":0,\"ticks\":\"\"}}],\"histogram2d\":[{\"type\":\"histogram2d\",\"colorbar\":{\"outlinewidth\":0,\"ticks\":\"\"},\"colorscale\":[[0.0,\"#0d0887\"],[0.1111111111111111,\"#46039f\"],[0.2222222222222222,\"#7201a8\"],[0.3333333333333333,\"#9c179e\"],[0.4444444444444444,\"#bd3786\"],[0.5555555555555556,\"#d8576b\"],[0.6666666666666666,\"#ed7953\"],[0.7777777777777778,\"#fb9f3a\"],[0.8888888888888888,\"#fdca26\"],[1.0,\"#f0f921\"]]}],\"heatmap\":[{\"type\":\"heatmap\",\"colorbar\":{\"outlinewidth\":0,\"ticks\":\"\"},\"colorscale\":[[0.0,\"#0d0887\"],[0.1111111111111111,\"#46039f\"],[0.2222222222222222,\"#7201a8\"],[0.3333333333333333,\"#9c179e\"],[0.4444444444444444,\"#bd3786\"],[0.5555555555555556,\"#d8576b\"],[0.6666666666666666,\"#ed7953\"],[0.7777777777777778,\"#fb9f3a\"],[0.8888888888888888,\"#fdca26\"],[1.0,\"#f0f921\"]]}],\"heatmapgl\":[{\"type\":\"heatmapgl\",\"colorbar\":{\"outlinewidth\":0,\"ticks\":\"\"},\"colorscale\":[[0.0,\"#0d0887\"],[0.1111111111111111,\"#46039f\"],[0.2222222222222222,\"#7201a8\"],[0.3333333333333333,\"#9c179e\"],[0.4444444444444444,\"#bd3786\"],[0.5555555555555556,\"#d8576b\"],[0.6666666666666666,\"#ed7953\"],[0.7777777777777778,\"#fb9f3a\"],[0.8888888888888888,\"#fdca26\"],[1.0,\"#f0f921\"]]}],\"contourcarpet\":[{\"type\":\"contourcarpet\",\"colorbar\":{\"outlinewidth\":0,\"ticks\":\"\"}}],\"contour\":[{\"type\":\"contour\",\"colorbar\":{\"outlinewidth\":0,\"ticks\":\"\"},\"colorscale\":[[0.0,\"#0d0887\"],[0.1111111111111111,\"#46039f\"],[0.2222222222222222,\"#7201a8\"],[0.3333333333333333,\"#9c179e\"],[0.4444444444444444,\"#bd3786\"],[0.5555555555555556,\"#d8576b\"],[0.6666666666666666,\"#ed7953\"],[0.7777777777777778,\"#fb9f3a\"],[0.8888888888888888,\"#fdca26\"],[1.0,\"#f0f921\"]]}],\"surface\":[{\"type\":\"surface\",\"colorbar\":{\"outlinewidth\":0,\"ticks\":\"\"},\"colorscale\":[[0.0,\"#0d0887\"],[0.1111111111111111,\"#46039f\"],[0.2222222222222222,\"#7201a8\"],[0.3333333333333333,\"#9c179e\"],[0.4444444444444444,\"#bd3786\"],[0.5555555555555556,\"#d8576b\"],[0.6666666666666666,\"#ed7953\"],[0.7777777777777778,\"#fb9f3a\"],[0.8888888888888888,\"#fdca26\"],[1.0,\"#f0f921\"]]}],\"mesh3d\":[{\"type\":\"mesh3d\",\"colorbar\":{\"outlinewidth\":0,\"ticks\":\"\"}}],\"scatter\":[{\"fillpattern\":{\"fillmode\":\"overlay\",\"size\":10,\"solidity\":0.2},\"type\":\"scatter\"}],\"parcoords\":[{\"type\":\"parcoords\",\"line\":{\"colorbar\":{\"outlinewidth\":0,\"ticks\":\"\"}}}],\"scatterpolargl\":[{\"type\":\"scatterpolargl\",\"marker\":{\"colorbar\":{\"outlinewidth\":0,\"ticks\":\"\"}}}],\"bar\":[{\"error_x\":{\"color\":\"#2a3f5f\"},\"error_y\":{\"color\":\"#2a3f5f\"},\"marker\":{\"line\":{\"color\":\"#E5ECF6\",\"width\":0.5},\"pattern\":{\"fillmode\":\"overlay\",\"size\":10,\"solidity\":0.2}},\"type\":\"bar\"}],\"scattergeo\":[{\"type\":\"scattergeo\",\"marker\":{\"colorbar\":{\"outlinewidth\":0,\"ticks\":\"\"}}}],\"scatterpolar\":[{\"type\":\"scatterpolar\",\"marker\":{\"colorbar\":{\"outlinewidth\":0,\"ticks\":\"\"}}}],\"histogram\":[{\"marker\":{\"pattern\":{\"fillmode\":\"overlay\",\"size\":10,\"solidity\":0.2}},\"type\":\"histogram\"}],\"scattergl\":[{\"type\":\"scattergl\",\"marker\":{\"colorbar\":{\"outlinewidth\":0,\"ticks\":\"\"}}}],\"scatter3d\":[{\"type\":\"scatter3d\",\"line\":{\"colorbar\":{\"outlinewidth\":0,\"ticks\":\"\"}},\"marker\":{\"colorbar\":{\"outlinewidth\":0,\"ticks\":\"\"}}}],\"scattermapbox\":[{\"type\":\"scattermapbox\",\"marker\":{\"colorbar\":{\"outlinewidth\":0,\"ticks\":\"\"}}}],\"scatterternary\":[{\"type\":\"scatterternary\",\"marker\":{\"colorbar\":{\"outlinewidth\":0,\"ticks\":\"\"}}}],\"scattercarpet\":[{\"type\":\"scattercarpet\",\"marker\":{\"colorbar\":{\"outlinewidth\":0,\"ticks\":\"\"}}}],\"carpet\":[{\"aaxis\":{\"endlinecolor\":\"#2a3f5f\",\"gridcolor\":\"white\",\"linecolor\":\"white\",\"minorgridcolor\":\"white\",\"startlinecolor\":\"#2a3f5f\"},\"baxis\":{\"endlinecolor\":\"#2a3f5f\",\"gridcolor\":\"white\",\"linecolor\":\"white\",\"minorgridcolor\":\"white\",\"startlinecolor\":\"#2a3f5f\"},\"type\":\"carpet\"}],\"table\":[{\"cells\":{\"fill\":{\"color\":\"#EBF0F8\"},\"line\":{\"color\":\"white\"}},\"header\":{\"fill\":{\"color\":\"#C8D4E3\"},\"line\":{\"color\":\"white\"}},\"type\":\"table\"}],\"barpolar\":[{\"marker\":{\"line\":{\"color\":\"#E5ECF6\",\"width\":0.5},\"pattern\":{\"fillmode\":\"overlay\",\"size\":10,\"solidity\":0.2}},\"type\":\"barpolar\"}],\"pie\":[{\"automargin\":true,\"type\":\"pie\"}]},\"layout\":{\"autotypenumbers\":\"strict\",\"colorway\":[\"#636efa\",\"#EF553B\",\"#00cc96\",\"#ab63fa\",\"#FFA15A\",\"#19d3f3\",\"#FF6692\",\"#B6E880\",\"#FF97FF\",\"#FECB52\"],\"font\":{\"color\":\"#2a3f5f\"},\"hovermode\":\"closest\",\"hoverlabel\":{\"align\":\"left\"},\"paper_bgcolor\":\"white\",\"plot_bgcolor\":\"#E5ECF6\",\"polar\":{\"bgcolor\":\"#E5ECF6\",\"angularaxis\":{\"gridcolor\":\"white\",\"linecolor\":\"white\",\"ticks\":\"\"},\"radialaxis\":{\"gridcolor\":\"white\",\"linecolor\":\"white\",\"ticks\":\"\"}},\"ternary\":{\"bgcolor\":\"#E5ECF6\",\"aaxis\":{\"gridcolor\":\"white\",\"linecolor\":\"white\",\"ticks\":\"\"},\"baxis\":{\"gridcolor\":\"white\",\"linecolor\":\"white\",\"ticks\":\"\"},\"caxis\":{\"gridcolor\":\"white\",\"linecolor\":\"white\",\"ticks\":\"\"}},\"coloraxis\":{\"colorbar\":{\"outlinewidth\":0,\"ticks\":\"\"}},\"colorscale\":{\"sequential\":[[0.0,\"#0d0887\"],[0.1111111111111111,\"#46039f\"],[0.2222222222222222,\"#7201a8\"],[0.3333333333333333,\"#9c179e\"],[0.4444444444444444,\"#bd3786\"],[0.5555555555555556,\"#d8576b\"],[0.6666666666666666,\"#ed7953\"],[0.7777777777777778,\"#fb9f3a\"],[0.8888888888888888,\"#fdca26\"],[1.0,\"#f0f921\"]],\"sequentialminus\":[[0.0,\"#0d0887\"],[0.1111111111111111,\"#46039f\"],[0.2222222222222222,\"#7201a8\"],[0.3333333333333333,\"#9c179e\"],[0.4444444444444444,\"#bd3786\"],[0.5555555555555556,\"#d8576b\"],[0.6666666666666666,\"#ed7953\"],[0.7777777777777778,\"#fb9f3a\"],[0.8888888888888888,\"#fdca26\"],[1.0,\"#f0f921\"]],\"diverging\":[[0,\"#8e0152\"],[0.1,\"#c51b7d\"],[0.2,\"#de77ae\"],[0.3,\"#f1b6da\"],[0.4,\"#fde0ef\"],[0.5,\"#f7f7f7\"],[0.6,\"#e6f5d0\"],[0.7,\"#b8e186\"],[0.8,\"#7fbc41\"],[0.9,\"#4d9221\"],[1,\"#276419\"]]},\"xaxis\":{\"gridcolor\":\"white\",\"linecolor\":\"white\",\"ticks\":\"\",\"title\":{\"standoff\":15},\"zerolinecolor\":\"white\",\"automargin\":true,\"zerolinewidth\":2},\"yaxis\":{\"gridcolor\":\"white\",\"linecolor\":\"white\",\"ticks\":\"\",\"title\":{\"standoff\":15},\"zerolinecolor\":\"white\",\"automargin\":true,\"zerolinewidth\":2},\"scene\":{\"xaxis\":{\"backgroundcolor\":\"#E5ECF6\",\"gridcolor\":\"white\",\"linecolor\":\"white\",\"showbackground\":true,\"ticks\":\"\",\"zerolinecolor\":\"white\",\"gridwidth\":2},\"yaxis\":{\"backgroundcolor\":\"#E5ECF6\",\"gridcolor\":\"white\",\"linecolor\":\"white\",\"showbackground\":true,\"ticks\":\"\",\"zerolinecolor\":\"white\",\"gridwidth\":2},\"zaxis\":{\"backgroundcolor\":\"#E5ECF6\",\"gridcolor\":\"white\",\"linecolor\":\"white\",\"showbackground\":true,\"ticks\":\"\",\"zerolinecolor\":\"white\",\"gridwidth\":2}},\"shapedefaults\":{\"line\":{\"color\":\"#2a3f5f\"}},\"annotationdefaults\":{\"arrowcolor\":\"#2a3f5f\",\"arrowhead\":0,\"arrowwidth\":1},\"geo\":{\"bgcolor\":\"white\",\"landcolor\":\"#E5ECF6\",\"subunitcolor\":\"white\",\"showland\":true,\"showlakes\":true,\"lakecolor\":\"white\"},\"title\":{\"x\":0.05},\"mapbox\":{\"style\":\"light\"}}},\"xaxis\":{\"anchor\":\"y\",\"domain\":[0.0,1.0],\"title\":{\"text\":\"Lap\"}},\"yaxis\":{\"anchor\":\"x\",\"domain\":[0.0,1.0],\"title\":{\"text\":\"Lap Time (In seconds, Outliers/Red Flags Removed)\"}},\"legend\":{\"title\":{\"text\":\"Driver\"},\"tracegroupgap\":0},\"title\":{\"text\":\"<b>Lap Times</b>\",\"font\":{\"family\":\"Arial, sans-serif\",\"size\":30},\"x\":0.5},\"updatemenus\":[{\"active\":0,\"buttons\":[{\"args\":[{\"visible\":[true,true,true,true,true,true,true,true,true,true,true,true,true,true,true,true,true,true,true,true],\"title\":\"All\",\"showlegend\":true}],\"label\":\"All\",\"method\":\"update\"},{\"args\":[{\"visible\":[true,false,false,false,false,false,false,false,false,false,false,false,false,false,false,false,false,false,false,false],\"title\":\"ALB\",\"showlegend\":true}],\"label\":\"ALB\",\"method\":\"update\"},{\"args\":[{\"visible\":[false,true,false,false,false,false,false,false,false,false,false,false,false,false,false,false,false,false,false,false],\"title\":\"ALO\",\"showlegend\":true}],\"label\":\"ALO\",\"method\":\"update\"},{\"args\":[{\"visible\":[false,false,true,false,false,false,false,false,false,false,false,false,false,false,false,false,false,false,false,false],\"title\":\"BOT\",\"showlegend\":true}],\"label\":\"BOT\",\"method\":\"update\"},{\"args\":[{\"visible\":[false,false,false,true,false,false,false,false,false,false,false,false,false,false,false,false,false,false,false,false],\"title\":\"GAS\",\"showlegend\":true}],\"label\":\"GAS\",\"method\":\"update\"},{\"args\":[{\"visible\":[false,false,false,false,true,false,false,false,false,false,false,false,false,false,false,false,false,false,false,false],\"title\":\"HAM\",\"showlegend\":true}],\"label\":\"HAM\",\"method\":\"update\"},{\"args\":[{\"visible\":[false,false,false,false,false,true,false,false,false,false,false,false,false,false,false,false,false,false,false,false],\"title\":\"HUL\",\"showlegend\":true}],\"label\":\"HUL\",\"method\":\"update\"},{\"args\":[{\"visible\":[false,false,false,false,false,false,true,false,false,false,false,false,false,false,false,false,false,false,false,false],\"title\":\"LEC\",\"showlegend\":true}],\"label\":\"LEC\",\"method\":\"update\"},{\"args\":[{\"visible\":[false,false,false,false,false,false,false,true,false,false,false,false,false,false,false,false,false,false,false,false],\"title\":\"MAG\",\"showlegend\":true}],\"label\":\"MAG\",\"method\":\"update\"},{\"args\":[{\"visible\":[false,false,false,false,false,false,false,false,true,false,false,false,false,false,false,false,false,false,false,false],\"title\":\"NOR\",\"showlegend\":true}],\"label\":\"NOR\",\"method\":\"update\"},{\"args\":[{\"visible\":[false,false,false,false,false,false,false,false,false,true,false,false,false,false,false,false,false,false,false,false],\"title\":\"OCO\",\"showlegend\":true}],\"label\":\"OCO\",\"method\":\"update\"},{\"args\":[{\"visible\":[false,false,false,false,false,false,false,false,false,false,true,false,false,false,false,false,false,false,false,false],\"title\":\"PER\",\"showlegend\":true}],\"label\":\"PER\",\"method\":\"update\"},{\"args\":[{\"visible\":[false,false,false,false,false,false,false,false,false,false,false,true,false,false,false,false,false,false,false,false],\"title\":\"PIA\",\"showlegend\":true}],\"label\":\"PIA\",\"method\":\"update\"},{\"args\":[{\"visible\":[false,false,false,false,false,false,false,false,false,false,false,false,true,false,false,false,false,false,false,false],\"title\":\"RIC\",\"showlegend\":true}],\"label\":\"RIC\",\"method\":\"update\"},{\"args\":[{\"visible\":[false,false,false,false,false,false,false,false,false,false,false,false,false,true,false,false,false,false,false,false],\"title\":\"RUS\",\"showlegend\":true}],\"label\":\"RUS\",\"method\":\"update\"},{\"args\":[{\"visible\":[false,false,false,false,false,false,false,false,false,false,false,false,false,false,true,false,false,false,false,false],\"title\":\"SAI\",\"showlegend\":true}],\"label\":\"SAI\",\"method\":\"update\"},{\"args\":[{\"visible\":[false,false,false,false,false,false,false,false,false,false,false,false,false,false,false,true,false,false,false,false],\"title\":\"SAR\",\"showlegend\":true}],\"label\":\"SAR\",\"method\":\"update\"},{\"args\":[{\"visible\":[false,false,false,false,false,false,false,false,false,false,false,false,false,false,false,false,true,false,false,false],\"title\":\"STR\",\"showlegend\":true}],\"label\":\"STR\",\"method\":\"update\"},{\"args\":[{\"visible\":[false,false,false,false,false,false,false,false,false,false,false,false,false,false,false,false,false,true,false,false],\"title\":\"TSU\",\"showlegend\":true}],\"label\":\"TSU\",\"method\":\"update\"},{\"args\":[{\"visible\":[false,false,false,false,false,false,false,false,false,false,false,false,false,false,false,false,false,false,true,false],\"title\":\"VER\",\"showlegend\":true}],\"label\":\"VER\",\"method\":\"update\"},{\"args\":[{\"visible\":[false,false,false,false,false,false,false,false,false,false,false,false,false,false,false,false,false,false,false,true],\"title\":\"ZHO\",\"showlegend\":true}],\"label\":\"ZHO\",\"method\":\"update\"}]}]},                        {\"responsive\": true}                    ).then(function(){\n",
       "                            \n",
       "var gd = document.getElementById('4fe8aae6-ecea-4177-8115-60fb92f69b84');\n",
       "var x = new MutationObserver(function (mutations, observer) {{\n",
       "        var display = window.getComputedStyle(gd).display;\n",
       "        if (!display || display === 'none') {{\n",
       "            console.log([gd, 'removed!']);\n",
       "            Plotly.purge(gd);\n",
       "            observer.disconnect();\n",
       "        }}\n",
       "}});\n",
       "\n",
       "// Listen for the removal of the full notebook cells\n",
       "var notebookContainer = gd.closest('#notebook-container');\n",
       "if (notebookContainer) {{\n",
       "    x.observe(notebookContainer, {childList: true});\n",
       "}}\n",
       "\n",
       "// Listen for the clearing of the current output cell\n",
       "var outputEl = gd.closest('.output');\n",
       "if (outputEl) {{\n",
       "    x.observe(outputEl, {childList: true});\n",
       "}}\n",
       "\n",
       "                        })                };                });            </script>        </div>"
      ]
     },
     "metadata": {},
     "output_type": "display_data"
    }
   ],
   "source": [
    "if not lap_tim_emp:\n",
    "    multi_lap_plot(mapping)"
   ]
  },
  {
   "cell_type": "code",
   "execution_count": 30,
   "id": "d83795a1",
   "metadata": {
    "_kg_hide-input": true,
    "execution": {
     "iopub.execute_input": "2023-08-05T01:22:29.770949Z",
     "iopub.status.busy": "2023-08-05T01:22:29.770481Z",
     "iopub.status.idle": "2023-08-05T01:22:29.953853Z",
     "shell.execute_reply": "2023-08-05T01:22:29.952446Z"
    },
    "papermill": {
     "duration": 0.211566,
     "end_time": "2023-08-05T01:22:29.956786",
     "exception": false,
     "start_time": "2023-08-05T01:22:29.745220",
     "status": "completed"
    },
    "tags": []
   },
   "outputs": [
    {
     "data": {
      "text/html": [
       "<div>                            <div id=\"3b18d89d-c05f-42e2-8222-ab8d0fa5f27f\" class=\"plotly-graph-div\" style=\"height:525px; width:100%;\"></div>            <script type=\"text/javascript\">                require([\"plotly\"], function(Plotly) {                    window.PLOTLYENV=window.PLOTLYENV || {};                                    if (document.getElementById(\"3b18d89d-c05f-42e2-8222-ab8d0fa5f27f\")) {                    Plotly.newPlot(                        \"3b18d89d-c05f-42e2-8222-ab8d0fa5f27f\",                        [{\"hovertemplate\":\"Driver=PER<br>Lap=%{x}<br>Position=%{y}<extra></extra>\",\"legendgroup\":\"PER\",\"line\":{\"color\":\"#000B8D\",\"dash\":\"solid\"},\"marker\":{\"symbol\":\"circle\"},\"mode\":\"lines\",\"name\":\"PER\",\"orientation\":\"v\",\"showlegend\":true,\"x\":[1.0,2.0,3.0,4.0,5.0,6.0,7.0,8.0,9.0,10.0,11.0,12.0,13.0,14.0,15.0,16.0,17.0,18.0,19.0,20.0,21.0,22.0,23.0,24.0,25.0,26.0,27.0,28.0,29.0,30.0,31.0,32.0,33.0,34.0,35.0,36.0,37.0,38.0,39.0,40.0,41.0,42.0,43.0,44.0],\"xaxis\":\"x\",\"y\":[1,1,1,1,1,1,1,1,1,1,1,1,2,2,1,1,2,2,2,2,2,2,2,2,2,2,2,2,2,2,2,2,2,2,2,2,2,2,2,2,2,2,2,2],\"yaxis\":\"y\",\"type\":\"scatter\"},{\"hovertemplate\":\"Driver=LEC<br>Lap=%{x}<br>Position=%{y}<extra></extra>\",\"legendgroup\":\"LEC\",\"line\":{\"color\":\"#EF1A2D\",\"dash\":\"solid\"},\"marker\":{\"symbol\":\"circle\"},\"mode\":\"lines\",\"name\":\"LEC\",\"orientation\":\"v\",\"showlegend\":true,\"x\":[1.0,2.0,3.0,4.0,5.0,6.0,7.0,8.0,9.0,10.0,11.0,12.0,13.0,14.0,15.0,16.0,17.0,18.0,19.0,20.0,21.0,22.0,23.0,24.0,25.0,26.0,27.0,28.0,29.0,30.0,31.0,32.0,33.0,34.0,35.0,36.0,37.0,38.0,39.0,40.0,41.0,42.0,43.0,44.0],\"xaxis\":\"x\",\"y\":[2,2,2,2,2,2,2,2,3,3,3,3,3,3,3,3,3,3,3,3,3,3,3,3,3,3,3,3,3,3,3,3,3,3,3,3,3,3,3,3,3,3,3,3],\"yaxis\":\"y\",\"type\":\"scatter\"},{\"hovertemplate\":\"Driver=HAM<br>Lap=%{x}<br>Position=%{y}<extra></extra>\",\"legendgroup\":\"HAM\",\"line\":{\"color\":\"#00A19B\",\"dash\":\"solid\"},\"marker\":{\"symbol\":\"circle\"},\"mode\":\"lines\",\"name\":\"HAM\",\"orientation\":\"v\",\"showlegend\":true,\"x\":[1.0,2.0,3.0,4.0,5.0,6.0,7.0,8.0,9.0,10.0,11.0,12.0,13.0,14.0,15.0,16.0,17.0,18.0,19.0,20.0,21.0,22.0,23.0,24.0,25.0,26.0,27.0,28.0,29.0,30.0,31.0,32.0,33.0,34.0,35.0,36.0,37.0,38.0,39.0,40.0,41.0,42.0,43.0,44.0],\"xaxis\":\"x\",\"y\":[3,3,3,3,3,4,4,4,4,4,4,4,4,4,4,4,4,4,4,4,4,4,4,4,4,4,4,5,4,4,4,4,4,4,4,4,4,4,4,4,4,4,4,4],\"yaxis\":\"y\",\"type\":\"scatter\"},{\"hovertemplate\":\"Driver=VER<br>Lap=%{x}<br>Position=%{y}<extra></extra>\",\"legendgroup\":\"VER\",\"line\":{\"color\":\"#000B8D\",\"dash\":\"solid\"},\"marker\":{\"symbol\":\"circle\"},\"mode\":\"lines\",\"name\":\"VER\",\"orientation\":\"v\",\"showlegend\":true,\"x\":[1.0,2.0,3.0,4.0,5.0,6.0,7.0,8.0,9.0,10.0,11.0,12.0,13.0,14.0,15.0,16.0,17.0,18.0,19.0,20.0,21.0,22.0,23.0,24.0,25.0,26.0,27.0,28.0,29.0,30.0,31.0,32.0,33.0,34.0,35.0,36.0,37.0,38.0,39.0,40.0,41.0,42.0,43.0,44.0],\"xaxis\":\"x\",\"y\":[4,4,4,4,4,3,3,3,2,2,2,2,1,1,2,2,1,1,1,1,1,1,1,1,1,1,1,1,1,1,1,1,1,1,1,1,1,1,1,1,1,1,1,1],\"yaxis\":\"y\",\"type\":\"scatter\"},{\"hovertemplate\":\"Driver=SAI<br>Lap=%{x}<br>Position=%{y}<extra></extra>\",\"legendgroup\":\"SAI\",\"line\":{\"color\":\"#EF1A2D\",\"dash\":\"solid\"},\"marker\":{\"symbol\":\"circle\"},\"mode\":\"lines\",\"name\":\"SAI\",\"orientation\":\"v\",\"showlegend\":true,\"x\":[1.0,2.0,3.0,4.0,5.0,6.0,7.0,8.0,9.0,10.0,11.0,12.0,13.0,14.0,15.0,16.0,17.0,18.0,19.0,20.0,21.0,22.0,23.0],\"xaxis\":\"x\",\"y\":[5,5,5,6,8,10,13,18,17,17,18,18,17,17,17,19,19,18,19,19,19,19,19],\"yaxis\":\"y\",\"type\":\"scatter\"},{\"hovertemplate\":\"Driver=ALO<br>Lap=%{x}<br>Position=%{y}<extra></extra>\",\"legendgroup\":\"ALO\",\"line\":{\"color\":\"#002420\",\"dash\":\"solid\"},\"marker\":{\"symbol\":\"circle\"},\"mode\":\"lines\",\"name\":\"ALO\",\"orientation\":\"v\",\"showlegend\":true,\"x\":[1.0,2.0,3.0,4.0,5.0,6.0,7.0,8.0,9.0,10.0,11.0,12.0,13.0,14.0,15.0,16.0,17.0,18.0,19.0,20.0,21.0,22.0,23.0,24.0,25.0,26.0,27.0,28.0,29.0,30.0,31.0,32.0,33.0,34.0,35.0,36.0,37.0,38.0,39.0,40.0,41.0,42.0,43.0,44.0],\"xaxis\":\"x\",\"y\":[6,6,6,5,5,5,5,5,5,5,9,8,8,8,6,5,5,5,5,5,5,5,5,5,5,5,5,4,5,5,5,5,5,5,5,5,5,5,5,5,5,5,5,5],\"yaxis\":\"y\",\"type\":\"scatter\"},{\"hovertemplate\":\"Driver=NOR<br>Lap=%{x}<br>Position=%{y}<extra></extra>\",\"legendgroup\":\"NOR\",\"line\":{\"color\":\"#FF8000\",\"dash\":\"solid\"},\"marker\":{\"symbol\":\"circle\"},\"mode\":\"lines\",\"name\":\"NOR\",\"orientation\":\"v\",\"showlegend\":true,\"x\":[1.0,2.0,3.0,4.0,5.0,6.0,7.0,8.0,9.0,10.0,11.0,12.0,13.0,14.0,15.0,16.0,17.0,18.0,19.0,20.0,21.0,22.0,23.0,24.0,25.0,26.0,27.0,28.0,29.0,30.0,31.0,32.0,33.0,34.0,35.0,36.0,37.0,38.0,39.0,40.0,41.0,42.0,43.0,44.0],\"xaxis\":\"x\",\"y\":[7,7,8,10,17,17,16,15,14,15,15,15,14,15,15,16,16,19,18,18,17,15,13,9,8,7,7,7,7,7,7,7,7,7,7,7,7,7,7,7,7,7,7,7],\"yaxis\":\"y\",\"type\":\"scatter\"},{\"hovertemplate\":\"Driver=TSU<br>Lap=%{x}<br>Position=%{y}<extra></extra>\",\"legendgroup\":\"TSU\",\"line\":{\"color\":\"#20394C\",\"dash\":\"solid\"},\"marker\":{\"symbol\":\"circle\"},\"mode\":\"lines\",\"name\":\"TSU\",\"orientation\":\"v\",\"showlegend\":true,\"x\":[1.0,2.0,3.0,4.0,5.0,6.0,7.0,8.0,9.0,10.0,11.0,12.0,13.0,14.0,15.0,16.0,17.0,18.0,19.0,20.0,21.0,22.0,23.0,24.0,25.0,26.0,27.0,28.0,29.0,30.0,31.0,32.0,33.0,34.0,35.0,36.0,37.0,38.0,39.0,40.0,41.0,42.0,43.0,44.0],\"xaxis\":\"x\",\"y\":[8,8,7,7,6,6,6,6,6,11,10,9,9,9,9,9,9,9,9,8,8,7,6,6,11,9,9,9,9,9,9,9,9,9,9,9,9,10,10,10,10,10,10,10],\"yaxis\":\"y\",\"type\":\"scatter\"},{\"hovertemplate\":\"Driver=STR<br>Lap=%{x}<br>Position=%{y}<extra></extra>\",\"legendgroup\":\"STR\",\"line\":{\"color\":\"#002420\",\"dash\":\"solid\"},\"marker\":{\"symbol\":\"circle\"},\"mode\":\"lines\",\"name\":\"STR\",\"orientation\":\"v\",\"showlegend\":true,\"x\":[1.0,2.0,3.0,4.0,5.0,6.0,7.0,8.0,9.0,10.0,11.0,12.0,13.0,14.0,15.0,16.0,17.0,18.0,19.0,20.0,21.0,22.0,23.0,24.0,25.0,26.0,27.0,28.0,29.0,30.0,31.0,32.0,33.0,34.0,35.0,36.0,37.0,38.0,39.0,40.0,41.0,42.0,43.0,44.0],\"xaxis\":\"x\",\"y\":[9,10,10,9,9,8,7,7,7,6,5,5,5,5,5,6,7,7,8,11,18,18,17,14,10,8,8,8,8,8,8,8,8,8,8,8,8,8,8,8,9,9,9,9],\"yaxis\":\"y\",\"type\":\"scatter\"},{\"hovertemplate\":\"Driver=ALB<br>Lap=%{x}<br>Position=%{y}<extra></extra>\",\"legendgroup\":\"ALB\",\"line\":{\"color\":\"#00A0DE\",\"dash\":\"solid\"},\"marker\":{\"symbol\":\"circle\"},\"mode\":\"lines\",\"name\":\"ALB\",\"orientation\":\"v\",\"showlegend\":true,\"x\":[1.0,2.0,3.0,4.0,5.0,6.0,7.0,8.0,9.0,10.0,11.0,12.0,13.0,14.0,15.0,16.0,17.0,18.0,19.0,20.0,21.0,22.0,23.0,24.0,25.0,26.0,27.0,28.0,29.0,30.0,31.0,32.0,33.0,34.0,35.0,36.0,37.0,38.0,39.0,40.0,41.0,42.0,43.0,44.0],\"xaxis\":\"x\",\"y\":[10,9,9,8,7,7,9,13,11,10,11,10,10,10,10,11,11,11,11,10,10,9,10,15,12,10,10,10,10,11,11,12,15,18,17,17,17,17,17,15,15,14,14,14],\"yaxis\":\"y\",\"type\":\"scatter\"},{\"hovertemplate\":\"Driver=RUS<br>Lap=%{x}<br>Position=%{y}<extra></extra>\",\"legendgroup\":\"RUS\",\"line\":{\"color\":\"#00A19B\",\"dash\":\"solid\"},\"marker\":{\"symbol\":\"circle\"},\"mode\":\"lines\",\"name\":\"RUS\",\"orientation\":\"v\",\"showlegend\":true,\"x\":[1.0,2.0,3.0,4.0,5.0,6.0,7.0,8.0,9.0,10.0,11.0,12.0,13.0,14.0,15.0,16.0,17.0,18.0,19.0,20.0,21.0,22.0,23.0,24.0,25.0,26.0,27.0,28.0,29.0,30.0,31.0,32.0,33.0,34.0,35.0,36.0,37.0,38.0,39.0,40.0,41.0,42.0,43.0,44.0],\"xaxis\":\"x\",\"y\":[11,11,11,11,10,9,8,8,8,7,6,6,6,6,7,7,6,6,6,6,6,8,15,10,7,6,6,6,6,6,6,6,6,6,6,6,6,6,6,6,6,6,6,6],\"yaxis\":\"y\",\"type\":\"scatter\"},{\"hovertemplate\":\"Driver=BOT<br>Lap=%{x}<br>Position=%{y}<extra></extra>\",\"legendgroup\":\"BOT\",\"line\":{\"color\":\"#A42134\",\"dash\":\"solid\"},\"marker\":{\"symbol\":\"circle\"},\"mode\":\"lines\",\"name\":\"BOT\",\"orientation\":\"v\",\"showlegend\":true,\"x\":[1.0,2.0,3.0,4.0,5.0,6.0,7.0,8.0,9.0,10.0,11.0,12.0,13.0,14.0,15.0,16.0,17.0,18.0,19.0,20.0,21.0,22.0,23.0,24.0,25.0,26.0,27.0,28.0,29.0,30.0,31.0,32.0,33.0,34.0,35.0,36.0,37.0,38.0,39.0,40.0,41.0,42.0,43.0,44.0],\"xaxis\":\"x\",\"y\":[12,12,13,14,13,16,19,17,16,16,16,16,15,14,14,14,14,14,14,14,13,12,11,11,15,13,13,13,13,13,13,13,12,12,12,12,12,12,12,12,12,12,12,12],\"yaxis\":\"y\",\"type\":\"scatter\"},{\"hovertemplate\":\"Driver=OCO<br>Lap=%{x}<br>Position=%{y}<extra></extra>\",\"legendgroup\":\"OCO\",\"line\":{\"color\":\"#2173B8\",\"dash\":\"solid\"},\"marker\":{\"symbol\":\"circle\"},\"mode\":\"lines\",\"name\":\"OCO\",\"orientation\":\"v\",\"showlegend\":true,\"x\":[1.0,2.0,3.0,4.0,5.0,6.0,7.0,8.0,9.0,10.0,11.0,12.0,13.0,14.0,15.0,16.0,17.0,18.0,19.0,20.0,21.0,22.0,23.0,24.0,25.0,26.0,27.0,28.0,29.0,30.0,31.0,32.0,33.0,34.0,35.0,36.0,37.0,38.0,39.0,40.0,41.0,42.0,43.0,44.0],\"xaxis\":\"x\",\"y\":[13,13,12,12,11,15,17,14,13,12,12,11,11,11,11,10,10,10,10,9,9,10,7,7,6,12,12,12,11,10,10,10,10,10,10,10,10,9,9,9,8,8,8,8],\"yaxis\":\"y\",\"type\":\"scatter\"},{\"hovertemplate\":\"Driver=ZHO<br>Lap=%{x}<br>Position=%{y}<extra></extra>\",\"legendgroup\":\"ZHO\",\"line\":{\"color\":\"#A42134\",\"dash\":\"solid\"},\"marker\":{\"symbol\":\"circle\"},\"mode\":\"lines\",\"name\":\"ZHO\",\"orientation\":\"v\",\"showlegend\":true,\"x\":[1.0,2.0,3.0,4.0,5.0,6.0,7.0,8.0,9.0,10.0,11.0,12.0,13.0,14.0,15.0,16.0,17.0,18.0,19.0,20.0,21.0,22.0,23.0,24.0,25.0,26.0,27.0,28.0,29.0,30.0,31.0,32.0,33.0,34.0,35.0,36.0,37.0,38.0,39.0,40.0,41.0,42.0,43.0,44.0],\"xaxis\":\"x\",\"y\":[14,14,15,15,15,13,14,19,18,18,17,17,16,16,16,15,15,15,15,15,14,13,14,12,14,18,18,18,18,18,18,18,17,16,16,16,16,16,15,14,14,13,13,13],\"yaxis\":\"y\",\"type\":\"scatter\"},{\"hovertemplate\":\"Driver=SAR<br>Lap=%{x}<br>Position=%{y}<extra></extra>\",\"legendgroup\":\"SAR\",\"line\":{\"color\":\"#00A0DE\",\"dash\":\"solid\"},\"marker\":{\"symbol\":\"circle\"},\"mode\":\"lines\",\"name\":\"SAR\",\"orientation\":\"v\",\"showlegend\":true,\"x\":[1.0,2.0,3.0,4.0,5.0,6.0,7.0,8.0,9.0,10.0,11.0,12.0,13.0,14.0,15.0,16.0,17.0,18.0,19.0,20.0,21.0,22.0,23.0,24.0,25.0,26.0,27.0,28.0,29.0,30.0,31.0,32.0,33.0,34.0,35.0,36.0,37.0,38.0,39.0,40.0,41.0,42.0,43.0,44.0],\"xaxis\":\"x\",\"y\":[15,15,14,13,12,11,10,11,19,19,19,19,18,18,18,17,17,17,17,17,16,16,16,16,18,17,17,17,17,17,17,17,18,17,18,18,18,18,18,18,18,18,17,17],\"yaxis\":\"y\",\"type\":\"scatter\"},{\"hovertemplate\":\"Driver=GAS<br>Lap=%{x}<br>Position=%{y}<extra></extra>\",\"legendgroup\":\"GAS\",\"line\":{\"color\":\"#2173B8\",\"dash\":\"solid\"},\"marker\":{\"symbol\":\"circle\"},\"mode\":\"lines\",\"name\":\"GAS\",\"orientation\":\"v\",\"showlegend\":true,\"x\":[1.0,2.0,3.0,4.0,5.0,6.0,7.0,8.0,9.0,10.0,11.0,12.0,13.0,14.0,15.0,16.0,17.0,18.0,19.0,20.0,21.0,22.0,23.0,24.0,25.0,26.0,27.0,28.0,29.0,30.0,31.0,32.0,33.0,34.0,35.0,36.0,37.0,38.0,39.0,40.0,41.0,42.0,43.0,44.0],\"xaxis\":\"x\",\"y\":[16,16,16,16,14,12,11,9,9,8,7,7,7,7,8,8,8,8,7,7,7,6,8,17,13,11,11,11,12,12,12,11,11,11,11,11,11,11,11,11,11,11,11,11],\"yaxis\":\"y\",\"type\":\"scatter\"},{\"hovertemplate\":\"Driver=HUL<br>Lap=%{x}<br>Position=%{y}<extra></extra>\",\"legendgroup\":\"HUL\",\"line\":{\"color\":\"#E6002B\",\"dash\":\"solid\"},\"marker\":{\"symbol\":\"circle\"},\"mode\":\"lines\",\"name\":\"HUL\",\"orientation\":\"v\",\"showlegend\":true,\"x\":[1.0,2.0,3.0,4.0,5.0,6.0,7.0,8.0,9.0,10.0,11.0,12.0,13.0,14.0,15.0,16.0,17.0,18.0,19.0,20.0,21.0,22.0,23.0,24.0,25.0,26.0,27.0,28.0,29.0,30.0,31.0,32.0,33.0,34.0,35.0,36.0,37.0,38.0,39.0,40.0,41.0,42.0,43.0,44.0],\"xaxis\":\"x\",\"y\":[17,17,17,17,16,14,12,10,10,9,8,12,19,19,19,18,18,16,16,16,15,14,12,13,17,15,15,15,15,15,15,15,14,14,14,14,14,14,14,16,16,17,18,18],\"yaxis\":\"y\",\"type\":\"scatter\"},{\"hovertemplate\":\"Driver=MAG<br>Lap=%{x}<br>Position=%{y}<extra></extra>\",\"legendgroup\":\"MAG\",\"line\":{\"color\":\"#E6002B\",\"dash\":\"solid\"},\"marker\":{\"symbol\":\"circle\"},\"mode\":\"lines\",\"name\":\"MAG\",\"orientation\":\"v\",\"showlegend\":true,\"x\":[1.0,2.0,3.0,4.0,5.0,6.0,7.0,8.0,9.0,10.0,11.0,12.0,13.0,14.0,15.0,16.0,17.0,18.0,19.0,20.0,21.0,22.0,23.0,24.0,25.0,26.0,27.0,28.0,29.0,30.0,31.0,32.0,33.0,34.0,35.0,36.0,37.0,38.0,39.0,40.0,41.0,42.0,43.0,44.0],\"xaxis\":\"x\",\"y\":[18,18,18,18,18,18,15,12,12,13,13,13,12,12,12,12,12,12,12,12,11,11,9,8,9,14,14,14,14,14,14,14,13,13,13,13,13,13,13,13,13,15,15,15],\"yaxis\":\"y\",\"type\":\"scatter\"},{\"hovertemplate\":\"Driver=RIC<br>Lap=%{x}<br>Position=%{y}<extra></extra>\",\"legendgroup\":\"RIC\",\"line\":{\"color\":\"#20394C\",\"dash\":\"solid\"},\"marker\":{\"symbol\":\"circle\"},\"mode\":\"lines\",\"name\":\"RIC\",\"orientation\":\"v\",\"showlegend\":true,\"x\":[1.0,2.0,3.0,4.0,5.0,6.0,7.0,8.0,9.0,10.0,11.0,12.0,13.0,14.0,15.0,16.0,17.0,18.0,19.0,20.0,21.0,22.0,23.0,24.0,25.0,26.0,27.0,28.0,29.0,30.0,31.0,32.0,33.0,34.0,35.0,36.0,37.0,38.0,39.0,40.0,41.0,42.0,43.0,44.0],\"xaxis\":\"x\",\"y\":[19,19,19,19,19,19,18,16,15,14,14,14,13,13,13,13,13,13,13,13,12,17,18,18,16,16,16,16,16,16,16,16,16,15,15,15,15,15,16,17,17,16,16,16],\"yaxis\":\"y\",\"type\":\"scatter\"}],                        {\"template\":{\"data\":{\"histogram2dcontour\":[{\"type\":\"histogram2dcontour\",\"colorbar\":{\"outlinewidth\":0,\"ticks\":\"\"},\"colorscale\":[[0.0,\"#0d0887\"],[0.1111111111111111,\"#46039f\"],[0.2222222222222222,\"#7201a8\"],[0.3333333333333333,\"#9c179e\"],[0.4444444444444444,\"#bd3786\"],[0.5555555555555556,\"#d8576b\"],[0.6666666666666666,\"#ed7953\"],[0.7777777777777778,\"#fb9f3a\"],[0.8888888888888888,\"#fdca26\"],[1.0,\"#f0f921\"]]}],\"choropleth\":[{\"type\":\"choropleth\",\"colorbar\":{\"outlinewidth\":0,\"ticks\":\"\"}}],\"histogram2d\":[{\"type\":\"histogram2d\",\"colorbar\":{\"outlinewidth\":0,\"ticks\":\"\"},\"colorscale\":[[0.0,\"#0d0887\"],[0.1111111111111111,\"#46039f\"],[0.2222222222222222,\"#7201a8\"],[0.3333333333333333,\"#9c179e\"],[0.4444444444444444,\"#bd3786\"],[0.5555555555555556,\"#d8576b\"],[0.6666666666666666,\"#ed7953\"],[0.7777777777777778,\"#fb9f3a\"],[0.8888888888888888,\"#fdca26\"],[1.0,\"#f0f921\"]]}],\"heatmap\":[{\"type\":\"heatmap\",\"colorbar\":{\"outlinewidth\":0,\"ticks\":\"\"},\"colorscale\":[[0.0,\"#0d0887\"],[0.1111111111111111,\"#46039f\"],[0.2222222222222222,\"#7201a8\"],[0.3333333333333333,\"#9c179e\"],[0.4444444444444444,\"#bd3786\"],[0.5555555555555556,\"#d8576b\"],[0.6666666666666666,\"#ed7953\"],[0.7777777777777778,\"#fb9f3a\"],[0.8888888888888888,\"#fdca26\"],[1.0,\"#f0f921\"]]}],\"heatmapgl\":[{\"type\":\"heatmapgl\",\"colorbar\":{\"outlinewidth\":0,\"ticks\":\"\"},\"colorscale\":[[0.0,\"#0d0887\"],[0.1111111111111111,\"#46039f\"],[0.2222222222222222,\"#7201a8\"],[0.3333333333333333,\"#9c179e\"],[0.4444444444444444,\"#bd3786\"],[0.5555555555555556,\"#d8576b\"],[0.6666666666666666,\"#ed7953\"],[0.7777777777777778,\"#fb9f3a\"],[0.8888888888888888,\"#fdca26\"],[1.0,\"#f0f921\"]]}],\"contourcarpet\":[{\"type\":\"contourcarpet\",\"colorbar\":{\"outlinewidth\":0,\"ticks\":\"\"}}],\"contour\":[{\"type\":\"contour\",\"colorbar\":{\"outlinewidth\":0,\"ticks\":\"\"},\"colorscale\":[[0.0,\"#0d0887\"],[0.1111111111111111,\"#46039f\"],[0.2222222222222222,\"#7201a8\"],[0.3333333333333333,\"#9c179e\"],[0.4444444444444444,\"#bd3786\"],[0.5555555555555556,\"#d8576b\"],[0.6666666666666666,\"#ed7953\"],[0.7777777777777778,\"#fb9f3a\"],[0.8888888888888888,\"#fdca26\"],[1.0,\"#f0f921\"]]}],\"surface\":[{\"type\":\"surface\",\"colorbar\":{\"outlinewidth\":0,\"ticks\":\"\"},\"colorscale\":[[0.0,\"#0d0887\"],[0.1111111111111111,\"#46039f\"],[0.2222222222222222,\"#7201a8\"],[0.3333333333333333,\"#9c179e\"],[0.4444444444444444,\"#bd3786\"],[0.5555555555555556,\"#d8576b\"],[0.6666666666666666,\"#ed7953\"],[0.7777777777777778,\"#fb9f3a\"],[0.8888888888888888,\"#fdca26\"],[1.0,\"#f0f921\"]]}],\"mesh3d\":[{\"type\":\"mesh3d\",\"colorbar\":{\"outlinewidth\":0,\"ticks\":\"\"}}],\"scatter\":[{\"fillpattern\":{\"fillmode\":\"overlay\",\"size\":10,\"solidity\":0.2},\"type\":\"scatter\"}],\"parcoords\":[{\"type\":\"parcoords\",\"line\":{\"colorbar\":{\"outlinewidth\":0,\"ticks\":\"\"}}}],\"scatterpolargl\":[{\"type\":\"scatterpolargl\",\"marker\":{\"colorbar\":{\"outlinewidth\":0,\"ticks\":\"\"}}}],\"bar\":[{\"error_x\":{\"color\":\"#2a3f5f\"},\"error_y\":{\"color\":\"#2a3f5f\"},\"marker\":{\"line\":{\"color\":\"#E5ECF6\",\"width\":0.5},\"pattern\":{\"fillmode\":\"overlay\",\"size\":10,\"solidity\":0.2}},\"type\":\"bar\"}],\"scattergeo\":[{\"type\":\"scattergeo\",\"marker\":{\"colorbar\":{\"outlinewidth\":0,\"ticks\":\"\"}}}],\"scatterpolar\":[{\"type\":\"scatterpolar\",\"marker\":{\"colorbar\":{\"outlinewidth\":0,\"ticks\":\"\"}}}],\"histogram\":[{\"marker\":{\"pattern\":{\"fillmode\":\"overlay\",\"size\":10,\"solidity\":0.2}},\"type\":\"histogram\"}],\"scattergl\":[{\"type\":\"scattergl\",\"marker\":{\"colorbar\":{\"outlinewidth\":0,\"ticks\":\"\"}}}],\"scatter3d\":[{\"type\":\"scatter3d\",\"line\":{\"colorbar\":{\"outlinewidth\":0,\"ticks\":\"\"}},\"marker\":{\"colorbar\":{\"outlinewidth\":0,\"ticks\":\"\"}}}],\"scattermapbox\":[{\"type\":\"scattermapbox\",\"marker\":{\"colorbar\":{\"outlinewidth\":0,\"ticks\":\"\"}}}],\"scatterternary\":[{\"type\":\"scatterternary\",\"marker\":{\"colorbar\":{\"outlinewidth\":0,\"ticks\":\"\"}}}],\"scattercarpet\":[{\"type\":\"scattercarpet\",\"marker\":{\"colorbar\":{\"outlinewidth\":0,\"ticks\":\"\"}}}],\"carpet\":[{\"aaxis\":{\"endlinecolor\":\"#2a3f5f\",\"gridcolor\":\"white\",\"linecolor\":\"white\",\"minorgridcolor\":\"white\",\"startlinecolor\":\"#2a3f5f\"},\"baxis\":{\"endlinecolor\":\"#2a3f5f\",\"gridcolor\":\"white\",\"linecolor\":\"white\",\"minorgridcolor\":\"white\",\"startlinecolor\":\"#2a3f5f\"},\"type\":\"carpet\"}],\"table\":[{\"cells\":{\"fill\":{\"color\":\"#EBF0F8\"},\"line\":{\"color\":\"white\"}},\"header\":{\"fill\":{\"color\":\"#C8D4E3\"},\"line\":{\"color\":\"white\"}},\"type\":\"table\"}],\"barpolar\":[{\"marker\":{\"line\":{\"color\":\"#E5ECF6\",\"width\":0.5},\"pattern\":{\"fillmode\":\"overlay\",\"size\":10,\"solidity\":0.2}},\"type\":\"barpolar\"}],\"pie\":[{\"automargin\":true,\"type\":\"pie\"}]},\"layout\":{\"autotypenumbers\":\"strict\",\"colorway\":[\"#636efa\",\"#EF553B\",\"#00cc96\",\"#ab63fa\",\"#FFA15A\",\"#19d3f3\",\"#FF6692\",\"#B6E880\",\"#FF97FF\",\"#FECB52\"],\"font\":{\"color\":\"#2a3f5f\"},\"hovermode\":\"closest\",\"hoverlabel\":{\"align\":\"left\"},\"paper_bgcolor\":\"white\",\"plot_bgcolor\":\"#E5ECF6\",\"polar\":{\"bgcolor\":\"#E5ECF6\",\"angularaxis\":{\"gridcolor\":\"white\",\"linecolor\":\"white\",\"ticks\":\"\"},\"radialaxis\":{\"gridcolor\":\"white\",\"linecolor\":\"white\",\"ticks\":\"\"}},\"ternary\":{\"bgcolor\":\"#E5ECF6\",\"aaxis\":{\"gridcolor\":\"white\",\"linecolor\":\"white\",\"ticks\":\"\"},\"baxis\":{\"gridcolor\":\"white\",\"linecolor\":\"white\",\"ticks\":\"\"},\"caxis\":{\"gridcolor\":\"white\",\"linecolor\":\"white\",\"ticks\":\"\"}},\"coloraxis\":{\"colorbar\":{\"outlinewidth\":0,\"ticks\":\"\"}},\"colorscale\":{\"sequential\":[[0.0,\"#0d0887\"],[0.1111111111111111,\"#46039f\"],[0.2222222222222222,\"#7201a8\"],[0.3333333333333333,\"#9c179e\"],[0.4444444444444444,\"#bd3786\"],[0.5555555555555556,\"#d8576b\"],[0.6666666666666666,\"#ed7953\"],[0.7777777777777778,\"#fb9f3a\"],[0.8888888888888888,\"#fdca26\"],[1.0,\"#f0f921\"]],\"sequentialminus\":[[0.0,\"#0d0887\"],[0.1111111111111111,\"#46039f\"],[0.2222222222222222,\"#7201a8\"],[0.3333333333333333,\"#9c179e\"],[0.4444444444444444,\"#bd3786\"],[0.5555555555555556,\"#d8576b\"],[0.6666666666666666,\"#ed7953\"],[0.7777777777777778,\"#fb9f3a\"],[0.8888888888888888,\"#fdca26\"],[1.0,\"#f0f921\"]],\"diverging\":[[0,\"#8e0152\"],[0.1,\"#c51b7d\"],[0.2,\"#de77ae\"],[0.3,\"#f1b6da\"],[0.4,\"#fde0ef\"],[0.5,\"#f7f7f7\"],[0.6,\"#e6f5d0\"],[0.7,\"#b8e186\"],[0.8,\"#7fbc41\"],[0.9,\"#4d9221\"],[1,\"#276419\"]]},\"xaxis\":{\"gridcolor\":\"white\",\"linecolor\":\"white\",\"ticks\":\"\",\"title\":{\"standoff\":15},\"zerolinecolor\":\"white\",\"automargin\":true,\"zerolinewidth\":2},\"yaxis\":{\"gridcolor\":\"white\",\"linecolor\":\"white\",\"ticks\":\"\",\"title\":{\"standoff\":15},\"zerolinecolor\":\"white\",\"automargin\":true,\"zerolinewidth\":2},\"scene\":{\"xaxis\":{\"backgroundcolor\":\"#E5ECF6\",\"gridcolor\":\"white\",\"linecolor\":\"white\",\"showbackground\":true,\"ticks\":\"\",\"zerolinecolor\":\"white\",\"gridwidth\":2},\"yaxis\":{\"backgroundcolor\":\"#E5ECF6\",\"gridcolor\":\"white\",\"linecolor\":\"white\",\"showbackground\":true,\"ticks\":\"\",\"zerolinecolor\":\"white\",\"gridwidth\":2},\"zaxis\":{\"backgroundcolor\":\"#E5ECF6\",\"gridcolor\":\"white\",\"linecolor\":\"white\",\"showbackground\":true,\"ticks\":\"\",\"zerolinecolor\":\"white\",\"gridwidth\":2}},\"shapedefaults\":{\"line\":{\"color\":\"#2a3f5f\"}},\"annotationdefaults\":{\"arrowcolor\":\"#2a3f5f\",\"arrowhead\":0,\"arrowwidth\":1},\"geo\":{\"bgcolor\":\"white\",\"landcolor\":\"#E5ECF6\",\"subunitcolor\":\"white\",\"showland\":true,\"showlakes\":true,\"lakecolor\":\"white\"},\"title\":{\"x\":0.05},\"mapbox\":{\"style\":\"light\"}}},\"xaxis\":{\"anchor\":\"y\",\"domain\":[0.0,1.0],\"title\":{\"text\":\"Lap\"}},\"yaxis\":{\"anchor\":\"x\",\"domain\":[0.0,1.0],\"title\":{\"text\":\"Position\"}},\"legend\":{\"title\":{\"text\":\"Driver\"},\"tracegroupgap\":0},\"margin\":{\"t\":60},\"title\":{\"font\":{\"family\":\"Arial, sans-serif\",\"size\":30},\"text\":\"<b>Position By Lap</b>\",\"x\":0.5},\"updatemenus\":[{\"active\":0,\"buttons\":[{\"args\":[{\"visible\":[true,true,true,true,true,true,true,true,true,true,true,true,true,true,true,true,true,true,true,true],\"title\":\"All\",\"showlegend\":true}],\"label\":\"All\",\"method\":\"update\"},{\"args\":[{\"visible\":[true,false,false,false,false,false,false,false,false,false,false,false,false,false,false,false,false,false,false,false],\"title\":\"ALB\",\"showlegend\":true}],\"label\":\"ALB\",\"method\":\"update\"},{\"args\":[{\"visible\":[false,true,false,false,false,false,false,false,false,false,false,false,false,false,false,false,false,false,false,false],\"title\":\"ALO\",\"showlegend\":true}],\"label\":\"ALO\",\"method\":\"update\"},{\"args\":[{\"visible\":[false,false,true,false,false,false,false,false,false,false,false,false,false,false,false,false,false,false,false,false],\"title\":\"BOT\",\"showlegend\":true}],\"label\":\"BOT\",\"method\":\"update\"},{\"args\":[{\"visible\":[false,false,false,true,false,false,false,false,false,false,false,false,false,false,false,false,false,false,false,false],\"title\":\"GAS\",\"showlegend\":true}],\"label\":\"GAS\",\"method\":\"update\"},{\"args\":[{\"visible\":[false,false,false,false,true,false,false,false,false,false,false,false,false,false,false,false,false,false,false,false],\"title\":\"HAM\",\"showlegend\":true}],\"label\":\"HAM\",\"method\":\"update\"},{\"args\":[{\"visible\":[false,false,false,false,false,true,false,false,false,false,false,false,false,false,false,false,false,false,false,false],\"title\":\"HUL\",\"showlegend\":true}],\"label\":\"HUL\",\"method\":\"update\"},{\"args\":[{\"visible\":[false,false,false,false,false,false,true,false,false,false,false,false,false,false,false,false,false,false,false,false],\"title\":\"LEC\",\"showlegend\":true}],\"label\":\"LEC\",\"method\":\"update\"},{\"args\":[{\"visible\":[false,false,false,false,false,false,false,true,false,false,false,false,false,false,false,false,false,false,false,false],\"title\":\"MAG\",\"showlegend\":true}],\"label\":\"MAG\",\"method\":\"update\"},{\"args\":[{\"visible\":[false,false,false,false,false,false,false,false,true,false,false,false,false,false,false,false,false,false,false,false],\"title\":\"NOR\",\"showlegend\":true}],\"label\":\"NOR\",\"method\":\"update\"},{\"args\":[{\"visible\":[false,false,false,false,false,false,false,false,false,true,false,false,false,false,false,false,false,false,false,false],\"title\":\"OCO\",\"showlegend\":true}],\"label\":\"OCO\",\"method\":\"update\"},{\"args\":[{\"visible\":[false,false,false,false,false,false,false,false,false,false,true,false,false,false,false,false,false,false,false,false],\"title\":\"PER\",\"showlegend\":true}],\"label\":\"PER\",\"method\":\"update\"},{\"args\":[{\"visible\":[false,false,false,false,false,false,false,false,false,false,false,true,false,false,false,false,false,false,false,false],\"title\":\"PIA\",\"showlegend\":true}],\"label\":\"PIA\",\"method\":\"update\"},{\"args\":[{\"visible\":[false,false,false,false,false,false,false,false,false,false,false,false,true,false,false,false,false,false,false,false],\"title\":\"RIC\",\"showlegend\":true}],\"label\":\"RIC\",\"method\":\"update\"},{\"args\":[{\"visible\":[false,false,false,false,false,false,false,false,false,false,false,false,false,true,false,false,false,false,false,false],\"title\":\"RUS\",\"showlegend\":true}],\"label\":\"RUS\",\"method\":\"update\"},{\"args\":[{\"visible\":[false,false,false,false,false,false,false,false,false,false,false,false,false,false,true,false,false,false,false,false],\"title\":\"SAI\",\"showlegend\":true}],\"label\":\"SAI\",\"method\":\"update\"},{\"args\":[{\"visible\":[false,false,false,false,false,false,false,false,false,false,false,false,false,false,false,true,false,false,false,false],\"title\":\"SAR\",\"showlegend\":true}],\"label\":\"SAR\",\"method\":\"update\"},{\"args\":[{\"visible\":[false,false,false,false,false,false,false,false,false,false,false,false,false,false,false,false,true,false,false,false],\"title\":\"STR\",\"showlegend\":true}],\"label\":\"STR\",\"method\":\"update\"},{\"args\":[{\"visible\":[false,false,false,false,false,false,false,false,false,false,false,false,false,false,false,false,false,true,false,false],\"title\":\"TSU\",\"showlegend\":true}],\"label\":\"TSU\",\"method\":\"update\"},{\"args\":[{\"visible\":[false,false,false,false,false,false,false,false,false,false,false,false,false,false,false,false,false,false,true,false],\"title\":\"VER\",\"showlegend\":true}],\"label\":\"VER\",\"method\":\"update\"},{\"args\":[{\"visible\":[false,false,false,false,false,false,false,false,false,false,false,false,false,false,false,false,false,false,false,true],\"title\":\"ZHO\",\"showlegend\":true}],\"label\":\"ZHO\",\"method\":\"update\"}]}]},                        {\"responsive\": true}                    ).then(function(){\n",
       "                            \n",
       "var gd = document.getElementById('3b18d89d-c05f-42e2-8222-ab8d0fa5f27f');\n",
       "var x = new MutationObserver(function (mutations, observer) {{\n",
       "        var display = window.getComputedStyle(gd).display;\n",
       "        if (!display || display === 'none') {{\n",
       "            console.log([gd, 'removed!']);\n",
       "            Plotly.purge(gd);\n",
       "            observer.disconnect();\n",
       "        }}\n",
       "}});\n",
       "\n",
       "// Listen for the removal of the full notebook cells\n",
       "var notebookContainer = gd.closest('#notebook-container');\n",
       "if (notebookContainer) {{\n",
       "    x.observe(notebookContainer, {childList: true});\n",
       "}}\n",
       "\n",
       "// Listen for the clearing of the current output cell\n",
       "var outputEl = gd.closest('.output');\n",
       "if (outputEl) {{\n",
       "    x.observe(outputEl, {childList: true});\n",
       "}}\n",
       "\n",
       "                        })                };                });            </script>        </div>"
      ]
     },
     "metadata": {},
     "output_type": "display_data"
    }
   ],
   "source": [
    "if not lap_tim_emp:\n",
    "    multi_pos_plot(mapping)"
   ]
  },
  {
   "cell_type": "code",
   "execution_count": 31,
   "id": "f6dc2559",
   "metadata": {
    "_kg_hide-input": true,
    "execution": {
     "iopub.execute_input": "2023-08-05T01:22:30.007582Z",
     "iopub.status.busy": "2023-08-05T01:22:30.006931Z",
     "iopub.status.idle": "2023-08-05T01:22:30.019304Z",
     "shell.execute_reply": "2023-08-05T01:22:30.015300Z"
    },
    "papermill": {
     "duration": 0.043454,
     "end_time": "2023-08-05T01:22:30.024141",
     "exception": false,
     "start_time": "2023-08-05T01:22:29.980687",
     "status": "completed"
    },
    "tags": []
   },
   "outputs": [
    {
     "data": {
      "text/markdown": [
       "# <div style='background:#FF1801; border:0; color:black; box-shadow: 10px 10px 5px 0px rgba(0,0,0,0.75); transform: rotateX(10deg);'><h1 style='padding: 10px; margin: 0; text-align:center;'><span style='font-size: 30px;'>Driver Overall Standings</span></h1></div>"
      ],
      "text/plain": [
       "<IPython.core.display.Markdown object>"
      ]
     },
     "metadata": {},
     "output_type": "display_data"
    }
   ],
   "source": [
    "display(md(f\"# <div style='background:#FF1801; border:0; color:black; box-shadow: 10px 10px 5px 0px rgba(0,0,0,0.75); transform: rotateX(10deg);'><h1 style='padding: 10px; margin: 0; text-align:center;'><span style='font-size: 30px;'>Driver Overall Standings</span></h1></div>\"))"
   ]
  },
  {
   "cell_type": "code",
   "execution_count": 32,
   "id": "84702c14",
   "metadata": {
    "_kg_hide-input": true,
    "execution": {
     "iopub.execute_input": "2023-08-05T01:22:30.077094Z",
     "iopub.status.busy": "2023-08-05T01:22:30.076638Z",
     "iopub.status.idle": "2023-08-05T01:22:30.104497Z",
     "shell.execute_reply": "2023-08-05T01:22:30.102998Z"
    },
    "papermill": {
     "duration": 0.058269,
     "end_time": "2023-08-05T01:22:30.107487",
     "exception": false,
     "start_time": "2023-08-05T01:22:30.049218",
     "status": "completed"
    },
    "tags": []
   },
   "outputs": [
    {
     "data": {
      "text/html": [
       "<style type=\"text/css\">\n",
       "#T_d859a_row0_col1, #T_d859a_row1_col1, #T_d859a_row2_col1, #T_d859a_row3_col1, #T_d859a_row4_col1, #T_d859a_row5_col1, #T_d859a_row6_col1, #T_d859a_row7_col1, #T_d859a_row8_col1, #T_d859a_row9_col1, #T_d859a_row10_col1, #T_d859a_row11_col1, #T_d859a_row12_col1, #T_d859a_row13_col1, #T_d859a_row14_col1 {\n",
       "  background-color: #081d58;\n",
       "  color: #f1f1f1;\n",
       "}\n",
       "#T_d859a_row15_col1 {\n",
       "  background-color: #225da8;\n",
       "  color: #f1f1f1;\n",
       "}\n",
       "#T_d859a_row16_col1 {\n",
       "  background-color: #40b5c4;\n",
       "  color: #f1f1f1;\n",
       "}\n",
       "#T_d859a_row17_col1 {\n",
       "  background-color: #c6e9b4;\n",
       "  color: #000000;\n",
       "}\n",
       "#T_d859a_row18_col1, #T_d859a_row19_col1, #T_d859a_row20_col1 {\n",
       "  background-color: #ffffd9;\n",
       "  color: #000000;\n",
       "}\n",
       "</style>\n",
       "<table id=\"T_d859a_\">\n",
       "  <caption>Driver Standings</caption>\n",
       "  <thead>\n",
       "    <tr>\n",
       "      <th class=\"col_heading level0 col0\" >Driver</th>\n",
       "      <th class=\"col_heading level0 col1\" >points</th>\n",
       "    </tr>\n",
       "  </thead>\n",
       "  <tbody>\n",
       "    <tr>\n",
       "      <td id=\"T_d859a_row0_col0\" class=\"data row0 col0\" >VER</td>\n",
       "      <td id=\"T_d859a_row0_col1\" class=\"data row0 col1\" >314.0</td>\n",
       "    </tr>\n",
       "    <tr>\n",
       "      <td id=\"T_d859a_row1_col0\" class=\"data row1 col0\" >PER</td>\n",
       "      <td id=\"T_d859a_row1_col1\" class=\"data row1 col1\" >189.0</td>\n",
       "    </tr>\n",
       "    <tr>\n",
       "      <td id=\"T_d859a_row2_col0\" class=\"data row2 col0\" >ALO</td>\n",
       "      <td id=\"T_d859a_row2_col1\" class=\"data row2 col1\" >149.0</td>\n",
       "    </tr>\n",
       "    <tr>\n",
       "      <td id=\"T_d859a_row3_col0\" class=\"data row3 col0\" >HAM</td>\n",
       "      <td id=\"T_d859a_row3_col1\" class=\"data row3 col1\" >148.0</td>\n",
       "    </tr>\n",
       "    <tr>\n",
       "      <td id=\"T_d859a_row4_col0\" class=\"data row4 col0\" >LEC</td>\n",
       "      <td id=\"T_d859a_row4_col1\" class=\"data row4 col1\" >99.0</td>\n",
       "    </tr>\n",
       "    <tr>\n",
       "      <td id=\"T_d859a_row5_col0\" class=\"data row5 col0\" >RUS</td>\n",
       "      <td id=\"T_d859a_row5_col1\" class=\"data row5 col1\" >99.0</td>\n",
       "    </tr>\n",
       "    <tr>\n",
       "      <td id=\"T_d859a_row6_col0\" class=\"data row6 col0\" >SAI</td>\n",
       "      <td id=\"T_d859a_row6_col1\" class=\"data row6 col1\" >92.0</td>\n",
       "    </tr>\n",
       "    <tr>\n",
       "      <td id=\"T_d859a_row7_col0\" class=\"data row7 col0\" >NOR</td>\n",
       "      <td id=\"T_d859a_row7_col1\" class=\"data row7 col1\" >69.0</td>\n",
       "    </tr>\n",
       "    <tr>\n",
       "      <td id=\"T_d859a_row8_col0\" class=\"data row8 col0\" >STR</td>\n",
       "      <td id=\"T_d859a_row8_col1\" class=\"data row8 col1\" >47.0</td>\n",
       "    </tr>\n",
       "    <tr>\n",
       "      <td id=\"T_d859a_row9_col0\" class=\"data row9 col0\" >OCO</td>\n",
       "      <td id=\"T_d859a_row9_col1\" class=\"data row9 col1\" >35.0</td>\n",
       "    </tr>\n",
       "    <tr>\n",
       "      <td id=\"T_d859a_row10_col0\" class=\"data row10 col0\" >PIA</td>\n",
       "      <td id=\"T_d859a_row10_col1\" class=\"data row10 col1\" >34.0</td>\n",
       "    </tr>\n",
       "    <tr>\n",
       "      <td id=\"T_d859a_row11_col0\" class=\"data row11 col0\" >GAS</td>\n",
       "      <td id=\"T_d859a_row11_col1\" class=\"data row11 col1\" >22.0</td>\n",
       "    </tr>\n",
       "    <tr>\n",
       "      <td id=\"T_d859a_row12_col0\" class=\"data row12 col0\" >ALB</td>\n",
       "      <td id=\"T_d859a_row12_col1\" class=\"data row12 col1\" >11.0</td>\n",
       "    </tr>\n",
       "    <tr>\n",
       "      <td id=\"T_d859a_row13_col0\" class=\"data row13 col0\" >HUL</td>\n",
       "      <td id=\"T_d859a_row13_col1\" class=\"data row13 col1\" >9.0</td>\n",
       "    </tr>\n",
       "    <tr>\n",
       "      <td id=\"T_d859a_row14_col0\" class=\"data row14 col0\" >BOT</td>\n",
       "      <td id=\"T_d859a_row14_col1\" class=\"data row14 col1\" >5.0</td>\n",
       "    </tr>\n",
       "    <tr>\n",
       "      <td id=\"T_d859a_row15_col0\" class=\"data row15 col0\" >ZHO</td>\n",
       "      <td id=\"T_d859a_row15_col1\" class=\"data row15 col1\" >4.0</td>\n",
       "    </tr>\n",
       "    <tr>\n",
       "      <td id=\"T_d859a_row16_col0\" class=\"data row16 col0\" >TSU</td>\n",
       "      <td id=\"T_d859a_row16_col1\" class=\"data row16 col1\" >3.0</td>\n",
       "    </tr>\n",
       "    <tr>\n",
       "      <td id=\"T_d859a_row17_col0\" class=\"data row17 col0\" >MAG</td>\n",
       "      <td id=\"T_d859a_row17_col1\" class=\"data row17 col1\" >2.0</td>\n",
       "    </tr>\n",
       "    <tr>\n",
       "      <td id=\"T_d859a_row18_col0\" class=\"data row18 col0\" >SAR</td>\n",
       "      <td id=\"T_d859a_row18_col1\" class=\"data row18 col1\" >0.0</td>\n",
       "    </tr>\n",
       "    <tr>\n",
       "      <td id=\"T_d859a_row19_col0\" class=\"data row19 col0\" >DEV</td>\n",
       "      <td id=\"T_d859a_row19_col1\" class=\"data row19 col1\" >0.0</td>\n",
       "    </tr>\n",
       "    <tr>\n",
       "      <td id=\"T_d859a_row20_col0\" class=\"data row20 col0\" >RIC</td>\n",
       "      <td id=\"T_d859a_row20_col1\" class=\"data row20 col1\" >0.0</td>\n",
       "    </tr>\n",
       "  </tbody>\n",
       "</table>\n"
      ],
      "text/plain": [
       "<pandas.io.formats.style.Styler at 0x7a71f993a5d0>"
      ]
     },
     "execution_count": 32,
     "metadata": {},
     "output_type": "execute_result"
    }
   ],
   "source": [
    "drive_stand = driver_standings.merge(drivers_full, on='driverID', how='left', suffixes=('_1', '_2'))\n",
    "drive_stand['points'] = drive_stand.points.astype(float)\n",
    "drive_stand_race  = drive_stand .sort_values(by='points', ascending=False)\n",
    "drive_stand_race[['Driver', 'points']].style.pipe(driver_stand)"
   ]
  },
  {
   "cell_type": "code",
   "execution_count": 33,
   "id": "76c1bed8",
   "metadata": {
    "_kg_hide-input": true,
    "execution": {
     "iopub.execute_input": "2023-08-05T01:22:30.161130Z",
     "iopub.status.busy": "2023-08-05T01:22:30.160680Z",
     "iopub.status.idle": "2023-08-05T01:22:30.170189Z",
     "shell.execute_reply": "2023-08-05T01:22:30.168609Z"
    },
    "papermill": {
     "duration": 0.040429,
     "end_time": "2023-08-05T01:22:30.172843",
     "exception": false,
     "start_time": "2023-08-05T01:22:30.132414",
     "status": "completed"
    },
    "tags": []
   },
   "outputs": [
    {
     "data": {
      "text/markdown": [
       "# <div style='background:#FF1801; border:0; color:black; box-shadow: 10px 10px 5px 0px rgba(0,0,0,0.75); transform: rotateX(10deg);'><h1 style='padding: 10px; margin: 0; text-align:center;'><span style='font-size: 30px;'>Constructors Race Performance</span></h1></div>"
      ],
      "text/plain": [
       "<IPython.core.display.Markdown object>"
      ]
     },
     "metadata": {},
     "output_type": "display_data"
    }
   ],
   "source": [
    "display(md(f\"# <div style='background:#FF1801; border:0; color:black; box-shadow: 10px 10px 5px 0px rgba(0,0,0,0.75); transform: rotateX(10deg);'><h1 style='padding: 10px; margin: 0; text-align:center;'><span style='font-size: 30px;'>Constructors Race Performance</span></h1></div>\"))"
   ]
  },
  {
   "cell_type": "code",
   "execution_count": 34,
   "id": "632d3fff",
   "metadata": {
    "_kg_hide-input": true,
    "execution": {
     "iopub.execute_input": "2023-08-05T01:22:30.225125Z",
     "iopub.status.busy": "2023-08-05T01:22:30.224644Z",
     "iopub.status.idle": "2023-08-05T01:22:30.364208Z",
     "shell.execute_reply": "2023-08-05T01:22:30.362694Z"
    },
    "papermill": {
     "duration": 0.170416,
     "end_time": "2023-08-05T01:22:30.367775",
     "exception": false,
     "start_time": "2023-08-05T01:22:30.197359",
     "status": "completed"
    },
    "tags": []
   },
   "outputs": [
    {
     "data": {
      "text/html": [
       "<div>                            <div id=\"70e1514a-d883-4a65-8e37-359ad2d17819\" class=\"plotly-graph-div\" style=\"height:525px; width:100%;\"></div>            <script type=\"text/javascript\">                require([\"plotly\"], function(Plotly) {                    window.PLOTLYENV=window.PLOTLYENV || {};                                    if (document.getElementById(\"70e1514a-d883-4a65-8e37-359ad2d17819\")) {                    Plotly.newPlot(                        \"70e1514a-d883-4a65-8e37-359ad2d17819\",                        [{\"hovertemplate\":\"name=Red Bull<br>Race=%{x}<br>Points=%{y}<extra></extra>\",\"legendgroup\":\"Red Bull\",\"line\":{\"color\":\"#000B8D\",\"dash\":\"solid\"},\"marker\":{\"symbol\":\"circle\"},\"mode\":\"lines\",\"name\":\"Red Bull\",\"orientation\":\"v\",\"showlegend\":true,\"x\":[1,2,3,4,5,6,7,8,9,10,11,12],\"xaxis\":\"x\",\"y\":[43.0,87.0,123.0,180.0,224.0,249.0,287.0,321.0,377.0,411.0,452.0,503.0],\"yaxis\":\"y\",\"type\":\"scatter\"},{\"hovertemplate\":\"name=Aston Martin<br>Race=%{x}<br>Points=%{y}<extra></extra>\",\"legendgroup\":\"Aston Martin\",\"line\":{\"color\":\"#002420\",\"dash\":\"solid\"},\"marker\":{\"symbol\":\"circle\"},\"mode\":\"lines\",\"name\":\"Aston Martin\",\"orientation\":\"v\",\"showlegend\":true,\"x\":[1,2,3,4,5,6,7,8,9,10,11,12],\"xaxis\":\"x\",\"y\":[23.0,38.0,65.0,87.0,102.0,120.0,134.0,154.0,175.0,181.0,184.0,196.0],\"yaxis\":\"y\",\"type\":\"scatter\"},{\"hovertemplate\":\"name=Mercedes<br>Race=%{x}<br>Points=%{y}<extra></extra>\",\"legendgroup\":\"Mercedes\",\"line\":{\"color\":\"#00A19B\",\"dash\":\"solid\"},\"marker\":{\"symbol\":\"circle\"},\"mode\":\"lines\",\"name\":\"Mercedes\",\"orientation\":\"v\",\"showlegend\":true,\"x\":[1,2,3,4,5,6,7,8,9,10,11,12],\"xaxis\":\"x\",\"y\":[16.0,38.0,56.0,76.0,96.0,119.0,152.0,167.0,178.0,203.0,223.0,247.0],\"yaxis\":\"y\",\"type\":\"scatter\"},{\"hovertemplate\":\"name=Ferrari<br>Race=%{x}<br>Points=%{y}<extra></extra>\",\"legendgroup\":\"Ferrari\",\"line\":{\"color\":\"#EF1A2D\",\"dash\":\"solid\"},\"marker\":{\"symbol\":\"circle\"},\"mode\":\"lines\",\"name\":\"Ferrari\",\"orientation\":\"v\",\"showlegend\":true,\"x\":[1,2,3,4,5,6,7,8,9,10,11,12],\"xaxis\":\"x\",\"y\":[12.0,26.0,26.0,62.0,78.0,90.0,100.0,122.0,154.0,157.0,167.0,191.0],\"yaxis\":\"y\",\"type\":\"scatter\"},{\"hovertemplate\":\"name=Alfa Romeo<br>Race=%{x}<br>Points=%{y}<extra></extra>\",\"legendgroup\":\"Alfa Romeo\",\"line\":{\"color\":\"#A42134\",\"dash\":\"solid\"},\"marker\":{\"symbol\":\"circle\"},\"mode\":\"lines\",\"name\":\"Alfa Romeo\",\"orientation\":\"v\",\"showlegend\":true,\"x\":[1,2,3,4,5,6,7,8,9,10,11,12],\"xaxis\":\"x\",\"y\":[4.0,4.0,6.0,6.0,6.0,6.0,8.0,9.0,9.0,9.0,9.0,9.0],\"yaxis\":\"y\",\"type\":\"scatter\"},{\"hovertemplate\":\"name=Alpine F1 Team<br>Race=%{x}<br>Points=%{y}<extra></extra>\",\"legendgroup\":\"Alpine F1 Team\",\"line\":{\"color\":\"#2173B8\",\"dash\":\"solid\"},\"marker\":{\"symbol\":\"circle\"},\"mode\":\"lines\",\"name\":\"Alpine F1 Team\",\"orientation\":\"v\",\"showlegend\":true,\"x\":[1,2,3,4,5,6,7,8,9,10,11,12],\"xaxis\":\"x\",\"y\":[2.0,8.0,8.0,8.0,14.0,35.0,40.0,44.0,47.0,47.0,47.0,57.0],\"yaxis\":\"y\",\"type\":\"scatter\"},{\"hovertemplate\":\"name=Williams<br>Race=%{x}<br>Points=%{y}<extra></extra>\",\"legendgroup\":\"Williams\",\"line\":{\"color\":\"#00A0DE\",\"dash\":\"solid\"},\"marker\":{\"symbol\":\"circle\"},\"mode\":\"lines\",\"name\":\"Williams\",\"orientation\":\"v\",\"showlegend\":true,\"x\":[1,2,3,4,5,6,7,8,9,10,11,12],\"xaxis\":\"x\",\"y\":[1.0,1.0,1.0,1.0,1.0,1.0,1.0,7.0,7.0,11.0,11.0,11.0],\"yaxis\":\"y\",\"type\":\"scatter\"},{\"hovertemplate\":\"name=AlphaTauri<br>Race=%{x}<br>Points=%{y}<extra></extra>\",\"legendgroup\":\"AlphaTauri\",\"line\":{\"color\":\"#20394C\",\"dash\":\"solid\"},\"marker\":{\"symbol\":\"circle\"},\"mode\":\"lines\",\"name\":\"AlphaTauri\",\"orientation\":\"v\",\"showlegend\":true,\"x\":[1,2,3,4,5,6,7,8,9,10,11,12],\"xaxis\":\"x\",\"y\":[0.0,0.0,1.0,2.0,2.0,2.0,2.0,2.0,2.0,2.0,2.0,3.0],\"yaxis\":\"y\",\"type\":\"scatter\"},{\"hovertemplate\":\"name=Haas F1 Team<br>Race=%{x}<br>Points=%{y}<extra></extra>\",\"legendgroup\":\"Haas F1 Team\",\"line\":{\"color\":\"#E6002B\",\"dash\":\"solid\"},\"marker\":{\"symbol\":\"circle\"},\"mode\":\"lines\",\"name\":\"Haas F1 Team\",\"orientation\":\"v\",\"showlegend\":true,\"x\":[1,2,3,4,5,6,7,8,9,10,11,12],\"xaxis\":\"x\",\"y\":[0.0,1.0,7.0,7.0,8.0,8.0,8.0,8.0,11.0,11.0,11.0,11.0],\"yaxis\":\"y\",\"type\":\"scatter\"},{\"hovertemplate\":\"name=McLaren<br>Race=%{x}<br>Points=%{y}<extra></extra>\",\"legendgroup\":\"McLaren\",\"line\":{\"color\":\"#FF8000\",\"dash\":\"solid\"},\"marker\":{\"symbol\":\"circle\"},\"mode\":\"lines\",\"name\":\"McLaren\",\"orientation\":\"v\",\"showlegend\":true,\"x\":[1,2,3,4,5,6,7,8,9,10,11,12],\"xaxis\":\"x\",\"y\":[0.0,0.0,12.0,14.0,14.0,17.0,17.0,17.0,29.0,59.0,87.0,103.0],\"yaxis\":\"y\",\"type\":\"scatter\"}],                        {\"template\":{\"data\":{\"histogram2dcontour\":[{\"type\":\"histogram2dcontour\",\"colorbar\":{\"outlinewidth\":0,\"ticks\":\"\"},\"colorscale\":[[0.0,\"#0d0887\"],[0.1111111111111111,\"#46039f\"],[0.2222222222222222,\"#7201a8\"],[0.3333333333333333,\"#9c179e\"],[0.4444444444444444,\"#bd3786\"],[0.5555555555555556,\"#d8576b\"],[0.6666666666666666,\"#ed7953\"],[0.7777777777777778,\"#fb9f3a\"],[0.8888888888888888,\"#fdca26\"],[1.0,\"#f0f921\"]]}],\"choropleth\":[{\"type\":\"choropleth\",\"colorbar\":{\"outlinewidth\":0,\"ticks\":\"\"}}],\"histogram2d\":[{\"type\":\"histogram2d\",\"colorbar\":{\"outlinewidth\":0,\"ticks\":\"\"},\"colorscale\":[[0.0,\"#0d0887\"],[0.1111111111111111,\"#46039f\"],[0.2222222222222222,\"#7201a8\"],[0.3333333333333333,\"#9c179e\"],[0.4444444444444444,\"#bd3786\"],[0.5555555555555556,\"#d8576b\"],[0.6666666666666666,\"#ed7953\"],[0.7777777777777778,\"#fb9f3a\"],[0.8888888888888888,\"#fdca26\"],[1.0,\"#f0f921\"]]}],\"heatmap\":[{\"type\":\"heatmap\",\"colorbar\":{\"outlinewidth\":0,\"ticks\":\"\"},\"colorscale\":[[0.0,\"#0d0887\"],[0.1111111111111111,\"#46039f\"],[0.2222222222222222,\"#7201a8\"],[0.3333333333333333,\"#9c179e\"],[0.4444444444444444,\"#bd3786\"],[0.5555555555555556,\"#d8576b\"],[0.6666666666666666,\"#ed7953\"],[0.7777777777777778,\"#fb9f3a\"],[0.8888888888888888,\"#fdca26\"],[1.0,\"#f0f921\"]]}],\"heatmapgl\":[{\"type\":\"heatmapgl\",\"colorbar\":{\"outlinewidth\":0,\"ticks\":\"\"},\"colorscale\":[[0.0,\"#0d0887\"],[0.1111111111111111,\"#46039f\"],[0.2222222222222222,\"#7201a8\"],[0.3333333333333333,\"#9c179e\"],[0.4444444444444444,\"#bd3786\"],[0.5555555555555556,\"#d8576b\"],[0.6666666666666666,\"#ed7953\"],[0.7777777777777778,\"#fb9f3a\"],[0.8888888888888888,\"#fdca26\"],[1.0,\"#f0f921\"]]}],\"contourcarpet\":[{\"type\":\"contourcarpet\",\"colorbar\":{\"outlinewidth\":0,\"ticks\":\"\"}}],\"contour\":[{\"type\":\"contour\",\"colorbar\":{\"outlinewidth\":0,\"ticks\":\"\"},\"colorscale\":[[0.0,\"#0d0887\"],[0.1111111111111111,\"#46039f\"],[0.2222222222222222,\"#7201a8\"],[0.3333333333333333,\"#9c179e\"],[0.4444444444444444,\"#bd3786\"],[0.5555555555555556,\"#d8576b\"],[0.6666666666666666,\"#ed7953\"],[0.7777777777777778,\"#fb9f3a\"],[0.8888888888888888,\"#fdca26\"],[1.0,\"#f0f921\"]]}],\"surface\":[{\"type\":\"surface\",\"colorbar\":{\"outlinewidth\":0,\"ticks\":\"\"},\"colorscale\":[[0.0,\"#0d0887\"],[0.1111111111111111,\"#46039f\"],[0.2222222222222222,\"#7201a8\"],[0.3333333333333333,\"#9c179e\"],[0.4444444444444444,\"#bd3786\"],[0.5555555555555556,\"#d8576b\"],[0.6666666666666666,\"#ed7953\"],[0.7777777777777778,\"#fb9f3a\"],[0.8888888888888888,\"#fdca26\"],[1.0,\"#f0f921\"]]}],\"mesh3d\":[{\"type\":\"mesh3d\",\"colorbar\":{\"outlinewidth\":0,\"ticks\":\"\"}}],\"scatter\":[{\"fillpattern\":{\"fillmode\":\"overlay\",\"size\":10,\"solidity\":0.2},\"type\":\"scatter\"}],\"parcoords\":[{\"type\":\"parcoords\",\"line\":{\"colorbar\":{\"outlinewidth\":0,\"ticks\":\"\"}}}],\"scatterpolargl\":[{\"type\":\"scatterpolargl\",\"marker\":{\"colorbar\":{\"outlinewidth\":0,\"ticks\":\"\"}}}],\"bar\":[{\"error_x\":{\"color\":\"#2a3f5f\"},\"error_y\":{\"color\":\"#2a3f5f\"},\"marker\":{\"line\":{\"color\":\"#E5ECF6\",\"width\":0.5},\"pattern\":{\"fillmode\":\"overlay\",\"size\":10,\"solidity\":0.2}},\"type\":\"bar\"}],\"scattergeo\":[{\"type\":\"scattergeo\",\"marker\":{\"colorbar\":{\"outlinewidth\":0,\"ticks\":\"\"}}}],\"scatterpolar\":[{\"type\":\"scatterpolar\",\"marker\":{\"colorbar\":{\"outlinewidth\":0,\"ticks\":\"\"}}}],\"histogram\":[{\"marker\":{\"pattern\":{\"fillmode\":\"overlay\",\"size\":10,\"solidity\":0.2}},\"type\":\"histogram\"}],\"scattergl\":[{\"type\":\"scattergl\",\"marker\":{\"colorbar\":{\"outlinewidth\":0,\"ticks\":\"\"}}}],\"scatter3d\":[{\"type\":\"scatter3d\",\"line\":{\"colorbar\":{\"outlinewidth\":0,\"ticks\":\"\"}},\"marker\":{\"colorbar\":{\"outlinewidth\":0,\"ticks\":\"\"}}}],\"scattermapbox\":[{\"type\":\"scattermapbox\",\"marker\":{\"colorbar\":{\"outlinewidth\":0,\"ticks\":\"\"}}}],\"scatterternary\":[{\"type\":\"scatterternary\",\"marker\":{\"colorbar\":{\"outlinewidth\":0,\"ticks\":\"\"}}}],\"scattercarpet\":[{\"type\":\"scattercarpet\",\"marker\":{\"colorbar\":{\"outlinewidth\":0,\"ticks\":\"\"}}}],\"carpet\":[{\"aaxis\":{\"endlinecolor\":\"#2a3f5f\",\"gridcolor\":\"white\",\"linecolor\":\"white\",\"minorgridcolor\":\"white\",\"startlinecolor\":\"#2a3f5f\"},\"baxis\":{\"endlinecolor\":\"#2a3f5f\",\"gridcolor\":\"white\",\"linecolor\":\"white\",\"minorgridcolor\":\"white\",\"startlinecolor\":\"#2a3f5f\"},\"type\":\"carpet\"}],\"table\":[{\"cells\":{\"fill\":{\"color\":\"#EBF0F8\"},\"line\":{\"color\":\"white\"}},\"header\":{\"fill\":{\"color\":\"#C8D4E3\"},\"line\":{\"color\":\"white\"}},\"type\":\"table\"}],\"barpolar\":[{\"marker\":{\"line\":{\"color\":\"#E5ECF6\",\"width\":0.5},\"pattern\":{\"fillmode\":\"overlay\",\"size\":10,\"solidity\":0.2}},\"type\":\"barpolar\"}],\"pie\":[{\"automargin\":true,\"type\":\"pie\"}]},\"layout\":{\"autotypenumbers\":\"strict\",\"colorway\":[\"#636efa\",\"#EF553B\",\"#00cc96\",\"#ab63fa\",\"#FFA15A\",\"#19d3f3\",\"#FF6692\",\"#B6E880\",\"#FF97FF\",\"#FECB52\"],\"font\":{\"color\":\"#2a3f5f\"},\"hovermode\":\"closest\",\"hoverlabel\":{\"align\":\"left\"},\"paper_bgcolor\":\"white\",\"plot_bgcolor\":\"#E5ECF6\",\"polar\":{\"bgcolor\":\"#E5ECF6\",\"angularaxis\":{\"gridcolor\":\"white\",\"linecolor\":\"white\",\"ticks\":\"\"},\"radialaxis\":{\"gridcolor\":\"white\",\"linecolor\":\"white\",\"ticks\":\"\"}},\"ternary\":{\"bgcolor\":\"#E5ECF6\",\"aaxis\":{\"gridcolor\":\"white\",\"linecolor\":\"white\",\"ticks\":\"\"},\"baxis\":{\"gridcolor\":\"white\",\"linecolor\":\"white\",\"ticks\":\"\"},\"caxis\":{\"gridcolor\":\"white\",\"linecolor\":\"white\",\"ticks\":\"\"}},\"coloraxis\":{\"colorbar\":{\"outlinewidth\":0,\"ticks\":\"\"}},\"colorscale\":{\"sequential\":[[0.0,\"#0d0887\"],[0.1111111111111111,\"#46039f\"],[0.2222222222222222,\"#7201a8\"],[0.3333333333333333,\"#9c179e\"],[0.4444444444444444,\"#bd3786\"],[0.5555555555555556,\"#d8576b\"],[0.6666666666666666,\"#ed7953\"],[0.7777777777777778,\"#fb9f3a\"],[0.8888888888888888,\"#fdca26\"],[1.0,\"#f0f921\"]],\"sequentialminus\":[[0.0,\"#0d0887\"],[0.1111111111111111,\"#46039f\"],[0.2222222222222222,\"#7201a8\"],[0.3333333333333333,\"#9c179e\"],[0.4444444444444444,\"#bd3786\"],[0.5555555555555556,\"#d8576b\"],[0.6666666666666666,\"#ed7953\"],[0.7777777777777778,\"#fb9f3a\"],[0.8888888888888888,\"#fdca26\"],[1.0,\"#f0f921\"]],\"diverging\":[[0,\"#8e0152\"],[0.1,\"#c51b7d\"],[0.2,\"#de77ae\"],[0.3,\"#f1b6da\"],[0.4,\"#fde0ef\"],[0.5,\"#f7f7f7\"],[0.6,\"#e6f5d0\"],[0.7,\"#b8e186\"],[0.8,\"#7fbc41\"],[0.9,\"#4d9221\"],[1,\"#276419\"]]},\"xaxis\":{\"gridcolor\":\"white\",\"linecolor\":\"white\",\"ticks\":\"\",\"title\":{\"standoff\":15},\"zerolinecolor\":\"white\",\"automargin\":true,\"zerolinewidth\":2},\"yaxis\":{\"gridcolor\":\"white\",\"linecolor\":\"white\",\"ticks\":\"\",\"title\":{\"standoff\":15},\"zerolinecolor\":\"white\",\"automargin\":true,\"zerolinewidth\":2},\"scene\":{\"xaxis\":{\"backgroundcolor\":\"#E5ECF6\",\"gridcolor\":\"white\",\"linecolor\":\"white\",\"showbackground\":true,\"ticks\":\"\",\"zerolinecolor\":\"white\",\"gridwidth\":2},\"yaxis\":{\"backgroundcolor\":\"#E5ECF6\",\"gridcolor\":\"white\",\"linecolor\":\"white\",\"showbackground\":true,\"ticks\":\"\",\"zerolinecolor\":\"white\",\"gridwidth\":2},\"zaxis\":{\"backgroundcolor\":\"#E5ECF6\",\"gridcolor\":\"white\",\"linecolor\":\"white\",\"showbackground\":true,\"ticks\":\"\",\"zerolinecolor\":\"white\",\"gridwidth\":2}},\"shapedefaults\":{\"line\":{\"color\":\"#2a3f5f\"}},\"annotationdefaults\":{\"arrowcolor\":\"#2a3f5f\",\"arrowhead\":0,\"arrowwidth\":1},\"geo\":{\"bgcolor\":\"white\",\"landcolor\":\"#E5ECF6\",\"subunitcolor\":\"white\",\"showland\":true,\"showlakes\":true,\"lakecolor\":\"white\"},\"title\":{\"x\":0.05},\"mapbox\":{\"style\":\"light\"}}},\"xaxis\":{\"anchor\":\"y\",\"domain\":[0.0,1.0],\"title\":{\"text\":\"Race\"},\"range\":[1,24]},\"yaxis\":{\"anchor\":\"x\",\"domain\":[0.0,1.0],\"title\":{\"text\":\"Points\"}},\"legend\":{\"title\":{\"text\":\"name\"},\"tracegroupgap\":0},\"title\":{\"text\":\"<b>Constructor Championship Timeline</b>\",\"font\":{\"family\":\"Arial, sans-serif\",\"size\":30},\"x\":0.5}},                        {\"responsive\": true}                    ).then(function(){\n",
       "                            \n",
       "var gd = document.getElementById('70e1514a-d883-4a65-8e37-359ad2d17819');\n",
       "var x = new MutationObserver(function (mutations, observer) {{\n",
       "        var display = window.getComputedStyle(gd).display;\n",
       "        if (!display || display === 'none') {{\n",
       "            console.log([gd, 'removed!']);\n",
       "            Plotly.purge(gd);\n",
       "            observer.disconnect();\n",
       "        }}\n",
       "}});\n",
       "\n",
       "// Listen for the removal of the full notebook cells\n",
       "var notebookContainer = gd.closest('#notebook-container');\n",
       "if (notebookContainer) {{\n",
       "    x.observe(notebookContainer, {childList: true});\n",
       "}}\n",
       "\n",
       "// Listen for the clearing of the current output cell\n",
       "var outputEl = gd.closest('.output');\n",
       "if (outputEl) {{\n",
       "    x.observe(outputEl, {childList: true});\n",
       "}}\n",
       "\n",
       "                        })                };                });            </script>        </div>"
      ]
     },
     "metadata": {},
     "output_type": "display_data"
    }
   ],
   "source": [
    "fig = go.Figure()\n",
    "\n",
    "fig = px.line(constructor_results, x=\"race\", y=\"points\", color='name', labels={\n",
    "    \"points\": \"Points\",\n",
    "    \"race\": \"Race\"\n",
    "}, title='Lap Times', color_discrete_map=constructor_color_map)\n",
    "fig.update_layout(title_text='<b>Constructor Championship Timeline</b>', titlefont = dict(\n",
    "         family = 'Arial, sans-serif',\n",
    "         size = 30\n",
    "      ), title_x=0.5)\n",
    "fig.update_layout(xaxis_range=[1,24])"
   ]
  },
  {
   "cell_type": "code",
   "execution_count": 35,
   "id": "ef4c7cc3",
   "metadata": {
    "_kg_hide-input": true,
    "execution": {
     "iopub.execute_input": "2023-08-05T01:22:30.424780Z",
     "iopub.status.busy": "2023-08-05T01:22:30.424310Z",
     "iopub.status.idle": "2023-08-05T01:22:30.432093Z",
     "shell.execute_reply": "2023-08-05T01:22:30.430851Z"
    },
    "papermill": {
     "duration": 0.040976,
     "end_time": "2023-08-05T01:22:30.434778",
     "exception": false,
     "start_time": "2023-08-05T01:22:30.393802",
     "status": "completed"
    },
    "tags": []
   },
   "outputs": [
    {
     "data": {
      "text/markdown": [
       "# <div style='background:#FF1801; border:0; color:black; box-shadow: 10px 10px 5px 0px rgba(0,0,0,0.75); transform: rotateX(10deg);'><h1 style='padding: 10px; margin: 0; text-align:center;'><span style='font-size: 30px;'>Constructor Overall Standings</span></h1></div>"
      ],
      "text/plain": [
       "<IPython.core.display.Markdown object>"
      ]
     },
     "metadata": {},
     "output_type": "display_data"
    }
   ],
   "source": [
    "display(md(f\"# <div style='background:#FF1801; border:0; color:black; box-shadow: 10px 10px 5px 0px rgba(0,0,0,0.75); transform: rotateX(10deg);'><h1 style='padding: 10px; margin: 0; text-align:center;'><span style='font-size: 30px;'>Constructor Overall Standings</span></h1></div>\"))"
   ]
  },
  {
   "cell_type": "code",
   "execution_count": 36,
   "id": "945a5a5e",
   "metadata": {
    "_kg_hide-input": true,
    "execution": {
     "iopub.execute_input": "2023-08-05T01:22:30.487875Z",
     "iopub.status.busy": "2023-08-05T01:22:30.487410Z",
     "iopub.status.idle": "2023-08-05T01:22:30.507346Z",
     "shell.execute_reply": "2023-08-05T01:22:30.506192Z"
    },
    "papermill": {
     "duration": 0.049834,
     "end_time": "2023-08-05T01:22:30.510222",
     "exception": false,
     "start_time": "2023-08-05T01:22:30.460388",
     "status": "completed"
    },
    "tags": []
   },
   "outputs": [
    {
     "data": {
      "text/html": [
       "<style type=\"text/css\">\n",
       "#T_1ac83_row0_col1, #T_1ac83_row1_col1, #T_1ac83_row2_col1, #T_1ac83_row3_col1, #T_1ac83_row4_col1, #T_1ac83_row5_col1, #T_1ac83_row6_col1, #T_1ac83_row7_col1, #T_1ac83_row8_col1 {\n",
       "  background-color: #800026;\n",
       "  color: #f1f1f1;\n",
       "}\n",
       "#T_1ac83_row9_col1 {\n",
       "  background-color: #fd8c3c;\n",
       "  color: #f1f1f1;\n",
       "}\n",
       "</style>\n",
       "<table id=\"T_1ac83_\">\n",
       "  <caption>Constructor Standings</caption>\n",
       "  <thead>\n",
       "    <tr>\n",
       "      <th class=\"col_heading level0 col0\" >name</th>\n",
       "      <th class=\"col_heading level0 col1\" >points</th>\n",
       "      <th class=\"col_heading level0 col2\" >wins</th>\n",
       "    </tr>\n",
       "  </thead>\n",
       "  <tbody>\n",
       "    <tr>\n",
       "      <td id=\"T_1ac83_row0_col0\" class=\"data row0 col0\" >Red Bull</td>\n",
       "      <td id=\"T_1ac83_row0_col1\" class=\"data row0 col1\" >503.0</td>\n",
       "      <td id=\"T_1ac83_row0_col2\" class=\"data row0 col2\" >12</td>\n",
       "    </tr>\n",
       "    <tr>\n",
       "      <td id=\"T_1ac83_row1_col0\" class=\"data row1 col0\" >Mercedes</td>\n",
       "      <td id=\"T_1ac83_row1_col1\" class=\"data row1 col1\" >247.0</td>\n",
       "      <td id=\"T_1ac83_row1_col2\" class=\"data row1 col2\" >0</td>\n",
       "    </tr>\n",
       "    <tr>\n",
       "      <td id=\"T_1ac83_row2_col0\" class=\"data row2 col0\" >Aston Martin</td>\n",
       "      <td id=\"T_1ac83_row2_col1\" class=\"data row2 col1\" >196.0</td>\n",
       "      <td id=\"T_1ac83_row2_col2\" class=\"data row2 col2\" >0</td>\n",
       "    </tr>\n",
       "    <tr>\n",
       "      <td id=\"T_1ac83_row3_col0\" class=\"data row3 col0\" >Ferrari</td>\n",
       "      <td id=\"T_1ac83_row3_col1\" class=\"data row3 col1\" >191.0</td>\n",
       "      <td id=\"T_1ac83_row3_col2\" class=\"data row3 col2\" >0</td>\n",
       "    </tr>\n",
       "    <tr>\n",
       "      <td id=\"T_1ac83_row4_col0\" class=\"data row4 col0\" >McLaren</td>\n",
       "      <td id=\"T_1ac83_row4_col1\" class=\"data row4 col1\" >103.0</td>\n",
       "      <td id=\"T_1ac83_row4_col2\" class=\"data row4 col2\" >0</td>\n",
       "    </tr>\n",
       "    <tr>\n",
       "      <td id=\"T_1ac83_row5_col0\" class=\"data row5 col0\" >Alpine F1 Team</td>\n",
       "      <td id=\"T_1ac83_row5_col1\" class=\"data row5 col1\" >57.0</td>\n",
       "      <td id=\"T_1ac83_row5_col2\" class=\"data row5 col2\" >0</td>\n",
       "    </tr>\n",
       "    <tr>\n",
       "      <td id=\"T_1ac83_row6_col0\" class=\"data row6 col0\" >Williams</td>\n",
       "      <td id=\"T_1ac83_row6_col1\" class=\"data row6 col1\" >11.0</td>\n",
       "      <td id=\"T_1ac83_row6_col2\" class=\"data row6 col2\" >0</td>\n",
       "    </tr>\n",
       "    <tr>\n",
       "      <td id=\"T_1ac83_row7_col0\" class=\"data row7 col0\" >Haas F1 Team</td>\n",
       "      <td id=\"T_1ac83_row7_col1\" class=\"data row7 col1\" >11.0</td>\n",
       "      <td id=\"T_1ac83_row7_col2\" class=\"data row7 col2\" >0</td>\n",
       "    </tr>\n",
       "    <tr>\n",
       "      <td id=\"T_1ac83_row8_col0\" class=\"data row8 col0\" >Alfa Romeo</td>\n",
       "      <td id=\"T_1ac83_row8_col1\" class=\"data row8 col1\" >9.0</td>\n",
       "      <td id=\"T_1ac83_row8_col2\" class=\"data row8 col2\" >0</td>\n",
       "    </tr>\n",
       "    <tr>\n",
       "      <td id=\"T_1ac83_row9_col0\" class=\"data row9 col0\" >AlphaTauri</td>\n",
       "      <td id=\"T_1ac83_row9_col1\" class=\"data row9 col1\" >3.0</td>\n",
       "      <td id=\"T_1ac83_row9_col2\" class=\"data row9 col2\" >0</td>\n",
       "    </tr>\n",
       "  </tbody>\n",
       "</table>\n"
      ],
      "text/plain": [
       "<pandas.io.formats.style.Styler at 0x7a71f99103d0>"
      ]
     },
     "execution_count": 36,
     "metadata": {},
     "output_type": "execute_result"
    }
   ],
   "source": [
    "const_stand_race = constructor_overall.sort_values(by='points', ascending=False)\n",
    "const_stand_race[['name', 'points', 'wins']].style.pipe(const_standings)"
   ]
  },
  {
   "cell_type": "code",
   "execution_count": 37,
   "id": "ac75b0af",
   "metadata": {
    "_kg_hide-input": true,
    "execution": {
     "iopub.execute_input": "2023-08-05T01:22:30.563422Z",
     "iopub.status.busy": "2023-08-05T01:22:30.562079Z",
     "iopub.status.idle": "2023-08-05T01:22:30.573795Z",
     "shell.execute_reply": "2023-08-05T01:22:30.572444Z"
    },
    "papermill": {
     "duration": 0.04135,
     "end_time": "2023-08-05T01:22:30.576556",
     "exception": false,
     "start_time": "2023-08-05T01:22:30.535206",
     "status": "completed"
    },
    "tags": []
   },
   "outputs": [
    {
     "data": {
      "text/markdown": [
       "<h1 style='background:#FF1801;border:0; color:black;box-shadow: 10px 10px 5px 0px rgba(0,0,0,0.75);transform: rotateX(10deg);'><center style='color: white;'>Next Up: Dutch Grand Prix, 2023-08-27</center></h1>"
      ],
      "text/plain": [
       "<IPython.core.display.Markdown object>"
      ]
     },
     "metadata": {},
     "output_type": "display_data"
    }
   ],
   "source": [
    "max_round = max(schedule['round'])\n",
    "if race < max_round:\n",
    "    next_race = schedule[schedule['round'] == (race+1)]\n",
    "    next_race_name = next_race['raceName'].values[0]\n",
    "    next_race_date = next_race['date'].values[0]\n",
    "    display(md(f\"<h1 style='background:#FF1801;border:0; color:black;box-shadow: 10px 10px 5px 0px rgba(0,0,0,0.75);transform: rotateX(10deg);'><center style='color: white;'>Next Up: {next_race_name}, {next_race_date}</center></h1>\"))\n",
    "else:\n",
    "    display(md(f\"<h1 style='background:#FF1801;border:0; color:black;box-shadow: 10px 10px 5px 0px rgba(0,0,0,0.75);transform: rotateX(10deg);'><center style='color: white;'>Next Up: {year+1} Data Summary</center></h1>\"))\n"
   ]
  },
  {
   "cell_type": "markdown",
   "id": "c07ea86f",
   "metadata": {
    "papermill": {
     "duration": 0.024799,
     "end_time": "2023-08-05T01:22:30.626417",
     "exception": false,
     "start_time": "2023-08-05T01:22:30.601618",
     "status": "completed"
    },
    "tags": []
   },
   "source": [
    "<h1 style='background:#FF1801;border:0; color:black;\n",
    "    box-shadow: 10px 10px 5px 0px rgba(0,0,0,0.75);\n",
    "    transform: rotateX(10deg);\n",
    "    '><center style='color: black;'>Thank You</center></h1>"
   ]
  },
  {
   "cell_type": "markdown",
   "id": "575d4f48",
   "metadata": {
    "papermill": {
     "duration": 0.024712,
     "end_time": "2023-08-05T01:22:30.676099",
     "exception": false,
     "start_time": "2023-08-05T01:22:30.651387",
     "status": "completed"
    },
    "tags": []
   },
   "source": [
    "### Please upvote if you liked this notebook and comment with your feedback! Thank you so much for supporting my work. "
   ]
  },
  {
   "cell_type": "code",
   "execution_count": 38,
   "id": "47e5f1a2",
   "metadata": {
    "_kg_hide-input": true,
    "execution": {
     "iopub.execute_input": "2023-08-05T01:22:30.732343Z",
     "iopub.status.busy": "2023-08-05T01:22:30.731241Z",
     "iopub.status.idle": "2023-08-05T01:22:30.738586Z",
     "shell.execute_reply": "2023-08-05T01:22:30.737553Z"
    },
    "papermill": {
     "duration": 0.040005,
     "end_time": "2023-08-05T01:22:30.741156",
     "exception": false,
     "start_time": "2023-08-05T01:22:30.701151",
     "status": "completed"
    },
    "tags": []
   },
   "outputs": [
    {
     "data": {
      "text/markdown": [
       "# <div style='background:#FF1801; border:0; color:black; box-shadow: 10px 10px 5px 0px rgba(0,0,0,0.75); transform: rotateX(10deg);'><h1 style='padding: 10px; margin: 0; text-align:center;'><span style='font-size: 30px;'>Acknowledgements</span></h1></div>"
      ],
      "text/plain": [
       "<IPython.core.display.Markdown object>"
      ]
     },
     "metadata": {},
     "output_type": "display_data"
    }
   ],
   "source": [
    "display(md(f\"# <div style='background:#FF1801; border:0; color:black; box-shadow: 10px 10px 5px 0px rgba(0,0,0,0.75); transform: rotateX(10deg);'><h1 style='padding: 10px; margin: 0; text-align:center;'><span style='font-size: 30px;'>Acknowledgements</span></h1></div>\"))"
   ]
  },
  {
   "cell_type": "markdown",
   "id": "26a124af",
   "metadata": {
    "papermill": {
     "duration": 0.027057,
     "end_time": "2023-08-05T01:22:30.794610",
     "exception": false,
     "start_time": "2023-08-05T01:22:30.767553",
     "status": "completed"
    },
    "tags": []
   },
   "source": [
    "- Shoutout to @VOPANI for creating this fantastic, F1 dataset\n",
    "- The F1 Developer API http://ergast.com/mrd/\n",
    "- The python package ergast API wrapper, [[pyergast](https://github.com/weiranyu/pyErgast)]\n",
    "- Very inspired by this [[notebook](https://www.kaggle.com/code/ekrembayar/formula-1-70th-anniversary)] on the same dataset"
   ]
  },
  {
   "cell_type": "code",
   "execution_count": 39,
   "id": "319dd152",
   "metadata": {
    "_kg_hide-input": true,
    "execution": {
     "iopub.execute_input": "2023-08-05T01:22:30.848703Z",
     "iopub.status.busy": "2023-08-05T01:22:30.847469Z",
     "iopub.status.idle": "2023-08-05T01:22:30.856586Z",
     "shell.execute_reply": "2023-08-05T01:22:30.855446Z"
    },
    "papermill": {
     "duration": 0.039251,
     "end_time": "2023-08-05T01:22:30.859247",
     "exception": false,
     "start_time": "2023-08-05T01:22:30.819996",
     "status": "completed"
    },
    "tags": []
   },
   "outputs": [
    {
     "data": {
      "text/markdown": [
       "# <div style='background:#FF1801; border:0; color:black; box-shadow: 10px 10px 5px 0px rgba(0,0,0,0.75); transform: rotateX(10deg);'><h1 style='padding: 10px; margin: 0; text-align:center;'><span style='font-size: 30px;'>Race Schedule</span></h1></div>"
      ],
      "text/plain": [
       "<IPython.core.display.Markdown object>"
      ]
     },
     "metadata": {},
     "output_type": "display_data"
    }
   ],
   "source": [
    "display(md(f\"# <div style='background:#FF1801; border:0; color:black; box-shadow: 10px 10px 5px 0px rgba(0,0,0,0.75); transform: rotateX(10deg);'><h1 style='padding: 10px; margin: 0; text-align:center;'><span style='font-size: 30px;'>Race Schedule</span></h1></div>\"))"
   ]
  },
  {
   "cell_type": "markdown",
   "id": "fe7786ef",
   "metadata": {
    "papermill": {
     "duration": 0.025071,
     "end_time": "2023-08-05T01:22:30.909626",
     "exception": false,
     "start_time": "2023-08-05T01:22:30.884555",
     "status": "completed"
    },
    "tags": []
   },
   "source": [
    "<div class=\"row\" style='float:left' align='center'>\n",
    "<div class=\"column\" align = 'center' style='float:left; max-width:50%;'> \n",
    "    <img src=\"https://cdn-1.motorsport.com/images/mgl/Y99JQRbY/s800/red-bull-racing-logo-1.jpg\" width=70>\n",
    "    <img src=\"https://media.formula1.com/content/dam/fom-website/2018-redesign-assets/team%20logos/alpine.jpg\" width=70>\n",
    "    <img src=\"https://cdn-8.motorsport.com/images/mgl/YEQJgyLY/s800/mclaren-f1-team-logo-1.jpg\" width=60>\n",
    "    <img src=\"https://assets.turbologo.com/blog/en/2019/10/19084952/ferrari-logo-illustration-958x575.jpg\" width=70 />\n",
    "      <img src=\"https://cdn.sanity.io/images/fnx611yr/production/ff454bb2b4adb541b66477adcb49088f8de0fb4a-2400x2400.jpg?rect=0,572,2400,1256&w=1200&h=628&auto=format\"/ width=70>\n",
    "    <img src=\"https://cdn-9.motorsport.com/images/mgl/0RrzmDo0/s800/mercedes-f1-logo-1.jpg\" width=70/>\n",
    "    <img src=\"https://diginomica.com/sites/default/files/images/2019-05/Haas-F1-logo.jpg\" width=70>\n",
    "    <img src=\"https://d3cm515ijfiu6w.cloudfront.net/wp-content/uploads/2021/01/01082241/Aston-Martin.jpg\" width=70>\n",
    "    <img src=\"https://cdn-2.motorsport.com/images/mgl/Y99JQR8Y/s8/scuderia-alphatauri-f1-logo-1.jpg\" width=70>\n",
    "      <img src=\"https://www.formula1.com/content/dam/fom-website/manual/teams/Sauber/Alfa_Romeo_Racing_logo.jpg\"/ width=70>\n",
    "</div>\n",
    " <div class=\"column\" style='float:left; max-width:50%;'> \n",
    "    <img src=\"https://pbs.twimg.com/media/FmrBRv9XwAAFv18.jpg:large\" />\n",
    "</div>\n",
    " </div>"
   ]
  }
 ],
 "metadata": {
  "kernelspec": {
   "display_name": "Python 3",
   "language": "python",
   "name": "python3"
  },
  "language_info": {
   "codemirror_mode": {
    "name": "ipython",
    "version": 3
   },
   "file_extension": ".py",
   "mimetype": "text/x-python",
   "name": "python",
   "nbconvert_exporter": "python",
   "pygments_lexer": "ipython3",
   "version": "3.7.12"
  },
  "papermill": {
   "default_parameters": {},
   "duration": 80.693715,
   "end_time": "2023-08-05T01:22:32.262532",
   "environment_variables": {},
   "exception": null,
   "input_path": "__notebook__.ipynb",
   "output_path": "__notebook__.ipynb",
   "parameters": {},
   "start_time": "2023-08-05T01:21:11.568817",
   "version": "2.4.0"
  }
 },
 "nbformat": 4,
 "nbformat_minor": 5
}
