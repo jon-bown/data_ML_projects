{
 "cells": [
  {
   "cell_type": "markdown",
   "id": "42ff2454",
   "metadata": {
    "papermill": {
     "duration": 0.017842,
     "end_time": "2023-11-10T04:03:47.896451",
     "exception": false,
     "start_time": "2023-11-10T04:03:47.878609",
     "status": "completed"
    },
    "tags": []
   },
   "source": [
    "<div align='center'>\n",
    "    <img src=\"https://www.raconteur.net/wp-content/uploads/2018/04/shutterstock_762930772.jpg\"/>\n",
    "</div>"
   ]
  },
  {
   "cell_type": "markdown",
   "id": "72c6c0f4",
   "metadata": {
    "papermill": {
     "duration": 0.016964,
     "end_time": "2023-11-10T04:03:47.929632",
     "exception": false,
     "start_time": "2023-11-10T04:03:47.912668",
     "status": "completed"
    },
    "tags": []
   },
   "source": [
    "<style>\n",
    "@font-face {\n",
    "  font-family: F1;\n",
    "  src: url(https://www.formula1.com/etc/designs/fom-website/fonts/F1Regular/Formula1-Regular.ttf);\n",
    "}\n",
    "\n",
    "span{\n",
    "  font-family: F1;\n",
    "}\n",
    "\n",
    "a{\n",
    "  font-family: F1;\n",
    "}\n",
    "\n",
    ".nav-pills>li.active>a:focus {\n",
    "    color: #ffffff;\n",
    "    background-color: lightgray;\n",
    "}\n",
    "\n",
    ".container-fluid, .container-fluid h1 {\n",
    "    font-family: F1;\n",
    "    line-height: 1.7;\n",
    "}\n",
    "\n",
    ".container-fluid p {\n",
    "    font-family: F1;\n",
    "    color:black;\n",
    "}\n",
    "\n",
    "h1,h2,h3,h4,h5,h6,p, table {\n",
    "  font-family: F1;\n",
    "  color: black\n",
    "}\n",
    "</style>"
   ]
  },
  {
   "cell_type": "code",
   "execution_count": 1,
   "id": "c18dc640",
   "metadata": {
    "_kg_hide-input": true,
    "_kg_hide-output": true,
    "execution": {
     "iopub.execute_input": "2023-11-10T04:03:47.966154Z",
     "iopub.status.busy": "2023-11-10T04:03:47.965194Z",
     "iopub.status.idle": "2023-11-10T04:03:47.983206Z",
     "shell.execute_reply": "2023-11-10T04:03:47.981685Z"
    },
    "papermill": {
     "duration": 0.04064,
     "end_time": "2023-11-10T04:03:47.986996",
     "exception": false,
     "start_time": "2023-11-10T04:03:47.946356",
     "status": "completed"
    },
    "tags": []
   },
   "outputs": [
    {
     "data": {
      "text/html": [
       "<style>\n",
       "@font-face {\n",
       "  font-family: F1;\n",
       "  src: url(https://www.formula1.com/etc/designs/fom-website/fonts/F1Regular/Formula1-Regular.ttf);\n",
       "}\n",
       "\n",
       "span{\n",
       "  font-family: F1;\n",
       "}\n",
       "\n",
       "a{\n",
       "  font-family: F1;\n",
       "}\n",
       "\n",
       ".nav-pills>li.active>a:focus {\n",
       "    color: #ffffff;\n",
       "    background-color: lightgray;\n",
       "}\n",
       "\n",
       ".container-fluid, .container-fluid h1 {\n",
       "    font-family: F1;\n",
       "    line-height: 1.7;\n",
       "}\n",
       "\n",
       ".container-fluid p {\n",
       "    font-family: F1;\n",
       "    color:black;\n",
       "}\n",
       "\n",
       "h1,h2,h3,h4,h5,h6,p, table {\n",
       "  font-family: F1;\n",
       "  color: black\n",
       "}\n",
       "</style>\n"
      ],
      "text/plain": [
       "<IPython.core.display.HTML object>"
      ]
     },
     "metadata": {},
     "output_type": "display_data"
    }
   ],
   "source": [
    "%%html\n",
    "<style>\n",
    "@font-face {\n",
    "  font-family: F1;\n",
    "  src: url(https://www.formula1.com/etc/designs/fom-website/fonts/F1Regular/Formula1-Regular.ttf);\n",
    "}\n",
    "\n",
    "span{\n",
    "  font-family: F1;\n",
    "}\n",
    "\n",
    "a{\n",
    "  font-family: F1;\n",
    "}\n",
    "\n",
    ".nav-pills>li.active>a:focus {\n",
    "    color: #ffffff;\n",
    "    background-color: lightgray;\n",
    "}\n",
    "\n",
    ".container-fluid, .container-fluid h1 {\n",
    "    font-family: F1;\n",
    "    line-height: 1.7;\n",
    "}\n",
    "\n",
    ".container-fluid p {\n",
    "    font-family: F1;\n",
    "    color:black;\n",
    "}\n",
    "\n",
    "h1,h2,h3,h4,h5,h6,p, table {\n",
    "  font-family: F1;\n",
    "  color: black\n",
    "}\n",
    "</style>"
   ]
  },
  {
   "cell_type": "markdown",
   "id": "af64b4af",
   "metadata": {
    "papermill": {
     "duration": 0.017944,
     "end_time": "2023-11-10T04:03:48.024918",
     "exception": false,
     "start_time": "2023-11-10T04:03:48.006974",
     "status": "completed"
    },
    "tags": []
   },
   "source": [
    "<div style=\"padding: 15px; \n",
    "            color: #FFFFFF;\n",
    "            margin: 5px;\n",
    "            font-size: 110%;\n",
    "            display: block;\n",
    "            border-radius: 5px;\n",
    "            border: 5px solid #FF1801;\n",
    "            background-color: #000000;\">\n",
    "    <center>\n",
    "        <a id=\"top\"></a>\n",
    "        <h3 style=\"margin-bottom: 20px; color: white;\">Table of Contents</h3>\n",
    "    </center>\n",
    "    <ol>\n",
    "        <li>Podium</li>\n",
    "        <li>Full Results</li>\n",
    "        <li>Qualifying</li>\n",
    "        <li>Sprint</li>\n",
    "        <li>Pit Stops</li>\n",
    "        <li>Lap Summary</li>\n",
    "        <li>Driver Standings</li>\n",
    "        <li>Constructor Race Performance</li>\n",
    "        <li>Constructor Standings</li>\n",
    "        <li>Sources</li>\n",
    "    </ol>\n",
    "</div>\n"
   ]
  },
  {
   "cell_type": "code",
   "execution_count": 2,
   "id": "2b7903d6",
   "metadata": {
    "_kg_hide-input": true,
    "_kg_hide-output": true,
    "execution": {
     "iopub.execute_input": "2023-11-10T04:03:48.061416Z",
     "iopub.status.busy": "2023-11-10T04:03:48.060868Z",
     "iopub.status.idle": "2023-11-10T04:04:04.109615Z",
     "shell.execute_reply": "2023-11-10T04:04:04.107840Z"
    },
    "papermill": {
     "duration": 16.071069,
     "end_time": "2023-11-10T04:04:04.113335",
     "exception": false,
     "start_time": "2023-11-10T04:03:48.042266",
     "status": "completed"
    },
    "tags": []
   },
   "outputs": [
    {
     "name": "stdout",
     "output_type": "stream",
     "text": [
      "Collecting pyergast\r\n",
      "  Downloading pyErgast-0.1.0-py3-none-any.whl (10 kB)\r\n",
      "Requirement already satisfied: pandas<2.0.0,>=1.1.5 in /opt/conda/lib/python3.7/site-packages (from pyergast) (1.3.5)\r\n",
      "Requirement already satisfied: requests<3.0.0,>=2.25.0 in /opt/conda/lib/python3.7/site-packages (from pyergast) (2.28.2)\r\n",
      "Requirement already satisfied: python-dateutil>=2.7.3 in /opt/conda/lib/python3.7/site-packages (from pandas<2.0.0,>=1.1.5->pyergast) (2.8.2)\r\n",
      "Requirement already satisfied: pytz>=2017.3 in /opt/conda/lib/python3.7/site-packages (from pandas<2.0.0,>=1.1.5->pyergast) (2022.7.1)\r\n",
      "Requirement already satisfied: numpy>=1.17.3 in /opt/conda/lib/python3.7/site-packages (from pandas<2.0.0,>=1.1.5->pyergast) (1.21.6)\r\n",
      "Requirement already satisfied: idna<4,>=2.5 in /opt/conda/lib/python3.7/site-packages (from requests<3.0.0,>=2.25.0->pyergast) (3.4)\r\n",
      "Requirement already satisfied: charset-normalizer<4,>=2 in /opt/conda/lib/python3.7/site-packages (from requests<3.0.0,>=2.25.0->pyergast) (2.1.1)\r\n",
      "Requirement already satisfied: certifi>=2017.4.17 in /opt/conda/lib/python3.7/site-packages (from requests<3.0.0,>=2.25.0->pyergast) (2022.12.7)\r\n",
      "Requirement already satisfied: urllib3<1.27,>=1.21.1 in /opt/conda/lib/python3.7/site-packages (from requests<3.0.0,>=2.25.0->pyergast) (1.26.14)\r\n",
      "Requirement already satisfied: six>=1.5 in /opt/conda/lib/python3.7/site-packages (from python-dateutil>=2.7.3->pandas<2.0.0,>=1.1.5->pyergast) (1.16.0)\r\n",
      "Installing collected packages: pyergast\r\n",
      "Successfully installed pyergast-0.1.0\r\n",
      "\u001b[33mWARNING: Running pip as the 'root' user can result in broken permissions and conflicting behaviour with the system package manager. It is recommended to use a virtual environment instead: https://pip.pypa.io/warnings/venv\u001b[0m\u001b[33m\r\n",
      "\u001b[0m"
     ]
    }
   ],
   "source": [
    "!pip install pyergast"
   ]
  },
  {
   "cell_type": "code",
   "execution_count": 3,
   "id": "5b1d1d3a",
   "metadata": {
    "_cell_guid": "b1076dfc-b9ad-4769-8c92-a6c4dae69d19",
    "_kg_hide-input": true,
    "_uuid": "8f2839f25d086af736a60e9eeb907d3b93b6e0e5",
    "execution": {
     "iopub.execute_input": "2023-11-10T04:04:04.153024Z",
     "iopub.status.busy": "2023-11-10T04:04:04.152456Z",
     "iopub.status.idle": "2023-11-10T04:04:07.976004Z",
     "shell.execute_reply": "2023-11-10T04:04:07.974290Z"
    },
    "papermill": {
     "duration": 3.847832,
     "end_time": "2023-11-10T04:04:07.979680",
     "exception": false,
     "start_time": "2023-11-10T04:04:04.131848",
     "status": "completed"
    },
    "tags": []
   },
   "outputs": [],
   "source": [
    "import numpy as np\n",
    "import pandas as pd\n",
    "import datetime\n",
    "from datetime import date\n",
    "import os\n",
    "import seaborn as sns\n",
    "from IPython.display import Markdown as md\n",
    "import matplotlib.pyplot as plt\n",
    "import plotly.express as px\n",
    "from scipy import stats\n",
    "import plotly.graph_objects as go\n",
    "pd.set_option('display.precision', 1)\n",
    "from pyergast import pyergast\n",
    "import requests\n",
    "from plotly.offline import init_notebook_mode, iplot"
   ]
  },
  {
   "cell_type": "code",
   "execution_count": 4,
   "id": "f9d1a6b3",
   "metadata": {
    "_kg_hide-input": true,
    "execution": {
     "iopub.execute_input": "2023-11-10T04:04:08.018739Z",
     "iopub.status.busy": "2023-11-10T04:04:08.018216Z",
     "iopub.status.idle": "2023-11-10T04:04:08.055139Z",
     "shell.execute_reply": "2023-11-10T04:04:08.053436Z"
    },
    "papermill": {
     "duration": 0.06131,
     "end_time": "2023-11-10T04:04:08.058736",
     "exception": false,
     "start_time": "2023-11-10T04:04:07.997426",
     "status": "completed"
    },
    "tags": []
   },
   "outputs": [],
   "source": [
    "#NOT ALL API ENDPOINTS AVAILABLE IN PYTHON PACKAGE OR WORK CORRECTLY, NEED TO USE MY OWN FOR SOME\n",
    "def constructor_standings(year=None, race=None):\n",
    "    \"\"\"\n",
    "    Fetch the constructor standings after a specific race in a specific year. Defaults to latest standings\n",
    "    Parameters\n",
    "    ----------\n",
    "    year: int\n",
    "        An optional parameter that specifies the year to be queried.\n",
    "    race: int\n",
    "        An optional parameter that specifies the round of a year to be queried.\n",
    "    Returns\n",
    "    -------\n",
    "    pandas.DataFrame\n",
    "    Index:\n",
    "        RangeIndex\n",
    "    Columns:\n",
    "        position: int\n",
    "        positionText: str\n",
    "        points: int\n",
    "        wins: int\n",
    "        constructorID: str\n",
    "        constructor: str\n",
    "        nationality: str\n",
    "    Example\n",
    "    -------\n",
    "    >>> pyergast.constructor_standings(1965)\n",
    "       position positionText points wins    constructorID             name    nationality\n",
    "    0         1            1     54    6     lotus-climax     Lotus-Climax        British\n",
    "    1         2            2     45    3              brm              BRM        British\n",
    "    2         3            3     27    0   brabham-climax   Brabham-Climax        British\n",
    "    3         4            4     26    0          ferrari          Ferrari        Italian\n",
    "    4         5            5     14    0    cooper-climax    Cooper-Climax        British\n",
    "    5         6            6     11    1            honda            Honda       Japanese\n",
    "    6         7            7      5    0      brabham-brm      Brabham-BRM        British\n",
    "    7         8            8      2    0        lotus-brm        Lotus-BRM        British\n",
    "    8         9            9      0    0     brabham-ford     Brabham-Ford        British\n",
    "    9        10           10      0    0             alfa       Alfa Romeo        Italian\n",
    "    10       11           11      0    0   lds-alfa_romeo   LDS-Alfa Romeo  South African\n",
    "    11       12           12      0    0      cooper-ford      Cooper-Ford        British\n",
    "    12       13           13      0    0       lds-climax       LDS-Climax  South African\n",
    "    13       14           14      0    0       lotus-ford       Lotus-Ford        British\n",
    "    14       15           15      0    0               re               RE      Rhodesian\n",
    "    15       16           16      0    0  cooper-maserati  Cooper-Maserati        British\n",
    "    \"\"\"\n",
    "    if year and race:\n",
    "        assert year >= 1958, 'Constructor standings only available starting 1958'\n",
    "        url = 'http://ergast.com/api/f1/{}/{}/constructorStandings.json?limit=1000'.format(year, race)\n",
    "    elif year:\n",
    "        assert year >= 1958, 'Constructor standings only available starting 1958'\n",
    "        url = 'http://ergast.com/api/f1/{}/constructorStandings.json?limit=1000'.format(year, race)\n",
    "    else:\n",
    "        url = 'http://ergast.com/api/f1/current/constructorStandings.json?limit=1000'\n",
    "\n",
    "    r = requests.get(url)\n",
    "    assert r.status_code == 200, 'Cannot connect to Ergast API. Check your inputs.'\n",
    "    output = r.json()\n",
    "    try:\n",
    "        constructorStandings = output['MRData']['StandingsTable']['StandingsLists'][0]['ConstructorStandings']\n",
    "    except:\n",
    "        return pd.DataFrame()\n",
    "\n",
    "    for constructor in constructorStandings:\n",
    "        constructor['constructorID'] = constructor['Constructor']['constructorId']\n",
    "        constructor['name'] = constructor['Constructor']['name']\n",
    "        constructor['nationality'] = constructor['Constructor']['nationality']\n",
    "        del constructor['Constructor']\n",
    "\n",
    "    return pd.DataFrame(constructorStandings)\n",
    "\n",
    "\n",
    "\n",
    "def get_pit_stops(year=None, race=None):\n",
    "    \"\"\"\n",
    "    \"\"\"\n",
    "    if year and race:\n",
    "        url = 'http://ergast.com/api/f1/{}/{}/pitstops.json?limit=1000'.format(year, race)\n",
    "    r = requests.get(url)\n",
    "\n",
    "    assert r.status_code == 200, 'Cannot connect to Ergast API'\n",
    "    drivers = r.json()\n",
    "    try:\n",
    "        result = pd.DataFrame(drivers[\"MRData\"][\"RaceTable\"][\"Races\"][0][\"PitStops\"])\n",
    "    except:\n",
    "        return pd.DataFrame()\n",
    "\n",
    "    return result\n",
    "\n",
    "\n",
    "def get_round(year=None, race=None):\n",
    "    \"\"\"\n",
    "    \"\"\"\n",
    "    if year and race:\n",
    "        url = 'http://ergast.com/api/f1/{}/{}/pitstops.json?limit=1000'.format(year, race)\n",
    "    r = requests.get(url)\n",
    "\n",
    "    assert r.status_code == 200, 'Cannot connect to Ergast API'\n",
    "    drivers = r.json()\n",
    "    try:\n",
    "        result = pd.DataFrame(drivers[\"MRData\"][\"RaceTable\"][\"Races\"][0][\"PitStops\"])\n",
    "    except:\n",
    "        return pd.DataFrame()\n",
    "\n",
    "    return result\n",
    "\n",
    "def get_lap_times(year=None, race=None):\n",
    "    \"\"\"\n",
    "    \"\"\"\n",
    "    if year and race:\n",
    "        url = 'http://ergast.com/api/f1/{}/{}/laps.json?limit=1000'.format(year, race)\n",
    "    r = requests.get(url)\n",
    "\n",
    "    assert r.status_code == 200, 'Cannot connect to Ergast API'\n",
    "    drivers = r.json()\n",
    "    try:\n",
    "        result = pd.DataFrame(drivers[\"MRData\"][\"RaceTable\"][\"Races\"][0][\"Laps\"])\n",
    "    except:\n",
    "        return pd.DataFrame()\n",
    "    lap_df = pd.DataFrame()\n",
    "    for lap in result.number.unique():\n",
    "        temp_df = pd.DataFrame(result[result['number'] == lap].Timings.iloc[0])\n",
    "        temp_df['lap'] = lap\n",
    "        lap_df = pd.concat([lap_df, temp_df], ignore_index=True, axis=0)\n",
    "\n",
    "    return lap_df\n",
    "\n",
    "def get_last_round():\n",
    "    \"\"\"\n",
    "    \"\"\"\n",
    "    url = 'http://ergast.com/api/f1/current/last/results.json?limit=1000'\n",
    "    r = requests.get(url)\n",
    "\n",
    "    assert r.status_code == 200, 'Cannot connect to Ergast API'\n",
    "    drivers = r.json()\n",
    "    try:\n",
    "        result = drivers[\"MRData\"][\"RaceTable\"][\"round\"]\n",
    "    except:\n",
    "        return pd.DataFrame()\n",
    "   \n",
    "\n",
    "    return int(result)\n",
    "\n",
    "\n",
    "def get_sprint_results(year=None, race=None):\n",
    "    \"\"\"\n",
    "    Get results of sprint, return empty dataframe if no sprint results available\n",
    "    \"\"\"\n",
    "    if year and race:\n",
    "        url = f'http://ergast.com/api/f1/{year}/{race}/sprint.json?limit=1000'\n",
    "    r = requests.get(url)\n",
    "\n",
    "    assert r.status_code == 200, 'Cannot connect to Ergast API'\n",
    "    drivers = r.json()\n",
    "    try:\n",
    "        result = pd.DataFrame(drivers[\"MRData\"][\"RaceTable\"][\"Races\"][0][\"SprintResults\"])\n",
    "        result['driverID'] = result['Driver'].apply(lambda x: x['driverId'])\n",
    "        result['Driver'] = result['Driver'].apply(lambda x: x['code'])\n",
    "        result['constructorId'] = result['Constructor'].apply(lambda x: x['constructorId'])\n",
    "    except:\n",
    "        return pd.DataFrame()\n",
    "\n",
    "    return result"
   ]
  },
  {
   "cell_type": "code",
   "execution_count": 5,
   "id": "3dec6298",
   "metadata": {
    "_kg_hide-input": true,
    "_kg_hide-output": true,
    "execution": {
     "iopub.execute_input": "2023-11-10T04:04:08.095403Z",
     "iopub.status.busy": "2023-11-10T04:04:08.094856Z",
     "iopub.status.idle": "2023-11-10T04:04:22.982498Z",
     "shell.execute_reply": "2023-11-10T04:04:22.981188Z"
    },
    "papermill": {
     "duration": 14.910382,
     "end_time": "2023-11-10T04:04:22.986151",
     "exception": false,
     "start_time": "2023-11-10T04:04:08.075769",
     "status": "completed"
    },
    "tags": []
   },
   "outputs": [],
   "source": [
    "#DATA CLEANING\n",
    "##INITIAL PARAMETERS\n",
    "my_date = date.today()\n",
    "year, week_num, day_of_week = my_date.isocalendar()\n",
    "race = get_last_round()\n",
    "\n",
    "#RACE RESULTS\n",
    "race_result = pyergast.get_race_result()\n",
    "race_result['points'] = race_result.points.astype(float)\n",
    "circuits = pyergast.get_circuits()\n",
    "\n",
    "#CONSTRUCTORS\n",
    "constructor_overall = constructor_standings(year=year)\n",
    "const_ov_emp = constructor_overall.empty\n",
    "if not const_ov_emp:\n",
    "    constructor_overall['points'] = constructor_overall.points.astype(float)\n",
    "constructor_results = constructor_standings(year=year, race=race)\n",
    "const_re_emp = constructor_results.empty\n",
    "if not const_re_emp:\n",
    "    constructor_results['points'] = constructor_results.points.astype(float)\n",
    "constructors = pyergast.get_constructors()\n",
    "\n",
    "#DRIVERS\n",
    "drivers = pyergast.get_drivers(year=year)\n",
    "drivers_2 = pd.read_csv('/kaggle/input/formula-1-world-championship-1950-2020/drivers.csv')\n",
    "drivers_2 ['Driver'] = drivers_2['code']\n",
    "drivers_2['driverID'] = drivers_2['driverRef']\n",
    "drivers['driverID'] = drivers['driverId']\n",
    "drivers_full = drivers.merge(drivers_2, on='driverID', how='left', suffixes=('_1', '_2'))\n",
    "driver_standings = pyergast.driver_standings()\n",
    "\n",
    "#LAPS\n",
    "lap_times = get_lap_times(year, race)\n",
    "lap_tim_emp = lap_times.empty\n",
    "if not lap_tim_emp:\n",
    "    lap_times['driverID'] = lap_times['driverId']\n",
    "    lap_times['lap'] = lap_times['lap'].astype(int)\n",
    "    \n",
    "#PIT STOPS\n",
    "pit_stops = get_pit_stops(year, race)\n",
    "pit_stop_emp = pit_stops.empty\n",
    "if not pit_stop_emp:\n",
    "    pit_stops['driverID'] = pit_stops['driverId']\n",
    "    \n",
    "#QUALIFYING\n",
    "qualifying = pyergast.get_qualifying_result()\n",
    "\n",
    "#SPRINT RESULTS\n",
    "sprint_results = get_sprint_results(year=year, race=race)\n",
    "SPRINT_EMPTY = sprint_results.empty\n",
    "\n",
    "#SCHEDULE\n",
    "schedule = pyergast.get_schedule()\n",
    "schedule['round'] = schedule['round'].astype(float)"
   ]
  },
  {
   "cell_type": "code",
   "execution_count": 6,
   "id": "8600e615",
   "metadata": {
    "_kg_hide-input": true,
    "execution": {
     "iopub.execute_input": "2023-11-10T04:04:23.025573Z",
     "iopub.status.busy": "2023-11-10T04:04:23.025115Z",
     "iopub.status.idle": "2023-11-10T04:04:23.094825Z",
     "shell.execute_reply": "2023-11-10T04:04:23.093250Z"
    },
    "papermill": {
     "duration": 0.093801,
     "end_time": "2023-11-10T04:04:23.098560",
     "exception": false,
     "start_time": "2023-11-10T04:04:23.004759",
     "status": "completed"
    },
    "tags": []
   },
   "outputs": [],
   "source": [
    "#Helpers\n",
    "def get_sec(time_str):\n",
    "    \"\"\"Get seconds from time.\"\"\"\n",
    "    if (time_str != '\\\\N' or not time_str):\n",
    "        m, s = str(time_str).split(':')\n",
    "        return float(m) * 60 + float(s)\n",
    "    \n",
    "def get_sec3(time_str):\n",
    "    \"\"\"Get seconds from time.\"\"\"\n",
    "    if (time_str != '\\\\N' or not time_str):\n",
    "        h, m, s = str(time_str).split(':')\n",
    "        return float(h)*3600 + float(m) * 60 + float(s)\n",
    "    \n",
    "def time_to_seconds(time_str):\n",
    "    if (time_str != '\\\\N' or not time_str):\n",
    "        time_str = str(time_str)\n",
    "        if time_str == '':\n",
    "            return None\n",
    "        parts = time_str.split(':')\n",
    "        if len(parts) == 1:\n",
    "            # s.mill format\n",
    "            return float(parts[0])\n",
    "        elif len(parts) == 2:\n",
    "            # minute:seconds.milliseconds format\n",
    "            minutes = int(parts[0])\n",
    "            seconds = float(parts[1])\n",
    "            return minutes * 60 + seconds\n",
    "        elif len(parts) == 3:\n",
    "            # hour:minute:seconds.milliseconds format\n",
    "            hours = int(parts[0])\n",
    "            minutes = int(parts[1])\n",
    "            seconds = float(parts[2])\n",
    "            return hours * 3600 + minutes * 60 + seconds\n",
    "        else:\n",
    "            raise ValueError(\"Invalid time format\")\n",
    "\n",
    "def convert_time_end(row):\n",
    "    return row['time_date'] + datetime.timedelta(0, row['duration'])\n",
    "\n",
    "#Colors\n",
    "constructor_color_map = {\n",
    "        'Williams': '#00A0DE',\n",
    "        'Alfa Romeo': '#A42134',\n",
    "        'AlphaTauri': '#20394C',\n",
    "        'Red Bull': '#000B8D',\n",
    "        'Mercedes': '#00A19B',\n",
    "        'Haas F1 Team': '#E6002B',\n",
    "          'Aston Martin': '#002420', \n",
    "          'Ferrari': '#EF1A2D',\n",
    "          'Alpine F1 Team': '#2173B8',\n",
    "        'McLaren': '#FF8000' \n",
    "}\n",
    "\n",
    "def build_driver_col_map(row):\n",
    "    const = row['constructor']\n",
    "    \n",
    "    color = constructor_color_map[const]\n",
    "    row['driverColor'] = color\n",
    "    row['Driver'] = drivers_full.loc[drivers_full['driverID'] == row['driverID']]['Driver'].values[0]\n",
    "    return row\n",
    "\n",
    "race_result = race_result.apply(build_driver_col_map, axis=1)\n",
    "\n",
    "unique_df = race_result.drop_duplicates(subset='Driver', keep='last')\n",
    "color_map = dict(zip(unique_df['Driver'], unique_df['driverColor']))\n",
    "\n",
    "race_result.drop(columns=['Driver'], inplace=True)"
   ]
  },
  {
   "cell_type": "code",
   "execution_count": 7,
   "id": "fe92b8df",
   "metadata": {
    "_kg_hide-input": true,
    "execution": {
     "iopub.execute_input": "2023-11-10T04:04:23.136083Z",
     "iopub.status.busy": "2023-11-10T04:04:23.135605Z",
     "iopub.status.idle": "2023-11-10T04:04:33.412453Z",
     "shell.execute_reply": "2023-11-10T04:04:33.410970Z"
    },
    "papermill": {
     "duration": 10.299935,
     "end_time": "2023-11-10T04:04:33.415784",
     "exception": false,
     "start_time": "2023-11-10T04:04:23.115849",
     "status": "completed"
    },
    "tags": []
   },
   "outputs": [],
   "source": [
    "# DATA CLEANING\n",
    "if not lap_tim_emp:\n",
    "    lap_times['duration'] = lap_times['time'].apply(get_sec)\n",
    "    lap_times['red_flag'] = 0\n",
    "    lap_times.loc[lap_times['duration'] > 300.0, 'red_flag'] = 1\n",
    "\n",
    "\n",
    "current_circuit = schedule[schedule['round'] == race].circuitID.values[0]\n",
    "current_race_name = schedule[schedule['round'] == race].circuitName.values[0]\n",
    "current_race_date = schedule[schedule['round'] == race].date.values[0]\n",
    "\n",
    "\n",
    "#DRIVER/LAP\n",
    "if not lap_tim_emp:\n",
    "    lap_driver = lap_times.merge(drivers_full, on='driverID', how='left', suffixes=('_1', '_2'))\n",
    "    lap_driver['lap'] = lap_driver.lap.astype(float)\n",
    "    lap_driver = lap_driver[lap_driver['red_flag'] == 0].copy()\n",
    "    lap_driver_no = lap_driver[(stats.zscore(lap_driver['duration'])) <1]\n",
    "    lap_driver['position'] = lap_driver['position'].astype(int)\n",
    "\n",
    "\n",
    "#RESULTS\n",
    "num_laps = max(race_result['laps'].astype(int))\n",
    "merged = race_result.merge(drivers_full, on='driverID', how='left', suffixes=('_1', '_2'))\n",
    "res_race_laps = merged.copy()\n",
    "res_race_laps['laps'] = 0\n",
    "reduced = res_race_laps[['laps', 'grid', 'Driver']]\n",
    "reduced.columns = ['laps', 'position', 'Driver']\n",
    "reduced_res = pd.concat([reduced, merged[['laps', 'position', 'Driver']]], axis=0)\n",
    "reduced_res['laps'] = reduced_res['laps'].astype(int)\n",
    "reduced_res['last_lap'] = 0\n",
    "reduced_res['Driver'] = reduced_res['Driver'].astype(str)\n",
    "##Add flag for non-finishers\n",
    "for driver in color_map.keys():\n",
    "    temp = reduced_res[reduced_res['Driver'] == driver]\n",
    "    max_driver_laps = max(temp['laps'])\n",
    "    if max_driver_laps < num_laps:\n",
    "        #This driver didn't finish\n",
    "        reduced_res.loc[(reduced_res['Driver'] == driver) & (reduced_res['laps'] == max_driver_laps), 'last_lap'] = 1\n",
    "\n",
    "#CONSTRUCTORS\n",
    "constructor_results = pd.DataFrame()\n",
    "for i in range(1, race+1):\n",
    "    if i == 1:\n",
    "        constructor_results = constructor_standings(year=year, race=i)\n",
    "        constructor_results['race'] = i\n",
    "    else:\n",
    "        temp = constructor_standings(year=year, race=i)\n",
    "        temp['race'] = i\n",
    "        constructor_results = pd.concat([constructor_results, temp], axis=0)\n",
    "constructor_results['points'] = constructor_results['points'].astype(float)\n",
    "\n",
    "\n",
    "\n",
    "track = circuits[circuits['circuitId'] == current_circuit]\n",
    "track_lat = track['Latitude'].values[0]\n",
    "track_lng = track['Longtitude'].values[0]\n",
    "\n",
    "\n",
    "#PODIIUM\n",
    "res_race_lap_status_pod = race_result[race_result['position'] != '\\\\N'].copy()\n",
    "res_race_lap_status_pod = res_race_lap_status_pod.merge(drivers_full, on='driverID', how='left', suffixes=('_1', '_2'))\n",
    "res_race_lap_status_pod['position'] = res_race_lap_status_pod['position'].astype(int)\n",
    "res_race_lap_status_pod = res_race_lap_status_pod.sort_values(by='position')\n",
    "\n",
    "\n",
    "#PIT STOPS\n",
    "if not pit_stop_emp:\n",
    "    pit_stops['duration'] = pit_stops['duration'].apply(lambda x: time_to_seconds(x))\n",
    "    pit_stops['duration'] = pit_stops['duration'].astype(float)\n",
    "    pit_stops['red_flag'] = (pit_stops['duration'] > 600.0).astype(int)\n",
    "##PIT STOP DURATIONS\n",
    "    pit_stops['time_stamp'] = current_race_date + ' ' + pit_stops['time']\n",
    "    pit_stops['time_date'] = pd.to_datetime(pit_stops['time_stamp'])\n",
    "    pit_stops['time_end_date'] = pit_stops.apply(lambda x: convert_time_end(x), axis=1)\n",
    "#MERGE WITH DRIVERS\n",
    "    driver_group = pd.DataFrame()\n",
    "    pit_stops = pit_stops.merge(drivers_full, on='driverID', how='left', suffixes=('_1', '_2'))\n",
    "    mean = pit_stops[pit_stops['red_flag'] == 0].groupby(['Driver'])['duration'].mean()\n",
    "    mini = pit_stops[pit_stops['red_flag'] == 0].groupby(['Driver'])['duration'].min()\n",
    "    maxi = pit_stops[pit_stops['red_flag'] == 0].groupby(['Driver'])['duration'].max()\n",
    "    driver_group['mean'] = mean\n",
    "    driver_group['max'] = maxi\n",
    "    driver_group['min'] = mini\n",
    "    driver_group = driver_group.sort_values(by=\"max\")\n",
    "    driver_group['Driver'] = maxi.index\n",
    "\n",
    "# QUALIFYING & FINISHING\n",
    "qualifying = qualifying.fillna('\\\\N')\n",
    "qualifying['q1_dur'] = qualifying['Q1'].apply(time_to_seconds)\n",
    "qualifying['q2_dur'] = qualifying['Q2'].apply(time_to_seconds)\n",
    "qualifying['q3_dur'] = qualifying['Q3'].apply(time_to_seconds)\n",
    "qualifying['max_time'] = qualifying.apply(lambda x: max(x['q1_dur'], x['q2_dur'], x['q3_dur']), axis=1)\n",
    "qualifying['min_time'] = qualifying.apply(lambda x: min(x['q1_dur'], x['q2_dur'], x['q3_dur']), axis=1)\n",
    "max_time = max(qualifying['max_time']) + 1\n",
    "min_time = min(qualifying['min_time']) - 1\n",
    "if max_time > (min_time+15):\n",
    "    max_time = min_time+15\n",
    "qualifying = qualifying.merge(drivers_full, on='driverID', how='left', suffixes=('_1', '_2'))\n",
    "\n",
    "#SPRINT\n",
    "if not SPRINT_EMPTY:\n",
    "    sprint_results['points'] = sprint_results['points'].astype(float)\n",
    "    sprint_results['position'] = sprint_results['position'].astype(int)\n",
    "    sprint_results['grid'] = sprint_results['grid'].astype(int)\n",
    "\n",
    "\n",
    "    num_sprint_laps = max(sprint_results['laps'].astype(int))\n",
    "    #merged = race_result.merge(drivers_full, on='driverID', how='left', suffixes=('_1', '_2'))\n",
    "    sp_res_race_laps = sprint_results.copy()\n",
    "    sp_res_race_laps['laps'] = 0\n",
    "    sp_reduced = sp_res_race_laps[['laps', 'grid', 'Driver']]\n",
    "    sp_reduced.columns = ['laps', 'position', 'Driver']\n",
    "    sp_reduced_res = pd.concat([sp_reduced, sprint_results[['laps', 'position', 'Driver']]], axis=0)\n",
    "    sp_reduced_res['laps'] = sp_reduced_res['laps'].astype(int)\n",
    "    sp_reduced_res['last_lap'] = 0\n",
    "    sp_reduced_res['Driver'] = sp_reduced_res['Driver'].astype(str)\n",
    "    for driver in color_map.keys():\n",
    "        temp = sp_reduced_res[sp_reduced_res['Driver'] == driver]\n",
    "        max_driver_laps = max(temp['laps'])\n",
    "        if max_driver_laps < num_sprint_laps:\n",
    "            #This driver didn't finish\n",
    "            sp_reduced_res.loc[(sp_reduced_res['Driver'] == driver) & (sp_reduced_res['laps'] == max_driver_laps), 'last_lap'] = 1\n"
   ]
  },
  {
   "cell_type": "code",
   "execution_count": 8,
   "id": "9bb2b5f9",
   "metadata": {
    "_kg_hide-input": true,
    "execution": {
     "iopub.execute_input": "2023-11-10T04:04:33.451775Z",
     "iopub.status.busy": "2023-11-10T04:04:33.451279Z",
     "iopub.status.idle": "2023-11-10T04:04:33.458934Z",
     "shell.execute_reply": "2023-11-10T04:04:33.457942Z"
    },
    "papermill": {
     "duration": 0.029063,
     "end_time": "2023-11-10T04:04:33.461704",
     "exception": false,
     "start_time": "2023-11-10T04:04:33.432641",
     "status": "completed"
    },
    "tags": []
   },
   "outputs": [
    {
     "data": {
      "text/markdown": [
       "# <div style='background:#FF1801; border:0; color:black; box-shadow: 10px 10px 5px 0px rgba(0,0,0,0.75); transform: rotateX(10deg);'><h1 style='padding: 10px; margin: 0; text-align:center;'><span style='font-size: 38px;'>Autódromo José Carlos Pace, 2023 Data Summary</span></h1></div>"
      ],
      "text/plain": [
       "<IPython.core.display.Markdown object>"
      ]
     },
     "metadata": {},
     "output_type": "display_data"
    }
   ],
   "source": [
    "display(md(f\"# <div style='background:#FF1801; border:0; color:black; box-shadow: 10px 10px 5px 0px rgba(0,0,0,0.75); transform: rotateX(10deg);'><h1 style='padding: 10px; margin: 0; text-align:center;'><span style='font-size: 38px;'>{current_race_name}, {year} Data Summary</span></h1></div>\"))"
   ]
  },
  {
   "cell_type": "code",
   "execution_count": 9,
   "id": "a31723f9",
   "metadata": {
    "_kg_hide-input": true,
    "_kg_hide-output": true,
    "execution": {
     "iopub.execute_input": "2023-11-10T04:04:33.501513Z",
     "iopub.status.busy": "2023-11-10T04:04:33.500985Z",
     "iopub.status.idle": "2023-11-10T04:04:49.098050Z",
     "shell.execute_reply": "2023-11-10T04:04:49.096225Z"
    },
    "papermill": {
     "duration": 15.622185,
     "end_time": "2023-11-10T04:04:49.101906",
     "exception": false,
     "start_time": "2023-11-10T04:04:33.479721",
     "status": "completed"
    },
    "tags": []
   },
   "outputs": [
    {
     "name": "stdout",
     "output_type": "stream",
     "text": [
      "Collecting gmplot\r\n",
      "  Downloading gmplot-1.4.1-py3-none-any.whl (164 kB)\r\n",
      "\u001b[2K     \u001b[90m━━━━━━━━━━━━━━━━━━━━━━━━━━━━━━━━━━━━━━━\u001b[0m \u001b[32m164.7/164.7 kB\u001b[0m \u001b[31m5.1 MB/s\u001b[0m eta \u001b[36m0:00:00\u001b[0m\r\n",
      "\u001b[?25hRequirement already satisfied: requests in /opt/conda/lib/python3.7/site-packages (from gmplot) (2.28.2)\r\n",
      "Requirement already satisfied: urllib3<1.27,>=1.21.1 in /opt/conda/lib/python3.7/site-packages (from requests->gmplot) (1.26.14)\r\n",
      "Requirement already satisfied: charset-normalizer<4,>=2 in /opt/conda/lib/python3.7/site-packages (from requests->gmplot) (2.1.1)\r\n",
      "Requirement already satisfied: idna<4,>=2.5 in /opt/conda/lib/python3.7/site-packages (from requests->gmplot) (3.4)\r\n",
      "Requirement already satisfied: certifi>=2017.4.17 in /opt/conda/lib/python3.7/site-packages (from requests->gmplot) (2022.12.7)\r\n",
      "Installing collected packages: gmplot\r\n",
      "Successfully installed gmplot-1.4.1\r\n",
      "\u001b[33mWARNING: Running pip as the 'root' user can result in broken permissions and conflicting behaviour with the system package manager. It is recommended to use a virtual environment instead: https://pip.pypa.io/warnings/venv\u001b[0m\u001b[33m\r\n",
      "\u001b[0m"
     ]
    }
   ],
   "source": [
    "!pip install gmplot"
   ]
  },
  {
   "cell_type": "code",
   "execution_count": 10,
   "id": "b14bca61",
   "metadata": {
    "_kg_hide-input": true,
    "execution": {
     "iopub.execute_input": "2023-11-10T04:04:49.141025Z",
     "iopub.status.busy": "2023-11-10T04:04:49.140364Z",
     "iopub.status.idle": "2023-11-10T04:04:51.289927Z",
     "shell.execute_reply": "2023-11-10T04:04:51.288038Z"
    },
    "papermill": {
     "duration": 2.173013,
     "end_time": "2023-11-10T04:04:51.293341",
     "exception": false,
     "start_time": "2023-11-10T04:04:49.120328",
     "status": "completed"
    },
    "tags": []
   },
   "outputs": [
    {
     "data": {
      "text/html": [
       "        <script type=\"text/javascript\">\n",
       "        window.PlotlyConfig = {MathJaxConfig: 'local'};\n",
       "        if (window.MathJax && window.MathJax.Hub && window.MathJax.Hub.Config) {window.MathJax.Hub.Config({SVG: {font: \"STIX-Web\"}});}\n",
       "        if (typeof require !== 'undefined') {\n",
       "        require.undef(\"plotly\");\n",
       "        requirejs.config({\n",
       "            paths: {\n",
       "                'plotly': ['https://cdn.plot.ly/plotly-2.18.0.min']\n",
       "            }\n",
       "        });\n",
       "        require(['plotly'], function(Plotly) {\n",
       "            window._Plotly = Plotly;\n",
       "        });\n",
       "        }\n",
       "        </script>\n",
       "        "
      ]
     },
     "metadata": {},
     "output_type": "display_data"
    },
    {
     "data": {
      "text/html": [
       "<div>                            <div id=\"5b350ece-03a5-427d-8c32-09d5b4ed3eee\" class=\"plotly-graph-div\" style=\"height:300px; width:100%;\"></div>            <script type=\"text/javascript\">                require([\"plotly\"], function(Plotly) {                    window.PLOTLYENV=window.PLOTLYENV || {};                                    if (document.getElementById(\"5b350ece-03a5-427d-8c32-09d5b4ed3eee\")) {                    Plotly.newPlot(                        \"5b350ece-03a5-427d-8c32-09d5b4ed3eee\",                        [{\"hovertemplate\":\"Latitude=%{lat}<br>Longtitude=%{lon}<extra></extra>\",\"lat\":[\"-23.7036\"],\"legendgroup\":\"\",\"lon\":[\"-46.6997\"],\"marker\":{\"color\":\"fuchsia\"},\"mode\":\"markers\",\"name\":\"\",\"showlegend\":false,\"subplot\":\"mapbox\",\"type\":\"scattermapbox\"}],                        {\"template\":{\"data\":{\"histogram2dcontour\":[{\"type\":\"histogram2dcontour\",\"colorbar\":{\"outlinewidth\":0,\"ticks\":\"\"},\"colorscale\":[[0.0,\"#0d0887\"],[0.1111111111111111,\"#46039f\"],[0.2222222222222222,\"#7201a8\"],[0.3333333333333333,\"#9c179e\"],[0.4444444444444444,\"#bd3786\"],[0.5555555555555556,\"#d8576b\"],[0.6666666666666666,\"#ed7953\"],[0.7777777777777778,\"#fb9f3a\"],[0.8888888888888888,\"#fdca26\"],[1.0,\"#f0f921\"]]}],\"choropleth\":[{\"type\":\"choropleth\",\"colorbar\":{\"outlinewidth\":0,\"ticks\":\"\"}}],\"histogram2d\":[{\"type\":\"histogram2d\",\"colorbar\":{\"outlinewidth\":0,\"ticks\":\"\"},\"colorscale\":[[0.0,\"#0d0887\"],[0.1111111111111111,\"#46039f\"],[0.2222222222222222,\"#7201a8\"],[0.3333333333333333,\"#9c179e\"],[0.4444444444444444,\"#bd3786\"],[0.5555555555555556,\"#d8576b\"],[0.6666666666666666,\"#ed7953\"],[0.7777777777777778,\"#fb9f3a\"],[0.8888888888888888,\"#fdca26\"],[1.0,\"#f0f921\"]]}],\"heatmap\":[{\"type\":\"heatmap\",\"colorbar\":{\"outlinewidth\":0,\"ticks\":\"\"},\"colorscale\":[[0.0,\"#0d0887\"],[0.1111111111111111,\"#46039f\"],[0.2222222222222222,\"#7201a8\"],[0.3333333333333333,\"#9c179e\"],[0.4444444444444444,\"#bd3786\"],[0.5555555555555556,\"#d8576b\"],[0.6666666666666666,\"#ed7953\"],[0.7777777777777778,\"#fb9f3a\"],[0.8888888888888888,\"#fdca26\"],[1.0,\"#f0f921\"]]}],\"heatmapgl\":[{\"type\":\"heatmapgl\",\"colorbar\":{\"outlinewidth\":0,\"ticks\":\"\"},\"colorscale\":[[0.0,\"#0d0887\"],[0.1111111111111111,\"#46039f\"],[0.2222222222222222,\"#7201a8\"],[0.3333333333333333,\"#9c179e\"],[0.4444444444444444,\"#bd3786\"],[0.5555555555555556,\"#d8576b\"],[0.6666666666666666,\"#ed7953\"],[0.7777777777777778,\"#fb9f3a\"],[0.8888888888888888,\"#fdca26\"],[1.0,\"#f0f921\"]]}],\"contourcarpet\":[{\"type\":\"contourcarpet\",\"colorbar\":{\"outlinewidth\":0,\"ticks\":\"\"}}],\"contour\":[{\"type\":\"contour\",\"colorbar\":{\"outlinewidth\":0,\"ticks\":\"\"},\"colorscale\":[[0.0,\"#0d0887\"],[0.1111111111111111,\"#46039f\"],[0.2222222222222222,\"#7201a8\"],[0.3333333333333333,\"#9c179e\"],[0.4444444444444444,\"#bd3786\"],[0.5555555555555556,\"#d8576b\"],[0.6666666666666666,\"#ed7953\"],[0.7777777777777778,\"#fb9f3a\"],[0.8888888888888888,\"#fdca26\"],[1.0,\"#f0f921\"]]}],\"surface\":[{\"type\":\"surface\",\"colorbar\":{\"outlinewidth\":0,\"ticks\":\"\"},\"colorscale\":[[0.0,\"#0d0887\"],[0.1111111111111111,\"#46039f\"],[0.2222222222222222,\"#7201a8\"],[0.3333333333333333,\"#9c179e\"],[0.4444444444444444,\"#bd3786\"],[0.5555555555555556,\"#d8576b\"],[0.6666666666666666,\"#ed7953\"],[0.7777777777777778,\"#fb9f3a\"],[0.8888888888888888,\"#fdca26\"],[1.0,\"#f0f921\"]]}],\"mesh3d\":[{\"type\":\"mesh3d\",\"colorbar\":{\"outlinewidth\":0,\"ticks\":\"\"}}],\"scatter\":[{\"fillpattern\":{\"fillmode\":\"overlay\",\"size\":10,\"solidity\":0.2},\"type\":\"scatter\"}],\"parcoords\":[{\"type\":\"parcoords\",\"line\":{\"colorbar\":{\"outlinewidth\":0,\"ticks\":\"\"}}}],\"scatterpolargl\":[{\"type\":\"scatterpolargl\",\"marker\":{\"colorbar\":{\"outlinewidth\":0,\"ticks\":\"\"}}}],\"bar\":[{\"error_x\":{\"color\":\"#2a3f5f\"},\"error_y\":{\"color\":\"#2a3f5f\"},\"marker\":{\"line\":{\"color\":\"#E5ECF6\",\"width\":0.5},\"pattern\":{\"fillmode\":\"overlay\",\"size\":10,\"solidity\":0.2}},\"type\":\"bar\"}],\"scattergeo\":[{\"type\":\"scattergeo\",\"marker\":{\"colorbar\":{\"outlinewidth\":0,\"ticks\":\"\"}}}],\"scatterpolar\":[{\"type\":\"scatterpolar\",\"marker\":{\"colorbar\":{\"outlinewidth\":0,\"ticks\":\"\"}}}],\"histogram\":[{\"marker\":{\"pattern\":{\"fillmode\":\"overlay\",\"size\":10,\"solidity\":0.2}},\"type\":\"histogram\"}],\"scattergl\":[{\"type\":\"scattergl\",\"marker\":{\"colorbar\":{\"outlinewidth\":0,\"ticks\":\"\"}}}],\"scatter3d\":[{\"type\":\"scatter3d\",\"line\":{\"colorbar\":{\"outlinewidth\":0,\"ticks\":\"\"}},\"marker\":{\"colorbar\":{\"outlinewidth\":0,\"ticks\":\"\"}}}],\"scattermapbox\":[{\"type\":\"scattermapbox\",\"marker\":{\"colorbar\":{\"outlinewidth\":0,\"ticks\":\"\"}}}],\"scatterternary\":[{\"type\":\"scatterternary\",\"marker\":{\"colorbar\":{\"outlinewidth\":0,\"ticks\":\"\"}}}],\"scattercarpet\":[{\"type\":\"scattercarpet\",\"marker\":{\"colorbar\":{\"outlinewidth\":0,\"ticks\":\"\"}}}],\"carpet\":[{\"aaxis\":{\"endlinecolor\":\"#2a3f5f\",\"gridcolor\":\"white\",\"linecolor\":\"white\",\"minorgridcolor\":\"white\",\"startlinecolor\":\"#2a3f5f\"},\"baxis\":{\"endlinecolor\":\"#2a3f5f\",\"gridcolor\":\"white\",\"linecolor\":\"white\",\"minorgridcolor\":\"white\",\"startlinecolor\":\"#2a3f5f\"},\"type\":\"carpet\"}],\"table\":[{\"cells\":{\"fill\":{\"color\":\"#EBF0F8\"},\"line\":{\"color\":\"white\"}},\"header\":{\"fill\":{\"color\":\"#C8D4E3\"},\"line\":{\"color\":\"white\"}},\"type\":\"table\"}],\"barpolar\":[{\"marker\":{\"line\":{\"color\":\"#E5ECF6\",\"width\":0.5},\"pattern\":{\"fillmode\":\"overlay\",\"size\":10,\"solidity\":0.2}},\"type\":\"barpolar\"}],\"pie\":[{\"automargin\":true,\"type\":\"pie\"}]},\"layout\":{\"autotypenumbers\":\"strict\",\"colorway\":[\"#636efa\",\"#EF553B\",\"#00cc96\",\"#ab63fa\",\"#FFA15A\",\"#19d3f3\",\"#FF6692\",\"#B6E880\",\"#FF97FF\",\"#FECB52\"],\"font\":{\"color\":\"#2a3f5f\"},\"hovermode\":\"closest\",\"hoverlabel\":{\"align\":\"left\"},\"paper_bgcolor\":\"white\",\"plot_bgcolor\":\"#E5ECF6\",\"polar\":{\"bgcolor\":\"#E5ECF6\",\"angularaxis\":{\"gridcolor\":\"white\",\"linecolor\":\"white\",\"ticks\":\"\"},\"radialaxis\":{\"gridcolor\":\"white\",\"linecolor\":\"white\",\"ticks\":\"\"}},\"ternary\":{\"bgcolor\":\"#E5ECF6\",\"aaxis\":{\"gridcolor\":\"white\",\"linecolor\":\"white\",\"ticks\":\"\"},\"baxis\":{\"gridcolor\":\"white\",\"linecolor\":\"white\",\"ticks\":\"\"},\"caxis\":{\"gridcolor\":\"white\",\"linecolor\":\"white\",\"ticks\":\"\"}},\"coloraxis\":{\"colorbar\":{\"outlinewidth\":0,\"ticks\":\"\"}},\"colorscale\":{\"sequential\":[[0.0,\"#0d0887\"],[0.1111111111111111,\"#46039f\"],[0.2222222222222222,\"#7201a8\"],[0.3333333333333333,\"#9c179e\"],[0.4444444444444444,\"#bd3786\"],[0.5555555555555556,\"#d8576b\"],[0.6666666666666666,\"#ed7953\"],[0.7777777777777778,\"#fb9f3a\"],[0.8888888888888888,\"#fdca26\"],[1.0,\"#f0f921\"]],\"sequentialminus\":[[0.0,\"#0d0887\"],[0.1111111111111111,\"#46039f\"],[0.2222222222222222,\"#7201a8\"],[0.3333333333333333,\"#9c179e\"],[0.4444444444444444,\"#bd3786\"],[0.5555555555555556,\"#d8576b\"],[0.6666666666666666,\"#ed7953\"],[0.7777777777777778,\"#fb9f3a\"],[0.8888888888888888,\"#fdca26\"],[1.0,\"#f0f921\"]],\"diverging\":[[0,\"#8e0152\"],[0.1,\"#c51b7d\"],[0.2,\"#de77ae\"],[0.3,\"#f1b6da\"],[0.4,\"#fde0ef\"],[0.5,\"#f7f7f7\"],[0.6,\"#e6f5d0\"],[0.7,\"#b8e186\"],[0.8,\"#7fbc41\"],[0.9,\"#4d9221\"],[1,\"#276419\"]]},\"xaxis\":{\"gridcolor\":\"white\",\"linecolor\":\"white\",\"ticks\":\"\",\"title\":{\"standoff\":15},\"zerolinecolor\":\"white\",\"automargin\":true,\"zerolinewidth\":2},\"yaxis\":{\"gridcolor\":\"white\",\"linecolor\":\"white\",\"ticks\":\"\",\"title\":{\"standoff\":15},\"zerolinecolor\":\"white\",\"automargin\":true,\"zerolinewidth\":2},\"scene\":{\"xaxis\":{\"backgroundcolor\":\"#E5ECF6\",\"gridcolor\":\"white\",\"linecolor\":\"white\",\"showbackground\":true,\"ticks\":\"\",\"zerolinecolor\":\"white\",\"gridwidth\":2},\"yaxis\":{\"backgroundcolor\":\"#E5ECF6\",\"gridcolor\":\"white\",\"linecolor\":\"white\",\"showbackground\":true,\"ticks\":\"\",\"zerolinecolor\":\"white\",\"gridwidth\":2},\"zaxis\":{\"backgroundcolor\":\"#E5ECF6\",\"gridcolor\":\"white\",\"linecolor\":\"white\",\"showbackground\":true,\"ticks\":\"\",\"zerolinecolor\":\"white\",\"gridwidth\":2}},\"shapedefaults\":{\"line\":{\"color\":\"#2a3f5f\"}},\"annotationdefaults\":{\"arrowcolor\":\"#2a3f5f\",\"arrowhead\":0,\"arrowwidth\":1},\"geo\":{\"bgcolor\":\"white\",\"landcolor\":\"#E5ECF6\",\"subunitcolor\":\"white\",\"showland\":true,\"showlakes\":true,\"lakecolor\":\"white\"},\"title\":{\"x\":0.05},\"mapbox\":{\"style\":\"light\"}}},\"mapbox\":{\"domain\":{\"x\":[0.0,1.0],\"y\":[0.0,1.0]},\"center\":{\"lat\":-23.7036,\"lon\":-46.6997},\"zoom\":12,\"style\":\"open-street-map\"},\"legend\":{\"tracegroupgap\":0},\"margin\":{\"t\":0,\"r\":0,\"l\":0,\"b\":0},\"height\":300},                        {\"responsive\": true}                    ).then(function(){\n",
       "                            \n",
       "var gd = document.getElementById('5b350ece-03a5-427d-8c32-09d5b4ed3eee');\n",
       "var x = new MutationObserver(function (mutations, observer) {{\n",
       "        var display = window.getComputedStyle(gd).display;\n",
       "        if (!display || display === 'none') {{\n",
       "            console.log([gd, 'removed!']);\n",
       "            Plotly.purge(gd);\n",
       "            observer.disconnect();\n",
       "        }}\n",
       "}});\n",
       "\n",
       "// Listen for the removal of the full notebook cells\n",
       "var notebookContainer = gd.closest('#notebook-container');\n",
       "if (notebookContainer) {{\n",
       "    x.observe(notebookContainer, {childList: true});\n",
       "}}\n",
       "\n",
       "// Listen for the clearing of the current output cell\n",
       "var outputEl = gd.closest('.output');\n",
       "if (outputEl) {{\n",
       "    x.observe(outputEl, {childList: true});\n",
       "}}\n",
       "\n",
       "                        })                };                });            </script>        </div>"
      ]
     },
     "metadata": {},
     "output_type": "display_data"
    }
   ],
   "source": [
    "fig = px.scatter_mapbox(track, lat=\"Latitude\", lon=\"Longtitude\",\n",
    "                        color_discrete_sequence=[\"fuchsia\"], zoom=12, height=300)\n",
    "fig.update_layout(mapbox_style=\"open-street-map\")\n",
    "fig.update_layout(margin={\"r\":0,\"t\":0,\"l\":0,\"b\":0})\n",
    "fig.show()"
   ]
  },
  {
   "cell_type": "code",
   "execution_count": 11,
   "id": "16d9dd1e",
   "metadata": {
    "_kg_hide-input": true,
    "execution": {
     "iopub.execute_input": "2023-11-10T04:04:51.333616Z",
     "iopub.status.busy": "2023-11-10T04:04:51.332641Z",
     "iopub.status.idle": "2023-11-10T04:04:51.341884Z",
     "shell.execute_reply": "2023-11-10T04:04:51.340520Z"
    },
    "papermill": {
     "duration": 0.033063,
     "end_time": "2023-11-10T04:04:51.345033",
     "exception": false,
     "start_time": "2023-11-10T04:04:51.311970",
     "status": "completed"
    },
    "tags": []
   },
   "outputs": [
    {
     "data": {
      "text/markdown": [
       "# <div style='background:#FF1801; border:0; color:black; box-shadow: 10px 10px 5px 0px rgba(0,0,0,0.75); transform: rotateX(10deg);'><h1 style='padding: 10px; margin: 0; text-align:center;'><span style='font-size: 30px;'>Podium</span></h1></div>"
      ],
      "text/plain": [
       "<IPython.core.display.Markdown object>"
      ]
     },
     "metadata": {},
     "output_type": "display_data"
    }
   ],
   "source": [
    "display(md(f\"# <div style='background:#FF1801; border:0; color:black; box-shadow: 10px 10px 5px 0px rgba(0,0,0,0.75); transform: rotateX(10deg);'><h1 style='padding: 10px; margin: 0; text-align:center;'><span style='font-size: 30px;'>Podium</span></h1></div>\"))"
   ]
  },
  {
   "cell_type": "code",
   "execution_count": 12,
   "id": "16158866",
   "metadata": {
    "_kg_hide-input": true,
    "execution": {
     "iopub.execute_input": "2023-11-10T04:04:51.385488Z",
     "iopub.status.busy": "2023-11-10T04:04:51.384459Z",
     "iopub.status.idle": "2023-11-10T04:04:51.397591Z",
     "shell.execute_reply": "2023-11-10T04:04:51.396288Z"
    },
    "papermill": {
     "duration": 0.037201,
     "end_time": "2023-11-10T04:04:51.400942",
     "exception": false,
     "start_time": "2023-11-10T04:04:51.363741",
     "status": "completed"
    },
    "tags": []
   },
   "outputs": [],
   "source": [
    "# Styling\n",
    "def podium(styler):\n",
    "    styler.set_caption(\"Podium Results\")\n",
    "    styler.background_gradient(axis=None, vmin=1, vmax=5, cmap=\"YlGnBu\")\n",
    "    styler.hide_index()\n",
    "   # styler.format({'points': \"{.1f}\"})\n",
    "    return styler\n",
    "\n",
    "\n",
    "def results_style(styler):\n",
    "    styler.set_caption(\"Race Results\")\n",
    "    styler.background_gradient(axis=None, vmin=1, vmax=5, cmap=\"YlGnBu\")\n",
    "    styler.hide_index()\n",
    "    return styler\n",
    "\n",
    "def sprint_results_style(styler):\n",
    "    styler.set_caption(\"Sprint Results\")\n",
    "    styler.background_gradient(axis=None, vmin=1, vmax=5, cmap=\"YlGnBu\")\n",
    "    styler.hide_index()\n",
    "    return styler\n",
    "\n",
    "def driver_stand(styler):\n",
    "    styler.set_caption(\"Driver Standings\")\n",
    "    styler.background_gradient(axis=None, vmin=1, vmax=5, cmap=\"YlGnBu\")\n",
    "    styler.hide_index()\n",
    "    return styler\n",
    "\n",
    "def const_standings(styler):\n",
    "    styler.set_caption(\"Constructor Standings\")\n",
    "    styler.background_gradient(axis=None, vmin=1, vmax=5, cmap=\"YlOrRd\")\n",
    "    styler.hide_index()\n",
    "    return styler"
   ]
  },
  {
   "cell_type": "code",
   "execution_count": 13,
   "id": "3590ed7b",
   "metadata": {
    "_kg_hide-input": true,
    "execution": {
     "iopub.execute_input": "2023-11-10T04:04:51.441484Z",
     "iopub.status.busy": "2023-11-10T04:04:51.440473Z",
     "iopub.status.idle": "2023-11-10T04:04:51.562369Z",
     "shell.execute_reply": "2023-11-10T04:04:51.560476Z"
    },
    "papermill": {
     "duration": 0.146324,
     "end_time": "2023-11-10T04:04:51.566023",
     "exception": false,
     "start_time": "2023-11-10T04:04:51.419699",
     "status": "completed"
    },
    "tags": []
   },
   "outputs": [
    {
     "data": {
      "text/html": [
       "<style type=\"text/css\">\n",
       "#T_b0835_row0_col2 {\n",
       "  background-color: #ffffd9;\n",
       "  color: #000000;\n",
       "}\n",
       "#T_b0835_row0_col3, #T_b0835_row1_col3, #T_b0835_row2_col3 {\n",
       "  background-color: #081d58;\n",
       "  color: #f1f1f1;\n",
       "}\n",
       "#T_b0835_row1_col2 {\n",
       "  background-color: #c6e9b4;\n",
       "  color: #000000;\n",
       "}\n",
       "#T_b0835_row2_col2 {\n",
       "  background-color: #40b5c4;\n",
       "  color: #f1f1f1;\n",
       "}\n",
       "</style>\n",
       "<table id=\"T_b0835_\">\n",
       "  <caption>Podium Results</caption>\n",
       "  <thead>\n",
       "    <tr>\n",
       "      <th class=\"col_heading level0 col0\" >Driver</th>\n",
       "      <th class=\"col_heading level0 col1\" >grid</th>\n",
       "      <th class=\"col_heading level0 col2\" >position</th>\n",
       "      <th class=\"col_heading level0 col3\" >points</th>\n",
       "    </tr>\n",
       "  </thead>\n",
       "  <tbody>\n",
       "    <tr>\n",
       "      <td id=\"T_b0835_row0_col0\" class=\"data row0 col0\" >VER</td>\n",
       "      <td id=\"T_b0835_row0_col1\" class=\"data row0 col1\" >1</td>\n",
       "      <td id=\"T_b0835_row0_col2\" class=\"data row0 col2\" >1</td>\n",
       "      <td id=\"T_b0835_row0_col3\" class=\"data row0 col3\" >25.0</td>\n",
       "    </tr>\n",
       "    <tr>\n",
       "      <td id=\"T_b0835_row1_col0\" class=\"data row1 col0\" >NOR</td>\n",
       "      <td id=\"T_b0835_row1_col1\" class=\"data row1 col1\" >6</td>\n",
       "      <td id=\"T_b0835_row1_col2\" class=\"data row1 col2\" >2</td>\n",
       "      <td id=\"T_b0835_row1_col3\" class=\"data row1 col3\" >19.0</td>\n",
       "    </tr>\n",
       "    <tr>\n",
       "      <td id=\"T_b0835_row2_col0\" class=\"data row2 col0\" >ALO</td>\n",
       "      <td id=\"T_b0835_row2_col1\" class=\"data row2 col1\" >4</td>\n",
       "      <td id=\"T_b0835_row2_col2\" class=\"data row2 col2\" >3</td>\n",
       "      <td id=\"T_b0835_row2_col3\" class=\"data row2 col3\" >15.0</td>\n",
       "    </tr>\n",
       "  </tbody>\n",
       "</table>\n"
      ],
      "text/plain": [
       "<pandas.io.formats.style.Styler at 0x7982e2d37a90>"
      ]
     },
     "execution_count": 13,
     "metadata": {},
     "output_type": "execute_result"
    }
   ],
   "source": [
    "res_race_lap_status_pod[['Driver', 'grid', 'position', 'points']].iloc[:3].style.pipe(podium)"
   ]
  },
  {
   "cell_type": "code",
   "execution_count": 14,
   "id": "85c1ff13",
   "metadata": {
    "_kg_hide-input": true,
    "execution": {
     "iopub.execute_input": "2023-11-10T04:04:51.606140Z",
     "iopub.status.busy": "2023-11-10T04:04:51.605636Z",
     "iopub.status.idle": "2023-11-10T04:04:51.615181Z",
     "shell.execute_reply": "2023-11-10T04:04:51.613498Z"
    },
    "papermill": {
     "duration": 0.033537,
     "end_time": "2023-11-10T04:04:51.618286",
     "exception": false,
     "start_time": "2023-11-10T04:04:51.584749",
     "status": "completed"
    },
    "tags": []
   },
   "outputs": [
    {
     "data": {
      "text/markdown": [
       "# <div style='background:#FF1801; border:0; color:black; box-shadow: 10px 10px 5px 0px rgba(0,0,0,0.75); transform: rotateX(10deg);'><h1 style='padding: 10px; margin: 0; text-align:center;'><span style='font-size: 30px;'>Full Results</span></h1></div>"
      ],
      "text/plain": [
       "<IPython.core.display.Markdown object>"
      ]
     },
     "metadata": {},
     "output_type": "display_data"
    }
   ],
   "source": [
    "display(md(f\"# <div style='background:#FF1801; border:0; color:black; box-shadow: 10px 10px 5px 0px rgba(0,0,0,0.75); transform: rotateX(10deg);'><h1 style='padding: 10px; margin: 0; text-align:center;'><span style='font-size: 30px;'>Full Results</span></h1></div>\"))"
   ]
  },
  {
   "cell_type": "code",
   "execution_count": 15,
   "id": "9683e68a",
   "metadata": {
    "_kg_hide-input": true,
    "execution": {
     "iopub.execute_input": "2023-11-10T04:04:51.659365Z",
     "iopub.status.busy": "2023-11-10T04:04:51.658915Z",
     "iopub.status.idle": "2023-11-10T04:04:51.683407Z",
     "shell.execute_reply": "2023-11-10T04:04:51.681757Z"
    },
    "papermill": {
     "duration": 0.048645,
     "end_time": "2023-11-10T04:04:51.686503",
     "exception": false,
     "start_time": "2023-11-10T04:04:51.637858",
     "status": "completed"
    },
    "tags": []
   },
   "outputs": [
    {
     "data": {
      "text/html": [
       "<style type=\"text/css\">\n",
       "#T_d92f3_row0_col2, #T_d92f3_row9_col3, #T_d92f3_row10_col3, #T_d92f3_row11_col3, #T_d92f3_row12_col3, #T_d92f3_row13_col3, #T_d92f3_row14_col3, #T_d92f3_row15_col3, #T_d92f3_row16_col3, #T_d92f3_row17_col3, #T_d92f3_row18_col3, #T_d92f3_row19_col3 {\n",
       "  background-color: #ffffd9;\n",
       "  color: #000000;\n",
       "}\n",
       "#T_d92f3_row0_col3, #T_d92f3_row1_col3, #T_d92f3_row2_col3, #T_d92f3_row3_col3, #T_d92f3_row4_col2, #T_d92f3_row4_col3, #T_d92f3_row5_col2, #T_d92f3_row5_col3, #T_d92f3_row6_col2, #T_d92f3_row6_col3, #T_d92f3_row7_col2, #T_d92f3_row8_col2, #T_d92f3_row9_col2, #T_d92f3_row10_col2, #T_d92f3_row11_col2, #T_d92f3_row12_col2, #T_d92f3_row13_col2, #T_d92f3_row14_col2, #T_d92f3_row15_col2, #T_d92f3_row16_col2, #T_d92f3_row17_col2, #T_d92f3_row18_col2, #T_d92f3_row19_col2 {\n",
       "  background-color: #081d58;\n",
       "  color: #f1f1f1;\n",
       "}\n",
       "#T_d92f3_row1_col2, #T_d92f3_row8_col3 {\n",
       "  background-color: #c6e9b4;\n",
       "  color: #000000;\n",
       "}\n",
       "#T_d92f3_row2_col2 {\n",
       "  background-color: #40b5c4;\n",
       "  color: #f1f1f1;\n",
       "}\n",
       "#T_d92f3_row3_col2, #T_d92f3_row7_col3 {\n",
       "  background-color: #225da8;\n",
       "  color: #f1f1f1;\n",
       "}\n",
       "</style>\n",
       "<table id=\"T_d92f3_\">\n",
       "  <caption>Race Results</caption>\n",
       "  <thead>\n",
       "    <tr>\n",
       "      <th class=\"col_heading level0 col0\" >Driver</th>\n",
       "      <th class=\"col_heading level0 col1\" >grid</th>\n",
       "      <th class=\"col_heading level0 col2\" >position</th>\n",
       "      <th class=\"col_heading level0 col3\" >points</th>\n",
       "      <th class=\"col_heading level0 col4\" >status</th>\n",
       "    </tr>\n",
       "  </thead>\n",
       "  <tbody>\n",
       "    <tr>\n",
       "      <td id=\"T_d92f3_row0_col0\" class=\"data row0 col0\" >VER</td>\n",
       "      <td id=\"T_d92f3_row0_col1\" class=\"data row0 col1\" >1</td>\n",
       "      <td id=\"T_d92f3_row0_col2\" class=\"data row0 col2\" >1</td>\n",
       "      <td id=\"T_d92f3_row0_col3\" class=\"data row0 col3\" >25.0</td>\n",
       "      <td id=\"T_d92f3_row0_col4\" class=\"data row0 col4\" >Finished</td>\n",
       "    </tr>\n",
       "    <tr>\n",
       "      <td id=\"T_d92f3_row1_col0\" class=\"data row1 col0\" >NOR</td>\n",
       "      <td id=\"T_d92f3_row1_col1\" class=\"data row1 col1\" >6</td>\n",
       "      <td id=\"T_d92f3_row1_col2\" class=\"data row1 col2\" >2</td>\n",
       "      <td id=\"T_d92f3_row1_col3\" class=\"data row1 col3\" >19.0</td>\n",
       "      <td id=\"T_d92f3_row1_col4\" class=\"data row1 col4\" >Finished</td>\n",
       "    </tr>\n",
       "    <tr>\n",
       "      <td id=\"T_d92f3_row2_col0\" class=\"data row2 col0\" >ALO</td>\n",
       "      <td id=\"T_d92f3_row2_col1\" class=\"data row2 col1\" >4</td>\n",
       "      <td id=\"T_d92f3_row2_col2\" class=\"data row2 col2\" >3</td>\n",
       "      <td id=\"T_d92f3_row2_col3\" class=\"data row2 col3\" >15.0</td>\n",
       "      <td id=\"T_d92f3_row2_col4\" class=\"data row2 col4\" >Finished</td>\n",
       "    </tr>\n",
       "    <tr>\n",
       "      <td id=\"T_d92f3_row3_col0\" class=\"data row3 col0\" >PER</td>\n",
       "      <td id=\"T_d92f3_row3_col1\" class=\"data row3 col1\" >9</td>\n",
       "      <td id=\"T_d92f3_row3_col2\" class=\"data row3 col2\" >4</td>\n",
       "      <td id=\"T_d92f3_row3_col3\" class=\"data row3 col3\" >12.0</td>\n",
       "      <td id=\"T_d92f3_row3_col4\" class=\"data row3 col4\" >Finished</td>\n",
       "    </tr>\n",
       "    <tr>\n",
       "      <td id=\"T_d92f3_row4_col0\" class=\"data row4 col0\" >STR</td>\n",
       "      <td id=\"T_d92f3_row4_col1\" class=\"data row4 col1\" >3</td>\n",
       "      <td id=\"T_d92f3_row4_col2\" class=\"data row4 col2\" >5</td>\n",
       "      <td id=\"T_d92f3_row4_col3\" class=\"data row4 col3\" >10.0</td>\n",
       "      <td id=\"T_d92f3_row4_col4\" class=\"data row4 col4\" >Finished</td>\n",
       "    </tr>\n",
       "    <tr>\n",
       "      <td id=\"T_d92f3_row5_col0\" class=\"data row5 col0\" >SAI</td>\n",
       "      <td id=\"T_d92f3_row5_col1\" class=\"data row5 col1\" >7</td>\n",
       "      <td id=\"T_d92f3_row5_col2\" class=\"data row5 col2\" >6</td>\n",
       "      <td id=\"T_d92f3_row5_col3\" class=\"data row5 col3\" >8.0</td>\n",
       "      <td id=\"T_d92f3_row5_col4\" class=\"data row5 col4\" >Finished</td>\n",
       "    </tr>\n",
       "    <tr>\n",
       "      <td id=\"T_d92f3_row6_col0\" class=\"data row6 col0\" >GAS</td>\n",
       "      <td id=\"T_d92f3_row6_col1\" class=\"data row6 col1\" >15</td>\n",
       "      <td id=\"T_d92f3_row6_col2\" class=\"data row6 col2\" >7</td>\n",
       "      <td id=\"T_d92f3_row6_col3\" class=\"data row6 col3\" >6.0</td>\n",
       "      <td id=\"T_d92f3_row6_col4\" class=\"data row6 col4\" >Finished</td>\n",
       "    </tr>\n",
       "    <tr>\n",
       "      <td id=\"T_d92f3_row7_col0\" class=\"data row7 col0\" >HAM</td>\n",
       "      <td id=\"T_d92f3_row7_col1\" class=\"data row7 col1\" >5</td>\n",
       "      <td id=\"T_d92f3_row7_col2\" class=\"data row7 col2\" >8</td>\n",
       "      <td id=\"T_d92f3_row7_col3\" class=\"data row7 col3\" >4.0</td>\n",
       "      <td id=\"T_d92f3_row7_col4\" class=\"data row7 col4\" >Finished</td>\n",
       "    </tr>\n",
       "    <tr>\n",
       "      <td id=\"T_d92f3_row8_col0\" class=\"data row8 col0\" >TSU</td>\n",
       "      <td id=\"T_d92f3_row8_col1\" class=\"data row8 col1\" >16</td>\n",
       "      <td id=\"T_d92f3_row8_col2\" class=\"data row8 col2\" >9</td>\n",
       "      <td id=\"T_d92f3_row8_col3\" class=\"data row8 col3\" >2.0</td>\n",
       "      <td id=\"T_d92f3_row8_col4\" class=\"data row8 col4\" >Finished</td>\n",
       "    </tr>\n",
       "    <tr>\n",
       "      <td id=\"T_d92f3_row9_col0\" class=\"data row9 col0\" >OCO</td>\n",
       "      <td id=\"T_d92f3_row9_col1\" class=\"data row9 col1\" >14</td>\n",
       "      <td id=\"T_d92f3_row9_col2\" class=\"data row9 col2\" >10</td>\n",
       "      <td id=\"T_d92f3_row9_col3\" class=\"data row9 col3\" >1.0</td>\n",
       "      <td id=\"T_d92f3_row9_col4\" class=\"data row9 col4\" >+1 Lap</td>\n",
       "    </tr>\n",
       "    <tr>\n",
       "      <td id=\"T_d92f3_row10_col0\" class=\"data row10 col0\" >SAR</td>\n",
       "      <td id=\"T_d92f3_row10_col1\" class=\"data row10 col1\" >19</td>\n",
       "      <td id=\"T_d92f3_row10_col2\" class=\"data row10 col2\" >11</td>\n",
       "      <td id=\"T_d92f3_row10_col3\" class=\"data row10 col3\" >0.0</td>\n",
       "      <td id=\"T_d92f3_row10_col4\" class=\"data row10 col4\" >+1 Lap</td>\n",
       "    </tr>\n",
       "    <tr>\n",
       "      <td id=\"T_d92f3_row11_col0\" class=\"data row11 col0\" >HUL</td>\n",
       "      <td id=\"T_d92f3_row11_col1\" class=\"data row11 col1\" >11</td>\n",
       "      <td id=\"T_d92f3_row11_col2\" class=\"data row11 col2\" >12</td>\n",
       "      <td id=\"T_d92f3_row11_col3\" class=\"data row11 col3\" >0.0</td>\n",
       "      <td id=\"T_d92f3_row11_col4\" class=\"data row11 col4\" >+1 Lap</td>\n",
       "    </tr>\n",
       "    <tr>\n",
       "      <td id=\"T_d92f3_row12_col0\" class=\"data row12 col0\" >RIC</td>\n",
       "      <td id=\"T_d92f3_row12_col1\" class=\"data row12 col1\" >17</td>\n",
       "      <td id=\"T_d92f3_row12_col2\" class=\"data row12 col2\" >13</td>\n",
       "      <td id=\"T_d92f3_row12_col3\" class=\"data row12 col3\" >0.0</td>\n",
       "      <td id=\"T_d92f3_row12_col4\" class=\"data row12 col4\" >+1 Lap</td>\n",
       "    </tr>\n",
       "    <tr>\n",
       "      <td id=\"T_d92f3_row13_col0\" class=\"data row13 col0\" >PIA</td>\n",
       "      <td id=\"T_d92f3_row13_col1\" class=\"data row13 col1\" >10</td>\n",
       "      <td id=\"T_d92f3_row13_col2\" class=\"data row13 col2\" >14</td>\n",
       "      <td id=\"T_d92f3_row13_col3\" class=\"data row13 col3\" >0.0</td>\n",
       "      <td id=\"T_d92f3_row13_col4\" class=\"data row13 col4\" >+2 Laps</td>\n",
       "    </tr>\n",
       "    <tr>\n",
       "      <td id=\"T_d92f3_row14_col0\" class=\"data row14 col0\" >RUS</td>\n",
       "      <td id=\"T_d92f3_row14_col1\" class=\"data row14 col1\" >8</td>\n",
       "      <td id=\"T_d92f3_row14_col2\" class=\"data row14 col2\" >15</td>\n",
       "      <td id=\"T_d92f3_row14_col3\" class=\"data row14 col3\" >0.0</td>\n",
       "      <td id=\"T_d92f3_row14_col4\" class=\"data row14 col4\" >Overheating</td>\n",
       "    </tr>\n",
       "    <tr>\n",
       "      <td id=\"T_d92f3_row15_col0\" class=\"data row15 col0\" >BOT</td>\n",
       "      <td id=\"T_d92f3_row15_col1\" class=\"data row15 col1\" >18</td>\n",
       "      <td id=\"T_d92f3_row15_col2\" class=\"data row15 col2\" >16</td>\n",
       "      <td id=\"T_d92f3_row15_col3\" class=\"data row15 col3\" >0.0</td>\n",
       "      <td id=\"T_d92f3_row15_col4\" class=\"data row15 col4\" >Engine</td>\n",
       "    </tr>\n",
       "    <tr>\n",
       "      <td id=\"T_d92f3_row16_col0\" class=\"data row16 col0\" >ZHO</td>\n",
       "      <td id=\"T_d92f3_row16_col1\" class=\"data row16 col1\" >20</td>\n",
       "      <td id=\"T_d92f3_row16_col2\" class=\"data row16 col2\" >17</td>\n",
       "      <td id=\"T_d92f3_row16_col3\" class=\"data row16 col3\" >0.0</td>\n",
       "      <td id=\"T_d92f3_row16_col4\" class=\"data row16 col4\" >Engine</td>\n",
       "    </tr>\n",
       "    <tr>\n",
       "      <td id=\"T_d92f3_row17_col0\" class=\"data row17 col0\" >MAG</td>\n",
       "      <td id=\"T_d92f3_row17_col1\" class=\"data row17 col1\" >12</td>\n",
       "      <td id=\"T_d92f3_row17_col2\" class=\"data row17 col2\" >18</td>\n",
       "      <td id=\"T_d92f3_row17_col3\" class=\"data row17 col3\" >0.0</td>\n",
       "      <td id=\"T_d92f3_row17_col4\" class=\"data row17 col4\" >Collision</td>\n",
       "    </tr>\n",
       "    <tr>\n",
       "      <td id=\"T_d92f3_row18_col0\" class=\"data row18 col0\" >ALB</td>\n",
       "      <td id=\"T_d92f3_row18_col1\" class=\"data row18 col1\" >13</td>\n",
       "      <td id=\"T_d92f3_row18_col2\" class=\"data row18 col2\" >19</td>\n",
       "      <td id=\"T_d92f3_row18_col3\" class=\"data row18 col3\" >0.0</td>\n",
       "      <td id=\"T_d92f3_row18_col4\" class=\"data row18 col4\" >Collision</td>\n",
       "    </tr>\n",
       "    <tr>\n",
       "      <td id=\"T_d92f3_row19_col0\" class=\"data row19 col0\" >LEC</td>\n",
       "      <td id=\"T_d92f3_row19_col1\" class=\"data row19 col1\" >0</td>\n",
       "      <td id=\"T_d92f3_row19_col2\" class=\"data row19 col2\" >20</td>\n",
       "      <td id=\"T_d92f3_row19_col3\" class=\"data row19 col3\" >0.0</td>\n",
       "      <td id=\"T_d92f3_row19_col4\" class=\"data row19 col4\" >Engine</td>\n",
       "    </tr>\n",
       "  </tbody>\n",
       "</table>\n"
      ],
      "text/plain": [
       "<pandas.io.formats.style.Styler at 0x7982e2cda210>"
      ]
     },
     "execution_count": 15,
     "metadata": {},
     "output_type": "execute_result"
    }
   ],
   "source": [
    "res_race_lap_status_pod[['Driver', 'grid', 'position', 'points', 'status']].style.pipe(results_style)"
   ]
  },
  {
   "cell_type": "code",
   "execution_count": 16,
   "id": "a657e7ce",
   "metadata": {
    "_kg_hide-input": true,
    "execution": {
     "iopub.execute_input": "2023-11-10T04:04:51.729611Z",
     "iopub.status.busy": "2023-11-10T04:04:51.729182Z",
     "iopub.status.idle": "2023-11-10T04:04:51.737211Z",
     "shell.execute_reply": "2023-11-10T04:04:51.735851Z"
    },
    "papermill": {
     "duration": 0.032482,
     "end_time": "2023-11-10T04:04:51.740184",
     "exception": false,
     "start_time": "2023-11-10T04:04:51.707702",
     "status": "completed"
    },
    "tags": []
   },
   "outputs": [
    {
     "data": {
      "text/markdown": [
       "# <div style='background:#FF1801; border:0; color:black; box-shadow: 10px 10px 5px 0px rgba(0,0,0,0.75); transform: rotateX(10deg);'><h1 style='padding: 10px; margin: 0; text-align:center;'><span style='font-size: 30px;'>Qualifying</span></h1></div>"
      ],
      "text/plain": [
       "<IPython.core.display.Markdown object>"
      ]
     },
     "metadata": {},
     "output_type": "display_data"
    }
   ],
   "source": [
    "display(md(f\"# <div style='background:#FF1801; border:0; color:black; box-shadow: 10px 10px 5px 0px rgba(0,0,0,0.75); transform: rotateX(10deg);'><h1 style='padding: 10px; margin: 0; text-align:center;'><span style='font-size: 30px;'>Qualifying</span></h1></div>\"))"
   ]
  },
  {
   "cell_type": "code",
   "execution_count": 17,
   "id": "90e93096",
   "metadata": {
    "_kg_hide-input": true,
    "execution": {
     "iopub.execute_input": "2023-11-10T04:04:51.783423Z",
     "iopub.status.busy": "2023-11-10T04:04:51.782925Z",
     "iopub.status.idle": "2023-11-10T04:04:51.834421Z",
     "shell.execute_reply": "2023-11-10T04:04:51.833324Z"
    },
    "papermill": {
     "duration": 0.077371,
     "end_time": "2023-11-10T04:04:51.837427",
     "exception": false,
     "start_time": "2023-11-10T04:04:51.760056",
     "status": "completed"
    },
    "tags": []
   },
   "outputs": [
    {
     "data": {
      "text/html": [
       "<div>                            <div id=\"0a2698bf-fd26-427d-9894-1a3135dd0970\" class=\"plotly-graph-div\" style=\"height:525px; width:100%;\"></div>            <script type=\"text/javascript\">                require([\"plotly\"], function(Plotly) {                    window.PLOTLYENV=window.PLOTLYENV || {};                                    if (document.getElementById(\"0a2698bf-fd26-427d-9894-1a3135dd0970\")) {                    Plotly.newPlot(                        \"0a2698bf-fd26-427d-9894-1a3135dd0970\",                        [{\"marker\":{\"color\":\"red\"},\"name\":\"Q1\",\"x\":[\"VER\",\"LEC\",\"STR\",\"ALO\",\"HAM\",\"RUS\",\"NOR\",\"SAI\",\"PER\",\"PIA\",\"HUL\",\"OCO\",\"GAS\",\"MAG\",\"ALB\",\"TSU\",\"RIC\",\"BOT\",\"SAR\",\"ZHO\"],\"y\":[70.436,70.472,70.551,70.557,70.604,70.34,70.623,70.624,70.668,70.519,70.475,70.763,70.793,70.602,70.621,70.837,70.843,70.955,71.035,71.275],\"type\":\"bar\"},{\"marker\":{\"color\":\"gold\"},\"name\":\"Q2\",\"x\":[\"VER\",\"LEC\",\"STR\",\"ALO\",\"HAM\",\"RUS\",\"NOR\",\"SAI\",\"PER\",\"PIA\",\"HUL\",\"OCO\",\"GAS\",\"MAG\",\"ALB\",\"TSU\",\"RIC\",\"BOT\",\"SAR\",\"ZHO\"],\"y\":[70.162,70.303,70.375,70.237,70.266,70.316,70.021,70.254,70.219,70.33,70.547,70.562,70.56700000000001,70.723,70.84,null,null,null,null,null],\"type\":\"bar\"},{\"marker\":{\"color\":\"orange\"},\"name\":\"Q3\",\"x\":[\"VER\",\"LEC\",\"STR\",\"ALO\",\"HAM\",\"RUS\",\"NOR\",\"SAI\",\"PER\",\"PIA\",\"HUL\",\"OCO\",\"GAS\",\"MAG\",\"ALB\",\"TSU\",\"RIC\",\"BOT\",\"SAR\",\"ZHO\"],\"y\":[70.727,71.021,71.344,71.387,71.469,71.59,71.987,71.989,72.321,null,null,null,null,null,null,null,null,null,null,null],\"type\":\"bar\"}],                        {\"template\":{\"data\":{\"histogram2dcontour\":[{\"type\":\"histogram2dcontour\",\"colorbar\":{\"outlinewidth\":0,\"ticks\":\"\"},\"colorscale\":[[0.0,\"#0d0887\"],[0.1111111111111111,\"#46039f\"],[0.2222222222222222,\"#7201a8\"],[0.3333333333333333,\"#9c179e\"],[0.4444444444444444,\"#bd3786\"],[0.5555555555555556,\"#d8576b\"],[0.6666666666666666,\"#ed7953\"],[0.7777777777777778,\"#fb9f3a\"],[0.8888888888888888,\"#fdca26\"],[1.0,\"#f0f921\"]]}],\"choropleth\":[{\"type\":\"choropleth\",\"colorbar\":{\"outlinewidth\":0,\"ticks\":\"\"}}],\"histogram2d\":[{\"type\":\"histogram2d\",\"colorbar\":{\"outlinewidth\":0,\"ticks\":\"\"},\"colorscale\":[[0.0,\"#0d0887\"],[0.1111111111111111,\"#46039f\"],[0.2222222222222222,\"#7201a8\"],[0.3333333333333333,\"#9c179e\"],[0.4444444444444444,\"#bd3786\"],[0.5555555555555556,\"#d8576b\"],[0.6666666666666666,\"#ed7953\"],[0.7777777777777778,\"#fb9f3a\"],[0.8888888888888888,\"#fdca26\"],[1.0,\"#f0f921\"]]}],\"heatmap\":[{\"type\":\"heatmap\",\"colorbar\":{\"outlinewidth\":0,\"ticks\":\"\"},\"colorscale\":[[0.0,\"#0d0887\"],[0.1111111111111111,\"#46039f\"],[0.2222222222222222,\"#7201a8\"],[0.3333333333333333,\"#9c179e\"],[0.4444444444444444,\"#bd3786\"],[0.5555555555555556,\"#d8576b\"],[0.6666666666666666,\"#ed7953\"],[0.7777777777777778,\"#fb9f3a\"],[0.8888888888888888,\"#fdca26\"],[1.0,\"#f0f921\"]]}],\"heatmapgl\":[{\"type\":\"heatmapgl\",\"colorbar\":{\"outlinewidth\":0,\"ticks\":\"\"},\"colorscale\":[[0.0,\"#0d0887\"],[0.1111111111111111,\"#46039f\"],[0.2222222222222222,\"#7201a8\"],[0.3333333333333333,\"#9c179e\"],[0.4444444444444444,\"#bd3786\"],[0.5555555555555556,\"#d8576b\"],[0.6666666666666666,\"#ed7953\"],[0.7777777777777778,\"#fb9f3a\"],[0.8888888888888888,\"#fdca26\"],[1.0,\"#f0f921\"]]}],\"contourcarpet\":[{\"type\":\"contourcarpet\",\"colorbar\":{\"outlinewidth\":0,\"ticks\":\"\"}}],\"contour\":[{\"type\":\"contour\",\"colorbar\":{\"outlinewidth\":0,\"ticks\":\"\"},\"colorscale\":[[0.0,\"#0d0887\"],[0.1111111111111111,\"#46039f\"],[0.2222222222222222,\"#7201a8\"],[0.3333333333333333,\"#9c179e\"],[0.4444444444444444,\"#bd3786\"],[0.5555555555555556,\"#d8576b\"],[0.6666666666666666,\"#ed7953\"],[0.7777777777777778,\"#fb9f3a\"],[0.8888888888888888,\"#fdca26\"],[1.0,\"#f0f921\"]]}],\"surface\":[{\"type\":\"surface\",\"colorbar\":{\"outlinewidth\":0,\"ticks\":\"\"},\"colorscale\":[[0.0,\"#0d0887\"],[0.1111111111111111,\"#46039f\"],[0.2222222222222222,\"#7201a8\"],[0.3333333333333333,\"#9c179e\"],[0.4444444444444444,\"#bd3786\"],[0.5555555555555556,\"#d8576b\"],[0.6666666666666666,\"#ed7953\"],[0.7777777777777778,\"#fb9f3a\"],[0.8888888888888888,\"#fdca26\"],[1.0,\"#f0f921\"]]}],\"mesh3d\":[{\"type\":\"mesh3d\",\"colorbar\":{\"outlinewidth\":0,\"ticks\":\"\"}}],\"scatter\":[{\"fillpattern\":{\"fillmode\":\"overlay\",\"size\":10,\"solidity\":0.2},\"type\":\"scatter\"}],\"parcoords\":[{\"type\":\"parcoords\",\"line\":{\"colorbar\":{\"outlinewidth\":0,\"ticks\":\"\"}}}],\"scatterpolargl\":[{\"type\":\"scatterpolargl\",\"marker\":{\"colorbar\":{\"outlinewidth\":0,\"ticks\":\"\"}}}],\"bar\":[{\"error_x\":{\"color\":\"#2a3f5f\"},\"error_y\":{\"color\":\"#2a3f5f\"},\"marker\":{\"line\":{\"color\":\"#E5ECF6\",\"width\":0.5},\"pattern\":{\"fillmode\":\"overlay\",\"size\":10,\"solidity\":0.2}},\"type\":\"bar\"}],\"scattergeo\":[{\"type\":\"scattergeo\",\"marker\":{\"colorbar\":{\"outlinewidth\":0,\"ticks\":\"\"}}}],\"scatterpolar\":[{\"type\":\"scatterpolar\",\"marker\":{\"colorbar\":{\"outlinewidth\":0,\"ticks\":\"\"}}}],\"histogram\":[{\"marker\":{\"pattern\":{\"fillmode\":\"overlay\",\"size\":10,\"solidity\":0.2}},\"type\":\"histogram\"}],\"scattergl\":[{\"type\":\"scattergl\",\"marker\":{\"colorbar\":{\"outlinewidth\":0,\"ticks\":\"\"}}}],\"scatter3d\":[{\"type\":\"scatter3d\",\"line\":{\"colorbar\":{\"outlinewidth\":0,\"ticks\":\"\"}},\"marker\":{\"colorbar\":{\"outlinewidth\":0,\"ticks\":\"\"}}}],\"scattermapbox\":[{\"type\":\"scattermapbox\",\"marker\":{\"colorbar\":{\"outlinewidth\":0,\"ticks\":\"\"}}}],\"scatterternary\":[{\"type\":\"scatterternary\",\"marker\":{\"colorbar\":{\"outlinewidth\":0,\"ticks\":\"\"}}}],\"scattercarpet\":[{\"type\":\"scattercarpet\",\"marker\":{\"colorbar\":{\"outlinewidth\":0,\"ticks\":\"\"}}}],\"carpet\":[{\"aaxis\":{\"endlinecolor\":\"#2a3f5f\",\"gridcolor\":\"white\",\"linecolor\":\"white\",\"minorgridcolor\":\"white\",\"startlinecolor\":\"#2a3f5f\"},\"baxis\":{\"endlinecolor\":\"#2a3f5f\",\"gridcolor\":\"white\",\"linecolor\":\"white\",\"minorgridcolor\":\"white\",\"startlinecolor\":\"#2a3f5f\"},\"type\":\"carpet\"}],\"table\":[{\"cells\":{\"fill\":{\"color\":\"#EBF0F8\"},\"line\":{\"color\":\"white\"}},\"header\":{\"fill\":{\"color\":\"#C8D4E3\"},\"line\":{\"color\":\"white\"}},\"type\":\"table\"}],\"barpolar\":[{\"marker\":{\"line\":{\"color\":\"#E5ECF6\",\"width\":0.5},\"pattern\":{\"fillmode\":\"overlay\",\"size\":10,\"solidity\":0.2}},\"type\":\"barpolar\"}],\"pie\":[{\"automargin\":true,\"type\":\"pie\"}]},\"layout\":{\"autotypenumbers\":\"strict\",\"colorway\":[\"#636efa\",\"#EF553B\",\"#00cc96\",\"#ab63fa\",\"#FFA15A\",\"#19d3f3\",\"#FF6692\",\"#B6E880\",\"#FF97FF\",\"#FECB52\"],\"font\":{\"color\":\"#2a3f5f\"},\"hovermode\":\"closest\",\"hoverlabel\":{\"align\":\"left\"},\"paper_bgcolor\":\"white\",\"plot_bgcolor\":\"#E5ECF6\",\"polar\":{\"bgcolor\":\"#E5ECF6\",\"angularaxis\":{\"gridcolor\":\"white\",\"linecolor\":\"white\",\"ticks\":\"\"},\"radialaxis\":{\"gridcolor\":\"white\",\"linecolor\":\"white\",\"ticks\":\"\"}},\"ternary\":{\"bgcolor\":\"#E5ECF6\",\"aaxis\":{\"gridcolor\":\"white\",\"linecolor\":\"white\",\"ticks\":\"\"},\"baxis\":{\"gridcolor\":\"white\",\"linecolor\":\"white\",\"ticks\":\"\"},\"caxis\":{\"gridcolor\":\"white\",\"linecolor\":\"white\",\"ticks\":\"\"}},\"coloraxis\":{\"colorbar\":{\"outlinewidth\":0,\"ticks\":\"\"}},\"colorscale\":{\"sequential\":[[0.0,\"#0d0887\"],[0.1111111111111111,\"#46039f\"],[0.2222222222222222,\"#7201a8\"],[0.3333333333333333,\"#9c179e\"],[0.4444444444444444,\"#bd3786\"],[0.5555555555555556,\"#d8576b\"],[0.6666666666666666,\"#ed7953\"],[0.7777777777777778,\"#fb9f3a\"],[0.8888888888888888,\"#fdca26\"],[1.0,\"#f0f921\"]],\"sequentialminus\":[[0.0,\"#0d0887\"],[0.1111111111111111,\"#46039f\"],[0.2222222222222222,\"#7201a8\"],[0.3333333333333333,\"#9c179e\"],[0.4444444444444444,\"#bd3786\"],[0.5555555555555556,\"#d8576b\"],[0.6666666666666666,\"#ed7953\"],[0.7777777777777778,\"#fb9f3a\"],[0.8888888888888888,\"#fdca26\"],[1.0,\"#f0f921\"]],\"diverging\":[[0,\"#8e0152\"],[0.1,\"#c51b7d\"],[0.2,\"#de77ae\"],[0.3,\"#f1b6da\"],[0.4,\"#fde0ef\"],[0.5,\"#f7f7f7\"],[0.6,\"#e6f5d0\"],[0.7,\"#b8e186\"],[0.8,\"#7fbc41\"],[0.9,\"#4d9221\"],[1,\"#276419\"]]},\"xaxis\":{\"gridcolor\":\"white\",\"linecolor\":\"white\",\"ticks\":\"\",\"title\":{\"standoff\":15},\"zerolinecolor\":\"white\",\"automargin\":true,\"zerolinewidth\":2},\"yaxis\":{\"gridcolor\":\"white\",\"linecolor\":\"white\",\"ticks\":\"\",\"title\":{\"standoff\":15},\"zerolinecolor\":\"white\",\"automargin\":true,\"zerolinewidth\":2},\"scene\":{\"xaxis\":{\"backgroundcolor\":\"#E5ECF6\",\"gridcolor\":\"white\",\"linecolor\":\"white\",\"showbackground\":true,\"ticks\":\"\",\"zerolinecolor\":\"white\",\"gridwidth\":2},\"yaxis\":{\"backgroundcolor\":\"#E5ECF6\",\"gridcolor\":\"white\",\"linecolor\":\"white\",\"showbackground\":true,\"ticks\":\"\",\"zerolinecolor\":\"white\",\"gridwidth\":2},\"zaxis\":{\"backgroundcolor\":\"#E5ECF6\",\"gridcolor\":\"white\",\"linecolor\":\"white\",\"showbackground\":true,\"ticks\":\"\",\"zerolinecolor\":\"white\",\"gridwidth\":2}},\"shapedefaults\":{\"line\":{\"color\":\"#2a3f5f\"}},\"annotationdefaults\":{\"arrowcolor\":\"#2a3f5f\",\"arrowhead\":0,\"arrowwidth\":1},\"geo\":{\"bgcolor\":\"white\",\"landcolor\":\"#E5ECF6\",\"subunitcolor\":\"white\",\"showland\":true,\"showlakes\":true,\"lakecolor\":\"white\"},\"title\":{\"x\":0.05},\"mapbox\":{\"style\":\"light\"}}},\"yaxis\":{\"range\":[69.021,73.321]},\"xaxis\":{\"tickangle\":-45},\"barmode\":\"group\",\"title\":{\"font\":{\"family\":\"Arial, sans-serif\",\"size\":30},\"text\":\"<b>Qualifying Results</b>\",\"x\":0.5}},                        {\"responsive\": true}                    ).then(function(){\n",
       "                            \n",
       "var gd = document.getElementById('0a2698bf-fd26-427d-9894-1a3135dd0970');\n",
       "var x = new MutationObserver(function (mutations, observer) {{\n",
       "        var display = window.getComputedStyle(gd).display;\n",
       "        if (!display || display === 'none') {{\n",
       "            console.log([gd, 'removed!']);\n",
       "            Plotly.purge(gd);\n",
       "            observer.disconnect();\n",
       "        }}\n",
       "}});\n",
       "\n",
       "// Listen for the removal of the full notebook cells\n",
       "var notebookContainer = gd.closest('#notebook-container');\n",
       "if (notebookContainer) {{\n",
       "    x.observe(notebookContainer, {childList: true});\n",
       "}}\n",
       "\n",
       "// Listen for the clearing of the current output cell\n",
       "var outputEl = gd.closest('.output');\n",
       "if (outputEl) {{\n",
       "    x.observe(outputEl, {childList: true});\n",
       "}}\n",
       "\n",
       "                        })                };                });            </script>        </div>"
      ]
     },
     "metadata": {},
     "output_type": "display_data"
    }
   ],
   "source": [
    "fig = go.Figure(layout_yaxis_range=[min_time, max_time])\n",
    "fig.add_trace(go.Bar(\n",
    "    x=qualifying['Driver'],\n",
    "    y=qualifying['q1_dur'],\n",
    "    name='Q1',\n",
    "    marker_color='red'\n",
    "))\n",
    "fig.add_trace(go.Bar(\n",
    "    x=qualifying['Driver'],\n",
    "    y=qualifying['q2_dur'],\n",
    "    name='Q2',\n",
    "    marker_color='gold'\n",
    "))\n",
    "fig.add_trace(go.Bar(\n",
    "    x=qualifying['Driver'],\n",
    "    y=qualifying['q3_dur'],\n",
    "    name='Q3',\n",
    "    marker_color='orange'\n",
    "))\n",
    "\n",
    "fig.update_layout(barmode='group', xaxis_tickangle=-45)\n",
    "fig.update_layout(title_text='<b>Qualifying Results</b>', titlefont = dict(\n",
    "         family = 'Arial, sans-serif',\n",
    "         size = 30\n",
    "      ), title_x=0.5)\n",
    "fig.show()"
   ]
  },
  {
   "cell_type": "code",
   "execution_count": 18,
   "id": "cd1aef3c",
   "metadata": {
    "_kg_hide-input": true,
    "execution": {
     "iopub.execute_input": "2023-11-10T04:04:51.879998Z",
     "iopub.status.busy": "2023-11-10T04:04:51.879511Z",
     "iopub.status.idle": "2023-11-10T04:04:52.185594Z",
     "shell.execute_reply": "2023-11-10T04:04:52.183788Z"
    },
    "papermill": {
     "duration": 0.331394,
     "end_time": "2023-11-10T04:04:52.189145",
     "exception": false,
     "start_time": "2023-11-10T04:04:51.857751",
     "status": "completed"
    },
    "tags": []
   },
   "outputs": [
    {
     "data": {
      "text/html": [
       "<div>                            <div id=\"695b0127-0b15-4334-a01c-2deb39d85c7b\" class=\"plotly-graph-div\" style=\"height:525px; width:100%;\"></div>            <script type=\"text/javascript\">                require([\"plotly\"], function(Plotly) {                    window.PLOTLYENV=window.PLOTLYENV || {};                                    if (document.getElementById(\"695b0127-0b15-4334-a01c-2deb39d85c7b\")) {                    Plotly.newPlot(                        \"695b0127-0b15-4334-a01c-2deb39d85c7b\",                        [{\"hovertemplate\":\"Driver=ALB<br>Lap (Start/Finish Only)=%{x}<br>Start Position=%{y}<extra></extra>\",\"legendgroup\":\"ALB\",\"line\":{\"color\":\"#00A0DE\",\"dash\":\"solid\"},\"marker\":{\"symbol\":\"circle\"},\"mode\":\"lines\",\"name\":\"ALB\",\"orientation\":\"v\",\"showlegend\":true,\"x\":[0,0],\"xaxis\":\"x\",\"y\":[19.0,13.0],\"yaxis\":\"y\",\"type\":\"scatter\"},{\"hovertemplate\":\"Driver=ALO<br>Lap (Start/Finish Only)=%{x}<br>Start Position=%{y}<extra></extra>\",\"legendgroup\":\"ALO\",\"line\":{\"color\":\"#002420\",\"dash\":\"solid\"},\"marker\":{\"symbol\":\"circle\"},\"mode\":\"lines\",\"name\":\"ALO\",\"orientation\":\"v\",\"showlegend\":true,\"x\":[0,71],\"xaxis\":\"x\",\"y\":[4.0,3.0],\"yaxis\":\"y\",\"type\":\"scatter\"},{\"hovertemplate\":\"Driver=BOT<br>Lap (Start/Finish Only)=%{x}<br>Start Position=%{y}<extra></extra>\",\"legendgroup\":\"BOT\",\"line\":{\"color\":\"#A42134\",\"dash\":\"solid\"},\"marker\":{\"symbol\":\"circle\"},\"mode\":\"lines\",\"name\":\"BOT\",\"orientation\":\"v\",\"showlegend\":true,\"x\":[39,0],\"xaxis\":\"x\",\"y\":[16.0,18.0],\"yaxis\":\"y\",\"type\":\"scatter\"},{\"hovertemplate\":\"Driver=GAS<br>Lap (Start/Finish Only)=%{x}<br>Start Position=%{y}<extra></extra>\",\"legendgroup\":\"GAS\",\"line\":{\"color\":\"#2173B8\",\"dash\":\"solid\"},\"marker\":{\"symbol\":\"circle\"},\"mode\":\"lines\",\"name\":\"GAS\",\"orientation\":\"v\",\"showlegend\":true,\"x\":[71,0],\"xaxis\":\"x\",\"y\":[7.0,15.0],\"yaxis\":\"y\",\"type\":\"scatter\"},{\"hovertemplate\":\"Driver=HAM<br>Lap (Start/Finish Only)=%{x}<br>Start Position=%{y}<extra></extra>\",\"legendgroup\":\"HAM\",\"line\":{\"color\":\"#00A19B\",\"dash\":\"solid\"},\"marker\":{\"symbol\":\"circle\"},\"mode\":\"lines\",\"name\":\"HAM\",\"orientation\":\"v\",\"showlegend\":true,\"x\":[71,0],\"xaxis\":\"x\",\"y\":[8.0,5.0],\"yaxis\":\"y\",\"type\":\"scatter\"},{\"hovertemplate\":\"Driver=HUL<br>Lap (Start/Finish Only)=%{x}<br>Start Position=%{y}<extra></extra>\",\"legendgroup\":\"HUL\",\"line\":{\"color\":\"#E6002B\",\"dash\":\"solid\"},\"marker\":{\"symbol\":\"circle\"},\"mode\":\"lines\",\"name\":\"HUL\",\"orientation\":\"v\",\"showlegend\":true,\"x\":[70,0],\"xaxis\":\"x\",\"y\":[12.0,11.0],\"yaxis\":\"y\",\"type\":\"scatter\"},{\"hovertemplate\":\"Driver=LEC<br>Lap (Start/Finish Only)=%{x}<br>Start Position=%{y}<extra></extra>\",\"legendgroup\":\"LEC\",\"line\":{\"color\":\"#EF1A2D\",\"dash\":\"solid\"},\"marker\":{\"symbol\":\"circle\"},\"mode\":\"lines\",\"name\":\"LEC\",\"orientation\":\"v\",\"showlegend\":true,\"x\":[0,0],\"xaxis\":\"x\",\"y\":[0.0,20.0],\"yaxis\":\"y\",\"type\":\"scatter\"},{\"hovertemplate\":\"Driver=MAG<br>Lap (Start/Finish Only)=%{x}<br>Start Position=%{y}<extra></extra>\",\"legendgroup\":\"MAG\",\"line\":{\"color\":\"#E6002B\",\"dash\":\"solid\"},\"marker\":{\"symbol\":\"circle\"},\"mode\":\"lines\",\"name\":\"MAG\",\"orientation\":\"v\",\"showlegend\":true,\"x\":[0,0],\"xaxis\":\"x\",\"y\":[18.0,12.0],\"yaxis\":\"y\",\"type\":\"scatter\"},{\"hovertemplate\":\"Driver=NOR<br>Lap (Start/Finish Only)=%{x}<br>Start Position=%{y}<extra></extra>\",\"legendgroup\":\"NOR\",\"line\":{\"color\":\"#FF8000\",\"dash\":\"solid\"},\"marker\":{\"symbol\":\"circle\"},\"mode\":\"lines\",\"name\":\"NOR\",\"orientation\":\"v\",\"showlegend\":true,\"x\":[0,71],\"xaxis\":\"x\",\"y\":[6.0,2.0],\"yaxis\":\"y\",\"type\":\"scatter\"},{\"hovertemplate\":\"Driver=OCO<br>Lap (Start/Finish Only)=%{x}<br>Start Position=%{y}<extra></extra>\",\"legendgroup\":\"OCO\",\"line\":{\"color\":\"#2173B8\",\"dash\":\"solid\"},\"marker\":{\"symbol\":\"circle\"},\"mode\":\"lines\",\"name\":\"OCO\",\"orientation\":\"v\",\"showlegend\":true,\"x\":[0,70],\"xaxis\":\"x\",\"y\":[14.0,10.0],\"yaxis\":\"y\",\"type\":\"scatter\"},{\"hovertemplate\":\"Driver=PER<br>Lap (Start/Finish Only)=%{x}<br>Start Position=%{y}<extra></extra>\",\"legendgroup\":\"PER\",\"line\":{\"color\":\"#000B8D\",\"dash\":\"solid\"},\"marker\":{\"symbol\":\"circle\"},\"mode\":\"lines\",\"name\":\"PER\",\"orientation\":\"v\",\"showlegend\":true,\"x\":[71,0],\"xaxis\":\"x\",\"y\":[4.0,9.0],\"yaxis\":\"y\",\"type\":\"scatter\"},{\"hovertemplate\":\"Driver=PIA<br>Lap (Start/Finish Only)=%{x}<br>Start Position=%{y}<extra></extra>\",\"legendgroup\":\"PIA\",\"line\":{\"color\":\"#FF8000\",\"dash\":\"solid\"},\"marker\":{\"symbol\":\"circle\"},\"mode\":\"lines\",\"name\":\"PIA\",\"orientation\":\"v\",\"showlegend\":true,\"x\":[69,0],\"xaxis\":\"x\",\"y\":[14.0,10.0],\"yaxis\":\"y\",\"type\":\"scatter\"},{\"hovertemplate\":\"Driver=RIC<br>Lap (Start/Finish Only)=%{x}<br>Start Position=%{y}<extra></extra>\",\"legendgroup\":\"RIC\",\"line\":{\"color\":\"#20394C\",\"dash\":\"solid\"},\"marker\":{\"symbol\":\"circle\"},\"mode\":\"lines\",\"name\":\"RIC\",\"orientation\":\"v\",\"showlegend\":true,\"x\":[0,70],\"xaxis\":\"x\",\"y\":[17.0,13.0],\"yaxis\":\"y\",\"type\":\"scatter\"},{\"hovertemplate\":\"Driver=RUS<br>Lap (Start/Finish Only)=%{x}<br>Start Position=%{y}<extra></extra>\",\"legendgroup\":\"RUS\",\"line\":{\"color\":\"#00A19B\",\"dash\":\"solid\"},\"marker\":{\"symbol\":\"circle\"},\"mode\":\"lines\",\"name\":\"RUS\",\"orientation\":\"v\",\"showlegend\":true,\"x\":[0,57],\"xaxis\":\"x\",\"y\":[8.0,15.0],\"yaxis\":\"y\",\"type\":\"scatter\"},{\"hovertemplate\":\"Driver=SAI<br>Lap (Start/Finish Only)=%{x}<br>Start Position=%{y}<extra></extra>\",\"legendgroup\":\"SAI\",\"line\":{\"color\":\"#EF1A2D\",\"dash\":\"solid\"},\"marker\":{\"symbol\":\"circle\"},\"mode\":\"lines\",\"name\":\"SAI\",\"orientation\":\"v\",\"showlegend\":true,\"x\":[0,71],\"xaxis\":\"x\",\"y\":[7.0,6.0],\"yaxis\":\"y\",\"type\":\"scatter\"},{\"hovertemplate\":\"Driver=SAR<br>Lap (Start/Finish Only)=%{x}<br>Start Position=%{y}<extra></extra>\",\"legendgroup\":\"SAR\",\"line\":{\"color\":\"#00A0DE\",\"dash\":\"solid\"},\"marker\":{\"symbol\":\"circle\"},\"mode\":\"lines\",\"name\":\"SAR\",\"orientation\":\"v\",\"showlegend\":true,\"x\":[70,0],\"xaxis\":\"x\",\"y\":[11.0,19.0],\"yaxis\":\"y\",\"type\":\"scatter\"},{\"hovertemplate\":\"Driver=STR<br>Lap (Start/Finish Only)=%{x}<br>Start Position=%{y}<extra></extra>\",\"legendgroup\":\"STR\",\"line\":{\"color\":\"#002420\",\"dash\":\"solid\"},\"marker\":{\"symbol\":\"circle\"},\"mode\":\"lines\",\"name\":\"STR\",\"orientation\":\"v\",\"showlegend\":true,\"x\":[0,71],\"xaxis\":\"x\",\"y\":[3.0,5.0],\"yaxis\":\"y\",\"type\":\"scatter\"},{\"hovertemplate\":\"Driver=TSU<br>Lap (Start/Finish Only)=%{x}<br>Start Position=%{y}<extra></extra>\",\"legendgroup\":\"TSU\",\"line\":{\"color\":\"#20394C\",\"dash\":\"solid\"},\"marker\":{\"symbol\":\"circle\"},\"mode\":\"lines\",\"name\":\"TSU\",\"orientation\":\"v\",\"showlegend\":true,\"x\":[0,71],\"xaxis\":\"x\",\"y\":[16.0,9.0],\"yaxis\":\"y\",\"type\":\"scatter\"},{\"hovertemplate\":\"Driver=VER<br>Lap (Start/Finish Only)=%{x}<br>Start Position=%{y}<extra></extra>\",\"legendgroup\":\"VER\",\"line\":{\"color\":\"#000B8D\",\"dash\":\"solid\"},\"marker\":{\"symbol\":\"circle\"},\"mode\":\"lines\",\"name\":\"VER\",\"orientation\":\"v\",\"showlegend\":true,\"x\":[71,0],\"xaxis\":\"x\",\"y\":[1.0,1.0],\"yaxis\":\"y\",\"type\":\"scatter\"},{\"hovertemplate\":\"Driver=ZHO<br>Lap (Start/Finish Only)=%{x}<br>Start Position=%{y}<extra></extra>\",\"legendgroup\":\"ZHO\",\"line\":{\"color\":\"#A42134\",\"dash\":\"solid\"},\"marker\":{\"symbol\":\"circle\"},\"mode\":\"lines\",\"name\":\"ZHO\",\"orientation\":\"v\",\"showlegend\":true,\"x\":[22,0],\"xaxis\":\"x\",\"y\":[17.0,20.0],\"yaxis\":\"y\",\"type\":\"scatter\"}],                        {\"template\":{\"data\":{\"histogram2dcontour\":[{\"type\":\"histogram2dcontour\",\"colorbar\":{\"outlinewidth\":0,\"ticks\":\"\"},\"colorscale\":[[0.0,\"#0d0887\"],[0.1111111111111111,\"#46039f\"],[0.2222222222222222,\"#7201a8\"],[0.3333333333333333,\"#9c179e\"],[0.4444444444444444,\"#bd3786\"],[0.5555555555555556,\"#d8576b\"],[0.6666666666666666,\"#ed7953\"],[0.7777777777777778,\"#fb9f3a\"],[0.8888888888888888,\"#fdca26\"],[1.0,\"#f0f921\"]]}],\"choropleth\":[{\"type\":\"choropleth\",\"colorbar\":{\"outlinewidth\":0,\"ticks\":\"\"}}],\"histogram2d\":[{\"type\":\"histogram2d\",\"colorbar\":{\"outlinewidth\":0,\"ticks\":\"\"},\"colorscale\":[[0.0,\"#0d0887\"],[0.1111111111111111,\"#46039f\"],[0.2222222222222222,\"#7201a8\"],[0.3333333333333333,\"#9c179e\"],[0.4444444444444444,\"#bd3786\"],[0.5555555555555556,\"#d8576b\"],[0.6666666666666666,\"#ed7953\"],[0.7777777777777778,\"#fb9f3a\"],[0.8888888888888888,\"#fdca26\"],[1.0,\"#f0f921\"]]}],\"heatmap\":[{\"type\":\"heatmap\",\"colorbar\":{\"outlinewidth\":0,\"ticks\":\"\"},\"colorscale\":[[0.0,\"#0d0887\"],[0.1111111111111111,\"#46039f\"],[0.2222222222222222,\"#7201a8\"],[0.3333333333333333,\"#9c179e\"],[0.4444444444444444,\"#bd3786\"],[0.5555555555555556,\"#d8576b\"],[0.6666666666666666,\"#ed7953\"],[0.7777777777777778,\"#fb9f3a\"],[0.8888888888888888,\"#fdca26\"],[1.0,\"#f0f921\"]]}],\"heatmapgl\":[{\"type\":\"heatmapgl\",\"colorbar\":{\"outlinewidth\":0,\"ticks\":\"\"},\"colorscale\":[[0.0,\"#0d0887\"],[0.1111111111111111,\"#46039f\"],[0.2222222222222222,\"#7201a8\"],[0.3333333333333333,\"#9c179e\"],[0.4444444444444444,\"#bd3786\"],[0.5555555555555556,\"#d8576b\"],[0.6666666666666666,\"#ed7953\"],[0.7777777777777778,\"#fb9f3a\"],[0.8888888888888888,\"#fdca26\"],[1.0,\"#f0f921\"]]}],\"contourcarpet\":[{\"type\":\"contourcarpet\",\"colorbar\":{\"outlinewidth\":0,\"ticks\":\"\"}}],\"contour\":[{\"type\":\"contour\",\"colorbar\":{\"outlinewidth\":0,\"ticks\":\"\"},\"colorscale\":[[0.0,\"#0d0887\"],[0.1111111111111111,\"#46039f\"],[0.2222222222222222,\"#7201a8\"],[0.3333333333333333,\"#9c179e\"],[0.4444444444444444,\"#bd3786\"],[0.5555555555555556,\"#d8576b\"],[0.6666666666666666,\"#ed7953\"],[0.7777777777777778,\"#fb9f3a\"],[0.8888888888888888,\"#fdca26\"],[1.0,\"#f0f921\"]]}],\"surface\":[{\"type\":\"surface\",\"colorbar\":{\"outlinewidth\":0,\"ticks\":\"\"},\"colorscale\":[[0.0,\"#0d0887\"],[0.1111111111111111,\"#46039f\"],[0.2222222222222222,\"#7201a8\"],[0.3333333333333333,\"#9c179e\"],[0.4444444444444444,\"#bd3786\"],[0.5555555555555556,\"#d8576b\"],[0.6666666666666666,\"#ed7953\"],[0.7777777777777778,\"#fb9f3a\"],[0.8888888888888888,\"#fdca26\"],[1.0,\"#f0f921\"]]}],\"mesh3d\":[{\"type\":\"mesh3d\",\"colorbar\":{\"outlinewidth\":0,\"ticks\":\"\"}}],\"scatter\":[{\"fillpattern\":{\"fillmode\":\"overlay\",\"size\":10,\"solidity\":0.2},\"type\":\"scatter\"}],\"parcoords\":[{\"type\":\"parcoords\",\"line\":{\"colorbar\":{\"outlinewidth\":0,\"ticks\":\"\"}}}],\"scatterpolargl\":[{\"type\":\"scatterpolargl\",\"marker\":{\"colorbar\":{\"outlinewidth\":0,\"ticks\":\"\"}}}],\"bar\":[{\"error_x\":{\"color\":\"#2a3f5f\"},\"error_y\":{\"color\":\"#2a3f5f\"},\"marker\":{\"line\":{\"color\":\"#E5ECF6\",\"width\":0.5},\"pattern\":{\"fillmode\":\"overlay\",\"size\":10,\"solidity\":0.2}},\"type\":\"bar\"}],\"scattergeo\":[{\"type\":\"scattergeo\",\"marker\":{\"colorbar\":{\"outlinewidth\":0,\"ticks\":\"\"}}}],\"scatterpolar\":[{\"type\":\"scatterpolar\",\"marker\":{\"colorbar\":{\"outlinewidth\":0,\"ticks\":\"\"}}}],\"histogram\":[{\"marker\":{\"pattern\":{\"fillmode\":\"overlay\",\"size\":10,\"solidity\":0.2}},\"type\":\"histogram\"}],\"scattergl\":[{\"type\":\"scattergl\",\"marker\":{\"colorbar\":{\"outlinewidth\":0,\"ticks\":\"\"}}}],\"scatter3d\":[{\"type\":\"scatter3d\",\"line\":{\"colorbar\":{\"outlinewidth\":0,\"ticks\":\"\"}},\"marker\":{\"colorbar\":{\"outlinewidth\":0,\"ticks\":\"\"}}}],\"scattermapbox\":[{\"type\":\"scattermapbox\",\"marker\":{\"colorbar\":{\"outlinewidth\":0,\"ticks\":\"\"}}}],\"scatterternary\":[{\"type\":\"scatterternary\",\"marker\":{\"colorbar\":{\"outlinewidth\":0,\"ticks\":\"\"}}}],\"scattercarpet\":[{\"type\":\"scattercarpet\",\"marker\":{\"colorbar\":{\"outlinewidth\":0,\"ticks\":\"\"}}}],\"carpet\":[{\"aaxis\":{\"endlinecolor\":\"#2a3f5f\",\"gridcolor\":\"white\",\"linecolor\":\"white\",\"minorgridcolor\":\"white\",\"startlinecolor\":\"#2a3f5f\"},\"baxis\":{\"endlinecolor\":\"#2a3f5f\",\"gridcolor\":\"white\",\"linecolor\":\"white\",\"minorgridcolor\":\"white\",\"startlinecolor\":\"#2a3f5f\"},\"type\":\"carpet\"}],\"table\":[{\"cells\":{\"fill\":{\"color\":\"#EBF0F8\"},\"line\":{\"color\":\"white\"}},\"header\":{\"fill\":{\"color\":\"#C8D4E3\"},\"line\":{\"color\":\"white\"}},\"type\":\"table\"}],\"barpolar\":[{\"marker\":{\"line\":{\"color\":\"#E5ECF6\",\"width\":0.5},\"pattern\":{\"fillmode\":\"overlay\",\"size\":10,\"solidity\":0.2}},\"type\":\"barpolar\"}],\"pie\":[{\"automargin\":true,\"type\":\"pie\"}]},\"layout\":{\"autotypenumbers\":\"strict\",\"colorway\":[\"#636efa\",\"#EF553B\",\"#00cc96\",\"#ab63fa\",\"#FFA15A\",\"#19d3f3\",\"#FF6692\",\"#B6E880\",\"#FF97FF\",\"#FECB52\"],\"font\":{\"color\":\"#2a3f5f\"},\"hovermode\":\"closest\",\"hoverlabel\":{\"align\":\"left\"},\"paper_bgcolor\":\"white\",\"plot_bgcolor\":\"#E5ECF6\",\"polar\":{\"bgcolor\":\"#E5ECF6\",\"angularaxis\":{\"gridcolor\":\"white\",\"linecolor\":\"white\",\"ticks\":\"\"},\"radialaxis\":{\"gridcolor\":\"white\",\"linecolor\":\"white\",\"ticks\":\"\"}},\"ternary\":{\"bgcolor\":\"#E5ECF6\",\"aaxis\":{\"gridcolor\":\"white\",\"linecolor\":\"white\",\"ticks\":\"\"},\"baxis\":{\"gridcolor\":\"white\",\"linecolor\":\"white\",\"ticks\":\"\"},\"caxis\":{\"gridcolor\":\"white\",\"linecolor\":\"white\",\"ticks\":\"\"}},\"coloraxis\":{\"colorbar\":{\"outlinewidth\":0,\"ticks\":\"\"}},\"colorscale\":{\"sequential\":[[0.0,\"#0d0887\"],[0.1111111111111111,\"#46039f\"],[0.2222222222222222,\"#7201a8\"],[0.3333333333333333,\"#9c179e\"],[0.4444444444444444,\"#bd3786\"],[0.5555555555555556,\"#d8576b\"],[0.6666666666666666,\"#ed7953\"],[0.7777777777777778,\"#fb9f3a\"],[0.8888888888888888,\"#fdca26\"],[1.0,\"#f0f921\"]],\"sequentialminus\":[[0.0,\"#0d0887\"],[0.1111111111111111,\"#46039f\"],[0.2222222222222222,\"#7201a8\"],[0.3333333333333333,\"#9c179e\"],[0.4444444444444444,\"#bd3786\"],[0.5555555555555556,\"#d8576b\"],[0.6666666666666666,\"#ed7953\"],[0.7777777777777778,\"#fb9f3a\"],[0.8888888888888888,\"#fdca26\"],[1.0,\"#f0f921\"]],\"diverging\":[[0,\"#8e0152\"],[0.1,\"#c51b7d\"],[0.2,\"#de77ae\"],[0.3,\"#f1b6da\"],[0.4,\"#fde0ef\"],[0.5,\"#f7f7f7\"],[0.6,\"#e6f5d0\"],[0.7,\"#b8e186\"],[0.8,\"#7fbc41\"],[0.9,\"#4d9221\"],[1,\"#276419\"]]},\"xaxis\":{\"gridcolor\":\"white\",\"linecolor\":\"white\",\"ticks\":\"\",\"title\":{\"standoff\":15},\"zerolinecolor\":\"white\",\"automargin\":true,\"zerolinewidth\":2},\"yaxis\":{\"gridcolor\":\"white\",\"linecolor\":\"white\",\"ticks\":\"\",\"title\":{\"standoff\":15},\"zerolinecolor\":\"white\",\"automargin\":true,\"zerolinewidth\":2},\"scene\":{\"xaxis\":{\"backgroundcolor\":\"#E5ECF6\",\"gridcolor\":\"white\",\"linecolor\":\"white\",\"showbackground\":true,\"ticks\":\"\",\"zerolinecolor\":\"white\",\"gridwidth\":2},\"yaxis\":{\"backgroundcolor\":\"#E5ECF6\",\"gridcolor\":\"white\",\"linecolor\":\"white\",\"showbackground\":true,\"ticks\":\"\",\"zerolinecolor\":\"white\",\"gridwidth\":2},\"zaxis\":{\"backgroundcolor\":\"#E5ECF6\",\"gridcolor\":\"white\",\"linecolor\":\"white\",\"showbackground\":true,\"ticks\":\"\",\"zerolinecolor\":\"white\",\"gridwidth\":2}},\"shapedefaults\":{\"line\":{\"color\":\"#2a3f5f\"}},\"annotationdefaults\":{\"arrowcolor\":\"#2a3f5f\",\"arrowhead\":0,\"arrowwidth\":1},\"geo\":{\"bgcolor\":\"white\",\"landcolor\":\"#E5ECF6\",\"subunitcolor\":\"white\",\"showland\":true,\"showlakes\":true,\"lakecolor\":\"white\"},\"title\":{\"x\":0.05},\"mapbox\":{\"style\":\"light\"}}},\"xaxis\":{\"anchor\":\"y\",\"domain\":[0.0,1.0],\"title\":{\"text\":\"Lap (Start/Finish Only)\"}},\"yaxis\":{\"anchor\":\"x\",\"domain\":[0.0,1.0],\"title\":{\"text\":\"Start Position\"}},\"legend\":{\"title\":{\"text\":\"Driver\"},\"tracegroupgap\":0},\"title\":{\"text\":\"<b>Qualifying To Finish</b>\",\"font\":{\"family\":\"Arial, sans-serif\",\"size\":30},\"x\":0.5},\"updatemenus\":[{\"active\":0,\"buttons\":[{\"args\":[{\"visible\":[true,true,true,true,true,true,true,true,true,true,true,true,true,true,true,true,true,true,true,true],\"title\":\"All\",\"showlegend\":true}],\"label\":\"All\",\"method\":\"update\"},{\"args\":[{\"visible\":[true,false,false,false,false,false,false,false,false,false,false,false,false,false,false,false,false,false,false,false],\"title\":\"ALB\",\"showlegend\":true}],\"label\":\"ALB\",\"method\":\"update\"},{\"args\":[{\"visible\":[false,true,false,false,false,false,false,false,false,false,false,false,false,false,false,false,false,false,false,false],\"title\":\"ALO\",\"showlegend\":true}],\"label\":\"ALO\",\"method\":\"update\"},{\"args\":[{\"visible\":[false,false,true,false,false,false,false,false,false,false,false,false,false,false,false,false,false,false,false,false],\"title\":\"BOT\",\"showlegend\":true}],\"label\":\"BOT\",\"method\":\"update\"},{\"args\":[{\"visible\":[false,false,false,true,false,false,false,false,false,false,false,false,false,false,false,false,false,false,false,false],\"title\":\"GAS\",\"showlegend\":true}],\"label\":\"GAS\",\"method\":\"update\"},{\"args\":[{\"visible\":[false,false,false,false,true,false,false,false,false,false,false,false,false,false,false,false,false,false,false,false],\"title\":\"HAM\",\"showlegend\":true}],\"label\":\"HAM\",\"method\":\"update\"},{\"args\":[{\"visible\":[false,false,false,false,false,true,false,false,false,false,false,false,false,false,false,false,false,false,false,false],\"title\":\"HUL\",\"showlegend\":true}],\"label\":\"HUL\",\"method\":\"update\"},{\"args\":[{\"visible\":[false,false,false,false,false,false,true,false,false,false,false,false,false,false,false,false,false,false,false,false],\"title\":\"LEC\",\"showlegend\":true}],\"label\":\"LEC\",\"method\":\"update\"},{\"args\":[{\"visible\":[false,false,false,false,false,false,false,true,false,false,false,false,false,false,false,false,false,false,false,false],\"title\":\"MAG\",\"showlegend\":true}],\"label\":\"MAG\",\"method\":\"update\"},{\"args\":[{\"visible\":[false,false,false,false,false,false,false,false,true,false,false,false,false,false,false,false,false,false,false,false],\"title\":\"NOR\",\"showlegend\":true}],\"label\":\"NOR\",\"method\":\"update\"},{\"args\":[{\"visible\":[false,false,false,false,false,false,false,false,false,true,false,false,false,false,false,false,false,false,false,false],\"title\":\"OCO\",\"showlegend\":true}],\"label\":\"OCO\",\"method\":\"update\"},{\"args\":[{\"visible\":[false,false,false,false,false,false,false,false,false,false,true,false,false,false,false,false,false,false,false,false],\"title\":\"PER\",\"showlegend\":true}],\"label\":\"PER\",\"method\":\"update\"},{\"args\":[{\"visible\":[false,false,false,false,false,false,false,false,false,false,false,true,false,false,false,false,false,false,false,false],\"title\":\"PIA\",\"showlegend\":true}],\"label\":\"PIA\",\"method\":\"update\"},{\"args\":[{\"visible\":[false,false,false,false,false,false,false,false,false,false,false,false,true,false,false,false,false,false,false,false],\"title\":\"RIC\",\"showlegend\":true}],\"label\":\"RIC\",\"method\":\"update\"},{\"args\":[{\"visible\":[false,false,false,false,false,false,false,false,false,false,false,false,false,true,false,false,false,false,false,false],\"title\":\"RUS\",\"showlegend\":true}],\"label\":\"RUS\",\"method\":\"update\"},{\"args\":[{\"visible\":[false,false,false,false,false,false,false,false,false,false,false,false,false,false,true,false,false,false,false,false],\"title\":\"SAI\",\"showlegend\":true}],\"label\":\"SAI\",\"method\":\"update\"},{\"args\":[{\"visible\":[false,false,false,false,false,false,false,false,false,false,false,false,false,false,false,true,false,false,false,false],\"title\":\"SAR\",\"showlegend\":true}],\"label\":\"SAR\",\"method\":\"update\"},{\"args\":[{\"visible\":[false,false,false,false,false,false,false,false,false,false,false,false,false,false,false,false,true,false,false,false],\"title\":\"STR\",\"showlegend\":true}],\"label\":\"STR\",\"method\":\"update\"},{\"args\":[{\"visible\":[false,false,false,false,false,false,false,false,false,false,false,false,false,false,false,false,false,true,false,false],\"title\":\"TSU\",\"showlegend\":true}],\"label\":\"TSU\",\"method\":\"update\"},{\"args\":[{\"visible\":[false,false,false,false,false,false,false,false,false,false,false,false,false,false,false,false,false,false,true,false],\"title\":\"VER\",\"showlegend\":true}],\"label\":\"VER\",\"method\":\"update\"},{\"args\":[{\"visible\":[false,false,false,false,false,false,false,false,false,false,false,false,false,false,false,false,false,false,false,true],\"title\":\"ZHO\",\"showlegend\":true}],\"label\":\"ZHO\",\"method\":\"update\"}]}]},                        {\"responsive\": true}                    ).then(function(){\n",
       "                            \n",
       "var gd = document.getElementById('695b0127-0b15-4334-a01c-2deb39d85c7b');\n",
       "var x = new MutationObserver(function (mutations, observer) {{\n",
       "        var display = window.getComputedStyle(gd).display;\n",
       "        if (!display || display === 'none') {{\n",
       "            console.log([gd, 'removed!']);\n",
       "            Plotly.purge(gd);\n",
       "            observer.disconnect();\n",
       "        }}\n",
       "}});\n",
       "\n",
       "// Listen for the removal of the full notebook cells\n",
       "var notebookContainer = gd.closest('#notebook-container');\n",
       "if (notebookContainer) {{\n",
       "    x.observe(notebookContainer, {childList: true});\n",
       "}}\n",
       "\n",
       "// Listen for the clearing of the current output cell\n",
       "var outputEl = gd.closest('.output');\n",
       "if (outputEl) {{\n",
       "    x.observe(outputEl, {childList: true});\n",
       "}}\n",
       "\n",
       "                        })                };                });            </script>        </div>"
      ]
     },
     "metadata": {},
     "output_type": "display_data"
    }
   ],
   "source": [
    "def multi_st_fin_plot(names, addAll = True):\n",
    "    fig = go.Figure()\n",
    "    \n",
    "    lap_driver_sf = reduced_res[(reduced_res['laps'] == 0) | (reduced_res['laps'] == num_laps) | (reduced_res['last_lap'] == 1)].copy()\n",
    "    lap_driver_sf['position'] = lap_driver_sf['position'].astype(float)\n",
    "    lap_driver_sf = lap_driver_sf.sort_values(by=['Driver'])\n",
    "\n",
    "    df = px.data.gapminder().query(\"continent=='Oceania'\")\n",
    "    fig = px.line(lap_driver_sf, x=\"laps\", y=\"position\", color='Driver', color_discrete_map=color_map, title=\"Qualifying to Finish\", labels={\n",
    "    \"position\": \"Start Position\",\n",
    "    \"laps\":\"Lap (Start/Finish Only)\"\n",
    "    })\n",
    "    fig.update_layout(title_text='<b>Qualifying To Finish</b>', titlefont = dict(\n",
    "         family = 'Arial, sans-serif',\n",
    "         size = 30\n",
    "      ), title_x=0.5)\n",
    "\n",
    "\n",
    "    button_all = dict(label = 'All',\n",
    "                      method = 'update',\n",
    "                      args = [{'visible': [True]*len(names),\n",
    "                               'title': 'All',\n",
    "                               'showlegend':True}])\n",
    "\n",
    "    def create_layout_button(column):\n",
    "        return dict(label = column,\n",
    "                    method = 'update',\n",
    "                    args = [{'visible': [c == column for c in names],\n",
    "                             'title': column,\n",
    "                             'showlegend': True}])\n",
    "\n",
    "    fig.update_layout(\n",
    "        updatemenus=[go.layout.Updatemenu(\n",
    "            active = 0,\n",
    "            buttons = ([button_all] * addAll) + [create_layout_button(column) for column in names]\n",
    "            )\n",
    "        ])\n",
    "    \n",
    "    fig.show()\n",
    "    \n",
    "mapping = list(color_map.keys())\n",
    "mapping.sort()\n",
    "multi_st_fin_plot(mapping)"
   ]
  },
  {
   "cell_type": "code",
   "execution_count": 19,
   "id": "0370fcd8",
   "metadata": {
    "_kg_hide-input": true,
    "execution": {
     "iopub.execute_input": "2023-11-10T04:04:52.233647Z",
     "iopub.status.busy": "2023-11-10T04:04:52.233139Z",
     "iopub.status.idle": "2023-11-10T04:04:52.242367Z",
     "shell.execute_reply": "2023-11-10T04:04:52.240885Z"
    },
    "papermill": {
     "duration": 0.034815,
     "end_time": "2023-11-10T04:04:52.245175",
     "exception": false,
     "start_time": "2023-11-10T04:04:52.210360",
     "status": "completed"
    },
    "tags": []
   },
   "outputs": [
    {
     "data": {
      "text/markdown": [
       "# <div style='background:#FF1801; border:0; color:black; box-shadow: 10px 10px 5px 0px rgba(0,0,0,0.75); transform: rotateX(10deg);'><h1 style='padding: 10px; margin: 0; text-align:center;'><span style='font-size: 30px;'>Sprint Results</span></h1></div>"
      ],
      "text/plain": [
       "<IPython.core.display.Markdown object>"
      ]
     },
     "metadata": {},
     "output_type": "display_data"
    }
   ],
   "source": [
    "if not  SPRINT_EMPTY:\n",
    "    display(md(f\"# <div style='background:#FF1801; border:0; color:black; box-shadow: 10px 10px 5px 0px rgba(0,0,0,0.75); transform: rotateX(10deg);'><h1 style='padding: 10px; margin: 0; text-align:center;'><span style='font-size: 30px;'>Sprint Results</span></h1></div>\"))"
   ]
  },
  {
   "cell_type": "code",
   "execution_count": 20,
   "id": "b85aa647",
   "metadata": {
    "_kg_hide-input": true,
    "execution": {
     "iopub.execute_input": "2023-11-10T04:04:52.289224Z",
     "iopub.status.busy": "2023-11-10T04:04:52.288677Z",
     "iopub.status.idle": "2023-11-10T04:04:52.316747Z",
     "shell.execute_reply": "2023-11-10T04:04:52.315000Z"
    },
    "papermill": {
     "duration": 0.053789,
     "end_time": "2023-11-10T04:04:52.319810",
     "exception": false,
     "start_time": "2023-11-10T04:04:52.266021",
     "status": "completed"
    },
    "tags": []
   },
   "outputs": [
    {
     "data": {
      "text/html": [
       "<style type=\"text/css\">\n",
       "#T_64656_row0_col1, #T_64656_row1_col2, #T_64656_row6_col3 {\n",
       "  background-color: #c6e9b4;\n",
       "  color: #000000;\n",
       "}\n",
       "#T_64656_row0_col2, #T_64656_row1_col1, #T_64656_row7_col3, #T_64656_row8_col3, #T_64656_row9_col3, #T_64656_row10_col3, #T_64656_row11_col3, #T_64656_row12_col3, #T_64656_row13_col3, #T_64656_row14_col3, #T_64656_row15_col3, #T_64656_row16_col3, #T_64656_row17_col3, #T_64656_row18_col3, #T_64656_row19_col3 {\n",
       "  background-color: #ffffd9;\n",
       "  color: #000000;\n",
       "}\n",
       "#T_64656_row0_col3, #T_64656_row1_col3, #T_64656_row2_col3, #T_64656_row3_col3, #T_64656_row4_col1, #T_64656_row4_col2, #T_64656_row5_col1, #T_64656_row5_col2, #T_64656_row6_col1, #T_64656_row6_col2, #T_64656_row7_col1, #T_64656_row7_col2, #T_64656_row8_col1, #T_64656_row8_col2, #T_64656_row9_col1, #T_64656_row9_col2, #T_64656_row10_col1, #T_64656_row10_col2, #T_64656_row11_col1, #T_64656_row11_col2, #T_64656_row12_col1, #T_64656_row12_col2, #T_64656_row13_col1, #T_64656_row13_col2, #T_64656_row14_col1, #T_64656_row14_col2, #T_64656_row15_col1, #T_64656_row15_col2, #T_64656_row16_col1, #T_64656_row16_col2, #T_64656_row17_col1, #T_64656_row17_col2, #T_64656_row18_col1, #T_64656_row18_col2, #T_64656_row19_col1, #T_64656_row19_col2 {\n",
       "  background-color: #081d58;\n",
       "  color: #f1f1f1;\n",
       "}\n",
       "#T_64656_row2_col1, #T_64656_row2_col2, #T_64656_row5_col3 {\n",
       "  background-color: #40b5c4;\n",
       "  color: #f1f1f1;\n",
       "}\n",
       "#T_64656_row3_col1, #T_64656_row3_col2, #T_64656_row4_col3 {\n",
       "  background-color: #225da8;\n",
       "  color: #f1f1f1;\n",
       "}\n",
       "</style>\n",
       "<table id=\"T_64656_\">\n",
       "  <caption>Sprint Results</caption>\n",
       "  <thead>\n",
       "    <tr>\n",
       "      <th class=\"col_heading level0 col0\" >Driver</th>\n",
       "      <th class=\"col_heading level0 col1\" >grid</th>\n",
       "      <th class=\"col_heading level0 col2\" >position</th>\n",
       "      <th class=\"col_heading level0 col3\" >points</th>\n",
       "      <th class=\"col_heading level0 col4\" >status</th>\n",
       "    </tr>\n",
       "  </thead>\n",
       "  <tbody>\n",
       "    <tr>\n",
       "      <td id=\"T_64656_row0_col0\" class=\"data row0 col0\" >VER</td>\n",
       "      <td id=\"T_64656_row0_col1\" class=\"data row0 col1\" >2</td>\n",
       "      <td id=\"T_64656_row0_col2\" class=\"data row0 col2\" >1</td>\n",
       "      <td id=\"T_64656_row0_col3\" class=\"data row0 col3\" >8.0</td>\n",
       "      <td id=\"T_64656_row0_col4\" class=\"data row0 col4\" >Finished</td>\n",
       "    </tr>\n",
       "    <tr>\n",
       "      <td id=\"T_64656_row1_col0\" class=\"data row1 col0\" >NOR</td>\n",
       "      <td id=\"T_64656_row1_col1\" class=\"data row1 col1\" >1</td>\n",
       "      <td id=\"T_64656_row1_col2\" class=\"data row1 col2\" >2</td>\n",
       "      <td id=\"T_64656_row1_col3\" class=\"data row1 col3\" >7.0</td>\n",
       "      <td id=\"T_64656_row1_col4\" class=\"data row1 col4\" >Finished</td>\n",
       "    </tr>\n",
       "    <tr>\n",
       "      <td id=\"T_64656_row2_col0\" class=\"data row2 col0\" >PER</td>\n",
       "      <td id=\"T_64656_row2_col1\" class=\"data row2 col1\" >3</td>\n",
       "      <td id=\"T_64656_row2_col2\" class=\"data row2 col2\" >3</td>\n",
       "      <td id=\"T_64656_row2_col3\" class=\"data row2 col3\" >6.0</td>\n",
       "      <td id=\"T_64656_row2_col4\" class=\"data row2 col4\" >Finished</td>\n",
       "    </tr>\n",
       "    <tr>\n",
       "      <td id=\"T_64656_row3_col0\" class=\"data row3 col0\" >RUS</td>\n",
       "      <td id=\"T_64656_row3_col1\" class=\"data row3 col1\" >4</td>\n",
       "      <td id=\"T_64656_row3_col2\" class=\"data row3 col2\" >4</td>\n",
       "      <td id=\"T_64656_row3_col3\" class=\"data row3 col3\" >5.0</td>\n",
       "      <td id=\"T_64656_row3_col4\" class=\"data row3 col4\" >Finished</td>\n",
       "    </tr>\n",
       "    <tr>\n",
       "      <td id=\"T_64656_row4_col0\" class=\"data row4 col0\" >LEC</td>\n",
       "      <td id=\"T_64656_row4_col1\" class=\"data row4 col1\" >7</td>\n",
       "      <td id=\"T_64656_row4_col2\" class=\"data row4 col2\" >5</td>\n",
       "      <td id=\"T_64656_row4_col3\" class=\"data row4 col3\" >4.0</td>\n",
       "      <td id=\"T_64656_row4_col4\" class=\"data row4 col4\" >Finished</td>\n",
       "    </tr>\n",
       "    <tr>\n",
       "      <td id=\"T_64656_row5_col0\" class=\"data row5 col0\" >TSU</td>\n",
       "      <td id=\"T_64656_row5_col1\" class=\"data row5 col1\" >6</td>\n",
       "      <td id=\"T_64656_row5_col2\" class=\"data row5 col2\" >6</td>\n",
       "      <td id=\"T_64656_row5_col3\" class=\"data row5 col3\" >3.0</td>\n",
       "      <td id=\"T_64656_row5_col4\" class=\"data row5 col4\" >Finished</td>\n",
       "    </tr>\n",
       "    <tr>\n",
       "      <td id=\"T_64656_row6_col0\" class=\"data row6 col0\" >HAM</td>\n",
       "      <td id=\"T_64656_row6_col1\" class=\"data row6 col1\" >5</td>\n",
       "      <td id=\"T_64656_row6_col2\" class=\"data row6 col2\" >7</td>\n",
       "      <td id=\"T_64656_row6_col3\" class=\"data row6 col3\" >2.0</td>\n",
       "      <td id=\"T_64656_row6_col4\" class=\"data row6 col4\" >Finished</td>\n",
       "    </tr>\n",
       "    <tr>\n",
       "      <td id=\"T_64656_row7_col0\" class=\"data row7 col0\" >SAI</td>\n",
       "      <td id=\"T_64656_row7_col1\" class=\"data row7 col1\" >9</td>\n",
       "      <td id=\"T_64656_row7_col2\" class=\"data row7 col2\" >8</td>\n",
       "      <td id=\"T_64656_row7_col3\" class=\"data row7 col3\" >1.0</td>\n",
       "      <td id=\"T_64656_row7_col4\" class=\"data row7 col4\" >Finished</td>\n",
       "    </tr>\n",
       "    <tr>\n",
       "      <td id=\"T_64656_row8_col0\" class=\"data row8 col0\" >RIC</td>\n",
       "      <td id=\"T_64656_row8_col1\" class=\"data row8 col1\" >8</td>\n",
       "      <td id=\"T_64656_row8_col2\" class=\"data row8 col2\" >9</td>\n",
       "      <td id=\"T_64656_row8_col3\" class=\"data row8 col3\" >0.0</td>\n",
       "      <td id=\"T_64656_row8_col4\" class=\"data row8 col4\" >Finished</td>\n",
       "    </tr>\n",
       "    <tr>\n",
       "      <td id=\"T_64656_row9_col0\" class=\"data row9 col0\" >PIA</td>\n",
       "      <td id=\"T_64656_row9_col1\" class=\"data row9 col1\" >10</td>\n",
       "      <td id=\"T_64656_row9_col2\" class=\"data row9 col2\" >10</td>\n",
       "      <td id=\"T_64656_row9_col3\" class=\"data row9 col3\" >0.0</td>\n",
       "      <td id=\"T_64656_row9_col4\" class=\"data row9 col4\" >Finished</td>\n",
       "    </tr>\n",
       "    <tr>\n",
       "      <td id=\"T_64656_row10_col0\" class=\"data row10 col0\" >ALO</td>\n",
       "      <td id=\"T_64656_row10_col1\" class=\"data row10 col1\" >15</td>\n",
       "      <td id=\"T_64656_row10_col2\" class=\"data row10 col2\" >11</td>\n",
       "      <td id=\"T_64656_row10_col3\" class=\"data row10 col3\" >0.0</td>\n",
       "      <td id=\"T_64656_row10_col4\" class=\"data row10 col4\" >Finished</td>\n",
       "    </tr>\n",
       "    <tr>\n",
       "      <td id=\"T_64656_row11_col0\" class=\"data row11 col0\" >STR</td>\n",
       "      <td id=\"T_64656_row11_col1\" class=\"data row11 col1\" >17</td>\n",
       "      <td id=\"T_64656_row11_col2\" class=\"data row11 col2\" >12</td>\n",
       "      <td id=\"T_64656_row11_col3\" class=\"data row11 col3\" >0.0</td>\n",
       "      <td id=\"T_64656_row11_col4\" class=\"data row11 col4\" >Finished</td>\n",
       "    </tr>\n",
       "    <tr>\n",
       "      <td id=\"T_64656_row12_col0\" class=\"data row12 col0\" >GAS</td>\n",
       "      <td id=\"T_64656_row12_col1\" class=\"data row12 col1\" >13</td>\n",
       "      <td id=\"T_64656_row12_col2\" class=\"data row12 col2\" >13</td>\n",
       "      <td id=\"T_64656_row12_col3\" class=\"data row12 col3\" >0.0</td>\n",
       "      <td id=\"T_64656_row12_col4\" class=\"data row12 col4\" >Finished</td>\n",
       "    </tr>\n",
       "    <tr>\n",
       "      <td id=\"T_64656_row13_col0\" class=\"data row13 col0\" >OCO</td>\n",
       "      <td id=\"T_64656_row13_col1\" class=\"data row13 col1\" >16</td>\n",
       "      <td id=\"T_64656_row13_col2\" class=\"data row13 col2\" >14</td>\n",
       "      <td id=\"T_64656_row13_col3\" class=\"data row13 col3\" >0.0</td>\n",
       "      <td id=\"T_64656_row13_col4\" class=\"data row13 col4\" >Finished</td>\n",
       "    </tr>\n",
       "    <tr>\n",
       "      <td id=\"T_64656_row14_col0\" class=\"data row14 col0\" >ALB</td>\n",
       "      <td id=\"T_64656_row14_col1\" class=\"data row14 col1\" >19</td>\n",
       "      <td id=\"T_64656_row14_col2\" class=\"data row14 col2\" >15</td>\n",
       "      <td id=\"T_64656_row14_col3\" class=\"data row14 col3\" >0.0</td>\n",
       "      <td id=\"T_64656_row14_col4\" class=\"data row14 col4\" >Finished</td>\n",
       "    </tr>\n",
       "    <tr>\n",
       "      <td id=\"T_64656_row15_col0\" class=\"data row15 col0\" >MAG</td>\n",
       "      <td id=\"T_64656_row15_col1\" class=\"data row15 col1\" >11</td>\n",
       "      <td id=\"T_64656_row15_col2\" class=\"data row15 col2\" >16</td>\n",
       "      <td id=\"T_64656_row15_col3\" class=\"data row15 col3\" >0.0</td>\n",
       "      <td id=\"T_64656_row15_col4\" class=\"data row15 col4\" >Finished</td>\n",
       "    </tr>\n",
       "    <tr>\n",
       "      <td id=\"T_64656_row16_col0\" class=\"data row16 col0\" >ZHO</td>\n",
       "      <td id=\"T_64656_row16_col1\" class=\"data row16 col1\" >18</td>\n",
       "      <td id=\"T_64656_row16_col2\" class=\"data row16 col2\" >17</td>\n",
       "      <td id=\"T_64656_row16_col3\" class=\"data row16 col3\" >0.0</td>\n",
       "      <td id=\"T_64656_row16_col4\" class=\"data row16 col4\" >Finished</td>\n",
       "    </tr>\n",
       "    <tr>\n",
       "      <td id=\"T_64656_row17_col0\" class=\"data row17 col0\" >HUL</td>\n",
       "      <td id=\"T_64656_row17_col1\" class=\"data row17 col1\" >12</td>\n",
       "      <td id=\"T_64656_row17_col2\" class=\"data row17 col2\" >18</td>\n",
       "      <td id=\"T_64656_row17_col3\" class=\"data row17 col3\" >0.0</td>\n",
       "      <td id=\"T_64656_row17_col4\" class=\"data row17 col4\" >Finished</td>\n",
       "    </tr>\n",
       "    <tr>\n",
       "      <td id=\"T_64656_row18_col0\" class=\"data row18 col0\" >BOT</td>\n",
       "      <td id=\"T_64656_row18_col1\" class=\"data row18 col1\" >14</td>\n",
       "      <td id=\"T_64656_row18_col2\" class=\"data row18 col2\" >19</td>\n",
       "      <td id=\"T_64656_row18_col3\" class=\"data row18 col3\" >0.0</td>\n",
       "      <td id=\"T_64656_row18_col4\" class=\"data row18 col4\" >Finished</td>\n",
       "    </tr>\n",
       "    <tr>\n",
       "      <td id=\"T_64656_row19_col0\" class=\"data row19 col0\" >SAR</td>\n",
       "      <td id=\"T_64656_row19_col1\" class=\"data row19 col1\" >20</td>\n",
       "      <td id=\"T_64656_row19_col2\" class=\"data row19 col2\" >20</td>\n",
       "      <td id=\"T_64656_row19_col3\" class=\"data row19 col3\" >0.0</td>\n",
       "      <td id=\"T_64656_row19_col4\" class=\"data row19 col4\" >Finished</td>\n",
       "    </tr>\n",
       "  </tbody>\n",
       "</table>\n"
      ],
      "text/plain": [
       "<pandas.io.formats.style.Styler at 0x7982e29accd0>"
      ]
     },
     "metadata": {},
     "output_type": "display_data"
    }
   ],
   "source": [
    "if not SPRINT_EMPTY:\n",
    "    display(sprint_results[['Driver', 'grid', 'position', 'points', 'status']].style.pipe(sprint_results_style))"
   ]
  },
  {
   "cell_type": "code",
   "execution_count": 21,
   "id": "718e6e16",
   "metadata": {
    "_kg_hide-input": true,
    "execution": {
     "iopub.execute_input": "2023-11-10T04:04:52.365447Z",
     "iopub.status.busy": "2023-11-10T04:04:52.364917Z",
     "iopub.status.idle": "2023-11-10T04:04:52.578607Z",
     "shell.execute_reply": "2023-11-10T04:04:52.576956Z"
    },
    "papermill": {
     "duration": 0.240696,
     "end_time": "2023-11-10T04:04:52.582092",
     "exception": false,
     "start_time": "2023-11-10T04:04:52.341396",
     "status": "completed"
    },
    "tags": []
   },
   "outputs": [
    {
     "data": {
      "text/html": [
       "<div>                            <div id=\"7204a3db-4b2a-4fa3-84ec-54abb31bf680\" class=\"plotly-graph-div\" style=\"height:525px; width:100%;\"></div>            <script type=\"text/javascript\">                require([\"plotly\"], function(Plotly) {                    window.PLOTLYENV=window.PLOTLYENV || {};                                    if (document.getElementById(\"7204a3db-4b2a-4fa3-84ec-54abb31bf680\")) {                    Plotly.newPlot(                        \"7204a3db-4b2a-4fa3-84ec-54abb31bf680\",                        [{\"hovertemplate\":\"Driver=ALB<br>Lap (Start/Finish Only)=%{x}<br>Start Position=%{y}<extra></extra>\",\"legendgroup\":\"ALB\",\"line\":{\"color\":\"#00A0DE\",\"dash\":\"solid\"},\"marker\":{\"symbol\":\"circle\"},\"mode\":\"lines\",\"name\":\"ALB\",\"orientation\":\"v\",\"showlegend\":true,\"x\":[24,0],\"xaxis\":\"x\",\"y\":[15.0,19.0],\"yaxis\":\"y\",\"type\":\"scatter\"},{\"hovertemplate\":\"Driver=ALO<br>Lap (Start/Finish Only)=%{x}<br>Start Position=%{y}<extra></extra>\",\"legendgroup\":\"ALO\",\"line\":{\"color\":\"#002420\",\"dash\":\"solid\"},\"marker\":{\"symbol\":\"circle\"},\"mode\":\"lines\",\"name\":\"ALO\",\"orientation\":\"v\",\"showlegend\":true,\"x\":[24,0],\"xaxis\":\"x\",\"y\":[11.0,15.0],\"yaxis\":\"y\",\"type\":\"scatter\"},{\"hovertemplate\":\"Driver=BOT<br>Lap (Start/Finish Only)=%{x}<br>Start Position=%{y}<extra></extra>\",\"legendgroup\":\"BOT\",\"line\":{\"color\":\"#A42134\",\"dash\":\"solid\"},\"marker\":{\"symbol\":\"circle\"},\"mode\":\"lines\",\"name\":\"BOT\",\"orientation\":\"v\",\"showlegend\":true,\"x\":[24,0],\"xaxis\":\"x\",\"y\":[19.0,14.0],\"yaxis\":\"y\",\"type\":\"scatter\"},{\"hovertemplate\":\"Driver=GAS<br>Lap (Start/Finish Only)=%{x}<br>Start Position=%{y}<extra></extra>\",\"legendgroup\":\"GAS\",\"line\":{\"color\":\"#2173B8\",\"dash\":\"solid\"},\"marker\":{\"symbol\":\"circle\"},\"mode\":\"lines\",\"name\":\"GAS\",\"orientation\":\"v\",\"showlegend\":true,\"x\":[24,0],\"xaxis\":\"x\",\"y\":[13.0,13.0],\"yaxis\":\"y\",\"type\":\"scatter\"},{\"hovertemplate\":\"Driver=HAM<br>Lap (Start/Finish Only)=%{x}<br>Start Position=%{y}<extra></extra>\",\"legendgroup\":\"HAM\",\"line\":{\"color\":\"#00A19B\",\"dash\":\"solid\"},\"marker\":{\"symbol\":\"circle\"},\"mode\":\"lines\",\"name\":\"HAM\",\"orientation\":\"v\",\"showlegend\":true,\"x\":[24,0],\"xaxis\":\"x\",\"y\":[7.0,5.0],\"yaxis\":\"y\",\"type\":\"scatter\"},{\"hovertemplate\":\"Driver=HUL<br>Lap (Start/Finish Only)=%{x}<br>Start Position=%{y}<extra></extra>\",\"legendgroup\":\"HUL\",\"line\":{\"color\":\"#E6002B\",\"dash\":\"solid\"},\"marker\":{\"symbol\":\"circle\"},\"mode\":\"lines\",\"name\":\"HUL\",\"orientation\":\"v\",\"showlegend\":true,\"x\":[24,0],\"xaxis\":\"x\",\"y\":[18.0,12.0],\"yaxis\":\"y\",\"type\":\"scatter\"},{\"hovertemplate\":\"Driver=LEC<br>Lap (Start/Finish Only)=%{x}<br>Start Position=%{y}<extra></extra>\",\"legendgroup\":\"LEC\",\"line\":{\"color\":\"#EF1A2D\",\"dash\":\"solid\"},\"marker\":{\"symbol\":\"circle\"},\"mode\":\"lines\",\"name\":\"LEC\",\"orientation\":\"v\",\"showlegend\":true,\"x\":[24,0],\"xaxis\":\"x\",\"y\":[5.0,7.0],\"yaxis\":\"y\",\"type\":\"scatter\"},{\"hovertemplate\":\"Driver=MAG<br>Lap (Start/Finish Only)=%{x}<br>Start Position=%{y}<extra></extra>\",\"legendgroup\":\"MAG\",\"line\":{\"color\":\"#E6002B\",\"dash\":\"solid\"},\"marker\":{\"symbol\":\"circle\"},\"mode\":\"lines\",\"name\":\"MAG\",\"orientation\":\"v\",\"showlegend\":true,\"x\":[0,24],\"xaxis\":\"x\",\"y\":[11.0,16.0],\"yaxis\":\"y\",\"type\":\"scatter\"},{\"hovertemplate\":\"Driver=NOR<br>Lap (Start/Finish Only)=%{x}<br>Start Position=%{y}<extra></extra>\",\"legendgroup\":\"NOR\",\"line\":{\"color\":\"#FF8000\",\"dash\":\"solid\"},\"marker\":{\"symbol\":\"circle\"},\"mode\":\"lines\",\"name\":\"NOR\",\"orientation\":\"v\",\"showlegend\":true,\"x\":[24,0],\"xaxis\":\"x\",\"y\":[2.0,1.0],\"yaxis\":\"y\",\"type\":\"scatter\"},{\"hovertemplate\":\"Driver=OCO<br>Lap (Start/Finish Only)=%{x}<br>Start Position=%{y}<extra></extra>\",\"legendgroup\":\"OCO\",\"line\":{\"color\":\"#2173B8\",\"dash\":\"solid\"},\"marker\":{\"symbol\":\"circle\"},\"mode\":\"lines\",\"name\":\"OCO\",\"orientation\":\"v\",\"showlegend\":true,\"x\":[24,0],\"xaxis\":\"x\",\"y\":[14.0,16.0],\"yaxis\":\"y\",\"type\":\"scatter\"},{\"hovertemplate\":\"Driver=PER<br>Lap (Start/Finish Only)=%{x}<br>Start Position=%{y}<extra></extra>\",\"legendgroup\":\"PER\",\"line\":{\"color\":\"#000B8D\",\"dash\":\"solid\"},\"marker\":{\"symbol\":\"circle\"},\"mode\":\"lines\",\"name\":\"PER\",\"orientation\":\"v\",\"showlegend\":true,\"x\":[24,0],\"xaxis\":\"x\",\"y\":[3.0,3.0],\"yaxis\":\"y\",\"type\":\"scatter\"},{\"hovertemplate\":\"Driver=PIA<br>Lap (Start/Finish Only)=%{x}<br>Start Position=%{y}<extra></extra>\",\"legendgroup\":\"PIA\",\"line\":{\"color\":\"#FF8000\",\"dash\":\"solid\"},\"marker\":{\"symbol\":\"circle\"},\"mode\":\"lines\",\"name\":\"PIA\",\"orientation\":\"v\",\"showlegend\":true,\"x\":[24,0],\"xaxis\":\"x\",\"y\":[10.0,10.0],\"yaxis\":\"y\",\"type\":\"scatter\"},{\"hovertemplate\":\"Driver=RIC<br>Lap (Start/Finish Only)=%{x}<br>Start Position=%{y}<extra></extra>\",\"legendgroup\":\"RIC\",\"line\":{\"color\":\"#20394C\",\"dash\":\"solid\"},\"marker\":{\"symbol\":\"circle\"},\"mode\":\"lines\",\"name\":\"RIC\",\"orientation\":\"v\",\"showlegend\":true,\"x\":[0,24],\"xaxis\":\"x\",\"y\":[8.0,9.0],\"yaxis\":\"y\",\"type\":\"scatter\"},{\"hovertemplate\":\"Driver=RUS<br>Lap (Start/Finish Only)=%{x}<br>Start Position=%{y}<extra></extra>\",\"legendgroup\":\"RUS\",\"line\":{\"color\":\"#00A19B\",\"dash\":\"solid\"},\"marker\":{\"symbol\":\"circle\"},\"mode\":\"lines\",\"name\":\"RUS\",\"orientation\":\"v\",\"showlegend\":true,\"x\":[24,0],\"xaxis\":\"x\",\"y\":[4.0,4.0],\"yaxis\":\"y\",\"type\":\"scatter\"},{\"hovertemplate\":\"Driver=SAI<br>Lap (Start/Finish Only)=%{x}<br>Start Position=%{y}<extra></extra>\",\"legendgroup\":\"SAI\",\"line\":{\"color\":\"#EF1A2D\",\"dash\":\"solid\"},\"marker\":{\"symbol\":\"circle\"},\"mode\":\"lines\",\"name\":\"SAI\",\"orientation\":\"v\",\"showlegend\":true,\"x\":[0,24],\"xaxis\":\"x\",\"y\":[9.0,8.0],\"yaxis\":\"y\",\"type\":\"scatter\"},{\"hovertemplate\":\"Driver=SAR<br>Lap (Start/Finish Only)=%{x}<br>Start Position=%{y}<extra></extra>\",\"legendgroup\":\"SAR\",\"line\":{\"color\":\"#00A0DE\",\"dash\":\"solid\"},\"marker\":{\"symbol\":\"circle\"},\"mode\":\"lines\",\"name\":\"SAR\",\"orientation\":\"v\",\"showlegend\":true,\"x\":[0,24],\"xaxis\":\"x\",\"y\":[20.0,20.0],\"yaxis\":\"y\",\"type\":\"scatter\"},{\"hovertemplate\":\"Driver=STR<br>Lap (Start/Finish Only)=%{x}<br>Start Position=%{y}<extra></extra>\",\"legendgroup\":\"STR\",\"line\":{\"color\":\"#002420\",\"dash\":\"solid\"},\"marker\":{\"symbol\":\"circle\"},\"mode\":\"lines\",\"name\":\"STR\",\"orientation\":\"v\",\"showlegend\":true,\"x\":[0,24],\"xaxis\":\"x\",\"y\":[17.0,12.0],\"yaxis\":\"y\",\"type\":\"scatter\"},{\"hovertemplate\":\"Driver=TSU<br>Lap (Start/Finish Only)=%{x}<br>Start Position=%{y}<extra></extra>\",\"legendgroup\":\"TSU\",\"line\":{\"color\":\"#20394C\",\"dash\":\"solid\"},\"marker\":{\"symbol\":\"circle\"},\"mode\":\"lines\",\"name\":\"TSU\",\"orientation\":\"v\",\"showlegend\":true,\"x\":[24,0],\"xaxis\":\"x\",\"y\":[6.0,6.0],\"yaxis\":\"y\",\"type\":\"scatter\"},{\"hovertemplate\":\"Driver=VER<br>Lap (Start/Finish Only)=%{x}<br>Start Position=%{y}<extra></extra>\",\"legendgroup\":\"VER\",\"line\":{\"color\":\"#000B8D\",\"dash\":\"solid\"},\"marker\":{\"symbol\":\"circle\"},\"mode\":\"lines\",\"name\":\"VER\",\"orientation\":\"v\",\"showlegend\":true,\"x\":[24,0],\"xaxis\":\"x\",\"y\":[1.0,2.0],\"yaxis\":\"y\",\"type\":\"scatter\"},{\"hovertemplate\":\"Driver=ZHO<br>Lap (Start/Finish Only)=%{x}<br>Start Position=%{y}<extra></extra>\",\"legendgroup\":\"ZHO\",\"line\":{\"color\":\"#A42134\",\"dash\":\"solid\"},\"marker\":{\"symbol\":\"circle\"},\"mode\":\"lines\",\"name\":\"ZHO\",\"orientation\":\"v\",\"showlegend\":true,\"x\":[0,24],\"xaxis\":\"x\",\"y\":[18.0,17.0],\"yaxis\":\"y\",\"type\":\"scatter\"}],                        {\"template\":{\"data\":{\"histogram2dcontour\":[{\"type\":\"histogram2dcontour\",\"colorbar\":{\"outlinewidth\":0,\"ticks\":\"\"},\"colorscale\":[[0.0,\"#0d0887\"],[0.1111111111111111,\"#46039f\"],[0.2222222222222222,\"#7201a8\"],[0.3333333333333333,\"#9c179e\"],[0.4444444444444444,\"#bd3786\"],[0.5555555555555556,\"#d8576b\"],[0.6666666666666666,\"#ed7953\"],[0.7777777777777778,\"#fb9f3a\"],[0.8888888888888888,\"#fdca26\"],[1.0,\"#f0f921\"]]}],\"choropleth\":[{\"type\":\"choropleth\",\"colorbar\":{\"outlinewidth\":0,\"ticks\":\"\"}}],\"histogram2d\":[{\"type\":\"histogram2d\",\"colorbar\":{\"outlinewidth\":0,\"ticks\":\"\"},\"colorscale\":[[0.0,\"#0d0887\"],[0.1111111111111111,\"#46039f\"],[0.2222222222222222,\"#7201a8\"],[0.3333333333333333,\"#9c179e\"],[0.4444444444444444,\"#bd3786\"],[0.5555555555555556,\"#d8576b\"],[0.6666666666666666,\"#ed7953\"],[0.7777777777777778,\"#fb9f3a\"],[0.8888888888888888,\"#fdca26\"],[1.0,\"#f0f921\"]]}],\"heatmap\":[{\"type\":\"heatmap\",\"colorbar\":{\"outlinewidth\":0,\"ticks\":\"\"},\"colorscale\":[[0.0,\"#0d0887\"],[0.1111111111111111,\"#46039f\"],[0.2222222222222222,\"#7201a8\"],[0.3333333333333333,\"#9c179e\"],[0.4444444444444444,\"#bd3786\"],[0.5555555555555556,\"#d8576b\"],[0.6666666666666666,\"#ed7953\"],[0.7777777777777778,\"#fb9f3a\"],[0.8888888888888888,\"#fdca26\"],[1.0,\"#f0f921\"]]}],\"heatmapgl\":[{\"type\":\"heatmapgl\",\"colorbar\":{\"outlinewidth\":0,\"ticks\":\"\"},\"colorscale\":[[0.0,\"#0d0887\"],[0.1111111111111111,\"#46039f\"],[0.2222222222222222,\"#7201a8\"],[0.3333333333333333,\"#9c179e\"],[0.4444444444444444,\"#bd3786\"],[0.5555555555555556,\"#d8576b\"],[0.6666666666666666,\"#ed7953\"],[0.7777777777777778,\"#fb9f3a\"],[0.8888888888888888,\"#fdca26\"],[1.0,\"#f0f921\"]]}],\"contourcarpet\":[{\"type\":\"contourcarpet\",\"colorbar\":{\"outlinewidth\":0,\"ticks\":\"\"}}],\"contour\":[{\"type\":\"contour\",\"colorbar\":{\"outlinewidth\":0,\"ticks\":\"\"},\"colorscale\":[[0.0,\"#0d0887\"],[0.1111111111111111,\"#46039f\"],[0.2222222222222222,\"#7201a8\"],[0.3333333333333333,\"#9c179e\"],[0.4444444444444444,\"#bd3786\"],[0.5555555555555556,\"#d8576b\"],[0.6666666666666666,\"#ed7953\"],[0.7777777777777778,\"#fb9f3a\"],[0.8888888888888888,\"#fdca26\"],[1.0,\"#f0f921\"]]}],\"surface\":[{\"type\":\"surface\",\"colorbar\":{\"outlinewidth\":0,\"ticks\":\"\"},\"colorscale\":[[0.0,\"#0d0887\"],[0.1111111111111111,\"#46039f\"],[0.2222222222222222,\"#7201a8\"],[0.3333333333333333,\"#9c179e\"],[0.4444444444444444,\"#bd3786\"],[0.5555555555555556,\"#d8576b\"],[0.6666666666666666,\"#ed7953\"],[0.7777777777777778,\"#fb9f3a\"],[0.8888888888888888,\"#fdca26\"],[1.0,\"#f0f921\"]]}],\"mesh3d\":[{\"type\":\"mesh3d\",\"colorbar\":{\"outlinewidth\":0,\"ticks\":\"\"}}],\"scatter\":[{\"fillpattern\":{\"fillmode\":\"overlay\",\"size\":10,\"solidity\":0.2},\"type\":\"scatter\"}],\"parcoords\":[{\"type\":\"parcoords\",\"line\":{\"colorbar\":{\"outlinewidth\":0,\"ticks\":\"\"}}}],\"scatterpolargl\":[{\"type\":\"scatterpolargl\",\"marker\":{\"colorbar\":{\"outlinewidth\":0,\"ticks\":\"\"}}}],\"bar\":[{\"error_x\":{\"color\":\"#2a3f5f\"},\"error_y\":{\"color\":\"#2a3f5f\"},\"marker\":{\"line\":{\"color\":\"#E5ECF6\",\"width\":0.5},\"pattern\":{\"fillmode\":\"overlay\",\"size\":10,\"solidity\":0.2}},\"type\":\"bar\"}],\"scattergeo\":[{\"type\":\"scattergeo\",\"marker\":{\"colorbar\":{\"outlinewidth\":0,\"ticks\":\"\"}}}],\"scatterpolar\":[{\"type\":\"scatterpolar\",\"marker\":{\"colorbar\":{\"outlinewidth\":0,\"ticks\":\"\"}}}],\"histogram\":[{\"marker\":{\"pattern\":{\"fillmode\":\"overlay\",\"size\":10,\"solidity\":0.2}},\"type\":\"histogram\"}],\"scattergl\":[{\"type\":\"scattergl\",\"marker\":{\"colorbar\":{\"outlinewidth\":0,\"ticks\":\"\"}}}],\"scatter3d\":[{\"type\":\"scatter3d\",\"line\":{\"colorbar\":{\"outlinewidth\":0,\"ticks\":\"\"}},\"marker\":{\"colorbar\":{\"outlinewidth\":0,\"ticks\":\"\"}}}],\"scattermapbox\":[{\"type\":\"scattermapbox\",\"marker\":{\"colorbar\":{\"outlinewidth\":0,\"ticks\":\"\"}}}],\"scatterternary\":[{\"type\":\"scatterternary\",\"marker\":{\"colorbar\":{\"outlinewidth\":0,\"ticks\":\"\"}}}],\"scattercarpet\":[{\"type\":\"scattercarpet\",\"marker\":{\"colorbar\":{\"outlinewidth\":0,\"ticks\":\"\"}}}],\"carpet\":[{\"aaxis\":{\"endlinecolor\":\"#2a3f5f\",\"gridcolor\":\"white\",\"linecolor\":\"white\",\"minorgridcolor\":\"white\",\"startlinecolor\":\"#2a3f5f\"},\"baxis\":{\"endlinecolor\":\"#2a3f5f\",\"gridcolor\":\"white\",\"linecolor\":\"white\",\"minorgridcolor\":\"white\",\"startlinecolor\":\"#2a3f5f\"},\"type\":\"carpet\"}],\"table\":[{\"cells\":{\"fill\":{\"color\":\"#EBF0F8\"},\"line\":{\"color\":\"white\"}},\"header\":{\"fill\":{\"color\":\"#C8D4E3\"},\"line\":{\"color\":\"white\"}},\"type\":\"table\"}],\"barpolar\":[{\"marker\":{\"line\":{\"color\":\"#E5ECF6\",\"width\":0.5},\"pattern\":{\"fillmode\":\"overlay\",\"size\":10,\"solidity\":0.2}},\"type\":\"barpolar\"}],\"pie\":[{\"automargin\":true,\"type\":\"pie\"}]},\"layout\":{\"autotypenumbers\":\"strict\",\"colorway\":[\"#636efa\",\"#EF553B\",\"#00cc96\",\"#ab63fa\",\"#FFA15A\",\"#19d3f3\",\"#FF6692\",\"#B6E880\",\"#FF97FF\",\"#FECB52\"],\"font\":{\"color\":\"#2a3f5f\"},\"hovermode\":\"closest\",\"hoverlabel\":{\"align\":\"left\"},\"paper_bgcolor\":\"white\",\"plot_bgcolor\":\"#E5ECF6\",\"polar\":{\"bgcolor\":\"#E5ECF6\",\"angularaxis\":{\"gridcolor\":\"white\",\"linecolor\":\"white\",\"ticks\":\"\"},\"radialaxis\":{\"gridcolor\":\"white\",\"linecolor\":\"white\",\"ticks\":\"\"}},\"ternary\":{\"bgcolor\":\"#E5ECF6\",\"aaxis\":{\"gridcolor\":\"white\",\"linecolor\":\"white\",\"ticks\":\"\"},\"baxis\":{\"gridcolor\":\"white\",\"linecolor\":\"white\",\"ticks\":\"\"},\"caxis\":{\"gridcolor\":\"white\",\"linecolor\":\"white\",\"ticks\":\"\"}},\"coloraxis\":{\"colorbar\":{\"outlinewidth\":0,\"ticks\":\"\"}},\"colorscale\":{\"sequential\":[[0.0,\"#0d0887\"],[0.1111111111111111,\"#46039f\"],[0.2222222222222222,\"#7201a8\"],[0.3333333333333333,\"#9c179e\"],[0.4444444444444444,\"#bd3786\"],[0.5555555555555556,\"#d8576b\"],[0.6666666666666666,\"#ed7953\"],[0.7777777777777778,\"#fb9f3a\"],[0.8888888888888888,\"#fdca26\"],[1.0,\"#f0f921\"]],\"sequentialminus\":[[0.0,\"#0d0887\"],[0.1111111111111111,\"#46039f\"],[0.2222222222222222,\"#7201a8\"],[0.3333333333333333,\"#9c179e\"],[0.4444444444444444,\"#bd3786\"],[0.5555555555555556,\"#d8576b\"],[0.6666666666666666,\"#ed7953\"],[0.7777777777777778,\"#fb9f3a\"],[0.8888888888888888,\"#fdca26\"],[1.0,\"#f0f921\"]],\"diverging\":[[0,\"#8e0152\"],[0.1,\"#c51b7d\"],[0.2,\"#de77ae\"],[0.3,\"#f1b6da\"],[0.4,\"#fde0ef\"],[0.5,\"#f7f7f7\"],[0.6,\"#e6f5d0\"],[0.7,\"#b8e186\"],[0.8,\"#7fbc41\"],[0.9,\"#4d9221\"],[1,\"#276419\"]]},\"xaxis\":{\"gridcolor\":\"white\",\"linecolor\":\"white\",\"ticks\":\"\",\"title\":{\"standoff\":15},\"zerolinecolor\":\"white\",\"automargin\":true,\"zerolinewidth\":2},\"yaxis\":{\"gridcolor\":\"white\",\"linecolor\":\"white\",\"ticks\":\"\",\"title\":{\"standoff\":15},\"zerolinecolor\":\"white\",\"automargin\":true,\"zerolinewidth\":2},\"scene\":{\"xaxis\":{\"backgroundcolor\":\"#E5ECF6\",\"gridcolor\":\"white\",\"linecolor\":\"white\",\"showbackground\":true,\"ticks\":\"\",\"zerolinecolor\":\"white\",\"gridwidth\":2},\"yaxis\":{\"backgroundcolor\":\"#E5ECF6\",\"gridcolor\":\"white\",\"linecolor\":\"white\",\"showbackground\":true,\"ticks\":\"\",\"zerolinecolor\":\"white\",\"gridwidth\":2},\"zaxis\":{\"backgroundcolor\":\"#E5ECF6\",\"gridcolor\":\"white\",\"linecolor\":\"white\",\"showbackground\":true,\"ticks\":\"\",\"zerolinecolor\":\"white\",\"gridwidth\":2}},\"shapedefaults\":{\"line\":{\"color\":\"#2a3f5f\"}},\"annotationdefaults\":{\"arrowcolor\":\"#2a3f5f\",\"arrowhead\":0,\"arrowwidth\":1},\"geo\":{\"bgcolor\":\"white\",\"landcolor\":\"#E5ECF6\",\"subunitcolor\":\"white\",\"showland\":true,\"showlakes\":true,\"lakecolor\":\"white\"},\"title\":{\"x\":0.05},\"mapbox\":{\"style\":\"light\"}}},\"xaxis\":{\"anchor\":\"y\",\"domain\":[0.0,1.0],\"title\":{\"text\":\"Lap (Start/Finish Only)\"}},\"yaxis\":{\"anchor\":\"x\",\"domain\":[0.0,1.0],\"title\":{\"text\":\"Start Position\"}},\"legend\":{\"title\":{\"text\":\"Driver\"},\"tracegroupgap\":0},\"title\":{\"text\":\"<b>Qualifying To Sprint Finish</b>\",\"font\":{\"family\":\"Arial, sans-serif\",\"size\":30},\"x\":0.5},\"updatemenus\":[{\"active\":0,\"buttons\":[{\"args\":[{\"visible\":[true,true,true,true,true,true,true,true,true,true,true,true,true,true,true,true,true,true,true,true],\"title\":\"All\",\"showlegend\":true}],\"label\":\"All\",\"method\":\"update\"},{\"args\":[{\"visible\":[true,false,false,false,false,false,false,false,false,false,false,false,false,false,false,false,false,false,false,false],\"title\":\"ALB\",\"showlegend\":true}],\"label\":\"ALB\",\"method\":\"update\"},{\"args\":[{\"visible\":[false,true,false,false,false,false,false,false,false,false,false,false,false,false,false,false,false,false,false,false],\"title\":\"ALO\",\"showlegend\":true}],\"label\":\"ALO\",\"method\":\"update\"},{\"args\":[{\"visible\":[false,false,true,false,false,false,false,false,false,false,false,false,false,false,false,false,false,false,false,false],\"title\":\"BOT\",\"showlegend\":true}],\"label\":\"BOT\",\"method\":\"update\"},{\"args\":[{\"visible\":[false,false,false,true,false,false,false,false,false,false,false,false,false,false,false,false,false,false,false,false],\"title\":\"GAS\",\"showlegend\":true}],\"label\":\"GAS\",\"method\":\"update\"},{\"args\":[{\"visible\":[false,false,false,false,true,false,false,false,false,false,false,false,false,false,false,false,false,false,false,false],\"title\":\"HAM\",\"showlegend\":true}],\"label\":\"HAM\",\"method\":\"update\"},{\"args\":[{\"visible\":[false,false,false,false,false,true,false,false,false,false,false,false,false,false,false,false,false,false,false,false],\"title\":\"HUL\",\"showlegend\":true}],\"label\":\"HUL\",\"method\":\"update\"},{\"args\":[{\"visible\":[false,false,false,false,false,false,true,false,false,false,false,false,false,false,false,false,false,false,false,false],\"title\":\"LEC\",\"showlegend\":true}],\"label\":\"LEC\",\"method\":\"update\"},{\"args\":[{\"visible\":[false,false,false,false,false,false,false,true,false,false,false,false,false,false,false,false,false,false,false,false],\"title\":\"MAG\",\"showlegend\":true}],\"label\":\"MAG\",\"method\":\"update\"},{\"args\":[{\"visible\":[false,false,false,false,false,false,false,false,true,false,false,false,false,false,false,false,false,false,false,false],\"title\":\"NOR\",\"showlegend\":true}],\"label\":\"NOR\",\"method\":\"update\"},{\"args\":[{\"visible\":[false,false,false,false,false,false,false,false,false,true,false,false,false,false,false,false,false,false,false,false],\"title\":\"OCO\",\"showlegend\":true}],\"label\":\"OCO\",\"method\":\"update\"},{\"args\":[{\"visible\":[false,false,false,false,false,false,false,false,false,false,true,false,false,false,false,false,false,false,false,false],\"title\":\"PER\",\"showlegend\":true}],\"label\":\"PER\",\"method\":\"update\"},{\"args\":[{\"visible\":[false,false,false,false,false,false,false,false,false,false,false,true,false,false,false,false,false,false,false,false],\"title\":\"PIA\",\"showlegend\":true}],\"label\":\"PIA\",\"method\":\"update\"},{\"args\":[{\"visible\":[false,false,false,false,false,false,false,false,false,false,false,false,true,false,false,false,false,false,false,false],\"title\":\"RIC\",\"showlegend\":true}],\"label\":\"RIC\",\"method\":\"update\"},{\"args\":[{\"visible\":[false,false,false,false,false,false,false,false,false,false,false,false,false,true,false,false,false,false,false,false],\"title\":\"RUS\",\"showlegend\":true}],\"label\":\"RUS\",\"method\":\"update\"},{\"args\":[{\"visible\":[false,false,false,false,false,false,false,false,false,false,false,false,false,false,true,false,false,false,false,false],\"title\":\"SAI\",\"showlegend\":true}],\"label\":\"SAI\",\"method\":\"update\"},{\"args\":[{\"visible\":[false,false,false,false,false,false,false,false,false,false,false,false,false,false,false,true,false,false,false,false],\"title\":\"SAR\",\"showlegend\":true}],\"label\":\"SAR\",\"method\":\"update\"},{\"args\":[{\"visible\":[false,false,false,false,false,false,false,false,false,false,false,false,false,false,false,false,true,false,false,false],\"title\":\"STR\",\"showlegend\":true}],\"label\":\"STR\",\"method\":\"update\"},{\"args\":[{\"visible\":[false,false,false,false,false,false,false,false,false,false,false,false,false,false,false,false,false,true,false,false],\"title\":\"TSU\",\"showlegend\":true}],\"label\":\"TSU\",\"method\":\"update\"},{\"args\":[{\"visible\":[false,false,false,false,false,false,false,false,false,false,false,false,false,false,false,false,false,false,true,false],\"title\":\"VER\",\"showlegend\":true}],\"label\":\"VER\",\"method\":\"update\"},{\"args\":[{\"visible\":[false,false,false,false,false,false,false,false,false,false,false,false,false,false,false,false,false,false,false,true],\"title\":\"ZHO\",\"showlegend\":true}],\"label\":\"ZHO\",\"method\":\"update\"}]}]},                        {\"responsive\": true}                    ).then(function(){\n",
       "                            \n",
       "var gd = document.getElementById('7204a3db-4b2a-4fa3-84ec-54abb31bf680');\n",
       "var x = new MutationObserver(function (mutations, observer) {{\n",
       "        var display = window.getComputedStyle(gd).display;\n",
       "        if (!display || display === 'none') {{\n",
       "            console.log([gd, 'removed!']);\n",
       "            Plotly.purge(gd);\n",
       "            observer.disconnect();\n",
       "        }}\n",
       "}});\n",
       "\n",
       "// Listen for the removal of the full notebook cells\n",
       "var notebookContainer = gd.closest('#notebook-container');\n",
       "if (notebookContainer) {{\n",
       "    x.observe(notebookContainer, {childList: true});\n",
       "}}\n",
       "\n",
       "// Listen for the clearing of the current output cell\n",
       "var outputEl = gd.closest('.output');\n",
       "if (outputEl) {{\n",
       "    x.observe(outputEl, {childList: true});\n",
       "}}\n",
       "\n",
       "                        })                };                });            </script>        </div>"
      ]
     },
     "metadata": {},
     "output_type": "display_data"
    }
   ],
   "source": [
    "def multi_st_fin_spr_plot(names, addAll = True):\n",
    "    fig = go.Figure()\n",
    "    \n",
    "    lap_driver_sf = sp_reduced_res[(sp_reduced_res['laps'] == 0) | (sp_reduced_res['laps'] == num_sprint_laps) | (sp_reduced_res['last_lap'] == 1)].copy()\n",
    "    lap_driver_sf['position'] = lap_driver_sf['position'].astype(float)\n",
    "    lap_driver_sf = lap_driver_sf.sort_values(by=['Driver'])\n",
    "\n",
    "    df = px.data.gapminder().query(\"continent=='Oceania'\")\n",
    "    fig = px.line(lap_driver_sf, x=\"laps\", y=\"position\", color='Driver', color_discrete_map=color_map, title=\"Qualifying to Sprint Finish\", labels={\n",
    "    \"position\": \"Start Position\",\n",
    "    \"laps\":\"Lap (Start/Finish Only)\"\n",
    "    })\n",
    "    fig.update_layout(title_text='<b>Qualifying To Sprint Finish</b>', titlefont = dict(\n",
    "         family = 'Arial, sans-serif',\n",
    "         size = 30\n",
    "      ), title_x=0.5)\n",
    "\n",
    "\n",
    "    button_all = dict(label = 'All',\n",
    "                      method = 'update',\n",
    "                      args = [{'visible': [True]*len(names),\n",
    "                               'title': 'All',\n",
    "                               'showlegend':True}])\n",
    "\n",
    "    def create_layout_button(column):\n",
    "        return dict(label = column,\n",
    "                    method = 'update',\n",
    "                    args = [{'visible': [c == column for c in names],\n",
    "                             'title': column,\n",
    "                             'showlegend': True}])\n",
    "\n",
    "    fig.update_layout(\n",
    "        updatemenus=[go.layout.Updatemenu(\n",
    "            active = 0,\n",
    "            buttons = ([button_all] * addAll) + [create_layout_button(column) for column in names]\n",
    "            )\n",
    "        ])\n",
    "    \n",
    "    fig.show()\n",
    "if not SPRINT_EMPTY:\n",
    "    mapping = list(color_map.keys())\n",
    "    mapping.sort()\n",
    "    multi_st_fin_spr_plot(mapping)"
   ]
  },
  {
   "cell_type": "code",
   "execution_count": 22,
   "id": "5974ea80",
   "metadata": {
    "_kg_hide-input": true,
    "execution": {
     "iopub.execute_input": "2023-11-10T04:04:52.628543Z",
     "iopub.status.busy": "2023-11-10T04:04:52.627330Z",
     "iopub.status.idle": "2023-11-10T04:04:52.636538Z",
     "shell.execute_reply": "2023-11-10T04:04:52.635076Z"
    },
    "papermill": {
     "duration": 0.036102,
     "end_time": "2023-11-10T04:04:52.639929",
     "exception": false,
     "start_time": "2023-11-10T04:04:52.603827",
     "status": "completed"
    },
    "tags": []
   },
   "outputs": [
    {
     "data": {
      "text/markdown": [
       "# <div style='background:#FF1801; border:0; color:black; box-shadow: 10px 10px 5px 0px rgba(0,0,0,0.75); transform: rotateX(10deg);'><h1 style='padding: 10px; margin: 0; text-align:center;'><span style='font-size: 30px;'>Pit Stops</span></h1></div>"
      ],
      "text/plain": [
       "<IPython.core.display.Markdown object>"
      ]
     },
     "metadata": {},
     "output_type": "display_data"
    }
   ],
   "source": [
    "display(md(f\"# <div style='background:#FF1801; border:0; color:black; box-shadow: 10px 10px 5px 0px rgba(0,0,0,0.75); transform: rotateX(10deg);'><h1 style='padding: 10px; margin: 0; text-align:center;'><span style='font-size: 30px;'>Pit Stops</span></h1></div>\"))"
   ]
  },
  {
   "cell_type": "code",
   "execution_count": 23,
   "id": "d7614a06",
   "metadata": {
    "_kg_hide-input": true,
    "execution": {
     "iopub.execute_input": "2023-11-10T04:04:52.684761Z",
     "iopub.status.busy": "2023-11-10T04:04:52.684306Z",
     "iopub.status.idle": "2023-11-10T04:04:52.890323Z",
     "shell.execute_reply": "2023-11-10T04:04:52.888946Z"
    },
    "papermill": {
     "duration": 0.231931,
     "end_time": "2023-11-10T04:04:52.893361",
     "exception": false,
     "start_time": "2023-11-10T04:04:52.661430",
     "status": "completed"
    },
    "tags": []
   },
   "outputs": [
    {
     "data": {
      "text/html": [
       "<div>                            <div id=\"2a51b09f-12da-4a83-ab8a-b66a4d864696\" class=\"plotly-graph-div\" style=\"height:525px; width:100%;\"></div>            <script type=\"text/javascript\">                require([\"plotly\"], function(Plotly) {                    window.PLOTLYENV=window.PLOTLYENV || {};                                    if (document.getElementById(\"2a51b09f-12da-4a83-ab8a-b66a4d864696\")) {                    Plotly.newPlot(                        \"2a51b09f-12da-4a83-ab8a-b66a4d864696\",                        [{\"alignmentgroup\":\"True\",\"base\":[\"2023-11-05T14:05:19\",\"2023-11-05T15:04:35\",\"2023-11-05T15:41:21\"],\"hovertemplate\":\"Driver=%{y}<br>time_date=%{base}<br>time_end_date=%{x}<extra></extra>\",\"legendgroup\":\"VER\",\"marker\":{\"color\":\"#000B8D\",\"pattern\":{\"shape\":\"\"}},\"name\":\"VER\",\"offsetgroup\":\"VER\",\"orientation\":\"h\",\"showlegend\":true,\"textposition\":\"auto\",\"x\":[18535.0,22994.0,23397.0],\"xaxis\":\"x\",\"y\":[\"VER\",\"VER\",\"VER\"],\"yaxis\":\"y\",\"type\":\"bar\"},{\"alignmentgroup\":\"True\",\"base\":[\"2023-11-05T14:05:21\",\"2023-11-05T15:04:39\",\"2023-11-05T15:45:16\"],\"hovertemplate\":\"Driver=%{y}<br>time_date=%{base}<br>time_end_date=%{x}<extra></extra>\",\"legendgroup\":\"NOR\",\"marker\":{\"color\":\"#FF8000\",\"pattern\":{\"shape\":\"\"}},\"name\":\"NOR\",\"offsetgroup\":\"NOR\",\"orientation\":\"h\",\"showlegend\":true,\"textposition\":\"auto\",\"x\":[19386.0,23806.0,23664.0],\"xaxis\":\"x\",\"y\":[\"NOR\",\"NOR\",\"NOR\"],\"yaxis\":\"y\",\"type\":\"bar\"},{\"alignmentgroup\":\"True\",\"base\":[\"2023-11-05T14:05:24\",\"2023-11-05T14:53:23\",\"2023-11-05T15:29:28\"],\"hovertemplate\":\"Driver=%{y}<br>time_date=%{base}<br>time_end_date=%{x}<extra></extra>\",\"legendgroup\":\"HAM\",\"marker\":{\"color\":\"#00A19B\",\"pattern\":{\"shape\":\"\"}},\"name\":\"HAM\",\"offsetgroup\":\"HAM\",\"orientation\":\"h\",\"showlegend\":true,\"textposition\":\"auto\",\"x\":[18521.0,23571.0,24074.0],\"xaxis\":\"x\",\"y\":[\"HAM\",\"HAM\",\"HAM\"],\"yaxis\":\"y\",\"type\":\"bar\"},{\"alignmentgroup\":\"True\",\"base\":[\"2023-11-05T14:05:26\",\"2023-11-05T15:02:12\",\"2023-11-05T15:30:25\"],\"hovertemplate\":\"Driver=%{y}<br>time_date=%{base}<br>time_end_date=%{x}<extra></extra>\",\"legendgroup\":\"ALO\",\"marker\":{\"color\":\"#002420\",\"pattern\":{\"shape\":\"\"}},\"name\":\"ALO\",\"offsetgroup\":\"ALO\",\"orientation\":\"h\",\"showlegend\":true,\"textposition\":\"auto\",\"x\":[18487.0,24204.0,23830.0],\"xaxis\":\"x\",\"y\":[\"ALO\",\"ALO\",\"ALO\"],\"yaxis\":\"y\",\"type\":\"bar\"},{\"alignmentgroup\":\"True\",\"base\":[\"2023-11-05T14:05:28\",\"2023-11-05T14:58:34\",\"2023-11-05T15:36:55\"],\"hovertemplate\":\"Driver=%{y}<br>time_date=%{base}<br>time_end_date=%{x}<extra></extra>\",\"legendgroup\":\"STR\",\"marker\":{\"color\":\"#002420\",\"pattern\":{\"shape\":\"\"}},\"name\":\"STR\",\"offsetgroup\":\"STR\",\"orientation\":\"h\",\"showlegend\":true,\"textposition\":\"auto\",\"x\":[18504.0,23558.0,25294.0],\"xaxis\":\"x\",\"y\":[\"STR\",\"STR\",\"STR\"],\"yaxis\":\"y\",\"type\":\"bar\"},{\"alignmentgroup\":\"True\",\"base\":[\"2023-11-05T14:05:30\",\"2023-11-05T14:54:41\",\"2023-11-05T15:28:17\"],\"hovertemplate\":\"Driver=%{y}<br>time_date=%{base}<br>time_end_date=%{x}<extra></extra>\",\"legendgroup\":\"RUS\",\"marker\":{\"color\":\"#00A19B\",\"pattern\":{\"shape\":\"\"}},\"name\":\"RUS\",\"offsetgroup\":\"RUS\",\"orientation\":\"h\",\"showlegend\":true,\"textposition\":\"auto\",\"x\":[20449.0,23730.0,23962.0],\"xaxis\":\"x\",\"y\":[\"RUS\",\"RUS\",\"RUS\"],\"yaxis\":\"y\",\"type\":\"bar\"},{\"alignmentgroup\":\"True\",\"base\":[\"2023-11-05T14:05:32\",\"2023-11-05T14:55:57\",\"2023-11-05T15:29:13\"],\"hovertemplate\":\"Driver=%{y}<br>time_date=%{base}<br>time_end_date=%{x}<extra></extra>\",\"legendgroup\":\"PER\",\"marker\":{\"color\":\"#000B8D\",\"pattern\":{\"shape\":\"\"}},\"name\":\"PER\",\"offsetgroup\":\"PER\",\"orientation\":\"h\",\"showlegend\":true,\"textposition\":\"auto\",\"x\":[20811.0,23164.0,23522.0],\"xaxis\":\"x\",\"y\":[\"PER\",\"PER\",\"PER\"],\"yaxis\":\"y\",\"type\":\"bar\"},{\"alignmentgroup\":\"True\",\"base\":[\"2023-11-05T14:05:33\",\"2023-11-05T15:03:43\",\"2023-11-05T15:35:44\"],\"hovertemplate\":\"Driver=%{y}<br>time_date=%{base}<br>time_end_date=%{x}<extra></extra>\",\"legendgroup\":\"SAI\",\"marker\":{\"color\":\"#EF1A2D\",\"pattern\":{\"shape\":\"\"}},\"name\":\"SAI\",\"offsetgroup\":\"SAI\",\"orientation\":\"h\",\"showlegend\":true,\"textposition\":\"auto\",\"x\":[23030.0,23557.0,23704.0],\"xaxis\":\"x\",\"y\":[\"SAI\",\"SAI\",\"SAI\"],\"yaxis\":\"y\",\"type\":\"bar\"},{\"alignmentgroup\":\"True\",\"base\":[\"2023-11-05T14:05:35\",\"2023-11-05T14:48:20\",\"2023-11-05T15:10:28\",\"2023-11-05T15:36:12\"],\"hovertemplate\":\"Driver=%{y}<br>time_date=%{base}<br>time_end_date=%{x}<extra></extra>\",\"legendgroup\":\"OCO\",\"marker\":{\"color\":\"#2173B8\",\"pattern\":{\"shape\":\"\"}},\"name\":\"OCO\",\"offsetgroup\":\"OCO\",\"orientation\":\"h\",\"showlegend\":true,\"textposition\":\"auto\",\"x\":[22209.0,24037.0,24406.0,23599.0],\"xaxis\":\"x\",\"y\":[\"OCO\",\"OCO\",\"OCO\",\"OCO\"],\"yaxis\":\"y\",\"type\":\"bar\"},{\"alignmentgroup\":\"True\",\"base\":[\"2023-11-05T14:05:39\",\"2023-11-05T15:03:48\",\"2023-11-05T15:41:00\"],\"hovertemplate\":\"Driver=%{y}<br>time_date=%{base}<br>time_end_date=%{x}<extra></extra>\",\"legendgroup\":\"TSU\",\"marker\":{\"color\":\"#20394C\",\"pattern\":{\"shape\":\"\"}},\"name\":\"TSU\",\"offsetgroup\":\"TSU\",\"orientation\":\"h\",\"showlegend\":true,\"textposition\":\"auto\",\"x\":[20969.0,27114.0,23453.0],\"xaxis\":\"x\",\"y\":[\"TSU\",\"TSU\",\"TSU\"],\"yaxis\":\"y\",\"type\":\"bar\"},{\"alignmentgroup\":\"True\",\"base\":[\"2023-11-05T14:05:40\",\"2023-11-05T15:03:46\",\"2023-11-05T15:29:32\"],\"hovertemplate\":\"Driver=%{y}<br>time_date=%{base}<br>time_end_date=%{x}<extra></extra>\",\"legendgroup\":\"GAS\",\"marker\":{\"color\":\"#2173B8\",\"pattern\":{\"shape\":\"\"}},\"name\":\"GAS\",\"offsetgroup\":\"GAS\",\"orientation\":\"h\",\"showlegend\":true,\"textposition\":\"auto\",\"x\":[20523.0,25295.0,23583.0],\"xaxis\":\"x\",\"y\":[\"GAS\",\"GAS\",\"GAS\"],\"yaxis\":\"y\",\"type\":\"bar\"},{\"alignmentgroup\":\"True\",\"base\":[\"2023-11-05T14:05:41\",\"2023-11-05T14:53:31\"],\"hovertemplate\":\"Driver=%{y}<br>time_date=%{base}<br>time_end_date=%{x}<extra></extra>\",\"legendgroup\":\"BOT\",\"marker\":{\"color\":\"#A42134\",\"pattern\":{\"shape\":\"\"}},\"name\":\"BOT\",\"offsetgroup\":\"BOT\",\"orientation\":\"h\",\"showlegend\":true,\"textposition\":\"auto\",\"x\":[20732.0,24077.0],\"xaxis\":\"x\",\"y\":[\"BOT\",\"BOT\"],\"yaxis\":\"y\",\"type\":\"bar\"},{\"alignmentgroup\":\"True\",\"base\":[\"2023-11-05T14:05:45\",\"2023-11-05T14:49:40\"],\"hovertemplate\":\"Driver=%{y}<br>time_date=%{base}<br>time_end_date=%{x}<extra></extra>\",\"legendgroup\":\"ZHO\",\"marker\":{\"color\":\"#A42134\",\"pattern\":{\"shape\":\"\"}},\"name\":\"ZHO\",\"offsetgroup\":\"ZHO\",\"orientation\":\"h\",\"showlegend\":true,\"textposition\":\"auto\",\"x\":[21256.0,23953.0],\"xaxis\":\"x\",\"y\":[\"ZHO\",\"ZHO\"],\"yaxis\":\"y\",\"type\":\"bar\"},{\"alignmentgroup\":\"True\",\"base\":[\"2023-11-05T14:05:46\",\"2023-11-05T14:52:18\",\"2023-11-05T15:27:16\"],\"hovertemplate\":\"Driver=%{y}<br>time_date=%{base}<br>time_end_date=%{x}<extra></extra>\",\"legendgroup\":\"SAR\",\"marker\":{\"color\":\"#00A0DE\",\"pattern\":{\"shape\":\"\"}},\"name\":\"SAR\",\"offsetgroup\":\"SAR\",\"orientation\":\"h\",\"showlegend\":true,\"textposition\":\"auto\",\"x\":[27472.0,24367.0,24137.0],\"xaxis\":\"x\",\"y\":[\"SAR\",\"SAR\",\"SAR\"],\"yaxis\":\"y\",\"type\":\"bar\"},{\"alignmentgroup\":\"True\",\"base\":[\"2023-11-05T14:05:49\",\"2023-11-05T14:57:33\",\"2023-11-05T15:30:00\"],\"hovertemplate\":\"Driver=%{y}<br>time_date=%{base}<br>time_end_date=%{x}<extra></extra>\",\"legendgroup\":\"HUL\",\"marker\":{\"color\":\"#E6002B\",\"pattern\":{\"shape\":\"\"}},\"name\":\"HUL\",\"offsetgroup\":\"HUL\",\"orientation\":\"h\",\"showlegend\":true,\"textposition\":\"auto\",\"x\":[34261.0,24401.0,23841.0],\"xaxis\":\"x\",\"y\":[\"HUL\",\"HUL\",\"HUL\"],\"yaxis\":\"y\",\"type\":\"bar\"},{\"alignmentgroup\":\"True\",\"base\":[\"2023-11-05T14:33:41\",\"2023-11-05T15:02:38\",\"2023-11-05T15:38:37\"],\"hovertemplate\":\"Driver=%{y}<br>time_date=%{base}<br>time_end_date=%{x}<extra></extra>\",\"legendgroup\":\"PIA\",\"marker\":{\"color\":\"#FF8000\",\"pattern\":{\"shape\":\"\"}},\"name\":\"PIA\",\"offsetgroup\":\"PIA\",\"orientation\":\"h\",\"showlegend\":true,\"textposition\":\"auto\",\"x\":[38489.0,23536.0,23338.0],\"xaxis\":\"x\",\"y\":[\"PIA\",\"PIA\",\"PIA\"],\"yaxis\":\"y\",\"type\":\"bar\"},{\"alignmentgroup\":\"True\",\"base\":[\"2023-11-05T14:33:47\",\"2023-11-05T15:05:07\",\"2023-11-05T15:42:16\"],\"hovertemplate\":\"Driver=%{y}<br>time_date=%{base}<br>time_end_date=%{x}<extra></extra>\",\"legendgroup\":\"RIC\",\"marker\":{\"color\":\"#20394C\",\"pattern\":{\"shape\":\"\"}},\"name\":\"RIC\",\"offsetgroup\":\"RIC\",\"orientation\":\"h\",\"showlegend\":true,\"textposition\":\"auto\",\"x\":[32770.0,23955.0,23508.0],\"xaxis\":\"x\",\"y\":[\"RIC\",\"RIC\",\"RIC\"],\"yaxis\":\"y\",\"type\":\"bar\"}],                        {\"template\":{\"data\":{\"histogram2dcontour\":[{\"type\":\"histogram2dcontour\",\"colorbar\":{\"outlinewidth\":0,\"ticks\":\"\"},\"colorscale\":[[0.0,\"#0d0887\"],[0.1111111111111111,\"#46039f\"],[0.2222222222222222,\"#7201a8\"],[0.3333333333333333,\"#9c179e\"],[0.4444444444444444,\"#bd3786\"],[0.5555555555555556,\"#d8576b\"],[0.6666666666666666,\"#ed7953\"],[0.7777777777777778,\"#fb9f3a\"],[0.8888888888888888,\"#fdca26\"],[1.0,\"#f0f921\"]]}],\"choropleth\":[{\"type\":\"choropleth\",\"colorbar\":{\"outlinewidth\":0,\"ticks\":\"\"}}],\"histogram2d\":[{\"type\":\"histogram2d\",\"colorbar\":{\"outlinewidth\":0,\"ticks\":\"\"},\"colorscale\":[[0.0,\"#0d0887\"],[0.1111111111111111,\"#46039f\"],[0.2222222222222222,\"#7201a8\"],[0.3333333333333333,\"#9c179e\"],[0.4444444444444444,\"#bd3786\"],[0.5555555555555556,\"#d8576b\"],[0.6666666666666666,\"#ed7953\"],[0.7777777777777778,\"#fb9f3a\"],[0.8888888888888888,\"#fdca26\"],[1.0,\"#f0f921\"]]}],\"heatmap\":[{\"type\":\"heatmap\",\"colorbar\":{\"outlinewidth\":0,\"ticks\":\"\"},\"colorscale\":[[0.0,\"#0d0887\"],[0.1111111111111111,\"#46039f\"],[0.2222222222222222,\"#7201a8\"],[0.3333333333333333,\"#9c179e\"],[0.4444444444444444,\"#bd3786\"],[0.5555555555555556,\"#d8576b\"],[0.6666666666666666,\"#ed7953\"],[0.7777777777777778,\"#fb9f3a\"],[0.8888888888888888,\"#fdca26\"],[1.0,\"#f0f921\"]]}],\"heatmapgl\":[{\"type\":\"heatmapgl\",\"colorbar\":{\"outlinewidth\":0,\"ticks\":\"\"},\"colorscale\":[[0.0,\"#0d0887\"],[0.1111111111111111,\"#46039f\"],[0.2222222222222222,\"#7201a8\"],[0.3333333333333333,\"#9c179e\"],[0.4444444444444444,\"#bd3786\"],[0.5555555555555556,\"#d8576b\"],[0.6666666666666666,\"#ed7953\"],[0.7777777777777778,\"#fb9f3a\"],[0.8888888888888888,\"#fdca26\"],[1.0,\"#f0f921\"]]}],\"contourcarpet\":[{\"type\":\"contourcarpet\",\"colorbar\":{\"outlinewidth\":0,\"ticks\":\"\"}}],\"contour\":[{\"type\":\"contour\",\"colorbar\":{\"outlinewidth\":0,\"ticks\":\"\"},\"colorscale\":[[0.0,\"#0d0887\"],[0.1111111111111111,\"#46039f\"],[0.2222222222222222,\"#7201a8\"],[0.3333333333333333,\"#9c179e\"],[0.4444444444444444,\"#bd3786\"],[0.5555555555555556,\"#d8576b\"],[0.6666666666666666,\"#ed7953\"],[0.7777777777777778,\"#fb9f3a\"],[0.8888888888888888,\"#fdca26\"],[1.0,\"#f0f921\"]]}],\"surface\":[{\"type\":\"surface\",\"colorbar\":{\"outlinewidth\":0,\"ticks\":\"\"},\"colorscale\":[[0.0,\"#0d0887\"],[0.1111111111111111,\"#46039f\"],[0.2222222222222222,\"#7201a8\"],[0.3333333333333333,\"#9c179e\"],[0.4444444444444444,\"#bd3786\"],[0.5555555555555556,\"#d8576b\"],[0.6666666666666666,\"#ed7953\"],[0.7777777777777778,\"#fb9f3a\"],[0.8888888888888888,\"#fdca26\"],[1.0,\"#f0f921\"]]}],\"mesh3d\":[{\"type\":\"mesh3d\",\"colorbar\":{\"outlinewidth\":0,\"ticks\":\"\"}}],\"scatter\":[{\"fillpattern\":{\"fillmode\":\"overlay\",\"size\":10,\"solidity\":0.2},\"type\":\"scatter\"}],\"parcoords\":[{\"type\":\"parcoords\",\"line\":{\"colorbar\":{\"outlinewidth\":0,\"ticks\":\"\"}}}],\"scatterpolargl\":[{\"type\":\"scatterpolargl\",\"marker\":{\"colorbar\":{\"outlinewidth\":0,\"ticks\":\"\"}}}],\"bar\":[{\"error_x\":{\"color\":\"#2a3f5f\"},\"error_y\":{\"color\":\"#2a3f5f\"},\"marker\":{\"line\":{\"color\":\"#E5ECF6\",\"width\":0.5},\"pattern\":{\"fillmode\":\"overlay\",\"size\":10,\"solidity\":0.2}},\"type\":\"bar\"}],\"scattergeo\":[{\"type\":\"scattergeo\",\"marker\":{\"colorbar\":{\"outlinewidth\":0,\"ticks\":\"\"}}}],\"scatterpolar\":[{\"type\":\"scatterpolar\",\"marker\":{\"colorbar\":{\"outlinewidth\":0,\"ticks\":\"\"}}}],\"histogram\":[{\"marker\":{\"pattern\":{\"fillmode\":\"overlay\",\"size\":10,\"solidity\":0.2}},\"type\":\"histogram\"}],\"scattergl\":[{\"type\":\"scattergl\",\"marker\":{\"colorbar\":{\"outlinewidth\":0,\"ticks\":\"\"}}}],\"scatter3d\":[{\"type\":\"scatter3d\",\"line\":{\"colorbar\":{\"outlinewidth\":0,\"ticks\":\"\"}},\"marker\":{\"colorbar\":{\"outlinewidth\":0,\"ticks\":\"\"}}}],\"scattermapbox\":[{\"type\":\"scattermapbox\",\"marker\":{\"colorbar\":{\"outlinewidth\":0,\"ticks\":\"\"}}}],\"scatterternary\":[{\"type\":\"scatterternary\",\"marker\":{\"colorbar\":{\"outlinewidth\":0,\"ticks\":\"\"}}}],\"scattercarpet\":[{\"type\":\"scattercarpet\",\"marker\":{\"colorbar\":{\"outlinewidth\":0,\"ticks\":\"\"}}}],\"carpet\":[{\"aaxis\":{\"endlinecolor\":\"#2a3f5f\",\"gridcolor\":\"white\",\"linecolor\":\"white\",\"minorgridcolor\":\"white\",\"startlinecolor\":\"#2a3f5f\"},\"baxis\":{\"endlinecolor\":\"#2a3f5f\",\"gridcolor\":\"white\",\"linecolor\":\"white\",\"minorgridcolor\":\"white\",\"startlinecolor\":\"#2a3f5f\"},\"type\":\"carpet\"}],\"table\":[{\"cells\":{\"fill\":{\"color\":\"#EBF0F8\"},\"line\":{\"color\":\"white\"}},\"header\":{\"fill\":{\"color\":\"#C8D4E3\"},\"line\":{\"color\":\"white\"}},\"type\":\"table\"}],\"barpolar\":[{\"marker\":{\"line\":{\"color\":\"#E5ECF6\",\"width\":0.5},\"pattern\":{\"fillmode\":\"overlay\",\"size\":10,\"solidity\":0.2}},\"type\":\"barpolar\"}],\"pie\":[{\"automargin\":true,\"type\":\"pie\"}]},\"layout\":{\"autotypenumbers\":\"strict\",\"colorway\":[\"#636efa\",\"#EF553B\",\"#00cc96\",\"#ab63fa\",\"#FFA15A\",\"#19d3f3\",\"#FF6692\",\"#B6E880\",\"#FF97FF\",\"#FECB52\"],\"font\":{\"color\":\"#2a3f5f\"},\"hovermode\":\"closest\",\"hoverlabel\":{\"align\":\"left\"},\"paper_bgcolor\":\"white\",\"plot_bgcolor\":\"#E5ECF6\",\"polar\":{\"bgcolor\":\"#E5ECF6\",\"angularaxis\":{\"gridcolor\":\"white\",\"linecolor\":\"white\",\"ticks\":\"\"},\"radialaxis\":{\"gridcolor\":\"white\",\"linecolor\":\"white\",\"ticks\":\"\"}},\"ternary\":{\"bgcolor\":\"#E5ECF6\",\"aaxis\":{\"gridcolor\":\"white\",\"linecolor\":\"white\",\"ticks\":\"\"},\"baxis\":{\"gridcolor\":\"white\",\"linecolor\":\"white\",\"ticks\":\"\"},\"caxis\":{\"gridcolor\":\"white\",\"linecolor\":\"white\",\"ticks\":\"\"}},\"coloraxis\":{\"colorbar\":{\"outlinewidth\":0,\"ticks\":\"\"}},\"colorscale\":{\"sequential\":[[0.0,\"#0d0887\"],[0.1111111111111111,\"#46039f\"],[0.2222222222222222,\"#7201a8\"],[0.3333333333333333,\"#9c179e\"],[0.4444444444444444,\"#bd3786\"],[0.5555555555555556,\"#d8576b\"],[0.6666666666666666,\"#ed7953\"],[0.7777777777777778,\"#fb9f3a\"],[0.8888888888888888,\"#fdca26\"],[1.0,\"#f0f921\"]],\"sequentialminus\":[[0.0,\"#0d0887\"],[0.1111111111111111,\"#46039f\"],[0.2222222222222222,\"#7201a8\"],[0.3333333333333333,\"#9c179e\"],[0.4444444444444444,\"#bd3786\"],[0.5555555555555556,\"#d8576b\"],[0.6666666666666666,\"#ed7953\"],[0.7777777777777778,\"#fb9f3a\"],[0.8888888888888888,\"#fdca26\"],[1.0,\"#f0f921\"]],\"diverging\":[[0,\"#8e0152\"],[0.1,\"#c51b7d\"],[0.2,\"#de77ae\"],[0.3,\"#f1b6da\"],[0.4,\"#fde0ef\"],[0.5,\"#f7f7f7\"],[0.6,\"#e6f5d0\"],[0.7,\"#b8e186\"],[0.8,\"#7fbc41\"],[0.9,\"#4d9221\"],[1,\"#276419\"]]},\"xaxis\":{\"gridcolor\":\"white\",\"linecolor\":\"white\",\"ticks\":\"\",\"title\":{\"standoff\":15},\"zerolinecolor\":\"white\",\"automargin\":true,\"zerolinewidth\":2},\"yaxis\":{\"gridcolor\":\"white\",\"linecolor\":\"white\",\"ticks\":\"\",\"title\":{\"standoff\":15},\"zerolinecolor\":\"white\",\"automargin\":true,\"zerolinewidth\":2},\"scene\":{\"xaxis\":{\"backgroundcolor\":\"#E5ECF6\",\"gridcolor\":\"white\",\"linecolor\":\"white\",\"showbackground\":true,\"ticks\":\"\",\"zerolinecolor\":\"white\",\"gridwidth\":2},\"yaxis\":{\"backgroundcolor\":\"#E5ECF6\",\"gridcolor\":\"white\",\"linecolor\":\"white\",\"showbackground\":true,\"ticks\":\"\",\"zerolinecolor\":\"white\",\"gridwidth\":2},\"zaxis\":{\"backgroundcolor\":\"#E5ECF6\",\"gridcolor\":\"white\",\"linecolor\":\"white\",\"showbackground\":true,\"ticks\":\"\",\"zerolinecolor\":\"white\",\"gridwidth\":2}},\"shapedefaults\":{\"line\":{\"color\":\"#2a3f5f\"}},\"annotationdefaults\":{\"arrowcolor\":\"#2a3f5f\",\"arrowhead\":0,\"arrowwidth\":1},\"geo\":{\"bgcolor\":\"white\",\"landcolor\":\"#E5ECF6\",\"subunitcolor\":\"white\",\"showland\":true,\"showlakes\":true,\"lakecolor\":\"white\"},\"title\":{\"x\":0.05},\"mapbox\":{\"style\":\"light\"}}},\"xaxis\":{\"anchor\":\"y\",\"domain\":[0.0,1.0],\"type\":\"date\"},\"yaxis\":{\"anchor\":\"x\",\"domain\":[0.0,1.0],\"title\":{\"text\":\"Driver\"},\"categoryorder\":\"array\",\"categoryarray\":[\"RIC\",\"PIA\",\"HUL\",\"SAR\",\"ZHO\",\"BOT\",\"GAS\",\"TSU\",\"OCO\",\"SAI\",\"PER\",\"RUS\",\"STR\",\"ALO\",\"HAM\",\"NOR\",\"VER\"]},\"legend\":{\"title\":{\"text\":\"Driver\"},\"tracegroupgap\":0},\"margin\":{\"t\":60},\"barmode\":\"overlay\",\"showlegend\":false,\"title\":{\"font\":{\"family\":\"Arial, sans-serif\",\"size\":30},\"text\":\"<b>Pit Strategy</b>\",\"x\":0.5}},                        {\"responsive\": true}                    ).then(function(){\n",
       "                            \n",
       "var gd = document.getElementById('2a51b09f-12da-4a83-ab8a-b66a4d864696');\n",
       "var x = new MutationObserver(function (mutations, observer) {{\n",
       "        var display = window.getComputedStyle(gd).display;\n",
       "        if (!display || display === 'none') {{\n",
       "            console.log([gd, 'removed!']);\n",
       "            Plotly.purge(gd);\n",
       "            observer.disconnect();\n",
       "        }}\n",
       "}});\n",
       "\n",
       "// Listen for the removal of the full notebook cells\n",
       "var notebookContainer = gd.closest('#notebook-container');\n",
       "if (notebookContainer) {{\n",
       "    x.observe(notebookContainer, {childList: true});\n",
       "}}\n",
       "\n",
       "// Listen for the clearing of the current output cell\n",
       "var outputEl = gd.closest('.output');\n",
       "if (outputEl) {{\n",
       "    x.observe(outputEl, {childList: true});\n",
       "}}\n",
       "\n",
       "                        })                };                });            </script>        </div>"
      ]
     },
     "metadata": {},
     "output_type": "display_data"
    }
   ],
   "source": [
    "if not pit_stop_emp:\n",
    "    fig = px.timeline(pit_stops[pit_stops['red_flag'] == 0], x_start=\"time_date\", x_end=\"time_end_date\", y=\"Driver\", color='Driver', color_discrete_map=color_map)\n",
    "    fig.update_layout(showlegend=False)\n",
    "    fig.update_layout(title_text='<b>Pit Strategy</b>', titlefont = dict(\n",
    "         family = 'Arial, sans-serif',\n",
    "         size = 30\n",
    "      ), title_x=0.5)\n",
    "    fig.show()\n",
    "else:\n",
    "    display(md(f\"<h1 style='background:#FFF200;border:0; color:black;box-shadow: 10px 10px 5px 0px rgba(0,0,0,0.75);transform: rotateX(10deg);'><center style='color: black;'>No Pit Data Available From API</center></h1>\"))"
   ]
  },
  {
   "cell_type": "code",
   "execution_count": 24,
   "id": "e5e3f0d7",
   "metadata": {
    "_kg_hide-input": true,
    "execution": {
     "iopub.execute_input": "2023-11-10T04:04:52.939576Z",
     "iopub.status.busy": "2023-11-10T04:04:52.938223Z",
     "iopub.status.idle": "2023-11-10T04:04:53.114621Z",
     "shell.execute_reply": "2023-11-10T04:04:53.113315Z"
    },
    "papermill": {
     "duration": 0.202565,
     "end_time": "2023-11-10T04:04:53.117440",
     "exception": false,
     "start_time": "2023-11-10T04:04:52.914875",
     "status": "completed"
    },
    "tags": []
   },
   "outputs": [
    {
     "data": {
      "text/html": [
       "<div>                            <div id=\"f1beb7da-e968-4e89-b398-3f515baec768\" class=\"plotly-graph-div\" style=\"height:525px; width:100%;\"></div>            <script type=\"text/javascript\">                require([\"plotly\"], function(Plotly) {                    window.PLOTLYENV=window.PLOTLYENV || {};                                    if (document.getElementById(\"f1beb7da-e968-4e89-b398-3f515baec768\")) {                    Plotly.newPlot(                        \"f1beb7da-e968-4e89-b398-3f515baec768\",                        [{\"alignmentgroup\":\"True\",\"base\":[\"2023-11-05T14:05:36\"],\"hovertemplate\":\"Driver=%{y}<br>time_date=%{base}<br>time_end_date=%{x}<extra></extra>\",\"legendgroup\":\"PIA\",\"marker\":{\"color\":\"#FF8000\",\"pattern\":{\"shape\":\"\"}},\"name\":\"PIA\",\"offsetgroup\":\"PIA\",\"orientation\":\"h\",\"showlegend\":true,\"textposition\":\"auto\",\"x\":[1584007.0],\"xaxis\":\"x\",\"y\":[\"PIA\"],\"yaxis\":\"y\",\"type\":\"bar\"},{\"alignmentgroup\":\"True\",\"base\":[\"2023-11-05T14:05:47\"],\"hovertemplate\":\"Driver=%{y}<br>time_date=%{base}<br>time_end_date=%{x}<extra></extra>\",\"legendgroup\":\"RIC\",\"marker\":{\"color\":\"#20394C\",\"pattern\":{\"shape\":\"\"}},\"name\":\"RIC\",\"offsetgroup\":\"RIC\",\"orientation\":\"h\",\"showlegend\":true,\"textposition\":\"auto\",\"x\":[1576725.0],\"xaxis\":\"x\",\"y\":[\"RIC\"],\"yaxis\":\"y\",\"type\":\"bar\"},{\"alignmentgroup\":\"True\",\"base\":[\"2023-11-05T14:07:42\"],\"hovertemplate\":\"Driver=%{y}<br>time_date=%{base}<br>time_end_date=%{x}<extra></extra>\",\"legendgroup\":\"VER\",\"marker\":{\"color\":\"#000B8D\",\"pattern\":{\"shape\":\"\"}},\"name\":\"VER\",\"offsetgroup\":\"VER\",\"orientation\":\"h\",\"showlegend\":true,\"textposition\":\"auto\",\"x\":[1402632.0],\"xaxis\":\"x\",\"y\":[\"VER\"],\"yaxis\":\"y\",\"type\":\"bar\"},{\"alignmentgroup\":\"True\",\"base\":[\"2023-11-05T14:07:44\"],\"hovertemplate\":\"Driver=%{y}<br>time_date=%{base}<br>time_end_date=%{x}<extra></extra>\",\"legendgroup\":\"NOR\",\"marker\":{\"color\":\"#FF8000\",\"pattern\":{\"shape\":\"\"}},\"name\":\"NOR\",\"offsetgroup\":\"NOR\",\"orientation\":\"h\",\"showlegend\":true,\"textposition\":\"auto\",\"x\":[1404611.0],\"xaxis\":\"x\",\"y\":[\"NOR\"],\"yaxis\":\"y\",\"type\":\"bar\"},{\"alignmentgroup\":\"True\",\"base\":[\"2023-11-05T14:07:46\"],\"hovertemplate\":\"Driver=%{y}<br>time_date=%{base}<br>time_end_date=%{x}<extra></extra>\",\"legendgroup\":\"HAM\",\"marker\":{\"color\":\"#00A19B\",\"pattern\":{\"shape\":\"\"}},\"name\":\"HAM\",\"offsetgroup\":\"HAM\",\"orientation\":\"h\",\"showlegend\":true,\"textposition\":\"auto\",\"x\":[1406375.0],\"xaxis\":\"x\",\"y\":[\"HAM\"],\"yaxis\":\"y\",\"type\":\"bar\"},{\"alignmentgroup\":\"True\",\"base\":[\"2023-11-05T14:07:47\"],\"hovertemplate\":\"Driver=%{y}<br>time_date=%{base}<br>time_end_date=%{x}<extra></extra>\",\"legendgroup\":\"ALO\",\"marker\":{\"color\":\"#002420\",\"pattern\":{\"shape\":\"\"}},\"name\":\"ALO\",\"offsetgroup\":\"ALO\",\"orientation\":\"h\",\"showlegend\":true,\"textposition\":\"auto\",\"x\":[1408154.0],\"xaxis\":\"x\",\"y\":[\"ALO\"],\"yaxis\":\"y\",\"type\":\"bar\"},{\"alignmentgroup\":\"True\",\"base\":[\"2023-11-05T14:07:50\"],\"hovertemplate\":\"Driver=%{y}<br>time_date=%{base}<br>time_end_date=%{x}<extra></extra>\",\"legendgroup\":\"STR\",\"marker\":{\"color\":\"#002420\",\"pattern\":{\"shape\":\"\"}},\"name\":\"STR\",\"offsetgroup\":\"STR\",\"orientation\":\"h\",\"showlegend\":true,\"textposition\":\"auto\",\"x\":[1409984.0],\"xaxis\":\"x\",\"y\":[\"STR\"],\"yaxis\":\"y\",\"type\":\"bar\"},{\"alignmentgroup\":\"True\",\"base\":[\"2023-11-05T14:07:53\"],\"hovertemplate\":\"Driver=%{y}<br>time_date=%{base}<br>time_end_date=%{x}<extra></extra>\",\"legendgroup\":\"RUS\",\"marker\":{\"color\":\"#00A19B\",\"pattern\":{\"shape\":\"\"}},\"name\":\"RUS\",\"offsetgroup\":\"RUS\",\"orientation\":\"h\",\"showlegend\":true,\"textposition\":\"auto\",\"x\":[1410984.0],\"xaxis\":\"x\",\"y\":[\"RUS\"],\"yaxis\":\"y\",\"type\":\"bar\"},{\"alignmentgroup\":\"True\",\"base\":[\"2023-11-05T14:07:55\"],\"hovertemplate\":\"Driver=%{y}<br>time_date=%{base}<br>time_end_date=%{x}<extra></extra>\",\"legendgroup\":\"PER\",\"marker\":{\"color\":\"#000B8D\",\"pattern\":{\"shape\":\"\"}},\"name\":\"PER\",\"offsetgroup\":\"PER\",\"orientation\":\"h\",\"showlegend\":true,\"textposition\":\"auto\",\"x\":[1411712.0],\"xaxis\":\"x\",\"y\":[\"PER\"],\"yaxis\":\"y\",\"type\":\"bar\"},{\"alignmentgroup\":\"True\",\"base\":[\"2023-11-05T14:07:57\"],\"hovertemplate\":\"Driver=%{y}<br>time_date=%{base}<br>time_end_date=%{x}<extra></extra>\",\"legendgroup\":\"SAI\",\"marker\":{\"color\":\"#EF1A2D\",\"pattern\":{\"shape\":\"\"}},\"name\":\"SAI\",\"offsetgroup\":\"SAI\",\"orientation\":\"h\",\"showlegend\":true,\"textposition\":\"auto\",\"x\":[1413704.0],\"xaxis\":\"x\",\"y\":[\"SAI\"],\"yaxis\":\"y\",\"type\":\"bar\"},{\"alignmentgroup\":\"True\",\"base\":[\"2023-11-05T14:07:59\"],\"hovertemplate\":\"Driver=%{y}<br>time_date=%{base}<br>time_end_date=%{x}<extra></extra>\",\"legendgroup\":\"OCO\",\"marker\":{\"color\":\"#2173B8\",\"pattern\":{\"shape\":\"\"}},\"name\":\"OCO\",\"offsetgroup\":\"OCO\",\"orientation\":\"h\",\"showlegend\":true,\"textposition\":\"auto\",\"x\":[1414725.0],\"xaxis\":\"x\",\"y\":[\"OCO\"],\"yaxis\":\"y\",\"type\":\"bar\"},{\"alignmentgroup\":\"True\",\"base\":[\"2023-11-05T14:08:02\"],\"hovertemplate\":\"Driver=%{y}<br>time_date=%{base}<br>time_end_date=%{x}<extra></extra>\",\"legendgroup\":\"TSU\",\"marker\":{\"color\":\"#20394C\",\"pattern\":{\"shape\":\"\"}},\"name\":\"TSU\",\"offsetgroup\":\"TSU\",\"orientation\":\"h\",\"showlegend\":true,\"textposition\":\"auto\",\"x\":[1415420.0],\"xaxis\":\"x\",\"y\":[\"TSU\"],\"yaxis\":\"y\",\"type\":\"bar\"},{\"alignmentgroup\":\"True\",\"base\":[\"2023-11-05T14:08:04\"],\"hovertemplate\":\"Driver=%{y}<br>time_date=%{base}<br>time_end_date=%{x}<extra></extra>\",\"legendgroup\":\"GAS\",\"marker\":{\"color\":\"#2173B8\",\"pattern\":{\"shape\":\"\"}},\"name\":\"GAS\",\"offsetgroup\":\"GAS\",\"orientation\":\"h\",\"showlegend\":true,\"textposition\":\"auto\",\"x\":[1416706.0],\"xaxis\":\"x\",\"y\":[\"GAS\"],\"yaxis\":\"y\",\"type\":\"bar\"},{\"alignmentgroup\":\"True\",\"base\":[\"2023-11-05T14:08:05\"],\"hovertemplate\":\"Driver=%{y}<br>time_date=%{base}<br>time_end_date=%{x}<extra></extra>\",\"legendgroup\":\"BOT\",\"marker\":{\"color\":\"#A42134\",\"pattern\":{\"shape\":\"\"}},\"name\":\"BOT\",\"offsetgroup\":\"BOT\",\"orientation\":\"h\",\"showlegend\":true,\"textposition\":\"auto\",\"x\":[1418156.0],\"xaxis\":\"x\",\"y\":[\"BOT\"],\"yaxis\":\"y\",\"type\":\"bar\"},{\"alignmentgroup\":\"True\",\"base\":[\"2023-11-05T14:08:09\"],\"hovertemplate\":\"Driver=%{y}<br>time_date=%{base}<br>time_end_date=%{x}<extra></extra>\",\"legendgroup\":\"ZHO\",\"marker\":{\"color\":\"#A42134\",\"pattern\":{\"shape\":\"\"}},\"name\":\"ZHO\",\"offsetgroup\":\"ZHO\",\"orientation\":\"h\",\"showlegend\":true,\"textposition\":\"auto\",\"x\":[1419945.0],\"xaxis\":\"x\",\"y\":[\"ZHO\"],\"yaxis\":\"y\",\"type\":\"bar\"},{\"alignmentgroup\":\"True\",\"base\":[\"2023-11-05T14:08:10\"],\"hovertemplate\":\"Driver=%{y}<br>time_date=%{base}<br>time_end_date=%{x}<extra></extra>\",\"legendgroup\":\"SAR\",\"marker\":{\"color\":\"#00A0DE\",\"pattern\":{\"shape\":\"\"}},\"name\":\"SAR\",\"offsetgroup\":\"SAR\",\"orientation\":\"h\",\"showlegend\":true,\"textposition\":\"auto\",\"x\":[1421207.0],\"xaxis\":\"x\",\"y\":[\"SAR\"],\"yaxis\":\"y\",\"type\":\"bar\"},{\"alignmentgroup\":\"True\",\"base\":[\"2023-11-05T14:08:14\"],\"hovertemplate\":\"Driver=%{y}<br>time_date=%{base}<br>time_end_date=%{x}<extra></extra>\",\"legendgroup\":\"HUL\",\"marker\":{\"color\":\"#E6002B\",\"pattern\":{\"shape\":\"\"}},\"name\":\"HUL\",\"offsetgroup\":\"HUL\",\"orientation\":\"h\",\"showlegend\":true,\"textposition\":\"auto\",\"x\":[1421069.0],\"xaxis\":\"x\",\"y\":[\"HUL\"],\"yaxis\":\"y\",\"type\":\"bar\"}],                        {\"template\":{\"data\":{\"histogram2dcontour\":[{\"type\":\"histogram2dcontour\",\"colorbar\":{\"outlinewidth\":0,\"ticks\":\"\"},\"colorscale\":[[0.0,\"#0d0887\"],[0.1111111111111111,\"#46039f\"],[0.2222222222222222,\"#7201a8\"],[0.3333333333333333,\"#9c179e\"],[0.4444444444444444,\"#bd3786\"],[0.5555555555555556,\"#d8576b\"],[0.6666666666666666,\"#ed7953\"],[0.7777777777777778,\"#fb9f3a\"],[0.8888888888888888,\"#fdca26\"],[1.0,\"#f0f921\"]]}],\"choropleth\":[{\"type\":\"choropleth\",\"colorbar\":{\"outlinewidth\":0,\"ticks\":\"\"}}],\"histogram2d\":[{\"type\":\"histogram2d\",\"colorbar\":{\"outlinewidth\":0,\"ticks\":\"\"},\"colorscale\":[[0.0,\"#0d0887\"],[0.1111111111111111,\"#46039f\"],[0.2222222222222222,\"#7201a8\"],[0.3333333333333333,\"#9c179e\"],[0.4444444444444444,\"#bd3786\"],[0.5555555555555556,\"#d8576b\"],[0.6666666666666666,\"#ed7953\"],[0.7777777777777778,\"#fb9f3a\"],[0.8888888888888888,\"#fdca26\"],[1.0,\"#f0f921\"]]}],\"heatmap\":[{\"type\":\"heatmap\",\"colorbar\":{\"outlinewidth\":0,\"ticks\":\"\"},\"colorscale\":[[0.0,\"#0d0887\"],[0.1111111111111111,\"#46039f\"],[0.2222222222222222,\"#7201a8\"],[0.3333333333333333,\"#9c179e\"],[0.4444444444444444,\"#bd3786\"],[0.5555555555555556,\"#d8576b\"],[0.6666666666666666,\"#ed7953\"],[0.7777777777777778,\"#fb9f3a\"],[0.8888888888888888,\"#fdca26\"],[1.0,\"#f0f921\"]]}],\"heatmapgl\":[{\"type\":\"heatmapgl\",\"colorbar\":{\"outlinewidth\":0,\"ticks\":\"\"},\"colorscale\":[[0.0,\"#0d0887\"],[0.1111111111111111,\"#46039f\"],[0.2222222222222222,\"#7201a8\"],[0.3333333333333333,\"#9c179e\"],[0.4444444444444444,\"#bd3786\"],[0.5555555555555556,\"#d8576b\"],[0.6666666666666666,\"#ed7953\"],[0.7777777777777778,\"#fb9f3a\"],[0.8888888888888888,\"#fdca26\"],[1.0,\"#f0f921\"]]}],\"contourcarpet\":[{\"type\":\"contourcarpet\",\"colorbar\":{\"outlinewidth\":0,\"ticks\":\"\"}}],\"contour\":[{\"type\":\"contour\",\"colorbar\":{\"outlinewidth\":0,\"ticks\":\"\"},\"colorscale\":[[0.0,\"#0d0887\"],[0.1111111111111111,\"#46039f\"],[0.2222222222222222,\"#7201a8\"],[0.3333333333333333,\"#9c179e\"],[0.4444444444444444,\"#bd3786\"],[0.5555555555555556,\"#d8576b\"],[0.6666666666666666,\"#ed7953\"],[0.7777777777777778,\"#fb9f3a\"],[0.8888888888888888,\"#fdca26\"],[1.0,\"#f0f921\"]]}],\"surface\":[{\"type\":\"surface\",\"colorbar\":{\"outlinewidth\":0,\"ticks\":\"\"},\"colorscale\":[[0.0,\"#0d0887\"],[0.1111111111111111,\"#46039f\"],[0.2222222222222222,\"#7201a8\"],[0.3333333333333333,\"#9c179e\"],[0.4444444444444444,\"#bd3786\"],[0.5555555555555556,\"#d8576b\"],[0.6666666666666666,\"#ed7953\"],[0.7777777777777778,\"#fb9f3a\"],[0.8888888888888888,\"#fdca26\"],[1.0,\"#f0f921\"]]}],\"mesh3d\":[{\"type\":\"mesh3d\",\"colorbar\":{\"outlinewidth\":0,\"ticks\":\"\"}}],\"scatter\":[{\"fillpattern\":{\"fillmode\":\"overlay\",\"size\":10,\"solidity\":0.2},\"type\":\"scatter\"}],\"parcoords\":[{\"type\":\"parcoords\",\"line\":{\"colorbar\":{\"outlinewidth\":0,\"ticks\":\"\"}}}],\"scatterpolargl\":[{\"type\":\"scatterpolargl\",\"marker\":{\"colorbar\":{\"outlinewidth\":0,\"ticks\":\"\"}}}],\"bar\":[{\"error_x\":{\"color\":\"#2a3f5f\"},\"error_y\":{\"color\":\"#2a3f5f\"},\"marker\":{\"line\":{\"color\":\"#E5ECF6\",\"width\":0.5},\"pattern\":{\"fillmode\":\"overlay\",\"size\":10,\"solidity\":0.2}},\"type\":\"bar\"}],\"scattergeo\":[{\"type\":\"scattergeo\",\"marker\":{\"colorbar\":{\"outlinewidth\":0,\"ticks\":\"\"}}}],\"scatterpolar\":[{\"type\":\"scatterpolar\",\"marker\":{\"colorbar\":{\"outlinewidth\":0,\"ticks\":\"\"}}}],\"histogram\":[{\"marker\":{\"pattern\":{\"fillmode\":\"overlay\",\"size\":10,\"solidity\":0.2}},\"type\":\"histogram\"}],\"scattergl\":[{\"type\":\"scattergl\",\"marker\":{\"colorbar\":{\"outlinewidth\":0,\"ticks\":\"\"}}}],\"scatter3d\":[{\"type\":\"scatter3d\",\"line\":{\"colorbar\":{\"outlinewidth\":0,\"ticks\":\"\"}},\"marker\":{\"colorbar\":{\"outlinewidth\":0,\"ticks\":\"\"}}}],\"scattermapbox\":[{\"type\":\"scattermapbox\",\"marker\":{\"colorbar\":{\"outlinewidth\":0,\"ticks\":\"\"}}}],\"scatterternary\":[{\"type\":\"scatterternary\",\"marker\":{\"colorbar\":{\"outlinewidth\":0,\"ticks\":\"\"}}}],\"scattercarpet\":[{\"type\":\"scattercarpet\",\"marker\":{\"colorbar\":{\"outlinewidth\":0,\"ticks\":\"\"}}}],\"carpet\":[{\"aaxis\":{\"endlinecolor\":\"#2a3f5f\",\"gridcolor\":\"white\",\"linecolor\":\"white\",\"minorgridcolor\":\"white\",\"startlinecolor\":\"#2a3f5f\"},\"baxis\":{\"endlinecolor\":\"#2a3f5f\",\"gridcolor\":\"white\",\"linecolor\":\"white\",\"minorgridcolor\":\"white\",\"startlinecolor\":\"#2a3f5f\"},\"type\":\"carpet\"}],\"table\":[{\"cells\":{\"fill\":{\"color\":\"#EBF0F8\"},\"line\":{\"color\":\"white\"}},\"header\":{\"fill\":{\"color\":\"#C8D4E3\"},\"line\":{\"color\":\"white\"}},\"type\":\"table\"}],\"barpolar\":[{\"marker\":{\"line\":{\"color\":\"#E5ECF6\",\"width\":0.5},\"pattern\":{\"fillmode\":\"overlay\",\"size\":10,\"solidity\":0.2}},\"type\":\"barpolar\"}],\"pie\":[{\"automargin\":true,\"type\":\"pie\"}]},\"layout\":{\"autotypenumbers\":\"strict\",\"colorway\":[\"#636efa\",\"#EF553B\",\"#00cc96\",\"#ab63fa\",\"#FFA15A\",\"#19d3f3\",\"#FF6692\",\"#B6E880\",\"#FF97FF\",\"#FECB52\"],\"font\":{\"color\":\"#2a3f5f\"},\"hovermode\":\"closest\",\"hoverlabel\":{\"align\":\"left\"},\"paper_bgcolor\":\"white\",\"plot_bgcolor\":\"#E5ECF6\",\"polar\":{\"bgcolor\":\"#E5ECF6\",\"angularaxis\":{\"gridcolor\":\"white\",\"linecolor\":\"white\",\"ticks\":\"\"},\"radialaxis\":{\"gridcolor\":\"white\",\"linecolor\":\"white\",\"ticks\":\"\"}},\"ternary\":{\"bgcolor\":\"#E5ECF6\",\"aaxis\":{\"gridcolor\":\"white\",\"linecolor\":\"white\",\"ticks\":\"\"},\"baxis\":{\"gridcolor\":\"white\",\"linecolor\":\"white\",\"ticks\":\"\"},\"caxis\":{\"gridcolor\":\"white\",\"linecolor\":\"white\",\"ticks\":\"\"}},\"coloraxis\":{\"colorbar\":{\"outlinewidth\":0,\"ticks\":\"\"}},\"colorscale\":{\"sequential\":[[0.0,\"#0d0887\"],[0.1111111111111111,\"#46039f\"],[0.2222222222222222,\"#7201a8\"],[0.3333333333333333,\"#9c179e\"],[0.4444444444444444,\"#bd3786\"],[0.5555555555555556,\"#d8576b\"],[0.6666666666666666,\"#ed7953\"],[0.7777777777777778,\"#fb9f3a\"],[0.8888888888888888,\"#fdca26\"],[1.0,\"#f0f921\"]],\"sequentialminus\":[[0.0,\"#0d0887\"],[0.1111111111111111,\"#46039f\"],[0.2222222222222222,\"#7201a8\"],[0.3333333333333333,\"#9c179e\"],[0.4444444444444444,\"#bd3786\"],[0.5555555555555556,\"#d8576b\"],[0.6666666666666666,\"#ed7953\"],[0.7777777777777778,\"#fb9f3a\"],[0.8888888888888888,\"#fdca26\"],[1.0,\"#f0f921\"]],\"diverging\":[[0,\"#8e0152\"],[0.1,\"#c51b7d\"],[0.2,\"#de77ae\"],[0.3,\"#f1b6da\"],[0.4,\"#fde0ef\"],[0.5,\"#f7f7f7\"],[0.6,\"#e6f5d0\"],[0.7,\"#b8e186\"],[0.8,\"#7fbc41\"],[0.9,\"#4d9221\"],[1,\"#276419\"]]},\"xaxis\":{\"gridcolor\":\"white\",\"linecolor\":\"white\",\"ticks\":\"\",\"title\":{\"standoff\":15},\"zerolinecolor\":\"white\",\"automargin\":true,\"zerolinewidth\":2},\"yaxis\":{\"gridcolor\":\"white\",\"linecolor\":\"white\",\"ticks\":\"\",\"title\":{\"standoff\":15},\"zerolinecolor\":\"white\",\"automargin\":true,\"zerolinewidth\":2},\"scene\":{\"xaxis\":{\"backgroundcolor\":\"#E5ECF6\",\"gridcolor\":\"white\",\"linecolor\":\"white\",\"showbackground\":true,\"ticks\":\"\",\"zerolinecolor\":\"white\",\"gridwidth\":2},\"yaxis\":{\"backgroundcolor\":\"#E5ECF6\",\"gridcolor\":\"white\",\"linecolor\":\"white\",\"showbackground\":true,\"ticks\":\"\",\"zerolinecolor\":\"white\",\"gridwidth\":2},\"zaxis\":{\"backgroundcolor\":\"#E5ECF6\",\"gridcolor\":\"white\",\"linecolor\":\"white\",\"showbackground\":true,\"ticks\":\"\",\"zerolinecolor\":\"white\",\"gridwidth\":2}},\"shapedefaults\":{\"line\":{\"color\":\"#2a3f5f\"}},\"annotationdefaults\":{\"arrowcolor\":\"#2a3f5f\",\"arrowhead\":0,\"arrowwidth\":1},\"geo\":{\"bgcolor\":\"white\",\"landcolor\":\"#E5ECF6\",\"subunitcolor\":\"white\",\"showland\":true,\"showlakes\":true,\"lakecolor\":\"white\"},\"title\":{\"x\":0.05},\"mapbox\":{\"style\":\"light\"}}},\"xaxis\":{\"anchor\":\"y\",\"domain\":[0.0,1.0],\"type\":\"date\"},\"yaxis\":{\"anchor\":\"x\",\"domain\":[0.0,1.0],\"title\":{\"text\":\"Driver\"},\"categoryorder\":\"array\",\"categoryarray\":[\"HUL\",\"SAR\",\"ZHO\",\"BOT\",\"GAS\",\"TSU\",\"OCO\",\"SAI\",\"PER\",\"RUS\",\"STR\",\"ALO\",\"HAM\",\"NOR\",\"VER\",\"RIC\",\"PIA\"]},\"legend\":{\"title\":{\"text\":\"Driver\"},\"tracegroupgap\":0},\"margin\":{\"t\":60},\"barmode\":\"overlay\",\"showlegend\":false,\"title\":{\"font\":{\"family\":\"Arial, sans-serif\",\"size\":30},\"text\":\"<b>Red Flag Stops</b>\",\"x\":0.5}},                        {\"responsive\": true}                    ).then(function(){\n",
       "                            \n",
       "var gd = document.getElementById('f1beb7da-e968-4e89-b398-3f515baec768');\n",
       "var x = new MutationObserver(function (mutations, observer) {{\n",
       "        var display = window.getComputedStyle(gd).display;\n",
       "        if (!display || display === 'none') {{\n",
       "            console.log([gd, 'removed!']);\n",
       "            Plotly.purge(gd);\n",
       "            observer.disconnect();\n",
       "        }}\n",
       "}});\n",
       "\n",
       "// Listen for the removal of the full notebook cells\n",
       "var notebookContainer = gd.closest('#notebook-container');\n",
       "if (notebookContainer) {{\n",
       "    x.observe(notebookContainer, {childList: true});\n",
       "}}\n",
       "\n",
       "// Listen for the clearing of the current output cell\n",
       "var outputEl = gd.closest('.output');\n",
       "if (outputEl) {{\n",
       "    x.observe(outputEl, {childList: true});\n",
       "}}\n",
       "\n",
       "                        })                };                });            </script>        </div>"
      ]
     },
     "metadata": {},
     "output_type": "display_data"
    }
   ],
   "source": [
    "#Red Flags\n",
    "if pit_stop_emp:\n",
    "    display(md(f\"<h1 style='background:#FFF200;border:0; color:black;box-shadow: 10px 10px 5px 0px rgba(0,0,0,0.75);transform: rotateX(10deg);'><center style='color: black;'>No Pit Data Available From API</center></h1>\"))\n",
    "elif not pit_stops[pit_stops['red_flag'] == 1].empty:\n",
    "    fig = px.timeline(pit_stops[pit_stops['red_flag'] == 1], x_start=\"time_date\", x_end=\"time_end_date\", y=\"Driver\", color='Driver', color_discrete_map=color_map)\n",
    "    fig.update_layout(showlegend=False)\n",
    "    fig.update_layout(title_text='<b>Red Flag Stops</b>', titlefont = dict(\n",
    "         family = 'Arial, sans-serif',\n",
    "         size = 30\n",
    "      ), title_x=0.5)\n",
    "    fig.show()"
   ]
  },
  {
   "cell_type": "code",
   "execution_count": 25,
   "id": "acb8f001",
   "metadata": {
    "_kg_hide-input": true,
    "execution": {
     "iopub.execute_input": "2023-11-10T04:04:53.174116Z",
     "iopub.status.busy": "2023-11-10T04:04:53.172622Z",
     "iopub.status.idle": "2023-11-10T04:04:53.226128Z",
     "shell.execute_reply": "2023-11-10T04:04:53.225008Z"
    },
    "papermill": {
     "duration": 0.080282,
     "end_time": "2023-11-10T04:04:53.228802",
     "exception": false,
     "start_time": "2023-11-10T04:04:53.148520",
     "status": "completed"
    },
    "tags": []
   },
   "outputs": [
    {
     "data": {
      "text/html": [
       "<div>                            <div id=\"fb6f9ce6-dde9-489c-8795-cea516f8a759\" class=\"plotly-graph-div\" style=\"height:525px; width:100%;\"></div>            <script type=\"text/javascript\">                require([\"plotly\"], function(Plotly) {                    window.PLOTLYENV=window.PLOTLYENV || {};                                    if (document.getElementById(\"fb6f9ce6-dde9-489c-8795-cea516f8a759\")) {                    Plotly.newPlot(                        \"fb6f9ce6-dde9-489c-8795-cea516f8a759\",                        [{\"name\":\"Max Pit\",\"x\":[\"ALO\",\"BOT\",\"GAS\",\"HAM\",\"HUL\",\"NOR\",\"OCO\",\"PER\",\"PIA\",\"RIC\",\"RUS\",\"SAI\",\"SAR\",\"STR\",\"TSU\",\"VER\",\"ZHO\"],\"y\":[23.397,23.522,23.704,23.806,23.953,23.962,24.074,24.077,24.204,24.406,25.294,25.295,27.114,27.472,32.77,34.261,38.489],\"type\":\"bar\"},{\"name\":\"Avg PIt\",\"x\":[\"ALO\",\"BOT\",\"GAS\",\"HAM\",\"HUL\",\"NOR\",\"OCO\",\"PER\",\"PIA\",\"RIC\",\"RUS\",\"SAI\",\"SAR\",\"STR\",\"TSU\",\"VER\",\"ZHO\"],\"y\":[21.642,22.499,23.430333333333333,22.28533333333333,22.6045,22.71366666666667,22.055333333333333,22.4045,22.173666666666666,23.56275,22.451999999999998,23.133666666666667,23.845333333333333,25.325333333333333,26.744333333333334,27.501,28.454333333333334],\"type\":\"bar\"},{\"name\":\"Min PIt\",\"x\":[\"ALO\",\"BOT\",\"GAS\",\"HAM\",\"HUL\",\"NOR\",\"OCO\",\"PER\",\"PIA\",\"RIC\",\"RUS\",\"SAI\",\"SAR\",\"STR\",\"TSU\",\"VER\",\"ZHO\"],\"y\":[18.535,20.811,23.03,19.386,21.256,20.449,18.521,20.732,18.487,22.209,18.504,20.523,20.969,24.137,23.508,23.841,23.338],\"type\":\"bar\"}],                        {\"barmode\":\"overlay\",\"template\":{\"data\":{\"barpolar\":[{\"marker\":{\"line\":{\"color\":\"#E5ECF6\",\"width\":0.5},\"pattern\":{\"fillmode\":\"overlay\",\"size\":10,\"solidity\":0.2}},\"type\":\"barpolar\"}],\"bar\":[{\"error_x\":{\"color\":\"#2a3f5f\"},\"error_y\":{\"color\":\"#2a3f5f\"},\"marker\":{\"line\":{\"color\":\"#E5ECF6\",\"width\":0.5},\"pattern\":{\"fillmode\":\"overlay\",\"size\":10,\"solidity\":0.2}},\"type\":\"bar\"}],\"carpet\":[{\"aaxis\":{\"endlinecolor\":\"#2a3f5f\",\"gridcolor\":\"white\",\"linecolor\":\"white\",\"minorgridcolor\":\"white\",\"startlinecolor\":\"#2a3f5f\"},\"baxis\":{\"endlinecolor\":\"#2a3f5f\",\"gridcolor\":\"white\",\"linecolor\":\"white\",\"minorgridcolor\":\"white\",\"startlinecolor\":\"#2a3f5f\"},\"type\":\"carpet\"}],\"choropleth\":[{\"colorbar\":{\"outlinewidth\":0,\"ticks\":\"\"},\"type\":\"choropleth\"}],\"contourcarpet\":[{\"colorbar\":{\"outlinewidth\":0,\"ticks\":\"\"},\"type\":\"contourcarpet\"}],\"contour\":[{\"colorbar\":{\"outlinewidth\":0,\"ticks\":\"\"},\"colorscale\":[[0.0,\"#0d0887\"],[0.1111111111111111,\"#46039f\"],[0.2222222222222222,\"#7201a8\"],[0.3333333333333333,\"#9c179e\"],[0.4444444444444444,\"#bd3786\"],[0.5555555555555556,\"#d8576b\"],[0.6666666666666666,\"#ed7953\"],[0.7777777777777778,\"#fb9f3a\"],[0.8888888888888888,\"#fdca26\"],[1.0,\"#f0f921\"]],\"type\":\"contour\"}],\"heatmapgl\":[{\"colorbar\":{\"outlinewidth\":0,\"ticks\":\"\"},\"colorscale\":[[0.0,\"#0d0887\"],[0.1111111111111111,\"#46039f\"],[0.2222222222222222,\"#7201a8\"],[0.3333333333333333,\"#9c179e\"],[0.4444444444444444,\"#bd3786\"],[0.5555555555555556,\"#d8576b\"],[0.6666666666666666,\"#ed7953\"],[0.7777777777777778,\"#fb9f3a\"],[0.8888888888888888,\"#fdca26\"],[1.0,\"#f0f921\"]],\"type\":\"heatmapgl\"}],\"heatmap\":[{\"colorbar\":{\"outlinewidth\":0,\"ticks\":\"\"},\"colorscale\":[[0.0,\"#0d0887\"],[0.1111111111111111,\"#46039f\"],[0.2222222222222222,\"#7201a8\"],[0.3333333333333333,\"#9c179e\"],[0.4444444444444444,\"#bd3786\"],[0.5555555555555556,\"#d8576b\"],[0.6666666666666666,\"#ed7953\"],[0.7777777777777778,\"#fb9f3a\"],[0.8888888888888888,\"#fdca26\"],[1.0,\"#f0f921\"]],\"type\":\"heatmap\"}],\"histogram2dcontour\":[{\"colorbar\":{\"outlinewidth\":0,\"ticks\":\"\"},\"colorscale\":[[0.0,\"#0d0887\"],[0.1111111111111111,\"#46039f\"],[0.2222222222222222,\"#7201a8\"],[0.3333333333333333,\"#9c179e\"],[0.4444444444444444,\"#bd3786\"],[0.5555555555555556,\"#d8576b\"],[0.6666666666666666,\"#ed7953\"],[0.7777777777777778,\"#fb9f3a\"],[0.8888888888888888,\"#fdca26\"],[1.0,\"#f0f921\"]],\"type\":\"histogram2dcontour\"}],\"histogram2d\":[{\"colorbar\":{\"outlinewidth\":0,\"ticks\":\"\"},\"colorscale\":[[0.0,\"#0d0887\"],[0.1111111111111111,\"#46039f\"],[0.2222222222222222,\"#7201a8\"],[0.3333333333333333,\"#9c179e\"],[0.4444444444444444,\"#bd3786\"],[0.5555555555555556,\"#d8576b\"],[0.6666666666666666,\"#ed7953\"],[0.7777777777777778,\"#fb9f3a\"],[0.8888888888888888,\"#fdca26\"],[1.0,\"#f0f921\"]],\"type\":\"histogram2d\"}],\"histogram\":[{\"marker\":{\"pattern\":{\"fillmode\":\"overlay\",\"size\":10,\"solidity\":0.2}},\"type\":\"histogram\"}],\"mesh3d\":[{\"colorbar\":{\"outlinewidth\":0,\"ticks\":\"\"},\"type\":\"mesh3d\"}],\"parcoords\":[{\"line\":{\"colorbar\":{\"outlinewidth\":0,\"ticks\":\"\"}},\"type\":\"parcoords\"}],\"pie\":[{\"automargin\":true,\"type\":\"pie\"}],\"scatter3d\":[{\"line\":{\"colorbar\":{\"outlinewidth\":0,\"ticks\":\"\"}},\"marker\":{\"colorbar\":{\"outlinewidth\":0,\"ticks\":\"\"}},\"type\":\"scatter3d\"}],\"scattercarpet\":[{\"marker\":{\"colorbar\":{\"outlinewidth\":0,\"ticks\":\"\"}},\"type\":\"scattercarpet\"}],\"scattergeo\":[{\"marker\":{\"colorbar\":{\"outlinewidth\":0,\"ticks\":\"\"}},\"type\":\"scattergeo\"}],\"scattergl\":[{\"marker\":{\"colorbar\":{\"outlinewidth\":0,\"ticks\":\"\"}},\"type\":\"scattergl\"}],\"scattermapbox\":[{\"marker\":{\"colorbar\":{\"outlinewidth\":0,\"ticks\":\"\"}},\"type\":\"scattermapbox\"}],\"scatterpolargl\":[{\"marker\":{\"colorbar\":{\"outlinewidth\":0,\"ticks\":\"\"}},\"type\":\"scatterpolargl\"}],\"scatterpolar\":[{\"marker\":{\"colorbar\":{\"outlinewidth\":0,\"ticks\":\"\"}},\"type\":\"scatterpolar\"}],\"scatter\":[{\"fillpattern\":{\"fillmode\":\"overlay\",\"size\":10,\"solidity\":0.2},\"type\":\"scatter\"}],\"scatterternary\":[{\"marker\":{\"colorbar\":{\"outlinewidth\":0,\"ticks\":\"\"}},\"type\":\"scatterternary\"}],\"surface\":[{\"colorbar\":{\"outlinewidth\":0,\"ticks\":\"\"},\"colorscale\":[[0.0,\"#0d0887\"],[0.1111111111111111,\"#46039f\"],[0.2222222222222222,\"#7201a8\"],[0.3333333333333333,\"#9c179e\"],[0.4444444444444444,\"#bd3786\"],[0.5555555555555556,\"#d8576b\"],[0.6666666666666666,\"#ed7953\"],[0.7777777777777778,\"#fb9f3a\"],[0.8888888888888888,\"#fdca26\"],[1.0,\"#f0f921\"]],\"type\":\"surface\"}],\"table\":[{\"cells\":{\"fill\":{\"color\":\"#EBF0F8\"},\"line\":{\"color\":\"white\"}},\"header\":{\"fill\":{\"color\":\"#C8D4E3\"},\"line\":{\"color\":\"white\"}},\"type\":\"table\"}]},\"layout\":{\"annotationdefaults\":{\"arrowcolor\":\"#2a3f5f\",\"arrowhead\":0,\"arrowwidth\":1},\"autotypenumbers\":\"strict\",\"coloraxis\":{\"colorbar\":{\"outlinewidth\":0,\"ticks\":\"\"}},\"colorscale\":{\"diverging\":[[0,\"#8e0152\"],[0.1,\"#c51b7d\"],[0.2,\"#de77ae\"],[0.3,\"#f1b6da\"],[0.4,\"#fde0ef\"],[0.5,\"#f7f7f7\"],[0.6,\"#e6f5d0\"],[0.7,\"#b8e186\"],[0.8,\"#7fbc41\"],[0.9,\"#4d9221\"],[1,\"#276419\"]],\"sequential\":[[0.0,\"#0d0887\"],[0.1111111111111111,\"#46039f\"],[0.2222222222222222,\"#7201a8\"],[0.3333333333333333,\"#9c179e\"],[0.4444444444444444,\"#bd3786\"],[0.5555555555555556,\"#d8576b\"],[0.6666666666666666,\"#ed7953\"],[0.7777777777777778,\"#fb9f3a\"],[0.8888888888888888,\"#fdca26\"],[1.0,\"#f0f921\"]],\"sequentialminus\":[[0.0,\"#0d0887\"],[0.1111111111111111,\"#46039f\"],[0.2222222222222222,\"#7201a8\"],[0.3333333333333333,\"#9c179e\"],[0.4444444444444444,\"#bd3786\"],[0.5555555555555556,\"#d8576b\"],[0.6666666666666666,\"#ed7953\"],[0.7777777777777778,\"#fb9f3a\"],[0.8888888888888888,\"#fdca26\"],[1.0,\"#f0f921\"]]},\"colorway\":[\"#636efa\",\"#EF553B\",\"#00cc96\",\"#ab63fa\",\"#FFA15A\",\"#19d3f3\",\"#FF6692\",\"#B6E880\",\"#FF97FF\",\"#FECB52\"],\"font\":{\"color\":\"#2a3f5f\"},\"geo\":{\"bgcolor\":\"white\",\"lakecolor\":\"white\",\"landcolor\":\"#E5ECF6\",\"showlakes\":true,\"showland\":true,\"subunitcolor\":\"white\"},\"hoverlabel\":{\"align\":\"left\"},\"hovermode\":\"closest\",\"mapbox\":{\"style\":\"light\"},\"paper_bgcolor\":\"white\",\"plot_bgcolor\":\"#E5ECF6\",\"polar\":{\"angularaxis\":{\"gridcolor\":\"white\",\"linecolor\":\"white\",\"ticks\":\"\"},\"bgcolor\":\"#E5ECF6\",\"radialaxis\":{\"gridcolor\":\"white\",\"linecolor\":\"white\",\"ticks\":\"\"}},\"scene\":{\"xaxis\":{\"backgroundcolor\":\"#E5ECF6\",\"gridcolor\":\"white\",\"gridwidth\":2,\"linecolor\":\"white\",\"showbackground\":true,\"ticks\":\"\",\"zerolinecolor\":\"white\"},\"yaxis\":{\"backgroundcolor\":\"#E5ECF6\",\"gridcolor\":\"white\",\"gridwidth\":2,\"linecolor\":\"white\",\"showbackground\":true,\"ticks\":\"\",\"zerolinecolor\":\"white\"},\"zaxis\":{\"backgroundcolor\":\"#E5ECF6\",\"gridcolor\":\"white\",\"gridwidth\":2,\"linecolor\":\"white\",\"showbackground\":true,\"ticks\":\"\",\"zerolinecolor\":\"white\"}},\"shapedefaults\":{\"line\":{\"color\":\"#2a3f5f\"}},\"ternary\":{\"aaxis\":{\"gridcolor\":\"white\",\"linecolor\":\"white\",\"ticks\":\"\"},\"baxis\":{\"gridcolor\":\"white\",\"linecolor\":\"white\",\"ticks\":\"\"},\"bgcolor\":\"#E5ECF6\",\"caxis\":{\"gridcolor\":\"white\",\"linecolor\":\"white\",\"ticks\":\"\"}},\"title\":{\"x\":0.05},\"xaxis\":{\"automargin\":true,\"gridcolor\":\"white\",\"linecolor\":\"white\",\"ticks\":\"\",\"title\":{\"standoff\":15},\"zerolinecolor\":\"white\",\"zerolinewidth\":2},\"yaxis\":{\"automargin\":true,\"gridcolor\":\"white\",\"linecolor\":\"white\",\"ticks\":\"\",\"title\":{\"standoff\":15},\"zerolinecolor\":\"white\",\"zerolinewidth\":2}}},\"title\":{\"font\":{\"family\":\"Arial, sans-serif\",\"size\":30},\"text\":\"<b>Pit Stop Times</b>\",\"x\":0.5},\"yaxis\":{\"range\":[17.487,39.489]}},                        {\"responsive\": true}                    ).then(function(){\n",
       "                            \n",
       "var gd = document.getElementById('fb6f9ce6-dde9-489c-8795-cea516f8a759');\n",
       "var x = new MutationObserver(function (mutations, observer) {{\n",
       "        var display = window.getComputedStyle(gd).display;\n",
       "        if (!display || display === 'none') {{\n",
       "            console.log([gd, 'removed!']);\n",
       "            Plotly.purge(gd);\n",
       "            observer.disconnect();\n",
       "        }}\n",
       "}});\n",
       "\n",
       "// Listen for the removal of the full notebook cells\n",
       "var notebookContainer = gd.closest('#notebook-container');\n",
       "if (notebookContainer) {{\n",
       "    x.observe(notebookContainer, {childList: true});\n",
       "}}\n",
       "\n",
       "// Listen for the clearing of the current output cell\n",
       "var outputEl = gd.closest('.output');\n",
       "if (outputEl) {{\n",
       "    x.observe(outputEl, {childList: true});\n",
       "}}\n",
       "\n",
       "                        })                };                });            </script>        </div>"
      ]
     },
     "metadata": {},
     "output_type": "display_data"
    }
   ],
   "source": [
    "if not pit_stop_emp:\n",
    "    max_pit = max(driver_group['max']) + 1\n",
    "    min_pit = min(driver_group['min']) - 1\n",
    "\n",
    "    data = [\n",
    "    go.Bar(y=driver_group['max'], x=driver_group.Driver, name='Max Pit',  \n",
    "            #base=0\n",
    "           ),\n",
    "    go.Bar(y=driver_group['mean'], x=driver_group.Driver, name='Avg PIt'),\n",
    "    go.Bar(y=driver_group['min'], x=driver_group.Driver, name='Min PIt')]\n",
    "\n",
    "    layout = go.Layout(\n",
    "    barmode='overlay',\n",
    "    title=\"Pit Times\",\n",
    "    title_text='<b>Pit Stop Times</b>', titlefont = dict(\n",
    "         family = 'Arial, sans-serif',\n",
    "         size = 30\n",
    "      ), title_x=0.5\n",
    "    )\n",
    "\n",
    "    fig = dict(data = data, layout = layout, layout_yaxis_range=[min_pit, max_pit])\n",
    "    \n",
    "    iplot(fig, show_link=False)"
   ]
  },
  {
   "cell_type": "code",
   "execution_count": 26,
   "id": "77cb35f2",
   "metadata": {
    "_kg_hide-input": true,
    "execution": {
     "iopub.execute_input": "2023-11-10T04:04:53.279121Z",
     "iopub.status.busy": "2023-11-10T04:04:53.277777Z",
     "iopub.status.idle": "2023-11-10T04:04:53.286987Z",
     "shell.execute_reply": "2023-11-10T04:04:53.285524Z"
    },
    "papermill": {
     "duration": 0.037685,
     "end_time": "2023-11-10T04:04:53.290034",
     "exception": false,
     "start_time": "2023-11-10T04:04:53.252349",
     "status": "completed"
    },
    "tags": []
   },
   "outputs": [
    {
     "data": {
      "text/markdown": [
       "# <div style='background:#FF1801; border:0; color:black; box-shadow: 10px 10px 5px 0px rgba(0,0,0,0.75); transform: rotateX(10deg);'><h1 style='padding: 10px; margin: 0; text-align:center;'><span style='font-size: 30px;'>Lap Results</span></h1></div>"
      ],
      "text/plain": [
       "<IPython.core.display.Markdown object>"
      ]
     },
     "metadata": {},
     "output_type": "display_data"
    }
   ],
   "source": [
    "display(md(f\"# <div style='background:#FF1801; border:0; color:black; box-shadow: 10px 10px 5px 0px rgba(0,0,0,0.75); transform: rotateX(10deg);'><h1 style='padding: 10px; margin: 0; text-align:center;'><span style='font-size: 30px;'>Lap Results</span></h1></div>\"))"
   ]
  },
  {
   "cell_type": "code",
   "execution_count": 27,
   "id": "7d2382ee",
   "metadata": {
    "_kg_hide-input": true,
    "execution": {
     "iopub.execute_input": "2023-11-10T04:04:53.337214Z",
     "iopub.status.busy": "2023-11-10T04:04:53.336652Z",
     "iopub.status.idle": "2023-11-10T04:04:53.529289Z",
     "shell.execute_reply": "2023-11-10T04:04:53.527596Z"
    },
    "papermill": {
     "duration": 0.22006,
     "end_time": "2023-11-10T04:04:53.532528",
     "exception": false,
     "start_time": "2023-11-10T04:04:53.312468",
     "status": "completed"
    },
    "tags": []
   },
   "outputs": [
    {
     "data": {
      "text/html": [
       "<div>                            <div id=\"dde11967-6b57-4a96-9e18-b70dfc9e8923\" class=\"plotly-graph-div\" style=\"height:525px; width:100%;\"></div>            <script type=\"text/javascript\">                require([\"plotly\"], function(Plotly) {                    window.PLOTLYENV=window.PLOTLYENV || {};                                    if (document.getElementById(\"dde11967-6b57-4a96-9e18-b70dfc9e8923\")) {                    Plotly.newPlot(                        \"dde11967-6b57-4a96-9e18-b70dfc9e8923\",                        [{\"alignmentgroup\":\"True\",\"boxpoints\":false,\"hovertemplate\":\"Driver=%{y}<br>Duration (Seconds, Outliers/Red Flags, Removed)=%{x}<extra></extra>\",\"legendgroup\":\"GAS\",\"marker\":{\"color\":\"#2173B8\"},\"name\":\"GAS\",\"notched\":false,\"offsetgroup\":\"GAS\",\"orientation\":\"h\",\"showlegend\":true,\"x\":[80.965,77.261,76.67699999999999,76.437,76.55799999999999,76.531,76.971,76.882,77.203,77.076,77.282,77.196,77.744,77.444,77.301,77.205,77.174,77.411,77.363,77.383,77.474,78.007,81.513,75.215,76.408,75.602,76.162,75.63,75.443,75.679,75.73,75.71000000000001,75.961,76.002,76.446,76.385,76.515,76.263,76.63,77.03,76.619,80.564,74.521,74.703,74.969,75.114,75.036,75.031,75.064,75.306,75.325,75.059,74.917,74.794,74.618,74.727,74.67099999999999,74.654],\"x0\":\" \",\"xaxis\":\"x\",\"y\":[\"GAS\",\"GAS\",\"GAS\",\"GAS\",\"GAS\",\"GAS\",\"GAS\",\"GAS\",\"GAS\",\"GAS\",\"GAS\",\"GAS\",\"GAS\",\"GAS\",\"GAS\",\"GAS\",\"GAS\",\"GAS\",\"GAS\",\"GAS\",\"GAS\",\"GAS\",\"GAS\",\"GAS\",\"GAS\",\"GAS\",\"GAS\",\"GAS\",\"GAS\",\"GAS\",\"GAS\",\"GAS\",\"GAS\",\"GAS\",\"GAS\",\"GAS\",\"GAS\",\"GAS\",\"GAS\",\"GAS\",\"GAS\",\"GAS\",\"GAS\",\"GAS\",\"GAS\",\"GAS\",\"GAS\",\"GAS\",\"GAS\",\"GAS\",\"GAS\",\"GAS\",\"GAS\",\"GAS\",\"GAS\",\"GAS\",\"GAS\",\"GAS\"],\"y0\":\" \",\"yaxis\":\"y\",\"type\":\"box\"},{\"alignmentgroup\":\"True\",\"boxpoints\":false,\"hovertemplate\":\"Driver=%{y}<br>Duration (Seconds, Outliers/Red Flags, Removed)=%{x}<extra></extra>\",\"legendgroup\":\"OCO\",\"marker\":{\"color\":\"#2173B8\"},\"name\":\"OCO\",\"notched\":false,\"offsetgroup\":\"OCO\",\"orientation\":\"h\",\"showlegend\":true,\"x\":[82.275,77.111,76.92699999999999,76.59700000000001,76.626,76.818,77.076,77.131,77.312,78.248,81.41,76.08500000000001,76.385,76.451,77.08,77.138,77.151,76.969,77.299,76.94200000000001,76.894,76.737,76.74,77.432,77.23,77.164,80.584,75.44200000000001,75.365,75.403,75.538,75.83,75.902,75.77,75.85,75.841,76.032,76.252,76.176,76.384,76.219,76.35,77.24,76.844,76.554,80.059,92.038,74.206,74.52,74.81,75.007,75.291,75.272,74.576,75.156,74.925,75.047,75.76],\"x0\":\" \",\"xaxis\":\"x\",\"y\":[\"OCO\",\"OCO\",\"OCO\",\"OCO\",\"OCO\",\"OCO\",\"OCO\",\"OCO\",\"OCO\",\"OCO\",\"OCO\",\"OCO\",\"OCO\",\"OCO\",\"OCO\",\"OCO\",\"OCO\",\"OCO\",\"OCO\",\"OCO\",\"OCO\",\"OCO\",\"OCO\",\"OCO\",\"OCO\",\"OCO\",\"OCO\",\"OCO\",\"OCO\",\"OCO\",\"OCO\",\"OCO\",\"OCO\",\"OCO\",\"OCO\",\"OCO\",\"OCO\",\"OCO\",\"OCO\",\"OCO\",\"OCO\",\"OCO\",\"OCO\",\"OCO\",\"OCO\",\"OCO\",\"OCO\",\"OCO\",\"OCO\",\"OCO\",\"OCO\",\"OCO\",\"OCO\",\"OCO\",\"OCO\",\"OCO\",\"OCO\",\"OCO\"],\"y0\":\" \",\"yaxis\":\"y\",\"type\":\"box\"},{\"alignmentgroup\":\"True\",\"boxpoints\":false,\"hovertemplate\":\"Driver=%{y}<br>Duration (Seconds, Outliers/Red Flags, Removed)=%{x}<extra></extra>\",\"legendgroup\":\"TSU\",\"marker\":{\"color\":\"#20394C\"},\"name\":\"TSU\",\"notched\":false,\"offsetgroup\":\"TSU\",\"orientation\":\"h\",\"showlegend\":true,\"x\":[81.84,77.524,76.953,76.656,76.679,76.792,77.038,76.956,77.146,77.042,77.333,77.27199999999999,82.255,77.044,77.018,77.17699999999999,76.725,77.119,76.752,77.095,76.936,77.048,80.763,76.133,75.599,75.716,75.67699999999999,75.613,76.113,76.088,76.167,75.664,75.685,75.826,76.007,76.011,76.088,75.852,76.24,76.178,76.425,76.30199999999999,76.304,76.815,76.414,76.362,76.094,76.01599999999999,76.053,76.151,79.809,75.502,75.20400000000001,75.063,74.789,74.664,74.366,74.49],\"x0\":\" \",\"xaxis\":\"x\",\"y\":[\"TSU\",\"TSU\",\"TSU\",\"TSU\",\"TSU\",\"TSU\",\"TSU\",\"TSU\",\"TSU\",\"TSU\",\"TSU\",\"TSU\",\"TSU\",\"TSU\",\"TSU\",\"TSU\",\"TSU\",\"TSU\",\"TSU\",\"TSU\",\"TSU\",\"TSU\",\"TSU\",\"TSU\",\"TSU\",\"TSU\",\"TSU\",\"TSU\",\"TSU\",\"TSU\",\"TSU\",\"TSU\",\"TSU\",\"TSU\",\"TSU\",\"TSU\",\"TSU\",\"TSU\",\"TSU\",\"TSU\",\"TSU\",\"TSU\",\"TSU\",\"TSU\",\"TSU\",\"TSU\",\"TSU\",\"TSU\",\"TSU\",\"TSU\",\"TSU\",\"TSU\",\"TSU\",\"TSU\",\"TSU\",\"TSU\",\"TSU\",\"TSU\"],\"y0\":\" \",\"yaxis\":\"y\",\"type\":\"box\"},{\"alignmentgroup\":\"True\",\"boxpoints\":false,\"hovertemplate\":\"Driver=%{y}<br>Duration (Seconds, Outliers/Red Flags, Removed)=%{x}<extra></extra>\",\"legendgroup\":\"HUL\",\"marker\":{\"color\":\"#E6002B\"},\"name\":\"HUL\",\"notched\":false,\"offsetgroup\":\"HUL\",\"orientation\":\"h\",\"showlegend\":true,\"x\":[80.643,78.03999999999999,77.201,76.791,76.78399999999999,76.675,77.366,77.757,77.56700000000001,79.149,78.87,79.055,79.325,78.976,78.039,77.581,77.392,81.05199999999999,77.992,77.227,77.17,77.282,76.181,76.019,75.818,76.166,76.363,76.843,76.885,76.463,76.365,76.781,76.836,78.957,77.679,77.277,77.03399999999999,76.821,76.79599999999999,76.924,77.384,80.729,76.991,76.892,76.52199999999999,76.566,76.229,76.39099999999999,75.721,76.005,75.81,75.511,75.639,76.343,75.252,75.357,75.312,75.178],\"x0\":\" \",\"xaxis\":\"x\",\"y\":[\"HUL\",\"HUL\",\"HUL\",\"HUL\",\"HUL\",\"HUL\",\"HUL\",\"HUL\",\"HUL\",\"HUL\",\"HUL\",\"HUL\",\"HUL\",\"HUL\",\"HUL\",\"HUL\",\"HUL\",\"HUL\",\"HUL\",\"HUL\",\"HUL\",\"HUL\",\"HUL\",\"HUL\",\"HUL\",\"HUL\",\"HUL\",\"HUL\",\"HUL\",\"HUL\",\"HUL\",\"HUL\",\"HUL\",\"HUL\",\"HUL\",\"HUL\",\"HUL\",\"HUL\",\"HUL\",\"HUL\",\"HUL\",\"HUL\",\"HUL\",\"HUL\",\"HUL\",\"HUL\",\"HUL\",\"HUL\",\"HUL\",\"HUL\",\"HUL\",\"HUL\",\"HUL\",\"HUL\",\"HUL\",\"HUL\",\"HUL\",\"HUL\"],\"y0\":\" \",\"yaxis\":\"y\",\"type\":\"box\"},{\"alignmentgroup\":\"True\",\"boxpoints\":false,\"hovertemplate\":\"Driver=%{y}<br>Duration (Seconds, Outliers/Red Flags, Removed)=%{x}<extra></extra>\",\"legendgroup\":\"BOT\",\"marker\":{\"color\":\"#A42134\"},\"name\":\"BOT\",\"notched\":false,\"offsetgroup\":\"BOT\",\"orientation\":\"h\",\"showlegend\":true,\"x\":[81.758,77.774,77.239,77.161,76.64,76.902,76.759,77.131,76.837,77.559,77.377,77.343,77.765,77.431,81.363,75.731,76.452,76.21000000000001,76.52199999999999,76.898,76.827,76.628,77.081,77.111,76.92099999999999,76.549,76.502,77.59700000000001,76.85300000000001,76.94,77.02199999999999,77.879,77.615,77.876,83.295],\"x0\":\" \",\"xaxis\":\"x\",\"y\":[\"BOT\",\"BOT\",\"BOT\",\"BOT\",\"BOT\",\"BOT\",\"BOT\",\"BOT\",\"BOT\",\"BOT\",\"BOT\",\"BOT\",\"BOT\",\"BOT\",\"BOT\",\"BOT\",\"BOT\",\"BOT\",\"BOT\",\"BOT\",\"BOT\",\"BOT\",\"BOT\",\"BOT\",\"BOT\",\"BOT\",\"BOT\",\"BOT\",\"BOT\",\"BOT\",\"BOT\",\"BOT\",\"BOT\",\"BOT\",\"BOT\"],\"y0\":\" \",\"yaxis\":\"y\",\"type\":\"box\"},{\"alignmentgroup\":\"True\",\"boxpoints\":false,\"hovertemplate\":\"Driver=%{y}<br>Duration (Seconds, Outliers/Red Flags, Removed)=%{x}<extra></extra>\",\"legendgroup\":\"ZHO\",\"marker\":{\"color\":\"#A42134\"},\"name\":\"ZHO\",\"notched\":false,\"offsetgroup\":\"ZHO\",\"orientation\":\"h\",\"showlegend\":true,\"x\":[81.539,78.239,77.289,77.106,76.881,76.977,76.752,77.043,77.56700000000001,77.642,77.48400000000001,81.661,76.232,76.639,77.406,76.914,76.767,90.346],\"x0\":\" \",\"xaxis\":\"x\",\"y\":[\"ZHO\",\"ZHO\",\"ZHO\",\"ZHO\",\"ZHO\",\"ZHO\",\"ZHO\",\"ZHO\",\"ZHO\",\"ZHO\",\"ZHO\",\"ZHO\",\"ZHO\",\"ZHO\",\"ZHO\",\"ZHO\",\"ZHO\",\"ZHO\"],\"y0\":\" \",\"yaxis\":\"y\",\"type\":\"box\"},{\"alignmentgroup\":\"True\",\"boxpoints\":false,\"hovertemplate\":\"Driver=%{y}<br>Duration (Seconds, Outliers/Red Flags, Removed)=%{x}<extra></extra>\",\"legendgroup\":\"SAR\",\"marker\":{\"color\":\"#00A0DE\"},\"name\":\"SAR\",\"notched\":false,\"offsetgroup\":\"SAR\",\"orientation\":\"h\",\"showlegend\":true,\"x\":[81.801,78.262,77.247,77.182,76.798,76.854,76.934,77.295,77.66,77.92099999999999,77.587,77.85,77.485,82.426,76.235,76.379,76.288,76.101,76.358,76.537,76.793,76.76599999999999,76.648,76.658,77.001,77.475,76.951,77.025,76.648,77.55799999999999,77.703,77.19200000000001,76.997,77.392,77.24,76.904,76.90899999999999,77.047,77.625,81.995,76.117,76.051,75.80799999999999,75.988,76.15299999999999,75.738,75.795,75.878,76.80199999999999,76.286,75.969,76.053,76.513,76.419,76.017,75.819,75.94200000000001,75.789],\"x0\":\" \",\"xaxis\":\"x\",\"y\":[\"SAR\",\"SAR\",\"SAR\",\"SAR\",\"SAR\",\"SAR\",\"SAR\",\"SAR\",\"SAR\",\"SAR\",\"SAR\",\"SAR\",\"SAR\",\"SAR\",\"SAR\",\"SAR\",\"SAR\",\"SAR\",\"SAR\",\"SAR\",\"SAR\",\"SAR\",\"SAR\",\"SAR\",\"SAR\",\"SAR\",\"SAR\",\"SAR\",\"SAR\",\"SAR\",\"SAR\",\"SAR\",\"SAR\",\"SAR\",\"SAR\",\"SAR\",\"SAR\",\"SAR\",\"SAR\",\"SAR\",\"SAR\",\"SAR\",\"SAR\",\"SAR\",\"SAR\",\"SAR\",\"SAR\",\"SAR\",\"SAR\",\"SAR\",\"SAR\",\"SAR\",\"SAR\",\"SAR\",\"SAR\",\"SAR\",\"SAR\",\"SAR\"],\"y0\":\" \",\"yaxis\":\"y\",\"type\":\"box\"},{\"alignmentgroup\":\"True\",\"boxpoints\":false,\"hovertemplate\":\"Driver=%{y}<br>Duration (Seconds, Outliers/Red Flags, Removed)=%{x}<extra></extra>\",\"legendgroup\":\"PIA\",\"marker\":{\"color\":\"#FF8000\"},\"name\":\"PIA\",\"notched\":false,\"offsetgroup\":\"PIA\",\"orientation\":\"h\",\"showlegend\":true,\"x\":[77.084,76.932,76.738,76.713,76.64099999999999,77.289,78.311,77.211,77.47800000000001,77.977,77.69800000000001,77.526,77.44200000000001,77.265,77.583,77.096,77.43299999999999,77.043,77.435,77.143,81.76,76.368,76.27,76.269,75.859,75.68,75.55799999999999,75.866,75.656,76.492,76.179,76.314,76.048,76.075,76.099,76.58500000000001,76.19800000000001,76.355,76.708,76.378,76.452,76.655,76.306,76.46600000000001,76.245,76.41499999999999,76.104,82.846,75.576,74.951,75.93299999999999,77.651,74.533,74.402,74.625,74.791,74.342,74.615],\"x0\":\" \",\"xaxis\":\"x\",\"y\":[\"PIA\",\"PIA\",\"PIA\",\"PIA\",\"PIA\",\"PIA\",\"PIA\",\"PIA\",\"PIA\",\"PIA\",\"PIA\",\"PIA\",\"PIA\",\"PIA\",\"PIA\",\"PIA\",\"PIA\",\"PIA\",\"PIA\",\"PIA\",\"PIA\",\"PIA\",\"PIA\",\"PIA\",\"PIA\",\"PIA\",\"PIA\",\"PIA\",\"PIA\",\"PIA\",\"PIA\",\"PIA\",\"PIA\",\"PIA\",\"PIA\",\"PIA\",\"PIA\",\"PIA\",\"PIA\",\"PIA\",\"PIA\",\"PIA\",\"PIA\",\"PIA\",\"PIA\",\"PIA\",\"PIA\",\"PIA\",\"PIA\",\"PIA\",\"PIA\",\"PIA\",\"PIA\",\"PIA\",\"PIA\",\"PIA\",\"PIA\",\"PIA\"],\"y0\":\" \",\"yaxis\":\"y\",\"type\":\"box\"},{\"alignmentgroup\":\"True\",\"boxpoints\":false,\"hovertemplate\":\"Driver=%{y}<br>Duration (Seconds, Outliers/Red Flags, Removed)=%{x}<extra></extra>\",\"legendgroup\":\"RIC\",\"marker\":{\"color\":\"#20394C\"},\"name\":\"RIC\",\"notched\":false,\"offsetgroup\":\"RIC\",\"orientation\":\"h\",\"showlegend\":true,\"x\":[76.78,76.723,76.401,76.608,76.491,77.118,76.836,76.864,77.5,78.34,76.968,77.407,77.982,76.812,77.202,76.756,76.85900000000001,76.686,76.993,76.771,76.604,78.439,80.59100000000001,75.837,75.648,75.407,76.03,76.127,76.614,75.536,76.636,75.488,75.63,75.839,76.094,75.94,75.85,76.559,76.781,76.733,76.1,76.275,76.139,76.206,75.849,76.126,75.947,76.087,75.955,76.251,79.237,75.32300000000001,74.99,74.788,74.724,74.788,74.129,74.03999999999999],\"x0\":\" \",\"xaxis\":\"x\",\"y\":[\"RIC\",\"RIC\",\"RIC\",\"RIC\",\"RIC\",\"RIC\",\"RIC\",\"RIC\",\"RIC\",\"RIC\",\"RIC\",\"RIC\",\"RIC\",\"RIC\",\"RIC\",\"RIC\",\"RIC\",\"RIC\",\"RIC\",\"RIC\",\"RIC\",\"RIC\",\"RIC\",\"RIC\",\"RIC\",\"RIC\",\"RIC\",\"RIC\",\"RIC\",\"RIC\",\"RIC\",\"RIC\",\"RIC\",\"RIC\",\"RIC\",\"RIC\",\"RIC\",\"RIC\",\"RIC\",\"RIC\",\"RIC\",\"RIC\",\"RIC\",\"RIC\",\"RIC\",\"RIC\",\"RIC\",\"RIC\",\"RIC\",\"RIC\",\"RIC\",\"RIC\",\"RIC\",\"RIC\",\"RIC\",\"RIC\",\"RIC\",\"RIC\"],\"y0\":\" \",\"yaxis\":\"y\",\"type\":\"box\"},{\"alignmentgroup\":\"True\",\"boxpoints\":false,\"hovertemplate\":\"Driver=%{y}<br>Duration (Seconds, Outliers/Red Flags, Removed)=%{x}<extra></extra>\",\"legendgroup\":\"VER\",\"marker\":{\"color\":\"#000B8D\"},\"name\":\"VER\",\"notched\":false,\"offsetgroup\":\"VER\",\"orientation\":\"h\",\"showlegend\":true,\"x\":[75.745,75.547,75.591,75.864,76.169,75.989,76.27199999999999,75.879,76.299,76.08,76.408,76.305,76.17,76.34100000000001,76.047,75.996,76.207,76.206,76.026,76.39699999999999,76.269,76.435,80.264,75.713,75.799,75.787,75.439,75.174,75.115,75.157,75.125,74.682,74.95400000000001,74.974,75.218,75.355,75.202,75.05199999999999,75.32,75.471,75.32900000000001,75.362,75.524,75.44200000000001,75.436,75.44,75.39,75.306,75.388,75.521,79.309,91.318,74.044,74.089,74.265,74.584,74.512,74.349],\"x0\":\" \",\"xaxis\":\"x\",\"y\":[\"VER\",\"VER\",\"VER\",\"VER\",\"VER\",\"VER\",\"VER\",\"VER\",\"VER\",\"VER\",\"VER\",\"VER\",\"VER\",\"VER\",\"VER\",\"VER\",\"VER\",\"VER\",\"VER\",\"VER\",\"VER\",\"VER\",\"VER\",\"VER\",\"VER\",\"VER\",\"VER\",\"VER\",\"VER\",\"VER\",\"VER\",\"VER\",\"VER\",\"VER\",\"VER\",\"VER\",\"VER\",\"VER\",\"VER\",\"VER\",\"VER\",\"VER\",\"VER\",\"VER\",\"VER\",\"VER\",\"VER\",\"VER\",\"VER\",\"VER\",\"VER\",\"VER\",\"VER\",\"VER\",\"VER\",\"VER\",\"VER\",\"VER\"],\"y0\":\" \",\"yaxis\":\"y\",\"type\":\"box\"},{\"alignmentgroup\":\"True\",\"boxpoints\":false,\"hovertemplate\":\"Driver=%{y}<br>Duration (Seconds, Outliers/Red Flags, Removed)=%{x}<extra></extra>\",\"legendgroup\":\"NOR\",\"marker\":{\"color\":\"#FF8000\"},\"name\":\"NOR\",\"notched\":false,\"offsetgroup\":\"NOR\",\"orientation\":\"h\",\"showlegend\":true,\"x\":[76.231,74.94,75.428,76.737,76.576,76.67099999999999,76.043,76.015,76.365,76.27,76.174,76.504,76.515,76.267,76.05799999999999,76.33,76.355,76.196,76.343,76.512,76.315,76.264,80.818,75.691,76.2,75.553,75.333,75.266,75.053,74.985,74.845,74.92699999999999,74.94,75.071,75.273,75.42699999999999,75.502,75.199,75.62,75.651,75.58500000000001,75.572,75.496,75.655,75.696,75.819,75.414,75.32300000000001,75.513,75.643,75.709,75.629,75.813,79.79599999999999,91.709,72.486,73.81,73.367],\"x0\":\" \",\"xaxis\":\"x\",\"y\":[\"NOR\",\"NOR\",\"NOR\",\"NOR\",\"NOR\",\"NOR\",\"NOR\",\"NOR\",\"NOR\",\"NOR\",\"NOR\",\"NOR\",\"NOR\",\"NOR\",\"NOR\",\"NOR\",\"NOR\",\"NOR\",\"NOR\",\"NOR\",\"NOR\",\"NOR\",\"NOR\",\"NOR\",\"NOR\",\"NOR\",\"NOR\",\"NOR\",\"NOR\",\"NOR\",\"NOR\",\"NOR\",\"NOR\",\"NOR\",\"NOR\",\"NOR\",\"NOR\",\"NOR\",\"NOR\",\"NOR\",\"NOR\",\"NOR\",\"NOR\",\"NOR\",\"NOR\",\"NOR\",\"NOR\",\"NOR\",\"NOR\",\"NOR\",\"NOR\",\"NOR\",\"NOR\",\"NOR\",\"NOR\",\"NOR\",\"NOR\",\"NOR\"],\"y0\":\" \",\"yaxis\":\"y\",\"type\":\"box\"},{\"alignmentgroup\":\"True\",\"boxpoints\":false,\"hovertemplate\":\"Driver=%{y}<br>Duration (Seconds, Outliers/Red Flags, Removed)=%{x}<extra></extra>\",\"legendgroup\":\"ALO\",\"marker\":{\"color\":\"#002420\"},\"name\":\"ALO\",\"notched\":false,\"offsetgroup\":\"ALO\",\"orientation\":\"h\",\"showlegend\":true,\"x\":[76.483,75.925,75.972,76.111,76.277,76.25,76.412,76.48400000000001,76.336,76.34100000000001,76.398,76.388,76.617,76.95400000000001,76.51,76.85300000000001,76.615,76.5,76.687,77.281,80.97200000000001,76.331,76.202,76.128,76.059,76.095,76.02799999999999,75.836,75.849,75.721,75.944,75.701,75.949,76.015,76.07,76.136,76.262,75.773,75.836,75.912,75.74,79.763,75.582,75.783,75.39,75.345,74.79599999999999,74.44200000000001,74.695,74.765,74.694,74.523,74.67699999999999,74.999,74.912,74.674,74.652],\"x0\":\" \",\"xaxis\":\"x\",\"y\":[\"ALO\",\"ALO\",\"ALO\",\"ALO\",\"ALO\",\"ALO\",\"ALO\",\"ALO\",\"ALO\",\"ALO\",\"ALO\",\"ALO\",\"ALO\",\"ALO\",\"ALO\",\"ALO\",\"ALO\",\"ALO\",\"ALO\",\"ALO\",\"ALO\",\"ALO\",\"ALO\",\"ALO\",\"ALO\",\"ALO\",\"ALO\",\"ALO\",\"ALO\",\"ALO\",\"ALO\",\"ALO\",\"ALO\",\"ALO\",\"ALO\",\"ALO\",\"ALO\",\"ALO\",\"ALO\",\"ALO\",\"ALO\",\"ALO\",\"ALO\",\"ALO\",\"ALO\",\"ALO\",\"ALO\",\"ALO\",\"ALO\",\"ALO\",\"ALO\",\"ALO\",\"ALO\",\"ALO\",\"ALO\",\"ALO\",\"ALO\"],\"y0\":\" \",\"yaxis\":\"y\",\"type\":\"box\"},{\"alignmentgroup\":\"True\",\"boxpoints\":false,\"hovertemplate\":\"Driver=%{y}<br>Duration (Seconds, Outliers/Red Flags, Removed)=%{x}<extra></extra>\",\"legendgroup\":\"HAM\",\"marker\":{\"color\":\"#00A19B\"},\"name\":\"HAM\",\"notched\":false,\"offsetgroup\":\"HAM\",\"orientation\":\"h\",\"showlegend\":true,\"x\":[76.838,76.481,76.474,76.57,76.543,76.739,76.599,76.951,76.996,77.096,76.977,77.252,77.36,82.182,76.419,75.516,76.146,77.773,76.884,77.027,76.74,77.041,76.465,76.207,76.274,76.179,76.077,76.089,76.382,76.146,76.283,77.544,76.327,76.616,76.363,76.389,76.426,76.53999999999999,77.225,76.975,80.492,75.758,75.821,75.945,75.764,75.696,75.416,75.205,75.17,75.313,75.031,74.905,74.739,75.173,75.299,75.358,75.131],\"x0\":\" \",\"xaxis\":\"x\",\"y\":[\"HAM\",\"HAM\",\"HAM\",\"HAM\",\"HAM\",\"HAM\",\"HAM\",\"HAM\",\"HAM\",\"HAM\",\"HAM\",\"HAM\",\"HAM\",\"HAM\",\"HAM\",\"HAM\",\"HAM\",\"HAM\",\"HAM\",\"HAM\",\"HAM\",\"HAM\",\"HAM\",\"HAM\",\"HAM\",\"HAM\",\"HAM\",\"HAM\",\"HAM\",\"HAM\",\"HAM\",\"HAM\",\"HAM\",\"HAM\",\"HAM\",\"HAM\",\"HAM\",\"HAM\",\"HAM\",\"HAM\",\"HAM\",\"HAM\",\"HAM\",\"HAM\",\"HAM\",\"HAM\",\"HAM\",\"HAM\",\"HAM\",\"HAM\",\"HAM\",\"HAM\",\"HAM\",\"HAM\",\"HAM\",\"HAM\",\"HAM\"],\"y0\":\" \",\"yaxis\":\"y\",\"type\":\"box\"},{\"alignmentgroup\":\"True\",\"boxpoints\":false,\"hovertemplate\":\"Driver=%{y}<br>Duration (Seconds, Outliers/Red Flags, Removed)=%{x}<extra></extra>\",\"legendgroup\":\"RUS\",\"marker\":{\"color\":\"#00A19B\"},\"name\":\"RUS\",\"notched\":false,\"offsetgroup\":\"RUS\",\"orientation\":\"h\",\"showlegend\":true,\"x\":[76.92099999999999,76.431,76.483,76.65899999999999,76.663,76.721,76.93299999999999,76.977,77.056,78.041,77.315,77.196,77.392,77.319,80.533,76.57300000000001,76.65299999999999,77.088,76.9,77.08,76.495,75.628,76.262,76.305,76.294,76.298,76.161,76.43299999999999,76.636,77.27,76.831,76.742,76.644,76.674,76.906,76.709,77.0,77.74,77.422,81.18299999999999,76.53399999999999,76.373,76.313,76.424,75.936,75.633,75.478,75.063,74.934,75.128],\"x0\":\" \",\"xaxis\":\"x\",\"y\":[\"RUS\",\"RUS\",\"RUS\",\"RUS\",\"RUS\",\"RUS\",\"RUS\",\"RUS\",\"RUS\",\"RUS\",\"RUS\",\"RUS\",\"RUS\",\"RUS\",\"RUS\",\"RUS\",\"RUS\",\"RUS\",\"RUS\",\"RUS\",\"RUS\",\"RUS\",\"RUS\",\"RUS\",\"RUS\",\"RUS\",\"RUS\",\"RUS\",\"RUS\",\"RUS\",\"RUS\",\"RUS\",\"RUS\",\"RUS\",\"RUS\",\"RUS\",\"RUS\",\"RUS\",\"RUS\",\"RUS\",\"RUS\",\"RUS\",\"RUS\",\"RUS\",\"RUS\",\"RUS\",\"RUS\",\"RUS\",\"RUS\",\"RUS\"],\"y0\":\" \",\"yaxis\":\"y\",\"type\":\"box\"},{\"alignmentgroup\":\"True\",\"boxpoints\":false,\"hovertemplate\":\"Driver=%{y}<br>Duration (Seconds, Outliers/Red Flags, Removed)=%{x}<extra></extra>\",\"legendgroup\":\"PER\",\"marker\":{\"color\":\"#000B8D\"},\"name\":\"PER\",\"notched\":false,\"offsetgroup\":\"PER\",\"orientation\":\"h\",\"showlegend\":true,\"x\":[77.043,76.294,76.365,76.762,76.53999999999999,76.541,77.152,76.878,76.96600000000001,77.24,76.7,76.547,77.27,77.261,76.93,80.985,75.998,76.388,76.056,75.969,75.791,75.463,75.654,75.842,75.848,75.778,75.759,75.641,75.732,75.527,75.996,76.062,76.02799999999999,76.126,76.41499999999999,76.078,76.038,76.30799999999999,76.369,76.32,80.23400000000001,75.224,74.977,75.34,74.778,74.749,74.759,74.477,74.124,74.956,74.686,74.36,74.543,75.126,75.048,74.771,74.638],\"x0\":\" \",\"xaxis\":\"x\",\"y\":[\"PER\",\"PER\",\"PER\",\"PER\",\"PER\",\"PER\",\"PER\",\"PER\",\"PER\",\"PER\",\"PER\",\"PER\",\"PER\",\"PER\",\"PER\",\"PER\",\"PER\",\"PER\",\"PER\",\"PER\",\"PER\",\"PER\",\"PER\",\"PER\",\"PER\",\"PER\",\"PER\",\"PER\",\"PER\",\"PER\",\"PER\",\"PER\",\"PER\",\"PER\",\"PER\",\"PER\",\"PER\",\"PER\",\"PER\",\"PER\",\"PER\",\"PER\",\"PER\",\"PER\",\"PER\",\"PER\",\"PER\",\"PER\",\"PER\",\"PER\",\"PER\",\"PER\",\"PER\",\"PER\",\"PER\",\"PER\",\"PER\"],\"y0\":\" \",\"yaxis\":\"y\",\"type\":\"box\"},{\"alignmentgroup\":\"True\",\"boxpoints\":false,\"hovertemplate\":\"Driver=%{y}<br>Duration (Seconds, Outliers/Red Flags, Removed)=%{x}<extra></extra>\",\"legendgroup\":\"STR\",\"marker\":{\"color\":\"#002420\"},\"name\":\"STR\",\"notched\":false,\"offsetgroup\":\"STR\",\"orientation\":\"h\",\"showlegend\":true,\"x\":[76.959,76.443,76.455,76.467,76.7,76.91499999999999,76.932,77.048,77.07900000000001,77.417,77.253,77.281,77.275,77.406,77.276,77.197,77.361,80.608,75.676,75.797,75.772,75.879,76.038,75.929,75.913,75.905,76.093,75.843,76.135,75.73,75.565,75.93,75.822,76.176,75.99,75.944,76.185,76.26599999999999,76.56,76.481,76.191,76.258,76.149,76.19800000000001,75.943,76.44200000000001,79.71600000000001,74.408,75.148,74.729,74.646,74.522,74.13,74.409,74.477,74.34,74.282],\"x0\":\" \",\"xaxis\":\"x\",\"y\":[\"STR\",\"STR\",\"STR\",\"STR\",\"STR\",\"STR\",\"STR\",\"STR\",\"STR\",\"STR\",\"STR\",\"STR\",\"STR\",\"STR\",\"STR\",\"STR\",\"STR\",\"STR\",\"STR\",\"STR\",\"STR\",\"STR\",\"STR\",\"STR\",\"STR\",\"STR\",\"STR\",\"STR\",\"STR\",\"STR\",\"STR\",\"STR\",\"STR\",\"STR\",\"STR\",\"STR\",\"STR\",\"STR\",\"STR\",\"STR\",\"STR\",\"STR\",\"STR\",\"STR\",\"STR\",\"STR\",\"STR\",\"STR\",\"STR\",\"STR\",\"STR\",\"STR\",\"STR\",\"STR\",\"STR\",\"STR\",\"STR\"],\"y0\":\" \",\"yaxis\":\"y\",\"type\":\"box\"},{\"alignmentgroup\":\"True\",\"boxpoints\":false,\"hovertemplate\":\"Driver=%{y}<br>Duration (Seconds, Outliers/Red Flags, Removed)=%{x}<extra></extra>\",\"legendgroup\":\"SAI\",\"marker\":{\"color\":\"#EF1A2D\"},\"name\":\"SAI\",\"notched\":false,\"offsetgroup\":\"SAI\",\"orientation\":\"h\",\"showlegend\":true,\"x\":[77.24,76.543,76.465,76.539,76.623,76.844,76.89699999999999,77.19,76.895,77.355,77.383,77.506,77.265,77.343,77.221,77.229,77.36,77.02199999999999,76.752,77.139,77.424,81.05799999999999,75.399,75.836,75.758,75.59,75.5,75.638,76.049,75.913,75.603,75.94800000000001,75.977,75.962,75.862,75.97,76.167,76.19800000000001,76.545,76.526,76.521,76.247,76.291,76.166,75.997,80.34100000000001,75.008,75.069,75.193,75.148,74.611,74.687,74.406,74.569,74.67099999999999,74.581,74.676],\"x0\":\" \",\"xaxis\":\"x\",\"y\":[\"SAI\",\"SAI\",\"SAI\",\"SAI\",\"SAI\",\"SAI\",\"SAI\",\"SAI\",\"SAI\",\"SAI\",\"SAI\",\"SAI\",\"SAI\",\"SAI\",\"SAI\",\"SAI\",\"SAI\",\"SAI\",\"SAI\",\"SAI\",\"SAI\",\"SAI\",\"SAI\",\"SAI\",\"SAI\",\"SAI\",\"SAI\",\"SAI\",\"SAI\",\"SAI\",\"SAI\",\"SAI\",\"SAI\",\"SAI\",\"SAI\",\"SAI\",\"SAI\",\"SAI\",\"SAI\",\"SAI\",\"SAI\",\"SAI\",\"SAI\",\"SAI\",\"SAI\",\"SAI\",\"SAI\",\"SAI\",\"SAI\",\"SAI\",\"SAI\",\"SAI\",\"SAI\",\"SAI\",\"SAI\",\"SAI\",\"SAI\"],\"y0\":\" \",\"yaxis\":\"y\",\"type\":\"box\"}],                        {\"template\":{\"data\":{\"histogram2dcontour\":[{\"type\":\"histogram2dcontour\",\"colorbar\":{\"outlinewidth\":0,\"ticks\":\"\"},\"colorscale\":[[0.0,\"#0d0887\"],[0.1111111111111111,\"#46039f\"],[0.2222222222222222,\"#7201a8\"],[0.3333333333333333,\"#9c179e\"],[0.4444444444444444,\"#bd3786\"],[0.5555555555555556,\"#d8576b\"],[0.6666666666666666,\"#ed7953\"],[0.7777777777777778,\"#fb9f3a\"],[0.8888888888888888,\"#fdca26\"],[1.0,\"#f0f921\"]]}],\"choropleth\":[{\"type\":\"choropleth\",\"colorbar\":{\"outlinewidth\":0,\"ticks\":\"\"}}],\"histogram2d\":[{\"type\":\"histogram2d\",\"colorbar\":{\"outlinewidth\":0,\"ticks\":\"\"},\"colorscale\":[[0.0,\"#0d0887\"],[0.1111111111111111,\"#46039f\"],[0.2222222222222222,\"#7201a8\"],[0.3333333333333333,\"#9c179e\"],[0.4444444444444444,\"#bd3786\"],[0.5555555555555556,\"#d8576b\"],[0.6666666666666666,\"#ed7953\"],[0.7777777777777778,\"#fb9f3a\"],[0.8888888888888888,\"#fdca26\"],[1.0,\"#f0f921\"]]}],\"heatmap\":[{\"type\":\"heatmap\",\"colorbar\":{\"outlinewidth\":0,\"ticks\":\"\"},\"colorscale\":[[0.0,\"#0d0887\"],[0.1111111111111111,\"#46039f\"],[0.2222222222222222,\"#7201a8\"],[0.3333333333333333,\"#9c179e\"],[0.4444444444444444,\"#bd3786\"],[0.5555555555555556,\"#d8576b\"],[0.6666666666666666,\"#ed7953\"],[0.7777777777777778,\"#fb9f3a\"],[0.8888888888888888,\"#fdca26\"],[1.0,\"#f0f921\"]]}],\"heatmapgl\":[{\"type\":\"heatmapgl\",\"colorbar\":{\"outlinewidth\":0,\"ticks\":\"\"},\"colorscale\":[[0.0,\"#0d0887\"],[0.1111111111111111,\"#46039f\"],[0.2222222222222222,\"#7201a8\"],[0.3333333333333333,\"#9c179e\"],[0.4444444444444444,\"#bd3786\"],[0.5555555555555556,\"#d8576b\"],[0.6666666666666666,\"#ed7953\"],[0.7777777777777778,\"#fb9f3a\"],[0.8888888888888888,\"#fdca26\"],[1.0,\"#f0f921\"]]}],\"contourcarpet\":[{\"type\":\"contourcarpet\",\"colorbar\":{\"outlinewidth\":0,\"ticks\":\"\"}}],\"contour\":[{\"type\":\"contour\",\"colorbar\":{\"outlinewidth\":0,\"ticks\":\"\"},\"colorscale\":[[0.0,\"#0d0887\"],[0.1111111111111111,\"#46039f\"],[0.2222222222222222,\"#7201a8\"],[0.3333333333333333,\"#9c179e\"],[0.4444444444444444,\"#bd3786\"],[0.5555555555555556,\"#d8576b\"],[0.6666666666666666,\"#ed7953\"],[0.7777777777777778,\"#fb9f3a\"],[0.8888888888888888,\"#fdca26\"],[1.0,\"#f0f921\"]]}],\"surface\":[{\"type\":\"surface\",\"colorbar\":{\"outlinewidth\":0,\"ticks\":\"\"},\"colorscale\":[[0.0,\"#0d0887\"],[0.1111111111111111,\"#46039f\"],[0.2222222222222222,\"#7201a8\"],[0.3333333333333333,\"#9c179e\"],[0.4444444444444444,\"#bd3786\"],[0.5555555555555556,\"#d8576b\"],[0.6666666666666666,\"#ed7953\"],[0.7777777777777778,\"#fb9f3a\"],[0.8888888888888888,\"#fdca26\"],[1.0,\"#f0f921\"]]}],\"mesh3d\":[{\"type\":\"mesh3d\",\"colorbar\":{\"outlinewidth\":0,\"ticks\":\"\"}}],\"scatter\":[{\"fillpattern\":{\"fillmode\":\"overlay\",\"size\":10,\"solidity\":0.2},\"type\":\"scatter\"}],\"parcoords\":[{\"type\":\"parcoords\",\"line\":{\"colorbar\":{\"outlinewidth\":0,\"ticks\":\"\"}}}],\"scatterpolargl\":[{\"type\":\"scatterpolargl\",\"marker\":{\"colorbar\":{\"outlinewidth\":0,\"ticks\":\"\"}}}],\"bar\":[{\"error_x\":{\"color\":\"#2a3f5f\"},\"error_y\":{\"color\":\"#2a3f5f\"},\"marker\":{\"line\":{\"color\":\"#E5ECF6\",\"width\":0.5},\"pattern\":{\"fillmode\":\"overlay\",\"size\":10,\"solidity\":0.2}},\"type\":\"bar\"}],\"scattergeo\":[{\"type\":\"scattergeo\",\"marker\":{\"colorbar\":{\"outlinewidth\":0,\"ticks\":\"\"}}}],\"scatterpolar\":[{\"type\":\"scatterpolar\",\"marker\":{\"colorbar\":{\"outlinewidth\":0,\"ticks\":\"\"}}}],\"histogram\":[{\"marker\":{\"pattern\":{\"fillmode\":\"overlay\",\"size\":10,\"solidity\":0.2}},\"type\":\"histogram\"}],\"scattergl\":[{\"type\":\"scattergl\",\"marker\":{\"colorbar\":{\"outlinewidth\":0,\"ticks\":\"\"}}}],\"scatter3d\":[{\"type\":\"scatter3d\",\"line\":{\"colorbar\":{\"outlinewidth\":0,\"ticks\":\"\"}},\"marker\":{\"colorbar\":{\"outlinewidth\":0,\"ticks\":\"\"}}}],\"scattermapbox\":[{\"type\":\"scattermapbox\",\"marker\":{\"colorbar\":{\"outlinewidth\":0,\"ticks\":\"\"}}}],\"scatterternary\":[{\"type\":\"scatterternary\",\"marker\":{\"colorbar\":{\"outlinewidth\":0,\"ticks\":\"\"}}}],\"scattercarpet\":[{\"type\":\"scattercarpet\",\"marker\":{\"colorbar\":{\"outlinewidth\":0,\"ticks\":\"\"}}}],\"carpet\":[{\"aaxis\":{\"endlinecolor\":\"#2a3f5f\",\"gridcolor\":\"white\",\"linecolor\":\"white\",\"minorgridcolor\":\"white\",\"startlinecolor\":\"#2a3f5f\"},\"baxis\":{\"endlinecolor\":\"#2a3f5f\",\"gridcolor\":\"white\",\"linecolor\":\"white\",\"minorgridcolor\":\"white\",\"startlinecolor\":\"#2a3f5f\"},\"type\":\"carpet\"}],\"table\":[{\"cells\":{\"fill\":{\"color\":\"#EBF0F8\"},\"line\":{\"color\":\"white\"}},\"header\":{\"fill\":{\"color\":\"#C8D4E3\"},\"line\":{\"color\":\"white\"}},\"type\":\"table\"}],\"barpolar\":[{\"marker\":{\"line\":{\"color\":\"#E5ECF6\",\"width\":0.5},\"pattern\":{\"fillmode\":\"overlay\",\"size\":10,\"solidity\":0.2}},\"type\":\"barpolar\"}],\"pie\":[{\"automargin\":true,\"type\":\"pie\"}]},\"layout\":{\"autotypenumbers\":\"strict\",\"colorway\":[\"#636efa\",\"#EF553B\",\"#00cc96\",\"#ab63fa\",\"#FFA15A\",\"#19d3f3\",\"#FF6692\",\"#B6E880\",\"#FF97FF\",\"#FECB52\"],\"font\":{\"color\":\"#2a3f5f\"},\"hovermode\":\"closest\",\"hoverlabel\":{\"align\":\"left\"},\"paper_bgcolor\":\"white\",\"plot_bgcolor\":\"#E5ECF6\",\"polar\":{\"bgcolor\":\"#E5ECF6\",\"angularaxis\":{\"gridcolor\":\"white\",\"linecolor\":\"white\",\"ticks\":\"\"},\"radialaxis\":{\"gridcolor\":\"white\",\"linecolor\":\"white\",\"ticks\":\"\"}},\"ternary\":{\"bgcolor\":\"#E5ECF6\",\"aaxis\":{\"gridcolor\":\"white\",\"linecolor\":\"white\",\"ticks\":\"\"},\"baxis\":{\"gridcolor\":\"white\",\"linecolor\":\"white\",\"ticks\":\"\"},\"caxis\":{\"gridcolor\":\"white\",\"linecolor\":\"white\",\"ticks\":\"\"}},\"coloraxis\":{\"colorbar\":{\"outlinewidth\":0,\"ticks\":\"\"}},\"colorscale\":{\"sequential\":[[0.0,\"#0d0887\"],[0.1111111111111111,\"#46039f\"],[0.2222222222222222,\"#7201a8\"],[0.3333333333333333,\"#9c179e\"],[0.4444444444444444,\"#bd3786\"],[0.5555555555555556,\"#d8576b\"],[0.6666666666666666,\"#ed7953\"],[0.7777777777777778,\"#fb9f3a\"],[0.8888888888888888,\"#fdca26\"],[1.0,\"#f0f921\"]],\"sequentialminus\":[[0.0,\"#0d0887\"],[0.1111111111111111,\"#46039f\"],[0.2222222222222222,\"#7201a8\"],[0.3333333333333333,\"#9c179e\"],[0.4444444444444444,\"#bd3786\"],[0.5555555555555556,\"#d8576b\"],[0.6666666666666666,\"#ed7953\"],[0.7777777777777778,\"#fb9f3a\"],[0.8888888888888888,\"#fdca26\"],[1.0,\"#f0f921\"]],\"diverging\":[[0,\"#8e0152\"],[0.1,\"#c51b7d\"],[0.2,\"#de77ae\"],[0.3,\"#f1b6da\"],[0.4,\"#fde0ef\"],[0.5,\"#f7f7f7\"],[0.6,\"#e6f5d0\"],[0.7,\"#b8e186\"],[0.8,\"#7fbc41\"],[0.9,\"#4d9221\"],[1,\"#276419\"]]},\"xaxis\":{\"gridcolor\":\"white\",\"linecolor\":\"white\",\"ticks\":\"\",\"title\":{\"standoff\":15},\"zerolinecolor\":\"white\",\"automargin\":true,\"zerolinewidth\":2},\"yaxis\":{\"gridcolor\":\"white\",\"linecolor\":\"white\",\"ticks\":\"\",\"title\":{\"standoff\":15},\"zerolinecolor\":\"white\",\"automargin\":true,\"zerolinewidth\":2},\"scene\":{\"xaxis\":{\"backgroundcolor\":\"#E5ECF6\",\"gridcolor\":\"white\",\"linecolor\":\"white\",\"showbackground\":true,\"ticks\":\"\",\"zerolinecolor\":\"white\",\"gridwidth\":2},\"yaxis\":{\"backgroundcolor\":\"#E5ECF6\",\"gridcolor\":\"white\",\"linecolor\":\"white\",\"showbackground\":true,\"ticks\":\"\",\"zerolinecolor\":\"white\",\"gridwidth\":2},\"zaxis\":{\"backgroundcolor\":\"#E5ECF6\",\"gridcolor\":\"white\",\"linecolor\":\"white\",\"showbackground\":true,\"ticks\":\"\",\"zerolinecolor\":\"white\",\"gridwidth\":2}},\"shapedefaults\":{\"line\":{\"color\":\"#2a3f5f\"}},\"annotationdefaults\":{\"arrowcolor\":\"#2a3f5f\",\"arrowhead\":0,\"arrowwidth\":1},\"geo\":{\"bgcolor\":\"white\",\"landcolor\":\"#E5ECF6\",\"subunitcolor\":\"white\",\"showland\":true,\"showlakes\":true,\"lakecolor\":\"white\"},\"title\":{\"x\":0.05},\"mapbox\":{\"style\":\"light\"}}},\"xaxis\":{\"anchor\":\"y\",\"domain\":[0.0,1.0],\"title\":{\"text\":\"Duration (Seconds, Outliers/Red Flags, Removed)\"}},\"yaxis\":{\"anchor\":\"x\",\"domain\":[0.0,1.0],\"title\":{\"text\":\"Driver\"},\"categoryorder\":\"array\",\"categoryarray\":[\"SAI\",\"STR\",\"PER\",\"RUS\",\"HAM\",\"ALO\",\"NOR\",\"VER\",\"RIC\",\"PIA\",\"SAR\",\"ZHO\",\"BOT\",\"HUL\",\"TSU\",\"OCO\",\"GAS\"]},\"legend\":{\"title\":{\"text\":\"Driver\"},\"tracegroupgap\":0},\"margin\":{\"t\":60},\"boxmode\":\"overlay\",\"showlegend\":false,\"title\":{\"font\":{\"family\":\"Arial, sans-serif\",\"size\":30},\"text\":\"<b>Lap Times</b>\",\"x\":0.5}},                        {\"responsive\": true}                    ).then(function(){\n",
       "                            \n",
       "var gd = document.getElementById('dde11967-6b57-4a96-9e18-b70dfc9e8923');\n",
       "var x = new MutationObserver(function (mutations, observer) {{\n",
       "        var display = window.getComputedStyle(gd).display;\n",
       "        if (!display || display === 'none') {{\n",
       "            console.log([gd, 'removed!']);\n",
       "            Plotly.purge(gd);\n",
       "            observer.disconnect();\n",
       "        }}\n",
       "}});\n",
       "\n",
       "// Listen for the removal of the full notebook cells\n",
       "var notebookContainer = gd.closest('#notebook-container');\n",
       "if (notebookContainer) {{\n",
       "    x.observe(notebookContainer, {childList: true});\n",
       "}}\n",
       "\n",
       "// Listen for the clearing of the current output cell\n",
       "var outputEl = gd.closest('.output');\n",
       "if (outputEl) {{\n",
       "    x.observe(outputEl, {childList: true});\n",
       "}}\n",
       "\n",
       "                        })                };                });            </script>        </div>"
      ]
     },
     "metadata": {},
     "output_type": "display_data"
    }
   ],
   "source": [
    "if not lap_tim_emp:\n",
    "    fig = px.box(lap_driver_no, x=\"duration\", y=\"Driver\", color='Driver', points=False, color_discrete_map=color_map, labels={\n",
    "    \"code\": \"Driver\",\n",
    "    \"duration\":\"Duration (Seconds, Outliers/Red Flags, Removed)\"\n",
    "    })\n",
    "    fig.update_layout(showlegend=False)\n",
    "    fig.update_layout(title_text='<b>Lap Times</b>', titlefont = dict(\n",
    "         family = 'Arial, sans-serif',\n",
    "         size = 30\n",
    "      ), title_x=0.5)\n",
    "    fig.show()\n",
    "else:\n",
    "        display(md(f\"<h1 style='background:#FFF200;border:0; color:black;box-shadow: 10px 10px 5px 0px rgba(0,0,0,0.75);transform: rotateX(10deg);'><center style='color: black;'>No Lap Data Available From API</center></h1>\"))"
   ]
  },
  {
   "cell_type": "code",
   "execution_count": 28,
   "id": "db3b568d",
   "metadata": {
    "_kg_hide-input": true,
    "execution": {
     "iopub.execute_input": "2023-11-10T04:04:53.581435Z",
     "iopub.status.busy": "2023-11-10T04:04:53.581001Z",
     "iopub.status.idle": "2023-11-10T04:04:53.604750Z",
     "shell.execute_reply": "2023-11-10T04:04:53.603032Z"
    },
    "papermill": {
     "duration": 0.05188,
     "end_time": "2023-11-10T04:04:53.608010",
     "exception": false,
     "start_time": "2023-11-10T04:04:53.556130",
     "status": "completed"
    },
    "tags": []
   },
   "outputs": [],
   "source": [
    "def multi_lap_plot(names, addAll = True):\n",
    "    fig = go.Figure()\n",
    "\n",
    "    fig = px.line(lap_driver_no, x=\"lap\", y=\"duration\", color='Driver', labels={\n",
    "    \"duration\": \"Lap Time (In seconds, Outliers/Red Flags Removed)\",\n",
    "    \"lap\": \"Lap\"\n",
    "}, title='Lap Times', color_discrete_map=color_map)\n",
    "    fig.update_layout(title_text='<b>Lap Times</b>', titlefont = dict(\n",
    "         family = 'Arial, sans-serif',\n",
    "         size = 30\n",
    "      ), title_x=0.5)\n",
    "\n",
    "    button_all = dict(label = 'All',\n",
    "                      method = 'update',\n",
    "                      args = [{'visible': [True]*len(names),\n",
    "                               'title': 'All',\n",
    "                               'showlegend':True}])\n",
    "\n",
    "    def create_layout_button(column):\n",
    "        return dict(label = column,\n",
    "                    method = 'update',\n",
    "                    args = [{'visible': [c == column for c in names],\n",
    "                             'title': column,\n",
    "                             'showlegend': True}])\n",
    "\n",
    "    fig.update_layout(\n",
    "        updatemenus=[go.layout.Updatemenu(\n",
    "            active = 0,\n",
    "            buttons = ([button_all] * addAll) + [create_layout_button(column) for column in names]\n",
    "            )\n",
    "        ])\n",
    "    \n",
    "    fig.show()\n",
    "    \n",
    "    \n",
    "    \n",
    "def multi_pos_plot(names, addAll = True):\n",
    "    fig = go.Figure()\n",
    "\n",
    "    fig = px.line(lap_driver, x=\"lap\", y=\"position\", color='Driver', labels={\n",
    "    \"position\":  \"Position\",\n",
    "    \"lap\": \"Lap\"\n",
    "}, color_discrete_map=color_map)\n",
    "    fig.update_layout(title_text='<b>Position By Lap</b>', titlefont = dict(\n",
    "         family = 'Arial, sans-serif',\n",
    "         size = 30\n",
    "      ), title_x=0.5)\n",
    "\n",
    "    button_all = dict(label = 'All',\n",
    "                      method = 'update',\n",
    "                      args = [{'visible': [True]*len(names),\n",
    "                               'title': 'All',\n",
    "                               'showlegend':True}])\n",
    "\n",
    "    def create_layout_button(column):\n",
    "        return dict(label = column,\n",
    "                    method = 'update',\n",
    "                    args = [{'visible': [c == column for c in names],\n",
    "                             'title': column,\n",
    "                             'showlegend': True}])\n",
    "\n",
    "    fig.update_layout(\n",
    "        updatemenus=[go.layout.Updatemenu(\n",
    "            active = 0,\n",
    "            buttons = ([button_all] * addAll) + [create_layout_button(column) for column in names]\n",
    "            )\n",
    "        ])\n",
    "    \n",
    "    fig.show()\n"
   ]
  },
  {
   "cell_type": "code",
   "execution_count": 29,
   "id": "2cf4f37b",
   "metadata": {
    "_kg_hide-input": true,
    "execution": {
     "iopub.execute_input": "2023-11-10T04:04:53.656766Z",
     "iopub.status.busy": "2023-11-10T04:04:53.656241Z",
     "iopub.status.idle": "2023-11-10T04:04:53.839597Z",
     "shell.execute_reply": "2023-11-10T04:04:53.838165Z"
    },
    "papermill": {
     "duration": 0.211415,
     "end_time": "2023-11-10T04:04:53.842936",
     "exception": false,
     "start_time": "2023-11-10T04:04:53.631521",
     "status": "completed"
    },
    "tags": []
   },
   "outputs": [
    {
     "data": {
      "text/html": [
       "<div>                            <div id=\"fa546083-fc9e-4d1d-8fe8-9491ccbb5a99\" class=\"plotly-graph-div\" style=\"height:525px; width:100%;\"></div>            <script type=\"text/javascript\">                require([\"plotly\"], function(Plotly) {                    window.PLOTLYENV=window.PLOTLYENV || {};                                    if (document.getElementById(\"fa546083-fc9e-4d1d-8fe8-9491ccbb5a99\")) {                    Plotly.newPlot(                        \"fa546083-fc9e-4d1d-8fe8-9491ccbb5a99\",                        [{\"hovertemplate\":\"Driver=GAS<br>Lap=%{x}<br>Lap Time (In seconds, Outliers/Red Flags Removed)=%{y}<extra></extra>\",\"legendgroup\":\"GAS\",\"line\":{\"color\":\"#2173B8\",\"dash\":\"solid\"},\"marker\":{\"symbol\":\"circle\"},\"mode\":\"lines\",\"name\":\"GAS\",\"orientation\":\"v\",\"showlegend\":true,\"x\":[4.0,5.0,6.0,7.0,8.0,9.0,10.0,11.0,12.0,13.0,14.0,15.0,16.0,17.0,18.0,19.0,20.0,21.0,22.0,23.0,24.0,25.0,26.0,28.0,29.0,30.0,31.0,32.0,33.0,34.0,35.0,36.0,37.0,38.0,39.0,40.0,41.0,42.0,43.0,44.0,45.0,46.0,48.0,49.0,50.0,51.0,52.0,53.0,54.0,55.0,56.0,57.0,58.0,59.0,60.0,61.0,62.0,63.0],\"xaxis\":\"x\",\"y\":[80.965,77.261,76.67699999999999,76.437,76.55799999999999,76.531,76.971,76.882,77.203,77.076,77.282,77.196,77.744,77.444,77.301,77.205,77.174,77.411,77.363,77.383,77.474,78.007,81.513,75.215,76.408,75.602,76.162,75.63,75.443,75.679,75.73,75.71000000000001,75.961,76.002,76.446,76.385,76.515,76.263,76.63,77.03,76.619,80.564,74.521,74.703,74.969,75.114,75.036,75.031,75.064,75.306,75.325,75.059,74.917,74.794,74.618,74.727,74.67099999999999,74.654],\"yaxis\":\"y\",\"type\":\"scatter\"},{\"hovertemplate\":\"Driver=OCO<br>Lap=%{x}<br>Lap Time (In seconds, Outliers/Red Flags Removed)=%{y}<extra></extra>\",\"legendgroup\":\"OCO\",\"line\":{\"color\":\"#2173B8\",\"dash\":\"solid\"},\"marker\":{\"symbol\":\"circle\"},\"mode\":\"lines\",\"name\":\"OCO\",\"orientation\":\"v\",\"showlegend\":true,\"x\":[4.0,5.0,6.0,7.0,8.0,9.0,10.0,11.0,12.0,13.0,14.0,16.0,17.0,18.0,19.0,20.0,21.0,22.0,23.0,24.0,25.0,26.0,27.0,28.0,29.0,30.0,31.0,33.0,34.0,35.0,36.0,37.0,38.0,39.0,40.0,41.0,42.0,43.0,44.0,45.0,46.0,47.0,48.0,49.0,50.0,51.0,52.0,53.0,54.0,55.0,56.0,57.0,58.0,59.0,60.0,61.0,62.0,63.0],\"xaxis\":\"x\",\"y\":[82.275,77.111,76.92699999999999,76.59700000000001,76.626,76.818,77.076,77.131,77.312,78.248,81.41,76.08500000000001,76.385,76.451,77.08,77.138,77.151,76.969,77.299,76.94200000000001,76.894,76.737,76.74,77.432,77.23,77.164,80.584,75.44200000000001,75.365,75.403,75.538,75.83,75.902,75.77,75.85,75.841,76.032,76.252,76.176,76.384,76.219,76.35,77.24,76.844,76.554,80.059,92.038,74.206,74.52,74.81,75.007,75.291,75.272,74.576,75.156,74.925,75.047,75.76],\"yaxis\":\"y\",\"type\":\"scatter\"},{\"hovertemplate\":\"Driver=TSU<br>Lap=%{x}<br>Lap Time (In seconds, Outliers/Red Flags Removed)=%{y}<extra></extra>\",\"legendgroup\":\"TSU\",\"line\":{\"color\":\"#20394C\",\"dash\":\"solid\"},\"marker\":{\"symbol\":\"circle\"},\"mode\":\"lines\",\"name\":\"TSU\",\"orientation\":\"v\",\"showlegend\":true,\"x\":[4.0,5.0,6.0,7.0,8.0,9.0,10.0,11.0,12.0,13.0,14.0,15.0,16.0,17.0,18.0,19.0,20.0,21.0,22.0,23.0,24.0,25.0,26.0,28.0,29.0,30.0,31.0,32.0,33.0,34.0,35.0,36.0,37.0,38.0,39.0,40.0,41.0,42.0,43.0,44.0,45.0,46.0,47.0,48.0,49.0,50.0,51.0,52.0,53.0,54.0,55.0,57.0,58.0,59.0,60.0,61.0,62.0,63.0],\"xaxis\":\"x\",\"y\":[81.84,77.524,76.953,76.656,76.679,76.792,77.038,76.956,77.146,77.042,77.333,77.27199999999999,82.255,77.044,77.018,77.17699999999999,76.725,77.119,76.752,77.095,76.936,77.048,80.763,76.133,75.599,75.716,75.67699999999999,75.613,76.113,76.088,76.167,75.664,75.685,75.826,76.007,76.011,76.088,75.852,76.24,76.178,76.425,76.30199999999999,76.304,76.815,76.414,76.362,76.094,76.01599999999999,76.053,76.151,79.809,75.502,75.20400000000001,75.063,74.789,74.664,74.366,74.49],\"yaxis\":\"y\",\"type\":\"scatter\"},{\"hovertemplate\":\"Driver=HUL<br>Lap=%{x}<br>Lap Time (In seconds, Outliers/Red Flags Removed)=%{y}<extra></extra>\",\"legendgroup\":\"HUL\",\"line\":{\"color\":\"#E6002B\",\"dash\":\"solid\"},\"marker\":{\"symbol\":\"circle\"},\"mode\":\"lines\",\"name\":\"HUL\",\"orientation\":\"v\",\"showlegend\":true,\"x\":[4.0,5.0,6.0,7.0,8.0,9.0,10.0,11.0,12.0,13.0,14.0,15.0,16.0,17.0,18.0,19.0,20.0,21.0,23.0,24.0,25.0,26.0,27.0,28.0,29.0,30.0,31.0,32.0,33.0,34.0,35.0,36.0,37.0,38.0,39.0,40.0,41.0,42.0,43.0,44.0,45.0,46.0,48.0,49.0,50.0,51.0,52.0,53.0,54.0,55.0,56.0,57.0,58.0,59.0,60.0,61.0,62.0,63.0],\"xaxis\":\"x\",\"y\":[80.643,78.03999999999999,77.201,76.791,76.78399999999999,76.675,77.366,77.757,77.56700000000001,79.149,78.87,79.055,79.325,78.976,78.039,77.581,77.392,81.05199999999999,77.992,77.227,77.17,77.282,76.181,76.019,75.818,76.166,76.363,76.843,76.885,76.463,76.365,76.781,76.836,78.957,77.679,77.277,77.03399999999999,76.821,76.79599999999999,76.924,77.384,80.729,76.991,76.892,76.52199999999999,76.566,76.229,76.39099999999999,75.721,76.005,75.81,75.511,75.639,76.343,75.252,75.357,75.312,75.178],\"yaxis\":\"y\",\"type\":\"scatter\"},{\"hovertemplate\":\"Driver=BOT<br>Lap=%{x}<br>Lap Time (In seconds, Outliers/Red Flags Removed)=%{y}<extra></extra>\",\"legendgroup\":\"BOT\",\"line\":{\"color\":\"#A42134\",\"dash\":\"solid\"},\"marker\":{\"symbol\":\"circle\"},\"mode\":\"lines\",\"name\":\"BOT\",\"orientation\":\"v\",\"showlegend\":true,\"x\":[4.0,5.0,6.0,7.0,8.0,9.0,10.0,11.0,12.0,13.0,14.0,15.0,16.0,17.0,18.0,20.0,21.0,22.0,23.0,24.0,25.0,26.0,27.0,28.0,29.0,30.0,31.0,32.0,33.0,34.0,35.0,36.0,37.0,38.0,39.0],\"xaxis\":\"x\",\"y\":[81.758,77.774,77.239,77.161,76.64,76.902,76.759,77.131,76.837,77.559,77.377,77.343,77.765,77.431,81.363,75.731,76.452,76.21000000000001,76.52199999999999,76.898,76.827,76.628,77.081,77.111,76.92099999999999,76.549,76.502,77.59700000000001,76.85300000000001,76.94,77.02199999999999,77.879,77.615,77.876,83.295],\"yaxis\":\"y\",\"type\":\"scatter\"},{\"hovertemplate\":\"Driver=ZHO<br>Lap=%{x}<br>Lap Time (In seconds, Outliers/Red Flags Removed)=%{y}<extra></extra>\",\"legendgroup\":\"ZHO\",\"line\":{\"color\":\"#A42134\",\"dash\":\"solid\"},\"marker\":{\"symbol\":\"circle\"},\"mode\":\"lines\",\"name\":\"ZHO\",\"orientation\":\"v\",\"showlegend\":true,\"x\":[4.0,5.0,6.0,7.0,8.0,9.0,10.0,11.0,12.0,13.0,14.0,15.0,17.0,18.0,19.0,20.0,21.0,22.0],\"xaxis\":\"x\",\"y\":[81.539,78.239,77.289,77.106,76.881,76.977,76.752,77.043,77.56700000000001,77.642,77.48400000000001,81.661,76.232,76.639,77.406,76.914,76.767,90.346],\"yaxis\":\"y\",\"type\":\"scatter\"},{\"hovertemplate\":\"Driver=SAR<br>Lap=%{x}<br>Lap Time (In seconds, Outliers/Red Flags Removed)=%{y}<extra></extra>\",\"legendgroup\":\"SAR\",\"line\":{\"color\":\"#00A0DE\",\"dash\":\"solid\"},\"marker\":{\"symbol\":\"circle\"},\"mode\":\"lines\",\"name\":\"SAR\",\"orientation\":\"v\",\"showlegend\":true,\"x\":[4.0,5.0,6.0,7.0,8.0,9.0,10.0,11.0,12.0,13.0,14.0,15.0,16.0,17.0,19.0,20.0,21.0,22.0,23.0,24.0,25.0,26.0,27.0,28.0,29.0,30.0,31.0,32.0,33.0,34.0,35.0,36.0,37.0,38.0,39.0,40.0,41.0,42.0,43.0,44.0,46.0,47.0,48.0,49.0,50.0,51.0,52.0,53.0,54.0,55.0,56.0,57.0,58.0,59.0,60.0,61.0,62.0,63.0],\"xaxis\":\"x\",\"y\":[81.801,78.262,77.247,77.182,76.798,76.854,76.934,77.295,77.66,77.92099999999999,77.587,77.85,77.485,82.426,76.235,76.379,76.288,76.101,76.358,76.537,76.793,76.76599999999999,76.648,76.658,77.001,77.475,76.951,77.025,76.648,77.55799999999999,77.703,77.19200000000001,76.997,77.392,77.24,76.904,76.90899999999999,77.047,77.625,81.995,76.117,76.051,75.80799999999999,75.988,76.15299999999999,75.738,75.795,75.878,76.80199999999999,76.286,75.969,76.053,76.513,76.419,76.017,75.819,75.94200000000001,75.789],\"yaxis\":\"y\",\"type\":\"scatter\"},{\"hovertemplate\":\"Driver=PIA<br>Lap=%{x}<br>Lap Time (In seconds, Outliers/Red Flags Removed)=%{y}<extra></extra>\",\"legendgroup\":\"PIA\",\"line\":{\"color\":\"#FF8000\",\"dash\":\"solid\"},\"marker\":{\"symbol\":\"circle\"},\"mode\":\"lines\",\"name\":\"PIA\",\"orientation\":\"v\",\"showlegend\":true,\"x\":[4.0,5.0,6.0,7.0,8.0,9.0,10.0,11.0,12.0,13.0,14.0,15.0,16.0,17.0,18.0,19.0,20.0,21.0,22.0,23.0,24.0,26.0,27.0,28.0,29.0,30.0,31.0,32.0,33.0,34.0,35.0,36.0,37.0,38.0,39.0,40.0,41.0,42.0,43.0,44.0,45.0,46.0,47.0,48.0,49.0,50.0,51.0,52.0,54.0,55.0,56.0,57.0,58.0,59.0,60.0,61.0,62.0,63.0],\"xaxis\":\"x\",\"y\":[77.084,76.932,76.738,76.713,76.64099999999999,77.289,78.311,77.211,77.47800000000001,77.977,77.69800000000001,77.526,77.44200000000001,77.265,77.583,77.096,77.43299999999999,77.043,77.435,77.143,81.76,76.368,76.27,76.269,75.859,75.68,75.55799999999999,75.866,75.656,76.492,76.179,76.314,76.048,76.075,76.099,76.58500000000001,76.19800000000001,76.355,76.708,76.378,76.452,76.655,76.306,76.46600000000001,76.245,76.41499999999999,76.104,82.846,75.576,74.951,75.93299999999999,77.651,74.533,74.402,74.625,74.791,74.342,74.615],\"yaxis\":\"y\",\"type\":\"scatter\"},{\"hovertemplate\":\"Driver=RIC<br>Lap=%{x}<br>Lap Time (In seconds, Outliers/Red Flags Removed)=%{y}<extra></extra>\",\"legendgroup\":\"RIC\",\"line\":{\"color\":\"#20394C\",\"dash\":\"solid\"},\"marker\":{\"symbol\":\"circle\"},\"mode\":\"lines\",\"name\":\"RIC\",\"orientation\":\"v\",\"showlegend\":true,\"x\":[4.0,5.0,6.0,7.0,8.0,9.0,10.0,11.0,12.0,13.0,14.0,15.0,16.0,17.0,18.0,19.0,20.0,21.0,22.0,23.0,24.0,25.0,26.0,28.0,29.0,30.0,31.0,32.0,33.0,34.0,35.0,36.0,37.0,38.0,39.0,40.0,41.0,42.0,43.0,44.0,45.0,46.0,47.0,48.0,49.0,50.0,51.0,52.0,53.0,54.0,55.0,57.0,58.0,59.0,60.0,61.0,62.0,63.0],\"xaxis\":\"x\",\"y\":[76.78,76.723,76.401,76.608,76.491,77.118,76.836,76.864,77.5,78.34,76.968,77.407,77.982,76.812,77.202,76.756,76.85900000000001,76.686,76.993,76.771,76.604,78.439,80.59100000000001,75.837,75.648,75.407,76.03,76.127,76.614,75.536,76.636,75.488,75.63,75.839,76.094,75.94,75.85,76.559,76.781,76.733,76.1,76.275,76.139,76.206,75.849,76.126,75.947,76.087,75.955,76.251,79.237,75.32300000000001,74.99,74.788,74.724,74.788,74.129,74.03999999999999],\"yaxis\":\"y\",\"type\":\"scatter\"},{\"hovertemplate\":\"Driver=VER<br>Lap=%{x}<br>Lap Time (In seconds, Outliers/Red Flags Removed)=%{y}<extra></extra>\",\"legendgroup\":\"VER\",\"line\":{\"color\":\"#000B8D\",\"dash\":\"solid\"},\"marker\":{\"symbol\":\"circle\"},\"mode\":\"lines\",\"name\":\"VER\",\"orientation\":\"v\",\"showlegend\":true,\"x\":[5.0,6.0,7.0,8.0,9.0,10.0,11.0,12.0,13.0,14.0,15.0,16.0,17.0,18.0,19.0,20.0,21.0,22.0,23.0,24.0,25.0,26.0,27.0,29.0,30.0,31.0,32.0,33.0,34.0,35.0,36.0,37.0,38.0,39.0,40.0,41.0,42.0,43.0,44.0,45.0,46.0,47.0,48.0,49.0,50.0,51.0,52.0,53.0,54.0,55.0,56.0,57.0,58.0,59.0,60.0,61.0,62.0,63.0],\"xaxis\":\"x\",\"y\":[75.745,75.547,75.591,75.864,76.169,75.989,76.27199999999999,75.879,76.299,76.08,76.408,76.305,76.17,76.34100000000001,76.047,75.996,76.207,76.206,76.026,76.39699999999999,76.269,76.435,80.264,75.713,75.799,75.787,75.439,75.174,75.115,75.157,75.125,74.682,74.95400000000001,74.974,75.218,75.355,75.202,75.05199999999999,75.32,75.471,75.32900000000001,75.362,75.524,75.44200000000001,75.436,75.44,75.39,75.306,75.388,75.521,79.309,91.318,74.044,74.089,74.265,74.584,74.512,74.349],\"yaxis\":\"y\",\"type\":\"scatter\"},{\"hovertemplate\":\"Driver=NOR<br>Lap=%{x}<br>Lap Time (In seconds, Outliers/Red Flags Removed)=%{y}<extra></extra>\",\"legendgroup\":\"NOR\",\"line\":{\"color\":\"#FF8000\",\"dash\":\"solid\"},\"marker\":{\"symbol\":\"circle\"},\"mode\":\"lines\",\"name\":\"NOR\",\"orientation\":\"v\",\"showlegend\":true,\"x\":[5.0,6.0,7.0,8.0,9.0,10.0,11.0,12.0,13.0,14.0,15.0,16.0,17.0,18.0,19.0,20.0,21.0,22.0,23.0,24.0,25.0,26.0,27.0,29.0,30.0,31.0,32.0,33.0,34.0,35.0,36.0,37.0,38.0,39.0,40.0,41.0,42.0,43.0,44.0,45.0,46.0,47.0,48.0,49.0,50.0,51.0,52.0,53.0,54.0,55.0,56.0,57.0,58.0,59.0,60.0,61.0,62.0,63.0],\"xaxis\":\"x\",\"y\":[76.231,74.94,75.428,76.737,76.576,76.67099999999999,76.043,76.015,76.365,76.27,76.174,76.504,76.515,76.267,76.05799999999999,76.33,76.355,76.196,76.343,76.512,76.315,76.264,80.818,75.691,76.2,75.553,75.333,75.266,75.053,74.985,74.845,74.92699999999999,74.94,75.071,75.273,75.42699999999999,75.502,75.199,75.62,75.651,75.58500000000001,75.572,75.496,75.655,75.696,75.819,75.414,75.32300000000001,75.513,75.643,75.709,75.629,75.813,79.79599999999999,91.709,72.486,73.81,73.367],\"yaxis\":\"y\",\"type\":\"scatter\"},{\"hovertemplate\":\"Driver=ALO<br>Lap=%{x}<br>Lap Time (In seconds, Outliers/Red Flags Removed)=%{y}<extra></extra>\",\"legendgroup\":\"ALO\",\"line\":{\"color\":\"#002420\",\"dash\":\"solid\"},\"marker\":{\"symbol\":\"circle\"},\"mode\":\"lines\",\"name\":\"ALO\",\"orientation\":\"v\",\"showlegend\":true,\"x\":[5.0,6.0,7.0,8.0,9.0,10.0,11.0,12.0,13.0,14.0,15.0,16.0,17.0,18.0,19.0,20.0,21.0,22.0,23.0,24.0,25.0,27.0,28.0,29.0,30.0,31.0,32.0,33.0,34.0,35.0,36.0,37.0,38.0,39.0,40.0,41.0,42.0,43.0,44.0,45.0,46.0,47.0,49.0,50.0,51.0,52.0,53.0,54.0,55.0,56.0,57.0,58.0,59.0,60.0,61.0,62.0,63.0],\"xaxis\":\"x\",\"y\":[76.483,75.925,75.972,76.111,76.277,76.25,76.412,76.48400000000001,76.336,76.34100000000001,76.398,76.388,76.617,76.95400000000001,76.51,76.85300000000001,76.615,76.5,76.687,77.281,80.97200000000001,76.331,76.202,76.128,76.059,76.095,76.02799999999999,75.836,75.849,75.721,75.944,75.701,75.949,76.015,76.07,76.136,76.262,75.773,75.836,75.912,75.74,79.763,75.582,75.783,75.39,75.345,74.79599999999999,74.44200000000001,74.695,74.765,74.694,74.523,74.67699999999999,74.999,74.912,74.674,74.652],\"yaxis\":\"y\",\"type\":\"scatter\"},{\"hovertemplate\":\"Driver=HAM<br>Lap=%{x}<br>Lap Time (In seconds, Outliers/Red Flags Removed)=%{y}<extra></extra>\",\"legendgroup\":\"HAM\",\"line\":{\"color\":\"#00A19B\",\"dash\":\"solid\"},\"marker\":{\"symbol\":\"circle\"},\"mode\":\"lines\",\"name\":\"HAM\",\"orientation\":\"v\",\"showlegend\":true,\"x\":[5.0,6.0,7.0,8.0,9.0,10.0,11.0,12.0,13.0,14.0,15.0,16.0,17.0,18.0,20.0,21.0,22.0,23.0,24.0,25.0,26.0,27.0,28.0,29.0,30.0,31.0,32.0,33.0,34.0,35.0,36.0,37.0,38.0,39.0,40.0,41.0,42.0,43.0,44.0,45.0,46.0,48.0,49.0,50.0,51.0,52.0,53.0,54.0,55.0,56.0,57.0,58.0,59.0,60.0,61.0,62.0,63.0],\"xaxis\":\"x\",\"y\":[76.838,76.481,76.474,76.57,76.543,76.739,76.599,76.951,76.996,77.096,76.977,77.252,77.36,82.182,76.419,75.516,76.146,77.773,76.884,77.027,76.74,77.041,76.465,76.207,76.274,76.179,76.077,76.089,76.382,76.146,76.283,77.544,76.327,76.616,76.363,76.389,76.426,76.53999999999999,77.225,76.975,80.492,75.758,75.821,75.945,75.764,75.696,75.416,75.205,75.17,75.313,75.031,74.905,74.739,75.173,75.299,75.358,75.131],\"yaxis\":\"y\",\"type\":\"scatter\"},{\"hovertemplate\":\"Driver=RUS<br>Lap=%{x}<br>Lap Time (In seconds, Outliers/Red Flags Removed)=%{y}<extra></extra>\",\"legendgroup\":\"RUS\",\"line\":{\"color\":\"#00A19B\",\"dash\":\"solid\"},\"marker\":{\"symbol\":\"circle\"},\"mode\":\"lines\",\"name\":\"RUS\",\"orientation\":\"v\",\"showlegend\":true,\"x\":[5.0,6.0,7.0,8.0,9.0,10.0,11.0,12.0,13.0,14.0,15.0,16.0,17.0,18.0,19.0,21.0,22.0,23.0,24.0,25.0,26.0,27.0,28.0,29.0,30.0,31.0,32.0,33.0,34.0,35.0,36.0,37.0,38.0,39.0,40.0,41.0,42.0,43.0,44.0,45.0,47.0,48.0,49.0,50.0,51.0,52.0,53.0,54.0,55.0,56.0],\"xaxis\":\"x\",\"y\":[76.92099999999999,76.431,76.483,76.65899999999999,76.663,76.721,76.93299999999999,76.977,77.056,78.041,77.315,77.196,77.392,77.319,80.533,76.57300000000001,76.65299999999999,77.088,76.9,77.08,76.495,75.628,76.262,76.305,76.294,76.298,76.161,76.43299999999999,76.636,77.27,76.831,76.742,76.644,76.674,76.906,76.709,77.0,77.74,77.422,81.18299999999999,76.53399999999999,76.373,76.313,76.424,75.936,75.633,75.478,75.063,74.934,75.128],\"yaxis\":\"y\",\"type\":\"scatter\"},{\"hovertemplate\":\"Driver=PER<br>Lap=%{x}<br>Lap Time (In seconds, Outliers/Red Flags Removed)=%{y}<extra></extra>\",\"legendgroup\":\"PER\",\"line\":{\"color\":\"#000B8D\",\"dash\":\"solid\"},\"marker\":{\"symbol\":\"circle\"},\"mode\":\"lines\",\"name\":\"PER\",\"orientation\":\"v\",\"showlegend\":true,\"x\":[5.0,6.0,7.0,8.0,9.0,10.0,11.0,12.0,13.0,14.0,15.0,16.0,17.0,18.0,19.0,20.0,22.0,23.0,24.0,25.0,26.0,27.0,28.0,29.0,30.0,31.0,32.0,33.0,34.0,35.0,36.0,37.0,38.0,39.0,40.0,41.0,42.0,43.0,44.0,45.0,46.0,48.0,49.0,50.0,51.0,52.0,53.0,54.0,55.0,56.0,57.0,58.0,59.0,60.0,61.0,62.0,63.0],\"xaxis\":\"x\",\"y\":[77.043,76.294,76.365,76.762,76.53999999999999,76.541,77.152,76.878,76.96600000000001,77.24,76.7,76.547,77.27,77.261,76.93,80.985,75.998,76.388,76.056,75.969,75.791,75.463,75.654,75.842,75.848,75.778,75.759,75.641,75.732,75.527,75.996,76.062,76.02799999999999,76.126,76.41499999999999,76.078,76.038,76.30799999999999,76.369,76.32,80.23400000000001,75.224,74.977,75.34,74.778,74.749,74.759,74.477,74.124,74.956,74.686,74.36,74.543,75.126,75.048,74.771,74.638],\"yaxis\":\"y\",\"type\":\"scatter\"},{\"hovertemplate\":\"Driver=STR<br>Lap=%{x}<br>Lap Time (In seconds, Outliers/Red Flags Removed)=%{y}<extra></extra>\",\"legendgroup\":\"STR\",\"line\":{\"color\":\"#002420\",\"dash\":\"solid\"},\"marker\":{\"symbol\":\"circle\"},\"mode\":\"lines\",\"name\":\"STR\",\"orientation\":\"v\",\"showlegend\":true,\"x\":[5.0,6.0,7.0,8.0,9.0,10.0,11.0,12.0,13.0,14.0,15.0,16.0,17.0,18.0,19.0,20.0,21.0,22.0,24.0,25.0,26.0,27.0,28.0,29.0,30.0,31.0,32.0,33.0,34.0,35.0,36.0,37.0,38.0,39.0,40.0,41.0,42.0,43.0,44.0,45.0,46.0,47.0,48.0,49.0,50.0,51.0,52.0,54.0,55.0,56.0,57.0,58.0,59.0,60.0,61.0,62.0,63.0],\"xaxis\":\"x\",\"y\":[76.959,76.443,76.455,76.467,76.7,76.91499999999999,76.932,77.048,77.07900000000001,77.417,77.253,77.281,77.275,77.406,77.276,77.197,77.361,80.608,75.676,75.797,75.772,75.879,76.038,75.929,75.913,75.905,76.093,75.843,76.135,75.73,75.565,75.93,75.822,76.176,75.99,75.944,76.185,76.26599999999999,76.56,76.481,76.191,76.258,76.149,76.19800000000001,75.943,76.44200000000001,79.71600000000001,74.408,75.148,74.729,74.646,74.522,74.13,74.409,74.477,74.34,74.282],\"yaxis\":\"y\",\"type\":\"scatter\"},{\"hovertemplate\":\"Driver=SAI<br>Lap=%{x}<br>Lap Time (In seconds, Outliers/Red Flags Removed)=%{y}<extra></extra>\",\"legendgroup\":\"SAI\",\"line\":{\"color\":\"#EF1A2D\",\"dash\":\"solid\"},\"marker\":{\"symbol\":\"circle\"},\"mode\":\"lines\",\"name\":\"SAI\",\"orientation\":\"v\",\"showlegend\":true,\"x\":[5.0,6.0,7.0,8.0,9.0,10.0,11.0,12.0,13.0,14.0,15.0,16.0,17.0,18.0,19.0,20.0,21.0,22.0,23.0,24.0,25.0,26.0,28.0,29.0,30.0,31.0,32.0,33.0,34.0,35.0,36.0,37.0,38.0,39.0,40.0,41.0,42.0,43.0,44.0,45.0,46.0,47.0,48.0,49.0,50.0,51.0,53.0,54.0,55.0,56.0,57.0,58.0,59.0,60.0,61.0,62.0,63.0],\"xaxis\":\"x\",\"y\":[77.24,76.543,76.465,76.539,76.623,76.844,76.89699999999999,77.19,76.895,77.355,77.383,77.506,77.265,77.343,77.221,77.229,77.36,77.02199999999999,76.752,77.139,77.424,81.05799999999999,75.399,75.836,75.758,75.59,75.5,75.638,76.049,75.913,75.603,75.94800000000001,75.977,75.962,75.862,75.97,76.167,76.19800000000001,76.545,76.526,76.521,76.247,76.291,76.166,75.997,80.34100000000001,75.008,75.069,75.193,75.148,74.611,74.687,74.406,74.569,74.67099999999999,74.581,74.676],\"yaxis\":\"y\",\"type\":\"scatter\"}],                        {\"template\":{\"data\":{\"histogram2dcontour\":[{\"type\":\"histogram2dcontour\",\"colorbar\":{\"outlinewidth\":0,\"ticks\":\"\"},\"colorscale\":[[0.0,\"#0d0887\"],[0.1111111111111111,\"#46039f\"],[0.2222222222222222,\"#7201a8\"],[0.3333333333333333,\"#9c179e\"],[0.4444444444444444,\"#bd3786\"],[0.5555555555555556,\"#d8576b\"],[0.6666666666666666,\"#ed7953\"],[0.7777777777777778,\"#fb9f3a\"],[0.8888888888888888,\"#fdca26\"],[1.0,\"#f0f921\"]]}],\"choropleth\":[{\"type\":\"choropleth\",\"colorbar\":{\"outlinewidth\":0,\"ticks\":\"\"}}],\"histogram2d\":[{\"type\":\"histogram2d\",\"colorbar\":{\"outlinewidth\":0,\"ticks\":\"\"},\"colorscale\":[[0.0,\"#0d0887\"],[0.1111111111111111,\"#46039f\"],[0.2222222222222222,\"#7201a8\"],[0.3333333333333333,\"#9c179e\"],[0.4444444444444444,\"#bd3786\"],[0.5555555555555556,\"#d8576b\"],[0.6666666666666666,\"#ed7953\"],[0.7777777777777778,\"#fb9f3a\"],[0.8888888888888888,\"#fdca26\"],[1.0,\"#f0f921\"]]}],\"heatmap\":[{\"type\":\"heatmap\",\"colorbar\":{\"outlinewidth\":0,\"ticks\":\"\"},\"colorscale\":[[0.0,\"#0d0887\"],[0.1111111111111111,\"#46039f\"],[0.2222222222222222,\"#7201a8\"],[0.3333333333333333,\"#9c179e\"],[0.4444444444444444,\"#bd3786\"],[0.5555555555555556,\"#d8576b\"],[0.6666666666666666,\"#ed7953\"],[0.7777777777777778,\"#fb9f3a\"],[0.8888888888888888,\"#fdca26\"],[1.0,\"#f0f921\"]]}],\"heatmapgl\":[{\"type\":\"heatmapgl\",\"colorbar\":{\"outlinewidth\":0,\"ticks\":\"\"},\"colorscale\":[[0.0,\"#0d0887\"],[0.1111111111111111,\"#46039f\"],[0.2222222222222222,\"#7201a8\"],[0.3333333333333333,\"#9c179e\"],[0.4444444444444444,\"#bd3786\"],[0.5555555555555556,\"#d8576b\"],[0.6666666666666666,\"#ed7953\"],[0.7777777777777778,\"#fb9f3a\"],[0.8888888888888888,\"#fdca26\"],[1.0,\"#f0f921\"]]}],\"contourcarpet\":[{\"type\":\"contourcarpet\",\"colorbar\":{\"outlinewidth\":0,\"ticks\":\"\"}}],\"contour\":[{\"type\":\"contour\",\"colorbar\":{\"outlinewidth\":0,\"ticks\":\"\"},\"colorscale\":[[0.0,\"#0d0887\"],[0.1111111111111111,\"#46039f\"],[0.2222222222222222,\"#7201a8\"],[0.3333333333333333,\"#9c179e\"],[0.4444444444444444,\"#bd3786\"],[0.5555555555555556,\"#d8576b\"],[0.6666666666666666,\"#ed7953\"],[0.7777777777777778,\"#fb9f3a\"],[0.8888888888888888,\"#fdca26\"],[1.0,\"#f0f921\"]]}],\"surface\":[{\"type\":\"surface\",\"colorbar\":{\"outlinewidth\":0,\"ticks\":\"\"},\"colorscale\":[[0.0,\"#0d0887\"],[0.1111111111111111,\"#46039f\"],[0.2222222222222222,\"#7201a8\"],[0.3333333333333333,\"#9c179e\"],[0.4444444444444444,\"#bd3786\"],[0.5555555555555556,\"#d8576b\"],[0.6666666666666666,\"#ed7953\"],[0.7777777777777778,\"#fb9f3a\"],[0.8888888888888888,\"#fdca26\"],[1.0,\"#f0f921\"]]}],\"mesh3d\":[{\"type\":\"mesh3d\",\"colorbar\":{\"outlinewidth\":0,\"ticks\":\"\"}}],\"scatter\":[{\"fillpattern\":{\"fillmode\":\"overlay\",\"size\":10,\"solidity\":0.2},\"type\":\"scatter\"}],\"parcoords\":[{\"type\":\"parcoords\",\"line\":{\"colorbar\":{\"outlinewidth\":0,\"ticks\":\"\"}}}],\"scatterpolargl\":[{\"type\":\"scatterpolargl\",\"marker\":{\"colorbar\":{\"outlinewidth\":0,\"ticks\":\"\"}}}],\"bar\":[{\"error_x\":{\"color\":\"#2a3f5f\"},\"error_y\":{\"color\":\"#2a3f5f\"},\"marker\":{\"line\":{\"color\":\"#E5ECF6\",\"width\":0.5},\"pattern\":{\"fillmode\":\"overlay\",\"size\":10,\"solidity\":0.2}},\"type\":\"bar\"}],\"scattergeo\":[{\"type\":\"scattergeo\",\"marker\":{\"colorbar\":{\"outlinewidth\":0,\"ticks\":\"\"}}}],\"scatterpolar\":[{\"type\":\"scatterpolar\",\"marker\":{\"colorbar\":{\"outlinewidth\":0,\"ticks\":\"\"}}}],\"histogram\":[{\"marker\":{\"pattern\":{\"fillmode\":\"overlay\",\"size\":10,\"solidity\":0.2}},\"type\":\"histogram\"}],\"scattergl\":[{\"type\":\"scattergl\",\"marker\":{\"colorbar\":{\"outlinewidth\":0,\"ticks\":\"\"}}}],\"scatter3d\":[{\"type\":\"scatter3d\",\"line\":{\"colorbar\":{\"outlinewidth\":0,\"ticks\":\"\"}},\"marker\":{\"colorbar\":{\"outlinewidth\":0,\"ticks\":\"\"}}}],\"scattermapbox\":[{\"type\":\"scattermapbox\",\"marker\":{\"colorbar\":{\"outlinewidth\":0,\"ticks\":\"\"}}}],\"scatterternary\":[{\"type\":\"scatterternary\",\"marker\":{\"colorbar\":{\"outlinewidth\":0,\"ticks\":\"\"}}}],\"scattercarpet\":[{\"type\":\"scattercarpet\",\"marker\":{\"colorbar\":{\"outlinewidth\":0,\"ticks\":\"\"}}}],\"carpet\":[{\"aaxis\":{\"endlinecolor\":\"#2a3f5f\",\"gridcolor\":\"white\",\"linecolor\":\"white\",\"minorgridcolor\":\"white\",\"startlinecolor\":\"#2a3f5f\"},\"baxis\":{\"endlinecolor\":\"#2a3f5f\",\"gridcolor\":\"white\",\"linecolor\":\"white\",\"minorgridcolor\":\"white\",\"startlinecolor\":\"#2a3f5f\"},\"type\":\"carpet\"}],\"table\":[{\"cells\":{\"fill\":{\"color\":\"#EBF0F8\"},\"line\":{\"color\":\"white\"}},\"header\":{\"fill\":{\"color\":\"#C8D4E3\"},\"line\":{\"color\":\"white\"}},\"type\":\"table\"}],\"barpolar\":[{\"marker\":{\"line\":{\"color\":\"#E5ECF6\",\"width\":0.5},\"pattern\":{\"fillmode\":\"overlay\",\"size\":10,\"solidity\":0.2}},\"type\":\"barpolar\"}],\"pie\":[{\"automargin\":true,\"type\":\"pie\"}]},\"layout\":{\"autotypenumbers\":\"strict\",\"colorway\":[\"#636efa\",\"#EF553B\",\"#00cc96\",\"#ab63fa\",\"#FFA15A\",\"#19d3f3\",\"#FF6692\",\"#B6E880\",\"#FF97FF\",\"#FECB52\"],\"font\":{\"color\":\"#2a3f5f\"},\"hovermode\":\"closest\",\"hoverlabel\":{\"align\":\"left\"},\"paper_bgcolor\":\"white\",\"plot_bgcolor\":\"#E5ECF6\",\"polar\":{\"bgcolor\":\"#E5ECF6\",\"angularaxis\":{\"gridcolor\":\"white\",\"linecolor\":\"white\",\"ticks\":\"\"},\"radialaxis\":{\"gridcolor\":\"white\",\"linecolor\":\"white\",\"ticks\":\"\"}},\"ternary\":{\"bgcolor\":\"#E5ECF6\",\"aaxis\":{\"gridcolor\":\"white\",\"linecolor\":\"white\",\"ticks\":\"\"},\"baxis\":{\"gridcolor\":\"white\",\"linecolor\":\"white\",\"ticks\":\"\"},\"caxis\":{\"gridcolor\":\"white\",\"linecolor\":\"white\",\"ticks\":\"\"}},\"coloraxis\":{\"colorbar\":{\"outlinewidth\":0,\"ticks\":\"\"}},\"colorscale\":{\"sequential\":[[0.0,\"#0d0887\"],[0.1111111111111111,\"#46039f\"],[0.2222222222222222,\"#7201a8\"],[0.3333333333333333,\"#9c179e\"],[0.4444444444444444,\"#bd3786\"],[0.5555555555555556,\"#d8576b\"],[0.6666666666666666,\"#ed7953\"],[0.7777777777777778,\"#fb9f3a\"],[0.8888888888888888,\"#fdca26\"],[1.0,\"#f0f921\"]],\"sequentialminus\":[[0.0,\"#0d0887\"],[0.1111111111111111,\"#46039f\"],[0.2222222222222222,\"#7201a8\"],[0.3333333333333333,\"#9c179e\"],[0.4444444444444444,\"#bd3786\"],[0.5555555555555556,\"#d8576b\"],[0.6666666666666666,\"#ed7953\"],[0.7777777777777778,\"#fb9f3a\"],[0.8888888888888888,\"#fdca26\"],[1.0,\"#f0f921\"]],\"diverging\":[[0,\"#8e0152\"],[0.1,\"#c51b7d\"],[0.2,\"#de77ae\"],[0.3,\"#f1b6da\"],[0.4,\"#fde0ef\"],[0.5,\"#f7f7f7\"],[0.6,\"#e6f5d0\"],[0.7,\"#b8e186\"],[0.8,\"#7fbc41\"],[0.9,\"#4d9221\"],[1,\"#276419\"]]},\"xaxis\":{\"gridcolor\":\"white\",\"linecolor\":\"white\",\"ticks\":\"\",\"title\":{\"standoff\":15},\"zerolinecolor\":\"white\",\"automargin\":true,\"zerolinewidth\":2},\"yaxis\":{\"gridcolor\":\"white\",\"linecolor\":\"white\",\"ticks\":\"\",\"title\":{\"standoff\":15},\"zerolinecolor\":\"white\",\"automargin\":true,\"zerolinewidth\":2},\"scene\":{\"xaxis\":{\"backgroundcolor\":\"#E5ECF6\",\"gridcolor\":\"white\",\"linecolor\":\"white\",\"showbackground\":true,\"ticks\":\"\",\"zerolinecolor\":\"white\",\"gridwidth\":2},\"yaxis\":{\"backgroundcolor\":\"#E5ECF6\",\"gridcolor\":\"white\",\"linecolor\":\"white\",\"showbackground\":true,\"ticks\":\"\",\"zerolinecolor\":\"white\",\"gridwidth\":2},\"zaxis\":{\"backgroundcolor\":\"#E5ECF6\",\"gridcolor\":\"white\",\"linecolor\":\"white\",\"showbackground\":true,\"ticks\":\"\",\"zerolinecolor\":\"white\",\"gridwidth\":2}},\"shapedefaults\":{\"line\":{\"color\":\"#2a3f5f\"}},\"annotationdefaults\":{\"arrowcolor\":\"#2a3f5f\",\"arrowhead\":0,\"arrowwidth\":1},\"geo\":{\"bgcolor\":\"white\",\"landcolor\":\"#E5ECF6\",\"subunitcolor\":\"white\",\"showland\":true,\"showlakes\":true,\"lakecolor\":\"white\"},\"title\":{\"x\":0.05},\"mapbox\":{\"style\":\"light\"}}},\"xaxis\":{\"anchor\":\"y\",\"domain\":[0.0,1.0],\"title\":{\"text\":\"Lap\"}},\"yaxis\":{\"anchor\":\"x\",\"domain\":[0.0,1.0],\"title\":{\"text\":\"Lap Time (In seconds, Outliers/Red Flags Removed)\"}},\"legend\":{\"title\":{\"text\":\"Driver\"},\"tracegroupgap\":0},\"title\":{\"text\":\"<b>Lap Times</b>\",\"font\":{\"family\":\"Arial, sans-serif\",\"size\":30},\"x\":0.5},\"updatemenus\":[{\"active\":0,\"buttons\":[{\"args\":[{\"visible\":[true,true,true,true,true,true,true,true,true,true,true,true,true,true,true,true,true,true,true,true],\"title\":\"All\",\"showlegend\":true}],\"label\":\"All\",\"method\":\"update\"},{\"args\":[{\"visible\":[true,false,false,false,false,false,false,false,false,false,false,false,false,false,false,false,false,false,false,false],\"title\":\"ALB\",\"showlegend\":true}],\"label\":\"ALB\",\"method\":\"update\"},{\"args\":[{\"visible\":[false,true,false,false,false,false,false,false,false,false,false,false,false,false,false,false,false,false,false,false],\"title\":\"ALO\",\"showlegend\":true}],\"label\":\"ALO\",\"method\":\"update\"},{\"args\":[{\"visible\":[false,false,true,false,false,false,false,false,false,false,false,false,false,false,false,false,false,false,false,false],\"title\":\"BOT\",\"showlegend\":true}],\"label\":\"BOT\",\"method\":\"update\"},{\"args\":[{\"visible\":[false,false,false,true,false,false,false,false,false,false,false,false,false,false,false,false,false,false,false,false],\"title\":\"GAS\",\"showlegend\":true}],\"label\":\"GAS\",\"method\":\"update\"},{\"args\":[{\"visible\":[false,false,false,false,true,false,false,false,false,false,false,false,false,false,false,false,false,false,false,false],\"title\":\"HAM\",\"showlegend\":true}],\"label\":\"HAM\",\"method\":\"update\"},{\"args\":[{\"visible\":[false,false,false,false,false,true,false,false,false,false,false,false,false,false,false,false,false,false,false,false],\"title\":\"HUL\",\"showlegend\":true}],\"label\":\"HUL\",\"method\":\"update\"},{\"args\":[{\"visible\":[false,false,false,false,false,false,true,false,false,false,false,false,false,false,false,false,false,false,false,false],\"title\":\"LEC\",\"showlegend\":true}],\"label\":\"LEC\",\"method\":\"update\"},{\"args\":[{\"visible\":[false,false,false,false,false,false,false,true,false,false,false,false,false,false,false,false,false,false,false,false],\"title\":\"MAG\",\"showlegend\":true}],\"label\":\"MAG\",\"method\":\"update\"},{\"args\":[{\"visible\":[false,false,false,false,false,false,false,false,true,false,false,false,false,false,false,false,false,false,false,false],\"title\":\"NOR\",\"showlegend\":true}],\"label\":\"NOR\",\"method\":\"update\"},{\"args\":[{\"visible\":[false,false,false,false,false,false,false,false,false,true,false,false,false,false,false,false,false,false,false,false],\"title\":\"OCO\",\"showlegend\":true}],\"label\":\"OCO\",\"method\":\"update\"},{\"args\":[{\"visible\":[false,false,false,false,false,false,false,false,false,false,true,false,false,false,false,false,false,false,false,false],\"title\":\"PER\",\"showlegend\":true}],\"label\":\"PER\",\"method\":\"update\"},{\"args\":[{\"visible\":[false,false,false,false,false,false,false,false,false,false,false,true,false,false,false,false,false,false,false,false],\"title\":\"PIA\",\"showlegend\":true}],\"label\":\"PIA\",\"method\":\"update\"},{\"args\":[{\"visible\":[false,false,false,false,false,false,false,false,false,false,false,false,true,false,false,false,false,false,false,false],\"title\":\"RIC\",\"showlegend\":true}],\"label\":\"RIC\",\"method\":\"update\"},{\"args\":[{\"visible\":[false,false,false,false,false,false,false,false,false,false,false,false,false,true,false,false,false,false,false,false],\"title\":\"RUS\",\"showlegend\":true}],\"label\":\"RUS\",\"method\":\"update\"},{\"args\":[{\"visible\":[false,false,false,false,false,false,false,false,false,false,false,false,false,false,true,false,false,false,false,false],\"title\":\"SAI\",\"showlegend\":true}],\"label\":\"SAI\",\"method\":\"update\"},{\"args\":[{\"visible\":[false,false,false,false,false,false,false,false,false,false,false,false,false,false,false,true,false,false,false,false],\"title\":\"SAR\",\"showlegend\":true}],\"label\":\"SAR\",\"method\":\"update\"},{\"args\":[{\"visible\":[false,false,false,false,false,false,false,false,false,false,false,false,false,false,false,false,true,false,false,false],\"title\":\"STR\",\"showlegend\":true}],\"label\":\"STR\",\"method\":\"update\"},{\"args\":[{\"visible\":[false,false,false,false,false,false,false,false,false,false,false,false,false,false,false,false,false,true,false,false],\"title\":\"TSU\",\"showlegend\":true}],\"label\":\"TSU\",\"method\":\"update\"},{\"args\":[{\"visible\":[false,false,false,false,false,false,false,false,false,false,false,false,false,false,false,false,false,false,true,false],\"title\":\"VER\",\"showlegend\":true}],\"label\":\"VER\",\"method\":\"update\"},{\"args\":[{\"visible\":[false,false,false,false,false,false,false,false,false,false,false,false,false,false,false,false,false,false,false,true],\"title\":\"ZHO\",\"showlegend\":true}],\"label\":\"ZHO\",\"method\":\"update\"}]}]},                        {\"responsive\": true}                    ).then(function(){\n",
       "                            \n",
       "var gd = document.getElementById('fa546083-fc9e-4d1d-8fe8-9491ccbb5a99');\n",
       "var x = new MutationObserver(function (mutations, observer) {{\n",
       "        var display = window.getComputedStyle(gd).display;\n",
       "        if (!display || display === 'none') {{\n",
       "            console.log([gd, 'removed!']);\n",
       "            Plotly.purge(gd);\n",
       "            observer.disconnect();\n",
       "        }}\n",
       "}});\n",
       "\n",
       "// Listen for the removal of the full notebook cells\n",
       "var notebookContainer = gd.closest('#notebook-container');\n",
       "if (notebookContainer) {{\n",
       "    x.observe(notebookContainer, {childList: true});\n",
       "}}\n",
       "\n",
       "// Listen for the clearing of the current output cell\n",
       "var outputEl = gd.closest('.output');\n",
       "if (outputEl) {{\n",
       "    x.observe(outputEl, {childList: true});\n",
       "}}\n",
       "\n",
       "                        })                };                });            </script>        </div>"
      ]
     },
     "metadata": {},
     "output_type": "display_data"
    }
   ],
   "source": [
    "if not lap_tim_emp:\n",
    "    multi_lap_plot(mapping)"
   ]
  },
  {
   "cell_type": "code",
   "execution_count": 30,
   "id": "96ae70fb",
   "metadata": {
    "_kg_hide-input": true,
    "execution": {
     "iopub.execute_input": "2023-11-10T04:04:53.894074Z",
     "iopub.status.busy": "2023-11-10T04:04:53.893527Z",
     "iopub.status.idle": "2023-11-10T04:04:54.077324Z",
     "shell.execute_reply": "2023-11-10T04:04:54.075480Z"
    },
    "papermill": {
     "duration": 0.212546,
     "end_time": "2023-11-10T04:04:54.080402",
     "exception": false,
     "start_time": "2023-11-10T04:04:53.867856",
     "status": "completed"
    },
    "tags": []
   },
   "outputs": [
    {
     "data": {
      "text/html": [
       "<div>                            <div id=\"6f9903ff-47bf-4e68-a68f-ae52bbc0c373\" class=\"plotly-graph-div\" style=\"height:525px; width:100%;\"></div>            <script type=\"text/javascript\">                require([\"plotly\"], function(Plotly) {                    window.PLOTLYENV=window.PLOTLYENV || {};                                    if (document.getElementById(\"6f9903ff-47bf-4e68-a68f-ae52bbc0c373\")) {                    Plotly.newPlot(                        \"6f9903ff-47bf-4e68-a68f-ae52bbc0c373\",                        [{\"hovertemplate\":\"Driver=VER<br>Lap=%{x}<br>Position=%{y}<extra></extra>\",\"legendgroup\":\"VER\",\"line\":{\"color\":\"#000B8D\",\"dash\":\"solid\"},\"marker\":{\"symbol\":\"circle\"},\"mode\":\"lines\",\"name\":\"VER\",\"orientation\":\"v\",\"showlegend\":true,\"x\":[1.0,2.0,4.0,5.0,6.0,7.0,8.0,9.0,10.0,11.0,12.0,13.0,14.0,15.0,16.0,17.0,18.0,19.0,20.0,21.0,22.0,23.0,24.0,25.0,26.0,27.0,28.0,29.0,30.0,31.0,32.0,33.0,34.0,35.0,36.0,37.0,38.0,39.0,40.0,41.0,42.0,43.0,44.0,45.0,46.0,47.0,48.0,49.0,50.0,51.0,52.0,53.0,54.0,55.0,56.0,57.0,58.0,59.0,60.0,61.0,62.0,63.0],\"xaxis\":\"x\",\"y\":[1,1,1,1,1,1,1,1,1,1,1,1,1,1,1,1,1,1,1,1,1,1,1,1,1,1,1,1,1,1,1,1,1,1,1,1,1,1,1,1,1,1,1,1,1,1,1,1,1,1,1,1,1,1,1,2,2,2,1,1,1,1],\"yaxis\":\"y\",\"type\":\"scatter\"},{\"hovertemplate\":\"Driver=NOR<br>Lap=%{x}<br>Position=%{y}<extra></extra>\",\"legendgroup\":\"NOR\",\"line\":{\"color\":\"#FF8000\",\"dash\":\"solid\"},\"marker\":{\"symbol\":\"circle\"},\"mode\":\"lines\",\"name\":\"NOR\",\"orientation\":\"v\",\"showlegend\":true,\"x\":[1.0,2.0,4.0,5.0,6.0,7.0,8.0,9.0,10.0,11.0,12.0,13.0,14.0,15.0,16.0,17.0,18.0,19.0,20.0,21.0,22.0,23.0,24.0,25.0,26.0,27.0,28.0,29.0,30.0,31.0,32.0,33.0,34.0,35.0,36.0,37.0,38.0,39.0,40.0,41.0,42.0,43.0,44.0,45.0,46.0,47.0,48.0,49.0,50.0,51.0,52.0,53.0,54.0,55.0,56.0,57.0,58.0,59.0,60.0,61.0,62.0,63.0],\"xaxis\":\"x\",\"y\":[2,2,2,2,2,2,2,2,2,2,2,2,2,2,2,2,2,2,2,2,2,2,2,2,2,2,2,2,2,2,2,2,2,2,2,2,2,2,2,2,2,2,2,2,2,2,2,2,2,2,2,2,2,2,2,1,1,1,2,2,2,2],\"yaxis\":\"y\",\"type\":\"scatter\"},{\"hovertemplate\":\"Driver=HAM<br>Lap=%{x}<br>Position=%{y}<extra></extra>\",\"legendgroup\":\"HAM\",\"line\":{\"color\":\"#00A19B\",\"dash\":\"solid\"},\"marker\":{\"symbol\":\"circle\"},\"mode\":\"lines\",\"name\":\"HAM\",\"orientation\":\"v\",\"showlegend\":true,\"x\":[1.0,2.0,4.0,5.0,6.0,7.0,8.0,9.0,10.0,11.0,12.0,13.0,14.0,15.0,16.0,17.0,18.0,19.0,20.0,21.0,22.0,23.0,24.0,25.0,26.0,27.0,28.0,29.0,30.0,31.0,32.0,33.0,34.0,35.0,36.0,37.0,38.0,39.0,40.0,41.0,42.0,43.0,44.0,45.0,46.0,47.0,48.0,49.0,50.0,51.0,52.0,53.0,54.0,55.0,56.0,57.0,58.0,59.0,60.0,61.0,62.0,63.0],\"xaxis\":\"x\",\"y\":[3,3,4,4,4,4,4,4,4,4,4,4,4,4,4,4,9,11,10,8,8,8,8,8,9,6,6,6,6,6,6,6,6,6,6,7,7,7,7,7,7,7,7,7,7,9,8,8,9,9,9,9,9,9,8,8,8,8,8,8,8,8],\"yaxis\":\"y\",\"type\":\"scatter\"},{\"hovertemplate\":\"Driver=ALO<br>Lap=%{x}<br>Position=%{y}<extra></extra>\",\"legendgroup\":\"ALO\",\"line\":{\"color\":\"#002420\",\"dash\":\"solid\"},\"marker\":{\"symbol\":\"circle\"},\"mode\":\"lines\",\"name\":\"ALO\",\"orientation\":\"v\",\"showlegend\":true,\"x\":[1.0,2.0,4.0,5.0,6.0,7.0,8.0,9.0,10.0,11.0,12.0,13.0,14.0,15.0,16.0,17.0,18.0,19.0,20.0,21.0,22.0,23.0,24.0,25.0,26.0,27.0,28.0,29.0,30.0,31.0,32.0,33.0,34.0,35.0,36.0,37.0,38.0,39.0,40.0,41.0,42.0,43.0,44.0,45.0,46.0,47.0,48.0,49.0,50.0,51.0,52.0,53.0,54.0,55.0,56.0,57.0,58.0,59.0,60.0,61.0,62.0,63.0],\"xaxis\":\"x\",\"y\":[4,4,3,3,3,3,3,3,3,3,3,3,3,3,3,3,3,3,3,3,3,3,3,3,4,3,3,3,3,3,3,3,3,3,3,3,3,3,3,3,3,3,3,3,3,3,5,5,5,5,4,3,3,3,3,3,3,3,3,3,3,3],\"yaxis\":\"y\",\"type\":\"scatter\"},{\"hovertemplate\":\"Driver=STR<br>Lap=%{x}<br>Position=%{y}<extra></extra>\",\"legendgroup\":\"STR\",\"line\":{\"color\":\"#002420\",\"dash\":\"solid\"},\"marker\":{\"symbol\":\"circle\"},\"mode\":\"lines\",\"name\":\"STR\",\"orientation\":\"v\",\"showlegend\":true,\"x\":[1.0,2.0,4.0,5.0,6.0,7.0,8.0,9.0,10.0,11.0,12.0,13.0,14.0,15.0,16.0,17.0,18.0,19.0,20.0,21.0,22.0,23.0,24.0,25.0,26.0,27.0,28.0,29.0,30.0,31.0,32.0,33.0,34.0,35.0,36.0,37.0,38.0,39.0,40.0,41.0,42.0,43.0,44.0,45.0,46.0,47.0,48.0,49.0,50.0,51.0,52.0,53.0,54.0,55.0,56.0,57.0,58.0,59.0,60.0,61.0,62.0,63.0],\"xaxis\":\"x\",\"y\":[5,5,7,7,7,7,7,7,7,7,7,7,7,7,7,7,6,5,4,4,6,10,9,9,8,5,5,5,5,5,5,5,5,5,5,5,5,5,5,5,5,5,5,5,5,4,3,3,3,3,3,6,6,5,5,5,5,5,5,5,5,5],\"yaxis\":\"y\",\"type\":\"scatter\"},{\"hovertemplate\":\"Driver=RUS<br>Lap=%{x}<br>Position=%{y}<extra></extra>\",\"legendgroup\":\"RUS\",\"line\":{\"color\":\"#00A19B\",\"dash\":\"solid\"},\"marker\":{\"symbol\":\"circle\"},\"mode\":\"lines\",\"name\":\"RUS\",\"orientation\":\"v\",\"showlegend\":true,\"x\":[1.0,2.0,4.0,5.0,6.0,7.0,8.0,9.0,10.0,11.0,12.0,13.0,14.0,15.0,16.0,17.0,18.0,19.0,20.0,21.0,22.0,23.0,24.0,25.0,26.0,27.0,28.0,29.0,30.0,31.0,32.0,33.0,34.0,35.0,36.0,37.0,38.0,39.0,40.0,41.0,42.0,43.0,44.0,45.0,46.0,47.0,48.0,49.0,50.0,51.0,52.0,53.0,54.0,55.0,56.0,57.0],\"xaxis\":\"x\",\"y\":[6,6,5,5,5,5,5,5,5,5,5,5,6,6,6,6,5,8,11,10,10,9,10,10,10,7,7,7,7,7,7,7,8,8,8,8,8,8,8,8,8,9,9,10,11,11,11,11,11,11,10,10,10,10,9,12],\"yaxis\":\"y\",\"type\":\"scatter\"},{\"hovertemplate\":\"Driver=PER<br>Lap=%{x}<br>Position=%{y}<extra></extra>\",\"legendgroup\":\"PER\",\"line\":{\"color\":\"#000B8D\",\"dash\":\"solid\"},\"marker\":{\"symbol\":\"circle\"},\"mode\":\"lines\",\"name\":\"PER\",\"orientation\":\"v\",\"showlegend\":true,\"x\":[1.0,2.0,4.0,5.0,6.0,7.0,8.0,9.0,10.0,11.0,12.0,13.0,14.0,15.0,16.0,17.0,18.0,19.0,20.0,21.0,22.0,23.0,24.0,25.0,26.0,27.0,28.0,29.0,30.0,31.0,32.0,33.0,34.0,35.0,36.0,37.0,38.0,39.0,40.0,41.0,42.0,43.0,44.0,45.0,46.0,47.0,48.0,49.0,50.0,51.0,52.0,53.0,54.0,55.0,56.0,57.0,58.0,59.0,60.0,61.0,62.0,63.0],\"xaxis\":\"x\",\"y\":[7,7,6,6,6,6,6,6,6,6,6,6,5,5,5,5,4,4,6,9,9,7,7,7,7,4,4,4,4,4,4,4,4,4,4,4,4,4,4,4,4,4,4,4,4,7,6,6,6,6,5,4,4,4,4,4,4,4,4,4,4,4],\"yaxis\":\"y\",\"type\":\"scatter\"},{\"hovertemplate\":\"Driver=SAI<br>Lap=%{x}<br>Position=%{y}<extra></extra>\",\"legendgroup\":\"SAI\",\"line\":{\"color\":\"#EF1A2D\",\"dash\":\"solid\"},\"marker\":{\"symbol\":\"circle\"},\"mode\":\"lines\",\"name\":\"SAI\",\"orientation\":\"v\",\"showlegend\":true,\"x\":[1.0,2.0,4.0,5.0,6.0,7.0,8.0,9.0,10.0,11.0,12.0,13.0,14.0,15.0,16.0,17.0,18.0,19.0,20.0,21.0,22.0,23.0,24.0,25.0,26.0,27.0,28.0,29.0,30.0,31.0,32.0,33.0,34.0,35.0,36.0,37.0,38.0,39.0,40.0,41.0,42.0,43.0,44.0,45.0,46.0,47.0,48.0,49.0,50.0,51.0,52.0,53.0,54.0,55.0,56.0,57.0,58.0,59.0,60.0,61.0,62.0,63.0],\"xaxis\":\"x\",\"y\":[8,8,8,8,8,8,8,8,8,8,8,8,8,8,8,8,7,6,5,5,4,4,4,4,3,9,8,8,8,8,8,8,7,7,7,6,6,6,6,6,6,6,6,6,6,5,4,4,4,4,7,7,7,7,6,6,6,6,6,6,6,6],\"yaxis\":\"y\",\"type\":\"scatter\"},{\"hovertemplate\":\"Driver=OCO<br>Lap=%{x}<br>Position=%{y}<extra></extra>\",\"legendgroup\":\"OCO\",\"line\":{\"color\":\"#2173B8\",\"dash\":\"solid\"},\"marker\":{\"symbol\":\"circle\"},\"mode\":\"lines\",\"name\":\"OCO\",\"orientation\":\"v\",\"showlegend\":true,\"x\":[1.0,2.0,4.0,5.0,6.0,7.0,8.0,9.0,10.0,11.0,12.0,13.0,14.0,15.0,16.0,17.0,18.0,19.0,20.0,21.0,22.0,23.0,24.0,25.0,26.0,27.0,28.0,29.0,30.0,31.0,32.0,33.0,34.0,35.0,36.0,37.0,38.0,39.0,40.0,41.0,42.0,43.0,44.0,45.0,46.0,47.0,48.0,49.0,50.0,51.0,52.0,53.0,54.0,55.0,56.0,57.0,58.0,59.0,60.0,61.0,62.0,63.0],\"xaxis\":\"x\",\"y\":[9,9,10,10,10,10,10,10,10,10,10,11,14,15,14,14,13,12,12,12,11,11,11,11,11,8,9,9,9,12,14,14,14,14,14,14,13,13,12,12,12,12,11,11,10,8,10,10,10,10,12,12,11,11,11,10,10,10,10,10,10,10],\"yaxis\":\"y\",\"type\":\"scatter\"},{\"hovertemplate\":\"Driver=PIA<br>Lap=%{x}<br>Position=%{y}<extra></extra>\",\"legendgroup\":\"PIA\",\"line\":{\"color\":\"#FF8000\",\"dash\":\"solid\"},\"marker\":{\"symbol\":\"circle\"},\"mode\":\"lines\",\"name\":\"PIA\",\"orientation\":\"v\",\"showlegend\":true,\"x\":[1.0,3.0,4.0,5.0,6.0,7.0,8.0,9.0,10.0,11.0,12.0,13.0,14.0,15.0,16.0,17.0,18.0,19.0,20.0,21.0,22.0,23.0,24.0,25.0,26.0,27.0,28.0,29.0,30.0,31.0,32.0,33.0,34.0,35.0,36.0,37.0,38.0,39.0,40.0,41.0,42.0,43.0,44.0,45.0,46.0,47.0,48.0,49.0,50.0,51.0,52.0,53.0,54.0,55.0,56.0,57.0,58.0,59.0,60.0,61.0,62.0,63.0],\"xaxis\":\"x\",\"y\":[10,16,16,16,16,16,16,17,17,17,17,17,17,17,17,17,17,17,17,17,17,16,16,16,16,16,16,16,16,16,16,16,16,16,16,16,16,16,15,15,15,15,15,15,15,15,15,15,15,15,15,15,15,15,15,15,14,14,14,14,14,14],\"yaxis\":\"y\",\"type\":\"scatter\"},{\"hovertemplate\":\"Driver=TSU<br>Lap=%{x}<br>Position=%{y}<extra></extra>\",\"legendgroup\":\"TSU\",\"line\":{\"color\":\"#20394C\",\"dash\":\"solid\"},\"marker\":{\"symbol\":\"circle\"},\"mode\":\"lines\",\"name\":\"TSU\",\"orientation\":\"v\",\"showlegend\":true,\"x\":[1.0,2.0,4.0,5.0,6.0,7.0,8.0,9.0,10.0,11.0,12.0,13.0,14.0,15.0,16.0,17.0,18.0,19.0,20.0,21.0,22.0,23.0,24.0,25.0,26.0,27.0,28.0,29.0,30.0,31.0,32.0,33.0,34.0,35.0,36.0,37.0,38.0,39.0,40.0,41.0,42.0,43.0,44.0,45.0,46.0,47.0,48.0,49.0,50.0,51.0,52.0,53.0,54.0,55.0,56.0,57.0,58.0,59.0,60.0,61.0,62.0,63.0],\"xaxis\":\"x\",\"y\":[11,10,11,11,11,11,11,11,11,11,11,10,10,10,11,11,10,9,8,7,7,6,6,6,6,13,13,13,13,13,12,12,11,11,10,10,10,10,10,10,10,10,10,9,8,6,7,7,7,7,6,5,5,6,10,9,9,9,9,9,9,9],\"yaxis\":\"y\",\"type\":\"scatter\"},{\"hovertemplate\":\"Driver=GAS<br>Lap=%{x}<br>Position=%{y}<extra></extra>\",\"legendgroup\":\"GAS\",\"line\":{\"color\":\"#2173B8\",\"dash\":\"solid\"},\"marker\":{\"symbol\":\"circle\"},\"mode\":\"lines\",\"name\":\"GAS\",\"orientation\":\"v\",\"showlegend\":true,\"x\":[1.0,2.0,4.0,5.0,6.0,7.0,8.0,9.0,10.0,11.0,12.0,13.0,14.0,15.0,16.0,17.0,18.0,19.0,20.0,21.0,22.0,23.0,24.0,25.0,26.0,27.0,28.0,29.0,30.0,31.0,32.0,33.0,34.0,35.0,36.0,37.0,38.0,39.0,40.0,41.0,42.0,43.0,44.0,45.0,46.0,47.0,48.0,49.0,50.0,51.0,52.0,53.0,54.0,55.0,56.0,57.0,58.0,59.0,60.0,61.0,62.0,63.0],\"xaxis\":\"x\",\"y\":[12,11,9,9,9,9,9,9,9,9,9,9,9,9,9,9,8,7,7,6,5,5,5,5,5,12,12,11,11,10,9,9,9,9,9,9,9,9,9,9,9,8,8,8,9,10,9,9,8,8,8,8,8,8,7,7,7,7,7,7,7,7],\"yaxis\":\"y\",\"type\":\"scatter\"},{\"hovertemplate\":\"Driver=BOT<br>Lap=%{x}<br>Position=%{y}<extra></extra>\",\"legendgroup\":\"BOT\",\"line\":{\"color\":\"#A42134\",\"dash\":\"solid\"},\"marker\":{\"symbol\":\"circle\"},\"mode\":\"lines\",\"name\":\"BOT\",\"orientation\":\"v\",\"showlegend\":true,\"x\":[1.0,2.0,4.0,5.0,6.0,7.0,8.0,9.0,10.0,11.0,12.0,13.0,14.0,15.0,16.0,17.0,18.0,19.0,20.0,21.0,22.0,23.0,24.0,25.0,26.0,27.0,28.0,29.0,30.0,31.0,32.0,33.0,34.0,35.0,36.0,37.0,38.0,39.0],\"xaxis\":\"x\",\"y\":[13,12,13,13,13,13,13,13,12,12,12,12,11,11,10,10,11,13,13,13,12,12,12,12,12,10,10,10,10,9,10,10,10,10,11,11,11,12],\"yaxis\":\"y\",\"type\":\"scatter\"},{\"hovertemplate\":\"Driver=ZHO<br>Lap=%{x}<br>Position=%{y}<extra></extra>\",\"legendgroup\":\"ZHO\",\"line\":{\"color\":\"#A42134\",\"dash\":\"solid\"},\"marker\":{\"symbol\":\"circle\"},\"mode\":\"lines\",\"name\":\"ZHO\",\"orientation\":\"v\",\"showlegend\":true,\"x\":[1.0,2.0,4.0,5.0,6.0,7.0,8.0,9.0,10.0,11.0,12.0,13.0,14.0,15.0,16.0,17.0,18.0,19.0,20.0,21.0,22.0],\"xaxis\":\"x\",\"y\":[14,13,14,14,14,14,14,14,14,14,14,13,12,13,15,15,14,14,14,14,14],\"yaxis\":\"y\",\"type\":\"scatter\"},{\"hovertemplate\":\"Driver=SAR<br>Lap=%{x}<br>Position=%{y}<extra></extra>\",\"legendgroup\":\"SAR\",\"line\":{\"color\":\"#00A0DE\",\"dash\":\"solid\"},\"marker\":{\"symbol\":\"circle\"},\"mode\":\"lines\",\"name\":\"SAR\",\"orientation\":\"v\",\"showlegend\":true,\"x\":[1.0,2.0,4.0,5.0,6.0,7.0,8.0,9.0,10.0,11.0,12.0,13.0,14.0,15.0,16.0,17.0,18.0,19.0,20.0,21.0,22.0,23.0,24.0,25.0,26.0,27.0,28.0,29.0,30.0,31.0,32.0,33.0,34.0,35.0,36.0,37.0,38.0,39.0,40.0,41.0,42.0,43.0,44.0,45.0,46.0,47.0,48.0,49.0,50.0,51.0,52.0,53.0,54.0,55.0,56.0,57.0,58.0,59.0,60.0,61.0,62.0,63.0],\"xaxis\":\"x\",\"y\":[15,14,15,15,15,15,15,15,15,15,15,14,13,12,12,12,15,15,15,15,13,13,13,13,13,11,11,12,12,11,11,11,12,12,12,12,12,11,11,11,11,11,12,13,13,12,12,12,12,12,11,11,12,12,12,11,11,11,11,11,11,11],\"yaxis\":\"y\",\"type\":\"scatter\"},{\"hovertemplate\":\"Driver=RIC<br>Lap=%{x}<br>Position=%{y}<extra></extra>\",\"legendgroup\":\"RIC\",\"line\":{\"color\":\"#20394C\",\"dash\":\"solid\"},\"marker\":{\"symbol\":\"circle\"},\"mode\":\"lines\",\"name\":\"RIC\",\"orientation\":\"v\",\"showlegend\":true,\"x\":[1.0,3.0,4.0,5.0,6.0,7.0,8.0,9.0,10.0,11.0,12.0,13.0,14.0,15.0,16.0,17.0,18.0,19.0,20.0,21.0,22.0,23.0,24.0,25.0,26.0,27.0,28.0,29.0,30.0,31.0,32.0,33.0,34.0,35.0,36.0,37.0,38.0,39.0,40.0,41.0,42.0,43.0,44.0,45.0,46.0,47.0,48.0,49.0,50.0,51.0,52.0,53.0,54.0,55.0,56.0,57.0,58.0,59.0,60.0,61.0,62.0,63.0],\"xaxis\":\"x\",\"y\":[16,17,17,17,17,17,17,16,16,16,16,16,16,16,16,16,16,16,16,16,16,15,15,15,15,15,15,15,15,15,15,15,15,15,15,15,15,15,14,14,14,14,14,14,14,14,14,14,14,14,14,14,14,14,14,14,13,13,13,13,13,13],\"yaxis\":\"y\",\"type\":\"scatter\"},{\"hovertemplate\":\"Driver=HUL<br>Lap=%{x}<br>Position=%{y}<extra></extra>\",\"legendgroup\":\"HUL\",\"line\":{\"color\":\"#E6002B\",\"dash\":\"solid\"},\"marker\":{\"symbol\":\"circle\"},\"mode\":\"lines\",\"name\":\"HUL\",\"orientation\":\"v\",\"showlegend\":true,\"x\":[1.0,2.0,4.0,5.0,6.0,7.0,8.0,9.0,10.0,11.0,12.0,13.0,14.0,15.0,16.0,17.0,18.0,19.0,20.0,21.0,22.0,23.0,24.0,25.0,26.0,27.0,28.0,29.0,30.0,31.0,32.0,33.0,34.0,35.0,36.0,37.0,38.0,39.0,40.0,41.0,42.0,43.0,44.0,45.0,46.0,47.0,48.0,49.0,50.0,51.0,52.0,53.0,54.0,55.0,56.0,57.0,58.0,59.0,60.0,61.0,62.0,63.0],\"xaxis\":\"x\",\"y\":[17,15,12,12,12,12,12,12,13,13,13,15,15,14,13,13,12,10,9,11,15,14,14,14,14,14,14,14,14,14,13,13,13,13,13,13,14,14,13,13,13,13,13,12,12,13,13,13,13,13,13,13,13,13,13,13,12,12,12,12,12,12],\"yaxis\":\"y\",\"type\":\"scatter\"}],                        {\"template\":{\"data\":{\"histogram2dcontour\":[{\"type\":\"histogram2dcontour\",\"colorbar\":{\"outlinewidth\":0,\"ticks\":\"\"},\"colorscale\":[[0.0,\"#0d0887\"],[0.1111111111111111,\"#46039f\"],[0.2222222222222222,\"#7201a8\"],[0.3333333333333333,\"#9c179e\"],[0.4444444444444444,\"#bd3786\"],[0.5555555555555556,\"#d8576b\"],[0.6666666666666666,\"#ed7953\"],[0.7777777777777778,\"#fb9f3a\"],[0.8888888888888888,\"#fdca26\"],[1.0,\"#f0f921\"]]}],\"choropleth\":[{\"type\":\"choropleth\",\"colorbar\":{\"outlinewidth\":0,\"ticks\":\"\"}}],\"histogram2d\":[{\"type\":\"histogram2d\",\"colorbar\":{\"outlinewidth\":0,\"ticks\":\"\"},\"colorscale\":[[0.0,\"#0d0887\"],[0.1111111111111111,\"#46039f\"],[0.2222222222222222,\"#7201a8\"],[0.3333333333333333,\"#9c179e\"],[0.4444444444444444,\"#bd3786\"],[0.5555555555555556,\"#d8576b\"],[0.6666666666666666,\"#ed7953\"],[0.7777777777777778,\"#fb9f3a\"],[0.8888888888888888,\"#fdca26\"],[1.0,\"#f0f921\"]]}],\"heatmap\":[{\"type\":\"heatmap\",\"colorbar\":{\"outlinewidth\":0,\"ticks\":\"\"},\"colorscale\":[[0.0,\"#0d0887\"],[0.1111111111111111,\"#46039f\"],[0.2222222222222222,\"#7201a8\"],[0.3333333333333333,\"#9c179e\"],[0.4444444444444444,\"#bd3786\"],[0.5555555555555556,\"#d8576b\"],[0.6666666666666666,\"#ed7953\"],[0.7777777777777778,\"#fb9f3a\"],[0.8888888888888888,\"#fdca26\"],[1.0,\"#f0f921\"]]}],\"heatmapgl\":[{\"type\":\"heatmapgl\",\"colorbar\":{\"outlinewidth\":0,\"ticks\":\"\"},\"colorscale\":[[0.0,\"#0d0887\"],[0.1111111111111111,\"#46039f\"],[0.2222222222222222,\"#7201a8\"],[0.3333333333333333,\"#9c179e\"],[0.4444444444444444,\"#bd3786\"],[0.5555555555555556,\"#d8576b\"],[0.6666666666666666,\"#ed7953\"],[0.7777777777777778,\"#fb9f3a\"],[0.8888888888888888,\"#fdca26\"],[1.0,\"#f0f921\"]]}],\"contourcarpet\":[{\"type\":\"contourcarpet\",\"colorbar\":{\"outlinewidth\":0,\"ticks\":\"\"}}],\"contour\":[{\"type\":\"contour\",\"colorbar\":{\"outlinewidth\":0,\"ticks\":\"\"},\"colorscale\":[[0.0,\"#0d0887\"],[0.1111111111111111,\"#46039f\"],[0.2222222222222222,\"#7201a8\"],[0.3333333333333333,\"#9c179e\"],[0.4444444444444444,\"#bd3786\"],[0.5555555555555556,\"#d8576b\"],[0.6666666666666666,\"#ed7953\"],[0.7777777777777778,\"#fb9f3a\"],[0.8888888888888888,\"#fdca26\"],[1.0,\"#f0f921\"]]}],\"surface\":[{\"type\":\"surface\",\"colorbar\":{\"outlinewidth\":0,\"ticks\":\"\"},\"colorscale\":[[0.0,\"#0d0887\"],[0.1111111111111111,\"#46039f\"],[0.2222222222222222,\"#7201a8\"],[0.3333333333333333,\"#9c179e\"],[0.4444444444444444,\"#bd3786\"],[0.5555555555555556,\"#d8576b\"],[0.6666666666666666,\"#ed7953\"],[0.7777777777777778,\"#fb9f3a\"],[0.8888888888888888,\"#fdca26\"],[1.0,\"#f0f921\"]]}],\"mesh3d\":[{\"type\":\"mesh3d\",\"colorbar\":{\"outlinewidth\":0,\"ticks\":\"\"}}],\"scatter\":[{\"fillpattern\":{\"fillmode\":\"overlay\",\"size\":10,\"solidity\":0.2},\"type\":\"scatter\"}],\"parcoords\":[{\"type\":\"parcoords\",\"line\":{\"colorbar\":{\"outlinewidth\":0,\"ticks\":\"\"}}}],\"scatterpolargl\":[{\"type\":\"scatterpolargl\",\"marker\":{\"colorbar\":{\"outlinewidth\":0,\"ticks\":\"\"}}}],\"bar\":[{\"error_x\":{\"color\":\"#2a3f5f\"},\"error_y\":{\"color\":\"#2a3f5f\"},\"marker\":{\"line\":{\"color\":\"#E5ECF6\",\"width\":0.5},\"pattern\":{\"fillmode\":\"overlay\",\"size\":10,\"solidity\":0.2}},\"type\":\"bar\"}],\"scattergeo\":[{\"type\":\"scattergeo\",\"marker\":{\"colorbar\":{\"outlinewidth\":0,\"ticks\":\"\"}}}],\"scatterpolar\":[{\"type\":\"scatterpolar\",\"marker\":{\"colorbar\":{\"outlinewidth\":0,\"ticks\":\"\"}}}],\"histogram\":[{\"marker\":{\"pattern\":{\"fillmode\":\"overlay\",\"size\":10,\"solidity\":0.2}},\"type\":\"histogram\"}],\"scattergl\":[{\"type\":\"scattergl\",\"marker\":{\"colorbar\":{\"outlinewidth\":0,\"ticks\":\"\"}}}],\"scatter3d\":[{\"type\":\"scatter3d\",\"line\":{\"colorbar\":{\"outlinewidth\":0,\"ticks\":\"\"}},\"marker\":{\"colorbar\":{\"outlinewidth\":0,\"ticks\":\"\"}}}],\"scattermapbox\":[{\"type\":\"scattermapbox\",\"marker\":{\"colorbar\":{\"outlinewidth\":0,\"ticks\":\"\"}}}],\"scatterternary\":[{\"type\":\"scatterternary\",\"marker\":{\"colorbar\":{\"outlinewidth\":0,\"ticks\":\"\"}}}],\"scattercarpet\":[{\"type\":\"scattercarpet\",\"marker\":{\"colorbar\":{\"outlinewidth\":0,\"ticks\":\"\"}}}],\"carpet\":[{\"aaxis\":{\"endlinecolor\":\"#2a3f5f\",\"gridcolor\":\"white\",\"linecolor\":\"white\",\"minorgridcolor\":\"white\",\"startlinecolor\":\"#2a3f5f\"},\"baxis\":{\"endlinecolor\":\"#2a3f5f\",\"gridcolor\":\"white\",\"linecolor\":\"white\",\"minorgridcolor\":\"white\",\"startlinecolor\":\"#2a3f5f\"},\"type\":\"carpet\"}],\"table\":[{\"cells\":{\"fill\":{\"color\":\"#EBF0F8\"},\"line\":{\"color\":\"white\"}},\"header\":{\"fill\":{\"color\":\"#C8D4E3\"},\"line\":{\"color\":\"white\"}},\"type\":\"table\"}],\"barpolar\":[{\"marker\":{\"line\":{\"color\":\"#E5ECF6\",\"width\":0.5},\"pattern\":{\"fillmode\":\"overlay\",\"size\":10,\"solidity\":0.2}},\"type\":\"barpolar\"}],\"pie\":[{\"automargin\":true,\"type\":\"pie\"}]},\"layout\":{\"autotypenumbers\":\"strict\",\"colorway\":[\"#636efa\",\"#EF553B\",\"#00cc96\",\"#ab63fa\",\"#FFA15A\",\"#19d3f3\",\"#FF6692\",\"#B6E880\",\"#FF97FF\",\"#FECB52\"],\"font\":{\"color\":\"#2a3f5f\"},\"hovermode\":\"closest\",\"hoverlabel\":{\"align\":\"left\"},\"paper_bgcolor\":\"white\",\"plot_bgcolor\":\"#E5ECF6\",\"polar\":{\"bgcolor\":\"#E5ECF6\",\"angularaxis\":{\"gridcolor\":\"white\",\"linecolor\":\"white\",\"ticks\":\"\"},\"radialaxis\":{\"gridcolor\":\"white\",\"linecolor\":\"white\",\"ticks\":\"\"}},\"ternary\":{\"bgcolor\":\"#E5ECF6\",\"aaxis\":{\"gridcolor\":\"white\",\"linecolor\":\"white\",\"ticks\":\"\"},\"baxis\":{\"gridcolor\":\"white\",\"linecolor\":\"white\",\"ticks\":\"\"},\"caxis\":{\"gridcolor\":\"white\",\"linecolor\":\"white\",\"ticks\":\"\"}},\"coloraxis\":{\"colorbar\":{\"outlinewidth\":0,\"ticks\":\"\"}},\"colorscale\":{\"sequential\":[[0.0,\"#0d0887\"],[0.1111111111111111,\"#46039f\"],[0.2222222222222222,\"#7201a8\"],[0.3333333333333333,\"#9c179e\"],[0.4444444444444444,\"#bd3786\"],[0.5555555555555556,\"#d8576b\"],[0.6666666666666666,\"#ed7953\"],[0.7777777777777778,\"#fb9f3a\"],[0.8888888888888888,\"#fdca26\"],[1.0,\"#f0f921\"]],\"sequentialminus\":[[0.0,\"#0d0887\"],[0.1111111111111111,\"#46039f\"],[0.2222222222222222,\"#7201a8\"],[0.3333333333333333,\"#9c179e\"],[0.4444444444444444,\"#bd3786\"],[0.5555555555555556,\"#d8576b\"],[0.6666666666666666,\"#ed7953\"],[0.7777777777777778,\"#fb9f3a\"],[0.8888888888888888,\"#fdca26\"],[1.0,\"#f0f921\"]],\"diverging\":[[0,\"#8e0152\"],[0.1,\"#c51b7d\"],[0.2,\"#de77ae\"],[0.3,\"#f1b6da\"],[0.4,\"#fde0ef\"],[0.5,\"#f7f7f7\"],[0.6,\"#e6f5d0\"],[0.7,\"#b8e186\"],[0.8,\"#7fbc41\"],[0.9,\"#4d9221\"],[1,\"#276419\"]]},\"xaxis\":{\"gridcolor\":\"white\",\"linecolor\":\"white\",\"ticks\":\"\",\"title\":{\"standoff\":15},\"zerolinecolor\":\"white\",\"automargin\":true,\"zerolinewidth\":2},\"yaxis\":{\"gridcolor\":\"white\",\"linecolor\":\"white\",\"ticks\":\"\",\"title\":{\"standoff\":15},\"zerolinecolor\":\"white\",\"automargin\":true,\"zerolinewidth\":2},\"scene\":{\"xaxis\":{\"backgroundcolor\":\"#E5ECF6\",\"gridcolor\":\"white\",\"linecolor\":\"white\",\"showbackground\":true,\"ticks\":\"\",\"zerolinecolor\":\"white\",\"gridwidth\":2},\"yaxis\":{\"backgroundcolor\":\"#E5ECF6\",\"gridcolor\":\"white\",\"linecolor\":\"white\",\"showbackground\":true,\"ticks\":\"\",\"zerolinecolor\":\"white\",\"gridwidth\":2},\"zaxis\":{\"backgroundcolor\":\"#E5ECF6\",\"gridcolor\":\"white\",\"linecolor\":\"white\",\"showbackground\":true,\"ticks\":\"\",\"zerolinecolor\":\"white\",\"gridwidth\":2}},\"shapedefaults\":{\"line\":{\"color\":\"#2a3f5f\"}},\"annotationdefaults\":{\"arrowcolor\":\"#2a3f5f\",\"arrowhead\":0,\"arrowwidth\":1},\"geo\":{\"bgcolor\":\"white\",\"landcolor\":\"#E5ECF6\",\"subunitcolor\":\"white\",\"showland\":true,\"showlakes\":true,\"lakecolor\":\"white\"},\"title\":{\"x\":0.05},\"mapbox\":{\"style\":\"light\"}}},\"xaxis\":{\"anchor\":\"y\",\"domain\":[0.0,1.0],\"title\":{\"text\":\"Lap\"}},\"yaxis\":{\"anchor\":\"x\",\"domain\":[0.0,1.0],\"title\":{\"text\":\"Position\"}},\"legend\":{\"title\":{\"text\":\"Driver\"},\"tracegroupgap\":0},\"margin\":{\"t\":60},\"title\":{\"font\":{\"family\":\"Arial, sans-serif\",\"size\":30},\"text\":\"<b>Position By Lap</b>\",\"x\":0.5},\"updatemenus\":[{\"active\":0,\"buttons\":[{\"args\":[{\"visible\":[true,true,true,true,true,true,true,true,true,true,true,true,true,true,true,true,true,true,true,true],\"title\":\"All\",\"showlegend\":true}],\"label\":\"All\",\"method\":\"update\"},{\"args\":[{\"visible\":[true,false,false,false,false,false,false,false,false,false,false,false,false,false,false,false,false,false,false,false],\"title\":\"ALB\",\"showlegend\":true}],\"label\":\"ALB\",\"method\":\"update\"},{\"args\":[{\"visible\":[false,true,false,false,false,false,false,false,false,false,false,false,false,false,false,false,false,false,false,false],\"title\":\"ALO\",\"showlegend\":true}],\"label\":\"ALO\",\"method\":\"update\"},{\"args\":[{\"visible\":[false,false,true,false,false,false,false,false,false,false,false,false,false,false,false,false,false,false,false,false],\"title\":\"BOT\",\"showlegend\":true}],\"label\":\"BOT\",\"method\":\"update\"},{\"args\":[{\"visible\":[false,false,false,true,false,false,false,false,false,false,false,false,false,false,false,false,false,false,false,false],\"title\":\"GAS\",\"showlegend\":true}],\"label\":\"GAS\",\"method\":\"update\"},{\"args\":[{\"visible\":[false,false,false,false,true,false,false,false,false,false,false,false,false,false,false,false,false,false,false,false],\"title\":\"HAM\",\"showlegend\":true}],\"label\":\"HAM\",\"method\":\"update\"},{\"args\":[{\"visible\":[false,false,false,false,false,true,false,false,false,false,false,false,false,false,false,false,false,false,false,false],\"title\":\"HUL\",\"showlegend\":true}],\"label\":\"HUL\",\"method\":\"update\"},{\"args\":[{\"visible\":[false,false,false,false,false,false,true,false,false,false,false,false,false,false,false,false,false,false,false,false],\"title\":\"LEC\",\"showlegend\":true}],\"label\":\"LEC\",\"method\":\"update\"},{\"args\":[{\"visible\":[false,false,false,false,false,false,false,true,false,false,false,false,false,false,false,false,false,false,false,false],\"title\":\"MAG\",\"showlegend\":true}],\"label\":\"MAG\",\"method\":\"update\"},{\"args\":[{\"visible\":[false,false,false,false,false,false,false,false,true,false,false,false,false,false,false,false,false,false,false,false],\"title\":\"NOR\",\"showlegend\":true}],\"label\":\"NOR\",\"method\":\"update\"},{\"args\":[{\"visible\":[false,false,false,false,false,false,false,false,false,true,false,false,false,false,false,false,false,false,false,false],\"title\":\"OCO\",\"showlegend\":true}],\"label\":\"OCO\",\"method\":\"update\"},{\"args\":[{\"visible\":[false,false,false,false,false,false,false,false,false,false,true,false,false,false,false,false,false,false,false,false],\"title\":\"PER\",\"showlegend\":true}],\"label\":\"PER\",\"method\":\"update\"},{\"args\":[{\"visible\":[false,false,false,false,false,false,false,false,false,false,false,true,false,false,false,false,false,false,false,false],\"title\":\"PIA\",\"showlegend\":true}],\"label\":\"PIA\",\"method\":\"update\"},{\"args\":[{\"visible\":[false,false,false,false,false,false,false,false,false,false,false,false,true,false,false,false,false,false,false,false],\"title\":\"RIC\",\"showlegend\":true}],\"label\":\"RIC\",\"method\":\"update\"},{\"args\":[{\"visible\":[false,false,false,false,false,false,false,false,false,false,false,false,false,true,false,false,false,false,false,false],\"title\":\"RUS\",\"showlegend\":true}],\"label\":\"RUS\",\"method\":\"update\"},{\"args\":[{\"visible\":[false,false,false,false,false,false,false,false,false,false,false,false,false,false,true,false,false,false,false,false],\"title\":\"SAI\",\"showlegend\":true}],\"label\":\"SAI\",\"method\":\"update\"},{\"args\":[{\"visible\":[false,false,false,false,false,false,false,false,false,false,false,false,false,false,false,true,false,false,false,false],\"title\":\"SAR\",\"showlegend\":true}],\"label\":\"SAR\",\"method\":\"update\"},{\"args\":[{\"visible\":[false,false,false,false,false,false,false,false,false,false,false,false,false,false,false,false,true,false,false,false],\"title\":\"STR\",\"showlegend\":true}],\"label\":\"STR\",\"method\":\"update\"},{\"args\":[{\"visible\":[false,false,false,false,false,false,false,false,false,false,false,false,false,false,false,false,false,true,false,false],\"title\":\"TSU\",\"showlegend\":true}],\"label\":\"TSU\",\"method\":\"update\"},{\"args\":[{\"visible\":[false,false,false,false,false,false,false,false,false,false,false,false,false,false,false,false,false,false,true,false],\"title\":\"VER\",\"showlegend\":true}],\"label\":\"VER\",\"method\":\"update\"},{\"args\":[{\"visible\":[false,false,false,false,false,false,false,false,false,false,false,false,false,false,false,false,false,false,false,true],\"title\":\"ZHO\",\"showlegend\":true}],\"label\":\"ZHO\",\"method\":\"update\"}]}]},                        {\"responsive\": true}                    ).then(function(){\n",
       "                            \n",
       "var gd = document.getElementById('6f9903ff-47bf-4e68-a68f-ae52bbc0c373');\n",
       "var x = new MutationObserver(function (mutations, observer) {{\n",
       "        var display = window.getComputedStyle(gd).display;\n",
       "        if (!display || display === 'none') {{\n",
       "            console.log([gd, 'removed!']);\n",
       "            Plotly.purge(gd);\n",
       "            observer.disconnect();\n",
       "        }}\n",
       "}});\n",
       "\n",
       "// Listen for the removal of the full notebook cells\n",
       "var notebookContainer = gd.closest('#notebook-container');\n",
       "if (notebookContainer) {{\n",
       "    x.observe(notebookContainer, {childList: true});\n",
       "}}\n",
       "\n",
       "// Listen for the clearing of the current output cell\n",
       "var outputEl = gd.closest('.output');\n",
       "if (outputEl) {{\n",
       "    x.observe(outputEl, {childList: true});\n",
       "}}\n",
       "\n",
       "                        })                };                });            </script>        </div>"
      ]
     },
     "metadata": {},
     "output_type": "display_data"
    }
   ],
   "source": [
    "if not lap_tim_emp:\n",
    "    multi_pos_plot(mapping)"
   ]
  },
  {
   "cell_type": "code",
   "execution_count": 31,
   "id": "88386d12",
   "metadata": {
    "_kg_hide-input": true,
    "execution": {
     "iopub.execute_input": "2023-11-10T04:04:54.134155Z",
     "iopub.status.busy": "2023-11-10T04:04:54.133592Z",
     "iopub.status.idle": "2023-11-10T04:04:54.143106Z",
     "shell.execute_reply": "2023-11-10T04:04:54.141642Z"
    },
    "papermill": {
     "duration": 0.041377,
     "end_time": "2023-11-10T04:04:54.146193",
     "exception": false,
     "start_time": "2023-11-10T04:04:54.104816",
     "status": "completed"
    },
    "tags": []
   },
   "outputs": [
    {
     "data": {
      "text/markdown": [
       "# <div style='background:#FF1801; border:0; color:black; box-shadow: 10px 10px 5px 0px rgba(0,0,0,0.75); transform: rotateX(10deg);'><h1 style='padding: 10px; margin: 0; text-align:center;'><span style='font-size: 30px;'>Driver Overall Standings</span></h1></div>"
      ],
      "text/plain": [
       "<IPython.core.display.Markdown object>"
      ]
     },
     "metadata": {},
     "output_type": "display_data"
    }
   ],
   "source": [
    "display(md(f\"# <div style='background:#FF1801; border:0; color:black; box-shadow: 10px 10px 5px 0px rgba(0,0,0,0.75); transform: rotateX(10deg);'><h1 style='padding: 10px; margin: 0; text-align:center;'><span style='font-size: 30px;'>Driver Overall Standings</span></h1></div>\"))"
   ]
  },
  {
   "cell_type": "code",
   "execution_count": 32,
   "id": "b4c15804",
   "metadata": {
    "_kg_hide-input": true,
    "execution": {
     "iopub.execute_input": "2023-11-10T04:04:54.198161Z",
     "iopub.status.busy": "2023-11-10T04:04:54.197666Z",
     "iopub.status.idle": "2023-11-10T04:04:54.226846Z",
     "shell.execute_reply": "2023-11-10T04:04:54.225785Z"
    },
    "papermill": {
     "duration": 0.058406,
     "end_time": "2023-11-10T04:04:54.229506",
     "exception": false,
     "start_time": "2023-11-10T04:04:54.171100",
     "status": "completed"
    },
    "tags": []
   },
   "outputs": [
    {
     "data": {
      "text/html": [
       "<style type=\"text/css\">\n",
       "#T_7a623_row0_col1, #T_7a623_row1_col1, #T_7a623_row2_col1, #T_7a623_row3_col1, #T_7a623_row4_col1, #T_7a623_row5_col1, #T_7a623_row6_col1, #T_7a623_row7_col1, #T_7a623_row8_col1, #T_7a623_row9_col1, #T_7a623_row10_col1, #T_7a623_row11_col1, #T_7a623_row12_col1, #T_7a623_row13_col1, #T_7a623_row14_col1, #T_7a623_row15_col1, #T_7a623_row16_col1, #T_7a623_row17_col1 {\n",
       "  background-color: #081d58;\n",
       "  color: #f1f1f1;\n",
       "}\n",
       "#T_7a623_row18_col1 {\n",
       "  background-color: #40b5c4;\n",
       "  color: #f1f1f1;\n",
       "}\n",
       "#T_7a623_row19_col1 {\n",
       "  background-color: #c6e9b4;\n",
       "  color: #000000;\n",
       "}\n",
       "#T_7a623_row20_col1, #T_7a623_row21_col1 {\n",
       "  background-color: #ffffd9;\n",
       "  color: #000000;\n",
       "}\n",
       "</style>\n",
       "<table id=\"T_7a623_\">\n",
       "  <caption>Driver Standings</caption>\n",
       "  <thead>\n",
       "    <tr>\n",
       "      <th class=\"col_heading level0 col0\" >Driver</th>\n",
       "      <th class=\"col_heading level0 col1\" >points</th>\n",
       "    </tr>\n",
       "  </thead>\n",
       "  <tbody>\n",
       "    <tr>\n",
       "      <td id=\"T_7a623_row0_col0\" class=\"data row0 col0\" >VER</td>\n",
       "      <td id=\"T_7a623_row0_col1\" class=\"data row0 col1\" >524.0</td>\n",
       "    </tr>\n",
       "    <tr>\n",
       "      <td id=\"T_7a623_row1_col0\" class=\"data row1 col0\" >PER</td>\n",
       "      <td id=\"T_7a623_row1_col1\" class=\"data row1 col1\" >258.0</td>\n",
       "    </tr>\n",
       "    <tr>\n",
       "      <td id=\"T_7a623_row2_col0\" class=\"data row2 col0\" >HAM</td>\n",
       "      <td id=\"T_7a623_row2_col1\" class=\"data row2 col1\" >226.0</td>\n",
       "    </tr>\n",
       "    <tr>\n",
       "      <td id=\"T_7a623_row3_col0\" class=\"data row3 col0\" >ALO</td>\n",
       "      <td id=\"T_7a623_row3_col1\" class=\"data row3 col1\" >198.0</td>\n",
       "    </tr>\n",
       "    <tr>\n",
       "      <td id=\"T_7a623_row4_col0\" class=\"data row4 col0\" >NOR</td>\n",
       "      <td id=\"T_7a623_row4_col1\" class=\"data row4 col1\" >195.0</td>\n",
       "    </tr>\n",
       "    <tr>\n",
       "      <td id=\"T_7a623_row5_col0\" class=\"data row5 col0\" >SAI</td>\n",
       "      <td id=\"T_7a623_row5_col1\" class=\"data row5 col1\" >192.0</td>\n",
       "    </tr>\n",
       "    <tr>\n",
       "      <td id=\"T_7a623_row6_col0\" class=\"data row6 col0\" >LEC</td>\n",
       "      <td id=\"T_7a623_row6_col1\" class=\"data row6 col1\" >170.0</td>\n",
       "    </tr>\n",
       "    <tr>\n",
       "      <td id=\"T_7a623_row7_col0\" class=\"data row7 col0\" >RUS</td>\n",
       "      <td id=\"T_7a623_row7_col1\" class=\"data row7 col1\" >156.0</td>\n",
       "    </tr>\n",
       "    <tr>\n",
       "      <td id=\"T_7a623_row8_col0\" class=\"data row8 col0\" >PIA</td>\n",
       "      <td id=\"T_7a623_row8_col1\" class=\"data row8 col1\" >87.0</td>\n",
       "    </tr>\n",
       "    <tr>\n",
       "      <td id=\"T_7a623_row9_col0\" class=\"data row9 col0\" >STR</td>\n",
       "      <td id=\"T_7a623_row9_col1\" class=\"data row9 col1\" >63.0</td>\n",
       "    </tr>\n",
       "    <tr>\n",
       "      <td id=\"T_7a623_row10_col0\" class=\"data row10 col0\" >GAS</td>\n",
       "      <td id=\"T_7a623_row10_col1\" class=\"data row10 col1\" >62.0</td>\n",
       "    </tr>\n",
       "    <tr>\n",
       "      <td id=\"T_7a623_row11_col0\" class=\"data row11 col0\" >OCO</td>\n",
       "      <td id=\"T_7a623_row11_col1\" class=\"data row11 col1\" >46.0</td>\n",
       "    </tr>\n",
       "    <tr>\n",
       "      <td id=\"T_7a623_row12_col0\" class=\"data row12 col0\" >ALB</td>\n",
       "      <td id=\"T_7a623_row12_col1\" class=\"data row12 col1\" >27.0</td>\n",
       "    </tr>\n",
       "    <tr>\n",
       "      <td id=\"T_7a623_row13_col0\" class=\"data row13 col0\" >TSU</td>\n",
       "      <td id=\"T_7a623_row13_col1\" class=\"data row13 col1\" >13.0</td>\n",
       "    </tr>\n",
       "    <tr>\n",
       "      <td id=\"T_7a623_row14_col0\" class=\"data row14 col0\" >BOT</td>\n",
       "      <td id=\"T_7a623_row14_col1\" class=\"data row14 col1\" >10.0</td>\n",
       "    </tr>\n",
       "    <tr>\n",
       "      <td id=\"T_7a623_row15_col0\" class=\"data row15 col0\" >HUL</td>\n",
       "      <td id=\"T_7a623_row15_col1\" class=\"data row15 col1\" >9.0</td>\n",
       "    </tr>\n",
       "    <tr>\n",
       "      <td id=\"T_7a623_row16_col0\" class=\"data row16 col0\" >RIC</td>\n",
       "      <td id=\"T_7a623_row16_col1\" class=\"data row16 col1\" >6.0</td>\n",
       "    </tr>\n",
       "    <tr>\n",
       "      <td id=\"T_7a623_row17_col0\" class=\"data row17 col0\" >ZHO</td>\n",
       "      <td id=\"T_7a623_row17_col1\" class=\"data row17 col1\" >6.0</td>\n",
       "    </tr>\n",
       "    <tr>\n",
       "      <td id=\"T_7a623_row18_col0\" class=\"data row18 col0\" >MAG</td>\n",
       "      <td id=\"T_7a623_row18_col1\" class=\"data row18 col1\" >3.0</td>\n",
       "    </tr>\n",
       "    <tr>\n",
       "      <td id=\"T_7a623_row19_col0\" class=\"data row19 col0\" >nan</td>\n",
       "      <td id=\"T_7a623_row19_col1\" class=\"data row19 col1\" >2.0</td>\n",
       "    </tr>\n",
       "    <tr>\n",
       "      <td id=\"T_7a623_row20_col0\" class=\"data row20 col0\" >SAR</td>\n",
       "      <td id=\"T_7a623_row20_col1\" class=\"data row20 col1\" >1.0</td>\n",
       "    </tr>\n",
       "    <tr>\n",
       "      <td id=\"T_7a623_row21_col0\" class=\"data row21 col0\" >DEV</td>\n",
       "      <td id=\"T_7a623_row21_col1\" class=\"data row21 col1\" >0.0</td>\n",
       "    </tr>\n",
       "  </tbody>\n",
       "</table>\n"
      ],
      "text/plain": [
       "<pandas.io.formats.style.Styler at 0x7982e2831a90>"
      ]
     },
     "execution_count": 32,
     "metadata": {},
     "output_type": "execute_result"
    }
   ],
   "source": [
    "drive_stand = driver_standings.merge(drivers_full, on='driverID', how='left', suffixes=('_1', '_2'))\n",
    "drive_stand['points'] = drive_stand.points.astype(float)\n",
    "drive_stand_race  = drive_stand .sort_values(by='points', ascending=False)\n",
    "drive_stand_race[['Driver', 'points']].style.pipe(driver_stand)"
   ]
  },
  {
   "cell_type": "code",
   "execution_count": 33,
   "id": "d36529f6",
   "metadata": {
    "_kg_hide-input": true,
    "execution": {
     "iopub.execute_input": "2023-11-10T04:04:54.283082Z",
     "iopub.status.busy": "2023-11-10T04:04:54.282553Z",
     "iopub.status.idle": "2023-11-10T04:04:54.290449Z",
     "shell.execute_reply": "2023-11-10T04:04:54.289362Z"
    },
    "papermill": {
     "duration": 0.038295,
     "end_time": "2023-11-10T04:04:54.293322",
     "exception": false,
     "start_time": "2023-11-10T04:04:54.255027",
     "status": "completed"
    },
    "tags": []
   },
   "outputs": [
    {
     "data": {
      "text/markdown": [
       "# <div style='background:#FF1801; border:0; color:black; box-shadow: 10px 10px 5px 0px rgba(0,0,0,0.75); transform: rotateX(10deg);'><h1 style='padding: 10px; margin: 0; text-align:center;'><span style='font-size: 30px;'>Constructors Race Performance</span></h1></div>"
      ],
      "text/plain": [
       "<IPython.core.display.Markdown object>"
      ]
     },
     "metadata": {},
     "output_type": "display_data"
    }
   ],
   "source": [
    "display(md(f\"# <div style='background:#FF1801; border:0; color:black; box-shadow: 10px 10px 5px 0px rgba(0,0,0,0.75); transform: rotateX(10deg);'><h1 style='padding: 10px; margin: 0; text-align:center;'><span style='font-size: 30px;'>Constructors Race Performance</span></h1></div>\"))"
   ]
  },
  {
   "cell_type": "code",
   "execution_count": 34,
   "id": "942977d8",
   "metadata": {
    "_kg_hide-input": true,
    "execution": {
     "iopub.execute_input": "2023-11-10T04:04:54.347402Z",
     "iopub.status.busy": "2023-11-10T04:04:54.346883Z",
     "iopub.status.idle": "2023-11-10T04:04:54.486403Z",
     "shell.execute_reply": "2023-11-10T04:04:54.484767Z"
    },
    "papermill": {
     "duration": 0.17044,
     "end_time": "2023-11-10T04:04:54.489620",
     "exception": false,
     "start_time": "2023-11-10T04:04:54.319180",
     "status": "completed"
    },
    "tags": []
   },
   "outputs": [
    {
     "data": {
      "text/html": [
       "<div>                            <div id=\"4ed9d4bf-2875-4392-b3a1-294a7a3dd966\" class=\"plotly-graph-div\" style=\"height:525px; width:100%;\"></div>            <script type=\"text/javascript\">                require([\"plotly\"], function(Plotly) {                    window.PLOTLYENV=window.PLOTLYENV || {};                                    if (document.getElementById(\"4ed9d4bf-2875-4392-b3a1-294a7a3dd966\")) {                    Plotly.newPlot(                        \"4ed9d4bf-2875-4392-b3a1-294a7a3dd966\",                        [{\"hovertemplate\":\"name=Red Bull<br>Race=%{x}<br>Points=%{y}<extra></extra>\",\"legendgroup\":\"Red Bull\",\"line\":{\"color\":\"#000B8D\",\"dash\":\"solid\"},\"marker\":{\"symbol\":\"circle\"},\"mode\":\"lines\",\"name\":\"Red Bull\",\"orientation\":\"v\",\"showlegend\":true,\"x\":[1,2,3,4,5,6,7,8,9,10,11,12,13,14,15,16,17,18,19,20],\"xaxis\":\"x\",\"y\":[43.0,87.0,123.0,180.0,224.0,249.0,287.0,321.0,377.0,411.0,452.0,503.0,540.0,583.0,597.0,623.0,657.0,706.0,731.0,782.0],\"yaxis\":\"y\",\"type\":\"scatter\"},{\"hovertemplate\":\"name=Aston Martin<br>Race=%{x}<br>Points=%{y}<extra></extra>\",\"legendgroup\":\"Aston Martin\",\"line\":{\"color\":\"#002420\",\"dash\":\"solid\"},\"marker\":{\"symbol\":\"circle\"},\"mode\":\"lines\",\"name\":\"Aston Martin\",\"orientation\":\"v\",\"showlegend\":true,\"x\":[1,2,3,4,5,6,7,8,9,10,11,12,13,14,15,16,17,18,19,20],\"xaxis\":\"x\",\"y\":[23.0,38.0,65.0,87.0,102.0,120.0,134.0,154.0,175.0,181.0,184.0,196.0,215.0,217.0,217.0,221.0,230.0,236.0,236.0,261.0],\"yaxis\":\"y\",\"type\":\"scatter\"},{\"hovertemplate\":\"name=Mercedes<br>Race=%{x}<br>Points=%{y}<extra></extra>\",\"legendgroup\":\"Mercedes\",\"line\":{\"color\":\"#00A19B\",\"dash\":\"solid\"},\"marker\":{\"symbol\":\"circle\"},\"mode\":\"lines\",\"name\":\"Mercedes\",\"orientation\":\"v\",\"showlegend\":true,\"x\":[1,2,3,4,5,6,7,8,9,10,11,12,13,14,15,16,17,18,19,20],\"xaxis\":\"x\",\"y\":[16.0,38.0,56.0,76.0,96.0,119.0,152.0,167.0,178.0,203.0,223.0,247.0,255.0,273.0,289.0,305.0,326.0,344.0,371.0,382.0],\"yaxis\":\"y\",\"type\":\"scatter\"},{\"hovertemplate\":\"name=Ferrari<br>Race=%{x}<br>Points=%{y}<extra></extra>\",\"legendgroup\":\"Ferrari\",\"line\":{\"color\":\"#EF1A2D\",\"dash\":\"solid\"},\"marker\":{\"symbol\":\"circle\"},\"mode\":\"lines\",\"name\":\"Ferrari\",\"orientation\":\"v\",\"showlegend\":true,\"x\":[1,2,3,4,5,6,7,8,9,10,11,12,13,14,15,16,17,18,19,20],\"xaxis\":\"x\",\"y\":[12.0,26.0,26.0,62.0,78.0,90.0,100.0,122.0,154.0,157.0,167.0,191.0,201.0,228.0,265.0,285.0,298.0,322.0,349.0,362.0],\"yaxis\":\"y\",\"type\":\"scatter\"},{\"hovertemplate\":\"name=Alfa Romeo<br>Race=%{x}<br>Points=%{y}<extra></extra>\",\"legendgroup\":\"Alfa Romeo\",\"line\":{\"color\":\"#A42134\",\"dash\":\"solid\"},\"marker\":{\"symbol\":\"circle\"},\"mode\":\"lines\",\"name\":\"Alfa Romeo\",\"orientation\":\"v\",\"showlegend\":true,\"x\":[1,2,3,4,5,6,7,8,9,10,11,12,13,14,15,16,17,18,19,20],\"xaxis\":\"x\",\"y\":[4.0,4.0,6.0,6.0,6.0,6.0,8.0,9.0,9.0,9.0,9.0,9.0,9.0,10.0,10.0,10.0,16.0,16.0,16.0,16.0],\"yaxis\":\"y\",\"type\":\"scatter\"},{\"hovertemplate\":\"name=Alpine F1 Team<br>Race=%{x}<br>Points=%{y}<extra></extra>\",\"legendgroup\":\"Alpine F1 Team\",\"line\":{\"color\":\"#2173B8\",\"dash\":\"solid\"},\"marker\":{\"symbol\":\"circle\"},\"mode\":\"lines\",\"name\":\"Alpine F1 Team\",\"orientation\":\"v\",\"showlegend\":true,\"x\":[1,2,3,4,5,6,7,8,9,10,11,12,13,14,15,16,17,18,19,20],\"xaxis\":\"x\",\"y\":[2.0,8.0,8.0,8.0,14.0,35.0,40.0,44.0,47.0,47.0,47.0,57.0,73.0,73.0,81.0,84.0,90.0,100.0,101.0,108.0],\"yaxis\":\"y\",\"type\":\"scatter\"},{\"hovertemplate\":\"name=Williams<br>Race=%{x}<br>Points=%{y}<extra></extra>\",\"legendgroup\":\"Williams\",\"line\":{\"color\":\"#00A0DE\",\"dash\":\"solid\"},\"marker\":{\"symbol\":\"circle\"},\"mode\":\"lines\",\"name\":\"Williams\",\"orientation\":\"v\",\"showlegend\":true,\"x\":[1,2,3,4,5,6,7,8,9,10,11,12,13,14,15,16,17,18,19,20],\"xaxis\":\"x\",\"y\":[1.0,1.0,1.0,1.0,1.0,1.0,1.0,7.0,7.0,11.0,11.0,11.0,15.0,21.0,21.0,21.0,23.0,26.0,28.0,28.0],\"yaxis\":\"y\",\"type\":\"scatter\"},{\"hovertemplate\":\"name=AlphaTauri<br>Race=%{x}<br>Points=%{y}<extra></extra>\",\"legendgroup\":\"AlphaTauri\",\"line\":{\"color\":\"#20394C\",\"dash\":\"solid\"},\"marker\":{\"symbol\":\"circle\"},\"mode\":\"lines\",\"name\":\"AlphaTauri\",\"orientation\":\"v\",\"showlegend\":true,\"x\":[1,2,3,4,5,6,7,8,9,10,11,12,13,14,15,16,17,18,19,20],\"xaxis\":\"x\",\"y\":[0.0,0.0,1.0,2.0,2.0,2.0,2.0,2.0,2.0,2.0,2.0,3.0,3.0,3.0,5.0,5.0,5.0,10.0,16.0,21.0],\"yaxis\":\"y\",\"type\":\"scatter\"},{\"hovertemplate\":\"name=Haas F1 Team<br>Race=%{x}<br>Points=%{y}<extra></extra>\",\"legendgroup\":\"Haas F1 Team\",\"line\":{\"color\":\"#E6002B\",\"dash\":\"solid\"},\"marker\":{\"symbol\":\"circle\"},\"mode\":\"lines\",\"name\":\"Haas F1 Team\",\"orientation\":\"v\",\"showlegend\":true,\"x\":[1,2,3,4,5,6,7,8,9,10,11,12,13,14,15,16,17,18,19,20],\"xaxis\":\"x\",\"y\":[0.0,1.0,7.0,7.0,8.0,8.0,8.0,8.0,11.0,11.0,11.0,11.0,11.0,11.0,12.0,12.0,12.0,12.0,12.0,12.0],\"yaxis\":\"y\",\"type\":\"scatter\"},{\"hovertemplate\":\"name=McLaren<br>Race=%{x}<br>Points=%{y}<extra></extra>\",\"legendgroup\":\"McLaren\",\"line\":{\"color\":\"#FF8000\",\"dash\":\"solid\"},\"marker\":{\"symbol\":\"circle\"},\"mode\":\"lines\",\"name\":\"McLaren\",\"orientation\":\"v\",\"showlegend\":true,\"x\":[1,2,3,4,5,6,7,8,9,10,11,12,13,14,15,16,17,18,19,20],\"xaxis\":\"x\",\"y\":[0.0,0.0,12.0,14.0,14.0,17.0,17.0,17.0,29.0,59.0,87.0,103.0,111.0,115.0,139.0,172.0,219.0,242.0,256.0,282.0],\"yaxis\":\"y\",\"type\":\"scatter\"}],                        {\"template\":{\"data\":{\"histogram2dcontour\":[{\"type\":\"histogram2dcontour\",\"colorbar\":{\"outlinewidth\":0,\"ticks\":\"\"},\"colorscale\":[[0.0,\"#0d0887\"],[0.1111111111111111,\"#46039f\"],[0.2222222222222222,\"#7201a8\"],[0.3333333333333333,\"#9c179e\"],[0.4444444444444444,\"#bd3786\"],[0.5555555555555556,\"#d8576b\"],[0.6666666666666666,\"#ed7953\"],[0.7777777777777778,\"#fb9f3a\"],[0.8888888888888888,\"#fdca26\"],[1.0,\"#f0f921\"]]}],\"choropleth\":[{\"type\":\"choropleth\",\"colorbar\":{\"outlinewidth\":0,\"ticks\":\"\"}}],\"histogram2d\":[{\"type\":\"histogram2d\",\"colorbar\":{\"outlinewidth\":0,\"ticks\":\"\"},\"colorscale\":[[0.0,\"#0d0887\"],[0.1111111111111111,\"#46039f\"],[0.2222222222222222,\"#7201a8\"],[0.3333333333333333,\"#9c179e\"],[0.4444444444444444,\"#bd3786\"],[0.5555555555555556,\"#d8576b\"],[0.6666666666666666,\"#ed7953\"],[0.7777777777777778,\"#fb9f3a\"],[0.8888888888888888,\"#fdca26\"],[1.0,\"#f0f921\"]]}],\"heatmap\":[{\"type\":\"heatmap\",\"colorbar\":{\"outlinewidth\":0,\"ticks\":\"\"},\"colorscale\":[[0.0,\"#0d0887\"],[0.1111111111111111,\"#46039f\"],[0.2222222222222222,\"#7201a8\"],[0.3333333333333333,\"#9c179e\"],[0.4444444444444444,\"#bd3786\"],[0.5555555555555556,\"#d8576b\"],[0.6666666666666666,\"#ed7953\"],[0.7777777777777778,\"#fb9f3a\"],[0.8888888888888888,\"#fdca26\"],[1.0,\"#f0f921\"]]}],\"heatmapgl\":[{\"type\":\"heatmapgl\",\"colorbar\":{\"outlinewidth\":0,\"ticks\":\"\"},\"colorscale\":[[0.0,\"#0d0887\"],[0.1111111111111111,\"#46039f\"],[0.2222222222222222,\"#7201a8\"],[0.3333333333333333,\"#9c179e\"],[0.4444444444444444,\"#bd3786\"],[0.5555555555555556,\"#d8576b\"],[0.6666666666666666,\"#ed7953\"],[0.7777777777777778,\"#fb9f3a\"],[0.8888888888888888,\"#fdca26\"],[1.0,\"#f0f921\"]]}],\"contourcarpet\":[{\"type\":\"contourcarpet\",\"colorbar\":{\"outlinewidth\":0,\"ticks\":\"\"}}],\"contour\":[{\"type\":\"contour\",\"colorbar\":{\"outlinewidth\":0,\"ticks\":\"\"},\"colorscale\":[[0.0,\"#0d0887\"],[0.1111111111111111,\"#46039f\"],[0.2222222222222222,\"#7201a8\"],[0.3333333333333333,\"#9c179e\"],[0.4444444444444444,\"#bd3786\"],[0.5555555555555556,\"#d8576b\"],[0.6666666666666666,\"#ed7953\"],[0.7777777777777778,\"#fb9f3a\"],[0.8888888888888888,\"#fdca26\"],[1.0,\"#f0f921\"]]}],\"surface\":[{\"type\":\"surface\",\"colorbar\":{\"outlinewidth\":0,\"ticks\":\"\"},\"colorscale\":[[0.0,\"#0d0887\"],[0.1111111111111111,\"#46039f\"],[0.2222222222222222,\"#7201a8\"],[0.3333333333333333,\"#9c179e\"],[0.4444444444444444,\"#bd3786\"],[0.5555555555555556,\"#d8576b\"],[0.6666666666666666,\"#ed7953\"],[0.7777777777777778,\"#fb9f3a\"],[0.8888888888888888,\"#fdca26\"],[1.0,\"#f0f921\"]]}],\"mesh3d\":[{\"type\":\"mesh3d\",\"colorbar\":{\"outlinewidth\":0,\"ticks\":\"\"}}],\"scatter\":[{\"fillpattern\":{\"fillmode\":\"overlay\",\"size\":10,\"solidity\":0.2},\"type\":\"scatter\"}],\"parcoords\":[{\"type\":\"parcoords\",\"line\":{\"colorbar\":{\"outlinewidth\":0,\"ticks\":\"\"}}}],\"scatterpolargl\":[{\"type\":\"scatterpolargl\",\"marker\":{\"colorbar\":{\"outlinewidth\":0,\"ticks\":\"\"}}}],\"bar\":[{\"error_x\":{\"color\":\"#2a3f5f\"},\"error_y\":{\"color\":\"#2a3f5f\"},\"marker\":{\"line\":{\"color\":\"#E5ECF6\",\"width\":0.5},\"pattern\":{\"fillmode\":\"overlay\",\"size\":10,\"solidity\":0.2}},\"type\":\"bar\"}],\"scattergeo\":[{\"type\":\"scattergeo\",\"marker\":{\"colorbar\":{\"outlinewidth\":0,\"ticks\":\"\"}}}],\"scatterpolar\":[{\"type\":\"scatterpolar\",\"marker\":{\"colorbar\":{\"outlinewidth\":0,\"ticks\":\"\"}}}],\"histogram\":[{\"marker\":{\"pattern\":{\"fillmode\":\"overlay\",\"size\":10,\"solidity\":0.2}},\"type\":\"histogram\"}],\"scattergl\":[{\"type\":\"scattergl\",\"marker\":{\"colorbar\":{\"outlinewidth\":0,\"ticks\":\"\"}}}],\"scatter3d\":[{\"type\":\"scatter3d\",\"line\":{\"colorbar\":{\"outlinewidth\":0,\"ticks\":\"\"}},\"marker\":{\"colorbar\":{\"outlinewidth\":0,\"ticks\":\"\"}}}],\"scattermapbox\":[{\"type\":\"scattermapbox\",\"marker\":{\"colorbar\":{\"outlinewidth\":0,\"ticks\":\"\"}}}],\"scatterternary\":[{\"type\":\"scatterternary\",\"marker\":{\"colorbar\":{\"outlinewidth\":0,\"ticks\":\"\"}}}],\"scattercarpet\":[{\"type\":\"scattercarpet\",\"marker\":{\"colorbar\":{\"outlinewidth\":0,\"ticks\":\"\"}}}],\"carpet\":[{\"aaxis\":{\"endlinecolor\":\"#2a3f5f\",\"gridcolor\":\"white\",\"linecolor\":\"white\",\"minorgridcolor\":\"white\",\"startlinecolor\":\"#2a3f5f\"},\"baxis\":{\"endlinecolor\":\"#2a3f5f\",\"gridcolor\":\"white\",\"linecolor\":\"white\",\"minorgridcolor\":\"white\",\"startlinecolor\":\"#2a3f5f\"},\"type\":\"carpet\"}],\"table\":[{\"cells\":{\"fill\":{\"color\":\"#EBF0F8\"},\"line\":{\"color\":\"white\"}},\"header\":{\"fill\":{\"color\":\"#C8D4E3\"},\"line\":{\"color\":\"white\"}},\"type\":\"table\"}],\"barpolar\":[{\"marker\":{\"line\":{\"color\":\"#E5ECF6\",\"width\":0.5},\"pattern\":{\"fillmode\":\"overlay\",\"size\":10,\"solidity\":0.2}},\"type\":\"barpolar\"}],\"pie\":[{\"automargin\":true,\"type\":\"pie\"}]},\"layout\":{\"autotypenumbers\":\"strict\",\"colorway\":[\"#636efa\",\"#EF553B\",\"#00cc96\",\"#ab63fa\",\"#FFA15A\",\"#19d3f3\",\"#FF6692\",\"#B6E880\",\"#FF97FF\",\"#FECB52\"],\"font\":{\"color\":\"#2a3f5f\"},\"hovermode\":\"closest\",\"hoverlabel\":{\"align\":\"left\"},\"paper_bgcolor\":\"white\",\"plot_bgcolor\":\"#E5ECF6\",\"polar\":{\"bgcolor\":\"#E5ECF6\",\"angularaxis\":{\"gridcolor\":\"white\",\"linecolor\":\"white\",\"ticks\":\"\"},\"radialaxis\":{\"gridcolor\":\"white\",\"linecolor\":\"white\",\"ticks\":\"\"}},\"ternary\":{\"bgcolor\":\"#E5ECF6\",\"aaxis\":{\"gridcolor\":\"white\",\"linecolor\":\"white\",\"ticks\":\"\"},\"baxis\":{\"gridcolor\":\"white\",\"linecolor\":\"white\",\"ticks\":\"\"},\"caxis\":{\"gridcolor\":\"white\",\"linecolor\":\"white\",\"ticks\":\"\"}},\"coloraxis\":{\"colorbar\":{\"outlinewidth\":0,\"ticks\":\"\"}},\"colorscale\":{\"sequential\":[[0.0,\"#0d0887\"],[0.1111111111111111,\"#46039f\"],[0.2222222222222222,\"#7201a8\"],[0.3333333333333333,\"#9c179e\"],[0.4444444444444444,\"#bd3786\"],[0.5555555555555556,\"#d8576b\"],[0.6666666666666666,\"#ed7953\"],[0.7777777777777778,\"#fb9f3a\"],[0.8888888888888888,\"#fdca26\"],[1.0,\"#f0f921\"]],\"sequentialminus\":[[0.0,\"#0d0887\"],[0.1111111111111111,\"#46039f\"],[0.2222222222222222,\"#7201a8\"],[0.3333333333333333,\"#9c179e\"],[0.4444444444444444,\"#bd3786\"],[0.5555555555555556,\"#d8576b\"],[0.6666666666666666,\"#ed7953\"],[0.7777777777777778,\"#fb9f3a\"],[0.8888888888888888,\"#fdca26\"],[1.0,\"#f0f921\"]],\"diverging\":[[0,\"#8e0152\"],[0.1,\"#c51b7d\"],[0.2,\"#de77ae\"],[0.3,\"#f1b6da\"],[0.4,\"#fde0ef\"],[0.5,\"#f7f7f7\"],[0.6,\"#e6f5d0\"],[0.7,\"#b8e186\"],[0.8,\"#7fbc41\"],[0.9,\"#4d9221\"],[1,\"#276419\"]]},\"xaxis\":{\"gridcolor\":\"white\",\"linecolor\":\"white\",\"ticks\":\"\",\"title\":{\"standoff\":15},\"zerolinecolor\":\"white\",\"automargin\":true,\"zerolinewidth\":2},\"yaxis\":{\"gridcolor\":\"white\",\"linecolor\":\"white\",\"ticks\":\"\",\"title\":{\"standoff\":15},\"zerolinecolor\":\"white\",\"automargin\":true,\"zerolinewidth\":2},\"scene\":{\"xaxis\":{\"backgroundcolor\":\"#E5ECF6\",\"gridcolor\":\"white\",\"linecolor\":\"white\",\"showbackground\":true,\"ticks\":\"\",\"zerolinecolor\":\"white\",\"gridwidth\":2},\"yaxis\":{\"backgroundcolor\":\"#E5ECF6\",\"gridcolor\":\"white\",\"linecolor\":\"white\",\"showbackground\":true,\"ticks\":\"\",\"zerolinecolor\":\"white\",\"gridwidth\":2},\"zaxis\":{\"backgroundcolor\":\"#E5ECF6\",\"gridcolor\":\"white\",\"linecolor\":\"white\",\"showbackground\":true,\"ticks\":\"\",\"zerolinecolor\":\"white\",\"gridwidth\":2}},\"shapedefaults\":{\"line\":{\"color\":\"#2a3f5f\"}},\"annotationdefaults\":{\"arrowcolor\":\"#2a3f5f\",\"arrowhead\":0,\"arrowwidth\":1},\"geo\":{\"bgcolor\":\"white\",\"landcolor\":\"#E5ECF6\",\"subunitcolor\":\"white\",\"showland\":true,\"showlakes\":true,\"lakecolor\":\"white\"},\"title\":{\"x\":0.05},\"mapbox\":{\"style\":\"light\"}}},\"xaxis\":{\"anchor\":\"y\",\"domain\":[0.0,1.0],\"title\":{\"text\":\"Race\"},\"range\":[1,24]},\"yaxis\":{\"anchor\":\"x\",\"domain\":[0.0,1.0],\"title\":{\"text\":\"Points\"}},\"legend\":{\"title\":{\"text\":\"name\"},\"tracegroupgap\":0},\"title\":{\"text\":\"<b>Constructor Championship Timeline</b>\",\"font\":{\"family\":\"Arial, sans-serif\",\"size\":30},\"x\":0.5}},                        {\"responsive\": true}                    ).then(function(){\n",
       "                            \n",
       "var gd = document.getElementById('4ed9d4bf-2875-4392-b3a1-294a7a3dd966');\n",
       "var x = new MutationObserver(function (mutations, observer) {{\n",
       "        var display = window.getComputedStyle(gd).display;\n",
       "        if (!display || display === 'none') {{\n",
       "            console.log([gd, 'removed!']);\n",
       "            Plotly.purge(gd);\n",
       "            observer.disconnect();\n",
       "        }}\n",
       "}});\n",
       "\n",
       "// Listen for the removal of the full notebook cells\n",
       "var notebookContainer = gd.closest('#notebook-container');\n",
       "if (notebookContainer) {{\n",
       "    x.observe(notebookContainer, {childList: true});\n",
       "}}\n",
       "\n",
       "// Listen for the clearing of the current output cell\n",
       "var outputEl = gd.closest('.output');\n",
       "if (outputEl) {{\n",
       "    x.observe(outputEl, {childList: true});\n",
       "}}\n",
       "\n",
       "                        })                };                });            </script>        </div>"
      ]
     },
     "metadata": {},
     "output_type": "display_data"
    }
   ],
   "source": [
    "fig = go.Figure()\n",
    "\n",
    "fig = px.line(constructor_results, x=\"race\", y=\"points\", color='name', labels={\n",
    "    \"points\": \"Points\",\n",
    "    \"race\": \"Race\"\n",
    "}, title='Lap Times', color_discrete_map=constructor_color_map)\n",
    "fig.update_layout(title_text='<b>Constructor Championship Timeline</b>', titlefont = dict(\n",
    "         family = 'Arial, sans-serif',\n",
    "         size = 30\n",
    "      ), title_x=0.5)\n",
    "fig.update_layout(xaxis_range=[1,24])"
   ]
  },
  {
   "cell_type": "code",
   "execution_count": 35,
   "id": "1342dc22",
   "metadata": {
    "_kg_hide-input": true,
    "execution": {
     "iopub.execute_input": "2023-11-10T04:04:54.547109Z",
     "iopub.status.busy": "2023-11-10T04:04:54.546518Z",
     "iopub.status.idle": "2023-11-10T04:04:54.556642Z",
     "shell.execute_reply": "2023-11-10T04:04:54.555000Z"
    },
    "papermill": {
     "duration": 0.042795,
     "end_time": "2023-11-10T04:04:54.559713",
     "exception": false,
     "start_time": "2023-11-10T04:04:54.516918",
     "status": "completed"
    },
    "tags": []
   },
   "outputs": [
    {
     "data": {
      "text/markdown": [
       "# <div style='background:#FF1801; border:0; color:black; box-shadow: 10px 10px 5px 0px rgba(0,0,0,0.75); transform: rotateX(10deg);'><h1 style='padding: 10px; margin: 0; text-align:center;'><span style='font-size: 30px;'>Constructor Overall Standings</span></h1></div>"
      ],
      "text/plain": [
       "<IPython.core.display.Markdown object>"
      ]
     },
     "metadata": {},
     "output_type": "display_data"
    }
   ],
   "source": [
    "display(md(f\"# <div style='background:#FF1801; border:0; color:black; box-shadow: 10px 10px 5px 0px rgba(0,0,0,0.75); transform: rotateX(10deg);'><h1 style='padding: 10px; margin: 0; text-align:center;'><span style='font-size: 30px;'>Constructor Overall Standings</span></h1></div>\"))"
   ]
  },
  {
   "cell_type": "code",
   "execution_count": 36,
   "id": "e98268e7",
   "metadata": {
    "_kg_hide-input": true,
    "execution": {
     "iopub.execute_input": "2023-11-10T04:04:54.614234Z",
     "iopub.status.busy": "2023-11-10T04:04:54.613640Z",
     "iopub.status.idle": "2023-11-10T04:04:54.637985Z",
     "shell.execute_reply": "2023-11-10T04:04:54.636142Z"
    },
    "papermill": {
     "duration": 0.05581,
     "end_time": "2023-11-10T04:04:54.641395",
     "exception": false,
     "start_time": "2023-11-10T04:04:54.585585",
     "status": "completed"
    },
    "tags": []
   },
   "outputs": [
    {
     "data": {
      "text/html": [
       "<style type=\"text/css\">\n",
       "#T_ab50a_row0_col1, #T_ab50a_row1_col1, #T_ab50a_row2_col1, #T_ab50a_row3_col1, #T_ab50a_row4_col1, #T_ab50a_row5_col1, #T_ab50a_row6_col1, #T_ab50a_row7_col1, #T_ab50a_row8_col1, #T_ab50a_row9_col1 {\n",
       "  background-color: #800026;\n",
       "  color: #f1f1f1;\n",
       "}\n",
       "</style>\n",
       "<table id=\"T_ab50a_\">\n",
       "  <caption>Constructor Standings</caption>\n",
       "  <thead>\n",
       "    <tr>\n",
       "      <th class=\"col_heading level0 col0\" >name</th>\n",
       "      <th class=\"col_heading level0 col1\" >points</th>\n",
       "      <th class=\"col_heading level0 col2\" >wins</th>\n",
       "    </tr>\n",
       "  </thead>\n",
       "  <tbody>\n",
       "    <tr>\n",
       "      <td id=\"T_ab50a_row0_col0\" class=\"data row0 col0\" >Red Bull</td>\n",
       "      <td id=\"T_ab50a_row0_col1\" class=\"data row0 col1\" >782.0</td>\n",
       "      <td id=\"T_ab50a_row0_col2\" class=\"data row0 col2\" >19</td>\n",
       "    </tr>\n",
       "    <tr>\n",
       "      <td id=\"T_ab50a_row1_col0\" class=\"data row1 col0\" >Mercedes</td>\n",
       "      <td id=\"T_ab50a_row1_col1\" class=\"data row1 col1\" >382.0</td>\n",
       "      <td id=\"T_ab50a_row1_col2\" class=\"data row1 col2\" >0</td>\n",
       "    </tr>\n",
       "    <tr>\n",
       "      <td id=\"T_ab50a_row2_col0\" class=\"data row2 col0\" >Ferrari</td>\n",
       "      <td id=\"T_ab50a_row2_col1\" class=\"data row2 col1\" >362.0</td>\n",
       "      <td id=\"T_ab50a_row2_col2\" class=\"data row2 col2\" >1</td>\n",
       "    </tr>\n",
       "    <tr>\n",
       "      <td id=\"T_ab50a_row3_col0\" class=\"data row3 col0\" >McLaren</td>\n",
       "      <td id=\"T_ab50a_row3_col1\" class=\"data row3 col1\" >282.0</td>\n",
       "      <td id=\"T_ab50a_row3_col2\" class=\"data row3 col2\" >0</td>\n",
       "    </tr>\n",
       "    <tr>\n",
       "      <td id=\"T_ab50a_row4_col0\" class=\"data row4 col0\" >Aston Martin</td>\n",
       "      <td id=\"T_ab50a_row4_col1\" class=\"data row4 col1\" >261.0</td>\n",
       "      <td id=\"T_ab50a_row4_col2\" class=\"data row4 col2\" >0</td>\n",
       "    </tr>\n",
       "    <tr>\n",
       "      <td id=\"T_ab50a_row5_col0\" class=\"data row5 col0\" >Alpine F1 Team</td>\n",
       "      <td id=\"T_ab50a_row5_col1\" class=\"data row5 col1\" >108.0</td>\n",
       "      <td id=\"T_ab50a_row5_col2\" class=\"data row5 col2\" >0</td>\n",
       "    </tr>\n",
       "    <tr>\n",
       "      <td id=\"T_ab50a_row6_col0\" class=\"data row6 col0\" >Williams</td>\n",
       "      <td id=\"T_ab50a_row6_col1\" class=\"data row6 col1\" >28.0</td>\n",
       "      <td id=\"T_ab50a_row6_col2\" class=\"data row6 col2\" >0</td>\n",
       "    </tr>\n",
       "    <tr>\n",
       "      <td id=\"T_ab50a_row7_col0\" class=\"data row7 col0\" >AlphaTauri</td>\n",
       "      <td id=\"T_ab50a_row7_col1\" class=\"data row7 col1\" >21.0</td>\n",
       "      <td id=\"T_ab50a_row7_col2\" class=\"data row7 col2\" >0</td>\n",
       "    </tr>\n",
       "    <tr>\n",
       "      <td id=\"T_ab50a_row8_col0\" class=\"data row8 col0\" >Alfa Romeo</td>\n",
       "      <td id=\"T_ab50a_row8_col1\" class=\"data row8 col1\" >16.0</td>\n",
       "      <td id=\"T_ab50a_row8_col2\" class=\"data row8 col2\" >0</td>\n",
       "    </tr>\n",
       "    <tr>\n",
       "      <td id=\"T_ab50a_row9_col0\" class=\"data row9 col0\" >Haas F1 Team</td>\n",
       "      <td id=\"T_ab50a_row9_col1\" class=\"data row9 col1\" >12.0</td>\n",
       "      <td id=\"T_ab50a_row9_col2\" class=\"data row9 col2\" >0</td>\n",
       "    </tr>\n",
       "  </tbody>\n",
       "</table>\n"
      ],
      "text/plain": [
       "<pandas.io.formats.style.Styler at 0x7982e2751a10>"
      ]
     },
     "execution_count": 36,
     "metadata": {},
     "output_type": "execute_result"
    }
   ],
   "source": [
    "const_stand_race = constructor_overall.sort_values(by='points', ascending=False)\n",
    "const_stand_race[['name', 'points', 'wins']].style.pipe(const_standings)"
   ]
  },
  {
   "cell_type": "code",
   "execution_count": 37,
   "id": "eae486d0",
   "metadata": {
    "_kg_hide-input": true,
    "execution": {
     "iopub.execute_input": "2023-11-10T04:04:54.696214Z",
     "iopub.status.busy": "2023-11-10T04:04:54.695681Z",
     "iopub.status.idle": "2023-11-10T04:04:54.710291Z",
     "shell.execute_reply": "2023-11-10T04:04:54.708944Z"
    },
    "papermill": {
     "duration": 0.045488,
     "end_time": "2023-11-10T04:04:54.713120",
     "exception": false,
     "start_time": "2023-11-10T04:04:54.667632",
     "status": "completed"
    },
    "tags": []
   },
   "outputs": [
    {
     "data": {
      "text/markdown": [
       "<h1 style='background:#FF1801;border:0; color:black;box-shadow: 10px 10px 5px 0px rgba(0,0,0,0.75);transform: rotateX(10deg);'><center style='color: white;'>Next Up: Las Vegas Grand Prix, 2023-11-18</center></h1>"
      ],
      "text/plain": [
       "<IPython.core.display.Markdown object>"
      ]
     },
     "metadata": {},
     "output_type": "display_data"
    }
   ],
   "source": [
    "max_round = max(schedule['round'])\n",
    "if race < max_round:\n",
    "    next_race = schedule[schedule['round'] == (race+1)]\n",
    "    next_race_name = next_race['raceName'].values[0]\n",
    "    next_race_date = next_race['date'].values[0]\n",
    "    display(md(f\"<h1 style='background:#FF1801;border:0; color:black;box-shadow: 10px 10px 5px 0px rgba(0,0,0,0.75);transform: rotateX(10deg);'><center style='color: white;'>Next Up: {next_race_name}, {next_race_date}</center></h1>\"))\n",
    "else:\n",
    "    display(md(f\"<h1 style='background:#FF1801;border:0; color:black;box-shadow: 10px 10px 5px 0px rgba(0,0,0,0.75);transform: rotateX(10deg);'><center style='color: white;'>Next Up: {year+1} Data Summary</center></h1>\"))\n"
   ]
  },
  {
   "cell_type": "markdown",
   "id": "f9904520",
   "metadata": {
    "papermill": {
     "duration": 0.026286,
     "end_time": "2023-11-10T04:04:54.765757",
     "exception": false,
     "start_time": "2023-11-10T04:04:54.739471",
     "status": "completed"
    },
    "tags": []
   },
   "source": [
    "<h1 style='background:#FF1801;border:0; color:black;\n",
    "    box-shadow: 10px 10px 5px 0px rgba(0,0,0,0.75);\n",
    "    transform: rotateX(10deg);\n",
    "    '><center style='color: black;'>Thank You</center></h1>"
   ]
  },
  {
   "cell_type": "markdown",
   "id": "c3a04be6",
   "metadata": {
    "papermill": {
     "duration": 0.026379,
     "end_time": "2023-11-10T04:04:54.819514",
     "exception": false,
     "start_time": "2023-11-10T04:04:54.793135",
     "status": "completed"
    },
    "tags": []
   },
   "source": [
    "### Please upvote if you liked this notebook and comment with your feedback! Thank you so much for supporting my work. "
   ]
  },
  {
   "cell_type": "code",
   "execution_count": 38,
   "id": "9bc3cdfb",
   "metadata": {
    "_kg_hide-input": true,
    "execution": {
     "iopub.execute_input": "2023-11-10T04:04:54.874317Z",
     "iopub.status.busy": "2023-11-10T04:04:54.873834Z",
     "iopub.status.idle": "2023-11-10T04:04:54.882788Z",
     "shell.execute_reply": "2023-11-10T04:04:54.881296Z"
    },
    "papermill": {
     "duration": 0.039468,
     "end_time": "2023-11-10T04:04:54.885521",
     "exception": false,
     "start_time": "2023-11-10T04:04:54.846053",
     "status": "completed"
    },
    "tags": []
   },
   "outputs": [
    {
     "data": {
      "text/markdown": [
       "# <div style='background:#FF1801; border:0; color:black; box-shadow: 10px 10px 5px 0px rgba(0,0,0,0.75); transform: rotateX(10deg);'><h1 style='padding: 10px; margin: 0; text-align:center;'><span style='font-size: 30px;'>Acknowledgements</span></h1></div>"
      ],
      "text/plain": [
       "<IPython.core.display.Markdown object>"
      ]
     },
     "metadata": {},
     "output_type": "display_data"
    }
   ],
   "source": [
    "display(md(f\"# <div style='background:#FF1801; border:0; color:black; box-shadow: 10px 10px 5px 0px rgba(0,0,0,0.75); transform: rotateX(10deg);'><h1 style='padding: 10px; margin: 0; text-align:center;'><span style='font-size: 30px;'>Acknowledgements</span></h1></div>\"))"
   ]
  },
  {
   "cell_type": "markdown",
   "id": "856e1466",
   "metadata": {
    "papermill": {
     "duration": 0.026143,
     "end_time": "2023-11-10T04:04:54.938309",
     "exception": false,
     "start_time": "2023-11-10T04:04:54.912166",
     "status": "completed"
    },
    "tags": []
   },
   "source": [
    "- Shoutout to @VOPANI for creating this fantastic, F1 dataset\n",
    "- The F1 Developer API http://ergast.com/mrd/\n",
    "- The python package ergast API wrapper, [[pyergast](https://github.com/weiranyu/pyErgast)]\n",
    "- Very inspired by this [[notebook](https://www.kaggle.com/code/ekrembayar/formula-1-70th-anniversary)] on the same dataset"
   ]
  },
  {
   "cell_type": "code",
   "execution_count": 39,
   "id": "0113837f",
   "metadata": {
    "_kg_hide-input": true,
    "execution": {
     "iopub.execute_input": "2023-11-10T04:04:54.993065Z",
     "iopub.status.busy": "2023-11-10T04:04:54.992603Z",
     "iopub.status.idle": "2023-11-10T04:04:55.002701Z",
     "shell.execute_reply": "2023-11-10T04:04:55.000580Z"
    },
    "papermill": {
     "duration": 0.041083,
     "end_time": "2023-11-10T04:04:55.005717",
     "exception": false,
     "start_time": "2023-11-10T04:04:54.964634",
     "status": "completed"
    },
    "tags": []
   },
   "outputs": [
    {
     "data": {
      "text/markdown": [
       "# <div style='background:#FF1801; border:0; color:black; box-shadow: 10px 10px 5px 0px rgba(0,0,0,0.75); transform: rotateX(10deg);'><h1 style='padding: 10px; margin: 0; text-align:center;'><span style='font-size: 30px;'>Race Schedule</span></h1></div>"
      ],
      "text/plain": [
       "<IPython.core.display.Markdown object>"
      ]
     },
     "metadata": {},
     "output_type": "display_data"
    }
   ],
   "source": [
    "display(md(f\"# <div style='background:#FF1801; border:0; color:black; box-shadow: 10px 10px 5px 0px rgba(0,0,0,0.75); transform: rotateX(10deg);'><h1 style='padding: 10px; margin: 0; text-align:center;'><span style='font-size: 30px;'>Race Schedule</span></h1></div>\"))"
   ]
  },
  {
   "cell_type": "markdown",
   "id": "9e4b3008",
   "metadata": {
    "papermill": {
     "duration": 0.028761,
     "end_time": "2023-11-10T04:04:55.062323",
     "exception": false,
     "start_time": "2023-11-10T04:04:55.033562",
     "status": "completed"
    },
    "tags": []
   },
   "source": [
    "<div class=\"row\" style='float:left' align='center'>\n",
    "<div class=\"column\" align = 'center' style='float:left; max-width:50%;'> \n",
    "    <img src=\"https://cdn-1.motorsport.com/images/mgl/Y99JQRbY/s800/red-bull-racing-logo-1.jpg\" width=70>\n",
    "    <img src=\"https://media.formula1.com/content/dam/fom-website/2018-redesign-assets/team%20logos/alpine.jpg\" width=70>\n",
    "    <img src=\"https://cdn-8.motorsport.com/images/mgl/YEQJgyLY/s800/mclaren-f1-team-logo-1.jpg\" width=60>\n",
    "    <img src=\"https://assets.turbologo.com/blog/en/2019/10/19084952/ferrari-logo-illustration-958x575.jpg\" width=70 />\n",
    "      <img src=\"https://cdn.sanity.io/images/fnx611yr/production/ff454bb2b4adb541b66477adcb49088f8de0fb4a-2400x2400.jpg?rect=0,572,2400,1256&w=1200&h=628&auto=format\"/ width=70>\n",
    "    <img src=\"https://cdn-9.motorsport.com/images/mgl/0RrzmDo0/s800/mercedes-f1-logo-1.jpg\" width=70/>\n",
    "    <img src=\"https://diginomica.com/sites/default/files/images/2019-05/Haas-F1-logo.jpg\" width=70>\n",
    "    <img src=\"https://d3cm515ijfiu6w.cloudfront.net/wp-content/uploads/2021/01/01082241/Aston-Martin.jpg\" width=70>\n",
    "    <img src=\"https://cdn-2.motorsport.com/images/mgl/Y99JQR8Y/s8/scuderia-alphatauri-f1-logo-1.jpg\" width=70>\n",
    "      <img src=\"https://www.formula1.com/content/dam/fom-website/manual/teams/Sauber/Alfa_Romeo_Racing_logo.jpg\"/ width=70>\n",
    "</div>\n",
    " <div class=\"column\" style='float:left; max-width:50%;'> \n",
    "    <img src=\"https://pbs.twimg.com/media/FmrBRv9XwAAFv18.jpg:large\" />\n",
    "</div>\n",
    " </div>"
   ]
  }
 ],
 "metadata": {
  "kernelspec": {
   "display_name": "Python 3",
   "language": "python",
   "name": "python3"
  },
  "language_info": {
   "codemirror_mode": {
    "name": "ipython",
    "version": 3
   },
   "file_extension": ".py",
   "mimetype": "text/x-python",
   "name": "python",
   "nbconvert_exporter": "python",
   "pygments_lexer": "ipython3",
   "version": "3.7.12"
  },
  "papermill": {
   "default_parameters": {},
   "duration": 84.463749,
   "end_time": "2023-11-10T04:04:56.318829",
   "environment_variables": {},
   "exception": null,
   "input_path": "__notebook__.ipynb",
   "output_path": "__notebook__.ipynb",
   "parameters": {},
   "start_time": "2023-11-10T04:03:31.855080",
   "version": "2.4.0"
  }
 },
 "nbformat": 4,
 "nbformat_minor": 5
}
