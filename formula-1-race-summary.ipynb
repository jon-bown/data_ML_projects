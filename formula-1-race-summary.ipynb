{
 "cells": [
  {
   "cell_type": "markdown",
   "id": "402ecdf8",
   "metadata": {
    "papermill": {
     "duration": 0.017838,
     "end_time": "2023-11-27T17:05:13.940282",
     "exception": false,
     "start_time": "2023-11-27T17:05:13.922444",
     "status": "completed"
    },
    "tags": []
   },
   "source": [
    "<div align='center'>\n",
    "    <img src=\"https://www.raconteur.net/wp-content/uploads/2018/04/shutterstock_762930772.jpg\"/>\n",
    "</div>"
   ]
  },
  {
   "cell_type": "markdown",
   "id": "3adc179c",
   "metadata": {
    "papermill": {
     "duration": 0.015786,
     "end_time": "2023-11-27T17:05:13.972397",
     "exception": false,
     "start_time": "2023-11-27T17:05:13.956611",
     "status": "completed"
    },
    "tags": []
   },
   "source": [
    "<style>\n",
    "@font-face {\n",
    "  font-family: F1;\n",
    "  src: url(https://www.formula1.com/etc/designs/fom-website/fonts/F1Regular/Formula1-Regular.ttf);\n",
    "}\n",
    "\n",
    "span{\n",
    "  font-family: F1;\n",
    "}\n",
    "\n",
    "a{\n",
    "  font-family: F1;\n",
    "}\n",
    "\n",
    ".nav-pills>li.active>a:focus {\n",
    "    color: #ffffff;\n",
    "    background-color: lightgray;\n",
    "}\n",
    "\n",
    ".container-fluid, .container-fluid h1 {\n",
    "    font-family: F1;\n",
    "    line-height: 1.7;\n",
    "}\n",
    "\n",
    ".container-fluid p {\n",
    "    font-family: F1;\n",
    "    color:black;\n",
    "}\n",
    "\n",
    "h1,h2,h3,h4,h5,h6,p, table {\n",
    "  font-family: F1;\n",
    "  color: black\n",
    "}\n",
    "</style>"
   ]
  },
  {
   "cell_type": "code",
   "execution_count": 1,
   "id": "4f437530",
   "metadata": {
    "_kg_hide-input": true,
    "_kg_hide-output": true,
    "execution": {
     "iopub.execute_input": "2023-11-27T17:05:14.006628Z",
     "iopub.status.busy": "2023-11-27T17:05:14.006192Z",
     "iopub.status.idle": "2023-11-27T17:05:14.022060Z",
     "shell.execute_reply": "2023-11-27T17:05:14.021128Z"
    },
    "papermill": {
     "duration": 0.036305,
     "end_time": "2023-11-27T17:05:14.024928",
     "exception": false,
     "start_time": "2023-11-27T17:05:13.988623",
     "status": "completed"
    },
    "tags": []
   },
   "outputs": [
    {
     "data": {
      "text/html": [
       "<style>\n",
       "@font-face {\n",
       "  font-family: F1;\n",
       "  src: url(https://www.formula1.com/etc/designs/fom-website/fonts/F1Regular/Formula1-Regular.ttf);\n",
       "}\n",
       "\n",
       "span{\n",
       "  font-family: F1;\n",
       "}\n",
       "\n",
       "a{\n",
       "  font-family: F1;\n",
       "}\n",
       "\n",
       ".nav-pills>li.active>a:focus {\n",
       "    color: #ffffff;\n",
       "    background-color: lightgray;\n",
       "}\n",
       "\n",
       ".container-fluid, .container-fluid h1 {\n",
       "    font-family: F1;\n",
       "    line-height: 1.7;\n",
       "}\n",
       "\n",
       ".container-fluid p {\n",
       "    font-family: F1;\n",
       "    color:black;\n",
       "}\n",
       "\n",
       "h1,h2,h3,h4,h5,h6,p, table {\n",
       "  font-family: F1;\n",
       "  color: black\n",
       "}\n",
       "</style>\n"
      ],
      "text/plain": [
       "<IPython.core.display.HTML object>"
      ]
     },
     "metadata": {},
     "output_type": "display_data"
    }
   ],
   "source": [
    "%%html\n",
    "<style>\n",
    "@font-face {\n",
    "  font-family: F1;\n",
    "  src: url(https://www.formula1.com/etc/designs/fom-website/fonts/F1Regular/Formula1-Regular.ttf);\n",
    "}\n",
    "\n",
    "span{\n",
    "  font-family: F1;\n",
    "}\n",
    "\n",
    "a{\n",
    "  font-family: F1;\n",
    "}\n",
    "\n",
    ".nav-pills>li.active>a:focus {\n",
    "    color: #ffffff;\n",
    "    background-color: lightgray;\n",
    "}\n",
    "\n",
    ".container-fluid, .container-fluid h1 {\n",
    "    font-family: F1;\n",
    "    line-height: 1.7;\n",
    "}\n",
    "\n",
    ".container-fluid p {\n",
    "    font-family: F1;\n",
    "    color:black;\n",
    "}\n",
    "\n",
    "h1,h2,h3,h4,h5,h6,p, table {\n",
    "  font-family: F1;\n",
    "  color: black\n",
    "}\n",
    "</style>"
   ]
  },
  {
   "cell_type": "markdown",
   "id": "4538daff",
   "metadata": {
    "papermill": {
     "duration": 0.017992,
     "end_time": "2023-11-27T17:05:14.059371",
     "exception": false,
     "start_time": "2023-11-27T17:05:14.041379",
     "status": "completed"
    },
    "tags": []
   },
   "source": [
    "<div style=\"padding: 15px; \n",
    "            color: #FFFFFF;\n",
    "            margin: 5px;\n",
    "            font-size: 110%;\n",
    "            display: block;\n",
    "            border-radius: 5px;\n",
    "            border: 5px solid #FF1801;\n",
    "            background-color: #000000;\">\n",
    "    <center>\n",
    "        <a id=\"top\"></a>\n",
    "        <h3 style=\"margin-bottom: 20px; color: white;\">Table of Contents</h3>\n",
    "    </center>\n",
    "    <ol>\n",
    "        <li>Podium</li>\n",
    "        <li>Full Results</li>\n",
    "        <li>Qualifying</li>\n",
    "        <li>Sprint</li>\n",
    "        <li>Pit Stops</li>\n",
    "        <li>Lap Summary</li>\n",
    "        <li>Driver Standings</li>\n",
    "        <li>Constructor Race Performance</li>\n",
    "        <li>Constructor Standings</li>\n",
    "        <li>Sources</li>\n",
    "    </ol>\n",
    "</div>\n"
   ]
  },
  {
   "cell_type": "code",
   "execution_count": 2,
   "id": "d1151114",
   "metadata": {
    "_kg_hide-input": true,
    "_kg_hide-output": true,
    "execution": {
     "iopub.execute_input": "2023-11-27T17:05:14.094765Z",
     "iopub.status.busy": "2023-11-27T17:05:14.094282Z",
     "iopub.status.idle": "2023-11-27T17:05:29.568714Z",
     "shell.execute_reply": "2023-11-27T17:05:29.567097Z"
    },
    "papermill": {
     "duration": 15.495719,
     "end_time": "2023-11-27T17:05:29.572120",
     "exception": false,
     "start_time": "2023-11-27T17:05:14.076401",
     "status": "completed"
    },
    "tags": []
   },
   "outputs": [
    {
     "name": "stdout",
     "output_type": "stream",
     "text": [
      "Collecting pyergast\r\n",
      "  Downloading pyErgast-0.1.0-py3-none-any.whl (10 kB)\r\n",
      "Requirement already satisfied: requests<3.0.0,>=2.25.0 in /opt/conda/lib/python3.7/site-packages (from pyergast) (2.28.2)\r\n",
      "Requirement already satisfied: pandas<2.0.0,>=1.1.5 in /opt/conda/lib/python3.7/site-packages (from pyergast) (1.3.5)\r\n",
      "Requirement already satisfied: numpy>=1.17.3 in /opt/conda/lib/python3.7/site-packages (from pandas<2.0.0,>=1.1.5->pyergast) (1.21.6)\r\n",
      "Requirement already satisfied: python-dateutil>=2.7.3 in /opt/conda/lib/python3.7/site-packages (from pandas<2.0.0,>=1.1.5->pyergast) (2.8.2)\r\n",
      "Requirement already satisfied: pytz>=2017.3 in /opt/conda/lib/python3.7/site-packages (from pandas<2.0.0,>=1.1.5->pyergast) (2022.7.1)\r\n",
      "Requirement already satisfied: charset-normalizer<4,>=2 in /opt/conda/lib/python3.7/site-packages (from requests<3.0.0,>=2.25.0->pyergast) (2.1.1)\r\n",
      "Requirement already satisfied: idna<4,>=2.5 in /opt/conda/lib/python3.7/site-packages (from requests<3.0.0,>=2.25.0->pyergast) (3.4)\r\n",
      "Requirement already satisfied: certifi>=2017.4.17 in /opt/conda/lib/python3.7/site-packages (from requests<3.0.0,>=2.25.0->pyergast) (2022.12.7)\r\n",
      "Requirement already satisfied: urllib3<1.27,>=1.21.1 in /opt/conda/lib/python3.7/site-packages (from requests<3.0.0,>=2.25.0->pyergast) (1.26.14)\r\n",
      "Requirement already satisfied: six>=1.5 in /opt/conda/lib/python3.7/site-packages (from python-dateutil>=2.7.3->pandas<2.0.0,>=1.1.5->pyergast) (1.16.0)\r\n",
      "Installing collected packages: pyergast\r\n",
      "Successfully installed pyergast-0.1.0\r\n",
      "\u001b[33mWARNING: Running pip as the 'root' user can result in broken permissions and conflicting behaviour with the system package manager. It is recommended to use a virtual environment instead: https://pip.pypa.io/warnings/venv\u001b[0m\u001b[33m\r\n",
      "\u001b[0m"
     ]
    }
   ],
   "source": [
    "!pip install pyergast"
   ]
  },
  {
   "cell_type": "code",
   "execution_count": 3,
   "id": "63016cab",
   "metadata": {
    "_cell_guid": "b1076dfc-b9ad-4769-8c92-a6c4dae69d19",
    "_kg_hide-input": true,
    "_uuid": "8f2839f25d086af736a60e9eeb907d3b93b6e0e5",
    "execution": {
     "iopub.execute_input": "2023-11-27T17:05:29.608649Z",
     "iopub.status.busy": "2023-11-27T17:05:29.608198Z",
     "iopub.status.idle": "2023-11-27T17:05:33.105751Z",
     "shell.execute_reply": "2023-11-27T17:05:33.104266Z"
    },
    "papermill": {
     "duration": 3.519998,
     "end_time": "2023-11-27T17:05:33.109220",
     "exception": false,
     "start_time": "2023-11-27T17:05:29.589222",
     "status": "completed"
    },
    "tags": []
   },
   "outputs": [],
   "source": [
    "import numpy as np\n",
    "import pandas as pd\n",
    "import datetime\n",
    "from datetime import date\n",
    "import os\n",
    "import seaborn as sns\n",
    "from IPython.display import Markdown as md\n",
    "import matplotlib.pyplot as plt\n",
    "import plotly.express as px\n",
    "from scipy import stats\n",
    "import plotly.graph_objects as go\n",
    "pd.set_option('display.precision', 1)\n",
    "from pyergast import pyergast\n",
    "import requests\n",
    "from plotly.offline import init_notebook_mode, iplot"
   ]
  },
  {
   "cell_type": "code",
   "execution_count": 4,
   "id": "0310ddbe",
   "metadata": {
    "_kg_hide-input": true,
    "execution": {
     "iopub.execute_input": "2023-11-27T17:05:33.146692Z",
     "iopub.status.busy": "2023-11-27T17:05:33.146183Z",
     "iopub.status.idle": "2023-11-27T17:05:33.180228Z",
     "shell.execute_reply": "2023-11-27T17:05:33.179033Z"
    },
    "papermill": {
     "duration": 0.055978,
     "end_time": "2023-11-27T17:05:33.183413",
     "exception": false,
     "start_time": "2023-11-27T17:05:33.127435",
     "status": "completed"
    },
    "tags": []
   },
   "outputs": [],
   "source": [
    "#NOT ALL API ENDPOINTS AVAILABLE IN PYTHON PACKAGE OR WORK CORRECTLY, NEED TO USE MY OWN FOR SOME\n",
    "def constructor_standings(year=None, race=None):\n",
    "    \"\"\"\n",
    "    Fetch the constructor standings after a specific race in a specific year. Defaults to latest standings\n",
    "    Parameters\n",
    "    ----------\n",
    "    year: int\n",
    "        An optional parameter that specifies the year to be queried.\n",
    "    race: int\n",
    "        An optional parameter that specifies the round of a year to be queried.\n",
    "    Returns\n",
    "    -------\n",
    "    pandas.DataFrame\n",
    "    Index:\n",
    "        RangeIndex\n",
    "    Columns:\n",
    "        position: int\n",
    "        positionText: str\n",
    "        points: int\n",
    "        wins: int\n",
    "        constructorID: str\n",
    "        constructor: str\n",
    "        nationality: str\n",
    "    Example\n",
    "    -------\n",
    "    >>> pyergast.constructor_standings(1965)\n",
    "       position positionText points wins    constructorID             name    nationality\n",
    "    0         1            1     54    6     lotus-climax     Lotus-Climax        British\n",
    "    1         2            2     45    3              brm              BRM        British\n",
    "    2         3            3     27    0   brabham-climax   Brabham-Climax        British\n",
    "    3         4            4     26    0          ferrari          Ferrari        Italian\n",
    "    4         5            5     14    0    cooper-climax    Cooper-Climax        British\n",
    "    5         6            6     11    1            honda            Honda       Japanese\n",
    "    6         7            7      5    0      brabham-brm      Brabham-BRM        British\n",
    "    7         8            8      2    0        lotus-brm        Lotus-BRM        British\n",
    "    8         9            9      0    0     brabham-ford     Brabham-Ford        British\n",
    "    9        10           10      0    0             alfa       Alfa Romeo        Italian\n",
    "    10       11           11      0    0   lds-alfa_romeo   LDS-Alfa Romeo  South African\n",
    "    11       12           12      0    0      cooper-ford      Cooper-Ford        British\n",
    "    12       13           13      0    0       lds-climax       LDS-Climax  South African\n",
    "    13       14           14      0    0       lotus-ford       Lotus-Ford        British\n",
    "    14       15           15      0    0               re               RE      Rhodesian\n",
    "    15       16           16      0    0  cooper-maserati  Cooper-Maserati        British\n",
    "    \"\"\"\n",
    "    if year and race:\n",
    "        assert year >= 1958, 'Constructor standings only available starting 1958'\n",
    "        url = 'http://ergast.com/api/f1/{}/{}/constructorStandings.json?limit=1000'.format(year, race)\n",
    "    elif year:\n",
    "        assert year >= 1958, 'Constructor standings only available starting 1958'\n",
    "        url = 'http://ergast.com/api/f1/{}/constructorStandings.json?limit=1000'.format(year, race)\n",
    "    else:\n",
    "        url = 'http://ergast.com/api/f1/current/constructorStandings.json?limit=1000'\n",
    "\n",
    "    r = requests.get(url)\n",
    "    assert r.status_code == 200, 'Cannot connect to Ergast API. Check your inputs.'\n",
    "    output = r.json()\n",
    "    try:\n",
    "        constructorStandings = output['MRData']['StandingsTable']['StandingsLists'][0]['ConstructorStandings']\n",
    "    except:\n",
    "        return pd.DataFrame()\n",
    "\n",
    "    for constructor in constructorStandings:\n",
    "        constructor['constructorID'] = constructor['Constructor']['constructorId']\n",
    "        constructor['name'] = constructor['Constructor']['name']\n",
    "        constructor['nationality'] = constructor['Constructor']['nationality']\n",
    "        del constructor['Constructor']\n",
    "\n",
    "    return pd.DataFrame(constructorStandings)\n",
    "\n",
    "\n",
    "\n",
    "def get_pit_stops(year=None, race=None):\n",
    "    \"\"\"\n",
    "    \"\"\"\n",
    "    if year and race:\n",
    "        url = 'http://ergast.com/api/f1/{}/{}/pitstops.json?limit=1000'.format(year, race)\n",
    "    r = requests.get(url)\n",
    "\n",
    "    assert r.status_code == 200, 'Cannot connect to Ergast API'\n",
    "    drivers = r.json()\n",
    "    try:\n",
    "        result = pd.DataFrame(drivers[\"MRData\"][\"RaceTable\"][\"Races\"][0][\"PitStops\"])\n",
    "    except:\n",
    "        return pd.DataFrame()\n",
    "\n",
    "    return result\n",
    "\n",
    "\n",
    "def get_round(year=None, race=None):\n",
    "    \"\"\"\n",
    "    \"\"\"\n",
    "    if year and race:\n",
    "        url = 'http://ergast.com/api/f1/{}/{}/pitstops.json?limit=1000'.format(year, race)\n",
    "    r = requests.get(url)\n",
    "\n",
    "    assert r.status_code == 200, 'Cannot connect to Ergast API'\n",
    "    drivers = r.json()\n",
    "    try:\n",
    "        result = pd.DataFrame(drivers[\"MRData\"][\"RaceTable\"][\"Races\"][0][\"PitStops\"])\n",
    "    except:\n",
    "        return pd.DataFrame()\n",
    "\n",
    "    return result\n",
    "\n",
    "def get_lap_times(year=None, race=None):\n",
    "    \"\"\"\n",
    "    \"\"\"\n",
    "    if year and race:\n",
    "        url = 'http://ergast.com/api/f1/{}/{}/laps.json?limit=1000'.format(year, race)\n",
    "    r = requests.get(url)\n",
    "\n",
    "    assert r.status_code == 200, 'Cannot connect to Ergast API'\n",
    "    drivers = r.json()\n",
    "    try:\n",
    "        result = pd.DataFrame(drivers[\"MRData\"][\"RaceTable\"][\"Races\"][0][\"Laps\"])\n",
    "    except:\n",
    "        return pd.DataFrame()\n",
    "    lap_df = pd.DataFrame()\n",
    "    for lap in result.number.unique():\n",
    "        temp_df = pd.DataFrame(result[result['number'] == lap].Timings.iloc[0])\n",
    "        temp_df['lap'] = lap\n",
    "        lap_df = pd.concat([lap_df, temp_df], ignore_index=True, axis=0)\n",
    "\n",
    "    return lap_df\n",
    "\n",
    "def get_last_round():\n",
    "    \"\"\"\n",
    "    \"\"\"\n",
    "    url = 'http://ergast.com/api/f1/current/last/results.json?limit=1000'\n",
    "    r = requests.get(url)\n",
    "\n",
    "    assert r.status_code == 200, 'Cannot connect to Ergast API'\n",
    "    drivers = r.json()\n",
    "    try:\n",
    "        result = drivers[\"MRData\"][\"RaceTable\"][\"round\"]\n",
    "    except:\n",
    "        return pd.DataFrame()\n",
    "   \n",
    "\n",
    "    return int(result)\n",
    "\n",
    "\n",
    "def get_sprint_results(year=None, race=None):\n",
    "    \"\"\"\n",
    "    Get results of sprint, return empty dataframe if no sprint results available\n",
    "    \"\"\"\n",
    "    if year and race:\n",
    "        url = f'http://ergast.com/api/f1/{year}/{race}/sprint.json?limit=1000'\n",
    "    r = requests.get(url)\n",
    "\n",
    "    assert r.status_code == 200, 'Cannot connect to Ergast API'\n",
    "    drivers = r.json()\n",
    "    try:\n",
    "        result = pd.DataFrame(drivers[\"MRData\"][\"RaceTable\"][\"Races\"][0][\"SprintResults\"])\n",
    "        result['driverID'] = result['Driver'].apply(lambda x: x['driverId'])\n",
    "        result['Driver'] = result['Driver'].apply(lambda x: x['code'])\n",
    "        result['constructorId'] = result['Constructor'].apply(lambda x: x['constructorId'])\n",
    "    except:\n",
    "        return pd.DataFrame()\n",
    "\n",
    "    return result"
   ]
  },
  {
   "cell_type": "code",
   "execution_count": 5,
   "id": "56d93bee",
   "metadata": {
    "_kg_hide-input": true,
    "_kg_hide-output": true,
    "execution": {
     "iopub.execute_input": "2023-11-27T17:05:33.219586Z",
     "iopub.status.busy": "2023-11-27T17:05:33.219131Z",
     "iopub.status.idle": "2023-11-27T17:05:47.948759Z",
     "shell.execute_reply": "2023-11-27T17:05:47.947485Z"
    },
    "papermill": {
     "duration": 14.751268,
     "end_time": "2023-11-27T17:05:47.952041",
     "exception": false,
     "start_time": "2023-11-27T17:05:33.200773",
     "status": "completed"
    },
    "tags": []
   },
   "outputs": [],
   "source": [
    "#DATA CLEANING\n",
    "##INITIAL PARAMETERS\n",
    "my_date = date.today()\n",
    "year, week_num, day_of_week = my_date.isocalendar()\n",
    "race = get_last_round()\n",
    "\n",
    "#RACE RESULTS\n",
    "race_result = pyergast.get_race_result()\n",
    "race_result['points'] = race_result.points.astype(float)\n",
    "circuits = pyergast.get_circuits()\n",
    "\n",
    "#CONSTRUCTORS\n",
    "constructor_overall = constructor_standings(year=year)\n",
    "const_ov_emp = constructor_overall.empty\n",
    "if not const_ov_emp:\n",
    "    constructor_overall['points'] = constructor_overall.points.astype(float)\n",
    "constructor_results = constructor_standings(year=year, race=race)\n",
    "const_re_emp = constructor_results.empty\n",
    "if not const_re_emp:\n",
    "    constructor_results['points'] = constructor_results.points.astype(float)\n",
    "constructors = pyergast.get_constructors()\n",
    "\n",
    "#DRIVERS\n",
    "drivers = pyergast.get_drivers(year=year)\n",
    "drivers_2 = pd.read_csv('/kaggle/input/formula-1-world-championship-1950-2020/drivers.csv')\n",
    "drivers_2 ['Driver'] = drivers_2['code']\n",
    "drivers_2['driverID'] = drivers_2['driverRef']\n",
    "drivers['driverID'] = drivers['driverId']\n",
    "drivers_full = drivers.merge(drivers_2, on='driverID', how='left', suffixes=('_1', '_2'))\n",
    "driver_standings = pyergast.driver_standings()\n",
    "\n",
    "#LAPS\n",
    "lap_times = get_lap_times(year, race)\n",
    "lap_tim_emp = lap_times.empty\n",
    "if not lap_tim_emp:\n",
    "    lap_times['driverID'] = lap_times['driverId']\n",
    "    lap_times['lap'] = lap_times['lap'].astype(int)\n",
    "    \n",
    "#PIT STOPS\n",
    "pit_stops = get_pit_stops(year, race)\n",
    "pit_stop_emp = pit_stops.empty\n",
    "if not pit_stop_emp:\n",
    "    pit_stops['driverID'] = pit_stops['driverId']\n",
    "    \n",
    "#QUALIFYING\n",
    "qualifying = pyergast.get_qualifying_result()\n",
    "\n",
    "#SPRINT RESULTS\n",
    "sprint_results = get_sprint_results(year=year, race=race)\n",
    "SPRINT_EMPTY = sprint_results.empty\n",
    "\n",
    "#SCHEDULE\n",
    "schedule = pyergast.get_schedule()\n",
    "schedule['round'] = schedule['round'].astype(float)"
   ]
  },
  {
   "cell_type": "code",
   "execution_count": 6,
   "id": "080111ef",
   "metadata": {
    "_kg_hide-input": true,
    "execution": {
     "iopub.execute_input": "2023-11-27T17:05:47.988925Z",
     "iopub.status.busy": "2023-11-27T17:05:47.988500Z",
     "iopub.status.idle": "2023-11-27T17:05:48.057211Z",
     "shell.execute_reply": "2023-11-27T17:05:48.055864Z"
    },
    "papermill": {
     "duration": 0.090551,
     "end_time": "2023-11-27T17:05:48.060096",
     "exception": false,
     "start_time": "2023-11-27T17:05:47.969545",
     "status": "completed"
    },
    "tags": []
   },
   "outputs": [],
   "source": [
    "#Helpers\n",
    "def get_sec(time_str):\n",
    "    \"\"\"Get seconds from time.\"\"\"\n",
    "    if (time_str != '\\\\N' or not time_str):\n",
    "        m, s = str(time_str).split(':')\n",
    "        return float(m) * 60 + float(s)\n",
    "    \n",
    "def get_sec3(time_str):\n",
    "    \"\"\"Get seconds from time.\"\"\"\n",
    "    if (time_str != '\\\\N' or not time_str):\n",
    "        h, m, s = str(time_str).split(':')\n",
    "        return float(h)*3600 + float(m) * 60 + float(s)\n",
    "    \n",
    "def time_to_seconds(time_str):\n",
    "    if (time_str != '\\\\N' or not time_str):\n",
    "        time_str = str(time_str)\n",
    "        if time_str == '':\n",
    "            return None\n",
    "        parts = time_str.split(':')\n",
    "        if len(parts) == 1:\n",
    "            # s.mill format\n",
    "            return float(parts[0])\n",
    "        elif len(parts) == 2:\n",
    "            # minute:seconds.milliseconds format\n",
    "            minutes = int(parts[0])\n",
    "            seconds = float(parts[1])\n",
    "            return minutes * 60 + seconds\n",
    "        elif len(parts) == 3:\n",
    "            # hour:minute:seconds.milliseconds format\n",
    "            hours = int(parts[0])\n",
    "            minutes = int(parts[1])\n",
    "            seconds = float(parts[2])\n",
    "            return hours * 3600 + minutes * 60 + seconds\n",
    "        else:\n",
    "            raise ValueError(\"Invalid time format\")\n",
    "\n",
    "def convert_time_end(row):\n",
    "    return row['time_date'] + datetime.timedelta(0, row['duration'])\n",
    "\n",
    "#Colors\n",
    "constructor_color_map = {\n",
    "        'Williams': '#00A0DE',\n",
    "        'Alfa Romeo': '#A42134',\n",
    "        'AlphaTauri': '#20394C',\n",
    "        'Red Bull': '#000B8D',\n",
    "        'Mercedes': '#00A19B',\n",
    "        'Haas F1 Team': '#E6002B',\n",
    "          'Aston Martin': '#002420', \n",
    "          'Ferrari': '#EF1A2D',\n",
    "          'Alpine F1 Team': '#2173B8',\n",
    "        'McLaren': '#FF8000' \n",
    "}\n",
    "\n",
    "def build_driver_col_map(row):\n",
    "    const = row['constructor']\n",
    "    \n",
    "    color = constructor_color_map[const]\n",
    "    row['driverColor'] = color\n",
    "    row['Driver'] = drivers_full.loc[drivers_full['driverID'] == row['driverID']]['Driver'].values[0]\n",
    "    return row\n",
    "\n",
    "race_result = race_result.apply(build_driver_col_map, axis=1)\n",
    "\n",
    "unique_df = race_result.drop_duplicates(subset='Driver', keep='last')\n",
    "color_map = dict(zip(unique_df['Driver'], unique_df['driverColor']))\n",
    "\n",
    "race_result.drop(columns=['Driver'], inplace=True)"
   ]
  },
  {
   "cell_type": "code",
   "execution_count": 7,
   "id": "32de8b11",
   "metadata": {
    "_kg_hide-input": true,
    "execution": {
     "iopub.execute_input": "2023-11-27T17:05:48.096644Z",
     "iopub.status.busy": "2023-11-27T17:05:48.096215Z",
     "iopub.status.idle": "2023-11-27T17:05:52.444374Z",
     "shell.execute_reply": "2023-11-27T17:05:52.442659Z"
    },
    "papermill": {
     "duration": 4.370824,
     "end_time": "2023-11-27T17:05:52.448022",
     "exception": false,
     "start_time": "2023-11-27T17:05:48.077198",
     "status": "completed"
    },
    "tags": []
   },
   "outputs": [],
   "source": [
    "# DATA CLEANING\n",
    "if not lap_tim_emp:\n",
    "    lap_times['duration'] = lap_times['time'].apply(get_sec)\n",
    "    lap_times['red_flag'] = 0\n",
    "    lap_times.loc[lap_times['duration'] > 300.0, 'red_flag'] = 1\n",
    "\n",
    "\n",
    "current_circuit = schedule[schedule['round'] == race].circuitID.values[0]\n",
    "current_race_name = schedule[schedule['round'] == race].circuitName.values[0]\n",
    "current_race_date = schedule[schedule['round'] == race].date.values[0]\n",
    "\n",
    "\n",
    "#DRIVER/LAP\n",
    "if not lap_tim_emp:\n",
    "    lap_driver = lap_times.merge(drivers_full, on='driverID', how='left', suffixes=('_1', '_2'))\n",
    "    lap_driver['lap'] = lap_driver.lap.astype(float)\n",
    "    lap_driver = lap_driver[lap_driver['red_flag'] == 0].copy()\n",
    "    lap_driver_no = lap_driver[(stats.zscore(lap_driver['duration'])) <1]\n",
    "    lap_driver['position'] = lap_driver['position'].astype(int)\n",
    "\n",
    "\n",
    "#RESULTS\n",
    "num_laps = max(race_result['laps'].astype(int))\n",
    "merged = race_result.merge(drivers_full, on='driverID', how='left', suffixes=('_1', '_2'))\n",
    "res_race_laps = merged.copy()\n",
    "res_race_laps['laps'] = 0\n",
    "reduced = res_race_laps[['laps', 'grid', 'Driver']]\n",
    "reduced.columns = ['laps', 'position', 'Driver']\n",
    "reduced_res = pd.concat([reduced, merged[['laps', 'position', 'Driver']]], axis=0)\n",
    "reduced_res['laps'] = reduced_res['laps'].astype(int)\n",
    "reduced_res['last_lap'] = 0\n",
    "reduced_res['Driver'] = reduced_res['Driver'].astype(str)\n",
    "##Add flag for non-finishers\n",
    "for driver in color_map.keys():\n",
    "    temp = reduced_res[reduced_res['Driver'] == driver]\n",
    "    max_driver_laps = max(temp['laps'])\n",
    "    if max_driver_laps < num_laps:\n",
    "        #This driver didn't finish\n",
    "        reduced_res.loc[(reduced_res['Driver'] == driver) & (reduced_res['laps'] == max_driver_laps), 'last_lap'] = 1\n",
    "\n",
    "#CONSTRUCTORS\n",
    "constructor_results = pd.DataFrame()\n",
    "for i in range(1, race+1):\n",
    "    if i == 1:\n",
    "        constructor_results = constructor_standings(year=year, race=i)\n",
    "        constructor_results['race'] = i\n",
    "    else:\n",
    "        temp = constructor_standings(year=year, race=i)\n",
    "        temp['race'] = i\n",
    "        constructor_results = pd.concat([constructor_results, temp], axis=0)\n",
    "constructor_results['points'] = constructor_results['points'].astype(float)\n",
    "\n",
    "\n",
    "\n",
    "track = circuits[circuits['circuitId'] == current_circuit]\n",
    "track_lat = track['Latitude'].values[0]\n",
    "track_lng = track['Longtitude'].values[0]\n",
    "\n",
    "\n",
    "#PODIIUM\n",
    "res_race_lap_status_pod = race_result[race_result['position'] != '\\\\N'].copy()\n",
    "res_race_lap_status_pod = res_race_lap_status_pod.merge(drivers_full, on='driverID', how='left', suffixes=('_1', '_2'))\n",
    "res_race_lap_status_pod['position'] = res_race_lap_status_pod['position'].astype(int)\n",
    "res_race_lap_status_pod = res_race_lap_status_pod.sort_values(by='position')\n",
    "\n",
    "\n",
    "#PIT STOPS\n",
    "if not pit_stop_emp:\n",
    "    pit_stops['duration'] = pit_stops['duration'].apply(lambda x: time_to_seconds(x))\n",
    "    pit_stops['duration'] = pit_stops['duration'].astype(float)\n",
    "    pit_stops['red_flag'] = (pit_stops['duration'] > 600.0).astype(int)\n",
    "##PIT STOP DURATIONS\n",
    "    pit_stops['time_stamp'] = current_race_date + ' ' + pit_stops['time']\n",
    "    pit_stops['time_date'] = pd.to_datetime(pit_stops['time_stamp'])\n",
    "    pit_stops['time_end_date'] = pit_stops.apply(lambda x: convert_time_end(x), axis=1)\n",
    "#MERGE WITH DRIVERS\n",
    "    driver_group = pd.DataFrame()\n",
    "    pit_stops = pit_stops.merge(drivers_full, on='driverID', how='left', suffixes=('_1', '_2'))\n",
    "    mean = pit_stops[pit_stops['red_flag'] == 0].groupby(['Driver'])['duration'].mean()\n",
    "    mini = pit_stops[pit_stops['red_flag'] == 0].groupby(['Driver'])['duration'].min()\n",
    "    maxi = pit_stops[pit_stops['red_flag'] == 0].groupby(['Driver'])['duration'].max()\n",
    "    driver_group['mean'] = mean\n",
    "    driver_group['max'] = maxi\n",
    "    driver_group['min'] = mini\n",
    "    driver_group = driver_group.sort_values(by=\"max\")\n",
    "    driver_group['Driver'] = maxi.index\n",
    "\n",
    "# QUALIFYING & FINISHING\n",
    "qualifying = qualifying.fillna('\\\\N')\n",
    "qualifying['q1_dur'] = qualifying['Q1'].apply(time_to_seconds)\n",
    "qualifying['q2_dur'] = qualifying['Q2'].apply(time_to_seconds)\n",
    "qualifying['q3_dur'] = qualifying['Q3'].apply(time_to_seconds)\n",
    "qualifying['max_time'] = qualifying.apply(lambda x: max(x['q1_dur'], x['q2_dur'], x['q3_dur']), axis=1)\n",
    "qualifying['min_time'] = qualifying.apply(lambda x: min(x['q1_dur'], x['q2_dur'], x['q3_dur']), axis=1)\n",
    "max_time = max(qualifying['max_time']) + 1\n",
    "min_time = min(qualifying['min_time']) - 1\n",
    "if max_time > (min_time+15):\n",
    "    max_time = min_time+15\n",
    "qualifying = qualifying.merge(drivers_full, on='driverID', how='left', suffixes=('_1', '_2'))\n",
    "\n",
    "#SPRINT\n",
    "if not SPRINT_EMPTY:\n",
    "    sprint_results['points'] = sprint_results['points'].astype(float)\n",
    "    sprint_results['position'] = sprint_results['position'].astype(int)\n",
    "    sprint_results['grid'] = sprint_results['grid'].astype(int)\n",
    "\n",
    "\n",
    "    num_sprint_laps = max(sprint_results['laps'].astype(int))\n",
    "    #merged = race_result.merge(drivers_full, on='driverID', how='left', suffixes=('_1', '_2'))\n",
    "    sp_res_race_laps = sprint_results.copy()\n",
    "    sp_res_race_laps['laps'] = 0\n",
    "    sp_reduced = sp_res_race_laps[['laps', 'grid', 'Driver']]\n",
    "    sp_reduced.columns = ['laps', 'position', 'Driver']\n",
    "    sp_reduced_res = pd.concat([sp_reduced, sprint_results[['laps', 'position', 'Driver']]], axis=0)\n",
    "    sp_reduced_res['laps'] = sp_reduced_res['laps'].astype(int)\n",
    "    sp_reduced_res['last_lap'] = 0\n",
    "    sp_reduced_res['Driver'] = sp_reduced_res['Driver'].astype(str)\n",
    "    for driver in color_map.keys():\n",
    "        temp = sp_reduced_res[sp_reduced_res['Driver'] == driver]\n",
    "        max_driver_laps = max(temp['laps'])\n",
    "        if max_driver_laps < num_sprint_laps:\n",
    "            #This driver didn't finish\n",
    "            sp_reduced_res.loc[(sp_reduced_res['Driver'] == driver) & (sp_reduced_res['laps'] == max_driver_laps), 'last_lap'] = 1\n"
   ]
  },
  {
   "cell_type": "code",
   "execution_count": 8,
   "id": "501cb137",
   "metadata": {
    "_kg_hide-input": true,
    "execution": {
     "iopub.execute_input": "2023-11-27T17:05:52.484253Z",
     "iopub.status.busy": "2023-11-27T17:05:52.483350Z",
     "iopub.status.idle": "2023-11-27T17:05:52.492042Z",
     "shell.execute_reply": "2023-11-27T17:05:52.490831Z"
    },
    "papermill": {
     "duration": 0.030119,
     "end_time": "2023-11-27T17:05:52.494965",
     "exception": false,
     "start_time": "2023-11-27T17:05:52.464846",
     "status": "completed"
    },
    "tags": []
   },
   "outputs": [
    {
     "data": {
      "text/markdown": [
       "# <div style='background:#FF1801; border:0; color:black; box-shadow: 10px 10px 5px 0px rgba(0,0,0,0.75); transform: rotateX(10deg);'><h1 style='padding: 10px; margin: 0; text-align:center;'><span style='font-size: 38px;'>Yas Marina Circuit, 2023 Data Summary</span></h1></div>"
      ],
      "text/plain": [
       "<IPython.core.display.Markdown object>"
      ]
     },
     "metadata": {},
     "output_type": "display_data"
    }
   ],
   "source": [
    "display(md(f\"# <div style='background:#FF1801; border:0; color:black; box-shadow: 10px 10px 5px 0px rgba(0,0,0,0.75); transform: rotateX(10deg);'><h1 style='padding: 10px; margin: 0; text-align:center;'><span style='font-size: 38px;'>{current_race_name}, {year} Data Summary</span></h1></div>\"))"
   ]
  },
  {
   "cell_type": "code",
   "execution_count": 9,
   "id": "da1acf9b",
   "metadata": {
    "_kg_hide-input": true,
    "_kg_hide-output": true,
    "execution": {
     "iopub.execute_input": "2023-11-27T17:05:52.531648Z",
     "iopub.status.busy": "2023-11-27T17:05:52.531199Z",
     "iopub.status.idle": "2023-11-27T17:06:07.134154Z",
     "shell.execute_reply": "2023-11-27T17:06:07.132496Z"
    },
    "papermill": {
     "duration": 14.62543,
     "end_time": "2023-11-27T17:06:07.137441",
     "exception": false,
     "start_time": "2023-11-27T17:05:52.512011",
     "status": "completed"
    },
    "tags": []
   },
   "outputs": [
    {
     "name": "stdout",
     "output_type": "stream",
     "text": [
      "Collecting gmplot\r\n",
      "  Downloading gmplot-1.4.1-py3-none-any.whl (164 kB)\r\n",
      "\u001b[2K     \u001b[90m━━━━━━━━━━━━━━━━━━━━━━━━━━━━━━━━━━━━━━━\u001b[0m \u001b[32m164.7/164.7 kB\u001b[0m \u001b[31m3.2 MB/s\u001b[0m eta \u001b[36m0:00:00\u001b[0m\r\n",
      "\u001b[?25hRequirement already satisfied: requests in /opt/conda/lib/python3.7/site-packages (from gmplot) (2.28.2)\r\n",
      "Requirement already satisfied: urllib3<1.27,>=1.21.1 in /opt/conda/lib/python3.7/site-packages (from requests->gmplot) (1.26.14)\r\n",
      "Requirement already satisfied: idna<4,>=2.5 in /opt/conda/lib/python3.7/site-packages (from requests->gmplot) (3.4)\r\n",
      "Requirement already satisfied: charset-normalizer<4,>=2 in /opt/conda/lib/python3.7/site-packages (from requests->gmplot) (2.1.1)\r\n",
      "Requirement already satisfied: certifi>=2017.4.17 in /opt/conda/lib/python3.7/site-packages (from requests->gmplot) (2022.12.7)\r\n",
      "Installing collected packages: gmplot\r\n",
      "Successfully installed gmplot-1.4.1\r\n",
      "\u001b[33mWARNING: Running pip as the 'root' user can result in broken permissions and conflicting behaviour with the system package manager. It is recommended to use a virtual environment instead: https://pip.pypa.io/warnings/venv\u001b[0m\u001b[33m\r\n",
      "\u001b[0m"
     ]
    }
   ],
   "source": [
    "!pip install gmplot"
   ]
  },
  {
   "cell_type": "code",
   "execution_count": 10,
   "id": "a65d4f4b",
   "metadata": {
    "_kg_hide-input": true,
    "execution": {
     "iopub.execute_input": "2023-11-27T17:06:07.176025Z",
     "iopub.status.busy": "2023-11-27T17:06:07.175521Z",
     "iopub.status.idle": "2023-11-27T17:06:08.997272Z",
     "shell.execute_reply": "2023-11-27T17:06:08.995992Z"
    },
    "papermill": {
     "duration": 1.844311,
     "end_time": "2023-11-27T17:06:09.000133",
     "exception": false,
     "start_time": "2023-11-27T17:06:07.155822",
     "status": "completed"
    },
    "tags": []
   },
   "outputs": [
    {
     "data": {
      "text/html": [
       "        <script type=\"text/javascript\">\n",
       "        window.PlotlyConfig = {MathJaxConfig: 'local'};\n",
       "        if (window.MathJax && window.MathJax.Hub && window.MathJax.Hub.Config) {window.MathJax.Hub.Config({SVG: {font: \"STIX-Web\"}});}\n",
       "        if (typeof require !== 'undefined') {\n",
       "        require.undef(\"plotly\");\n",
       "        requirejs.config({\n",
       "            paths: {\n",
       "                'plotly': ['https://cdn.plot.ly/plotly-2.18.0.min']\n",
       "            }\n",
       "        });\n",
       "        require(['plotly'], function(Plotly) {\n",
       "            window._Plotly = Plotly;\n",
       "        });\n",
       "        }\n",
       "        </script>\n",
       "        "
      ]
     },
     "metadata": {},
     "output_type": "display_data"
    },
    {
     "data": {
      "text/html": [
       "<div>                            <div id=\"4131bb7c-194f-41f2-be50-d4720272e4f7\" class=\"plotly-graph-div\" style=\"height:300px; width:100%;\"></div>            <script type=\"text/javascript\">                require([\"plotly\"], function(Plotly) {                    window.PLOTLYENV=window.PLOTLYENV || {};                                    if (document.getElementById(\"4131bb7c-194f-41f2-be50-d4720272e4f7\")) {                    Plotly.newPlot(                        \"4131bb7c-194f-41f2-be50-d4720272e4f7\",                        [{\"hovertemplate\":\"Latitude=%{lat}<br>Longtitude=%{lon}<extra></extra>\",\"lat\":[\"24.4672\"],\"legendgroup\":\"\",\"lon\":[\"54.6031\"],\"marker\":{\"color\":\"fuchsia\"},\"mode\":\"markers\",\"name\":\"\",\"showlegend\":false,\"subplot\":\"mapbox\",\"type\":\"scattermapbox\"}],                        {\"template\":{\"data\":{\"histogram2dcontour\":[{\"type\":\"histogram2dcontour\",\"colorbar\":{\"outlinewidth\":0,\"ticks\":\"\"},\"colorscale\":[[0.0,\"#0d0887\"],[0.1111111111111111,\"#46039f\"],[0.2222222222222222,\"#7201a8\"],[0.3333333333333333,\"#9c179e\"],[0.4444444444444444,\"#bd3786\"],[0.5555555555555556,\"#d8576b\"],[0.6666666666666666,\"#ed7953\"],[0.7777777777777778,\"#fb9f3a\"],[0.8888888888888888,\"#fdca26\"],[1.0,\"#f0f921\"]]}],\"choropleth\":[{\"type\":\"choropleth\",\"colorbar\":{\"outlinewidth\":0,\"ticks\":\"\"}}],\"histogram2d\":[{\"type\":\"histogram2d\",\"colorbar\":{\"outlinewidth\":0,\"ticks\":\"\"},\"colorscale\":[[0.0,\"#0d0887\"],[0.1111111111111111,\"#46039f\"],[0.2222222222222222,\"#7201a8\"],[0.3333333333333333,\"#9c179e\"],[0.4444444444444444,\"#bd3786\"],[0.5555555555555556,\"#d8576b\"],[0.6666666666666666,\"#ed7953\"],[0.7777777777777778,\"#fb9f3a\"],[0.8888888888888888,\"#fdca26\"],[1.0,\"#f0f921\"]]}],\"heatmap\":[{\"type\":\"heatmap\",\"colorbar\":{\"outlinewidth\":0,\"ticks\":\"\"},\"colorscale\":[[0.0,\"#0d0887\"],[0.1111111111111111,\"#46039f\"],[0.2222222222222222,\"#7201a8\"],[0.3333333333333333,\"#9c179e\"],[0.4444444444444444,\"#bd3786\"],[0.5555555555555556,\"#d8576b\"],[0.6666666666666666,\"#ed7953\"],[0.7777777777777778,\"#fb9f3a\"],[0.8888888888888888,\"#fdca26\"],[1.0,\"#f0f921\"]]}],\"heatmapgl\":[{\"type\":\"heatmapgl\",\"colorbar\":{\"outlinewidth\":0,\"ticks\":\"\"},\"colorscale\":[[0.0,\"#0d0887\"],[0.1111111111111111,\"#46039f\"],[0.2222222222222222,\"#7201a8\"],[0.3333333333333333,\"#9c179e\"],[0.4444444444444444,\"#bd3786\"],[0.5555555555555556,\"#d8576b\"],[0.6666666666666666,\"#ed7953\"],[0.7777777777777778,\"#fb9f3a\"],[0.8888888888888888,\"#fdca26\"],[1.0,\"#f0f921\"]]}],\"contourcarpet\":[{\"type\":\"contourcarpet\",\"colorbar\":{\"outlinewidth\":0,\"ticks\":\"\"}}],\"contour\":[{\"type\":\"contour\",\"colorbar\":{\"outlinewidth\":0,\"ticks\":\"\"},\"colorscale\":[[0.0,\"#0d0887\"],[0.1111111111111111,\"#46039f\"],[0.2222222222222222,\"#7201a8\"],[0.3333333333333333,\"#9c179e\"],[0.4444444444444444,\"#bd3786\"],[0.5555555555555556,\"#d8576b\"],[0.6666666666666666,\"#ed7953\"],[0.7777777777777778,\"#fb9f3a\"],[0.8888888888888888,\"#fdca26\"],[1.0,\"#f0f921\"]]}],\"surface\":[{\"type\":\"surface\",\"colorbar\":{\"outlinewidth\":0,\"ticks\":\"\"},\"colorscale\":[[0.0,\"#0d0887\"],[0.1111111111111111,\"#46039f\"],[0.2222222222222222,\"#7201a8\"],[0.3333333333333333,\"#9c179e\"],[0.4444444444444444,\"#bd3786\"],[0.5555555555555556,\"#d8576b\"],[0.6666666666666666,\"#ed7953\"],[0.7777777777777778,\"#fb9f3a\"],[0.8888888888888888,\"#fdca26\"],[1.0,\"#f0f921\"]]}],\"mesh3d\":[{\"type\":\"mesh3d\",\"colorbar\":{\"outlinewidth\":0,\"ticks\":\"\"}}],\"scatter\":[{\"fillpattern\":{\"fillmode\":\"overlay\",\"size\":10,\"solidity\":0.2},\"type\":\"scatter\"}],\"parcoords\":[{\"type\":\"parcoords\",\"line\":{\"colorbar\":{\"outlinewidth\":0,\"ticks\":\"\"}}}],\"scatterpolargl\":[{\"type\":\"scatterpolargl\",\"marker\":{\"colorbar\":{\"outlinewidth\":0,\"ticks\":\"\"}}}],\"bar\":[{\"error_x\":{\"color\":\"#2a3f5f\"},\"error_y\":{\"color\":\"#2a3f5f\"},\"marker\":{\"line\":{\"color\":\"#E5ECF6\",\"width\":0.5},\"pattern\":{\"fillmode\":\"overlay\",\"size\":10,\"solidity\":0.2}},\"type\":\"bar\"}],\"scattergeo\":[{\"type\":\"scattergeo\",\"marker\":{\"colorbar\":{\"outlinewidth\":0,\"ticks\":\"\"}}}],\"scatterpolar\":[{\"type\":\"scatterpolar\",\"marker\":{\"colorbar\":{\"outlinewidth\":0,\"ticks\":\"\"}}}],\"histogram\":[{\"marker\":{\"pattern\":{\"fillmode\":\"overlay\",\"size\":10,\"solidity\":0.2}},\"type\":\"histogram\"}],\"scattergl\":[{\"type\":\"scattergl\",\"marker\":{\"colorbar\":{\"outlinewidth\":0,\"ticks\":\"\"}}}],\"scatter3d\":[{\"type\":\"scatter3d\",\"line\":{\"colorbar\":{\"outlinewidth\":0,\"ticks\":\"\"}},\"marker\":{\"colorbar\":{\"outlinewidth\":0,\"ticks\":\"\"}}}],\"scattermapbox\":[{\"type\":\"scattermapbox\",\"marker\":{\"colorbar\":{\"outlinewidth\":0,\"ticks\":\"\"}}}],\"scatterternary\":[{\"type\":\"scatterternary\",\"marker\":{\"colorbar\":{\"outlinewidth\":0,\"ticks\":\"\"}}}],\"scattercarpet\":[{\"type\":\"scattercarpet\",\"marker\":{\"colorbar\":{\"outlinewidth\":0,\"ticks\":\"\"}}}],\"carpet\":[{\"aaxis\":{\"endlinecolor\":\"#2a3f5f\",\"gridcolor\":\"white\",\"linecolor\":\"white\",\"minorgridcolor\":\"white\",\"startlinecolor\":\"#2a3f5f\"},\"baxis\":{\"endlinecolor\":\"#2a3f5f\",\"gridcolor\":\"white\",\"linecolor\":\"white\",\"minorgridcolor\":\"white\",\"startlinecolor\":\"#2a3f5f\"},\"type\":\"carpet\"}],\"table\":[{\"cells\":{\"fill\":{\"color\":\"#EBF0F8\"},\"line\":{\"color\":\"white\"}},\"header\":{\"fill\":{\"color\":\"#C8D4E3\"},\"line\":{\"color\":\"white\"}},\"type\":\"table\"}],\"barpolar\":[{\"marker\":{\"line\":{\"color\":\"#E5ECF6\",\"width\":0.5},\"pattern\":{\"fillmode\":\"overlay\",\"size\":10,\"solidity\":0.2}},\"type\":\"barpolar\"}],\"pie\":[{\"automargin\":true,\"type\":\"pie\"}]},\"layout\":{\"autotypenumbers\":\"strict\",\"colorway\":[\"#636efa\",\"#EF553B\",\"#00cc96\",\"#ab63fa\",\"#FFA15A\",\"#19d3f3\",\"#FF6692\",\"#B6E880\",\"#FF97FF\",\"#FECB52\"],\"font\":{\"color\":\"#2a3f5f\"},\"hovermode\":\"closest\",\"hoverlabel\":{\"align\":\"left\"},\"paper_bgcolor\":\"white\",\"plot_bgcolor\":\"#E5ECF6\",\"polar\":{\"bgcolor\":\"#E5ECF6\",\"angularaxis\":{\"gridcolor\":\"white\",\"linecolor\":\"white\",\"ticks\":\"\"},\"radialaxis\":{\"gridcolor\":\"white\",\"linecolor\":\"white\",\"ticks\":\"\"}},\"ternary\":{\"bgcolor\":\"#E5ECF6\",\"aaxis\":{\"gridcolor\":\"white\",\"linecolor\":\"white\",\"ticks\":\"\"},\"baxis\":{\"gridcolor\":\"white\",\"linecolor\":\"white\",\"ticks\":\"\"},\"caxis\":{\"gridcolor\":\"white\",\"linecolor\":\"white\",\"ticks\":\"\"}},\"coloraxis\":{\"colorbar\":{\"outlinewidth\":0,\"ticks\":\"\"}},\"colorscale\":{\"sequential\":[[0.0,\"#0d0887\"],[0.1111111111111111,\"#46039f\"],[0.2222222222222222,\"#7201a8\"],[0.3333333333333333,\"#9c179e\"],[0.4444444444444444,\"#bd3786\"],[0.5555555555555556,\"#d8576b\"],[0.6666666666666666,\"#ed7953\"],[0.7777777777777778,\"#fb9f3a\"],[0.8888888888888888,\"#fdca26\"],[1.0,\"#f0f921\"]],\"sequentialminus\":[[0.0,\"#0d0887\"],[0.1111111111111111,\"#46039f\"],[0.2222222222222222,\"#7201a8\"],[0.3333333333333333,\"#9c179e\"],[0.4444444444444444,\"#bd3786\"],[0.5555555555555556,\"#d8576b\"],[0.6666666666666666,\"#ed7953\"],[0.7777777777777778,\"#fb9f3a\"],[0.8888888888888888,\"#fdca26\"],[1.0,\"#f0f921\"]],\"diverging\":[[0,\"#8e0152\"],[0.1,\"#c51b7d\"],[0.2,\"#de77ae\"],[0.3,\"#f1b6da\"],[0.4,\"#fde0ef\"],[0.5,\"#f7f7f7\"],[0.6,\"#e6f5d0\"],[0.7,\"#b8e186\"],[0.8,\"#7fbc41\"],[0.9,\"#4d9221\"],[1,\"#276419\"]]},\"xaxis\":{\"gridcolor\":\"white\",\"linecolor\":\"white\",\"ticks\":\"\",\"title\":{\"standoff\":15},\"zerolinecolor\":\"white\",\"automargin\":true,\"zerolinewidth\":2},\"yaxis\":{\"gridcolor\":\"white\",\"linecolor\":\"white\",\"ticks\":\"\",\"title\":{\"standoff\":15},\"zerolinecolor\":\"white\",\"automargin\":true,\"zerolinewidth\":2},\"scene\":{\"xaxis\":{\"backgroundcolor\":\"#E5ECF6\",\"gridcolor\":\"white\",\"linecolor\":\"white\",\"showbackground\":true,\"ticks\":\"\",\"zerolinecolor\":\"white\",\"gridwidth\":2},\"yaxis\":{\"backgroundcolor\":\"#E5ECF6\",\"gridcolor\":\"white\",\"linecolor\":\"white\",\"showbackground\":true,\"ticks\":\"\",\"zerolinecolor\":\"white\",\"gridwidth\":2},\"zaxis\":{\"backgroundcolor\":\"#E5ECF6\",\"gridcolor\":\"white\",\"linecolor\":\"white\",\"showbackground\":true,\"ticks\":\"\",\"zerolinecolor\":\"white\",\"gridwidth\":2}},\"shapedefaults\":{\"line\":{\"color\":\"#2a3f5f\"}},\"annotationdefaults\":{\"arrowcolor\":\"#2a3f5f\",\"arrowhead\":0,\"arrowwidth\":1},\"geo\":{\"bgcolor\":\"white\",\"landcolor\":\"#E5ECF6\",\"subunitcolor\":\"white\",\"showland\":true,\"showlakes\":true,\"lakecolor\":\"white\"},\"title\":{\"x\":0.05},\"mapbox\":{\"style\":\"light\"}}},\"mapbox\":{\"domain\":{\"x\":[0.0,1.0],\"y\":[0.0,1.0]},\"center\":{\"lat\":24.4672,\"lon\":54.6031},\"zoom\":12,\"style\":\"open-street-map\"},\"legend\":{\"tracegroupgap\":0},\"margin\":{\"t\":0,\"r\":0,\"l\":0,\"b\":0},\"height\":300},                        {\"responsive\": true}                    ).then(function(){\n",
       "                            \n",
       "var gd = document.getElementById('4131bb7c-194f-41f2-be50-d4720272e4f7');\n",
       "var x = new MutationObserver(function (mutations, observer) {{\n",
       "        var display = window.getComputedStyle(gd).display;\n",
       "        if (!display || display === 'none') {{\n",
       "            console.log([gd, 'removed!']);\n",
       "            Plotly.purge(gd);\n",
       "            observer.disconnect();\n",
       "        }}\n",
       "}});\n",
       "\n",
       "// Listen for the removal of the full notebook cells\n",
       "var notebookContainer = gd.closest('#notebook-container');\n",
       "if (notebookContainer) {{\n",
       "    x.observe(notebookContainer, {childList: true});\n",
       "}}\n",
       "\n",
       "// Listen for the clearing of the current output cell\n",
       "var outputEl = gd.closest('.output');\n",
       "if (outputEl) {{\n",
       "    x.observe(outputEl, {childList: true});\n",
       "}}\n",
       "\n",
       "                        })                };                });            </script>        </div>"
      ]
     },
     "metadata": {},
     "output_type": "display_data"
    }
   ],
   "source": [
    "fig = px.scatter_mapbox(track, lat=\"Latitude\", lon=\"Longtitude\",\n",
    "                        color_discrete_sequence=[\"fuchsia\"], zoom=12, height=300)\n",
    "fig.update_layout(mapbox_style=\"open-street-map\")\n",
    "fig.update_layout(margin={\"r\":0,\"t\":0,\"l\":0,\"b\":0})\n",
    "fig.show()"
   ]
  },
  {
   "cell_type": "code",
   "execution_count": 11,
   "id": "f03f8b25",
   "metadata": {
    "_kg_hide-input": true,
    "execution": {
     "iopub.execute_input": "2023-11-27T17:06:09.038583Z",
     "iopub.status.busy": "2023-11-27T17:06:09.038090Z",
     "iopub.status.idle": "2023-11-27T17:06:09.046765Z",
     "shell.execute_reply": "2023-11-27T17:06:09.045497Z"
    },
    "papermill": {
     "duration": 0.03115,
     "end_time": "2023-11-27T17:06:09.049517",
     "exception": false,
     "start_time": "2023-11-27T17:06:09.018367",
     "status": "completed"
    },
    "tags": []
   },
   "outputs": [
    {
     "data": {
      "text/markdown": [
       "# <div style='background:#FF1801; border:0; color:black; box-shadow: 10px 10px 5px 0px rgba(0,0,0,0.75); transform: rotateX(10deg);'><h1 style='padding: 10px; margin: 0; text-align:center;'><span style='font-size: 30px;'>Podium</span></h1></div>"
      ],
      "text/plain": [
       "<IPython.core.display.Markdown object>"
      ]
     },
     "metadata": {},
     "output_type": "display_data"
    }
   ],
   "source": [
    "display(md(f\"# <div style='background:#FF1801; border:0; color:black; box-shadow: 10px 10px 5px 0px rgba(0,0,0,0.75); transform: rotateX(10deg);'><h1 style='padding: 10px; margin: 0; text-align:center;'><span style='font-size: 30px;'>Podium</span></h1></div>\"))"
   ]
  },
  {
   "cell_type": "code",
   "execution_count": 12,
   "id": "cf920fb9",
   "metadata": {
    "_kg_hide-input": true,
    "execution": {
     "iopub.execute_input": "2023-11-27T17:06:09.090251Z",
     "iopub.status.busy": "2023-11-27T17:06:09.088951Z",
     "iopub.status.idle": "2023-11-27T17:06:09.101774Z",
     "shell.execute_reply": "2023-11-27T17:06:09.100441Z"
    },
    "papermill": {
     "duration": 0.035875,
     "end_time": "2023-11-27T17:06:09.104633",
     "exception": false,
     "start_time": "2023-11-27T17:06:09.068758",
     "status": "completed"
    },
    "tags": []
   },
   "outputs": [],
   "source": [
    "# Styling\n",
    "def podium(styler):\n",
    "    styler.set_caption(\"Podium Results\")\n",
    "    styler.background_gradient(axis=None, vmin=1, vmax=5, cmap=\"YlGnBu\")\n",
    "    styler.hide_index()\n",
    "   # styler.format({'points': \"{.1f}\"})\n",
    "    return styler\n",
    "\n",
    "\n",
    "def results_style(styler):\n",
    "    styler.set_caption(\"Race Results\")\n",
    "    styler.background_gradient(axis=None, vmin=1, vmax=5, cmap=\"YlGnBu\")\n",
    "    styler.hide_index()\n",
    "    return styler\n",
    "\n",
    "def sprint_results_style(styler):\n",
    "    styler.set_caption(\"Sprint Results\")\n",
    "    styler.background_gradient(axis=None, vmin=1, vmax=5, cmap=\"YlGnBu\")\n",
    "    styler.hide_index()\n",
    "    return styler\n",
    "\n",
    "def driver_stand(styler):\n",
    "    styler.set_caption(\"Driver Standings\")\n",
    "    styler.background_gradient(axis=None, vmin=1, vmax=5, cmap=\"YlGnBu\")\n",
    "    styler.hide_index()\n",
    "    return styler\n",
    "\n",
    "def const_standings(styler):\n",
    "    styler.set_caption(\"Constructor Standings\")\n",
    "    styler.background_gradient(axis=None, vmin=1, vmax=5, cmap=\"YlOrRd\")\n",
    "    styler.hide_index()\n",
    "    return styler"
   ]
  },
  {
   "cell_type": "code",
   "execution_count": 13,
   "id": "88d17f36",
   "metadata": {
    "_kg_hide-input": true,
    "execution": {
     "iopub.execute_input": "2023-11-27T17:06:09.143601Z",
     "iopub.status.busy": "2023-11-27T17:06:09.143114Z",
     "iopub.status.idle": "2023-11-27T17:06:09.252805Z",
     "shell.execute_reply": "2023-11-27T17:06:09.251395Z"
    },
    "papermill": {
     "duration": 0.132645,
     "end_time": "2023-11-27T17:06:09.255571",
     "exception": false,
     "start_time": "2023-11-27T17:06:09.122926",
     "status": "completed"
    },
    "tags": []
   },
   "outputs": [
    {
     "data": {
      "text/html": [
       "<style type=\"text/css\">\n",
       "#T_7e984_row0_col2 {\n",
       "  background-color: #ffffd9;\n",
       "  color: #000000;\n",
       "}\n",
       "#T_7e984_row0_col3, #T_7e984_row1_col3, #T_7e984_row2_col3 {\n",
       "  background-color: #081d58;\n",
       "  color: #f1f1f1;\n",
       "}\n",
       "#T_7e984_row1_col2 {\n",
       "  background-color: #c6e9b4;\n",
       "  color: #000000;\n",
       "}\n",
       "#T_7e984_row2_col2 {\n",
       "  background-color: #40b5c4;\n",
       "  color: #f1f1f1;\n",
       "}\n",
       "</style>\n",
       "<table id=\"T_7e984_\">\n",
       "  <caption>Podium Results</caption>\n",
       "  <thead>\n",
       "    <tr>\n",
       "      <th class=\"col_heading level0 col0\" >Driver</th>\n",
       "      <th class=\"col_heading level0 col1\" >grid</th>\n",
       "      <th class=\"col_heading level0 col2\" >position</th>\n",
       "      <th class=\"col_heading level0 col3\" >points</th>\n",
       "    </tr>\n",
       "  </thead>\n",
       "  <tbody>\n",
       "    <tr>\n",
       "      <td id=\"T_7e984_row0_col0\" class=\"data row0 col0\" >VER</td>\n",
       "      <td id=\"T_7e984_row0_col1\" class=\"data row0 col1\" >1</td>\n",
       "      <td id=\"T_7e984_row0_col2\" class=\"data row0 col2\" >1</td>\n",
       "      <td id=\"T_7e984_row0_col3\" class=\"data row0 col3\" >26.0</td>\n",
       "    </tr>\n",
       "    <tr>\n",
       "      <td id=\"T_7e984_row1_col0\" class=\"data row1 col0\" >LEC</td>\n",
       "      <td id=\"T_7e984_row1_col1\" class=\"data row1 col1\" >2</td>\n",
       "      <td id=\"T_7e984_row1_col2\" class=\"data row1 col2\" >2</td>\n",
       "      <td id=\"T_7e984_row1_col3\" class=\"data row1 col3\" >18.0</td>\n",
       "    </tr>\n",
       "    <tr>\n",
       "      <td id=\"T_7e984_row2_col0\" class=\"data row2 col0\" >RUS</td>\n",
       "      <td id=\"T_7e984_row2_col1\" class=\"data row2 col1\" >4</td>\n",
       "      <td id=\"T_7e984_row2_col2\" class=\"data row2 col2\" >3</td>\n",
       "      <td id=\"T_7e984_row2_col3\" class=\"data row2 col3\" >15.0</td>\n",
       "    </tr>\n",
       "  </tbody>\n",
       "</table>\n"
      ],
      "text/plain": [
       "<pandas.io.formats.style.Styler at 0x7ceb6bc0a5d0>"
      ]
     },
     "execution_count": 13,
     "metadata": {},
     "output_type": "execute_result"
    }
   ],
   "source": [
    "res_race_lap_status_pod[['Driver', 'grid', 'position', 'points']].iloc[:3].style.pipe(podium)"
   ]
  },
  {
   "cell_type": "code",
   "execution_count": 14,
   "id": "eb64c9cf",
   "metadata": {
    "_kg_hide-input": true,
    "execution": {
     "iopub.execute_input": "2023-11-27T17:06:09.294608Z",
     "iopub.status.busy": "2023-11-27T17:06:09.294179Z",
     "iopub.status.idle": "2023-11-27T17:06:09.302186Z",
     "shell.execute_reply": "2023-11-27T17:06:09.301098Z"
    },
    "papermill": {
     "duration": 0.030687,
     "end_time": "2023-11-27T17:06:09.304829",
     "exception": false,
     "start_time": "2023-11-27T17:06:09.274142",
     "status": "completed"
    },
    "tags": []
   },
   "outputs": [
    {
     "data": {
      "text/markdown": [
       "# <div style='background:#FF1801; border:0; color:black; box-shadow: 10px 10px 5px 0px rgba(0,0,0,0.75); transform: rotateX(10deg);'><h1 style='padding: 10px; margin: 0; text-align:center;'><span style='font-size: 30px;'>Full Results</span></h1></div>"
      ],
      "text/plain": [
       "<IPython.core.display.Markdown object>"
      ]
     },
     "metadata": {},
     "output_type": "display_data"
    }
   ],
   "source": [
    "display(md(f\"# <div style='background:#FF1801; border:0; color:black; box-shadow: 10px 10px 5px 0px rgba(0,0,0,0.75); transform: rotateX(10deg);'><h1 style='padding: 10px; margin: 0; text-align:center;'><span style='font-size: 30px;'>Full Results</span></h1></div>\"))"
   ]
  },
  {
   "cell_type": "code",
   "execution_count": 15,
   "id": "66b699b2",
   "metadata": {
    "_kg_hide-input": true,
    "execution": {
     "iopub.execute_input": "2023-11-27T17:06:09.344292Z",
     "iopub.status.busy": "2023-11-27T17:06:09.343836Z",
     "iopub.status.idle": "2023-11-27T17:06:09.365039Z",
     "shell.execute_reply": "2023-11-27T17:06:09.364103Z"
    },
    "papermill": {
     "duration": 0.043969,
     "end_time": "2023-11-27T17:06:09.367404",
     "exception": false,
     "start_time": "2023-11-27T17:06:09.323435",
     "status": "completed"
    },
    "tags": []
   },
   "outputs": [
    {
     "data": {
      "text/html": [
       "<style type=\"text/css\">\n",
       "#T_feb1d_row0_col2, #T_feb1d_row9_col3, #T_feb1d_row10_col3, #T_feb1d_row11_col3, #T_feb1d_row12_col3, #T_feb1d_row13_col3, #T_feb1d_row14_col3, #T_feb1d_row15_col3, #T_feb1d_row16_col3, #T_feb1d_row17_col3, #T_feb1d_row18_col3, #T_feb1d_row19_col3 {\n",
       "  background-color: #ffffd9;\n",
       "  color: #000000;\n",
       "}\n",
       "#T_feb1d_row0_col3, #T_feb1d_row1_col3, #T_feb1d_row2_col3, #T_feb1d_row3_col3, #T_feb1d_row4_col2, #T_feb1d_row4_col3, #T_feb1d_row5_col2, #T_feb1d_row5_col3, #T_feb1d_row6_col2, #T_feb1d_row6_col3, #T_feb1d_row7_col2, #T_feb1d_row8_col2, #T_feb1d_row9_col2, #T_feb1d_row10_col2, #T_feb1d_row11_col2, #T_feb1d_row12_col2, #T_feb1d_row13_col2, #T_feb1d_row14_col2, #T_feb1d_row15_col2, #T_feb1d_row16_col2, #T_feb1d_row17_col2, #T_feb1d_row18_col2, #T_feb1d_row19_col2 {\n",
       "  background-color: #081d58;\n",
       "  color: #f1f1f1;\n",
       "}\n",
       "#T_feb1d_row1_col2, #T_feb1d_row8_col3 {\n",
       "  background-color: #c6e9b4;\n",
       "  color: #000000;\n",
       "}\n",
       "#T_feb1d_row2_col2 {\n",
       "  background-color: #40b5c4;\n",
       "  color: #f1f1f1;\n",
       "}\n",
       "#T_feb1d_row3_col2, #T_feb1d_row7_col3 {\n",
       "  background-color: #225da8;\n",
       "  color: #f1f1f1;\n",
       "}\n",
       "</style>\n",
       "<table id=\"T_feb1d_\">\n",
       "  <caption>Race Results</caption>\n",
       "  <thead>\n",
       "    <tr>\n",
       "      <th class=\"col_heading level0 col0\" >Driver</th>\n",
       "      <th class=\"col_heading level0 col1\" >grid</th>\n",
       "      <th class=\"col_heading level0 col2\" >position</th>\n",
       "      <th class=\"col_heading level0 col3\" >points</th>\n",
       "      <th class=\"col_heading level0 col4\" >status</th>\n",
       "    </tr>\n",
       "  </thead>\n",
       "  <tbody>\n",
       "    <tr>\n",
       "      <td id=\"T_feb1d_row0_col0\" class=\"data row0 col0\" >VER</td>\n",
       "      <td id=\"T_feb1d_row0_col1\" class=\"data row0 col1\" >1</td>\n",
       "      <td id=\"T_feb1d_row0_col2\" class=\"data row0 col2\" >1</td>\n",
       "      <td id=\"T_feb1d_row0_col3\" class=\"data row0 col3\" >26.0</td>\n",
       "      <td id=\"T_feb1d_row0_col4\" class=\"data row0 col4\" >Finished</td>\n",
       "    </tr>\n",
       "    <tr>\n",
       "      <td id=\"T_feb1d_row1_col0\" class=\"data row1 col0\" >LEC</td>\n",
       "      <td id=\"T_feb1d_row1_col1\" class=\"data row1 col1\" >2</td>\n",
       "      <td id=\"T_feb1d_row1_col2\" class=\"data row1 col2\" >2</td>\n",
       "      <td id=\"T_feb1d_row1_col3\" class=\"data row1 col3\" >18.0</td>\n",
       "      <td id=\"T_feb1d_row1_col4\" class=\"data row1 col4\" >Finished</td>\n",
       "    </tr>\n",
       "    <tr>\n",
       "      <td id=\"T_feb1d_row2_col0\" class=\"data row2 col0\" >RUS</td>\n",
       "      <td id=\"T_feb1d_row2_col1\" class=\"data row2 col1\" >4</td>\n",
       "      <td id=\"T_feb1d_row2_col2\" class=\"data row2 col2\" >3</td>\n",
       "      <td id=\"T_feb1d_row2_col3\" class=\"data row2 col3\" >15.0</td>\n",
       "      <td id=\"T_feb1d_row2_col4\" class=\"data row2 col4\" >Finished</td>\n",
       "    </tr>\n",
       "    <tr>\n",
       "      <td id=\"T_feb1d_row3_col0\" class=\"data row3 col0\" >PER</td>\n",
       "      <td id=\"T_feb1d_row3_col1\" class=\"data row3 col1\" >9</td>\n",
       "      <td id=\"T_feb1d_row3_col2\" class=\"data row3 col2\" >4</td>\n",
       "      <td id=\"T_feb1d_row3_col3\" class=\"data row3 col3\" >12.0</td>\n",
       "      <td id=\"T_feb1d_row3_col4\" class=\"data row3 col4\" >Finished</td>\n",
       "    </tr>\n",
       "    <tr>\n",
       "      <td id=\"T_feb1d_row4_col0\" class=\"data row4 col0\" >NOR</td>\n",
       "      <td id=\"T_feb1d_row4_col1\" class=\"data row4 col1\" >5</td>\n",
       "      <td id=\"T_feb1d_row4_col2\" class=\"data row4 col2\" >5</td>\n",
       "      <td id=\"T_feb1d_row4_col3\" class=\"data row4 col3\" >10.0</td>\n",
       "      <td id=\"T_feb1d_row4_col4\" class=\"data row4 col4\" >Finished</td>\n",
       "    </tr>\n",
       "    <tr>\n",
       "      <td id=\"T_feb1d_row5_col0\" class=\"data row5 col0\" >PIA</td>\n",
       "      <td id=\"T_feb1d_row5_col1\" class=\"data row5 col1\" >3</td>\n",
       "      <td id=\"T_feb1d_row5_col2\" class=\"data row5 col2\" >6</td>\n",
       "      <td id=\"T_feb1d_row5_col3\" class=\"data row5 col3\" >8.0</td>\n",
       "      <td id=\"T_feb1d_row5_col4\" class=\"data row5 col4\" >Finished</td>\n",
       "    </tr>\n",
       "    <tr>\n",
       "      <td id=\"T_feb1d_row6_col0\" class=\"data row6 col0\" >ALO</td>\n",
       "      <td id=\"T_feb1d_row6_col1\" class=\"data row6 col1\" >7</td>\n",
       "      <td id=\"T_feb1d_row6_col2\" class=\"data row6 col2\" >7</td>\n",
       "      <td id=\"T_feb1d_row6_col3\" class=\"data row6 col3\" >6.0</td>\n",
       "      <td id=\"T_feb1d_row6_col4\" class=\"data row6 col4\" >Finished</td>\n",
       "    </tr>\n",
       "    <tr>\n",
       "      <td id=\"T_feb1d_row7_col0\" class=\"data row7 col0\" >TSU</td>\n",
       "      <td id=\"T_feb1d_row7_col1\" class=\"data row7 col1\" >6</td>\n",
       "      <td id=\"T_feb1d_row7_col2\" class=\"data row7 col2\" >8</td>\n",
       "      <td id=\"T_feb1d_row7_col3\" class=\"data row7 col3\" >4.0</td>\n",
       "      <td id=\"T_feb1d_row7_col4\" class=\"data row7 col4\" >Finished</td>\n",
       "    </tr>\n",
       "    <tr>\n",
       "      <td id=\"T_feb1d_row8_col0\" class=\"data row8 col0\" >HAM</td>\n",
       "      <td id=\"T_feb1d_row8_col1\" class=\"data row8 col1\" >11</td>\n",
       "      <td id=\"T_feb1d_row8_col2\" class=\"data row8 col2\" >9</td>\n",
       "      <td id=\"T_feb1d_row8_col3\" class=\"data row8 col3\" >2.0</td>\n",
       "      <td id=\"T_feb1d_row8_col4\" class=\"data row8 col4\" >Finished</td>\n",
       "    </tr>\n",
       "    <tr>\n",
       "      <td id=\"T_feb1d_row9_col0\" class=\"data row9 col0\" >STR</td>\n",
       "      <td id=\"T_feb1d_row9_col1\" class=\"data row9 col1\" >13</td>\n",
       "      <td id=\"T_feb1d_row9_col2\" class=\"data row9 col2\" >10</td>\n",
       "      <td id=\"T_feb1d_row9_col3\" class=\"data row9 col3\" >1.0</td>\n",
       "      <td id=\"T_feb1d_row9_col4\" class=\"data row9 col4\" >Finished</td>\n",
       "    </tr>\n",
       "    <tr>\n",
       "      <td id=\"T_feb1d_row10_col0\" class=\"data row10 col0\" >RIC</td>\n",
       "      <td id=\"T_feb1d_row10_col1\" class=\"data row10 col1\" >15</td>\n",
       "      <td id=\"T_feb1d_row10_col2\" class=\"data row10 col2\" >11</td>\n",
       "      <td id=\"T_feb1d_row10_col3\" class=\"data row10 col3\" >0.0</td>\n",
       "      <td id=\"T_feb1d_row10_col4\" class=\"data row10 col4\" >Finished</td>\n",
       "    </tr>\n",
       "    <tr>\n",
       "      <td id=\"T_feb1d_row11_col0\" class=\"data row11 col0\" >OCO</td>\n",
       "      <td id=\"T_feb1d_row11_col1\" class=\"data row11 col1\" >12</td>\n",
       "      <td id=\"T_feb1d_row11_col2\" class=\"data row11 col2\" >12</td>\n",
       "      <td id=\"T_feb1d_row11_col3\" class=\"data row11 col3\" >0.0</td>\n",
       "      <td id=\"T_feb1d_row11_col4\" class=\"data row11 col4\" >Finished</td>\n",
       "    </tr>\n",
       "    <tr>\n",
       "      <td id=\"T_feb1d_row12_col0\" class=\"data row12 col0\" >GAS</td>\n",
       "      <td id=\"T_feb1d_row12_col1\" class=\"data row12 col1\" >10</td>\n",
       "      <td id=\"T_feb1d_row12_col2\" class=\"data row12 col2\" >13</td>\n",
       "      <td id=\"T_feb1d_row12_col3\" class=\"data row12 col3\" >0.0</td>\n",
       "      <td id=\"T_feb1d_row12_col4\" class=\"data row12 col4\" >Finished</td>\n",
       "    </tr>\n",
       "    <tr>\n",
       "      <td id=\"T_feb1d_row13_col0\" class=\"data row13 col0\" >ALB</td>\n",
       "      <td id=\"T_feb1d_row13_col1\" class=\"data row13 col1\" >14</td>\n",
       "      <td id=\"T_feb1d_row13_col2\" class=\"data row13 col2\" >14</td>\n",
       "      <td id=\"T_feb1d_row13_col3\" class=\"data row13 col3\" >0.0</td>\n",
       "      <td id=\"T_feb1d_row13_col4\" class=\"data row13 col4\" >Finished</td>\n",
       "    </tr>\n",
       "    <tr>\n",
       "      <td id=\"T_feb1d_row14_col0\" class=\"data row14 col0\" >HUL</td>\n",
       "      <td id=\"T_feb1d_row14_col1\" class=\"data row14 col1\" >8</td>\n",
       "      <td id=\"T_feb1d_row14_col2\" class=\"data row14 col2\" >15</td>\n",
       "      <td id=\"T_feb1d_row14_col3\" class=\"data row14 col3\" >0.0</td>\n",
       "      <td id=\"T_feb1d_row14_col4\" class=\"data row14 col4\" >Finished</td>\n",
       "    </tr>\n",
       "    <tr>\n",
       "      <td id=\"T_feb1d_row15_col0\" class=\"data row15 col0\" >SAR</td>\n",
       "      <td id=\"T_feb1d_row15_col1\" class=\"data row15 col1\" >20</td>\n",
       "      <td id=\"T_feb1d_row15_col2\" class=\"data row15 col2\" >16</td>\n",
       "      <td id=\"T_feb1d_row15_col3\" class=\"data row15 col3\" >0.0</td>\n",
       "      <td id=\"T_feb1d_row15_col4\" class=\"data row15 col4\" >Finished</td>\n",
       "    </tr>\n",
       "    <tr>\n",
       "      <td id=\"T_feb1d_row16_col0\" class=\"data row16 col0\" >ZHO</td>\n",
       "      <td id=\"T_feb1d_row16_col1\" class=\"data row16 col1\" >19</td>\n",
       "      <td id=\"T_feb1d_row16_col2\" class=\"data row16 col2\" >17</td>\n",
       "      <td id=\"T_feb1d_row16_col3\" class=\"data row16 col3\" >0.0</td>\n",
       "      <td id=\"T_feb1d_row16_col4\" class=\"data row16 col4\" >Finished</td>\n",
       "    </tr>\n",
       "    <tr>\n",
       "      <td id=\"T_feb1d_row17_col0\" class=\"data row17 col0\" >SAI</td>\n",
       "      <td id=\"T_feb1d_row17_col1\" class=\"data row17 col1\" >16</td>\n",
       "      <td id=\"T_feb1d_row17_col2\" class=\"data row17 col2\" >18</td>\n",
       "      <td id=\"T_feb1d_row17_col3\" class=\"data row17 col3\" >0.0</td>\n",
       "      <td id=\"T_feb1d_row17_col4\" class=\"data row17 col4\" >Retired</td>\n",
       "    </tr>\n",
       "    <tr>\n",
       "      <td id=\"T_feb1d_row18_col0\" class=\"data row18 col0\" >BOT</td>\n",
       "      <td id=\"T_feb1d_row18_col1\" class=\"data row18 col1\" >18</td>\n",
       "      <td id=\"T_feb1d_row18_col2\" class=\"data row18 col2\" >19</td>\n",
       "      <td id=\"T_feb1d_row18_col3\" class=\"data row18 col3\" >0.0</td>\n",
       "      <td id=\"T_feb1d_row18_col4\" class=\"data row18 col4\" >+1 Lap</td>\n",
       "    </tr>\n",
       "    <tr>\n",
       "      <td id=\"T_feb1d_row19_col0\" class=\"data row19 col0\" >MAG</td>\n",
       "      <td id=\"T_feb1d_row19_col1\" class=\"data row19 col1\" >17</td>\n",
       "      <td id=\"T_feb1d_row19_col2\" class=\"data row19 col2\" >20</td>\n",
       "      <td id=\"T_feb1d_row19_col3\" class=\"data row19 col3\" >0.0</td>\n",
       "      <td id=\"T_feb1d_row19_col4\" class=\"data row19 col4\" >+1 Lap</td>\n",
       "    </tr>\n",
       "  </tbody>\n",
       "</table>\n"
      ],
      "text/plain": [
       "<pandas.io.formats.style.Styler at 0x7ceb6b1d2e90>"
      ]
     },
     "execution_count": 15,
     "metadata": {},
     "output_type": "execute_result"
    }
   ],
   "source": [
    "res_race_lap_status_pod[['Driver', 'grid', 'position', 'points', 'status']].style.pipe(results_style)"
   ]
  },
  {
   "cell_type": "code",
   "execution_count": 16,
   "id": "fb68ae69",
   "metadata": {
    "_kg_hide-input": true,
    "execution": {
     "iopub.execute_input": "2023-11-27T17:06:09.407969Z",
     "iopub.status.busy": "2023-11-27T17:06:09.407160Z",
     "iopub.status.idle": "2023-11-27T17:06:09.415263Z",
     "shell.execute_reply": "2023-11-27T17:06:09.413956Z"
    },
    "papermill": {
     "duration": 0.031301,
     "end_time": "2023-11-27T17:06:09.417934",
     "exception": false,
     "start_time": "2023-11-27T17:06:09.386633",
     "status": "completed"
    },
    "tags": []
   },
   "outputs": [
    {
     "data": {
      "text/markdown": [
       "# <div style='background:#FF1801; border:0; color:black; box-shadow: 10px 10px 5px 0px rgba(0,0,0,0.75); transform: rotateX(10deg);'><h1 style='padding: 10px; margin: 0; text-align:center;'><span style='font-size: 30px;'>Qualifying</span></h1></div>"
      ],
      "text/plain": [
       "<IPython.core.display.Markdown object>"
      ]
     },
     "metadata": {},
     "output_type": "display_data"
    }
   ],
   "source": [
    "display(md(f\"# <div style='background:#FF1801; border:0; color:black; box-shadow: 10px 10px 5px 0px rgba(0,0,0,0.75); transform: rotateX(10deg);'><h1 style='padding: 10px; margin: 0; text-align:center;'><span style='font-size: 30px;'>Qualifying</span></h1></div>\"))"
   ]
  },
  {
   "cell_type": "code",
   "execution_count": 17,
   "id": "debbebb8",
   "metadata": {
    "_kg_hide-input": true,
    "execution": {
     "iopub.execute_input": "2023-11-27T17:06:09.458998Z",
     "iopub.status.busy": "2023-11-27T17:06:09.458571Z",
     "iopub.status.idle": "2023-11-27T17:06:09.502187Z",
     "shell.execute_reply": "2023-11-27T17:06:09.500909Z"
    },
    "papermill": {
     "duration": 0.06775,
     "end_time": "2023-11-27T17:06:09.505241",
     "exception": false,
     "start_time": "2023-11-27T17:06:09.437491",
     "status": "completed"
    },
    "tags": []
   },
   "outputs": [
    {
     "data": {
      "text/html": [
       "<div>                            <div id=\"6cd268e0-3995-4b16-ab26-5bfd1a5c15cb\" class=\"plotly-graph-div\" style=\"height:525px; width:100%;\"></div>            <script type=\"text/javascript\">                require([\"plotly\"], function(Plotly) {                    window.PLOTLYENV=window.PLOTLYENV || {};                                    if (document.getElementById(\"6cd268e0-3995-4b16-ab26-5bfd1a5c15cb\")) {                    Plotly.newPlot(                        \"6cd268e0-3995-4b16-ab26-5bfd1a5c15cb\",                        [{\"marker\":{\"color\":\"red\"},\"name\":\"Q1\",\"x\":[\"VER\",\"LEC\",\"PIA\",\"RUS\",\"NOR\",\"TSU\",\"ALO\",\"HUL\",\"PER\",\"GAS\",\"HAM\",\"OCO\",\"STR\",\"ALB\",\"RIC\",\"SAI\",\"MAG\",\"BOT\",\"ZHO\",\"SAR\"],\"y\":[84.16,84.459,84.487,84.337,84.368,84.286,84.501,84.425,84.209,84.6,84.437,84.565,84.405,84.298,84.461,84.738,84.764,84.788,85.15899999999999,null],\"type\":\"bar\"},{\"marker\":{\"color\":\"gold\"},\"name\":\"Q2\",\"x\":[\"VER\",\"LEC\",\"PIA\",\"RUS\",\"NOR\",\"TSU\",\"ALO\",\"HUL\",\"PER\",\"GAS\",\"HAM\",\"OCO\",\"STR\",\"ALB\",\"RIC\",\"SAI\",\"MAG\",\"BOT\",\"ZHO\",\"SAR\"],\"y\":[83.74,83.969,84.27799999999999,84.013,83.92,84.207,84.131,84.213,84.116,84.078,84.35900000000001,84.39099999999999,84.422,84.439,84.44200000000001,null,null,null,null,null],\"type\":\"bar\"},{\"marker\":{\"color\":\"orange\"},\"name\":\"Q3\",\"x\":[\"VER\",\"LEC\",\"PIA\",\"RUS\",\"NOR\",\"TSU\",\"ALO\",\"HUL\",\"PER\",\"GAS\",\"HAM\",\"OCO\",\"STR\",\"ALB\",\"RIC\",\"SAI\",\"MAG\",\"BOT\",\"ZHO\",\"SAR\"],\"y\":[83.445,83.584,83.782,83.788,83.816,83.968,84.084,84.108,84.17099999999999,84.548,null,null,null,null,null,null,null,null,null,null],\"type\":\"bar\"}],                        {\"template\":{\"data\":{\"histogram2dcontour\":[{\"type\":\"histogram2dcontour\",\"colorbar\":{\"outlinewidth\":0,\"ticks\":\"\"},\"colorscale\":[[0.0,\"#0d0887\"],[0.1111111111111111,\"#46039f\"],[0.2222222222222222,\"#7201a8\"],[0.3333333333333333,\"#9c179e\"],[0.4444444444444444,\"#bd3786\"],[0.5555555555555556,\"#d8576b\"],[0.6666666666666666,\"#ed7953\"],[0.7777777777777778,\"#fb9f3a\"],[0.8888888888888888,\"#fdca26\"],[1.0,\"#f0f921\"]]}],\"choropleth\":[{\"type\":\"choropleth\",\"colorbar\":{\"outlinewidth\":0,\"ticks\":\"\"}}],\"histogram2d\":[{\"type\":\"histogram2d\",\"colorbar\":{\"outlinewidth\":0,\"ticks\":\"\"},\"colorscale\":[[0.0,\"#0d0887\"],[0.1111111111111111,\"#46039f\"],[0.2222222222222222,\"#7201a8\"],[0.3333333333333333,\"#9c179e\"],[0.4444444444444444,\"#bd3786\"],[0.5555555555555556,\"#d8576b\"],[0.6666666666666666,\"#ed7953\"],[0.7777777777777778,\"#fb9f3a\"],[0.8888888888888888,\"#fdca26\"],[1.0,\"#f0f921\"]]}],\"heatmap\":[{\"type\":\"heatmap\",\"colorbar\":{\"outlinewidth\":0,\"ticks\":\"\"},\"colorscale\":[[0.0,\"#0d0887\"],[0.1111111111111111,\"#46039f\"],[0.2222222222222222,\"#7201a8\"],[0.3333333333333333,\"#9c179e\"],[0.4444444444444444,\"#bd3786\"],[0.5555555555555556,\"#d8576b\"],[0.6666666666666666,\"#ed7953\"],[0.7777777777777778,\"#fb9f3a\"],[0.8888888888888888,\"#fdca26\"],[1.0,\"#f0f921\"]]}],\"heatmapgl\":[{\"type\":\"heatmapgl\",\"colorbar\":{\"outlinewidth\":0,\"ticks\":\"\"},\"colorscale\":[[0.0,\"#0d0887\"],[0.1111111111111111,\"#46039f\"],[0.2222222222222222,\"#7201a8\"],[0.3333333333333333,\"#9c179e\"],[0.4444444444444444,\"#bd3786\"],[0.5555555555555556,\"#d8576b\"],[0.6666666666666666,\"#ed7953\"],[0.7777777777777778,\"#fb9f3a\"],[0.8888888888888888,\"#fdca26\"],[1.0,\"#f0f921\"]]}],\"contourcarpet\":[{\"type\":\"contourcarpet\",\"colorbar\":{\"outlinewidth\":0,\"ticks\":\"\"}}],\"contour\":[{\"type\":\"contour\",\"colorbar\":{\"outlinewidth\":0,\"ticks\":\"\"},\"colorscale\":[[0.0,\"#0d0887\"],[0.1111111111111111,\"#46039f\"],[0.2222222222222222,\"#7201a8\"],[0.3333333333333333,\"#9c179e\"],[0.4444444444444444,\"#bd3786\"],[0.5555555555555556,\"#d8576b\"],[0.6666666666666666,\"#ed7953\"],[0.7777777777777778,\"#fb9f3a\"],[0.8888888888888888,\"#fdca26\"],[1.0,\"#f0f921\"]]}],\"surface\":[{\"type\":\"surface\",\"colorbar\":{\"outlinewidth\":0,\"ticks\":\"\"},\"colorscale\":[[0.0,\"#0d0887\"],[0.1111111111111111,\"#46039f\"],[0.2222222222222222,\"#7201a8\"],[0.3333333333333333,\"#9c179e\"],[0.4444444444444444,\"#bd3786\"],[0.5555555555555556,\"#d8576b\"],[0.6666666666666666,\"#ed7953\"],[0.7777777777777778,\"#fb9f3a\"],[0.8888888888888888,\"#fdca26\"],[1.0,\"#f0f921\"]]}],\"mesh3d\":[{\"type\":\"mesh3d\",\"colorbar\":{\"outlinewidth\":0,\"ticks\":\"\"}}],\"scatter\":[{\"fillpattern\":{\"fillmode\":\"overlay\",\"size\":10,\"solidity\":0.2},\"type\":\"scatter\"}],\"parcoords\":[{\"type\":\"parcoords\",\"line\":{\"colorbar\":{\"outlinewidth\":0,\"ticks\":\"\"}}}],\"scatterpolargl\":[{\"type\":\"scatterpolargl\",\"marker\":{\"colorbar\":{\"outlinewidth\":0,\"ticks\":\"\"}}}],\"bar\":[{\"error_x\":{\"color\":\"#2a3f5f\"},\"error_y\":{\"color\":\"#2a3f5f\"},\"marker\":{\"line\":{\"color\":\"#E5ECF6\",\"width\":0.5},\"pattern\":{\"fillmode\":\"overlay\",\"size\":10,\"solidity\":0.2}},\"type\":\"bar\"}],\"scattergeo\":[{\"type\":\"scattergeo\",\"marker\":{\"colorbar\":{\"outlinewidth\":0,\"ticks\":\"\"}}}],\"scatterpolar\":[{\"type\":\"scatterpolar\",\"marker\":{\"colorbar\":{\"outlinewidth\":0,\"ticks\":\"\"}}}],\"histogram\":[{\"marker\":{\"pattern\":{\"fillmode\":\"overlay\",\"size\":10,\"solidity\":0.2}},\"type\":\"histogram\"}],\"scattergl\":[{\"type\":\"scattergl\",\"marker\":{\"colorbar\":{\"outlinewidth\":0,\"ticks\":\"\"}}}],\"scatter3d\":[{\"type\":\"scatter3d\",\"line\":{\"colorbar\":{\"outlinewidth\":0,\"ticks\":\"\"}},\"marker\":{\"colorbar\":{\"outlinewidth\":0,\"ticks\":\"\"}}}],\"scattermapbox\":[{\"type\":\"scattermapbox\",\"marker\":{\"colorbar\":{\"outlinewidth\":0,\"ticks\":\"\"}}}],\"scatterternary\":[{\"type\":\"scatterternary\",\"marker\":{\"colorbar\":{\"outlinewidth\":0,\"ticks\":\"\"}}}],\"scattercarpet\":[{\"type\":\"scattercarpet\",\"marker\":{\"colorbar\":{\"outlinewidth\":0,\"ticks\":\"\"}}}],\"carpet\":[{\"aaxis\":{\"endlinecolor\":\"#2a3f5f\",\"gridcolor\":\"white\",\"linecolor\":\"white\",\"minorgridcolor\":\"white\",\"startlinecolor\":\"#2a3f5f\"},\"baxis\":{\"endlinecolor\":\"#2a3f5f\",\"gridcolor\":\"white\",\"linecolor\":\"white\",\"minorgridcolor\":\"white\",\"startlinecolor\":\"#2a3f5f\"},\"type\":\"carpet\"}],\"table\":[{\"cells\":{\"fill\":{\"color\":\"#EBF0F8\"},\"line\":{\"color\":\"white\"}},\"header\":{\"fill\":{\"color\":\"#C8D4E3\"},\"line\":{\"color\":\"white\"}},\"type\":\"table\"}],\"barpolar\":[{\"marker\":{\"line\":{\"color\":\"#E5ECF6\",\"width\":0.5},\"pattern\":{\"fillmode\":\"overlay\",\"size\":10,\"solidity\":0.2}},\"type\":\"barpolar\"}],\"pie\":[{\"automargin\":true,\"type\":\"pie\"}]},\"layout\":{\"autotypenumbers\":\"strict\",\"colorway\":[\"#636efa\",\"#EF553B\",\"#00cc96\",\"#ab63fa\",\"#FFA15A\",\"#19d3f3\",\"#FF6692\",\"#B6E880\",\"#FF97FF\",\"#FECB52\"],\"font\":{\"color\":\"#2a3f5f\"},\"hovermode\":\"closest\",\"hoverlabel\":{\"align\":\"left\"},\"paper_bgcolor\":\"white\",\"plot_bgcolor\":\"#E5ECF6\",\"polar\":{\"bgcolor\":\"#E5ECF6\",\"angularaxis\":{\"gridcolor\":\"white\",\"linecolor\":\"white\",\"ticks\":\"\"},\"radialaxis\":{\"gridcolor\":\"white\",\"linecolor\":\"white\",\"ticks\":\"\"}},\"ternary\":{\"bgcolor\":\"#E5ECF6\",\"aaxis\":{\"gridcolor\":\"white\",\"linecolor\":\"white\",\"ticks\":\"\"},\"baxis\":{\"gridcolor\":\"white\",\"linecolor\":\"white\",\"ticks\":\"\"},\"caxis\":{\"gridcolor\":\"white\",\"linecolor\":\"white\",\"ticks\":\"\"}},\"coloraxis\":{\"colorbar\":{\"outlinewidth\":0,\"ticks\":\"\"}},\"colorscale\":{\"sequential\":[[0.0,\"#0d0887\"],[0.1111111111111111,\"#46039f\"],[0.2222222222222222,\"#7201a8\"],[0.3333333333333333,\"#9c179e\"],[0.4444444444444444,\"#bd3786\"],[0.5555555555555556,\"#d8576b\"],[0.6666666666666666,\"#ed7953\"],[0.7777777777777778,\"#fb9f3a\"],[0.8888888888888888,\"#fdca26\"],[1.0,\"#f0f921\"]],\"sequentialminus\":[[0.0,\"#0d0887\"],[0.1111111111111111,\"#46039f\"],[0.2222222222222222,\"#7201a8\"],[0.3333333333333333,\"#9c179e\"],[0.4444444444444444,\"#bd3786\"],[0.5555555555555556,\"#d8576b\"],[0.6666666666666666,\"#ed7953\"],[0.7777777777777778,\"#fb9f3a\"],[0.8888888888888888,\"#fdca26\"],[1.0,\"#f0f921\"]],\"diverging\":[[0,\"#8e0152\"],[0.1,\"#c51b7d\"],[0.2,\"#de77ae\"],[0.3,\"#f1b6da\"],[0.4,\"#fde0ef\"],[0.5,\"#f7f7f7\"],[0.6,\"#e6f5d0\"],[0.7,\"#b8e186\"],[0.8,\"#7fbc41\"],[0.9,\"#4d9221\"],[1,\"#276419\"]]},\"xaxis\":{\"gridcolor\":\"white\",\"linecolor\":\"white\",\"ticks\":\"\",\"title\":{\"standoff\":15},\"zerolinecolor\":\"white\",\"automargin\":true,\"zerolinewidth\":2},\"yaxis\":{\"gridcolor\":\"white\",\"linecolor\":\"white\",\"ticks\":\"\",\"title\":{\"standoff\":15},\"zerolinecolor\":\"white\",\"automargin\":true,\"zerolinewidth\":2},\"scene\":{\"xaxis\":{\"backgroundcolor\":\"#E5ECF6\",\"gridcolor\":\"white\",\"linecolor\":\"white\",\"showbackground\":true,\"ticks\":\"\",\"zerolinecolor\":\"white\",\"gridwidth\":2},\"yaxis\":{\"backgroundcolor\":\"#E5ECF6\",\"gridcolor\":\"white\",\"linecolor\":\"white\",\"showbackground\":true,\"ticks\":\"\",\"zerolinecolor\":\"white\",\"gridwidth\":2},\"zaxis\":{\"backgroundcolor\":\"#E5ECF6\",\"gridcolor\":\"white\",\"linecolor\":\"white\",\"showbackground\":true,\"ticks\":\"\",\"zerolinecolor\":\"white\",\"gridwidth\":2}},\"shapedefaults\":{\"line\":{\"color\":\"#2a3f5f\"}},\"annotationdefaults\":{\"arrowcolor\":\"#2a3f5f\",\"arrowhead\":0,\"arrowwidth\":1},\"geo\":{\"bgcolor\":\"white\",\"landcolor\":\"#E5ECF6\",\"subunitcolor\":\"white\",\"showland\":true,\"showlakes\":true,\"lakecolor\":\"white\"},\"title\":{\"x\":0.05},\"mapbox\":{\"style\":\"light\"}}},\"yaxis\":{\"range\":[82.445,86.15899999999999]},\"xaxis\":{\"tickangle\":-45},\"barmode\":\"group\",\"title\":{\"font\":{\"family\":\"Arial, sans-serif\",\"size\":30},\"text\":\"<b>Qualifying Results</b>\",\"x\":0.5}},                        {\"responsive\": true}                    ).then(function(){\n",
       "                            \n",
       "var gd = document.getElementById('6cd268e0-3995-4b16-ab26-5bfd1a5c15cb');\n",
       "var x = new MutationObserver(function (mutations, observer) {{\n",
       "        var display = window.getComputedStyle(gd).display;\n",
       "        if (!display || display === 'none') {{\n",
       "            console.log([gd, 'removed!']);\n",
       "            Plotly.purge(gd);\n",
       "            observer.disconnect();\n",
       "        }}\n",
       "}});\n",
       "\n",
       "// Listen for the removal of the full notebook cells\n",
       "var notebookContainer = gd.closest('#notebook-container');\n",
       "if (notebookContainer) {{\n",
       "    x.observe(notebookContainer, {childList: true});\n",
       "}}\n",
       "\n",
       "// Listen for the clearing of the current output cell\n",
       "var outputEl = gd.closest('.output');\n",
       "if (outputEl) {{\n",
       "    x.observe(outputEl, {childList: true});\n",
       "}}\n",
       "\n",
       "                        })                };                });            </script>        </div>"
      ]
     },
     "metadata": {},
     "output_type": "display_data"
    }
   ],
   "source": [
    "fig = go.Figure(layout_yaxis_range=[min_time, max_time])\n",
    "fig.add_trace(go.Bar(\n",
    "    x=qualifying['Driver'],\n",
    "    y=qualifying['q1_dur'],\n",
    "    name='Q1',\n",
    "    marker_color='red'\n",
    "))\n",
    "fig.add_trace(go.Bar(\n",
    "    x=qualifying['Driver'],\n",
    "    y=qualifying['q2_dur'],\n",
    "    name='Q2',\n",
    "    marker_color='gold'\n",
    "))\n",
    "fig.add_trace(go.Bar(\n",
    "    x=qualifying['Driver'],\n",
    "    y=qualifying['q3_dur'],\n",
    "    name='Q3',\n",
    "    marker_color='orange'\n",
    "))\n",
    "\n",
    "fig.update_layout(barmode='group', xaxis_tickangle=-45)\n",
    "fig.update_layout(title_text='<b>Qualifying Results</b>', titlefont = dict(\n",
    "         family = 'Arial, sans-serif',\n",
    "         size = 30\n",
    "      ), title_x=0.5)\n",
    "fig.show()"
   ]
  },
  {
   "cell_type": "code",
   "execution_count": 18,
   "id": "c78caaad",
   "metadata": {
    "_kg_hide-input": true,
    "execution": {
     "iopub.execute_input": "2023-11-27T17:06:09.548596Z",
     "iopub.status.busy": "2023-11-27T17:06:09.547376Z",
     "iopub.status.idle": "2023-11-27T17:06:09.820332Z",
     "shell.execute_reply": "2023-11-27T17:06:09.818976Z"
    },
    "papermill": {
     "duration": 0.298199,
     "end_time": "2023-11-27T17:06:09.823430",
     "exception": false,
     "start_time": "2023-11-27T17:06:09.525231",
     "status": "completed"
    },
    "tags": []
   },
   "outputs": [
    {
     "data": {
      "text/html": [
       "<div>                            <div id=\"3d1f90fb-a18b-4985-8058-3382763581b8\" class=\"plotly-graph-div\" style=\"height:525px; width:100%;\"></div>            <script type=\"text/javascript\">                require([\"plotly\"], function(Plotly) {                    window.PLOTLYENV=window.PLOTLYENV || {};                                    if (document.getElementById(\"3d1f90fb-a18b-4985-8058-3382763581b8\")) {                    Plotly.newPlot(                        \"3d1f90fb-a18b-4985-8058-3382763581b8\",                        [{\"hovertemplate\":\"Driver=ALB<br>Lap (Start/Finish Only)=%{x}<br>Start Position=%{y}<extra></extra>\",\"legendgroup\":\"ALB\",\"line\":{\"color\":\"#00A0DE\",\"dash\":\"solid\"},\"marker\":{\"symbol\":\"circle\"},\"mode\":\"lines\",\"name\":\"ALB\",\"orientation\":\"v\",\"showlegend\":true,\"x\":[58,0],\"xaxis\":\"x\",\"y\":[14.0,14.0],\"yaxis\":\"y\",\"type\":\"scatter\"},{\"hovertemplate\":\"Driver=ALO<br>Lap (Start/Finish Only)=%{x}<br>Start Position=%{y}<extra></extra>\",\"legendgroup\":\"ALO\",\"line\":{\"color\":\"#002420\",\"dash\":\"solid\"},\"marker\":{\"symbol\":\"circle\"},\"mode\":\"lines\",\"name\":\"ALO\",\"orientation\":\"v\",\"showlegend\":true,\"x\":[0,58],\"xaxis\":\"x\",\"y\":[7.0,7.0],\"yaxis\":\"y\",\"type\":\"scatter\"},{\"hovertemplate\":\"Driver=BOT<br>Lap (Start/Finish Only)=%{x}<br>Start Position=%{y}<extra></extra>\",\"legendgroup\":\"BOT\",\"line\":{\"color\":\"#A42134\",\"dash\":\"solid\"},\"marker\":{\"symbol\":\"circle\"},\"mode\":\"lines\",\"name\":\"BOT\",\"orientation\":\"v\",\"showlegend\":true,\"x\":[57,0],\"xaxis\":\"x\",\"y\":[19.0,18.0],\"yaxis\":\"y\",\"type\":\"scatter\"},{\"hovertemplate\":\"Driver=GAS<br>Lap (Start/Finish Only)=%{x}<br>Start Position=%{y}<extra></extra>\",\"legendgroup\":\"GAS\",\"line\":{\"color\":\"#2173B8\",\"dash\":\"solid\"},\"marker\":{\"symbol\":\"circle\"},\"mode\":\"lines\",\"name\":\"GAS\",\"orientation\":\"v\",\"showlegend\":true,\"x\":[58,0],\"xaxis\":\"x\",\"y\":[13.0,10.0],\"yaxis\":\"y\",\"type\":\"scatter\"},{\"hovertemplate\":\"Driver=HAM<br>Lap (Start/Finish Only)=%{x}<br>Start Position=%{y}<extra></extra>\",\"legendgroup\":\"HAM\",\"line\":{\"color\":\"#00A19B\",\"dash\":\"solid\"},\"marker\":{\"symbol\":\"circle\"},\"mode\":\"lines\",\"name\":\"HAM\",\"orientation\":\"v\",\"showlegend\":true,\"x\":[58,0],\"xaxis\":\"x\",\"y\":[9.0,11.0],\"yaxis\":\"y\",\"type\":\"scatter\"},{\"hovertemplate\":\"Driver=HUL<br>Lap (Start/Finish Only)=%{x}<br>Start Position=%{y}<extra></extra>\",\"legendgroup\":\"HUL\",\"line\":{\"color\":\"#E6002B\",\"dash\":\"solid\"},\"marker\":{\"symbol\":\"circle\"},\"mode\":\"lines\",\"name\":\"HUL\",\"orientation\":\"v\",\"showlegend\":true,\"x\":[58,0],\"xaxis\":\"x\",\"y\":[15.0,8.0],\"yaxis\":\"y\",\"type\":\"scatter\"},{\"hovertemplate\":\"Driver=LEC<br>Lap (Start/Finish Only)=%{x}<br>Start Position=%{y}<extra></extra>\",\"legendgroup\":\"LEC\",\"line\":{\"color\":\"#EF1A2D\",\"dash\":\"solid\"},\"marker\":{\"symbol\":\"circle\"},\"mode\":\"lines\",\"name\":\"LEC\",\"orientation\":\"v\",\"showlegend\":true,\"x\":[0,58],\"xaxis\":\"x\",\"y\":[2.0,2.0],\"yaxis\":\"y\",\"type\":\"scatter\"},{\"hovertemplate\":\"Driver=MAG<br>Lap (Start/Finish Only)=%{x}<br>Start Position=%{y}<extra></extra>\",\"legendgroup\":\"MAG\",\"line\":{\"color\":\"#E6002B\",\"dash\":\"solid\"},\"marker\":{\"symbol\":\"circle\"},\"mode\":\"lines\",\"name\":\"MAG\",\"orientation\":\"v\",\"showlegend\":true,\"x\":[0,57],\"xaxis\":\"x\",\"y\":[17.0,20.0],\"yaxis\":\"y\",\"type\":\"scatter\"},{\"hovertemplate\":\"Driver=NOR<br>Lap (Start/Finish Only)=%{x}<br>Start Position=%{y}<extra></extra>\",\"legendgroup\":\"NOR\",\"line\":{\"color\":\"#FF8000\",\"dash\":\"solid\"},\"marker\":{\"symbol\":\"circle\"},\"mode\":\"lines\",\"name\":\"NOR\",\"orientation\":\"v\",\"showlegend\":true,\"x\":[58,0],\"xaxis\":\"x\",\"y\":[5.0,5.0],\"yaxis\":\"y\",\"type\":\"scatter\"},{\"hovertemplate\":\"Driver=OCO<br>Lap (Start/Finish Only)=%{x}<br>Start Position=%{y}<extra></extra>\",\"legendgroup\":\"OCO\",\"line\":{\"color\":\"#2173B8\",\"dash\":\"solid\"},\"marker\":{\"symbol\":\"circle\"},\"mode\":\"lines\",\"name\":\"OCO\",\"orientation\":\"v\",\"showlegend\":true,\"x\":[0,58],\"xaxis\":\"x\",\"y\":[12.0,12.0],\"yaxis\":\"y\",\"type\":\"scatter\"},{\"hovertemplate\":\"Driver=PER<br>Lap (Start/Finish Only)=%{x}<br>Start Position=%{y}<extra></extra>\",\"legendgroup\":\"PER\",\"line\":{\"color\":\"#000B8D\",\"dash\":\"solid\"},\"marker\":{\"symbol\":\"circle\"},\"mode\":\"lines\",\"name\":\"PER\",\"orientation\":\"v\",\"showlegend\":true,\"x\":[0,58],\"xaxis\":\"x\",\"y\":[9.0,4.0],\"yaxis\":\"y\",\"type\":\"scatter\"},{\"hovertemplate\":\"Driver=PIA<br>Lap (Start/Finish Only)=%{x}<br>Start Position=%{y}<extra></extra>\",\"legendgroup\":\"PIA\",\"line\":{\"color\":\"#FF8000\",\"dash\":\"solid\"},\"marker\":{\"symbol\":\"circle\"},\"mode\":\"lines\",\"name\":\"PIA\",\"orientation\":\"v\",\"showlegend\":true,\"x\":[58,0],\"xaxis\":\"x\",\"y\":[6.0,3.0],\"yaxis\":\"y\",\"type\":\"scatter\"},{\"hovertemplate\":\"Driver=RIC<br>Lap (Start/Finish Only)=%{x}<br>Start Position=%{y}<extra></extra>\",\"legendgroup\":\"RIC\",\"line\":{\"color\":\"#20394C\",\"dash\":\"solid\"},\"marker\":{\"symbol\":\"circle\"},\"mode\":\"lines\",\"name\":\"RIC\",\"orientation\":\"v\",\"showlegend\":true,\"x\":[0,58],\"xaxis\":\"x\",\"y\":[15.0,11.0],\"yaxis\":\"y\",\"type\":\"scatter\"},{\"hovertemplate\":\"Driver=RUS<br>Lap (Start/Finish Only)=%{x}<br>Start Position=%{y}<extra></extra>\",\"legendgroup\":\"RUS\",\"line\":{\"color\":\"#00A19B\",\"dash\":\"solid\"},\"marker\":{\"symbol\":\"circle\"},\"mode\":\"lines\",\"name\":\"RUS\",\"orientation\":\"v\",\"showlegend\":true,\"x\":[58,0],\"xaxis\":\"x\",\"y\":[3.0,4.0],\"yaxis\":\"y\",\"type\":\"scatter\"},{\"hovertemplate\":\"Driver=SAI<br>Lap (Start/Finish Only)=%{x}<br>Start Position=%{y}<extra></extra>\",\"legendgroup\":\"SAI\",\"line\":{\"color\":\"#EF1A2D\",\"dash\":\"solid\"},\"marker\":{\"symbol\":\"circle\"},\"mode\":\"lines\",\"name\":\"SAI\",\"orientation\":\"v\",\"showlegend\":true,\"x\":[0,57],\"xaxis\":\"x\",\"y\":[16.0,18.0],\"yaxis\":\"y\",\"type\":\"scatter\"},{\"hovertemplate\":\"Driver=SAR<br>Lap (Start/Finish Only)=%{x}<br>Start Position=%{y}<extra></extra>\",\"legendgroup\":\"SAR\",\"line\":{\"color\":\"#00A0DE\",\"dash\":\"solid\"},\"marker\":{\"symbol\":\"circle\"},\"mode\":\"lines\",\"name\":\"SAR\",\"orientation\":\"v\",\"showlegend\":true,\"x\":[58,0],\"xaxis\":\"x\",\"y\":[16.0,20.0],\"yaxis\":\"y\",\"type\":\"scatter\"},{\"hovertemplate\":\"Driver=STR<br>Lap (Start/Finish Only)=%{x}<br>Start Position=%{y}<extra></extra>\",\"legendgroup\":\"STR\",\"line\":{\"color\":\"#002420\",\"dash\":\"solid\"},\"marker\":{\"symbol\":\"circle\"},\"mode\":\"lines\",\"name\":\"STR\",\"orientation\":\"v\",\"showlegend\":true,\"x\":[0,58],\"xaxis\":\"x\",\"y\":[13.0,10.0],\"yaxis\":\"y\",\"type\":\"scatter\"},{\"hovertemplate\":\"Driver=TSU<br>Lap (Start/Finish Only)=%{x}<br>Start Position=%{y}<extra></extra>\",\"legendgroup\":\"TSU\",\"line\":{\"color\":\"#20394C\",\"dash\":\"solid\"},\"marker\":{\"symbol\":\"circle\"},\"mode\":\"lines\",\"name\":\"TSU\",\"orientation\":\"v\",\"showlegend\":true,\"x\":[0,58],\"xaxis\":\"x\",\"y\":[6.0,8.0],\"yaxis\":\"y\",\"type\":\"scatter\"},{\"hovertemplate\":\"Driver=VER<br>Lap (Start/Finish Only)=%{x}<br>Start Position=%{y}<extra></extra>\",\"legendgroup\":\"VER\",\"line\":{\"color\":\"#000B8D\",\"dash\":\"solid\"},\"marker\":{\"symbol\":\"circle\"},\"mode\":\"lines\",\"name\":\"VER\",\"orientation\":\"v\",\"showlegend\":true,\"x\":[0,58],\"xaxis\":\"x\",\"y\":[1.0,1.0],\"yaxis\":\"y\",\"type\":\"scatter\"},{\"hovertemplate\":\"Driver=ZHO<br>Lap (Start/Finish Only)=%{x}<br>Start Position=%{y}<extra></extra>\",\"legendgroup\":\"ZHO\",\"line\":{\"color\":\"#A42134\",\"dash\":\"solid\"},\"marker\":{\"symbol\":\"circle\"},\"mode\":\"lines\",\"name\":\"ZHO\",\"orientation\":\"v\",\"showlegend\":true,\"x\":[58,0],\"xaxis\":\"x\",\"y\":[17.0,19.0],\"yaxis\":\"y\",\"type\":\"scatter\"}],                        {\"template\":{\"data\":{\"histogram2dcontour\":[{\"type\":\"histogram2dcontour\",\"colorbar\":{\"outlinewidth\":0,\"ticks\":\"\"},\"colorscale\":[[0.0,\"#0d0887\"],[0.1111111111111111,\"#46039f\"],[0.2222222222222222,\"#7201a8\"],[0.3333333333333333,\"#9c179e\"],[0.4444444444444444,\"#bd3786\"],[0.5555555555555556,\"#d8576b\"],[0.6666666666666666,\"#ed7953\"],[0.7777777777777778,\"#fb9f3a\"],[0.8888888888888888,\"#fdca26\"],[1.0,\"#f0f921\"]]}],\"choropleth\":[{\"type\":\"choropleth\",\"colorbar\":{\"outlinewidth\":0,\"ticks\":\"\"}}],\"histogram2d\":[{\"type\":\"histogram2d\",\"colorbar\":{\"outlinewidth\":0,\"ticks\":\"\"},\"colorscale\":[[0.0,\"#0d0887\"],[0.1111111111111111,\"#46039f\"],[0.2222222222222222,\"#7201a8\"],[0.3333333333333333,\"#9c179e\"],[0.4444444444444444,\"#bd3786\"],[0.5555555555555556,\"#d8576b\"],[0.6666666666666666,\"#ed7953\"],[0.7777777777777778,\"#fb9f3a\"],[0.8888888888888888,\"#fdca26\"],[1.0,\"#f0f921\"]]}],\"heatmap\":[{\"type\":\"heatmap\",\"colorbar\":{\"outlinewidth\":0,\"ticks\":\"\"},\"colorscale\":[[0.0,\"#0d0887\"],[0.1111111111111111,\"#46039f\"],[0.2222222222222222,\"#7201a8\"],[0.3333333333333333,\"#9c179e\"],[0.4444444444444444,\"#bd3786\"],[0.5555555555555556,\"#d8576b\"],[0.6666666666666666,\"#ed7953\"],[0.7777777777777778,\"#fb9f3a\"],[0.8888888888888888,\"#fdca26\"],[1.0,\"#f0f921\"]]}],\"heatmapgl\":[{\"type\":\"heatmapgl\",\"colorbar\":{\"outlinewidth\":0,\"ticks\":\"\"},\"colorscale\":[[0.0,\"#0d0887\"],[0.1111111111111111,\"#46039f\"],[0.2222222222222222,\"#7201a8\"],[0.3333333333333333,\"#9c179e\"],[0.4444444444444444,\"#bd3786\"],[0.5555555555555556,\"#d8576b\"],[0.6666666666666666,\"#ed7953\"],[0.7777777777777778,\"#fb9f3a\"],[0.8888888888888888,\"#fdca26\"],[1.0,\"#f0f921\"]]}],\"contourcarpet\":[{\"type\":\"contourcarpet\",\"colorbar\":{\"outlinewidth\":0,\"ticks\":\"\"}}],\"contour\":[{\"type\":\"contour\",\"colorbar\":{\"outlinewidth\":0,\"ticks\":\"\"},\"colorscale\":[[0.0,\"#0d0887\"],[0.1111111111111111,\"#46039f\"],[0.2222222222222222,\"#7201a8\"],[0.3333333333333333,\"#9c179e\"],[0.4444444444444444,\"#bd3786\"],[0.5555555555555556,\"#d8576b\"],[0.6666666666666666,\"#ed7953\"],[0.7777777777777778,\"#fb9f3a\"],[0.8888888888888888,\"#fdca26\"],[1.0,\"#f0f921\"]]}],\"surface\":[{\"type\":\"surface\",\"colorbar\":{\"outlinewidth\":0,\"ticks\":\"\"},\"colorscale\":[[0.0,\"#0d0887\"],[0.1111111111111111,\"#46039f\"],[0.2222222222222222,\"#7201a8\"],[0.3333333333333333,\"#9c179e\"],[0.4444444444444444,\"#bd3786\"],[0.5555555555555556,\"#d8576b\"],[0.6666666666666666,\"#ed7953\"],[0.7777777777777778,\"#fb9f3a\"],[0.8888888888888888,\"#fdca26\"],[1.0,\"#f0f921\"]]}],\"mesh3d\":[{\"type\":\"mesh3d\",\"colorbar\":{\"outlinewidth\":0,\"ticks\":\"\"}}],\"scatter\":[{\"fillpattern\":{\"fillmode\":\"overlay\",\"size\":10,\"solidity\":0.2},\"type\":\"scatter\"}],\"parcoords\":[{\"type\":\"parcoords\",\"line\":{\"colorbar\":{\"outlinewidth\":0,\"ticks\":\"\"}}}],\"scatterpolargl\":[{\"type\":\"scatterpolargl\",\"marker\":{\"colorbar\":{\"outlinewidth\":0,\"ticks\":\"\"}}}],\"bar\":[{\"error_x\":{\"color\":\"#2a3f5f\"},\"error_y\":{\"color\":\"#2a3f5f\"},\"marker\":{\"line\":{\"color\":\"#E5ECF6\",\"width\":0.5},\"pattern\":{\"fillmode\":\"overlay\",\"size\":10,\"solidity\":0.2}},\"type\":\"bar\"}],\"scattergeo\":[{\"type\":\"scattergeo\",\"marker\":{\"colorbar\":{\"outlinewidth\":0,\"ticks\":\"\"}}}],\"scatterpolar\":[{\"type\":\"scatterpolar\",\"marker\":{\"colorbar\":{\"outlinewidth\":0,\"ticks\":\"\"}}}],\"histogram\":[{\"marker\":{\"pattern\":{\"fillmode\":\"overlay\",\"size\":10,\"solidity\":0.2}},\"type\":\"histogram\"}],\"scattergl\":[{\"type\":\"scattergl\",\"marker\":{\"colorbar\":{\"outlinewidth\":0,\"ticks\":\"\"}}}],\"scatter3d\":[{\"type\":\"scatter3d\",\"line\":{\"colorbar\":{\"outlinewidth\":0,\"ticks\":\"\"}},\"marker\":{\"colorbar\":{\"outlinewidth\":0,\"ticks\":\"\"}}}],\"scattermapbox\":[{\"type\":\"scattermapbox\",\"marker\":{\"colorbar\":{\"outlinewidth\":0,\"ticks\":\"\"}}}],\"scatterternary\":[{\"type\":\"scatterternary\",\"marker\":{\"colorbar\":{\"outlinewidth\":0,\"ticks\":\"\"}}}],\"scattercarpet\":[{\"type\":\"scattercarpet\",\"marker\":{\"colorbar\":{\"outlinewidth\":0,\"ticks\":\"\"}}}],\"carpet\":[{\"aaxis\":{\"endlinecolor\":\"#2a3f5f\",\"gridcolor\":\"white\",\"linecolor\":\"white\",\"minorgridcolor\":\"white\",\"startlinecolor\":\"#2a3f5f\"},\"baxis\":{\"endlinecolor\":\"#2a3f5f\",\"gridcolor\":\"white\",\"linecolor\":\"white\",\"minorgridcolor\":\"white\",\"startlinecolor\":\"#2a3f5f\"},\"type\":\"carpet\"}],\"table\":[{\"cells\":{\"fill\":{\"color\":\"#EBF0F8\"},\"line\":{\"color\":\"white\"}},\"header\":{\"fill\":{\"color\":\"#C8D4E3\"},\"line\":{\"color\":\"white\"}},\"type\":\"table\"}],\"barpolar\":[{\"marker\":{\"line\":{\"color\":\"#E5ECF6\",\"width\":0.5},\"pattern\":{\"fillmode\":\"overlay\",\"size\":10,\"solidity\":0.2}},\"type\":\"barpolar\"}],\"pie\":[{\"automargin\":true,\"type\":\"pie\"}]},\"layout\":{\"autotypenumbers\":\"strict\",\"colorway\":[\"#636efa\",\"#EF553B\",\"#00cc96\",\"#ab63fa\",\"#FFA15A\",\"#19d3f3\",\"#FF6692\",\"#B6E880\",\"#FF97FF\",\"#FECB52\"],\"font\":{\"color\":\"#2a3f5f\"},\"hovermode\":\"closest\",\"hoverlabel\":{\"align\":\"left\"},\"paper_bgcolor\":\"white\",\"plot_bgcolor\":\"#E5ECF6\",\"polar\":{\"bgcolor\":\"#E5ECF6\",\"angularaxis\":{\"gridcolor\":\"white\",\"linecolor\":\"white\",\"ticks\":\"\"},\"radialaxis\":{\"gridcolor\":\"white\",\"linecolor\":\"white\",\"ticks\":\"\"}},\"ternary\":{\"bgcolor\":\"#E5ECF6\",\"aaxis\":{\"gridcolor\":\"white\",\"linecolor\":\"white\",\"ticks\":\"\"},\"baxis\":{\"gridcolor\":\"white\",\"linecolor\":\"white\",\"ticks\":\"\"},\"caxis\":{\"gridcolor\":\"white\",\"linecolor\":\"white\",\"ticks\":\"\"}},\"coloraxis\":{\"colorbar\":{\"outlinewidth\":0,\"ticks\":\"\"}},\"colorscale\":{\"sequential\":[[0.0,\"#0d0887\"],[0.1111111111111111,\"#46039f\"],[0.2222222222222222,\"#7201a8\"],[0.3333333333333333,\"#9c179e\"],[0.4444444444444444,\"#bd3786\"],[0.5555555555555556,\"#d8576b\"],[0.6666666666666666,\"#ed7953\"],[0.7777777777777778,\"#fb9f3a\"],[0.8888888888888888,\"#fdca26\"],[1.0,\"#f0f921\"]],\"sequentialminus\":[[0.0,\"#0d0887\"],[0.1111111111111111,\"#46039f\"],[0.2222222222222222,\"#7201a8\"],[0.3333333333333333,\"#9c179e\"],[0.4444444444444444,\"#bd3786\"],[0.5555555555555556,\"#d8576b\"],[0.6666666666666666,\"#ed7953\"],[0.7777777777777778,\"#fb9f3a\"],[0.8888888888888888,\"#fdca26\"],[1.0,\"#f0f921\"]],\"diverging\":[[0,\"#8e0152\"],[0.1,\"#c51b7d\"],[0.2,\"#de77ae\"],[0.3,\"#f1b6da\"],[0.4,\"#fde0ef\"],[0.5,\"#f7f7f7\"],[0.6,\"#e6f5d0\"],[0.7,\"#b8e186\"],[0.8,\"#7fbc41\"],[0.9,\"#4d9221\"],[1,\"#276419\"]]},\"xaxis\":{\"gridcolor\":\"white\",\"linecolor\":\"white\",\"ticks\":\"\",\"title\":{\"standoff\":15},\"zerolinecolor\":\"white\",\"automargin\":true,\"zerolinewidth\":2},\"yaxis\":{\"gridcolor\":\"white\",\"linecolor\":\"white\",\"ticks\":\"\",\"title\":{\"standoff\":15},\"zerolinecolor\":\"white\",\"automargin\":true,\"zerolinewidth\":2},\"scene\":{\"xaxis\":{\"backgroundcolor\":\"#E5ECF6\",\"gridcolor\":\"white\",\"linecolor\":\"white\",\"showbackground\":true,\"ticks\":\"\",\"zerolinecolor\":\"white\",\"gridwidth\":2},\"yaxis\":{\"backgroundcolor\":\"#E5ECF6\",\"gridcolor\":\"white\",\"linecolor\":\"white\",\"showbackground\":true,\"ticks\":\"\",\"zerolinecolor\":\"white\",\"gridwidth\":2},\"zaxis\":{\"backgroundcolor\":\"#E5ECF6\",\"gridcolor\":\"white\",\"linecolor\":\"white\",\"showbackground\":true,\"ticks\":\"\",\"zerolinecolor\":\"white\",\"gridwidth\":2}},\"shapedefaults\":{\"line\":{\"color\":\"#2a3f5f\"}},\"annotationdefaults\":{\"arrowcolor\":\"#2a3f5f\",\"arrowhead\":0,\"arrowwidth\":1},\"geo\":{\"bgcolor\":\"white\",\"landcolor\":\"#E5ECF6\",\"subunitcolor\":\"white\",\"showland\":true,\"showlakes\":true,\"lakecolor\":\"white\"},\"title\":{\"x\":0.05},\"mapbox\":{\"style\":\"light\"}}},\"xaxis\":{\"anchor\":\"y\",\"domain\":[0.0,1.0],\"title\":{\"text\":\"Lap (Start/Finish Only)\"}},\"yaxis\":{\"anchor\":\"x\",\"domain\":[0.0,1.0],\"title\":{\"text\":\"Start Position\"}},\"legend\":{\"title\":{\"text\":\"Driver\"},\"tracegroupgap\":0},\"title\":{\"text\":\"<b>Qualifying To Finish</b>\",\"font\":{\"family\":\"Arial, sans-serif\",\"size\":30},\"x\":0.5},\"updatemenus\":[{\"active\":0,\"buttons\":[{\"args\":[{\"visible\":[true,true,true,true,true,true,true,true,true,true,true,true,true,true,true,true,true,true,true,true],\"title\":\"All\",\"showlegend\":true}],\"label\":\"All\",\"method\":\"update\"},{\"args\":[{\"visible\":[true,false,false,false,false,false,false,false,false,false,false,false,false,false,false,false,false,false,false,false],\"title\":\"ALB\",\"showlegend\":true}],\"label\":\"ALB\",\"method\":\"update\"},{\"args\":[{\"visible\":[false,true,false,false,false,false,false,false,false,false,false,false,false,false,false,false,false,false,false,false],\"title\":\"ALO\",\"showlegend\":true}],\"label\":\"ALO\",\"method\":\"update\"},{\"args\":[{\"visible\":[false,false,true,false,false,false,false,false,false,false,false,false,false,false,false,false,false,false,false,false],\"title\":\"BOT\",\"showlegend\":true}],\"label\":\"BOT\",\"method\":\"update\"},{\"args\":[{\"visible\":[false,false,false,true,false,false,false,false,false,false,false,false,false,false,false,false,false,false,false,false],\"title\":\"GAS\",\"showlegend\":true}],\"label\":\"GAS\",\"method\":\"update\"},{\"args\":[{\"visible\":[false,false,false,false,true,false,false,false,false,false,false,false,false,false,false,false,false,false,false,false],\"title\":\"HAM\",\"showlegend\":true}],\"label\":\"HAM\",\"method\":\"update\"},{\"args\":[{\"visible\":[false,false,false,false,false,true,false,false,false,false,false,false,false,false,false,false,false,false,false,false],\"title\":\"HUL\",\"showlegend\":true}],\"label\":\"HUL\",\"method\":\"update\"},{\"args\":[{\"visible\":[false,false,false,false,false,false,true,false,false,false,false,false,false,false,false,false,false,false,false,false],\"title\":\"LEC\",\"showlegend\":true}],\"label\":\"LEC\",\"method\":\"update\"},{\"args\":[{\"visible\":[false,false,false,false,false,false,false,true,false,false,false,false,false,false,false,false,false,false,false,false],\"title\":\"MAG\",\"showlegend\":true}],\"label\":\"MAG\",\"method\":\"update\"},{\"args\":[{\"visible\":[false,false,false,false,false,false,false,false,true,false,false,false,false,false,false,false,false,false,false,false],\"title\":\"NOR\",\"showlegend\":true}],\"label\":\"NOR\",\"method\":\"update\"},{\"args\":[{\"visible\":[false,false,false,false,false,false,false,false,false,true,false,false,false,false,false,false,false,false,false,false],\"title\":\"OCO\",\"showlegend\":true}],\"label\":\"OCO\",\"method\":\"update\"},{\"args\":[{\"visible\":[false,false,false,false,false,false,false,false,false,false,true,false,false,false,false,false,false,false,false,false],\"title\":\"PER\",\"showlegend\":true}],\"label\":\"PER\",\"method\":\"update\"},{\"args\":[{\"visible\":[false,false,false,false,false,false,false,false,false,false,false,true,false,false,false,false,false,false,false,false],\"title\":\"PIA\",\"showlegend\":true}],\"label\":\"PIA\",\"method\":\"update\"},{\"args\":[{\"visible\":[false,false,false,false,false,false,false,false,false,false,false,false,true,false,false,false,false,false,false,false],\"title\":\"RIC\",\"showlegend\":true}],\"label\":\"RIC\",\"method\":\"update\"},{\"args\":[{\"visible\":[false,false,false,false,false,false,false,false,false,false,false,false,false,true,false,false,false,false,false,false],\"title\":\"RUS\",\"showlegend\":true}],\"label\":\"RUS\",\"method\":\"update\"},{\"args\":[{\"visible\":[false,false,false,false,false,false,false,false,false,false,false,false,false,false,true,false,false,false,false,false],\"title\":\"SAI\",\"showlegend\":true}],\"label\":\"SAI\",\"method\":\"update\"},{\"args\":[{\"visible\":[false,false,false,false,false,false,false,false,false,false,false,false,false,false,false,true,false,false,false,false],\"title\":\"SAR\",\"showlegend\":true}],\"label\":\"SAR\",\"method\":\"update\"},{\"args\":[{\"visible\":[false,false,false,false,false,false,false,false,false,false,false,false,false,false,false,false,true,false,false,false],\"title\":\"STR\",\"showlegend\":true}],\"label\":\"STR\",\"method\":\"update\"},{\"args\":[{\"visible\":[false,false,false,false,false,false,false,false,false,false,false,false,false,false,false,false,false,true,false,false],\"title\":\"TSU\",\"showlegend\":true}],\"label\":\"TSU\",\"method\":\"update\"},{\"args\":[{\"visible\":[false,false,false,false,false,false,false,false,false,false,false,false,false,false,false,false,false,false,true,false],\"title\":\"VER\",\"showlegend\":true}],\"label\":\"VER\",\"method\":\"update\"},{\"args\":[{\"visible\":[false,false,false,false,false,false,false,false,false,false,false,false,false,false,false,false,false,false,false,true],\"title\":\"ZHO\",\"showlegend\":true}],\"label\":\"ZHO\",\"method\":\"update\"}]}]},                        {\"responsive\": true}                    ).then(function(){\n",
       "                            \n",
       "var gd = document.getElementById('3d1f90fb-a18b-4985-8058-3382763581b8');\n",
       "var x = new MutationObserver(function (mutations, observer) {{\n",
       "        var display = window.getComputedStyle(gd).display;\n",
       "        if (!display || display === 'none') {{\n",
       "            console.log([gd, 'removed!']);\n",
       "            Plotly.purge(gd);\n",
       "            observer.disconnect();\n",
       "        }}\n",
       "}});\n",
       "\n",
       "// Listen for the removal of the full notebook cells\n",
       "var notebookContainer = gd.closest('#notebook-container');\n",
       "if (notebookContainer) {{\n",
       "    x.observe(notebookContainer, {childList: true});\n",
       "}}\n",
       "\n",
       "// Listen for the clearing of the current output cell\n",
       "var outputEl = gd.closest('.output');\n",
       "if (outputEl) {{\n",
       "    x.observe(outputEl, {childList: true});\n",
       "}}\n",
       "\n",
       "                        })                };                });            </script>        </div>"
      ]
     },
     "metadata": {},
     "output_type": "display_data"
    }
   ],
   "source": [
    "def multi_st_fin_plot(names, addAll = True):\n",
    "    fig = go.Figure()\n",
    "    \n",
    "    lap_driver_sf = reduced_res[(reduced_res['laps'] == 0) | (reduced_res['laps'] == num_laps) | (reduced_res['last_lap'] == 1)].copy()\n",
    "    lap_driver_sf['position'] = lap_driver_sf['position'].astype(float)\n",
    "    lap_driver_sf = lap_driver_sf.sort_values(by=['Driver'])\n",
    "\n",
    "    df = px.data.gapminder().query(\"continent=='Oceania'\")\n",
    "    fig = px.line(lap_driver_sf, x=\"laps\", y=\"position\", color='Driver', color_discrete_map=color_map, title=\"Qualifying to Finish\", labels={\n",
    "    \"position\": \"Start Position\",\n",
    "    \"laps\":\"Lap (Start/Finish Only)\"\n",
    "    })\n",
    "    fig.update_layout(title_text='<b>Qualifying To Finish</b>', titlefont = dict(\n",
    "         family = 'Arial, sans-serif',\n",
    "         size = 30\n",
    "      ), title_x=0.5)\n",
    "\n",
    "\n",
    "    button_all = dict(label = 'All',\n",
    "                      method = 'update',\n",
    "                      args = [{'visible': [True]*len(names),\n",
    "                               'title': 'All',\n",
    "                               'showlegend':True}])\n",
    "\n",
    "    def create_layout_button(column):\n",
    "        return dict(label = column,\n",
    "                    method = 'update',\n",
    "                    args = [{'visible': [c == column for c in names],\n",
    "                             'title': column,\n",
    "                             'showlegend': True}])\n",
    "\n",
    "    fig.update_layout(\n",
    "        updatemenus=[go.layout.Updatemenu(\n",
    "            active = 0,\n",
    "            buttons = ([button_all] * addAll) + [create_layout_button(column) for column in names]\n",
    "            )\n",
    "        ])\n",
    "    \n",
    "    fig.show()\n",
    "    \n",
    "mapping = list(color_map.keys())\n",
    "mapping.sort()\n",
    "multi_st_fin_plot(mapping)"
   ]
  },
  {
   "cell_type": "code",
   "execution_count": 19,
   "id": "287fabdb",
   "metadata": {
    "_kg_hide-input": true,
    "execution": {
     "iopub.execute_input": "2023-11-27T17:06:09.867395Z",
     "iopub.status.busy": "2023-11-27T17:06:09.866598Z",
     "iopub.status.idle": "2023-11-27T17:06:09.871836Z",
     "shell.execute_reply": "2023-11-27T17:06:09.870794Z"
    },
    "papermill": {
     "duration": 0.030376,
     "end_time": "2023-11-27T17:06:09.874592",
     "exception": false,
     "start_time": "2023-11-27T17:06:09.844216",
     "status": "completed"
    },
    "tags": []
   },
   "outputs": [],
   "source": [
    "if not  SPRINT_EMPTY:\n",
    "    display(md(f\"# <div style='background:#FF1801; border:0; color:black; box-shadow: 10px 10px 5px 0px rgba(0,0,0,0.75); transform: rotateX(10deg);'><h1 style='padding: 10px; margin: 0; text-align:center;'><span style='font-size: 30px;'>Sprint Results</span></h1></div>\"))"
   ]
  },
  {
   "cell_type": "code",
   "execution_count": 20,
   "id": "f03facbf",
   "metadata": {
    "_kg_hide-input": true,
    "execution": {
     "iopub.execute_input": "2023-11-27T17:06:09.918700Z",
     "iopub.status.busy": "2023-11-27T17:06:09.917576Z",
     "iopub.status.idle": "2023-11-27T17:06:09.923271Z",
     "shell.execute_reply": "2023-11-27T17:06:09.922307Z"
    },
    "papermill": {
     "duration": 0.030069,
     "end_time": "2023-11-27T17:06:09.925807",
     "exception": false,
     "start_time": "2023-11-27T17:06:09.895738",
     "status": "completed"
    },
    "tags": []
   },
   "outputs": [],
   "source": [
    "if not SPRINT_EMPTY:\n",
    "    display(sprint_results[['Driver', 'grid', 'position', 'points', 'status']].style.pipe(sprint_results_style))"
   ]
  },
  {
   "cell_type": "code",
   "execution_count": 21,
   "id": "1da87f90",
   "metadata": {
    "_kg_hide-input": true,
    "execution": {
     "iopub.execute_input": "2023-11-27T17:06:09.969889Z",
     "iopub.status.busy": "2023-11-27T17:06:09.969441Z",
     "iopub.status.idle": "2023-11-27T17:06:09.985879Z",
     "shell.execute_reply": "2023-11-27T17:06:09.984513Z"
    },
    "papermill": {
     "duration": 0.041225,
     "end_time": "2023-11-27T17:06:09.988643",
     "exception": false,
     "start_time": "2023-11-27T17:06:09.947418",
     "status": "completed"
    },
    "tags": []
   },
   "outputs": [],
   "source": [
    "def multi_st_fin_spr_plot(names, addAll = True):\n",
    "    fig = go.Figure()\n",
    "    \n",
    "    lap_driver_sf = sp_reduced_res[(sp_reduced_res['laps'] == 0) | (sp_reduced_res['laps'] == num_sprint_laps) | (sp_reduced_res['last_lap'] == 1)].copy()\n",
    "    lap_driver_sf['position'] = lap_driver_sf['position'].astype(float)\n",
    "    lap_driver_sf = lap_driver_sf.sort_values(by=['Driver'])\n",
    "\n",
    "    df = px.data.gapminder().query(\"continent=='Oceania'\")\n",
    "    fig = px.line(lap_driver_sf, x=\"laps\", y=\"position\", color='Driver', color_discrete_map=color_map, title=\"Qualifying to Sprint Finish\", labels={\n",
    "    \"position\": \"Start Position\",\n",
    "    \"laps\":\"Lap (Start/Finish Only)\"\n",
    "    })\n",
    "    fig.update_layout(title_text='<b>Qualifying To Sprint Finish</b>', titlefont = dict(\n",
    "         family = 'Arial, sans-serif',\n",
    "         size = 30\n",
    "      ), title_x=0.5)\n",
    "\n",
    "\n",
    "    button_all = dict(label = 'All',\n",
    "                      method = 'update',\n",
    "                      args = [{'visible': [True]*len(names),\n",
    "                               'title': 'All',\n",
    "                               'showlegend':True}])\n",
    "\n",
    "    def create_layout_button(column):\n",
    "        return dict(label = column,\n",
    "                    method = 'update',\n",
    "                    args = [{'visible': [c == column for c in names],\n",
    "                             'title': column,\n",
    "                             'showlegend': True}])\n",
    "\n",
    "    fig.update_layout(\n",
    "        updatemenus=[go.layout.Updatemenu(\n",
    "            active = 0,\n",
    "            buttons = ([button_all] * addAll) + [create_layout_button(column) for column in names]\n",
    "            )\n",
    "        ])\n",
    "    \n",
    "    fig.show()\n",
    "if not SPRINT_EMPTY:\n",
    "    mapping = list(color_map.keys())\n",
    "    mapping.sort()\n",
    "    multi_st_fin_spr_plot(mapping)"
   ]
  },
  {
   "cell_type": "code",
   "execution_count": 22,
   "id": "3ba082cb",
   "metadata": {
    "_kg_hide-input": true,
    "execution": {
     "iopub.execute_input": "2023-11-27T17:06:10.031678Z",
     "iopub.status.busy": "2023-11-27T17:06:10.030850Z",
     "iopub.status.idle": "2023-11-27T17:06:10.039306Z",
     "shell.execute_reply": "2023-11-27T17:06:10.037919Z"
    },
    "papermill": {
     "duration": 0.03318,
     "end_time": "2023-11-27T17:06:10.042076",
     "exception": false,
     "start_time": "2023-11-27T17:06:10.008896",
     "status": "completed"
    },
    "tags": []
   },
   "outputs": [
    {
     "data": {
      "text/markdown": [
       "# <div style='background:#FF1801; border:0; color:black; box-shadow: 10px 10px 5px 0px rgba(0,0,0,0.75); transform: rotateX(10deg);'><h1 style='padding: 10px; margin: 0; text-align:center;'><span style='font-size: 30px;'>Pit Stops</span></h1></div>"
      ],
      "text/plain": [
       "<IPython.core.display.Markdown object>"
      ]
     },
     "metadata": {},
     "output_type": "display_data"
    }
   ],
   "source": [
    "display(md(f\"# <div style='background:#FF1801; border:0; color:black; box-shadow: 10px 10px 5px 0px rgba(0,0,0,0.75); transform: rotateX(10deg);'><h1 style='padding: 10px; margin: 0; text-align:center;'><span style='font-size: 30px;'>Pit Stops</span></h1></div>\"))"
   ]
  },
  {
   "cell_type": "code",
   "execution_count": 23,
   "id": "f34d39fd",
   "metadata": {
    "_kg_hide-input": true,
    "execution": {
     "iopub.execute_input": "2023-11-27T17:06:10.085213Z",
     "iopub.status.busy": "2023-11-27T17:06:10.084381Z",
     "iopub.status.idle": "2023-11-27T17:06:10.291712Z",
     "shell.execute_reply": "2023-11-27T17:06:10.290387Z"
    },
    "papermill": {
     "duration": 0.232145,
     "end_time": "2023-11-27T17:06:10.294644",
     "exception": false,
     "start_time": "2023-11-27T17:06:10.062499",
     "status": "completed"
    },
    "tags": []
   },
   "outputs": [
    {
     "data": {
      "text/html": [
       "<div>                            <div id=\"e2d83922-c370-4258-94b5-a6f1765c96ba\" class=\"plotly-graph-div\" style=\"height:525px; width:100%;\"></div>            <script type=\"text/javascript\">                require([\"plotly\"], function(Plotly) {                    window.PLOTLYENV=window.PLOTLYENV || {};                                    if (document.getElementById(\"e2d83922-c370-4258-94b5-a6f1765c96ba\")) {                    Plotly.newPlot(                        \"e2d83922-c370-4258-94b5-a6f1765c96ba\",                        [{\"alignmentgroup\":\"True\",\"base\":[\"2023-11-26T17:11:16\",\"2023-11-26T17:37:30\"],\"hovertemplate\":\"Driver=%{y}<br>time_date=%{base}<br>time_end_date=%{x}<extra></extra>\",\"legendgroup\":\"MAG\",\"marker\":{\"color\":\"#E6002B\",\"pattern\":{\"shape\":\"\"}},\"name\":\"MAG\",\"offsetgroup\":\"MAG\",\"orientation\":\"h\",\"showlegend\":true,\"textposition\":\"auto\",\"x\":[22764.0,22163.0],\"xaxis\":\"x\",\"y\":[\"MAG\",\"MAG\"],\"yaxis\":\"y\",\"type\":\"bar\"},{\"alignmentgroup\":\"True\",\"base\":[\"2023-11-26T17:14:15\",\"2023-11-26T17:50:51\"],\"hovertemplate\":\"Driver=%{y}<br>time_date=%{base}<br>time_end_date=%{x}<extra></extra>\",\"legendgroup\":\"RIC\",\"marker\":{\"color\":\"#20394C\",\"pattern\":{\"shape\":\"\"}},\"name\":\"RIC\",\"offsetgroup\":\"RIC\",\"orientation\":\"h\",\"showlegend\":true,\"textposition\":\"auto\",\"x\":[21692.0,21740.0],\"xaxis\":\"x\",\"y\":[\"RIC\",\"RIC\"],\"yaxis\":\"y\",\"type\":\"bar\"},{\"alignmentgroup\":\"True\",\"base\":[\"2023-11-26T17:21:44\",\"2023-11-26T17:58:11\"],\"hovertemplate\":\"Driver=%{y}<br>time_date=%{base}<br>time_end_date=%{x}<extra></extra>\",\"legendgroup\":\"ALO\",\"marker\":{\"color\":\"#002420\",\"pattern\":{\"shape\":\"\"}},\"name\":\"ALO\",\"offsetgroup\":\"ALO\",\"orientation\":\"h\",\"showlegend\":true,\"textposition\":\"auto\",\"x\":[22462.0,21841.0],\"xaxis\":\"x\",\"y\":[\"ALO\",\"ALO\"],\"yaxis\":\"y\",\"type\":\"bar\"},{\"alignmentgroup\":\"True\",\"base\":[\"2023-11-26T17:23:13\",\"2023-11-26T17:58:08\"],\"hovertemplate\":\"Driver=%{y}<br>time_date=%{base}<br>time_end_date=%{x}<extra></extra>\",\"legendgroup\":\"PIA\",\"marker\":{\"color\":\"#FF8000\",\"pattern\":{\"shape\":\"\"}},\"name\":\"PIA\",\"offsetgroup\":\"PIA\",\"orientation\":\"h\",\"showlegend\":true,\"textposition\":\"auto\",\"x\":[21697.0,21156.0],\"xaxis\":\"x\",\"y\":[\"PIA\",\"PIA\"],\"yaxis\":\"y\",\"type\":\"bar\"},{\"alignmentgroup\":\"True\",\"base\":[\"2023-11-26T17:23:25\",\"2023-11-26T17:54:04\"],\"hovertemplate\":\"Driver=%{y}<br>time_date=%{base}<br>time_end_date=%{x}<extra></extra>\",\"legendgroup\":\"HUL\",\"marker\":{\"color\":\"#E6002B\",\"pattern\":{\"shape\":\"\"}},\"name\":\"HUL\",\"offsetgroup\":\"HUL\",\"orientation\":\"h\",\"showlegend\":true,\"textposition\":\"auto\",\"x\":[21861.0,22081.0],\"xaxis\":\"x\",\"y\":[\"HUL\",\"HUL\"],\"yaxis\":\"y\",\"type\":\"bar\"},{\"alignmentgroup\":\"True\",\"base\":[\"2023-11-26T17:23:27\",\"2023-11-26T18:00:12\"],\"hovertemplate\":\"Driver=%{y}<br>time_date=%{base}<br>time_end_date=%{x}<extra></extra>\",\"legendgroup\":\"ZHO\",\"marker\":{\"color\":\"#A42134\",\"pattern\":{\"shape\":\"\"}},\"name\":\"ZHO\",\"offsetgroup\":\"ZHO\",\"orientation\":\"h\",\"showlegend\":true,\"textposition\":\"auto\",\"x\":[22867.0,22345.0],\"xaxis\":\"x\",\"y\":[\"ZHO\",\"ZHO\"],\"yaxis\":\"y\",\"type\":\"bar\"},{\"alignmentgroup\":\"True\",\"base\":[\"2023-11-26T17:24:40\",\"2023-11-26T17:53:31\"],\"hovertemplate\":\"Driver=%{y}<br>time_date=%{base}<br>time_end_date=%{x}<extra></extra>\",\"legendgroup\":\"NOR\",\"marker\":{\"color\":\"#FF8000\",\"pattern\":{\"shape\":\"\"}},\"name\":\"NOR\",\"offsetgroup\":\"NOR\",\"orientation\":\"h\",\"showlegend\":true,\"textposition\":\"auto\",\"x\":[24061.0,21432.0],\"xaxis\":\"x\",\"y\":[\"NOR\",\"NOR\"],\"yaxis\":\"y\",\"type\":\"bar\"},{\"alignmentgroup\":\"True\",\"base\":[\"2023-11-26T17:24:42\",\"2023-11-26T17:54:57\"],\"hovertemplate\":\"Driver=%{y}<br>time_date=%{base}<br>time_end_date=%{x}<extra></extra>\",\"legendgroup\":\"RUS\",\"marker\":{\"color\":\"#00A19B\",\"pattern\":{\"shape\":\"\"}},\"name\":\"RUS\",\"offsetgroup\":\"RUS\",\"orientation\":\"h\",\"showlegend\":true,\"textposition\":\"auto\",\"x\":[21650.0,22084.0],\"xaxis\":\"x\",\"y\":[\"RUS\",\"RUS\"],\"yaxis\":\"y\",\"type\":\"bar\"},{\"alignmentgroup\":\"True\",\"base\":[\"2023-11-26T17:26:21\",\"2023-11-26T17:56:42\"],\"hovertemplate\":\"Driver=%{y}<br>time_date=%{base}<br>time_end_date=%{x}<extra></extra>\",\"legendgroup\":\"HAM\",\"marker\":{\"color\":\"#00A19B\",\"pattern\":{\"shape\":\"\"}},\"name\":\"HAM\",\"offsetgroup\":\"HAM\",\"orientation\":\"h\",\"showlegend\":true,\"textposition\":\"auto\",\"x\":[22195.0,22045.0],\"xaxis\":\"x\",\"y\":[\"HAM\",\"HAM\"],\"yaxis\":\"y\",\"type\":\"bar\"},{\"alignmentgroup\":\"True\",\"base\":[\"2023-11-26T17:26:22\"],\"hovertemplate\":\"Driver=%{y}<br>time_date=%{base}<br>time_end_date=%{x}<extra></extra>\",\"legendgroup\":\"OCO\",\"marker\":{\"color\":\"#2173B8\",\"pattern\":{\"shape\":\"\"}},\"name\":\"OCO\",\"offsetgroup\":\"OCO\",\"orientation\":\"h\",\"showlegend\":true,\"textposition\":\"auto\",\"x\":[22160.0],\"xaxis\":\"x\",\"y\":[\"OCO\"],\"yaxis\":\"y\",\"type\":\"bar\"},{\"alignmentgroup\":\"True\",\"base\":[\"2023-11-26T17:26:35\",\"2023-11-26T18:06:20\"],\"hovertemplate\":\"Driver=%{y}<br>time_date=%{base}<br>time_end_date=%{x}<extra></extra>\",\"legendgroup\":\"SAR\",\"marker\":{\"color\":\"#00A0DE\",\"pattern\":{\"shape\":\"\"}},\"name\":\"SAR\",\"offsetgroup\":\"SAR\",\"orientation\":\"h\",\"showlegend\":true,\"textposition\":\"auto\",\"x\":[22124.0,21880.0],\"xaxis\":\"x\",\"y\":[\"SAR\",\"SAR\"],\"yaxis\":\"y\",\"type\":\"bar\"},{\"alignmentgroup\":\"True\",\"base\":[\"2023-11-26T17:27:36\",\"2023-11-26T18:08:09\"],\"hovertemplate\":\"Driver=%{y}<br>time_date=%{base}<br>time_end_date=%{x}<extra></extra>\",\"legendgroup\":\"VER\",\"marker\":{\"color\":\"#000B8D\",\"pattern\":{\"shape\":\"\"}},\"name\":\"VER\",\"offsetgroup\":\"VER\",\"orientation\":\"h\",\"showlegend\":true,\"textposition\":\"auto\",\"x\":[21662.0,21275.0],\"xaxis\":\"x\",\"y\":[\"VER\",\"VER\"],\"yaxis\":\"y\",\"type\":\"bar\"},{\"alignmentgroup\":\"True\",\"base\":[\"2023-11-26T17:28:04\",\"2023-11-26T18:09:09\"],\"hovertemplate\":\"Driver=%{y}<br>time_date=%{base}<br>time_end_date=%{x}<extra></extra>\",\"legendgroup\":\"ALB\",\"marker\":{\"color\":\"#00A0DE\",\"pattern\":{\"shape\":\"\"}},\"name\":\"ALB\",\"offsetgroup\":\"ALB\",\"orientation\":\"h\",\"showlegend\":true,\"textposition\":\"auto\",\"x\":[22170.0,21919.0],\"xaxis\":\"x\",\"y\":[\"ALB\",\"ALB\"],\"yaxis\":\"y\",\"type\":\"bar\"},{\"alignmentgroup\":\"True\",\"base\":[\"2023-11-26T17:29:09\",\"2023-11-26T17:56:25\"],\"hovertemplate\":\"Driver=%{y}<br>time_date=%{base}<br>time_end_date=%{x}<extra></extra>\",\"legendgroup\":\"LEC\",\"marker\":{\"color\":\"#EF1A2D\",\"pattern\":{\"shape\":\"\"}},\"name\":\"LEC\",\"offsetgroup\":\"LEC\",\"orientation\":\"h\",\"showlegend\":true,\"textposition\":\"auto\",\"x\":[21919.0,21246.0],\"xaxis\":\"x\",\"y\":[\"LEC\",\"LEC\"],\"yaxis\":\"y\",\"type\":\"bar\"},{\"alignmentgroup\":\"True\",\"base\":[\"2023-11-26T17:29:21\",\"2023-11-26T18:06:56\"],\"hovertemplate\":\"Driver=%{y}<br>time_date=%{base}<br>time_end_date=%{x}<extra></extra>\",\"legendgroup\":\"PER\",\"marker\":{\"color\":\"#000B8D\",\"pattern\":{\"shape\":\"\"}},\"name\":\"PER\",\"offsetgroup\":\"PER\",\"orientation\":\"h\",\"showlegend\":true,\"textposition\":\"auto\",\"x\":[21446.0,21274.0],\"xaxis\":\"x\",\"y\":[\"PER\",\"PER\"],\"yaxis\":\"y\",\"type\":\"bar\"},{\"alignmentgroup\":\"True\",\"base\":[\"2023-11-26T17:29:26\",\"2023-11-26T17:52:26\"],\"hovertemplate\":\"Driver=%{y}<br>time_date=%{base}<br>time_end_date=%{x}<extra></extra>\",\"legendgroup\":\"GAS\",\"marker\":{\"color\":\"#2173B8\",\"pattern\":{\"shape\":\"\"}},\"name\":\"GAS\",\"offsetgroup\":\"GAS\",\"orientation\":\"h\",\"showlegend\":true,\"textposition\":\"auto\",\"x\":[23091.0,23478.0],\"xaxis\":\"x\",\"y\":[\"GAS\",\"GAS\"],\"yaxis\":\"y\",\"type\":\"bar\"},{\"alignmentgroup\":\"True\",\"base\":[\"2023-11-26T17:36:54\"],\"hovertemplate\":\"Driver=%{y}<br>time_date=%{base}<br>time_end_date=%{x}<extra></extra>\",\"legendgroup\":\"TSU\",\"marker\":{\"color\":\"#20394C\",\"pattern\":{\"shape\":\"\"}},\"name\":\"TSU\",\"offsetgroup\":\"TSU\",\"orientation\":\"h\",\"showlegend\":true,\"textposition\":\"auto\",\"x\":[21486.0],\"xaxis\":\"x\",\"y\":[\"TSU\"],\"yaxis\":\"y\",\"type\":\"bar\"},{\"alignmentgroup\":\"True\",\"base\":[\"2023-11-26T17:36:59\",\"2023-11-26T18:07:20\"],\"hovertemplate\":\"Driver=%{y}<br>time_date=%{base}<br>time_end_date=%{x}<extra></extra>\",\"legendgroup\":\"STR\",\"marker\":{\"color\":\"#002420\",\"pattern\":{\"shape\":\"\"}},\"name\":\"STR\",\"offsetgroup\":\"STR\",\"orientation\":\"h\",\"showlegend\":true,\"textposition\":\"auto\",\"x\":[21866.0,21667.0],\"xaxis\":\"x\",\"y\":[\"STR\",\"STR\"],\"yaxis\":\"y\",\"type\":\"bar\"},{\"alignmentgroup\":\"True\",\"base\":[\"2023-11-26T17:38:36\",\"2023-11-26T18:28:24\"],\"hovertemplate\":\"Driver=%{y}<br>time_date=%{base}<br>time_end_date=%{x}<extra></extra>\",\"legendgroup\":\"SAI\",\"marker\":{\"color\":\"#EF1A2D\",\"pattern\":{\"shape\":\"\"}},\"name\":\"SAI\",\"offsetgroup\":\"SAI\",\"orientation\":\"h\",\"showlegend\":true,\"textposition\":\"auto\",\"x\":[21229.0,21564.0],\"xaxis\":\"x\",\"y\":[\"SAI\",\"SAI\"],\"yaxis\":\"y\",\"type\":\"bar\"},{\"alignmentgroup\":\"True\",\"base\":[\"2023-11-26T17:48:01\"],\"hovertemplate\":\"Driver=%{y}<br>time_date=%{base}<br>time_end_date=%{x}<extra></extra>\",\"legendgroup\":\"BOT\",\"marker\":{\"color\":\"#A42134\",\"pattern\":{\"shape\":\"\"}},\"name\":\"BOT\",\"offsetgroup\":\"BOT\",\"orientation\":\"h\",\"showlegend\":true,\"textposition\":\"auto\",\"x\":[22665.0],\"xaxis\":\"x\",\"y\":[\"BOT\"],\"yaxis\":\"y\",\"type\":\"bar\"}],                        {\"template\":{\"data\":{\"histogram2dcontour\":[{\"type\":\"histogram2dcontour\",\"colorbar\":{\"outlinewidth\":0,\"ticks\":\"\"},\"colorscale\":[[0.0,\"#0d0887\"],[0.1111111111111111,\"#46039f\"],[0.2222222222222222,\"#7201a8\"],[0.3333333333333333,\"#9c179e\"],[0.4444444444444444,\"#bd3786\"],[0.5555555555555556,\"#d8576b\"],[0.6666666666666666,\"#ed7953\"],[0.7777777777777778,\"#fb9f3a\"],[0.8888888888888888,\"#fdca26\"],[1.0,\"#f0f921\"]]}],\"choropleth\":[{\"type\":\"choropleth\",\"colorbar\":{\"outlinewidth\":0,\"ticks\":\"\"}}],\"histogram2d\":[{\"type\":\"histogram2d\",\"colorbar\":{\"outlinewidth\":0,\"ticks\":\"\"},\"colorscale\":[[0.0,\"#0d0887\"],[0.1111111111111111,\"#46039f\"],[0.2222222222222222,\"#7201a8\"],[0.3333333333333333,\"#9c179e\"],[0.4444444444444444,\"#bd3786\"],[0.5555555555555556,\"#d8576b\"],[0.6666666666666666,\"#ed7953\"],[0.7777777777777778,\"#fb9f3a\"],[0.8888888888888888,\"#fdca26\"],[1.0,\"#f0f921\"]]}],\"heatmap\":[{\"type\":\"heatmap\",\"colorbar\":{\"outlinewidth\":0,\"ticks\":\"\"},\"colorscale\":[[0.0,\"#0d0887\"],[0.1111111111111111,\"#46039f\"],[0.2222222222222222,\"#7201a8\"],[0.3333333333333333,\"#9c179e\"],[0.4444444444444444,\"#bd3786\"],[0.5555555555555556,\"#d8576b\"],[0.6666666666666666,\"#ed7953\"],[0.7777777777777778,\"#fb9f3a\"],[0.8888888888888888,\"#fdca26\"],[1.0,\"#f0f921\"]]}],\"heatmapgl\":[{\"type\":\"heatmapgl\",\"colorbar\":{\"outlinewidth\":0,\"ticks\":\"\"},\"colorscale\":[[0.0,\"#0d0887\"],[0.1111111111111111,\"#46039f\"],[0.2222222222222222,\"#7201a8\"],[0.3333333333333333,\"#9c179e\"],[0.4444444444444444,\"#bd3786\"],[0.5555555555555556,\"#d8576b\"],[0.6666666666666666,\"#ed7953\"],[0.7777777777777778,\"#fb9f3a\"],[0.8888888888888888,\"#fdca26\"],[1.0,\"#f0f921\"]]}],\"contourcarpet\":[{\"type\":\"contourcarpet\",\"colorbar\":{\"outlinewidth\":0,\"ticks\":\"\"}}],\"contour\":[{\"type\":\"contour\",\"colorbar\":{\"outlinewidth\":0,\"ticks\":\"\"},\"colorscale\":[[0.0,\"#0d0887\"],[0.1111111111111111,\"#46039f\"],[0.2222222222222222,\"#7201a8\"],[0.3333333333333333,\"#9c179e\"],[0.4444444444444444,\"#bd3786\"],[0.5555555555555556,\"#d8576b\"],[0.6666666666666666,\"#ed7953\"],[0.7777777777777778,\"#fb9f3a\"],[0.8888888888888888,\"#fdca26\"],[1.0,\"#f0f921\"]]}],\"surface\":[{\"type\":\"surface\",\"colorbar\":{\"outlinewidth\":0,\"ticks\":\"\"},\"colorscale\":[[0.0,\"#0d0887\"],[0.1111111111111111,\"#46039f\"],[0.2222222222222222,\"#7201a8\"],[0.3333333333333333,\"#9c179e\"],[0.4444444444444444,\"#bd3786\"],[0.5555555555555556,\"#d8576b\"],[0.6666666666666666,\"#ed7953\"],[0.7777777777777778,\"#fb9f3a\"],[0.8888888888888888,\"#fdca26\"],[1.0,\"#f0f921\"]]}],\"mesh3d\":[{\"type\":\"mesh3d\",\"colorbar\":{\"outlinewidth\":0,\"ticks\":\"\"}}],\"scatter\":[{\"fillpattern\":{\"fillmode\":\"overlay\",\"size\":10,\"solidity\":0.2},\"type\":\"scatter\"}],\"parcoords\":[{\"type\":\"parcoords\",\"line\":{\"colorbar\":{\"outlinewidth\":0,\"ticks\":\"\"}}}],\"scatterpolargl\":[{\"type\":\"scatterpolargl\",\"marker\":{\"colorbar\":{\"outlinewidth\":0,\"ticks\":\"\"}}}],\"bar\":[{\"error_x\":{\"color\":\"#2a3f5f\"},\"error_y\":{\"color\":\"#2a3f5f\"},\"marker\":{\"line\":{\"color\":\"#E5ECF6\",\"width\":0.5},\"pattern\":{\"fillmode\":\"overlay\",\"size\":10,\"solidity\":0.2}},\"type\":\"bar\"}],\"scattergeo\":[{\"type\":\"scattergeo\",\"marker\":{\"colorbar\":{\"outlinewidth\":0,\"ticks\":\"\"}}}],\"scatterpolar\":[{\"type\":\"scatterpolar\",\"marker\":{\"colorbar\":{\"outlinewidth\":0,\"ticks\":\"\"}}}],\"histogram\":[{\"marker\":{\"pattern\":{\"fillmode\":\"overlay\",\"size\":10,\"solidity\":0.2}},\"type\":\"histogram\"}],\"scattergl\":[{\"type\":\"scattergl\",\"marker\":{\"colorbar\":{\"outlinewidth\":0,\"ticks\":\"\"}}}],\"scatter3d\":[{\"type\":\"scatter3d\",\"line\":{\"colorbar\":{\"outlinewidth\":0,\"ticks\":\"\"}},\"marker\":{\"colorbar\":{\"outlinewidth\":0,\"ticks\":\"\"}}}],\"scattermapbox\":[{\"type\":\"scattermapbox\",\"marker\":{\"colorbar\":{\"outlinewidth\":0,\"ticks\":\"\"}}}],\"scatterternary\":[{\"type\":\"scatterternary\",\"marker\":{\"colorbar\":{\"outlinewidth\":0,\"ticks\":\"\"}}}],\"scattercarpet\":[{\"type\":\"scattercarpet\",\"marker\":{\"colorbar\":{\"outlinewidth\":0,\"ticks\":\"\"}}}],\"carpet\":[{\"aaxis\":{\"endlinecolor\":\"#2a3f5f\",\"gridcolor\":\"white\",\"linecolor\":\"white\",\"minorgridcolor\":\"white\",\"startlinecolor\":\"#2a3f5f\"},\"baxis\":{\"endlinecolor\":\"#2a3f5f\",\"gridcolor\":\"white\",\"linecolor\":\"white\",\"minorgridcolor\":\"white\",\"startlinecolor\":\"#2a3f5f\"},\"type\":\"carpet\"}],\"table\":[{\"cells\":{\"fill\":{\"color\":\"#EBF0F8\"},\"line\":{\"color\":\"white\"}},\"header\":{\"fill\":{\"color\":\"#C8D4E3\"},\"line\":{\"color\":\"white\"}},\"type\":\"table\"}],\"barpolar\":[{\"marker\":{\"line\":{\"color\":\"#E5ECF6\",\"width\":0.5},\"pattern\":{\"fillmode\":\"overlay\",\"size\":10,\"solidity\":0.2}},\"type\":\"barpolar\"}],\"pie\":[{\"automargin\":true,\"type\":\"pie\"}]},\"layout\":{\"autotypenumbers\":\"strict\",\"colorway\":[\"#636efa\",\"#EF553B\",\"#00cc96\",\"#ab63fa\",\"#FFA15A\",\"#19d3f3\",\"#FF6692\",\"#B6E880\",\"#FF97FF\",\"#FECB52\"],\"font\":{\"color\":\"#2a3f5f\"},\"hovermode\":\"closest\",\"hoverlabel\":{\"align\":\"left\"},\"paper_bgcolor\":\"white\",\"plot_bgcolor\":\"#E5ECF6\",\"polar\":{\"bgcolor\":\"#E5ECF6\",\"angularaxis\":{\"gridcolor\":\"white\",\"linecolor\":\"white\",\"ticks\":\"\"},\"radialaxis\":{\"gridcolor\":\"white\",\"linecolor\":\"white\",\"ticks\":\"\"}},\"ternary\":{\"bgcolor\":\"#E5ECF6\",\"aaxis\":{\"gridcolor\":\"white\",\"linecolor\":\"white\",\"ticks\":\"\"},\"baxis\":{\"gridcolor\":\"white\",\"linecolor\":\"white\",\"ticks\":\"\"},\"caxis\":{\"gridcolor\":\"white\",\"linecolor\":\"white\",\"ticks\":\"\"}},\"coloraxis\":{\"colorbar\":{\"outlinewidth\":0,\"ticks\":\"\"}},\"colorscale\":{\"sequential\":[[0.0,\"#0d0887\"],[0.1111111111111111,\"#46039f\"],[0.2222222222222222,\"#7201a8\"],[0.3333333333333333,\"#9c179e\"],[0.4444444444444444,\"#bd3786\"],[0.5555555555555556,\"#d8576b\"],[0.6666666666666666,\"#ed7953\"],[0.7777777777777778,\"#fb9f3a\"],[0.8888888888888888,\"#fdca26\"],[1.0,\"#f0f921\"]],\"sequentialminus\":[[0.0,\"#0d0887\"],[0.1111111111111111,\"#46039f\"],[0.2222222222222222,\"#7201a8\"],[0.3333333333333333,\"#9c179e\"],[0.4444444444444444,\"#bd3786\"],[0.5555555555555556,\"#d8576b\"],[0.6666666666666666,\"#ed7953\"],[0.7777777777777778,\"#fb9f3a\"],[0.8888888888888888,\"#fdca26\"],[1.0,\"#f0f921\"]],\"diverging\":[[0,\"#8e0152\"],[0.1,\"#c51b7d\"],[0.2,\"#de77ae\"],[0.3,\"#f1b6da\"],[0.4,\"#fde0ef\"],[0.5,\"#f7f7f7\"],[0.6,\"#e6f5d0\"],[0.7,\"#b8e186\"],[0.8,\"#7fbc41\"],[0.9,\"#4d9221\"],[1,\"#276419\"]]},\"xaxis\":{\"gridcolor\":\"white\",\"linecolor\":\"white\",\"ticks\":\"\",\"title\":{\"standoff\":15},\"zerolinecolor\":\"white\",\"automargin\":true,\"zerolinewidth\":2},\"yaxis\":{\"gridcolor\":\"white\",\"linecolor\":\"white\",\"ticks\":\"\",\"title\":{\"standoff\":15},\"zerolinecolor\":\"white\",\"automargin\":true,\"zerolinewidth\":2},\"scene\":{\"xaxis\":{\"backgroundcolor\":\"#E5ECF6\",\"gridcolor\":\"white\",\"linecolor\":\"white\",\"showbackground\":true,\"ticks\":\"\",\"zerolinecolor\":\"white\",\"gridwidth\":2},\"yaxis\":{\"backgroundcolor\":\"#E5ECF6\",\"gridcolor\":\"white\",\"linecolor\":\"white\",\"showbackground\":true,\"ticks\":\"\",\"zerolinecolor\":\"white\",\"gridwidth\":2},\"zaxis\":{\"backgroundcolor\":\"#E5ECF6\",\"gridcolor\":\"white\",\"linecolor\":\"white\",\"showbackground\":true,\"ticks\":\"\",\"zerolinecolor\":\"white\",\"gridwidth\":2}},\"shapedefaults\":{\"line\":{\"color\":\"#2a3f5f\"}},\"annotationdefaults\":{\"arrowcolor\":\"#2a3f5f\",\"arrowhead\":0,\"arrowwidth\":1},\"geo\":{\"bgcolor\":\"white\",\"landcolor\":\"#E5ECF6\",\"subunitcolor\":\"white\",\"showland\":true,\"showlakes\":true,\"lakecolor\":\"white\"},\"title\":{\"x\":0.05},\"mapbox\":{\"style\":\"light\"}}},\"xaxis\":{\"anchor\":\"y\",\"domain\":[0.0,1.0],\"type\":\"date\"},\"yaxis\":{\"anchor\":\"x\",\"domain\":[0.0,1.0],\"title\":{\"text\":\"Driver\"},\"categoryorder\":\"array\",\"categoryarray\":[\"BOT\",\"SAI\",\"STR\",\"TSU\",\"GAS\",\"PER\",\"LEC\",\"ALB\",\"VER\",\"SAR\",\"OCO\",\"HAM\",\"RUS\",\"NOR\",\"ZHO\",\"HUL\",\"PIA\",\"ALO\",\"RIC\",\"MAG\"]},\"legend\":{\"title\":{\"text\":\"Driver\"},\"tracegroupgap\":0},\"margin\":{\"t\":60},\"barmode\":\"overlay\",\"showlegend\":false,\"title\":{\"font\":{\"family\":\"Arial, sans-serif\",\"size\":30},\"text\":\"<b>Pit Strategy</b>\",\"x\":0.5}},                        {\"responsive\": true}                    ).then(function(){\n",
       "                            \n",
       "var gd = document.getElementById('e2d83922-c370-4258-94b5-a6f1765c96ba');\n",
       "var x = new MutationObserver(function (mutations, observer) {{\n",
       "        var display = window.getComputedStyle(gd).display;\n",
       "        if (!display || display === 'none') {{\n",
       "            console.log([gd, 'removed!']);\n",
       "            Plotly.purge(gd);\n",
       "            observer.disconnect();\n",
       "        }}\n",
       "}});\n",
       "\n",
       "// Listen for the removal of the full notebook cells\n",
       "var notebookContainer = gd.closest('#notebook-container');\n",
       "if (notebookContainer) {{\n",
       "    x.observe(notebookContainer, {childList: true});\n",
       "}}\n",
       "\n",
       "// Listen for the clearing of the current output cell\n",
       "var outputEl = gd.closest('.output');\n",
       "if (outputEl) {{\n",
       "    x.observe(outputEl, {childList: true});\n",
       "}}\n",
       "\n",
       "                        })                };                });            </script>        </div>"
      ]
     },
     "metadata": {},
     "output_type": "display_data"
    }
   ],
   "source": [
    "if not pit_stop_emp:\n",
    "    fig = px.timeline(pit_stops[pit_stops['red_flag'] == 0], x_start=\"time_date\", x_end=\"time_end_date\", y=\"Driver\", color='Driver', color_discrete_map=color_map)\n",
    "    fig.update_layout(showlegend=False)\n",
    "    fig.update_layout(title_text='<b>Pit Strategy</b>', titlefont = dict(\n",
    "         family = 'Arial, sans-serif',\n",
    "         size = 30\n",
    "      ), title_x=0.5)\n",
    "    fig.show()\n",
    "else:\n",
    "    display(md(f\"<h1 style='background:#FFF200;border:0; color:black;box-shadow: 10px 10px 5px 0px rgba(0,0,0,0.75);transform: rotateX(10deg);'><center style='color: black;'>No Pit Data Available From API</center></h1>\"))"
   ]
  },
  {
   "cell_type": "code",
   "execution_count": 24,
   "id": "447c7543",
   "metadata": {
    "_kg_hide-input": true,
    "execution": {
     "iopub.execute_input": "2023-11-27T17:06:10.339067Z",
     "iopub.status.busy": "2023-11-27T17:06:10.337814Z",
     "iopub.status.idle": "2023-11-27T17:06:10.348071Z",
     "shell.execute_reply": "2023-11-27T17:06:10.347126Z"
    },
    "papermill": {
     "duration": 0.035334,
     "end_time": "2023-11-27T17:06:10.350853",
     "exception": false,
     "start_time": "2023-11-27T17:06:10.315519",
     "status": "completed"
    },
    "tags": []
   },
   "outputs": [],
   "source": [
    "#Red Flags\n",
    "if pit_stop_emp:\n",
    "    display(md(f\"<h1 style='background:#FFF200;border:0; color:black;box-shadow: 10px 10px 5px 0px rgba(0,0,0,0.75);transform: rotateX(10deg);'><center style='color: black;'>No Pit Data Available From API</center></h1>\"))\n",
    "elif not pit_stops[pit_stops['red_flag'] == 1].empty:\n",
    "    fig = px.timeline(pit_stops[pit_stops['red_flag'] == 1], x_start=\"time_date\", x_end=\"time_end_date\", y=\"Driver\", color='Driver', color_discrete_map=color_map)\n",
    "    fig.update_layout(showlegend=False)\n",
    "    fig.update_layout(title_text='<b>Red Flag Stops</b>', titlefont = dict(\n",
    "         family = 'Arial, sans-serif',\n",
    "         size = 30\n",
    "      ), title_x=0.5)\n",
    "    fig.show()"
   ]
  },
  {
   "cell_type": "code",
   "execution_count": 25,
   "id": "de671707",
   "metadata": {
    "_kg_hide-input": true,
    "execution": {
     "iopub.execute_input": "2023-11-27T17:06:10.394637Z",
     "iopub.status.busy": "2023-11-27T17:06:10.393889Z",
     "iopub.status.idle": "2023-11-27T17:06:10.443196Z",
     "shell.execute_reply": "2023-11-27T17:06:10.441829Z"
    },
    "papermill": {
     "duration": 0.074664,
     "end_time": "2023-11-27T17:06:10.446173",
     "exception": false,
     "start_time": "2023-11-27T17:06:10.371509",
     "status": "completed"
    },
    "tags": []
   },
   "outputs": [
    {
     "data": {
      "text/html": [
       "<div>                            <div id=\"a421f69b-6d39-47fb-b486-a0c125443a6a\" class=\"plotly-graph-div\" style=\"height:525px; width:100%;\"></div>            <script type=\"text/javascript\">                require([\"plotly\"], function(Plotly) {                    window.PLOTLYENV=window.PLOTLYENV || {};                                    if (document.getElementById(\"a421f69b-6d39-47fb-b486-a0c125443a6a\")) {                    Plotly.newPlot(                        \"a421f69b-6d39-47fb-b486-a0c125443a6a\",                        [{\"name\":\"Max Pit\",\"x\":[\"ALB\",\"ALO\",\"BOT\",\"GAS\",\"HAM\",\"HUL\",\"LEC\",\"MAG\",\"NOR\",\"OCO\",\"PER\",\"PIA\",\"RIC\",\"RUS\",\"SAI\",\"SAR\",\"STR\",\"TSU\",\"VER\",\"ZHO\"],\"y\":[21.446,21.486,21.564,21.662,21.697,21.74,21.866,21.919,22.081,22.084,22.124,22.16,22.17,22.195,22.462,22.665,22.764,22.867,23.478,24.061],\"type\":\"bar\"},{\"name\":\"Avg PIt\",\"x\":[\"ALB\",\"ALO\",\"BOT\",\"GAS\",\"HAM\",\"HUL\",\"LEC\",\"MAG\",\"NOR\",\"OCO\",\"PER\",\"PIA\",\"RIC\",\"RUS\",\"SAI\",\"SAR\",\"STR\",\"TSU\",\"VER\",\"ZHO\"],\"y\":[21.36,21.486,21.3965,21.4685,21.426499999999997,21.716,21.7665,21.5825,21.971,21.866999999999997,22.002,22.16,22.0445,22.12,22.1515,22.665,22.4635,22.606,23.2845,22.746499999999997],\"type\":\"bar\"},{\"name\":\"Min PIt\",\"x\":[\"ALB\",\"ALO\",\"BOT\",\"GAS\",\"HAM\",\"HUL\",\"LEC\",\"MAG\",\"NOR\",\"OCO\",\"PER\",\"PIA\",\"RIC\",\"RUS\",\"SAI\",\"SAR\",\"STR\",\"TSU\",\"VER\",\"ZHO\"],\"y\":[21.274,21.486,21.229,21.275,21.156,21.692,21.667,21.246,21.861,21.65,21.88,22.16,21.919,22.045,21.841,22.665,22.163,22.345,23.091,21.432],\"type\":\"bar\"}],                        {\"barmode\":\"overlay\",\"template\":{\"data\":{\"barpolar\":[{\"marker\":{\"line\":{\"color\":\"#E5ECF6\",\"width\":0.5},\"pattern\":{\"fillmode\":\"overlay\",\"size\":10,\"solidity\":0.2}},\"type\":\"barpolar\"}],\"bar\":[{\"error_x\":{\"color\":\"#2a3f5f\"},\"error_y\":{\"color\":\"#2a3f5f\"},\"marker\":{\"line\":{\"color\":\"#E5ECF6\",\"width\":0.5},\"pattern\":{\"fillmode\":\"overlay\",\"size\":10,\"solidity\":0.2}},\"type\":\"bar\"}],\"carpet\":[{\"aaxis\":{\"endlinecolor\":\"#2a3f5f\",\"gridcolor\":\"white\",\"linecolor\":\"white\",\"minorgridcolor\":\"white\",\"startlinecolor\":\"#2a3f5f\"},\"baxis\":{\"endlinecolor\":\"#2a3f5f\",\"gridcolor\":\"white\",\"linecolor\":\"white\",\"minorgridcolor\":\"white\",\"startlinecolor\":\"#2a3f5f\"},\"type\":\"carpet\"}],\"choropleth\":[{\"colorbar\":{\"outlinewidth\":0,\"ticks\":\"\"},\"type\":\"choropleth\"}],\"contourcarpet\":[{\"colorbar\":{\"outlinewidth\":0,\"ticks\":\"\"},\"type\":\"contourcarpet\"}],\"contour\":[{\"colorbar\":{\"outlinewidth\":0,\"ticks\":\"\"},\"colorscale\":[[0.0,\"#0d0887\"],[0.1111111111111111,\"#46039f\"],[0.2222222222222222,\"#7201a8\"],[0.3333333333333333,\"#9c179e\"],[0.4444444444444444,\"#bd3786\"],[0.5555555555555556,\"#d8576b\"],[0.6666666666666666,\"#ed7953\"],[0.7777777777777778,\"#fb9f3a\"],[0.8888888888888888,\"#fdca26\"],[1.0,\"#f0f921\"]],\"type\":\"contour\"}],\"heatmapgl\":[{\"colorbar\":{\"outlinewidth\":0,\"ticks\":\"\"},\"colorscale\":[[0.0,\"#0d0887\"],[0.1111111111111111,\"#46039f\"],[0.2222222222222222,\"#7201a8\"],[0.3333333333333333,\"#9c179e\"],[0.4444444444444444,\"#bd3786\"],[0.5555555555555556,\"#d8576b\"],[0.6666666666666666,\"#ed7953\"],[0.7777777777777778,\"#fb9f3a\"],[0.8888888888888888,\"#fdca26\"],[1.0,\"#f0f921\"]],\"type\":\"heatmapgl\"}],\"heatmap\":[{\"colorbar\":{\"outlinewidth\":0,\"ticks\":\"\"},\"colorscale\":[[0.0,\"#0d0887\"],[0.1111111111111111,\"#46039f\"],[0.2222222222222222,\"#7201a8\"],[0.3333333333333333,\"#9c179e\"],[0.4444444444444444,\"#bd3786\"],[0.5555555555555556,\"#d8576b\"],[0.6666666666666666,\"#ed7953\"],[0.7777777777777778,\"#fb9f3a\"],[0.8888888888888888,\"#fdca26\"],[1.0,\"#f0f921\"]],\"type\":\"heatmap\"}],\"histogram2dcontour\":[{\"colorbar\":{\"outlinewidth\":0,\"ticks\":\"\"},\"colorscale\":[[0.0,\"#0d0887\"],[0.1111111111111111,\"#46039f\"],[0.2222222222222222,\"#7201a8\"],[0.3333333333333333,\"#9c179e\"],[0.4444444444444444,\"#bd3786\"],[0.5555555555555556,\"#d8576b\"],[0.6666666666666666,\"#ed7953\"],[0.7777777777777778,\"#fb9f3a\"],[0.8888888888888888,\"#fdca26\"],[1.0,\"#f0f921\"]],\"type\":\"histogram2dcontour\"}],\"histogram2d\":[{\"colorbar\":{\"outlinewidth\":0,\"ticks\":\"\"},\"colorscale\":[[0.0,\"#0d0887\"],[0.1111111111111111,\"#46039f\"],[0.2222222222222222,\"#7201a8\"],[0.3333333333333333,\"#9c179e\"],[0.4444444444444444,\"#bd3786\"],[0.5555555555555556,\"#d8576b\"],[0.6666666666666666,\"#ed7953\"],[0.7777777777777778,\"#fb9f3a\"],[0.8888888888888888,\"#fdca26\"],[1.0,\"#f0f921\"]],\"type\":\"histogram2d\"}],\"histogram\":[{\"marker\":{\"pattern\":{\"fillmode\":\"overlay\",\"size\":10,\"solidity\":0.2}},\"type\":\"histogram\"}],\"mesh3d\":[{\"colorbar\":{\"outlinewidth\":0,\"ticks\":\"\"},\"type\":\"mesh3d\"}],\"parcoords\":[{\"line\":{\"colorbar\":{\"outlinewidth\":0,\"ticks\":\"\"}},\"type\":\"parcoords\"}],\"pie\":[{\"automargin\":true,\"type\":\"pie\"}],\"scatter3d\":[{\"line\":{\"colorbar\":{\"outlinewidth\":0,\"ticks\":\"\"}},\"marker\":{\"colorbar\":{\"outlinewidth\":0,\"ticks\":\"\"}},\"type\":\"scatter3d\"}],\"scattercarpet\":[{\"marker\":{\"colorbar\":{\"outlinewidth\":0,\"ticks\":\"\"}},\"type\":\"scattercarpet\"}],\"scattergeo\":[{\"marker\":{\"colorbar\":{\"outlinewidth\":0,\"ticks\":\"\"}},\"type\":\"scattergeo\"}],\"scattergl\":[{\"marker\":{\"colorbar\":{\"outlinewidth\":0,\"ticks\":\"\"}},\"type\":\"scattergl\"}],\"scattermapbox\":[{\"marker\":{\"colorbar\":{\"outlinewidth\":0,\"ticks\":\"\"}},\"type\":\"scattermapbox\"}],\"scatterpolargl\":[{\"marker\":{\"colorbar\":{\"outlinewidth\":0,\"ticks\":\"\"}},\"type\":\"scatterpolargl\"}],\"scatterpolar\":[{\"marker\":{\"colorbar\":{\"outlinewidth\":0,\"ticks\":\"\"}},\"type\":\"scatterpolar\"}],\"scatter\":[{\"fillpattern\":{\"fillmode\":\"overlay\",\"size\":10,\"solidity\":0.2},\"type\":\"scatter\"}],\"scatterternary\":[{\"marker\":{\"colorbar\":{\"outlinewidth\":0,\"ticks\":\"\"}},\"type\":\"scatterternary\"}],\"surface\":[{\"colorbar\":{\"outlinewidth\":0,\"ticks\":\"\"},\"colorscale\":[[0.0,\"#0d0887\"],[0.1111111111111111,\"#46039f\"],[0.2222222222222222,\"#7201a8\"],[0.3333333333333333,\"#9c179e\"],[0.4444444444444444,\"#bd3786\"],[0.5555555555555556,\"#d8576b\"],[0.6666666666666666,\"#ed7953\"],[0.7777777777777778,\"#fb9f3a\"],[0.8888888888888888,\"#fdca26\"],[1.0,\"#f0f921\"]],\"type\":\"surface\"}],\"table\":[{\"cells\":{\"fill\":{\"color\":\"#EBF0F8\"},\"line\":{\"color\":\"white\"}},\"header\":{\"fill\":{\"color\":\"#C8D4E3\"},\"line\":{\"color\":\"white\"}},\"type\":\"table\"}]},\"layout\":{\"annotationdefaults\":{\"arrowcolor\":\"#2a3f5f\",\"arrowhead\":0,\"arrowwidth\":1},\"autotypenumbers\":\"strict\",\"coloraxis\":{\"colorbar\":{\"outlinewidth\":0,\"ticks\":\"\"}},\"colorscale\":{\"diverging\":[[0,\"#8e0152\"],[0.1,\"#c51b7d\"],[0.2,\"#de77ae\"],[0.3,\"#f1b6da\"],[0.4,\"#fde0ef\"],[0.5,\"#f7f7f7\"],[0.6,\"#e6f5d0\"],[0.7,\"#b8e186\"],[0.8,\"#7fbc41\"],[0.9,\"#4d9221\"],[1,\"#276419\"]],\"sequential\":[[0.0,\"#0d0887\"],[0.1111111111111111,\"#46039f\"],[0.2222222222222222,\"#7201a8\"],[0.3333333333333333,\"#9c179e\"],[0.4444444444444444,\"#bd3786\"],[0.5555555555555556,\"#d8576b\"],[0.6666666666666666,\"#ed7953\"],[0.7777777777777778,\"#fb9f3a\"],[0.8888888888888888,\"#fdca26\"],[1.0,\"#f0f921\"]],\"sequentialminus\":[[0.0,\"#0d0887\"],[0.1111111111111111,\"#46039f\"],[0.2222222222222222,\"#7201a8\"],[0.3333333333333333,\"#9c179e\"],[0.4444444444444444,\"#bd3786\"],[0.5555555555555556,\"#d8576b\"],[0.6666666666666666,\"#ed7953\"],[0.7777777777777778,\"#fb9f3a\"],[0.8888888888888888,\"#fdca26\"],[1.0,\"#f0f921\"]]},\"colorway\":[\"#636efa\",\"#EF553B\",\"#00cc96\",\"#ab63fa\",\"#FFA15A\",\"#19d3f3\",\"#FF6692\",\"#B6E880\",\"#FF97FF\",\"#FECB52\"],\"font\":{\"color\":\"#2a3f5f\"},\"geo\":{\"bgcolor\":\"white\",\"lakecolor\":\"white\",\"landcolor\":\"#E5ECF6\",\"showlakes\":true,\"showland\":true,\"subunitcolor\":\"white\"},\"hoverlabel\":{\"align\":\"left\"},\"hovermode\":\"closest\",\"mapbox\":{\"style\":\"light\"},\"paper_bgcolor\":\"white\",\"plot_bgcolor\":\"#E5ECF6\",\"polar\":{\"angularaxis\":{\"gridcolor\":\"white\",\"linecolor\":\"white\",\"ticks\":\"\"},\"bgcolor\":\"#E5ECF6\",\"radialaxis\":{\"gridcolor\":\"white\",\"linecolor\":\"white\",\"ticks\":\"\"}},\"scene\":{\"xaxis\":{\"backgroundcolor\":\"#E5ECF6\",\"gridcolor\":\"white\",\"gridwidth\":2,\"linecolor\":\"white\",\"showbackground\":true,\"ticks\":\"\",\"zerolinecolor\":\"white\"},\"yaxis\":{\"backgroundcolor\":\"#E5ECF6\",\"gridcolor\":\"white\",\"gridwidth\":2,\"linecolor\":\"white\",\"showbackground\":true,\"ticks\":\"\",\"zerolinecolor\":\"white\"},\"zaxis\":{\"backgroundcolor\":\"#E5ECF6\",\"gridcolor\":\"white\",\"gridwidth\":2,\"linecolor\":\"white\",\"showbackground\":true,\"ticks\":\"\",\"zerolinecolor\":\"white\"}},\"shapedefaults\":{\"line\":{\"color\":\"#2a3f5f\"}},\"ternary\":{\"aaxis\":{\"gridcolor\":\"white\",\"linecolor\":\"white\",\"ticks\":\"\"},\"baxis\":{\"gridcolor\":\"white\",\"linecolor\":\"white\",\"ticks\":\"\"},\"bgcolor\":\"#E5ECF6\",\"caxis\":{\"gridcolor\":\"white\",\"linecolor\":\"white\",\"ticks\":\"\"}},\"title\":{\"x\":0.05},\"xaxis\":{\"automargin\":true,\"gridcolor\":\"white\",\"linecolor\":\"white\",\"ticks\":\"\",\"title\":{\"standoff\":15},\"zerolinecolor\":\"white\",\"zerolinewidth\":2},\"yaxis\":{\"automargin\":true,\"gridcolor\":\"white\",\"linecolor\":\"white\",\"ticks\":\"\",\"title\":{\"standoff\":15},\"zerolinecolor\":\"white\",\"zerolinewidth\":2}}},\"title\":{\"font\":{\"family\":\"Arial, sans-serif\",\"size\":30},\"text\":\"<b>Pit Stop Times</b>\",\"x\":0.5},\"yaxis\":{\"range\":[20.156,25.061]}},                        {\"responsive\": true}                    ).then(function(){\n",
       "                            \n",
       "var gd = document.getElementById('a421f69b-6d39-47fb-b486-a0c125443a6a');\n",
       "var x = new MutationObserver(function (mutations, observer) {{\n",
       "        var display = window.getComputedStyle(gd).display;\n",
       "        if (!display || display === 'none') {{\n",
       "            console.log([gd, 'removed!']);\n",
       "            Plotly.purge(gd);\n",
       "            observer.disconnect();\n",
       "        }}\n",
       "}});\n",
       "\n",
       "// Listen for the removal of the full notebook cells\n",
       "var notebookContainer = gd.closest('#notebook-container');\n",
       "if (notebookContainer) {{\n",
       "    x.observe(notebookContainer, {childList: true});\n",
       "}}\n",
       "\n",
       "// Listen for the clearing of the current output cell\n",
       "var outputEl = gd.closest('.output');\n",
       "if (outputEl) {{\n",
       "    x.observe(outputEl, {childList: true});\n",
       "}}\n",
       "\n",
       "                        })                };                });            </script>        </div>"
      ]
     },
     "metadata": {},
     "output_type": "display_data"
    }
   ],
   "source": [
    "if not pit_stop_emp:\n",
    "    max_pit = max(driver_group['max']) + 1\n",
    "    min_pit = min(driver_group['min']) - 1\n",
    "\n",
    "    data = [\n",
    "    go.Bar(y=driver_group['max'], x=driver_group.Driver, name='Max Pit',  \n",
    "            #base=0\n",
    "           ),\n",
    "    go.Bar(y=driver_group['mean'], x=driver_group.Driver, name='Avg PIt'),\n",
    "    go.Bar(y=driver_group['min'], x=driver_group.Driver, name='Min PIt')]\n",
    "\n",
    "    layout = go.Layout(\n",
    "    barmode='overlay',\n",
    "    title=\"Pit Times\",\n",
    "    title_text='<b>Pit Stop Times</b>', titlefont = dict(\n",
    "         family = 'Arial, sans-serif',\n",
    "         size = 30\n",
    "      ), title_x=0.5\n",
    "    )\n",
    "\n",
    "    fig = dict(data = data, layout = layout, layout_yaxis_range=[min_pit, max_pit])\n",
    "    \n",
    "    iplot(fig, show_link=False)"
   ]
  },
  {
   "cell_type": "code",
   "execution_count": 26,
   "id": "150c65bd",
   "metadata": {
    "_kg_hide-input": true,
    "execution": {
     "iopub.execute_input": "2023-11-27T17:06:10.490845Z",
     "iopub.status.busy": "2023-11-27T17:06:10.489677Z",
     "iopub.status.idle": "2023-11-27T17:06:10.498250Z",
     "shell.execute_reply": "2023-11-27T17:06:10.497103Z"
    },
    "papermill": {
     "duration": 0.033773,
     "end_time": "2023-11-27T17:06:10.500950",
     "exception": false,
     "start_time": "2023-11-27T17:06:10.467177",
     "status": "completed"
    },
    "tags": []
   },
   "outputs": [
    {
     "data": {
      "text/markdown": [
       "# <div style='background:#FF1801; border:0; color:black; box-shadow: 10px 10px 5px 0px rgba(0,0,0,0.75); transform: rotateX(10deg);'><h1 style='padding: 10px; margin: 0; text-align:center;'><span style='font-size: 30px;'>Lap Results</span></h1></div>"
      ],
      "text/plain": [
       "<IPython.core.display.Markdown object>"
      ]
     },
     "metadata": {},
     "output_type": "display_data"
    }
   ],
   "source": [
    "display(md(f\"# <div style='background:#FF1801; border:0; color:black; box-shadow: 10px 10px 5px 0px rgba(0,0,0,0.75); transform: rotateX(10deg);'><h1 style='padding: 10px; margin: 0; text-align:center;'><span style='font-size: 30px;'>Lap Results</span></h1></div>\"))"
   ]
  },
  {
   "cell_type": "code",
   "execution_count": 27,
   "id": "e7d6c7f0",
   "metadata": {
    "_kg_hide-input": true,
    "execution": {
     "iopub.execute_input": "2023-11-27T17:06:10.546523Z",
     "iopub.status.busy": "2023-11-27T17:06:10.544946Z",
     "iopub.status.idle": "2023-11-27T17:06:10.742623Z",
     "shell.execute_reply": "2023-11-27T17:06:10.741277Z"
    },
    "papermill": {
     "duration": 0.22357,
     "end_time": "2023-11-27T17:06:10.745738",
     "exception": false,
     "start_time": "2023-11-27T17:06:10.522168",
     "status": "completed"
    },
    "tags": []
   },
   "outputs": [
    {
     "data": {
      "text/html": [
       "<div>                            <div id=\"d006bae5-c854-426b-b530-9ed1ad7c8fb5\" class=\"plotly-graph-div\" style=\"height:525px; width:100%;\"></div>            <script type=\"text/javascript\">                require([\"plotly\"], function(Plotly) {                    window.PLOTLYENV=window.PLOTLYENV || {};                                    if (document.getElementById(\"d006bae5-c854-426b-b530-9ed1ad7c8fb5\")) {                    Plotly.newPlot(                        \"d006bae5-c854-426b-b530-9ed1ad7c8fb5\",                        [{\"alignmentgroup\":\"True\",\"boxpoints\":false,\"hovertemplate\":\"Driver=%{y}<br>Duration (Seconds, Outliers/Red Flags, Removed)=%{x}<extra></extra>\",\"legendgroup\":\"VER\",\"marker\":{\"color\":\"#000B8D\"},\"name\":\"VER\",\"notched\":false,\"offsetgroup\":\"VER\",\"orientation\":\"h\",\"showlegend\":true,\"x\":[92.19,90.71000000000001,90.408,90.71600000000001,90.55199999999999,90.44,90.529,90.51599999999999,90.632,90.506,90.561,90.59,90.561,90.64699999999999,90.267,92.55799999999999,89.896,89.386,89.628,89.127,89.689,89.634,89.293,89.401,89.289,89.156,89.217,89.18299999999999,89.26599999999999,89.149,89.1,89.137,89.077,89.148,88.902,88.91,89.07300000000001,88.849,89.053,89.003,89.082,91.39099999999999,86.993,87.902,87.962,87.968,87.901,88.03999999999999],\"x0\":\" \",\"xaxis\":\"x\",\"y\":[\"VER\",\"VER\",\"VER\",\"VER\",\"VER\",\"VER\",\"VER\",\"VER\",\"VER\",\"VER\",\"VER\",\"VER\",\"VER\",\"VER\",\"VER\",\"VER\",\"VER\",\"VER\",\"VER\",\"VER\",\"VER\",\"VER\",\"VER\",\"VER\",\"VER\",\"VER\",\"VER\",\"VER\",\"VER\",\"VER\",\"VER\",\"VER\",\"VER\",\"VER\",\"VER\",\"VER\",\"VER\",\"VER\",\"VER\",\"VER\",\"VER\",\"VER\",\"VER\",\"VER\",\"VER\",\"VER\",\"VER\",\"VER\"],\"y0\":\" \",\"yaxis\":\"y\",\"type\":\"box\"},{\"alignmentgroup\":\"True\",\"boxpoints\":false,\"hovertemplate\":\"Driver=%{y}<br>Duration (Seconds, Outliers/Red Flags, Removed)=%{x}<extra></extra>\",\"legendgroup\":\"LEC\",\"marker\":{\"color\":\"#EF1A2D\"},\"name\":\"LEC\",\"notched\":false,\"offsetgroup\":\"LEC\",\"orientation\":\"h\",\"showlegend\":true,\"x\":[93.119,91.117,90.5,90.884,90.459,90.544,90.373,90.631,90.431,90.60900000000001,90.613,90.584,90.81700000000001,90.571,90.618,90.711,92.468,89.908,90.07300000000001,89.724,89.70400000000001,89.84700000000001,89.577,89.707,89.655,89.21000000000001,89.556,89.556,89.428,89.554,89.815,89.693,89.447,91.443,89.035,88.736,88.759,88.54599999999999,88.46600000000001,88.277,88.211,88.199,88.395,88.446,88.221,88.419,88.396,88.258],\"x0\":\" \",\"xaxis\":\"x\",\"y\":[\"LEC\",\"LEC\",\"LEC\",\"LEC\",\"LEC\",\"LEC\",\"LEC\",\"LEC\",\"LEC\",\"LEC\",\"LEC\",\"LEC\",\"LEC\",\"LEC\",\"LEC\",\"LEC\",\"LEC\",\"LEC\",\"LEC\",\"LEC\",\"LEC\",\"LEC\",\"LEC\",\"LEC\",\"LEC\",\"LEC\",\"LEC\",\"LEC\",\"LEC\",\"LEC\",\"LEC\",\"LEC\",\"LEC\",\"LEC\",\"LEC\",\"LEC\",\"LEC\",\"LEC\",\"LEC\",\"LEC\",\"LEC\",\"LEC\",\"LEC\",\"LEC\",\"LEC\",\"LEC\",\"LEC\",\"LEC\"],\"y0\":\" \",\"yaxis\":\"y\",\"type\":\"box\"},{\"alignmentgroup\":\"True\",\"boxpoints\":false,\"hovertemplate\":\"Driver=%{y}<br>Duration (Seconds, Outliers/Red Flags, Removed)=%{x}<extra></extra>\",\"legendgroup\":\"PIA\",\"marker\":{\"color\":\"#FF8000\"},\"name\":\"PIA\",\"notched\":false,\"offsetgroup\":\"PIA\",\"orientation\":\"h\",\"showlegend\":true,\"x\":[93.882,91.075,90.631,91.816,90.419,90.813,90.953,90.795,90.899,91.239,92.44800000000001,91.304,92.981,90.649,90.276,89.95400000000001,90.438,90.498,90.088,89.888,90.496,90.10300000000001,89.958,90.02799999999999,89.918,89.602,91.036,90.34,90.497,90.082,89.84700000000001,89.777,89.84100000000001,89.858,91.58,88.138,88.65,88.68299999999999,88.762,88.97800000000001,88.332,88.489,88.149,88.806,89.26599999999999,89.061,89.445,88.761],\"x0\":\" \",\"xaxis\":\"x\",\"y\":[\"PIA\",\"PIA\",\"PIA\",\"PIA\",\"PIA\",\"PIA\",\"PIA\",\"PIA\",\"PIA\",\"PIA\",\"PIA\",\"PIA\",\"PIA\",\"PIA\",\"PIA\",\"PIA\",\"PIA\",\"PIA\",\"PIA\",\"PIA\",\"PIA\",\"PIA\",\"PIA\",\"PIA\",\"PIA\",\"PIA\",\"PIA\",\"PIA\",\"PIA\",\"PIA\",\"PIA\",\"PIA\",\"PIA\",\"PIA\",\"PIA\",\"PIA\",\"PIA\",\"PIA\",\"PIA\",\"PIA\",\"PIA\",\"PIA\",\"PIA\",\"PIA\",\"PIA\",\"PIA\",\"PIA\",\"PIA\"],\"y0\":\" \",\"yaxis\":\"y\",\"type\":\"box\"},{\"alignmentgroup\":\"True\",\"boxpoints\":false,\"hovertemplate\":\"Driver=%{y}<br>Duration (Seconds, Outliers/Red Flags, Removed)=%{x}<extra></extra>\",\"legendgroup\":\"NOR\",\"marker\":{\"color\":\"#FF8000\"},\"name\":\"NOR\",\"notched\":false,\"offsetgroup\":\"NOR\",\"orientation\":\"h\",\"showlegend\":true,\"x\":[94.309,91.43,90.714,90.188,90.456,90.45,90.533,90.676,90.613,90.912,91.22800000000001,91.189,91.013,92.394,89.654,90.133,90.044,89.727,89.902,89.781,90.393,90.24,89.791,89.637,89.30799999999999,89.48,89.469,89.426,89.5,90.01,89.842,91.445,88.736,89.881,89.22,89.596,89.432,89.243,89.064,88.52199999999999,88.848,88.539,88.164,88.187,88.568,89.763,88.797,88.634],\"x0\":\" \",\"xaxis\":\"x\",\"y\":[\"NOR\",\"NOR\",\"NOR\",\"NOR\",\"NOR\",\"NOR\",\"NOR\",\"NOR\",\"NOR\",\"NOR\",\"NOR\",\"NOR\",\"NOR\",\"NOR\",\"NOR\",\"NOR\",\"NOR\",\"NOR\",\"NOR\",\"NOR\",\"NOR\",\"NOR\",\"NOR\",\"NOR\",\"NOR\",\"NOR\",\"NOR\",\"NOR\",\"NOR\",\"NOR\",\"NOR\",\"NOR\",\"NOR\",\"NOR\",\"NOR\",\"NOR\",\"NOR\",\"NOR\",\"NOR\",\"NOR\",\"NOR\",\"NOR\",\"NOR\",\"NOR\",\"NOR\",\"NOR\",\"NOR\",\"NOR\"],\"y0\":\" \",\"yaxis\":\"y\",\"type\":\"box\"},{\"alignmentgroup\":\"True\",\"boxpoints\":false,\"hovertemplate\":\"Driver=%{y}<br>Duration (Seconds, Outliers/Red Flags, Removed)=%{x}<extra></extra>\",\"legendgroup\":\"RUS\",\"marker\":{\"color\":\"#00A19B\"},\"name\":\"RUS\",\"notched\":false,\"offsetgroup\":\"RUS\",\"orientation\":\"h\",\"showlegend\":true,\"x\":[94.77600000000001,91.598,90.598,90.797,90.689,90.80799999999999,90.842,90.93299999999999,90.767,91.14,90.856,90.95,90.816,92.471,89.537,90.049,89.52199999999999,90.358,90.088,90.118,89.786,89.672,89.355,89.545,89.53999999999999,89.432,89.565,89.72200000000001,89.84,89.402,89.69200000000001,89.593,90.962,88.687,88.943,89.243,89.194,88.68299999999999,88.612,88.792,88.524,88.36,88.187,88.19200000000001,88.261,88.53,88.428,88.4],\"x0\":\" \",\"xaxis\":\"x\",\"y\":[\"RUS\",\"RUS\",\"RUS\",\"RUS\",\"RUS\",\"RUS\",\"RUS\",\"RUS\",\"RUS\",\"RUS\",\"RUS\",\"RUS\",\"RUS\",\"RUS\",\"RUS\",\"RUS\",\"RUS\",\"RUS\",\"RUS\",\"RUS\",\"RUS\",\"RUS\",\"RUS\",\"RUS\",\"RUS\",\"RUS\",\"RUS\",\"RUS\",\"RUS\",\"RUS\",\"RUS\",\"RUS\",\"RUS\",\"RUS\",\"RUS\",\"RUS\",\"RUS\",\"RUS\",\"RUS\",\"RUS\",\"RUS\",\"RUS\",\"RUS\",\"RUS\",\"RUS\",\"RUS\",\"RUS\",\"RUS\"],\"y0\":\" \",\"yaxis\":\"y\",\"type\":\"box\"},{\"alignmentgroup\":\"True\",\"boxpoints\":false,\"hovertemplate\":\"Driver=%{y}<br>Duration (Seconds, Outliers/Red Flags, Removed)=%{x}<extra></extra>\",\"legendgroup\":\"TSU\",\"marker\":{\"color\":\"#20394C\"},\"name\":\"TSU\",\"notched\":false,\"offsetgroup\":\"TSU\",\"orientation\":\"h\",\"showlegend\":true,\"x\":[91.674,90.674,90.757,90.685,90.786,90.826,91.09700000000001,90.862,91.104,91.47200000000001,91.46600000000001,91.19800000000001,90.85,90.901,91.081,91.22800000000001,91.244,91.453,91.211,91.134,92.56700000000001,90.313,90.104,89.724,89.94200000000001,89.892,89.688,89.989,89.667,89.968,89.759,89.976,89.773,89.64,89.834,90.57900000000001,91.013,89.633,89.511,90.349,89.65899999999999,89.732,89.315,89.41,89.33500000000001,90.932,89.951,89.643],\"x0\":\" \",\"xaxis\":\"x\",\"y\":[\"TSU\",\"TSU\",\"TSU\",\"TSU\",\"TSU\",\"TSU\",\"TSU\",\"TSU\",\"TSU\",\"TSU\",\"TSU\",\"TSU\",\"TSU\",\"TSU\",\"TSU\",\"TSU\",\"TSU\",\"TSU\",\"TSU\",\"TSU\",\"TSU\",\"TSU\",\"TSU\",\"TSU\",\"TSU\",\"TSU\",\"TSU\",\"TSU\",\"TSU\",\"TSU\",\"TSU\",\"TSU\",\"TSU\",\"TSU\",\"TSU\",\"TSU\",\"TSU\",\"TSU\",\"TSU\",\"TSU\",\"TSU\",\"TSU\",\"TSU\",\"TSU\",\"TSU\",\"TSU\",\"TSU\",\"TSU\"],\"y0\":\" \",\"yaxis\":\"y\",\"type\":\"box\"},{\"alignmentgroup\":\"True\",\"boxpoints\":false,\"hovertemplate\":\"Driver=%{y}<br>Duration (Seconds, Outliers/Red Flags, Removed)=%{x}<extra></extra>\",\"legendgroup\":\"ALO\",\"marker\":{\"color\":\"#002420\"},\"name\":\"ALO\",\"notched\":false,\"offsetgroup\":\"ALO\",\"orientation\":\"h\",\"showlegend\":true,\"x\":[91.755,90.82300000000001,90.66,90.773,90.803,90.782,91.10900000000001,90.91499999999999,91.18,91.381,93.378,90.46600000000001,90.389,90.314,90.30799999999999,90.38,90.205,90.38,89.887,90.463,90.102,90.093,90.951,89.936,90.229,90.559,90.009,90.41499999999999,90.128,89.807,90.426,89.884,89.869,92.048,88.90899999999999,88.8,88.617,88.81,88.256,88.769,88.986,90.17699999999999,88.554,88.625,88.592,88.5,88.619],\"x0\":\" \",\"xaxis\":\"x\",\"y\":[\"ALO\",\"ALO\",\"ALO\",\"ALO\",\"ALO\",\"ALO\",\"ALO\",\"ALO\",\"ALO\",\"ALO\",\"ALO\",\"ALO\",\"ALO\",\"ALO\",\"ALO\",\"ALO\",\"ALO\",\"ALO\",\"ALO\",\"ALO\",\"ALO\",\"ALO\",\"ALO\",\"ALO\",\"ALO\",\"ALO\",\"ALO\",\"ALO\",\"ALO\",\"ALO\",\"ALO\",\"ALO\",\"ALO\",\"ALO\",\"ALO\",\"ALO\",\"ALO\",\"ALO\",\"ALO\",\"ALO\",\"ALO\",\"ALO\",\"ALO\",\"ALO\",\"ALO\",\"ALO\",\"ALO\"],\"y0\":\" \",\"yaxis\":\"y\",\"type\":\"box\"},{\"alignmentgroup\":\"True\",\"boxpoints\":false,\"hovertemplate\":\"Driver=%{y}<br>Duration (Seconds, Outliers/Red Flags, Removed)=%{x}<extra></extra>\",\"legendgroup\":\"GAS\",\"marker\":{\"color\":\"#2173B8\"},\"name\":\"GAS\",\"notched\":false,\"offsetgroup\":\"GAS\",\"orientation\":\"h\",\"showlegend\":true,\"x\":[91.774,90.824,90.758,90.764,90.886,90.787,90.944,91.305,91.136,91.467,92.49199999999999,91.532,91.457,91.986,92.273,94.709,90.0,90.242,90.422,90.179,91.158,90.80199999999999,90.852,90.629,90.404,90.496,90.32900000000001,90.392,90.239,92.563,89.151,89.01599999999999,89.351,90.01,90.098,90.797,89.85900000000001,89.621,89.231,89.717,89.77,89.503,89.428,89.726,89.505,89.518,89.549],\"x0\":\" \",\"xaxis\":\"x\",\"y\":[\"GAS\",\"GAS\",\"GAS\",\"GAS\",\"GAS\",\"GAS\",\"GAS\",\"GAS\",\"GAS\",\"GAS\",\"GAS\",\"GAS\",\"GAS\",\"GAS\",\"GAS\",\"GAS\",\"GAS\",\"GAS\",\"GAS\",\"GAS\",\"GAS\",\"GAS\",\"GAS\",\"GAS\",\"GAS\",\"GAS\",\"GAS\",\"GAS\",\"GAS\",\"GAS\",\"GAS\",\"GAS\",\"GAS\",\"GAS\",\"GAS\",\"GAS\",\"GAS\",\"GAS\",\"GAS\",\"GAS\",\"GAS\",\"GAS\",\"GAS\",\"GAS\",\"GAS\",\"GAS\",\"GAS\"],\"y0\":\" \",\"yaxis\":\"y\",\"type\":\"box\"},{\"alignmentgroup\":\"True\",\"boxpoints\":false,\"hovertemplate\":\"Driver=%{y}<br>Duration (Seconds, Outliers/Red Flags, Removed)=%{x}<extra></extra>\",\"legendgroup\":\"HAM\",\"marker\":{\"color\":\"#00A19B\"},\"name\":\"HAM\",\"notched\":false,\"offsetgroup\":\"HAM\",\"orientation\":\"h\",\"showlegend\":true,\"x\":[91.727,91.526,90.844,90.844,90.634,90.899,91.061,91.132,91.271,91.378,91.71600000000001,91.689,91.432,93.65100000000001,90.095,90.057,89.979,89.657,89.85,91.502,90.265,89.861,89.37,89.899,89.568,89.691,89.842,90.118,89.806,89.876,89.774,89.789,91.324,89.532,90.373,89.221,88.867,88.81,88.793,88.711,88.99,89.023,89.729,89.52799999999999,88.814,88.809,88.58500000000001],\"x0\":\" \",\"xaxis\":\"x\",\"y\":[\"HAM\",\"HAM\",\"HAM\",\"HAM\",\"HAM\",\"HAM\",\"HAM\",\"HAM\",\"HAM\",\"HAM\",\"HAM\",\"HAM\",\"HAM\",\"HAM\",\"HAM\",\"HAM\",\"HAM\",\"HAM\",\"HAM\",\"HAM\",\"HAM\",\"HAM\",\"HAM\",\"HAM\",\"HAM\",\"HAM\",\"HAM\",\"HAM\",\"HAM\",\"HAM\",\"HAM\",\"HAM\",\"HAM\",\"HAM\",\"HAM\",\"HAM\",\"HAM\",\"HAM\",\"HAM\",\"HAM\",\"HAM\",\"HAM\",\"HAM\",\"HAM\",\"HAM\",\"HAM\",\"HAM\"],\"y0\":\" \",\"yaxis\":\"y\",\"type\":\"box\"},{\"alignmentgroup\":\"True\",\"boxpoints\":false,\"hovertemplate\":\"Driver=%{y}<br>Duration (Seconds, Outliers/Red Flags, Removed)=%{x}<extra></extra>\",\"legendgroup\":\"PER\",\"marker\":{\"color\":\"#000B8D\"},\"name\":\"PER\",\"notched\":false,\"offsetgroup\":\"PER\",\"orientation\":\"h\",\"showlegend\":true,\"x\":[91.672,90.469,90.759,90.797,90.682,90.818,90.993,91.287,91.214,91.535,90.874,91.309,91.19,91.225,91.375,93.256,89.365,89.107,88.986,89.719,89.71000000000001,90.001,89.572,89.864,89.34,88.95400000000001,89.563,89.48,89.413,89.314,89.261,89.316,89.243,88.928,88.992,89.043,89.13,88.90899999999999,89.195,90.958,87.493,87.837,87.914,88.401,87.97,87.926,87.758],\"x0\":\" \",\"xaxis\":\"x\",\"y\":[\"PER\",\"PER\",\"PER\",\"PER\",\"PER\",\"PER\",\"PER\",\"PER\",\"PER\",\"PER\",\"PER\",\"PER\",\"PER\",\"PER\",\"PER\",\"PER\",\"PER\",\"PER\",\"PER\",\"PER\",\"PER\",\"PER\",\"PER\",\"PER\",\"PER\",\"PER\",\"PER\",\"PER\",\"PER\",\"PER\",\"PER\",\"PER\",\"PER\",\"PER\",\"PER\",\"PER\",\"PER\",\"PER\",\"PER\",\"PER\",\"PER\",\"PER\",\"PER\",\"PER\",\"PER\",\"PER\",\"PER\"],\"y0\":\" \",\"yaxis\":\"y\",\"type\":\"box\"},{\"alignmentgroup\":\"True\",\"boxpoints\":false,\"hovertemplate\":\"Driver=%{y}<br>Duration (Seconds, Outliers/Red Flags, Removed)=%{x}<extra></extra>\",\"legendgroup\":\"OCO\",\"marker\":{\"color\":\"#2173B8\"},\"name\":\"OCO\",\"notched\":false,\"offsetgroup\":\"OCO\",\"orientation\":\"h\",\"showlegend\":true,\"x\":[91.81,91.033,90.988,90.994,90.689,90.932,90.997,91.07300000000001,91.254,91.422,91.527,91.77,91.64699999999999,93.667,90.134,90.276,90.132,90.128,90.246,90.756,91.726,90.791,90.338,90.993,90.578,90.322,90.504,90.514,90.319,90.243,90.244,90.033,90.474,90.622,90.307,90.138,92.095,90.447,90.252,90.742,91.081,90.431,90.163,90.113,90.17699999999999,90.35900000000001,90.258,90.986],\"x0\":\" \",\"xaxis\":\"x\",\"y\":[\"OCO\",\"OCO\",\"OCO\",\"OCO\",\"OCO\",\"OCO\",\"OCO\",\"OCO\",\"OCO\",\"OCO\",\"OCO\",\"OCO\",\"OCO\",\"OCO\",\"OCO\",\"OCO\",\"OCO\",\"OCO\",\"OCO\",\"OCO\",\"OCO\",\"OCO\",\"OCO\",\"OCO\",\"OCO\",\"OCO\",\"OCO\",\"OCO\",\"OCO\",\"OCO\",\"OCO\",\"OCO\",\"OCO\",\"OCO\",\"OCO\",\"OCO\",\"OCO\",\"OCO\",\"OCO\",\"OCO\",\"OCO\",\"OCO\",\"OCO\",\"OCO\",\"OCO\",\"OCO\",\"OCO\",\"OCO\"],\"y0\":\" \",\"yaxis\":\"y\",\"type\":\"box\"},{\"alignmentgroup\":\"True\",\"boxpoints\":false,\"hovertemplate\":\"Driver=%{y}<br>Duration (Seconds, Outliers/Red Flags, Removed)=%{x}<extra></extra>\",\"legendgroup\":\"STR\",\"marker\":{\"color\":\"#002420\"},\"name\":\"STR\",\"notched\":false,\"offsetgroup\":\"STR\",\"orientation\":\"h\",\"showlegend\":true,\"x\":[91.963,90.92699999999999,91.017,91.094,90.795,91.056,90.988,91.195,91.074,91.367,91.555,91.631,91.693,91.312,91.293,90.5,91.011,90.64,90.655,91.623,92.91499999999999,90.35300000000001,89.87,88.86,90.191,90.312,89.602,89.736,89.706,89.831,90.128,89.92099999999999,89.902,90.486,90.751,90.40299999999999,90.305,90.099,89.991,91.64,88.05,88.17699999999999,88.239,88.535,88.639,89.03,88.81],\"x0\":\" \",\"xaxis\":\"x\",\"y\":[\"STR\",\"STR\",\"STR\",\"STR\",\"STR\",\"STR\",\"STR\",\"STR\",\"STR\",\"STR\",\"STR\",\"STR\",\"STR\",\"STR\",\"STR\",\"STR\",\"STR\",\"STR\",\"STR\",\"STR\",\"STR\",\"STR\",\"STR\",\"STR\",\"STR\",\"STR\",\"STR\",\"STR\",\"STR\",\"STR\",\"STR\",\"STR\",\"STR\",\"STR\",\"STR\",\"STR\",\"STR\",\"STR\",\"STR\",\"STR\",\"STR\",\"STR\",\"STR\",\"STR\",\"STR\",\"STR\",\"STR\"],\"y0\":\" \",\"yaxis\":\"y\",\"type\":\"box\"},{\"alignmentgroup\":\"True\",\"boxpoints\":false,\"hovertemplate\":\"Driver=%{y}<br>Duration (Seconds, Outliers/Red Flags, Removed)=%{x}<extra></extra>\",\"legendgroup\":\"SAI\",\"marker\":{\"color\":\"#EF1A2D\"},\"name\":\"SAI\",\"notched\":false,\"offsetgroup\":\"SAI\",\"orientation\":\"h\",\"showlegend\":true,\"x\":[91.98,91.30799999999999,91.099,91.158,91.175,91.301,91.263,90.965,91.305,91.08500000000001,91.27799999999999,91.385,91.416,91.619,91.197,91.621,90.96000000000001,91.551,90.93299999999999,92.184,92.071,93.587,90.188,90.007,89.84100000000001,89.977,89.64,89.7,89.764,89.89699999999999,89.76,89.674,89.494,90.22800000000001,89.807,89.746,90.581,89.635,89.495,89.452,89.612,89.809,90.132,90.712,91.102,90.565,90.033,89.873],\"x0\":\" \",\"xaxis\":\"x\",\"y\":[\"SAI\",\"SAI\",\"SAI\",\"SAI\",\"SAI\",\"SAI\",\"SAI\",\"SAI\",\"SAI\",\"SAI\",\"SAI\",\"SAI\",\"SAI\",\"SAI\",\"SAI\",\"SAI\",\"SAI\",\"SAI\",\"SAI\",\"SAI\",\"SAI\",\"SAI\",\"SAI\",\"SAI\",\"SAI\",\"SAI\",\"SAI\",\"SAI\",\"SAI\",\"SAI\",\"SAI\",\"SAI\",\"SAI\",\"SAI\",\"SAI\",\"SAI\",\"SAI\",\"SAI\",\"SAI\",\"SAI\",\"SAI\",\"SAI\",\"SAI\",\"SAI\",\"SAI\",\"SAI\",\"SAI\",\"SAI\"],\"y0\":\" \",\"yaxis\":\"y\",\"type\":\"box\"},{\"alignmentgroup\":\"True\",\"boxpoints\":false,\"hovertemplate\":\"Driver=%{y}<br>Duration (Seconds, Outliers/Red Flags, Removed)=%{x}<extra></extra>\",\"legendgroup\":\"HUL\",\"marker\":{\"color\":\"#E6002B\"},\"name\":\"HUL\",\"notched\":false,\"offsetgroup\":\"HUL\",\"orientation\":\"h\",\"showlegend\":true,\"x\":[92.92099999999999,91.351,91.374,91.227,91.101,91.332,91.5,91.545,91.583,92.00200000000001,91.827,93.719,90.133,90.574,90.356,91.635,90.33500000000001,90.436,90.636,90.451,91.02,91.104,90.868,91.444,92.08500000000001,91.58,91.768,90.667,90.593,90.845,92.455,90.498,89.691,89.747,89.462,90.09100000000001,90.121,89.893,89.396,89.485,89.542,89.5,89.456,90.035,90.121,90.705,90.2],\"x0\":\" \",\"xaxis\":\"x\",\"y\":[\"HUL\",\"HUL\",\"HUL\",\"HUL\",\"HUL\",\"HUL\",\"HUL\",\"HUL\",\"HUL\",\"HUL\",\"HUL\",\"HUL\",\"HUL\",\"HUL\",\"HUL\",\"HUL\",\"HUL\",\"HUL\",\"HUL\",\"HUL\",\"HUL\",\"HUL\",\"HUL\",\"HUL\",\"HUL\",\"HUL\",\"HUL\",\"HUL\",\"HUL\",\"HUL\",\"HUL\",\"HUL\",\"HUL\",\"HUL\",\"HUL\",\"HUL\",\"HUL\",\"HUL\",\"HUL\",\"HUL\",\"HUL\",\"HUL\",\"HUL\",\"HUL\",\"HUL\",\"HUL\",\"HUL\"],\"y0\":\" \",\"yaxis\":\"y\",\"type\":\"box\"},{\"alignmentgroup\":\"True\",\"boxpoints\":false,\"hovertemplate\":\"Driver=%{y}<br>Duration (Seconds, Outliers/Red Flags, Removed)=%{x}<extra></extra>\",\"legendgroup\":\"RIC\",\"marker\":{\"color\":\"#20394C\"},\"name\":\"RIC\",\"notched\":false,\"offsetgroup\":\"RIC\",\"orientation\":\"h\",\"showlegend\":true,\"x\":[92.74199999999999,91.519,91.28399999999999,91.326,91.064,93.072,89.815,90.238,90.43,90.078,90.271,90.424,90.475,90.482,90.39099999999999,90.697,90.418,91.08500000000001,90.686,90.883,90.476,90.295,91.132,91.949,90.737,90.697,91.307,90.678,92.48400000000001,89.349,89.584,89.814,90.531,91.968,91.008,90.068,88.84100000000001,88.838,88.581,90.055,88.818,88.705,88.708,88.571,88.702,88.791,89.065],\"x0\":\" \",\"xaxis\":\"x\",\"y\":[\"RIC\",\"RIC\",\"RIC\",\"RIC\",\"RIC\",\"RIC\",\"RIC\",\"RIC\",\"RIC\",\"RIC\",\"RIC\",\"RIC\",\"RIC\",\"RIC\",\"RIC\",\"RIC\",\"RIC\",\"RIC\",\"RIC\",\"RIC\",\"RIC\",\"RIC\",\"RIC\",\"RIC\",\"RIC\",\"RIC\",\"RIC\",\"RIC\",\"RIC\",\"RIC\",\"RIC\",\"RIC\",\"RIC\",\"RIC\",\"RIC\",\"RIC\",\"RIC\",\"RIC\",\"RIC\",\"RIC\",\"RIC\",\"RIC\",\"RIC\",\"RIC\",\"RIC\",\"RIC\",\"RIC\"],\"y0\":\" \",\"yaxis\":\"y\",\"type\":\"box\"},{\"alignmentgroup\":\"True\",\"boxpoints\":false,\"hovertemplate\":\"Driver=%{y}<br>Duration (Seconds, Outliers/Red Flags, Removed)=%{x}<extra></extra>\",\"legendgroup\":\"BOT\",\"marker\":{\"color\":\"#A42134\"},\"name\":\"BOT\",\"notched\":false,\"offsetgroup\":\"BOT\",\"orientation\":\"h\",\"showlegend\":true,\"x\":[92.77000000000001,91.69800000000001,91.281,91.445,91.122,91.189,91.206,91.71600000000001,91.713,91.616,91.78,91.887,91.709,91.436,91.475,91.561,92.23599999999999,92.309,92.795,92.462,92.922,92.934,92.36,92.13900000000001,92.821,91.81700000000001,92.424,94.094,91.30799999999999,90.245,90.623,90.473,90.401,90.207,90.246,90.01599999999999,90.001,90.345,90.161,89.863,91.418,89.999,90.495,89.998,90.44800000000001,90.492,90.688,91.586],\"x0\":\" \",\"xaxis\":\"x\",\"y\":[\"BOT\",\"BOT\",\"BOT\",\"BOT\",\"BOT\",\"BOT\",\"BOT\",\"BOT\",\"BOT\",\"BOT\",\"BOT\",\"BOT\",\"BOT\",\"BOT\",\"BOT\",\"BOT\",\"BOT\",\"BOT\",\"BOT\",\"BOT\",\"BOT\",\"BOT\",\"BOT\",\"BOT\",\"BOT\",\"BOT\",\"BOT\",\"BOT\",\"BOT\",\"BOT\",\"BOT\",\"BOT\",\"BOT\",\"BOT\",\"BOT\",\"BOT\",\"BOT\",\"BOT\",\"BOT\",\"BOT\",\"BOT\",\"BOT\",\"BOT\",\"BOT\",\"BOT\",\"BOT\",\"BOT\",\"BOT\"],\"y0\":\" \",\"yaxis\":\"y\",\"type\":\"box\"},{\"alignmentgroup\":\"True\",\"boxpoints\":false,\"hovertemplate\":\"Driver=%{y}<br>Duration (Seconds, Outliers/Red Flags, Removed)=%{x}<extra></extra>\",\"legendgroup\":\"ZHO\",\"marker\":{\"color\":\"#A42134\"},\"name\":\"ZHO\",\"notched\":false,\"offsetgroup\":\"ZHO\",\"orientation\":\"h\",\"showlegend\":true,\"x\":[92.533,91.81700000000001,91.303,91.44,91.331,91.227,91.318,91.662,91.936,91.845,92.298,93.899,90.762,90.842,90.892,90.973,91.083,91.099,91.055,90.35300000000001,90.707,90.957,90.695,91.879,90.619,90.782,90.608,91.054,90.935,90.874,90.844,90.941,90.594,90.67,92.936,88.951,89.081,89.402,88.97200000000001,88.746,89.083,89.89,89.324,89.40899999999999,89.383,89.76599999999999,89.70400000000001],\"x0\":\" \",\"xaxis\":\"x\",\"y\":[\"ZHO\",\"ZHO\",\"ZHO\",\"ZHO\",\"ZHO\",\"ZHO\",\"ZHO\",\"ZHO\",\"ZHO\",\"ZHO\",\"ZHO\",\"ZHO\",\"ZHO\",\"ZHO\",\"ZHO\",\"ZHO\",\"ZHO\",\"ZHO\",\"ZHO\",\"ZHO\",\"ZHO\",\"ZHO\",\"ZHO\",\"ZHO\",\"ZHO\",\"ZHO\",\"ZHO\",\"ZHO\",\"ZHO\",\"ZHO\",\"ZHO\",\"ZHO\",\"ZHO\",\"ZHO\",\"ZHO\",\"ZHO\",\"ZHO\",\"ZHO\",\"ZHO\",\"ZHO\",\"ZHO\",\"ZHO\",\"ZHO\",\"ZHO\",\"ZHO\",\"ZHO\",\"ZHO\"],\"y0\":\" \",\"yaxis\":\"y\",\"type\":\"box\"},{\"alignmentgroup\":\"True\",\"boxpoints\":false,\"hovertemplate\":\"Driver=%{y}<br>Duration (Seconds, Outliers/Red Flags, Removed)=%{x}<extra></extra>\",\"legendgroup\":\"ALB\",\"marker\":{\"color\":\"#00A0DE\"},\"name\":\"ALB\",\"notched\":false,\"offsetgroup\":\"ALB\",\"orientation\":\"h\",\"showlegend\":true,\"x\":[93.56,91.768,91.59100000000001,91.422,91.491,91.438,91.58,91.644,91.97800000000001,91.962,91.958,91.7,91.655,91.729,94.282,90.463,90.57300000000001,90.392,90.53999999999999,90.706,90.27199999999999,90.511,90.655,90.092,90.72800000000001,90.631,90.588,90.59100000000001,90.555,90.35,90.447,90.026,89.987,90.34100000000001,90.413,90.238,90.497,90.331,90.31,90.355,92.175,87.845,88.694,88.74,88.92,88.761,89.011],\"x0\":\" \",\"xaxis\":\"x\",\"y\":[\"ALB\",\"ALB\",\"ALB\",\"ALB\",\"ALB\",\"ALB\",\"ALB\",\"ALB\",\"ALB\",\"ALB\",\"ALB\",\"ALB\",\"ALB\",\"ALB\",\"ALB\",\"ALB\",\"ALB\",\"ALB\",\"ALB\",\"ALB\",\"ALB\",\"ALB\",\"ALB\",\"ALB\",\"ALB\",\"ALB\",\"ALB\",\"ALB\",\"ALB\",\"ALB\",\"ALB\",\"ALB\",\"ALB\",\"ALB\",\"ALB\",\"ALB\",\"ALB\",\"ALB\",\"ALB\",\"ALB\",\"ALB\",\"ALB\",\"ALB\",\"ALB\",\"ALB\",\"ALB\",\"ALB\"],\"y0\":\" \",\"yaxis\":\"y\",\"type\":\"box\"},{\"alignmentgroup\":\"True\",\"boxpoints\":false,\"hovertemplate\":\"Driver=%{y}<br>Duration (Seconds, Outliers/Red Flags, Removed)=%{x}<extra></extra>\",\"legendgroup\":\"MAG\",\"marker\":{\"color\":\"#E6002B\"},\"name\":\"MAG\",\"notched\":false,\"offsetgroup\":\"MAG\",\"orientation\":\"h\",\"showlegend\":true,\"x\":[93.06700000000001,91.711,91.593,93.881,90.445,90.312,90.325,90.814,91.051,90.791,90.956,91.074,91.241,91.91,92.45400000000001,92.108,92.16,91.521,91.95,94.337,91.44800000000001,90.592,90.599,90.691,90.709,90.628,90.116,90.631,90.684,90.437,90.452,90.413,90.674,90.345,90.376,90.425,91.437,90.48,90.356,90.057,90.084,90.11,89.934,91.923,90.657,90.553,90.509],\"x0\":\" \",\"xaxis\":\"x\",\"y\":[\"MAG\",\"MAG\",\"MAG\",\"MAG\",\"MAG\",\"MAG\",\"MAG\",\"MAG\",\"MAG\",\"MAG\",\"MAG\",\"MAG\",\"MAG\",\"MAG\",\"MAG\",\"MAG\",\"MAG\",\"MAG\",\"MAG\",\"MAG\",\"MAG\",\"MAG\",\"MAG\",\"MAG\",\"MAG\",\"MAG\",\"MAG\",\"MAG\",\"MAG\",\"MAG\",\"MAG\",\"MAG\",\"MAG\",\"MAG\",\"MAG\",\"MAG\",\"MAG\",\"MAG\",\"MAG\",\"MAG\",\"MAG\",\"MAG\",\"MAG\",\"MAG\",\"MAG\",\"MAG\",\"MAG\"],\"y0\":\" \",\"yaxis\":\"y\",\"type\":\"box\"},{\"alignmentgroup\":\"True\",\"boxpoints\":false,\"hovertemplate\":\"Driver=%{y}<br>Duration (Seconds, Outliers/Red Flags, Removed)=%{x}<extra></extra>\",\"legendgroup\":\"SAR\",\"marker\":{\"color\":\"#00A0DE\"},\"name\":\"SAR\",\"notched\":false,\"offsetgroup\":\"SAR\",\"orientation\":\"h\",\"showlegend\":true,\"x\":[93.582,91.4,91.487,92.275,91.712,91.157,91.542,91.408,92.038,91.882,91.889,92.05,91.825,94.856,90.404,91.295,90.368,90.406,90.281,90.434,90.837,90.60900000000001,90.53,90.608,90.465,90.987,90.693,90.642,90.64699999999999,91.13,90.878,90.769,90.545,90.74,91.78,91.231,91.989,91.754,92.696,88.58,88.645,88.791,88.918,89.458,89.931,88.896,88.98],\"x0\":\" \",\"xaxis\":\"x\",\"y\":[\"SAR\",\"SAR\",\"SAR\",\"SAR\",\"SAR\",\"SAR\",\"SAR\",\"SAR\",\"SAR\",\"SAR\",\"SAR\",\"SAR\",\"SAR\",\"SAR\",\"SAR\",\"SAR\",\"SAR\",\"SAR\",\"SAR\",\"SAR\",\"SAR\",\"SAR\",\"SAR\",\"SAR\",\"SAR\",\"SAR\",\"SAR\",\"SAR\",\"SAR\",\"SAR\",\"SAR\",\"SAR\",\"SAR\",\"SAR\",\"SAR\",\"SAR\",\"SAR\",\"SAR\",\"SAR\",\"SAR\",\"SAR\",\"SAR\",\"SAR\",\"SAR\",\"SAR\",\"SAR\",\"SAR\"],\"y0\":\" \",\"yaxis\":\"y\",\"type\":\"box\"}],                        {\"template\":{\"data\":{\"histogram2dcontour\":[{\"type\":\"histogram2dcontour\",\"colorbar\":{\"outlinewidth\":0,\"ticks\":\"\"},\"colorscale\":[[0.0,\"#0d0887\"],[0.1111111111111111,\"#46039f\"],[0.2222222222222222,\"#7201a8\"],[0.3333333333333333,\"#9c179e\"],[0.4444444444444444,\"#bd3786\"],[0.5555555555555556,\"#d8576b\"],[0.6666666666666666,\"#ed7953\"],[0.7777777777777778,\"#fb9f3a\"],[0.8888888888888888,\"#fdca26\"],[1.0,\"#f0f921\"]]}],\"choropleth\":[{\"type\":\"choropleth\",\"colorbar\":{\"outlinewidth\":0,\"ticks\":\"\"}}],\"histogram2d\":[{\"type\":\"histogram2d\",\"colorbar\":{\"outlinewidth\":0,\"ticks\":\"\"},\"colorscale\":[[0.0,\"#0d0887\"],[0.1111111111111111,\"#46039f\"],[0.2222222222222222,\"#7201a8\"],[0.3333333333333333,\"#9c179e\"],[0.4444444444444444,\"#bd3786\"],[0.5555555555555556,\"#d8576b\"],[0.6666666666666666,\"#ed7953\"],[0.7777777777777778,\"#fb9f3a\"],[0.8888888888888888,\"#fdca26\"],[1.0,\"#f0f921\"]]}],\"heatmap\":[{\"type\":\"heatmap\",\"colorbar\":{\"outlinewidth\":0,\"ticks\":\"\"},\"colorscale\":[[0.0,\"#0d0887\"],[0.1111111111111111,\"#46039f\"],[0.2222222222222222,\"#7201a8\"],[0.3333333333333333,\"#9c179e\"],[0.4444444444444444,\"#bd3786\"],[0.5555555555555556,\"#d8576b\"],[0.6666666666666666,\"#ed7953\"],[0.7777777777777778,\"#fb9f3a\"],[0.8888888888888888,\"#fdca26\"],[1.0,\"#f0f921\"]]}],\"heatmapgl\":[{\"type\":\"heatmapgl\",\"colorbar\":{\"outlinewidth\":0,\"ticks\":\"\"},\"colorscale\":[[0.0,\"#0d0887\"],[0.1111111111111111,\"#46039f\"],[0.2222222222222222,\"#7201a8\"],[0.3333333333333333,\"#9c179e\"],[0.4444444444444444,\"#bd3786\"],[0.5555555555555556,\"#d8576b\"],[0.6666666666666666,\"#ed7953\"],[0.7777777777777778,\"#fb9f3a\"],[0.8888888888888888,\"#fdca26\"],[1.0,\"#f0f921\"]]}],\"contourcarpet\":[{\"type\":\"contourcarpet\",\"colorbar\":{\"outlinewidth\":0,\"ticks\":\"\"}}],\"contour\":[{\"type\":\"contour\",\"colorbar\":{\"outlinewidth\":0,\"ticks\":\"\"},\"colorscale\":[[0.0,\"#0d0887\"],[0.1111111111111111,\"#46039f\"],[0.2222222222222222,\"#7201a8\"],[0.3333333333333333,\"#9c179e\"],[0.4444444444444444,\"#bd3786\"],[0.5555555555555556,\"#d8576b\"],[0.6666666666666666,\"#ed7953\"],[0.7777777777777778,\"#fb9f3a\"],[0.8888888888888888,\"#fdca26\"],[1.0,\"#f0f921\"]]}],\"surface\":[{\"type\":\"surface\",\"colorbar\":{\"outlinewidth\":0,\"ticks\":\"\"},\"colorscale\":[[0.0,\"#0d0887\"],[0.1111111111111111,\"#46039f\"],[0.2222222222222222,\"#7201a8\"],[0.3333333333333333,\"#9c179e\"],[0.4444444444444444,\"#bd3786\"],[0.5555555555555556,\"#d8576b\"],[0.6666666666666666,\"#ed7953\"],[0.7777777777777778,\"#fb9f3a\"],[0.8888888888888888,\"#fdca26\"],[1.0,\"#f0f921\"]]}],\"mesh3d\":[{\"type\":\"mesh3d\",\"colorbar\":{\"outlinewidth\":0,\"ticks\":\"\"}}],\"scatter\":[{\"fillpattern\":{\"fillmode\":\"overlay\",\"size\":10,\"solidity\":0.2},\"type\":\"scatter\"}],\"parcoords\":[{\"type\":\"parcoords\",\"line\":{\"colorbar\":{\"outlinewidth\":0,\"ticks\":\"\"}}}],\"scatterpolargl\":[{\"type\":\"scatterpolargl\",\"marker\":{\"colorbar\":{\"outlinewidth\":0,\"ticks\":\"\"}}}],\"bar\":[{\"error_x\":{\"color\":\"#2a3f5f\"},\"error_y\":{\"color\":\"#2a3f5f\"},\"marker\":{\"line\":{\"color\":\"#E5ECF6\",\"width\":0.5},\"pattern\":{\"fillmode\":\"overlay\",\"size\":10,\"solidity\":0.2}},\"type\":\"bar\"}],\"scattergeo\":[{\"type\":\"scattergeo\",\"marker\":{\"colorbar\":{\"outlinewidth\":0,\"ticks\":\"\"}}}],\"scatterpolar\":[{\"type\":\"scatterpolar\",\"marker\":{\"colorbar\":{\"outlinewidth\":0,\"ticks\":\"\"}}}],\"histogram\":[{\"marker\":{\"pattern\":{\"fillmode\":\"overlay\",\"size\":10,\"solidity\":0.2}},\"type\":\"histogram\"}],\"scattergl\":[{\"type\":\"scattergl\",\"marker\":{\"colorbar\":{\"outlinewidth\":0,\"ticks\":\"\"}}}],\"scatter3d\":[{\"type\":\"scatter3d\",\"line\":{\"colorbar\":{\"outlinewidth\":0,\"ticks\":\"\"}},\"marker\":{\"colorbar\":{\"outlinewidth\":0,\"ticks\":\"\"}}}],\"scattermapbox\":[{\"type\":\"scattermapbox\",\"marker\":{\"colorbar\":{\"outlinewidth\":0,\"ticks\":\"\"}}}],\"scatterternary\":[{\"type\":\"scatterternary\",\"marker\":{\"colorbar\":{\"outlinewidth\":0,\"ticks\":\"\"}}}],\"scattercarpet\":[{\"type\":\"scattercarpet\",\"marker\":{\"colorbar\":{\"outlinewidth\":0,\"ticks\":\"\"}}}],\"carpet\":[{\"aaxis\":{\"endlinecolor\":\"#2a3f5f\",\"gridcolor\":\"white\",\"linecolor\":\"white\",\"minorgridcolor\":\"white\",\"startlinecolor\":\"#2a3f5f\"},\"baxis\":{\"endlinecolor\":\"#2a3f5f\",\"gridcolor\":\"white\",\"linecolor\":\"white\",\"minorgridcolor\":\"white\",\"startlinecolor\":\"#2a3f5f\"},\"type\":\"carpet\"}],\"table\":[{\"cells\":{\"fill\":{\"color\":\"#EBF0F8\"},\"line\":{\"color\":\"white\"}},\"header\":{\"fill\":{\"color\":\"#C8D4E3\"},\"line\":{\"color\":\"white\"}},\"type\":\"table\"}],\"barpolar\":[{\"marker\":{\"line\":{\"color\":\"#E5ECF6\",\"width\":0.5},\"pattern\":{\"fillmode\":\"overlay\",\"size\":10,\"solidity\":0.2}},\"type\":\"barpolar\"}],\"pie\":[{\"automargin\":true,\"type\":\"pie\"}]},\"layout\":{\"autotypenumbers\":\"strict\",\"colorway\":[\"#636efa\",\"#EF553B\",\"#00cc96\",\"#ab63fa\",\"#FFA15A\",\"#19d3f3\",\"#FF6692\",\"#B6E880\",\"#FF97FF\",\"#FECB52\"],\"font\":{\"color\":\"#2a3f5f\"},\"hovermode\":\"closest\",\"hoverlabel\":{\"align\":\"left\"},\"paper_bgcolor\":\"white\",\"plot_bgcolor\":\"#E5ECF6\",\"polar\":{\"bgcolor\":\"#E5ECF6\",\"angularaxis\":{\"gridcolor\":\"white\",\"linecolor\":\"white\",\"ticks\":\"\"},\"radialaxis\":{\"gridcolor\":\"white\",\"linecolor\":\"white\",\"ticks\":\"\"}},\"ternary\":{\"bgcolor\":\"#E5ECF6\",\"aaxis\":{\"gridcolor\":\"white\",\"linecolor\":\"white\",\"ticks\":\"\"},\"baxis\":{\"gridcolor\":\"white\",\"linecolor\":\"white\",\"ticks\":\"\"},\"caxis\":{\"gridcolor\":\"white\",\"linecolor\":\"white\",\"ticks\":\"\"}},\"coloraxis\":{\"colorbar\":{\"outlinewidth\":0,\"ticks\":\"\"}},\"colorscale\":{\"sequential\":[[0.0,\"#0d0887\"],[0.1111111111111111,\"#46039f\"],[0.2222222222222222,\"#7201a8\"],[0.3333333333333333,\"#9c179e\"],[0.4444444444444444,\"#bd3786\"],[0.5555555555555556,\"#d8576b\"],[0.6666666666666666,\"#ed7953\"],[0.7777777777777778,\"#fb9f3a\"],[0.8888888888888888,\"#fdca26\"],[1.0,\"#f0f921\"]],\"sequentialminus\":[[0.0,\"#0d0887\"],[0.1111111111111111,\"#46039f\"],[0.2222222222222222,\"#7201a8\"],[0.3333333333333333,\"#9c179e\"],[0.4444444444444444,\"#bd3786\"],[0.5555555555555556,\"#d8576b\"],[0.6666666666666666,\"#ed7953\"],[0.7777777777777778,\"#fb9f3a\"],[0.8888888888888888,\"#fdca26\"],[1.0,\"#f0f921\"]],\"diverging\":[[0,\"#8e0152\"],[0.1,\"#c51b7d\"],[0.2,\"#de77ae\"],[0.3,\"#f1b6da\"],[0.4,\"#fde0ef\"],[0.5,\"#f7f7f7\"],[0.6,\"#e6f5d0\"],[0.7,\"#b8e186\"],[0.8,\"#7fbc41\"],[0.9,\"#4d9221\"],[1,\"#276419\"]]},\"xaxis\":{\"gridcolor\":\"white\",\"linecolor\":\"white\",\"ticks\":\"\",\"title\":{\"standoff\":15},\"zerolinecolor\":\"white\",\"automargin\":true,\"zerolinewidth\":2},\"yaxis\":{\"gridcolor\":\"white\",\"linecolor\":\"white\",\"ticks\":\"\",\"title\":{\"standoff\":15},\"zerolinecolor\":\"white\",\"automargin\":true,\"zerolinewidth\":2},\"scene\":{\"xaxis\":{\"backgroundcolor\":\"#E5ECF6\",\"gridcolor\":\"white\",\"linecolor\":\"white\",\"showbackground\":true,\"ticks\":\"\",\"zerolinecolor\":\"white\",\"gridwidth\":2},\"yaxis\":{\"backgroundcolor\":\"#E5ECF6\",\"gridcolor\":\"white\",\"linecolor\":\"white\",\"showbackground\":true,\"ticks\":\"\",\"zerolinecolor\":\"white\",\"gridwidth\":2},\"zaxis\":{\"backgroundcolor\":\"#E5ECF6\",\"gridcolor\":\"white\",\"linecolor\":\"white\",\"showbackground\":true,\"ticks\":\"\",\"zerolinecolor\":\"white\",\"gridwidth\":2}},\"shapedefaults\":{\"line\":{\"color\":\"#2a3f5f\"}},\"annotationdefaults\":{\"arrowcolor\":\"#2a3f5f\",\"arrowhead\":0,\"arrowwidth\":1},\"geo\":{\"bgcolor\":\"white\",\"landcolor\":\"#E5ECF6\",\"subunitcolor\":\"white\",\"showland\":true,\"showlakes\":true,\"lakecolor\":\"white\"},\"title\":{\"x\":0.05},\"mapbox\":{\"style\":\"light\"}}},\"xaxis\":{\"anchor\":\"y\",\"domain\":[0.0,1.0],\"title\":{\"text\":\"Duration (Seconds, Outliers/Red Flags, Removed)\"}},\"yaxis\":{\"anchor\":\"x\",\"domain\":[0.0,1.0],\"title\":{\"text\":\"Driver\"},\"categoryorder\":\"array\",\"categoryarray\":[\"SAR\",\"MAG\",\"ALB\",\"ZHO\",\"BOT\",\"RIC\",\"HUL\",\"SAI\",\"STR\",\"OCO\",\"PER\",\"HAM\",\"GAS\",\"ALO\",\"TSU\",\"RUS\",\"NOR\",\"PIA\",\"LEC\",\"VER\"]},\"legend\":{\"title\":{\"text\":\"Driver\"},\"tracegroupgap\":0},\"margin\":{\"t\":60},\"boxmode\":\"overlay\",\"showlegend\":false,\"title\":{\"font\":{\"family\":\"Arial, sans-serif\",\"size\":30},\"text\":\"<b>Lap Times</b>\",\"x\":0.5}},                        {\"responsive\": true}                    ).then(function(){\n",
       "                            \n",
       "var gd = document.getElementById('d006bae5-c854-426b-b530-9ed1ad7c8fb5');\n",
       "var x = new MutationObserver(function (mutations, observer) {{\n",
       "        var display = window.getComputedStyle(gd).display;\n",
       "        if (!display || display === 'none') {{\n",
       "            console.log([gd, 'removed!']);\n",
       "            Plotly.purge(gd);\n",
       "            observer.disconnect();\n",
       "        }}\n",
       "}});\n",
       "\n",
       "// Listen for the removal of the full notebook cells\n",
       "var notebookContainer = gd.closest('#notebook-container');\n",
       "if (notebookContainer) {{\n",
       "    x.observe(notebookContainer, {childList: true});\n",
       "}}\n",
       "\n",
       "// Listen for the clearing of the current output cell\n",
       "var outputEl = gd.closest('.output');\n",
       "if (outputEl) {{\n",
       "    x.observe(outputEl, {childList: true});\n",
       "}}\n",
       "\n",
       "                        })                };                });            </script>        </div>"
      ]
     },
     "metadata": {},
     "output_type": "display_data"
    }
   ],
   "source": [
    "if not lap_tim_emp:\n",
    "    fig = px.box(lap_driver_no, x=\"duration\", y=\"Driver\", color='Driver', points=False, color_discrete_map=color_map, labels={\n",
    "    \"code\": \"Driver\",\n",
    "    \"duration\":\"Duration (Seconds, Outliers/Red Flags, Removed)\"\n",
    "    })\n",
    "    fig.update_layout(showlegend=False)\n",
    "    fig.update_layout(title_text='<b>Lap Times</b>', titlefont = dict(\n",
    "         family = 'Arial, sans-serif',\n",
    "         size = 30\n",
    "      ), title_x=0.5)\n",
    "    fig.show()\n",
    "else:\n",
    "        display(md(f\"<h1 style='background:#FFF200;border:0; color:black;box-shadow: 10px 10px 5px 0px rgba(0,0,0,0.75);transform: rotateX(10deg);'><center style='color: black;'>No Lap Data Available From API</center></h1>\"))"
   ]
  },
  {
   "cell_type": "code",
   "execution_count": 28,
   "id": "1a3ca05c",
   "metadata": {
    "_kg_hide-input": true,
    "execution": {
     "iopub.execute_input": "2023-11-27T17:06:10.791725Z",
     "iopub.status.busy": "2023-11-27T17:06:10.791298Z",
     "iopub.status.idle": "2023-11-27T17:06:10.811481Z",
     "shell.execute_reply": "2023-11-27T17:06:10.810153Z"
    },
    "papermill": {
     "duration": 0.046608,
     "end_time": "2023-11-27T17:06:10.814298",
     "exception": false,
     "start_time": "2023-11-27T17:06:10.767690",
     "status": "completed"
    },
    "tags": []
   },
   "outputs": [],
   "source": [
    "def multi_lap_plot(names, addAll = True):\n",
    "    fig = go.Figure()\n",
    "\n",
    "    fig = px.line(lap_driver_no, x=\"lap\", y=\"duration\", color='Driver', labels={\n",
    "    \"duration\": \"Lap Time (In seconds, Outliers/Red Flags Removed)\",\n",
    "    \"lap\": \"Lap\"\n",
    "}, title='Lap Times', color_discrete_map=color_map)\n",
    "    fig.update_layout(title_text='<b>Lap Times</b>', titlefont = dict(\n",
    "         family = 'Arial, sans-serif',\n",
    "         size = 30\n",
    "      ), title_x=0.5)\n",
    "\n",
    "    button_all = dict(label = 'All',\n",
    "                      method = 'update',\n",
    "                      args = [{'visible': [True]*len(names),\n",
    "                               'title': 'All',\n",
    "                               'showlegend':True}])\n",
    "\n",
    "    def create_layout_button(column):\n",
    "        return dict(label = column,\n",
    "                    method = 'update',\n",
    "                    args = [{'visible': [c == column for c in names],\n",
    "                             'title': column,\n",
    "                             'showlegend': True}])\n",
    "\n",
    "    fig.update_layout(\n",
    "        updatemenus=[go.layout.Updatemenu(\n",
    "            active = 0,\n",
    "            buttons = ([button_all] * addAll) + [create_layout_button(column) for column in names]\n",
    "            )\n",
    "        ])\n",
    "    \n",
    "    fig.show()\n",
    "    \n",
    "    \n",
    "    \n",
    "def multi_pos_plot(names, addAll = True):\n",
    "    fig = go.Figure()\n",
    "\n",
    "    fig = px.line(lap_driver, x=\"lap\", y=\"position\", color='Driver', labels={\n",
    "    \"position\":  \"Position\",\n",
    "    \"lap\": \"Lap\"\n",
    "}, color_discrete_map=color_map)\n",
    "    fig.update_layout(title_text='<b>Position By Lap</b>', titlefont = dict(\n",
    "         family = 'Arial, sans-serif',\n",
    "         size = 30\n",
    "      ), title_x=0.5)\n",
    "\n",
    "    button_all = dict(label = 'All',\n",
    "                      method = 'update',\n",
    "                      args = [{'visible': [True]*len(names),\n",
    "                               'title': 'All',\n",
    "                               'showlegend':True}])\n",
    "\n",
    "    def create_layout_button(column):\n",
    "        return dict(label = column,\n",
    "                    method = 'update',\n",
    "                    args = [{'visible': [c == column for c in names],\n",
    "                             'title': column,\n",
    "                             'showlegend': True}])\n",
    "\n",
    "    fig.update_layout(\n",
    "        updatemenus=[go.layout.Updatemenu(\n",
    "            active = 0,\n",
    "            buttons = ([button_all] * addAll) + [create_layout_button(column) for column in names]\n",
    "            )\n",
    "        ])\n",
    "    \n",
    "    fig.show()\n"
   ]
  },
  {
   "cell_type": "code",
   "execution_count": 29,
   "id": "fe8ceafc",
   "metadata": {
    "_kg_hide-input": true,
    "execution": {
     "iopub.execute_input": "2023-11-27T17:06:10.859741Z",
     "iopub.status.busy": "2023-11-27T17:06:10.859323Z",
     "iopub.status.idle": "2023-11-27T17:06:11.043842Z",
     "shell.execute_reply": "2023-11-27T17:06:11.042385Z"
    },
    "papermill": {
     "duration": 0.211217,
     "end_time": "2023-11-27T17:06:11.047041",
     "exception": false,
     "start_time": "2023-11-27T17:06:10.835824",
     "status": "completed"
    },
    "tags": []
   },
   "outputs": [
    {
     "data": {
      "text/html": [
       "<div>                            <div id=\"3a034ac2-aba4-4e7e-bbc9-c5d9a9dc656c\" class=\"plotly-graph-div\" style=\"height:525px; width:100%;\"></div>            <script type=\"text/javascript\">                require([\"plotly\"], function(Plotly) {                    window.PLOTLYENV=window.PLOTLYENV || {};                                    if (document.getElementById(\"3a034ac2-aba4-4e7e-bbc9-c5d9a9dc656c\")) {                    Plotly.newPlot(                        \"3a034ac2-aba4-4e7e-bbc9-c5d9a9dc656c\",                        [{\"hovertemplate\":\"Driver=VER<br>Lap=%{x}<br>Lap Time (In seconds, Outliers/Red Flags Removed)=%{y}<extra></extra>\",\"legendgroup\":\"VER\",\"line\":{\"color\":\"#000B8D\",\"dash\":\"solid\"},\"marker\":{\"symbol\":\"circle\"},\"mode\":\"lines\",\"name\":\"VER\",\"orientation\":\"v\",\"showlegend\":true,\"x\":[1.0,2.0,3.0,4.0,5.0,6.0,7.0,8.0,9.0,10.0,11.0,12.0,13.0,14.0,15.0,16.0,18.0,19.0,20.0,21.0,22.0,23.0,24.0,25.0,26.0,27.0,28.0,29.0,30.0,31.0,32.0,33.0,34.0,35.0,36.0,37.0,38.0,39.0,40.0,41.0,42.0,43.0,45.0,46.0,47.0,48.0,49.0,50.0],\"xaxis\":\"x\",\"y\":[92.19,90.71000000000001,90.408,90.71600000000001,90.55199999999999,90.44,90.529,90.51599999999999,90.632,90.506,90.561,90.59,90.561,90.64699999999999,90.267,92.55799999999999,89.896,89.386,89.628,89.127,89.689,89.634,89.293,89.401,89.289,89.156,89.217,89.18299999999999,89.26599999999999,89.149,89.1,89.137,89.077,89.148,88.902,88.91,89.07300000000001,88.849,89.053,89.003,89.082,91.39099999999999,86.993,87.902,87.962,87.968,87.901,88.03999999999999],\"yaxis\":\"y\",\"type\":\"scatter\"},{\"hovertemplate\":\"Driver=LEC<br>Lap=%{x}<br>Lap Time (In seconds, Outliers/Red Flags Removed)=%{y}<extra></extra>\",\"legendgroup\":\"LEC\",\"line\":{\"color\":\"#EF1A2D\",\"dash\":\"solid\"},\"marker\":{\"symbol\":\"circle\"},\"mode\":\"lines\",\"name\":\"LEC\",\"orientation\":\"v\",\"showlegend\":true,\"x\":[1.0,2.0,3.0,4.0,5.0,6.0,7.0,8.0,9.0,10.0,11.0,12.0,13.0,14.0,15.0,16.0,17.0,19.0,20.0,21.0,22.0,23.0,24.0,25.0,26.0,27.0,28.0,29.0,30.0,31.0,32.0,33.0,34.0,35.0,37.0,38.0,39.0,40.0,41.0,42.0,43.0,44.0,45.0,46.0,47.0,48.0,49.0,50.0],\"xaxis\":\"x\",\"y\":[93.119,91.117,90.5,90.884,90.459,90.544,90.373,90.631,90.431,90.60900000000001,90.613,90.584,90.81700000000001,90.571,90.618,90.711,92.468,89.908,90.07300000000001,89.724,89.70400000000001,89.84700000000001,89.577,89.707,89.655,89.21000000000001,89.556,89.556,89.428,89.554,89.815,89.693,89.447,91.443,89.035,88.736,88.759,88.54599999999999,88.46600000000001,88.277,88.211,88.199,88.395,88.446,88.221,88.419,88.396,88.258],\"yaxis\":\"y\",\"type\":\"scatter\"},{\"hovertemplate\":\"Driver=PIA<br>Lap=%{x}<br>Lap Time (In seconds, Outliers/Red Flags Removed)=%{y}<extra></extra>\",\"legendgroup\":\"PIA\",\"line\":{\"color\":\"#FF8000\",\"dash\":\"solid\"},\"marker\":{\"symbol\":\"circle\"},\"mode\":\"lines\",\"name\":\"PIA\",\"orientation\":\"v\",\"showlegend\":true,\"x\":[1.0,2.0,3.0,4.0,5.0,6.0,7.0,8.0,9.0,10.0,11.0,12.0,13.0,15.0,16.0,17.0,18.0,19.0,20.0,21.0,22.0,23.0,24.0,25.0,26.0,27.0,28.0,29.0,30.0,31.0,32.0,33.0,34.0,35.0,36.0,38.0,39.0,40.0,41.0,42.0,43.0,44.0,45.0,46.0,47.0,48.0,49.0,50.0],\"xaxis\":\"x\",\"y\":[93.882,91.075,90.631,91.816,90.419,90.813,90.953,90.795,90.899,91.239,92.44800000000001,91.304,92.981,90.649,90.276,89.95400000000001,90.438,90.498,90.088,89.888,90.496,90.10300000000001,89.958,90.02799999999999,89.918,89.602,91.036,90.34,90.497,90.082,89.84700000000001,89.777,89.84100000000001,89.858,91.58,88.138,88.65,88.68299999999999,88.762,88.97800000000001,88.332,88.489,88.149,88.806,89.26599999999999,89.061,89.445,88.761],\"yaxis\":\"y\",\"type\":\"scatter\"},{\"hovertemplate\":\"Driver=NOR<br>Lap=%{x}<br>Lap Time (In seconds, Outliers/Red Flags Removed)=%{y}<extra></extra>\",\"legendgroup\":\"NOR\",\"line\":{\"color\":\"#FF8000\",\"dash\":\"solid\"},\"marker\":{\"symbol\":\"circle\"},\"mode\":\"lines\",\"name\":\"NOR\",\"orientation\":\"v\",\"showlegend\":true,\"x\":[1.0,2.0,3.0,4.0,5.0,6.0,7.0,8.0,9.0,10.0,11.0,12.0,13.0,14.0,16.0,17.0,18.0,19.0,20.0,21.0,22.0,23.0,24.0,25.0,26.0,27.0,28.0,29.0,30.0,31.0,32.0,33.0,35.0,36.0,37.0,38.0,39.0,40.0,41.0,42.0,43.0,44.0,45.0,46.0,47.0,48.0,49.0,50.0],\"xaxis\":\"x\",\"y\":[94.309,91.43,90.714,90.188,90.456,90.45,90.533,90.676,90.613,90.912,91.22800000000001,91.189,91.013,92.394,89.654,90.133,90.044,89.727,89.902,89.781,90.393,90.24,89.791,89.637,89.30799999999999,89.48,89.469,89.426,89.5,90.01,89.842,91.445,88.736,89.881,89.22,89.596,89.432,89.243,89.064,88.52199999999999,88.848,88.539,88.164,88.187,88.568,89.763,88.797,88.634],\"yaxis\":\"y\",\"type\":\"scatter\"},{\"hovertemplate\":\"Driver=RUS<br>Lap=%{x}<br>Lap Time (In seconds, Outliers/Red Flags Removed)=%{y}<extra></extra>\",\"legendgroup\":\"RUS\",\"line\":{\"color\":\"#00A19B\",\"dash\":\"solid\"},\"marker\":{\"symbol\":\"circle\"},\"mode\":\"lines\",\"name\":\"RUS\",\"orientation\":\"v\",\"showlegend\":true,\"x\":[1.0,2.0,3.0,4.0,5.0,6.0,7.0,8.0,9.0,10.0,11.0,12.0,13.0,14.0,16.0,17.0,18.0,19.0,20.0,21.0,22.0,23.0,24.0,25.0,26.0,27.0,28.0,29.0,30.0,31.0,32.0,33.0,34.0,36.0,37.0,38.0,39.0,40.0,41.0,42.0,43.0,44.0,45.0,46.0,47.0,48.0,49.0,50.0],\"xaxis\":\"x\",\"y\":[94.77600000000001,91.598,90.598,90.797,90.689,90.80799999999999,90.842,90.93299999999999,90.767,91.14,90.856,90.95,90.816,92.471,89.537,90.049,89.52199999999999,90.358,90.088,90.118,89.786,89.672,89.355,89.545,89.53999999999999,89.432,89.565,89.72200000000001,89.84,89.402,89.69200000000001,89.593,90.962,88.687,88.943,89.243,89.194,88.68299999999999,88.612,88.792,88.524,88.36,88.187,88.19200000000001,88.261,88.53,88.428,88.4],\"yaxis\":\"y\",\"type\":\"scatter\"},{\"hovertemplate\":\"Driver=TSU<br>Lap=%{x}<br>Lap Time (In seconds, Outliers/Red Flags Removed)=%{y}<extra></extra>\",\"legendgroup\":\"TSU\",\"line\":{\"color\":\"#20394C\",\"dash\":\"solid\"},\"marker\":{\"symbol\":\"circle\"},\"mode\":\"lines\",\"name\":\"TSU\",\"orientation\":\"v\",\"showlegend\":true,\"x\":[2.0,3.0,4.0,5.0,6.0,7.0,8.0,9.0,10.0,11.0,12.0,13.0,14.0,15.0,16.0,17.0,18.0,19.0,20.0,21.0,22.0,24.0,25.0,26.0,27.0,28.0,29.0,30.0,31.0,32.0,33.0,34.0,35.0,36.0,37.0,38.0,39.0,40.0,41.0,42.0,43.0,44.0,45.0,46.0,47.0,48.0,49.0,50.0],\"xaxis\":\"x\",\"y\":[91.674,90.674,90.757,90.685,90.786,90.826,91.09700000000001,90.862,91.104,91.47200000000001,91.46600000000001,91.19800000000001,90.85,90.901,91.081,91.22800000000001,91.244,91.453,91.211,91.134,92.56700000000001,90.313,90.104,89.724,89.94200000000001,89.892,89.688,89.989,89.667,89.968,89.759,89.976,89.773,89.64,89.834,90.57900000000001,91.013,89.633,89.511,90.349,89.65899999999999,89.732,89.315,89.41,89.33500000000001,90.932,89.951,89.643],\"yaxis\":\"y\",\"type\":\"scatter\"},{\"hovertemplate\":\"Driver=ALO<br>Lap=%{x}<br>Lap Time (In seconds, Outliers/Red Flags Removed)=%{y}<extra></extra>\",\"legendgroup\":\"ALO\",\"line\":{\"color\":\"#002420\",\"dash\":\"solid\"},\"marker\":{\"symbol\":\"circle\"},\"mode\":\"lines\",\"name\":\"ALO\",\"orientation\":\"v\",\"showlegend\":true,\"x\":[2.0,3.0,4.0,5.0,6.0,7.0,8.0,9.0,10.0,11.0,12.0,14.0,15.0,16.0,17.0,18.0,19.0,20.0,21.0,22.0,23.0,24.0,25.0,26.0,27.0,28.0,29.0,30.0,31.0,32.0,33.0,34.0,35.0,36.0,38.0,39.0,40.0,41.0,42.0,43.0,44.0,45.0,46.0,47.0,48.0,49.0,50.0],\"xaxis\":\"x\",\"y\":[91.755,90.82300000000001,90.66,90.773,90.803,90.782,91.10900000000001,90.91499999999999,91.18,91.381,93.378,90.46600000000001,90.389,90.314,90.30799999999999,90.38,90.205,90.38,89.887,90.463,90.102,90.093,90.951,89.936,90.229,90.559,90.009,90.41499999999999,90.128,89.807,90.426,89.884,89.869,92.048,88.90899999999999,88.8,88.617,88.81,88.256,88.769,88.986,90.17699999999999,88.554,88.625,88.592,88.5,88.619],\"yaxis\":\"y\",\"type\":\"scatter\"},{\"hovertemplate\":\"Driver=GAS<br>Lap=%{x}<br>Lap Time (In seconds, Outliers/Red Flags Removed)=%{y}<extra></extra>\",\"legendgroup\":\"GAS\",\"line\":{\"color\":\"#2173B8\",\"dash\":\"solid\"},\"marker\":{\"symbol\":\"circle\"},\"mode\":\"lines\",\"name\":\"GAS\",\"orientation\":\"v\",\"showlegend\":true,\"x\":[2.0,3.0,4.0,5.0,6.0,7.0,8.0,9.0,10.0,11.0,12.0,13.0,14.0,15.0,16.0,17.0,19.0,20.0,21.0,22.0,23.0,24.0,25.0,26.0,27.0,28.0,29.0,30.0,31.0,32.0,34.0,35.0,36.0,37.0,38.0,39.0,40.0,41.0,42.0,43.0,44.0,45.0,46.0,47.0,48.0,49.0,50.0],\"xaxis\":\"x\",\"y\":[91.774,90.824,90.758,90.764,90.886,90.787,90.944,91.305,91.136,91.467,92.49199999999999,91.532,91.457,91.986,92.273,94.709,90.0,90.242,90.422,90.179,91.158,90.80199999999999,90.852,90.629,90.404,90.496,90.32900000000001,90.392,90.239,92.563,89.151,89.01599999999999,89.351,90.01,90.098,90.797,89.85900000000001,89.621,89.231,89.717,89.77,89.503,89.428,89.726,89.505,89.518,89.549],\"yaxis\":\"y\",\"type\":\"scatter\"},{\"hovertemplate\":\"Driver=HAM<br>Lap=%{x}<br>Lap Time (In seconds, Outliers/Red Flags Removed)=%{y}<extra></extra>\",\"legendgroup\":\"HAM\",\"line\":{\"color\":\"#00A19B\",\"dash\":\"solid\"},\"marker\":{\"symbol\":\"circle\"},\"mode\":\"lines\",\"name\":\"HAM\",\"orientation\":\"v\",\"showlegend\":true,\"x\":[2.0,3.0,4.0,5.0,6.0,7.0,8.0,9.0,10.0,11.0,12.0,13.0,14.0,15.0,17.0,18.0,19.0,20.0,21.0,22.0,23.0,24.0,25.0,26.0,27.0,28.0,29.0,30.0,31.0,32.0,33.0,34.0,35.0,37.0,38.0,39.0,40.0,41.0,42.0,43.0,44.0,45.0,46.0,47.0,48.0,49.0,50.0],\"xaxis\":\"x\",\"y\":[91.727,91.526,90.844,90.844,90.634,90.899,91.061,91.132,91.271,91.378,91.71600000000001,91.689,91.432,93.65100000000001,90.095,90.057,89.979,89.657,89.85,91.502,90.265,89.861,89.37,89.899,89.568,89.691,89.842,90.118,89.806,89.876,89.774,89.789,91.324,89.532,90.373,89.221,88.867,88.81,88.793,88.711,88.99,89.023,89.729,89.52799999999999,88.814,88.809,88.58500000000001],\"yaxis\":\"y\",\"type\":\"scatter\"},{\"hovertemplate\":\"Driver=PER<br>Lap=%{x}<br>Lap Time (In seconds, Outliers/Red Flags Removed)=%{y}<extra></extra>\",\"legendgroup\":\"PER\",\"line\":{\"color\":\"#000B8D\",\"dash\":\"solid\"},\"marker\":{\"symbol\":\"circle\"},\"mode\":\"lines\",\"name\":\"PER\",\"orientation\":\"v\",\"showlegend\":true,\"x\":[2.0,3.0,4.0,5.0,6.0,7.0,8.0,9.0,10.0,11.0,12.0,13.0,14.0,15.0,16.0,17.0,19.0,20.0,21.0,22.0,23.0,24.0,25.0,26.0,27.0,28.0,29.0,30.0,31.0,32.0,33.0,34.0,35.0,36.0,37.0,38.0,39.0,40.0,41.0,42.0,44.0,45.0,46.0,47.0,48.0,49.0,50.0],\"xaxis\":\"x\",\"y\":[91.672,90.469,90.759,90.797,90.682,90.818,90.993,91.287,91.214,91.535,90.874,91.309,91.19,91.225,91.375,93.256,89.365,89.107,88.986,89.719,89.71000000000001,90.001,89.572,89.864,89.34,88.95400000000001,89.563,89.48,89.413,89.314,89.261,89.316,89.243,88.928,88.992,89.043,89.13,88.90899999999999,89.195,90.958,87.493,87.837,87.914,88.401,87.97,87.926,87.758],\"yaxis\":\"y\",\"type\":\"scatter\"},{\"hovertemplate\":\"Driver=OCO<br>Lap=%{x}<br>Lap Time (In seconds, Outliers/Red Flags Removed)=%{y}<extra></extra>\",\"legendgroup\":\"OCO\",\"line\":{\"color\":\"#2173B8\",\"dash\":\"solid\"},\"marker\":{\"symbol\":\"circle\"},\"mode\":\"lines\",\"name\":\"OCO\",\"orientation\":\"v\",\"showlegend\":true,\"x\":[2.0,3.0,4.0,5.0,6.0,7.0,8.0,9.0,10.0,11.0,12.0,13.0,14.0,15.0,17.0,18.0,19.0,20.0,21.0,22.0,23.0,24.0,25.0,26.0,27.0,28.0,29.0,30.0,31.0,32.0,33.0,34.0,35.0,36.0,37.0,38.0,39.0,40.0,41.0,42.0,43.0,44.0,45.0,46.0,47.0,48.0,49.0,50.0],\"xaxis\":\"x\",\"y\":[91.81,91.033,90.988,90.994,90.689,90.932,90.997,91.07300000000001,91.254,91.422,91.527,91.77,91.64699999999999,93.667,90.134,90.276,90.132,90.128,90.246,90.756,91.726,90.791,90.338,90.993,90.578,90.322,90.504,90.514,90.319,90.243,90.244,90.033,90.474,90.622,90.307,90.138,92.095,90.447,90.252,90.742,91.081,90.431,90.163,90.113,90.17699999999999,90.35900000000001,90.258,90.986],\"yaxis\":\"y\",\"type\":\"scatter\"},{\"hovertemplate\":\"Driver=STR<br>Lap=%{x}<br>Lap Time (In seconds, Outliers/Red Flags Removed)=%{y}<extra></extra>\",\"legendgroup\":\"STR\",\"line\":{\"color\":\"#002420\",\"dash\":\"solid\"},\"marker\":{\"symbol\":\"circle\"},\"mode\":\"lines\",\"name\":\"STR\",\"orientation\":\"v\",\"showlegend\":true,\"x\":[2.0,3.0,4.0,5.0,6.0,7.0,8.0,9.0,10.0,11.0,12.0,13.0,14.0,15.0,16.0,17.0,18.0,19.0,20.0,21.0,22.0,24.0,25.0,26.0,27.0,28.0,29.0,30.0,31.0,32.0,33.0,34.0,35.0,36.0,37.0,38.0,39.0,40.0,41.0,42.0,44.0,45.0,46.0,47.0,48.0,49.0,50.0],\"xaxis\":\"x\",\"y\":[91.963,90.92699999999999,91.017,91.094,90.795,91.056,90.988,91.195,91.074,91.367,91.555,91.631,91.693,91.312,91.293,90.5,91.011,90.64,90.655,91.623,92.91499999999999,90.35300000000001,89.87,88.86,90.191,90.312,89.602,89.736,89.706,89.831,90.128,89.92099999999999,89.902,90.486,90.751,90.40299999999999,90.305,90.099,89.991,91.64,88.05,88.17699999999999,88.239,88.535,88.639,89.03,88.81],\"yaxis\":\"y\",\"type\":\"scatter\"},{\"hovertemplate\":\"Driver=SAI<br>Lap=%{x}<br>Lap Time (In seconds, Outliers/Red Flags Removed)=%{y}<extra></extra>\",\"legendgroup\":\"SAI\",\"line\":{\"color\":\"#EF1A2D\",\"dash\":\"solid\"},\"marker\":{\"symbol\":\"circle\"},\"mode\":\"lines\",\"name\":\"SAI\",\"orientation\":\"v\",\"showlegend\":true,\"x\":[2.0,3.0,4.0,5.0,6.0,7.0,8.0,9.0,10.0,11.0,12.0,13.0,14.0,15.0,16.0,17.0,18.0,19.0,20.0,21.0,22.0,23.0,25.0,26.0,27.0,28.0,29.0,30.0,31.0,32.0,33.0,34.0,35.0,36.0,37.0,38.0,39.0,40.0,41.0,42.0,43.0,44.0,45.0,46.0,47.0,48.0,49.0,50.0],\"xaxis\":\"x\",\"y\":[91.98,91.30799999999999,91.099,91.158,91.175,91.301,91.263,90.965,91.305,91.08500000000001,91.27799999999999,91.385,91.416,91.619,91.197,91.621,90.96000000000001,91.551,90.93299999999999,92.184,92.071,93.587,90.188,90.007,89.84100000000001,89.977,89.64,89.7,89.764,89.89699999999999,89.76,89.674,89.494,90.22800000000001,89.807,89.746,90.581,89.635,89.495,89.452,89.612,89.809,90.132,90.712,91.102,90.565,90.033,89.873],\"yaxis\":\"y\",\"type\":\"scatter\"},{\"hovertemplate\":\"Driver=HUL<br>Lap=%{x}<br>Lap Time (In seconds, Outliers/Red Flags Removed)=%{y}<extra></extra>\",\"legendgroup\":\"HUL\",\"line\":{\"color\":\"#E6002B\",\"dash\":\"solid\"},\"marker\":{\"symbol\":\"circle\"},\"mode\":\"lines\",\"name\":\"HUL\",\"orientation\":\"v\",\"showlegend\":true,\"x\":[2.0,3.0,4.0,5.0,6.0,7.0,8.0,9.0,10.0,11.0,12.0,13.0,15.0,16.0,17.0,18.0,19.0,20.0,21.0,22.0,23.0,24.0,25.0,26.0,27.0,28.0,29.0,30.0,31.0,32.0,33.0,35.0,36.0,37.0,38.0,39.0,40.0,41.0,42.0,43.0,44.0,45.0,46.0,47.0,48.0,49.0,50.0],\"xaxis\":\"x\",\"y\":[92.92099999999999,91.351,91.374,91.227,91.101,91.332,91.5,91.545,91.583,92.00200000000001,91.827,93.719,90.133,90.574,90.356,91.635,90.33500000000001,90.436,90.636,90.451,91.02,91.104,90.868,91.444,92.08500000000001,91.58,91.768,90.667,90.593,90.845,92.455,90.498,89.691,89.747,89.462,90.09100000000001,90.121,89.893,89.396,89.485,89.542,89.5,89.456,90.035,90.121,90.705,90.2],\"yaxis\":\"y\",\"type\":\"scatter\"},{\"hovertemplate\":\"Driver=RIC<br>Lap=%{x}<br>Lap Time (In seconds, Outliers/Red Flags Removed)=%{y}<extra></extra>\",\"legendgroup\":\"RIC\",\"line\":{\"color\":\"#20394C\",\"dash\":\"solid\"},\"marker\":{\"symbol\":\"circle\"},\"mode\":\"lines\",\"name\":\"RIC\",\"orientation\":\"v\",\"showlegend\":true,\"x\":[2.0,3.0,4.0,5.0,6.0,7.0,9.0,10.0,11.0,12.0,13.0,14.0,15.0,16.0,17.0,18.0,19.0,20.0,21.0,22.0,23.0,24.0,25.0,26.0,27.0,28.0,29.0,30.0,31.0,33.0,34.0,35.0,36.0,37.0,38.0,39.0,40.0,41.0,42.0,43.0,44.0,45.0,46.0,47.0,48.0,49.0,50.0],\"xaxis\":\"x\",\"y\":[92.74199999999999,91.519,91.28399999999999,91.326,91.064,93.072,89.815,90.238,90.43,90.078,90.271,90.424,90.475,90.482,90.39099999999999,90.697,90.418,91.08500000000001,90.686,90.883,90.476,90.295,91.132,91.949,90.737,90.697,91.307,90.678,92.48400000000001,89.349,89.584,89.814,90.531,91.968,91.008,90.068,88.84100000000001,88.838,88.581,90.055,88.818,88.705,88.708,88.571,88.702,88.791,89.065],\"yaxis\":\"y\",\"type\":\"scatter\"},{\"hovertemplate\":\"Driver=BOT<br>Lap=%{x}<br>Lap Time (In seconds, Outliers/Red Flags Removed)=%{y}<extra></extra>\",\"legendgroup\":\"BOT\",\"line\":{\"color\":\"#A42134\",\"dash\":\"solid\"},\"marker\":{\"symbol\":\"circle\"},\"mode\":\"lines\",\"name\":\"BOT\",\"orientation\":\"v\",\"showlegend\":true,\"x\":[2.0,3.0,4.0,5.0,6.0,7.0,8.0,9.0,10.0,11.0,12.0,13.0,14.0,15.0,16.0,17.0,18.0,19.0,20.0,21.0,22.0,23.0,24.0,25.0,26.0,27.0,28.0,29.0,31.0,32.0,33.0,34.0,35.0,36.0,37.0,38.0,39.0,40.0,41.0,42.0,43.0,44.0,45.0,46.0,47.0,48.0,49.0,50.0],\"xaxis\":\"x\",\"y\":[92.77000000000001,91.69800000000001,91.281,91.445,91.122,91.189,91.206,91.71600000000001,91.713,91.616,91.78,91.887,91.709,91.436,91.475,91.561,92.23599999999999,92.309,92.795,92.462,92.922,92.934,92.36,92.13900000000001,92.821,91.81700000000001,92.424,94.094,91.30799999999999,90.245,90.623,90.473,90.401,90.207,90.246,90.01599999999999,90.001,90.345,90.161,89.863,91.418,89.999,90.495,89.998,90.44800000000001,90.492,90.688,91.586],\"yaxis\":\"y\",\"type\":\"scatter\"},{\"hovertemplate\":\"Driver=ZHO<br>Lap=%{x}<br>Lap Time (In seconds, Outliers/Red Flags Removed)=%{y}<extra></extra>\",\"legendgroup\":\"ZHO\",\"line\":{\"color\":\"#A42134\",\"dash\":\"solid\"},\"marker\":{\"symbol\":\"circle\"},\"mode\":\"lines\",\"name\":\"ZHO\",\"orientation\":\"v\",\"showlegend\":true,\"x\":[2.0,3.0,4.0,5.0,6.0,7.0,8.0,9.0,10.0,11.0,12.0,13.0,15.0,16.0,17.0,18.0,19.0,20.0,21.0,22.0,23.0,24.0,25.0,26.0,27.0,28.0,29.0,30.0,31.0,32.0,33.0,34.0,35.0,36.0,37.0,39.0,40.0,41.0,42.0,43.0,44.0,45.0,46.0,47.0,48.0,49.0,50.0],\"xaxis\":\"x\",\"y\":[92.533,91.81700000000001,91.303,91.44,91.331,91.227,91.318,91.662,91.936,91.845,92.298,93.899,90.762,90.842,90.892,90.973,91.083,91.099,91.055,90.35300000000001,90.707,90.957,90.695,91.879,90.619,90.782,90.608,91.054,90.935,90.874,90.844,90.941,90.594,90.67,92.936,88.951,89.081,89.402,88.97200000000001,88.746,89.083,89.89,89.324,89.40899999999999,89.383,89.76599999999999,89.70400000000001],\"yaxis\":\"y\",\"type\":\"scatter\"},{\"hovertemplate\":\"Driver=ALB<br>Lap=%{x}<br>Lap Time (In seconds, Outliers/Red Flags Removed)=%{y}<extra></extra>\",\"legendgroup\":\"ALB\",\"line\":{\"color\":\"#00A0DE\",\"dash\":\"solid\"},\"marker\":{\"symbol\":\"circle\"},\"mode\":\"lines\",\"name\":\"ALB\",\"orientation\":\"v\",\"showlegend\":true,\"x\":[2.0,3.0,4.0,5.0,6.0,7.0,8.0,9.0,10.0,11.0,12.0,13.0,14.0,15.0,16.0,18.0,19.0,20.0,21.0,22.0,23.0,24.0,25.0,26.0,27.0,28.0,29.0,30.0,31.0,32.0,33.0,34.0,35.0,36.0,37.0,38.0,39.0,40.0,41.0,42.0,43.0,45.0,46.0,47.0,48.0,49.0,50.0],\"xaxis\":\"x\",\"y\":[93.56,91.768,91.59100000000001,91.422,91.491,91.438,91.58,91.644,91.97800000000001,91.962,91.958,91.7,91.655,91.729,94.282,90.463,90.57300000000001,90.392,90.53999999999999,90.706,90.27199999999999,90.511,90.655,90.092,90.72800000000001,90.631,90.588,90.59100000000001,90.555,90.35,90.447,90.026,89.987,90.34100000000001,90.413,90.238,90.497,90.331,90.31,90.355,92.175,87.845,88.694,88.74,88.92,88.761,89.011],\"yaxis\":\"y\",\"type\":\"scatter\"},{\"hovertemplate\":\"Driver=MAG<br>Lap=%{x}<br>Lap Time (In seconds, Outliers/Red Flags Removed)=%{y}<extra></extra>\",\"legendgroup\":\"MAG\",\"line\":{\"color\":\"#E6002B\",\"dash\":\"solid\"},\"marker\":{\"symbol\":\"circle\"},\"mode\":\"lines\",\"name\":\"MAG\",\"orientation\":\"v\",\"showlegend\":true,\"x\":[2.0,3.0,4.0,5.0,7.0,8.0,9.0,10.0,11.0,12.0,13.0,14.0,15.0,16.0,17.0,18.0,19.0,20.0,21.0,22.0,24.0,25.0,26.0,27.0,28.0,29.0,30.0,31.0,32.0,33.0,34.0,35.0,36.0,37.0,38.0,39.0,40.0,41.0,42.0,43.0,44.0,45.0,46.0,47.0,48.0,49.0,50.0],\"xaxis\":\"x\",\"y\":[93.06700000000001,91.711,91.593,93.881,90.445,90.312,90.325,90.814,91.051,90.791,90.956,91.074,91.241,91.91,92.45400000000001,92.108,92.16,91.521,91.95,94.337,91.44800000000001,90.592,90.599,90.691,90.709,90.628,90.116,90.631,90.684,90.437,90.452,90.413,90.674,90.345,90.376,90.425,91.437,90.48,90.356,90.057,90.084,90.11,89.934,91.923,90.657,90.553,90.509],\"yaxis\":\"y\",\"type\":\"scatter\"},{\"hovertemplate\":\"Driver=SAR<br>Lap=%{x}<br>Lap Time (In seconds, Outliers/Red Flags Removed)=%{y}<extra></extra>\",\"legendgroup\":\"SAR\",\"line\":{\"color\":\"#00A0DE\",\"dash\":\"solid\"},\"marker\":{\"symbol\":\"circle\"},\"mode\":\"lines\",\"name\":\"SAR\",\"orientation\":\"v\",\"showlegend\":true,\"x\":[2.0,3.0,4.0,5.0,6.0,7.0,8.0,9.0,10.0,11.0,12.0,13.0,14.0,15.0,17.0,18.0,19.0,20.0,21.0,22.0,23.0,24.0,25.0,26.0,27.0,28.0,29.0,30.0,31.0,32.0,33.0,34.0,35.0,36.0,37.0,38.0,39.0,40.0,41.0,43.0,44.0,45.0,46.0,47.0,48.0,49.0,50.0],\"xaxis\":\"x\",\"y\":[93.582,91.4,91.487,92.275,91.712,91.157,91.542,91.408,92.038,91.882,91.889,92.05,91.825,94.856,90.404,91.295,90.368,90.406,90.281,90.434,90.837,90.60900000000001,90.53,90.608,90.465,90.987,90.693,90.642,90.64699999999999,91.13,90.878,90.769,90.545,90.74,91.78,91.231,91.989,91.754,92.696,88.58,88.645,88.791,88.918,89.458,89.931,88.896,88.98],\"yaxis\":\"y\",\"type\":\"scatter\"}],                        {\"template\":{\"data\":{\"histogram2dcontour\":[{\"type\":\"histogram2dcontour\",\"colorbar\":{\"outlinewidth\":0,\"ticks\":\"\"},\"colorscale\":[[0.0,\"#0d0887\"],[0.1111111111111111,\"#46039f\"],[0.2222222222222222,\"#7201a8\"],[0.3333333333333333,\"#9c179e\"],[0.4444444444444444,\"#bd3786\"],[0.5555555555555556,\"#d8576b\"],[0.6666666666666666,\"#ed7953\"],[0.7777777777777778,\"#fb9f3a\"],[0.8888888888888888,\"#fdca26\"],[1.0,\"#f0f921\"]]}],\"choropleth\":[{\"type\":\"choropleth\",\"colorbar\":{\"outlinewidth\":0,\"ticks\":\"\"}}],\"histogram2d\":[{\"type\":\"histogram2d\",\"colorbar\":{\"outlinewidth\":0,\"ticks\":\"\"},\"colorscale\":[[0.0,\"#0d0887\"],[0.1111111111111111,\"#46039f\"],[0.2222222222222222,\"#7201a8\"],[0.3333333333333333,\"#9c179e\"],[0.4444444444444444,\"#bd3786\"],[0.5555555555555556,\"#d8576b\"],[0.6666666666666666,\"#ed7953\"],[0.7777777777777778,\"#fb9f3a\"],[0.8888888888888888,\"#fdca26\"],[1.0,\"#f0f921\"]]}],\"heatmap\":[{\"type\":\"heatmap\",\"colorbar\":{\"outlinewidth\":0,\"ticks\":\"\"},\"colorscale\":[[0.0,\"#0d0887\"],[0.1111111111111111,\"#46039f\"],[0.2222222222222222,\"#7201a8\"],[0.3333333333333333,\"#9c179e\"],[0.4444444444444444,\"#bd3786\"],[0.5555555555555556,\"#d8576b\"],[0.6666666666666666,\"#ed7953\"],[0.7777777777777778,\"#fb9f3a\"],[0.8888888888888888,\"#fdca26\"],[1.0,\"#f0f921\"]]}],\"heatmapgl\":[{\"type\":\"heatmapgl\",\"colorbar\":{\"outlinewidth\":0,\"ticks\":\"\"},\"colorscale\":[[0.0,\"#0d0887\"],[0.1111111111111111,\"#46039f\"],[0.2222222222222222,\"#7201a8\"],[0.3333333333333333,\"#9c179e\"],[0.4444444444444444,\"#bd3786\"],[0.5555555555555556,\"#d8576b\"],[0.6666666666666666,\"#ed7953\"],[0.7777777777777778,\"#fb9f3a\"],[0.8888888888888888,\"#fdca26\"],[1.0,\"#f0f921\"]]}],\"contourcarpet\":[{\"type\":\"contourcarpet\",\"colorbar\":{\"outlinewidth\":0,\"ticks\":\"\"}}],\"contour\":[{\"type\":\"contour\",\"colorbar\":{\"outlinewidth\":0,\"ticks\":\"\"},\"colorscale\":[[0.0,\"#0d0887\"],[0.1111111111111111,\"#46039f\"],[0.2222222222222222,\"#7201a8\"],[0.3333333333333333,\"#9c179e\"],[0.4444444444444444,\"#bd3786\"],[0.5555555555555556,\"#d8576b\"],[0.6666666666666666,\"#ed7953\"],[0.7777777777777778,\"#fb9f3a\"],[0.8888888888888888,\"#fdca26\"],[1.0,\"#f0f921\"]]}],\"surface\":[{\"type\":\"surface\",\"colorbar\":{\"outlinewidth\":0,\"ticks\":\"\"},\"colorscale\":[[0.0,\"#0d0887\"],[0.1111111111111111,\"#46039f\"],[0.2222222222222222,\"#7201a8\"],[0.3333333333333333,\"#9c179e\"],[0.4444444444444444,\"#bd3786\"],[0.5555555555555556,\"#d8576b\"],[0.6666666666666666,\"#ed7953\"],[0.7777777777777778,\"#fb9f3a\"],[0.8888888888888888,\"#fdca26\"],[1.0,\"#f0f921\"]]}],\"mesh3d\":[{\"type\":\"mesh3d\",\"colorbar\":{\"outlinewidth\":0,\"ticks\":\"\"}}],\"scatter\":[{\"fillpattern\":{\"fillmode\":\"overlay\",\"size\":10,\"solidity\":0.2},\"type\":\"scatter\"}],\"parcoords\":[{\"type\":\"parcoords\",\"line\":{\"colorbar\":{\"outlinewidth\":0,\"ticks\":\"\"}}}],\"scatterpolargl\":[{\"type\":\"scatterpolargl\",\"marker\":{\"colorbar\":{\"outlinewidth\":0,\"ticks\":\"\"}}}],\"bar\":[{\"error_x\":{\"color\":\"#2a3f5f\"},\"error_y\":{\"color\":\"#2a3f5f\"},\"marker\":{\"line\":{\"color\":\"#E5ECF6\",\"width\":0.5},\"pattern\":{\"fillmode\":\"overlay\",\"size\":10,\"solidity\":0.2}},\"type\":\"bar\"}],\"scattergeo\":[{\"type\":\"scattergeo\",\"marker\":{\"colorbar\":{\"outlinewidth\":0,\"ticks\":\"\"}}}],\"scatterpolar\":[{\"type\":\"scatterpolar\",\"marker\":{\"colorbar\":{\"outlinewidth\":0,\"ticks\":\"\"}}}],\"histogram\":[{\"marker\":{\"pattern\":{\"fillmode\":\"overlay\",\"size\":10,\"solidity\":0.2}},\"type\":\"histogram\"}],\"scattergl\":[{\"type\":\"scattergl\",\"marker\":{\"colorbar\":{\"outlinewidth\":0,\"ticks\":\"\"}}}],\"scatter3d\":[{\"type\":\"scatter3d\",\"line\":{\"colorbar\":{\"outlinewidth\":0,\"ticks\":\"\"}},\"marker\":{\"colorbar\":{\"outlinewidth\":0,\"ticks\":\"\"}}}],\"scattermapbox\":[{\"type\":\"scattermapbox\",\"marker\":{\"colorbar\":{\"outlinewidth\":0,\"ticks\":\"\"}}}],\"scatterternary\":[{\"type\":\"scatterternary\",\"marker\":{\"colorbar\":{\"outlinewidth\":0,\"ticks\":\"\"}}}],\"scattercarpet\":[{\"type\":\"scattercarpet\",\"marker\":{\"colorbar\":{\"outlinewidth\":0,\"ticks\":\"\"}}}],\"carpet\":[{\"aaxis\":{\"endlinecolor\":\"#2a3f5f\",\"gridcolor\":\"white\",\"linecolor\":\"white\",\"minorgridcolor\":\"white\",\"startlinecolor\":\"#2a3f5f\"},\"baxis\":{\"endlinecolor\":\"#2a3f5f\",\"gridcolor\":\"white\",\"linecolor\":\"white\",\"minorgridcolor\":\"white\",\"startlinecolor\":\"#2a3f5f\"},\"type\":\"carpet\"}],\"table\":[{\"cells\":{\"fill\":{\"color\":\"#EBF0F8\"},\"line\":{\"color\":\"white\"}},\"header\":{\"fill\":{\"color\":\"#C8D4E3\"},\"line\":{\"color\":\"white\"}},\"type\":\"table\"}],\"barpolar\":[{\"marker\":{\"line\":{\"color\":\"#E5ECF6\",\"width\":0.5},\"pattern\":{\"fillmode\":\"overlay\",\"size\":10,\"solidity\":0.2}},\"type\":\"barpolar\"}],\"pie\":[{\"automargin\":true,\"type\":\"pie\"}]},\"layout\":{\"autotypenumbers\":\"strict\",\"colorway\":[\"#636efa\",\"#EF553B\",\"#00cc96\",\"#ab63fa\",\"#FFA15A\",\"#19d3f3\",\"#FF6692\",\"#B6E880\",\"#FF97FF\",\"#FECB52\"],\"font\":{\"color\":\"#2a3f5f\"},\"hovermode\":\"closest\",\"hoverlabel\":{\"align\":\"left\"},\"paper_bgcolor\":\"white\",\"plot_bgcolor\":\"#E5ECF6\",\"polar\":{\"bgcolor\":\"#E5ECF6\",\"angularaxis\":{\"gridcolor\":\"white\",\"linecolor\":\"white\",\"ticks\":\"\"},\"radialaxis\":{\"gridcolor\":\"white\",\"linecolor\":\"white\",\"ticks\":\"\"}},\"ternary\":{\"bgcolor\":\"#E5ECF6\",\"aaxis\":{\"gridcolor\":\"white\",\"linecolor\":\"white\",\"ticks\":\"\"},\"baxis\":{\"gridcolor\":\"white\",\"linecolor\":\"white\",\"ticks\":\"\"},\"caxis\":{\"gridcolor\":\"white\",\"linecolor\":\"white\",\"ticks\":\"\"}},\"coloraxis\":{\"colorbar\":{\"outlinewidth\":0,\"ticks\":\"\"}},\"colorscale\":{\"sequential\":[[0.0,\"#0d0887\"],[0.1111111111111111,\"#46039f\"],[0.2222222222222222,\"#7201a8\"],[0.3333333333333333,\"#9c179e\"],[0.4444444444444444,\"#bd3786\"],[0.5555555555555556,\"#d8576b\"],[0.6666666666666666,\"#ed7953\"],[0.7777777777777778,\"#fb9f3a\"],[0.8888888888888888,\"#fdca26\"],[1.0,\"#f0f921\"]],\"sequentialminus\":[[0.0,\"#0d0887\"],[0.1111111111111111,\"#46039f\"],[0.2222222222222222,\"#7201a8\"],[0.3333333333333333,\"#9c179e\"],[0.4444444444444444,\"#bd3786\"],[0.5555555555555556,\"#d8576b\"],[0.6666666666666666,\"#ed7953\"],[0.7777777777777778,\"#fb9f3a\"],[0.8888888888888888,\"#fdca26\"],[1.0,\"#f0f921\"]],\"diverging\":[[0,\"#8e0152\"],[0.1,\"#c51b7d\"],[0.2,\"#de77ae\"],[0.3,\"#f1b6da\"],[0.4,\"#fde0ef\"],[0.5,\"#f7f7f7\"],[0.6,\"#e6f5d0\"],[0.7,\"#b8e186\"],[0.8,\"#7fbc41\"],[0.9,\"#4d9221\"],[1,\"#276419\"]]},\"xaxis\":{\"gridcolor\":\"white\",\"linecolor\":\"white\",\"ticks\":\"\",\"title\":{\"standoff\":15},\"zerolinecolor\":\"white\",\"automargin\":true,\"zerolinewidth\":2},\"yaxis\":{\"gridcolor\":\"white\",\"linecolor\":\"white\",\"ticks\":\"\",\"title\":{\"standoff\":15},\"zerolinecolor\":\"white\",\"automargin\":true,\"zerolinewidth\":2},\"scene\":{\"xaxis\":{\"backgroundcolor\":\"#E5ECF6\",\"gridcolor\":\"white\",\"linecolor\":\"white\",\"showbackground\":true,\"ticks\":\"\",\"zerolinecolor\":\"white\",\"gridwidth\":2},\"yaxis\":{\"backgroundcolor\":\"#E5ECF6\",\"gridcolor\":\"white\",\"linecolor\":\"white\",\"showbackground\":true,\"ticks\":\"\",\"zerolinecolor\":\"white\",\"gridwidth\":2},\"zaxis\":{\"backgroundcolor\":\"#E5ECF6\",\"gridcolor\":\"white\",\"linecolor\":\"white\",\"showbackground\":true,\"ticks\":\"\",\"zerolinecolor\":\"white\",\"gridwidth\":2}},\"shapedefaults\":{\"line\":{\"color\":\"#2a3f5f\"}},\"annotationdefaults\":{\"arrowcolor\":\"#2a3f5f\",\"arrowhead\":0,\"arrowwidth\":1},\"geo\":{\"bgcolor\":\"white\",\"landcolor\":\"#E5ECF6\",\"subunitcolor\":\"white\",\"showland\":true,\"showlakes\":true,\"lakecolor\":\"white\"},\"title\":{\"x\":0.05},\"mapbox\":{\"style\":\"light\"}}},\"xaxis\":{\"anchor\":\"y\",\"domain\":[0.0,1.0],\"title\":{\"text\":\"Lap\"}},\"yaxis\":{\"anchor\":\"x\",\"domain\":[0.0,1.0],\"title\":{\"text\":\"Lap Time (In seconds, Outliers/Red Flags Removed)\"}},\"legend\":{\"title\":{\"text\":\"Driver\"},\"tracegroupgap\":0},\"title\":{\"text\":\"<b>Lap Times</b>\",\"font\":{\"family\":\"Arial, sans-serif\",\"size\":30},\"x\":0.5},\"updatemenus\":[{\"active\":0,\"buttons\":[{\"args\":[{\"visible\":[true,true,true,true,true,true,true,true,true,true,true,true,true,true,true,true,true,true,true,true],\"title\":\"All\",\"showlegend\":true}],\"label\":\"All\",\"method\":\"update\"},{\"args\":[{\"visible\":[true,false,false,false,false,false,false,false,false,false,false,false,false,false,false,false,false,false,false,false],\"title\":\"ALB\",\"showlegend\":true}],\"label\":\"ALB\",\"method\":\"update\"},{\"args\":[{\"visible\":[false,true,false,false,false,false,false,false,false,false,false,false,false,false,false,false,false,false,false,false],\"title\":\"ALO\",\"showlegend\":true}],\"label\":\"ALO\",\"method\":\"update\"},{\"args\":[{\"visible\":[false,false,true,false,false,false,false,false,false,false,false,false,false,false,false,false,false,false,false,false],\"title\":\"BOT\",\"showlegend\":true}],\"label\":\"BOT\",\"method\":\"update\"},{\"args\":[{\"visible\":[false,false,false,true,false,false,false,false,false,false,false,false,false,false,false,false,false,false,false,false],\"title\":\"GAS\",\"showlegend\":true}],\"label\":\"GAS\",\"method\":\"update\"},{\"args\":[{\"visible\":[false,false,false,false,true,false,false,false,false,false,false,false,false,false,false,false,false,false,false,false],\"title\":\"HAM\",\"showlegend\":true}],\"label\":\"HAM\",\"method\":\"update\"},{\"args\":[{\"visible\":[false,false,false,false,false,true,false,false,false,false,false,false,false,false,false,false,false,false,false,false],\"title\":\"HUL\",\"showlegend\":true}],\"label\":\"HUL\",\"method\":\"update\"},{\"args\":[{\"visible\":[false,false,false,false,false,false,true,false,false,false,false,false,false,false,false,false,false,false,false,false],\"title\":\"LEC\",\"showlegend\":true}],\"label\":\"LEC\",\"method\":\"update\"},{\"args\":[{\"visible\":[false,false,false,false,false,false,false,true,false,false,false,false,false,false,false,false,false,false,false,false],\"title\":\"MAG\",\"showlegend\":true}],\"label\":\"MAG\",\"method\":\"update\"},{\"args\":[{\"visible\":[false,false,false,false,false,false,false,false,true,false,false,false,false,false,false,false,false,false,false,false],\"title\":\"NOR\",\"showlegend\":true}],\"label\":\"NOR\",\"method\":\"update\"},{\"args\":[{\"visible\":[false,false,false,false,false,false,false,false,false,true,false,false,false,false,false,false,false,false,false,false],\"title\":\"OCO\",\"showlegend\":true}],\"label\":\"OCO\",\"method\":\"update\"},{\"args\":[{\"visible\":[false,false,false,false,false,false,false,false,false,false,true,false,false,false,false,false,false,false,false,false],\"title\":\"PER\",\"showlegend\":true}],\"label\":\"PER\",\"method\":\"update\"},{\"args\":[{\"visible\":[false,false,false,false,false,false,false,false,false,false,false,true,false,false,false,false,false,false,false,false],\"title\":\"PIA\",\"showlegend\":true}],\"label\":\"PIA\",\"method\":\"update\"},{\"args\":[{\"visible\":[false,false,false,false,false,false,false,false,false,false,false,false,true,false,false,false,false,false,false,false],\"title\":\"RIC\",\"showlegend\":true}],\"label\":\"RIC\",\"method\":\"update\"},{\"args\":[{\"visible\":[false,false,false,false,false,false,false,false,false,false,false,false,false,true,false,false,false,false,false,false],\"title\":\"RUS\",\"showlegend\":true}],\"label\":\"RUS\",\"method\":\"update\"},{\"args\":[{\"visible\":[false,false,false,false,false,false,false,false,false,false,false,false,false,false,true,false,false,false,false,false],\"title\":\"SAI\",\"showlegend\":true}],\"label\":\"SAI\",\"method\":\"update\"},{\"args\":[{\"visible\":[false,false,false,false,false,false,false,false,false,false,false,false,false,false,false,true,false,false,false,false],\"title\":\"SAR\",\"showlegend\":true}],\"label\":\"SAR\",\"method\":\"update\"},{\"args\":[{\"visible\":[false,false,false,false,false,false,false,false,false,false,false,false,false,false,false,false,true,false,false,false],\"title\":\"STR\",\"showlegend\":true}],\"label\":\"STR\",\"method\":\"update\"},{\"args\":[{\"visible\":[false,false,false,false,false,false,false,false,false,false,false,false,false,false,false,false,false,true,false,false],\"title\":\"TSU\",\"showlegend\":true}],\"label\":\"TSU\",\"method\":\"update\"},{\"args\":[{\"visible\":[false,false,false,false,false,false,false,false,false,false,false,false,false,false,false,false,false,false,true,false],\"title\":\"VER\",\"showlegend\":true}],\"label\":\"VER\",\"method\":\"update\"},{\"args\":[{\"visible\":[false,false,false,false,false,false,false,false,false,false,false,false,false,false,false,false,false,false,false,true],\"title\":\"ZHO\",\"showlegend\":true}],\"label\":\"ZHO\",\"method\":\"update\"}]}]},                        {\"responsive\": true}                    ).then(function(){\n",
       "                            \n",
       "var gd = document.getElementById('3a034ac2-aba4-4e7e-bbc9-c5d9a9dc656c');\n",
       "var x = new MutationObserver(function (mutations, observer) {{\n",
       "        var display = window.getComputedStyle(gd).display;\n",
       "        if (!display || display === 'none') {{\n",
       "            console.log([gd, 'removed!']);\n",
       "            Plotly.purge(gd);\n",
       "            observer.disconnect();\n",
       "        }}\n",
       "}});\n",
       "\n",
       "// Listen for the removal of the full notebook cells\n",
       "var notebookContainer = gd.closest('#notebook-container');\n",
       "if (notebookContainer) {{\n",
       "    x.observe(notebookContainer, {childList: true});\n",
       "}}\n",
       "\n",
       "// Listen for the clearing of the current output cell\n",
       "var outputEl = gd.closest('.output');\n",
       "if (outputEl) {{\n",
       "    x.observe(outputEl, {childList: true});\n",
       "}}\n",
       "\n",
       "                        })                };                });            </script>        </div>"
      ]
     },
     "metadata": {},
     "output_type": "display_data"
    }
   ],
   "source": [
    "if not lap_tim_emp:\n",
    "    multi_lap_plot(mapping)"
   ]
  },
  {
   "cell_type": "code",
   "execution_count": 30,
   "id": "e01cd9ca",
   "metadata": {
    "_kg_hide-input": true,
    "execution": {
     "iopub.execute_input": "2023-11-27T17:06:11.094089Z",
     "iopub.status.busy": "2023-11-27T17:06:11.093594Z",
     "iopub.status.idle": "2023-11-27T17:06:11.280072Z",
     "shell.execute_reply": "2023-11-27T17:06:11.278680Z"
    },
    "papermill": {
     "duration": 0.213316,
     "end_time": "2023-11-27T17:06:11.283120",
     "exception": false,
     "start_time": "2023-11-27T17:06:11.069804",
     "status": "completed"
    },
    "tags": []
   },
   "outputs": [
    {
     "data": {
      "text/html": [
       "<div>                            <div id=\"bc61cded-3152-4756-b6bf-df69603f2612\" class=\"plotly-graph-div\" style=\"height:525px; width:100%;\"></div>            <script type=\"text/javascript\">                require([\"plotly\"], function(Plotly) {                    window.PLOTLYENV=window.PLOTLYENV || {};                                    if (document.getElementById(\"bc61cded-3152-4756-b6bf-df69603f2612\")) {                    Plotly.newPlot(                        \"bc61cded-3152-4756-b6bf-df69603f2612\",                        [{\"hovertemplate\":\"Driver=VER<br>Lap=%{x}<br>Position=%{y}<extra></extra>\",\"legendgroup\":\"VER\",\"line\":{\"color\":\"#000B8D\",\"dash\":\"solid\"},\"marker\":{\"symbol\":\"circle\"},\"mode\":\"lines\",\"name\":\"VER\",\"orientation\":\"v\",\"showlegend\":true,\"x\":[1.0,2.0,3.0,4.0,5.0,6.0,7.0,8.0,9.0,10.0,11.0,12.0,13.0,14.0,15.0,16.0,17.0,18.0,19.0,20.0,21.0,22.0,23.0,24.0,25.0,26.0,27.0,28.0,29.0,30.0,31.0,32.0,33.0,34.0,35.0,36.0,37.0,38.0,39.0,40.0,41.0,42.0,43.0,44.0,45.0,46.0,47.0,48.0,49.0,50.0],\"xaxis\":\"x\",\"y\":[1,1,1,1,1,1,1,1,1,1,1,1,1,1,1,1,7,4,3,3,2,2,1,1,1,1,1,1,1,1,1,1,1,1,1,1,1,1,1,1,1,1,1,1,1,1,1,1,1,1],\"yaxis\":\"y\",\"type\":\"scatter\"},{\"hovertemplate\":\"Driver=LEC<br>Lap=%{x}<br>Position=%{y}<extra></extra>\",\"legendgroup\":\"LEC\",\"line\":{\"color\":\"#EF1A2D\",\"dash\":\"solid\"},\"marker\":{\"symbol\":\"circle\"},\"mode\":\"lines\",\"name\":\"LEC\",\"orientation\":\"v\",\"showlegend\":true,\"x\":[1.0,2.0,3.0,4.0,5.0,6.0,7.0,8.0,9.0,10.0,11.0,12.0,13.0,14.0,15.0,16.0,17.0,18.0,19.0,20.0,21.0,22.0,23.0,24.0,25.0,26.0,27.0,28.0,29.0,30.0,31.0,32.0,33.0,34.0,35.0,36.0,37.0,38.0,39.0,40.0,41.0,42.0,43.0,44.0,45.0,46.0,47.0,48.0,49.0,50.0],\"xaxis\":\"x\",\"y\":[2,2,2,2,2,2,2,2,2,2,2,2,2,2,2,2,1,5,5,5,4,3,2,2,2,2,2,2,2,2,2,2,2,2,2,6,4,3,3,3,3,3,2,2,2,2,2,2,2,2],\"yaxis\":\"y\",\"type\":\"scatter\"},{\"hovertemplate\":\"Driver=PIA<br>Lap=%{x}<br>Position=%{y}<extra></extra>\",\"legendgroup\":\"PIA\",\"line\":{\"color\":\"#FF8000\",\"dash\":\"solid\"},\"marker\":{\"symbol\":\"circle\"},\"mode\":\"lines\",\"name\":\"PIA\",\"orientation\":\"v\",\"showlegend\":true,\"x\":[1.0,2.0,3.0,4.0,5.0,6.0,7.0,8.0,9.0,10.0,11.0,12.0,13.0,14.0,15.0,16.0,17.0,18.0,19.0,20.0,21.0,22.0,23.0,24.0,25.0,26.0,27.0,28.0,29.0,30.0,31.0,32.0,33.0,34.0,35.0,36.0,37.0,38.0,39.0,40.0,41.0,42.0,43.0,44.0,45.0,46.0,47.0,48.0,49.0,50.0],\"xaxis\":\"x\",\"y\":[3,3,3,4,4,4,4,4,4,4,5,5,6,15,14,11,11,9,9,8,8,8,5,5,5,5,5,6,6,6,6,6,6,5,4,3,10,10,8,8,8,7,7,7,7,7,7,6,6,6],\"yaxis\":\"y\",\"type\":\"scatter\"},{\"hovertemplate\":\"Driver=NOR<br>Lap=%{x}<br>Position=%{y}<extra></extra>\",\"legendgroup\":\"NOR\",\"line\":{\"color\":\"#FF8000\",\"dash\":\"solid\"},\"marker\":{\"symbol\":\"circle\"},\"mode\":\"lines\",\"name\":\"NOR\",\"orientation\":\"v\",\"showlegend\":true,\"x\":[1.0,2.0,3.0,4.0,5.0,6.0,7.0,8.0,9.0,10.0,11.0,12.0,13.0,14.0,15.0,16.0,17.0,18.0,19.0,20.0,21.0,22.0,23.0,24.0,25.0,26.0,27.0,28.0,29.0,30.0,31.0,32.0,33.0,34.0,35.0,36.0,37.0,38.0,39.0,40.0,41.0,42.0,43.0,44.0,45.0,46.0,47.0,48.0,49.0,50.0],\"xaxis\":\"x\",\"y\":[4,4,4,3,3,3,3,3,3,3,3,3,3,3,13,10,10,8,7,7,7,7,4,4,4,4,4,4,4,4,4,4,4,10,10,9,6,6,6,6,6,5,4,4,4,4,4,5,5,5],\"yaxis\":\"y\",\"type\":\"scatter\"},{\"hovertemplate\":\"Driver=RUS<br>Lap=%{x}<br>Position=%{y}<extra></extra>\",\"legendgroup\":\"RUS\",\"line\":{\"color\":\"#00A19B\",\"dash\":\"solid\"},\"marker\":{\"symbol\":\"circle\"},\"mode\":\"lines\",\"name\":\"RUS\",\"orientation\":\"v\",\"showlegend\":true,\"x\":[1.0,2.0,3.0,4.0,5.0,6.0,7.0,8.0,9.0,10.0,11.0,12.0,13.0,14.0,15.0,16.0,17.0,18.0,19.0,20.0,21.0,22.0,23.0,24.0,25.0,26.0,27.0,28.0,29.0,30.0,31.0,32.0,33.0,34.0,35.0,36.0,37.0,38.0,39.0,40.0,41.0,42.0,43.0,44.0,45.0,46.0,47.0,48.0,49.0,50.0],\"xaxis\":\"x\",\"y\":[5,5,5,5,5,5,5,5,5,5,4,4,4,4,12,9,9,6,6,6,6,5,3,3,3,3,3,3,3,3,3,3,3,3,9,7,5,5,4,4,4,4,3,3,3,3,3,3,3,3],\"yaxis\":\"y\",\"type\":\"scatter\"},{\"hovertemplate\":\"Driver=TSU<br>Lap=%{x}<br>Position=%{y}<extra></extra>\",\"legendgroup\":\"TSU\",\"line\":{\"color\":\"#20394C\",\"dash\":\"solid\"},\"marker\":{\"symbol\":\"circle\"},\"mode\":\"lines\",\"name\":\"TSU\",\"orientation\":\"v\",\"showlegend\":true,\"x\":[1.0,2.0,3.0,4.0,5.0,6.0,7.0,8.0,9.0,10.0,11.0,12.0,13.0,14.0,15.0,16.0,17.0,18.0,19.0,20.0,21.0,22.0,23.0,24.0,25.0,26.0,27.0,28.0,29.0,30.0,31.0,32.0,33.0,34.0,35.0,36.0,37.0,38.0,39.0,40.0,41.0,42.0,43.0,44.0,45.0,46.0,47.0,48.0,49.0,50.0],\"xaxis\":\"x\",\"y\":[6,6,6,6,6,6,6,6,6,6,6,6,5,5,3,3,2,1,1,1,1,1,11,10,10,9,9,9,9,9,9,9,9,8,7,5,3,4,5,5,5,6,5,6,6,6,6,7,7,7],\"yaxis\":\"y\",\"type\":\"scatter\"},{\"hovertemplate\":\"Driver=ALO<br>Lap=%{x}<br>Position=%{y}<extra></extra>\",\"legendgroup\":\"ALO\",\"line\":{\"color\":\"#002420\",\"dash\":\"solid\"},\"marker\":{\"symbol\":\"circle\"},\"mode\":\"lines\",\"name\":\"ALO\",\"orientation\":\"v\",\"showlegend\":true,\"x\":[1.0,2.0,3.0,4.0,5.0,6.0,7.0,8.0,9.0,10.0,11.0,12.0,13.0,14.0,15.0,16.0,17.0,18.0,19.0,20.0,21.0,22.0,23.0,24.0,25.0,26.0,27.0,28.0,29.0,30.0,31.0,32.0,33.0,34.0,35.0,36.0,37.0,38.0,39.0,40.0,41.0,42.0,43.0,44.0,45.0,46.0,47.0,48.0,49.0,50.0],\"xaxis\":\"x\",\"y\":[7,7,7,7,7,7,7,7,7,7,7,8,18,16,15,13,12,10,10,9,9,9,7,6,7,7,7,7,7,7,7,7,7,6,5,4,12,11,11,11,11,10,9,9,9,8,8,8,8,8],\"yaxis\":\"y\",\"type\":\"scatter\"},{\"hovertemplate\":\"Driver=GAS<br>Lap=%{x}<br>Position=%{y}<extra></extra>\",\"legendgroup\":\"GAS\",\"line\":{\"color\":\"#2173B8\",\"dash\":\"solid\"},\"marker\":{\"symbol\":\"circle\"},\"mode\":\"lines\",\"name\":\"GAS\",\"orientation\":\"v\",\"showlegend\":true,\"x\":[1.0,2.0,3.0,4.0,5.0,6.0,7.0,8.0,9.0,10.0,11.0,12.0,13.0,14.0,15.0,16.0,17.0,18.0,19.0,20.0,21.0,22.0,23.0,24.0,25.0,26.0,27.0,28.0,29.0,30.0,31.0,32.0,33.0,34.0,35.0,36.0,37.0,38.0,39.0,40.0,41.0,42.0,43.0,44.0,45.0,46.0,47.0,48.0,49.0,50.0],\"xaxis\":\"x\",\"y\":[8,8,8,8,8,8,8,8,8,8,8,9,8,7,5,5,6,15,15,15,15,15,15,14,14,13,13,13,13,13,13,13,18,17,17,17,17,16,16,15,15,15,15,14,14,14,14,14,14,14],\"yaxis\":\"y\",\"type\":\"scatter\"},{\"hovertemplate\":\"Driver=HAM<br>Lap=%{x}<br>Position=%{y}<extra></extra>\",\"legendgroup\":\"HAM\",\"line\":{\"color\":\"#00A19B\",\"dash\":\"solid\"},\"marker\":{\"symbol\":\"circle\"},\"mode\":\"lines\",\"name\":\"HAM\",\"orientation\":\"v\",\"showlegend\":true,\"x\":[1.0,2.0,3.0,4.0,5.0,6.0,7.0,8.0,9.0,10.0,11.0,12.0,13.0,14.0,15.0,16.0,17.0,18.0,19.0,20.0,21.0,22.0,23.0,24.0,25.0,26.0,27.0,28.0,29.0,30.0,31.0,32.0,33.0,34.0,35.0,36.0,37.0,38.0,39.0,40.0,41.0,42.0,43.0,44.0,45.0,46.0,47.0,48.0,49.0,50.0],\"xaxis\":\"x\",\"y\":[9,9,10,10,10,10,10,10,10,10,10,10,9,8,7,15,14,13,13,13,13,13,10,9,8,8,8,8,8,8,8,8,8,7,6,12,11,12,12,12,12,12,10,10,10,10,9,9,9,9],\"yaxis\":\"y\",\"type\":\"scatter\"},{\"hovertemplate\":\"Driver=PER<br>Lap=%{x}<br>Position=%{y}<extra></extra>\",\"legendgroup\":\"PER\",\"line\":{\"color\":\"#000B8D\",\"dash\":\"solid\"},\"marker\":{\"symbol\":\"circle\"},\"mode\":\"lines\",\"name\":\"PER\",\"orientation\":\"v\",\"showlegend\":true,\"x\":[1.0,2.0,3.0,4.0,5.0,6.0,7.0,8.0,9.0,10.0,11.0,12.0,13.0,14.0,15.0,16.0,17.0,18.0,19.0,20.0,21.0,22.0,23.0,24.0,25.0,26.0,27.0,28.0,29.0,30.0,31.0,32.0,33.0,34.0,35.0,36.0,37.0,38.0,39.0,40.0,41.0,42.0,43.0,44.0,45.0,46.0,47.0,48.0,49.0,50.0],\"xaxis\":\"x\",\"y\":[10,10,9,9,9,9,9,9,9,9,9,7,7,6,4,4,3,12,12,11,10,10,8,7,6,6,6,5,5,5,5,5,5,4,3,2,2,2,2,2,2,2,6,5,5,5,5,4,4,4],\"yaxis\":\"y\",\"type\":\"scatter\"},{\"hovertemplate\":\"Driver=OCO<br>Lap=%{x}<br>Position=%{y}<extra></extra>\",\"legendgroup\":\"OCO\",\"line\":{\"color\":\"#2173B8\",\"dash\":\"solid\"},\"marker\":{\"symbol\":\"circle\"},\"mode\":\"lines\",\"name\":\"OCO\",\"orientation\":\"v\",\"showlegend\":true,\"x\":[1.0,2.0,3.0,4.0,5.0,6.0,7.0,8.0,9.0,10.0,11.0,12.0,13.0,14.0,15.0,16.0,17.0,18.0,19.0,20.0,21.0,22.0,23.0,24.0,25.0,26.0,27.0,28.0,29.0,30.0,31.0,32.0,33.0,34.0,35.0,36.0,37.0,38.0,39.0,40.0,41.0,42.0,43.0,44.0,45.0,46.0,47.0,48.0,49.0,50.0],\"xaxis\":\"x\",\"y\":[11,11,11,11,11,11,11,11,11,11,11,11,10,9,8,16,15,14,14,14,14,14,13,11,11,12,12,12,12,12,11,11,11,11,11,10,8,8,10,10,10,11,11,11,11,11,11,11,11,12],\"yaxis\":\"y\",\"type\":\"scatter\"},{\"hovertemplate\":\"Driver=STR<br>Lap=%{x}<br>Position=%{y}<extra></extra>\",\"legendgroup\":\"STR\",\"line\":{\"color\":\"#002420\",\"dash\":\"solid\"},\"marker\":{\"symbol\":\"circle\"},\"mode\":\"lines\",\"name\":\"STR\",\"orientation\":\"v\",\"showlegend\":true,\"x\":[1.0,2.0,3.0,4.0,5.0,6.0,7.0,8.0,9.0,10.0,11.0,12.0,13.0,14.0,15.0,16.0,17.0,18.0,19.0,20.0,21.0,22.0,23.0,24.0,25.0,26.0,27.0,28.0,29.0,30.0,31.0,32.0,33.0,34.0,35.0,36.0,37.0,38.0,39.0,40.0,41.0,42.0,43.0,44.0,45.0,46.0,47.0,48.0,49.0,50.0],\"xaxis\":\"x\",\"y\":[12,12,12,12,12,12,12,12,12,12,12,12,11,10,6,6,4,2,2,2,3,4,14,13,12,11,11,11,10,10,10,10,10,9,8,8,7,7,7,7,7,8,12,12,12,12,12,12,12,11],\"yaxis\":\"y\",\"type\":\"scatter\"},{\"hovertemplate\":\"Driver=HUL<br>Lap=%{x}<br>Position=%{y}<extra></extra>\",\"legendgroup\":\"HUL\",\"line\":{\"color\":\"#E6002B\",\"dash\":\"solid\"},\"marker\":{\"symbol\":\"circle\"},\"mode\":\"lines\",\"name\":\"HUL\",\"orientation\":\"v\",\"showlegend\":true,\"x\":[1.0,2.0,3.0,4.0,5.0,6.0,7.0,8.0,9.0,10.0,11.0,12.0,13.0,14.0,15.0,16.0,17.0,18.0,19.0,20.0,21.0,22.0,23.0,24.0,25.0,26.0,27.0,28.0,29.0,30.0,31.0,32.0,33.0,34.0,35.0,36.0,37.0,38.0,39.0,40.0,41.0,42.0,43.0,44.0,45.0,46.0,47.0,48.0,49.0,50.0],\"xaxis\":\"x\",\"y\":[13,14,14,14,14,14,14,14,14,14,14,14,14,19,19,18,16,16,16,16,16,16,16,15,15,15,16,16,15,15,15,14,14,18,18,18,18,17,17,17,17,16,16,15,15,15,15,15,16,16],\"yaxis\":\"y\",\"type\":\"scatter\"},{\"hovertemplate\":\"Driver=SAI<br>Lap=%{x}<br>Position=%{y}<extra></extra>\",\"legendgroup\":\"SAI\",\"line\":{\"color\":\"#EF1A2D\",\"dash\":\"solid\"},\"marker\":{\"symbol\":\"circle\"},\"mode\":\"lines\",\"name\":\"SAI\",\"orientation\":\"v\",\"showlegend\":true,\"x\":[1.0,2.0,3.0,4.0,5.0,6.0,7.0,8.0,9.0,10.0,11.0,12.0,13.0,14.0,15.0,16.0,17.0,18.0,19.0,20.0,21.0,22.0,23.0,24.0,25.0,26.0,27.0,28.0,29.0,30.0,31.0,32.0,33.0,34.0,35.0,36.0,37.0,38.0,39.0,40.0,41.0,42.0,43.0,44.0,45.0,46.0,47.0,48.0,49.0,50.0],\"xaxis\":\"x\",\"y\":[14,13,13,13,13,13,13,13,13,13,13,13,12,11,9,7,5,3,4,4,5,6,6,16,16,16,15,14,14,14,14,12,12,12,12,11,9,9,9,9,9,9,8,8,8,9,10,10,10,10],\"yaxis\":\"y\",\"type\":\"scatter\"},{\"hovertemplate\":\"Driver=RIC<br>Lap=%{x}<br>Position=%{y}<extra></extra>\",\"legendgroup\":\"RIC\",\"line\":{\"color\":\"#20394C\",\"dash\":\"solid\"},\"marker\":{\"symbol\":\"circle\"},\"mode\":\"lines\",\"name\":\"RIC\",\"orientation\":\"v\",\"showlegend\":true,\"x\":[1.0,2.0,3.0,4.0,5.0,6.0,7.0,8.0,9.0,10.0,11.0,12.0,13.0,14.0,15.0,16.0,17.0,18.0,19.0,20.0,21.0,22.0,23.0,24.0,25.0,26.0,27.0,28.0,29.0,30.0,31.0,32.0,33.0,34.0,35.0,36.0,37.0,38.0,39.0,40.0,41.0,42.0,43.0,44.0,45.0,46.0,47.0,48.0,49.0,50.0],\"xaxis\":\"x\",\"y\":[15,15,15,15,15,15,17,19,19,19,19,19,19,17,17,14,13,11,11,12,12,11,9,8,9,10,10,10,11,11,12,18,17,16,16,16,16,15,14,14,14,14,14,13,13,13,13,13,13,13],\"yaxis\":\"y\",\"type\":\"scatter\"},{\"hovertemplate\":\"Driver=BOT<br>Lap=%{x}<br>Position=%{y}<extra></extra>\",\"legendgroup\":\"BOT\",\"line\":{\"color\":\"#A42134\",\"dash\":\"solid\"},\"marker\":{\"symbol\":\"circle\"},\"mode\":\"lines\",\"name\":\"BOT\",\"orientation\":\"v\",\"showlegend\":true,\"x\":[1.0,2.0,3.0,4.0,5.0,6.0,7.0,8.0,9.0,10.0,11.0,12.0,13.0,14.0,15.0,16.0,17.0,18.0,19.0,20.0,21.0,22.0,23.0,24.0,25.0,26.0,27.0,28.0,29.0,30.0,31.0,32.0,33.0,34.0,35.0,36.0,37.0,38.0,39.0,40.0,41.0,42.0,43.0,44.0,45.0,46.0,47.0,48.0,49.0,50.0],\"xaxis\":\"x\",\"y\":[16,16,16,16,16,16,15,15,15,15,15,15,13,12,10,8,8,7,8,10,11,12,12,12,13,14,14,15,16,19,19,19,19,19,19,19,19,18,18,18,18,17,18,18,18,18,18,18,18,19],\"yaxis\":\"y\",\"type\":\"scatter\"},{\"hovertemplate\":\"Driver=ALB<br>Lap=%{x}<br>Position=%{y}<extra></extra>\",\"legendgroup\":\"ALB\",\"line\":{\"color\":\"#00A0DE\",\"dash\":\"solid\"},\"marker\":{\"symbol\":\"circle\"},\"mode\":\"lines\",\"name\":\"ALB\",\"orientation\":\"v\",\"showlegend\":true,\"x\":[1.0,2.0,3.0,4.0,5.0,6.0,7.0,8.0,9.0,10.0,11.0,12.0,13.0,14.0,15.0,16.0,17.0,18.0,19.0,20.0,21.0,22.0,23.0,24.0,25.0,26.0,27.0,28.0,29.0,30.0,31.0,32.0,33.0,34.0,35.0,36.0,37.0,38.0,39.0,40.0,41.0,42.0,43.0,44.0,45.0,46.0,47.0,48.0,49.0,50.0],\"xaxis\":\"x\",\"y\":[17,18,18,18,18,18,18,17,17,17,17,17,15,13,11,12,19,19,19,19,19,18,18,18,18,17,17,17,17,16,16,15,13,13,13,13,13,13,13,13,13,13,13,17,16,16,16,16,15,15],\"yaxis\":\"y\",\"type\":\"scatter\"},{\"hovertemplate\":\"Driver=ZHO<br>Lap=%{x}<br>Position=%{y}<extra></extra>\",\"legendgroup\":\"ZHO\",\"line\":{\"color\":\"#A42134\",\"dash\":\"solid\"},\"marker\":{\"symbol\":\"circle\"},\"mode\":\"lines\",\"name\":\"ZHO\",\"orientation\":\"v\",\"showlegend\":true,\"x\":[1.0,2.0,3.0,4.0,5.0,6.0,7.0,8.0,9.0,10.0,11.0,12.0,13.0,14.0,15.0,16.0,17.0,18.0,19.0,20.0,21.0,22.0,23.0,24.0,25.0,26.0,27.0,28.0,29.0,30.0,31.0,32.0,33.0,34.0,35.0,36.0,37.0,38.0,39.0,40.0,41.0,42.0,43.0,44.0,45.0,46.0,47.0,48.0,49.0,50.0],\"xaxis\":\"x\",\"y\":[18,17,17,17,17,17,16,16,16,16,16,16,16,20,20,19,18,18,18,18,18,17,17,17,17,18,18,18,18,17,17,16,15,14,14,14,15,20,20,19,19,18,17,16,17,17,17,17,17,17],\"yaxis\":\"y\",\"type\":\"scatter\"},{\"hovertemplate\":\"Driver=MAG<br>Lap=%{x}<br>Position=%{y}<extra></extra>\",\"legendgroup\":\"MAG\",\"line\":{\"color\":\"#E6002B\",\"dash\":\"solid\"},\"marker\":{\"symbol\":\"circle\"},\"mode\":\"lines\",\"name\":\"MAG\",\"orientation\":\"v\",\"showlegend\":true,\"x\":[1.0,2.0,3.0,4.0,5.0,6.0,7.0,8.0,9.0,10.0,11.0,12.0,13.0,14.0,15.0,16.0,17.0,18.0,19.0,20.0,21.0,22.0,23.0,24.0,25.0,26.0,27.0,28.0,29.0,30.0,31.0,32.0,33.0,34.0,35.0,36.0,37.0,38.0,39.0,40.0,41.0,42.0,43.0,44.0,45.0,46.0,47.0,48.0,49.0,50.0],\"xaxis\":\"x\",\"y\":[19,19,19,19,20,20,20,20,20,20,20,20,20,18,18,17,17,17,17,17,17,20,20,20,20,20,20,20,20,20,20,20,20,20,20,20,20,19,19,20,20,19,19,19,19,19,20,20,20,20],\"yaxis\":\"y\",\"type\":\"scatter\"},{\"hovertemplate\":\"Driver=SAR<br>Lap=%{x}<br>Position=%{y}<extra></extra>\",\"legendgroup\":\"SAR\",\"line\":{\"color\":\"#00A0DE\",\"dash\":\"solid\"},\"marker\":{\"symbol\":\"circle\"},\"mode\":\"lines\",\"name\":\"SAR\",\"orientation\":\"v\",\"showlegend\":true,\"x\":[1.0,2.0,3.0,4.0,5.0,6.0,7.0,8.0,9.0,10.0,11.0,12.0,13.0,14.0,15.0,16.0,17.0,18.0,19.0,20.0,21.0,22.0,23.0,24.0,25.0,26.0,27.0,28.0,29.0,30.0,31.0,32.0,33.0,34.0,35.0,36.0,37.0,38.0,39.0,40.0,41.0,42.0,43.0,44.0,45.0,46.0,47.0,48.0,49.0,50.0],\"xaxis\":\"x\",\"y\":[20,20,20,20,19,19,19,18,18,18,18,18,17,14,16,20,20,20,20,20,20,19,19,19,19,19,19,19,19,18,18,17,16,15,15,15,14,14,15,16,16,20,20,20,20,20,19,19,19,18],\"yaxis\":\"y\",\"type\":\"scatter\"}],                        {\"template\":{\"data\":{\"histogram2dcontour\":[{\"type\":\"histogram2dcontour\",\"colorbar\":{\"outlinewidth\":0,\"ticks\":\"\"},\"colorscale\":[[0.0,\"#0d0887\"],[0.1111111111111111,\"#46039f\"],[0.2222222222222222,\"#7201a8\"],[0.3333333333333333,\"#9c179e\"],[0.4444444444444444,\"#bd3786\"],[0.5555555555555556,\"#d8576b\"],[0.6666666666666666,\"#ed7953\"],[0.7777777777777778,\"#fb9f3a\"],[0.8888888888888888,\"#fdca26\"],[1.0,\"#f0f921\"]]}],\"choropleth\":[{\"type\":\"choropleth\",\"colorbar\":{\"outlinewidth\":0,\"ticks\":\"\"}}],\"histogram2d\":[{\"type\":\"histogram2d\",\"colorbar\":{\"outlinewidth\":0,\"ticks\":\"\"},\"colorscale\":[[0.0,\"#0d0887\"],[0.1111111111111111,\"#46039f\"],[0.2222222222222222,\"#7201a8\"],[0.3333333333333333,\"#9c179e\"],[0.4444444444444444,\"#bd3786\"],[0.5555555555555556,\"#d8576b\"],[0.6666666666666666,\"#ed7953\"],[0.7777777777777778,\"#fb9f3a\"],[0.8888888888888888,\"#fdca26\"],[1.0,\"#f0f921\"]]}],\"heatmap\":[{\"type\":\"heatmap\",\"colorbar\":{\"outlinewidth\":0,\"ticks\":\"\"},\"colorscale\":[[0.0,\"#0d0887\"],[0.1111111111111111,\"#46039f\"],[0.2222222222222222,\"#7201a8\"],[0.3333333333333333,\"#9c179e\"],[0.4444444444444444,\"#bd3786\"],[0.5555555555555556,\"#d8576b\"],[0.6666666666666666,\"#ed7953\"],[0.7777777777777778,\"#fb9f3a\"],[0.8888888888888888,\"#fdca26\"],[1.0,\"#f0f921\"]]}],\"heatmapgl\":[{\"type\":\"heatmapgl\",\"colorbar\":{\"outlinewidth\":0,\"ticks\":\"\"},\"colorscale\":[[0.0,\"#0d0887\"],[0.1111111111111111,\"#46039f\"],[0.2222222222222222,\"#7201a8\"],[0.3333333333333333,\"#9c179e\"],[0.4444444444444444,\"#bd3786\"],[0.5555555555555556,\"#d8576b\"],[0.6666666666666666,\"#ed7953\"],[0.7777777777777778,\"#fb9f3a\"],[0.8888888888888888,\"#fdca26\"],[1.0,\"#f0f921\"]]}],\"contourcarpet\":[{\"type\":\"contourcarpet\",\"colorbar\":{\"outlinewidth\":0,\"ticks\":\"\"}}],\"contour\":[{\"type\":\"contour\",\"colorbar\":{\"outlinewidth\":0,\"ticks\":\"\"},\"colorscale\":[[0.0,\"#0d0887\"],[0.1111111111111111,\"#46039f\"],[0.2222222222222222,\"#7201a8\"],[0.3333333333333333,\"#9c179e\"],[0.4444444444444444,\"#bd3786\"],[0.5555555555555556,\"#d8576b\"],[0.6666666666666666,\"#ed7953\"],[0.7777777777777778,\"#fb9f3a\"],[0.8888888888888888,\"#fdca26\"],[1.0,\"#f0f921\"]]}],\"surface\":[{\"type\":\"surface\",\"colorbar\":{\"outlinewidth\":0,\"ticks\":\"\"},\"colorscale\":[[0.0,\"#0d0887\"],[0.1111111111111111,\"#46039f\"],[0.2222222222222222,\"#7201a8\"],[0.3333333333333333,\"#9c179e\"],[0.4444444444444444,\"#bd3786\"],[0.5555555555555556,\"#d8576b\"],[0.6666666666666666,\"#ed7953\"],[0.7777777777777778,\"#fb9f3a\"],[0.8888888888888888,\"#fdca26\"],[1.0,\"#f0f921\"]]}],\"mesh3d\":[{\"type\":\"mesh3d\",\"colorbar\":{\"outlinewidth\":0,\"ticks\":\"\"}}],\"scatter\":[{\"fillpattern\":{\"fillmode\":\"overlay\",\"size\":10,\"solidity\":0.2},\"type\":\"scatter\"}],\"parcoords\":[{\"type\":\"parcoords\",\"line\":{\"colorbar\":{\"outlinewidth\":0,\"ticks\":\"\"}}}],\"scatterpolargl\":[{\"type\":\"scatterpolargl\",\"marker\":{\"colorbar\":{\"outlinewidth\":0,\"ticks\":\"\"}}}],\"bar\":[{\"error_x\":{\"color\":\"#2a3f5f\"},\"error_y\":{\"color\":\"#2a3f5f\"},\"marker\":{\"line\":{\"color\":\"#E5ECF6\",\"width\":0.5},\"pattern\":{\"fillmode\":\"overlay\",\"size\":10,\"solidity\":0.2}},\"type\":\"bar\"}],\"scattergeo\":[{\"type\":\"scattergeo\",\"marker\":{\"colorbar\":{\"outlinewidth\":0,\"ticks\":\"\"}}}],\"scatterpolar\":[{\"type\":\"scatterpolar\",\"marker\":{\"colorbar\":{\"outlinewidth\":0,\"ticks\":\"\"}}}],\"histogram\":[{\"marker\":{\"pattern\":{\"fillmode\":\"overlay\",\"size\":10,\"solidity\":0.2}},\"type\":\"histogram\"}],\"scattergl\":[{\"type\":\"scattergl\",\"marker\":{\"colorbar\":{\"outlinewidth\":0,\"ticks\":\"\"}}}],\"scatter3d\":[{\"type\":\"scatter3d\",\"line\":{\"colorbar\":{\"outlinewidth\":0,\"ticks\":\"\"}},\"marker\":{\"colorbar\":{\"outlinewidth\":0,\"ticks\":\"\"}}}],\"scattermapbox\":[{\"type\":\"scattermapbox\",\"marker\":{\"colorbar\":{\"outlinewidth\":0,\"ticks\":\"\"}}}],\"scatterternary\":[{\"type\":\"scatterternary\",\"marker\":{\"colorbar\":{\"outlinewidth\":0,\"ticks\":\"\"}}}],\"scattercarpet\":[{\"type\":\"scattercarpet\",\"marker\":{\"colorbar\":{\"outlinewidth\":0,\"ticks\":\"\"}}}],\"carpet\":[{\"aaxis\":{\"endlinecolor\":\"#2a3f5f\",\"gridcolor\":\"white\",\"linecolor\":\"white\",\"minorgridcolor\":\"white\",\"startlinecolor\":\"#2a3f5f\"},\"baxis\":{\"endlinecolor\":\"#2a3f5f\",\"gridcolor\":\"white\",\"linecolor\":\"white\",\"minorgridcolor\":\"white\",\"startlinecolor\":\"#2a3f5f\"},\"type\":\"carpet\"}],\"table\":[{\"cells\":{\"fill\":{\"color\":\"#EBF0F8\"},\"line\":{\"color\":\"white\"}},\"header\":{\"fill\":{\"color\":\"#C8D4E3\"},\"line\":{\"color\":\"white\"}},\"type\":\"table\"}],\"barpolar\":[{\"marker\":{\"line\":{\"color\":\"#E5ECF6\",\"width\":0.5},\"pattern\":{\"fillmode\":\"overlay\",\"size\":10,\"solidity\":0.2}},\"type\":\"barpolar\"}],\"pie\":[{\"automargin\":true,\"type\":\"pie\"}]},\"layout\":{\"autotypenumbers\":\"strict\",\"colorway\":[\"#636efa\",\"#EF553B\",\"#00cc96\",\"#ab63fa\",\"#FFA15A\",\"#19d3f3\",\"#FF6692\",\"#B6E880\",\"#FF97FF\",\"#FECB52\"],\"font\":{\"color\":\"#2a3f5f\"},\"hovermode\":\"closest\",\"hoverlabel\":{\"align\":\"left\"},\"paper_bgcolor\":\"white\",\"plot_bgcolor\":\"#E5ECF6\",\"polar\":{\"bgcolor\":\"#E5ECF6\",\"angularaxis\":{\"gridcolor\":\"white\",\"linecolor\":\"white\",\"ticks\":\"\"},\"radialaxis\":{\"gridcolor\":\"white\",\"linecolor\":\"white\",\"ticks\":\"\"}},\"ternary\":{\"bgcolor\":\"#E5ECF6\",\"aaxis\":{\"gridcolor\":\"white\",\"linecolor\":\"white\",\"ticks\":\"\"},\"baxis\":{\"gridcolor\":\"white\",\"linecolor\":\"white\",\"ticks\":\"\"},\"caxis\":{\"gridcolor\":\"white\",\"linecolor\":\"white\",\"ticks\":\"\"}},\"coloraxis\":{\"colorbar\":{\"outlinewidth\":0,\"ticks\":\"\"}},\"colorscale\":{\"sequential\":[[0.0,\"#0d0887\"],[0.1111111111111111,\"#46039f\"],[0.2222222222222222,\"#7201a8\"],[0.3333333333333333,\"#9c179e\"],[0.4444444444444444,\"#bd3786\"],[0.5555555555555556,\"#d8576b\"],[0.6666666666666666,\"#ed7953\"],[0.7777777777777778,\"#fb9f3a\"],[0.8888888888888888,\"#fdca26\"],[1.0,\"#f0f921\"]],\"sequentialminus\":[[0.0,\"#0d0887\"],[0.1111111111111111,\"#46039f\"],[0.2222222222222222,\"#7201a8\"],[0.3333333333333333,\"#9c179e\"],[0.4444444444444444,\"#bd3786\"],[0.5555555555555556,\"#d8576b\"],[0.6666666666666666,\"#ed7953\"],[0.7777777777777778,\"#fb9f3a\"],[0.8888888888888888,\"#fdca26\"],[1.0,\"#f0f921\"]],\"diverging\":[[0,\"#8e0152\"],[0.1,\"#c51b7d\"],[0.2,\"#de77ae\"],[0.3,\"#f1b6da\"],[0.4,\"#fde0ef\"],[0.5,\"#f7f7f7\"],[0.6,\"#e6f5d0\"],[0.7,\"#b8e186\"],[0.8,\"#7fbc41\"],[0.9,\"#4d9221\"],[1,\"#276419\"]]},\"xaxis\":{\"gridcolor\":\"white\",\"linecolor\":\"white\",\"ticks\":\"\",\"title\":{\"standoff\":15},\"zerolinecolor\":\"white\",\"automargin\":true,\"zerolinewidth\":2},\"yaxis\":{\"gridcolor\":\"white\",\"linecolor\":\"white\",\"ticks\":\"\",\"title\":{\"standoff\":15},\"zerolinecolor\":\"white\",\"automargin\":true,\"zerolinewidth\":2},\"scene\":{\"xaxis\":{\"backgroundcolor\":\"#E5ECF6\",\"gridcolor\":\"white\",\"linecolor\":\"white\",\"showbackground\":true,\"ticks\":\"\",\"zerolinecolor\":\"white\",\"gridwidth\":2},\"yaxis\":{\"backgroundcolor\":\"#E5ECF6\",\"gridcolor\":\"white\",\"linecolor\":\"white\",\"showbackground\":true,\"ticks\":\"\",\"zerolinecolor\":\"white\",\"gridwidth\":2},\"zaxis\":{\"backgroundcolor\":\"#E5ECF6\",\"gridcolor\":\"white\",\"linecolor\":\"white\",\"showbackground\":true,\"ticks\":\"\",\"zerolinecolor\":\"white\",\"gridwidth\":2}},\"shapedefaults\":{\"line\":{\"color\":\"#2a3f5f\"}},\"annotationdefaults\":{\"arrowcolor\":\"#2a3f5f\",\"arrowhead\":0,\"arrowwidth\":1},\"geo\":{\"bgcolor\":\"white\",\"landcolor\":\"#E5ECF6\",\"subunitcolor\":\"white\",\"showland\":true,\"showlakes\":true,\"lakecolor\":\"white\"},\"title\":{\"x\":0.05},\"mapbox\":{\"style\":\"light\"}}},\"xaxis\":{\"anchor\":\"y\",\"domain\":[0.0,1.0],\"title\":{\"text\":\"Lap\"}},\"yaxis\":{\"anchor\":\"x\",\"domain\":[0.0,1.0],\"title\":{\"text\":\"Position\"}},\"legend\":{\"title\":{\"text\":\"Driver\"},\"tracegroupgap\":0},\"margin\":{\"t\":60},\"title\":{\"font\":{\"family\":\"Arial, sans-serif\",\"size\":30},\"text\":\"<b>Position By Lap</b>\",\"x\":0.5},\"updatemenus\":[{\"active\":0,\"buttons\":[{\"args\":[{\"visible\":[true,true,true,true,true,true,true,true,true,true,true,true,true,true,true,true,true,true,true,true],\"title\":\"All\",\"showlegend\":true}],\"label\":\"All\",\"method\":\"update\"},{\"args\":[{\"visible\":[true,false,false,false,false,false,false,false,false,false,false,false,false,false,false,false,false,false,false,false],\"title\":\"ALB\",\"showlegend\":true}],\"label\":\"ALB\",\"method\":\"update\"},{\"args\":[{\"visible\":[false,true,false,false,false,false,false,false,false,false,false,false,false,false,false,false,false,false,false,false],\"title\":\"ALO\",\"showlegend\":true}],\"label\":\"ALO\",\"method\":\"update\"},{\"args\":[{\"visible\":[false,false,true,false,false,false,false,false,false,false,false,false,false,false,false,false,false,false,false,false],\"title\":\"BOT\",\"showlegend\":true}],\"label\":\"BOT\",\"method\":\"update\"},{\"args\":[{\"visible\":[false,false,false,true,false,false,false,false,false,false,false,false,false,false,false,false,false,false,false,false],\"title\":\"GAS\",\"showlegend\":true}],\"label\":\"GAS\",\"method\":\"update\"},{\"args\":[{\"visible\":[false,false,false,false,true,false,false,false,false,false,false,false,false,false,false,false,false,false,false,false],\"title\":\"HAM\",\"showlegend\":true}],\"label\":\"HAM\",\"method\":\"update\"},{\"args\":[{\"visible\":[false,false,false,false,false,true,false,false,false,false,false,false,false,false,false,false,false,false,false,false],\"title\":\"HUL\",\"showlegend\":true}],\"label\":\"HUL\",\"method\":\"update\"},{\"args\":[{\"visible\":[false,false,false,false,false,false,true,false,false,false,false,false,false,false,false,false,false,false,false,false],\"title\":\"LEC\",\"showlegend\":true}],\"label\":\"LEC\",\"method\":\"update\"},{\"args\":[{\"visible\":[false,false,false,false,false,false,false,true,false,false,false,false,false,false,false,false,false,false,false,false],\"title\":\"MAG\",\"showlegend\":true}],\"label\":\"MAG\",\"method\":\"update\"},{\"args\":[{\"visible\":[false,false,false,false,false,false,false,false,true,false,false,false,false,false,false,false,false,false,false,false],\"title\":\"NOR\",\"showlegend\":true}],\"label\":\"NOR\",\"method\":\"update\"},{\"args\":[{\"visible\":[false,false,false,false,false,false,false,false,false,true,false,false,false,false,false,false,false,false,false,false],\"title\":\"OCO\",\"showlegend\":true}],\"label\":\"OCO\",\"method\":\"update\"},{\"args\":[{\"visible\":[false,false,false,false,false,false,false,false,false,false,true,false,false,false,false,false,false,false,false,false],\"title\":\"PER\",\"showlegend\":true}],\"label\":\"PER\",\"method\":\"update\"},{\"args\":[{\"visible\":[false,false,false,false,false,false,false,false,false,false,false,true,false,false,false,false,false,false,false,false],\"title\":\"PIA\",\"showlegend\":true}],\"label\":\"PIA\",\"method\":\"update\"},{\"args\":[{\"visible\":[false,false,false,false,false,false,false,false,false,false,false,false,true,false,false,false,false,false,false,false],\"title\":\"RIC\",\"showlegend\":true}],\"label\":\"RIC\",\"method\":\"update\"},{\"args\":[{\"visible\":[false,false,false,false,false,false,false,false,false,false,false,false,false,true,false,false,false,false,false,false],\"title\":\"RUS\",\"showlegend\":true}],\"label\":\"RUS\",\"method\":\"update\"},{\"args\":[{\"visible\":[false,false,false,false,false,false,false,false,false,false,false,false,false,false,true,false,false,false,false,false],\"title\":\"SAI\",\"showlegend\":true}],\"label\":\"SAI\",\"method\":\"update\"},{\"args\":[{\"visible\":[false,false,false,false,false,false,false,false,false,false,false,false,false,false,false,true,false,false,false,false],\"title\":\"SAR\",\"showlegend\":true}],\"label\":\"SAR\",\"method\":\"update\"},{\"args\":[{\"visible\":[false,false,false,false,false,false,false,false,false,false,false,false,false,false,false,false,true,false,false,false],\"title\":\"STR\",\"showlegend\":true}],\"label\":\"STR\",\"method\":\"update\"},{\"args\":[{\"visible\":[false,false,false,false,false,false,false,false,false,false,false,false,false,false,false,false,false,true,false,false],\"title\":\"TSU\",\"showlegend\":true}],\"label\":\"TSU\",\"method\":\"update\"},{\"args\":[{\"visible\":[false,false,false,false,false,false,false,false,false,false,false,false,false,false,false,false,false,false,true,false],\"title\":\"VER\",\"showlegend\":true}],\"label\":\"VER\",\"method\":\"update\"},{\"args\":[{\"visible\":[false,false,false,false,false,false,false,false,false,false,false,false,false,false,false,false,false,false,false,true],\"title\":\"ZHO\",\"showlegend\":true}],\"label\":\"ZHO\",\"method\":\"update\"}]}]},                        {\"responsive\": true}                    ).then(function(){\n",
       "                            \n",
       "var gd = document.getElementById('bc61cded-3152-4756-b6bf-df69603f2612');\n",
       "var x = new MutationObserver(function (mutations, observer) {{\n",
       "        var display = window.getComputedStyle(gd).display;\n",
       "        if (!display || display === 'none') {{\n",
       "            console.log([gd, 'removed!']);\n",
       "            Plotly.purge(gd);\n",
       "            observer.disconnect();\n",
       "        }}\n",
       "}});\n",
       "\n",
       "// Listen for the removal of the full notebook cells\n",
       "var notebookContainer = gd.closest('#notebook-container');\n",
       "if (notebookContainer) {{\n",
       "    x.observe(notebookContainer, {childList: true});\n",
       "}}\n",
       "\n",
       "// Listen for the clearing of the current output cell\n",
       "var outputEl = gd.closest('.output');\n",
       "if (outputEl) {{\n",
       "    x.observe(outputEl, {childList: true});\n",
       "}}\n",
       "\n",
       "                        })                };                });            </script>        </div>"
      ]
     },
     "metadata": {},
     "output_type": "display_data"
    }
   ],
   "source": [
    "if not lap_tim_emp:\n",
    "    multi_pos_plot(mapping)"
   ]
  },
  {
   "cell_type": "code",
   "execution_count": 31,
   "id": "97044d17",
   "metadata": {
    "_kg_hide-input": true,
    "execution": {
     "iopub.execute_input": "2023-11-27T17:06:11.330986Z",
     "iopub.status.busy": "2023-11-27T17:06:11.330567Z",
     "iopub.status.idle": "2023-11-27T17:06:11.338871Z",
     "shell.execute_reply": "2023-11-27T17:06:11.337621Z"
    },
    "papermill": {
     "duration": 0.035905,
     "end_time": "2023-11-27T17:06:11.341746",
     "exception": false,
     "start_time": "2023-11-27T17:06:11.305841",
     "status": "completed"
    },
    "tags": []
   },
   "outputs": [
    {
     "data": {
      "text/markdown": [
       "# <div style='background:#FF1801; border:0; color:black; box-shadow: 10px 10px 5px 0px rgba(0,0,0,0.75); transform: rotateX(10deg);'><h1 style='padding: 10px; margin: 0; text-align:center;'><span style='font-size: 30px;'>Driver Overall Standings</span></h1></div>"
      ],
      "text/plain": [
       "<IPython.core.display.Markdown object>"
      ]
     },
     "metadata": {},
     "output_type": "display_data"
    }
   ],
   "source": [
    "display(md(f\"# <div style='background:#FF1801; border:0; color:black; box-shadow: 10px 10px 5px 0px rgba(0,0,0,0.75); transform: rotateX(10deg);'><h1 style='padding: 10px; margin: 0; text-align:center;'><span style='font-size: 30px;'>Driver Overall Standings</span></h1></div>\"))"
   ]
  },
  {
   "cell_type": "code",
   "execution_count": 32,
   "id": "4f86d019",
   "metadata": {
    "_kg_hide-input": true,
    "execution": {
     "iopub.execute_input": "2023-11-27T17:06:11.391507Z",
     "iopub.status.busy": "2023-11-27T17:06:11.390750Z",
     "iopub.status.idle": "2023-11-27T17:06:11.416796Z",
     "shell.execute_reply": "2023-11-27T17:06:11.415538Z"
    },
    "papermill": {
     "duration": 0.054481,
     "end_time": "2023-11-27T17:06:11.419747",
     "exception": false,
     "start_time": "2023-11-27T17:06:11.365266",
     "status": "completed"
    },
    "tags": []
   },
   "outputs": [
    {
     "data": {
      "text/html": [
       "<style type=\"text/css\">\n",
       "#T_cbe56_row0_col1, #T_cbe56_row1_col1, #T_cbe56_row2_col1, #T_cbe56_row3_col1, #T_cbe56_row4_col1, #T_cbe56_row5_col1, #T_cbe56_row6_col1, #T_cbe56_row7_col1, #T_cbe56_row8_col1, #T_cbe56_row9_col1, #T_cbe56_row10_col1, #T_cbe56_row11_col1, #T_cbe56_row12_col1, #T_cbe56_row13_col1, #T_cbe56_row14_col1, #T_cbe56_row15_col1, #T_cbe56_row16_col1, #T_cbe56_row17_col1 {\n",
       "  background-color: #081d58;\n",
       "  color: #f1f1f1;\n",
       "}\n",
       "#T_cbe56_row18_col1 {\n",
       "  background-color: #40b5c4;\n",
       "  color: #f1f1f1;\n",
       "}\n",
       "#T_cbe56_row19_col1 {\n",
       "  background-color: #c6e9b4;\n",
       "  color: #000000;\n",
       "}\n",
       "#T_cbe56_row20_col1, #T_cbe56_row21_col1 {\n",
       "  background-color: #ffffd9;\n",
       "  color: #000000;\n",
       "}\n",
       "</style>\n",
       "<table id=\"T_cbe56_\">\n",
       "  <caption>Driver Standings</caption>\n",
       "  <thead>\n",
       "    <tr>\n",
       "      <th class=\"col_heading level0 col0\" >Driver</th>\n",
       "      <th class=\"col_heading level0 col1\" >points</th>\n",
       "    </tr>\n",
       "  </thead>\n",
       "  <tbody>\n",
       "    <tr>\n",
       "      <td id=\"T_cbe56_row0_col0\" class=\"data row0 col0\" >VER</td>\n",
       "      <td id=\"T_cbe56_row0_col1\" class=\"data row0 col1\" >575.0</td>\n",
       "    </tr>\n",
       "    <tr>\n",
       "      <td id=\"T_cbe56_row1_col0\" class=\"data row1 col0\" >PER</td>\n",
       "      <td id=\"T_cbe56_row1_col1\" class=\"data row1 col1\" >285.0</td>\n",
       "    </tr>\n",
       "    <tr>\n",
       "      <td id=\"T_cbe56_row2_col0\" class=\"data row2 col0\" >HAM</td>\n",
       "      <td id=\"T_cbe56_row2_col1\" class=\"data row2 col1\" >234.0</td>\n",
       "    </tr>\n",
       "    <tr>\n",
       "      <td id=\"T_cbe56_row3_col0\" class=\"data row3 col0\" >ALO</td>\n",
       "      <td id=\"T_cbe56_row3_col1\" class=\"data row3 col1\" >206.0</td>\n",
       "    </tr>\n",
       "    <tr>\n",
       "      <td id=\"T_cbe56_row4_col0\" class=\"data row4 col0\" >LEC</td>\n",
       "      <td id=\"T_cbe56_row4_col1\" class=\"data row4 col1\" >206.0</td>\n",
       "    </tr>\n",
       "    <tr>\n",
       "      <td id=\"T_cbe56_row5_col0\" class=\"data row5 col0\" >NOR</td>\n",
       "      <td id=\"T_cbe56_row5_col1\" class=\"data row5 col1\" >205.0</td>\n",
       "    </tr>\n",
       "    <tr>\n",
       "      <td id=\"T_cbe56_row6_col0\" class=\"data row6 col0\" >SAI</td>\n",
       "      <td id=\"T_cbe56_row6_col1\" class=\"data row6 col1\" >200.0</td>\n",
       "    </tr>\n",
       "    <tr>\n",
       "      <td id=\"T_cbe56_row7_col0\" class=\"data row7 col0\" >RUS</td>\n",
       "      <td id=\"T_cbe56_row7_col1\" class=\"data row7 col1\" >175.0</td>\n",
       "    </tr>\n",
       "    <tr>\n",
       "      <td id=\"T_cbe56_row8_col0\" class=\"data row8 col0\" >PIA</td>\n",
       "      <td id=\"T_cbe56_row8_col1\" class=\"data row8 col1\" >97.0</td>\n",
       "    </tr>\n",
       "    <tr>\n",
       "      <td id=\"T_cbe56_row9_col0\" class=\"data row9 col0\" >STR</td>\n",
       "      <td id=\"T_cbe56_row9_col1\" class=\"data row9 col1\" >74.0</td>\n",
       "    </tr>\n",
       "    <tr>\n",
       "      <td id=\"T_cbe56_row10_col0\" class=\"data row10 col0\" >GAS</td>\n",
       "      <td id=\"T_cbe56_row10_col1\" class=\"data row10 col1\" >62.0</td>\n",
       "    </tr>\n",
       "    <tr>\n",
       "      <td id=\"T_cbe56_row11_col0\" class=\"data row11 col0\" >OCO</td>\n",
       "      <td id=\"T_cbe56_row11_col1\" class=\"data row11 col1\" >58.0</td>\n",
       "    </tr>\n",
       "    <tr>\n",
       "      <td id=\"T_cbe56_row12_col0\" class=\"data row12 col0\" >ALB</td>\n",
       "      <td id=\"T_cbe56_row12_col1\" class=\"data row12 col1\" >27.0</td>\n",
       "    </tr>\n",
       "    <tr>\n",
       "      <td id=\"T_cbe56_row13_col0\" class=\"data row13 col0\" >TSU</td>\n",
       "      <td id=\"T_cbe56_row13_col1\" class=\"data row13 col1\" >17.0</td>\n",
       "    </tr>\n",
       "    <tr>\n",
       "      <td id=\"T_cbe56_row14_col0\" class=\"data row14 col0\" >BOT</td>\n",
       "      <td id=\"T_cbe56_row14_col1\" class=\"data row14 col1\" >10.0</td>\n",
       "    </tr>\n",
       "    <tr>\n",
       "      <td id=\"T_cbe56_row15_col0\" class=\"data row15 col0\" >HUL</td>\n",
       "      <td id=\"T_cbe56_row15_col1\" class=\"data row15 col1\" >9.0</td>\n",
       "    </tr>\n",
       "    <tr>\n",
       "      <td id=\"T_cbe56_row16_col0\" class=\"data row16 col0\" >RIC</td>\n",
       "      <td id=\"T_cbe56_row16_col1\" class=\"data row16 col1\" >6.0</td>\n",
       "    </tr>\n",
       "    <tr>\n",
       "      <td id=\"T_cbe56_row17_col0\" class=\"data row17 col0\" >ZHO</td>\n",
       "      <td id=\"T_cbe56_row17_col1\" class=\"data row17 col1\" >6.0</td>\n",
       "    </tr>\n",
       "    <tr>\n",
       "      <td id=\"T_cbe56_row18_col0\" class=\"data row18 col0\" >MAG</td>\n",
       "      <td id=\"T_cbe56_row18_col1\" class=\"data row18 col1\" >3.0</td>\n",
       "    </tr>\n",
       "    <tr>\n",
       "      <td id=\"T_cbe56_row19_col0\" class=\"data row19 col0\" >nan</td>\n",
       "      <td id=\"T_cbe56_row19_col1\" class=\"data row19 col1\" >2.0</td>\n",
       "    </tr>\n",
       "    <tr>\n",
       "      <td id=\"T_cbe56_row20_col0\" class=\"data row20 col0\" >SAR</td>\n",
       "      <td id=\"T_cbe56_row20_col1\" class=\"data row20 col1\" >1.0</td>\n",
       "    </tr>\n",
       "    <tr>\n",
       "      <td id=\"T_cbe56_row21_col0\" class=\"data row21 col0\" >DEV</td>\n",
       "      <td id=\"T_cbe56_row21_col1\" class=\"data row21 col1\" >0.0</td>\n",
       "    </tr>\n",
       "  </tbody>\n",
       "</table>\n"
      ],
      "text/plain": [
       "<pandas.io.formats.style.Styler at 0x7ceb6adb5dd0>"
      ]
     },
     "execution_count": 32,
     "metadata": {},
     "output_type": "execute_result"
    }
   ],
   "source": [
    "drive_stand = driver_standings.merge(drivers_full, on='driverID', how='left', suffixes=('_1', '_2'))\n",
    "drive_stand['points'] = drive_stand.points.astype(float)\n",
    "drive_stand_race  = drive_stand .sort_values(by='points', ascending=False)\n",
    "drive_stand_race[['Driver', 'points']].style.pipe(driver_stand)"
   ]
  },
  {
   "cell_type": "code",
   "execution_count": 33,
   "id": "11608844",
   "metadata": {
    "_kg_hide-input": true,
    "execution": {
     "iopub.execute_input": "2023-11-27T17:06:11.468553Z",
     "iopub.status.busy": "2023-11-27T17:06:11.468136Z",
     "iopub.status.idle": "2023-11-27T17:06:11.476320Z",
     "shell.execute_reply": "2023-11-27T17:06:11.474995Z"
    },
    "papermill": {
     "duration": 0.035925,
     "end_time": "2023-11-27T17:06:11.479095",
     "exception": false,
     "start_time": "2023-11-27T17:06:11.443170",
     "status": "completed"
    },
    "tags": []
   },
   "outputs": [
    {
     "data": {
      "text/markdown": [
       "# <div style='background:#FF1801; border:0; color:black; box-shadow: 10px 10px 5px 0px rgba(0,0,0,0.75); transform: rotateX(10deg);'><h1 style='padding: 10px; margin: 0; text-align:center;'><span style='font-size: 30px;'>Constructors Race Performance</span></h1></div>"
      ],
      "text/plain": [
       "<IPython.core.display.Markdown object>"
      ]
     },
     "metadata": {},
     "output_type": "display_data"
    }
   ],
   "source": [
    "display(md(f\"# <div style='background:#FF1801; border:0; color:black; box-shadow: 10px 10px 5px 0px rgba(0,0,0,0.75); transform: rotateX(10deg);'><h1 style='padding: 10px; margin: 0; text-align:center;'><span style='font-size: 30px;'>Constructors Race Performance</span></h1></div>\"))"
   ]
  },
  {
   "cell_type": "code",
   "execution_count": 34,
   "id": "170bc6e0",
   "metadata": {
    "_kg_hide-input": true,
    "execution": {
     "iopub.execute_input": "2023-11-27T17:06:11.529182Z",
     "iopub.status.busy": "2023-11-27T17:06:11.527763Z",
     "iopub.status.idle": "2023-11-27T17:06:11.661579Z",
     "shell.execute_reply": "2023-11-27T17:06:11.660626Z"
    },
    "papermill": {
     "duration": 0.161761,
     "end_time": "2023-11-27T17:06:11.664290",
     "exception": false,
     "start_time": "2023-11-27T17:06:11.502529",
     "status": "completed"
    },
    "tags": []
   },
   "outputs": [
    {
     "data": {
      "text/html": [
       "<div>                            <div id=\"07f3e542-4a8e-48c1-99f4-061b9f4fad63\" class=\"plotly-graph-div\" style=\"height:525px; width:100%;\"></div>            <script type=\"text/javascript\">                require([\"plotly\"], function(Plotly) {                    window.PLOTLYENV=window.PLOTLYENV || {};                                    if (document.getElementById(\"07f3e542-4a8e-48c1-99f4-061b9f4fad63\")) {                    Plotly.newPlot(                        \"07f3e542-4a8e-48c1-99f4-061b9f4fad63\",                        [{\"hovertemplate\":\"name=Red Bull<br>Race=%{x}<br>Points=%{y}<extra></extra>\",\"legendgroup\":\"Red Bull\",\"line\":{\"color\":\"#000B8D\",\"dash\":\"solid\"},\"marker\":{\"symbol\":\"circle\"},\"mode\":\"lines\",\"name\":\"Red Bull\",\"orientation\":\"v\",\"showlegend\":true,\"x\":[1,2,3,4,5,6,7,8,9,10,11,12,13,14,15,16,17,18,19,20,21,22],\"xaxis\":\"x\",\"y\":[43.0,87.0,123.0,180.0,224.0,249.0,287.0,321.0,377.0,411.0,452.0,503.0,540.0,583.0,597.0,623.0,657.0,706.0,731.0,782.0,822.0,860.0],\"yaxis\":\"y\",\"type\":\"scatter\"},{\"hovertemplate\":\"name=Aston Martin<br>Race=%{x}<br>Points=%{y}<extra></extra>\",\"legendgroup\":\"Aston Martin\",\"line\":{\"color\":\"#002420\",\"dash\":\"solid\"},\"marker\":{\"symbol\":\"circle\"},\"mode\":\"lines\",\"name\":\"Aston Martin\",\"orientation\":\"v\",\"showlegend\":true,\"x\":[1,2,3,4,5,6,7,8,9,10,11,12,13,14,15,16,17,18,19,20,21,22],\"xaxis\":\"x\",\"y\":[23.0,38.0,65.0,87.0,102.0,120.0,134.0,154.0,175.0,181.0,184.0,196.0,215.0,217.0,217.0,221.0,230.0,236.0,236.0,261.0,273.0,280.0],\"yaxis\":\"y\",\"type\":\"scatter\"},{\"hovertemplate\":\"name=Mercedes<br>Race=%{x}<br>Points=%{y}<extra></extra>\",\"legendgroup\":\"Mercedes\",\"line\":{\"color\":\"#00A19B\",\"dash\":\"solid\"},\"marker\":{\"symbol\":\"circle\"},\"mode\":\"lines\",\"name\":\"Mercedes\",\"orientation\":\"v\",\"showlegend\":true,\"x\":[1,2,3,4,5,6,7,8,9,10,11,12,13,14,15,16,17,18,19,20,21,22],\"xaxis\":\"x\",\"y\":[16.0,38.0,56.0,76.0,96.0,119.0,152.0,167.0,178.0,203.0,223.0,247.0,255.0,273.0,289.0,305.0,326.0,344.0,371.0,382.0,392.0,409.0],\"yaxis\":\"y\",\"type\":\"scatter\"},{\"hovertemplate\":\"name=Ferrari<br>Race=%{x}<br>Points=%{y}<extra></extra>\",\"legendgroup\":\"Ferrari\",\"line\":{\"color\":\"#EF1A2D\",\"dash\":\"solid\"},\"marker\":{\"symbol\":\"circle\"},\"mode\":\"lines\",\"name\":\"Ferrari\",\"orientation\":\"v\",\"showlegend\":true,\"x\":[1,2,3,4,5,6,7,8,9,10,11,12,13,14,15,16,17,18,19,20,21,22],\"xaxis\":\"x\",\"y\":[12.0,26.0,26.0,62.0,78.0,90.0,100.0,122.0,154.0,157.0,167.0,191.0,201.0,228.0,265.0,285.0,298.0,322.0,349.0,362.0,388.0,406.0],\"yaxis\":\"y\",\"type\":\"scatter\"},{\"hovertemplate\":\"name=Alfa Romeo<br>Race=%{x}<br>Points=%{y}<extra></extra>\",\"legendgroup\":\"Alfa Romeo\",\"line\":{\"color\":\"#A42134\",\"dash\":\"solid\"},\"marker\":{\"symbol\":\"circle\"},\"mode\":\"lines\",\"name\":\"Alfa Romeo\",\"orientation\":\"v\",\"showlegend\":true,\"x\":[1,2,3,4,5,6,7,8,9,10,11,12,13,14,15,16,17,18,19,20,21,22],\"xaxis\":\"x\",\"y\":[4.0,4.0,6.0,6.0,6.0,6.0,8.0,9.0,9.0,9.0,9.0,9.0,9.0,10.0,10.0,10.0,16.0,16.0,16.0,16.0,16.0,16.0],\"yaxis\":\"y\",\"type\":\"scatter\"},{\"hovertemplate\":\"name=Alpine F1 Team<br>Race=%{x}<br>Points=%{y}<extra></extra>\",\"legendgroup\":\"Alpine F1 Team\",\"line\":{\"color\":\"#2173B8\",\"dash\":\"solid\"},\"marker\":{\"symbol\":\"circle\"},\"mode\":\"lines\",\"name\":\"Alpine F1 Team\",\"orientation\":\"v\",\"showlegend\":true,\"x\":[1,2,3,4,5,6,7,8,9,10,11,12,13,14,15,16,17,18,19,20,21,22],\"xaxis\":\"x\",\"y\":[2.0,8.0,8.0,8.0,14.0,35.0,40.0,44.0,47.0,47.0,47.0,57.0,73.0,73.0,81.0,84.0,90.0,100.0,101.0,108.0,120.0,120.0],\"yaxis\":\"y\",\"type\":\"scatter\"},{\"hovertemplate\":\"name=Williams<br>Race=%{x}<br>Points=%{y}<extra></extra>\",\"legendgroup\":\"Williams\",\"line\":{\"color\":\"#00A0DE\",\"dash\":\"solid\"},\"marker\":{\"symbol\":\"circle\"},\"mode\":\"lines\",\"name\":\"Williams\",\"orientation\":\"v\",\"showlegend\":true,\"x\":[1,2,3,4,5,6,7,8,9,10,11,12,13,14,15,16,17,18,19,20,21,22],\"xaxis\":\"x\",\"y\":[1.0,1.0,1.0,1.0,1.0,1.0,1.0,7.0,7.0,11.0,11.0,11.0,15.0,21.0,21.0,21.0,23.0,26.0,28.0,28.0,28.0,28.0],\"yaxis\":\"y\",\"type\":\"scatter\"},{\"hovertemplate\":\"name=AlphaTauri<br>Race=%{x}<br>Points=%{y}<extra></extra>\",\"legendgroup\":\"AlphaTauri\",\"line\":{\"color\":\"#20394C\",\"dash\":\"solid\"},\"marker\":{\"symbol\":\"circle\"},\"mode\":\"lines\",\"name\":\"AlphaTauri\",\"orientation\":\"v\",\"showlegend\":true,\"x\":[1,2,3,4,5,6,7,8,9,10,11,12,13,14,15,16,17,18,19,20,21,22],\"xaxis\":\"x\",\"y\":[0.0,0.0,1.0,2.0,2.0,2.0,2.0,2.0,2.0,2.0,2.0,3.0,3.0,3.0,5.0,5.0,5.0,10.0,16.0,21.0,21.0,25.0],\"yaxis\":\"y\",\"type\":\"scatter\"},{\"hovertemplate\":\"name=Haas F1 Team<br>Race=%{x}<br>Points=%{y}<extra></extra>\",\"legendgroup\":\"Haas F1 Team\",\"line\":{\"color\":\"#E6002B\",\"dash\":\"solid\"},\"marker\":{\"symbol\":\"circle\"},\"mode\":\"lines\",\"name\":\"Haas F1 Team\",\"orientation\":\"v\",\"showlegend\":true,\"x\":[1,2,3,4,5,6,7,8,9,10,11,12,13,14,15,16,17,18,19,20,21,22],\"xaxis\":\"x\",\"y\":[0.0,1.0,7.0,7.0,8.0,8.0,8.0,8.0,11.0,11.0,11.0,11.0,11.0,11.0,12.0,12.0,12.0,12.0,12.0,12.0,12.0,12.0],\"yaxis\":\"y\",\"type\":\"scatter\"},{\"hovertemplate\":\"name=McLaren<br>Race=%{x}<br>Points=%{y}<extra></extra>\",\"legendgroup\":\"McLaren\",\"line\":{\"color\":\"#FF8000\",\"dash\":\"solid\"},\"marker\":{\"symbol\":\"circle\"},\"mode\":\"lines\",\"name\":\"McLaren\",\"orientation\":\"v\",\"showlegend\":true,\"x\":[1,2,3,4,5,6,7,8,9,10,11,12,13,14,15,16,17,18,19,20,21,22],\"xaxis\":\"x\",\"y\":[0.0,0.0,12.0,14.0,14.0,17.0,17.0,17.0,29.0,59.0,87.0,103.0,111.0,115.0,139.0,172.0,219.0,242.0,256.0,282.0,284.0,302.0],\"yaxis\":\"y\",\"type\":\"scatter\"}],                        {\"template\":{\"data\":{\"histogram2dcontour\":[{\"type\":\"histogram2dcontour\",\"colorbar\":{\"outlinewidth\":0,\"ticks\":\"\"},\"colorscale\":[[0.0,\"#0d0887\"],[0.1111111111111111,\"#46039f\"],[0.2222222222222222,\"#7201a8\"],[0.3333333333333333,\"#9c179e\"],[0.4444444444444444,\"#bd3786\"],[0.5555555555555556,\"#d8576b\"],[0.6666666666666666,\"#ed7953\"],[0.7777777777777778,\"#fb9f3a\"],[0.8888888888888888,\"#fdca26\"],[1.0,\"#f0f921\"]]}],\"choropleth\":[{\"type\":\"choropleth\",\"colorbar\":{\"outlinewidth\":0,\"ticks\":\"\"}}],\"histogram2d\":[{\"type\":\"histogram2d\",\"colorbar\":{\"outlinewidth\":0,\"ticks\":\"\"},\"colorscale\":[[0.0,\"#0d0887\"],[0.1111111111111111,\"#46039f\"],[0.2222222222222222,\"#7201a8\"],[0.3333333333333333,\"#9c179e\"],[0.4444444444444444,\"#bd3786\"],[0.5555555555555556,\"#d8576b\"],[0.6666666666666666,\"#ed7953\"],[0.7777777777777778,\"#fb9f3a\"],[0.8888888888888888,\"#fdca26\"],[1.0,\"#f0f921\"]]}],\"heatmap\":[{\"type\":\"heatmap\",\"colorbar\":{\"outlinewidth\":0,\"ticks\":\"\"},\"colorscale\":[[0.0,\"#0d0887\"],[0.1111111111111111,\"#46039f\"],[0.2222222222222222,\"#7201a8\"],[0.3333333333333333,\"#9c179e\"],[0.4444444444444444,\"#bd3786\"],[0.5555555555555556,\"#d8576b\"],[0.6666666666666666,\"#ed7953\"],[0.7777777777777778,\"#fb9f3a\"],[0.8888888888888888,\"#fdca26\"],[1.0,\"#f0f921\"]]}],\"heatmapgl\":[{\"type\":\"heatmapgl\",\"colorbar\":{\"outlinewidth\":0,\"ticks\":\"\"},\"colorscale\":[[0.0,\"#0d0887\"],[0.1111111111111111,\"#46039f\"],[0.2222222222222222,\"#7201a8\"],[0.3333333333333333,\"#9c179e\"],[0.4444444444444444,\"#bd3786\"],[0.5555555555555556,\"#d8576b\"],[0.6666666666666666,\"#ed7953\"],[0.7777777777777778,\"#fb9f3a\"],[0.8888888888888888,\"#fdca26\"],[1.0,\"#f0f921\"]]}],\"contourcarpet\":[{\"type\":\"contourcarpet\",\"colorbar\":{\"outlinewidth\":0,\"ticks\":\"\"}}],\"contour\":[{\"type\":\"contour\",\"colorbar\":{\"outlinewidth\":0,\"ticks\":\"\"},\"colorscale\":[[0.0,\"#0d0887\"],[0.1111111111111111,\"#46039f\"],[0.2222222222222222,\"#7201a8\"],[0.3333333333333333,\"#9c179e\"],[0.4444444444444444,\"#bd3786\"],[0.5555555555555556,\"#d8576b\"],[0.6666666666666666,\"#ed7953\"],[0.7777777777777778,\"#fb9f3a\"],[0.8888888888888888,\"#fdca26\"],[1.0,\"#f0f921\"]]}],\"surface\":[{\"type\":\"surface\",\"colorbar\":{\"outlinewidth\":0,\"ticks\":\"\"},\"colorscale\":[[0.0,\"#0d0887\"],[0.1111111111111111,\"#46039f\"],[0.2222222222222222,\"#7201a8\"],[0.3333333333333333,\"#9c179e\"],[0.4444444444444444,\"#bd3786\"],[0.5555555555555556,\"#d8576b\"],[0.6666666666666666,\"#ed7953\"],[0.7777777777777778,\"#fb9f3a\"],[0.8888888888888888,\"#fdca26\"],[1.0,\"#f0f921\"]]}],\"mesh3d\":[{\"type\":\"mesh3d\",\"colorbar\":{\"outlinewidth\":0,\"ticks\":\"\"}}],\"scatter\":[{\"fillpattern\":{\"fillmode\":\"overlay\",\"size\":10,\"solidity\":0.2},\"type\":\"scatter\"}],\"parcoords\":[{\"type\":\"parcoords\",\"line\":{\"colorbar\":{\"outlinewidth\":0,\"ticks\":\"\"}}}],\"scatterpolargl\":[{\"type\":\"scatterpolargl\",\"marker\":{\"colorbar\":{\"outlinewidth\":0,\"ticks\":\"\"}}}],\"bar\":[{\"error_x\":{\"color\":\"#2a3f5f\"},\"error_y\":{\"color\":\"#2a3f5f\"},\"marker\":{\"line\":{\"color\":\"#E5ECF6\",\"width\":0.5},\"pattern\":{\"fillmode\":\"overlay\",\"size\":10,\"solidity\":0.2}},\"type\":\"bar\"}],\"scattergeo\":[{\"type\":\"scattergeo\",\"marker\":{\"colorbar\":{\"outlinewidth\":0,\"ticks\":\"\"}}}],\"scatterpolar\":[{\"type\":\"scatterpolar\",\"marker\":{\"colorbar\":{\"outlinewidth\":0,\"ticks\":\"\"}}}],\"histogram\":[{\"marker\":{\"pattern\":{\"fillmode\":\"overlay\",\"size\":10,\"solidity\":0.2}},\"type\":\"histogram\"}],\"scattergl\":[{\"type\":\"scattergl\",\"marker\":{\"colorbar\":{\"outlinewidth\":0,\"ticks\":\"\"}}}],\"scatter3d\":[{\"type\":\"scatter3d\",\"line\":{\"colorbar\":{\"outlinewidth\":0,\"ticks\":\"\"}},\"marker\":{\"colorbar\":{\"outlinewidth\":0,\"ticks\":\"\"}}}],\"scattermapbox\":[{\"type\":\"scattermapbox\",\"marker\":{\"colorbar\":{\"outlinewidth\":0,\"ticks\":\"\"}}}],\"scatterternary\":[{\"type\":\"scatterternary\",\"marker\":{\"colorbar\":{\"outlinewidth\":0,\"ticks\":\"\"}}}],\"scattercarpet\":[{\"type\":\"scattercarpet\",\"marker\":{\"colorbar\":{\"outlinewidth\":0,\"ticks\":\"\"}}}],\"carpet\":[{\"aaxis\":{\"endlinecolor\":\"#2a3f5f\",\"gridcolor\":\"white\",\"linecolor\":\"white\",\"minorgridcolor\":\"white\",\"startlinecolor\":\"#2a3f5f\"},\"baxis\":{\"endlinecolor\":\"#2a3f5f\",\"gridcolor\":\"white\",\"linecolor\":\"white\",\"minorgridcolor\":\"white\",\"startlinecolor\":\"#2a3f5f\"},\"type\":\"carpet\"}],\"table\":[{\"cells\":{\"fill\":{\"color\":\"#EBF0F8\"},\"line\":{\"color\":\"white\"}},\"header\":{\"fill\":{\"color\":\"#C8D4E3\"},\"line\":{\"color\":\"white\"}},\"type\":\"table\"}],\"barpolar\":[{\"marker\":{\"line\":{\"color\":\"#E5ECF6\",\"width\":0.5},\"pattern\":{\"fillmode\":\"overlay\",\"size\":10,\"solidity\":0.2}},\"type\":\"barpolar\"}],\"pie\":[{\"automargin\":true,\"type\":\"pie\"}]},\"layout\":{\"autotypenumbers\":\"strict\",\"colorway\":[\"#636efa\",\"#EF553B\",\"#00cc96\",\"#ab63fa\",\"#FFA15A\",\"#19d3f3\",\"#FF6692\",\"#B6E880\",\"#FF97FF\",\"#FECB52\"],\"font\":{\"color\":\"#2a3f5f\"},\"hovermode\":\"closest\",\"hoverlabel\":{\"align\":\"left\"},\"paper_bgcolor\":\"white\",\"plot_bgcolor\":\"#E5ECF6\",\"polar\":{\"bgcolor\":\"#E5ECF6\",\"angularaxis\":{\"gridcolor\":\"white\",\"linecolor\":\"white\",\"ticks\":\"\"},\"radialaxis\":{\"gridcolor\":\"white\",\"linecolor\":\"white\",\"ticks\":\"\"}},\"ternary\":{\"bgcolor\":\"#E5ECF6\",\"aaxis\":{\"gridcolor\":\"white\",\"linecolor\":\"white\",\"ticks\":\"\"},\"baxis\":{\"gridcolor\":\"white\",\"linecolor\":\"white\",\"ticks\":\"\"},\"caxis\":{\"gridcolor\":\"white\",\"linecolor\":\"white\",\"ticks\":\"\"}},\"coloraxis\":{\"colorbar\":{\"outlinewidth\":0,\"ticks\":\"\"}},\"colorscale\":{\"sequential\":[[0.0,\"#0d0887\"],[0.1111111111111111,\"#46039f\"],[0.2222222222222222,\"#7201a8\"],[0.3333333333333333,\"#9c179e\"],[0.4444444444444444,\"#bd3786\"],[0.5555555555555556,\"#d8576b\"],[0.6666666666666666,\"#ed7953\"],[0.7777777777777778,\"#fb9f3a\"],[0.8888888888888888,\"#fdca26\"],[1.0,\"#f0f921\"]],\"sequentialminus\":[[0.0,\"#0d0887\"],[0.1111111111111111,\"#46039f\"],[0.2222222222222222,\"#7201a8\"],[0.3333333333333333,\"#9c179e\"],[0.4444444444444444,\"#bd3786\"],[0.5555555555555556,\"#d8576b\"],[0.6666666666666666,\"#ed7953\"],[0.7777777777777778,\"#fb9f3a\"],[0.8888888888888888,\"#fdca26\"],[1.0,\"#f0f921\"]],\"diverging\":[[0,\"#8e0152\"],[0.1,\"#c51b7d\"],[0.2,\"#de77ae\"],[0.3,\"#f1b6da\"],[0.4,\"#fde0ef\"],[0.5,\"#f7f7f7\"],[0.6,\"#e6f5d0\"],[0.7,\"#b8e186\"],[0.8,\"#7fbc41\"],[0.9,\"#4d9221\"],[1,\"#276419\"]]},\"xaxis\":{\"gridcolor\":\"white\",\"linecolor\":\"white\",\"ticks\":\"\",\"title\":{\"standoff\":15},\"zerolinecolor\":\"white\",\"automargin\":true,\"zerolinewidth\":2},\"yaxis\":{\"gridcolor\":\"white\",\"linecolor\":\"white\",\"ticks\":\"\",\"title\":{\"standoff\":15},\"zerolinecolor\":\"white\",\"automargin\":true,\"zerolinewidth\":2},\"scene\":{\"xaxis\":{\"backgroundcolor\":\"#E5ECF6\",\"gridcolor\":\"white\",\"linecolor\":\"white\",\"showbackground\":true,\"ticks\":\"\",\"zerolinecolor\":\"white\",\"gridwidth\":2},\"yaxis\":{\"backgroundcolor\":\"#E5ECF6\",\"gridcolor\":\"white\",\"linecolor\":\"white\",\"showbackground\":true,\"ticks\":\"\",\"zerolinecolor\":\"white\",\"gridwidth\":2},\"zaxis\":{\"backgroundcolor\":\"#E5ECF6\",\"gridcolor\":\"white\",\"linecolor\":\"white\",\"showbackground\":true,\"ticks\":\"\",\"zerolinecolor\":\"white\",\"gridwidth\":2}},\"shapedefaults\":{\"line\":{\"color\":\"#2a3f5f\"}},\"annotationdefaults\":{\"arrowcolor\":\"#2a3f5f\",\"arrowhead\":0,\"arrowwidth\":1},\"geo\":{\"bgcolor\":\"white\",\"landcolor\":\"#E5ECF6\",\"subunitcolor\":\"white\",\"showland\":true,\"showlakes\":true,\"lakecolor\":\"white\"},\"title\":{\"x\":0.05},\"mapbox\":{\"style\":\"light\"}}},\"xaxis\":{\"anchor\":\"y\",\"domain\":[0.0,1.0],\"title\":{\"text\":\"Race\"},\"range\":[1,24]},\"yaxis\":{\"anchor\":\"x\",\"domain\":[0.0,1.0],\"title\":{\"text\":\"Points\"}},\"legend\":{\"title\":{\"text\":\"name\"},\"tracegroupgap\":0},\"title\":{\"text\":\"<b>Constructor Championship Timeline</b>\",\"font\":{\"family\":\"Arial, sans-serif\",\"size\":30},\"x\":0.5}},                        {\"responsive\": true}                    ).then(function(){\n",
       "                            \n",
       "var gd = document.getElementById('07f3e542-4a8e-48c1-99f4-061b9f4fad63');\n",
       "var x = new MutationObserver(function (mutations, observer) {{\n",
       "        var display = window.getComputedStyle(gd).display;\n",
       "        if (!display || display === 'none') {{\n",
       "            console.log([gd, 'removed!']);\n",
       "            Plotly.purge(gd);\n",
       "            observer.disconnect();\n",
       "        }}\n",
       "}});\n",
       "\n",
       "// Listen for the removal of the full notebook cells\n",
       "var notebookContainer = gd.closest('#notebook-container');\n",
       "if (notebookContainer) {{\n",
       "    x.observe(notebookContainer, {childList: true});\n",
       "}}\n",
       "\n",
       "// Listen for the clearing of the current output cell\n",
       "var outputEl = gd.closest('.output');\n",
       "if (outputEl) {{\n",
       "    x.observe(outputEl, {childList: true});\n",
       "}}\n",
       "\n",
       "                        })                };                });            </script>        </div>"
      ]
     },
     "metadata": {},
     "output_type": "display_data"
    }
   ],
   "source": [
    "fig = go.Figure()\n",
    "\n",
    "fig = px.line(constructor_results, x=\"race\", y=\"points\", color='name', labels={\n",
    "    \"points\": \"Points\",\n",
    "    \"race\": \"Race\"\n",
    "}, title='Lap Times', color_discrete_map=constructor_color_map)\n",
    "fig.update_layout(title_text='<b>Constructor Championship Timeline</b>', titlefont = dict(\n",
    "         family = 'Arial, sans-serif',\n",
    "         size = 30\n",
    "      ), title_x=0.5)\n",
    "fig.update_layout(xaxis_range=[1,24])"
   ]
  },
  {
   "cell_type": "code",
   "execution_count": 35,
   "id": "fe08f5de",
   "metadata": {
    "_kg_hide-input": true,
    "execution": {
     "iopub.execute_input": "2023-11-27T17:06:11.715188Z",
     "iopub.status.busy": "2023-11-27T17:06:11.713931Z",
     "iopub.status.idle": "2023-11-27T17:06:11.721552Z",
     "shell.execute_reply": "2023-11-27T17:06:11.720448Z"
    },
    "papermill": {
     "duration": 0.035785,
     "end_time": "2023-11-27T17:06:11.724205",
     "exception": false,
     "start_time": "2023-11-27T17:06:11.688420",
     "status": "completed"
    },
    "tags": []
   },
   "outputs": [
    {
     "data": {
      "text/markdown": [
       "# <div style='background:#FF1801; border:0; color:black; box-shadow: 10px 10px 5px 0px rgba(0,0,0,0.75); transform: rotateX(10deg);'><h1 style='padding: 10px; margin: 0; text-align:center;'><span style='font-size: 30px;'>Constructor Overall Standings</span></h1></div>"
      ],
      "text/plain": [
       "<IPython.core.display.Markdown object>"
      ]
     },
     "metadata": {},
     "output_type": "display_data"
    }
   ],
   "source": [
    "display(md(f\"# <div style='background:#FF1801; border:0; color:black; box-shadow: 10px 10px 5px 0px rgba(0,0,0,0.75); transform: rotateX(10deg);'><h1 style='padding: 10px; margin: 0; text-align:center;'><span style='font-size: 30px;'>Constructor Overall Standings</span></h1></div>\"))"
   ]
  },
  {
   "cell_type": "code",
   "execution_count": 36,
   "id": "ddcc9075",
   "metadata": {
    "_kg_hide-input": true,
    "execution": {
     "iopub.execute_input": "2023-11-27T17:06:11.777815Z",
     "iopub.status.busy": "2023-11-27T17:06:11.776724Z",
     "iopub.status.idle": "2023-11-27T17:06:11.795687Z",
     "shell.execute_reply": "2023-11-27T17:06:11.794256Z"
    },
    "papermill": {
     "duration": 0.048412,
     "end_time": "2023-11-27T17:06:11.798765",
     "exception": false,
     "start_time": "2023-11-27T17:06:11.750353",
     "status": "completed"
    },
    "tags": []
   },
   "outputs": [
    {
     "data": {
      "text/html": [
       "<style type=\"text/css\">\n",
       "#T_c57ed_row0_col1, #T_c57ed_row1_col1, #T_c57ed_row2_col1, #T_c57ed_row3_col1, #T_c57ed_row4_col1, #T_c57ed_row5_col1, #T_c57ed_row6_col1, #T_c57ed_row7_col1, #T_c57ed_row8_col1, #T_c57ed_row9_col1 {\n",
       "  background-color: #800026;\n",
       "  color: #f1f1f1;\n",
       "}\n",
       "</style>\n",
       "<table id=\"T_c57ed_\">\n",
       "  <caption>Constructor Standings</caption>\n",
       "  <thead>\n",
       "    <tr>\n",
       "      <th class=\"col_heading level0 col0\" >name</th>\n",
       "      <th class=\"col_heading level0 col1\" >points</th>\n",
       "      <th class=\"col_heading level0 col2\" >wins</th>\n",
       "    </tr>\n",
       "  </thead>\n",
       "  <tbody>\n",
       "    <tr>\n",
       "      <td id=\"T_c57ed_row0_col0\" class=\"data row0 col0\" >Red Bull</td>\n",
       "      <td id=\"T_c57ed_row0_col1\" class=\"data row0 col1\" >860.0</td>\n",
       "      <td id=\"T_c57ed_row0_col2\" class=\"data row0 col2\" >21</td>\n",
       "    </tr>\n",
       "    <tr>\n",
       "      <td id=\"T_c57ed_row1_col0\" class=\"data row1 col0\" >Mercedes</td>\n",
       "      <td id=\"T_c57ed_row1_col1\" class=\"data row1 col1\" >409.0</td>\n",
       "      <td id=\"T_c57ed_row1_col2\" class=\"data row1 col2\" >0</td>\n",
       "    </tr>\n",
       "    <tr>\n",
       "      <td id=\"T_c57ed_row2_col0\" class=\"data row2 col0\" >Ferrari</td>\n",
       "      <td id=\"T_c57ed_row2_col1\" class=\"data row2 col1\" >406.0</td>\n",
       "      <td id=\"T_c57ed_row2_col2\" class=\"data row2 col2\" >1</td>\n",
       "    </tr>\n",
       "    <tr>\n",
       "      <td id=\"T_c57ed_row3_col0\" class=\"data row3 col0\" >McLaren</td>\n",
       "      <td id=\"T_c57ed_row3_col1\" class=\"data row3 col1\" >302.0</td>\n",
       "      <td id=\"T_c57ed_row3_col2\" class=\"data row3 col2\" >0</td>\n",
       "    </tr>\n",
       "    <tr>\n",
       "      <td id=\"T_c57ed_row4_col0\" class=\"data row4 col0\" >Aston Martin</td>\n",
       "      <td id=\"T_c57ed_row4_col1\" class=\"data row4 col1\" >280.0</td>\n",
       "      <td id=\"T_c57ed_row4_col2\" class=\"data row4 col2\" >0</td>\n",
       "    </tr>\n",
       "    <tr>\n",
       "      <td id=\"T_c57ed_row5_col0\" class=\"data row5 col0\" >Alpine F1 Team</td>\n",
       "      <td id=\"T_c57ed_row5_col1\" class=\"data row5 col1\" >120.0</td>\n",
       "      <td id=\"T_c57ed_row5_col2\" class=\"data row5 col2\" >0</td>\n",
       "    </tr>\n",
       "    <tr>\n",
       "      <td id=\"T_c57ed_row6_col0\" class=\"data row6 col0\" >Williams</td>\n",
       "      <td id=\"T_c57ed_row6_col1\" class=\"data row6 col1\" >28.0</td>\n",
       "      <td id=\"T_c57ed_row6_col2\" class=\"data row6 col2\" >0</td>\n",
       "    </tr>\n",
       "    <tr>\n",
       "      <td id=\"T_c57ed_row7_col0\" class=\"data row7 col0\" >AlphaTauri</td>\n",
       "      <td id=\"T_c57ed_row7_col1\" class=\"data row7 col1\" >25.0</td>\n",
       "      <td id=\"T_c57ed_row7_col2\" class=\"data row7 col2\" >0</td>\n",
       "    </tr>\n",
       "    <tr>\n",
       "      <td id=\"T_c57ed_row8_col0\" class=\"data row8 col0\" >Alfa Romeo</td>\n",
       "      <td id=\"T_c57ed_row8_col1\" class=\"data row8 col1\" >16.0</td>\n",
       "      <td id=\"T_c57ed_row8_col2\" class=\"data row8 col2\" >0</td>\n",
       "    </tr>\n",
       "    <tr>\n",
       "      <td id=\"T_c57ed_row9_col0\" class=\"data row9 col0\" >Haas F1 Team</td>\n",
       "      <td id=\"T_c57ed_row9_col1\" class=\"data row9 col1\" >12.0</td>\n",
       "      <td id=\"T_c57ed_row9_col2\" class=\"data row9 col2\" >0</td>\n",
       "    </tr>\n",
       "  </tbody>\n",
       "</table>\n"
      ],
      "text/plain": [
       "<pandas.io.formats.style.Styler at 0x7ceb6aece9d0>"
      ]
     },
     "execution_count": 36,
     "metadata": {},
     "output_type": "execute_result"
    }
   ],
   "source": [
    "const_stand_race = constructor_overall.sort_values(by='points', ascending=False)\n",
    "const_stand_race[['name', 'points', 'wins']].style.pipe(const_standings)"
   ]
  },
  {
   "cell_type": "code",
   "execution_count": 37,
   "id": "07dd9c5a",
   "metadata": {
    "_kg_hide-input": true,
    "execution": {
     "iopub.execute_input": "2023-11-27T17:06:11.850820Z",
     "iopub.status.busy": "2023-11-27T17:06:11.849886Z",
     "iopub.status.idle": "2023-11-27T17:06:11.860794Z",
     "shell.execute_reply": "2023-11-27T17:06:11.859508Z"
    },
    "papermill": {
     "duration": 0.040688,
     "end_time": "2023-11-27T17:06:11.864004",
     "exception": false,
     "start_time": "2023-11-27T17:06:11.823316",
     "status": "completed"
    },
    "tags": []
   },
   "outputs": [
    {
     "data": {
      "text/markdown": [
       "<h1 style='background:#FF1801;border:0; color:black;box-shadow: 10px 10px 5px 0px rgba(0,0,0,0.75);transform: rotateX(10deg);'><center style='color: white;'>Next Up: 2024 Season</center></h1>"
      ],
      "text/plain": [
       "<IPython.core.display.Markdown object>"
      ]
     },
     "metadata": {},
     "output_type": "display_data"
    }
   ],
   "source": [
    "max_round = max(schedule['round'])\n",
    "if race < max_round:\n",
    "    next_race = schedule[schedule['round'] == (race+1)]\n",
    "    next_race_name = next_race['raceName'].values[0]\n",
    "    next_race_date = next_race['date'].values[0]\n",
    "    display(md(f\"<h1 style='background:#FF1801;border:0; color:black;box-shadow: 10px 10px 5px 0px rgba(0,0,0,0.75);transform: rotateX(10deg);'><center style='color: white;'>Next Up: {next_race_name}, {next_race_date}</center></h1>\"))\n",
    "else:\n",
    "    display(md(f\"<h1 style='background:#FF1801;border:0; color:black;box-shadow: 10px 10px 5px 0px rgba(0,0,0,0.75);transform: rotateX(10deg);'><center style='color: white;'>Next Up: {year+1} Season</center></h1>\"))\n"
   ]
  },
  {
   "cell_type": "markdown",
   "id": "0233cdb9",
   "metadata": {
    "papermill": {
     "duration": 0.024775,
     "end_time": "2023-11-27T17:06:11.913571",
     "exception": false,
     "start_time": "2023-11-27T17:06:11.888796",
     "status": "completed"
    },
    "tags": []
   },
   "source": [
    "<h1 style='background:#FF1801;border:0; color:black;\n",
    "    box-shadow: 10px 10px 5px 0px rgba(0,0,0,0.75);\n",
    "    transform: rotateX(10deg);\n",
    "    '><center style='color: black;'>Thank You</center></h1>"
   ]
  },
  {
   "cell_type": "markdown",
   "id": "2704c632",
   "metadata": {
    "papermill": {
     "duration": 0.025311,
     "end_time": "2023-11-27T17:06:11.964155",
     "exception": false,
     "start_time": "2023-11-27T17:06:11.938844",
     "status": "completed"
    },
    "tags": []
   },
   "source": [
    "### Please upvote if you liked this notebook and comment with your feedback! Thank you so much for supporting my work. "
   ]
  },
  {
   "cell_type": "code",
   "execution_count": 38,
   "id": "28eeea8d",
   "metadata": {
    "_kg_hide-input": true,
    "execution": {
     "iopub.execute_input": "2023-11-27T17:06:12.015181Z",
     "iopub.status.busy": "2023-11-27T17:06:12.014421Z",
     "iopub.status.idle": "2023-11-27T17:06:12.022595Z",
     "shell.execute_reply": "2023-11-27T17:06:12.021381Z"
    },
    "papermill": {
     "duration": 0.037053,
     "end_time": "2023-11-27T17:06:12.025420",
     "exception": false,
     "start_time": "2023-11-27T17:06:11.988367",
     "status": "completed"
    },
    "tags": []
   },
   "outputs": [
    {
     "data": {
      "text/markdown": [
       "# <div style='background:#FF1801; border:0; color:black; box-shadow: 10px 10px 5px 0px rgba(0,0,0,0.75); transform: rotateX(10deg);'><h1 style='padding: 10px; margin: 0; text-align:center;'><span style='font-size: 30px;'>Acknowledgements</span></h1></div>"
      ],
      "text/plain": [
       "<IPython.core.display.Markdown object>"
      ]
     },
     "metadata": {},
     "output_type": "display_data"
    }
   ],
   "source": [
    "display(md(f\"# <div style='background:#FF1801; border:0; color:black; box-shadow: 10px 10px 5px 0px rgba(0,0,0,0.75); transform: rotateX(10deg);'><h1 style='padding: 10px; margin: 0; text-align:center;'><span style='font-size: 30px;'>Acknowledgements</span></h1></div>\"))"
   ]
  },
  {
   "cell_type": "markdown",
   "id": "577cc7ea",
   "metadata": {
    "papermill": {
     "duration": 0.024051,
     "end_time": "2023-11-27T17:06:12.074033",
     "exception": false,
     "start_time": "2023-11-27T17:06:12.049982",
     "status": "completed"
    },
    "tags": []
   },
   "source": [
    "- Shoutout to @VOPANI for creating this fantastic, F1 dataset\n",
    "- The F1 Developer API http://ergast.com/mrd/\n",
    "- The python package ergast API wrapper, [[pyergast](https://github.com/weiranyu/pyErgast)]\n",
    "- Very inspired by this [[notebook](https://www.kaggle.com/code/ekrembayar/formula-1-70th-anniversary)] on the same dataset"
   ]
  },
  {
   "cell_type": "code",
   "execution_count": 39,
   "id": "d61bff87",
   "metadata": {
    "_kg_hide-input": true,
    "execution": {
     "iopub.execute_input": "2023-11-27T17:06:12.126380Z",
     "iopub.status.busy": "2023-11-27T17:06:12.125506Z",
     "iopub.status.idle": "2023-11-27T17:06:12.134786Z",
     "shell.execute_reply": "2023-11-27T17:06:12.133624Z"
    },
    "papermill": {
     "duration": 0.038459,
     "end_time": "2023-11-27T17:06:12.137567",
     "exception": false,
     "start_time": "2023-11-27T17:06:12.099108",
     "status": "completed"
    },
    "tags": []
   },
   "outputs": [
    {
     "data": {
      "text/markdown": [
       "# <div style='background:#FF1801; border:0; color:black; box-shadow: 10px 10px 5px 0px rgba(0,0,0,0.75); transform: rotateX(10deg);'><h1 style='padding: 10px; margin: 0; text-align:center;'><span style='font-size: 30px;'>Race Schedule</span></h1></div>"
      ],
      "text/plain": [
       "<IPython.core.display.Markdown object>"
      ]
     },
     "metadata": {},
     "output_type": "display_data"
    }
   ],
   "source": [
    "display(md(f\"# <div style='background:#FF1801; border:0; color:black; box-shadow: 10px 10px 5px 0px rgba(0,0,0,0.75); transform: rotateX(10deg);'><h1 style='padding: 10px; margin: 0; text-align:center;'><span style='font-size: 30px;'>Race Schedule</span></h1></div>\"))"
   ]
  },
  {
   "cell_type": "markdown",
   "id": "8fbc8813",
   "metadata": {
    "papermill": {
     "duration": 0.024647,
     "end_time": "2023-11-27T17:06:12.187721",
     "exception": false,
     "start_time": "2023-11-27T17:06:12.163074",
     "status": "completed"
    },
    "tags": []
   },
   "source": [
    "<div class=\"row\" align='center'>\n",
    " <div class=\"column\"> \n",
    "    <img src=\"https://corp.formula1.com/wp-content/uploads/2023/07/F1-2024-Calendar-16x9-1-1024x576-1.jpg\" />\n",
    "</div>\n"
   ]
  }
 ],
 "metadata": {
  "kaggle": {
   "accelerator": "none",
   "dataSources": [
    {
     "datasetId": 468218,
     "sourceId": 6358464,
     "sourceType": "datasetVersion"
    }
   ],
   "dockerImageVersionId": 30407,
   "isGpuEnabled": false,
   "isInternetEnabled": true,
   "language": "python",
   "sourceType": "notebook"
  },
  "kernelspec": {
   "display_name": "Python 3",
   "language": "python",
   "name": "python3"
  },
  "language_info": {
   "codemirror_mode": {
    "name": "ipython",
    "version": 3
   },
   "file_extension": ".py",
   "mimetype": "text/x-python",
   "name": "python",
   "nbconvert_exporter": "python",
   "pygments_lexer": "ipython3",
   "version": "3.7.12"
  },
  "papermill": {
   "default_parameters": {},
   "duration": 72.759019,
   "end_time": "2023-11-27T17:06:13.136906",
   "environment_variables": {},
   "exception": null,
   "input_path": "__notebook__.ipynb",
   "output_path": "__notebook__.ipynb",
   "parameters": {},
   "start_time": "2023-11-27T17:05:00.377887",
   "version": "2.4.0"
  }
 },
 "nbformat": 4,
 "nbformat_minor": 5
}
