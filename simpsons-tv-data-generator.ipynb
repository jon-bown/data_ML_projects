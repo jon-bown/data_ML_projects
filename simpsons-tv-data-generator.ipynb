{
 "cells": [
  {
   "cell_type": "code",
   "execution_count": 1,
   "id": "192f0014",
   "metadata": {
    "_cell_guid": "b1076dfc-b9ad-4769-8c92-a6c4dae69d19",
    "_uuid": "8f2839f25d086af736a60e9eeb907d3b93b6e0e5",
    "execution": {
     "iopub.execute_input": "2023-03-01T17:44:09.465939Z",
     "iopub.status.busy": "2023-03-01T17:44:09.465467Z",
     "iopub.status.idle": "2023-03-01T17:44:09.661495Z",
     "shell.execute_reply": "2023-03-01T17:44:09.660641Z"
    },
    "papermill": {
     "duration": 0.210088,
     "end_time": "2023-03-01T17:44:09.663839",
     "exception": false,
     "start_time": "2023-03-01T17:44:09.453751",
     "status": "completed"
    },
    "tags": []
   },
   "outputs": [],
   "source": [
    "import numpy as np # linear algebra\n",
    "import pandas as pd # data processing, CSV file I/O (e.g. pd.read_csv)\n",
    "from bs4 import BeautifulSoup\n",
    "import requests\n",
    "from datetime import date"
   ]
  },
  {
   "cell_type": "code",
   "execution_count": 2,
   "id": "284abc00",
   "metadata": {
    "execution": {
     "iopub.execute_input": "2023-03-01T17:44:09.683780Z",
     "iopub.status.busy": "2023-03-01T17:44:09.683286Z",
     "iopub.status.idle": "2023-03-01T17:44:09.687542Z",
     "shell.execute_reply": "2023-03-01T17:44:09.686241Z"
    },
    "papermill": {
     "duration": 0.016672,
     "end_time": "2023-03-01T17:44:09.689790",
     "exception": false,
     "start_time": "2023-03-01T17:44:09.673118",
     "status": "completed"
    },
    "tags": []
   },
   "outputs": [],
   "source": [
    "wiki_url = 'https://en.wikipedia.org/wiki/The_Simpsons_(season_33)'"
   ]
  },
  {
   "cell_type": "code",
   "execution_count": 3,
   "id": "3bf7e922",
   "metadata": {
    "execution": {
     "iopub.execute_input": "2023-03-01T17:44:09.711017Z",
     "iopub.status.busy": "2023-03-01T17:44:09.710639Z",
     "iopub.status.idle": "2023-03-01T17:44:09.714509Z",
     "shell.execute_reply": "2023-03-01T17:44:09.713745Z"
    },
    "papermill": {
     "duration": 0.017177,
     "end_time": "2023-03-01T17:44:09.716290",
     "exception": false,
     "start_time": "2023-03-01T17:44:09.699113",
     "status": "completed"
    },
    "tags": []
   },
   "outputs": [],
   "source": [
    "imdb_url = 'https://www.imdb.com/title/tt0096697/episodes?season=33'"
   ]
  },
  {
   "cell_type": "markdown",
   "id": "b43aa75f",
   "metadata": {
    "papermill": {
     "duration": 0.009078,
     "end_time": "2023-03-01T17:44:09.734781",
     "exception": false,
     "start_time": "2023-03-01T17:44:09.725703",
     "status": "completed"
    },
    "tags": []
   },
   "source": [
    "# Wikipedia"
   ]
  },
  {
   "cell_type": "code",
   "execution_count": 4,
   "id": "7065cfe0",
   "metadata": {
    "execution": {
     "iopub.execute_input": "2023-03-01T17:44:09.755336Z",
     "iopub.status.busy": "2023-03-01T17:44:09.754350Z",
     "iopub.status.idle": "2023-03-01T17:44:10.408530Z",
     "shell.execute_reply": "2023-03-01T17:44:10.407319Z"
    },
    "papermill": {
     "duration": 0.666809,
     "end_time": "2023-03-01T17:44:10.410968",
     "exception": false,
     "start_time": "2023-03-01T17:44:09.744159",
     "status": "completed"
    },
    "tags": []
   },
   "outputs": [],
   "source": [
    "req=requests.get(wiki_url)\n",
    "content=req.text"
   ]
  },
  {
   "cell_type": "code",
   "execution_count": 5,
   "id": "8e352e29",
   "metadata": {
    "execution": {
     "iopub.execute_input": "2023-03-01T17:44:10.431910Z",
     "iopub.status.busy": "2023-03-01T17:44:10.431540Z",
     "iopub.status.idle": "2023-03-01T17:44:10.501097Z",
     "shell.execute_reply": "2023-03-01T17:44:10.500119Z"
    },
    "papermill": {
     "duration": 0.082661,
     "end_time": "2023-03-01T17:44:10.503416",
     "exception": false,
     "start_time": "2023-03-01T17:44:10.420755",
     "status": "completed"
    },
    "tags": []
   },
   "outputs": [],
   "source": [
    "soup=BeautifulSoup(content)"
   ]
  },
  {
   "cell_type": "code",
   "execution_count": 6,
   "id": "07139911",
   "metadata": {
    "execution": {
     "iopub.execute_input": "2023-03-01T17:44:10.523056Z",
     "iopub.status.busy": "2023-03-01T17:44:10.522711Z",
     "iopub.status.idle": "2023-03-01T17:44:10.534803Z",
     "shell.execute_reply": "2023-03-01T17:44:10.533546Z"
    },
    "papermill": {
     "duration": 0.025038,
     "end_time": "2023-03-01T17:44:10.537454",
     "exception": false,
     "start_time": "2023-03-01T17:44:10.512416",
     "status": "completed"
    },
    "tags": []
   },
   "outputs": [],
   "source": [
    "rows=soup.findAll('tr', 'vevent')"
   ]
  },
  {
   "cell_type": "code",
   "execution_count": 7,
   "id": "2a12ff63",
   "metadata": {
    "execution": {
     "iopub.execute_input": "2023-03-01T17:44:10.557607Z",
     "iopub.status.busy": "2023-03-01T17:44:10.557107Z",
     "iopub.status.idle": "2023-03-01T17:44:10.565658Z",
     "shell.execute_reply": "2023-03-01T17:44:10.564823Z"
    },
    "papermill": {
     "duration": 0.020645,
     "end_time": "2023-03-01T17:44:10.567393",
     "exception": false,
     "start_time": "2023-03-01T17:44:10.546748",
     "status": "completed"
    },
    "tags": []
   },
   "outputs": [
    {
     "data": {
      "text/plain": [
       "<tr class=\"vevent\" style=\"text-align:center;background:#F2F2F2\"><th id=\"ep708\" rowspan=\"1\" scope=\"row\" style=\"text-align:center\">708</th><td style=\"text-align:center\">2</td><td class=\"summary\" style=\"text-align:left\">\"<a href=\"/wiki/Bart%27s_in_Jail!\" title=\"Bart's in Jail!\">Bart's in Jail!</a>\"</td><td style=\"text-align:center\"><a href=\"/wiki/Steven_Dean_Moore\" title=\"Steven Dean Moore\">Steven Dean Moore</a></td><td style=\"text-align:center\">Nick Dahan</td><td style=\"text-align:center\">October 3, 2021<span style=\"display:none\"> (<span class=\"bday dtstart published updated\">2021-10-03</span>)</span></td><td id=\"pcQABF18\" style=\"text-align:center\">QABF18</td><td style=\"text-align:center\">1.48<sup class=\"reference\" id=\"cite_ref-33.02_14-0\"><a href=\"#cite_note-33.02-14\">[14]</a></sup></td></tr>"
      ]
     },
     "execution_count": 7,
     "metadata": {},
     "output_type": "execute_result"
    }
   ],
   "source": [
    "rows[1]"
   ]
  },
  {
   "cell_type": "code",
   "execution_count": 8,
   "id": "898f0e80",
   "metadata": {
    "execution": {
     "iopub.execute_input": "2023-03-01T17:44:10.591350Z",
     "iopub.status.busy": "2023-03-01T17:44:10.590254Z",
     "iopub.status.idle": "2023-03-01T17:44:10.598113Z",
     "shell.execute_reply": "2023-03-01T17:44:10.597161Z"
    },
    "papermill": {
     "duration": 0.023035,
     "end_time": "2023-03-01T17:44:10.599891",
     "exception": false,
     "start_time": "2023-03-01T17:44:10.576856",
     "status": "completed"
    },
    "tags": []
   },
   "outputs": [
    {
     "data": {
      "text/plain": [
       "'707'"
      ]
     },
     "execution_count": 8,
     "metadata": {},
     "output_type": "execute_result"
    }
   ],
   "source": [
    "rows[0].findAll('th')[0].text"
   ]
  },
  {
   "cell_type": "code",
   "execution_count": 9,
   "id": "8be1a94d",
   "metadata": {
    "execution": {
     "iopub.execute_input": "2023-03-01T17:44:10.625112Z",
     "iopub.status.busy": "2023-03-01T17:44:10.624448Z",
     "iopub.status.idle": "2023-03-01T17:44:10.629409Z",
     "shell.execute_reply": "2023-03-01T17:44:10.628582Z"
    },
    "papermill": {
     "duration": 0.021533,
     "end_time": "2023-03-01T17:44:10.631508",
     "exception": false,
     "start_time": "2023-03-01T17:44:10.609975",
     "status": "completed"
    },
    "tags": []
   },
   "outputs": [],
   "source": [
    "data = rows[9].findAll('td')"
   ]
  },
  {
   "cell_type": "code",
   "execution_count": 10,
   "id": "b78c3c9e",
   "metadata": {
    "execution": {
     "iopub.execute_input": "2023-03-01T17:44:10.654864Z",
     "iopub.status.busy": "2023-03-01T17:44:10.654303Z",
     "iopub.status.idle": "2023-03-01T17:44:10.660718Z",
     "shell.execute_reply": "2023-03-01T17:44:10.659607Z"
    },
    "papermill": {
     "duration": 0.020932,
     "end_time": "2023-03-01T17:44:10.662730",
     "exception": false,
     "start_time": "2023-03-01T17:44:10.641798",
     "status": "completed"
    },
    "tags": []
   },
   "outputs": [
    {
     "data": {
      "text/plain": [
       "[<td style=\"text-align:center\">11</td>,\n",
       " <td class=\"summary\" style=\"text-align:left\">\"The Longest Marge\"</td>,\n",
       " <td style=\"text-align:center\">Matthew Nastuk</td>,\n",
       " <td style=\"text-align:center\"><a href=\"/wiki/Brian_Kelley_(writer)\" title=\"Brian Kelley (writer)\">Brian Kelley</a></td>,\n",
       " <td style=\"text-align:center\">January 2, 2022<span style=\"display:none\"> (<span class=\"bday dtstart published updated\">2022-01-02</span>)</span></td>,\n",
       " <td id=\"pcUABF05\" style=\"text-align:center\">UABF05</td>,\n",
       " <td style=\"text-align:center\">2.02<sup class=\"reference\" id=\"cite_ref-33.11_23-0\"><a href=\"#cite_note-33.11-23\">[23]</a></sup></td>]"
      ]
     },
     "execution_count": 10,
     "metadata": {},
     "output_type": "execute_result"
    }
   ],
   "source": [
    "data"
   ]
  },
  {
   "cell_type": "code",
   "execution_count": 11,
   "id": "1f53d465",
   "metadata": {
    "execution": {
     "iopub.execute_input": "2023-03-01T17:44:10.684348Z",
     "iopub.status.busy": "2023-03-01T17:44:10.683727Z",
     "iopub.status.idle": "2023-03-01T17:44:10.689031Z",
     "shell.execute_reply": "2023-03-01T17:44:10.687967Z"
    },
    "papermill": {
     "duration": 0.018509,
     "end_time": "2023-03-01T17:44:10.691080",
     "exception": false,
     "start_time": "2023-03-01T17:44:10.672571",
     "status": "completed"
    },
    "tags": []
   },
   "outputs": [
    {
     "data": {
      "text/plain": [
       "'2.02'"
      ]
     },
     "execution_count": 11,
     "metadata": {},
     "output_type": "execute_result"
    }
   ],
   "source": [
    "data[6].text.split('[')[0]"
   ]
  },
  {
   "cell_type": "code",
   "execution_count": 12,
   "id": "bce86a09",
   "metadata": {
    "execution": {
     "iopub.execute_input": "2023-03-01T17:44:10.712197Z",
     "iopub.status.busy": "2023-03-01T17:44:10.711803Z",
     "iopub.status.idle": "2023-03-01T17:44:10.718440Z",
     "shell.execute_reply": "2023-03-01T17:44:10.717512Z"
    },
    "papermill": {
     "duration": 0.019094,
     "end_time": "2023-03-01T17:44:10.720081",
     "exception": false,
     "start_time": "2023-03-01T17:44:10.700987",
     "status": "completed"
    },
    "tags": []
   },
   "outputs": [
    {
     "data": {
      "text/plain": [
       "['2.02']"
      ]
     },
     "execution_count": 12,
     "metadata": {},
     "output_type": "execute_result"
    }
   ],
   "source": [
    "\"2.02\".split('\\[')"
   ]
  },
  {
   "cell_type": "code",
   "execution_count": null,
   "id": "8d98dad6",
   "metadata": {
    "papermill": {
     "duration": 0.009004,
     "end_time": "2023-03-01T17:44:10.738574",
     "exception": false,
     "start_time": "2023-03-01T17:44:10.729570",
     "status": "completed"
    },
    "tags": []
   },
   "outputs": [],
   "source": []
  },
  {
   "cell_type": "code",
   "execution_count": 13,
   "id": "5a4406f8",
   "metadata": {
    "execution": {
     "iopub.execute_input": "2023-03-01T17:44:10.759245Z",
     "iopub.status.busy": "2023-03-01T17:44:10.758297Z",
     "iopub.status.idle": "2023-03-01T17:44:10.764091Z",
     "shell.execute_reply": "2023-03-01T17:44:10.763473Z"
    },
    "papermill": {
     "duration": 0.017998,
     "end_time": "2023-03-01T17:44:10.765806",
     "exception": false,
     "start_time": "2023-03-01T17:44:10.747808",
     "status": "completed"
    },
    "tags": []
   },
   "outputs": [
    {
     "data": {
      "text/plain": [
       "'2022-01-02'"
      ]
     },
     "execution_count": 13,
     "metadata": {},
     "output_type": "execute_result"
    }
   ],
   "source": [
    "data[4].findAll('span')[1].text"
   ]
  },
  {
   "cell_type": "markdown",
   "id": "8e87bf48",
   "metadata": {
    "papermill": {
     "duration": 0.009168,
     "end_time": "2023-03-01T17:44:10.784387",
     "exception": false,
     "start_time": "2023-03-01T17:44:10.775219",
     "status": "completed"
    },
    "tags": []
   },
   "source": [
    "# IMDB"
   ]
  },
  {
   "cell_type": "code",
   "execution_count": 14,
   "id": "6bc4bb2c",
   "metadata": {
    "execution": {
     "iopub.execute_input": "2023-03-01T17:44:10.805207Z",
     "iopub.status.busy": "2023-03-01T17:44:10.804305Z",
     "iopub.status.idle": "2023-03-01T17:44:12.178236Z",
     "shell.execute_reply": "2023-03-01T17:44:12.177026Z"
    },
    "papermill": {
     "duration": 1.387376,
     "end_time": "2023-03-01T17:44:12.181183",
     "exception": false,
     "start_time": "2023-03-01T17:44:10.793807",
     "status": "completed"
    },
    "tags": []
   },
   "outputs": [],
   "source": [
    "imdb_req=requests.get(imdb_url)\n",
    "imdb_content=imdb_req.text"
   ]
  },
  {
   "cell_type": "code",
   "execution_count": 15,
   "id": "57ad3e5f",
   "metadata": {
    "execution": {
     "iopub.execute_input": "2023-03-01T17:44:12.202270Z",
     "iopub.status.busy": "2023-03-01T17:44:12.201870Z",
     "iopub.status.idle": "2023-03-01T17:44:12.496968Z",
     "shell.execute_reply": "2023-03-01T17:44:12.495357Z"
    },
    "papermill": {
     "duration": 0.308358,
     "end_time": "2023-03-01T17:44:12.499412",
     "exception": false,
     "start_time": "2023-03-01T17:44:12.191054",
     "status": "completed"
    },
    "tags": []
   },
   "outputs": [],
   "source": [
    "imdb_soup=BeautifulSoup(imdb_content)"
   ]
  },
  {
   "cell_type": "code",
   "execution_count": 16,
   "id": "52b0f0d4",
   "metadata": {
    "execution": {
     "iopub.execute_input": "2023-03-01T17:44:12.521200Z",
     "iopub.status.busy": "2023-03-01T17:44:12.520786Z",
     "iopub.status.idle": "2023-03-01T17:44:12.552904Z",
     "shell.execute_reply": "2023-03-01T17:44:12.552145Z"
    },
    "papermill": {
     "duration": 0.045287,
     "end_time": "2023-03-01T17:44:12.554731",
     "exception": false,
     "start_time": "2023-03-01T17:44:12.509444",
     "status": "completed"
    },
    "tags": []
   },
   "outputs": [],
   "source": [
    "descriptions = imdb_soup.findAll('div', 'item_description')"
   ]
  },
  {
   "cell_type": "code",
   "execution_count": 17,
   "id": "b59057fc",
   "metadata": {
    "execution": {
     "iopub.execute_input": "2023-03-01T17:44:12.577495Z",
     "iopub.status.busy": "2023-03-01T17:44:12.576977Z",
     "iopub.status.idle": "2023-03-01T17:44:12.582243Z",
     "shell.execute_reply": "2023-03-01T17:44:12.581565Z"
    },
    "papermill": {
     "duration": 0.018642,
     "end_time": "2023-03-01T17:44:12.584003",
     "exception": false,
     "start_time": "2023-03-01T17:44:12.565361",
     "status": "completed"
    },
    "tags": []
   },
   "outputs": [
    {
     "data": {
      "text/plain": [
       "'Marge stages a revival of a musical from high school, but her pleasant memories are threatened by the return of her old rival.    '"
      ]
     },
     "execution_count": 17,
     "metadata": {},
     "output_type": "execute_result"
    }
   ],
   "source": [
    "descriptions[0].text.split('\\n')[1]"
   ]
  },
  {
   "cell_type": "code",
   "execution_count": 18,
   "id": "f5eee30d",
   "metadata": {
    "execution": {
     "iopub.execute_input": "2023-03-01T17:44:12.605879Z",
     "iopub.status.busy": "2023-03-01T17:44:12.605302Z",
     "iopub.status.idle": "2023-03-01T17:44:12.635804Z",
     "shell.execute_reply": "2023-03-01T17:44:12.635115Z"
    },
    "papermill": {
     "duration": 0.043843,
     "end_time": "2023-03-01T17:44:12.638089",
     "exception": false,
     "start_time": "2023-03-01T17:44:12.594246",
     "status": "completed"
    },
    "tags": []
   },
   "outputs": [],
   "source": [
    "rows=imdb_soup.findAll('div', 'ipl-rating-star small')"
   ]
  },
  {
   "cell_type": "code",
   "execution_count": 19,
   "id": "f5283b3c",
   "metadata": {
    "execution": {
     "iopub.execute_input": "2023-03-01T17:44:12.659559Z",
     "iopub.status.busy": "2023-03-01T17:44:12.659064Z",
     "iopub.status.idle": "2023-03-01T17:44:12.663931Z",
     "shell.execute_reply": "2023-03-01T17:44:12.663128Z"
    },
    "papermill": {
     "duration": 0.018578,
     "end_time": "2023-03-01T17:44:12.666455",
     "exception": false,
     "start_time": "2023-03-01T17:44:12.647877",
     "status": "completed"
    },
    "tags": []
   },
   "outputs": [
    {
     "data": {
      "text/plain": [
       "22"
      ]
     },
     "execution_count": 19,
     "metadata": {},
     "output_type": "execute_result"
    }
   ],
   "source": [
    "len(rows)"
   ]
  },
  {
   "cell_type": "code",
   "execution_count": 20,
   "id": "f5943409",
   "metadata": {
    "execution": {
     "iopub.execute_input": "2023-03-01T17:44:12.688587Z",
     "iopub.status.busy": "2023-03-01T17:44:12.687782Z",
     "iopub.status.idle": "2023-03-01T17:44:12.694516Z",
     "shell.execute_reply": "2023-03-01T17:44:12.693732Z"
    },
    "papermill": {
     "duration": 0.019795,
     "end_time": "2023-03-01T17:44:12.696346",
     "exception": false,
     "start_time": "2023-03-01T17:44:12.676551",
     "status": "completed"
    },
    "tags": []
   },
   "outputs": [
    {
     "data": {
      "text/plain": [
       "'7.0'"
      ]
     },
     "execution_count": 20,
     "metadata": {},
     "output_type": "execute_result"
    }
   ],
   "source": [
    "rows[1].findAll('span', 'ipl-rating-star__rating')[0].text"
   ]
  },
  {
   "cell_type": "code",
   "execution_count": 21,
   "id": "fc619674",
   "metadata": {
    "execution": {
     "iopub.execute_input": "2023-03-01T17:44:12.718684Z",
     "iopub.status.busy": "2023-03-01T17:44:12.718132Z",
     "iopub.status.idle": "2023-03-01T17:44:12.723471Z",
     "shell.execute_reply": "2023-03-01T17:44:12.722770Z"
    },
    "papermill": {
     "duration": 0.018214,
     "end_time": "2023-03-01T17:44:12.725175",
     "exception": false,
     "start_time": "2023-03-01T17:44:12.706961",
     "status": "completed"
    },
    "tags": []
   },
   "outputs": [
    {
     "data": {
      "text/plain": [
       "'\"hello\"'"
      ]
     },
     "execution_count": 21,
     "metadata": {},
     "output_type": "execute_result"
    }
   ],
   "source": [
    "\"\\\"hello\\\"\""
   ]
  },
  {
   "cell_type": "code",
   "execution_count": 22,
   "id": "5403df0e",
   "metadata": {
    "execution": {
     "iopub.execute_input": "2023-03-01T17:44:12.746748Z",
     "iopub.status.busy": "2023-03-01T17:44:12.746254Z",
     "iopub.status.idle": "2023-03-01T17:44:12.751452Z",
     "shell.execute_reply": "2023-03-01T17:44:12.750773Z"
    },
    "papermill": {
     "duration": 0.017847,
     "end_time": "2023-03-01T17:44:12.753060",
     "exception": false,
     "start_time": "2023-03-01T17:44:12.735213",
     "status": "completed"
    },
    "tags": []
   },
   "outputs": [
    {
     "data": {
      "text/plain": [
       "'hello'"
      ]
     },
     "execution_count": 22,
     "metadata": {},
     "output_type": "execute_result"
    }
   ],
   "source": [
    "\"\\\"hello\\\"\".strip(\"\\\"\")"
   ]
  },
  {
   "cell_type": "markdown",
   "id": "47ab363e",
   "metadata": {
    "papermill": {
     "duration": 0.009783,
     "end_time": "2023-03-01T17:44:12.772858",
     "exception": false,
     "start_time": "2023-03-01T17:44:12.763075",
     "status": "completed"
    },
    "tags": []
   },
   "source": [
    "# Rotten Tomatoes"
   ]
  },
  {
   "cell_type": "code",
   "execution_count": 23,
   "id": "9472444a",
   "metadata": {
    "execution": {
     "iopub.execute_input": "2023-03-01T17:44:12.794449Z",
     "iopub.status.busy": "2023-03-01T17:44:12.793875Z",
     "iopub.status.idle": "2023-03-01T17:44:12.797535Z",
     "shell.execute_reply": "2023-03-01T17:44:12.796977Z"
    },
    "papermill": {
     "duration": 0.016455,
     "end_time": "2023-03-01T17:44:12.799235",
     "exception": false,
     "start_time": "2023-03-01T17:44:12.782780",
     "status": "completed"
    },
    "tags": []
   },
   "outputs": [],
   "source": [
    "rt_url = 'https://www.rottentomatoes.com/tv/the_simpsons/s02'"
   ]
  },
  {
   "cell_type": "code",
   "execution_count": 24,
   "id": "16dcae43",
   "metadata": {
    "execution": {
     "iopub.execute_input": "2023-03-01T17:44:12.821140Z",
     "iopub.status.busy": "2023-03-01T17:44:12.820618Z",
     "iopub.status.idle": "2023-03-01T17:44:14.353127Z",
     "shell.execute_reply": "2023-03-01T17:44:14.351988Z"
    },
    "papermill": {
     "duration": 1.546118,
     "end_time": "2023-03-01T17:44:14.355593",
     "exception": false,
     "start_time": "2023-03-01T17:44:12.809475",
     "status": "completed"
    },
    "tags": []
   },
   "outputs": [],
   "source": [
    "req=requests.get(rt_url)\n",
    "rt_content=req.text"
   ]
  },
  {
   "cell_type": "code",
   "execution_count": 25,
   "id": "81820071",
   "metadata": {
    "execution": {
     "iopub.execute_input": "2023-03-01T17:44:14.378589Z",
     "iopub.status.busy": "2023-03-01T17:44:14.378231Z",
     "iopub.status.idle": "2023-03-01T17:44:14.465433Z",
     "shell.execute_reply": "2023-03-01T17:44:14.464216Z"
    },
    "papermill": {
     "duration": 0.10166,
     "end_time": "2023-03-01T17:44:14.467973",
     "exception": false,
     "start_time": "2023-03-01T17:44:14.366313",
     "status": "completed"
    },
    "tags": []
   },
   "outputs": [],
   "source": [
    "rt_soup=BeautifulSoup(rt_content)"
   ]
  },
  {
   "cell_type": "code",
   "execution_count": 26,
   "id": "d936c3c2",
   "metadata": {
    "execution": {
     "iopub.execute_input": "2023-03-01T17:44:14.490976Z",
     "iopub.status.busy": "2023-03-01T17:44:14.490580Z",
     "iopub.status.idle": "2023-03-01T17:44:14.506187Z",
     "shell.execute_reply": "2023-03-01T17:44:14.504994Z"
    },
    "papermill": {
     "duration": 0.029669,
     "end_time": "2023-03-01T17:44:14.508350",
     "exception": false,
     "start_time": "2023-03-01T17:44:14.478681",
     "status": "completed"
    },
    "tags": []
   },
   "outputs": [],
   "source": [
    "ratings = rt_soup.findAll('span', 'mop-ratings-wrap__percentage')"
   ]
  },
  {
   "cell_type": "code",
   "execution_count": 27,
   "id": "968afb6c",
   "metadata": {
    "execution": {
     "iopub.execute_input": "2023-03-01T17:44:14.530449Z",
     "iopub.status.busy": "2023-03-01T17:44:14.530123Z",
     "iopub.status.idle": "2023-03-01T17:44:14.537217Z",
     "shell.execute_reply": "2023-03-01T17:44:14.535731Z"
    },
    "papermill": {
     "duration": 0.020922,
     "end_time": "2023-03-01T17:44:14.539601",
     "exception": false,
     "start_time": "2023-03-01T17:44:14.518679",
     "status": "completed"
    },
    "tags": []
   },
   "outputs": [
    {
     "data": {
      "text/plain": [
       "'100%'"
      ]
     },
     "execution_count": 27,
     "metadata": {},
     "output_type": "execute_result"
    }
   ],
   "source": [
    "ratings[0].text.strip()"
   ]
  },
  {
   "cell_type": "code",
   "execution_count": 28,
   "id": "6d3b6b78",
   "metadata": {
    "execution": {
     "iopub.execute_input": "2023-03-01T17:44:14.561338Z",
     "iopub.status.busy": "2023-03-01T17:44:14.561012Z",
     "iopub.status.idle": "2023-03-01T17:44:14.573689Z",
     "shell.execute_reply": "2023-03-01T17:44:14.572689Z"
    },
    "papermill": {
     "duration": 0.026557,
     "end_time": "2023-03-01T17:44:14.576408",
     "exception": false,
     "start_time": "2023-03-01T17:44:14.549851",
     "status": "completed"
    },
    "tags": []
   },
   "outputs": [],
   "source": [
    "#critic ratings\n",
    "num_ratings = rt_soup.findAll('small', 'mop-ratings-wrap__text--small')"
   ]
  },
  {
   "cell_type": "code",
   "execution_count": 29,
   "id": "0d4b8c9a",
   "metadata": {
    "execution": {
     "iopub.execute_input": "2023-03-01T17:44:14.598870Z",
     "iopub.status.busy": "2023-03-01T17:44:14.598500Z",
     "iopub.status.idle": "2023-03-01T17:44:14.605837Z",
     "shell.execute_reply": "2023-03-01T17:44:14.604908Z"
    },
    "papermill": {
     "duration": 0.020873,
     "end_time": "2023-03-01T17:44:14.607734",
     "exception": false,
     "start_time": "2023-03-01T17:44:14.586861",
     "status": "completed"
    },
    "tags": []
   },
   "outputs": [
    {
     "data": {
      "text/plain": [
       "'8'"
      ]
     },
     "execution_count": 29,
     "metadata": {},
     "output_type": "execute_result"
    }
   ],
   "source": [
    "num_ratings[0].text.strip()"
   ]
  },
  {
   "cell_type": "code",
   "execution_count": 30,
   "id": "5dbf2a3e",
   "metadata": {
    "execution": {
     "iopub.execute_input": "2023-03-01T17:44:14.629824Z",
     "iopub.status.busy": "2023-03-01T17:44:14.629435Z",
     "iopub.status.idle": "2023-03-01T17:44:14.642431Z",
     "shell.execute_reply": "2023-03-01T17:44:14.641421Z"
    },
    "papermill": {
     "duration": 0.02703,
     "end_time": "2023-03-01T17:44:14.645091",
     "exception": false,
     "start_time": "2023-03-01T17:44:14.618061",
     "status": "completed"
    },
    "tags": []
   },
   "outputs": [],
   "source": [
    "#user ratings\n",
    "num_ratings = rt_soup.findAll('strong', 'mop-ratings-wrap__text--small')"
   ]
  },
  {
   "cell_type": "code",
   "execution_count": 31,
   "id": "3233e073",
   "metadata": {
    "execution": {
     "iopub.execute_input": "2023-03-01T17:44:14.668765Z",
     "iopub.status.busy": "2023-03-01T17:44:14.668415Z",
     "iopub.status.idle": "2023-03-01T17:44:14.675222Z",
     "shell.execute_reply": "2023-03-01T17:44:14.674327Z"
    },
    "papermill": {
     "duration": 0.020652,
     "end_time": "2023-03-01T17:44:14.677013",
     "exception": false,
     "start_time": "2023-03-01T17:44:14.656361",
     "status": "completed"
    },
    "tags": []
   },
   "outputs": [
    {
     "data": {
      "text/plain": [
       "'257'"
      ]
     },
     "execution_count": 31,
     "metadata": {},
     "output_type": "execute_result"
    }
   ],
   "source": [
    "num_ratings[1].text.strip().split(\":\")[1].strip()"
   ]
  },
  {
   "cell_type": "markdown",
   "id": "866b8f56",
   "metadata": {
    "papermill": {
     "duration": 0.010118,
     "end_time": "2023-03-01T17:44:14.697540",
     "exception": false,
     "start_time": "2023-03-01T17:44:14.687422",
     "status": "completed"
    },
    "tags": []
   },
   "source": [
    "# Data Construction"
   ]
  },
  {
   "cell_type": "code",
   "execution_count": 32,
   "id": "e6d2fb5b",
   "metadata": {
    "execution": {
     "iopub.execute_input": "2023-03-01T17:44:14.720436Z",
     "iopub.status.busy": "2023-03-01T17:44:14.720100Z",
     "iopub.status.idle": "2023-03-01T17:44:14.724813Z",
     "shell.execute_reply": "2023-03-01T17:44:14.723966Z"
    },
    "papermill": {
     "duration": 0.018324,
     "end_time": "2023-03-01T17:44:14.726563",
     "exception": false,
     "start_time": "2023-03-01T17:44:14.708239",
     "status": "completed"
    },
    "tags": []
   },
   "outputs": [],
   "source": [
    "#initialize dataframes\n",
    "episode_data = []"
   ]
  },
  {
   "cell_type": "code",
   "execution_count": 33,
   "id": "5e8986b3",
   "metadata": {
    "execution": {
     "iopub.execute_input": "2023-03-01T17:44:14.748663Z",
     "iopub.status.busy": "2023-03-01T17:44:14.748336Z",
     "iopub.status.idle": "2023-03-01T17:45:56.918776Z",
     "shell.execute_reply": "2023-03-01T17:45:56.917531Z"
    },
    "papermill": {
     "duration": 102.184043,
     "end_time": "2023-03-01T17:45:56.921133",
     "exception": false,
     "start_time": "2023-03-01T17:44:14.737090",
     "status": "completed"
    },
    "tags": []
   },
   "outputs": [
    {
     "name": "stdout",
     "output_type": "stream",
     "text": [
      "1\n",
      "2\n",
      "3\n",
      "4\n",
      "5\n",
      "6\n",
      "7\n",
      "8\n",
      "9\n",
      "10\n",
      "11\n",
      "12\n",
      "13\n",
      "14\n",
      "15\n",
      "16\n",
      "17\n",
      "18\n",
      "19\n",
      "20\n",
      "21\n",
      "22\n",
      "23\n",
      "24\n",
      "25\n",
      "26\n",
      "27\n",
      "28\n",
      "29\n",
      "30\n",
      "31\n",
      "32\n",
      "33\n",
      "34\n"
     ]
    }
   ],
   "source": [
    "# For each season\n",
    "seasons = list(range(1,35))\n",
    "for season in seasons:\n",
    "    print(season)\n",
    "    wiki = f'https://en.wikipedia.org/wiki/The_Simpsons_(season_{season})'\n",
    "    imdb = f'https://www.imdb.com/title/tt0096697/episodes?season={season}'\n",
    "    if season < 10:\n",
    "        rt_url = f'https://www.rottentomatoes.com/tv/the_simpsons/s0{season}'\n",
    "    else:\n",
    "        rt_url = f'https://www.rottentomatoes.com/tv/the_simpsons/s{season}'\n",
    "    \n",
    "    #wiki\n",
    "    req=requests.get(wiki)\n",
    "    content=req.text\n",
    "    soup=BeautifulSoup(content)\n",
    "    rows=soup.findAll('tr', 'vevent')\n",
    "    \n",
    "    #imdb\n",
    "    imdb_req=requests.get(imdb)\n",
    "    imdb_content=imdb_req.text\n",
    "    imdb_soup=BeautifulSoup(imdb_content)\n",
    "    imdb_rows=imdb_soup.findAll('div', 'ipl-rating-star small')\n",
    "    descriptions = imdb_soup.findAll('div', 'item_description')\n",
    "    \n",
    "\n",
    "    \n",
    "    for index in range(len(rows)):\n",
    "        ep_row = {}\n",
    "        ep_row['season'] = season\n",
    "        data = rows[index].findAll('td')\n",
    "        ep_row['number_in_series'] = rows[index].findAll('th')[0].text.split('[')[0]\n",
    "        ep_row['number_in_season'] = data[0].text\n",
    "        ep_row['title'] = data[1].text.strip(\"\\\"\")\n",
    "        ep_row['directed_by'] = data[2].text.split('[')[0]\n",
    "        ep_row['written_by'] = data[3].text.split('[')[0]\n",
    "        if len(data[4].findAll('span')) > 1:\n",
    "            ep_row['original_air_date'] = data[4].findAll('span')[1].text\n",
    "        ep_row['production_code'] = data[5].text.split(\"[\")[0]\n",
    "        if len(data[6].text.split('[')) > 0:\n",
    "            ep_row['us_viewers_in_millions'] = data[6].text.split('[')[0]\n",
    "        if index < len(descriptions):\n",
    "            ep_row['description'] = descriptions[index].text.split('\\n')[1]\n",
    "\n",
    "        \n",
    "        \n",
    "        #need imdb rating\n",
    "        if index < len(imdb_rows):\n",
    "            if len(imdb_rows[index].findAll('span', 'ipl-rating-star__rating')) > 0:\n",
    "                rating = imdb_rows[index].findAll('span', 'ipl-rating-star__rating')[0].text\n",
    "                ep_row['imdb_rating'] = rating\n",
    "        \n",
    "        \n",
    "        episode_data.append(ep_row)\n",
    "\n",
    "        \n",
    "        \n",
    "episode_data = pd.DataFrame(episode_data, columns = ['title', 'description', 'original_air_date', 'production_code','directed_by', 'written_by', 'season', 'number_in_season', 'number_in_series', 'us_viewers_in_millions', 'imdb_rating'])         "
   ]
  },
  {
   "cell_type": "code",
   "execution_count": 34,
   "id": "0cc02f91",
   "metadata": {
    "execution": {
     "iopub.execute_input": "2023-03-01T17:45:56.947053Z",
     "iopub.status.busy": "2023-03-01T17:45:56.946690Z",
     "iopub.status.idle": "2023-03-01T17:46:49.589182Z",
     "shell.execute_reply": "2023-03-01T17:46:49.588203Z"
    },
    "papermill": {
     "duration": 52.658285,
     "end_time": "2023-03-01T17:46:49.591674",
     "exception": false,
     "start_time": "2023-03-01T17:45:56.933389",
     "status": "completed"
    },
    "tags": []
   },
   "outputs": [
    {
     "name": "stdout",
     "output_type": "stream",
     "text": [
      "1\n",
      "2\n",
      "3\n",
      "4\n",
      "5\n",
      "6\n",
      "7\n",
      "8\n",
      "9\n",
      "10\n",
      "11\n",
      "12\n",
      "13\n",
      "14\n",
      "15\n",
      "16\n",
      "17\n",
      "18\n",
      "19\n",
      "20\n",
      "21\n",
      "22\n",
      "23\n",
      "24\n",
      "25\n",
      "26\n",
      "27\n",
      "28\n",
      "29\n",
      "30\n",
      "31\n",
      "32\n",
      "33\n",
      "34\n"
     ]
    }
   ],
   "source": [
    "rotten_data = []\n",
    "for season in seasons:\n",
    "    print(season)\n",
    "    if season < 10:\n",
    "        rt_url = f'https://www.rottentomatoes.com/tv/the_simpsons/s0{season}'\n",
    "    else:\n",
    "        rt_url = f'https://www.rottentomatoes.com/tv/the_simpsons/s{season}'\n",
    "          \n",
    "        \n",
    "    #Rotten tomatoes\n",
    "    rt_req=requests.get(rt_url)\n",
    "    rt_content=rt_req.text\n",
    "    rt_soup=BeautifulSoup(rt_content)\n",
    "    scores = rt_soup.findAll('span', 'mop-ratings-wrap__percentage')\n",
    "    num_critic_ratings = rt_soup.findAll('small', 'mop-ratings-wrap__text--small')\n",
    "    num_user_ratings = rt_soup.findAll('strong', 'mop-ratings-wrap__text--small')\n",
    "        \n",
    "    ep_row = {}\n",
    "    ep_row['season'] = season\n",
    "        \n",
    "    if len(scores) == 1:\n",
    "        #no critic score\n",
    "        ep_row['rt_critic_score'] = np.nan\n",
    "        ep_row['rt_user_score'] = scores[0].text.strip()\n",
    "    elif len(scores) == 2:\n",
    "        ep_row['rt_critic_score'] = scores[0].text.strip()\n",
    "        ep_row['rt_user_score'] = scores[1].text.strip()\n",
    "    else:\n",
    "        ep_row['rt_critic_score'] = np.nan\n",
    "        ep_row['rt_user_score'] = np.nan\n",
    "    ep_row['rt_critic_count'] = num_critic_ratings[0].text.strip()\n",
    "    ep_row['rt_user_count'] = num_user_ratings[1].text.strip().split(\":\")[1].strip()\n",
    "    \n",
    "    \n",
    "    rotten_data.append(ep_row)\n",
    "\n",
    "rotten_df=pd.DataFrame(rotten_data, columns = ['season', 'rt_critic_score', 'rt_user_score', 'rt_critic_count', 'rt_user_count'])   "
   ]
  },
  {
   "cell_type": "code",
   "execution_count": 35,
   "id": "d558dd94",
   "metadata": {
    "execution": {
     "iopub.execute_input": "2023-03-01T17:46:49.621393Z",
     "iopub.status.busy": "2023-03-01T17:46:49.621068Z",
     "iopub.status.idle": "2023-03-01T17:46:49.640240Z",
     "shell.execute_reply": "2023-03-01T17:46:49.638980Z"
    },
    "papermill": {
     "duration": 0.037076,
     "end_time": "2023-03-01T17:46:49.642764",
     "exception": false,
     "start_time": "2023-03-01T17:46:49.605688",
     "status": "completed"
    },
    "tags": []
   },
   "outputs": [
    {
     "data": {
      "text/html": [
       "<div>\n",
       "<style scoped>\n",
       "    .dataframe tbody tr th:only-of-type {\n",
       "        vertical-align: middle;\n",
       "    }\n",
       "\n",
       "    .dataframe tbody tr th {\n",
       "        vertical-align: top;\n",
       "    }\n",
       "\n",
       "    .dataframe thead th {\n",
       "        text-align: right;\n",
       "    }\n",
       "</style>\n",
       "<table border=\"1\" class=\"dataframe\">\n",
       "  <thead>\n",
       "    <tr style=\"text-align: right;\">\n",
       "      <th></th>\n",
       "      <th>season</th>\n",
       "      <th>rt_critic_score</th>\n",
       "      <th>rt_user_score</th>\n",
       "      <th>rt_critic_count</th>\n",
       "      <th>rt_user_count</th>\n",
       "    </tr>\n",
       "  </thead>\n",
       "  <tbody>\n",
       "    <tr>\n",
       "      <th>0</th>\n",
       "      <td>1</td>\n",
       "      <td>100%</td>\n",
       "      <td>87%</td>\n",
       "      <td>18</td>\n",
       "      <td>366</td>\n",
       "    </tr>\n",
       "    <tr>\n",
       "      <th>1</th>\n",
       "      <td>2</td>\n",
       "      <td>100%</td>\n",
       "      <td>93%</td>\n",
       "      <td>8</td>\n",
       "      <td>257</td>\n",
       "    </tr>\n",
       "    <tr>\n",
       "      <th>2</th>\n",
       "      <td>3</td>\n",
       "      <td>100%</td>\n",
       "      <td>94%</td>\n",
       "      <td>5</td>\n",
       "      <td>242</td>\n",
       "    </tr>\n",
       "    <tr>\n",
       "      <th>3</th>\n",
       "      <td>4</td>\n",
       "      <td>100%</td>\n",
       "      <td>94%</td>\n",
       "      <td>11</td>\n",
       "      <td>234</td>\n",
       "    </tr>\n",
       "    <tr>\n",
       "      <th>4</th>\n",
       "      <td>5</td>\n",
       "      <td>100%</td>\n",
       "      <td>95%</td>\n",
       "      <td>5</td>\n",
       "      <td>233</td>\n",
       "    </tr>\n",
       "  </tbody>\n",
       "</table>\n",
       "</div>"
      ],
      "text/plain": [
       "   season rt_critic_score rt_user_score rt_critic_count rt_user_count\n",
       "0       1            100%           87%              18           366\n",
       "1       2            100%           93%               8           257\n",
       "2       3            100%           94%               5           242\n",
       "3       4            100%           94%              11           234\n",
       "4       5            100%           95%               5           233"
      ]
     },
     "execution_count": 35,
     "metadata": {},
     "output_type": "execute_result"
    }
   ],
   "source": [
    "rotten_df.head()"
   ]
  },
  {
   "cell_type": "code",
   "execution_count": 36,
   "id": "82fa85b5",
   "metadata": {
    "execution": {
     "iopub.execute_input": "2023-03-01T17:46:49.673882Z",
     "iopub.status.busy": "2023-03-01T17:46:49.673364Z",
     "iopub.status.idle": "2023-03-01T17:46:49.683653Z",
     "shell.execute_reply": "2023-03-01T17:46:49.682797Z"
    },
    "papermill": {
     "duration": 0.02804,
     "end_time": "2023-03-01T17:46:49.685598",
     "exception": false,
     "start_time": "2023-03-01T17:46:49.657558",
     "status": "completed"
    },
    "tags": []
   },
   "outputs": [
    {
     "data": {
      "text/html": [
       "<div>\n",
       "<style scoped>\n",
       "    .dataframe tbody tr th:only-of-type {\n",
       "        vertical-align: middle;\n",
       "    }\n",
       "\n",
       "    .dataframe tbody tr th {\n",
       "        vertical-align: top;\n",
       "    }\n",
       "\n",
       "    .dataframe thead th {\n",
       "        text-align: right;\n",
       "    }\n",
       "</style>\n",
       "<table border=\"1\" class=\"dataframe\">\n",
       "  <thead>\n",
       "    <tr style=\"text-align: right;\">\n",
       "      <th></th>\n",
       "      <th>season</th>\n",
       "      <th>rt_critic_score</th>\n",
       "      <th>rt_user_score</th>\n",
       "      <th>rt_critic_count</th>\n",
       "      <th>rt_user_count</th>\n",
       "    </tr>\n",
       "  </thead>\n",
       "  <tbody>\n",
       "    <tr>\n",
       "      <th>29</th>\n",
       "      <td>30</td>\n",
       "      <td>NaN</td>\n",
       "      <td>51%</td>\n",
       "      <td>4</td>\n",
       "      <td>79</td>\n",
       "    </tr>\n",
       "    <tr>\n",
       "      <th>30</th>\n",
       "      <td>31</td>\n",
       "      <td>80%</td>\n",
       "      <td>54%</td>\n",
       "      <td>5</td>\n",
       "      <td>52</td>\n",
       "    </tr>\n",
       "    <tr>\n",
       "      <th>31</th>\n",
       "      <td>32</td>\n",
       "      <td>NaN</td>\n",
       "      <td>49%</td>\n",
       "      <td>1</td>\n",
       "      <td>47</td>\n",
       "    </tr>\n",
       "    <tr>\n",
       "      <th>32</th>\n",
       "      <td>33</td>\n",
       "      <td>NaN</td>\n",
       "      <td>59%</td>\n",
       "      <td>2</td>\n",
       "      <td>41</td>\n",
       "    </tr>\n",
       "    <tr>\n",
       "      <th>33</th>\n",
       "      <td>34</td>\n",
       "      <td>NaN</td>\n",
       "      <td>76%</td>\n",
       "      <td>0</td>\n",
       "      <td>21</td>\n",
       "    </tr>\n",
       "  </tbody>\n",
       "</table>\n",
       "</div>"
      ],
      "text/plain": [
       "    season rt_critic_score rt_user_score rt_critic_count rt_user_count\n",
       "29      30             NaN           51%               4            79\n",
       "30      31             80%           54%               5            52\n",
       "31      32             NaN           49%               1            47\n",
       "32      33             NaN           59%               2            41\n",
       "33      34             NaN           76%               0            21"
      ]
     },
     "execution_count": 36,
     "metadata": {},
     "output_type": "execute_result"
    }
   ],
   "source": [
    "rotten_df.tail()"
   ]
  },
  {
   "cell_type": "code",
   "execution_count": 37,
   "id": "fd4bf410",
   "metadata": {
    "execution": {
     "iopub.execute_input": "2023-03-01T17:46:49.716167Z",
     "iopub.status.busy": "2023-03-01T17:46:49.715756Z",
     "iopub.status.idle": "2023-03-01T17:46:49.724529Z",
     "shell.execute_reply": "2023-03-01T17:46:49.723424Z"
    },
    "papermill": {
     "duration": 0.026988,
     "end_time": "2023-03-01T17:46:49.726792",
     "exception": false,
     "start_time": "2023-03-01T17:46:49.699804",
     "status": "completed"
    },
    "tags": []
   },
   "outputs": [],
   "source": [
    "rotten_df.to_csv('simpsons_rt_scores.csv', index=False)"
   ]
  },
  {
   "cell_type": "code",
   "execution_count": 38,
   "id": "511fc569",
   "metadata": {
    "execution": {
     "iopub.execute_input": "2023-03-01T17:46:49.756879Z",
     "iopub.status.busy": "2023-03-01T17:46:49.756554Z",
     "iopub.status.idle": "2023-03-01T17:46:49.761172Z",
     "shell.execute_reply": "2023-03-01T17:46:49.760175Z"
    },
    "papermill": {
     "duration": 0.021708,
     "end_time": "2023-03-01T17:46:49.762913",
     "exception": false,
     "start_time": "2023-03-01T17:46:49.741205",
     "status": "completed"
    },
    "tags": []
   },
   "outputs": [],
   "source": [
    "#write data\n",
    "episode_data.index.name = 'id'"
   ]
  },
  {
   "cell_type": "code",
   "execution_count": 39,
   "id": "853a9970",
   "metadata": {
    "execution": {
     "iopub.execute_input": "2023-03-01T17:46:49.792843Z",
     "iopub.status.busy": "2023-03-01T17:46:49.792300Z",
     "iopub.status.idle": "2023-03-01T17:46:49.805243Z",
     "shell.execute_reply": "2023-03-01T17:46:49.804412Z"
    },
    "papermill": {
     "duration": 0.030075,
     "end_time": "2023-03-01T17:46:49.807038",
     "exception": false,
     "start_time": "2023-03-01T17:46:49.776963",
     "status": "completed"
    },
    "tags": []
   },
   "outputs": [
    {
     "data": {
      "text/html": [
       "<div>\n",
       "<style scoped>\n",
       "    .dataframe tbody tr th:only-of-type {\n",
       "        vertical-align: middle;\n",
       "    }\n",
       "\n",
       "    .dataframe tbody tr th {\n",
       "        vertical-align: top;\n",
       "    }\n",
       "\n",
       "    .dataframe thead th {\n",
       "        text-align: right;\n",
       "    }\n",
       "</style>\n",
       "<table border=\"1\" class=\"dataframe\">\n",
       "  <thead>\n",
       "    <tr style=\"text-align: right;\">\n",
       "      <th></th>\n",
       "      <th>title</th>\n",
       "      <th>description</th>\n",
       "      <th>original_air_date</th>\n",
       "      <th>production_code</th>\n",
       "      <th>directed_by</th>\n",
       "      <th>written_by</th>\n",
       "      <th>season</th>\n",
       "      <th>number_in_season</th>\n",
       "      <th>number_in_series</th>\n",
       "      <th>us_viewers_in_millions</th>\n",
       "      <th>imdb_rating</th>\n",
       "    </tr>\n",
       "    <tr>\n",
       "      <th>id</th>\n",
       "      <th></th>\n",
       "      <th></th>\n",
       "      <th></th>\n",
       "      <th></th>\n",
       "      <th></th>\n",
       "      <th></th>\n",
       "      <th></th>\n",
       "      <th></th>\n",
       "      <th></th>\n",
       "      <th></th>\n",
       "      <th></th>\n",
       "    </tr>\n",
       "  </thead>\n",
       "  <tbody>\n",
       "    <tr>\n",
       "      <th>0</th>\n",
       "      <td>Simpsons Roasting on an Open Fire</td>\n",
       "      <td>Homer is forced to become a department store S...</td>\n",
       "      <td>1989-12-17</td>\n",
       "      <td>7G08</td>\n",
       "      <td>David Silverman</td>\n",
       "      <td>Mimi Pond</td>\n",
       "      <td>1</td>\n",
       "      <td>1</td>\n",
       "      <td>1</td>\n",
       "      <td>26.7</td>\n",
       "      <td>8.1</td>\n",
       "    </tr>\n",
       "    <tr>\n",
       "      <th>1</th>\n",
       "      <td>Bart the Genius</td>\n",
       "      <td>Bart ends up at a school for gifted children a...</td>\n",
       "      <td>1990-01-14</td>\n",
       "      <td>7G02</td>\n",
       "      <td>David Silverman</td>\n",
       "      <td>Jon Vitti</td>\n",
       "      <td>1</td>\n",
       "      <td>2</td>\n",
       "      <td>2</td>\n",
       "      <td>24.5</td>\n",
       "      <td>7.7</td>\n",
       "    </tr>\n",
       "    <tr>\n",
       "      <th>2</th>\n",
       "      <td>Homer's Odyssey</td>\n",
       "      <td>After losing his job, Homer contemplates endin...</td>\n",
       "      <td>1990-01-21</td>\n",
       "      <td>7G03</td>\n",
       "      <td>Wes Archer</td>\n",
       "      <td>Jay Kogen &amp; Wallace Wolodarsky</td>\n",
       "      <td>1</td>\n",
       "      <td>3</td>\n",
       "      <td>3</td>\n",
       "      <td>27.5</td>\n",
       "      <td>7.3</td>\n",
       "    </tr>\n",
       "    <tr>\n",
       "      <th>3</th>\n",
       "      <td>There's No Disgrace Like Home</td>\n",
       "      <td>After being embarrassed by the rest of the fam...</td>\n",
       "      <td>1990-01-28</td>\n",
       "      <td>7G04</td>\n",
       "      <td>Gregg Vanzo &amp; Kent Butterworth</td>\n",
       "      <td>Al Jean &amp; Mike Reiss</td>\n",
       "      <td>1</td>\n",
       "      <td>4</td>\n",
       "      <td>4</td>\n",
       "      <td>20.2</td>\n",
       "      <td>7.7</td>\n",
       "    </tr>\n",
       "    <tr>\n",
       "      <th>4</th>\n",
       "      <td>Bart the General</td>\n",
       "      <td>After being beaten up by Nelson Muntz one too ...</td>\n",
       "      <td>1990-02-04</td>\n",
       "      <td>7G05</td>\n",
       "      <td>David Silverman</td>\n",
       "      <td>John Swartzwelder</td>\n",
       "      <td>1</td>\n",
       "      <td>5</td>\n",
       "      <td>5</td>\n",
       "      <td>27.1</td>\n",
       "      <td>7.9</td>\n",
       "    </tr>\n",
       "  </tbody>\n",
       "</table>\n",
       "</div>"
      ],
      "text/plain": [
       "                                title  \\\n",
       "id                                      \n",
       "0   Simpsons Roasting on an Open Fire   \n",
       "1                     Bart the Genius   \n",
       "2                     Homer's Odyssey   \n",
       "3       There's No Disgrace Like Home   \n",
       "4                    Bart the General   \n",
       "\n",
       "                                          description original_air_date  \\\n",
       "id                                                                        \n",
       "0   Homer is forced to become a department store S...        1989-12-17   \n",
       "1   Bart ends up at a school for gifted children a...        1990-01-14   \n",
       "2   After losing his job, Homer contemplates endin...        1990-01-21   \n",
       "3   After being embarrassed by the rest of the fam...        1990-01-28   \n",
       "4   After being beaten up by Nelson Muntz one too ...        1990-02-04   \n",
       "\n",
       "   production_code                     directed_by  \\\n",
       "id                                                   \n",
       "0             7G08                 David Silverman   \n",
       "1             7G02                 David Silverman   \n",
       "2             7G03                      Wes Archer   \n",
       "3             7G04  Gregg Vanzo & Kent Butterworth   \n",
       "4             7G05                 David Silverman   \n",
       "\n",
       "                        written_by  season number_in_season number_in_series  \\\n",
       "id                                                                             \n",
       "0                        Mimi Pond       1                1                1   \n",
       "1                        Jon Vitti       1                2                2   \n",
       "2   Jay Kogen & Wallace Wolodarsky       1                3                3   \n",
       "3             Al Jean & Mike Reiss       1                4                4   \n",
       "4                John Swartzwelder       1                5                5   \n",
       "\n",
       "   us_viewers_in_millions imdb_rating  \n",
       "id                                     \n",
       "0                    26.7         8.1  \n",
       "1                    24.5         7.7  \n",
       "2                    27.5         7.3  \n",
       "3                    20.2         7.7  \n",
       "4                    27.1         7.9  "
      ]
     },
     "execution_count": 39,
     "metadata": {},
     "output_type": "execute_result"
    }
   ],
   "source": [
    "episode_data.head()"
   ]
  },
  {
   "cell_type": "code",
   "execution_count": 40,
   "id": "6da4da2b",
   "metadata": {
    "execution": {
     "iopub.execute_input": "2023-03-01T17:46:49.837758Z",
     "iopub.status.busy": "2023-03-01T17:46:49.837221Z",
     "iopub.status.idle": "2023-03-01T17:46:49.849409Z",
     "shell.execute_reply": "2023-03-01T17:46:49.848771Z"
    },
    "papermill": {
     "duration": 0.029366,
     "end_time": "2023-03-01T17:46:49.850996",
     "exception": false,
     "start_time": "2023-03-01T17:46:49.821630",
     "status": "completed"
    },
    "tags": []
   },
   "outputs": [
    {
     "data": {
      "text/html": [
       "<div>\n",
       "<style scoped>\n",
       "    .dataframe tbody tr th:only-of-type {\n",
       "        vertical-align: middle;\n",
       "    }\n",
       "\n",
       "    .dataframe tbody tr th {\n",
       "        vertical-align: top;\n",
       "    }\n",
       "\n",
       "    .dataframe thead th {\n",
       "        text-align: right;\n",
       "    }\n",
       "</style>\n",
       "<table border=\"1\" class=\"dataframe\">\n",
       "  <thead>\n",
       "    <tr style=\"text-align: right;\">\n",
       "      <th></th>\n",
       "      <th>title</th>\n",
       "      <th>description</th>\n",
       "      <th>original_air_date</th>\n",
       "      <th>production_code</th>\n",
       "      <th>directed_by</th>\n",
       "      <th>written_by</th>\n",
       "      <th>season</th>\n",
       "      <th>number_in_season</th>\n",
       "      <th>number_in_series</th>\n",
       "      <th>us_viewers_in_millions</th>\n",
       "      <th>imdb_rating</th>\n",
       "    </tr>\n",
       "    <tr>\n",
       "      <th>id</th>\n",
       "      <th></th>\n",
       "      <th></th>\n",
       "      <th></th>\n",
       "      <th></th>\n",
       "      <th></th>\n",
       "      <th></th>\n",
       "      <th></th>\n",
       "      <th></th>\n",
       "      <th></th>\n",
       "      <th></th>\n",
       "      <th></th>\n",
       "    </tr>\n",
       "  </thead>\n",
       "  <tbody>\n",
       "    <tr>\n",
       "      <th>742</th>\n",
       "      <td>Fan-ily Feud</td>\n",
       "      <td>Know what this is about?</td>\n",
       "      <td>2023-03-26</td>\n",
       "      <td>OABF11</td>\n",
       "      <td>Timothy Bailey</td>\n",
       "      <td>Broti Gupta</td>\n",
       "      <td>34</td>\n",
       "      <td>18</td>\n",
       "      <td>746</td>\n",
       "      <td>TBD</td>\n",
       "      <td>NaN</td>\n",
       "    </tr>\n",
       "    <tr>\n",
       "      <th>743</th>\n",
       "      <td>Write Off This Episode</td>\n",
       "      <td>Know what this is about?</td>\n",
       "      <td>2023-04-23</td>\n",
       "      <td>OABF12</td>\n",
       "      <td>TBA</td>\n",
       "      <td>J. Stewart Burns</td>\n",
       "      <td>34</td>\n",
       "      <td>19</td>\n",
       "      <td>747</td>\n",
       "      <td>TBD</td>\n",
       "      <td>NaN</td>\n",
       "    </tr>\n",
       "    <tr>\n",
       "      <th>744</th>\n",
       "      <td>The Very Hungry Caterpillars</td>\n",
       "      <td>Know what this is about?</td>\n",
       "      <td>2023-04-30</td>\n",
       "      <td>OABF14</td>\n",
       "      <td>TBA</td>\n",
       "      <td>Brian Kelley</td>\n",
       "      <td>34</td>\n",
       "      <td>20</td>\n",
       "      <td>748</td>\n",
       "      <td>TBD</td>\n",
       "      <td>NaN</td>\n",
       "    </tr>\n",
       "    <tr>\n",
       "      <th>745</th>\n",
       "      <td>Clown V. Board of Education</td>\n",
       "      <td>Know what this is about?</td>\n",
       "      <td>2023-05-07</td>\n",
       "      <td>OABF15</td>\n",
       "      <td>Lance Kramer</td>\n",
       "      <td>Jeff Westbrook</td>\n",
       "      <td>34</td>\n",
       "      <td>21</td>\n",
       "      <td>749</td>\n",
       "      <td>TBD</td>\n",
       "      <td>NaN</td>\n",
       "    </tr>\n",
       "    <tr>\n",
       "      <th>746</th>\n",
       "      <td>Homer's Adventure Through the Windshield Glass</td>\n",
       "      <td>Know what this is about?</td>\n",
       "      <td>2023-05-14</td>\n",
       "      <td>OABF13</td>\n",
       "      <td>TBA</td>\n",
       "      <td>Tim Long</td>\n",
       "      <td>34</td>\n",
       "      <td>22</td>\n",
       "      <td>750</td>\n",
       "      <td>TBD</td>\n",
       "      <td>NaN</td>\n",
       "    </tr>\n",
       "  </tbody>\n",
       "</table>\n",
       "</div>"
      ],
      "text/plain": [
       "                                              title  \\\n",
       "id                                                    \n",
       "742                                    Fan-ily Feud   \n",
       "743                          Write Off This Episode   \n",
       "744                    The Very Hungry Caterpillars   \n",
       "745                     Clown V. Board of Education   \n",
       "746  Homer's Adventure Through the Windshield Glass   \n",
       "\n",
       "                    description original_air_date production_code  \\\n",
       "id                                                                  \n",
       "742    Know what this is about?        2023-03-26          OABF11   \n",
       "743    Know what this is about?        2023-04-23          OABF12   \n",
       "744    Know what this is about?        2023-04-30          OABF14   \n",
       "745    Know what this is about?        2023-05-07          OABF15   \n",
       "746    Know what this is about?        2023-05-14          OABF13   \n",
       "\n",
       "        directed_by        written_by  season number_in_season  \\\n",
       "id                                                               \n",
       "742  Timothy Bailey       Broti Gupta      34               18   \n",
       "743             TBA  J. Stewart Burns      34               19   \n",
       "744             TBA      Brian Kelley      34               20   \n",
       "745    Lance Kramer    Jeff Westbrook      34               21   \n",
       "746             TBA          Tim Long      34               22   \n",
       "\n",
       "    number_in_series us_viewers_in_millions imdb_rating  \n",
       "id                                                       \n",
       "742              746                    TBD         NaN  \n",
       "743              747                    TBD         NaN  \n",
       "744              748                    TBD         NaN  \n",
       "745              749                    TBD         NaN  \n",
       "746              750                    TBD         NaN  "
      ]
     },
     "execution_count": 40,
     "metadata": {},
     "output_type": "execute_result"
    }
   ],
   "source": [
    "episode_data.tail()"
   ]
  },
  {
   "cell_type": "code",
   "execution_count": 41,
   "id": "5b0eb13d",
   "metadata": {
    "execution": {
     "iopub.execute_input": "2023-03-01T17:46:49.882092Z",
     "iopub.status.busy": "2023-03-01T17:46:49.881711Z",
     "iopub.status.idle": "2023-03-01T17:46:49.892706Z",
     "shell.execute_reply": "2023-03-01T17:46:49.891267Z"
    },
    "papermill": {
     "duration": 0.029204,
     "end_time": "2023-03-01T17:46:49.894777",
     "exception": false,
     "start_time": "2023-03-01T17:46:49.865573",
     "status": "completed"
    },
    "tags": []
   },
   "outputs": [],
   "source": [
    "episode_data.to_csv('simpsons_episodes.csv')"
   ]
  }
 ],
 "metadata": {
  "kernelspec": {
   "display_name": "Python 3",
   "language": "python",
   "name": "python3"
  },
  "language_info": {
   "codemirror_mode": {
    "name": "ipython",
    "version": 3
   },
   "file_extension": ".py",
   "mimetype": "text/x-python",
   "name": "python",
   "nbconvert_exporter": "python",
   "pygments_lexer": "ipython3",
   "version": "3.7.12"
  },
  "papermill": {
   "default_parameters": {},
   "duration": 169.727897,
   "end_time": "2023-03-01T17:46:50.630854",
   "environment_variables": {},
   "exception": null,
   "input_path": "__notebook__.ipynb",
   "output_path": "__notebook__.ipynb",
   "parameters": {},
   "start_time": "2023-03-01T17:44:00.902957",
   "version": "2.3.4"
  }
 },
 "nbformat": 4,
 "nbformat_minor": 5
}
